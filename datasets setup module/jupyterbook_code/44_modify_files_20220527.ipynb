{
 "cells": [
  {
   "cell_type": "markdown",
   "metadata": {
    "ExecuteTime": {
     "end_time": "2020-09-08T08:27:40.714309Z",
     "start_time": "2020-09-08T08:27:40.707472Z"
    }
   },
   "source": [
    "## 本程序从解压缩的计算文件中挑选出能够对数据集构建有用的文件（不对配位数等有没有物理意义做选择），如coor、cluster、xmu、chi_FEFF、expWT、expFT和expBFT等，读取其feature/label，转成文件。"
   ]
  },
  {
   "cell_type": "markdown",
   "metadata": {},
   "source": [
    "### 将本程序安放在“种子文件_single_xyz_WT”（名称可更改）所在文件夹（一级目录）下的任意一个文件夹下（二级目录）。\n",
    "### 经过解压缩后的文件夹为“AuPd-4000_single_xyz_WT_untar”；则经过选择后的文件夹名称为“_fealab”"
   ]
  },
  {
   "cell_type": "markdown",
   "metadata": {},
   "source": [
    "last update: 2022.5.27"
   ]
  },
  {
   "cell_type": "markdown",
   "metadata": {},
   "source": [
    "相对于24，修订了已存在_treat情况的bug问题。增加了对feature/label的读取"
   ]
  },
  {
   "cell_type": "markdown",
   "metadata": {},
   "source": [
    "contacts: zhaohf@ihep.ac.cn"
   ]
  },
  {
   "cell_type": "markdown",
   "metadata": {},
   "source": [
    "# 配置环境"
   ]
  },
  {
   "cell_type": "markdown",
   "metadata": {},
   "source": [
    "## 导入各种模块"
   ]
  },
  {
   "cell_type": "code",
   "execution_count": 1,
   "metadata": {
    "ExecuteTime": {
     "end_time": "2022-05-27T15:25:33.437989Z",
     "start_time": "2022-05-27T15:25:32.949853Z"
    }
   },
   "outputs": [],
   "source": [
    "import os\n",
    "import sys\n",
    "import pandas as pd\n",
    "import shutil\n",
    "import datetime"
   ]
  },
  {
   "cell_type": "markdown",
   "metadata": {},
   "source": [
    "输出导入模板的版本。"
   ]
  },
  {
   "cell_type": "code",
   "execution_count": 2,
   "metadata": {
    "ExecuteTime": {
     "end_time": "2022-05-27T15:25:33.453262Z",
     "start_time": "2022-05-27T15:25:33.439819Z"
    }
   },
   "outputs": [
    {
     "name": "stdout",
     "output_type": "stream",
     "text": [
      "python version: 3.9.12 (main, Apr  4 2022, 05:22:27) [MSC v.1916 64 bit (AMD64)]\n",
      "panda version: 1.4.2\n"
     ]
    }
   ],
   "source": [
    "print('python version:',sys.version)\n",
    "print('panda version:',pd.__version__)\n",
    "#print('shutil version:',shutil.__version__)\n",
    "#print('datetime version:',datetime.__version__)"
   ]
  },
  {
   "cell_type": "markdown",
   "metadata": {},
   "source": [
    "# 设置输入文件夹和输出文件夹"
   ]
  },
  {
   "cell_type": "markdown",
   "metadata": {},
   "source": [
    "## 设置源文件夹，即经过计算集群计算的文件夹"
   ]
  },
  {
   "cell_type": "code",
   "execution_count": 3,
   "metadata": {
    "ExecuteTime": {
     "end_time": "2022-05-27T15:25:33.468485Z",
     "start_time": "2022-05-27T15:25:33.455257Z"
    }
   },
   "outputs": [],
   "source": [
    "# 设置源文件夹，即经过计算集群计算的文件夹\n",
    "dir_src = 'AuPd-4000_au150-0_DW_R0_cncr_WT_untar'"
   ]
  },
  {
   "cell_type": "markdown",
   "metadata": {},
   "source": [
    "## 设置目标文件夹"
   ]
  },
  {
   "cell_type": "code",
   "execution_count": 4,
   "metadata": {
    "ExecuteTime": {
     "end_time": "2022-05-27T15:25:33.484381Z",
     "start_time": "2022-05-27T15:25:33.470477Z"
    }
   },
   "outputs": [],
   "source": [
    "# 构建提取文件夹和目录\n",
    "dir_work = dir_src + '_fealab'"
   ]
  },
  {
   "cell_type": "markdown",
   "metadata": {},
   "source": [
    "## 设置运行日志文件名"
   ]
  },
  {
   "cell_type": "code",
   "execution_count": 5,
   "metadata": {
    "ExecuteTime": {
     "end_time": "2022-05-27T15:25:33.500391Z",
     "start_time": "2022-05-27T15:25:33.485380Z"
    }
   },
   "outputs": [],
   "source": [
    "file_log = 'modify2.log'"
   ]
  },
  {
   "cell_type": "markdown",
   "metadata": {},
   "source": [
    "## 设置准备提取的feature、label和对应的文件"
   ]
  },
  {
   "cell_type": "markdown",
   "metadata": {},
   "source": [
    "如设置'chi0' : 'chi_FEFF.dat'，则出现问题如下：\n",
    "Feature/Label : chi0 of file D:\\haifeng\\work_20211031\\XAS-ML\\code\\datasets setup\\AuPd-4000_au150-0_DW_R0_cncr_WT_untar\\100\\1\\chi_FEFF.dat is unrecognized!"
   ]
  },
  {
   "cell_type": "markdown",
   "metadata": {},
   "source": [
    "如设置'cn5' : 'coor.dat'，则出现问题如下：\n",
    "Too many shells : cn5 !"
   ]
  },
  {
   "cell_type": "markdown",
   "metadata": {},
   "source": [
    "thinkpad X1 yoga 2018 笔记本，Core i7-8550U @1.8GHz， 16GB RAM， 运行150*2个数据，下面所有的输出，共耗时23分24秒（2022.5.22），共6000个文件，5.9GB。"
   ]
  },
  {
   "cell_type": "markdown",
   "metadata": {},
   "source": [
    "thinkpad X1 yoga 2018 笔记本，Core i7-8550U @1.8GHz， 16GB RAM， 运行150*40个数据，只计算xmu、chi、wt、ft、bft、cn1、cr1，共耗时3小时17分3秒。"
   ]
  },
  {
   "cell_type": "code",
   "execution_count": 6,
   "metadata": {
    "ExecuteTime": {
     "end_time": "2022-05-27T15:25:33.515902Z",
     "start_time": "2022-05-27T15:25:33.502385Z"
    }
   },
   "outputs": [],
   "source": [
    "feature_pick_dict = {\n",
    "#                     'chi'  : 'chi_FEFF.dat'\n",
    "                     'xmu'  : 'xmu.dat'\n",
    "                    ,'xmu0' : 'xmu.dat'\n",
    "#                    ,'wt'   : 'expWT.dat'\n",
    "#                    ,'wtrl' : 'expWT.dat'\n",
    "#                    ,'wtim' : 'expWT.dat'\n",
    "#                    ,'ft'   : 'expFT.dat'\n",
    "#                    ,'ftrl'   : 'expFT.dat'\n",
    "#                    ,'ftim'   : 'expFT.dat'\n",
    "#                    ,'bft'  : 'expBFT.dat'\n",
    "                    }\n",
    "# cn1 is the coordinate number of first shell\n",
    "# cr1 is the average bond distance of first shell\n",
    "label_pick_dict = {\n",
    "#                   'cn1' : 'coor.dat'\n",
    "#                  ,'cn2' : 'coor.dat'\n",
    "#                  ,'cn3' : 'coor.dat'\n",
    "#                  ,'cn4' : 'coor.dat'\n",
    "#                  ,'cn'  : 'coor.dat'\n",
    "#                  ,'cr1' : 'coor.dat'\n",
    "#                  ,'cr2' : 'coor.dat'\n",
    "#                  ,'cr3' : 'coor.dat'\n",
    "#                  ,'cr4' : 'coor.dat'\n",
    "#                  ,'cr'  : 'coor.dat'\n",
    "                  }"
   ]
  },
  {
   "cell_type": "markdown",
   "metadata": {},
   "source": [
    "# 部分函数模块"
   ]
  },
  {
   "cell_type": "markdown",
   "metadata": {},
   "source": [
    "## 特征读写 "
   ]
  },
  {
   "cell_type": "markdown",
   "metadata": {},
   "source": [
    "### 对于给定的文件和字符串，找到该字符串第一次在文中出现的行号（即处于第几行）"
   ]
  },
  {
   "cell_type": "code",
   "execution_count": 7,
   "metadata": {
    "ExecuteTime": {
     "end_time": "2022-05-27T15:25:33.531311Z",
     "start_time": "2022-05-27T15:25:33.517911Z"
    }
   },
   "outputs": [],
   "source": [
    "def find_string_line(path_file, string):\n",
    "    \"\"\"\n",
    "    找到path_file文件中string所在的行号，即处于第几行\n",
    "    \n",
    "    \"\"\"\n",
    "    exist = os.path.exists(path_file)\n",
    "    if exist:\n",
    "        l = len(string)\n",
    "        fin = open(path_file,'rt')\n",
    "        i = 0\n",
    "        find = False\n",
    "        for line in fin.readlines():\n",
    "            line = line.strip() \n",
    "            i = i+1\n",
    "            if line[:l] == string:\n",
    "                find = True\n",
    "                break\n",
    "        fin.close()\n",
    "        return find, i\n",
    "    else:\n",
    "        return False, 0"
   ]
  },
  {
   "cell_type": "markdown",
   "metadata": {},
   "source": [
    "### 读取xmu.dat文件中的“#  omega    e    k    mu    mu0     chi     @#”下的数组"
   ]
  },
  {
   "cell_type": "code",
   "execution_count": 8,
   "metadata": {
    "ExecuteTime": {
     "end_time": "2022-05-27T15:25:33.546907Z",
     "start_time": "2022-05-27T15:25:33.533280Z"
    }
   },
   "outputs": [],
   "source": [
    "def read_xmu(path_xmu):\n",
    "    \"\"\"\n",
    "    读取xmu.dat中energy、k、mu等的数据\n",
    "    \"\"\"\n",
    "    exist = os.path.exists(path_xmu)\n",
    "    if exist:\n",
    "        find, m = find_string_line(path_xmu,'#  omega')\n",
    "        if not find:\n",
    "            print()\n",
    "            print('path_xmu file',path_xmu, 'has no mu')\n",
    "            print()\n",
    "            return None\n",
    "        xmu = pd.read_csv(path_xmu,delim_whitespace=True,header=None, skiprows=list(range(m)))\n",
    "# 查看第一行的k为0，则去掉\n",
    "        a = xmu.iloc[0,2]\n",
    "        if a == 0 :\n",
    "            xmu = pd.read_csv(path_xmu,delim_whitespace=True,header=None, skiprows=list(range(m+1)))\n",
    "# xmu.dat 共6列，分别为omega、e、k、mu、mu0.chi\n",
    "#\n",
    "#        xmu_data = xmu.values\n",
    "#        N_e = xmu_data.shape[0]\n",
    "#        omega = []\n",
    "#        e = []\n",
    "#        k = []\n",
    "#        mu = []\n",
    "#        mu0 = []\n",
    "#        chi = []\n",
    "#        for i in range(N_e):\n",
    "#            omega.append(xmu_data[i,0])\n",
    "#            e.append(xmu_data[i,1])\n",
    "#            k.append(xmu_data[i,2])\n",
    "#            mu.append(xmu_data[i,3])\n",
    "#            mu0.append(xmu_data[i,4])\n",
    "#            chi.append(xmu_data[i,5])\n",
    "#        return omega,e,k,mu,mu0,chi\n",
    "        return xmu\n",
    "    else:\n",
    "        return None   "
   ]
  },
  {
   "cell_type": "markdown",
   "metadata": {},
   "source": [
    "### 将数组写入文件"
   ]
  },
  {
   "cell_type": "code",
   "execution_count": 9,
   "metadata": {
    "ExecuteTime": {
     "end_time": "2022-05-27T15:25:33.562873Z",
     "start_time": "2022-05-27T15:25:33.548867Z"
    }
   },
   "outputs": [],
   "source": [
    "# 不同格式，为了feature\n",
    "def write_file(data_np_array, path_file):\n",
    "    \"\"\"\n",
    "    \"\"\"\n",
    "    fout = open(path_file,'w')\n",
    "    for i in range(data_np_array.shape[0]):\n",
    "        for j in range(data_np_array.shape[1]):\n",
    "            fout.write(f\"{data_np_array[i][j]:14.6e}\")\n",
    "        fout.write('\\n')\n",
    "    fout.close()\n",
    "#\n",
    "#  不同格式，为了cn和cr\n",
    "def write_file2(data_np_array, path_file):\n",
    "    \"\"\"\n",
    "    \"\"\"\n",
    "    fout = open(path_file,'w')\n",
    "    for i in range(data_np_array.shape[0]):\n",
    "        for j in range(data_np_array.shape[1]):\n",
    "#            fout.write(f\"{data_np_array[i][j]:6.3f}\")\n",
    "            fout.write(f\"{data_np_array[i][j]}\")\n",
    "        fout.write('\\n')\n",
    "    fout.close()"
   ]
  },
  {
   "cell_type": "markdown",
   "metadata": {},
   "source": [
    "### feature/label读写主程序"
   ]
  },
  {
   "cell_type": "code",
   "execution_count": 10,
   "metadata": {
    "ExecuteTime": {
     "end_time": "2022-05-27T15:25:33.594068Z",
     "start_time": "2022-05-27T15:25:33.567820Z"
    }
   },
   "outputs": [],
   "source": [
    "# fealab = feature/label\n",
    "# frd = file to read\n",
    "# fwt = file to write\n",
    "def fealab_pick(fealab, frd, fwt):\n",
    "    \"\"\"\n",
    "    \"\"\"\n",
    "#\n",
    "    if fealab == 'chi':\n",
    "        fealab_pd = pd.read_csv(frd,header=None,delim_whitespace=True)\n",
    "        fealab_np = fealab_pd.values\n",
    "#\n",
    "# xmu情况，\n",
    "    elif fealab == 'xmu':\n",
    "        fealab_pd = read_xmu(frd)\n",
    "# xmu.dat 共6列，分别为omega、e、k、mu、mu0.chi\n",
    "        fealab_np = fealab_pd.iloc[:,[0,3]].values\n",
    "#\n",
    "# xmu0情况，\n",
    "    elif fealab == 'xmu0':\n",
    "#        omega,e,k,mu,mu0,chi = read_xmu(path_file_feature_src)\n",
    "        fealab_pd = read_xmu(frd)\n",
    "# xmu.dat 共6列，分别为omega、e、k、mu、mu0.chi\n",
    "        fealab_np = fealab_pd.iloc[:,[0,4]].values\n",
    "#\n",
    "# wt情况\n",
    "    elif fealab == 'wt':\n",
    "        fealab_pd = pd.read_csv(frd,header=None,delim_whitespace=True)\n",
    "        fealab_np = fealab_pd.iloc[:,[0,1,4]].values\n",
    "#\n",
    "# wt real情况\n",
    "    elif fealab == 'wtrl':\n",
    "        fealab_pd = pd.read_csv(frd,header=None,delim_whitespace=True)\n",
    "        fealab_np = fealab_pd.iloc[:,[0,1,2]].values\n",
    "#\n",
    "# wt imaginary情况\n",
    "    elif fealab == 'wtim':\n",
    "        fealab_pd = pd.read_csv(frd,header=None,delim_whitespace=True)\n",
    "        fealab_np = fealab_pd.iloc[:,[0,1,3]].values\n",
    "#\n",
    "# ft情况\n",
    "    elif fealab == 'ft':\n",
    "        fealab_pd = pd.read_csv(frd,header=None,delim_whitespace=True)\n",
    "        fealab_np = fealab_pd.iloc[:,[0,3]].values\n",
    "#\n",
    "# ft real情况\n",
    "    elif fealab == 'ftrl':\n",
    "        fealab_pd = pd.read_csv(frd,header=None,delim_whitespace=True)\n",
    "        fealab_np = fealab_pd.iloc[:,[0,1]].values\n",
    "#\n",
    "# ft imaginary情况\n",
    "    elif fealab == 'ftim':\n",
    "        fealab_pd = pd.read_csv(frd,header=None,delim_whitespace=True)\n",
    "        fealab_np = fealab_pd.iloc[:,[0,2]].values\n",
    "#\n",
    "# bft情况\n",
    "    elif fealab == 'bft':\n",
    "        fealab_pd = pd.read_csv(frd,header=None,delim_whitespace=True)\n",
    "        fealab_np = fealab_pd.values\n",
    "#\n",
    "    elif fealab[:2] == 'cn' or fealab[0:2] == 'cr':\n",
    "        fealab_pd = pd.read_csv(frd,delim_whitespace=True,header=None, skiprows=[0,1])\n",
    "#        ord('0') = 48, ord('9') = 57\n",
    "        if fealab == 'cn':\n",
    "            fealab_np = fealab_pd.iloc[:,[1]].values\n",
    "        elif fealab == 'cn1':\n",
    "            fealab_np = fealab_pd.iloc[[0],[1]].values\n",
    "        elif fealab == 'cn2':\n",
    "            fealab_np = fealab_pd.iloc[0:2,[1]].values\n",
    "        elif fealab == 'cn3':\n",
    "            fealab_np = fealab_pd.iloc[0:3,[1]].values\n",
    "        elif fealab == 'cn4':\n",
    "            fealab_np = fealab_pd.iloc[0:4,[1]].values\n",
    "        elif fealab == 'cr':\n",
    "            fealab_np = fealab_pd.iloc[:,[2]].values\n",
    "        elif fealab == 'cr1':\n",
    "            fealab_np = fealab_pd.iloc[[0],[2]].values\n",
    "        elif fealab == 'cr2':\n",
    "            fealab_np = fealab_pd.iloc[0:2,[2]].values\n",
    "        elif fealab == 'cr3':\n",
    "            fealab_np = fealab_pd.iloc[0:3,[2]].values\n",
    "        elif fealab == 'cr4':\n",
    "            fealab_np = fealab_pd.iloc[0:4,[2]].values\n",
    "        else:\n",
    "            print(f\" Too many shells : {label} !\")\n",
    "        write_file2(fealab_np, fwt)\n",
    "        return\n",
    "# 其他情况\n",
    "    else:\n",
    "        print(f\" Feature/Label : {fealab} of file {frd} is unrecognized!\")\n",
    "#\n",
    "    write_file(fealab_np, fwt)\n",
    "    return\n",
    "#"
   ]
  },
  {
   "cell_type": "markdown",
   "metadata": {},
   "source": [
    "# 程序正文"
   ]
  },
  {
   "cell_type": "markdown",
   "metadata": {},
   "source": [
    "## 确定当前目录和工作目录"
   ]
  },
  {
   "cell_type": "code",
   "execution_count": 11,
   "metadata": {
    "ExecuteTime": {
     "end_time": "2022-05-27T15:25:33.624988Z",
     "start_time": "2022-05-27T15:25:33.598061Z"
    }
   },
   "outputs": [
    {
     "data": {
      "text/plain": [
       "'D:\\\\haifeng\\\\work_20211031\\\\XAS-ML\\\\code\\\\datasets setup\\\\jupyterbook'"
      ]
     },
     "execution_count": 11,
     "metadata": {},
     "output_type": "execute_result"
    }
   ],
   "source": [
    "# 当前目录\n",
    "path = os.path.abspath('./')\n",
    "path"
   ]
  },
  {
   "cell_type": "code",
   "execution_count": 12,
   "metadata": {
    "ExecuteTime": {
     "end_time": "2022-05-27T15:25:33.639983Z",
     "start_time": "2022-05-27T15:25:33.627983Z"
    }
   },
   "outputs": [
    {
     "data": {
      "text/plain": [
       "'D:\\\\haifeng\\\\work_20211031\\\\XAS-ML\\\\code\\\\datasets setup'"
      ]
     },
     "execution_count": 12,
     "metadata": {},
     "output_type": "execute_result"
    }
   ],
   "source": [
    "# 上一级目录\n",
    "path_par = os.path.abspath(os.path.pardir)\n",
    "path_par"
   ]
  },
  {
   "cell_type": "markdown",
   "metadata": {},
   "source": [
    "## 源文件夹"
   ]
  },
  {
   "cell_type": "code",
   "execution_count": 13,
   "metadata": {
    "ExecuteTime": {
     "end_time": "2022-05-27T15:25:33.655907Z",
     "start_time": "2022-05-27T15:25:33.641946Z"
    }
   },
   "outputs": [],
   "source": [
    "# 源文件夹\n",
    "path_src = os.path.join(path_par, dir_src)"
   ]
  },
  {
   "cell_type": "code",
   "execution_count": 14,
   "metadata": {
    "ExecuteTime": {
     "end_time": "2022-05-27T15:25:33.670898Z",
     "start_time": "2022-05-27T15:25:33.657901Z"
    },
    "scrolled": true
   },
   "outputs": [
    {
     "data": {
      "text/plain": [
       "['100',\n",
       " '1000',\n",
       " '1100',\n",
       " '1200',\n",
       " '1300',\n",
       " '1400',\n",
       " '1500',\n",
       " '1600',\n",
       " '1700',\n",
       " '1800',\n",
       " '1900',\n",
       " '200',\n",
       " '2000',\n",
       " '2100',\n",
       " '2200',\n",
       " '2300',\n",
       " '2400',\n",
       " '2500',\n",
       " '2600',\n",
       " '2700',\n",
       " '2800',\n",
       " '2900',\n",
       " '300',\n",
       " '3000',\n",
       " '3100',\n",
       " '3200',\n",
       " '3300',\n",
       " '3400',\n",
       " '3500',\n",
       " '3600',\n",
       " '3700',\n",
       " '3800',\n",
       " '3900',\n",
       " '400',\n",
       " '4000',\n",
       " '500',\n",
       " '600',\n",
       " '700',\n",
       " '800',\n",
       " '900']"
      ]
     },
     "execution_count": 14,
     "metadata": {},
     "output_type": "execute_result"
    }
   ],
   "source": [
    "# 检查源文件夹是否存在，存在则列出其内部文件夹，不存在则打印错误\n",
    "exist = os.path.exists(path_src)\n",
    "if exist:\n",
    "    list_seed = os.listdir(path_src)\n",
    "else:\n",
    "    print()\n",
    "    print('** Error!! WT untared directory', dir_src, 'is not found!' )\n",
    "    print()\n",
    "#    sys.exit()\n",
    "list_seed"
   ]
  },
  {
   "cell_type": "code",
   "execution_count": 15,
   "metadata": {
    "ExecuteTime": {
     "end_time": "2022-05-27T15:25:33.701787Z",
     "start_time": "2022-05-27T15:25:33.672864Z"
    }
   },
   "outputs": [
    {
     "data": {
      "text/plain": [
       "['100',\n",
       " '1000',\n",
       " '1100',\n",
       " '1200',\n",
       " '1300',\n",
       " '1400',\n",
       " '1500',\n",
       " '1600',\n",
       " '1700',\n",
       " '1800',\n",
       " '1900',\n",
       " '200',\n",
       " '2000',\n",
       " '2100',\n",
       " '2200',\n",
       " '2300',\n",
       " '2400',\n",
       " '2500',\n",
       " '2600',\n",
       " '2700',\n",
       " '2800',\n",
       " '2900',\n",
       " '300',\n",
       " '3000',\n",
       " '3100',\n",
       " '3200',\n",
       " '3300',\n",
       " '3400',\n",
       " '3500',\n",
       " '3600',\n",
       " '3700',\n",
       " '3800',\n",
       " '3900',\n",
       " '400',\n",
       " '4000',\n",
       " '500',\n",
       " '600',\n",
       " '700',\n",
       " '800',\n",
       " '900']"
      ]
     },
     "execution_count": 15,
     "metadata": {},
     "output_type": "execute_result"
    }
   ],
   "source": [
    "# 去除list_seed中不是文件夹的部分\n",
    "file_del = []\n",
    "for dir_seed in list_seed:\n",
    "    path_seed_src = os.path.join(path_src, dir_seed)\n",
    "    if os.path.isfile(path_seed_src):\n",
    "        file_del.append(dir_seed)\n",
    "for file in file_del:\n",
    "    list_seed.remove(file)\n",
    "list_seed"
   ]
  },
  {
   "cell_type": "markdown",
   "metadata": {},
   "source": [
    "## 目标文件夹"
   ]
  },
  {
   "cell_type": "code",
   "execution_count": 16,
   "metadata": {
    "ExecuteTime": {
     "end_time": "2022-05-27T15:25:33.716782Z",
     "start_time": "2022-05-27T15:25:33.704776Z"
    }
   },
   "outputs": [
    {
     "data": {
      "text/plain": [
       "'D:\\\\haifeng\\\\work_20211031\\\\XAS-ML\\\\code\\\\datasets setup\\\\AuPd-4000_au150-0_DW_R0_cncr_WT_untar_fealab'"
      ]
     },
     "execution_count": 16,
     "metadata": {},
     "output_type": "execute_result"
    }
   ],
   "source": [
    "# 目标文件夹\n",
    "path_work = os.path.join(path_par, dir_work)\n",
    "os.makedirs(path_work, exist_ok=True)\n",
    "path_work"
   ]
  },
  {
   "cell_type": "markdown",
   "metadata": {},
   "source": [
    "## 创建日志文件"
   ]
  },
  {
   "cell_type": "code",
   "execution_count": 17,
   "metadata": {
    "ExecuteTime": {
     "end_time": "2022-05-27T15:25:33.731739Z",
     "start_time": "2022-05-27T15:25:33.718740Z"
    }
   },
   "outputs": [],
   "source": [
    "#file_log = 'modify.log'\n",
    "path_file_log = os.path.join(path_work, file_log)\n",
    "flog = open(path_file_log, 'w')"
   ]
  },
  {
   "cell_type": "markdown",
   "metadata": {},
   "source": [
    "## feature和label 提取"
   ]
  },
  {
   "cell_type": "code",
   "execution_count": 18,
   "metadata": {
    "ExecuteTime": {
     "end_time": "2022-05-27T15:27:35.611939Z",
     "start_time": "2022-05-27T15:25:33.733701Z"
    },
    "scrolled": true
   },
   "outputs": [
    {
     "name": "stdout",
     "output_type": "stream",
     "text": [
      "== Start: 2022-05-27 23:25:33.749656\n",
      "\n",
      " Start seed : 100, 1 / 40 : 2022-05-27 23:25:33.750654\n",
      " Finish seed : 100, 1 / 40 : 2022-05-27 23:25:35.958114\n",
      "== Running time : 0:00:02.207460\n",
      " Start seed : 1000, 2 / 40 : 2022-05-27 23:25:35.958114\n",
      " Finish seed : 1000, 2 / 40 : 2022-05-27 23:25:38.261583\n",
      "== Running time : 0:00:02.303469\n",
      " Start seed : 1100, 3 / 40 : 2022-05-27 23:25:38.261583\n",
      " Finish seed : 1100, 3 / 40 : 2022-05-27 23:25:40.773486\n",
      "== Running time : 0:00:02.511903\n",
      " Start seed : 1200, 4 / 40 : 2022-05-27 23:25:40.773486\n",
      " Finish seed : 1200, 4 / 40 : 2022-05-27 23:25:43.059034\n",
      "== Running time : 0:00:02.285548\n",
      " Start seed : 1300, 5 / 40 : 2022-05-27 23:25:43.059982\n",
      " Finish seed : 1300, 5 / 40 : 2022-05-27 23:25:45.777083\n",
      "== Running time : 0:00:02.717101\n",
      " Start seed : 1400, 6 / 40 : 2022-05-27 23:25:45.777083\n",
      " Finish seed : 1400, 6 / 40 : 2022-05-27 23:25:48.261657\n",
      "== Running time : 0:00:02.484574\n",
      " Start seed : 1500, 7 / 40 : 2022-05-27 23:25:48.262653\n",
      " Finish seed : 1500, 7 / 40 : 2022-05-27 23:25:50.772683\n",
      "== Running time : 0:00:02.510030\n",
      " Start seed : 1600, 8 / 40 : 2022-05-27 23:25:50.772683\n",
      " Finish seed : 1600, 8 / 40 : 2022-05-27 23:25:53.118160\n",
      "== Running time : 0:00:02.345477\n",
      " Start seed : 1700, 9 / 40 : 2022-05-27 23:25:53.118160\n",
      " Finish seed : 1700, 9 / 40 : 2022-05-27 23:25:55.713077\n",
      "== Running time : 0:00:02.594917\n",
      " Start seed : 1800, 10 / 40 : 2022-05-27 23:25:55.713077\n",
      " Finish seed : 1800, 10 / 40 : 2022-05-27 23:25:57.981190\n",
      "== Running time : 0:00:02.268113\n",
      " Start seed : 1900, 11 / 40 : 2022-05-27 23:25:57.981190\n",
      " Finish seed : 1900, 11 / 40 : 2022-05-27 23:26:00.380530\n",
      "== Running time : 0:00:02.399340\n",
      " Start seed : 200, 12 / 40 : 2022-05-27 23:26:00.380530\n",
      " Finish seed : 200, 12 / 40 : 2022-05-27 23:26:02.726834\n",
      "== Running time : 0:00:02.346304\n",
      " Start seed : 2000, 13 / 40 : 2022-05-27 23:26:02.726834\n",
      " Finish seed : 2000, 13 / 40 : 2022-05-27 23:26:04.953788\n",
      "== Running time : 0:00:02.226954\n",
      " Start seed : 2100, 14 / 40 : 2022-05-27 23:26:04.953788\n",
      " Finish seed : 2100, 14 / 40 : 2022-05-27 23:26:07.607909\n",
      "== Running time : 0:00:02.654121\n",
      " Start seed : 2200, 15 / 40 : 2022-05-27 23:26:07.607909\n",
      " Finish seed : 2200, 15 / 40 : 2022-05-27 23:26:09.940507\n",
      "== Running time : 0:00:02.332598\n",
      " Start seed : 2300, 16 / 40 : 2022-05-27 23:26:09.940507\n",
      " Finish seed : 2300, 16 / 40 : 2022-05-27 23:26:12.566461\n",
      "== Running time : 0:00:02.625954\n",
      " Start seed : 2400, 17 / 40 : 2022-05-27 23:26:12.566461\n",
      " Finish seed : 2400, 17 / 40 : 2022-05-27 23:26:14.840863\n",
      "== Running time : 0:00:02.274402\n",
      " Start seed : 2500, 18 / 40 : 2022-05-27 23:26:14.840863\n",
      " Finish seed : 2500, 18 / 40 : 2022-05-27 23:26:17.336416\n",
      "== Running time : 0:00:02.495553\n",
      " Start seed : 2600, 19 / 40 : 2022-05-27 23:26:17.336416\n",
      " Finish seed : 2600, 19 / 40 : 2022-05-27 23:26:19.572102\n",
      "== Running time : 0:00:02.235686\n",
      " Start seed : 2700, 20 / 40 : 2022-05-27 23:26:19.572102\n",
      " Finish seed : 2700, 20 / 40 : 2022-05-27 23:26:21.864767\n",
      "== Running time : 0:00:02.292665\n",
      " Start seed : 2800, 21 / 40 : 2022-05-27 23:26:21.865764\n",
      " Finish seed : 2800, 21 / 40 : 2022-05-27 23:26:24.625919\n",
      "== Running time : 0:00:02.760155\n",
      " Start seed : 2900, 22 / 40 : 2022-05-27 23:26:24.625919\n",
      " Finish seed : 2900, 22 / 40 : 2022-05-27 23:26:26.869670\n",
      "== Running time : 0:00:02.243751\n",
      " Start seed : 300, 23 / 40 : 2022-05-27 23:26:26.870669\n",
      " Finish seed : 300, 23 / 40 : 2022-05-27 23:26:29.473385\n",
      "== Running time : 0:00:02.602716\n",
      " Start seed : 3000, 24 / 40 : 2022-05-27 23:26:29.473385\n",
      " Finish seed : 3000, 24 / 40 : 2022-05-27 23:26:31.716933\n",
      "== Running time : 0:00:02.243548\n",
      " Start seed : 3100, 25 / 40 : 2022-05-27 23:26:31.716933\n",
      " Finish seed : 3100, 25 / 40 : 2022-05-27 23:26:34.202741\n",
      "== Running time : 0:00:02.485808\n",
      " Start seed : 3200, 26 / 40 : 2022-05-27 23:26:34.202741\n",
      " Finish seed : 3200, 26 / 40 : 2022-05-27 23:26:36.636258\n",
      "== Running time : 0:00:02.433517\n",
      " Start seed : 3300, 27 / 40 : 2022-05-27 23:26:36.636258\n",
      " Finish seed : 3300, 27 / 40 : 2022-05-27 23:26:38.935950\n",
      "== Running time : 0:00:02.299692\n",
      " Start seed : 3400, 28 / 40 : 2022-05-27 23:26:38.935950\n",
      " Finish seed : 3400, 28 / 40 : 2022-05-27 23:26:46.364712\n",
      "== Running time : 0:00:07.428762\n",
      " Start seed : 3500, 29 / 40 : 2022-05-27 23:26:46.365710\n",
      " Finish seed : 3500, 29 / 40 : 2022-05-27 23:26:55.178152\n",
      "== Running time : 0:00:08.812442\n",
      " Start seed : 3600, 30 / 40 : 2022-05-27 23:26:55.179149\n",
      " Finish seed : 3600, 30 / 40 : 2022-05-27 23:27:01.082368\n",
      "== Running time : 0:00:05.903219\n",
      " Start seed : 3700, 31 / 40 : 2022-05-27 23:27:01.082368\n",
      " Finish seed : 3700, 31 / 40 : 2022-05-27 23:27:05.552139\n",
      "== Running time : 0:00:04.469771\n",
      " Start seed : 3800, 32 / 40 : 2022-05-27 23:27:05.552139\n",
      " Finish seed : 3800, 32 / 40 : 2022-05-27 23:27:08.740617\n",
      "== Running time : 0:00:03.188478\n",
      " Start seed : 3900, 33 / 40 : 2022-05-27 23:27:08.741615\n",
      " Finish seed : 3900, 33 / 40 : 2022-05-27 23:27:11.959013\n",
      "== Running time : 0:00:03.217398\n",
      " Start seed : 400, 34 / 40 : 2022-05-27 23:27:11.960010\n",
      " Finish seed : 400, 34 / 40 : 2022-05-27 23:27:15.596461\n",
      "== Running time : 0:00:03.636451\n",
      " Start seed : 4000, 35 / 40 : 2022-05-27 23:27:15.596461\n",
      " Finish seed : 4000, 35 / 40 : 2022-05-27 23:27:19.259668\n",
      "== Running time : 0:00:03.663207\n",
      " Start seed : 500, 36 / 40 : 2022-05-27 23:27:19.259668\n",
      " Finish seed : 500, 36 / 40 : 2022-05-27 23:27:22.536907\n",
      "== Running time : 0:00:03.277239\n",
      " Start seed : 600, 37 / 40 : 2022-05-27 23:27:22.536907\n",
      " Finish seed : 600, 37 / 40 : 2022-05-27 23:27:26.320732\n",
      "== Running time : 0:00:03.783825\n",
      " Start seed : 700, 38 / 40 : 2022-05-27 23:27:26.320732\n",
      " Finish seed : 700, 38 / 40 : 2022-05-27 23:27:29.543152\n",
      "== Running time : 0:00:03.222420\n",
      " Start seed : 800, 39 / 40 : 2022-05-27 23:27:29.543152\n",
      " Finish seed : 800, 39 / 40 : 2022-05-27 23:27:32.572063\n",
      "== Running time : 0:00:03.028911\n",
      " Start seed : 900, 40 / 40 : 2022-05-27 23:27:32.572063\n",
      " Finish seed : 900, 40 / 40 : 2022-05-27 23:27:35.596960\n",
      "== Running time : 0:00:03.024897\n",
      "\n",
      "== Start: 2022-05-27 23:25:33.749656\n",
      "== End: 2022-05-27 23:27:35.597958\n",
      "== Running time : 0:02:01.848302\n"
     ]
    }
   ],
   "source": [
    "starttime = datetime.datetime.now()\n",
    "print(f\"== Start: {starttime}\")\n",
    "print(f\"== Start: {starttime}\", file=flog)\n",
    "print()\n",
    "print(file=flog)\n",
    "#\n",
    "for id, dir_seed in enumerate(list_seed):\n",
    "    starttime1 = datetime.datetime.now()\n",
    "    print(f\" Start seed : {dir_seed}, {id+1} / {len(list_seed)} : {starttime1}\")\n",
    "    print(f\" Start seed : {dir_seed}, {id+1} / {len(list_seed)} : {starttime1}\", file=flog)\n",
    "#  在新文件夹内，新建与源一致的文件夹\n",
    "    path_seed_work = os.path.join(path_work, dir_seed)\n",
    "    os.makedirs(path_seed_work, exist_ok=True)\n",
    "#\n",
    "# 源seed的路径\n",
    "    path_seed_src = os.path.join(path_src, dir_seed)\n",
    "# 源seed中各个xyz文件夹  \n",
    "    list_xyz = os.listdir(path_seed_src)\n",
    "#\n",
    "# 针对不同feature\n",
    "    for feature in feature_pick_dict.keys():\n",
    "#  在每个seed文件夹下，构建feature\n",
    "        dir_feature_work = feature\n",
    "        path_dir_feature_work = os.path.join(path_seed_work, dir_feature_work)\n",
    "#\n",
    "#  检查是否已经存在feature文件夹，若有，删除其中文件；若没有则构建\n",
    "        os.makedirs(path_dir_feature_work, exist_ok=True)\n",
    "        shutil.rmtree(path_dir_feature_work)\n",
    "        os.makedirs(path_dir_feature_work, exist_ok=True)\n",
    "#\n",
    "        for dir_xyz in list_xyz:\n",
    "#\n",
    "# 源xyz的路径\n",
    "            path_xyz_src = os.path.join(path_seed_src, dir_xyz)\n",
    "# 查找xyz路径（文件夹）下是否存在file_feature_src（如“xmu.dat”）文件\n",
    "            file_feature_src = feature_pick_dict[feature]\n",
    "#\n",
    "            path_file_feature_src = os.path.join(path_xyz_src, file_feature_src)\n",
    "            exist = os.path.exists(path_file_feature_src)\n",
    "            if exist:\n",
    "                result = os.path.splitext(file_feature_src)\n",
    "                file = feature + '_' + dir_xyz + result[1]\n",
    "                path_file_feature_work = os.path.join(path_dir_feature_work, file)\n",
    "#\n",
    "                fealab_pick(feature, path_file_feature_src, path_file_feature_work)\n",
    "            else:\n",
    "                print()\n",
    "                print(file=flog)\n",
    "                print(f\"  Error! No correspoing feature file {file_feature_src} for {dir_seed} / {dir_xyz}\")\n",
    "                print(f\"  Error! No correspoing feature file {file_feature_src} for {dir_seed} / {dir_xyz}\", file=flog)\n",
    "                print()\n",
    "                print(file=flog)\n",
    "#\n",
    "#\n",
    "# 删除 空文件夹\n",
    "#\n",
    "#    try:\n",
    "#        os.removedirs(path_dir_feature_work)\n",
    "#    except:\n",
    "#        pass\n",
    "        if os.path.exists(path_dir_feature_work):\n",
    "            if len(os.listdir(path_dir_feature_work)) == 0:\n",
    "                os.rmdir(path_dir_feature_work)\n",
    "#\n",
    "# 针对不同label\n",
    "    for label in label_pick_dict.keys():\n",
    "#  在每个seed文件夹下，构建label\n",
    "        dir_label_work = label\n",
    "        path_dir_label_work = os.path.join(path_seed_work, dir_label_work)\n",
    "#\n",
    "#  检查是否已经存在label文件夹，若有，删除其中文件；若没有则构建\n",
    "        os.makedirs(path_dir_label_work, exist_ok=True)\n",
    "        shutil.rmtree(path_dir_label_work)\n",
    "        os.makedirs(path_dir_label_work, exist_ok=True)\n",
    "#\n",
    "        for dir_xyz in list_xyz:\n",
    "#\n",
    "# 源xyz的路径\n",
    "            path_xyz_src = os.path.join(path_seed_src, dir_xyz)\n",
    "# 查找xyz路径（文件夹）下是否存在file_feature_src（如“xmu.dat”）文件\n",
    "            file_label_src = label_pick_dict[label]\n",
    "#\n",
    "            path_file_label_src = os.path.join(path_xyz_src, file_label_src)\n",
    "            exist = os.path.exists(path_file_label_src)\n",
    "            if exist:\n",
    "                result = os.path.splitext(file_label_src)\n",
    "                file = label + '_' + dir_xyz + result[1]\n",
    "                path_file_label_work = os.path.join(path_dir_label_work, file)\n",
    "#\n",
    "                fealab_pick(label, path_file_label_src, path_file_label_work)\n",
    "            else:\n",
    "                print()\n",
    "                print(file=flog)\n",
    "                print(f\"  Error! No correspoing label file {file_label_src} for {dir_seed} / {dir_xyz}\")\n",
    "                print(f\"  Error! No correspoing label file {file_label_src} for {dir_seed} / {dir_xyz}\", file=flog)\n",
    "                print()\n",
    "                print(file=flog)\n",
    "#\n",
    "# 删除 空文件夹\n",
    "#\n",
    "#    try:\n",
    "#        os.removedirs(path_dir_label_work)\n",
    "#    except:\n",
    "#        pass\n",
    "        if os.path.exists(path_dir_label_work):\n",
    "            if len(os.listdir(path_dir_label_work)) == 0:\n",
    "                os.rmdir(path_dir_label_work)\n",
    "#\n",
    "    endtime1 = datetime.datetime.now()\n",
    "    print(f\" Finish seed : {dir_seed}, {id+1} / {len(list_seed)} : {endtime1}\")\n",
    "    print(f\"== Running time : {endtime1-starttime1}\")\n",
    "    print(f\" Finish seed : {dir_seed}, {id+1} / {len(list_seed)} : {endtime1}\", file=flog)\n",
    "    print(f\"== Running time : {endtime1-starttime1}\", file=flog)\n",
    "#    if  id >= 1: sys.exit(0)\n",
    "#\n",
    "#\n",
    "endtime = datetime.datetime.now()\n",
    "#\n",
    "print()\n",
    "print(file=flog)\n",
    "print(f\"== Start: {starttime}\")\n",
    "print(f\"== Start: {starttime}\", file=flog)\n",
    "print(f\"== End: {endtime}\")\n",
    "print(f\"== End: {endtime}\", file=flog)\n",
    "#\n",
    "print(f\"== Running time : {endtime-starttime}\")\n",
    "print(f\"== Running time : {endtime-starttime}\", file=flog)\n",
    "flog.close()"
   ]
  },
  {
   "cell_type": "code",
   "execution_count": null,
   "metadata": {},
   "outputs": [],
   "source": []
  }
 ],
 "metadata": {
  "kernelspec": {
   "display_name": "Python 3 (ipykernel)",
   "language": "python",
   "name": "python3"
  },
  "language_info": {
   "codemirror_mode": {
    "name": "ipython",
    "version": 3
   },
   "file_extension": ".py",
   "mimetype": "text/x-python",
   "name": "python",
   "nbconvert_exporter": "python",
   "pygments_lexer": "ipython3",
   "version": "3.9.12"
  },
  "toc": {
   "base_numbering": 1,
   "nav_menu": {
    "height": "12px",
    "width": "160px"
   },
   "number_sections": true,
   "sideBar": true,
   "skip_h1_title": false,
   "title_cell": "Table of Contents",
   "title_sidebar": "Contents",
   "toc_cell": false,
   "toc_position": {
    "height": "calc(100% - 180px)",
    "left": "10px",
    "top": "150px",
    "width": "256px"
   },
   "toc_section_display": true,
   "toc_window_display": true
  },
  "varInspector": {
   "cols": {
    "lenName": 16,
    "lenType": 16,
    "lenVar": 40
   },
   "kernels_config": {
    "python": {
     "delete_cmd_postfix": "",
     "delete_cmd_prefix": "del ",
     "library": "var_list.py",
     "varRefreshCmd": "print(var_dic_list())"
    },
    "r": {
     "delete_cmd_postfix": ") ",
     "delete_cmd_prefix": "rm(",
     "library": "var_list.r",
     "varRefreshCmd": "cat(var_dic_list()) "
    }
   },
   "types_to_exclude": [
    "module",
    "function",
    "builtin_function_or_method",
    "instance",
    "_Feature"
   ],
   "window_display": false
  }
 },
 "nbformat": 4,
 "nbformat_minor": 4
}
