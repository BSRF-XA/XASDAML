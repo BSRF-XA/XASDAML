{
 "cells": [
  {
   "cell_type": "markdown",
   "metadata": {
    "ExecuteTime": {
     "end_time": "2020-09-08T08:27:40.714309Z",
     "start_time": "2020-09-08T08:27:40.707472Z"
    }
   },
   "source": [
    "## 本程序对计算出的tar.gz文件进行批量解压缩。"
   ]
  },
  {
   "cell_type": "markdown",
   "metadata": {},
   "source": [
    "### 将本程序安放在需要解压缩的文件夹（假设为“AuPd-4000_au150-0_DW_R0_cncr_WT”，一级目录）下的任意一个文件夹下（二级目录）。\n",
    "### 经过解压缩后的文件夹为“*_untar”；"
   ]
  },
  {
   "cell_type": "markdown",
   "metadata": {},
   "source": [
    "last updated: 2022.1.11"
   ]
  },
  {
   "cell_type": "markdown",
   "metadata": {},
   "source": [
    "contacts: zhaohf@ihep.ac.cn"
   ]
  },
  {
   "cell_type": "markdown",
   "metadata": {},
   "source": [
    "# 配置环境"
   ]
  },
  {
   "cell_type": "code",
   "execution_count": 1,
   "metadata": {
    "ExecuteTime": {
     "end_time": "2022-01-11T02:37:59.434584Z",
     "start_time": "2022-01-11T02:37:59.413852Z"
    }
   },
   "outputs": [],
   "source": [
    "import os\n",
    "import sys\n",
    "import shutil\n",
    "import tarfile"
   ]
  },
  {
   "cell_type": "markdown",
   "metadata": {},
   "source": [
    "输出导入模板的版本。"
   ]
  },
  {
   "cell_type": "code",
   "execution_count": 2,
   "metadata": {
    "ExecuteTime": {
     "end_time": "2022-01-11T02:38:06.323652Z",
     "start_time": "2022-01-11T02:38:06.315533Z"
    }
   },
   "outputs": [
    {
     "name": "stdout",
     "output_type": "stream",
     "text": [
      "python version: 3.9.7 (default, Sep 16 2021, 16:59:28) [MSC v.1916 64 bit (AMD64)]\n"
     ]
    }
   ],
   "source": [
    "print('python version:',sys.version)\n",
    "#print('shutil version:',shutil.__version__)\n",
    "#print('tarfile version:',tarfile.__version__)"
   ]
  },
  {
   "cell_type": "markdown",
   "metadata": {},
   "source": [
    "# 设置输入文件夹和输出文件夹"
   ]
  },
  {
   "cell_type": "markdown",
   "metadata": {},
   "source": [
    "## 设置源文件夹，即需要解压缩的文件夹"
   ]
  },
  {
   "cell_type": "code",
   "execution_count": 4,
   "metadata": {
    "ExecuteTime": {
     "end_time": "2022-01-11T02:38:49.711431Z",
     "start_time": "2022-01-11T02:38:49.702350Z"
    }
   },
   "outputs": [],
   "source": [
    "dir_src = 'cu_crystal_different_xyz_WT'"
   ]
  },
  {
   "cell_type": "markdown",
   "metadata": {},
   "source": [
    "## 设置解压缩后的文件名后缀"
   ]
  },
  {
   "cell_type": "code",
   "execution_count": 5,
   "metadata": {
    "ExecuteTime": {
     "end_time": "2022-01-11T02:38:53.066912Z",
     "start_time": "2022-01-11T02:38:53.052921Z"
    }
   },
   "outputs": [],
   "source": [
    "app = '_untar'"
   ]
  },
  {
   "cell_type": "markdown",
   "metadata": {},
   "source": [
    "# 程序正文"
   ]
  },
  {
   "cell_type": "markdown",
   "metadata": {},
   "source": [
    "## 当前目录"
   ]
  },
  {
   "cell_type": "code",
   "execution_count": 6,
   "metadata": {
    "ExecuteTime": {
     "end_time": "2022-01-11T02:38:56.173341Z",
     "start_time": "2022-01-11T02:38:56.164367Z"
    }
   },
   "outputs": [
    {
     "data": {
      "text/plain": [
       "'D:\\\\haifeng\\\\work_20211031\\\\XAS-ML\\\\code\\\\datasets setup\\\\jupyterbook'"
      ]
     },
     "execution_count": 6,
     "metadata": {},
     "output_type": "execute_result"
    }
   ],
   "source": [
    "path = os.path.abspath('./')\n",
    "path"
   ]
  },
  {
   "cell_type": "code",
   "execution_count": 7,
   "metadata": {
    "ExecuteTime": {
     "end_time": "2022-01-11T02:38:59.135532Z",
     "start_time": "2022-01-11T02:38:59.124513Z"
    }
   },
   "outputs": [
    {
     "data": {
      "text/plain": [
       "'D:\\\\haifeng\\\\work_20211031\\\\XAS-ML\\\\code\\\\datasets setup'"
      ]
     },
     "execution_count": 7,
     "metadata": {},
     "output_type": "execute_result"
    }
   ],
   "source": [
    "# 上一级目录\n",
    "path_par = os.path.abspath(os.path.pardir)\n",
    "path_par"
   ]
  },
  {
   "cell_type": "markdown",
   "metadata": {},
   "source": [
    "## 源文件夹目录"
   ]
  },
  {
   "cell_type": "code",
   "execution_count": 8,
   "metadata": {
    "ExecuteTime": {
     "end_time": "2022-01-11T02:39:07.178545Z",
     "start_time": "2022-01-11T02:39:07.158620Z"
    }
   },
   "outputs": [
    {
     "data": {
      "text/plain": [
       "['Cu-bulk',\n",
       " 'Cu-fcc-22',\n",
       " 'Cu-fcc-22-1',\n",
       " 'Cu-fcc-23',\n",
       " 'Cu-fcc-23-1',\n",
       " 'Cu-fcc-33',\n",
       " 'Cu-fcc-33-1',\n",
       " 'Cu-fcc-33-2',\n",
       " 'Cu-fcc-331',\n",
       " 'Cu-fcc-333',\n",
       " 'Cu-fcc-34-2',\n",
       " 'Cu-fcc-342',\n",
       " 'Cu-fcc-41',\n",
       " 'Cu-fcc-42',\n",
       " 'Cu-fcc-43-1',\n",
       " 'Cu-fcc-43-2',\n",
       " 'Cu-fcc-44-2',\n",
       " 'Cu-fcc-53',\n",
       " 'Cu-wulff-size13',\n",
       " 'Cu-wulff-size201',\n",
       " 'run']"
      ]
     },
     "execution_count": 8,
     "metadata": {},
     "output_type": "execute_result"
    }
   ],
   "source": [
    "# 源文件夹目录\n",
    "path_src = os.path.join(path_par, dir_src)\n",
    "# 检查源文件夹是否存在，存在则列出其内部文件夹，不存在则打印错误\n",
    "exist = os.path.exists(path_src)\n",
    "if exist:\n",
    "    list_seed = os.listdir(path_src)\n",
    "else:\n",
    "    print()\n",
    "    print('** Error!! WT untared directory', dir_src, 'is not found!' )\n",
    "    print()\n",
    "#    sys.exit()\n",
    "list_seed"
   ]
  },
  {
   "cell_type": "markdown",
   "metadata": {},
   "source": [
    "## 解压缩文件夹"
   ]
  },
  {
   "cell_type": "code",
   "execution_count": 9,
   "metadata": {
    "ExecuteTime": {
     "end_time": "2022-01-11T02:39:29.718671Z",
     "start_time": "2022-01-11T02:39:29.712626Z"
    }
   },
   "outputs": [
    {
     "data": {
      "text/plain": [
       "'D:\\\\haifeng\\\\work_20211031\\\\XAS-ML\\\\code\\\\datasets setup\\\\cu_crystal_different_xyz_WT_untar'"
      ]
     },
     "execution_count": 9,
     "metadata": {},
     "output_type": "execute_result"
    }
   ],
   "source": [
    "dir_work = dir_src + app\n",
    "path_work = os.path.join(path_par, dir_work)\n",
    "os.makedirs(path_work, exist_ok=True)\n",
    "path_work"
   ]
  },
  {
   "cell_type": "markdown",
   "metadata": {},
   "source": [
    "## 开始解压缩"
   ]
  },
  {
   "cell_type": "code",
   "execution_count": 10,
   "metadata": {
    "ExecuteTime": {
     "end_time": "2022-01-11T02:42:47.639682Z",
     "start_time": "2022-01-11T02:39:41.661464Z"
    },
    "scrolled": true
   },
   "outputs": [
    {
     "name": "stdout",
     "output_type": "stream",
     "text": [
      "** seed  Cu-bulk  untared.\n",
      "** seed  Cu-fcc-22  untared.\n",
      "** seed  Cu-fcc-22-1  untared.\n",
      "** seed  Cu-fcc-23  untared.\n",
      "** seed  Cu-fcc-23-1  untared.\n",
      "** seed  Cu-fcc-33  untared.\n",
      "** seed  Cu-fcc-33-1  untared.\n",
      "** seed  Cu-fcc-33-2  untared.\n",
      "** seed  Cu-fcc-331  untared.\n",
      "** seed  Cu-fcc-333  untared.\n",
      "** seed  Cu-fcc-34-2  untared.\n",
      "** seed  Cu-fcc-342  untared.\n",
      "** seed  Cu-fcc-41  untared.\n",
      "** seed  Cu-fcc-42  untared.\n",
      "** seed  Cu-fcc-43-1  untared.\n",
      "** seed  Cu-fcc-43-2  untared.\n",
      "** seed  Cu-fcc-44-2  untared.\n",
      "** seed  Cu-fcc-53  untared.\n",
      "** seed  Cu-wulff-size13  untared.\n",
      "** seed  Cu-wulff-size201  untared.\n",
      "** seed  run  untared.\n"
     ]
    }
   ],
   "source": [
    "# 到源文件夹的各个 seed文件夹内，找到各个tar.gz文件，然后在目标文件内解压缩\n",
    "for dir_seed in list_seed:\n",
    "#\n",
    "#  在新文件夹内，新建与源一致的文件夹\n",
    "    path_seed_work = os.path.join(path_work, dir_seed)\n",
    "    os.makedirs(path_seed_work, exist_ok=True)\n",
    "#\n",
    "# 源seed的路径\n",
    "    path_seed_src = os.path.join(path_src, dir_seed)\n",
    "#\n",
    "#  读取源文件夹seed下的各个tar.gz文件，对以“.tar.gz”结尾的文件进行解压缩\n",
    "    list_tar_file = os.listdir(path_seed_src)\n",
    "    for tar_file in list_tar_file:\n",
    "        length = len(tar_file)\n",
    "        if length >= 7:\n",
    "            if tar_file[-7:] == '.tar.gz':\n",
    "                path_tar_src  = os.path.join(path_seed_src, tar_file)\n",
    "                t = tarfile.open(path_tar_src)\n",
    "                t.extractall(path_seed_work)\n",
    "#\n",
    "    print('** seed ', dir_seed, ' untared.')\n",
    "#\n",
    "    try:\n",
    "#\n",
    "#  注意不能用os.removedirs来删除，因为如果第一个种子文件为空，则它会递归删除上一级目录，即XXX_WT_untar ！\n",
    "#        os.removedirs(path_seed_work)\n",
    "        os.rmdir(path_seed_work)\n",
    "    except:\n",
    "        pass"
   ]
  },
  {
   "cell_type": "code",
   "execution_count": null,
   "metadata": {},
   "outputs": [],
   "source": []
  }
 ],
 "metadata": {
  "kernelspec": {
   "display_name": "Python 3 (ipykernel)",
   "language": "python",
   "name": "python3"
  },
  "language_info": {
   "codemirror_mode": {
    "name": "ipython",
    "version": 3
   },
   "file_extension": ".py",
   "mimetype": "text/x-python",
   "name": "python",
   "nbconvert_exporter": "python",
   "pygments_lexer": "ipython3",
   "version": "3.9.12"
  },
  "toc": {
   "base_numbering": 1,
   "nav_menu": {},
   "number_sections": true,
   "sideBar": true,
   "skip_h1_title": false,
   "title_cell": "Table of Contents",
   "title_sidebar": "Contents",
   "toc_cell": false,
   "toc_position": {
    "height": "calc(100% - 180px)",
    "left": "10px",
    "top": "150px",
    "width": "256px"
   },
   "toc_section_display": true,
   "toc_window_display": true
  },
  "varInspector": {
   "cols": {
    "lenName": 16,
    "lenType": 16,
    "lenVar": 40
   },
   "kernels_config": {
    "python": {
     "delete_cmd_postfix": "",
     "delete_cmd_prefix": "del ",
     "library": "var_list.py",
     "varRefreshCmd": "print(var_dic_list())"
    },
    "r": {
     "delete_cmd_postfix": ") ",
     "delete_cmd_prefix": "rm(",
     "library": "var_list.r",
     "varRefreshCmd": "cat(var_dic_list()) "
    }
   },
   "types_to_exclude": [
    "module",
    "function",
    "builtin_function_or_method",
    "instance",
    "_Feature"
   ],
   "window_display": false
  }
 },
 "nbformat": 4,
 "nbformat_minor": 4
}
