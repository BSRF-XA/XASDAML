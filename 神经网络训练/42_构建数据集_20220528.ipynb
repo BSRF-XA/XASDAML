{
 "cells": [
  {
   "cell_type": "markdown",
   "metadata": {},
   "source": [
    "## 本程序读取含有feature、label文件路径的csv文件（位于“datasets_csv”文件夹下），从feature和label中读取feature和label值，生成数据集文件，包括train、validation、test数据集。数据保存到“datasets”文件夹下"
   ]
  },
  {
   "cell_type": "markdown",
   "metadata": {},
   "source": [
    "last update: 2022.05.28"
   ]
  },
  {
   "cell_type": "markdown",
   "metadata": {},
   "source": [
    "相对于32版本，直接feature和label的文件值"
   ]
  },
  {
   "cell_type": "markdown",
   "metadata": {},
   "source": [
    "contacts：zhaohf@ihep.ac.cn"
   ]
  },
  {
   "cell_type": "markdown",
   "metadata": {},
   "source": [
    "# 配置环境"
   ]
  },
  {
   "cell_type": "markdown",
   "metadata": {},
   "source": [
    "## 所需模块"
   ]
  },
  {
   "cell_type": "code",
   "execution_count": 1,
   "metadata": {
    "ExecuteTime": {
     "end_time": "2022-05-28T03:44:17.576874Z",
     "start_time": "2022-05-28T03:44:17.033326Z"
    }
   },
   "outputs": [],
   "source": [
    "import sys\n",
    "import os\n",
    "import pandas as pd\n",
    "import numpy as np"
   ]
  },
  {
   "cell_type": "markdown",
   "metadata": {},
   "source": [
    "输出导入模板的版本。"
   ]
  },
  {
   "cell_type": "code",
   "execution_count": 2,
   "metadata": {
    "ExecuteTime": {
     "end_time": "2022-05-28T03:44:17.592831Z",
     "start_time": "2022-05-28T03:44:17.579863Z"
    }
   },
   "outputs": [
    {
     "name": "stdout",
     "output_type": "stream",
     "text": [
      "python version: 3.9.12 (main, Apr  4 2022, 05:22:27) [MSC v.1916 64 bit (AMD64)]\n",
      "numpy version: 1.21.5\n",
      "panda version: 1.4.2\n"
     ]
    }
   ],
   "source": [
    "print('python version:',sys.version)\n",
    "print('numpy version:',np.__version__)\n",
    "print('panda version:',pd.__version__)"
   ]
  },
  {
   "cell_type": "markdown",
   "metadata": {},
   "source": [
    "# 设置参数"
   ]
  },
  {
   "cell_type": "markdown",
   "metadata": {},
   "source": [
    "## 设置输入的csv文件和文件相对路径"
   ]
  },
  {
   "cell_type": "code",
   "execution_count": 3,
   "metadata": {
    "ExecuteTime": {
     "end_time": "2022-05-28T03:44:17.608863Z",
     "start_time": "2022-05-28T03:44:17.595866Z"
    }
   },
   "outputs": [],
   "source": [
    "dir_csv = './../datasets_csv'\n",
    "file_csv  = 'au150_DW_chi_cn1.csv'"
   ]
  },
  {
   "cell_type": "markdown",
   "metadata": {},
   "source": [
    "## 设置输出的用于保存数据的文件夹和文件"
   ]
  },
  {
   "cell_type": "code",
   "execution_count": 4,
   "metadata": {
    "ExecuteTime": {
     "end_time": "2022-05-28T03:44:17.638790Z",
     "start_time": "2022-05-28T03:44:17.618844Z"
    }
   },
   "outputs": [],
   "source": [
    "dir_data = './../datasets'\n",
    "# feature文件将由 index + '_' + feature + suffix 组成\n",
    "# label文件将由 file_label = index + '_' + label[] + suffix 组成\n",
    "index = 'Au'\n",
    "feature = 'chi'\n",
    "label = 'cn1'\n",
    "suffix = '.txt'"
   ]
  },
  {
   "cell_type": "markdown",
   "metadata": {},
   "source": [
    "## 设置 train、validation、test数据的比例"
   ]
  },
  {
   "cell_type": "code",
   "execution_count": 5,
   "metadata": {
    "ExecuteTime": {
     "end_time": "2022-05-28T03:44:17.654747Z",
     "start_time": "2022-05-28T03:44:17.640784Z"
    }
   },
   "outputs": [],
   "source": [
    "# 让训练、验证、测试数据集的比例为7:2:1\n",
    "ratio_train = 0.7\n",
    "ratio_valid = 0.2\n",
    "ratio_test = 1 - ratio_train - ratio_valid"
   ]
  },
  {
   "cell_type": "markdown",
   "metadata": {},
   "source": [
    "# 类、函数模块"
   ]
  },
  {
   "cell_type": "markdown",
   "metadata": {
    "ExecuteTime": {
     "end_time": "2022-05-18T07:11:24.219741Z",
     "start_time": "2022-05-18T07:11:24.201789Z"
    }
   },
   "source": [
    "## csv--> data"
   ]
  },
  {
   "cell_type": "code",
   "execution_count": 6,
   "metadata": {
    "ExecuteTime": {
     "end_time": "2022-05-28T03:44:17.670084Z",
     "start_time": "2022-05-28T03:44:17.656741Z"
    }
   },
   "outputs": [],
   "source": [
    "# 对于给定的csv文件“data_file”（chi_FEFF），读取其中的feature和label，制成数据集。\n",
    "import pandas as pd\n",
    "import numpy as np\n",
    "def create_dataset(data_file):\n",
    "    \"\"\"\n",
    "    \"\"\"\n",
    "    pd_dataset = pd.read_csv(data_file)\n",
    "    feature_list = []\n",
    "    label_list = []\n",
    "    for i in range(len(pd_dataset)):\n",
    "#\n",
    "# 数据预处理 特征\n",
    "        data_file_path = pd_dataset['path_feature'][i]\n",
    "        data_df = pd.read_csv(data_file_path,header=None,delim_whitespace=True)\n",
    "        a = data_df.iloc[0,0]\n",
    "        if a == 0 :\n",
    "            data_df = pd.read_csv(data_file_path,header=0,delim_whitespace=True)\n",
    "        data_np = data_df.iloc[:,1].values\n",
    "        feature_list.append(data_np)\n",
    "#\n",
    "# 数据预处理 label\n",
    "        label_file_path = pd_dataset['path_label'][i]\n",
    "        label_df = pd.read_csv(label_file_path,header=None)\n",
    "        label_list.append(label_df.iloc[0,0])\n",
    "#\n",
    "#        del label_df\n",
    "#        del data_np\n",
    "#\n",
    "  # 特征和label数据由list改为numpy array的形式\n",
    "#\n",
    "    data_np_array = np.array(feature_list)\n",
    "    label_np_array = np.array(label_list)\n",
    "#\n",
    "#    del feature_list\n",
    "#    del label_list\n",
    "#\n",
    "    return data_np_array, label_np_array"
   ]
  },
  {
   "cell_type": "markdown",
   "metadata": {},
   "source": [
    "# 正文"
   ]
  },
  {
   "cell_type": "markdown",
   "metadata": {},
   "source": [
    "## 确定当前目录和工作目录"
   ]
  },
  {
   "cell_type": "code",
   "execution_count": 7,
   "metadata": {
    "ExecuteTime": {
     "end_time": "2022-05-28T03:44:17.686080Z",
     "start_time": "2022-05-28T03:44:17.671084Z"
    }
   },
   "outputs": [
    {
     "data": {
      "text/plain": [
       "'D:\\\\haifeng\\\\work_20211031\\\\XAS-ML\\\\code\\\\neural network module\\\\jupyternotebook_code'"
      ]
     },
     "execution_count": 7,
     "metadata": {},
     "output_type": "execute_result"
    }
   ],
   "source": [
    "path = os.path.abspath(os.curdir)\n",
    "path"
   ]
  },
  {
   "cell_type": "markdown",
   "metadata": {},
   "source": [
    "## 检查csv文件和文件相对路径"
   ]
  },
  {
   "cell_type": "code",
   "execution_count": 8,
   "metadata": {
    "ExecuteTime": {
     "end_time": "2022-05-28T03:44:17.701004Z",
     "start_time": "2022-05-28T03:44:17.687077Z"
    }
   },
   "outputs": [],
   "source": [
    "# csv文件所在位置\n",
    "path_dir_csv = os.path.join(path,dir_csv)\n",
    "path_csv = os.path.join(path_dir_csv,file_csv)\n",
    "#\n",
    "# 检查csv是否存在，若不存在，报错\n",
    "exist = os.path.exists(path_csv)\n",
    "if not exist:\n",
    "    print()\n",
    "    print('** Error!! cannot find csv file in', dir_csv)\n",
    "    print()\n",
    "    sys.exit()"
   ]
  },
  {
   "cell_type": "markdown",
   "metadata": {},
   "source": [
    "## 对于给定的csv文件“data_file”，读取其中的feature和label，制成数据集。"
   ]
  },
  {
   "cell_type": "markdown",
   "metadata": {},
   "source": [
    "这可能需要几十秒种（5996条谱和配位数、平均键长，大概需要25秒）"
   ]
  },
  {
   "cell_type": "code",
   "execution_count": 9,
   "metadata": {
    "ExecuteTime": {
     "end_time": "2022-05-28T03:44:39.275082Z",
     "start_time": "2022-05-28T03:44:17.702002Z"
    }
   },
   "outputs": [],
   "source": [
    "data_np_array, label_np_array = create_dataset(path_csv)"
   ]
  },
  {
   "cell_type": "markdown",
   "metadata": {},
   "source": [
    "看一下feature值"
   ]
  },
  {
   "cell_type": "code",
   "execution_count": 10,
   "metadata": {
    "ExecuteTime": {
     "end_time": "2022-05-28T03:44:39.291044Z",
     "start_time": "2022-05-28T03:44:39.279076Z"
    }
   },
   "outputs": [
    {
     "data": {
      "text/plain": [
       "array([[ 3.204381e-01,  3.179742e-01,  3.107868e-01, ...,  1.588940e-06,\n",
       "         1.217988e-06,  8.223206e-07],\n",
       "       [ 2.272433e-01,  2.254551e-01,  2.202515e-01, ..., -1.081169e-06,\n",
       "        -1.537145e-06, -1.827965e-06],\n",
       "       [ 2.434066e-01,  2.416660e-01,  2.365912e-01, ...,  1.017455e-06,\n",
       "         9.860825e-07,  8.813536e-07],\n",
       "       ...,\n",
       "       [ 1.633016e-01,  1.616820e-01,  1.571817e-01, ..., -1.616210e-06,\n",
       "        -1.438373e-06, -1.191754e-06],\n",
       "       [ 2.649083e-01,  2.628461e-01,  2.568242e-01, ...,  5.872027e-07,\n",
       "         7.930178e-07,  9.127764e-07],\n",
       "       [ 2.487297e-01,  2.467340e-01,  2.409130e-01, ..., -2.460035e-06,\n",
       "        -2.220299e-06, -1.854691e-06]])"
      ]
     },
     "execution_count": 10,
     "metadata": {},
     "output_type": "execute_result"
    }
   ],
   "source": [
    "data_np_array"
   ]
  },
  {
   "cell_type": "code",
   "execution_count": 11,
   "metadata": {
    "ExecuteTime": {
     "end_time": "2022-05-28T03:44:39.306047Z",
     "start_time": "2022-05-28T03:44:39.293039Z"
    }
   },
   "outputs": [
    {
     "data": {
      "text/plain": [
       "(5946, 400)"
      ]
     },
     "execution_count": 11,
     "metadata": {},
     "output_type": "execute_result"
    }
   ],
   "source": [
    "data_np_array.shape"
   ]
  },
  {
   "cell_type": "markdown",
   "metadata": {},
   "source": [
    "看一下label值"
   ]
  },
  {
   "cell_type": "code",
   "execution_count": 12,
   "metadata": {
    "ExecuteTime": {
     "end_time": "2022-05-28T03:44:39.320998Z",
     "start_time": "2022-05-28T03:44:39.307999Z"
    }
   },
   "outputs": [
    {
     "data": {
      "text/plain": [
       "array([ 8,  8,  8, ..., 12,  8,  7], dtype=int64)"
      ]
     },
     "execution_count": 12,
     "metadata": {},
     "output_type": "execute_result"
    }
   ],
   "source": [
    "label_np_array"
   ]
  },
  {
   "cell_type": "code",
   "execution_count": 13,
   "metadata": {
    "ExecuteTime": {
     "end_time": "2022-05-28T03:44:39.336921Z",
     "start_time": "2022-05-28T03:44:39.322960Z"
    }
   },
   "outputs": [
    {
     "data": {
      "text/plain": [
       "(5946,)"
      ]
     },
     "execution_count": 13,
     "metadata": {},
     "output_type": "execute_result"
    }
   ],
   "source": [
    "label_np_array.shape"
   ]
  },
  {
   "cell_type": "markdown",
   "metadata": {},
   "source": [
    "## 将 feature值和label值输出到文件中"
   ]
  },
  {
   "cell_type": "markdown",
   "metadata": {},
   "source": [
    "### 创建输出文件夹"
   ]
  },
  {
   "cell_type": "code",
   "execution_count": 14,
   "metadata": {
    "ExecuteTime": {
     "end_time": "2022-05-28T03:44:39.351916Z",
     "start_time": "2022-05-28T03:44:39.339918Z"
    }
   },
   "outputs": [],
   "source": [
    "path_data = os.path.join(os.curdir, dir_data)\n",
    "os.makedirs(path_data, exist_ok=True)"
   ]
  },
  {
   "cell_type": "markdown",
   "metadata": {},
   "source": [
    "### 整体feature和label文件"
   ]
  },
  {
   "cell_type": "markdown",
   "metadata": {},
   "source": [
    "创建feature文件"
   ]
  },
  {
   "cell_type": "code",
   "execution_count": 15,
   "metadata": {
    "ExecuteTime": {
     "end_time": "2022-05-28T03:44:43.051312Z",
     "start_time": "2022-05-28T03:44:39.353880Z"
    }
   },
   "outputs": [],
   "source": [
    "file_feature = index + '_' + feature + suffix\n",
    "path_file_feature = os.path.join(path_data, file_feature)\n",
    "fout = open(path_file_feature,'w')\n",
    "for i in range(data_np_array.shape[0]):\n",
    "    for j in range(data_np_array.shape[1]):\n",
    "        fout.write(f\"{data_np_array[i][j]:14.6e}\")\n",
    "    fout.write('\\n')\n",
    "fout.close()"
   ]
  },
  {
   "cell_type": "markdown",
   "metadata": {},
   "source": [
    "创建label文件"
   ]
  },
  {
   "cell_type": "code",
   "execution_count": 16,
   "metadata": {
    "ExecuteTime": {
     "end_time": "2022-05-28T03:44:43.067163Z",
     "start_time": "2022-05-28T03:44:43.052309Z"
    }
   },
   "outputs": [],
   "source": [
    "file_label = index + '_' + label + suffix\n",
    "path_file_label = os.path.join(path_data, file_label)\n",
    "fout = open(path_file_label,'w')\n",
    "for i in range(label_np_array.shape[0]):\n",
    "    fout.write(f\"{label_np_array[i]}\\n\")\n",
    "fout.close()"
   ]
  },
  {
   "cell_type": "markdown",
   "metadata": {},
   "source": [
    "### train、validation、test文件"
   ]
  },
  {
   "cell_type": "code",
   "execution_count": 17,
   "metadata": {
    "ExecuteTime": {
     "end_time": "2022-05-28T03:44:43.082650Z",
     "start_time": "2022-05-28T03:44:43.069161Z"
    }
   },
   "outputs": [
    {
     "name": "stdout",
     "output_type": "stream",
     "text": [
      "N. of train : 4162\n",
      "N. of validation : 1189\n",
      "N. of test : 595\n",
      "------------------------------\n",
      "N. of all : 5946\n"
     ]
    }
   ],
   "source": [
    "N_train_full = data_np_array.shape[0]\n",
    "N_train = int(N_train_full * ratio_train)\n",
    "N_valid = int(N_train_full * ratio_valid)\n",
    "N_test = N_train_full - N_train - N_valid\n",
    "print ('N. of train :', N_train)\n",
    "print ('N. of validation :', N_valid)\n",
    "print ('N. of test :', N_test)\n",
    "print (('-')*30)\n",
    "print ('N. of all :', N_train_full)"
   ]
  },
  {
   "cell_type": "code",
   "execution_count": 18,
   "metadata": {
    "ExecuteTime": {
     "end_time": "2022-05-28T03:44:43.098954Z",
     "start_time": "2022-05-28T03:44:43.084644Z"
    }
   },
   "outputs": [],
   "source": [
    "train_feature = data_np_array[:N_train]\n",
    "valid_feature = data_np_array[N_train:-N_test]\n",
    "test_feature = data_np_array[-N_test:]"
   ]
  },
  {
   "cell_type": "code",
   "execution_count": 19,
   "metadata": {
    "ExecuteTime": {
     "end_time": "2022-05-28T03:44:43.114684Z",
     "start_time": "2022-05-28T03:44:43.101646Z"
    }
   },
   "outputs": [],
   "source": [
    "train_label = label_np_array[:N_train]\n",
    "valid_label = label_np_array[N_train:-N_test]\n",
    "test_label = label_np_array[-N_test:]"
   ]
  },
  {
   "cell_type": "markdown",
   "metadata": {},
   "source": [
    "创建train、validation、test的feature文件"
   ]
  },
  {
   "cell_type": "code",
   "execution_count": 20,
   "metadata": {
    "ExecuteTime": {
     "end_time": "2022-05-28T03:44:43.130695Z",
     "start_time": "2022-05-28T03:44:43.116679Z"
    }
   },
   "outputs": [],
   "source": [
    "t_v_t = ['train', 'valid', 'test']\n",
    "array_feature_tvt = [train_feature, valid_feature, test_feature]\n",
    "array_label_tvt = [train_label, valid_label, test_label]"
   ]
  },
  {
   "cell_type": "code",
   "execution_count": 21,
   "metadata": {
    "ExecuteTime": {
     "end_time": "2022-05-28T03:44:46.962098Z",
     "start_time": "2022-05-28T03:44:43.132718Z"
    }
   },
   "outputs": [],
   "source": [
    "for k in range(len(t_v_t)):\n",
    "    file_feature = index + '_' + feature + '_' + t_v_t[k] + suffix\n",
    "    path_file_feature = os.path.join(path_data, file_feature)\n",
    "    fout = open(path_file_feature,'w')\n",
    "    for i in range(array_feature_tvt[k].shape[0]):\n",
    "        for j in range(array_feature_tvt[k].shape[1]):\n",
    "            fout.write(f\"{array_feature_tvt[k][i][j]:14.6e}\")\n",
    "        fout.write('\\n')\n",
    "    fout.close()"
   ]
  },
  {
   "cell_type": "markdown",
   "metadata": {},
   "source": [
    "创建train、validation、test的label文件"
   ]
  },
  {
   "cell_type": "code",
   "execution_count": 22,
   "metadata": {
    "ExecuteTime": {
     "end_time": "2022-05-28T03:44:46.977496Z",
     "start_time": "2022-05-28T03:44:46.964075Z"
    }
   },
   "outputs": [],
   "source": [
    "for k in range(len(t_v_t)):\n",
    "    file_label = index + '_' + label + '_' + t_v_t[k] + suffix\n",
    "    path_file_label = os.path.join(path_data, file_label)\n",
    "    fout = open(path_file_label,'w')\n",
    "    for i in range(array_label_tvt[k].shape[0]):\n",
    "        fout.write(f\"{array_label_tvt[k][i]}\\n\")\n",
    "    fout.close()"
   ]
  },
  {
   "cell_type": "code",
   "execution_count": null,
   "metadata": {},
   "outputs": [],
   "source": []
  }
 ],
 "metadata": {
  "colab": {
   "collapsed_sections": [],
   "name": "多元回归问题 0818",
   "provenance": [],
   "toc_visible": true
  },
  "kernelspec": {
   "display_name": "Python 3 (ipykernel)",
   "language": "python",
   "name": "python3"
  },
  "language_info": {
   "codemirror_mode": {
    "name": "ipython",
    "version": 3
   },
   "file_extension": ".py",
   "mimetype": "text/x-python",
   "name": "python",
   "nbconvert_exporter": "python",
   "pygments_lexer": "ipython3",
   "version": "3.9.12"
  },
  "toc": {
   "base_numbering": 1,
   "nav_menu": {},
   "number_sections": true,
   "sideBar": true,
   "skip_h1_title": false,
   "title_cell": "Table of Contents",
   "title_sidebar": "Contents",
   "toc_cell": false,
   "toc_position": {
    "height": "calc(100% - 180px)",
    "left": "10px",
    "top": "150px",
    "width": "230.4px"
   },
   "toc_section_display": true,
   "toc_window_display": true
  },
  "varInspector": {
   "cols": {
    "lenName": 16,
    "lenType": 16,
    "lenVar": 40
   },
   "kernels_config": {
    "python": {
     "delete_cmd_postfix": "",
     "delete_cmd_prefix": "del ",
     "library": "var_list.py",
     "varRefreshCmd": "print(var_dic_list())"
    },
    "r": {
     "delete_cmd_postfix": ") ",
     "delete_cmd_prefix": "rm(",
     "library": "var_list.r",
     "varRefreshCmd": "cat(var_dic_list()) "
    }
   },
   "types_to_exclude": [
    "module",
    "function",
    "builtin_function_or_method",
    "instance",
    "_Feature"
   ],
   "window_display": false
  }
 },
 "nbformat": 4,
 "nbformat_minor": 1
}
