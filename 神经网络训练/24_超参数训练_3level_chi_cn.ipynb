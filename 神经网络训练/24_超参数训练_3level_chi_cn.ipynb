{
 "cells": [
  {
   "cell_type": "markdown",
   "metadata": {},
   "source": [
    "## 本程序读取train、validation、test的feature、label文件（在“datasets”文件夹下），然后构建网络进行超参数训练。输出在文件夹“hyper-param_tuning”中。"
   ]
  },
  {
   "cell_type": "markdown",
   "metadata": {},
   "source": [
    "last update: 2021.9.7"
   ]
  },
  {
   "cell_type": "markdown",
   "metadata": {},
   "source": [
    "contacts：zhaohf@ihep.ac.cn"
   ]
  },
  {
   "cell_type": "markdown",
   "metadata": {},
   "source": [
    "# 配置环境"
   ]
  },
  {
   "cell_type": "markdown",
   "metadata": {},
   "source": [
    "## 导入所需模块"
   ]
  },
  {
   "cell_type": "code",
   "execution_count": 1,
   "metadata": {
    "ExecuteTime": {
     "end_time": "2021-12-17T13:37:11.701269Z",
     "start_time": "2021-12-17T13:37:10.639272Z"
    }
   },
   "outputs": [
    {
     "ename": "ModuleNotFoundError",
     "evalue": "No module named 'tensorflow'",
     "output_type": "error",
     "traceback": [
      "\u001b[1;31m---------------------------------------------------------------------------\u001b[0m",
      "\u001b[1;31mModuleNotFoundError\u001b[0m                       Traceback (most recent call last)",
      "\u001b[1;32m~\\AppData\\Local\\Temp/ipykernel_12532/4038678945.py\u001b[0m in \u001b[0;36m<module>\u001b[1;34m\u001b[0m\n\u001b[0;32m      7\u001b[0m \u001b[1;31m#\u001b[0m\u001b[1;33m\u001b[0m\u001b[1;33m\u001b[0m\u001b[0m\n\u001b[0;32m      8\u001b[0m \u001b[1;31m# TensorFlow ≥2.0 is required\u001b[0m\u001b[1;33m\u001b[0m\u001b[1;33m\u001b[0m\u001b[0m\n\u001b[1;32m----> 9\u001b[1;33m \u001b[1;32mimport\u001b[0m \u001b[0mtensorflow\u001b[0m \u001b[1;32mas\u001b[0m \u001b[0mtf\u001b[0m\u001b[1;33m\u001b[0m\u001b[1;33m\u001b[0m\u001b[0m\n\u001b[0m\u001b[0;32m     10\u001b[0m \u001b[1;32massert\u001b[0m \u001b[0mtf\u001b[0m\u001b[1;33m.\u001b[0m\u001b[0m__version__\u001b[0m \u001b[1;33m>=\u001b[0m \u001b[1;34m\"2.0\"\u001b[0m\u001b[1;33m\u001b[0m\u001b[1;33m\u001b[0m\u001b[0m\n\u001b[0;32m     11\u001b[0m \u001b[1;32mimport\u001b[0m \u001b[0msklearn\u001b[0m\u001b[1;33m\u001b[0m\u001b[1;33m\u001b[0m\u001b[0m\n",
      "\u001b[1;31mModuleNotFoundError\u001b[0m: No module named 'tensorflow'"
     ]
    }
   ],
   "source": [
    "import os\n",
    "import sys\n",
    "assert sys.version_info >= (3, 5)\n",
    "#\n",
    "import pandas as pd\n",
    "import numpy as np\n",
    "#\n",
    "# TensorFlow ≥2.0 is required\n",
    "import tensorflow as tf\n",
    "assert tf.__version__ >= \"2.0\"\n",
    "import sklearn\n",
    "\n",
    "from tensorflow import keras\n",
    "from tensorflow.keras import optimizers\n",
    "#\n",
    "# pydot_ng and graphviz are for tf.keras.utils.plot_model\n",
    "# note that installing pydot_ng is 'pydot-ng'\n",
    "# note that 在windows下不可以使用pip install graphviz 下载graphviz安装包，\n",
    "# 要去https://graphviz.gitlab.io/下载windows版本的安装包，安装好之后在环境变量中添加对应的路径即可！！！\n",
    "import graphviz\n",
    "import pydot\n",
    "import pydot_ng\n",
    "#\n",
    "import time"
   ]
  },
  {
   "cell_type": "markdown",
   "metadata": {},
   "source": [
    "输出导入模板的版本。"
   ]
  },
  {
   "cell_type": "code",
   "execution_count": 3,
   "metadata": {
    "ExecuteTime": {
     "end_time": "2021-09-07T00:34:57.347310Z",
     "start_time": "2021-09-07T00:34:57.343803Z"
    }
   },
   "outputs": [
    {
     "name": "stdout",
     "output_type": "stream",
     "text": [
      "python version: 3.8.8 (default, Apr 13 2021, 15:08:03) [MSC v.1916 64 bit (AMD64)]\n",
      "TensorFlow version: 2.5.0\n",
      "sciket learn version: 0.24.1\n",
      "numpy version: 1.19.5\n",
      "panda version: 1.2.4\n",
      "graphviz version: 0.17\n",
      "pydot version: 1.4.2\n",
      "pydot_ng version: 2.0.0\n"
     ]
    }
   ],
   "source": [
    "print('python version:',sys.version)\n",
    "print('TensorFlow version:',tf.__version__)\n",
    "print('sciket learn version:',sklearn.__version__)\n",
    "print('numpy version:',np.__version__)\n",
    "print('panda version:',pd.__version__)\n",
    "print('graphviz version:',graphviz.__version__)\n",
    "print('pydot version:',pydot.__version__)\n",
    "print('pydot_ng version:',pydot_ng.__version__)\n",
    "#\n",
    "#print('matplotlib version:',matplotlib.__version__)\n",
    "#print('time version:',time.__version__)"
   ]
  },
  {
   "cell_type": "markdown",
   "metadata": {},
   "source": [
    "## 配置输入文件夹"
   ]
  },
  {
   "cell_type": "markdown",
   "metadata": {},
   "source": [
    "设置train、validation、test的文件夹路径和文件名"
   ]
  },
  {
   "cell_type": "code",
   "execution_count": 11,
   "metadata": {
    "ExecuteTime": {
     "end_time": "2021-09-07T00:47:16.189564Z",
     "start_time": "2021-09-07T00:47:16.187057Z"
    }
   },
   "outputs": [],
   "source": [
    "dir_data = 'datasets'\n",
    "file_train = ['Au_chi_train.txt', 'Au_cn_train.txt']\n",
    "file_valid = ['Au_chi_valid.txt', 'Au_cn_valid.txt']\n",
    "file_test = ['Au_chi_test.txt', 'Au_cn_test.txt']"
   ]
  },
  {
   "cell_type": "markdown",
   "metadata": {},
   "source": [
    "## 配置输出文件夹"
   ]
  },
  {
   "cell_type": "markdown",
   "metadata": {},
   "source": [
    "所有输出文件都保存在一个文件夹内"
   ]
  },
  {
   "cell_type": "code",
   "execution_count": 4,
   "metadata": {
    "ExecuteTime": {
     "end_time": "2021-09-07T00:39:46.359523Z",
     "start_time": "2021-09-07T00:39:46.357054Z"
    }
   },
   "outputs": [],
   "source": [
    "dir_output = 'hyper-param_tuning'"
   ]
  },
  {
   "cell_type": "markdown",
   "metadata": {},
   "source": [
    "设置文件夹放置模型"
   ]
  },
  {
   "cell_type": "code",
   "execution_count": 5,
   "metadata": {
    "ExecuteTime": {
     "end_time": "2021-09-07T00:39:48.894930Z",
     "start_time": "2021-09-07T00:39:48.891947Z"
    }
   },
   "outputs": [],
   "source": [
    "#dir_model = 'model'\n",
    "dir_model = dir_output\n",
    "path_model = os.path.join(os.curdir, dir_model)\n",
    "os.makedirs(path_model, exist_ok=True)"
   ]
  },
  {
   "cell_type": "markdown",
   "metadata": {},
   "source": [
    "设置文件夹放置图片"
   ]
  },
  {
   "cell_type": "code",
   "execution_count": 6,
   "metadata": {
    "ExecuteTime": {
     "end_time": "2021-09-07T00:39:58.513599Z",
     "start_time": "2021-09-07T00:39:58.510551Z"
    }
   },
   "outputs": [],
   "source": [
    "#dir_images = 'images'\n",
    "dir_images = dir_output\n",
    "path_images = os.path.join(os.curdir, dir_images)\n",
    "os.makedirs(path_images, exist_ok=True)"
   ]
  },
  {
   "cell_type": "markdown",
   "metadata": {},
   "source": [
    "设置文件夹放置分析结果"
   ]
  },
  {
   "cell_type": "code",
   "execution_count": 7,
   "metadata": {
    "ExecuteTime": {
     "end_time": "2021-09-07T00:40:25.583066Z",
     "start_time": "2021-09-07T00:40:25.580023Z"
    }
   },
   "outputs": [],
   "source": [
    "#dir_ana = 'analysis'\n",
    "dir_ana = dir_output\n",
    "path_ana = os.path.join(os.curdir, dir_ana)\n",
    "os.makedirs(path_ana, exist_ok=True)"
   ]
  },
  {
   "cell_type": "markdown",
   "metadata": {},
   "source": [
    "设置文件夹放置预测结果"
   ]
  },
  {
   "cell_type": "code",
   "execution_count": 43,
   "metadata": {
    "ExecuteTime": {
     "end_time": "2021-09-07T11:21:35.323894Z",
     "start_time": "2021-09-07T11:21:35.320867Z"
    }
   },
   "outputs": [],
   "source": [
    "#dir_pre = 'data'\n",
    "dir_pre = dir_output\n",
    "path_pre = os.path.join(os.curdir, dir_pre)\n",
    "os.makedirs(path_pre, exist_ok=True)"
   ]
  },
  {
   "cell_type": "markdown",
   "metadata": {},
   "source": [
    "设置日志文件的文件夹，为TensorBoard使用。"
   ]
  },
  {
   "cell_type": "code",
   "execution_count": 8,
   "metadata": {
    "ExecuteTime": {
     "end_time": "2021-09-07T00:41:35.761793Z",
     "start_time": "2021-09-07T00:41:35.758273Z"
    }
   },
   "outputs": [],
   "source": [
    "# 设置日志文件的文件夹\n",
    "root_logdir = os.path.join(os.curdir, \"my_logs\")\n",
    "#print(root_logdir)\n",
    "#\n",
    "def get_run_logdir():\n",
    "#    import time\n",
    "    run_id = time.strftime(\"run_%Y_%m_%d-%H_%M_%S\")\n",
    "    return os.path.join(root_logdir, run_id)"
   ]
  },
  {
   "cell_type": "markdown",
   "metadata": {},
   "source": [
    "  确保绘制的图形美观、能保存下来。"
   ]
  },
  {
   "cell_type": "code",
   "execution_count": 9,
   "metadata": {
    "ExecuteTime": {
     "end_time": "2021-09-07T00:43:18.914452Z",
     "start_time": "2021-09-07T00:43:18.630477Z"
    }
   },
   "outputs": [],
   "source": [
    "# To plot pretty figures\n",
    "# %matplotlib具体作用是调用matplotlib.pyplot的绘图函数plot()进行绘图时，\n",
    "# 或生成一个figure画布时，可以直接在你的python console里面生成图像。\n",
    "%matplotlib inline\n",
    "import matplotlib as mpl\n",
    "import matplotlib.pyplot as plt\n",
    "mpl.rc('axes', labelsize=14)   # matplotlib.rc 什么意思没找到\n",
    "mpl.rc('xtick', labelsize=12)\n",
    "mpl.rc('ytick', labelsize=12)\n",
    "\n",
    "# Where to save the figures\n",
    "#PROJECT_ROOT_DIR = \".\"\n",
    "#path_images = os.path.join(PROJECT_ROOT_DIR, \"images\")\n",
    "#os.makedirs(path_images, exist_ok=True)\n",
    "\n",
    "def save_fig(fig_id, path_fig = path_images, tight_layout=True, fig_extension=\"png\", resolution=300):\n",
    "    path = os.path.join(path_fig, fig_id + \".\" + fig_extension)\n",
    "    print(\"Saving figure\", fig_id)\n",
    "    if tight_layout:\n",
    "        plt.tight_layout()\n",
    "    plt.savefig(path, format=fig_extension, dpi=resolution)\n",
    "\n",
    "# Ignore useless warnings (see SciPy issue #5998)\n",
    "import warnings\n",
    "warnings.filterwarnings(action=\"ignore\", message=\"^internal gelsd\")"
   ]
  },
  {
   "cell_type": "markdown",
   "metadata": {},
   "source": [
    "## 设置label标签，用于后面模型训练、绘图"
   ]
  },
  {
   "cell_type": "code",
   "execution_count": 12,
   "metadata": {
    "ExecuteTime": {
     "end_time": "2021-09-07T00:48:53.604238Z",
     "start_time": "2021-09-07T00:48:53.602233Z"
    }
   },
   "outputs": [],
   "source": [
    "label_index = 'CN'"
   ]
  },
  {
   "cell_type": "markdown",
   "metadata": {},
   "source": [
    "# 正文"
   ]
  },
  {
   "cell_type": "markdown",
   "metadata": {},
   "source": [
    "## 确定当前目录和工作目录"
   ]
  },
  {
   "cell_type": "code",
   "execution_count": 10,
   "metadata": {
    "ExecuteTime": {
     "end_time": "2021-09-07T00:43:25.383130Z",
     "start_time": "2021-09-07T00:43:25.378117Z"
    }
   },
   "outputs": [
    {
     "data": {
      "text/plain": [
       "'D:\\\\haifeng\\\\work_20210709\\\\ML+XAS\\\\code\\\\neural network module\\\\latest'"
      ]
     },
     "execution_count": 10,
     "metadata": {},
     "output_type": "execute_result"
    }
   ],
   "source": [
    "import os\n",
    "path = os.path.abspath(os.curdir)\n",
    "path"
   ]
  },
  {
   "cell_type": "markdown",
   "metadata": {},
   "source": [
    "## 检查输入文件是否存在"
   ]
  },
  {
   "cell_type": "code",
   "execution_count": 13,
   "metadata": {
    "ExecuteTime": {
     "end_time": "2021-09-07T00:49:36.604717Z",
     "start_time": "2021-09-07T00:49:36.600707Z"
    }
   },
   "outputs": [],
   "source": [
    "path_dir_data = os.path.join(path,dir_data)\n",
    "file_data = file_train + file_valid + file_test\n",
    "#\n",
    "for i in range(len(file_data)):\n",
    "    path_file = os.path.join(path_dir_data,file_data[i])\n",
    "#\n",
    "# 检查csv是否存在，若不存在，报错\n",
    "    exist = os.path.exists(path_file)\n",
    "    if not exist:\n",
    "        print()\n",
    "        print(f\"** Error!! cannot find file {file_data[i]} in directory {dir_data}! **\")\n",
    "        print()\n",
    "        sys.exit()"
   ]
  },
  {
   "cell_type": "markdown",
   "metadata": {},
   "source": [
    "## 读取train、valid等文件，制成数据集。"
   ]
  },
  {
   "cell_type": "code",
   "execution_count": 14,
   "metadata": {
    "ExecuteTime": {
     "end_time": "2021-09-07T00:49:43.973797Z",
     "start_time": "2021-09-07T00:49:41.625488Z"
    }
   },
   "outputs": [],
   "source": [
    "import pandas as pd\n",
    "for i in range(len(file_data)):\n",
    "    path_file = os.path.join(path_dir_data,file_data[i])\n",
    "#   df.values, df.as_matrix() and np.array(df) all works.\n",
    "    data_df = pd.read_csv(path_file,header=None,delim_whitespace=True)\n",
    "#\n",
    "    if i == 0 : feature_train = data_df.values\n",
    "    if i == 1 : label_train = data_df.values\n",
    "    if i == 2 : feature_valid = data_df.values\n",
    "    if i == 3 : label_valid = data_df.values\n",
    "    if i == 4 : feature_test = data_df.values\n",
    "    if i == 5 : label_test = data_df.values"
   ]
  },
  {
   "cell_type": "code",
   "execution_count": 15,
   "metadata": {
    "ExecuteTime": {
     "end_time": "2021-09-07T00:49:47.501404Z",
     "start_time": "2021-09-07T00:49:47.498397Z"
    }
   },
   "outputs": [
    {
     "name": "stdout",
     "output_type": "stream",
     "text": [
      "(4176, 400) (4176, 1)\n",
      "(1193, 400) (1193, 1)\n",
      "(597, 400) (597, 1)\n"
     ]
    }
   ],
   "source": [
    "print(feature_train.shape, label_train.shape)\n",
    "print(feature_valid.shape, label_valid.shape)\n",
    "print(feature_test.shape, label_test.shape)"
   ]
  },
  {
   "cell_type": "code",
   "execution_count": 16,
   "metadata": {
    "ExecuteTime": {
     "end_time": "2021-09-07T00:49:53.473940Z",
     "start_time": "2021-09-07T00:49:53.469434Z"
    }
   },
   "outputs": [
    {
     "data": {
      "text/plain": [
       "array([[ 3.204381e-01,  3.179742e-01,  3.107868e-01, ...,  1.588940e-06,\n",
       "         1.217988e-06,  8.223206e-07],\n",
       "       [ 2.272433e-01,  2.254551e-01,  2.202515e-01, ..., -1.081169e-06,\n",
       "        -1.537145e-06, -1.827965e-06],\n",
       "       [ 2.434066e-01,  2.416660e-01,  2.365912e-01, ...,  1.017455e-06,\n",
       "         9.860825e-07,  8.813536e-07],\n",
       "       ...,\n",
       "       [ 2.441422e-01,  2.422082e-01,  2.365669e-01, ..., -1.025576e-06,\n",
       "        -8.874537e-07, -7.067118e-07],\n",
       "       [ 7.773254e-02,  7.687764e-02,  7.436020e-02, ...,  3.263314e-07,\n",
       "         2.805082e-07,  2.240872e-07],\n",
       "       [ 3.252115e-01,  3.225673e-01,  3.148726e-01, ...,  7.640049e-07,\n",
       "         1.259443e-06,  1.596963e-06]])"
      ]
     },
     "execution_count": 16,
     "metadata": {},
     "output_type": "execute_result"
    }
   ],
   "source": [
    "feature_train"
   ]
  },
  {
   "cell_type": "code",
   "execution_count": 17,
   "metadata": {
    "ExecuteTime": {
     "end_time": "2021-09-07T00:50:21.772610Z",
     "start_time": "2021-09-07T00:50:21.769101Z"
    }
   },
   "outputs": [
    {
     "data": {
      "text/plain": [
       "array([[ 8],\n",
       "       [ 9],\n",
       "       [ 8],\n",
       "       ...,\n",
       "       [12],\n",
       "       [12],\n",
       "       [ 8]], dtype=int64)"
      ]
     },
     "execution_count": 17,
     "metadata": {},
     "output_type": "execute_result"
    }
   ],
   "source": [
    "label_valid"
   ]
  },
  {
   "cell_type": "markdown",
   "metadata": {},
   "source": [
    "设置网络训练参数值，输入数组维数"
   ]
  },
  {
   "cell_type": "code",
   "execution_count": 18,
   "metadata": {
    "ExecuteTime": {
     "end_time": "2021-09-07T00:50:25.254699Z",
     "start_time": "2021-09-07T00:50:25.250646Z"
    }
   },
   "outputs": [
    {
     "data": {
      "text/plain": [
       "(400,)"
      ]
     },
     "execution_count": 18,
     "metadata": {},
     "output_type": "execute_result"
    }
   ],
   "source": [
    "input_shape = feature_train.shape[1:]\n",
    "input_shape"
   ]
  },
  {
   "cell_type": "markdown",
   "metadata": {},
   "source": [
    "## 构建模型（神经网络），进行超参数调节"
   ]
  },
  {
   "cell_type": "markdown",
   "metadata": {},
   "source": [
    "### 模型1"
   ]
  },
  {
   "cell_type": "markdown",
   "metadata": {},
   "source": [
    "#### 参量设置"
   ]
  },
  {
   "cell_type": "markdown",
   "metadata": {},
   "source": [
    "输入超参数训练模型的关键词，用于命名给出训练过程信息的文件名"
   ]
  },
  {
   "cell_type": "code",
   "execution_count": 19,
   "metadata": {
    "ExecuteTime": {
     "end_time": "2021-09-07T00:50:50.206844Z",
     "start_time": "2021-09-07T00:50:50.204364Z"
    }
   },
   "outputs": [],
   "source": [
    "model_pre = 'au150_DW_cn_3level_neuron'"
   ]
  },
  {
   "cell_type": "code",
   "execution_count": 20,
   "metadata": {
    "ExecuteTime": {
     "end_time": "2021-09-07T00:50:58.800871Z",
     "start_time": "2021-09-07T00:50:58.796880Z"
    }
   },
   "outputs": [],
   "source": [
    "import time\n",
    "model_time = time.strftime(\"run_%Y_%m_%d-%H_%M_%S\")\n",
    "model_pre_time = model_pre + '_' + model_time\n",
    "path_plot = os.path.join(path_images, model_pre_time)\n",
    "os.makedirs(path_plot, exist_ok=True)"
   ]
  },
  {
   "cell_type": "code",
   "execution_count": 21,
   "metadata": {
    "ExecuteTime": {
     "end_time": "2021-09-07T00:51:16.433452Z",
     "start_time": "2021-09-07T00:51:16.430946Z"
    }
   },
   "outputs": [],
   "source": [
    "file_fitinfo =  model_pre_time + '_fitinfo.txt'\n",
    "path_fitinfo = os.path.join(path_ana,file_fitinfo)"
   ]
  },
  {
   "cell_type": "code",
   "execution_count": 22,
   "metadata": {
    "ExecuteTime": {
     "end_time": "2021-09-07T00:51:21.196418Z",
     "start_time": "2021-09-07T00:51:21.193411Z"
    }
   },
   "outputs": [
    {
     "name": "stdout",
     "output_type": "stream",
     "text": [
      "Model : au150_DW_cn_3level_neuron\n"
     ]
    }
   ],
   "source": [
    "fout = open(path_fitinfo,'w')\n",
    "print(f\"Model : {model_pre}\")\n",
    "print(f\"Model : {model_pre}\", file=fout)"
   ]
  },
  {
   "cell_type": "code",
   "execution_count": 23,
   "metadata": {
    "ExecuteTime": {
     "end_time": "2021-09-07T00:51:26.783706Z",
     "start_time": "2021-09-07T00:51:26.781703Z"
    }
   },
   "outputs": [],
   "source": [
    "# Set random seed to be used as argument for other functions.\n",
    "rseed = 42"
   ]
  },
  {
   "cell_type": "code",
   "execution_count": 24,
   "metadata": {
    "ExecuteTime": {
     "end_time": "2021-09-07T00:51:33.535737Z",
     "start_time": "2021-09-07T00:51:33.532228Z"
    }
   },
   "outputs": [
    {
     "name": "stdout",
     "output_type": "stream",
     "text": [
      "===================================\n",
      "rseed : 42\n",
      "Time : run_2021_09_07-08_50_58\n"
     ]
    }
   ],
   "source": [
    "print(f\"===================================\")\n",
    "print(f\"\\n===================================\", file=fout)\n",
    "print(f\"rseed : {rseed}\")\n",
    "print(f\"rseed : {rseed}\",file=fout)\n",
    "print(f\"Time : {model_time}\")\n",
    "print(f\"Time : {model_time}\",file=fout)"
   ]
  },
  {
   "cell_type": "code",
   "execution_count": 25,
   "metadata": {
    "ExecuteTime": {
     "end_time": "2021-09-07T00:51:49.767260Z",
     "start_time": "2021-09-07T00:51:49.751682Z"
    }
   },
   "outputs": [],
   "source": [
    "import tensorflow as tf\n",
    "assert tf.__version__ >= \"2.0\"\n",
    "from tensorflow import keras\n",
    "from tensorflow.keras import optimizers\n",
    "keras.backend.clear_session()\n",
    "np.random.seed(rseed)\n",
    "tf.random.set_seed(rseed)"
   ]
  },
  {
   "cell_type": "code",
   "execution_count": 26,
   "metadata": {
    "ExecuteTime": {
     "end_time": "2021-09-07T00:51:52.843260Z",
     "start_time": "2021-09-07T00:51:52.839250Z"
    }
   },
   "outputs": [
    {
     "data": {
      "text/plain": [
       "'.\\\\my_logs\\\\run_2021_09_07-08_51_52'"
      ]
     },
     "execution_count": 26,
     "metadata": {},
     "output_type": "execute_result"
    }
   ],
   "source": [
    "run_logdir = get_run_logdir()\n",
    "run_logdir"
   ]
  },
  {
   "cell_type": "markdown",
   "metadata": {},
   "source": [
    "#### 构建模型"
   ]
  },
  {
   "cell_type": "code",
   "execution_count": 27,
   "metadata": {
    "ExecuteTime": {
     "end_time": "2021-09-07T00:52:29.034974Z",
     "start_time": "2021-09-07T00:52:29.030964Z"
    }
   },
   "outputs": [],
   "source": [
    "def build_model(N1 = 400,\n",
    "                N2 = 200,\n",
    "                N3 = 20,\n",
    "                activation = 'relu',\n",
    "#                learning_rate = 3e-3,\n",
    "                input_shape=input_shape):\n",
    "#\n",
    "    model = keras.models.Sequential()\n",
    "#\n",
    "    model.add(keras.layers.Flatten(input_shape=input_shape))\n",
    "    model.add(keras.layers.Dense(N1, activation=activation))\n",
    "    model.add(keras.layers.Dense(N2, activation=activation))\n",
    "    model.add(keras.layers.Dense(N3, activation=activation))\n",
    "    model.add(keras.layers.Dense(1, activation=activation))\n",
    "#\n",
    "#    optimizer = keras.optimizers.SGD(lr=learning_rate)\n",
    "#    optimizer = tf.keras.optimizers.RMSprop(learning_rate=0.001, rho=0.9, momentum=0.0, epsilon=1e-07, centered=False,name='RMSprop')\n",
    "#    model.compile(loss=\"mse\", optimizer=optimizer)\n",
    "    model.compile(loss=\"mse\", optimizer='rmsprop')\n",
    "    return model"
   ]
  },
  {
   "cell_type": "markdown",
   "metadata": {},
   "source": [
    "用函数 build_model() 创建一个 KerasRegressor，它通过 build_model() 将Keras模型包装起来的。"
   ]
  },
  {
   "cell_type": "code",
   "execution_count": 28,
   "metadata": {
    "ExecuteTime": {
     "end_time": "2021-09-07T00:52:33.784963Z",
     "start_time": "2021-09-07T00:52:33.782476Z"
    }
   },
   "outputs": [],
   "source": [
    "keras_reg = keras.wrappers.scikit_learn.KerasRegressor(build_model)"
   ]
  },
  {
   "cell_type": "markdown",
   "metadata": {},
   "source": [
    "注意！不要将类似“\"N1\": range(1, 600)”写成“\"N1\": np.arange(1, 600)”或“\"N1\": list(np.range(1, 600))”的情况，不然在fit的结尾，会出现如下问题："
   ]
  },
  {
   "cell_type": "markdown",
   "metadata": {},
   "source": [
    "而且“model = rnd_search_cv.best_estimator_.model”等无法加载。\n",
    "但需要指出，最后的“rnd_search_cv.best_params_”等是一样的"
   ]
  },
  {
   "cell_type": "code",
   "execution_count": 29,
   "metadata": {
    "ExecuteTime": {
     "end_time": "2021-09-07T01:08:09.750206Z",
     "start_time": "2021-09-07T01:08:09.655411Z"
    }
   },
   "outputs": [],
   "source": [
    "from scipy.stats import reciprocal\n",
    "from sklearn.model_selection import RandomizedSearchCV\n",
    "from sklearn.metrics import classification_report\n",
    "\n",
    "param_distribs = {\n",
    "#    \"kernel_size\": [3, 4, 5, 6],\n",
    "#    \"padding\" = ['valid', 'SAME'],\n",
    "#    \"n_hidden\": [0, 1, 2, 3],\n",
    "#    \"activation\": ['relu','softmax'],\n",
    "    \"N1\": range(10, 600, 10),\n",
    "    \"N2\": range(10, 600, 10),\n",
    "    \"N3\": range(10, 600, 10)\n",
    "#    \"learning_rate\": reciprocal(3e-4, 3e-2),\n",
    "}\n",
    "\n",
    "# n_iter=300，训练300次，数值越大，获得的参数精度越大，但是搜索时间越长\n",
    "# cv 训练集与验证集的比值\n",
    "# verbose=0，不打印任何训练过程信息；verbose=1，打印进度条；verbose=2，每一个epoch打印一次。\n",
    "# n_jobs = -1，使用所有的CPU进行训练，默认为1，使用1个CPU\n",
    "#rnd_search_cv = RandomizedSearchCV(keras_reg, param_distribs, n_iter=20, cv=3, verbose=2, n_jobs=-1)\n",
    "rnd_search_cv = RandomizedSearchCV(keras_reg, param_distribs, n_iter=20, verbose=1, n_jobs=-1)\n",
    "#rnd_search_cv = RandomizedSearchCV(keras_reg, param_distribs, n_iter=20, verbose=1)"
   ]
  },
  {
   "cell_type": "markdown",
   "metadata": {},
   "source": [
    "#### 开始拟合"
   ]
  },
  {
   "cell_type": "code",
   "execution_count": 30,
   "metadata": {
    "ExecuteTime": {
     "end_time": "2021-09-07T01:59:32.638437Z",
     "start_time": "2021-09-07T01:09:43.913195Z"
    }
   },
   "outputs": [
    {
     "name": "stdout",
     "output_type": "stream",
     "text": [
      "Fitting 5 folds for each of 20 candidates, totalling 100 fits\n"
     ]
    },
    {
     "name": "stderr",
     "output_type": "stream",
     "text": [
      "C:\\ProgramData\\Anaconda3\\lib\\site-packages\\sklearn\\model_selection\\_search.py:918: UserWarning: One or more of the test scores are non-finite: [         nan -18.32092522          nan -36.11937456          nan\n",
      " -18.02869737 -36.10222878          nan -36.03232981 -36.19578846\n",
      " -36.03215091 -18.1470016  -18.25681961  -0.30155271          nan\n",
      " -36.14840611 -36.00196541 -18.33551311 -54.09905769  -0.35488775]\n",
      "  warnings.warn(\n"
     ]
    },
    {
     "data": {
      "text/plain": [
       "RandomizedSearchCV(estimator=<tensorflow.python.keras.wrappers.scikit_learn.KerasRegressor object at 0x0000023809D50250>,\n",
       "                   n_iter=20, n_jobs=-1,\n",
       "                   param_distributions={'N1': range(10, 600, 10),\n",
       "                                        'N2': range(10, 600, 10),\n",
       "                                        'N3': range(10, 600, 10)},\n",
       "                   verbose=1)"
      ]
     },
     "execution_count": 30,
     "metadata": {},
     "output_type": "execute_result"
    }
   ],
   "source": [
    "#将训练最好的模型保存下来\n",
    "model_saved_best = os.path.join(path_model, model_pre_time + \".h5\")\n",
    "#\n",
    "rnd_search_cv.fit(feature_train,label_train,epochs=200,\n",
    "                  validation_data=(feature_valid,label_valid),\n",
    "                  callbacks=[keras.callbacks.ModelCheckpoint(model_saved_best, save_best_only=True),\n",
    "                             keras.callbacks.EarlyStopping(patience=20, restore_best_weights=True),\n",
    "                             keras.callbacks.TensorBoard(run_logdir)\n",
    "                            ],\n",
    "                  verbose=0)"
   ]
  },
  {
   "cell_type": "markdown",
   "metadata": {},
   "source": [
    "executed in 38m 36s, finished 14:49:36 2021-03-01\n",
    "Fitting 5 folds for each of 20 candidates, totalling 100 fits\n",
    "[Parallel(n_jobs=-1)]: Using backend LokyBackend with 8 concurrent workers.\n",
    "[Parallel(n_jobs=-1)]: Done  25 tasks      | elapsed: 10.3min\n",
    "[Parallel(n_jobs=-1)]: Done 100 out of 100 | elapsed: 37.9min finished\n",
    "RandomizedSearchCV(estimator=<tensorflow.python.keras.wrappers.scikit_learn.KerasRegressor object at 0x0000029136552640>,\n",
    "                   n_iter=20, n_jobs=-1,\n",
    "                   param_distributions={'N1': range(1, 600),\n",
    "                                        'N2': range(1, 600),\n",
    "                                        'N3': range(1, 600)},\n",
    "                   verbose=2)"
   ]
  },
  {
   "cell_type": "markdown",
   "metadata": {},
   "source": [
    "#### 给出拟合结果"
   ]
  },
  {
   "cell_type": "code",
   "execution_count": 31,
   "metadata": {
    "ExecuteTime": {
     "end_time": "2021-09-07T02:08:13.176459Z",
     "start_time": "2021-09-07T02:08:13.172986Z"
    }
   },
   "outputs": [
    {
     "name": "stdout",
     "output_type": "stream",
     "text": [
      "Best parameters : {'N3': 580, 'N2': 570, 'N1': 550}\n"
     ]
    }
   ],
   "source": [
    "# Parameter setting that gave the best results on the hold out data.\n",
    "#rnd_search_cv.best_params_\n",
    "print(f\"Best parameters : {rnd_search_cv.best_params_}\")\n",
    "print(f\"\\nBest parameters : {rnd_search_cv.best_params_}\",file=fout)"
   ]
  },
  {
   "cell_type": "code",
   "execution_count": 32,
   "metadata": {
    "ExecuteTime": {
     "end_time": "2021-09-07T02:08:24.078003Z",
     "start_time": "2021-09-07T02:08:24.074494Z"
    }
   },
   "outputs": [
    {
     "data": {
      "text/plain": [
       "<tensorflow.python.keras.wrappers.scikit_learn.KerasRegressor at 0x2380a14e700>"
      ]
     },
     "execution_count": 32,
     "metadata": {},
     "output_type": "execute_result"
    }
   ],
   "source": [
    "# 返回最优的训练器\n",
    "# Estimator that was chosen by the search, i.e. estimator which gave highest score (or smallest loss if specified) on the left out data.\n",
    "rnd_search_cv.best_estimator_"
   ]
  },
  {
   "cell_type": "code",
   "execution_count": 33,
   "metadata": {
    "ExecuteTime": {
     "end_time": "2021-09-07T02:08:29.416006Z",
     "start_time": "2021-09-07T02:08:29.412996Z"
    }
   },
   "outputs": [
    {
     "name": "stdout",
     "output_type": "stream",
     "text": [
      "Best score : -0.3015527129173279\n"
     ]
    }
   ],
   "source": [
    "# Mean cross-validated score of the best_estimator.\n",
    "#rnd_search_cv.best_score_\n",
    "print(f\"Best score : {rnd_search_cv.best_score_}\")\n",
    "print(f\"\\nBest score : {rnd_search_cv.best_score_}\",file=fout)"
   ]
  },
  {
   "cell_type": "markdown",
   "metadata": {},
   "source": [
    "Best score : -0.282334824403127"
   ]
  },
  {
   "cell_type": "markdown",
   "metadata": {},
   "source": [
    "Best score = -0.2784130076567332"
   ]
  },
  {
   "cell_type": "markdown",
   "metadata": {},
   "source": [
    "原来是-0.0010918860401337345"
   ]
  },
  {
   "cell_type": "markdown",
   "metadata": {},
   "source": [
    "#### 输出拟合日志文件"
   ]
  },
  {
   "cell_type": "code",
   "execution_count": 34,
   "metadata": {
    "ExecuteTime": {
     "end_time": "2021-09-07T02:08:45.568519Z",
     "start_time": "2021-09-07T02:08:45.556488Z"
    }
   },
   "outputs": [
    {
     "data": {
      "text/plain": [
       "3"
      ]
     },
     "execution_count": 34,
     "metadata": {},
     "output_type": "execute_result"
    }
   ],
   "source": [
    "# rnd_search_cv.cv_results_ 是选择参数的日志信息\n",
    "cv_result = pd.DataFrame.from_dict( rnd_search_cv.cv_results_)\n",
    "file_fit_csv = model_pre_time + '_fit.csv'\n",
    "path_fit_csv = os.path.join(path_ana, file_fit_csv)\n",
    "with open(path_fit_csv,'w') as f: cv_result.to_csv(f)\n",
    "3#print(rnd_search_cv.cv_results_)"
   ]
  },
  {
   "cell_type": "code",
   "execution_count": 35,
   "metadata": {
    "ExecuteTime": {
     "end_time": "2021-09-07T02:08:51.438527Z",
     "start_time": "2021-09-07T02:08:51.436046Z"
    }
   },
   "outputs": [
    {
     "name": "stdout",
     "output_type": "stream",
     "text": [
      "Refit time (s) : 152.54528427124023\n"
     ]
    }
   ],
   "source": [
    "# Seconds used for refitting the best model on the whole dataset.\n",
    "#rnd_search_cv.refit_time_\n",
    "print(f\"Refit time (s) : {rnd_search_cv.refit_time_}\")\n",
    "print(f\"\\nRefit time (s) : {rnd_search_cv.refit_time_}\",file=fout)"
   ]
  },
  {
   "cell_type": "code",
   "execution_count": 34,
   "metadata": {
    "ExecuteTime": {
     "end_time": "2021-03-01T06:49:36.985062Z",
     "start_time": "2021-03-01T06:49:36.969208Z"
    }
   },
   "outputs": [],
   "source": [
    "#y_pred_array = rnd_search_cv.predict(feature_test) # 预测结果\n",
    "#print(classification_report( y_true=label_test, y_pred=y_pred_array ))"
   ]
  },
  {
   "cell_type": "markdown",
   "metadata": {},
   "source": [
    "#### 用给出的最佳（参数）模型对test数据集进行预测"
   ]
  },
  {
   "cell_type": "code",
   "execution_count": 36,
   "metadata": {
    "ExecuteTime": {
     "end_time": "2021-09-07T02:09:19.374693Z",
     "start_time": "2021-09-07T02:09:19.371185Z"
    }
   },
   "outputs": [
    {
     "data": {
      "text/plain": [
       "<tensorflow.python.keras.engine.sequential.Sequential at 0x2380a106fd0>"
      ]
     },
     "execution_count": 36,
     "metadata": {},
     "output_type": "execute_result"
    }
   ],
   "source": [
    "model0 = rnd_search_cv.best_estimator_.model\n",
    "model0"
   ]
  },
  {
   "cell_type": "markdown",
   "metadata": {},
   "source": [
    "查看预测结果"
   ]
  },
  {
   "cell_type": "code",
   "execution_count": 37,
   "metadata": {
    "ExecuteTime": {
     "end_time": "2021-09-07T02:09:40.516810Z",
     "start_time": "2021-09-07T02:09:40.398483Z"
    },
    "scrolled": true
   },
   "outputs": [
    {
     "name": "stdout",
     "output_type": "stream",
     "text": [
      "19/19 [==============================] - 0s 3ms/step - loss: 0.3205\n"
     ]
    },
    {
     "data": {
      "text/plain": [
       "0.3204747438430786"
      ]
     },
     "execution_count": 37,
     "metadata": {},
     "output_type": "execute_result"
    }
   ],
   "source": [
    "model0.evaluate(feature_test, label_test)"
   ]
  },
  {
   "cell_type": "markdown",
   "metadata": {},
   "source": [
    "19/19 [==============================] - 0s 780us/step - loss: 0.2871\n",
    "0.28713077306747437"
   ]
  },
  {
   "cell_type": "markdown",
   "metadata": {},
   "source": [
    "19/19 [==============================] - 0s 1ms/step - loss: 89.5477\n",
    "89.54773712158203"
   ]
  },
  {
   "cell_type": "markdown",
   "metadata": {},
   "source": [
    "19/19 [==============================] - 0s 891us/step - loss: 0.2962\n",
    "0.2962176203727722"
   ]
  },
  {
   "cell_type": "markdown",
   "metadata": {},
   "source": [
    "rnd_search_cv.predict(feature_test) works as rnd_search_cv.best_estimator_.model.predict(feature_test)"
   ]
  },
  {
   "cell_type": "code",
   "execution_count": 38,
   "metadata": {
    "ExecuteTime": {
     "end_time": "2021-09-07T02:09:50.714722Z",
     "start_time": "2021-09-07T02:09:50.550767Z"
    },
    "scrolled": true
   },
   "outputs": [
    {
     "data": {
      "text/plain": [
       "array([[ 8.277572 ],\n",
       "       [ 8.196247 ],\n",
       "       [ 7.9759154],\n",
       "       [ 7.4522448],\n",
       "       [ 5.9448752],\n",
       "       [11.466561 ],\n",
       "       [ 9.088181 ],\n",
       "       [12.80579  ],\n",
       "       [11.803331 ],\n",
       "       [ 7.770665 ],\n",
       "       [ 7.251605 ],\n",
       "       [14.5755625],\n",
       "       [11.562111 ],\n",
       "       [ 5.9306636],\n",
       "       [12.212166 ],\n",
       "       [11.805087 ],\n",
       "       [ 9.057611 ],\n",
       "       [ 4.7563505],\n",
       "       [11.336695 ],\n",
       "       [11.98055  ],\n",
       "       [ 8.210878 ],\n",
       "       [ 7.688798 ],\n",
       "       [ 7.924697 ],\n",
       "       [ 7.728961 ],\n",
       "       [ 5.445059 ],\n",
       "       [11.612305 ],\n",
       "       [ 7.286895 ],\n",
       "       [13.288922 ],\n",
       "       [ 7.796979 ],\n",
       "       [ 7.9255476],\n",
       "       [12.556916 ],\n",
       "       [11.843674 ],\n",
       "       [11.864285 ],\n",
       "       [ 8.000217 ],\n",
       "       [ 5.980237 ],\n",
       "       [14.735621 ],\n",
       "       [ 9.270783 ],\n",
       "       [ 6.7726464],\n",
       "       [ 7.9731593],\n",
       "       [12.133048 ],\n",
       "       [12.231118 ],\n",
       "       [ 6.727536 ],\n",
       "       [ 7.822253 ],\n",
       "       [ 9.157296 ],\n",
       "       [11.720641 ],\n",
       "       [12.230541 ],\n",
       "       [12.602926 ],\n",
       "       [ 8.290425 ],\n",
       "       [12.0446   ],\n",
       "       [11.5998955],\n",
       "       [ 6.0811653],\n",
       "       [ 6.587636 ],\n",
       "       [12.029364 ],\n",
       "       [12.023058 ],\n",
       "       [ 7.907463 ],\n",
       "       [ 6.1206117],\n",
       "       [11.906397 ],\n",
       "       [ 5.360452 ],\n",
       "       [ 6.5172358],\n",
       "       [ 6.9624133],\n",
       "       [12.297968 ],\n",
       "       [ 8.575788 ],\n",
       "       [ 7.446893 ],\n",
       "       [ 4.9995303],\n",
       "       [ 7.9118705],\n",
       "       [ 5.9904037],\n",
       "       [ 5.9866714],\n",
       "       [ 7.917532 ],\n",
       "       [11.601578 ],\n",
       "       [11.983786 ],\n",
       "       [12.143057 ],\n",
       "       [ 5.946422 ],\n",
       "       [ 9.058939 ],\n",
       "       [11.756533 ],\n",
       "       [ 7.8692384],\n",
       "       [10.164847 ],\n",
       "       [ 7.9596114],\n",
       "       [12.115836 ],\n",
       "       [ 8.180129 ],\n",
       "       [ 6.005761 ],\n",
       "       [11.871177 ],\n",
       "       [ 5.207309 ],\n",
       "       [ 6.526548 ],\n",
       "       [ 6.9120274],\n",
       "       [11.784115 ],\n",
       "       [10.48502  ],\n",
       "       [12.227887 ],\n",
       "       [ 9.020726 ],\n",
       "       [ 7.499082 ],\n",
       "       [ 7.872374 ],\n",
       "       [ 6.2399406],\n",
       "       [12.082066 ],\n",
       "       [ 8.827878 ],\n",
       "       [ 8.176375 ],\n",
       "       [ 8.582268 ],\n",
       "       [ 5.3313513],\n",
       "       [ 7.960662 ],\n",
       "       [ 9.932564 ],\n",
       "       [ 7.006368 ],\n",
       "       [ 8.25938  ],\n",
       "       [12.86201  ],\n",
       "       [ 7.1724806],\n",
       "       [ 7.0487475],\n",
       "       [11.337803 ],\n",
       "       [11.776289 ],\n",
       "       [12.320469 ],\n",
       "       [11.591776 ],\n",
       "       [12.115394 ],\n",
       "       [ 7.227773 ],\n",
       "       [ 7.3193493],\n",
       "       [11.794533 ],\n",
       "       [ 7.6951575],\n",
       "       [ 6.845627 ],\n",
       "       [ 7.473802 ],\n",
       "       [ 6.9715314],\n",
       "       [ 7.869781 ],\n",
       "       [ 7.8610406],\n",
       "       [11.422177 ],\n",
       "       [11.894142 ],\n",
       "       [10.467724 ],\n",
       "       [ 8.949629 ],\n",
       "       [ 8.414616 ],\n",
       "       [ 6.1307864],\n",
       "       [ 7.951604 ],\n",
       "       [ 7.2718544],\n",
       "       [11.098906 ],\n",
       "       [10.534432 ],\n",
       "       [12.274239 ],\n",
       "       [11.5737505],\n",
       "       [ 6.967549 ],\n",
       "       [13.334076 ],\n",
       "       [ 8.079261 ],\n",
       "       [ 6.9552574],\n",
       "       [12.411273 ],\n",
       "       [ 7.7073784],\n",
       "       [ 5.188113 ],\n",
       "       [ 6.1501813],\n",
       "       [ 7.96785  ],\n",
       "       [ 7.516857 ],\n",
       "       [ 9.132751 ],\n",
       "       [11.850533 ],\n",
       "       [ 5.9845147],\n",
       "       [ 7.2484446],\n",
       "       [12.515204 ],\n",
       "       [11.987998 ],\n",
       "       [ 9.129579 ],\n",
       "       [ 8.959164 ],\n",
       "       [11.905305 ],\n",
       "       [12.146472 ],\n",
       "       [ 8.168966 ],\n",
       "       [ 7.62931  ],\n",
       "       [ 8.059886 ],\n",
       "       [ 7.966043 ],\n",
       "       [ 7.019731 ],\n",
       "       [ 6.155893 ],\n",
       "       [11.943095 ],\n",
       "       [ 8.146987 ],\n",
       "       [11.042717 ],\n",
       "       [10.27057  ],\n",
       "       [ 7.801214 ],\n",
       "       [ 6.924511 ],\n",
       "       [11.138257 ],\n",
       "       [10.968638 ],\n",
       "       [ 5.956748 ],\n",
       "       [13.176943 ],\n",
       "       [12.159174 ],\n",
       "       [ 8.940836 ],\n",
       "       [ 4.1984954],\n",
       "       [12.50434  ],\n",
       "       [11.7626505],\n",
       "       [ 9.318846 ],\n",
       "       [ 7.887922 ],\n",
       "       [ 8.32662  ],\n",
       "       [ 8.012963 ],\n",
       "       [ 4.8705792],\n",
       "       [12.003837 ],\n",
       "       [ 7.0693426],\n",
       "       [12.836486 ],\n",
       "       [ 6.7289634],\n",
       "       [ 8.196617 ],\n",
       "       [11.965771 ],\n",
       "       [12.410983 ],\n",
       "       [11.414677 ],\n",
       "       [ 6.747115 ],\n",
       "       [ 5.827055 ],\n",
       "       [11.012002 ],\n",
       "       [ 9.010161 ],\n",
       "       [ 7.2595963],\n",
       "       [ 7.5773654],\n",
       "       [12.95479  ],\n",
       "       [13.257715 ],\n",
       "       [ 4.8892007],\n",
       "       [ 6.964309 ],\n",
       "       [ 9.222621 ],\n",
       "       [10.867524 ],\n",
       "       [11.565156 ],\n",
       "       [11.412141 ],\n",
       "       [ 7.9563413],\n",
       "       [11.709885 ],\n",
       "       [11.950481 ],\n",
       "       [ 7.168117 ],\n",
       "       [ 8.076466 ],\n",
       "       [11.496206 ],\n",
       "       [11.750091 ],\n",
       "       [ 7.8195596],\n",
       "       [ 5.83978  ],\n",
       "       [11.106864 ],\n",
       "       [ 6.140773 ],\n",
       "       [ 6.619031 ],\n",
       "       [ 6.715649 ],\n",
       "       [11.944562 ],\n",
       "       [ 8.133792 ],\n",
       "       [ 8.7166815],\n",
       "       [ 7.801465 ],\n",
       "       [ 7.4894104],\n",
       "       [ 4.755219 ],\n",
       "       [ 5.527439 ],\n",
       "       [ 7.1941347],\n",
       "       [12.29815  ],\n",
       "       [11.880837 ],\n",
       "       [11.239088 ],\n",
       "       [ 6.043142 ],\n",
       "       [ 9.049567 ],\n",
       "       [13.236124 ],\n",
       "       [ 8.577637 ],\n",
       "       [ 5.912749 ],\n",
       "       [ 8.562761 ],\n",
       "       [11.863009 ],\n",
       "       [ 8.411868 ],\n",
       "       [ 5.8013477],\n",
       "       [11.442025 ],\n",
       "       [ 5.6636257],\n",
       "       [ 6.000473 ],\n",
       "       [ 6.6374784],\n",
       "       [12.05554  ],\n",
       "       [ 8.782489 ],\n",
       "       [11.90012  ],\n",
       "       [ 8.831445 ],\n",
       "       [ 6.931937 ],\n",
       "       [ 7.9014235],\n",
       "       [ 6.160201 ],\n",
       "       [11.582589 ],\n",
       "       [ 8.793021 ],\n",
       "       [ 7.4012346],\n",
       "       [ 8.836993 ],\n",
       "       [ 4.3574686],\n",
       "       [ 7.811579 ],\n",
       "       [10.701133 ],\n",
       "       [ 7.961601 ],\n",
       "       [ 7.7073207],\n",
       "       [11.679231 ],\n",
       "       [ 6.4925694],\n",
       "       [ 7.1725373],\n",
       "       [10.198102 ],\n",
       "       [12.131315 ],\n",
       "       [12.968701 ],\n",
       "       [12.274329 ],\n",
       "       [ 8.222729 ],\n",
       "       [ 6.970234 ],\n",
       "       [11.958393 ],\n",
       "       [ 7.7653584],\n",
       "       [ 6.3927293],\n",
       "       [ 5.8798037],\n",
       "       [ 7.156978 ],\n",
       "       [ 7.3864264],\n",
       "       [ 7.878169 ],\n",
       "       [ 9.004168 ],\n",
       "       [11.924689 ],\n",
       "       [ 9.037707 ],\n",
       "       [ 7.927328 ],\n",
       "       [ 5.86038  ],\n",
       "       [ 7.938448 ],\n",
       "       [ 6.6710806],\n",
       "       [11.0336685],\n",
       "       [11.5009   ],\n",
       "       [11.948871 ],\n",
       "       [11.765749 ],\n",
       "       [ 8.825403 ],\n",
       "       [12.738052 ],\n",
       "       [ 8.043364 ],\n",
       "       [ 6.489558 ],\n",
       "       [11.676159 ],\n",
       "       [ 7.4574347],\n",
       "       [ 6.0337753],\n",
       "       [ 7.3273973],\n",
       "       [ 8.070212 ],\n",
       "       [ 8.028933 ],\n",
       "       [ 9.248706 ],\n",
       "       [11.966945 ],\n",
       "       [ 5.993917 ],\n",
       "       [ 7.0792294],\n",
       "       [12.772878 ],\n",
       "       [11.80807  ],\n",
       "       [ 8.941846 ],\n",
       "       [ 8.86064  ],\n",
       "       [12.370764 ],\n",
       "       [11.651315 ],\n",
       "       [ 8.159946 ],\n",
       "       [ 6.274489 ],\n",
       "       [ 7.763924 ],\n",
       "       [ 6.9512663],\n",
       "       [ 8.195023 ],\n",
       "       [ 5.7822065],\n",
       "       [ 8.486381 ],\n",
       "       [11.247857 ],\n",
       "       [10.887108 ],\n",
       "       [ 8.137262 ],\n",
       "       [ 6.5597053],\n",
       "       [11.799086 ],\n",
       "       [11.965345 ],\n",
       "       [ 6.390923 ],\n",
       "       [12.254311 ],\n",
       "       [12.230769 ],\n",
       "       [ 9.728826 ],\n",
       "       [ 3.99803  ],\n",
       "       [11.935483 ],\n",
       "       [11.776995 ],\n",
       "       [ 7.1258864],\n",
       "       [ 8.129367 ],\n",
       "       [ 8.395867 ],\n",
       "       [ 7.9402933],\n",
       "       [ 5.0989814],\n",
       "       [11.761427 ],\n",
       "       [ 5.7932734],\n",
       "       [14.037494 ],\n",
       "       [ 6.800825 ],\n",
       "       [ 7.8918924],\n",
       "       [12.244454 ],\n",
       "       [13.192619 ],\n",
       "       [11.76425  ],\n",
       "       [ 8.418828 ],\n",
       "       [ 4.382182 ],\n",
       "       [12.851296 ],\n",
       "       [ 9.105543 ],\n",
       "       [ 7.174286 ],\n",
       "       [ 8.225593 ],\n",
       "       [12.220328 ],\n",
       "       [12.989828 ],\n",
       "       [ 6.4248843],\n",
       "       [ 6.988614 ],\n",
       "       [ 9.028583 ],\n",
       "       [12.073791 ],\n",
       "       [11.653776 ],\n",
       "       [12.37492  ],\n",
       "       [ 8.162074 ],\n",
       "       [11.7434025],\n",
       "       [11.923856 ],\n",
       "       [ 7.679732 ],\n",
       "       [ 7.923049 ],\n",
       "       [11.515472 ],\n",
       "       [12.033956 ],\n",
       "       [ 7.5459394],\n",
       "       [ 6.107077 ],\n",
       "       [11.777663 ],\n",
       "       [ 5.943874 ],\n",
       "       [ 5.6939907],\n",
       "       [ 6.918032 ],\n",
       "       [12.047013 ],\n",
       "       [ 8.186757 ],\n",
       "       [ 7.3366356],\n",
       "       [ 7.272334 ],\n",
       "       [ 7.5485845],\n",
       "       [ 4.2190814],\n",
       "       [ 6.857426 ],\n",
       "       [ 7.7527184],\n",
       "       [11.992776 ],\n",
       "       [11.7657   ],\n",
       "       [11.731766 ],\n",
       "       [ 6.0149717],\n",
       "       [ 9.345238 ],\n",
       "       [11.435887 ],\n",
       "       [ 8.170866 ],\n",
       "       [ 8.345434 ],\n",
       "       [ 9.179986 ],\n",
       "       [11.905458 ],\n",
       "       [ 7.6609616],\n",
       "       [ 6.084078 ],\n",
       "       [11.000395 ],\n",
       "       [ 6.718172 ],\n",
       "       [ 4.8047357],\n",
       "       [ 7.276359 ],\n",
       "       [12.460356 ],\n",
       "       [ 8.776553 ],\n",
       "       [12.397765 ],\n",
       "       [ 9.24568  ],\n",
       "       [ 6.9410505],\n",
       "       [ 8.296892 ],\n",
       "       [ 6.3267264],\n",
       "       [12.40648  ],\n",
       "       [ 8.284383 ],\n",
       "       [ 8.150361 ],\n",
       "       [ 8.974317 ],\n",
       "       [ 5.888439 ],\n",
       "       [ 8.03502  ],\n",
       "       [10.916157 ],\n",
       "       [ 8.373261 ],\n",
       "       [ 8.231909 ],\n",
       "       [11.797864 ],\n",
       "       [ 7.1208034],\n",
       "       [ 6.950227 ],\n",
       "       [ 8.484    ],\n",
       "       [12.616222 ],\n",
       "       [14.245023 ],\n",
       "       [12.983121 ],\n",
       "       [12.0715885],\n",
       "       [ 7.709001 ],\n",
       "       [ 6.6172876],\n",
       "       [11.109467 ],\n",
       "       [ 7.38963  ],\n",
       "       [ 7.9865417],\n",
       "       [ 7.6787148],\n",
       "       [ 6.06931  ],\n",
       "       [ 8.126458 ],\n",
       "       [ 8.018137 ],\n",
       "       [10.977423 ],\n",
       "       [12.493636 ],\n",
       "       [10.755705 ],\n",
       "       [ 9.424359 ],\n",
       "       [ 8.118018 ],\n",
       "       [ 5.9268517],\n",
       "       [ 8.233031 ],\n",
       "       [ 6.9276752],\n",
       "       [10.896983 ],\n",
       "       [12.322838 ],\n",
       "       [12.8642025],\n",
       "       [11.625945 ],\n",
       "       [ 9.162735 ],\n",
       "       [13.148248 ],\n",
       "       [ 6.422688 ],\n",
       "       [ 6.5861263],\n",
       "       [11.6764345],\n",
       "       [ 8.103347 ],\n",
       "       [ 5.450925 ],\n",
       "       [ 6.671833 ],\n",
       "       [ 7.644856 ],\n",
       "       [ 8.149692 ],\n",
       "       [ 9.259544 ],\n",
       "       [12.700395 ],\n",
       "       [ 6.344114 ],\n",
       "       [ 7.1193767],\n",
       "       [12.053756 ],\n",
       "       [12.044412 ],\n",
       "       [ 8.62738  ],\n",
       "       [ 8.58669  ],\n",
       "       [12.096652 ],\n",
       "       [11.998678 ],\n",
       "       [ 7.805787 ],\n",
       "       [ 6.9526644],\n",
       "       [ 7.955435 ],\n",
       "       [ 7.852948 ],\n",
       "       [ 7.8997073],\n",
       "       [ 4.8720284],\n",
       "       [11.6364155],\n",
       "       [ 8.696376 ],\n",
       "       [12.834483 ],\n",
       "       [12.467128 ],\n",
       "       [ 7.766969 ],\n",
       "       [ 8.3152   ],\n",
       "       [13.232207 ],\n",
       "       [11.990947 ],\n",
       "       [ 5.7442155],\n",
       "       [13.598552 ],\n",
       "       [11.331896 ],\n",
       "       [ 9.462083 ],\n",
       "       [ 4.061846 ],\n",
       "       [12.170747 ],\n",
       "       [12.154478 ],\n",
       "       [ 8.176449 ],\n",
       "       [ 6.997913 ],\n",
       "       [ 8.300879 ],\n",
       "       [ 8.73049  ],\n",
       "       [ 5.6432414],\n",
       "       [12.174484 ],\n",
       "       [ 5.8404818],\n",
       "       [12.48835  ],\n",
       "       [ 8.292262 ],\n",
       "       [ 7.046748 ],\n",
       "       [12.0598545],\n",
       "       [12.343978 ],\n",
       "       [11.800607 ],\n",
       "       [ 9.57012  ],\n",
       "       [ 6.9134574],\n",
       "       [13.896962 ],\n",
       "       [ 9.386012 ],\n",
       "       [ 6.1633244],\n",
       "       [ 7.926635 ],\n",
       "       [12.325664 ],\n",
       "       [12.863074 ],\n",
       "       [ 6.9017744],\n",
       "       [ 6.336722 ],\n",
       "       [ 7.6569376],\n",
       "       [11.222393 ],\n",
       "       [12.074616 ],\n",
       "       [11.903828 ],\n",
       "       [ 8.125459 ],\n",
       "       [11.56632  ],\n",
       "       [11.762773 ],\n",
       "       [ 7.324749 ],\n",
       "       [ 7.94164  ],\n",
       "       [12.204982 ],\n",
       "       [12.260157 ],\n",
       "       [ 8.550625 ],\n",
       "       [ 5.8208876],\n",
       "       [10.613006 ],\n",
       "       [ 5.5875134],\n",
       "       [ 4.24961  ],\n",
       "       [ 5.9987426],\n",
       "       [11.704101 ],\n",
       "       [ 7.7641354],\n",
       "       [ 5.7607183],\n",
       "       [ 7.063428 ],\n",
       "       [ 8.201518 ],\n",
       "       [ 4.9462147],\n",
       "       [ 5.655576 ],\n",
       "       [ 7.801409 ],\n",
       "       [12.185918 ],\n",
       "       [11.751016 ],\n",
       "       [12.272763 ],\n",
       "       [ 6.072052 ],\n",
       "       [ 8.735873 ],\n",
       "       [10.373848 ],\n",
       "       [ 8.3464985],\n",
       "       [ 7.6715617],\n",
       "       [ 9.381332 ],\n",
       "       [12.16283  ],\n",
       "       [ 7.832358 ],\n",
       "       [ 5.2356653],\n",
       "       [12.751424 ],\n",
       "       [ 6.5915737],\n",
       "       [ 6.214033 ],\n",
       "       [ 6.8989725],\n",
       "       [11.732653 ],\n",
       "       [ 7.674997 ],\n",
       "       [10.727775 ],\n",
       "       [ 8.960139 ],\n",
       "       [ 6.8397737],\n",
       "       [ 7.7393365],\n",
       "       [ 6.932599 ],\n",
       "       [11.569232 ],\n",
       "       [ 8.775375 ],\n",
       "       [ 7.953509 ],\n",
       "       [ 8.764979 ],\n",
       "       [ 6.9738483],\n",
       "       [ 6.878164 ],\n",
       "       [10.762746 ],\n",
       "       [ 7.9305344],\n",
       "       [ 8.2875595],\n",
       "       [12.021301 ],\n",
       "       [ 6.7731566],\n",
       "       [ 7.6438756],\n",
       "       [10.228128 ],\n",
       "       [13.594568 ],\n",
       "       [13.378729 ],\n",
       "       [12.354626 ],\n",
       "       [ 7.264833 ],\n",
       "       [ 7.144597 ],\n",
       "       [11.939885 ],\n",
       "       [ 7.65622  ],\n",
       "       [ 6.1881385],\n",
       "       [ 8.423451 ],\n",
       "       [ 6.9198933],\n",
       "       [ 7.737772 ],\n",
       "       [ 8.116204 ],\n",
       "       [11.521447 ],\n",
       "       [11.909128 ],\n",
       "       [12.365177 ],\n",
       "       [ 9.194489 ],\n",
       "       [ 7.9038134],\n",
       "       [ 5.8080473],\n",
       "       [ 8.046039 ],\n",
       "       [ 7.23514  ],\n",
       "       [10.219035 ],\n",
       "       [11.130256 ],\n",
       "       [13.278155 ],\n",
       "       [12.741743 ],\n",
       "       [ 8.950439 ],\n",
       "       [12.644991 ],\n",
       "       [ 8.726549 ],\n",
       "       [ 5.8868103],\n",
       "       [11.914913 ],\n",
       "       [ 8.659998 ],\n",
       "       [ 5.321445 ],\n",
       "       [ 4.378574 ],\n",
       "       [ 7.8754983],\n",
       "       [ 8.177063 ],\n",
       "       [ 8.788612 ],\n",
       "       [13.303139 ],\n",
       "       [ 5.0827127],\n",
       "       [ 5.8087955],\n",
       "       [12.480994 ],\n",
       "       [11.748136 ],\n",
       "       [ 9.503268 ],\n",
       "       [ 8.561977 ],\n",
       "       [11.765242 ],\n",
       "       [11.770231 ],\n",
       "       [ 8.314366 ],\n",
       "       [ 7.251057 ]], dtype=float32)"
      ]
     },
     "execution_count": 38,
     "metadata": {},
     "output_type": "execute_result"
    }
   ],
   "source": [
    "pre0 = model0.predict(feature_test)\n",
    "pre0"
   ]
  },
  {
   "cell_type": "code",
   "execution_count": 39,
   "metadata": {
    "ExecuteTime": {
     "end_time": "2021-09-07T02:10:02.809981Z",
     "start_time": "2021-09-07T02:10:02.804968Z"
    }
   },
   "outputs": [],
   "source": [
    "def pre_ana(pre, label_test):\n",
    "    \"\"\"\n",
    "    \"\"\"\n",
    "    diff = pre - label_test\n",
    "    diff_abs = np.abs(diff)\n",
    "    diff2 = np.square(diff)  # = diff**2\n",
    "    #pre_var_mean = np.mean(diff2, axis=0)\n",
    "    pre_var_mean = np.mean(diff2)\n",
    "    pre_var_std = np.sqrt(pre_var_mean)  # = pre_var_mean**0.5\n",
    "    err = diff / label_test\n",
    "    err_abs = np.abs(err)\n",
    "    attr_dict3 = {\n",
    "        'diff_Max': np.max(diff),\n",
    "        'diff_Min': np.min(diff),\n",
    "        '|diff|_Mean(MAE)': np.mean(diff_abs),\n",
    "        '|diff|_Max': np.max(diff_abs),\n",
    "        '|diff|_Min': np.min(diff_abs),\n",
    "        'pre_Var(MSE)': pre_var_mean,\n",
    "        'pre_Std(RMSE)': pre_var_std,\n",
    "        'Error_mean': np.mean(err),\n",
    "        'Error_max': np.max(err),\n",
    "        'Error_min': np.min(err),\n",
    "        '|Error|_mean(MAPE)': np.mean(err_abs),\n",
    "        '|Error|_max': np.max(err_abs),\n",
    "        '|Error|_min': np.min(err_abs)\n",
    "    }\n",
    "    return attr_dict3, err"
   ]
  },
  {
   "cell_type": "code",
   "execution_count": 40,
   "metadata": {
    "ExecuteTime": {
     "end_time": "2021-09-07T02:10:06.752599Z",
     "start_time": "2021-09-07T02:10:06.748587Z"
    },
    "scrolled": false
   },
   "outputs": [
    {
     "name": "stdout",
     "output_type": "stream",
     "text": [
      "Prediction:\n",
      "  diff_Max            :   5.5915737\n",
      "  diff_Min            :  -2.0134583\n",
      "  |diff|_Mean(MAE)    :   0.3444215\n",
      "  |diff|_Max          :   5.5915737\n",
      "  |diff|_Min          :   0.0002174\n",
      "  pre_Var(MSE)        :   0.3204748\n",
      "  pre_Std(RMSE)       :   0.5661049\n",
      "  Error_mean          :   0.0159238\n",
      "  Error_max           :   5.5915737\n",
      "  Error_min           :  -0.2013458\n",
      "  |Error|_mean(MAPE)  :   0.0530340\n",
      "  |Error|_max         :   5.5915737\n",
      "  |Error|_min         :   0.0000272\n"
     ]
    }
   ],
   "source": [
    "a, err = pre_ana(pre0, label_test)\n",
    "print(\"Prediction:\")\n",
    "print(\"\\nPrediction:\",file=fout)\n",
    "for key in a.keys():\n",
    "    print(f\"  {key:<20}: {a[key]:>11.7f}\")\n",
    "    print(f\"  {key:<20}: {a[key]:>11.7f}\",file=fout)"
   ]
  },
  {
   "cell_type": "markdown",
   "metadata": {},
   "source": [
    "#### 查看拟合中保存的最佳模型"
   ]
  },
  {
   "cell_type": "markdown",
   "metadata": {},
   "source": [
    "是否与上述模型一样？"
   ]
  },
  {
   "cell_type": "code",
   "execution_count": 41,
   "metadata": {
    "ExecuteTime": {
     "end_time": "2021-09-07T02:10:14.574112Z",
     "start_time": "2021-09-07T02:10:14.567592Z"
    }
   },
   "outputs": [
    {
     "name": "stdout",
     "output_type": "stream",
     "text": [
      "Saved best model : .\\hyper-param_tuning\\au150_DW_cn_3level_neuron_run_2021_09_07-08_50_58.h5\n"
     ]
    }
   ],
   "source": [
    "print(f\"Saved best model : {model_saved_best}\")\n",
    "print(f\"\\nSaved best model : {model_saved_best}\",file=fout)\n",
    "fout.close()"
   ]
  },
  {
   "cell_type": "code",
   "execution_count": 42,
   "metadata": {
    "ExecuteTime": {
     "end_time": "2021-09-07T02:10:19.491856Z",
     "start_time": "2021-09-07T02:10:19.409610Z"
    }
   },
   "outputs": [
    {
     "data": {
      "text/plain": [
       "<tensorflow.python.keras.engine.sequential.Sequential at 0x2380a5d4640>"
      ]
     },
     "execution_count": 42,
     "metadata": {},
     "output_type": "execute_result"
    }
   ],
   "source": [
    "model = keras.models.load_model(model_saved_best)\n",
    "model"
   ]
  },
  {
   "cell_type": "code",
   "execution_count": 43,
   "metadata": {
    "ExecuteTime": {
     "end_time": "2021-09-07T02:10:22.853009Z",
     "start_time": "2021-09-07T02:10:22.714565Z"
    }
   },
   "outputs": [
    {
     "data": {
      "text/plain": [
       "array([[ 8.277572 ],\n",
       "       [ 8.196247 ],\n",
       "       [ 7.9759154],\n",
       "       [ 7.4522448],\n",
       "       [ 5.9448752],\n",
       "       [11.466561 ],\n",
       "       [ 9.088181 ],\n",
       "       [12.80579  ],\n",
       "       [11.803331 ],\n",
       "       [ 7.770665 ],\n",
       "       [ 7.251605 ],\n",
       "       [14.5755625],\n",
       "       [11.562111 ],\n",
       "       [ 5.9306636],\n",
       "       [12.212166 ],\n",
       "       [11.805087 ],\n",
       "       [ 9.057611 ],\n",
       "       [ 4.7563505],\n",
       "       [11.336695 ],\n",
       "       [11.98055  ],\n",
       "       [ 8.210878 ],\n",
       "       [ 7.688798 ],\n",
       "       [ 7.924697 ],\n",
       "       [ 7.728961 ],\n",
       "       [ 5.445059 ],\n",
       "       [11.612305 ],\n",
       "       [ 7.286895 ],\n",
       "       [13.288922 ],\n",
       "       [ 7.796979 ],\n",
       "       [ 7.9255476],\n",
       "       [12.556916 ],\n",
       "       [11.843674 ],\n",
       "       [11.864285 ],\n",
       "       [ 8.000217 ],\n",
       "       [ 5.980237 ],\n",
       "       [14.735621 ],\n",
       "       [ 9.270783 ],\n",
       "       [ 6.7726464],\n",
       "       [ 7.9731593],\n",
       "       [12.133048 ],\n",
       "       [12.231118 ],\n",
       "       [ 6.727536 ],\n",
       "       [ 7.822253 ],\n",
       "       [ 9.157296 ],\n",
       "       [11.720641 ],\n",
       "       [12.230541 ],\n",
       "       [12.602926 ],\n",
       "       [ 8.290425 ],\n",
       "       [12.0446   ],\n",
       "       [11.5998955],\n",
       "       [ 6.0811653],\n",
       "       [ 6.587636 ],\n",
       "       [12.029364 ],\n",
       "       [12.023058 ],\n",
       "       [ 7.907463 ],\n",
       "       [ 6.1206117],\n",
       "       [11.906397 ],\n",
       "       [ 5.360452 ],\n",
       "       [ 6.5172358],\n",
       "       [ 6.9624133],\n",
       "       [12.297968 ],\n",
       "       [ 8.575788 ],\n",
       "       [ 7.446893 ],\n",
       "       [ 4.9995303],\n",
       "       [ 7.9118705],\n",
       "       [ 5.9904037],\n",
       "       [ 5.9866714],\n",
       "       [ 7.917532 ],\n",
       "       [11.601578 ],\n",
       "       [11.983786 ],\n",
       "       [12.143057 ],\n",
       "       [ 5.946422 ],\n",
       "       [ 9.058939 ],\n",
       "       [11.756533 ],\n",
       "       [ 7.8692384],\n",
       "       [10.164847 ],\n",
       "       [ 7.9596114],\n",
       "       [12.115836 ],\n",
       "       [ 8.180129 ],\n",
       "       [ 6.005761 ],\n",
       "       [11.871177 ],\n",
       "       [ 5.207309 ],\n",
       "       [ 6.526548 ],\n",
       "       [ 6.9120274],\n",
       "       [11.784115 ],\n",
       "       [10.48502  ],\n",
       "       [12.227887 ],\n",
       "       [ 9.020726 ],\n",
       "       [ 7.499082 ],\n",
       "       [ 7.872374 ],\n",
       "       [ 6.2399406],\n",
       "       [12.082066 ],\n",
       "       [ 8.827878 ],\n",
       "       [ 8.176375 ],\n",
       "       [ 8.582268 ],\n",
       "       [ 5.3313513],\n",
       "       [ 7.960662 ],\n",
       "       [ 9.932564 ],\n",
       "       [ 7.006368 ],\n",
       "       [ 8.25938  ],\n",
       "       [12.86201  ],\n",
       "       [ 7.1724806],\n",
       "       [ 7.0487475],\n",
       "       [11.337803 ],\n",
       "       [11.776289 ],\n",
       "       [12.320469 ],\n",
       "       [11.591776 ],\n",
       "       [12.115394 ],\n",
       "       [ 7.227773 ],\n",
       "       [ 7.3193493],\n",
       "       [11.794533 ],\n",
       "       [ 7.6951575],\n",
       "       [ 6.845627 ],\n",
       "       [ 7.473802 ],\n",
       "       [ 6.9715314],\n",
       "       [ 7.869781 ],\n",
       "       [ 7.8610406],\n",
       "       [11.422177 ],\n",
       "       [11.894142 ],\n",
       "       [10.467724 ],\n",
       "       [ 8.949629 ],\n",
       "       [ 8.414616 ],\n",
       "       [ 6.1307864],\n",
       "       [ 7.951604 ],\n",
       "       [ 7.2718544],\n",
       "       [11.098906 ],\n",
       "       [10.534432 ],\n",
       "       [12.274239 ],\n",
       "       [11.5737505],\n",
       "       [ 6.967549 ],\n",
       "       [13.334076 ],\n",
       "       [ 8.079261 ],\n",
       "       [ 6.9552574],\n",
       "       [12.411273 ],\n",
       "       [ 7.7073784],\n",
       "       [ 5.188113 ],\n",
       "       [ 6.1501813],\n",
       "       [ 7.96785  ],\n",
       "       [ 7.516857 ],\n",
       "       [ 9.132751 ],\n",
       "       [11.850533 ],\n",
       "       [ 5.9845147],\n",
       "       [ 7.2484446],\n",
       "       [12.515204 ],\n",
       "       [11.987998 ],\n",
       "       [ 9.129579 ],\n",
       "       [ 8.959164 ],\n",
       "       [11.905305 ],\n",
       "       [12.146472 ],\n",
       "       [ 8.168966 ],\n",
       "       [ 7.62931  ],\n",
       "       [ 8.059886 ],\n",
       "       [ 7.966043 ],\n",
       "       [ 7.019731 ],\n",
       "       [ 6.155893 ],\n",
       "       [11.943095 ],\n",
       "       [ 8.146987 ],\n",
       "       [11.042717 ],\n",
       "       [10.27057  ],\n",
       "       [ 7.801214 ],\n",
       "       [ 6.924511 ],\n",
       "       [11.138257 ],\n",
       "       [10.968638 ],\n",
       "       [ 5.956748 ],\n",
       "       [13.176943 ],\n",
       "       [12.159174 ],\n",
       "       [ 8.940836 ],\n",
       "       [ 4.1984954],\n",
       "       [12.50434  ],\n",
       "       [11.7626505],\n",
       "       [ 9.318846 ],\n",
       "       [ 7.887922 ],\n",
       "       [ 8.32662  ],\n",
       "       [ 8.012963 ],\n",
       "       [ 4.8705792],\n",
       "       [12.003837 ],\n",
       "       [ 7.0693426],\n",
       "       [12.836486 ],\n",
       "       [ 6.7289634],\n",
       "       [ 8.196617 ],\n",
       "       [11.965771 ],\n",
       "       [12.410983 ],\n",
       "       [11.414677 ],\n",
       "       [ 6.747115 ],\n",
       "       [ 5.827055 ],\n",
       "       [11.012002 ],\n",
       "       [ 9.010161 ],\n",
       "       [ 7.2595963],\n",
       "       [ 7.5773654],\n",
       "       [12.95479  ],\n",
       "       [13.257715 ],\n",
       "       [ 4.8892007],\n",
       "       [ 6.964309 ],\n",
       "       [ 9.222621 ],\n",
       "       [10.867524 ],\n",
       "       [11.565156 ],\n",
       "       [11.412141 ],\n",
       "       [ 7.9563413],\n",
       "       [11.709885 ],\n",
       "       [11.950481 ],\n",
       "       [ 7.168117 ],\n",
       "       [ 8.076466 ],\n",
       "       [11.496206 ],\n",
       "       [11.750091 ],\n",
       "       [ 7.8195596],\n",
       "       [ 5.83978  ],\n",
       "       [11.106864 ],\n",
       "       [ 6.140773 ],\n",
       "       [ 6.619031 ],\n",
       "       [ 6.715649 ],\n",
       "       [11.944562 ],\n",
       "       [ 8.133792 ],\n",
       "       [ 8.7166815],\n",
       "       [ 7.801465 ],\n",
       "       [ 7.4894104],\n",
       "       [ 4.755219 ],\n",
       "       [ 5.527439 ],\n",
       "       [ 7.1941347],\n",
       "       [12.29815  ],\n",
       "       [11.880837 ],\n",
       "       [11.239088 ],\n",
       "       [ 6.043142 ],\n",
       "       [ 9.049567 ],\n",
       "       [13.236124 ],\n",
       "       [ 8.577637 ],\n",
       "       [ 5.912749 ],\n",
       "       [ 8.562761 ],\n",
       "       [11.863009 ],\n",
       "       [ 8.411868 ],\n",
       "       [ 5.8013477],\n",
       "       [11.442025 ],\n",
       "       [ 5.6636257],\n",
       "       [ 6.000473 ],\n",
       "       [ 6.6374784],\n",
       "       [12.05554  ],\n",
       "       [ 8.782489 ],\n",
       "       [11.90012  ],\n",
       "       [ 8.831445 ],\n",
       "       [ 6.931937 ],\n",
       "       [ 7.9014235],\n",
       "       [ 6.160201 ],\n",
       "       [11.582589 ],\n",
       "       [ 8.793021 ],\n",
       "       [ 7.4012346],\n",
       "       [ 8.836993 ],\n",
       "       [ 4.3574686],\n",
       "       [ 7.811579 ],\n",
       "       [10.701133 ],\n",
       "       [ 7.961601 ],\n",
       "       [ 7.7073207],\n",
       "       [11.679231 ],\n",
       "       [ 6.4925694],\n",
       "       [ 7.1725373],\n",
       "       [10.198102 ],\n",
       "       [12.131315 ],\n",
       "       [12.968701 ],\n",
       "       [12.274329 ],\n",
       "       [ 8.222729 ],\n",
       "       [ 6.970234 ],\n",
       "       [11.958393 ],\n",
       "       [ 7.7653584],\n",
       "       [ 6.3927293],\n",
       "       [ 5.8798037],\n",
       "       [ 7.156978 ],\n",
       "       [ 7.3864264],\n",
       "       [ 7.878169 ],\n",
       "       [ 9.004168 ],\n",
       "       [11.924689 ],\n",
       "       [ 9.037707 ],\n",
       "       [ 7.927328 ],\n",
       "       [ 5.86038  ],\n",
       "       [ 7.938448 ],\n",
       "       [ 6.6710806],\n",
       "       [11.0336685],\n",
       "       [11.5009   ],\n",
       "       [11.948871 ],\n",
       "       [11.765749 ],\n",
       "       [ 8.825403 ],\n",
       "       [12.738052 ],\n",
       "       [ 8.043364 ],\n",
       "       [ 6.489558 ],\n",
       "       [11.676159 ],\n",
       "       [ 7.4574347],\n",
       "       [ 6.0337753],\n",
       "       [ 7.3273973],\n",
       "       [ 8.070212 ],\n",
       "       [ 8.028933 ],\n",
       "       [ 9.248706 ],\n",
       "       [11.966945 ],\n",
       "       [ 5.993917 ],\n",
       "       [ 7.0792294],\n",
       "       [12.772878 ],\n",
       "       [11.80807  ],\n",
       "       [ 8.941846 ],\n",
       "       [ 8.86064  ],\n",
       "       [12.370764 ],\n",
       "       [11.651315 ],\n",
       "       [ 8.159946 ],\n",
       "       [ 6.274489 ],\n",
       "       [ 7.763924 ],\n",
       "       [ 6.9512663],\n",
       "       [ 8.195023 ],\n",
       "       [ 5.7822065],\n",
       "       [ 8.486381 ],\n",
       "       [11.247857 ],\n",
       "       [10.887108 ],\n",
       "       [ 8.137262 ],\n",
       "       [ 6.5597053],\n",
       "       [11.799086 ],\n",
       "       [11.965345 ],\n",
       "       [ 6.390923 ],\n",
       "       [12.254311 ],\n",
       "       [12.230769 ],\n",
       "       [ 9.728826 ],\n",
       "       [ 3.99803  ],\n",
       "       [11.935483 ],\n",
       "       [11.776995 ],\n",
       "       [ 7.1258864],\n",
       "       [ 8.129367 ],\n",
       "       [ 8.395867 ],\n",
       "       [ 7.9402933],\n",
       "       [ 5.0989814],\n",
       "       [11.761427 ],\n",
       "       [ 5.7932734],\n",
       "       [14.037494 ],\n",
       "       [ 6.800825 ],\n",
       "       [ 7.8918924],\n",
       "       [12.244454 ],\n",
       "       [13.192619 ],\n",
       "       [11.76425  ],\n",
       "       [ 8.418828 ],\n",
       "       [ 4.382182 ],\n",
       "       [12.851296 ],\n",
       "       [ 9.105543 ],\n",
       "       [ 7.174286 ],\n",
       "       [ 8.225593 ],\n",
       "       [12.220328 ],\n",
       "       [12.989828 ],\n",
       "       [ 6.4248843],\n",
       "       [ 6.988614 ],\n",
       "       [ 9.028583 ],\n",
       "       [12.073791 ],\n",
       "       [11.653776 ],\n",
       "       [12.37492  ],\n",
       "       [ 8.162074 ],\n",
       "       [11.7434025],\n",
       "       [11.923856 ],\n",
       "       [ 7.679732 ],\n",
       "       [ 7.923049 ],\n",
       "       [11.515472 ],\n",
       "       [12.033956 ],\n",
       "       [ 7.5459394],\n",
       "       [ 6.107077 ],\n",
       "       [11.777663 ],\n",
       "       [ 5.943874 ],\n",
       "       [ 5.6939907],\n",
       "       [ 6.918032 ],\n",
       "       [12.047013 ],\n",
       "       [ 8.186757 ],\n",
       "       [ 7.3366356],\n",
       "       [ 7.272334 ],\n",
       "       [ 7.5485845],\n",
       "       [ 4.2190814],\n",
       "       [ 6.857426 ],\n",
       "       [ 7.7527184],\n",
       "       [11.992776 ],\n",
       "       [11.7657   ],\n",
       "       [11.731766 ],\n",
       "       [ 6.0149717],\n",
       "       [ 9.345238 ],\n",
       "       [11.435887 ],\n",
       "       [ 8.170866 ],\n",
       "       [ 8.345434 ],\n",
       "       [ 9.179986 ],\n",
       "       [11.905458 ],\n",
       "       [ 7.6609616],\n",
       "       [ 6.084078 ],\n",
       "       [11.000395 ],\n",
       "       [ 6.718172 ],\n",
       "       [ 4.8047357],\n",
       "       [ 7.276359 ],\n",
       "       [12.460356 ],\n",
       "       [ 8.776553 ],\n",
       "       [12.397765 ],\n",
       "       [ 9.24568  ],\n",
       "       [ 6.9410505],\n",
       "       [ 8.296892 ],\n",
       "       [ 6.3267264],\n",
       "       [12.40648  ],\n",
       "       [ 8.284383 ],\n",
       "       [ 8.150361 ],\n",
       "       [ 8.974317 ],\n",
       "       [ 5.888439 ],\n",
       "       [ 8.03502  ],\n",
       "       [10.916157 ],\n",
       "       [ 8.373261 ],\n",
       "       [ 8.231909 ],\n",
       "       [11.797864 ],\n",
       "       [ 7.1208034],\n",
       "       [ 6.950227 ],\n",
       "       [ 8.484    ],\n",
       "       [12.616222 ],\n",
       "       [14.245023 ],\n",
       "       [12.983121 ],\n",
       "       [12.0715885],\n",
       "       [ 7.709001 ],\n",
       "       [ 6.6172876],\n",
       "       [11.109467 ],\n",
       "       [ 7.38963  ],\n",
       "       [ 7.9865417],\n",
       "       [ 7.6787148],\n",
       "       [ 6.06931  ],\n",
       "       [ 8.126458 ],\n",
       "       [ 8.018137 ],\n",
       "       [10.977423 ],\n",
       "       [12.493636 ],\n",
       "       [10.755705 ],\n",
       "       [ 9.424359 ],\n",
       "       [ 8.118018 ],\n",
       "       [ 5.9268517],\n",
       "       [ 8.233031 ],\n",
       "       [ 6.9276752],\n",
       "       [10.896983 ],\n",
       "       [12.322838 ],\n",
       "       [12.8642025],\n",
       "       [11.625945 ],\n",
       "       [ 9.162735 ],\n",
       "       [13.148248 ],\n",
       "       [ 6.422688 ],\n",
       "       [ 6.5861263],\n",
       "       [11.6764345],\n",
       "       [ 8.103347 ],\n",
       "       [ 5.450925 ],\n",
       "       [ 6.671833 ],\n",
       "       [ 7.644856 ],\n",
       "       [ 8.149692 ],\n",
       "       [ 9.259544 ],\n",
       "       [12.700395 ],\n",
       "       [ 6.344114 ],\n",
       "       [ 7.1193767],\n",
       "       [12.053756 ],\n",
       "       [12.044412 ],\n",
       "       [ 8.62738  ],\n",
       "       [ 8.58669  ],\n",
       "       [12.096652 ],\n",
       "       [11.998678 ],\n",
       "       [ 7.805787 ],\n",
       "       [ 6.9526644],\n",
       "       [ 7.955435 ],\n",
       "       [ 7.852948 ],\n",
       "       [ 7.8997073],\n",
       "       [ 4.8720284],\n",
       "       [11.6364155],\n",
       "       [ 8.696376 ],\n",
       "       [12.834483 ],\n",
       "       [12.467128 ],\n",
       "       [ 7.766969 ],\n",
       "       [ 8.3152   ],\n",
       "       [13.232207 ],\n",
       "       [11.990947 ],\n",
       "       [ 5.7442155],\n",
       "       [13.598552 ],\n",
       "       [11.331896 ],\n",
       "       [ 9.462083 ],\n",
       "       [ 4.061846 ],\n",
       "       [12.170747 ],\n",
       "       [12.154478 ],\n",
       "       [ 8.176449 ],\n",
       "       [ 6.997913 ],\n",
       "       [ 8.300879 ],\n",
       "       [ 8.73049  ],\n",
       "       [ 5.6432414],\n",
       "       [12.174484 ],\n",
       "       [ 5.8404818],\n",
       "       [12.48835  ],\n",
       "       [ 8.292262 ],\n",
       "       [ 7.046748 ],\n",
       "       [12.0598545],\n",
       "       [12.343978 ],\n",
       "       [11.800607 ],\n",
       "       [ 9.57012  ],\n",
       "       [ 6.9134574],\n",
       "       [13.896962 ],\n",
       "       [ 9.386012 ],\n",
       "       [ 6.1633244],\n",
       "       [ 7.926635 ],\n",
       "       [12.325664 ],\n",
       "       [12.863074 ],\n",
       "       [ 6.9017744],\n",
       "       [ 6.336722 ],\n",
       "       [ 7.6569376],\n",
       "       [11.222393 ],\n",
       "       [12.074616 ],\n",
       "       [11.903828 ],\n",
       "       [ 8.125459 ],\n",
       "       [11.56632  ],\n",
       "       [11.762773 ],\n",
       "       [ 7.324749 ],\n",
       "       [ 7.94164  ],\n",
       "       [12.204982 ],\n",
       "       [12.260157 ],\n",
       "       [ 8.550625 ],\n",
       "       [ 5.8208876],\n",
       "       [10.613006 ],\n",
       "       [ 5.5875134],\n",
       "       [ 4.24961  ],\n",
       "       [ 5.9987426],\n",
       "       [11.704101 ],\n",
       "       [ 7.7641354],\n",
       "       [ 5.7607183],\n",
       "       [ 7.063428 ],\n",
       "       [ 8.201518 ],\n",
       "       [ 4.9462147],\n",
       "       [ 5.655576 ],\n",
       "       [ 7.801409 ],\n",
       "       [12.185918 ],\n",
       "       [11.751016 ],\n",
       "       [12.272763 ],\n",
       "       [ 6.072052 ],\n",
       "       [ 8.735873 ],\n",
       "       [10.373848 ],\n",
       "       [ 8.3464985],\n",
       "       [ 7.6715617],\n",
       "       [ 9.381332 ],\n",
       "       [12.16283  ],\n",
       "       [ 7.832358 ],\n",
       "       [ 5.2356653],\n",
       "       [12.751424 ],\n",
       "       [ 6.5915737],\n",
       "       [ 6.214033 ],\n",
       "       [ 6.8989725],\n",
       "       [11.732653 ],\n",
       "       [ 7.674997 ],\n",
       "       [10.727775 ],\n",
       "       [ 8.960139 ],\n",
       "       [ 6.8397737],\n",
       "       [ 7.7393365],\n",
       "       [ 6.932599 ],\n",
       "       [11.569232 ],\n",
       "       [ 8.775375 ],\n",
       "       [ 7.953509 ],\n",
       "       [ 8.764979 ],\n",
       "       [ 6.9738483],\n",
       "       [ 6.878164 ],\n",
       "       [10.762746 ],\n",
       "       [ 7.9305344],\n",
       "       [ 8.2875595],\n",
       "       [12.021301 ],\n",
       "       [ 6.7731566],\n",
       "       [ 7.6438756],\n",
       "       [10.228128 ],\n",
       "       [13.594568 ],\n",
       "       [13.378729 ],\n",
       "       [12.354626 ],\n",
       "       [ 7.264833 ],\n",
       "       [ 7.144597 ],\n",
       "       [11.939885 ],\n",
       "       [ 7.65622  ],\n",
       "       [ 6.1881385],\n",
       "       [ 8.423451 ],\n",
       "       [ 6.9198933],\n",
       "       [ 7.737772 ],\n",
       "       [ 8.116204 ],\n",
       "       [11.521447 ],\n",
       "       [11.909128 ],\n",
       "       [12.365177 ],\n",
       "       [ 9.194489 ],\n",
       "       [ 7.9038134],\n",
       "       [ 5.8080473],\n",
       "       [ 8.046039 ],\n",
       "       [ 7.23514  ],\n",
       "       [10.219035 ],\n",
       "       [11.130256 ],\n",
       "       [13.278155 ],\n",
       "       [12.741743 ],\n",
       "       [ 8.950439 ],\n",
       "       [12.644991 ],\n",
       "       [ 8.726549 ],\n",
       "       [ 5.8868103],\n",
       "       [11.914913 ],\n",
       "       [ 8.659998 ],\n",
       "       [ 5.321445 ],\n",
       "       [ 4.378574 ],\n",
       "       [ 7.8754983],\n",
       "       [ 8.177063 ],\n",
       "       [ 8.788612 ],\n",
       "       [13.303139 ],\n",
       "       [ 5.0827127],\n",
       "       [ 5.8087955],\n",
       "       [12.480994 ],\n",
       "       [11.748136 ],\n",
       "       [ 9.503268 ],\n",
       "       [ 8.561977 ],\n",
       "       [11.765242 ],\n",
       "       [11.770231 ],\n",
       "       [ 8.314366 ],\n",
       "       [ 7.251057 ]], dtype=float32)"
      ]
     },
     "execution_count": 43,
     "metadata": {},
     "output_type": "execute_result"
    }
   ],
   "source": [
    "pre = model.predict(feature_test)\n",
    "pre"
   ]
  },
  {
   "cell_type": "code",
   "execution_count": 44,
   "metadata": {
    "ExecuteTime": {
     "end_time": "2021-09-07T02:10:26.138674Z",
     "start_time": "2021-09-07T02:10:26.126641Z"
    }
   },
   "outputs": [
    {
     "data": {
      "text/plain": [
       "array([[0.],\n",
       "       [0.],\n",
       "       [0.],\n",
       "       [0.],\n",
       "       [0.],\n",
       "       [0.],\n",
       "       [0.],\n",
       "       [0.],\n",
       "       [0.],\n",
       "       [0.],\n",
       "       [0.],\n",
       "       [0.],\n",
       "       [0.],\n",
       "       [0.],\n",
       "       [0.],\n",
       "       [0.],\n",
       "       [0.],\n",
       "       [0.],\n",
       "       [0.],\n",
       "       [0.],\n",
       "       [0.],\n",
       "       [0.],\n",
       "       [0.],\n",
       "       [0.],\n",
       "       [0.],\n",
       "       [0.],\n",
       "       [0.],\n",
       "       [0.],\n",
       "       [0.],\n",
       "       [0.],\n",
       "       [0.],\n",
       "       [0.],\n",
       "       [0.],\n",
       "       [0.],\n",
       "       [0.],\n",
       "       [0.],\n",
       "       [0.],\n",
       "       [0.],\n",
       "       [0.],\n",
       "       [0.],\n",
       "       [0.],\n",
       "       [0.],\n",
       "       [0.],\n",
       "       [0.],\n",
       "       [0.],\n",
       "       [0.],\n",
       "       [0.],\n",
       "       [0.],\n",
       "       [0.],\n",
       "       [0.],\n",
       "       [0.],\n",
       "       [0.],\n",
       "       [0.],\n",
       "       [0.],\n",
       "       [0.],\n",
       "       [0.],\n",
       "       [0.],\n",
       "       [0.],\n",
       "       [0.],\n",
       "       [0.],\n",
       "       [0.],\n",
       "       [0.],\n",
       "       [0.],\n",
       "       [0.],\n",
       "       [0.],\n",
       "       [0.],\n",
       "       [0.],\n",
       "       [0.],\n",
       "       [0.],\n",
       "       [0.],\n",
       "       [0.],\n",
       "       [0.],\n",
       "       [0.],\n",
       "       [0.],\n",
       "       [0.],\n",
       "       [0.],\n",
       "       [0.],\n",
       "       [0.],\n",
       "       [0.],\n",
       "       [0.],\n",
       "       [0.],\n",
       "       [0.],\n",
       "       [0.],\n",
       "       [0.],\n",
       "       [0.],\n",
       "       [0.],\n",
       "       [0.],\n",
       "       [0.],\n",
       "       [0.],\n",
       "       [0.],\n",
       "       [0.],\n",
       "       [0.],\n",
       "       [0.],\n",
       "       [0.],\n",
       "       [0.],\n",
       "       [0.],\n",
       "       [0.],\n",
       "       [0.],\n",
       "       [0.],\n",
       "       [0.],\n",
       "       [0.],\n",
       "       [0.],\n",
       "       [0.],\n",
       "       [0.],\n",
       "       [0.],\n",
       "       [0.],\n",
       "       [0.],\n",
       "       [0.],\n",
       "       [0.],\n",
       "       [0.],\n",
       "       [0.],\n",
       "       [0.],\n",
       "       [0.],\n",
       "       [0.],\n",
       "       [0.],\n",
       "       [0.],\n",
       "       [0.],\n",
       "       [0.],\n",
       "       [0.],\n",
       "       [0.],\n",
       "       [0.],\n",
       "       [0.],\n",
       "       [0.],\n",
       "       [0.],\n",
       "       [0.],\n",
       "       [0.],\n",
       "       [0.],\n",
       "       [0.],\n",
       "       [0.],\n",
       "       [0.],\n",
       "       [0.],\n",
       "       [0.],\n",
       "       [0.],\n",
       "       [0.],\n",
       "       [0.],\n",
       "       [0.],\n",
       "       [0.],\n",
       "       [0.],\n",
       "       [0.],\n",
       "       [0.],\n",
       "       [0.],\n",
       "       [0.],\n",
       "       [0.],\n",
       "       [0.],\n",
       "       [0.],\n",
       "       [0.],\n",
       "       [0.],\n",
       "       [0.],\n",
       "       [0.],\n",
       "       [0.],\n",
       "       [0.],\n",
       "       [0.],\n",
       "       [0.],\n",
       "       [0.],\n",
       "       [0.],\n",
       "       [0.],\n",
       "       [0.],\n",
       "       [0.],\n",
       "       [0.],\n",
       "       [0.],\n",
       "       [0.],\n",
       "       [0.],\n",
       "       [0.],\n",
       "       [0.],\n",
       "       [0.],\n",
       "       [0.],\n",
       "       [0.],\n",
       "       [0.],\n",
       "       [0.],\n",
       "       [0.],\n",
       "       [0.],\n",
       "       [0.],\n",
       "       [0.],\n",
       "       [0.],\n",
       "       [0.],\n",
       "       [0.],\n",
       "       [0.],\n",
       "       [0.],\n",
       "       [0.],\n",
       "       [0.],\n",
       "       [0.],\n",
       "       [0.],\n",
       "       [0.],\n",
       "       [0.],\n",
       "       [0.],\n",
       "       [0.],\n",
       "       [0.],\n",
       "       [0.],\n",
       "       [0.],\n",
       "       [0.],\n",
       "       [0.],\n",
       "       [0.],\n",
       "       [0.],\n",
       "       [0.],\n",
       "       [0.],\n",
       "       [0.],\n",
       "       [0.],\n",
       "       [0.],\n",
       "       [0.],\n",
       "       [0.],\n",
       "       [0.],\n",
       "       [0.],\n",
       "       [0.],\n",
       "       [0.],\n",
       "       [0.],\n",
       "       [0.],\n",
       "       [0.],\n",
       "       [0.],\n",
       "       [0.],\n",
       "       [0.],\n",
       "       [0.],\n",
       "       [0.],\n",
       "       [0.],\n",
       "       [0.],\n",
       "       [0.],\n",
       "       [0.],\n",
       "       [0.],\n",
       "       [0.],\n",
       "       [0.],\n",
       "       [0.],\n",
       "       [0.],\n",
       "       [0.],\n",
       "       [0.],\n",
       "       [0.],\n",
       "       [0.],\n",
       "       [0.],\n",
       "       [0.],\n",
       "       [0.],\n",
       "       [0.],\n",
       "       [0.],\n",
       "       [0.],\n",
       "       [0.],\n",
       "       [0.],\n",
       "       [0.],\n",
       "       [0.],\n",
       "       [0.],\n",
       "       [0.],\n",
       "       [0.],\n",
       "       [0.],\n",
       "       [0.],\n",
       "       [0.],\n",
       "       [0.],\n",
       "       [0.],\n",
       "       [0.],\n",
       "       [0.],\n",
       "       [0.],\n",
       "       [0.],\n",
       "       [0.],\n",
       "       [0.],\n",
       "       [0.],\n",
       "       [0.],\n",
       "       [0.],\n",
       "       [0.],\n",
       "       [0.],\n",
       "       [0.],\n",
       "       [0.],\n",
       "       [0.],\n",
       "       [0.],\n",
       "       [0.],\n",
       "       [0.],\n",
       "       [0.],\n",
       "       [0.],\n",
       "       [0.],\n",
       "       [0.],\n",
       "       [0.],\n",
       "       [0.],\n",
       "       [0.],\n",
       "       [0.],\n",
       "       [0.],\n",
       "       [0.],\n",
       "       [0.],\n",
       "       [0.],\n",
       "       [0.],\n",
       "       [0.],\n",
       "       [0.],\n",
       "       [0.],\n",
       "       [0.],\n",
       "       [0.],\n",
       "       [0.],\n",
       "       [0.],\n",
       "       [0.],\n",
       "       [0.],\n",
       "       [0.],\n",
       "       [0.],\n",
       "       [0.],\n",
       "       [0.],\n",
       "       [0.],\n",
       "       [0.],\n",
       "       [0.],\n",
       "       [0.],\n",
       "       [0.],\n",
       "       [0.],\n",
       "       [0.],\n",
       "       [0.],\n",
       "       [0.],\n",
       "       [0.],\n",
       "       [0.],\n",
       "       [0.],\n",
       "       [0.],\n",
       "       [0.],\n",
       "       [0.],\n",
       "       [0.],\n",
       "       [0.],\n",
       "       [0.],\n",
       "       [0.],\n",
       "       [0.],\n",
       "       [0.],\n",
       "       [0.],\n",
       "       [0.],\n",
       "       [0.],\n",
       "       [0.],\n",
       "       [0.],\n",
       "       [0.],\n",
       "       [0.],\n",
       "       [0.],\n",
       "       [0.],\n",
       "       [0.],\n",
       "       [0.],\n",
       "       [0.],\n",
       "       [0.],\n",
       "       [0.],\n",
       "       [0.],\n",
       "       [0.],\n",
       "       [0.],\n",
       "       [0.],\n",
       "       [0.],\n",
       "       [0.],\n",
       "       [0.],\n",
       "       [0.],\n",
       "       [0.],\n",
       "       [0.],\n",
       "       [0.],\n",
       "       [0.],\n",
       "       [0.],\n",
       "       [0.],\n",
       "       [0.],\n",
       "       [0.],\n",
       "       [0.],\n",
       "       [0.],\n",
       "       [0.],\n",
       "       [0.],\n",
       "       [0.],\n",
       "       [0.],\n",
       "       [0.],\n",
       "       [0.],\n",
       "       [0.],\n",
       "       [0.],\n",
       "       [0.],\n",
       "       [0.],\n",
       "       [0.],\n",
       "       [0.],\n",
       "       [0.],\n",
       "       [0.],\n",
       "       [0.],\n",
       "       [0.],\n",
       "       [0.],\n",
       "       [0.],\n",
       "       [0.],\n",
       "       [0.],\n",
       "       [0.],\n",
       "       [0.],\n",
       "       [0.],\n",
       "       [0.],\n",
       "       [0.],\n",
       "       [0.],\n",
       "       [0.],\n",
       "       [0.],\n",
       "       [0.],\n",
       "       [0.],\n",
       "       [0.],\n",
       "       [0.],\n",
       "       [0.],\n",
       "       [0.],\n",
       "       [0.],\n",
       "       [0.],\n",
       "       [0.],\n",
       "       [0.],\n",
       "       [0.],\n",
       "       [0.],\n",
       "       [0.],\n",
       "       [0.],\n",
       "       [0.],\n",
       "       [0.],\n",
       "       [0.],\n",
       "       [0.],\n",
       "       [0.],\n",
       "       [0.],\n",
       "       [0.],\n",
       "       [0.],\n",
       "       [0.],\n",
       "       [0.],\n",
       "       [0.],\n",
       "       [0.],\n",
       "       [0.],\n",
       "       [0.],\n",
       "       [0.],\n",
       "       [0.],\n",
       "       [0.],\n",
       "       [0.],\n",
       "       [0.],\n",
       "       [0.],\n",
       "       [0.],\n",
       "       [0.],\n",
       "       [0.],\n",
       "       [0.],\n",
       "       [0.],\n",
       "       [0.],\n",
       "       [0.],\n",
       "       [0.],\n",
       "       [0.],\n",
       "       [0.],\n",
       "       [0.],\n",
       "       [0.],\n",
       "       [0.],\n",
       "       [0.],\n",
       "       [0.],\n",
       "       [0.],\n",
       "       [0.],\n",
       "       [0.],\n",
       "       [0.],\n",
       "       [0.],\n",
       "       [0.],\n",
       "       [0.],\n",
       "       [0.],\n",
       "       [0.],\n",
       "       [0.],\n",
       "       [0.],\n",
       "       [0.],\n",
       "       [0.],\n",
       "       [0.],\n",
       "       [0.],\n",
       "       [0.],\n",
       "       [0.],\n",
       "       [0.],\n",
       "       [0.],\n",
       "       [0.],\n",
       "       [0.],\n",
       "       [0.],\n",
       "       [0.],\n",
       "       [0.],\n",
       "       [0.],\n",
       "       [0.],\n",
       "       [0.],\n",
       "       [0.],\n",
       "       [0.],\n",
       "       [0.],\n",
       "       [0.],\n",
       "       [0.],\n",
       "       [0.],\n",
       "       [0.],\n",
       "       [0.],\n",
       "       [0.],\n",
       "       [0.],\n",
       "       [0.],\n",
       "       [0.],\n",
       "       [0.],\n",
       "       [0.],\n",
       "       [0.],\n",
       "       [0.],\n",
       "       [0.],\n",
       "       [0.],\n",
       "       [0.],\n",
       "       [0.],\n",
       "       [0.],\n",
       "       [0.],\n",
       "       [0.],\n",
       "       [0.],\n",
       "       [0.],\n",
       "       [0.],\n",
       "       [0.],\n",
       "       [0.],\n",
       "       [0.],\n",
       "       [0.],\n",
       "       [0.],\n",
       "       [0.],\n",
       "       [0.],\n",
       "       [0.],\n",
       "       [0.],\n",
       "       [0.],\n",
       "       [0.],\n",
       "       [0.],\n",
       "       [0.],\n",
       "       [0.],\n",
       "       [0.],\n",
       "       [0.],\n",
       "       [0.],\n",
       "       [0.],\n",
       "       [0.],\n",
       "       [0.],\n",
       "       [0.],\n",
       "       [0.],\n",
       "       [0.],\n",
       "       [0.],\n",
       "       [0.],\n",
       "       [0.],\n",
       "       [0.],\n",
       "       [0.],\n",
       "       [0.],\n",
       "       [0.],\n",
       "       [0.],\n",
       "       [0.],\n",
       "       [0.],\n",
       "       [0.],\n",
       "       [0.],\n",
       "       [0.],\n",
       "       [0.],\n",
       "       [0.],\n",
       "       [0.],\n",
       "       [0.],\n",
       "       [0.],\n",
       "       [0.],\n",
       "       [0.],\n",
       "       [0.],\n",
       "       [0.],\n",
       "       [0.],\n",
       "       [0.],\n",
       "       [0.],\n",
       "       [0.],\n",
       "       [0.],\n",
       "       [0.],\n",
       "       [0.],\n",
       "       [0.],\n",
       "       [0.],\n",
       "       [0.],\n",
       "       [0.],\n",
       "       [0.],\n",
       "       [0.],\n",
       "       [0.],\n",
       "       [0.],\n",
       "       [0.],\n",
       "       [0.],\n",
       "       [0.],\n",
       "       [0.],\n",
       "       [0.],\n",
       "       [0.],\n",
       "       [0.],\n",
       "       [0.],\n",
       "       [0.],\n",
       "       [0.],\n",
       "       [0.],\n",
       "       [0.],\n",
       "       [0.],\n",
       "       [0.],\n",
       "       [0.],\n",
       "       [0.],\n",
       "       [0.],\n",
       "       [0.],\n",
       "       [0.],\n",
       "       [0.],\n",
       "       [0.],\n",
       "       [0.],\n",
       "       [0.],\n",
       "       [0.],\n",
       "       [0.],\n",
       "       [0.],\n",
       "       [0.],\n",
       "       [0.],\n",
       "       [0.],\n",
       "       [0.],\n",
       "       [0.],\n",
       "       [0.],\n",
       "       [0.],\n",
       "       [0.],\n",
       "       [0.],\n",
       "       [0.],\n",
       "       [0.],\n",
       "       [0.],\n",
       "       [0.],\n",
       "       [0.],\n",
       "       [0.],\n",
       "       [0.],\n",
       "       [0.],\n",
       "       [0.],\n",
       "       [0.],\n",
       "       [0.],\n",
       "       [0.],\n",
       "       [0.],\n",
       "       [0.],\n",
       "       [0.],\n",
       "       [0.],\n",
       "       [0.],\n",
       "       [0.],\n",
       "       [0.],\n",
       "       [0.],\n",
       "       [0.],\n",
       "       [0.],\n",
       "       [0.],\n",
       "       [0.],\n",
       "       [0.],\n",
       "       [0.],\n",
       "       [0.],\n",
       "       [0.],\n",
       "       [0.],\n",
       "       [0.],\n",
       "       [0.],\n",
       "       [0.],\n",
       "       [0.]], dtype=float32)"
      ]
     },
     "execution_count": 44,
     "metadata": {},
     "output_type": "execute_result"
    }
   ],
   "source": [
    "diff_pre = pre0-pre\n",
    "diff_pre"
   ]
  },
  {
   "cell_type": "code",
   "execution_count": 45,
   "metadata": {
    "ExecuteTime": {
     "end_time": "2021-09-07T02:10:32.170176Z",
     "start_time": "2021-09-07T02:10:32.167688Z"
    }
   },
   "outputs": [],
   "source": [
    "small = 0.0001\n",
    "if np.max(np.abs(pre0 - pre)) > small:\n",
    "    different = True\n",
    "else:\n",
    "    different = False"
   ]
  },
  {
   "cell_type": "code",
   "execution_count": 46,
   "metadata": {
    "ExecuteTime": {
     "end_time": "2021-09-07T02:10:44.698359Z",
     "start_time": "2021-09-07T02:10:44.692340Z"
    },
    "scrolled": false
   },
   "outputs": [],
   "source": [
    "if different:\n",
    "    b, err = pre_ana(pre, label_test)\n",
    "    fout = open(path_fitinfo, 'a')\n",
    "    print(\"Prediction(Saved model):\")\n",
    "    print(\"\\nPrediction(Saved model):\", file=fout)\n",
    "    for key in b.keys():\n",
    "        print(f\"  {key:<20}: {b[key]:>11.7f}  VS  {a[key]:>11.7f}  diff= {(b[key]-a[key]):>11.7f}\")\n",
    "        print(f\"  {key:<20}: {b[key]:>11.7f}  VS  {a[key]:>11.7f}  diff= {(b[key]-a[key]):>11.7f}\", file=fout)\n",
    "    fout.close()"
   ]
  },
  {
   "cell_type": "markdown",
   "metadata": {},
   "source": [
    "## 将本来值、预测值输出到文件中"
   ]
  },
  {
   "cell_type": "code",
   "execution_count": null,
   "metadata": {},
   "outputs": [],
   "source": [
    "file_pre_txt =  model_pre_time + '_pre.txt'\n",
    "path_pre_txt = os.path.join(path_pre,file_pre_txt)"
   ]
  },
  {
   "cell_type": "code",
   "execution_count": null,
   "metadata": {},
   "outputs": [],
   "source": [
    "fout = open(path_pre_txt,'w')\n",
    "str_no = 'No.'\n",
    "str_lab = 'Label'\n",
    "str_pre = 'Pre_best'\n",
    "str_diff = 'Diff'\n",
    "str_err = 'Error'\n",
    "str_pre2 = 'Pre_saved'\n",
    "str_pre_diff = 'Pre_diff'\n",
    "print(f\"{str_no:>5} {str_lab:>5} {str_pre:>8} {str_diff:>8} {str_err:>10} {str_pre2:>8} {str_pre_diff:>8}\")\n",
    "print(f\"{str_no:>5} {str_lab:>5} {str_pre:>8} {str_diff:>8} {str_err:>10} {str_pre2:>8} {str_pre_diff:>8}\", file=fout)"
   ]
  },
  {
   "cell_type": "code",
   "execution_count": null,
   "metadata": {},
   "outputs": [],
   "source": [
    "for i in range(pre.size):\n",
    "    print(f\"{i+1:>5d} {label_test[i][0]:>5.1f} {pre0[i][0]:>8.4f} {diff[i][0]:>8.4f} {err[i][0]:>11.3E} {pre[i][0]:>8.4f} {diff_pre[i][0]:>8.4f}\")\n",
    "    print(f\"{i+1:>5d} {label_test[i][0]:>5.1f} {pre0[i][0]:>8.4f} {diff[i][0]:>8.4f} {err[i][0]:>11.3E} {pre[i][0]:>8.4f} {diff_pre[i][0]:>8.4f}\", file=fout)\n",
    "#    fout.write(f\"{i:>5d} {label_test[i]:>11.7f} {pre[i]:>11.7f} {diff[i]:>11.7f} {err[i]:>11.3E}\\n\")\n",
    "fout.close()"
   ]
  },
  {
   "cell_type": "markdown",
   "metadata": {},
   "source": [
    "#### 预测test的图形比较"
   ]
  },
  {
   "cell_type": "code",
   "execution_count": 47,
   "metadata": {
    "ExecuteTime": {
     "end_time": "2021-09-07T02:10:53.597631Z",
     "start_time": "2021-09-07T02:10:53.594124Z"
    }
   },
   "outputs": [],
   "source": [
    "def plot_PredictionError(ylim,ind=0):\n",
    "    \"\"\"\n",
    "    \"\"\"\n",
    "#\n",
    "    prediction_error = model_pre + \"_prediction_error\" + f\"_{ind}\"\n",
    "    plt.plot(err, label = f'{label_index}')\n",
    "    plt.xlabel('Test series')\n",
    "    plt.ylabel('Error')\n",
    "    plt.ylim(ylim)\n",
    "    plt.legend(loc='upper left',fontsize=12)\n",
    "    plt.title(f\"{model_pre}\\nPrediction Error\", fontsize=16)\n",
    "    save_fig(prediction_error, path_plot)"
   ]
  },
  {
   "cell_type": "code",
   "execution_count": 49,
   "metadata": {
    "ExecuteTime": {
     "end_time": "2021-09-07T02:11:21.392317Z",
     "start_time": "2021-09-07T02:11:20.929547Z"
    },
    "scrolled": true
   },
   "outputs": [
    {
     "name": "stdout",
     "output_type": "stream",
     "text": [
      "Saving figure au150_DW_cn_3level_neuron_prediction_error_0\n"
     ]
    },
    {
     "data": {
      "image/png": "[encoded data removed]",
      "text/plain": [
       "<Figure size 432x288 with 1 Axes>"
      ]
     },
     "metadata": {
      "needs_background": "light"
     },
     "output_type": "display_data"
    }
   ],
   "source": [
    "plot_PredictionError([-0.5,6],ind=0)"
   ]
  },
  {
   "cell_type": "code",
   "execution_count": 50,
   "metadata": {
    "ExecuteTime": {
     "end_time": "2021-09-07T02:11:34.604957Z",
     "start_time": "2021-09-07T02:11:34.139135Z"
    },
    "scrolled": true
   },
   "outputs": [
    {
     "name": "stdout",
     "output_type": "stream",
     "text": [
      "Saving figure au150_DW_cn_3level_neuron_prediction_error_2\n"
     ]
    },
    {
     "data": {
      "image/png": "[encoded data removed]",
      "text/plain": [
       "<Figure size 432x288 with 1 Axes>"
      ]
     },
     "metadata": {
      "needs_background": "light"
     },
     "output_type": "display_data"
    }
   ],
   "source": [
    "plot_PredictionError([-0.2,0.3],ind=2)"
   ]
  },
  {
   "cell_type": "markdown",
   "metadata": {},
   "source": [
    "直接比较"
   ]
  },
  {
   "cell_type": "markdown",
   "metadata": {},
   "source": [
    "原来代码"
   ]
  },
  {
   "cell_type": "markdown",
   "metadata": {},
   "source": [
    "#x_low and x_high are the border of x-axis for plotting\n",
    "x_low = 0\n",
    "x_high = 50\n",
    "#x_ticks is the step show for x-axis plottong\n",
    "x_ticks = 10\n",
    "prediction_compare = model_pre + f\"_prediction_compare_{label_index}_{x_low}_{x_high}\"\n",
    "x = range(pre.shape[0])\n",
    "plt.figure(figsize=(8, 8))\n",
    "plt.scatter(x,label_test, marker='o', label = f'{label_index}')\n",
    "plt.scatter(x,pre, marker='^', label = f'{label_index}_pre')\n",
    "plt.xlabel('Test series')\n",
    "plt.ylabel(f'{label_index}')\n",
    "plt.xlim(x_low,x_high)\n",
    "plt.ylim(min(np.min(label_test),np.min(pre)), max(np.max(label_test),np.max(pre)))\n",
    "plt.xticks(np.arange(x_low,x_high+1,x_ticks), rotation=0)#rotation控制倾斜角度\n",
    "#plt.yticks(np.arange(np.max(label_test)-1, np.max(label_test)+1, 2))\n",
    "#plt.yticks(np.arange(np.around(np.min(label_test),1)-0.1, np.around(np.max(label_test),1)+0.1, 0.2))\n",
    "#plt.legend(loc='lower right')\n",
    "plt.legend(loc='upper right', fontsize=12)\n",
    "plt.title(f\"{model_pre}\\nRegression Performance\", fontsize=16)\n",
    "save_fig(prediction_compare, path_plot)"
   ]
  },
  {
   "cell_type": "code",
   "execution_count": 51,
   "metadata": {
    "ExecuteTime": {
     "end_time": "2021-09-07T03:33:28.378175Z",
     "start_time": "2021-09-07T03:33:28.373163Z"
    }
   },
   "outputs": [],
   "source": [
    "def plot_PredictionCompare(x_low, x_high, x_ticks=10):\n",
    "    \"\"\"\n",
    "    \"\"\"\n",
    "#\n",
    "    prediction_compare = model_pre + f\"_prediction_compare_{label_index}_{x_low}_{x_high}\"\n",
    "    x = range(pre.shape[0])\n",
    "    plt.figure(figsize=(8, 8))\n",
    "    plt.scatter(x,label_test, marker='o', label = f'{label_index}')\n",
    "    plt.scatter(x,pre, marker='^', label = f'{label_index}_pre')\n",
    "    plt.xlabel('Test series')\n",
    "    plt.ylabel(f'{label_index}')\n",
    "    plt.xlim(x_low,x_high)\n",
    "    plt.ylim(min(np.min(label_test),np.min(pre)), max(np.max(label_test),np.max(pre)))\n",
    "    plt.xticks(np.arange(x_low,x_high+1,x_ticks), rotation=0)#rotation控制倾斜角度\n",
    "#plt.yticks(np.arange(np.max(label_test)-1, np.max(label_test)+1, 2))\n",
    "#plt.yticks(np.arange(np.around(np.min(label_test),1)-0.1, np.around(np.max(label_test),1)+0.1, 0.2))\n",
    "    plt.legend(loc='upper right', fontsize=12)\n",
    "    plt.title(f\"{model_pre}\\nRegression Performance\", fontsize=16)\n",
    "    save_fig(prediction_compare, path_plot)"
   ]
  },
  {
   "cell_type": "code",
   "execution_count": null,
   "metadata": {},
   "outputs": [],
   "source": [
    "step = 50\n",
    "for i in range(0,pre.size, step):\n",
    "    plot_PredictionCompare(i, min(i+step, pre.size))"
   ]
  },
  {
   "cell_type": "code",
   "execution_count": null,
   "metadata": {},
   "outputs": [],
   "source": []
  }
 ],
 "metadata": {
  "colab": {
   "collapsed_sections": [],
   "name": "多元回归问题 0818",
   "provenance": [],
   "toc_visible": true
  },
  "kernelspec": {
   "display_name": "Python 3 (ipykernel)",
   "language": "python",
   "name": "python3"
  },
  "language_info": {
   "codemirror_mode": {
    "name": "ipython",
    "version": 3
   },
   "file_extension": ".py",
   "mimetype": "text/x-python",
   "name": "python",
   "nbconvert_exporter": "python",
   "pygments_lexer": "ipython3",
   "version": "3.9.7"
  },
  "toc": {
   "base_numbering": 1,
   "nav_menu": {},
   "number_sections": true,
   "sideBar": true,
   "skip_h1_title": false,
   "title_cell": "Table of Contents",
   "title_sidebar": "Contents",
   "toc_cell": false,
   "toc_position": {
    "height": "calc(100% - 180px)",
    "left": "10px",
    "top": "150px",
    "width": "230.4px"
   },
   "toc_section_display": true,
   "toc_window_display": true
  },
  "varInspector": {
   "cols": {
    "lenName": 16,
    "lenType": 16,
    "lenVar": 40
   },
   "kernels_config": {
    "python": {
     "delete_cmd_postfix": "",
     "delete_cmd_prefix": "del ",
     "library": "var_list.py",
     "varRefreshCmd": "print(var_dic_list())"
    },
    "r": {
     "delete_cmd_postfix": ") ",
     "delete_cmd_prefix": "rm(",
     "library": "var_list.r",
     "varRefreshCmd": "cat(var_dic_list()) "
    }
   },
   "position": {
    "height": "144.5px",
    "left": "909px",
    "right": "20px",
    "top": "120px",
    "width": "350px"
   },
   "types_to_exclude": [
    "module",
    "function",
    "builtin_function_or_method",
    "instance",
    "_Feature"
   ],
   "window_display": false
  }
 },
 "nbformat": 4,
 "nbformat_minor": 1
}
