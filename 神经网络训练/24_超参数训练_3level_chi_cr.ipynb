{
 "cells": [
  {
   "cell_type": "markdown",
   "metadata": {},
   "source": [
    "## 本程序读取train、validation、test的feature、label文件（在“datasets”文件夹下），然后构建网络进行超参数训练。输出在“hyper-param_tuning”中。"
   ]
  },
  {
   "cell_type": "markdown",
   "metadata": {},
   "source": [
    "last update: 2021.9.7"
   ]
  },
  {
   "cell_type": "markdown",
   "metadata": {},
   "source": [
    "contacts：zhaohf@ihep.ac.cn"
   ]
  },
  {
   "cell_type": "markdown",
   "metadata": {},
   "source": [
    "# 配置环境"
   ]
  },
  {
   "cell_type": "markdown",
   "metadata": {},
   "source": [
    "## 导入所需模块"
   ]
  },
  {
   "cell_type": "code",
   "execution_count": 5,
   "metadata": {
    "ExecuteTime": {
     "end_time": "2021-12-18T10:34:55.230446Z",
     "start_time": "2021-12-18T10:34:55.215662Z"
    }
   },
   "outputs": [],
   "source": [
    "import os\n",
    "import sys\n",
    "assert sys.version_info >= (3, 5)\n",
    "#\n",
    "import pandas as pd\n",
    "import numpy as np\n",
    "#\n",
    "# TensorFlow ≥2.0 is required\n",
    "import tensorflow as tf\n",
    "assert tf.__version__ >= \"2.0\"\n",
    "import sklearn\n",
    "\n",
    "from tensorflow import keras\n",
    "from tensorflow.keras import optimizers\n",
    "#\n",
    "# pydot_ng and graphviz are for tf.keras.utils.plot_model\n",
    "# note that installing pydot_ng is 'pydot-ng'\n",
    "# note that 在windows下不可以使用pip install graphviz 下载graphviz安装包，\n",
    "# 要去https://graphviz.gitlab.io/下载windows版本的安装包，安装好之后在环境变量中添加对应的路径即可！！！\n",
    "import graphviz\n",
    "import pydot\n",
    "import pydot_ng\n",
    "#\n",
    "import time"
   ]
  },
  {
   "cell_type": "markdown",
   "metadata": {},
   "source": [
    "输出导入模板的版本。"
   ]
  },
  {
   "cell_type": "code",
   "execution_count": 2,
   "metadata": {
    "ExecuteTime": {
     "end_time": "2021-09-07T03:38:26.405077Z",
     "start_time": "2021-09-07T03:38:26.401067Z"
    }
   },
   "outputs": [
    {
     "name": "stdout",
     "output_type": "stream",
     "text": [
      "python version: 3.8.8 (default, Apr 13 2021, 15:08:03) [MSC v.1916 64 bit (AMD64)]\n",
      "TensorFlow version: 2.5.0\n",
      "sciket learn version: 0.24.1\n",
      "numpy version: 1.19.5\n",
      "panda version: 1.2.4\n",
      "graphviz version: 0.17\n",
      "pydot version: 1.4.2\n",
      "pydot_ng version: 2.0.0\n"
     ]
    }
   ],
   "source": [
    "print('python version:',sys.version)\n",
    "print('TensorFlow version:',tf.__version__)\n",
    "print('sciket learn version:',sklearn.__version__)\n",
    "print('numpy version:',np.__version__)\n",
    "print('panda version:',pd.__version__)\n",
    "print('graphviz version:',graphviz.__version__)\n",
    "print('pydot version:',pydot.__version__)\n",
    "print('pydot_ng version:',pydot_ng.__version__)\n",
    "#\n",
    "#print('matplotlib version:',matplotlib.__version__)\n",
    "#print('time version:',time.__version__)"
   ]
  },
  {
   "cell_type": "markdown",
   "metadata": {},
   "source": [
    "## 配置输入文件夹"
   ]
  },
  {
   "cell_type": "markdown",
   "metadata": {},
   "source": [
    "设置train、validation、test的文件夹路径和文件名"
   ]
  },
  {
   "cell_type": "code",
   "execution_count": 3,
   "metadata": {
    "ExecuteTime": {
     "end_time": "2021-09-07T03:38:40.687801Z",
     "start_time": "2021-09-07T03:38:40.684758Z"
    }
   },
   "outputs": [],
   "source": [
    "dir_data = 'datasets'\n",
    "file_train = ['Au_chi_train.txt', 'Au_cr_train.txt']\n",
    "file_valid = ['Au_chi_valid.txt', 'Au_cr_valid.txt']\n",
    "file_test = ['Au_chi_test.txt', 'Au_cr_test.txt']"
   ]
  },
  {
   "cell_type": "markdown",
   "metadata": {},
   "source": [
    "## 配置输出文件夹"
   ]
  },
  {
   "cell_type": "markdown",
   "metadata": {},
   "source": [
    "所有输出文件都保存在一个文件夹内"
   ]
  },
  {
   "cell_type": "code",
   "execution_count": 4,
   "metadata": {
    "ExecuteTime": {
     "end_time": "2021-09-07T03:38:43.113341Z",
     "start_time": "2021-09-07T03:38:43.110333Z"
    }
   },
   "outputs": [],
   "source": [
    "dir_output = 'hyper-param_tuning'"
   ]
  },
  {
   "cell_type": "markdown",
   "metadata": {},
   "source": [
    "设置文件夹放置模型"
   ]
  },
  {
   "cell_type": "code",
   "execution_count": 5,
   "metadata": {
    "ExecuteTime": {
     "end_time": "2021-09-07T03:38:44.990815Z",
     "start_time": "2021-09-07T03:38:44.986821Z"
    }
   },
   "outputs": [],
   "source": [
    "#dir_model = 'model'\n",
    "dir_model = dir_output\n",
    "path_model = os.path.join(os.curdir, dir_model)\n",
    "os.makedirs(path_model, exist_ok=True)"
   ]
  },
  {
   "cell_type": "markdown",
   "metadata": {},
   "source": [
    "设置文件夹“images”，用于放置图片"
   ]
  },
  {
   "cell_type": "code",
   "execution_count": 6,
   "metadata": {
    "ExecuteTime": {
     "end_time": "2021-09-07T03:38:46.709606Z",
     "start_time": "2021-09-07T03:38:46.706596Z"
    }
   },
   "outputs": [],
   "source": [
    "#dir_images = 'images'\n",
    "dir_images = dir_output\n",
    "path_images = os.path.join(os.curdir, dir_images)\n",
    "os.makedirs(path_images, exist_ok=True)"
   ]
  },
  {
   "cell_type": "markdown",
   "metadata": {},
   "source": [
    "设置文件夹“analysis”，用于放置分析结果"
   ]
  },
  {
   "cell_type": "code",
   "execution_count": 7,
   "metadata": {
    "ExecuteTime": {
     "end_time": "2021-09-07T03:38:48.244990Z",
     "start_time": "2021-09-07T03:38:48.241982Z"
    }
   },
   "outputs": [],
   "source": [
    "#dir_ana = 'analysis'\n",
    "dir_ana = dir_output\n",
    "path_ana = os.path.join(os.curdir, dir_ana)\n",
    "os.makedirs(path_ana, exist_ok=True)"
   ]
  },
  {
   "cell_type": "markdown",
   "metadata": {},
   "source": [
    "设置文件夹放置预测结果"
   ]
  },
  {
   "cell_type": "code",
   "execution_count": 43,
   "metadata": {
    "ExecuteTime": {
     "end_time": "2021-09-07T11:21:35.323894Z",
     "start_time": "2021-09-07T11:21:35.320867Z"
    }
   },
   "outputs": [],
   "source": [
    "#dir_pre = 'data'\n",
    "dir_pre = dir_output\n",
    "path_pre = os.path.join(os.curdir, dir_pre)\n",
    "os.makedirs(path_pre, exist_ok=True)"
   ]
  },
  {
   "cell_type": "markdown",
   "metadata": {},
   "source": [
    "设置日志文件的文件夹，为TensorBoard使用。"
   ]
  },
  {
   "cell_type": "code",
   "execution_count": 8,
   "metadata": {
    "ExecuteTime": {
     "end_time": "2021-09-07T03:38:50.495644Z",
     "start_time": "2021-09-07T03:38:50.492640Z"
    }
   },
   "outputs": [],
   "source": [
    "# 设置日志文件的文件夹\n",
    "root_logdir = os.path.join(os.curdir, \"my_logs\")\n",
    "#print(root_logdir)\n",
    "#\n",
    "def get_run_logdir():\n",
    "#    import time\n",
    "    run_id = time.strftime(\"run_%Y_%m_%d-%H_%M_%S\")\n",
    "    return os.path.join(root_logdir, run_id)"
   ]
  },
  {
   "cell_type": "markdown",
   "metadata": {},
   "source": [
    "  确保绘制的图形美观、能保存下来。"
   ]
  },
  {
   "cell_type": "code",
   "execution_count": 9,
   "metadata": {
    "ExecuteTime": {
     "end_time": "2021-09-07T03:39:07.985886Z",
     "start_time": "2021-09-07T03:39:07.773301Z"
    }
   },
   "outputs": [],
   "source": [
    "# To plot pretty figures\n",
    "# %matplotlib具体作用是调用matplotlib.pyplot的绘图函数plot()进行绘图时，\n",
    "# 或生成一个figure画布时，可以直接在你的python console里面生成图像。\n",
    "%matplotlib inline\n",
    "import matplotlib as mpl\n",
    "import matplotlib.pyplot as plt\n",
    "mpl.rc('axes', labelsize=14)   # matplotlib.rc 什么意思没找到\n",
    "mpl.rc('xtick', labelsize=12)\n",
    "mpl.rc('ytick', labelsize=12)\n",
    "\n",
    "# Where to save the figures\n",
    "#PROJECT_ROOT_DIR = \".\"\n",
    "#path_images = os.path.join(PROJECT_ROOT_DIR, \"images\")\n",
    "#os.makedirs(path_images, exist_ok=True)\n",
    "\n",
    "def save_fig(fig_id, path_fig = path_images, tight_layout=True, fig_extension=\"png\", resolution=300):\n",
    "    path = os.path.join(path_fig, fig_id + \".\" + fig_extension)\n",
    "    print(\"Saving figure\", fig_id)\n",
    "    if tight_layout:\n",
    "        plt.tight_layout()\n",
    "    plt.savefig(path, format=fig_extension, dpi=resolution)\n",
    "\n",
    "# Ignore useless warnings (see SciPy issue #5998)\n",
    "import warnings\n",
    "warnings.filterwarnings(action=\"ignore\", message=\"^internal gelsd\")"
   ]
  },
  {
   "cell_type": "markdown",
   "metadata": {},
   "source": [
    "## 设置label标签，用于后面模型训练、绘图"
   ]
  },
  {
   "cell_type": "code",
   "execution_count": 10,
   "metadata": {
    "ExecuteTime": {
     "end_time": "2021-09-07T03:39:14.105277Z",
     "start_time": "2021-09-07T03:39:14.102268Z"
    }
   },
   "outputs": [],
   "source": [
    "label_index = 'CR'"
   ]
  },
  {
   "cell_type": "markdown",
   "metadata": {},
   "source": [
    "# 正文"
   ]
  },
  {
   "cell_type": "markdown",
   "metadata": {},
   "source": [
    "## 确定当前目录和工作目录"
   ]
  },
  {
   "cell_type": "code",
   "execution_count": 11,
   "metadata": {
    "ExecuteTime": {
     "end_time": "2021-09-07T03:39:16.255811Z",
     "start_time": "2021-09-07T03:39:16.250797Z"
    }
   },
   "outputs": [
    {
     "data": {
      "text/plain": [
       "'D:\\\\haifeng\\\\work_20210709\\\\ML+XAS\\\\code\\\\neural network module\\\\latest'"
      ]
     },
     "execution_count": 11,
     "metadata": {},
     "output_type": "execute_result"
    }
   ],
   "source": [
    "import os\n",
    "path = os.path.abspath(os.curdir)\n",
    "path"
   ]
  },
  {
   "cell_type": "markdown",
   "metadata": {},
   "source": [
    "## 检查输入文件是否存在"
   ]
  },
  {
   "cell_type": "code",
   "execution_count": 12,
   "metadata": {
    "ExecuteTime": {
     "end_time": "2021-09-07T03:39:18.188029Z",
     "start_time": "2021-09-07T03:39:18.184017Z"
    }
   },
   "outputs": [],
   "source": [
    "path_dir_data = os.path.join(path,dir_data)\n",
    "file_data = file_train + file_valid + file_test\n",
    "#\n",
    "for i in range(len(file_data)):\n",
    "    path_file = os.path.join(path_dir_data,file_data[i])\n",
    "#\n",
    "# 检查csv是否存在，若不存在，报错\n",
    "    exist = os.path.exists(path_file)\n",
    "    if not exist:\n",
    "        print()\n",
    "        print(f\"** Error!! cannot find file {file_data[i]} in directory {dir_data}! **\")\n",
    "        print()\n",
    "        sys.exit()"
   ]
  },
  {
   "cell_type": "markdown",
   "metadata": {},
   "source": [
    "## 读取train、valid等文件，制成数据集。"
   ]
  },
  {
   "cell_type": "code",
   "execution_count": 13,
   "metadata": {
    "ExecuteTime": {
     "end_time": "2021-09-07T03:39:22.708273Z",
     "start_time": "2021-09-07T03:39:20.407565Z"
    }
   },
   "outputs": [],
   "source": [
    "import pandas as pd\n",
    "for i in range(len(file_data)):\n",
    "    path_file = os.path.join(path_dir_data,file_data[i])\n",
    "#   df.values, df.as_matrix() and np.array(df) all works.\n",
    "    data_df = pd.read_csv(path_file,header=None,delim_whitespace=True)\n",
    "#\n",
    "    if i == 0 : feature_train = data_df.values\n",
    "    if i == 1 : label_train = data_df.values\n",
    "    if i == 2 : feature_valid = data_df.values\n",
    "    if i == 3 : label_valid = data_df.values\n",
    "    if i == 4 : feature_test = data_df.values\n",
    "    if i == 5 : label_test = data_df.values"
   ]
  },
  {
   "cell_type": "code",
   "execution_count": 14,
   "metadata": {
    "ExecuteTime": {
     "end_time": "2021-09-07T03:39:24.170307Z",
     "start_time": "2021-09-07T03:39:24.167300Z"
    }
   },
   "outputs": [
    {
     "name": "stdout",
     "output_type": "stream",
     "text": [
      "(4176, 400) (4176, 1)\n",
      "(1193, 400) (1193, 1)\n",
      "(597, 400) (597, 1)\n"
     ]
    }
   ],
   "source": [
    "print(feature_train.shape, label_train.shape)\n",
    "print(feature_valid.shape, label_valid.shape)\n",
    "print(feature_test.shape, label_test.shape)"
   ]
  },
  {
   "cell_type": "code",
   "execution_count": 15,
   "metadata": {
    "ExecuteTime": {
     "end_time": "2021-09-07T03:39:26.665842Z",
     "start_time": "2021-09-07T03:39:26.662835Z"
    }
   },
   "outputs": [
    {
     "data": {
      "text/plain": [
       "array([[ 3.204381e-01,  3.179742e-01,  3.107868e-01, ...,  1.588940e-06,\n",
       "         1.217988e-06,  8.223206e-07],\n",
       "       [ 2.272433e-01,  2.254551e-01,  2.202515e-01, ..., -1.081169e-06,\n",
       "        -1.537145e-06, -1.827965e-06],\n",
       "       [ 2.434066e-01,  2.416660e-01,  2.365912e-01, ...,  1.017455e-06,\n",
       "         9.860825e-07,  8.813536e-07],\n",
       "       ...,\n",
       "       [ 2.441422e-01,  2.422082e-01,  2.365669e-01, ..., -1.025576e-06,\n",
       "        -8.874537e-07, -7.067118e-07],\n",
       "       [ 7.773254e-02,  7.687764e-02,  7.436020e-02, ...,  3.263314e-07,\n",
       "         2.805082e-07,  2.240872e-07],\n",
       "       [ 3.252115e-01,  3.225673e-01,  3.148726e-01, ...,  7.640049e-07,\n",
       "         1.259443e-06,  1.596963e-06]])"
      ]
     },
     "execution_count": 15,
     "metadata": {},
     "output_type": "execute_result"
    }
   ],
   "source": [
    "feature_train"
   ]
  },
  {
   "cell_type": "code",
   "execution_count": 16,
   "metadata": {
    "ExecuteTime": {
     "end_time": "2021-09-07T03:39:28.724110Z",
     "start_time": "2021-09-07T03:39:28.720098Z"
    }
   },
   "outputs": [
    {
     "data": {
      "text/plain": [
       "array([[2.893],\n",
       "       [2.957],\n",
       "       [2.871],\n",
       "       ...,\n",
       "       [2.863],\n",
       "       [2.892],\n",
       "       [2.798]])"
      ]
     },
     "execution_count": 16,
     "metadata": {},
     "output_type": "execute_result"
    }
   ],
   "source": [
    "label_valid"
   ]
  },
  {
   "cell_type": "markdown",
   "metadata": {},
   "source": [
    "设置网络训练参数值，输入数组维数"
   ]
  },
  {
   "cell_type": "code",
   "execution_count": 17,
   "metadata": {
    "ExecuteTime": {
     "end_time": "2021-09-07T03:39:31.266388Z",
     "start_time": "2021-09-07T03:39:31.263381Z"
    }
   },
   "outputs": [
    {
     "data": {
      "text/plain": [
       "(400,)"
      ]
     },
     "execution_count": 17,
     "metadata": {},
     "output_type": "execute_result"
    }
   ],
   "source": [
    "input_shape = feature_train.shape[1:]\n",
    "input_shape"
   ]
  },
  {
   "cell_type": "markdown",
   "metadata": {},
   "source": [
    "## 构建模型（神经网络），进行超参数调节"
   ]
  },
  {
   "cell_type": "markdown",
   "metadata": {},
   "source": [
    "### 模型1"
   ]
  },
  {
   "cell_type": "markdown",
   "metadata": {},
   "source": [
    "#### 参量设置"
   ]
  },
  {
   "cell_type": "markdown",
   "metadata": {},
   "source": [
    "输入超参数训练模型的关键词，用于命名给出训练过程信息的文件名"
   ]
  },
  {
   "cell_type": "code",
   "execution_count": 18,
   "metadata": {
    "ExecuteTime": {
     "end_time": "2021-09-07T03:39:39.596052Z",
     "start_time": "2021-09-07T03:39:39.593043Z"
    }
   },
   "outputs": [],
   "source": [
    "model_pre = 'au150_DW_cr_3level_neuron'"
   ]
  },
  {
   "cell_type": "code",
   "execution_count": 19,
   "metadata": {
    "ExecuteTime": {
     "end_time": "2021-09-07T03:39:41.626110Z",
     "start_time": "2021-09-07T03:39:41.622100Z"
    }
   },
   "outputs": [],
   "source": [
    "import time\n",
    "model_time = time.strftime(\"run_%Y_%m_%d-%H_%M_%S\")\n",
    "model_pre_time = model_pre + '_' + model_time\n",
    "path_plot = os.path.join(path_images, model_pre_time)\n",
    "os.makedirs(path_plot, exist_ok=True)"
   ]
  },
  {
   "cell_type": "code",
   "execution_count": 20,
   "metadata": {
    "ExecuteTime": {
     "end_time": "2021-09-07T03:39:43.742128Z",
     "start_time": "2021-09-07T03:39:43.739140Z"
    }
   },
   "outputs": [],
   "source": [
    "file_fitinfo =  model_pre_time + '_fitinfo.txt'\n",
    "path_fitinfo = os.path.join(path_ana,file_fitinfo)"
   ]
  },
  {
   "cell_type": "code",
   "execution_count": 21,
   "metadata": {
    "ExecuteTime": {
     "end_time": "2021-09-07T03:39:45.039063Z",
     "start_time": "2021-09-07T03:39:45.036056Z"
    }
   },
   "outputs": [
    {
     "name": "stdout",
     "output_type": "stream",
     "text": [
      "Model : au150_DW_cr_3level_neuron\n"
     ]
    }
   ],
   "source": [
    "fout = open(path_fitinfo,'w')\n",
    "print(f\"Model : {model_pre}\")\n",
    "print(f\"Model : {model_pre}\", file=fout)"
   ]
  },
  {
   "cell_type": "code",
   "execution_count": 22,
   "metadata": {
    "ExecuteTime": {
     "end_time": "2021-09-07T03:39:47.127067Z",
     "start_time": "2021-09-07T03:39:47.125062Z"
    }
   },
   "outputs": [],
   "source": [
    "# Set random seed to be used as argument for other functions.\n",
    "rseed = 42"
   ]
  },
  {
   "cell_type": "code",
   "execution_count": 23,
   "metadata": {
    "ExecuteTime": {
     "end_time": "2021-09-07T03:39:48.682644Z",
     "start_time": "2021-09-07T03:39:48.679637Z"
    }
   },
   "outputs": [
    {
     "name": "stdout",
     "output_type": "stream",
     "text": [
      "===================================\n",
      "rseed : 42\n",
      "Time : run_2021_09_07-11_39_41\n"
     ]
    }
   ],
   "source": [
    "print(f\"===================================\")\n",
    "print(f\"\\n===================================\", file=fout)\n",
    "print(f\"rseed : {rseed}\")\n",
    "print(f\"rseed : {rseed}\",file=fout)\n",
    "print(f\"Time : {model_time}\")\n",
    "print(f\"Time : {model_time}\",file=fout)"
   ]
  },
  {
   "cell_type": "code",
   "execution_count": 24,
   "metadata": {
    "ExecuteTime": {
     "end_time": "2021-09-07T03:39:51.082530Z",
     "start_time": "2021-09-07T03:39:51.077519Z"
    }
   },
   "outputs": [],
   "source": [
    "import tensorflow as tf\n",
    "assert tf.__version__ >= \"2.0\"\n",
    "from tensorflow import keras\n",
    "from tensorflow.keras import optimizers\n",
    "keras.backend.clear_session()\n",
    "np.random.seed(rseed)\n",
    "tf.random.set_seed(rseed)"
   ]
  },
  {
   "cell_type": "code",
   "execution_count": 25,
   "metadata": {
    "ExecuteTime": {
     "end_time": "2021-09-07T03:39:53.315285Z",
     "start_time": "2021-09-07T03:39:53.311237Z"
    }
   },
   "outputs": [
    {
     "data": {
      "text/plain": [
       "'.\\\\my_logs\\\\run_2021_09_07-11_39_53'"
      ]
     },
     "execution_count": 25,
     "metadata": {},
     "output_type": "execute_result"
    }
   ],
   "source": [
    "run_logdir = get_run_logdir()\n",
    "run_logdir"
   ]
  },
  {
   "cell_type": "markdown",
   "metadata": {},
   "source": [
    "#### 构建模型"
   ]
  },
  {
   "cell_type": "code",
   "execution_count": 26,
   "metadata": {
    "ExecuteTime": {
     "end_time": "2021-09-07T03:39:57.046122Z",
     "start_time": "2021-09-07T03:39:57.042111Z"
    }
   },
   "outputs": [],
   "source": [
    "def build_model(N1 = 400,\n",
    "                N2 = 200,\n",
    "                N3 = 20,\n",
    "                activation = 'relu',\n",
    "#                learning_rate = 3e-3,\n",
    "                input_shape=input_shape):\n",
    "#\n",
    "    model = keras.models.Sequential()\n",
    "#\n",
    "    model.add(keras.layers.Flatten(input_shape=input_shape))\n",
    "    model.add(keras.layers.Dense(N1, activation=activation))\n",
    "    model.add(keras.layers.Dense(N2, activation=activation))\n",
    "    model.add(keras.layers.Dense(N3, activation=activation))\n",
    "    model.add(keras.layers.Dense(1, activation=activation))\n",
    "#\n",
    "#    optimizer = keras.optimizers.SGD(lr=learning_rate)\n",
    "#    optimizer = tf.keras.optimizers.RMSprop(learning_rate=0.001, rho=0.9, momentum=0.0, epsilon=1e-07, centered=False,name='RMSprop')\n",
    "#    model.compile(loss=\"mse\", optimizer=optimizer)\n",
    "    model.compile(loss=\"mse\", optimizer='rmsprop')\n",
    "    return model"
   ]
  },
  {
   "cell_type": "markdown",
   "metadata": {},
   "source": [
    "用函数 build_model() 创建一个 KerasRegressor，它通过 build_model() 将Keras模型包装起来的。"
   ]
  },
  {
   "cell_type": "code",
   "execution_count": 27,
   "metadata": {
    "ExecuteTime": {
     "end_time": "2021-09-07T03:40:08.564983Z",
     "start_time": "2021-09-07T03:40:08.561974Z"
    }
   },
   "outputs": [],
   "source": [
    "keras_reg = keras.wrappers.scikit_learn.KerasRegressor(build_model)"
   ]
  },
  {
   "cell_type": "markdown",
   "metadata": {},
   "source": [
    "注意！不要将类似“\"N1\": range(1, 600)”写成“\"N1\": np.arange(1, 600)”或“\"N1\": list(np.range(1, 600))”的情况，不然在fit的结尾，会出现如下问题："
   ]
  },
  {
   "cell_type": "markdown",
   "metadata": {},
   "source": [
    "而且“model = rnd_search_cv.best_estimator_.model”等无法加载。\n",
    "但需要指出，最后的“rnd_search_cv.best_params_”等是一样的"
   ]
  },
  {
   "cell_type": "code",
   "execution_count": 29,
   "metadata": {
    "ExecuteTime": {
     "end_time": "2021-09-07T03:41:36.943480Z",
     "start_time": "2021-09-07T03:41:36.939471Z"
    }
   },
   "outputs": [],
   "source": [
    "from scipy.stats import reciprocal\n",
    "from sklearn.model_selection import RandomizedSearchCV\n",
    "from sklearn.metrics import classification_report\n",
    "\n",
    "param_distribs = {\n",
    "#    \"kernel_size\": [3, 4, 5, 6],\n",
    "#    \"padding\" = ['valid', 'SAME'],\n",
    "#    \"n_hidden\": [0, 1, 2, 3],\n",
    "#    \"activation\": ['relu','softmax'],\n",
    "    \"N1\": range(10, 600, 10),\n",
    "    \"N2\": range(10, 600, 10),\n",
    "    \"N3\": range(10, 600, 10)\n",
    "#    \"learning_rate\": reciprocal(3e-4, 3e-2),\n",
    "}\n",
    "\n",
    "# n_iter=300，训练300次，数值越大，获得的参数精度越大，但是搜索时间越长\n",
    "# cv 训练集与验证集的比值\n",
    "# verbose=0，不打印任何训练过程信息；verbose=1，打印进度条；verbose=2，每一个epoch打印一次。\n",
    "# n_jobs = -1，使用所有的CPU进行训练，默认为1，使用1个CPU\n",
    "#rnd_search_cv = RandomizedSearchCV(keras_reg, param_distribs, n_iter=20, cv=3, verbose=2, n_jobs=-1)\n",
    "rnd_search_cv = RandomizedSearchCV(keras_reg, param_distribs, n_iter=15, verbose=1, n_jobs=-1)\n",
    "#rnd_search_cv = RandomizedSearchCV(keras_reg, param_distribs, n_iter=20, verbose=1)"
   ]
  },
  {
   "cell_type": "markdown",
   "metadata": {},
   "source": [
    "#### 开始拟合"
   ]
  },
  {
   "cell_type": "code",
   "execution_count": 30,
   "metadata": {
    "ExecuteTime": {
     "end_time": "2021-09-07T04:16:51.694500Z",
     "start_time": "2021-09-07T03:42:00.555900Z"
    }
   },
   "outputs": [
    {
     "name": "stdout",
     "output_type": "stream",
     "text": [
      "Fitting 5 folds for each of 15 candidates, totalling 75 fits\n"
     ]
    },
    {
     "name": "stderr",
     "output_type": "stream",
     "text": [
      "C:\\ProgramData\\Anaconda3\\lib\\site-packages\\sklearn\\model_selection\\_search.py:918: UserWarning: One or more of the test scores are non-finite: [-4.94860608e+00 -3.29897894e+00 -1.16929015e-03 -1.30878929e-03\n",
      " -3.30009354e+00             nan -3.29881053e+00 -3.29993507e+00\n",
      " -3.29987145e+00 -3.30000735e+00 -3.29816644e+00 -1.65032990e+00\n",
      " -4.94684398e+00 -1.65092033e+00 -1.65106713e+00]\n",
      "  warnings.warn(\n"
     ]
    },
    {
     "data": {
      "text/plain": [
       "RandomizedSearchCV(estimator=<tensorflow.python.keras.wrappers.scikit_learn.KerasRegressor object at 0x0000027BD832BD00>,\n",
       "                   n_iter=15, n_jobs=-1,\n",
       "                   param_distributions={'N1': range(10, 600, 10),\n",
       "                                        'N2': range(10, 600, 10),\n",
       "                                        'N3': range(10, 600, 10)},\n",
       "                   verbose=1)"
      ]
     },
     "execution_count": 30,
     "metadata": {},
     "output_type": "execute_result"
    }
   ],
   "source": [
    "#将训练最好的模型保存下来\n",
    "model_saved_best = os.path.join(path_model, model_pre_time + \".h5\")\n",
    "#\n",
    "rnd_search_cv.fit(feature_train,label_train,epochs=150,\n",
    "                  validation_data=(feature_valid,label_valid),\n",
    "                  callbacks=[keras.callbacks.ModelCheckpoint(model_saved_best, save_best_only=True),\n",
    "                             keras.callbacks.EarlyStopping(patience=20, restore_best_weights=True),\n",
    "                             keras.callbacks.TensorBoard(run_logdir)\n",
    "                            ],\n",
    "                  verbose=0)"
   ]
  },
  {
   "cell_type": "markdown",
   "metadata": {},
   "source": [
    "executed in 38m 36s, finished 14:49:36 2021-03-01\n",
    "Fitting 5 folds for each of 20 candidates, totalling 100 fits\n",
    "[Parallel(n_jobs=-1)]: Using backend LokyBackend with 8 concurrent workers.\n",
    "[Parallel(n_jobs=-1)]: Done  25 tasks      | elapsed: 10.3min\n",
    "[Parallel(n_jobs=-1)]: Done 100 out of 100 | elapsed: 37.9min finished\n",
    "RandomizedSearchCV(estimator=<tensorflow.python.keras.wrappers.scikit_learn.KerasRegressor object at 0x0000029136552640>,\n",
    "                   n_iter=20, n_jobs=-1,\n",
    "                   param_distributions={'N1': range(1, 600),\n",
    "                                        'N2': range(1, 600),\n",
    "                                        'N3': range(1, 600)},\n",
    "                   verbose=2)"
   ]
  },
  {
   "cell_type": "markdown",
   "metadata": {},
   "source": [
    "#### 给出拟合结果"
   ]
  },
  {
   "cell_type": "code",
   "execution_count": 31,
   "metadata": {
    "ExecuteTime": {
     "end_time": "2021-09-07T04:21:55.640038Z",
     "start_time": "2021-09-07T04:21:55.637031Z"
    }
   },
   "outputs": [
    {
     "name": "stdout",
     "output_type": "stream",
     "text": [
      "Best parameters : {'N3': 90, 'N2': 540, 'N1': 380}\n"
     ]
    }
   ],
   "source": [
    "# Parameter setting that gave the best results on the hold out data.\n",
    "#rnd_search_cv.best_params_\n",
    "print(f\"Best parameters : {rnd_search_cv.best_params_}\")\n",
    "print(f\"\\nBest parameters : {rnd_search_cv.best_params_}\",file=fout)"
   ]
  },
  {
   "cell_type": "code",
   "execution_count": 32,
   "metadata": {
    "ExecuteTime": {
     "end_time": "2021-09-07T04:21:59.552885Z",
     "start_time": "2021-09-07T04:21:59.548874Z"
    }
   },
   "outputs": [
    {
     "data": {
      "text/plain": [
       "<tensorflow.python.keras.wrappers.scikit_learn.KerasRegressor at 0x27bd7a14820>"
      ]
     },
     "execution_count": 32,
     "metadata": {},
     "output_type": "execute_result"
    }
   ],
   "source": [
    "# 返回最优的训练器\n",
    "# Estimator that was chosen by the search, i.e. estimator which gave highest score (or smallest loss if specified) on the left out data.\n",
    "rnd_search_cv.best_estimator_"
   ]
  },
  {
   "cell_type": "code",
   "execution_count": 33,
   "metadata": {
    "ExecuteTime": {
     "end_time": "2021-09-07T04:22:08.443110Z",
     "start_time": "2021-09-07T04:22:08.440101Z"
    }
   },
   "outputs": [
    {
     "name": "stdout",
     "output_type": "stream",
     "text": [
      "Best score : -0.0011692901491187513\n"
     ]
    }
   ],
   "source": [
    "# Mean cross-validated score of the best_estimator.\n",
    "#rnd_search_cv.best_score_\n",
    "print(f\"Best score : {rnd_search_cv.best_score_}\")\n",
    "print(f\"\\nBest score : {rnd_search_cv.best_score_}\",file=fout)"
   ]
  },
  {
   "cell_type": "markdown",
   "metadata": {},
   "source": [
    "Best score : -0.282334824403127"
   ]
  },
  {
   "cell_type": "markdown",
   "metadata": {},
   "source": [
    "Best score = -0.2784130076567332"
   ]
  },
  {
   "cell_type": "markdown",
   "metadata": {},
   "source": [
    "原来是-0.0010918860401337345"
   ]
  },
  {
   "cell_type": "markdown",
   "metadata": {},
   "source": [
    "#### 输出拟合日志文件"
   ]
  },
  {
   "cell_type": "code",
   "execution_count": 34,
   "metadata": {
    "ExecuteTime": {
     "end_time": "2021-09-07T04:22:10.597523Z",
     "start_time": "2021-09-07T04:22:10.586494Z"
    }
   },
   "outputs": [
    {
     "data": {
      "text/plain": [
       "3"
      ]
     },
     "execution_count": 34,
     "metadata": {},
     "output_type": "execute_result"
    }
   ],
   "source": [
    "# rnd_search_cv.cv_results_ 是选择参数的日志信息\n",
    "cv_result = pd.DataFrame.from_dict( rnd_search_cv.cv_results_)\n",
    "file_fit_csv = model_pre_time + '_fit.csv'\n",
    "path_fit_csv = os.path.join(path_ana, file_fit_csv)\n",
    "with open(path_fit_csv,'w') as f: cv_result.to_csv(f)\n",
    "3#print(rnd_search_cv.cv_results_)"
   ]
  },
  {
   "cell_type": "code",
   "execution_count": 35,
   "metadata": {
    "ExecuteTime": {
     "end_time": "2021-09-07T04:22:12.616002Z",
     "start_time": "2021-09-07T04:22:12.613015Z"
    }
   },
   "outputs": [
    {
     "name": "stdout",
     "output_type": "stream",
     "text": [
      "Refit time (s) : 55.54770803451538\n"
     ]
    }
   ],
   "source": [
    "# Seconds used for refitting the best model on the whole dataset.\n",
    "#rnd_search_cv.refit_time_\n",
    "print(f\"Refit time (s) : {rnd_search_cv.refit_time_}\")\n",
    "print(f\"\\nRefit time (s) : {rnd_search_cv.refit_time_}\",file=fout)"
   ]
  },
  {
   "cell_type": "code",
   "execution_count": 34,
   "metadata": {
    "ExecuteTime": {
     "end_time": "2021-03-01T06:49:36.985062Z",
     "start_time": "2021-03-01T06:49:36.969208Z"
    }
   },
   "outputs": [],
   "source": [
    "#y_pred_array = rnd_search_cv.predict(feature_test) # 预测结果\n",
    "#print(classification_report( y_true=label_test, y_pred=y_pred_array ))"
   ]
  },
  {
   "cell_type": "markdown",
   "metadata": {},
   "source": [
    "#### 用给出的最佳（参数）模型对test数据集进行预测"
   ]
  },
  {
   "cell_type": "code",
   "execution_count": 36,
   "metadata": {
    "ExecuteTime": {
     "end_time": "2021-09-07T04:22:15.508975Z",
     "start_time": "2021-09-07T04:22:15.505969Z"
    }
   },
   "outputs": [
    {
     "data": {
      "text/plain": [
       "<tensorflow.python.keras.engine.sequential.Sequential at 0x27bd87389a0>"
      ]
     },
     "execution_count": 36,
     "metadata": {},
     "output_type": "execute_result"
    }
   ],
   "source": [
    "model0 = rnd_search_cv.best_estimator_.model\n",
    "model0"
   ]
  },
  {
   "cell_type": "markdown",
   "metadata": {},
   "source": [
    "查看预测结果"
   ]
  },
  {
   "cell_type": "code",
   "execution_count": 37,
   "metadata": {
    "ExecuteTime": {
     "end_time": "2021-09-07T04:22:16.925568Z",
     "start_time": "2021-09-07T04:22:16.859392Z"
    },
    "scrolled": true
   },
   "outputs": [
    {
     "name": "stdout",
     "output_type": "stream",
     "text": [
      "19/19 [==============================] - 0s 1ms/step - loss: 0.0013\n"
     ]
    },
    {
     "data": {
      "text/plain": [
       "0.0013477910542860627"
      ]
     },
     "execution_count": 37,
     "metadata": {},
     "output_type": "execute_result"
    }
   ],
   "source": [
    "model0.evaluate(feature_test, label_test)"
   ]
  },
  {
   "cell_type": "markdown",
   "metadata": {},
   "source": [
    "19/19 [==============================] - 0s 780us/step - loss: 0.2871\n",
    "0.28713077306747437"
   ]
  },
  {
   "cell_type": "markdown",
   "metadata": {},
   "source": [
    "19/19 [==============================] - 0s 1ms/step - loss: 89.5477\n",
    "89.54773712158203"
   ]
  },
  {
   "cell_type": "markdown",
   "metadata": {},
   "source": [
    "19/19 [==============================] - 0s 891us/step - loss: 0.2962\n",
    "0.2962176203727722"
   ]
  },
  {
   "cell_type": "markdown",
   "metadata": {},
   "source": [
    "rnd_search_cv.predict(feature_test) works as rnd_search_cv.best_estimator_.model.predict(feature_test)"
   ]
  },
  {
   "cell_type": "code",
   "execution_count": 38,
   "metadata": {
    "ExecuteTime": {
     "end_time": "2021-09-07T04:22:21.075384Z",
     "start_time": "2021-09-07T04:22:20.961495Z"
    },
    "scrolled": true
   },
   "outputs": [
    {
     "data": {
      "text/plain": [
       "array([[2.8487403],\n",
       "       [2.8773682],\n",
       "       [2.8269725],\n",
       "       [2.8628733],\n",
       "       [2.7769063],\n",
       "       [2.934882 ],\n",
       "       [2.9111333],\n",
       "       [2.9497814],\n",
       "       [2.9704268],\n",
       "       [2.858697 ],\n",
       "       [2.8449562],\n",
       "       [3.0720062],\n",
       "       [2.89047  ],\n",
       "       [2.7895923],\n",
       "       [2.9357889],\n",
       "       [2.8905354],\n",
       "       [2.887008 ],\n",
       "       [2.9153411],\n",
       "       [2.8374994],\n",
       "       [2.9163153],\n",
       "       [2.843327 ],\n",
       "       [2.839094 ],\n",
       "       [2.8386695],\n",
       "       [2.8695571],\n",
       "       [2.932488 ],\n",
       "       [2.9231672],\n",
       "       [2.8568232],\n",
       "       [2.972545 ],\n",
       "       [2.8947504],\n",
       "       [2.870927 ],\n",
       "       [2.9447117],\n",
       "       [2.8459928],\n",
       "       [2.9067192],\n",
       "       [2.9036243],\n",
       "       [2.835688 ],\n",
       "       [3.0163052],\n",
       "       [2.8946908],\n",
       "       [2.8499818],\n",
       "       [2.8165805],\n",
       "       [2.8911054],\n",
       "       [2.9709156],\n",
       "       [2.8788173],\n",
       "       [2.8236842],\n",
       "       [2.8780012],\n",
       "       [2.829179 ],\n",
       "       [2.9143689],\n",
       "       [2.9288454],\n",
       "       [2.8786256],\n",
       "       [2.8849516],\n",
       "       [2.881039 ],\n",
       "       [2.7499313],\n",
       "       [2.824069 ],\n",
       "       [2.869036 ],\n",
       "       [2.8809965],\n",
       "       [2.9037383],\n",
       "       [2.8974519],\n",
       "       [2.8150454],\n",
       "       [2.7763543],\n",
       "       [2.8602397],\n",
       "       [2.8844562],\n",
       "       [2.9243305],\n",
       "       [2.926926 ],\n",
       "       [2.8092372],\n",
       "       [2.9115388],\n",
       "       [2.8473647],\n",
       "       [2.8455558],\n",
       "       [2.804376 ],\n",
       "       [2.850774 ],\n",
       "       [2.9113138],\n",
       "       [2.8740635],\n",
       "       [2.8934557],\n",
       "       [2.8069568],\n",
       "       [2.9270039],\n",
       "       [2.9261336],\n",
       "       [2.8995895],\n",
       "       [2.975325 ],\n",
       "       [2.8541954],\n",
       "       [2.911429 ],\n",
       "       [2.8979976],\n",
       "       [2.8178098],\n",
       "       [2.8628538],\n",
       "       [2.787492 ],\n",
       "       [2.6607094],\n",
       "       [2.8108954],\n",
       "       [2.869036 ],\n",
       "       [2.9784415],\n",
       "       [2.8313034],\n",
       "       [2.9714887],\n",
       "       [2.8225703],\n",
       "       [2.9292042],\n",
       "       [2.7922475],\n",
       "       [2.949652 ],\n",
       "       [2.8768537],\n",
       "       [2.87362  ],\n",
       "       [2.8095078],\n",
       "       [2.7682836],\n",
       "       [2.8368053],\n",
       "       [2.8857188],\n",
       "       [2.8541734],\n",
       "       [2.877683 ],\n",
       "       [3.0226197],\n",
       "       [2.832503 ],\n",
       "       [2.830804 ],\n",
       "       [2.9604297],\n",
       "       [2.911015 ],\n",
       "       [2.9562461],\n",
       "       [2.9222207],\n",
       "       [2.8869758],\n",
       "       [2.8238633],\n",
       "       [2.873079 ],\n",
       "       [2.8364785],\n",
       "       [2.853787 ],\n",
       "       [2.8105927],\n",
       "       [2.8077083],\n",
       "       [2.8784819],\n",
       "       [2.7903826],\n",
       "       [2.8267262],\n",
       "       [2.9689586],\n",
       "       [2.905309 ],\n",
       "       [2.8351586],\n",
       "       [2.9122574],\n",
       "       [2.888227 ],\n",
       "       [2.8295462],\n",
       "       [2.8573327],\n",
       "       [2.8084786],\n",
       "       [2.9196632],\n",
       "       [2.872303 ],\n",
       "       [2.9427166],\n",
       "       [2.8968847],\n",
       "       [2.7884772],\n",
       "       [2.939645 ],\n",
       "       [2.8863719],\n",
       "       [2.768017 ],\n",
       "       [2.8874023],\n",
       "       [2.8323648],\n",
       "       [2.8503115],\n",
       "       [2.7639222],\n",
       "       [2.79765  ],\n",
       "       [2.7709346],\n",
       "       [2.9291813],\n",
       "       [2.8807046],\n",
       "       [2.7962291],\n",
       "       [2.8509312],\n",
       "       [2.9465575],\n",
       "       [2.8749177],\n",
       "       [2.899131 ],\n",
       "       [2.9196653],\n",
       "       [2.9230297],\n",
       "       [2.9177778],\n",
       "       [2.8726609],\n",
       "       [2.8497589],\n",
       "       [2.8691118],\n",
       "       [2.8481314],\n",
       "       [2.9333777],\n",
       "       [2.7525866],\n",
       "       [2.9803202],\n",
       "       [2.8472238],\n",
       "       [2.873867 ],\n",
       "       [2.9098914],\n",
       "       [2.865585 ],\n",
       "       [2.794431 ],\n",
       "       [2.9403598],\n",
       "       [2.869525 ],\n",
       "       [2.8119574],\n",
       "       [2.9863758],\n",
       "       [2.8957865],\n",
       "       [2.9122906],\n",
       "       [2.8624332],\n",
       "       [2.8630528],\n",
       "       [2.9022975],\n",
       "       [2.967949 ],\n",
       "       [2.8664224],\n",
       "       [2.8788364],\n",
       "       [2.876883 ],\n",
       "       [2.809798 ],\n",
       "       [2.875816 ],\n",
       "       [2.8921545],\n",
       "       [2.938669 ],\n",
       "       [2.856117 ],\n",
       "       [2.9112432],\n",
       "       [2.9265814],\n",
       "       [2.9213748],\n",
       "       [2.9086208],\n",
       "       [2.8854947],\n",
       "       [2.825915 ],\n",
       "       [2.8163471],\n",
       "       [2.91527  ],\n",
       "       [2.8288229],\n",
       "       [2.8506565],\n",
       "       [2.9841444],\n",
       "       [2.9963753],\n",
       "       [2.8228428],\n",
       "       [2.8034441],\n",
       "       [2.9119914],\n",
       "       [2.7740307],\n",
       "       [2.8975995],\n",
       "       [2.8978422],\n",
       "       [2.8500316],\n",
       "       [2.9049034],\n",
       "       [2.8795793],\n",
       "       [2.8513572],\n",
       "       [2.8553302],\n",
       "       [2.9436493],\n",
       "       [2.869036 ],\n",
       "       [2.8382714],\n",
       "       [2.8155077],\n",
       "       [2.791038 ],\n",
       "       [2.7530217],\n",
       "       [2.853929 ],\n",
       "       [2.8019986],\n",
       "       [2.9315627],\n",
       "       [2.8488455],\n",
       "       [2.9130716],\n",
       "       [2.8092024],\n",
       "       [2.8949146],\n",
       "       [2.755444 ],\n",
       "       [2.7660863],\n",
       "       [2.8565617],\n",
       "       [2.8900883],\n",
       "       [2.9117658],\n",
       "       [2.869036 ],\n",
       "       [2.7601373],\n",
       "       [2.8695917],\n",
       "       [2.955052 ],\n",
       "       [2.958417 ],\n",
       "       [2.8206987],\n",
       "       [2.8971124],\n",
       "       [2.8772671],\n",
       "       [2.8776798],\n",
       "       [2.7627013],\n",
       "       [2.8689425],\n",
       "       [2.868253 ],\n",
       "       [2.8528752],\n",
       "       [2.853629 ],\n",
       "       [2.869036 ],\n",
       "       [2.8857515],\n",
       "       [2.7959268],\n",
       "       [2.9323862],\n",
       "       [2.8648636],\n",
       "       [2.8821316],\n",
       "       [2.8353238],\n",
       "       [2.929367 ],\n",
       "       [2.8865407],\n",
       "       [2.824626 ],\n",
       "       [2.950854 ],\n",
       "       [2.782206 ],\n",
       "       [2.8416588],\n",
       "       [2.8589215],\n",
       "       [2.8568897],\n",
       "       [2.8449435],\n",
       "       [2.8969636],\n",
       "       [2.8955133],\n",
       "       [2.826109 ],\n",
       "       [2.9376264],\n",
       "       [2.9358227],\n",
       "       [2.9729104],\n",
       "       [2.8849504],\n",
       "       [2.869036 ],\n",
       "       [2.7917073],\n",
       "       [2.869036 ],\n",
       "       [2.8350492],\n",
       "       [2.8129303],\n",
       "       [2.7013524],\n",
       "       [2.8196237],\n",
       "       [2.887695 ],\n",
       "       [2.826663 ],\n",
       "       [2.8774102],\n",
       "       [2.88953  ],\n",
       "       [2.9716465],\n",
       "       [2.902229 ],\n",
       "       [2.7562919],\n",
       "       [2.877001 ],\n",
       "       [2.8892934],\n",
       "       [2.9079165],\n",
       "       [2.874969 ],\n",
       "       [2.8887208],\n",
       "       [2.8980358],\n",
       "       [2.8929963],\n",
       "       [2.8952854],\n",
       "       [2.892779 ],\n",
       "       [2.8317268],\n",
       "       [2.883035 ],\n",
       "       [2.8230958],\n",
       "       [2.860104 ],\n",
       "       [2.8275747],\n",
       "       [2.825666 ],\n",
       "       [2.863222 ],\n",
       "       [2.8647976],\n",
       "       [2.8883893],\n",
       "       [2.8116367],\n",
       "       [2.8870716],\n",
       "       [2.9297798],\n",
       "       [2.9048772],\n",
       "       [2.905724 ],\n",
       "       [2.869036 ],\n",
       "       [2.9133189],\n",
       "       [2.9068189],\n",
       "       [2.8767102],\n",
       "       [2.7975156],\n",
       "       [2.8550303],\n",
       "       [2.7438414],\n",
       "       [2.877024 ],\n",
       "       [2.785987 ],\n",
       "       [2.847599 ],\n",
       "       [2.9293303],\n",
       "       [2.915219 ],\n",
       "       [2.9129856],\n",
       "       [2.7908874],\n",
       "       [2.8983927],\n",
       "       [2.8998904],\n",
       "       [2.8420877],\n",
       "       [2.9975424],\n",
       "       [2.9083827],\n",
       "       [2.9418416],\n",
       "       [2.841163 ],\n",
       "       [2.8236961],\n",
       "       [2.8770137],\n",
       "       [2.8456364],\n",
       "       [2.8608177],\n",
       "       [2.856646 ],\n",
       "       [2.8957422],\n",
       "       [2.8140414],\n",
       "       [2.869036 ],\n",
       "       [2.8923252],\n",
       "       [2.965298 ],\n",
       "       [2.8380268],\n",
       "       [2.888702 ],\n",
       "       [2.9303622],\n",
       "       [2.921392 ],\n",
       "       [2.8959305],\n",
       "       [2.8198972],\n",
       "       [2.7845452],\n",
       "       [2.941321 ],\n",
       "       [2.9160686],\n",
       "       [2.861916 ],\n",
       "       [2.8934474],\n",
       "       [2.9405   ],\n",
       "       [2.9521756],\n",
       "       [2.8385024],\n",
       "       [2.8421848],\n",
       "       [2.903245 ],\n",
       "       [2.8118343],\n",
       "       [2.9108999],\n",
       "       [2.9167085],\n",
       "       [2.869036 ],\n",
       "       [2.8702054],\n",
       "       [2.869036 ],\n",
       "       [2.8888664],\n",
       "       [2.8810947],\n",
       "       [2.9106164],\n",
       "       [2.890477 ],\n",
       "       [2.9078348],\n",
       "       [2.817049 ],\n",
       "       [2.869036 ],\n",
       "       [2.7734241],\n",
       "       [2.8696585],\n",
       "       [2.8269465],\n",
       "       [2.9533417],\n",
       "       [2.862409 ],\n",
       "       [2.858587 ],\n",
       "       [2.904491 ],\n",
       "       [2.8801987],\n",
       "       [2.652131 ],\n",
       "       [2.8399203],\n",
       "       [2.8283992],\n",
       "       [2.9436586],\n",
       "       [2.9146855],\n",
       "       [2.8737874],\n",
       "       [2.8060648],\n",
       "       [2.9296875],\n",
       "       [2.9169245],\n",
       "       [2.9431047],\n",
       "       [2.9171631],\n",
       "       [2.8892896],\n",
       "       [2.9010892],\n",
       "       [2.7828813],\n",
       "       [2.8135774],\n",
       "       [2.8258853],\n",
       "       [2.9135394],\n",
       "       [2.709536 ],\n",
       "       [2.8094227],\n",
       "       [2.8878608],\n",
       "       [2.8823118],\n",
       "       [2.8540795],\n",
       "       [2.8915231],\n",
       "       [2.8919172],\n",
       "       [2.8238127],\n",
       "       [2.824359 ],\n",
       "       [2.8971462],\n",
       "       [2.892816 ],\n",
       "       [2.800078 ],\n",
       "       [2.8684587],\n",
       "       [2.809542 ],\n",
       "       [2.811977 ],\n",
       "       [2.8671184],\n",
       "       [2.8747325],\n",
       "       [2.8661695],\n",
       "       [2.8937325],\n",
       "       [2.8306303],\n",
       "       [2.8589673],\n",
       "       [2.818329 ],\n",
       "       [2.9646058],\n",
       "       [3.0160406],\n",
       "       [2.9081283],\n",
       "       [2.8807616],\n",
       "       [2.8818357],\n",
       "       [2.8134766],\n",
       "       [2.8708549],\n",
       "       [2.7899556],\n",
       "       [2.7907844],\n",
       "       [2.8034604],\n",
       "       [2.8444293],\n",
       "       [2.9179077],\n",
       "       [2.8822122],\n",
       "       [2.9358416],\n",
       "       [2.9309459],\n",
       "       [2.8795097],\n",
       "       [2.85843  ],\n",
       "       [2.8361993],\n",
       "       [2.8311214],\n",
       "       [2.8976986],\n",
       "       [2.87148  ],\n",
       "       [2.944811 ],\n",
       "       [2.8899994],\n",
       "       [2.9366457],\n",
       "       [2.86922  ],\n",
       "       [2.9567428],\n",
       "       [2.9229598],\n",
       "       [2.8062139],\n",
       "       [2.824255 ],\n",
       "       [2.869036 ],\n",
       "       [2.8243642],\n",
       "       [2.7894278],\n",
       "       [2.7865975],\n",
       "       [2.792822 ],\n",
       "       [2.8983886],\n",
       "       [2.902174 ],\n",
       "       [2.9381218],\n",
       "       [2.7999804],\n",
       "       [2.8786995],\n",
       "       [2.9384995],\n",
       "       [2.917979 ],\n",
       "       [2.8805058],\n",
       "       [2.8482108],\n",
       "       [2.9474182],\n",
       "       [2.8911834],\n",
       "       [2.8914397],\n",
       "       [2.74593  ],\n",
       "       [2.8777223],\n",
       "       [2.9320815],\n",
       "       [2.8382902],\n",
       "       [2.822457 ],\n",
       "       [2.8696187],\n",
       "       [2.8921418],\n",
       "       [2.9293065],\n",
       "       [2.9595592],\n",
       "       [2.9049768],\n",
       "       [2.9113717],\n",
       "       [2.9690654],\n",
       "       [2.9264717],\n",
       "       [2.7892087],\n",
       "       [2.9805596],\n",
       "       [2.869106 ],\n",
       "       [2.9365962],\n",
       "       [2.8515027],\n",
       "       [2.8838553],\n",
       "       [2.8984718],\n",
       "       [2.8904343],\n",
       "       [2.810602 ],\n",
       "       [2.9062202],\n",
       "       [2.9310338],\n",
       "       [2.8373606],\n",
       "       [2.852083 ],\n",
       "       [2.8198602],\n",
       "       [2.925916 ],\n",
       "       [2.880726 ],\n",
       "       [2.8753216],\n",
       "       [2.8980124],\n",
       "       [2.930637 ],\n",
       "       [2.9147882],\n",
       "       [2.9405117],\n",
       "       [2.8750117],\n",
       "       [3.049222 ],\n",
       "       [2.8247867],\n",
       "       [2.8041403],\n",
       "       [2.8894494],\n",
       "       [2.890993 ],\n",
       "       [2.9685104],\n",
       "       [2.809449 ],\n",
       "       [2.8334928],\n",
       "       [2.8868375],\n",
       "       [2.8297207],\n",
       "       [2.9065008],\n",
       "       [2.8805463],\n",
       "       [2.8157184],\n",
       "       [2.875356 ],\n",
       "       [2.9224167],\n",
       "       [2.906054 ],\n",
       "       [2.8983   ],\n",
       "       [2.8891687],\n",
       "       [2.9025776],\n",
       "       [2.9567983],\n",
       "       [2.8111782],\n",
       "       [2.8176048],\n",
       "       [2.7816176],\n",
       "       [2.7821577],\n",
       "       [2.8281894],\n",
       "       [2.9154594],\n",
       "       [2.8409367],\n",
       "       [2.8083675],\n",
       "       [2.8951843],\n",
       "       [2.8938723],\n",
       "       [2.7795136],\n",
       "       [2.718369 ],\n",
       "       [2.8427787],\n",
       "       [2.8985546],\n",
       "       [2.9030612],\n",
       "       [2.9004624],\n",
       "       [2.8135018],\n",
       "       [2.8906329],\n",
       "       [2.8246255],\n",
       "       [2.9009278],\n",
       "       [2.8067253],\n",
       "       [2.9139185],\n",
       "       [2.8735516],\n",
       "       [2.8006096],\n",
       "       [2.8592012],\n",
       "       [2.9319181],\n",
       "       [2.897281 ],\n",
       "       [2.82809  ],\n",
       "       [2.8049228],\n",
       "       [2.906455 ],\n",
       "       [2.8551092],\n",
       "       [2.81198  ],\n",
       "       [2.9352813],\n",
       "       [2.803734 ],\n",
       "       [2.8550303],\n",
       "       [2.8423045],\n",
       "       [2.8823113],\n",
       "       [2.9635644],\n",
       "       [2.8554738],\n",
       "       [2.9374893],\n",
       "       [2.8751836],\n",
       "       [2.8100262],\n",
       "       [2.8180056],\n",
       "       [2.8630495],\n",
       "       [2.8964617],\n",
       "       [2.939264 ],\n",
       "       [2.8823597],\n",
       "       [2.8728247],\n",
       "       [2.9292147],\n",
       "       [2.9664168],\n",
       "       [2.968626 ],\n",
       "       [2.9184167],\n",
       "       [2.8292387],\n",
       "       [2.8679352],\n",
       "       [2.8181043],\n",
       "       [2.8598125],\n",
       "       [2.7888024],\n",
       "       [2.8799298],\n",
       "       [2.83114  ],\n",
       "       [2.8390584],\n",
       "       [2.8460057],\n",
       "       [2.9555984],\n",
       "       [2.9261549],\n",
       "       [2.9019608],\n",
       "       [2.8893013],\n",
       "       [2.834258 ],\n",
       "       [2.7946036],\n",
       "       [2.8846548],\n",
       "       [2.8768203],\n",
       "       [2.90245  ],\n",
       "       [2.8439062],\n",
       "       [2.9751925],\n",
       "       [2.9498801],\n",
       "       [2.9190948],\n",
       "       [2.9613173],\n",
       "       [2.96015  ],\n",
       "       [2.8101382],\n",
       "       [2.902205 ],\n",
       "       [2.9496796],\n",
       "       [2.9677749],\n",
       "       [2.693533 ],\n",
       "       [2.8208735],\n",
       "       [2.9127657],\n",
       "       [2.8685944],\n",
       "       [2.9357486],\n",
       "       [2.7459276],\n",
       "       [2.8179252],\n",
       "       [2.9471564],\n",
       "       [2.933503 ],\n",
       "       [2.9135065],\n",
       "       [2.8333938],\n",
       "       [2.9157078],\n",
       "       [2.869036 ],\n",
       "       [2.9031065],\n",
       "       [2.8928769]], dtype=float32)"
      ]
     },
     "execution_count": 38,
     "metadata": {},
     "output_type": "execute_result"
    }
   ],
   "source": [
    "pre0 = model0.predict(feature_test)\n",
    "pre0"
   ]
  },
  {
   "cell_type": "code",
   "execution_count": 39,
   "metadata": {
    "ExecuteTime": {
     "end_time": "2021-09-07T04:22:23.318738Z",
     "start_time": "2021-09-07T04:22:23.314727Z"
    }
   },
   "outputs": [],
   "source": [
    "def pre_ana(pre, label_test):\n",
    "    \"\"\"\n",
    "    \"\"\"\n",
    "    diff = pre - label_test\n",
    "    diff_abs = np.abs(diff)\n",
    "    diff2 = np.square(diff)  # = diff**2\n",
    "    #pre_var_mean = np.mean(diff2, axis=0)\n",
    "    pre_var_mean = np.mean(diff2)\n",
    "    pre_var_std = np.sqrt(pre_var_mean)  # = pre_var_mean**0.5\n",
    "    err = diff / label_test\n",
    "    err_abs = np.abs(err)\n",
    "    attr_dict3 = {\n",
    "        'diff_Max': np.max(diff),\n",
    "        'diff_Min': np.min(diff),\n",
    "        '|diff|_Mean(MAE)': np.mean(diff_abs),\n",
    "        '|diff|_Max': np.max(diff_abs),\n",
    "        '|diff|_Min': np.min(diff_abs),\n",
    "        'pre_Var(MSE)': pre_var_mean,\n",
    "        'pre_Std(RMSE)': pre_var_std,\n",
    "        'Error_mean': np.mean(err),\n",
    "        'Error_max': np.max(err),\n",
    "        'Error_min': np.min(err),\n",
    "        '|Error|_mean(MAPE)': np.mean(err_abs),\n",
    "        '|Error|_max': np.max(err_abs),\n",
    "        '|Error|_min': np.min(err_abs)\n",
    "    }\n",
    "    return attr_dict3, err"
   ]
  },
  {
   "cell_type": "code",
   "execution_count": 40,
   "metadata": {
    "ExecuteTime": {
     "end_time": "2021-09-07T04:22:25.890823Z",
     "start_time": "2021-09-07T04:22:25.886812Z"
    },
    "scrolled": false
   },
   "outputs": [
    {
     "name": "stdout",
     "output_type": "stream",
     "text": [
      "Prediction:\n",
      "  diff_Max            :   0.4042809\n",
      "  diff_Min            :  -0.1862156\n",
      "  |diff|_Mean(MAE)    :   0.0214914\n",
      "  |diff|_Max          :   0.4042809\n",
      "  |diff|_Min          :   0.0000349\n",
      "  pre_Var(MSE)        :   0.0013478\n",
      "  pre_Std(RMSE)       :   0.0367123\n",
      "  Error_mean          :   0.0014445\n",
      "  Error_max           :   0.1621664\n",
      "  Error_min           :  -0.0625514\n",
      "  |Error|_mean(MAPE)  :   0.0075423\n",
      "  |Error|_max         :   0.1621664\n",
      "  |Error|_min         :   0.0000121\n"
     ]
    }
   ],
   "source": [
    "a, err = pre_ana(pre0, label_test)\n",
    "print(\"Prediction:\")\n",
    "print(\"\\nPrediction:\",file=fout)\n",
    "for key in a.keys():\n",
    "    print(f\"  {key:<20}: {a[key]:>11.7f}\")\n",
    "    print(f\"  {key:<20}: {a[key]:>11.7f}\",file=fout)"
   ]
  },
  {
   "cell_type": "markdown",
   "metadata": {},
   "source": [
    "#### 查看拟合中保存的最佳模型"
   ]
  },
  {
   "cell_type": "markdown",
   "metadata": {},
   "source": [
    "是否与上述模型一样？"
   ]
  },
  {
   "cell_type": "code",
   "execution_count": 41,
   "metadata": {
    "ExecuteTime": {
     "end_time": "2021-09-07T04:22:28.068417Z",
     "start_time": "2021-09-07T04:22:28.065408Z"
    }
   },
   "outputs": [
    {
     "name": "stdout",
     "output_type": "stream",
     "text": [
      "Saved best model : .\\hyper-param_tuning\\au150_DW_cr_3level_neuron_run_2021_09_07-11_39_41.h5\n"
     ]
    }
   ],
   "source": [
    "print(f\"Saved best model : {model_saved_best}\")\n",
    "print(f\"\\nSaved best model : {model_saved_best}\",file=fout)\n",
    "fout.close()"
   ]
  },
  {
   "cell_type": "code",
   "execution_count": 42,
   "metadata": {
    "ExecuteTime": {
     "end_time": "2021-09-07T04:22:30.571412Z",
     "start_time": "2021-09-07T04:22:30.505569Z"
    }
   },
   "outputs": [
    {
     "data": {
      "text/plain": [
       "<tensorflow.python.keras.engine.sequential.Sequential at 0x27bda911a60>"
      ]
     },
     "execution_count": 42,
     "metadata": {},
     "output_type": "execute_result"
    }
   ],
   "source": [
    "model = keras.models.load_model(model_saved_best)\n",
    "model"
   ]
  },
  {
   "cell_type": "code",
   "execution_count": 43,
   "metadata": {
    "ExecuteTime": {
     "end_time": "2021-09-07T04:22:32.244058Z",
     "start_time": "2021-09-07T04:22:32.153270Z"
    }
   },
   "outputs": [
    {
     "data": {
      "text/plain": [
       "array([[2.8487403],\n",
       "       [2.8773682],\n",
       "       [2.8269725],\n",
       "       [2.8628733],\n",
       "       [2.7769063],\n",
       "       [2.934882 ],\n",
       "       [2.9111333],\n",
       "       [2.9497814],\n",
       "       [2.9704268],\n",
       "       [2.858697 ],\n",
       "       [2.8449562],\n",
       "       [3.0720062],\n",
       "       [2.89047  ],\n",
       "       [2.7895923],\n",
       "       [2.9357889],\n",
       "       [2.8905354],\n",
       "       [2.887008 ],\n",
       "       [2.9153411],\n",
       "       [2.8374994],\n",
       "       [2.9163153],\n",
       "       [2.843327 ],\n",
       "       [2.839094 ],\n",
       "       [2.8386695],\n",
       "       [2.8695571],\n",
       "       [2.932488 ],\n",
       "       [2.9231672],\n",
       "       [2.8568232],\n",
       "       [2.972545 ],\n",
       "       [2.8947504],\n",
       "       [2.870927 ],\n",
       "       [2.9447117],\n",
       "       [2.8459928],\n",
       "       [2.9067192],\n",
       "       [2.9036243],\n",
       "       [2.835688 ],\n",
       "       [3.0163052],\n",
       "       [2.8946908],\n",
       "       [2.8499818],\n",
       "       [2.8165805],\n",
       "       [2.8911054],\n",
       "       [2.9709156],\n",
       "       [2.8788173],\n",
       "       [2.8236842],\n",
       "       [2.8780012],\n",
       "       [2.829179 ],\n",
       "       [2.9143689],\n",
       "       [2.9288454],\n",
       "       [2.8786256],\n",
       "       [2.8849516],\n",
       "       [2.881039 ],\n",
       "       [2.7499313],\n",
       "       [2.824069 ],\n",
       "       [2.869036 ],\n",
       "       [2.8809965],\n",
       "       [2.9037383],\n",
       "       [2.8974519],\n",
       "       [2.8150454],\n",
       "       [2.7763543],\n",
       "       [2.8602397],\n",
       "       [2.8844562],\n",
       "       [2.9243305],\n",
       "       [2.926926 ],\n",
       "       [2.8092372],\n",
       "       [2.9115388],\n",
       "       [2.8473647],\n",
       "       [2.8455558],\n",
       "       [2.804376 ],\n",
       "       [2.850774 ],\n",
       "       [2.9113138],\n",
       "       [2.8740635],\n",
       "       [2.8934557],\n",
       "       [2.8069568],\n",
       "       [2.9270039],\n",
       "       [2.9261336],\n",
       "       [2.8995895],\n",
       "       [2.975325 ],\n",
       "       [2.8541954],\n",
       "       [2.911429 ],\n",
       "       [2.8979976],\n",
       "       [2.8178098],\n",
       "       [2.8628538],\n",
       "       [2.787492 ],\n",
       "       [2.6607094],\n",
       "       [2.8108954],\n",
       "       [2.869036 ],\n",
       "       [2.9784415],\n",
       "       [2.8313034],\n",
       "       [2.9714887],\n",
       "       [2.8225703],\n",
       "       [2.9292042],\n",
       "       [2.7922475],\n",
       "       [2.949652 ],\n",
       "       [2.8768537],\n",
       "       [2.87362  ],\n",
       "       [2.8095078],\n",
       "       [2.7682836],\n",
       "       [2.8368053],\n",
       "       [2.8857188],\n",
       "       [2.8541734],\n",
       "       [2.877683 ],\n",
       "       [3.0226197],\n",
       "       [2.832503 ],\n",
       "       [2.830804 ],\n",
       "       [2.9604297],\n",
       "       [2.911015 ],\n",
       "       [2.9562461],\n",
       "       [2.9222207],\n",
       "       [2.8869758],\n",
       "       [2.8238633],\n",
       "       [2.873079 ],\n",
       "       [2.8364785],\n",
       "       [2.853787 ],\n",
       "       [2.8105927],\n",
       "       [2.8077083],\n",
       "       [2.8784819],\n",
       "       [2.7903826],\n",
       "       [2.8267262],\n",
       "       [2.9689586],\n",
       "       [2.905309 ],\n",
       "       [2.8351586],\n",
       "       [2.9122574],\n",
       "       [2.888227 ],\n",
       "       [2.8295462],\n",
       "       [2.8573327],\n",
       "       [2.8084786],\n",
       "       [2.9196632],\n",
       "       [2.872303 ],\n",
       "       [2.9427166],\n",
       "       [2.8968847],\n",
       "       [2.7884772],\n",
       "       [2.939645 ],\n",
       "       [2.8863719],\n",
       "       [2.768017 ],\n",
       "       [2.8874023],\n",
       "       [2.8323648],\n",
       "       [2.8503115],\n",
       "       [2.7639222],\n",
       "       [2.79765  ],\n",
       "       [2.7709346],\n",
       "       [2.9291813],\n",
       "       [2.8807046],\n",
       "       [2.7962291],\n",
       "       [2.8509312],\n",
       "       [2.9465575],\n",
       "       [2.8749177],\n",
       "       [2.899131 ],\n",
       "       [2.9196653],\n",
       "       [2.9230297],\n",
       "       [2.9177778],\n",
       "       [2.8726609],\n",
       "       [2.8497589],\n",
       "       [2.8691118],\n",
       "       [2.8481314],\n",
       "       [2.9333777],\n",
       "       [2.7525866],\n",
       "       [2.9803202],\n",
       "       [2.8472238],\n",
       "       [2.873867 ],\n",
       "       [2.9098914],\n",
       "       [2.865585 ],\n",
       "       [2.794431 ],\n",
       "       [2.9403598],\n",
       "       [2.869525 ],\n",
       "       [2.8119574],\n",
       "       [2.9863758],\n",
       "       [2.8957865],\n",
       "       [2.9122906],\n",
       "       [2.8624332],\n",
       "       [2.8630528],\n",
       "       [2.9022975],\n",
       "       [2.967949 ],\n",
       "       [2.8664224],\n",
       "       [2.8788364],\n",
       "       [2.876883 ],\n",
       "       [2.809798 ],\n",
       "       [2.875816 ],\n",
       "       [2.8921545],\n",
       "       [2.938669 ],\n",
       "       [2.856117 ],\n",
       "       [2.9112432],\n",
       "       [2.9265814],\n",
       "       [2.9213748],\n",
       "       [2.9086208],\n",
       "       [2.8854947],\n",
       "       [2.825915 ],\n",
       "       [2.8163471],\n",
       "       [2.91527  ],\n",
       "       [2.8288229],\n",
       "       [2.8506565],\n",
       "       [2.9841444],\n",
       "       [2.9963753],\n",
       "       [2.8228428],\n",
       "       [2.8034441],\n",
       "       [2.9119914],\n",
       "       [2.7740307],\n",
       "       [2.8975995],\n",
       "       [2.8978422],\n",
       "       [2.8500316],\n",
       "       [2.9049034],\n",
       "       [2.8795793],\n",
       "       [2.8513572],\n",
       "       [2.8553302],\n",
       "       [2.9436493],\n",
       "       [2.869036 ],\n",
       "       [2.8382714],\n",
       "       [2.8155077],\n",
       "       [2.791038 ],\n",
       "       [2.7530217],\n",
       "       [2.853929 ],\n",
       "       [2.8019986],\n",
       "       [2.9315627],\n",
       "       [2.8488455],\n",
       "       [2.9130716],\n",
       "       [2.8092024],\n",
       "       [2.8949146],\n",
       "       [2.755444 ],\n",
       "       [2.7660863],\n",
       "       [2.8565617],\n",
       "       [2.8900883],\n",
       "       [2.9117658],\n",
       "       [2.869036 ],\n",
       "       [2.7601373],\n",
       "       [2.8695917],\n",
       "       [2.955052 ],\n",
       "       [2.958417 ],\n",
       "       [2.8206987],\n",
       "       [2.8971124],\n",
       "       [2.8772671],\n",
       "       [2.8776798],\n",
       "       [2.7627013],\n",
       "       [2.8689425],\n",
       "       [2.868253 ],\n",
       "       [2.8528752],\n",
       "       [2.853629 ],\n",
       "       [2.869036 ],\n",
       "       [2.8857515],\n",
       "       [2.7959268],\n",
       "       [2.9323862],\n",
       "       [2.8648636],\n",
       "       [2.8821316],\n",
       "       [2.8353238],\n",
       "       [2.929367 ],\n",
       "       [2.8865407],\n",
       "       [2.824626 ],\n",
       "       [2.950854 ],\n",
       "       [2.782206 ],\n",
       "       [2.8416588],\n",
       "       [2.8589215],\n",
       "       [2.8568897],\n",
       "       [2.8449435],\n",
       "       [2.8969636],\n",
       "       [2.8955133],\n",
       "       [2.826109 ],\n",
       "       [2.9376264],\n",
       "       [2.9358227],\n",
       "       [2.9729104],\n",
       "       [2.8849504],\n",
       "       [2.869036 ],\n",
       "       [2.7917073],\n",
       "       [2.869036 ],\n",
       "       [2.8350492],\n",
       "       [2.8129303],\n",
       "       [2.7013524],\n",
       "       [2.8196237],\n",
       "       [2.887695 ],\n",
       "       [2.826663 ],\n",
       "       [2.8774102],\n",
       "       [2.88953  ],\n",
       "       [2.9716465],\n",
       "       [2.902229 ],\n",
       "       [2.7562919],\n",
       "       [2.877001 ],\n",
       "       [2.8892934],\n",
       "       [2.9079165],\n",
       "       [2.874969 ],\n",
       "       [2.8887208],\n",
       "       [2.8980358],\n",
       "       [2.8929963],\n",
       "       [2.8952854],\n",
       "       [2.892779 ],\n",
       "       [2.8317268],\n",
       "       [2.883035 ],\n",
       "       [2.8230958],\n",
       "       [2.860104 ],\n",
       "       [2.8275747],\n",
       "       [2.825666 ],\n",
       "       [2.863222 ],\n",
       "       [2.8647976],\n",
       "       [2.8883893],\n",
       "       [2.8116367],\n",
       "       [2.8870716],\n",
       "       [2.9297798],\n",
       "       [2.9048772],\n",
       "       [2.905724 ],\n",
       "       [2.869036 ],\n",
       "       [2.9133189],\n",
       "       [2.9068189],\n",
       "       [2.8767102],\n",
       "       [2.7975156],\n",
       "       [2.8550303],\n",
       "       [2.7438414],\n",
       "       [2.877024 ],\n",
       "       [2.785987 ],\n",
       "       [2.847599 ],\n",
       "       [2.9293303],\n",
       "       [2.915219 ],\n",
       "       [2.9129856],\n",
       "       [2.7908874],\n",
       "       [2.8983927],\n",
       "       [2.8998904],\n",
       "       [2.8420877],\n",
       "       [2.9975424],\n",
       "       [2.9083827],\n",
       "       [2.9418416],\n",
       "       [2.841163 ],\n",
       "       [2.8236961],\n",
       "       [2.8770137],\n",
       "       [2.8456364],\n",
       "       [2.8608177],\n",
       "       [2.856646 ],\n",
       "       [2.8957422],\n",
       "       [2.8140414],\n",
       "       [2.869036 ],\n",
       "       [2.8923252],\n",
       "       [2.965298 ],\n",
       "       [2.8380268],\n",
       "       [2.888702 ],\n",
       "       [2.9303622],\n",
       "       [2.921392 ],\n",
       "       [2.8959305],\n",
       "       [2.8198972],\n",
       "       [2.7845452],\n",
       "       [2.941321 ],\n",
       "       [2.9160686],\n",
       "       [2.861916 ],\n",
       "       [2.8934474],\n",
       "       [2.9405   ],\n",
       "       [2.9521756],\n",
       "       [2.8385024],\n",
       "       [2.8421848],\n",
       "       [2.903245 ],\n",
       "       [2.8118343],\n",
       "       [2.9108999],\n",
       "       [2.9167085],\n",
       "       [2.869036 ],\n",
       "       [2.8702054],\n",
       "       [2.869036 ],\n",
       "       [2.8888664],\n",
       "       [2.8810947],\n",
       "       [2.9106164],\n",
       "       [2.890477 ],\n",
       "       [2.9078348],\n",
       "       [2.817049 ],\n",
       "       [2.869036 ],\n",
       "       [2.7734241],\n",
       "       [2.8696585],\n",
       "       [2.8269465],\n",
       "       [2.9533417],\n",
       "       [2.862409 ],\n",
       "       [2.858587 ],\n",
       "       [2.904491 ],\n",
       "       [2.8801987],\n",
       "       [2.652131 ],\n",
       "       [2.8399203],\n",
       "       [2.8283992],\n",
       "       [2.9436586],\n",
       "       [2.9146855],\n",
       "       [2.8737874],\n",
       "       [2.8060648],\n",
       "       [2.9296875],\n",
       "       [2.9169245],\n",
       "       [2.9431047],\n",
       "       [2.9171631],\n",
       "       [2.8892896],\n",
       "       [2.9010892],\n",
       "       [2.7828813],\n",
       "       [2.8135774],\n",
       "       [2.8258853],\n",
       "       [2.9135394],\n",
       "       [2.709536 ],\n",
       "       [2.8094227],\n",
       "       [2.8878608],\n",
       "       [2.8823118],\n",
       "       [2.8540795],\n",
       "       [2.8915231],\n",
       "       [2.8919172],\n",
       "       [2.8238127],\n",
       "       [2.824359 ],\n",
       "       [2.8971462],\n",
       "       [2.892816 ],\n",
       "       [2.800078 ],\n",
       "       [2.8684587],\n",
       "       [2.809542 ],\n",
       "       [2.811977 ],\n",
       "       [2.8671184],\n",
       "       [2.8747325],\n",
       "       [2.8661695],\n",
       "       [2.8937325],\n",
       "       [2.8306303],\n",
       "       [2.8589673],\n",
       "       [2.818329 ],\n",
       "       [2.9646058],\n",
       "       [3.0160406],\n",
       "       [2.9081283],\n",
       "       [2.8807616],\n",
       "       [2.8818357],\n",
       "       [2.8134766],\n",
       "       [2.8708549],\n",
       "       [2.7899556],\n",
       "       [2.7907844],\n",
       "       [2.8034604],\n",
       "       [2.8444293],\n",
       "       [2.9179077],\n",
       "       [2.8822122],\n",
       "       [2.9358416],\n",
       "       [2.9309459],\n",
       "       [2.8795097],\n",
       "       [2.85843  ],\n",
       "       [2.8361993],\n",
       "       [2.8311214],\n",
       "       [2.8976986],\n",
       "       [2.87148  ],\n",
       "       [2.944811 ],\n",
       "       [2.8899994],\n",
       "       [2.9366457],\n",
       "       [2.86922  ],\n",
       "       [2.9567428],\n",
       "       [2.9229598],\n",
       "       [2.8062139],\n",
       "       [2.824255 ],\n",
       "       [2.869036 ],\n",
       "       [2.8243642],\n",
       "       [2.7894278],\n",
       "       [2.7865975],\n",
       "       [2.792822 ],\n",
       "       [2.8983886],\n",
       "       [2.902174 ],\n",
       "       [2.9381218],\n",
       "       [2.7999804],\n",
       "       [2.8786995],\n",
       "       [2.9384995],\n",
       "       [2.917979 ],\n",
       "       [2.8805058],\n",
       "       [2.8482108],\n",
       "       [2.9474182],\n",
       "       [2.8911834],\n",
       "       [2.8914397],\n",
       "       [2.74593  ],\n",
       "       [2.8777223],\n",
       "       [2.9320815],\n",
       "       [2.8382902],\n",
       "       [2.822457 ],\n",
       "       [2.8696187],\n",
       "       [2.8921418],\n",
       "       [2.9293065],\n",
       "       [2.9595592],\n",
       "       [2.9049768],\n",
       "       [2.9113717],\n",
       "       [2.9690654],\n",
       "       [2.9264717],\n",
       "       [2.7892087],\n",
       "       [2.9805596],\n",
       "       [2.869106 ],\n",
       "       [2.9365962],\n",
       "       [2.8515027],\n",
       "       [2.8838553],\n",
       "       [2.8984718],\n",
       "       [2.8904343],\n",
       "       [2.810602 ],\n",
       "       [2.9062202],\n",
       "       [2.9310338],\n",
       "       [2.8373606],\n",
       "       [2.852083 ],\n",
       "       [2.8198602],\n",
       "       [2.925916 ],\n",
       "       [2.880726 ],\n",
       "       [2.8753216],\n",
       "       [2.8980124],\n",
       "       [2.930637 ],\n",
       "       [2.9147882],\n",
       "       [2.9405117],\n",
       "       [2.8750117],\n",
       "       [3.049222 ],\n",
       "       [2.8247867],\n",
       "       [2.8041403],\n",
       "       [2.8894494],\n",
       "       [2.890993 ],\n",
       "       [2.9685104],\n",
       "       [2.809449 ],\n",
       "       [2.8334928],\n",
       "       [2.8868375],\n",
       "       [2.8297207],\n",
       "       [2.9065008],\n",
       "       [2.8805463],\n",
       "       [2.8157184],\n",
       "       [2.875356 ],\n",
       "       [2.9224167],\n",
       "       [2.906054 ],\n",
       "       [2.8983   ],\n",
       "       [2.8891687],\n",
       "       [2.9025776],\n",
       "       [2.9567983],\n",
       "       [2.8111782],\n",
       "       [2.8176048],\n",
       "       [2.7816176],\n",
       "       [2.7821577],\n",
       "       [2.8281894],\n",
       "       [2.9154594],\n",
       "       [2.8409367],\n",
       "       [2.8083675],\n",
       "       [2.8951843],\n",
       "       [2.8938723],\n",
       "       [2.7795136],\n",
       "       [2.718369 ],\n",
       "       [2.8427787],\n",
       "       [2.8985546],\n",
       "       [2.9030612],\n",
       "       [2.9004624],\n",
       "       [2.8135018],\n",
       "       [2.8906329],\n",
       "       [2.8246255],\n",
       "       [2.9009278],\n",
       "       [2.8067253],\n",
       "       [2.9139185],\n",
       "       [2.8735516],\n",
       "       [2.8006096],\n",
       "       [2.8592012],\n",
       "       [2.9319181],\n",
       "       [2.897281 ],\n",
       "       [2.82809  ],\n",
       "       [2.8049228],\n",
       "       [2.906455 ],\n",
       "       [2.8551092],\n",
       "       [2.81198  ],\n",
       "       [2.9352813],\n",
       "       [2.803734 ],\n",
       "       [2.8550303],\n",
       "       [2.8423045],\n",
       "       [2.8823113],\n",
       "       [2.9635644],\n",
       "       [2.8554738],\n",
       "       [2.9374893],\n",
       "       [2.8751836],\n",
       "       [2.8100262],\n",
       "       [2.8180056],\n",
       "       [2.8630495],\n",
       "       [2.8964617],\n",
       "       [2.939264 ],\n",
       "       [2.8823597],\n",
       "       [2.8728247],\n",
       "       [2.9292147],\n",
       "       [2.9664168],\n",
       "       [2.968626 ],\n",
       "       [2.9184167],\n",
       "       [2.8292387],\n",
       "       [2.8679352],\n",
       "       [2.8181043],\n",
       "       [2.8598125],\n",
       "       [2.7888024],\n",
       "       [2.8799298],\n",
       "       [2.83114  ],\n",
       "       [2.8390584],\n",
       "       [2.8460057],\n",
       "       [2.9555984],\n",
       "       [2.9261549],\n",
       "       [2.9019608],\n",
       "       [2.8893013],\n",
       "       [2.834258 ],\n",
       "       [2.7946036],\n",
       "       [2.8846548],\n",
       "       [2.8768203],\n",
       "       [2.90245  ],\n",
       "       [2.8439062],\n",
       "       [2.9751925],\n",
       "       [2.9498801],\n",
       "       [2.9190948],\n",
       "       [2.9613173],\n",
       "       [2.96015  ],\n",
       "       [2.8101382],\n",
       "       [2.902205 ],\n",
       "       [2.9496796],\n",
       "       [2.9677749],\n",
       "       [2.693533 ],\n",
       "       [2.8208735],\n",
       "       [2.9127657],\n",
       "       [2.8685944],\n",
       "       [2.9357486],\n",
       "       [2.7459276],\n",
       "       [2.8179252],\n",
       "       [2.9471564],\n",
       "       [2.933503 ],\n",
       "       [2.9135065],\n",
       "       [2.8333938],\n",
       "       [2.9157078],\n",
       "       [2.869036 ],\n",
       "       [2.9031065],\n",
       "       [2.8928769]], dtype=float32)"
      ]
     },
     "execution_count": 43,
     "metadata": {},
     "output_type": "execute_result"
    }
   ],
   "source": [
    "pre = model.predict(feature_test)\n",
    "pre"
   ]
  },
  {
   "cell_type": "code",
   "execution_count": 44,
   "metadata": {
    "ExecuteTime": {
     "end_time": "2021-09-07T04:22:40.425723Z",
     "start_time": "2021-09-07T04:22:40.414711Z"
    }
   },
   "outputs": [
    {
     "data": {
      "text/plain": [
       "array([[0.],\n",
       "       [0.],\n",
       "       [0.],\n",
       "       [0.],\n",
       "       [0.],\n",
       "       [0.],\n",
       "       [0.],\n",
       "       [0.],\n",
       "       [0.],\n",
       "       [0.],\n",
       "       [0.],\n",
       "       [0.],\n",
       "       [0.],\n",
       "       [0.],\n",
       "       [0.],\n",
       "       [0.],\n",
       "       [0.],\n",
       "       [0.],\n",
       "       [0.],\n",
       "       [0.],\n",
       "       [0.],\n",
       "       [0.],\n",
       "       [0.],\n",
       "       [0.],\n",
       "       [0.],\n",
       "       [0.],\n",
       "       [0.],\n",
       "       [0.],\n",
       "       [0.],\n",
       "       [0.],\n",
       "       [0.],\n",
       "       [0.],\n",
       "       [0.],\n",
       "       [0.],\n",
       "       [0.],\n",
       "       [0.],\n",
       "       [0.],\n",
       "       [0.],\n",
       "       [0.],\n",
       "       [0.],\n",
       "       [0.],\n",
       "       [0.],\n",
       "       [0.],\n",
       "       [0.],\n",
       "       [0.],\n",
       "       [0.],\n",
       "       [0.],\n",
       "       [0.],\n",
       "       [0.],\n",
       "       [0.],\n",
       "       [0.],\n",
       "       [0.],\n",
       "       [0.],\n",
       "       [0.],\n",
       "       [0.],\n",
       "       [0.],\n",
       "       [0.],\n",
       "       [0.],\n",
       "       [0.],\n",
       "       [0.],\n",
       "       [0.],\n",
       "       [0.],\n",
       "       [0.],\n",
       "       [0.],\n",
       "       [0.],\n",
       "       [0.],\n",
       "       [0.],\n",
       "       [0.],\n",
       "       [0.],\n",
       "       [0.],\n",
       "       [0.],\n",
       "       [0.],\n",
       "       [0.],\n",
       "       [0.],\n",
       "       [0.],\n",
       "       [0.],\n",
       "       [0.],\n",
       "       [0.],\n",
       "       [0.],\n",
       "       [0.],\n",
       "       [0.],\n",
       "       [0.],\n",
       "       [0.],\n",
       "       [0.],\n",
       "       [0.],\n",
       "       [0.],\n",
       "       [0.],\n",
       "       [0.],\n",
       "       [0.],\n",
       "       [0.],\n",
       "       [0.],\n",
       "       [0.],\n",
       "       [0.],\n",
       "       [0.],\n",
       "       [0.],\n",
       "       [0.],\n",
       "       [0.],\n",
       "       [0.],\n",
       "       [0.],\n",
       "       [0.],\n",
       "       [0.],\n",
       "       [0.],\n",
       "       [0.],\n",
       "       [0.],\n",
       "       [0.],\n",
       "       [0.],\n",
       "       [0.],\n",
       "       [0.],\n",
       "       [0.],\n",
       "       [0.],\n",
       "       [0.],\n",
       "       [0.],\n",
       "       [0.],\n",
       "       [0.],\n",
       "       [0.],\n",
       "       [0.],\n",
       "       [0.],\n",
       "       [0.],\n",
       "       [0.],\n",
       "       [0.],\n",
       "       [0.],\n",
       "       [0.],\n",
       "       [0.],\n",
       "       [0.],\n",
       "       [0.],\n",
       "       [0.],\n",
       "       [0.],\n",
       "       [0.],\n",
       "       [0.],\n",
       "       [0.],\n",
       "       [0.],\n",
       "       [0.],\n",
       "       [0.],\n",
       "       [0.],\n",
       "       [0.],\n",
       "       [0.],\n",
       "       [0.],\n",
       "       [0.],\n",
       "       [0.],\n",
       "       [0.],\n",
       "       [0.],\n",
       "       [0.],\n",
       "       [0.],\n",
       "       [0.],\n",
       "       [0.],\n",
       "       [0.],\n",
       "       [0.],\n",
       "       [0.],\n",
       "       [0.],\n",
       "       [0.],\n",
       "       [0.],\n",
       "       [0.],\n",
       "       [0.],\n",
       "       [0.],\n",
       "       [0.],\n",
       "       [0.],\n",
       "       [0.],\n",
       "       [0.],\n",
       "       [0.],\n",
       "       [0.],\n",
       "       [0.],\n",
       "       [0.],\n",
       "       [0.],\n",
       "       [0.],\n",
       "       [0.],\n",
       "       [0.],\n",
       "       [0.],\n",
       "       [0.],\n",
       "       [0.],\n",
       "       [0.],\n",
       "       [0.],\n",
       "       [0.],\n",
       "       [0.],\n",
       "       [0.],\n",
       "       [0.],\n",
       "       [0.],\n",
       "       [0.],\n",
       "       [0.],\n",
       "       [0.],\n",
       "       [0.],\n",
       "       [0.],\n",
       "       [0.],\n",
       "       [0.],\n",
       "       [0.],\n",
       "       [0.],\n",
       "       [0.],\n",
       "       [0.],\n",
       "       [0.],\n",
       "       [0.],\n",
       "       [0.],\n",
       "       [0.],\n",
       "       [0.],\n",
       "       [0.],\n",
       "       [0.],\n",
       "       [0.],\n",
       "       [0.],\n",
       "       [0.],\n",
       "       [0.],\n",
       "       [0.],\n",
       "       [0.],\n",
       "       [0.],\n",
       "       [0.],\n",
       "       [0.],\n",
       "       [0.],\n",
       "       [0.],\n",
       "       [0.],\n",
       "       [0.],\n",
       "       [0.],\n",
       "       [0.],\n",
       "       [0.],\n",
       "       [0.],\n",
       "       [0.],\n",
       "       [0.],\n",
       "       [0.],\n",
       "       [0.],\n",
       "       [0.],\n",
       "       [0.],\n",
       "       [0.],\n",
       "       [0.],\n",
       "       [0.],\n",
       "       [0.],\n",
       "       [0.],\n",
       "       [0.],\n",
       "       [0.],\n",
       "       [0.],\n",
       "       [0.],\n",
       "       [0.],\n",
       "       [0.],\n",
       "       [0.],\n",
       "       [0.],\n",
       "       [0.],\n",
       "       [0.],\n",
       "       [0.],\n",
       "       [0.],\n",
       "       [0.],\n",
       "       [0.],\n",
       "       [0.],\n",
       "       [0.],\n",
       "       [0.],\n",
       "       [0.],\n",
       "       [0.],\n",
       "       [0.],\n",
       "       [0.],\n",
       "       [0.],\n",
       "       [0.],\n",
       "       [0.],\n",
       "       [0.],\n",
       "       [0.],\n",
       "       [0.],\n",
       "       [0.],\n",
       "       [0.],\n",
       "       [0.],\n",
       "       [0.],\n",
       "       [0.],\n",
       "       [0.],\n",
       "       [0.],\n",
       "       [0.],\n",
       "       [0.],\n",
       "       [0.],\n",
       "       [0.],\n",
       "       [0.],\n",
       "       [0.],\n",
       "       [0.],\n",
       "       [0.],\n",
       "       [0.],\n",
       "       [0.],\n",
       "       [0.],\n",
       "       [0.],\n",
       "       [0.],\n",
       "       [0.],\n",
       "       [0.],\n",
       "       [0.],\n",
       "       [0.],\n",
       "       [0.],\n",
       "       [0.],\n",
       "       [0.],\n",
       "       [0.],\n",
       "       [0.],\n",
       "       [0.],\n",
       "       [0.],\n",
       "       [0.],\n",
       "       [0.],\n",
       "       [0.],\n",
       "       [0.],\n",
       "       [0.],\n",
       "       [0.],\n",
       "       [0.],\n",
       "       [0.],\n",
       "       [0.],\n",
       "       [0.],\n",
       "       [0.],\n",
       "       [0.],\n",
       "       [0.],\n",
       "       [0.],\n",
       "       [0.],\n",
       "       [0.],\n",
       "       [0.],\n",
       "       [0.],\n",
       "       [0.],\n",
       "       [0.],\n",
       "       [0.],\n",
       "       [0.],\n",
       "       [0.],\n",
       "       [0.],\n",
       "       [0.],\n",
       "       [0.],\n",
       "       [0.],\n",
       "       [0.],\n",
       "       [0.],\n",
       "       [0.],\n",
       "       [0.],\n",
       "       [0.],\n",
       "       [0.],\n",
       "       [0.],\n",
       "       [0.],\n",
       "       [0.],\n",
       "       [0.],\n",
       "       [0.],\n",
       "       [0.],\n",
       "       [0.],\n",
       "       [0.],\n",
       "       [0.],\n",
       "       [0.],\n",
       "       [0.],\n",
       "       [0.],\n",
       "       [0.],\n",
       "       [0.],\n",
       "       [0.],\n",
       "       [0.],\n",
       "       [0.],\n",
       "       [0.],\n",
       "       [0.],\n",
       "       [0.],\n",
       "       [0.],\n",
       "       [0.],\n",
       "       [0.],\n",
       "       [0.],\n",
       "       [0.],\n",
       "       [0.],\n",
       "       [0.],\n",
       "       [0.],\n",
       "       [0.],\n",
       "       [0.],\n",
       "       [0.],\n",
       "       [0.],\n",
       "       [0.],\n",
       "       [0.],\n",
       "       [0.],\n",
       "       [0.],\n",
       "       [0.],\n",
       "       [0.],\n",
       "       [0.],\n",
       "       [0.],\n",
       "       [0.],\n",
       "       [0.],\n",
       "       [0.],\n",
       "       [0.],\n",
       "       [0.],\n",
       "       [0.],\n",
       "       [0.],\n",
       "       [0.],\n",
       "       [0.],\n",
       "       [0.],\n",
       "       [0.],\n",
       "       [0.],\n",
       "       [0.],\n",
       "       [0.],\n",
       "       [0.],\n",
       "       [0.],\n",
       "       [0.],\n",
       "       [0.],\n",
       "       [0.],\n",
       "       [0.],\n",
       "       [0.],\n",
       "       [0.],\n",
       "       [0.],\n",
       "       [0.],\n",
       "       [0.],\n",
       "       [0.],\n",
       "       [0.],\n",
       "       [0.],\n",
       "       [0.],\n",
       "       [0.],\n",
       "       [0.],\n",
       "       [0.],\n",
       "       [0.],\n",
       "       [0.],\n",
       "       [0.],\n",
       "       [0.],\n",
       "       [0.],\n",
       "       [0.],\n",
       "       [0.],\n",
       "       [0.],\n",
       "       [0.],\n",
       "       [0.],\n",
       "       [0.],\n",
       "       [0.],\n",
       "       [0.],\n",
       "       [0.],\n",
       "       [0.],\n",
       "       [0.],\n",
       "       [0.],\n",
       "       [0.],\n",
       "       [0.],\n",
       "       [0.],\n",
       "       [0.],\n",
       "       [0.],\n",
       "       [0.],\n",
       "       [0.],\n",
       "       [0.],\n",
       "       [0.],\n",
       "       [0.],\n",
       "       [0.],\n",
       "       [0.],\n",
       "       [0.],\n",
       "       [0.],\n",
       "       [0.],\n",
       "       [0.],\n",
       "       [0.],\n",
       "       [0.],\n",
       "       [0.],\n",
       "       [0.],\n",
       "       [0.],\n",
       "       [0.],\n",
       "       [0.],\n",
       "       [0.],\n",
       "       [0.],\n",
       "       [0.],\n",
       "       [0.],\n",
       "       [0.],\n",
       "       [0.],\n",
       "       [0.],\n",
       "       [0.],\n",
       "       [0.],\n",
       "       [0.],\n",
       "       [0.],\n",
       "       [0.],\n",
       "       [0.],\n",
       "       [0.],\n",
       "       [0.],\n",
       "       [0.],\n",
       "       [0.],\n",
       "       [0.],\n",
       "       [0.],\n",
       "       [0.],\n",
       "       [0.],\n",
       "       [0.],\n",
       "       [0.],\n",
       "       [0.],\n",
       "       [0.],\n",
       "       [0.],\n",
       "       [0.],\n",
       "       [0.],\n",
       "       [0.],\n",
       "       [0.],\n",
       "       [0.],\n",
       "       [0.],\n",
       "       [0.],\n",
       "       [0.],\n",
       "       [0.],\n",
       "       [0.],\n",
       "       [0.],\n",
       "       [0.],\n",
       "       [0.],\n",
       "       [0.],\n",
       "       [0.],\n",
       "       [0.],\n",
       "       [0.],\n",
       "       [0.],\n",
       "       [0.],\n",
       "       [0.],\n",
       "       [0.],\n",
       "       [0.],\n",
       "       [0.],\n",
       "       [0.],\n",
       "       [0.],\n",
       "       [0.],\n",
       "       [0.],\n",
       "       [0.],\n",
       "       [0.],\n",
       "       [0.],\n",
       "       [0.],\n",
       "       [0.],\n",
       "       [0.],\n",
       "       [0.],\n",
       "       [0.],\n",
       "       [0.],\n",
       "       [0.],\n",
       "       [0.],\n",
       "       [0.],\n",
       "       [0.],\n",
       "       [0.],\n",
       "       [0.],\n",
       "       [0.],\n",
       "       [0.],\n",
       "       [0.],\n",
       "       [0.],\n",
       "       [0.],\n",
       "       [0.],\n",
       "       [0.],\n",
       "       [0.],\n",
       "       [0.],\n",
       "       [0.],\n",
       "       [0.],\n",
       "       [0.],\n",
       "       [0.],\n",
       "       [0.],\n",
       "       [0.],\n",
       "       [0.],\n",
       "       [0.],\n",
       "       [0.],\n",
       "       [0.],\n",
       "       [0.],\n",
       "       [0.],\n",
       "       [0.],\n",
       "       [0.],\n",
       "       [0.],\n",
       "       [0.],\n",
       "       [0.],\n",
       "       [0.],\n",
       "       [0.],\n",
       "       [0.],\n",
       "       [0.],\n",
       "       [0.],\n",
       "       [0.],\n",
       "       [0.],\n",
       "       [0.],\n",
       "       [0.],\n",
       "       [0.],\n",
       "       [0.],\n",
       "       [0.],\n",
       "       [0.],\n",
       "       [0.],\n",
       "       [0.],\n",
       "       [0.],\n",
       "       [0.],\n",
       "       [0.],\n",
       "       [0.],\n",
       "       [0.],\n",
       "       [0.],\n",
       "       [0.],\n",
       "       [0.],\n",
       "       [0.],\n",
       "       [0.],\n",
       "       [0.],\n",
       "       [0.],\n",
       "       [0.],\n",
       "       [0.],\n",
       "       [0.],\n",
       "       [0.],\n",
       "       [0.],\n",
       "       [0.],\n",
       "       [0.],\n",
       "       [0.],\n",
       "       [0.],\n",
       "       [0.],\n",
       "       [0.],\n",
       "       [0.],\n",
       "       [0.],\n",
       "       [0.],\n",
       "       [0.],\n",
       "       [0.],\n",
       "       [0.],\n",
       "       [0.],\n",
       "       [0.],\n",
       "       [0.],\n",
       "       [0.],\n",
       "       [0.],\n",
       "       [0.],\n",
       "       [0.],\n",
       "       [0.],\n",
       "       [0.],\n",
       "       [0.],\n",
       "       [0.],\n",
       "       [0.],\n",
       "       [0.],\n",
       "       [0.],\n",
       "       [0.],\n",
       "       [0.],\n",
       "       [0.],\n",
       "       [0.],\n",
       "       [0.],\n",
       "       [0.],\n",
       "       [0.],\n",
       "       [0.],\n",
       "       [0.],\n",
       "       [0.],\n",
       "       [0.],\n",
       "       [0.],\n",
       "       [0.],\n",
       "       [0.],\n",
       "       [0.],\n",
       "       [0.],\n",
       "       [0.],\n",
       "       [0.],\n",
       "       [0.],\n",
       "       [0.]], dtype=float32)"
      ]
     },
     "execution_count": 44,
     "metadata": {},
     "output_type": "execute_result"
    }
   ],
   "source": [
    "diff_pre = pre0-pre\n",
    "diff_pre"
   ]
  },
  {
   "cell_type": "code",
   "execution_count": 45,
   "metadata": {
    "ExecuteTime": {
     "end_time": "2021-09-07T04:22:43.165183Z",
     "start_time": "2021-09-07T04:22:43.162174Z"
    }
   },
   "outputs": [],
   "source": [
    "small = 0.0001\n",
    "if np.max(np.abs(pre0 - pre)) > small:\n",
    "    different = True\n",
    "else:\n",
    "    different = False"
   ]
  },
  {
   "cell_type": "code",
   "execution_count": 46,
   "metadata": {
    "ExecuteTime": {
     "end_time": "2021-09-07T04:22:44.488544Z",
     "start_time": "2021-09-07T04:22:44.484532Z"
    },
    "scrolled": false
   },
   "outputs": [],
   "source": [
    "if different:\n",
    "    b, err = pre_ana(pre, label_test)\n",
    "    fout = open(path_fitinfo, 'a')\n",
    "    print(\"Prediction(Saved model):\")\n",
    "    print(\"\\nPrediction(Saved model):\", file=fout)\n",
    "    for key in b.keys():\n",
    "        print(f\"  {key:<20}: {b[key]:>11.7f}  VS  {a[key]:>11.7f}  diff= {(b[key]-a[key]):>11.7f}\")\n",
    "        print(f\"  {key:<20}: {b[key]:>11.7f}  VS  {a[key]:>11.7f}  diff= {(b[key]-a[key]):>11.7f}\", file=fout)\n",
    "    fout.close()"
   ]
  },
  {
   "cell_type": "markdown",
   "metadata": {},
   "source": [
    "## 将本来值、预测值输出到文件中"
   ]
  },
  {
   "cell_type": "code",
   "execution_count": null,
   "metadata": {},
   "outputs": [],
   "source": [
    "file_pre_txt =  model_pre_time + '_pre.txt'\n",
    "path_pre_txt = os.path.join(path_pre,file_pre_txt)"
   ]
  },
  {
   "cell_type": "code",
   "execution_count": null,
   "metadata": {},
   "outputs": [],
   "source": [
    "fout = open(path_pre_txt,'w')\n",
    "str_no = 'No.'\n",
    "str_lab = 'Label'\n",
    "str_pre = 'Pre_best'\n",
    "str_diff = 'Diff'\n",
    "str_err = 'Error'\n",
    "str_pre2 = 'Pre_saved'\n",
    "str_pre_diff = 'Pre_diff'\n",
    "print(f\"{str_no:>5} {str_lab:>5} {str_pre:>8} {str_diff:>8} {str_err:>10} {str_pre2:>8} {str_pre_diff:>8}\")\n",
    "print(f\"{str_no:>5} {str_lab:>5} {str_pre:>8} {str_diff:>8} {str_err:>10} {str_pre2:>8} {str_pre_diff:>8}\", file=fout)"
   ]
  },
  {
   "cell_type": "code",
   "execution_count": null,
   "metadata": {},
   "outputs": [],
   "source": [
    "for i in range(pre.size):\n",
    "    print(f\"{i+1:>5d} {label_test[i][0]:>5.1f} {pre0[i][0]:>8.4f} {diff[i][0]:>8.4f} {err[i][0]:>11.3E} {pre[i][0]:>8.4f} {diff_pre[i][0]:>8.4f}\")\n",
    "    print(f\"{i+1:>5d} {label_test[i][0]:>5.1f} {pre0[i][0]:>8.4f} {diff[i][0]:>8.4f} {err[i][0]:>11.3E} {pre[i][0]:>8.4f} {diff_pre[i][0]:>8.4f}\", file=fout)\n",
    "#    fout.write(f\"{i:>5d} {label_test[i]:>11.7f} {pre[i]:>11.7f} {diff[i]:>11.7f} {err[i]:>11.3E}\\n\")\n",
    "fout.close()"
   ]
  },
  {
   "cell_type": "markdown",
   "metadata": {},
   "source": [
    "#### 预测test的图形比较"
   ]
  },
  {
   "cell_type": "code",
   "execution_count": 47,
   "metadata": {
    "ExecuteTime": {
     "end_time": "2021-09-07T04:22:46.887889Z",
     "start_time": "2021-09-07T04:22:46.883878Z"
    }
   },
   "outputs": [],
   "source": [
    "def plot_PredictionError(ylim,ind=0):\n",
    "    \"\"\"\n",
    "    \"\"\"\n",
    "#\n",
    "    prediction_error = model_pre + \"_prediction_error\" + f\"_{ind}\"\n",
    "    plt.plot(err, label = f'{label_index}')\n",
    "    plt.xlabel('Test series')\n",
    "    plt.ylabel('Error')\n",
    "    plt.ylim(ylim)\n",
    "    plt.legend(loc='upper left',fontsize=12)\n",
    "    plt.title(f\"{model_pre}\\nPrediction Error\", fontsize=16)\n",
    "    save_fig(prediction_error, path_plot)"
   ]
  },
  {
   "cell_type": "code",
   "execution_count": 50,
   "metadata": {
    "ExecuteTime": {
     "end_time": "2021-09-07T04:23:29.891625Z",
     "start_time": "2021-09-07T04:23:29.514159Z"
    },
    "scrolled": true
   },
   "outputs": [
    {
     "name": "stdout",
     "output_type": "stream",
     "text": [
      "Saving figure au150_DW_cr_3level_neuron_prediction_error_0\n"
     ]
    },
    {
     "data": {
      "image/png": "[encoded data removed]",
      "text/plain": [
       "<Figure size 432x288 with 1 Axes>"
      ]
     },
     "metadata": {
      "needs_background": "light"
     },
     "output_type": "display_data"
    }
   ],
   "source": [
    "plot_PredictionError([-0.08,0.18],ind=0)"
   ]
  },
  {
   "cell_type": "code",
   "execution_count": 51,
   "metadata": {
    "ExecuteTime": {
     "end_time": "2021-09-07T04:23:55.504065Z",
     "start_time": "2021-09-07T04:23:55.097728Z"
    },
    "scrolled": true
   },
   "outputs": [
    {
     "name": "stdout",
     "output_type": "stream",
     "text": [
      "Saving figure au150_DW_cr_3level_neuron_prediction_error_2\n"
     ]
    },
    {
     "data": {
      "image/png": "[encoded data removed]",
      "text/plain": [
       "<Figure size 432x288 with 1 Axes>"
      ]
     },
     "metadata": {
      "needs_background": "light"
     },
     "output_type": "display_data"
    }
   ],
   "source": [
    "plot_PredictionError([-0.03,0.05],ind=2)"
   ]
  },
  {
   "cell_type": "markdown",
   "metadata": {},
   "source": [
    "直接比较"
   ]
  },
  {
   "cell_type": "markdown",
   "metadata": {},
   "source": [
    "原来代码"
   ]
  },
  {
   "cell_type": "markdown",
   "metadata": {},
   "source": [
    "#x_low and x_high are the border of x-axis for plotting\n",
    "x_low = 0\n",
    "x_high = 50\n",
    "#x_ticks is the step show for x-axis plottong\n",
    "x_ticks = 10\n",
    "prediction_compare = model_pre + f\"_prediction_compare_{label_index}_{x_low}_{x_high}\"\n",
    "x = range(pre.shape[0])\n",
    "plt.figure(figsize=(8, 8))\n",
    "plt.scatter(x,label_test, marker='o', label = f'{label_index}')\n",
    "plt.scatter(x,pre, marker='^', label = f'{label_index}_pre')\n",
    "plt.xlabel('Test series')\n",
    "plt.ylabel(f'{label_index}')\n",
    "plt.xlim(x_low,x_high)\n",
    "plt.ylim(min(np.min(label_test),np.min(pre)), max(np.max(label_test),np.max(pre)))\n",
    "plt.xticks(np.arange(x_low,x_high+1,x_ticks), rotation=0)#rotation控制倾斜角度\n",
    "#plt.yticks(np.arange(np.max(label_test)-1, np.max(label_test)+1, 2))\n",
    "#plt.yticks(np.arange(np.around(np.min(label_test),1)-0.1, np.around(np.max(label_test),1)+0.1, 0.2))\n",
    "#plt.legend(loc='lower right')\n",
    "plt.legend(loc='upper right', fontsize=12)\n",
    "plt.title(f\"{model_pre}\\nRegression Performance\", fontsize=16)\n",
    "save_fig(prediction_compare, path_plot)"
   ]
  },
  {
   "cell_type": "code",
   "execution_count": 52,
   "metadata": {
    "ExecuteTime": {
     "end_time": "2021-09-07T04:24:02.054709Z",
     "start_time": "2021-09-07T04:24:02.049696Z"
    }
   },
   "outputs": [],
   "source": [
    "def plot_PredictionCompare(x_low, x_high, x_ticks=10):\n",
    "    \"\"\"\n",
    "    \"\"\"\n",
    "#\n",
    "    prediction_compare = model_pre + f\"_prediction_compare_{label_index}_{x_low}_{x_high}\"\n",
    "    x = range(pre.shape[0])\n",
    "    plt.figure(figsize=(8, 8))\n",
    "    plt.scatter(x,label_test, marker='o', label = f'{label_index}')\n",
    "    plt.scatter(x,pre, marker='^', label = f'{label_index}_pre')\n",
    "    plt.xlabel('Test series')\n",
    "    plt.ylabel(f'{label_index}')\n",
    "    plt.xlim(x_low,x_high)\n",
    "    plt.ylim(min(np.min(label_test),np.min(pre)), max(np.max(label_test),np.max(pre)))\n",
    "    plt.xticks(np.arange(x_low,x_high+1,x_ticks), rotation=0)#rotation控制倾斜角度\n",
    "#plt.yticks(np.arange(np.max(label_test)-1, np.max(label_test)+1, 2))\n",
    "#plt.yticks(np.arange(np.around(np.min(label_test),1)-0.1, np.around(np.max(label_test),1)+0.1, 0.2))\n",
    "    plt.legend(loc='upper right', fontsize=12)\n",
    "    plt.title(f\"{model_pre}\\nRegression Performance\", fontsize=16)\n",
    "    save_fig(prediction_compare, path_plot)"
   ]
  },
  {
   "cell_type": "code",
   "execution_count": null,
   "metadata": {},
   "outputs": [],
   "source": [
    "step = 50\n",
    "for i in range(0,pre.size, step):\n",
    "    plot_PredictionCompare(i, min(i+step, pre.size))"
   ]
  },
  {
   "cell_type": "code",
   "execution_count": null,
   "metadata": {},
   "outputs": [],
   "source": []
  }
 ],
 "metadata": {
  "colab": {
   "collapsed_sections": [],
   "name": "多元回归问题 0818",
   "provenance": [],
   "toc_visible": true
  },
  "kernelspec": {
   "display_name": "Python 3 (ipykernel)",
   "language": "python",
   "name": "python3"
  },
  "language_info": {
   "codemirror_mode": {
    "name": "ipython",
    "version": 3
   },
   "file_extension": ".py",
   "mimetype": "text/x-python",
   "name": "python",
   "nbconvert_exporter": "python",
   "pygments_lexer": "ipython3",
   "version": "3.9.7"
  },
  "toc": {
   "base_numbering": 1,
   "nav_menu": {},
   "number_sections": true,
   "sideBar": true,
   "skip_h1_title": false,
   "title_cell": "Table of Contents",
   "title_sidebar": "Contents",
   "toc_cell": false,
   "toc_position": {
    "height": "calc(100% - 180px)",
    "left": "10px",
    "top": "150px",
    "width": "230.4px"
   },
   "toc_section_display": true,
   "toc_window_display": true
  },
  "varInspector": {
   "cols": {
    "lenName": 16,
    "lenType": 16,
    "lenVar": 40
   },
   "kernels_config": {
    "python": {
     "delete_cmd_postfix": "",
     "delete_cmd_prefix": "del ",
     "library": "var_list.py",
     "varRefreshCmd": "print(var_dic_list())"
    },
    "r": {
     "delete_cmd_postfix": ") ",
     "delete_cmd_prefix": "rm(",
     "library": "var_list.r",
     "varRefreshCmd": "cat(var_dic_list()) "
    }
   },
   "position": {
    "height": "144.5px",
    "left": "909px",
    "right": "20px",
    "top": "120px",
    "width": "350px"
   },
   "types_to_exclude": [
    "module",
    "function",
    "builtin_function_or_method",
    "instance",
    "_Feature"
   ],
   "window_display": false
  }
 },
 "nbformat": 4,
 "nbformat_minor": 1
}
