{
 "cells": [
  {
   "cell_type": "markdown",
   "metadata": {},
   "source": [
    "## 本程序读取train、validation、test的feature、label文件（在“datasets”文件夹下），然后构建网络进行超参数训练。输出在文件夹“hyper-param_tuning”中。"
   ]
  },
  {
   "cell_type": "markdown",
   "metadata": {},
   "source": [
    "last update: 2022.5.18"
   ]
  },
  {
   "cell_type": "markdown",
   "metadata": {},
   "source": [
    "相对于24版本，将文件/文件夹参数提前到前面进行设置，并调整了输入和输出文件夹相对于本代码的相对路径"
   ]
  },
  {
   "cell_type": "markdown",
   "metadata": {},
   "source": [
    "contacts：zhaohf@ihep.ac.cn"
   ]
  },
  {
   "cell_type": "markdown",
   "metadata": {},
   "source": [
    "# 配置环境"
   ]
  },
  {
   "cell_type": "markdown",
   "metadata": {},
   "source": [
    "## 导入所需模块"
   ]
  },
  {
   "cell_type": "code",
   "execution_count": 1,
   "metadata": {
    "ExecuteTime": {
     "end_time": "2022-05-28T04:09:54.429887Z",
     "start_time": "2022-05-28T04:09:47.730636Z"
    }
   },
   "outputs": [],
   "source": [
    "import os\n",
    "import sys\n",
    "assert sys.version_info >= (3, 5)\n",
    "#\n",
    "import pandas as pd\n",
    "import numpy as np\n",
    "#\n",
    "# TensorFlow ≥2.0 is required\n",
    "import tensorflow as tf\n",
    "assert tf.__version__ >= \"2.0\"\n",
    "import sklearn\n",
    "\n",
    "from tensorflow import keras\n",
    "from tensorflow.keras import optimizers\n",
    "#\n",
    "# pydot_ng and graphviz are for tf.keras.utils.plot_model\n",
    "# note that installing pydot_ng is 'pydot-ng'\n",
    "# note that 在windows下不可以使用pip install graphviz 下载graphviz安装包，\n",
    "# 要去https://graphviz.gitlab.io/下载windows版本的安装包，安装好之后在环境变量中添加对应的路径即可！！！\n",
    "import graphviz\n",
    "import pydot\n",
    "import pydot_ng\n",
    "#\n",
    "import time"
   ]
  },
  {
   "cell_type": "markdown",
   "metadata": {},
   "source": [
    "输出导入模板的版本。"
   ]
  },
  {
   "cell_type": "code",
   "execution_count": 2,
   "metadata": {
    "ExecuteTime": {
     "end_time": "2022-05-28T04:09:54.445779Z",
     "start_time": "2022-05-28T04:09:54.429887Z"
    }
   },
   "outputs": [
    {
     "name": "stdout",
     "output_type": "stream",
     "text": [
      "python version: 3.9.12 (main, Apr  4 2022, 05:22:27) [MSC v.1916 64 bit (AMD64)]\n",
      "TensorFlow version: 2.7.0\n",
      "sciket learn version: 1.0.2\n",
      "numpy version: 1.21.5\n",
      "panda version: 1.4.2\n",
      "graphviz version: 0.20\n",
      "pydot version: 1.4.2\n",
      "pydot_ng version: 2.0.0\n"
     ]
    }
   ],
   "source": [
    "print('python version:',sys.version)\n",
    "print('TensorFlow version:',tf.__version__)\n",
    "print('sciket learn version:',sklearn.__version__)\n",
    "print('numpy version:',np.__version__)\n",
    "print('panda version:',pd.__version__)\n",
    "print('graphviz version:',graphviz.__version__)\n",
    "print('pydot version:',pydot.__version__)\n",
    "print('pydot_ng version:',pydot_ng.__version__)\n",
    "#\n",
    "#print('matplotlib version:',matplotlib.__version__)\n",
    "#print('time version:',time.__version__)"
   ]
  },
  {
   "cell_type": "markdown",
   "metadata": {},
   "source": [
    "# 设置参数"
   ]
  },
  {
   "cell_type": "markdown",
   "metadata": {},
   "source": [
    "## 配置输入文件夹"
   ]
  },
  {
   "cell_type": "markdown",
   "metadata": {},
   "source": [
    "设置train、validation、test的文件夹路径和文件名"
   ]
  },
  {
   "cell_type": "code",
   "execution_count": 3,
   "metadata": {
    "ExecuteTime": {
     "end_time": "2022-05-28T04:09:54.459128Z",
     "start_time": "2022-05-28T04:09:54.446776Z"
    }
   },
   "outputs": [],
   "source": [
    "dir_data = './../datasets'\n",
    "file_train = ['Au_chi_train.txt', 'Au_cn1_train.txt']\n",
    "file_valid = ['Au_chi_valid.txt', 'Au_cn1_valid.txt']\n",
    "file_test = ['Au_chi_test.txt', 'Au_cn1_test.txt']"
   ]
  },
  {
   "cell_type": "markdown",
   "metadata": {},
   "source": [
    "## 配置输出文件夹"
   ]
  },
  {
   "cell_type": "markdown",
   "metadata": {},
   "source": [
    "所有输出文件都保存在一个文件夹内"
   ]
  },
  {
   "cell_type": "code",
   "execution_count": 4,
   "metadata": {
    "ExecuteTime": {
     "end_time": "2022-05-28T04:09:54.475225Z",
     "start_time": "2022-05-28T04:09:54.459128Z"
    }
   },
   "outputs": [],
   "source": [
    "dir_output = './../hyper-param_tuning'"
   ]
  },
  {
   "cell_type": "markdown",
   "metadata": {},
   "source": [
    "设置日志文件的文件夹，为TensorBoard使用。"
   ]
  },
  {
   "cell_type": "code",
   "execution_count": 5,
   "metadata": {
    "ExecuteTime": {
     "end_time": "2022-05-28T04:09:54.484373Z",
     "start_time": "2022-05-28T04:09:54.476186Z"
    }
   },
   "outputs": [],
   "source": [
    "dir_log = dir_output + './my_logs'"
   ]
  },
  {
   "cell_type": "markdown",
   "metadata": {},
   "source": [
    "## 设置label标签，用于后面模型训练、绘图"
   ]
  },
  {
   "cell_type": "code",
   "execution_count": 6,
   "metadata": {
    "ExecuteTime": {
     "end_time": "2022-05-28T04:09:54.497160Z",
     "start_time": "2022-05-28T04:09:54.484373Z"
    }
   },
   "outputs": [],
   "source": [
    "label_index = 'CN1'"
   ]
  },
  {
   "cell_type": "markdown",
   "metadata": {},
   "source": [
    "## 设置输入超参数训练模型的关键词，用于命名给出训练过程信息的文件名"
   ]
  },
  {
   "cell_type": "code",
   "execution_count": 7,
   "metadata": {
    "ExecuteTime": {
     "end_time": "2022-05-28T04:09:54.512783Z",
     "start_time": "2022-05-28T04:09:54.497160Z"
    }
   },
   "outputs": [],
   "source": [
    "model_pre = 'au150_DW_chi_cn1_3level'"
   ]
  },
  {
   "cell_type": "markdown",
   "metadata": {},
   "source": [
    "## 有关网络的参数设置，在正文网络超参数训练中进行设置——未来进行调整"
   ]
  },
  {
   "cell_type": "markdown",
   "metadata": {},
   "source": [
    "# 部分函数模块"
   ]
  },
  {
   "cell_type": "markdown",
   "metadata": {},
   "source": [
    "## 设置绘图格式和保存图片的模块"
   ]
  },
  {
   "cell_type": "markdown",
   "metadata": {},
   "source": [
    "注意这里的save_fig与原来神经网络中的有所不同，特别是路径和文件名位置换了。"
   ]
  },
  {
   "cell_type": "code",
   "execution_count": 8,
   "metadata": {
    "ExecuteTime": {
     "end_time": "2022-05-28T04:09:55.215425Z",
     "start_time": "2022-05-28T04:09:54.514197Z"
    }
   },
   "outputs": [],
   "source": [
    "# To plot pretty figures\n",
    "# %matplotlib具体作用是调用matplotlib.pyplot的绘图函数plot()进行绘图时，\n",
    "# 或生成一个figure画布时，可以直接在你的python console里面生成图像。\n",
    "%matplotlib inline\n",
    "import matplotlib as mpl\n",
    "import matplotlib.pyplot as plt\n",
    "mpl.rc('axes', labelsize=14)   # matplotlib.rc 什么意思没找到\n",
    "mpl.rc('xtick', labelsize=12)\n",
    "mpl.rc('ytick', labelsize=12)\n",
    "\n",
    "def save_fig(IMAGES_PATH, fig_id, tight_layout=True, fig_extension=\"png\", resolution=300):\n",
    "    os.makedirs(IMAGES_PATH, exist_ok=True)\n",
    "    path = os.path.join(IMAGES_PATH, fig_id + \".\" + fig_extension)\n",
    "    print(\"Saving figure\", fig_id)\n",
    "    if tight_layout:\n",
    "        plt.tight_layout()\n",
    "    plt.savefig(path, format=fig_extension, dpi=resolution)\n",
    "#    plt.show()\n",
    "\n",
    "# Ignore useless warnings (see SciPy issue #5998)\n",
    "import warnings\n",
    "warnings.filterwarnings(action=\"ignore\", message=\"^internal gelsd\")"
   ]
  },
  {
   "cell_type": "markdown",
   "metadata": {},
   "source": [
    "## 预测分析函数"
   ]
  },
  {
   "cell_type": "code",
   "execution_count": 9,
   "metadata": {
    "ExecuteTime": {
     "end_time": "2022-05-28T04:09:55.230877Z",
     "start_time": "2022-05-28T04:09:55.215425Z"
    }
   },
   "outputs": [],
   "source": [
    "def pre_ana(pre, label_test):\n",
    "    \"\"\"\n",
    "    \"\"\"\n",
    "    diff = pre - label_test\n",
    "    diff_abs = np.abs(diff)\n",
    "    diff2 = np.square(diff)  # = diff**2\n",
    "    #pre_var_mean = np.mean(diff2, axis=0)\n",
    "    pre_var_mean = np.mean(diff2)\n",
    "    pre_var_std = np.sqrt(pre_var_mean)  # = pre_var_mean**0.5\n",
    "    err = diff / label_test\n",
    "    err_abs = np.abs(err)\n",
    "    attr_dict3 = {\n",
    "        'diff_Max': np.max(diff),\n",
    "        'diff_Min': np.min(diff),\n",
    "        '|diff|_Mean(MAE)': np.mean(diff_abs),\n",
    "        '|diff|_Max': np.max(diff_abs),\n",
    "        '|diff|_Min': np.min(diff_abs),\n",
    "        'pre_Var(MSE)': pre_var_mean,\n",
    "        'pre_Std(RMSE)': pre_var_std,\n",
    "        'Error_mean': np.mean(err),\n",
    "        'Error_max': np.max(err),\n",
    "        'Error_min': np.min(err),\n",
    "        '|Error|_mean(MAPE)': np.mean(err_abs),\n",
    "        '|Error|_max': np.max(err_abs),\n",
    "        '|Error|_min': np.min(err_abs)\n",
    "    }\n",
    "    return attr_dict3, err"
   ]
  },
  {
   "cell_type": "markdown",
   "metadata": {},
   "source": [
    "## 预测分析绘图函数"
   ]
  },
  {
   "cell_type": "code",
   "execution_count": 10,
   "metadata": {
    "ExecuteTime": {
     "end_time": "2022-05-28T04:09:55.249730Z",
     "start_time": "2022-05-28T04:09:55.234004Z"
    }
   },
   "outputs": [],
   "source": [
    "def plot_PredictionError(ylim,ind=0):\n",
    "    \"\"\"\n",
    "    \"\"\"\n",
    "#\n",
    "    prediction_error = model_pre + \"_prediction_error\" + f\"_{ind}\"\n",
    "    plt.plot(err, label = f'{label_index}')\n",
    "    plt.xlabel('Test series')\n",
    "    plt.ylabel('Error')\n",
    "    plt.ylim(ylim)\n",
    "    plt.legend(loc='upper left',fontsize=12)\n",
    "    plt.title(f\"{model_pre}\\nPrediction Error\", fontsize=16)\n",
    "    save_fig(path_plot, prediction_error)"
   ]
  },
  {
   "cell_type": "markdown",
   "metadata": {},
   "source": [
    "## 一些模型构建的函数、图形绘制函数，为了阅读方便，放置于正文中。"
   ]
  },
  {
   "cell_type": "markdown",
   "metadata": {},
   "source": [
    "# 正文"
   ]
  },
  {
   "cell_type": "markdown",
   "metadata": {},
   "source": [
    "## 确定当前目录和工作目录"
   ]
  },
  {
   "cell_type": "code",
   "execution_count": 11,
   "metadata": {
    "ExecuteTime": {
     "end_time": "2022-05-28T04:09:55.265432Z",
     "start_time": "2022-05-28T04:09:55.251696Z"
    }
   },
   "outputs": [
    {
     "data": {
      "text/plain": [
       "'D:\\\\haifeng\\\\work_20211031\\\\XAS-ML\\\\code\\\\neural network module\\\\jupyternotebook_code'"
      ]
     },
     "execution_count": 11,
     "metadata": {},
     "output_type": "execute_result"
    }
   ],
   "source": [
    "import os\n",
    "path = os.path.abspath(os.curdir)\n",
    "path"
   ]
  },
  {
   "cell_type": "markdown",
   "metadata": {},
   "source": [
    "## 检查输入文件是否存在"
   ]
  },
  {
   "cell_type": "code",
   "execution_count": 12,
   "metadata": {
    "ExecuteTime": {
     "end_time": "2022-05-28T04:09:55.280704Z",
     "start_time": "2022-05-28T04:09:55.267420Z"
    }
   },
   "outputs": [],
   "source": [
    "path_dir_data = os.path.join(path,dir_data)\n",
    "file_data = file_train + file_valid + file_test\n",
    "#\n",
    "for i in range(len(file_data)):\n",
    "    path_file = os.path.join(path_dir_data,file_data[i])\n",
    "#\n",
    "# 检查csv是否存在，若不存在，报错\n",
    "    exist = os.path.exists(path_file)\n",
    "    if not exist:\n",
    "        print()\n",
    "        print(f\"** Error!! cannot find file {file_data[i]} in directory {dir_data}! **\")\n",
    "        print()\n",
    "        sys.exit()"
   ]
  },
  {
   "cell_type": "markdown",
   "metadata": {},
   "source": [
    "## 读取train、valid等文件，制成数据集。"
   ]
  },
  {
   "cell_type": "code",
   "execution_count": 13,
   "metadata": {
    "ExecuteTime": {
     "end_time": "2022-05-28T04:09:57.049378Z",
     "start_time": "2022-05-28T04:09:55.283699Z"
    }
   },
   "outputs": [],
   "source": [
    "import pandas as pd\n",
    "for i in range(len(file_data)):\n",
    "    path_file = os.path.join(path_dir_data,file_data[i])\n",
    "#   df.values, df.as_matrix() and np.array(df) all works.\n",
    "    data_df = pd.read_csv(path_file,header=None,delim_whitespace=True)\n",
    "#\n",
    "    if i == 0 : feature_train = data_df.values\n",
    "    if i == 1 : label_train = data_df.values\n",
    "    if i == 2 : feature_valid = data_df.values\n",
    "    if i == 3 : label_valid = data_df.values\n",
    "    if i == 4 : feature_test = data_df.values\n",
    "    if i == 5 : label_test = data_df.values"
   ]
  },
  {
   "cell_type": "code",
   "execution_count": 14,
   "metadata": {
    "ExecuteTime": {
     "end_time": "2022-05-28T04:09:57.065185Z",
     "start_time": "2022-05-28T04:09:57.049378Z"
    }
   },
   "outputs": [
    {
     "name": "stdout",
     "output_type": "stream",
     "text": [
      "(4162, 400) (4162, 1)\n",
      "(1189, 400) (1189, 1)\n",
      "(595, 400) (595, 1)\n"
     ]
    }
   ],
   "source": [
    "print(feature_train.shape, label_train.shape)\n",
    "print(feature_valid.shape, label_valid.shape)\n",
    "print(feature_test.shape, label_test.shape)"
   ]
  },
  {
   "cell_type": "code",
   "execution_count": 15,
   "metadata": {
    "ExecuteTime": {
     "end_time": "2022-05-28T04:09:57.082060Z",
     "start_time": "2022-05-28T04:09:57.066378Z"
    }
   },
   "outputs": [
    {
     "data": {
      "text/plain": [
       "array([[ 3.204381e-01,  3.179742e-01,  3.107868e-01, ...,  1.588940e-06,\n",
       "         1.217988e-06,  8.223206e-07],\n",
       "       [ 2.272433e-01,  2.254551e-01,  2.202515e-01, ..., -1.081169e-06,\n",
       "        -1.537145e-06, -1.827965e-06],\n",
       "       [ 2.434066e-01,  2.416660e-01,  2.365912e-01, ...,  1.017455e-06,\n",
       "         9.860825e-07,  8.813536e-07],\n",
       "       ...,\n",
       "       [ 2.441422e-01,  2.422082e-01,  2.365669e-01, ..., -1.025576e-06,\n",
       "        -8.874537e-07, -7.067118e-07],\n",
       "       [ 7.773254e-02,  7.687764e-02,  7.436020e-02, ...,  3.263314e-07,\n",
       "         2.805082e-07,  2.240872e-07],\n",
       "       [ 3.252115e-01,  3.225673e-01,  3.148726e-01, ...,  7.640049e-07,\n",
       "         1.259443e-06,  1.596963e-06]])"
      ]
     },
     "execution_count": 15,
     "metadata": {},
     "output_type": "execute_result"
    }
   ],
   "source": [
    "feature_train"
   ]
  },
  {
   "cell_type": "code",
   "execution_count": 16,
   "metadata": {
    "ExecuteTime": {
     "end_time": "2022-05-28T04:09:57.100246Z",
     "start_time": "2022-05-28T04:09:57.084345Z"
    }
   },
   "outputs": [
    {
     "data": {
      "text/plain": [
       "array([[ 8],\n",
       "       [ 9],\n",
       "       [ 8],\n",
       "       ...,\n",
       "       [ 9],\n",
       "       [12],\n",
       "       [12]], dtype=int64)"
      ]
     },
     "execution_count": 16,
     "metadata": {},
     "output_type": "execute_result"
    }
   ],
   "source": [
    "label_valid"
   ]
  },
  {
   "cell_type": "markdown",
   "metadata": {},
   "source": [
    "设置网络训练参数值，输入数组维数"
   ]
  },
  {
   "cell_type": "code",
   "execution_count": 17,
   "metadata": {
    "ExecuteTime": {
     "end_time": "2022-05-28T04:09:57.116018Z",
     "start_time": "2022-05-28T04:09:57.100246Z"
    }
   },
   "outputs": [
    {
     "data": {
      "text/plain": [
       "(400,)"
      ]
     },
     "execution_count": 17,
     "metadata": {},
     "output_type": "execute_result"
    }
   ],
   "source": [
    "input_shape = feature_train.shape[1:]\n",
    "input_shape"
   ]
  },
  {
   "cell_type": "markdown",
   "metadata": {},
   "source": [
    "## 设置一系列文件输出目录"
   ]
  },
  {
   "cell_type": "markdown",
   "metadata": {},
   "source": [
    "为与以前代码一致，故保留原有代码"
   ]
  },
  {
   "cell_type": "code",
   "execution_count": 18,
   "metadata": {
    "ExecuteTime": {
     "end_time": "2022-05-28T04:09:57.133048Z",
     "start_time": "2022-05-28T04:09:57.117737Z"
    }
   },
   "outputs": [],
   "source": [
    "#dir_model = 'model'\n",
    "dir_model = dir_output\n",
    "path_model = os.path.join(os.curdir, dir_model)\n",
    "os.makedirs(path_model, exist_ok=True)"
   ]
  },
  {
   "cell_type": "markdown",
   "metadata": {},
   "source": [
    "设置文件夹放置图片"
   ]
  },
  {
   "cell_type": "code",
   "execution_count": 19,
   "metadata": {
    "ExecuteTime": {
     "end_time": "2022-05-28T04:09:57.148948Z",
     "start_time": "2022-05-28T04:09:57.133289Z"
    }
   },
   "outputs": [],
   "source": [
    "#dir_images = 'images'\n",
    "dir_images = dir_output\n",
    "path_images = os.path.join(os.curdir, dir_images)\n",
    "os.makedirs(path_images, exist_ok=True)"
   ]
  },
  {
   "cell_type": "markdown",
   "metadata": {},
   "source": [
    "设置文件夹放置分析结果"
   ]
  },
  {
   "cell_type": "code",
   "execution_count": 20,
   "metadata": {
    "ExecuteTime": {
     "end_time": "2022-05-28T04:09:57.165950Z",
     "start_time": "2022-05-28T04:09:57.150362Z"
    }
   },
   "outputs": [],
   "source": [
    "#dir_ana = 'analysis'\n",
    "dir_ana = dir_output\n",
    "path_ana = os.path.join(os.curdir, dir_ana)\n",
    "os.makedirs(path_ana, exist_ok=True)"
   ]
  },
  {
   "cell_type": "markdown",
   "metadata": {},
   "source": [
    "设置文件夹放置预测结果"
   ]
  },
  {
   "cell_type": "code",
   "execution_count": 21,
   "metadata": {
    "ExecuteTime": {
     "end_time": "2022-05-28T04:09:57.182368Z",
     "start_time": "2022-05-28T04:09:57.166711Z"
    }
   },
   "outputs": [],
   "source": [
    "#dir_pre = 'data'\n",
    "dir_pre = dir_output\n",
    "path_pre = os.path.join(os.curdir, dir_pre)\n",
    "os.makedirs(path_pre, exist_ok=True)"
   ]
  },
  {
   "cell_type": "markdown",
   "metadata": {},
   "source": [
    "设置日志文件的文件夹，为TensorBoard使用。"
   ]
  },
  {
   "cell_type": "code",
   "execution_count": 22,
   "metadata": {
    "ExecuteTime": {
     "end_time": "2022-05-28T04:09:57.199882Z",
     "start_time": "2022-05-28T04:09:57.184664Z"
    }
   },
   "outputs": [],
   "source": [
    "# 设置日志文件的文件夹\n",
    "root_logdir = os.path.join(os.curdir, dir_log)\n",
    "#print(root_logdir)\n",
    "#\n",
    "def get_run_logdir():\n",
    "#    import time\n",
    "    model_time = time.strftime(\"run_%Y_%m_%d-%H_%M_%S\")\n",
    "    run_id = model_pre + '_' + model_time\n",
    "    return os.path.join(root_logdir, run_id)"
   ]
  },
  {
   "cell_type": "markdown",
   "metadata": {},
   "source": [
    "## 构建模型（神经网络），进行超参数调节"
   ]
  },
  {
   "cell_type": "markdown",
   "metadata": {},
   "source": [
    "### 模型1"
   ]
  },
  {
   "cell_type": "markdown",
   "metadata": {},
   "source": [
    "#### 参量设置"
   ]
  },
  {
   "cell_type": "code",
   "execution_count": 23,
   "metadata": {
    "ExecuteTime": {
     "end_time": "2022-05-28T04:09:57.215540Z",
     "start_time": "2022-05-28T04:09:57.199882Z"
    }
   },
   "outputs": [],
   "source": [
    "import time\n",
    "model_time = time.strftime(\"run_%Y_%m_%d-%H_%M_%S\")\n",
    "model_pre_time = model_pre + '_' + model_time\n",
    "path_plot = os.path.join(path_images, model_pre_time)\n",
    "os.makedirs(path_plot, exist_ok=True)"
   ]
  },
  {
   "cell_type": "code",
   "execution_count": 24,
   "metadata": {
    "ExecuteTime": {
     "end_time": "2022-05-28T04:09:57.230947Z",
     "start_time": "2022-05-28T04:09:57.217960Z"
    }
   },
   "outputs": [],
   "source": [
    "file_fitinfo =  model_pre_time + '_fitinfo.txt'\n",
    "path_fitinfo = os.path.join(path_ana,file_fitinfo)"
   ]
  },
  {
   "cell_type": "code",
   "execution_count": 25,
   "metadata": {
    "ExecuteTime": {
     "end_time": "2022-05-28T04:09:57.238009Z",
     "start_time": "2022-05-28T04:09:57.231923Z"
    }
   },
   "outputs": [
    {
     "name": "stdout",
     "output_type": "stream",
     "text": [
      "Model : au150_DW_chi_cn1_3level\n"
     ]
    }
   ],
   "source": [
    "fout = open(path_fitinfo,'w')\n",
    "print(f\"Model : {model_pre}\")\n",
    "print(f\"Model : {model_pre}\", file=fout)"
   ]
  },
  {
   "cell_type": "code",
   "execution_count": 26,
   "metadata": {
    "ExecuteTime": {
     "end_time": "2022-05-28T04:09:57.253345Z",
     "start_time": "2022-05-28T04:09:57.238009Z"
    }
   },
   "outputs": [],
   "source": [
    "# Set random seed to be used as argument for other functions.\n",
    "rseed = 42"
   ]
  },
  {
   "cell_type": "code",
   "execution_count": 27,
   "metadata": {
    "ExecuteTime": {
     "end_time": "2022-05-28T04:09:57.269310Z",
     "start_time": "2022-05-28T04:09:57.254313Z"
    }
   },
   "outputs": [
    {
     "name": "stdout",
     "output_type": "stream",
     "text": [
      "===================================\n",
      "rseed : 42\n",
      "Time : run_2022_05_28-12_09_57\n"
     ]
    }
   ],
   "source": [
    "print(f\"===================================\")\n",
    "print(f\"\\n===================================\", file=fout)\n",
    "print(f\"rseed : {rseed}\")\n",
    "print(f\"rseed : {rseed}\",file=fout)\n",
    "print(f\"Time : {model_time}\")\n",
    "print(f\"Time : {model_time}\",file=fout)"
   ]
  },
  {
   "cell_type": "code",
   "execution_count": 28,
   "metadata": {
    "ExecuteTime": {
     "end_time": "2022-05-28T04:09:57.300632Z",
     "start_time": "2022-05-28T04:09:57.274260Z"
    }
   },
   "outputs": [],
   "source": [
    "import tensorflow as tf\n",
    "assert tf.__version__ >= \"2.0\"\n",
    "from tensorflow import keras\n",
    "from tensorflow.keras import optimizers\n",
    "keras.backend.clear_session()\n",
    "np.random.seed(rseed)\n",
    "tf.random.set_seed(rseed)"
   ]
  },
  {
   "cell_type": "code",
   "execution_count": 29,
   "metadata": {
    "ExecuteTime": {
     "end_time": "2022-05-28T04:09:57.313293Z",
     "start_time": "2022-05-28T04:09:57.302591Z"
    }
   },
   "outputs": [
    {
     "data": {
      "text/plain": [
       "'.\\\\./../hyper-param_tuning./my_logs\\\\au150_DW_chi_cn1_3level_run_2022_05_28-12_09_57'"
      ]
     },
     "execution_count": 29,
     "metadata": {},
     "output_type": "execute_result"
    }
   ],
   "source": [
    "run_logdir = get_run_logdir()\n",
    "run_logdir"
   ]
  },
  {
   "cell_type": "markdown",
   "metadata": {},
   "source": [
    "#### 构建模型"
   ]
  },
  {
   "cell_type": "code",
   "execution_count": 30,
   "metadata": {
    "ExecuteTime": {
     "end_time": "2022-05-28T04:09:57.328889Z",
     "start_time": "2022-05-28T04:09:57.313293Z"
    }
   },
   "outputs": [],
   "source": [
    "def build_model(N1 = 400,\n",
    "                N2 = 200,\n",
    "                N3 = 20,\n",
    "                activation = 'relu',\n",
    "#                learning_rate = 3e-3,\n",
    "                input_shape=input_shape):\n",
    "#\n",
    "    model = keras.models.Sequential()\n",
    "#\n",
    "    model.add(keras.layers.Flatten(input_shape=input_shape))\n",
    "    model.add(keras.layers.Dense(N1, activation=activation))\n",
    "    model.add(keras.layers.Dense(N2, activation=activation))\n",
    "    model.add(keras.layers.Dense(N3, activation=activation))\n",
    "    model.add(keras.layers.Dense(1, activation=activation))\n",
    "#\n",
    "#    optimizer = keras.optimizers.SGD(lr=learning_rate)\n",
    "#    optimizer = tf.keras.optimizers.RMSprop(learning_rate=0.001, rho=0.9, momentum=0.0, epsilon=1e-07, centered=False,name='RMSprop')\n",
    "#    model.compile(loss=\"mse\", optimizer=optimizer)\n",
    "    model.compile(loss=\"mse\", optimizer='rmsprop')\n",
    "    return model"
   ]
  },
  {
   "cell_type": "markdown",
   "metadata": {},
   "source": [
    "用函数 build_model() 创建一个 KerasRegressor，它通过 build_model() 将Keras模型包装起来的。"
   ]
  },
  {
   "cell_type": "code",
   "execution_count": 31,
   "metadata": {
    "ExecuteTime": {
     "end_time": "2022-05-28T04:09:57.344845Z",
     "start_time": "2022-05-28T04:09:57.329850Z"
    }
   },
   "outputs": [
    {
     "name": "stderr",
     "output_type": "stream",
     "text": [
      "C:\\Users\\haifeng\\AppData\\Local\\Temp\\ipykernel_2948\\1709004121.py:1: DeprecationWarning: KerasRegressor is deprecated, use Sci-Keras (https://github.com/adriangb/scikeras) instead.\n",
      "  keras_reg = keras.wrappers.scikit_learn.KerasRegressor(build_model)\n"
     ]
    }
   ],
   "source": [
    "keras_reg = keras.wrappers.scikit_learn.KerasRegressor(build_model)"
   ]
  },
  {
   "cell_type": "markdown",
   "metadata": {},
   "source": [
    "注意！不要将类似“\"N1\": range(1, 600)”写成“\"N1\": np.arange(1, 600)”或“\"N1\": list(np.range(1, 600))”的情况，不然在fit的结尾，会出现如下问题："
   ]
  },
  {
   "cell_type": "markdown",
   "metadata": {},
   "source": [
    "而且“model = rnd_search_cv.best_estimator_.model”等无法加载。\n",
    "但需要指出，最后的“rnd_search_cv.best_params_”等是一样的"
   ]
  },
  {
   "cell_type": "code",
   "execution_count": 32,
   "metadata": {
    "ExecuteTime": {
     "end_time": "2022-05-28T04:09:57.451839Z",
     "start_time": "2022-05-28T04:09:57.346805Z"
    }
   },
   "outputs": [],
   "source": [
    "from scipy.stats import reciprocal\n",
    "from sklearn.model_selection import RandomizedSearchCV\n",
    "from sklearn.metrics import classification_report\n",
    "\n",
    "param_distribs = {\n",
    "#    \"kernel_size\": [3, 4, 5, 6],\n",
    "#    \"padding\" = ['valid', 'SAME'],\n",
    "#    \"n_hidden\": [0, 1, 2, 3],\n",
    "#    \"activation\": ['relu','softmax'],\n",
    "    \"N1\": range(10, 600, 10),\n",
    "    \"N2\": range(10, 600, 10),\n",
    "    \"N3\": range(10, 600, 10)\n",
    "#    \"learning_rate\": reciprocal(3e-4, 3e-2),\n",
    "}\n",
    "\n",
    "# n_iter=300，训练300次，数值越大，获得的参数精度越大，但是搜索时间越长\n",
    "# cv 训练集与验证集的比值\n",
    "# verbose=0，不打印任何训练过程信息；verbose=1，打印进度条；verbose=2，每一个epoch打印一次。\n",
    "# n_jobs = -1，使用所有的CPU进行训练，默认为1，使用1个CPU\n",
    "#rnd_search_cv = RandomizedSearchCV(keras_reg, param_distribs, n_iter=20, cv=3, verbose=2, n_jobs=-1)\n",
    "rnd_search_cv = RandomizedSearchCV(keras_reg, param_distribs, n_iter=20, verbose=1, n_jobs=-1)\n",
    "#rnd_search_cv = RandomizedSearchCV(keras_reg, param_distribs, n_iter=20, verbose=1)"
   ]
  },
  {
   "cell_type": "markdown",
   "metadata": {},
   "source": [
    "#### 开始拟合"
   ]
  },
  {
   "cell_type": "code",
   "execution_count": 33,
   "metadata": {
    "ExecuteTime": {
     "end_time": "2022-05-28T04:41:52.176959Z",
     "start_time": "2022-05-28T04:09:57.453834Z"
    }
   },
   "outputs": [
    {
     "name": "stdout",
     "output_type": "stream",
     "text": [
      "Fitting 5 folds for each of 20 candidates, totalling 100 fits\n"
     ]
    },
    {
     "name": "stderr",
     "output_type": "stream",
     "text": [
      "C:\\Users\\haifeng\\anaconda3\\lib\\site-packages\\sklearn\\model_selection\\_validation.py:372: FitFailedWarning: \n",
      "1 fits failed out of a total of 100.\n",
      "The score on these train-test partitions for these parameters will be set to nan.\n",
      "If these failures are not expected, you can try to debug them by setting error_score='raise'.\n",
      "\n",
      "Below are more details about the failures:\n",
      "--------------------------------------------------------------------------------\n",
      "1 fits failed with the following error:\n",
      "Traceback (most recent call last):\n",
      "  File \"C:\\Users\\haifeng\\anaconda3\\lib\\site-packages\\sklearn\\model_selection\\_validation.py\", line 680, in _fit_and_score\n",
      "    estimator.fit(X_train, y_train, **fit_params)\n",
      "  File \"C:\\Users\\haifeng\\anaconda3\\lib\\site-packages\\keras\\wrappers\\scikit_learn.py\", line 164, in fit\n",
      "    history = self.model.fit(x, y, **fit_args)\n",
      "  File \"C:\\Users\\haifeng\\anaconda3\\lib\\site-packages\\keras\\utils\\traceback_utils.py\", line 67, in error_handler\n",
      "    raise e.with_traceback(filtered_tb) from None\n",
      "  File \"C:\\Users\\haifeng\\anaconda3\\lib\\site-packages\\h5py\\_hl\\files.py\", line 507, in __init__\n",
      "    fid = make_fid(name, mode, userblock_size, fapl, fcpl, swmr=swmr)\n",
      "  File \"C:\\Users\\haifeng\\anaconda3\\lib\\site-packages\\h5py\\_hl\\files.py\", line 226, in make_fid\n",
      "    fid = h5f.create(name, h5f.ACC_TRUNC, fapl=fapl, fcpl=fcpl)\n",
      "  File \"h5py\\_objects.pyx\", line 54, in h5py._objects.with_phil.wrapper\n",
      "  File \"h5py\\_objects.pyx\", line 55, in h5py._objects.with_phil.wrapper\n",
      "  File \"h5py\\h5f.pyx\", line 126, in h5py.h5f.create\n",
      "OSError: Unable to create file (file signature not found)\n",
      "\n",
      "  warnings.warn(some_fits_failed_message, FitFailedWarning)\n",
      "C:\\Users\\haifeng\\anaconda3\\lib\\site-packages\\sklearn\\model_selection\\_search.py:969: UserWarning: One or more of the test scores are non-finite: [-18.32619634 -36.32171159 -18.13167912 -18.34676454  -0.27032544\n",
      " -18.34881552 -53.80381241          nan -18.16098512 -36.01257471\n",
      " -18.02153279  -0.26596604 -36.11419029 -35.88244959 -36.03679351\n",
      " -36.11013215 -18.1179167  -35.94705905 -54.15759998 -53.76000581]\n",
      "  warnings.warn(\n"
     ]
    },
    {
     "data": {
      "text/plain": [
       "RandomizedSearchCV(estimator=<keras.wrappers.scikit_learn.KerasRegressor object at 0x00000279B2E09C70>,\n",
       "                   n_iter=20, n_jobs=-1,\n",
       "                   param_distributions={'N1': range(10, 600, 10),\n",
       "                                        'N2': range(10, 600, 10),\n",
       "                                        'N3': range(10, 600, 10)},\n",
       "                   verbose=1)"
      ]
     },
     "execution_count": 33,
     "metadata": {},
     "output_type": "execute_result"
    }
   ],
   "source": [
    "#将训练最好的模型保存下来\n",
    "model_saved_best = os.path.join(path_model, model_pre_time + \".h5\")\n",
    "#\n",
    "rnd_search_cv.fit(feature_train,label_train,epochs=200,\n",
    "                  validation_data=(feature_valid,label_valid),\n",
    "                  callbacks=[keras.callbacks.ModelCheckpoint(model_saved_best, save_best_only=True),\n",
    "                             keras.callbacks.EarlyStopping(patience=20, restore_best_weights=True),\n",
    "                             keras.callbacks.TensorBoard(run_logdir)\n",
    "                            ],\n",
    "                  verbose=0)"
   ]
  },
  {
   "cell_type": "markdown",
   "metadata": {},
   "source": [
    "executed in 38m 36s, finished 14:49:36 2021-03-01\n",
    "Fitting 5 folds for each of 20 candidates, totalling 100 fits\n",
    "[Parallel(n_jobs=-1)]: Using backend LokyBackend with 8 concurrent workers.\n",
    "[Parallel(n_jobs=-1)]: Done  25 tasks      | elapsed: 10.3min\n",
    "[Parallel(n_jobs=-1)]: Done 100 out of 100 | elapsed: 37.9min finished\n",
    "RandomizedSearchCV(estimator=<tensorflow.python.keras.wrappers.scikit_learn.KerasRegressor object at 0x0000029136552640>,\n",
    "                   n_iter=20, n_jobs=-1,\n",
    "                   param_distributions={'N1': range(1, 600),\n",
    "                                        'N2': range(1, 600),\n",
    "                                        'N3': range(1, 600)},\n",
    "                   verbose=2)"
   ]
  },
  {
   "cell_type": "markdown",
   "metadata": {},
   "source": [
    "#### 给出拟合结果"
   ]
  },
  {
   "cell_type": "code",
   "execution_count": 34,
   "metadata": {
    "ExecuteTime": {
     "end_time": "2022-05-28T04:41:52.194193Z",
     "start_time": "2022-05-28T04:41:52.179320Z"
    }
   },
   "outputs": [
    {
     "name": "stdout",
     "output_type": "stream",
     "text": [
      "Best parameters : {'N3': 60, 'N2': 180, 'N1': 370}\n"
     ]
    }
   ],
   "source": [
    "# Parameter setting that gave the best results on the hold out data.\n",
    "#rnd_search_cv.best_params_\n",
    "print(f\"Best parameters : {rnd_search_cv.best_params_}\")\n",
    "print(f\"\\nBest parameters : {rnd_search_cv.best_params_}\",file=fout)"
   ]
  },
  {
   "cell_type": "code",
   "execution_count": 35,
   "metadata": {
    "ExecuteTime": {
     "end_time": "2022-05-28T04:41:52.209113Z",
     "start_time": "2022-05-28T04:41:52.196036Z"
    }
   },
   "outputs": [
    {
     "data": {
      "text/plain": [
       "<keras.wrappers.scikit_learn.KerasRegressor at 0x279b2c11d60>"
      ]
     },
     "execution_count": 35,
     "metadata": {},
     "output_type": "execute_result"
    }
   ],
   "source": [
    "# 返回最优的训练器\n",
    "# Estimator that was chosen by the search, i.e. estimator which gave highest score (or smallest loss if specified) on the left out data.\n",
    "rnd_search_cv.best_estimator_"
   ]
  },
  {
   "cell_type": "code",
   "execution_count": 36,
   "metadata": {
    "ExecuteTime": {
     "end_time": "2022-05-28T04:41:52.221824Z",
     "start_time": "2022-05-28T04:41:52.209113Z"
    }
   },
   "outputs": [
    {
     "name": "stdout",
     "output_type": "stream",
     "text": [
      "Best score : -0.26596603989601136\n"
     ]
    }
   ],
   "source": [
    "# Mean cross-validated score of the best_estimator.\n",
    "#rnd_search_cv.best_score_\n",
    "print(f\"Best score : {rnd_search_cv.best_score_}\")\n",
    "print(f\"\\nBest score : {rnd_search_cv.best_score_}\",file=fout)"
   ]
  },
  {
   "cell_type": "markdown",
   "metadata": {},
   "source": [
    "Best score : -0.282334824403127"
   ]
  },
  {
   "cell_type": "markdown",
   "metadata": {},
   "source": [
    "Best score = -0.2784130076567332"
   ]
  },
  {
   "cell_type": "markdown",
   "metadata": {},
   "source": [
    "原来是-0.0010918860401337345"
   ]
  },
  {
   "cell_type": "markdown",
   "metadata": {},
   "source": [
    "#### 输出拟合日志文件"
   ]
  },
  {
   "cell_type": "code",
   "execution_count": 37,
   "metadata": {
    "ExecuteTime": {
     "end_time": "2022-05-28T04:41:52.237410Z",
     "start_time": "2022-05-28T04:41:52.221824Z"
    }
   },
   "outputs": [],
   "source": [
    "# rnd_search_cv.cv_results_ 是选择参数的日志信息\n",
    "cv_result = pd.DataFrame.from_dict( rnd_search_cv.cv_results_)\n",
    "file_fit_csv = model_pre_time + '_fit.csv'\n",
    "path_fit_csv = os.path.join(path_ana, file_fit_csv)\n",
    "with open(path_fit_csv,'w') as f: cv_result.to_csv(f)"
   ]
  },
  {
   "cell_type": "code",
   "execution_count": 38,
   "metadata": {
    "ExecuteTime": {
     "end_time": "2022-05-28T04:41:52.253383Z",
     "start_time": "2022-05-28T04:41:52.239414Z"
    }
   },
   "outputs": [
    {
     "name": "stdout",
     "output_type": "stream",
     "text": [
      "Refit time (s) : 47.250242471694946\n"
     ]
    }
   ],
   "source": [
    "# Seconds used for refitting the best model on the whole dataset.\n",
    "#rnd_search_cv.refit_time_\n",
    "print(f\"Refit time (s) : {rnd_search_cv.refit_time_}\")\n",
    "print(f\"\\nRefit time (s) : {rnd_search_cv.refit_time_}\",file=fout)"
   ]
  },
  {
   "cell_type": "code",
   "execution_count": 39,
   "metadata": {
    "ExecuteTime": {
     "end_time": "2022-05-28T04:41:52.263817Z",
     "start_time": "2022-05-28T04:41:52.255533Z"
    }
   },
   "outputs": [],
   "source": [
    "#y_pred_array = rnd_search_cv.predict(feature_test) # 预测结果\n",
    "#print(classification_report( y_true=label_test, y_pred=y_pred_array ))"
   ]
  },
  {
   "cell_type": "markdown",
   "metadata": {},
   "source": [
    "#### 用给出的最佳（参数）模型对test数据集进行预测"
   ]
  },
  {
   "cell_type": "code",
   "execution_count": 40,
   "metadata": {
    "ExecuteTime": {
     "end_time": "2022-05-28T04:41:52.279476Z",
     "start_time": "2022-05-28T04:41:52.263817Z"
    }
   },
   "outputs": [
    {
     "data": {
      "text/plain": [
       "<keras.engine.sequential.Sequential at 0x279b2f891c0>"
      ]
     },
     "execution_count": 40,
     "metadata": {},
     "output_type": "execute_result"
    }
   ],
   "source": [
    "model0 = rnd_search_cv.best_estimator_.model\n",
    "model0"
   ]
  },
  {
   "cell_type": "markdown",
   "metadata": {},
   "source": [
    "查看预测结果"
   ]
  },
  {
   "cell_type": "code",
   "execution_count": 41,
   "metadata": {
    "ExecuteTime": {
     "end_time": "2022-05-28T04:41:52.375090Z",
     "start_time": "2022-05-28T04:41:52.282469Z"
    },
    "scrolled": true
   },
   "outputs": [
    {
     "name": "stdout",
     "output_type": "stream",
     "text": [
      "19/19 [==============================] - 0s 2ms/step - loss: 0.2046\n"
     ]
    },
    {
     "data": {
      "text/plain": [
       "0.20455043017864227"
      ]
     },
     "execution_count": 41,
     "metadata": {},
     "output_type": "execute_result"
    }
   ],
   "source": [
    "model0.evaluate(feature_test, label_test)"
   ]
  },
  {
   "cell_type": "markdown",
   "metadata": {},
   "source": [
    "19/19 [==============================] - 0s 780us/step - loss: 0.2871\n",
    "0.28713077306747437"
   ]
  },
  {
   "cell_type": "markdown",
   "metadata": {},
   "source": [
    "19/19 [==============================] - 0s 1ms/step - loss: 89.5477\n",
    "89.54773712158203"
   ]
  },
  {
   "cell_type": "markdown",
   "metadata": {},
   "source": [
    "19/19 [==============================] - 0s 891us/step - loss: 0.2962\n",
    "0.2962176203727722"
   ]
  },
  {
   "cell_type": "markdown",
   "metadata": {},
   "source": [
    "rnd_search_cv.predict(feature_test) works as rnd_search_cv.best_estimator_.model.predict(feature_test)"
   ]
  },
  {
   "cell_type": "code",
   "execution_count": 42,
   "metadata": {
    "ExecuteTime": {
     "end_time": "2022-05-28T04:41:52.544540Z",
     "start_time": "2022-05-28T04:41:52.376858Z"
    },
    "scrolled": true
   },
   "outputs": [
    {
     "data": {
      "text/plain": [
       "array([[ 8.295987 ],\n",
       "       [ 8.228926 ],\n",
       "       [ 8.067729 ],\n",
       "       [ 7.9649596],\n",
       "       [ 7.298552 ],\n",
       "       [ 5.957638 ],\n",
       "       [11.613678 ],\n",
       "       [ 9.021304 ],\n",
       "       [12.578955 ],\n",
       "       [11.821922 ],\n",
       "       [ 7.6952853],\n",
       "       [ 7.1189923],\n",
       "       [13.966366 ],\n",
       "       [11.542114 ],\n",
       "       [ 6.1500607],\n",
       "       [12.579269 ],\n",
       "       [11.878617 ],\n",
       "       [ 8.905824 ],\n",
       "       [ 4.896551 ],\n",
       "       [11.318363 ],\n",
       "       [11.888025 ],\n",
       "       [ 8.117118 ],\n",
       "       [ 7.703819 ],\n",
       "       [ 7.87393  ],\n",
       "       [ 7.591631 ],\n",
       "       [ 5.442076 ],\n",
       "       [11.675016 ],\n",
       "       [ 6.925162 ],\n",
       "       [12.853673 ],\n",
       "       [ 7.7430153],\n",
       "       [ 7.8869886],\n",
       "       [12.473383 ],\n",
       "       [11.794116 ],\n",
       "       [11.830296 ],\n",
       "       [ 7.959835 ],\n",
       "       [ 5.94545  ],\n",
       "       [13.472979 ],\n",
       "       [ 9.12018  ],\n",
       "       [ 6.6955624],\n",
       "       [ 8.101998 ],\n",
       "       [12.117729 ],\n",
       "       [11.856377 ],\n",
       "       [ 6.7344933],\n",
       "       [ 7.627877 ],\n",
       "       [ 9.047415 ],\n",
       "       [11.731183 ],\n",
       "       [12.026394 ],\n",
       "       [12.300985 ],\n",
       "       [ 8.15308  ],\n",
       "       [12.008819 ],\n",
       "       [11.612055 ],\n",
       "       [ 6.0169535],\n",
       "       [ 6.376528 ],\n",
       "       [11.934044 ],\n",
       "       [12.088705 ],\n",
       "       [ 7.8875923],\n",
       "       [ 6.0870667],\n",
       "       [11.770914 ],\n",
       "       [ 5.471635 ],\n",
       "       [ 6.330746 ],\n",
       "       [ 6.874895 ],\n",
       "       [12.487487 ],\n",
       "       [ 8.8772135],\n",
       "       [ 7.5723324],\n",
       "       [ 5.324092 ],\n",
       "       [ 7.935888 ],\n",
       "       [ 5.9459286],\n",
       "       [ 5.9082465],\n",
       "       [ 7.897331 ],\n",
       "       [11.390413 ],\n",
       "       [11.909137 ],\n",
       "       [12.01527  ],\n",
       "       [ 5.8231816],\n",
       "       [ 8.92461  ],\n",
       "       [11.77817  ],\n",
       "       [ 7.7892256],\n",
       "       [10.313893 ],\n",
       "       [ 7.83705  ],\n",
       "       [12.00747  ],\n",
       "       [ 8.092849 ],\n",
       "       [ 5.8810644],\n",
       "       [11.819591 ],\n",
       "       [ 5.077782 ],\n",
       "       [ 6.523582 ],\n",
       "       [ 6.8620534],\n",
       "       [12.048998 ],\n",
       "       [10.184524 ],\n",
       "       [11.871373 ],\n",
       "       [ 9.049762 ],\n",
       "       [ 7.368486 ],\n",
       "       [ 7.84342  ],\n",
       "       [ 6.197006 ],\n",
       "       [11.948181 ],\n",
       "       [ 8.704675 ],\n",
       "       [ 8.131841 ],\n",
       "       [ 8.684432 ],\n",
       "       [ 5.6360135],\n",
       "       [ 7.9730415],\n",
       "       [ 9.90513  ],\n",
       "       [ 6.8505793],\n",
       "       [ 8.133326 ],\n",
       "       [12.377412 ],\n",
       "       [ 7.036997 ],\n",
       "       [ 7.1598396],\n",
       "       [11.263797 ],\n",
       "       [11.649285 ],\n",
       "       [12.393672 ],\n",
       "       [11.610666 ],\n",
       "       [12.004288 ],\n",
       "       [ 7.235936 ],\n",
       "       [ 7.253946 ],\n",
       "       [11.814909 ],\n",
       "       [ 7.652443 ],\n",
       "       [ 6.779222 ],\n",
       "       [ 7.5505915],\n",
       "       [ 6.841963 ],\n",
       "       [ 7.8036   ],\n",
       "       [ 7.87918  ],\n",
       "       [11.229102 ],\n",
       "       [11.810167 ],\n",
       "       [10.279528 ],\n",
       "       [ 8.875349 ],\n",
       "       [ 8.337713 ],\n",
       "       [ 6.0618367],\n",
       "       [ 7.8595467],\n",
       "       [ 7.1970887],\n",
       "       [11.047317 ],\n",
       "       [10.565982 ],\n",
       "       [12.086642 ],\n",
       "       [11.620088 ],\n",
       "       [ 7.0167103],\n",
       "       [13.264376 ],\n",
       "       [ 8.015741 ],\n",
       "       [ 6.746127 ],\n",
       "       [12.373962 ],\n",
       "       [ 7.6376762],\n",
       "       [ 5.037634 ],\n",
       "       [ 6.196231 ],\n",
       "       [ 7.9408555],\n",
       "       [ 7.5643263],\n",
       "       [ 9.07989  ],\n",
       "       [11.665733 ],\n",
       "       [ 6.0470085],\n",
       "       [ 7.1037645],\n",
       "       [12.422804 ],\n",
       "       [11.881593 ],\n",
       "       [ 9.022523 ],\n",
       "       [ 8.902974 ],\n",
       "       [11.949853 ],\n",
       "       [11.967057 ],\n",
       "       [ 8.032265 ],\n",
       "       [ 7.554621 ],\n",
       "       [ 8.051815 ],\n",
       "       [ 7.8804555],\n",
       "       [ 6.476205 ],\n",
       "       [ 6.179522 ],\n",
       "       [12.069441 ],\n",
       "       [ 8.079025 ],\n",
       "       [10.916612 ],\n",
       "       [10.195878 ],\n",
       "       [ 7.82     ],\n",
       "       [ 6.9263954],\n",
       "       [10.831588 ],\n",
       "       [11.3058405],\n",
       "       [ 5.900998 ],\n",
       "       [12.871687 ],\n",
       "       [12.097373 ],\n",
       "       [ 8.904304 ],\n",
       "       [ 4.1855254],\n",
       "       [12.358781 ],\n",
       "       [11.6559   ],\n",
       "       [ 9.258718 ],\n",
       "       [ 7.9385595],\n",
       "       [ 8.208693 ],\n",
       "       [ 7.9595795],\n",
       "       [ 5.0181055],\n",
       "       [12.048692 ],\n",
       "       [ 7.166449 ],\n",
       "       [12.523042 ],\n",
       "       [ 6.6552563],\n",
       "       [ 8.17713  ],\n",
       "       [12.171311 ],\n",
       "       [12.348847 ],\n",
       "       [11.43558  ],\n",
       "       [ 6.629112 ],\n",
       "       [ 5.8094316],\n",
       "       [10.789421 ],\n",
       "       [ 8.8810625],\n",
       "       [ 7.185666 ],\n",
       "       [ 7.685788 ],\n",
       "       [12.806187 ],\n",
       "       [12.697649 ],\n",
       "       [ 4.894288 ],\n",
       "       [ 6.902365 ],\n",
       "       [ 8.985416 ],\n",
       "       [11.350658 ],\n",
       "       [11.546142 ],\n",
       "       [11.503088 ],\n",
       "       [ 7.896955 ],\n",
       "       [11.8714695],\n",
       "       [12.045516 ],\n",
       "       [ 6.351414 ],\n",
       "       [ 7.8946853],\n",
       "       [11.658043 ],\n",
       "       [11.753135 ],\n",
       "       [ 7.856264 ],\n",
       "       [ 5.8657484],\n",
       "       [10.87473  ],\n",
       "       [ 6.4397883],\n",
       "       [ 6.678448 ],\n",
       "       [ 6.7249126],\n",
       "       [11.929067 ],\n",
       "       [ 8.023167 ],\n",
       "       [ 8.341926 ],\n",
       "       [ 7.8234463],\n",
       "       [ 7.4622183],\n",
       "       [ 4.8458047],\n",
       "       [ 5.755935 ],\n",
       "       [ 7.1233177],\n",
       "       [12.213438 ],\n",
       "       [11.965918 ],\n",
       "       [11.2305   ],\n",
       "       [ 6.118122 ],\n",
       "       [ 8.9606905],\n",
       "       [12.981392 ],\n",
       "       [ 8.364367 ],\n",
       "       [ 5.8682327],\n",
       "       [ 8.404563 ],\n",
       "       [12.025886 ],\n",
       "       [ 8.318524 ],\n",
       "       [ 6.1855803],\n",
       "       [11.476225 ],\n",
       "       [ 5.614846 ],\n",
       "       [ 5.9556084],\n",
       "       [ 6.602749 ],\n",
       "       [11.955044 ],\n",
       "       [ 8.657213 ],\n",
       "       [12.1839485],\n",
       "       [ 8.801767 ],\n",
       "       [ 6.867601 ],\n",
       "       [ 7.8123007],\n",
       "       [ 6.091716 ],\n",
       "       [11.584866 ],\n",
       "       [ 8.867646 ],\n",
       "       [ 7.243988 ],\n",
       "       [ 8.76227  ],\n",
       "       [ 4.1939335],\n",
       "       [ 7.8232775],\n",
       "       [10.453007 ],\n",
       "       [ 7.737072 ],\n",
       "       [ 7.6654058],\n",
       "       [11.774654 ],\n",
       "       [ 6.30024  ],\n",
       "       [ 7.2504535],\n",
       "       [10.1637945],\n",
       "       [11.969734 ],\n",
       "       [13.097389 ],\n",
       "       [12.086109 ],\n",
       "       [ 8.219743 ],\n",
       "       [ 6.9311314],\n",
       "       [11.940551 ],\n",
       "       [ 7.7502427],\n",
       "       [ 6.3121686],\n",
       "       [ 6.072464 ],\n",
       "       [ 7.049258 ],\n",
       "       [ 7.33554  ],\n",
       "       [ 7.829443 ],\n",
       "       [ 8.914876 ],\n",
       "       [11.752857 ],\n",
       "       [ 8.988818 ],\n",
       "       [ 7.8642387],\n",
       "       [ 6.1602116],\n",
       "       [ 7.843778 ],\n",
       "       [10.955667 ],\n",
       "       [11.416781 ],\n",
       "       [12.015553 ],\n",
       "       [11.955235 ],\n",
       "       [ 8.64966  ],\n",
       "       [12.523376 ],\n",
       "       [ 7.7371216],\n",
       "       [ 6.540287 ],\n",
       "       [11.64133  ],\n",
       "       [ 7.135259 ],\n",
       "       [ 5.9612627],\n",
       "       [ 7.3136015],\n",
       "       [ 7.9926395],\n",
       "       [ 7.9742804],\n",
       "       [ 9.026931 ],\n",
       "       [11.991652 ],\n",
       "       [ 6.0492115],\n",
       "       [ 6.9864492],\n",
       "       [12.908016 ],\n",
       "       [11.964331 ],\n",
       "       [ 8.995036 ],\n",
       "       [ 8.785503 ],\n",
       "       [12.051902 ],\n",
       "       [11.886188 ],\n",
       "       [ 8.085891 ],\n",
       "       [ 6.1992435],\n",
       "       [ 7.686105 ],\n",
       "       [ 7.0634494],\n",
       "       [ 8.133979 ],\n",
       "       [ 5.964909 ],\n",
       "       [ 8.536808 ],\n",
       "       [11.288884 ],\n",
       "       [10.640226 ],\n",
       "       [ 7.9716   ],\n",
       "       [ 6.6855836],\n",
       "       [11.829432 ],\n",
       "       [11.868701 ],\n",
       "       [ 6.540074 ],\n",
       "       [11.970057 ],\n",
       "       [12.138148 ],\n",
       "       [ 9.499573 ],\n",
       "       [ 4.113417 ],\n",
       "       [11.83812  ],\n",
       "       [12.05688  ],\n",
       "       [ 6.920863 ],\n",
       "       [ 8.07467  ],\n",
       "       [ 8.306004 ],\n",
       "       [ 7.9493604],\n",
       "       [ 5.0141983],\n",
       "       [11.706643 ],\n",
       "       [ 5.776063 ],\n",
       "       [13.773664 ],\n",
       "       [ 6.7355604],\n",
       "       [ 7.95308  ],\n",
       "       [12.207291 ],\n",
       "       [13.160523 ],\n",
       "       [11.724998 ],\n",
       "       [ 8.269733 ],\n",
       "       [ 4.319901 ],\n",
       "       [12.692764 ],\n",
       "       [ 9.097503 ],\n",
       "       [ 7.139087 ],\n",
       "       [ 8.130329 ],\n",
       "       [12.197319 ],\n",
       "       [12.880487 ],\n",
       "       [ 6.3209257],\n",
       "       [ 6.881549 ],\n",
       "       [ 8.7892275],\n",
       "       [11.833107 ],\n",
       "       [11.606276 ],\n",
       "       [12.292769 ],\n",
       "       [ 8.136311 ],\n",
       "       [11.755334 ],\n",
       "       [11.946791 ],\n",
       "       [ 7.6989675],\n",
       "       [ 8.082332 ],\n",
       "       [11.711144 ],\n",
       "       [12.183235 ],\n",
       "       [ 7.496484 ],\n",
       "       [ 6.0113015],\n",
       "       [11.718827 ],\n",
       "       [ 5.970972 ],\n",
       "       [ 5.7375765],\n",
       "       [ 6.869251 ],\n",
       "       [11.978216 ],\n",
       "       [ 8.244583 ],\n",
       "       [ 7.332495 ],\n",
       "       [ 7.164023 ],\n",
       "       [ 7.552511 ],\n",
       "       [ 4.4456005],\n",
       "       [ 6.8901386],\n",
       "       [ 7.747578 ],\n",
       "       [11.96704  ],\n",
       "       [11.629343 ],\n",
       "       [11.9145   ],\n",
       "       [ 5.9306574],\n",
       "       [ 9.351904 ],\n",
       "       [11.338295 ],\n",
       "       [ 8.094165 ],\n",
       "       [ 7.861736 ],\n",
       "       [ 9.233526 ],\n",
       "       [11.991276 ],\n",
       "       [ 7.9303446],\n",
       "       [ 6.1075587],\n",
       "       [10.321807 ],\n",
       "       [ 6.2131386],\n",
       "       [ 4.824025 ],\n",
       "       [ 7.169954 ],\n",
       "       [12.268593 ],\n",
       "       [ 8.737878 ],\n",
       "       [12.027442 ],\n",
       "       [ 9.108501 ],\n",
       "       [ 6.935637 ],\n",
       "       [ 8.148932 ],\n",
       "       [ 6.1560802],\n",
       "       [12.319444 ],\n",
       "       [ 8.084903 ],\n",
       "       [ 8.057656 ],\n",
       "       [ 9.03007  ],\n",
       "       [ 5.902463 ],\n",
       "       [ 8.045859 ],\n",
       "       [10.860374 ],\n",
       "       [ 8.235107 ],\n",
       "       [ 8.151539 ],\n",
       "       [11.582104 ],\n",
       "       [ 7.045615 ],\n",
       "       [ 6.8668013],\n",
       "       [ 8.490235 ],\n",
       "       [12.452353 ],\n",
       "       [12.855094 ],\n",
       "       [12.27226  ],\n",
       "       [ 7.7834277],\n",
       "       [ 6.5388947],\n",
       "       [11.294733 ],\n",
       "       [ 7.463972 ],\n",
       "       [ 8.049093 ],\n",
       "       [ 7.4518423],\n",
       "       [ 6.0117264],\n",
       "       [ 8.081951 ],\n",
       "       [ 7.9447083],\n",
       "       [10.891459 ],\n",
       "       [12.234043 ],\n",
       "       [10.790657 ],\n",
       "       [ 9.318369 ],\n",
       "       [ 8.07122  ],\n",
       "       [ 5.885139 ],\n",
       "       [ 8.09588  ],\n",
       "       [ 6.8165917],\n",
       "       [10.851921 ],\n",
       "       [12.214214 ],\n",
       "       [12.9782915],\n",
       "       [11.6259575],\n",
       "       [ 9.197451 ],\n",
       "       [13.000075 ],\n",
       "       [ 6.4584312],\n",
       "       [ 6.661423 ],\n",
       "       [11.733756 ],\n",
       "       [ 8.074446 ],\n",
       "       [ 5.9434023],\n",
       "       [ 6.411647 ],\n",
       "       [ 7.7930274],\n",
       "       [ 8.034543 ],\n",
       "       [ 9.123072 ],\n",
       "       [12.483914 ],\n",
       "       [ 6.2473903],\n",
       "       [ 7.0547047],\n",
       "       [12.15503  ],\n",
       "       [11.929854 ],\n",
       "       [ 8.533255 ],\n",
       "       [ 8.605786 ],\n",
       "       [12.029361 ],\n",
       "       [11.86446  ],\n",
       "       [ 7.7435055],\n",
       "       [ 6.978799 ],\n",
       "       [ 7.858391 ],\n",
       "       [ 7.645723 ],\n",
       "       [ 7.8635187],\n",
       "       [ 4.725856 ],\n",
       "       [11.675841 ],\n",
       "       [ 8.607725 ],\n",
       "       [12.600804 ],\n",
       "       [12.444958 ],\n",
       "       [ 7.706407 ],\n",
       "       [ 8.191412 ],\n",
       "       [13.34986  ],\n",
       "       [11.786748 ],\n",
       "       [ 5.772445 ],\n",
       "       [13.223915 ],\n",
       "       [11.395354 ],\n",
       "       [ 9.317946 ],\n",
       "       [ 4.0595136],\n",
       "       [12.217183 ],\n",
       "       [12.02493  ],\n",
       "       [ 7.9998183],\n",
       "       [ 6.9493656],\n",
       "       [ 8.186689 ],\n",
       "       [ 8.527676 ],\n",
       "       [ 5.6720223],\n",
       "       [12.319455 ],\n",
       "       [ 5.823573 ],\n",
       "       [12.470848 ],\n",
       "       [ 8.20075  ],\n",
       "       [ 7.044146 ],\n",
       "       [11.944564 ],\n",
       "       [12.580726 ],\n",
       "       [11.625919 ],\n",
       "       [ 9.705045 ],\n",
       "       [ 6.855347 ],\n",
       "       [13.133605 ],\n",
       "       [ 9.338    ],\n",
       "       [ 5.9729104],\n",
       "       [ 7.8852735],\n",
       "       [12.125103 ],\n",
       "       [12.785768 ],\n",
       "       [ 6.9148507],\n",
       "       [ 6.051713 ],\n",
       "       [ 7.328144 ],\n",
       "       [11.205816 ],\n",
       "       [12.039172 ],\n",
       "       [11.985699 ],\n",
       "       [ 8.105267 ],\n",
       "       [11.3534   ],\n",
       "       [11.9498205],\n",
       "       [ 7.3062367],\n",
       "       [ 7.849831 ],\n",
       "       [12.052938 ],\n",
       "       [12.153523 ],\n",
       "       [ 8.323866 ],\n",
       "       [ 5.8308153],\n",
       "       [10.490068 ],\n",
       "       [ 5.5930305],\n",
       "       [ 4.804334 ],\n",
       "       [ 5.9106965],\n",
       "       [11.684726 ],\n",
       "       [ 7.6909804],\n",
       "       [ 5.5345626],\n",
       "       [ 6.976405 ],\n",
       "       [ 8.165334 ],\n",
       "       [ 4.8541217],\n",
       "       [ 5.887879 ],\n",
       "       [ 7.891127 ],\n",
       "       [12.011242 ],\n",
       "       [11.852011 ],\n",
       "       [12.048273 ],\n",
       "       [ 5.978547 ],\n",
       "       [ 8.743851 ],\n",
       "       [10.011997 ],\n",
       "       [ 8.216178 ],\n",
       "       [ 7.5518427],\n",
       "       [ 9.305347 ],\n",
       "       [12.0712   ],\n",
       "       [ 7.9296346],\n",
       "       [ 5.212097 ],\n",
       "       [12.738524 ],\n",
       "       [ 6.057906 ],\n",
       "       [ 6.8759046],\n",
       "       [11.94373  ],\n",
       "       [ 7.751692 ],\n",
       "       [11.4532585],\n",
       "       [ 8.934369 ],\n",
       "       [ 6.730828 ],\n",
       "       [ 7.7712827],\n",
       "       [ 6.7878485],\n",
       "       [11.547214 ],\n",
       "       [ 8.347354 ],\n",
       "       [ 7.8676653],\n",
       "       [ 8.807218 ],\n",
       "       [ 7.134725 ],\n",
       "       [ 6.79059  ],\n",
       "       [10.5941105],\n",
       "       [ 7.7218175],\n",
       "       [ 8.1255245],\n",
       "       [11.874453 ],\n",
       "       [ 6.760393 ],\n",
       "       [ 7.5947585],\n",
       "       [10.358658 ],\n",
       "       [13.305601 ],\n",
       "       [13.238756 ],\n",
       "       [12.221771 ],\n",
       "       [ 7.3216143],\n",
       "       [ 7.036392 ],\n",
       "       [11.760788 ],\n",
       "       [ 7.752283 ],\n",
       "       [ 6.393432 ],\n",
       "       [ 8.428237 ],\n",
       "       [ 6.836404 ],\n",
       "       [ 7.838202 ],\n",
       "       [ 8.043031 ],\n",
       "       [11.568362 ],\n",
       "       [11.795516 ],\n",
       "       [12.169839 ],\n",
       "       [ 9.099457 ],\n",
       "       [ 7.9392114],\n",
       "       [ 5.788898 ],\n",
       "       [ 7.905072 ],\n",
       "       [ 7.170331 ],\n",
       "       [10.198189 ],\n",
       "       [11.013361 ],\n",
       "       [13.884719 ],\n",
       "       [12.92238  ],\n",
       "       [ 8.747188 ],\n",
       "       [12.712933 ],\n",
       "       [ 8.411969 ],\n",
       "       [ 5.8432207],\n",
       "       [12.012583 ],\n",
       "       [ 7.850996 ],\n",
       "       [ 5.3340387],\n",
       "       [ 4.857493 ],\n",
       "       [ 7.8800726],\n",
       "       [ 8.08233  ],\n",
       "       [ 8.674711 ],\n",
       "       [13.045469 ],\n",
       "       [ 5.208183 ],\n",
       "       [ 5.7232995],\n",
       "       [12.340358 ],\n",
       "       [11.940281 ],\n",
       "       [ 9.347182 ],\n",
       "       [ 8.496173 ],\n",
       "       [11.832935 ],\n",
       "       [11.760252 ],\n",
       "       [ 8.193564 ],\n",
       "       [ 6.9941287]], dtype=float32)"
      ]
     },
     "execution_count": 42,
     "metadata": {},
     "output_type": "execute_result"
    }
   ],
   "source": [
    "pre0 = model0.predict(feature_test)\n",
    "pre0"
   ]
  },
  {
   "cell_type": "code",
   "execution_count": 43,
   "metadata": {
    "ExecuteTime": {
     "end_time": "2022-05-28T04:41:52.560526Z",
     "start_time": "2022-05-28T04:41:52.546537Z"
    }
   },
   "outputs": [],
   "source": [
    "diff = pre0 - label_test"
   ]
  },
  {
   "cell_type": "code",
   "execution_count": 44,
   "metadata": {
    "ExecuteTime": {
     "end_time": "2022-05-28T04:41:52.576483Z",
     "start_time": "2022-05-28T04:41:52.562492Z"
    },
    "scrolled": false
   },
   "outputs": [
    {
     "name": "stdout",
     "output_type": "stream",
     "text": [
      "Prediction:\n",
      "  diff_Max            :   2.5235820\n",
      "  diff_Min            :  -2.0833883\n",
      "  |diff|_Mean(MAE)    :   0.2983379\n",
      "  |diff|_Max          :   2.5235820\n",
      "  |diff|_Min          :   0.0000753\n",
      "  pre_Var(MSE)        :   0.2045504\n",
      "  pre_Std(RMSE)       :   0.4522725\n",
      "  Error_mean          :  -0.0029577\n",
      "  Error_max           :   0.7780129\n",
      "  Error_min           :  -0.1950907\n",
      "  |Error|_mean(MAPE)  :   0.0361319\n",
      "  |Error|_max         :   0.7780129\n",
      "  |Error|_min         :   0.0000058\n"
     ]
    }
   ],
   "source": [
    "a, err = pre_ana(pre0, label_test)\n",
    "print(\"Prediction:\")\n",
    "print(\"\\nPrediction:\",file=fout)\n",
    "for key in a.keys():\n",
    "    print(f\"  {key:<20}: {a[key]:>11.7f}\")\n",
    "    print(f\"  {key:<20}: {a[key]:>11.7f}\",file=fout)"
   ]
  },
  {
   "cell_type": "markdown",
   "metadata": {},
   "source": [
    "#### 查看拟合中保存的最佳模型"
   ]
  },
  {
   "cell_type": "markdown",
   "metadata": {},
   "source": [
    "是否与上述模型一样？"
   ]
  },
  {
   "cell_type": "code",
   "execution_count": 45,
   "metadata": {
    "ExecuteTime": {
     "end_time": "2022-05-28T04:41:52.592411Z",
     "start_time": "2022-05-28T04:41:52.578449Z"
    }
   },
   "outputs": [
    {
     "name": "stdout",
     "output_type": "stream",
     "text": [
      "Saved best model : .\\./../hyper-param_tuning\\au150_DW_chi_cn1_3level_run_2022_05_28-12_09_57.h5\n"
     ]
    }
   ],
   "source": [
    "print(f\"Saved best model : {model_saved_best}\")\n",
    "print(f\"\\nSaved best model : {model_saved_best}\",file=fout)\n",
    "fout.close()"
   ]
  },
  {
   "cell_type": "code",
   "execution_count": 46,
   "metadata": {
    "ExecuteTime": {
     "end_time": "2022-05-28T04:41:52.677710Z",
     "start_time": "2022-05-28T04:41:52.594407Z"
    }
   },
   "outputs": [
    {
     "data": {
      "text/plain": [
       "<keras.engine.sequential.Sequential at 0x279b54cf2e0>"
      ]
     },
     "execution_count": 46,
     "metadata": {},
     "output_type": "execute_result"
    }
   ],
   "source": [
    "model = keras.models.load_model(model_saved_best)\n",
    "model"
   ]
  },
  {
   "cell_type": "code",
   "execution_count": 47,
   "metadata": {
    "ExecuteTime": {
     "end_time": "2022-05-28T04:41:52.795533Z",
     "start_time": "2022-05-28T04:41:52.678733Z"
    }
   },
   "outputs": [
    {
     "data": {
      "text/plain": [
       "array([[ 8.295987 ],\n",
       "       [ 8.228926 ],\n",
       "       [ 8.067729 ],\n",
       "       [ 7.9649596],\n",
       "       [ 7.298552 ],\n",
       "       [ 5.957638 ],\n",
       "       [11.613678 ],\n",
       "       [ 9.021304 ],\n",
       "       [12.578955 ],\n",
       "       [11.821922 ],\n",
       "       [ 7.6952853],\n",
       "       [ 7.1189923],\n",
       "       [13.966366 ],\n",
       "       [11.542114 ],\n",
       "       [ 6.1500607],\n",
       "       [12.579269 ],\n",
       "       [11.878617 ],\n",
       "       [ 8.905824 ],\n",
       "       [ 4.896551 ],\n",
       "       [11.318363 ],\n",
       "       [11.888025 ],\n",
       "       [ 8.117118 ],\n",
       "       [ 7.703819 ],\n",
       "       [ 7.87393  ],\n",
       "       [ 7.591631 ],\n",
       "       [ 5.442076 ],\n",
       "       [11.675016 ],\n",
       "       [ 6.925162 ],\n",
       "       [12.853673 ],\n",
       "       [ 7.7430153],\n",
       "       [ 7.8869886],\n",
       "       [12.473383 ],\n",
       "       [11.794116 ],\n",
       "       [11.830296 ],\n",
       "       [ 7.959835 ],\n",
       "       [ 5.94545  ],\n",
       "       [13.472979 ],\n",
       "       [ 9.12018  ],\n",
       "       [ 6.6955624],\n",
       "       [ 8.101998 ],\n",
       "       [12.117729 ],\n",
       "       [11.856377 ],\n",
       "       [ 6.7344933],\n",
       "       [ 7.627877 ],\n",
       "       [ 9.047415 ],\n",
       "       [11.731183 ],\n",
       "       [12.026394 ],\n",
       "       [12.300985 ],\n",
       "       [ 8.15308  ],\n",
       "       [12.008819 ],\n",
       "       [11.612055 ],\n",
       "       [ 6.0169535],\n",
       "       [ 6.376528 ],\n",
       "       [11.934044 ],\n",
       "       [12.088705 ],\n",
       "       [ 7.8875923],\n",
       "       [ 6.0870667],\n",
       "       [11.770914 ],\n",
       "       [ 5.471635 ],\n",
       "       [ 6.330746 ],\n",
       "       [ 6.874895 ],\n",
       "       [12.487487 ],\n",
       "       [ 8.8772135],\n",
       "       [ 7.5723324],\n",
       "       [ 5.324092 ],\n",
       "       [ 7.935888 ],\n",
       "       [ 5.9459286],\n",
       "       [ 5.9082465],\n",
       "       [ 7.897331 ],\n",
       "       [11.390413 ],\n",
       "       [11.909137 ],\n",
       "       [12.01527  ],\n",
       "       [ 5.8231816],\n",
       "       [ 8.92461  ],\n",
       "       [11.77817  ],\n",
       "       [ 7.7892256],\n",
       "       [10.313893 ],\n",
       "       [ 7.83705  ],\n",
       "       [12.00747  ],\n",
       "       [ 8.092849 ],\n",
       "       [ 5.8810644],\n",
       "       [11.819591 ],\n",
       "       [ 5.077782 ],\n",
       "       [ 6.523582 ],\n",
       "       [ 6.8620534],\n",
       "       [12.048998 ],\n",
       "       [10.184524 ],\n",
       "       [11.871373 ],\n",
       "       [ 9.049762 ],\n",
       "       [ 7.368486 ],\n",
       "       [ 7.84342  ],\n",
       "       [ 6.197006 ],\n",
       "       [11.948181 ],\n",
       "       [ 8.704675 ],\n",
       "       [ 8.131841 ],\n",
       "       [ 8.684432 ],\n",
       "       [ 5.6360135],\n",
       "       [ 7.9730415],\n",
       "       [ 9.90513  ],\n",
       "       [ 6.8505793],\n",
       "       [ 8.133326 ],\n",
       "       [12.377412 ],\n",
       "       [ 7.036997 ],\n",
       "       [ 7.1598396],\n",
       "       [11.263797 ],\n",
       "       [11.649285 ],\n",
       "       [12.393672 ],\n",
       "       [11.610666 ],\n",
       "       [12.004288 ],\n",
       "       [ 7.235936 ],\n",
       "       [ 7.253946 ],\n",
       "       [11.814909 ],\n",
       "       [ 7.652443 ],\n",
       "       [ 6.779222 ],\n",
       "       [ 7.5505915],\n",
       "       [ 6.841963 ],\n",
       "       [ 7.8036   ],\n",
       "       [ 7.87918  ],\n",
       "       [11.229102 ],\n",
       "       [11.810167 ],\n",
       "       [10.279528 ],\n",
       "       [ 8.875349 ],\n",
       "       [ 8.337713 ],\n",
       "       [ 6.0618367],\n",
       "       [ 7.8595467],\n",
       "       [ 7.1970887],\n",
       "       [11.047317 ],\n",
       "       [10.565982 ],\n",
       "       [12.086642 ],\n",
       "       [11.620088 ],\n",
       "       [ 7.0167103],\n",
       "       [13.264376 ],\n",
       "       [ 8.015741 ],\n",
       "       [ 6.746127 ],\n",
       "       [12.373962 ],\n",
       "       [ 7.6376762],\n",
       "       [ 5.037634 ],\n",
       "       [ 6.196231 ],\n",
       "       [ 7.9408555],\n",
       "       [ 7.5643263],\n",
       "       [ 9.07989  ],\n",
       "       [11.665733 ],\n",
       "       [ 6.0470085],\n",
       "       [ 7.1037645],\n",
       "       [12.422804 ],\n",
       "       [11.881593 ],\n",
       "       [ 9.022523 ],\n",
       "       [ 8.902974 ],\n",
       "       [11.949853 ],\n",
       "       [11.967057 ],\n",
       "       [ 8.032265 ],\n",
       "       [ 7.554621 ],\n",
       "       [ 8.051815 ],\n",
       "       [ 7.8804555],\n",
       "       [ 6.476205 ],\n",
       "       [ 6.179522 ],\n",
       "       [12.069441 ],\n",
       "       [ 8.079025 ],\n",
       "       [10.916612 ],\n",
       "       [10.195878 ],\n",
       "       [ 7.82     ],\n",
       "       [ 6.9263954],\n",
       "       [10.831588 ],\n",
       "       [11.3058405],\n",
       "       [ 5.900998 ],\n",
       "       [12.871687 ],\n",
       "       [12.097373 ],\n",
       "       [ 8.904304 ],\n",
       "       [ 4.1855254],\n",
       "       [12.358781 ],\n",
       "       [11.6559   ],\n",
       "       [ 9.258718 ],\n",
       "       [ 7.9385595],\n",
       "       [ 8.208693 ],\n",
       "       [ 7.9595795],\n",
       "       [ 5.0181055],\n",
       "       [12.048692 ],\n",
       "       [ 7.166449 ],\n",
       "       [12.523042 ],\n",
       "       [ 6.6552563],\n",
       "       [ 8.17713  ],\n",
       "       [12.171311 ],\n",
       "       [12.348847 ],\n",
       "       [11.43558  ],\n",
       "       [ 6.629112 ],\n",
       "       [ 5.8094316],\n",
       "       [10.789421 ],\n",
       "       [ 8.8810625],\n",
       "       [ 7.185666 ],\n",
       "       [ 7.685788 ],\n",
       "       [12.806187 ],\n",
       "       [12.697649 ],\n",
       "       [ 4.894288 ],\n",
       "       [ 6.902365 ],\n",
       "       [ 8.985416 ],\n",
       "       [11.350658 ],\n",
       "       [11.546142 ],\n",
       "       [11.503088 ],\n",
       "       [ 7.896955 ],\n",
       "       [11.8714695],\n",
       "       [12.045516 ],\n",
       "       [ 6.351414 ],\n",
       "       [ 7.8946853],\n",
       "       [11.658043 ],\n",
       "       [11.753135 ],\n",
       "       [ 7.856264 ],\n",
       "       [ 5.8657484],\n",
       "       [10.87473  ],\n",
       "       [ 6.4397883],\n",
       "       [ 6.678448 ],\n",
       "       [ 6.7249126],\n",
       "       [11.929067 ],\n",
       "       [ 8.023167 ],\n",
       "       [ 8.341926 ],\n",
       "       [ 7.8234463],\n",
       "       [ 7.4622183],\n",
       "       [ 4.8458047],\n",
       "       [ 5.755935 ],\n",
       "       [ 7.1233177],\n",
       "       [12.213438 ],\n",
       "       [11.965918 ],\n",
       "       [11.2305   ],\n",
       "       [ 6.118122 ],\n",
       "       [ 8.9606905],\n",
       "       [12.981392 ],\n",
       "       [ 8.364367 ],\n",
       "       [ 5.8682327],\n",
       "       [ 8.404563 ],\n",
       "       [12.025886 ],\n",
       "       [ 8.318524 ],\n",
       "       [ 6.1855803],\n",
       "       [11.476225 ],\n",
       "       [ 5.614846 ],\n",
       "       [ 5.9556084],\n",
       "       [ 6.602749 ],\n",
       "       [11.955044 ],\n",
       "       [ 8.657213 ],\n",
       "       [12.1839485],\n",
       "       [ 8.801767 ],\n",
       "       [ 6.867601 ],\n",
       "       [ 7.8123007],\n",
       "       [ 6.091716 ],\n",
       "       [11.584866 ],\n",
       "       [ 8.867646 ],\n",
       "       [ 7.243988 ],\n",
       "       [ 8.76227  ],\n",
       "       [ 4.1939335],\n",
       "       [ 7.8232775],\n",
       "       [10.453007 ],\n",
       "       [ 7.737072 ],\n",
       "       [ 7.6654058],\n",
       "       [11.774654 ],\n",
       "       [ 6.30024  ],\n",
       "       [ 7.2504535],\n",
       "       [10.1637945],\n",
       "       [11.969734 ],\n",
       "       [13.097389 ],\n",
       "       [12.086109 ],\n",
       "       [ 8.219743 ],\n",
       "       [ 6.9311314],\n",
       "       [11.940551 ],\n",
       "       [ 7.7502427],\n",
       "       [ 6.3121686],\n",
       "       [ 6.072464 ],\n",
       "       [ 7.049258 ],\n",
       "       [ 7.33554  ],\n",
       "       [ 7.829443 ],\n",
       "       [ 8.914876 ],\n",
       "       [11.752857 ],\n",
       "       [ 8.988818 ],\n",
       "       [ 7.8642387],\n",
       "       [ 6.1602116],\n",
       "       [ 7.843778 ],\n",
       "       [10.955667 ],\n",
       "       [11.416781 ],\n",
       "       [12.015553 ],\n",
       "       [11.955235 ],\n",
       "       [ 8.64966  ],\n",
       "       [12.523376 ],\n",
       "       [ 7.7371216],\n",
       "       [ 6.540287 ],\n",
       "       [11.64133  ],\n",
       "       [ 7.135259 ],\n",
       "       [ 5.9612627],\n",
       "       [ 7.3136015],\n",
       "       [ 7.9926395],\n",
       "       [ 7.9742804],\n",
       "       [ 9.026931 ],\n",
       "       [11.991652 ],\n",
       "       [ 6.0492115],\n",
       "       [ 6.9864492],\n",
       "       [12.908016 ],\n",
       "       [11.964331 ],\n",
       "       [ 8.995036 ],\n",
       "       [ 8.785503 ],\n",
       "       [12.051902 ],\n",
       "       [11.886188 ],\n",
       "       [ 8.085891 ],\n",
       "       [ 6.1992435],\n",
       "       [ 7.686105 ],\n",
       "       [ 7.0634494],\n",
       "       [ 8.133979 ],\n",
       "       [ 5.964909 ],\n",
       "       [ 8.536808 ],\n",
       "       [11.288884 ],\n",
       "       [10.640226 ],\n",
       "       [ 7.9716   ],\n",
       "       [ 6.6855836],\n",
       "       [11.829432 ],\n",
       "       [11.868701 ],\n",
       "       [ 6.540074 ],\n",
       "       [11.970057 ],\n",
       "       [12.138148 ],\n",
       "       [ 9.499573 ],\n",
       "       [ 4.113417 ],\n",
       "       [11.83812  ],\n",
       "       [12.05688  ],\n",
       "       [ 6.920863 ],\n",
       "       [ 8.07467  ],\n",
       "       [ 8.306004 ],\n",
       "       [ 7.9493604],\n",
       "       [ 5.0141983],\n",
       "       [11.706643 ],\n",
       "       [ 5.776063 ],\n",
       "       [13.773664 ],\n",
       "       [ 6.7355604],\n",
       "       [ 7.95308  ],\n",
       "       [12.207291 ],\n",
       "       [13.160523 ],\n",
       "       [11.724998 ],\n",
       "       [ 8.269733 ],\n",
       "       [ 4.319901 ],\n",
       "       [12.692764 ],\n",
       "       [ 9.097503 ],\n",
       "       [ 7.139087 ],\n",
       "       [ 8.130329 ],\n",
       "       [12.197319 ],\n",
       "       [12.880487 ],\n",
       "       [ 6.3209257],\n",
       "       [ 6.881549 ],\n",
       "       [ 8.7892275],\n",
       "       [11.833107 ],\n",
       "       [11.606276 ],\n",
       "       [12.292769 ],\n",
       "       [ 8.136311 ],\n",
       "       [11.755334 ],\n",
       "       [11.946791 ],\n",
       "       [ 7.6989675],\n",
       "       [ 8.082332 ],\n",
       "       [11.711144 ],\n",
       "       [12.183235 ],\n",
       "       [ 7.496484 ],\n",
       "       [ 6.0113015],\n",
       "       [11.718827 ],\n",
       "       [ 5.970972 ],\n",
       "       [ 5.7375765],\n",
       "       [ 6.869251 ],\n",
       "       [11.978216 ],\n",
       "       [ 8.244583 ],\n",
       "       [ 7.332495 ],\n",
       "       [ 7.164023 ],\n",
       "       [ 7.552511 ],\n",
       "       [ 4.4456005],\n",
       "       [ 6.8901386],\n",
       "       [ 7.747578 ],\n",
       "       [11.96704  ],\n",
       "       [11.629343 ],\n",
       "       [11.9145   ],\n",
       "       [ 5.9306574],\n",
       "       [ 9.351904 ],\n",
       "       [11.338295 ],\n",
       "       [ 8.094165 ],\n",
       "       [ 7.861736 ],\n",
       "       [ 9.233526 ],\n",
       "       [11.991276 ],\n",
       "       [ 7.9303446],\n",
       "       [ 6.1075587],\n",
       "       [10.321807 ],\n",
       "       [ 6.2131386],\n",
       "       [ 4.824025 ],\n",
       "       [ 7.169954 ],\n",
       "       [12.268593 ],\n",
       "       [ 8.737878 ],\n",
       "       [12.027442 ],\n",
       "       [ 9.108501 ],\n",
       "       [ 6.935637 ],\n",
       "       [ 8.148932 ],\n",
       "       [ 6.1560802],\n",
       "       [12.319444 ],\n",
       "       [ 8.084903 ],\n",
       "       [ 8.057656 ],\n",
       "       [ 9.03007  ],\n",
       "       [ 5.902463 ],\n",
       "       [ 8.045859 ],\n",
       "       [10.860374 ],\n",
       "       [ 8.235107 ],\n",
       "       [ 8.151539 ],\n",
       "       [11.582104 ],\n",
       "       [ 7.045615 ],\n",
       "       [ 6.8668013],\n",
       "       [ 8.490235 ],\n",
       "       [12.452353 ],\n",
       "       [12.855094 ],\n",
       "       [12.27226  ],\n",
       "       [ 7.7834277],\n",
       "       [ 6.5388947],\n",
       "       [11.294733 ],\n",
       "       [ 7.463972 ],\n",
       "       [ 8.049093 ],\n",
       "       [ 7.4518423],\n",
       "       [ 6.0117264],\n",
       "       [ 8.081951 ],\n",
       "       [ 7.9447083],\n",
       "       [10.891459 ],\n",
       "       [12.234043 ],\n",
       "       [10.790657 ],\n",
       "       [ 9.318369 ],\n",
       "       [ 8.07122  ],\n",
       "       [ 5.885139 ],\n",
       "       [ 8.09588  ],\n",
       "       [ 6.8165917],\n",
       "       [10.851921 ],\n",
       "       [12.214214 ],\n",
       "       [12.9782915],\n",
       "       [11.6259575],\n",
       "       [ 9.197451 ],\n",
       "       [13.000075 ],\n",
       "       [ 6.4584312],\n",
       "       [ 6.661423 ],\n",
       "       [11.733756 ],\n",
       "       [ 8.074446 ],\n",
       "       [ 5.9434023],\n",
       "       [ 6.411647 ],\n",
       "       [ 7.7930274],\n",
       "       [ 8.034543 ],\n",
       "       [ 9.123072 ],\n",
       "       [12.483914 ],\n",
       "       [ 6.2473903],\n",
       "       [ 7.0547047],\n",
       "       [12.15503  ],\n",
       "       [11.929854 ],\n",
       "       [ 8.533255 ],\n",
       "       [ 8.605786 ],\n",
       "       [12.029361 ],\n",
       "       [11.86446  ],\n",
       "       [ 7.7435055],\n",
       "       [ 6.978799 ],\n",
       "       [ 7.858391 ],\n",
       "       [ 7.645723 ],\n",
       "       [ 7.8635187],\n",
       "       [ 4.725856 ],\n",
       "       [11.675841 ],\n",
       "       [ 8.607725 ],\n",
       "       [12.600804 ],\n",
       "       [12.444958 ],\n",
       "       [ 7.706407 ],\n",
       "       [ 8.191412 ],\n",
       "       [13.34986  ],\n",
       "       [11.786748 ],\n",
       "       [ 5.772445 ],\n",
       "       [13.223915 ],\n",
       "       [11.395354 ],\n",
       "       [ 9.317946 ],\n",
       "       [ 4.0595136],\n",
       "       [12.217183 ],\n",
       "       [12.02493  ],\n",
       "       [ 7.9998183],\n",
       "       [ 6.9493656],\n",
       "       [ 8.186689 ],\n",
       "       [ 8.527676 ],\n",
       "       [ 5.6720223],\n",
       "       [12.319455 ],\n",
       "       [ 5.823573 ],\n",
       "       [12.470848 ],\n",
       "       [ 8.20075  ],\n",
       "       [ 7.044146 ],\n",
       "       [11.944564 ],\n",
       "       [12.580726 ],\n",
       "       [11.625919 ],\n",
       "       [ 9.705045 ],\n",
       "       [ 6.855347 ],\n",
       "       [13.133605 ],\n",
       "       [ 9.338    ],\n",
       "       [ 5.9729104],\n",
       "       [ 7.8852735],\n",
       "       [12.125103 ],\n",
       "       [12.785768 ],\n",
       "       [ 6.9148507],\n",
       "       [ 6.051713 ],\n",
       "       [ 7.328144 ],\n",
       "       [11.205816 ],\n",
       "       [12.039172 ],\n",
       "       [11.985699 ],\n",
       "       [ 8.105267 ],\n",
       "       [11.3534   ],\n",
       "       [11.9498205],\n",
       "       [ 7.3062367],\n",
       "       [ 7.849831 ],\n",
       "       [12.052938 ],\n",
       "       [12.153523 ],\n",
       "       [ 8.323866 ],\n",
       "       [ 5.8308153],\n",
       "       [10.490068 ],\n",
       "       [ 5.5930305],\n",
       "       [ 4.804334 ],\n",
       "       [ 5.9106965],\n",
       "       [11.684726 ],\n",
       "       [ 7.6909804],\n",
       "       [ 5.5345626],\n",
       "       [ 6.976405 ],\n",
       "       [ 8.165334 ],\n",
       "       [ 4.8541217],\n",
       "       [ 5.887879 ],\n",
       "       [ 7.891127 ],\n",
       "       [12.011242 ],\n",
       "       [11.852011 ],\n",
       "       [12.048273 ],\n",
       "       [ 5.978547 ],\n",
       "       [ 8.743851 ],\n",
       "       [10.011997 ],\n",
       "       [ 8.216178 ],\n",
       "       [ 7.5518427],\n",
       "       [ 9.305347 ],\n",
       "       [12.0712   ],\n",
       "       [ 7.9296346],\n",
       "       [ 5.212097 ],\n",
       "       [12.738524 ],\n",
       "       [ 6.057906 ],\n",
       "       [ 6.8759046],\n",
       "       [11.94373  ],\n",
       "       [ 7.751692 ],\n",
       "       [11.4532585],\n",
       "       [ 8.934369 ],\n",
       "       [ 6.730828 ],\n",
       "       [ 7.7712827],\n",
       "       [ 6.7878485],\n",
       "       [11.547214 ],\n",
       "       [ 8.347354 ],\n",
       "       [ 7.8676653],\n",
       "       [ 8.807218 ],\n",
       "       [ 7.134725 ],\n",
       "       [ 6.79059  ],\n",
       "       [10.5941105],\n",
       "       [ 7.7218175],\n",
       "       [ 8.1255245],\n",
       "       [11.874453 ],\n",
       "       [ 6.760393 ],\n",
       "       [ 7.5947585],\n",
       "       [10.358658 ],\n",
       "       [13.305601 ],\n",
       "       [13.238756 ],\n",
       "       [12.221771 ],\n",
       "       [ 7.3216143],\n",
       "       [ 7.036392 ],\n",
       "       [11.760788 ],\n",
       "       [ 7.752283 ],\n",
       "       [ 6.393432 ],\n",
       "       [ 8.428237 ],\n",
       "       [ 6.836404 ],\n",
       "       [ 7.838202 ],\n",
       "       [ 8.043031 ],\n",
       "       [11.568362 ],\n",
       "       [11.795516 ],\n",
       "       [12.169839 ],\n",
       "       [ 9.099457 ],\n",
       "       [ 7.9392114],\n",
       "       [ 5.788898 ],\n",
       "       [ 7.905072 ],\n",
       "       [ 7.170331 ],\n",
       "       [10.198189 ],\n",
       "       [11.013361 ],\n",
       "       [13.884719 ],\n",
       "       [12.92238  ],\n",
       "       [ 8.747188 ],\n",
       "       [12.712933 ],\n",
       "       [ 8.411969 ],\n",
       "       [ 5.8432207],\n",
       "       [12.012583 ],\n",
       "       [ 7.850996 ],\n",
       "       [ 5.3340387],\n",
       "       [ 4.857493 ],\n",
       "       [ 7.8800726],\n",
       "       [ 8.08233  ],\n",
       "       [ 8.674711 ],\n",
       "       [13.045469 ],\n",
       "       [ 5.208183 ],\n",
       "       [ 5.7232995],\n",
       "       [12.340358 ],\n",
       "       [11.940281 ],\n",
       "       [ 9.347182 ],\n",
       "       [ 8.496173 ],\n",
       "       [11.832935 ],\n",
       "       [11.760252 ],\n",
       "       [ 8.193564 ],\n",
       "       [ 6.9941287]], dtype=float32)"
      ]
     },
     "execution_count": 47,
     "metadata": {},
     "output_type": "execute_result"
    }
   ],
   "source": [
    "pre = model.predict(feature_test)\n",
    "pre"
   ]
  },
  {
   "cell_type": "code",
   "execution_count": 48,
   "metadata": {
    "ExecuteTime": {
     "end_time": "2022-05-28T04:41:52.827457Z",
     "start_time": "2022-05-28T04:41:52.799510Z"
    }
   },
   "outputs": [
    {
     "data": {
      "text/plain": [
       "array([[0.],\n",
       "       [0.],\n",
       "       [0.],\n",
       "       [0.],\n",
       "       [0.],\n",
       "       [0.],\n",
       "       [0.],\n",
       "       [0.],\n",
       "       [0.],\n",
       "       [0.],\n",
       "       [0.],\n",
       "       [0.],\n",
       "       [0.],\n",
       "       [0.],\n",
       "       [0.],\n",
       "       [0.],\n",
       "       [0.],\n",
       "       [0.],\n",
       "       [0.],\n",
       "       [0.],\n",
       "       [0.],\n",
       "       [0.],\n",
       "       [0.],\n",
       "       [0.],\n",
       "       [0.],\n",
       "       [0.],\n",
       "       [0.],\n",
       "       [0.],\n",
       "       [0.],\n",
       "       [0.],\n",
       "       [0.],\n",
       "       [0.],\n",
       "       [0.],\n",
       "       [0.],\n",
       "       [0.],\n",
       "       [0.],\n",
       "       [0.],\n",
       "       [0.],\n",
       "       [0.],\n",
       "       [0.],\n",
       "       [0.],\n",
       "       [0.],\n",
       "       [0.],\n",
       "       [0.],\n",
       "       [0.],\n",
       "       [0.],\n",
       "       [0.],\n",
       "       [0.],\n",
       "       [0.],\n",
       "       [0.],\n",
       "       [0.],\n",
       "       [0.],\n",
       "       [0.],\n",
       "       [0.],\n",
       "       [0.],\n",
       "       [0.],\n",
       "       [0.],\n",
       "       [0.],\n",
       "       [0.],\n",
       "       [0.],\n",
       "       [0.],\n",
       "       [0.],\n",
       "       [0.],\n",
       "       [0.],\n",
       "       [0.],\n",
       "       [0.],\n",
       "       [0.],\n",
       "       [0.],\n",
       "       [0.],\n",
       "       [0.],\n",
       "       [0.],\n",
       "       [0.],\n",
       "       [0.],\n",
       "       [0.],\n",
       "       [0.],\n",
       "       [0.],\n",
       "       [0.],\n",
       "       [0.],\n",
       "       [0.],\n",
       "       [0.],\n",
       "       [0.],\n",
       "       [0.],\n",
       "       [0.],\n",
       "       [0.],\n",
       "       [0.],\n",
       "       [0.],\n",
       "       [0.],\n",
       "       [0.],\n",
       "       [0.],\n",
       "       [0.],\n",
       "       [0.],\n",
       "       [0.],\n",
       "       [0.],\n",
       "       [0.],\n",
       "       [0.],\n",
       "       [0.],\n",
       "       [0.],\n",
       "       [0.],\n",
       "       [0.],\n",
       "       [0.],\n",
       "       [0.],\n",
       "       [0.],\n",
       "       [0.],\n",
       "       [0.],\n",
       "       [0.],\n",
       "       [0.],\n",
       "       [0.],\n",
       "       [0.],\n",
       "       [0.],\n",
       "       [0.],\n",
       "       [0.],\n",
       "       [0.],\n",
       "       [0.],\n",
       "       [0.],\n",
       "       [0.],\n",
       "       [0.],\n",
       "       [0.],\n",
       "       [0.],\n",
       "       [0.],\n",
       "       [0.],\n",
       "       [0.],\n",
       "       [0.],\n",
       "       [0.],\n",
       "       [0.],\n",
       "       [0.],\n",
       "       [0.],\n",
       "       [0.],\n",
       "       [0.],\n",
       "       [0.],\n",
       "       [0.],\n",
       "       [0.],\n",
       "       [0.],\n",
       "       [0.],\n",
       "       [0.],\n",
       "       [0.],\n",
       "       [0.],\n",
       "       [0.],\n",
       "       [0.],\n",
       "       [0.],\n",
       "       [0.],\n",
       "       [0.],\n",
       "       [0.],\n",
       "       [0.],\n",
       "       [0.],\n",
       "       [0.],\n",
       "       [0.],\n",
       "       [0.],\n",
       "       [0.],\n",
       "       [0.],\n",
       "       [0.],\n",
       "       [0.],\n",
       "       [0.],\n",
       "       [0.],\n",
       "       [0.],\n",
       "       [0.],\n",
       "       [0.],\n",
       "       [0.],\n",
       "       [0.],\n",
       "       [0.],\n",
       "       [0.],\n",
       "       [0.],\n",
       "       [0.],\n",
       "       [0.],\n",
       "       [0.],\n",
       "       [0.],\n",
       "       [0.],\n",
       "       [0.],\n",
       "       [0.],\n",
       "       [0.],\n",
       "       [0.],\n",
       "       [0.],\n",
       "       [0.],\n",
       "       [0.],\n",
       "       [0.],\n",
       "       [0.],\n",
       "       [0.],\n",
       "       [0.],\n",
       "       [0.],\n",
       "       [0.],\n",
       "       [0.],\n",
       "       [0.],\n",
       "       [0.],\n",
       "       [0.],\n",
       "       [0.],\n",
       "       [0.],\n",
       "       [0.],\n",
       "       [0.],\n",
       "       [0.],\n",
       "       [0.],\n",
       "       [0.],\n",
       "       [0.],\n",
       "       [0.],\n",
       "       [0.],\n",
       "       [0.],\n",
       "       [0.],\n",
       "       [0.],\n",
       "       [0.],\n",
       "       [0.],\n",
       "       [0.],\n",
       "       [0.],\n",
       "       [0.],\n",
       "       [0.],\n",
       "       [0.],\n",
       "       [0.],\n",
       "       [0.],\n",
       "       [0.],\n",
       "       [0.],\n",
       "       [0.],\n",
       "       [0.],\n",
       "       [0.],\n",
       "       [0.],\n",
       "       [0.],\n",
       "       [0.],\n",
       "       [0.],\n",
       "       [0.],\n",
       "       [0.],\n",
       "       [0.],\n",
       "       [0.],\n",
       "       [0.],\n",
       "       [0.],\n",
       "       [0.],\n",
       "       [0.],\n",
       "       [0.],\n",
       "       [0.],\n",
       "       [0.],\n",
       "       [0.],\n",
       "       [0.],\n",
       "       [0.],\n",
       "       [0.],\n",
       "       [0.],\n",
       "       [0.],\n",
       "       [0.],\n",
       "       [0.],\n",
       "       [0.],\n",
       "       [0.],\n",
       "       [0.],\n",
       "       [0.],\n",
       "       [0.],\n",
       "       [0.],\n",
       "       [0.],\n",
       "       [0.],\n",
       "       [0.],\n",
       "       [0.],\n",
       "       [0.],\n",
       "       [0.],\n",
       "       [0.],\n",
       "       [0.],\n",
       "       [0.],\n",
       "       [0.],\n",
       "       [0.],\n",
       "       [0.],\n",
       "       [0.],\n",
       "       [0.],\n",
       "       [0.],\n",
       "       [0.],\n",
       "       [0.],\n",
       "       [0.],\n",
       "       [0.],\n",
       "       [0.],\n",
       "       [0.],\n",
       "       [0.],\n",
       "       [0.],\n",
       "       [0.],\n",
       "       [0.],\n",
       "       [0.],\n",
       "       [0.],\n",
       "       [0.],\n",
       "       [0.],\n",
       "       [0.],\n",
       "       [0.],\n",
       "       [0.],\n",
       "       [0.],\n",
       "       [0.],\n",
       "       [0.],\n",
       "       [0.],\n",
       "       [0.],\n",
       "       [0.],\n",
       "       [0.],\n",
       "       [0.],\n",
       "       [0.],\n",
       "       [0.],\n",
       "       [0.],\n",
       "       [0.],\n",
       "       [0.],\n",
       "       [0.],\n",
       "       [0.],\n",
       "       [0.],\n",
       "       [0.],\n",
       "       [0.],\n",
       "       [0.],\n",
       "       [0.],\n",
       "       [0.],\n",
       "       [0.],\n",
       "       [0.],\n",
       "       [0.],\n",
       "       [0.],\n",
       "       [0.],\n",
       "       [0.],\n",
       "       [0.],\n",
       "       [0.],\n",
       "       [0.],\n",
       "       [0.],\n",
       "       [0.],\n",
       "       [0.],\n",
       "       [0.],\n",
       "       [0.],\n",
       "       [0.],\n",
       "       [0.],\n",
       "       [0.],\n",
       "       [0.],\n",
       "       [0.],\n",
       "       [0.],\n",
       "       [0.],\n",
       "       [0.],\n",
       "       [0.],\n",
       "       [0.],\n",
       "       [0.],\n",
       "       [0.],\n",
       "       [0.],\n",
       "       [0.],\n",
       "       [0.],\n",
       "       [0.],\n",
       "       [0.],\n",
       "       [0.],\n",
       "       [0.],\n",
       "       [0.],\n",
       "       [0.],\n",
       "       [0.],\n",
       "       [0.],\n",
       "       [0.],\n",
       "       [0.],\n",
       "       [0.],\n",
       "       [0.],\n",
       "       [0.],\n",
       "       [0.],\n",
       "       [0.],\n",
       "       [0.],\n",
       "       [0.],\n",
       "       [0.],\n",
       "       [0.],\n",
       "       [0.],\n",
       "       [0.],\n",
       "       [0.],\n",
       "       [0.],\n",
       "       [0.],\n",
       "       [0.],\n",
       "       [0.],\n",
       "       [0.],\n",
       "       [0.],\n",
       "       [0.],\n",
       "       [0.],\n",
       "       [0.],\n",
       "       [0.],\n",
       "       [0.],\n",
       "       [0.],\n",
       "       [0.],\n",
       "       [0.],\n",
       "       [0.],\n",
       "       [0.],\n",
       "       [0.],\n",
       "       [0.],\n",
       "       [0.],\n",
       "       [0.],\n",
       "       [0.],\n",
       "       [0.],\n",
       "       [0.],\n",
       "       [0.],\n",
       "       [0.],\n",
       "       [0.],\n",
       "       [0.],\n",
       "       [0.],\n",
       "       [0.],\n",
       "       [0.],\n",
       "       [0.],\n",
       "       [0.],\n",
       "       [0.],\n",
       "       [0.],\n",
       "       [0.],\n",
       "       [0.],\n",
       "       [0.],\n",
       "       [0.],\n",
       "       [0.],\n",
       "       [0.],\n",
       "       [0.],\n",
       "       [0.],\n",
       "       [0.],\n",
       "       [0.],\n",
       "       [0.],\n",
       "       [0.],\n",
       "       [0.],\n",
       "       [0.],\n",
       "       [0.],\n",
       "       [0.],\n",
       "       [0.],\n",
       "       [0.],\n",
       "       [0.],\n",
       "       [0.],\n",
       "       [0.],\n",
       "       [0.],\n",
       "       [0.],\n",
       "       [0.],\n",
       "       [0.],\n",
       "       [0.],\n",
       "       [0.],\n",
       "       [0.],\n",
       "       [0.],\n",
       "       [0.],\n",
       "       [0.],\n",
       "       [0.],\n",
       "       [0.],\n",
       "       [0.],\n",
       "       [0.],\n",
       "       [0.],\n",
       "       [0.],\n",
       "       [0.],\n",
       "       [0.],\n",
       "       [0.],\n",
       "       [0.],\n",
       "       [0.],\n",
       "       [0.],\n",
       "       [0.],\n",
       "       [0.],\n",
       "       [0.],\n",
       "       [0.],\n",
       "       [0.],\n",
       "       [0.],\n",
       "       [0.],\n",
       "       [0.],\n",
       "       [0.],\n",
       "       [0.],\n",
       "       [0.],\n",
       "       [0.],\n",
       "       [0.],\n",
       "       [0.],\n",
       "       [0.],\n",
       "       [0.],\n",
       "       [0.],\n",
       "       [0.],\n",
       "       [0.],\n",
       "       [0.],\n",
       "       [0.],\n",
       "       [0.],\n",
       "       [0.],\n",
       "       [0.],\n",
       "       [0.],\n",
       "       [0.],\n",
       "       [0.],\n",
       "       [0.],\n",
       "       [0.],\n",
       "       [0.],\n",
       "       [0.],\n",
       "       [0.],\n",
       "       [0.],\n",
       "       [0.],\n",
       "       [0.],\n",
       "       [0.],\n",
       "       [0.],\n",
       "       [0.],\n",
       "       [0.],\n",
       "       [0.],\n",
       "       [0.],\n",
       "       [0.],\n",
       "       [0.],\n",
       "       [0.],\n",
       "       [0.],\n",
       "       [0.],\n",
       "       [0.],\n",
       "       [0.],\n",
       "       [0.],\n",
       "       [0.],\n",
       "       [0.],\n",
       "       [0.],\n",
       "       [0.],\n",
       "       [0.],\n",
       "       [0.],\n",
       "       [0.],\n",
       "       [0.],\n",
       "       [0.],\n",
       "       [0.],\n",
       "       [0.],\n",
       "       [0.],\n",
       "       [0.],\n",
       "       [0.],\n",
       "       [0.],\n",
       "       [0.],\n",
       "       [0.],\n",
       "       [0.],\n",
       "       [0.],\n",
       "       [0.],\n",
       "       [0.],\n",
       "       [0.],\n",
       "       [0.],\n",
       "       [0.],\n",
       "       [0.],\n",
       "       [0.],\n",
       "       [0.],\n",
       "       [0.],\n",
       "       [0.],\n",
       "       [0.],\n",
       "       [0.],\n",
       "       [0.],\n",
       "       [0.],\n",
       "       [0.],\n",
       "       [0.],\n",
       "       [0.],\n",
       "       [0.],\n",
       "       [0.],\n",
       "       [0.],\n",
       "       [0.],\n",
       "       [0.],\n",
       "       [0.],\n",
       "       [0.],\n",
       "       [0.],\n",
       "       [0.],\n",
       "       [0.],\n",
       "       [0.],\n",
       "       [0.],\n",
       "       [0.],\n",
       "       [0.],\n",
       "       [0.],\n",
       "       [0.],\n",
       "       [0.],\n",
       "       [0.],\n",
       "       [0.],\n",
       "       [0.],\n",
       "       [0.],\n",
       "       [0.],\n",
       "       [0.],\n",
       "       [0.],\n",
       "       [0.],\n",
       "       [0.],\n",
       "       [0.],\n",
       "       [0.],\n",
       "       [0.],\n",
       "       [0.],\n",
       "       [0.],\n",
       "       [0.],\n",
       "       [0.],\n",
       "       [0.],\n",
       "       [0.],\n",
       "       [0.],\n",
       "       [0.],\n",
       "       [0.],\n",
       "       [0.],\n",
       "       [0.],\n",
       "       [0.],\n",
       "       [0.],\n",
       "       [0.],\n",
       "       [0.],\n",
       "       [0.],\n",
       "       [0.],\n",
       "       [0.],\n",
       "       [0.],\n",
       "       [0.],\n",
       "       [0.],\n",
       "       [0.],\n",
       "       [0.],\n",
       "       [0.],\n",
       "       [0.],\n",
       "       [0.],\n",
       "       [0.],\n",
       "       [0.],\n",
       "       [0.],\n",
       "       [0.],\n",
       "       [0.],\n",
       "       [0.],\n",
       "       [0.],\n",
       "       [0.],\n",
       "       [0.],\n",
       "       [0.],\n",
       "       [0.],\n",
       "       [0.],\n",
       "       [0.],\n",
       "       [0.],\n",
       "       [0.],\n",
       "       [0.],\n",
       "       [0.],\n",
       "       [0.],\n",
       "       [0.],\n",
       "       [0.],\n",
       "       [0.],\n",
       "       [0.],\n",
       "       [0.],\n",
       "       [0.],\n",
       "       [0.],\n",
       "       [0.],\n",
       "       [0.],\n",
       "       [0.],\n",
       "       [0.],\n",
       "       [0.],\n",
       "       [0.],\n",
       "       [0.],\n",
       "       [0.],\n",
       "       [0.],\n",
       "       [0.]], dtype=float32)"
      ]
     },
     "execution_count": 48,
     "metadata": {},
     "output_type": "execute_result"
    }
   ],
   "source": [
    "diff_pre = pre0-pre\n",
    "diff_pre"
   ]
  },
  {
   "cell_type": "code",
   "execution_count": 49,
   "metadata": {
    "ExecuteTime": {
     "end_time": "2022-05-28T04:41:52.843350Z",
     "start_time": "2022-05-28T04:41:52.829388Z"
    }
   },
   "outputs": [],
   "source": [
    "small = 0.0001\n",
    "if np.max(np.abs(pre0 - pre)) > small:\n",
    "    different = True\n",
    "else:\n",
    "    different = False"
   ]
  },
  {
   "cell_type": "code",
   "execution_count": 50,
   "metadata": {
    "ExecuteTime": {
     "end_time": "2022-05-28T04:41:52.858347Z",
     "start_time": "2022-05-28T04:41:52.845349Z"
    },
    "scrolled": false
   },
   "outputs": [],
   "source": [
    "if different:\n",
    "    b, err = pre_ana(pre, label_test)\n",
    "    fout = open(path_fitinfo, 'a')\n",
    "    print(\"Prediction(Saved model):\")\n",
    "    print(\"\\nPrediction(Saved model):\", file=fout)\n",
    "    for key in b.keys():\n",
    "        print(f\"  {key:<20}: {b[key]:>11.7f}  VS  {a[key]:>11.7f}  diff= {(b[key]-a[key]):>11.7f}\")\n",
    "        print(f\"  {key:<20}: {b[key]:>11.7f}  VS  {a[key]:>11.7f}  diff= {(b[key]-a[key]):>11.7f}\", file=fout)\n",
    "    fout.close()"
   ]
  },
  {
   "cell_type": "markdown",
   "metadata": {},
   "source": [
    "## 将本来值、预测值输出到文件中"
   ]
  },
  {
   "cell_type": "code",
   "execution_count": 51,
   "metadata": {
    "ExecuteTime": {
     "end_time": "2022-05-28T04:41:52.874268Z",
     "start_time": "2022-05-28T04:41:52.860305Z"
    }
   },
   "outputs": [],
   "source": [
    "file_pre_txt =  model_pre_time + '_pre.txt'\n",
    "path_pre_txt = os.path.join(path_pre,file_pre_txt)"
   ]
  },
  {
   "cell_type": "code",
   "execution_count": 52,
   "metadata": {
    "ExecuteTime": {
     "end_time": "2022-05-28T04:41:52.890226Z",
     "start_time": "2022-05-28T04:41:52.875265Z"
    }
   },
   "outputs": [
    {
     "name": "stdout",
     "output_type": "stream",
     "text": [
      "  No. Label Pre_best     Diff      Error Pre_saved Pre_diff\n"
     ]
    }
   ],
   "source": [
    "fout = open(path_pre_txt,'w')\n",
    "str_no = 'No.'\n",
    "str_lab = 'Label'\n",
    "str_pre = 'Pre_best'\n",
    "str_diff = 'Diff'\n",
    "str_err = 'Error'\n",
    "str_pre2 = 'Pre_saved'\n",
    "str_pre_diff = 'Pre_diff'\n",
    "print(f\"{str_no:>5} {str_lab:>5} {str_pre:>8} {str_diff:>8} {str_err:>10} {str_pre2:>8} {str_pre_diff:>8}\")\n",
    "print(f\"{str_no:>5} {str_lab:>5} {str_pre:>8} {str_diff:>8} {str_err:>10} {str_pre2:>8} {str_pre_diff:>8}\", file=fout)"
   ]
  },
  {
   "cell_type": "code",
   "execution_count": 53,
   "metadata": {
    "ExecuteTime": {
     "end_time": "2022-05-28T04:41:52.938099Z",
     "start_time": "2022-05-28T04:41:52.892248Z"
    }
   },
   "outputs": [
    {
     "name": "stdout",
     "output_type": "stream",
     "text": [
      "    1   8.0   8.2960   0.2960   3.700E-02   8.2960   0.0000\n",
      "    2   8.0   8.2289   0.2289   2.862E-02   8.2289   0.0000\n",
      "    3   8.0   8.0677   0.0677   8.466E-03   8.0677   0.0000\n",
      "    4   8.0   7.9650  -0.0350  -4.380E-03   7.9650   0.0000\n",
      "    5   7.0   7.2986   0.2986   4.265E-02   7.2986   0.0000\n",
      "    6   6.0   5.9576  -0.0424  -7.060E-03   5.9576   0.0000\n",
      "    7  12.0  11.6137  -0.3863  -3.219E-02  11.6137   0.0000\n",
      "    8   9.0   9.0213   0.0213   2.367E-03   9.0213   0.0000\n",
      "    9  13.0  12.5790  -0.4210  -3.239E-02  12.5790   0.0000\n",
      "   10  12.0  11.8219  -0.1781  -1.484E-02  11.8219   0.0000\n",
      "   11   8.0   7.6953  -0.3047  -3.809E-02   7.6953   0.0000\n",
      "   12   7.0   7.1190   0.1190   1.700E-02   7.1190   0.0000\n",
      "   13  14.0  13.9664  -0.0336  -2.402E-03  13.9664   0.0000\n",
      "   14  12.0  11.5421  -0.4579  -3.816E-02  11.5421   0.0000\n",
      "   15   6.0   6.1501   0.1501   2.501E-02   6.1501   0.0000\n",
      "   16  13.0  12.5793  -0.4207  -3.236E-02  12.5793   0.0000\n",
      "   17  12.0  11.8786  -0.1214  -1.012E-02  11.8786   0.0000\n",
      "   18   9.0   8.9058  -0.0942  -1.046E-02   8.9058   0.0000\n",
      "   19   5.0   4.8966  -0.1034  -2.069E-02   4.8966   0.0000\n",
      "   20  12.0  11.3184  -0.6816  -5.680E-02  11.3184   0.0000\n",
      "   21  12.0  11.8880  -0.1120  -9.331E-03  11.8880   0.0000\n",
      "   22   9.0   8.1171  -0.8829  -9.810E-02   8.1171   0.0000\n",
      "   23   8.0   7.7038  -0.2962  -3.702E-02   7.7038   0.0000\n",
      "   24   8.0   7.8739  -0.1261  -1.576E-02   7.8739   0.0000\n",
      "   25   8.0   7.5916  -0.4084  -5.105E-02   7.5916   0.0000\n",
      "   26   5.0   5.4421   0.4421   8.842E-02   5.4421   0.0000\n",
      "   27  12.0  11.6750  -0.3250  -2.708E-02  11.6750   0.0000\n",
      "   28   7.0   6.9252  -0.0748  -1.069E-02   6.9252   0.0000\n",
      "   29  13.0  12.8537  -0.1463  -1.126E-02  12.8537   0.0000\n",
      "   30   8.0   7.7430  -0.2570  -3.212E-02   7.7430   0.0000\n",
      "   31   8.0   7.8870  -0.1130  -1.413E-02   7.8870   0.0000\n",
      "   32  13.0  12.4734  -0.5266  -4.051E-02  12.4734   0.0000\n",
      "   33  12.0  11.7941  -0.2059  -1.716E-02  11.7941   0.0000\n",
      "   34  12.0  11.8303  -0.1697  -1.414E-02  11.8303   0.0000\n",
      "   35   8.0   7.9598  -0.0402  -5.021E-03   7.9598   0.0000\n",
      "   36   6.0   5.9454  -0.0546  -9.092E-03   5.9454   0.0000\n",
      "   37  14.0  13.4730  -0.5270  -3.764E-02  13.4730   0.0000\n",
      "   38   9.0   9.1202   0.1202   1.335E-02   9.1202   0.0000\n",
      "   39   7.0   6.6956  -0.3044  -4.349E-02   6.6956   0.0000\n",
      "   40   8.0   8.1020   0.1020   1.275E-02   8.1020   0.0000\n",
      "   41  12.0  12.1177   0.1177   9.811E-03  12.1177   0.0000\n",
      "   42  12.0  11.8564  -0.1436  -1.197E-02  11.8564   0.0000\n",
      "   43   7.0   6.7345  -0.2655  -3.793E-02   6.7345   0.0000\n",
      "   44   8.0   7.6279  -0.3721  -4.652E-02   7.6279   0.0000\n",
      "   45   9.0   9.0474   0.0474   5.268E-03   9.0474   0.0000\n",
      "   46  12.0  11.7312  -0.2688  -2.240E-02  11.7312   0.0000\n",
      "   47  12.0  12.0264   0.0264   2.199E-03  12.0264   0.0000\n",
      "   48  12.0  12.3010   0.3010   2.508E-02  12.3010   0.0000\n",
      "   49   8.0   8.1531   0.1531   1.913E-02   8.1531   0.0000\n",
      "   50  12.0  12.0088   0.0088   7.349E-04  12.0088   0.0000\n",
      "   51  12.0  11.6121  -0.3879  -3.233E-02  11.6121   0.0000\n",
      "   52   6.0   6.0170   0.0170   2.826E-03   6.0170   0.0000\n",
      "   53   6.0   6.3765   0.3765   6.275E-02   6.3765   0.0000\n",
      "   54  11.0  11.9340   0.9340   8.491E-02  11.9340   0.0000\n",
      "   55  12.0  12.0887   0.0887   7.392E-03  12.0887   0.0000\n",
      "   56   8.0   7.8876  -0.1124  -1.405E-02   7.8876   0.0000\n",
      "   57   6.0   6.0871   0.0871   1.451E-02   6.0871   0.0000\n",
      "   58  12.0  11.7709  -0.2291  -1.909E-02  11.7709   0.0000\n",
      "   59   6.0   5.4716  -0.5284  -8.806E-02   5.4716   0.0000\n",
      "   60   6.0   6.3307   0.3307   5.512E-02   6.3307   0.0000\n",
      "   61   7.0   6.8749  -0.1251  -1.787E-02   6.8749   0.0000\n",
      "   62  12.0  12.4875   0.4875   4.062E-02  12.4875   0.0000\n",
      "   63   9.0   8.8772  -0.1228  -1.364E-02   8.8772   0.0000\n",
      "   64   8.0   7.5723  -0.4277  -5.346E-02   7.5723   0.0000\n",
      "   65   4.0   5.3241   1.3241   3.310E-01   5.3241   0.0000\n",
      "   66   8.0   7.9359  -0.0641  -8.014E-03   7.9359   0.0000\n",
      "   67   6.0   5.9459  -0.0541  -9.012E-03   5.9459   0.0000\n",
      "   68   6.0   5.9082  -0.0918  -1.529E-02   5.9082   0.0000\n",
      "   69   8.0   7.8973  -0.1027  -1.283E-02   7.8973   0.0000\n",
      "   70  12.0  11.3904  -0.6096  -5.080E-02  11.3904   0.0000\n",
      "   71  12.0  11.9091  -0.0909  -7.572E-03  11.9091   0.0000\n",
      "   72  12.0  12.0153   0.0153   1.273E-03  12.0153   0.0000\n",
      "   73   6.0   5.8232  -0.1768  -2.947E-02   5.8232   0.0000\n",
      "   74   9.0   8.9246  -0.0754  -8.377E-03   8.9246   0.0000\n",
      "   75  12.0  11.7782  -0.2218  -1.849E-02  11.7782   0.0000\n",
      "   76   8.0   7.7892  -0.2108  -2.635E-02   7.7892   0.0000\n",
      "   77  10.0  10.3139   0.3139   3.139E-02  10.3139   0.0000\n",
      "   78   9.0   7.8370  -1.1630  -1.292E-01   7.8370   0.0000\n",
      "   79  12.0  12.0075   0.0075   6.225E-04  12.0075   0.0000\n",
      "   80   8.0   8.0928   0.0928   1.161E-02   8.0928   0.0000\n",
      "   81   6.0   5.8811  -0.1189  -1.982E-02   5.8811   0.0000\n",
      "   82  12.0  11.8196  -0.1804  -1.503E-02  11.8196   0.0000\n",
      "   83   6.0   5.0778  -0.9222  -1.537E-01   5.0778   0.0000\n",
      "   84   4.0   6.5236   2.5236   6.309E-01   6.5236   0.0000\n",
      "   85   7.0   6.8621  -0.1379  -1.971E-02   6.8621   0.0000\n",
      "   86  12.0  12.0490   0.0490   4.083E-03  12.0490   0.0000\n",
      "   87  10.0  10.1845   0.1845   1.845E-02  10.1845   0.0000\n",
      "   88  12.0  11.8714  -0.1286  -1.072E-02  11.8714   0.0000\n",
      "   89   9.0   9.0498   0.0498   5.529E-03   9.0498   0.0000\n",
      "   90   8.0   7.3685  -0.6315  -7.894E-02   7.3685   0.0000\n",
      "   91   8.0   7.8434  -0.1566  -1.957E-02   7.8434   0.0000\n",
      "   92   6.0   6.1970   0.1970   3.283E-02   6.1970   0.0000\n",
      "   93  12.0  11.9482  -0.0518  -4.318E-03  11.9482   0.0000\n",
      "   94   9.0   8.7047  -0.2953  -3.281E-02   8.7047   0.0000\n",
      "   95   8.0   8.1318   0.1318   1.648E-02   8.1318   0.0000\n",
      "   96   9.0   8.6844  -0.3156  -3.506E-02   8.6844   0.0000\n",
      "   97   5.0   5.6360   0.6360   1.272E-01   5.6360   0.0000\n",
      "   98   8.0   7.9730  -0.0270  -3.370E-03   7.9730   0.0000\n",
      "   99  10.0   9.9051  -0.0949  -9.487E-03   9.9051   0.0000\n",
      "  100   7.0   6.8506  -0.1494  -2.135E-02   6.8506   0.0000\n",
      "  101   8.0   8.1333   0.1333   1.667E-02   8.1333   0.0000\n",
      "  102  13.0  12.3774  -0.6226  -4.789E-02  12.3774   0.0000\n",
      "  103   7.0   7.0370   0.0370   5.285E-03   7.0370   0.0000\n",
      "  104   7.0   7.1598   0.1598   2.283E-02   7.1598   0.0000\n",
      "  105  10.0  11.2638   1.2638   1.264E-01  11.2638   0.0000\n",
      "  106  12.0  11.6493  -0.3507  -2.923E-02  11.6493   0.0000\n",
      "  107  14.0  12.3937  -1.6063  -1.147E-01  12.3937   0.0000\n",
      "  108  12.0  11.6107  -0.3893  -3.244E-02  11.6107   0.0000\n",
      "  109  12.0  12.0043   0.0043   3.573E-04  12.0043   0.0000\n",
      "  110   8.0   7.2359  -0.7641  -9.551E-02   7.2359   0.0000\n",
      "  111   7.0   7.2539   0.2539   3.628E-02   7.2539   0.0000\n",
      "  112  12.0  11.8149  -0.1851  -1.542E-02  11.8149   0.0000\n",
      "  113   8.0   7.6524  -0.3476  -4.344E-02   7.6524   0.0000\n",
      "  114   7.0   6.7792  -0.2208  -3.154E-02   6.7792   0.0000\n",
      "  115   7.0   7.5506   0.5506   7.866E-02   7.5506   0.0000\n",
      "  116   7.0   6.8420  -0.1580  -2.258E-02   6.8420   0.0000\n",
      "  117   8.0   7.8036  -0.1964  -2.455E-02   7.8036   0.0000\n",
      "  118   8.0   7.8792  -0.1208  -1.510E-02   7.8792   0.0000\n",
      "  119  11.0  11.2291   0.2291   2.083E-02  11.2291   0.0000\n",
      "  120  12.0  11.8102  -0.1898  -1.582E-02  11.8102   0.0000\n",
      "  121  12.0  10.2795  -1.7205  -1.434E-01  10.2795   0.0000\n",
      "  122   9.0   8.8753  -0.1247  -1.385E-02   8.8753   0.0000\n",
      "  123   8.0   8.3377   0.3377   4.221E-02   8.3377   0.0000\n",
      "  124   6.0   6.0618   0.0618   1.031E-02   6.0618   0.0000\n",
      "  125   8.0   7.8595  -0.1405  -1.756E-02   7.8595   0.0000\n",
      "  126   7.0   7.1971   0.1971   2.816E-02   7.1971   0.0000\n",
      "  127  11.0  11.0473   0.0473   4.302E-03  11.0473   0.0000\n",
      "  128  12.0  10.5660  -1.4340  -1.195E-01  10.5660   0.0000\n",
      "  129  12.0  12.0866   0.0866   7.220E-03  12.0866   0.0000\n",
      "  130  12.0  11.6201  -0.3799  -3.166E-02  11.6201   0.0000\n",
      "  131   7.0   7.0167   0.0167   2.387E-03   7.0167   0.0000\n",
      "  132  13.0  13.2644   0.2644   2.034E-02  13.2644   0.0000\n",
      "  133   8.0   8.0157   0.0157   1.968E-03   8.0157   0.0000\n",
      "  134   7.0   6.7461  -0.2539  -3.627E-02   6.7461   0.0000\n",
      "  135  12.0  12.3740   0.3740   3.116E-02  12.3740   0.0000\n",
      "  136   8.0   7.6377  -0.3623  -4.529E-02   7.6377   0.0000\n",
      "  137   5.0   5.0376   0.0376   7.527E-03   5.0376   0.0000\n",
      "  138   6.0   6.1962   0.1962   3.271E-02   6.1962   0.0000\n",
      "  139   8.0   7.9409  -0.0591  -7.393E-03   7.9409   0.0000\n",
      "  140   8.0   7.5643  -0.4357  -5.446E-02   7.5643   0.0000\n",
      "  141   9.0   9.0799   0.0799   8.877E-03   9.0799   0.0000\n",
      "  142  13.0  11.6657  -1.3343  -1.026E-01  11.6657   0.0000\n",
      "  143   6.0   6.0470   0.0470   7.835E-03   6.0470   0.0000\n",
      "  144   7.0   7.1038   0.1038   1.482E-02   7.1038   0.0000\n",
      "  145  12.0  12.4228   0.4228   3.523E-02  12.4228   0.0000\n",
      "  146  12.0  11.8816  -0.1184  -9.867E-03  11.8816   0.0000\n",
      "  147   9.0   9.0225   0.0225   2.503E-03   9.0225   0.0000\n",
      "  148   9.0   8.9030  -0.0970  -1.078E-02   8.9030   0.0000\n",
      "  149  12.0  11.9499  -0.0501  -4.179E-03  11.9499   0.0000\n",
      "  150  12.0  11.9671  -0.0329  -2.745E-03  11.9671   0.0000\n",
      "  151   8.0   8.0323   0.0323   4.033E-03   8.0323   0.0000\n",
      "  152   8.0   7.5546  -0.4454  -5.567E-02   7.5546   0.0000\n",
      "  153   8.0   8.0518   0.0518   6.477E-03   8.0518   0.0000\n",
      "  154   8.0   7.8805  -0.1195  -1.494E-02   7.8805   0.0000\n",
      "  155   6.0   6.4762   0.4762   7.937E-02   6.4762   0.0000\n",
      "  156   6.0   6.1795   0.1795   2.992E-02   6.1795   0.0000\n",
      "  157  13.0  12.0694  -0.9306  -7.158E-02  12.0694   0.0000\n",
      "  158   9.0   8.0790  -0.9210  -1.023E-01   8.0790   0.0000\n",
      "  159  13.0  10.9166  -2.0834  -1.603E-01  10.9166   0.0000\n",
      "  160  12.0  10.1959  -1.8041  -1.503E-01  10.1959   0.0000\n",
      "  161   8.0   7.8200  -0.1800  -2.250E-02   7.8200   0.0000\n",
      "  162   7.0   6.9264  -0.0736  -1.051E-02   6.9264   0.0000\n",
      "  163  11.0  10.8316  -0.1684  -1.531E-02  10.8316   0.0000\n",
      "  164  12.0  11.3058  -0.6942  -5.785E-02  11.3058   0.0000\n",
      "  165   6.0   5.9010  -0.0990  -1.650E-02   5.9010   0.0000\n",
      "  166  13.0  12.8717  -0.1283  -9.870E-03  12.8717   0.0000\n",
      "  167  12.0  12.0974   0.0974   8.114E-03  12.0974   0.0000\n",
      "  168   9.0   8.9043  -0.0957  -1.063E-02   8.9043   0.0000\n",
      "  169   4.0   4.1855   0.1855   4.638E-02   4.1855   0.0000\n",
      "  170  12.0  12.3588   0.3588   2.990E-02  12.3588   0.0000\n",
      "  171  12.0  11.6559  -0.3441  -2.867E-02  11.6559   0.0000\n",
      "  172  10.0   9.2587  -0.7413  -7.413E-02   9.2587   0.0000\n",
      "  173   8.0   7.9386  -0.0614  -7.680E-03   7.9386   0.0000\n",
      "  174   8.0   8.2087   0.2087   2.609E-02   8.2087   0.0000\n",
      "  175   8.0   7.9596  -0.0404  -5.053E-03   7.9596   0.0000\n",
      "  176   5.0   5.0181   0.0181   3.621E-03   5.0181   0.0000\n",
      "  177  12.0  12.0487   0.0487   4.058E-03  12.0487   0.0000\n",
      "  178   7.0   7.1664   0.1664   2.378E-02   7.1664   0.0000\n",
      "  179  13.0  12.5230  -0.4770  -3.669E-02  12.5230   0.0000\n",
      "  180   6.0   6.6553   0.6553   1.092E-01   6.6553   0.0000\n",
      "  181   8.0   8.1771   0.1771   2.214E-02   8.1771   0.0000\n",
      "  182  12.0  12.1713   0.1713   1.428E-02  12.1713   0.0000\n",
      "  183  12.0  12.3488   0.3488   2.907E-02  12.3488   0.0000\n",
      "  184  12.0  11.4356  -0.5644  -4.703E-02  11.4356   0.0000\n",
      "  185   6.0   6.6291   0.6291   1.049E-01   6.6291   0.0000\n",
      "  186   6.0   5.8094  -0.1906  -3.176E-02   5.8094   0.0000\n",
      "  187  11.0  10.7894  -0.2106  -1.914E-02  10.7894   0.0000\n",
      "  188   9.0   8.8811  -0.1189  -1.322E-02   8.8811   0.0000\n",
      "  189   7.0   7.1857   0.1857   2.652E-02   7.1857   0.0000\n",
      "  190   8.0   7.6858  -0.3142  -3.928E-02   7.6858   0.0000\n",
      "  191  14.0  12.8062  -1.1938  -8.527E-02  12.8062   0.0000\n",
      "  192  13.0  12.6976  -0.3024  -2.326E-02  12.6976   0.0000\n",
      "  193   5.0   4.8943  -0.1057  -2.114E-02   4.8943   0.0000\n",
      "  194   7.0   6.9024  -0.0976  -1.395E-02   6.9024   0.0000\n",
      "  195   9.0   8.9854  -0.0146  -1.620E-03   8.9854   0.0000\n",
      "  196  12.0  11.3507  -0.6493  -5.411E-02  11.3507   0.0000\n",
      "  197  12.0  11.5461  -0.4539  -3.782E-02  11.5461   0.0000\n",
      "  198  12.0  11.5031  -0.4969  -4.141E-02  11.5031   0.0000\n",
      "  199   8.0   7.8970  -0.1030  -1.288E-02   7.8970   0.0000\n",
      "  200  12.0  11.8715  -0.1285  -1.071E-02  11.8715   0.0000\n",
      "  201  12.0  12.0455   0.0455   3.793E-03  12.0455   0.0000\n",
      "  202   6.0   6.3514   0.3514   5.857E-02   6.3514   0.0000\n",
      "  203   8.0   7.8947  -0.1053  -1.316E-02   7.8947   0.0000\n",
      "  204  12.0  11.6580  -0.3420  -2.850E-02  11.6580   0.0000\n",
      "  205  12.0  11.7531  -0.2469  -2.057E-02  11.7531   0.0000\n",
      "  206   8.0   7.8563  -0.1437  -1.797E-02   7.8563   0.0000\n",
      "  207   6.0   5.8657  -0.1343  -2.238E-02   5.8657   0.0000\n",
      "  208  11.0  10.8747  -0.1253  -1.139E-02  10.8747   0.0000\n",
      "  209   6.0   6.4398   0.4398   7.330E-02   6.4398   0.0000\n",
      "  210   6.0   6.6784   0.6784   1.131E-01   6.6784   0.0000\n",
      "  211   7.0   6.7249  -0.2751  -3.930E-02   6.7249   0.0000\n",
      "  212  12.0  11.9291  -0.0709  -5.911E-03  11.9291   0.0000\n",
      "  213   8.0   8.0232   0.0232   2.896E-03   8.0232   0.0000\n",
      "  214   9.0   8.3419  -0.6581  -7.312E-02   8.3419   0.0000\n",
      "  215   8.0   7.8234  -0.1766  -2.207E-02   7.8234   0.0000\n",
      "  216   8.0   7.4622  -0.5378  -6.722E-02   7.4622   0.0000\n",
      "  217   5.0   4.8458  -0.1542  -3.084E-02   4.8458   0.0000\n",
      "  218   6.0   5.7559  -0.2441  -4.068E-02   5.7559   0.0000\n",
      "  219   7.0   7.1233   0.1233   1.762E-02   7.1233   0.0000\n",
      "  220  12.0  12.2134   0.2134   1.779E-02  12.2134   0.0000\n",
      "  221  12.0  11.9659  -0.0341  -2.840E-03  11.9659   0.0000\n",
      "  222  11.0  11.2305   0.2305   2.095E-02  11.2305   0.0000\n",
      "  223   6.0   6.1181   0.1181   1.969E-02   6.1181   0.0000\n",
      "  224   9.0   8.9607  -0.0393  -4.368E-03   8.9607   0.0000\n",
      "  225  13.0  12.9814  -0.0186  -1.431E-03  12.9814   0.0000\n",
      "  226   8.0   8.3644   0.3644   4.555E-02   8.3644   0.0000\n",
      "  227   6.0   5.8682  -0.1318  -2.196E-02   5.8682   0.0000\n",
      "  228   8.0   8.4046   0.4046   5.057E-02   8.4046   0.0000\n",
      "  229  12.0  12.0259   0.0259   2.157E-03  12.0259   0.0000\n",
      "  230   8.0   8.3185   0.3185   3.982E-02   8.3185   0.0000\n",
      "  231   6.0   6.1856   0.1856   3.093E-02   6.1856   0.0000\n",
      "  232  12.0  11.4762  -0.5238  -4.365E-02  11.4762   0.0000\n",
      "  233   6.0   5.6148  -0.3852  -6.419E-02   5.6148   0.0000\n",
      "  234   6.0   5.9556  -0.0444  -7.399E-03   5.9556   0.0000\n",
      "  235   7.0   6.6027  -0.3973  -5.675E-02   6.6027   0.0000\n",
      "  236  12.0  11.9550  -0.0450  -3.746E-03  11.9550   0.0000\n",
      "  237   9.0   8.6572  -0.3428  -3.809E-02   8.6572   0.0000\n",
      "  238  12.0  12.1839   0.1839   1.533E-02  12.1839   0.0000\n",
      "  239   9.0   8.8018  -0.1982  -2.203E-02   8.8018   0.0000\n",
      "  240   7.0   6.8676  -0.1324  -1.891E-02   6.8676   0.0000\n",
      "  241   8.0   7.8123  -0.1877  -2.346E-02   7.8123   0.0000\n",
      "  242   6.0   6.0917   0.0917   1.529E-02   6.0917   0.0000\n",
      "  243  12.0  11.5849  -0.4151  -3.459E-02  11.5849   0.0000\n",
      "  244   9.0   8.8676  -0.1324  -1.471E-02   8.8676   0.0000\n",
      "  245   7.0   7.2440   0.2440   3.486E-02   7.2440   0.0000\n",
      "  246   9.0   8.7623  -0.2377  -2.641E-02   8.7623   0.0000\n",
      "  247   4.0   4.1939   0.1939   4.848E-02   4.1939   0.0000\n",
      "  248   8.0   7.8233  -0.1767  -2.209E-02   7.8233   0.0000\n",
      "  249  11.0  10.4530  -0.5470  -4.973E-02  10.4530   0.0000\n",
      "  250   8.0   7.7371  -0.2629  -3.287E-02   7.7371   0.0000\n",
      "  251   8.0   7.6654  -0.3346  -4.182E-02   7.6654   0.0000\n",
      "  252  12.0  11.7747  -0.2253  -1.878E-02  11.7747   0.0000\n",
      "  253   6.0   6.3002   0.3002   5.004E-02   6.3002   0.0000\n",
      "  254   7.0   7.2505   0.2505   3.578E-02   7.2505   0.0000\n",
      "  255  11.0  10.1638  -0.8362  -7.602E-02  10.1638   0.0000\n",
      "  256  12.0  11.9697  -0.0303  -2.522E-03  11.9697   0.0000\n",
      "  257  13.0  13.0974   0.0974   7.491E-03  13.0974   0.0000\n",
      "  258  12.0  12.0861   0.0861   7.176E-03  12.0861   0.0000\n",
      "  259   8.0   8.2197   0.2197   2.747E-02   8.2197   0.0000\n",
      "  260   7.0   6.9311  -0.0689  -9.838E-03   6.9311   0.0000\n",
      "  261  12.0  11.9406  -0.0594  -4.954E-03  11.9406   0.0000\n",
      "  262   8.0   7.7502  -0.2498  -3.122E-02   7.7502   0.0000\n",
      "  263   7.0   6.3122  -0.6878  -9.826E-02   6.3122   0.0000\n",
      "  264   6.0   6.0725   0.0725   1.208E-02   6.0725   0.0000\n",
      "  265   7.0   7.0493   0.0493   7.037E-03   7.0493   0.0000\n",
      "  266   7.0   7.3355   0.3355   4.793E-02   7.3355   0.0000\n",
      "  267   8.0   7.8294  -0.1706  -2.132E-02   7.8294   0.0000\n",
      "  268   9.0   8.9149  -0.0851  -9.458E-03   8.9149   0.0000\n",
      "  269  12.0  11.7529  -0.2471  -2.060E-02  11.7529   0.0000\n",
      "  270   9.0   8.9888  -0.0112  -1.242E-03   8.9888   0.0000\n",
      "  271   8.0   7.8642  -0.1358  -1.697E-02   7.8642   0.0000\n",
      "  272   6.0   6.1602   0.1602   2.670E-02   6.1602   0.0000\n",
      "  273   8.0   7.8438  -0.1562  -1.953E-02   7.8438   0.0000\n",
      "  274  11.0  10.9557  -0.0443  -4.030E-03  10.9557   0.0000\n",
      "  275  12.0  11.4168  -0.5832  -4.860E-02  11.4168   0.0000\n",
      "  276  12.0  12.0156   0.0156   1.296E-03  12.0156   0.0000\n",
      "  277  12.0  11.9552  -0.0448  -3.730E-03  11.9552   0.0000\n",
      "  278   9.0   8.6497  -0.3503  -3.893E-02   8.6497   0.0000\n",
      "  279  12.0  12.5234   0.5234   4.361E-02  12.5234   0.0000\n",
      "  280   9.0   7.7371  -1.2629  -1.403E-01   7.7371   0.0000\n",
      "  281   7.0   6.5403  -0.4597  -6.567E-02   6.5403   0.0000\n",
      "  282  12.0  11.6413  -0.3587  -2.989E-02  11.6413   0.0000\n",
      "  283   7.0   7.1353   0.1353   1.932E-02   7.1353   0.0000\n",
      "  284   6.0   5.9613  -0.0387  -6.456E-03   5.9613   0.0000\n",
      "  285   7.0   7.3136   0.3136   4.480E-02   7.3136   0.0000\n",
      "  286   8.0   7.9926  -0.0074  -9.201E-04   7.9926   0.0000\n",
      "  287   8.0   7.9743  -0.0257  -3.215E-03   7.9743   0.0000\n",
      "  288   9.0   9.0269   0.0269   2.992E-03   9.0269   0.0000\n",
      "  289  12.0  11.9917  -0.0083  -6.957E-04  11.9917   0.0000\n",
      "  290   6.0   6.0492   0.0492   8.202E-03   6.0492   0.0000\n",
      "  291   7.0   6.9864  -0.0136  -1.936E-03   6.9864   0.0000\n",
      "  292  14.0  12.9080  -1.0920  -7.800E-02  12.9080   0.0000\n",
      "  293  12.0  11.9643  -0.0357  -2.972E-03  11.9643   0.0000\n",
      "  294   9.0   8.9950  -0.0050  -5.515E-04   8.9950   0.0000\n",
      "  295   9.0   8.7855  -0.2145  -2.383E-02   8.7855   0.0000\n",
      "  296  12.0  12.0519   0.0519   4.325E-03  12.0519   0.0000\n",
      "  297  12.0  11.8862  -0.1138  -9.484E-03  11.8862   0.0000\n",
      "  298   8.0   8.0859   0.0859   1.074E-02   8.0859   0.0000\n",
      "  299   6.0   6.1992   0.1992   3.321E-02   6.1992   0.0000\n",
      "  300   8.0   7.6861  -0.3139  -3.924E-02   7.6861   0.0000\n",
      "  301   7.0   7.0634   0.0634   9.064E-03   7.0634   0.0000\n",
      "  302   8.0   8.1340   0.1340   1.675E-02   8.1340   0.0000\n",
      "  303   6.0   5.9649  -0.0351  -5.848E-03   5.9649   0.0000\n",
      "  304   9.0   8.5368  -0.4632  -5.147E-02   8.5368   0.0000\n",
      "  305  12.0  11.2889  -0.7111  -5.926E-02  11.2889   0.0000\n",
      "  306  12.0  10.6402  -1.3598  -1.133E-01  10.6402   0.0000\n",
      "  307   8.0   7.9716  -0.0284  -3.550E-03   7.9716   0.0000\n",
      "  308   7.0   6.6856  -0.3144  -4.492E-02   6.6856   0.0000\n",
      "  309  11.0  11.8294   0.8294   7.540E-02  11.8294   0.0000\n",
      "  310  12.0  11.8687  -0.1313  -1.094E-02  11.8687   0.0000\n",
      "  311   6.0   6.5401   0.5401   9.001E-02   6.5401   0.0000\n",
      "  312  12.0  11.9701  -0.0299  -2.495E-03  11.9701   0.0000\n",
      "  313  12.0  12.1381   0.1381   1.151E-02  12.1381   0.0000\n",
      "  314   9.0   9.4996   0.4996   5.551E-02   9.4996   0.0000\n",
      "  315   4.0   4.1134   0.1134   2.835E-02   4.1134   0.0000\n",
      "  316  12.0  11.8381  -0.1619  -1.349E-02  11.8381   0.0000\n",
      "  317  12.0  12.0569   0.0569   4.740E-03  12.0569   0.0000\n",
      "  318   7.0   6.9209  -0.0791  -1.131E-02   6.9209   0.0000\n",
      "  319   8.0   8.0747   0.0747   9.334E-03   8.0747   0.0000\n",
      "  320   8.0   8.3060   0.3060   3.825E-02   8.3060   0.0000\n",
      "  321   8.0   7.9494  -0.0506  -6.330E-03   7.9494   0.0000\n",
      "  322   5.0   5.0142   0.0142   2.840E-03   5.0142   0.0000\n",
      "  323  12.0  11.7066  -0.2934  -2.445E-02  11.7066   0.0000\n",
      "  324   7.0   5.7761  -1.2239  -1.748E-01   5.7761   0.0000\n",
      "  325  13.0  13.7737   0.7737   5.951E-02  13.7737   0.0000\n",
      "  326   7.0   6.7356  -0.2644  -3.778E-02   6.7356   0.0000\n",
      "  327   8.0   7.9531  -0.0469  -5.865E-03   7.9531   0.0000\n",
      "  328  12.0  12.2073   0.2073   1.727E-02  12.2073   0.0000\n",
      "  329  13.0  13.1605   0.1605   1.235E-02  13.1605   0.0000\n",
      "  330  12.0  11.7250  -0.2750  -2.292E-02  11.7250   0.0000\n",
      "  331   8.0   8.2697   0.2697   3.372E-02   8.2697   0.0000\n",
      "  332   4.0   4.3199   0.3199   7.998E-02   4.3199   0.0000\n",
      "  333  12.0  12.6928   0.6928   5.773E-02  12.6928   0.0000\n",
      "  334   9.0   9.0975   0.0975   1.083E-02   9.0975   0.0000\n",
      "  335   7.0   7.1391   0.1391   1.987E-02   7.1391   0.0000\n",
      "  336   8.0   8.1303   0.1303   1.629E-02   8.1303   0.0000\n",
      "  337  12.0  12.1973   0.1973   1.644E-02  12.1973   0.0000\n",
      "  338  13.0  12.8805  -0.1195  -9.193E-03  12.8805   0.0000\n",
      "  339   6.0   6.3209   0.3209   5.349E-02   6.3209   0.0000\n",
      "  340   7.0   6.8815  -0.1185  -1.692E-02   6.8815   0.0000\n",
      "  341   9.0   8.7892  -0.2108  -2.342E-02   8.7892   0.0000\n",
      "  342  12.0  11.8331  -0.1669  -1.391E-02  11.8331   0.0000\n",
      "  343  12.0  11.6063  -0.3937  -3.281E-02  11.6063   0.0000\n",
      "  344  12.0  12.2928   0.2928   2.440E-02  12.2928   0.0000\n",
      "  345   8.0   8.1363   0.1363   1.704E-02   8.1363   0.0000\n",
      "  346  12.0  11.7553  -0.2447  -2.039E-02  11.7553   0.0000\n",
      "  347  12.0  11.9468  -0.0532  -4.434E-03  11.9468   0.0000\n",
      "  348   8.0   7.6990  -0.3010  -3.763E-02   7.6990   0.0000\n",
      "  349   8.0   8.0823   0.0823   1.029E-02   8.0823   0.0000\n",
      "  350  12.0  11.7111  -0.2889  -2.407E-02  11.7111   0.0000\n",
      "  351  12.0  12.1832   0.1832   1.527E-02  12.1832   0.0000\n",
      "  352   8.0   7.4965  -0.5035  -6.294E-02   7.4965   0.0000\n",
      "  353   6.0   6.0113   0.0113   1.884E-03   6.0113   0.0000\n",
      "  354  12.0  11.7188  -0.2812  -2.343E-02  11.7188   0.0000\n",
      "  355   6.0   5.9710  -0.0290  -4.838E-03   5.9710   0.0000\n",
      "  356   5.0   5.7376   0.7376   1.475E-01   5.7376   0.0000\n",
      "  357   7.0   6.8693  -0.1307  -1.868E-02   6.8693   0.0000\n",
      "  358  12.0  11.9782  -0.0218  -1.815E-03  11.9782   0.0000\n",
      "  359   8.0   8.2446   0.2446   3.057E-02   8.2446   0.0000\n",
      "  360   7.0   7.3325   0.3325   4.750E-02   7.3325   0.0000\n",
      "  361   7.0   7.1640   0.1640   2.343E-02   7.1640   0.0000\n",
      "  362   8.0   7.5525  -0.4475  -5.594E-02   7.5525   0.0000\n",
      "  363   5.0   4.4456  -0.5544  -1.109E-01   4.4456   0.0000\n",
      "  364   7.0   6.8901  -0.1099  -1.569E-02   6.8901   0.0000\n",
      "  365   8.0   7.7476  -0.2524  -3.155E-02   7.7476   0.0000\n",
      "  366  12.0  11.9670  -0.0330  -2.747E-03  11.9670   0.0000\n",
      "  367  12.0  11.6293  -0.3707  -3.089E-02  11.6293   0.0000\n",
      "  368  12.0  11.9145  -0.0855  -7.125E-03  11.9145   0.0000\n",
      "  369   6.0   5.9307  -0.0693  -1.156E-02   5.9307   0.0000\n",
      "  370   9.0   9.3519   0.3519   3.910E-02   9.3519   0.0000\n",
      "  371  12.0  11.3383  -0.6617  -5.514E-02  11.3383   0.0000\n",
      "  372   8.0   8.0942   0.0942   1.177E-02   8.0942   0.0000\n",
      "  373   7.0   7.8617   0.8617   1.231E-01   7.8617   0.0000\n",
      "  374   9.0   9.2335   0.2335   2.595E-02   9.2335   0.0000\n",
      "  375  12.0  11.9913  -0.0087  -7.270E-04  11.9913   0.0000\n",
      "  376   8.0   7.9303  -0.0697  -8.707E-03   7.9303   0.0000\n",
      "  377   6.0   6.1076   0.1076   1.793E-02   6.1076   0.0000\n",
      "  378  11.0  10.3218  -0.6782  -6.165E-02  10.3218   0.0000\n",
      "  379   6.0   6.2131   0.2131   3.552E-02   6.2131   0.0000\n",
      "  380   3.0   4.8240   1.8240   6.080E-01   4.8240   0.0000\n",
      "  381   7.0   7.1700   0.1700   2.428E-02   7.1700   0.0000\n",
      "  382  12.0  12.2686   0.2686   2.238E-02  12.2686   0.0000\n",
      "  383   9.0   8.7379  -0.2621  -2.912E-02   8.7379   0.0000\n",
      "  384  12.0  12.0274   0.0274   2.287E-03  12.0274   0.0000\n",
      "  385   9.0   9.1085   0.1085   1.206E-02   9.1085   0.0000\n",
      "  386   7.0   6.9356  -0.0644  -9.195E-03   6.9356   0.0000\n",
      "  387   8.0   8.1489   0.1489   1.862E-02   8.1489   0.0000\n",
      "  388   6.0   6.1561   0.1561   2.601E-02   6.1561   0.0000\n",
      "  389  12.0  12.3194   0.3194   2.662E-02  12.3194   0.0000\n",
      "  390   8.0   8.0849   0.0849   1.061E-02   8.0849   0.0000\n",
      "  391   8.0   8.0577   0.0577   7.207E-03   8.0577   0.0000\n",
      "  392   9.0   9.0301   0.0301   3.341E-03   9.0301   0.0000\n",
      "  393   6.0   5.9025  -0.0975  -1.626E-02   5.9025   0.0000\n",
      "  394   8.0   8.0459   0.0459   5.732E-03   8.0459   0.0000\n",
      "  395  11.0  10.8604  -0.1396  -1.269E-02  10.8604   0.0000\n",
      "  396   8.0   8.2351   0.2351   2.939E-02   8.2351   0.0000\n",
      "  397   8.0   8.1515   0.1515   1.894E-02   8.1515   0.0000\n",
      "  398  12.0  11.5821  -0.4179  -3.482E-02  11.5821   0.0000\n",
      "  399   7.0   7.0456   0.0456   6.516E-03   7.0456   0.0000\n",
      "  400   7.0   6.8668  -0.1332  -1.903E-02   6.8668   0.0000\n",
      "  401   9.0   8.4902  -0.5098  -5.664E-02   8.4902   0.0000\n",
      "  402  13.0  12.4524  -0.5476  -4.213E-02  12.4524   0.0000\n",
      "  403  13.0  12.8551  -0.1449  -1.115E-02  12.8551   0.0000\n",
      "  404  12.0  12.2723   0.2723   2.269E-02  12.2723   0.0000\n",
      "  405   8.0   7.7834  -0.2166  -2.707E-02   7.7834   0.0000\n",
      "  406   6.0   6.5389   0.5389   8.982E-02   6.5389   0.0000\n",
      "  407  12.0  11.2947  -0.7053  -5.877E-02  11.2947   0.0000\n",
      "  408   7.0   7.4640   0.4640   6.628E-02   7.4640   0.0000\n",
      "  409  10.0   8.0491  -1.9509  -1.951E-01   8.0491   0.0000\n",
      "  410   8.0   7.4518  -0.5482  -6.852E-02   7.4518   0.0000\n",
      "  411   7.0   6.0117  -0.9883  -1.412E-01   6.0117   0.0000\n",
      "  412   8.0   8.0820   0.0820   1.024E-02   8.0820   0.0000\n",
      "  413   8.0   7.9447  -0.0553  -6.911E-03   7.9447   0.0000\n",
      "  414  11.0  10.8915  -0.1085  -9.867E-03  10.8915   0.0000\n",
      "  415  12.0  12.2340   0.2340   1.950E-02  12.2340   0.0000\n",
      "  416  11.0  10.7907  -0.2093  -1.903E-02  10.7907   0.0000\n",
      "  417   9.0   9.3184   0.3184   3.537E-02   9.3184   0.0000\n",
      "  418   8.0   8.0712   0.0712   8.903E-03   8.0712   0.0000\n",
      "  419   6.0   5.8851  -0.1149  -1.914E-02   5.8851   0.0000\n",
      "  420   8.0   8.0959   0.0959   1.198E-02   8.0959   0.0000\n",
      "  421   7.0   6.8166  -0.1834  -2.620E-02   6.8166   0.0000\n",
      "  422  10.0  10.8519   0.8519   8.519E-02  10.8519   0.0000\n",
      "  423  12.0  12.2142   0.2142   1.785E-02  12.2142   0.0000\n",
      "  424  14.0  12.9783  -1.0217  -7.298E-02  12.9783   0.0000\n",
      "  425  12.0  11.6260  -0.3740  -3.117E-02  11.6260   0.0000\n",
      "  426   9.0   9.1975   0.1975   2.194E-02   9.1975   0.0000\n",
      "  427  13.0  13.0001   0.0001   5.795E-06  13.0001   0.0000\n",
      "  428   7.0   6.4584  -0.5416  -7.737E-02   6.4584   0.0000\n",
      "  429   7.0   6.6614  -0.3386  -4.837E-02   6.6614   0.0000\n",
      "  430  12.0  11.7338  -0.2662  -2.219E-02  11.7338   0.0000\n",
      "  431  10.0   8.0744  -1.9256  -1.926E-01   8.0744   0.0000\n",
      "  432   6.0   5.9434  -0.0566  -9.433E-03   5.9434   0.0000\n",
      "  433   6.0   6.4116   0.4116   6.861E-02   6.4116   0.0000\n",
      "  434   8.0   7.7930  -0.2070  -2.587E-02   7.7930   0.0000\n",
      "  435   8.0   8.0345   0.0345   4.318E-03   8.0345   0.0000\n",
      "  436   9.0   9.1231   0.1231   1.367E-02   9.1231   0.0000\n",
      "  437  12.0  12.4839   0.4839   4.033E-02  12.4839   0.0000\n",
      "  438   6.0   6.2474   0.2474   4.123E-02   6.2474   0.0000\n",
      "  439   7.0   7.0547   0.0547   7.815E-03   7.0547   0.0000\n",
      "  440  13.0  12.1550  -0.8450  -6.500E-02  12.1550   0.0000\n",
      "  441  12.0  11.9299  -0.0701  -5.845E-03  11.9299   0.0000\n",
      "  442   9.0   8.5333  -0.4667  -5.186E-02   8.5333   0.0000\n",
      "  443   9.0   8.6058  -0.3942  -4.380E-02   8.6058   0.0000\n",
      "  444  12.0  12.0294   0.0294   2.447E-03  12.0294   0.0000\n",
      "  445  12.0  11.8645  -0.1355  -1.130E-02  11.8645   0.0000\n",
      "  446   8.0   7.7435  -0.2565  -3.206E-02   7.7435   0.0000\n",
      "  447   7.0   6.9788  -0.0212  -3.029E-03   6.9788   0.0000\n",
      "  448   8.0   7.8584  -0.1416  -1.770E-02   7.8584   0.0000\n",
      "  449   7.0   7.6457   0.6457   9.225E-02   7.6457   0.0000\n",
      "  450   8.0   7.8635  -0.1365  -1.706E-02   7.8635   0.0000\n",
      "  451   4.0   4.7259   0.7259   1.815E-01   4.7259   0.0000\n",
      "  452  13.0  11.6758  -1.3242  -1.019E-01  11.6758   0.0000\n",
      "  453   9.0   8.6077  -0.3923  -4.359E-02   8.6077   0.0000\n",
      "  454  12.0  12.6008   0.6008   5.007E-02  12.6008   0.0000\n",
      "  455  12.0  12.4450   0.4450   3.708E-02  12.4450   0.0000\n",
      "  456   8.0   7.7064  -0.2936  -3.670E-02   7.7064   0.0000\n",
      "  457   8.0   8.1914   0.1914   2.393E-02   8.1914   0.0000\n",
      "  458  13.0  13.3499   0.3499   2.691E-02  13.3499   0.0000\n",
      "  459  12.0  11.7867  -0.2133  -1.777E-02  11.7867   0.0000\n",
      "  460   6.0   5.7724  -0.2276  -3.793E-02   5.7724   0.0000\n",
      "  461  13.0  13.2239   0.2239   1.722E-02  13.2239   0.0000\n",
      "  462  12.0  11.3954  -0.6046  -5.039E-02  11.3954   0.0000\n",
      "  463   9.0   9.3179   0.3179   3.533E-02   9.3179   0.0000\n",
      "  464   4.0   4.0595   0.0595   1.488E-02   4.0595   0.0000\n",
      "  465  12.0  12.2172   0.2172   1.810E-02  12.2172   0.0000\n",
      "  466  12.0  12.0249   0.0249   2.078E-03  12.0249   0.0000\n",
      "  467   8.0   7.9998  -0.0002  -2.271E-05   7.9998   0.0000\n",
      "  468   7.0   6.9494  -0.0506  -7.233E-03   6.9494   0.0000\n",
      "  469   8.0   8.1867   0.1867   2.334E-02   8.1867   0.0000\n",
      "  470   8.0   8.5277   0.5277   6.596E-02   8.5277   0.0000\n",
      "  471   5.0   5.6720   0.6720   1.344E-01   5.6720   0.0000\n",
      "  472  12.0  12.3195   0.3195   2.662E-02  12.3195   0.0000\n",
      "  473   6.0   5.8236  -0.1764  -2.940E-02   5.8236   0.0000\n",
      "  474  12.0  12.4708   0.4708   3.924E-02  12.4708   0.0000\n",
      "  475   8.0   8.2008   0.2008   2.509E-02   8.2008   0.0000\n",
      "  476   7.0   7.0441   0.0441   6.307E-03   7.0441   0.0000\n",
      "  477  12.0  11.9446  -0.0554  -4.620E-03  11.9446   0.0000\n",
      "  478  13.0  12.5807  -0.4193  -3.225E-02  12.5807   0.0000\n",
      "  479  12.0  11.6259  -0.3741  -3.117E-02  11.6259   0.0000\n",
      "  480   9.0   9.7050   0.7050   7.834E-02   9.7050   0.0000\n",
      "  481   7.0   6.8553  -0.1447  -2.066E-02   6.8553   0.0000\n",
      "  482  14.0  13.1336  -0.8664  -6.189E-02  13.1336   0.0000\n",
      "  483   9.0   9.3380   0.3380   3.756E-02   9.3380   0.0000\n",
      "  484   6.0   5.9729  -0.0271  -4.515E-03   5.9729   0.0000\n",
      "  485   8.0   7.8853  -0.1147  -1.434E-02   7.8853   0.0000\n",
      "  486  12.0  12.1251   0.1251   1.043E-02  12.1251   0.0000\n",
      "  487  13.0  12.7858  -0.2142  -1.648E-02  12.7858   0.0000\n",
      "  488   7.0   6.9149  -0.0851  -1.216E-02   6.9149   0.0000\n",
      "  489   6.0   6.0517   0.0517   8.619E-03   6.0517   0.0000\n",
      "  490   7.0   7.3281   0.3281   4.688E-02   7.3281   0.0000\n",
      "  491  12.0  11.2058  -0.7942  -6.618E-02  11.2058   0.0000\n",
      "  492  12.0  12.0392   0.0392   3.264E-03  12.0392   0.0000\n",
      "  493  12.0  11.9857  -0.0143  -1.192E-03  11.9857   0.0000\n",
      "  494   8.0   8.1053   0.1053   1.316E-02   8.1053   0.0000\n",
      "  495  12.0  11.3534  -0.6466  -5.388E-02  11.3534   0.0000\n",
      "  496  12.0  11.9498  -0.0502  -4.182E-03  11.9498   0.0000\n",
      "  497   7.0   7.3062   0.3062   4.375E-02   7.3062   0.0000\n",
      "  498   8.0   7.8498  -0.1502  -1.877E-02   7.8498   0.0000\n",
      "  499  12.0  12.0529   0.0529   4.412E-03  12.0529   0.0000\n",
      "  500  12.0  12.1535   0.1535   1.279E-02  12.1535   0.0000\n",
      "  501   8.0   8.3239   0.3239   4.048E-02   8.3239   0.0000\n",
      "  502   6.0   5.8308  -0.1692  -2.820E-02   5.8308   0.0000\n",
      "  503  10.0  10.4901   0.4901   4.901E-02  10.4901   0.0000\n",
      "  504   6.0   5.5930  -0.4070  -6.783E-02   5.5930   0.0000\n",
      "  505   5.0   4.8043  -0.1957  -3.913E-02   4.8043   0.0000\n",
      "  506   6.0   5.9107  -0.0893  -1.488E-02   5.9107   0.0000\n",
      "  507  12.0  11.6847  -0.3153  -2.627E-02  11.6847   0.0000\n",
      "  508   8.0   7.6910  -0.3090  -3.863E-02   7.6910   0.0000\n",
      "  509   6.0   5.5346  -0.4654  -7.757E-02   5.5346   0.0000\n",
      "  510   7.0   6.9764  -0.0236  -3.371E-03   6.9764   0.0000\n",
      "  511   8.0   8.1653   0.1653   2.067E-02   8.1653   0.0000\n",
      "  512   5.0   4.8541  -0.1459  -2.918E-02   4.8541   0.0000\n",
      "  513   6.0   5.8879  -0.1121  -1.869E-02   5.8879   0.0000\n",
      "  514   8.0   7.8911  -0.1089  -1.361E-02   7.8911   0.0000\n",
      "  515  12.0  12.0112   0.0112   9.368E-04  12.0112   0.0000\n",
      "  516  12.0  11.8520  -0.1480  -1.233E-02  11.8520   0.0000\n",
      "  517  12.0  12.0483   0.0483   4.023E-03  12.0483   0.0000\n",
      "  518   6.0   5.9785  -0.0215  -3.575E-03   5.9785   0.0000\n",
      "  519   9.0   8.7439  -0.2561  -2.846E-02   8.7439   0.0000\n",
      "  520  10.0  10.0120   0.0120   1.200E-03  10.0120   0.0000\n",
      "  521   8.0   8.2162   0.2162   2.702E-02   8.2162   0.0000\n",
      "  522   9.0   7.5518  -1.4482  -1.609E-01   7.5518   0.0000\n",
      "  523   9.0   9.3053   0.3053   3.393E-02   9.3053   0.0000\n",
      "  524  12.0  12.0712   0.0712   5.933E-03  12.0712   0.0000\n",
      "  525   8.0   7.9296  -0.0704  -8.796E-03   7.9296   0.0000\n",
      "  526   5.0   5.2121   0.2121   4.242E-02   5.2121   0.0000\n",
      "  527  12.0  12.7385   0.7385   6.154E-02  12.7385   0.0000\n",
      "  528   6.0   6.0579   0.0579   9.651E-03   6.0579   0.0000\n",
      "  529   7.0   6.8759  -0.1241  -1.773E-02   6.8759   0.0000\n",
      "  530  12.0  11.9437  -0.0563  -4.689E-03  11.9437   0.0000\n",
      "  531   8.0   7.7517  -0.2483  -3.104E-02   7.7517   0.0000\n",
      "  532  12.0  11.4533  -0.5467  -4.556E-02  11.4533   0.0000\n",
      "  533   9.0   8.9344  -0.0656  -7.292E-03   8.9344   0.0000\n",
      "  534   6.0   6.7308   0.7308   1.218E-01   6.7308   0.0000\n",
      "  535   8.0   7.7713  -0.2287  -2.859E-02   7.7713   0.0000\n",
      "  536   7.0   6.7878  -0.2122  -3.031E-02   6.7878   0.0000\n",
      "  537  12.0  11.5472  -0.4528  -3.773E-02  11.5472   0.0000\n",
      "  538   9.0   8.3474  -0.6526  -7.252E-02   8.3474   0.0000\n",
      "  539   8.0   7.8677  -0.1323  -1.654E-02   7.8677   0.0000\n",
      "  540   9.0   8.8072  -0.1928  -2.142E-02   8.8072   0.0000\n",
      "  541   8.0   7.1347  -0.8653  -1.082E-01   7.1347   0.0000\n",
      "  542   7.0   6.7906  -0.2094  -2.992E-02   6.7906   0.0000\n",
      "  543  11.0  10.5941  -0.4059  -3.690E-02  10.5941   0.0000\n",
      "  544   7.0   7.7218   0.7218   1.031E-01   7.7218   0.0000\n",
      "  545   8.0   8.1255   0.1255   1.569E-02   8.1255   0.0000\n",
      "  546  13.0  11.8745  -1.1255  -8.658E-02  11.8745   0.0000\n",
      "  547   7.0   6.7604  -0.2396  -3.423E-02   6.7604   0.0000\n",
      "  548   8.0   7.5948  -0.4052  -5.066E-02   7.5948   0.0000\n",
      "  549  11.0  10.3587  -0.6413  -5.830E-02  10.3587   0.0000\n",
      "  550  13.0  13.3056   0.3056   2.351E-02  13.3056   0.0000\n",
      "  551  13.0  13.2388   0.2388   1.837E-02  13.2388   0.0000\n",
      "  552  12.0  12.2218   0.2218   1.848E-02  12.2218   0.0000\n",
      "  553   8.0   7.3216  -0.6784  -8.480E-02   7.3216   0.0000\n",
      "  554   7.0   7.0364   0.0364   5.199E-03   7.0364   0.0000\n",
      "  555  12.0  11.7608  -0.2392  -1.993E-02  11.7608   0.0000\n",
      "  556   8.0   7.7523  -0.2477  -3.096E-02   7.7523   0.0000\n",
      "  557   7.0   6.3934  -0.6066  -8.665E-02   6.3934   0.0000\n",
      "  558   8.0   8.4282   0.4282   5.353E-02   8.4282   0.0000\n",
      "  559   7.0   6.8364  -0.1636  -2.337E-02   6.8364   0.0000\n",
      "  560   8.0   7.8382  -0.1618  -2.022E-02   7.8382   0.0000\n",
      "  561   8.0   8.0430   0.0430   5.379E-03   8.0430   0.0000\n",
      "  562  12.0  11.5684  -0.4316  -3.597E-02  11.5684   0.0000\n",
      "  563  12.0  11.7955  -0.2045  -1.704E-02  11.7955   0.0000\n",
      "  564  12.0  12.1698   0.1698   1.415E-02  12.1698   0.0000\n",
      "  565   9.0   9.0995   0.0995   1.105E-02   9.0995   0.0000\n",
      "  566   8.0   7.9392  -0.0608  -7.599E-03   7.9392   0.0000\n",
      "  567   6.0   5.7889  -0.2111  -3.518E-02   5.7889   0.0000\n",
      "  568   8.0   7.9051  -0.0949  -1.187E-02   7.9051   0.0000\n",
      "  569   7.0   7.1703   0.1703   2.433E-02   7.1703   0.0000\n",
      "  570  11.0  10.1982  -0.8018  -7.289E-02  10.1982   0.0000\n",
      "  571  12.0  11.0134  -0.9866  -8.222E-02  11.0134   0.0000\n",
      "  572  13.0  13.8847   0.8847   6.806E-02  13.8847   0.0000\n",
      "  573  13.0  12.9224  -0.0776  -5.971E-03  12.9224   0.0000\n",
      "  574   9.0   8.7472  -0.2528  -2.809E-02   8.7472   0.0000\n",
      "  575  13.0  12.7129  -0.2871  -2.208E-02  12.7129   0.0000\n",
      "  576   9.0   8.4120  -0.5880  -6.534E-02   8.4120   0.0000\n",
      "  577   6.0   5.8432  -0.1568  -2.613E-02   5.8432   0.0000\n",
      "  578  12.0  12.0126   0.0126   1.049E-03  12.0126   0.0000\n",
      "  579   6.0   7.8510   1.8510   3.085E-01   7.8510   0.0000\n",
      "  580   3.0   5.3340   2.3340   7.780E-01   5.3340   0.0000\n",
      "  581   5.0   4.8575  -0.1425  -2.850E-02   4.8575   0.0000\n",
      "  582   8.0   7.8801  -0.1199  -1.499E-02   7.8801   0.0000\n",
      "  583   8.0   8.0823   0.0823   1.029E-02   8.0823   0.0000\n",
      "  584   9.0   8.6747  -0.3253  -3.614E-02   8.6747   0.0000\n",
      "  585  13.0  13.0455   0.0455   3.498E-03  13.0455   0.0000\n",
      "  586   5.0   5.2082   0.2082   4.164E-02   5.2082   0.0000\n",
      "  587   5.0   5.7233   0.7233   1.447E-01   5.7233   0.0000\n",
      "  588  12.0  12.3404   0.3404   2.836E-02  12.3404   0.0000\n",
      "  589  12.0  11.9403  -0.0597  -4.977E-03  11.9403   0.0000\n",
      "  590   9.0   9.3472   0.3472   3.858E-02   9.3472   0.0000\n",
      "  591   9.0   8.4962  -0.5038  -5.598E-02   8.4962   0.0000\n",
      "  592  12.0  11.8329  -0.1671  -1.392E-02  11.8329   0.0000\n",
      "  593  12.0  11.7603  -0.2397  -1.998E-02  11.7603   0.0000\n",
      "  594   8.0   8.1936   0.1936   2.420E-02   8.1936   0.0000\n",
      "  595   7.0   6.9941  -0.0059  -8.388E-04   6.9941   0.0000\n"
     ]
    }
   ],
   "source": [
    "for i in range(pre.size):\n",
    "    print(f\"{i+1:>5d} {label_test[i][0]:>5.1f} {pre0[i][0]:>8.4f} {diff[i][0]:>8.4f} {err[i][0]:>11.3E} {pre[i][0]:>8.4f} {diff_pre[i][0]:>8.4f}\")\n",
    "    print(f\"{i+1:>5d} {label_test[i][0]:>5.1f} {pre0[i][0]:>8.4f} {diff[i][0]:>8.4f} {err[i][0]:>11.3E} {pre[i][0]:>8.4f} {diff_pre[i][0]:>8.4f}\", file=fout)\n",
    "#    fout.write(f\"{i:>5d} {label_test[i]:>11.7f} {pre[i]:>11.7f} {diff[i]:>11.7f} {err[i]:>11.3E}\\n\")\n",
    "fout.close()"
   ]
  },
  {
   "cell_type": "markdown",
   "metadata": {},
   "source": [
    "#### 预测test的图形比较"
   ]
  },
  {
   "cell_type": "code",
   "execution_count": 54,
   "metadata": {
    "ExecuteTime": {
     "end_time": "2022-05-28T04:41:53.476422Z",
     "start_time": "2022-05-28T04:41:52.940122Z"
    },
    "scrolled": true
   },
   "outputs": [
    {
     "name": "stdout",
     "output_type": "stream",
     "text": [
      "Saving figure au150_DW_chi_cn1_3level_prediction_error_0\n"
     ]
    },
    {
     "data": {
      "image/png": "[encoded data removed]",
      "text/plain": [
       "<Figure size 432x288 with 1 Axes>"
      ]
     },
     "metadata": {
      "needs_background": "light"
     },
     "output_type": "display_data"
    }
   ],
   "source": [
    "plot_PredictionError([-0.5,6],ind=0)"
   ]
  },
  {
   "cell_type": "code",
   "execution_count": 55,
   "metadata": {
    "ExecuteTime": {
     "end_time": "2022-05-28T04:41:53.925678Z",
     "start_time": "2022-05-28T04:41:53.479453Z"
    },
    "scrolled": true
   },
   "outputs": [
    {
     "name": "stdout",
     "output_type": "stream",
     "text": [
      "Saving figure au150_DW_chi_cn1_3level_prediction_error_2\n"
     ]
    },
    {
     "data": {
      "image/png": "[encoded data removed]",
      "text/plain": [
       "<Figure size 432x288 with 1 Axes>"
      ]
     },
     "metadata": {
      "needs_background": "light"
     },
     "output_type": "display_data"
    }
   ],
   "source": [
    "plot_PredictionError([-0.2,0.3],ind=2)"
   ]
  },
  {
   "cell_type": "code",
   "execution_count": null,
   "metadata": {},
   "outputs": [],
   "source": []
  }
 ],
 "metadata": {
  "colab": {
   "collapsed_sections": [],
   "name": "多元回归问题 0818",
   "provenance": [],
   "toc_visible": true
  },
  "kernelspec": {
   "display_name": "Python 3 (ipykernel)",
   "language": "python",
   "name": "python3"
  },
  "language_info": {
   "codemirror_mode": {
    "name": "ipython",
    "version": 3
   },
   "file_extension": ".py",
   "mimetype": "text/x-python",
   "name": "python",
   "nbconvert_exporter": "python",
   "pygments_lexer": "ipython3",
   "version": "3.9.12"
  },
  "toc": {
   "base_numbering": 1,
   "nav_menu": {},
   "number_sections": true,
   "sideBar": true,
   "skip_h1_title": false,
   "title_cell": "Table of Contents",
   "title_sidebar": "Contents",
   "toc_cell": false,
   "toc_position": {
    "height": "calc(100% - 180px)",
    "left": "10px",
    "top": "150px",
    "width": "230.4px"
   },
   "toc_section_display": true,
   "toc_window_display": true
  },
  "varInspector": {
   "cols": {
    "lenName": 16,
    "lenType": 16,
    "lenVar": 40
   },
   "kernels_config": {
    "python": {
     "delete_cmd_postfix": "",
     "delete_cmd_prefix": "del ",
     "library": "var_list.py",
     "varRefreshCmd": "print(var_dic_list())"
    },
    "r": {
     "delete_cmd_postfix": ") ",
     "delete_cmd_prefix": "rm(",
     "library": "var_list.r",
     "varRefreshCmd": "cat(var_dic_list()) "
    }
   },
   "position": {
    "height": "144.5px",
    "left": "909px",
    "right": "20px",
    "top": "120px",
    "width": "350px"
   },
   "types_to_exclude": [
    "module",
    "function",
    "builtin_function_or_method",
    "instance",
    "_Feature"
   ],
   "window_display": false
  }
 },
 "nbformat": 4,
 "nbformat_minor": 1
}
