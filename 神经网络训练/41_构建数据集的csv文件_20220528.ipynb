{
 "cells": [
  {
   "cell_type": "markdown",
   "metadata": {},
   "source": [
    "## 本程序构建feature和label文件链接的csv文件，然后将csv文件保存到“datasets_csv”文件夹内。"
   ]
  },
  {
   "cell_type": "markdown",
   "metadata": {},
   "source": [
    "## 这里的feature可以是单个，或多个，放置在列表中。名字与对应文件夹相同。"
   ]
  },
  {
   "cell_type": "markdown",
   "metadata": {},
   "source": [
    "last update: 2022.5.28"
   ]
  },
  {
   "cell_type": "markdown",
   "metadata": {},
   "source": [
    "contacts：zhaohf@ihep.ac.cn"
   ]
  },
  {
   "cell_type": "markdown",
   "metadata": {},
   "source": [
    "# 配置环境"
   ]
  },
  {
   "cell_type": "markdown",
   "metadata": {},
   "source": [
    "## 所需模块"
   ]
  },
  {
   "cell_type": "code",
   "execution_count": 1,
   "metadata": {
    "ExecuteTime": {
     "end_time": "2022-05-28T03:06:00.112263Z",
     "start_time": "2022-05-28T03:05:59.608143Z"
    }
   },
   "outputs": [],
   "source": [
    "import os\n",
    "import sys\n",
    "assert sys.version_info >= (3, 5)\n",
    "#\n",
    "import pandas as pd"
   ]
  },
  {
   "cell_type": "markdown",
   "metadata": {},
   "source": [
    "输出导入模板的版本。"
   ]
  },
  {
   "cell_type": "code",
   "execution_count": 2,
   "metadata": {
    "ExecuteTime": {
     "end_time": "2022-05-28T03:06:00.132638Z",
     "start_time": "2022-05-28T03:06:00.115443Z"
    }
   },
   "outputs": [
    {
     "name": "stdout",
     "output_type": "stream",
     "text": [
      "python version: 3.9.12 (main, Apr  4 2022, 05:22:27) [MSC v.1916 64 bit (AMD64)]\n",
      "panda version: 1.4.2\n"
     ]
    }
   ],
   "source": [
    "print('python version:',sys.version)\n",
    "print('panda version:',pd.__version__)"
   ]
  },
  {
   "cell_type": "markdown",
   "metadata": {},
   "source": [
    "# 设置参数"
   ]
  },
  {
   "cell_type": "markdown",
   "metadata": {},
   "source": [
    "## 设置feature和label文件所在的文件夹和相对路径"
   ]
  },
  {
   "cell_type": "code",
   "execution_count": 3,
   "metadata": {
    "ExecuteTime": {
     "end_time": "2022-05-28T03:06:00.141877Z",
     "start_time": "2022-05-28T03:06:00.134632Z"
    }
   },
   "outputs": [],
   "source": [
    "# the directory name of feature\n",
    "feature_list = ['chi', 'xmu', 'wt', 'ft', 'bft']\n",
    "label_list = ['cn1','cr1']\n",
    "#\n",
    "#dir_src = 'AuPd-4000_au150-0_DW_R0_cncr_WT_untar_pick'\n",
    "#dir_src = 'AuPd-4000_au150-0_DW_R0_cncr_WT_untar_treat'\n",
    "dir_src = 'AuPd-4000_au150-0_DW_R0_cncr_WT_untar_fealab'\n",
    "path_rela = './../../datasets setup'"
   ]
  },
  {
   "cell_type": "markdown",
   "metadata": {},
   "source": [
    "## 设置保存csv文件的文件夹路径"
   ]
  },
  {
   "cell_type": "code",
   "execution_count": 4,
   "metadata": {
    "ExecuteTime": {
     "end_time": "2022-05-28T03:06:00.153809Z",
     "start_time": "2022-05-28T03:06:00.141877Z"
    }
   },
   "outputs": [],
   "source": [
    "dir_csv = './../datasets_csv'\n",
    "# 保存csv文件中feature、label的文件为绝对路径？True or False\n",
    "save_csv_file_abspath = False"
   ]
  },
  {
   "cell_type": "markdown",
   "metadata": {},
   "source": [
    "## 设置csv文件的标记，将出现在csv文件开头"
   ]
  },
  {
   "cell_type": "code",
   "execution_count": 5,
   "metadata": {
    "ExecuteTime": {
     "end_time": "2022-05-28T03:06:00.158987Z",
     "start_time": "2022-05-28T03:06:00.153809Z"
    }
   },
   "outputs": [],
   "source": [
    "file_index = 'au150_DW'"
   ]
  },
  {
   "cell_type": "markdown",
   "metadata": {},
   "source": [
    "## 设置统计原始还是已经经过pick的label"
   ]
  },
  {
   "cell_type": "code",
   "execution_count": 6,
   "metadata": {
    "ExecuteTime": {
     "end_time": "2022-05-28T03:06:00.172544Z",
     "start_time": "2022-05-28T03:06:00.158987Z"
    }
   },
   "outputs": [],
   "source": [
    "# pick_count = False : count all labels\n",
    "#            = True  : count labels having been picked. (work with check)\n",
    "pick_count = True\n",
    "# 如果pick_out = True， 则需要设置如下需要pick out的label情况\n",
    "dir_check = 'check'\n",
    "file_checknum = 'check_num.txt'"
   ]
  },
  {
   "cell_type": "markdown",
   "metadata": {},
   "source": [
    "# 正文"
   ]
  },
  {
   "cell_type": "markdown",
   "metadata": {},
   "source": [
    "## 确定当前目录和工作目录"
   ]
  },
  {
   "cell_type": "code",
   "execution_count": 7,
   "metadata": {
    "ExecuteTime": {
     "end_time": "2022-05-28T03:06:00.186643Z",
     "start_time": "2022-05-28T03:06:00.172544Z"
    }
   },
   "outputs": [
    {
     "data": {
      "text/plain": [
       "'D:\\\\haifeng\\\\work_20211031\\\\XAS-ML\\\\code\\\\neural network module\\\\jupyternotebook_code'"
      ]
     },
     "execution_count": 7,
     "metadata": {},
     "output_type": "execute_result"
    }
   ],
   "source": [
    "path = os.path.abspath(os.curdir)\n",
    "path"
   ]
  },
  {
   "cell_type": "code",
   "execution_count": 8,
   "metadata": {
    "ExecuteTime": {
     "end_time": "2022-05-28T03:06:00.196998Z",
     "start_time": "2022-05-28T03:06:00.186643Z"
    }
   },
   "outputs": [
    {
     "data": {
      "text/plain": [
       "'./../../datasets setup\\\\AuPd-4000_au150-0_DW_R0_cncr_WT_untar_fealab'"
      ]
     },
     "execution_count": 8,
     "metadata": {},
     "output_type": "execute_result"
    }
   ],
   "source": [
    "# 数据集文件夹\n",
    "path_src = os.path.join(path_rela, dir_src)\n",
    "if save_csv_file_abspath:\n",
    "    path_src = os.path.abspath(path_src)\n",
    "path_src"
   ]
  },
  {
   "cell_type": "code",
   "execution_count": 9,
   "metadata": {
    "ExecuteTime": {
     "end_time": "2022-05-28T03:06:00.212831Z",
     "start_time": "2022-05-28T03:06:00.196998Z"
    }
   },
   "outputs": [
    {
     "data": {
      "text/plain": [
       "['100',\n",
       " '1000',\n",
       " '1100',\n",
       " '1200',\n",
       " '1300',\n",
       " '1400',\n",
       " '1500',\n",
       " '1600',\n",
       " '1700',\n",
       " '1800',\n",
       " '1900',\n",
       " '200',\n",
       " '2000',\n",
       " '2100',\n",
       " '2200',\n",
       " '2300',\n",
       " '2400',\n",
       " '2500',\n",
       " '2600',\n",
       " '2700',\n",
       " '2800',\n",
       " '2900',\n",
       " '300',\n",
       " '3000',\n",
       " '3100',\n",
       " '3200',\n",
       " '3300',\n",
       " '3400',\n",
       " '3500',\n",
       " '3600',\n",
       " '3700',\n",
       " '3800',\n",
       " '3900',\n",
       " '400',\n",
       " '4000',\n",
       " '500',\n",
       " '600',\n",
       " '700',\n",
       " '800',\n",
       " '900',\n",
       " 'modify.log',\n",
       " 'modify2.log',\n",
       " 'pick.log']"
      ]
     },
     "execution_count": 9,
     "metadata": {},
     "output_type": "execute_result"
    }
   ],
   "source": [
    "# 检查源文件夹是否存在，存在则列出其内部文件夹，不存在则打印错误\n",
    "exist = os.path.exists(path_src)\n",
    "if exist:\n",
    "    list_seed = os.listdir(path_src)\n",
    "else:\n",
    "    print()\n",
    "    print('** Error!! WT tared directory', dir_src, 'is not found!' )\n",
    "    print()\n",
    "    sys.exit()\n",
    "list_seed"
   ]
  },
  {
   "cell_type": "code",
   "execution_count": 10,
   "metadata": {
    "ExecuteTime": {
     "end_time": "2022-05-28T03:06:00.228789Z",
     "start_time": "2022-05-28T03:06:00.217818Z"
    }
   },
   "outputs": [],
   "source": [
    "# 去除list_seed中不是文件夹的部分\n",
    "file_del = []\n",
    "for dir_seed in list_seed:\n",
    "    path_seed_src = os.path.join(path_src, dir_seed)\n",
    "    if os.path.isfile(path_seed_src):\n",
    "        file_del.append(dir_seed)\n",
    "for file in file_del:\n",
    "    list_seed.remove(file)\n",
    "#list_seed"
   ]
  },
  {
   "cell_type": "markdown",
   "metadata": {},
   "source": [
    "## 将feature和label所在的文件路径制成列表"
   ]
  },
  {
   "cell_type": "code",
   "execution_count": 11,
   "metadata": {
    "ExecuteTime": {
     "end_time": "2022-05-28T03:06:01.250151Z",
     "start_time": "2022-05-28T03:06:00.230386Z"
    }
   },
   "outputs": [
    {
     "name": "stdout",
     "output_type": "stream",
     "text": [
      "\n",
      "** Warning! File 'check_num.txt' in seed 1500 NOT found!\n",
      "** All the feature/label will be counted!\n",
      "\n",
      "** Warning! File 'check_num.txt' in seed 2200 NOT found!\n",
      "** All the feature/label will be counted!\n",
      "\n",
      "** Warning! File 'check_num.txt' in seed 2400 NOT found!\n",
      "** All the feature/label will be counted!\n",
      "\n",
      "** Warning! File 'check_num.txt' in seed 300 NOT found!\n",
      "** All the feature/label will be counted!\n",
      "\n",
      "** Warning! File 'check_num.txt' in seed 3200 NOT found!\n",
      "** All the feature/label will be counted!\n",
      "\n",
      "** Warning! File 'check_num.txt' in seed 3800 NOT found!\n",
      "** All the feature/label will be counted!\n",
      "\n",
      "** Warning! File 'check_num.txt' in seed 500 NOT found!\n",
      "** All the feature/label will be counted!\n",
      "\n",
      "** Warning! File 'check_num.txt' in seed 600 NOT found!\n",
      "** All the feature/label will be counted!\n",
      "\n",
      "** Warning! File 'check_num.txt' in seed 1500 NOT found!\n",
      "** All the feature/label will be counted!\n",
      "\n",
      "** Warning! File 'check_num.txt' in seed 2200 NOT found!\n",
      "** All the feature/label will be counted!\n",
      "\n",
      "** Warning! File 'check_num.txt' in seed 2400 NOT found!\n",
      "** All the feature/label will be counted!\n",
      "\n",
      "** Warning! File 'check_num.txt' in seed 300 NOT found!\n",
      "** All the feature/label will be counted!\n",
      "\n",
      "** Warning! File 'check_num.txt' in seed 3200 NOT found!\n",
      "** All the feature/label will be counted!\n",
      "\n",
      "** Warning! File 'check_num.txt' in seed 3800 NOT found!\n",
      "** All the feature/label will be counted!\n",
      "\n",
      "** Warning! File 'check_num.txt' in seed 500 NOT found!\n",
      "** All the feature/label will be counted!\n",
      "\n",
      "** Warning! File 'check_num.txt' in seed 600 NOT found!\n",
      "** All the feature/label will be counted!\n",
      "\n",
      "** Warning! File 'check_num.txt' in seed 1500 NOT found!\n",
      "** All the feature/label will be counted!\n",
      "\n",
      "** Warning! File 'check_num.txt' in seed 2200 NOT found!\n",
      "** All the feature/label will be counted!\n",
      "\n",
      "** Warning! File 'check_num.txt' in seed 2400 NOT found!\n",
      "** All the feature/label will be counted!\n",
      "\n",
      "** Warning! File 'check_num.txt' in seed 300 NOT found!\n",
      "** All the feature/label will be counted!\n",
      "\n",
      "** Warning! File 'check_num.txt' in seed 3200 NOT found!\n",
      "** All the feature/label will be counted!\n",
      "\n",
      "** Warning! File 'check_num.txt' in seed 3800 NOT found!\n",
      "** All the feature/label will be counted!\n",
      "\n",
      "** Warning! File 'check_num.txt' in seed 500 NOT found!\n",
      "** All the feature/label will be counted!\n",
      "\n",
      "** Warning! File 'check_num.txt' in seed 600 NOT found!\n",
      "** All the feature/label will be counted!\n",
      "\n",
      "** Warning! File 'check_num.txt' in seed 1500 NOT found!\n",
      "** All the feature/label will be counted!\n",
      "\n",
      "** Warning! File 'check_num.txt' in seed 2200 NOT found!\n",
      "** All the feature/label will be counted!\n",
      "\n",
      "** Warning! File 'check_num.txt' in seed 2400 NOT found!\n",
      "** All the feature/label will be counted!\n",
      "\n",
      "** Warning! File 'check_num.txt' in seed 300 NOT found!\n",
      "** All the feature/label will be counted!\n",
      "\n",
      "** Warning! File 'check_num.txt' in seed 3200 NOT found!\n",
      "** All the feature/label will be counted!\n",
      "\n",
      "** Warning! File 'check_num.txt' in seed 3800 NOT found!\n",
      "** All the feature/label will be counted!\n",
      "\n",
      "** Warning! File 'check_num.txt' in seed 500 NOT found!\n",
      "** All the feature/label will be counted!\n",
      "\n",
      "** Warning! File 'check_num.txt' in seed 600 NOT found!\n",
      "** All the feature/label will be counted!\n",
      "\n",
      "** Warning! File 'check_num.txt' in seed 1500 NOT found!\n",
      "** All the feature/label will be counted!\n",
      "\n",
      "** Warning! File 'check_num.txt' in seed 2200 NOT found!\n",
      "** All the feature/label will be counted!\n",
      "\n",
      "** Warning! File 'check_num.txt' in seed 2400 NOT found!\n",
      "** All the feature/label will be counted!\n",
      "\n",
      "** Warning! File 'check_num.txt' in seed 300 NOT found!\n",
      "** All the feature/label will be counted!\n",
      "\n",
      "** Warning! File 'check_num.txt' in seed 3200 NOT found!\n",
      "** All the feature/label will be counted!\n",
      "\n",
      "** Warning! File 'check_num.txt' in seed 3800 NOT found!\n",
      "** All the feature/label will be counted!\n",
      "\n",
      "** Warning! File 'check_num.txt' in seed 500 NOT found!\n",
      "** All the feature/label will be counted!\n",
      "\n",
      "** Warning! File 'check_num.txt' in seed 600 NOT found!\n",
      "** All the feature/label will be counted!\n",
      "\n",
      "** Warning! File 'check_num.txt' in seed 1500 NOT found!\n",
      "** All the feature/label will be counted!\n",
      "\n",
      "** Warning! File 'check_num.txt' in seed 2200 NOT found!\n",
      "** All the feature/label will be counted!\n",
      "\n",
      "** Warning! File 'check_num.txt' in seed 2400 NOT found!\n",
      "** All the feature/label will be counted!\n",
      "\n",
      "** Warning! File 'check_num.txt' in seed 300 NOT found!\n",
      "** All the feature/label will be counted!\n",
      "\n",
      "** Warning! File 'check_num.txt' in seed 3200 NOT found!\n",
      "** All the feature/label will be counted!\n",
      "\n",
      "** Warning! File 'check_num.txt' in seed 3800 NOT found!\n",
      "** All the feature/label will be counted!\n",
      "\n",
      "** Warning! File 'check_num.txt' in seed 500 NOT found!\n",
      "** All the feature/label will be counted!\n",
      "\n",
      "** Warning! File 'check_num.txt' in seed 600 NOT found!\n",
      "** All the feature/label will be counted!\n",
      "\n",
      "** Warning! File 'check_num.txt' in seed 1500 NOT found!\n",
      "** All the feature/label will be counted!\n",
      "\n",
      "** Warning! File 'check_num.txt' in seed 2200 NOT found!\n",
      "** All the feature/label will be counted!\n",
      "\n",
      "** Warning! File 'check_num.txt' in seed 2400 NOT found!\n",
      "** All the feature/label will be counted!\n",
      "\n",
      "** Warning! File 'check_num.txt' in seed 300 NOT found!\n",
      "** All the feature/label will be counted!\n",
      "\n",
      "** Warning! File 'check_num.txt' in seed 3200 NOT found!\n",
      "** All the feature/label will be counted!\n",
      "\n",
      "** Warning! File 'check_num.txt' in seed 3800 NOT found!\n",
      "** All the feature/label will be counted!\n",
      "\n",
      "** Warning! File 'check_num.txt' in seed 500 NOT found!\n",
      "** All the feature/label will be counted!\n",
      "\n",
      "** Warning! File 'check_num.txt' in seed 600 NOT found!\n",
      "** All the feature/label will be counted!\n",
      "\n",
      "** Warning! File 'check_num.txt' in seed 1500 NOT found!\n",
      "** All the feature/label will be counted!\n",
      "\n",
      "** Warning! File 'check_num.txt' in seed 2200 NOT found!\n",
      "** All the feature/label will be counted!\n",
      "\n",
      "** Warning! File 'check_num.txt' in seed 2400 NOT found!\n",
      "** All the feature/label will be counted!\n",
      "\n",
      "** Warning! File 'check_num.txt' in seed 300 NOT found!\n",
      "** All the feature/label will be counted!\n",
      "\n",
      "** Warning! File 'check_num.txt' in seed 3200 NOT found!\n",
      "** All the feature/label will be counted!\n",
      "\n",
      "** Warning! File 'check_num.txt' in seed 3800 NOT found!\n",
      "** All the feature/label will be counted!\n",
      "\n",
      "** Warning! File 'check_num.txt' in seed 500 NOT found!\n",
      "** All the feature/label will be counted!\n",
      "\n",
      "** Warning! File 'check_num.txt' in seed 600 NOT found!\n",
      "** All the feature/label will be counted!\n",
      "\n",
      "** Warning! File 'check_num.txt' in seed 1500 NOT found!\n",
      "** All the feature/label will be counted!\n",
      "\n",
      "** Warning! File 'check_num.txt' in seed 2200 NOT found!\n",
      "** All the feature/label will be counted!\n",
      "\n",
      "** Warning! File 'check_num.txt' in seed 2400 NOT found!\n",
      "** All the feature/label will be counted!\n",
      "\n",
      "** Warning! File 'check_num.txt' in seed 300 NOT found!\n",
      "** All the feature/label will be counted!\n",
      "\n",
      "** Warning! File 'check_num.txt' in seed 3200 NOT found!\n",
      "** All the feature/label will be counted!\n",
      "\n",
      "** Warning! File 'check_num.txt' in seed 3800 NOT found!\n",
      "** All the feature/label will be counted!\n",
      "\n",
      "** Warning! File 'check_num.txt' in seed 500 NOT found!\n",
      "** All the feature/label will be counted!\n",
      "\n",
      "** Warning! File 'check_num.txt' in seed 600 NOT found!\n",
      "** All the feature/label will be counted!\n",
      "\n",
      "** Warning! File 'check_num.txt' in seed 1500 NOT found!\n",
      "** All the feature/label will be counted!\n",
      "\n",
      "** Warning! File 'check_num.txt' in seed 2200 NOT found!\n",
      "** All the feature/label will be counted!\n",
      "\n",
      "** Warning! File 'check_num.txt' in seed 2400 NOT found!\n",
      "** All the feature/label will be counted!\n",
      "\n",
      "** Warning! File 'check_num.txt' in seed 300 NOT found!\n",
      "** All the feature/label will be counted!\n",
      "\n",
      "** Warning! File 'check_num.txt' in seed 3200 NOT found!\n",
      "** All the feature/label will be counted!\n",
      "\n",
      "** Warning! File 'check_num.txt' in seed 3800 NOT found!\n",
      "** All the feature/label will be counted!\n",
      "\n",
      "** Warning! File 'check_num.txt' in seed 500 NOT found!\n",
      "** All the feature/label will be counted!\n",
      "\n",
      "** Warning! File 'check_num.txt' in seed 600 NOT found!\n",
      "** All the feature/label will be counted!\n"
     ]
    }
   ],
   "source": [
    "for feature in feature_list:\n",
    "    for label in label_list:\n",
    "        file_csv  = f\"{file_index}_{feature}_{label}.csv\"\n",
    "#\n",
    "        list_path_file_feature = []\n",
    "        list_path_file_label = []\n",
    "#\n",
    "        for dir_seed in list_seed:\n",
    "#  种子文件夹的路径\n",
    "            path_dir_seed = os.path.join(path_src,dir_seed)\n",
    "            path_dir_feature = os.path.join(path_dir_seed, feature)\n",
    "            path_dir_label = os.path.join(path_dir_seed, label)\n",
    "#\n",
    "#  判断“chi_FEFF”等feature文件夹、“coor”等label文件夹在seed文件夹下\n",
    "            result1 = os.path.isdir(path_dir_feature)\n",
    "            result2 = os.path.isdir(path_dir_label)\n",
    "            if result1 and result2:\n",
    "                list_feature = os.listdir(path_dir_feature)\n",
    "                list_label = os.listdir(path_dir_label)\n",
    "#\n",
    "# 统计是否扣除check文件夹中的label\n",
    "                result3 = os.path.splitext(list_feature[0])\n",
    "                result4 = os.path.splitext(list_label[0])\n",
    "                if pick_count:\n",
    "                    path_dir_check = os.path.join(path_dir_seed, dir_check)\n",
    "                    path_file_checknum = os.path.join(path_dir_check, file_checknum)\n",
    "                    exist_checknum = os.path.exists(path_file_checknum)\n",
    "                    if exist_checknum:\n",
    "# csv读取方式\n",
    "                        with open(path_file_checknum) as f:\n",
    "                            number_list0 = f.read().splitlines()\n",
    "                        number_list = []\n",
    "                        for i, number in enumerate(number_list0):\n",
    "                            number_list.append(number.strip())\n",
    "                        for i, number in enumerate(number_list):\n",
    "                            file_feature_num = feature + '_' + number +result3[1]\n",
    "                            file_label_num = label + '_' + number + result4[1]\n",
    "                            list_feature.remove(file_feature_num)\n",
    "                            list_label.remove(file_label_num)\n",
    "                    else:\n",
    "                        print()\n",
    "                        print(f\"** Warning! File '{file_checknum}' in seed {dir_seed} NOT found!\")\n",
    "                        print(f\"** All the feature/label will be counted!\")\n",
    "#                   end if exist_checknum\n",
    "                else:\n",
    "                    pass\n",
    "#               end if pick_count\n",
    "#\n",
    "                N_feature = len(list_feature)\n",
    "                N_label = len(list_label)\n",
    "                if N_feature == N_label :\n",
    "                    for i in range(N_feature):\n",
    "                        file_feature = list_feature[i]\n",
    "                        file_label = list_label[i]\n",
    "                        path_file_feature = os.path.join(path_dir_feature, file_feature)\n",
    "                        path_file_label = os.path.join(path_dir_label, file_label)\n",
    "                        list_path_file_feature.append(path_file_feature)\n",
    "                        list_path_file_label.append(path_file_label)\n",
    "                else:\n",
    "                    print()\n",
    "                    print('** Error!!', dir_seed, 'has different number of feature/label files !' )\n",
    "                    sys.exit()\n",
    "            else:\n",
    "                print()\n",
    "                print('** Error!! This seed', dir_seed, 'has no feature/label files !' )\n",
    "                sys.exit()\n",
    "#\n",
    "#将列表保存为csv文件\n",
    "#\n",
    "        path_dir_csv = os.path.join(os.curdir, dir_csv)\n",
    "        os.makedirs(path_dir_csv, exist_ok=True)\n",
    "#\n",
    "        path_file_csv = os.path.join(path_dir_csv,file_csv)\n",
    "        df_samples = pd.DataFrame({'path_feature':list_path_file_feature,'path_label':list_path_file_label})\n",
    "#\n",
    "# 将df_samples转化为csv文件\n",
    "        df_samples.to_csv(path_file_csv)"
   ]
  },
  {
   "cell_type": "code",
   "execution_count": 12,
   "metadata": {
    "ExecuteTime": {
     "end_time": "2022-05-28T03:06:01.276988Z",
     "start_time": "2022-05-28T03:06:01.252145Z"
    },
    "scrolled": true
   },
   "outputs": [
    {
     "data": {
      "text/html": [
       "<div>\n",
       "<style scoped>\n",
       "    .dataframe tbody tr th:only-of-type {\n",
       "        vertical-align: middle;\n",
       "    }\n",
       "\n",
       "    .dataframe tbody tr th {\n",
       "        vertical-align: top;\n",
       "    }\n",
       "\n",
       "    .dataframe thead th {\n",
       "        text-align: right;\n",
       "    }\n",
       "</style>\n",
       "<table border=\"1\" class=\"dataframe\">\n",
       "  <thead>\n",
       "    <tr style=\"text-align: right;\">\n",
       "      <th></th>\n",
       "      <th>path_feature</th>\n",
       "      <th>path_label</th>\n",
       "    </tr>\n",
       "  </thead>\n",
       "  <tbody>\n",
       "    <tr>\n",
       "      <th>0</th>\n",
       "      <td>./../../datasets setup\\AuPd-4000_au150-0_DW_R0...</td>\n",
       "      <td>./../../datasets setup\\AuPd-4000_au150-0_DW_R0...</td>\n",
       "    </tr>\n",
       "    <tr>\n",
       "      <th>1</th>\n",
       "      <td>./../../datasets setup\\AuPd-4000_au150-0_DW_R0...</td>\n",
       "      <td>./../../datasets setup\\AuPd-4000_au150-0_DW_R0...</td>\n",
       "    </tr>\n",
       "    <tr>\n",
       "      <th>2</th>\n",
       "      <td>./../../datasets setup\\AuPd-4000_au150-0_DW_R0...</td>\n",
       "      <td>./../../datasets setup\\AuPd-4000_au150-0_DW_R0...</td>\n",
       "    </tr>\n",
       "    <tr>\n",
       "      <th>3</th>\n",
       "      <td>./../../datasets setup\\AuPd-4000_au150-0_DW_R0...</td>\n",
       "      <td>./../../datasets setup\\AuPd-4000_au150-0_DW_R0...</td>\n",
       "    </tr>\n",
       "    <tr>\n",
       "      <th>4</th>\n",
       "      <td>./../../datasets setup\\AuPd-4000_au150-0_DW_R0...</td>\n",
       "      <td>./../../datasets setup\\AuPd-4000_au150-0_DW_R0...</td>\n",
       "    </tr>\n",
       "    <tr>\n",
       "      <th>...</th>\n",
       "      <td>...</td>\n",
       "      <td>...</td>\n",
       "    </tr>\n",
       "    <tr>\n",
       "      <th>5941</th>\n",
       "      <td>./../../datasets setup\\AuPd-4000_au150-0_DW_R0...</td>\n",
       "      <td>./../../datasets setup\\AuPd-4000_au150-0_DW_R0...</td>\n",
       "    </tr>\n",
       "    <tr>\n",
       "      <th>5942</th>\n",
       "      <td>./../../datasets setup\\AuPd-4000_au150-0_DW_R0...</td>\n",
       "      <td>./../../datasets setup\\AuPd-4000_au150-0_DW_R0...</td>\n",
       "    </tr>\n",
       "    <tr>\n",
       "      <th>5943</th>\n",
       "      <td>./../../datasets setup\\AuPd-4000_au150-0_DW_R0...</td>\n",
       "      <td>./../../datasets setup\\AuPd-4000_au150-0_DW_R0...</td>\n",
       "    </tr>\n",
       "    <tr>\n",
       "      <th>5944</th>\n",
       "      <td>./../../datasets setup\\AuPd-4000_au150-0_DW_R0...</td>\n",
       "      <td>./../../datasets setup\\AuPd-4000_au150-0_DW_R0...</td>\n",
       "    </tr>\n",
       "    <tr>\n",
       "      <th>5945</th>\n",
       "      <td>./../../datasets setup\\AuPd-4000_au150-0_DW_R0...</td>\n",
       "      <td>./../../datasets setup\\AuPd-4000_au150-0_DW_R0...</td>\n",
       "    </tr>\n",
       "  </tbody>\n",
       "</table>\n",
       "<p>5946 rows × 2 columns</p>\n",
       "</div>"
      ],
      "text/plain": [
       "                                           path_feature  \\\n",
       "0     ./../../datasets setup\\AuPd-4000_au150-0_DW_R0...   \n",
       "1     ./../../datasets setup\\AuPd-4000_au150-0_DW_R0...   \n",
       "2     ./../../datasets setup\\AuPd-4000_au150-0_DW_R0...   \n",
       "3     ./../../datasets setup\\AuPd-4000_au150-0_DW_R0...   \n",
       "4     ./../../datasets setup\\AuPd-4000_au150-0_DW_R0...   \n",
       "...                                                 ...   \n",
       "5941  ./../../datasets setup\\AuPd-4000_au150-0_DW_R0...   \n",
       "5942  ./../../datasets setup\\AuPd-4000_au150-0_DW_R0...   \n",
       "5943  ./../../datasets setup\\AuPd-4000_au150-0_DW_R0...   \n",
       "5944  ./../../datasets setup\\AuPd-4000_au150-0_DW_R0...   \n",
       "5945  ./../../datasets setup\\AuPd-4000_au150-0_DW_R0...   \n",
       "\n",
       "                                             path_label  \n",
       "0     ./../../datasets setup\\AuPd-4000_au150-0_DW_R0...  \n",
       "1     ./../../datasets setup\\AuPd-4000_au150-0_DW_R0...  \n",
       "2     ./../../datasets setup\\AuPd-4000_au150-0_DW_R0...  \n",
       "3     ./../../datasets setup\\AuPd-4000_au150-0_DW_R0...  \n",
       "4     ./../../datasets setup\\AuPd-4000_au150-0_DW_R0...  \n",
       "...                                                 ...  \n",
       "5941  ./../../datasets setup\\AuPd-4000_au150-0_DW_R0...  \n",
       "5942  ./../../datasets setup\\AuPd-4000_au150-0_DW_R0...  \n",
       "5943  ./../../datasets setup\\AuPd-4000_au150-0_DW_R0...  \n",
       "5944  ./../../datasets setup\\AuPd-4000_au150-0_DW_R0...  \n",
       "5945  ./../../datasets setup\\AuPd-4000_au150-0_DW_R0...  \n",
       "\n",
       "[5946 rows x 2 columns]"
      ]
     },
     "execution_count": 12,
     "metadata": {},
     "output_type": "execute_result"
    }
   ],
   "source": [
    "df_samples"
   ]
  },
  {
   "cell_type": "code",
   "execution_count": 13,
   "metadata": {
    "ExecuteTime": {
     "end_time": "2022-05-28T03:06:01.292924Z",
     "start_time": "2022-05-28T03:06:01.276988Z"
    },
    "scrolled": true
   },
   "outputs": [
    {
     "data": {
      "text/plain": [
       "'./../../datasets setup\\\\AuPd-4000_au150-0_DW_R0_cncr_WT_untar_fealab\\\\100\\\\bft\\\\bft_1.dat'"
      ]
     },
     "execution_count": 13,
     "metadata": {},
     "output_type": "execute_result"
    }
   ],
   "source": [
    "df_samples['path_feature'][0]"
   ]
  },
  {
   "cell_type": "code",
   "execution_count": 14,
   "metadata": {
    "ExecuteTime": {
     "end_time": "2022-05-28T03:06:01.311940Z",
     "start_time": "2022-05-28T03:06:01.295295Z"
    }
   },
   "outputs": [
    {
     "data": {
      "text/plain": [
       "'./../../datasets setup\\\\AuPd-4000_au150-0_DW_R0_cncr_WT_untar_fealab\\\\100\\\\cr1\\\\cr1_1.dat'"
      ]
     },
     "execution_count": 14,
     "metadata": {},
     "output_type": "execute_result"
    }
   ],
   "source": [
    "df_samples['path_label'][0]"
   ]
  },
  {
   "cell_type": "code",
   "execution_count": null,
   "metadata": {},
   "outputs": [],
   "source": []
  }
 ],
 "metadata": {
  "colab": {
   "collapsed_sections": [],
   "name": "多元回归问题 0818",
   "provenance": [],
   "toc_visible": true
  },
  "kernelspec": {
   "display_name": "Python 3 (ipykernel)",
   "language": "python",
   "name": "python3"
  },
  "language_info": {
   "codemirror_mode": {
    "name": "ipython",
    "version": 3
   },
   "file_extension": ".py",
   "mimetype": "text/x-python",
   "name": "python",
   "nbconvert_exporter": "python",
   "pygments_lexer": "ipython3",
   "version": "3.9.12"
  },
  "toc": {
   "base_numbering": 1,
   "nav_menu": {},
   "number_sections": true,
   "sideBar": true,
   "skip_h1_title": false,
   "title_cell": "Table of Contents",
   "title_sidebar": "Contents",
   "toc_cell": false,
   "toc_position": {
    "height": "calc(100% - 180px)",
    "left": "10px",
    "top": "150px",
    "width": "230.398px"
   },
   "toc_section_display": true,
   "toc_window_display": true
  },
  "varInspector": {
   "cols": {
    "lenName": 16,
    "lenType": 16,
    "lenVar": 40
   },
   "kernels_config": {
    "python": {
     "delete_cmd_postfix": "",
     "delete_cmd_prefix": "del ",
     "library": "var_list.py",
     "varRefreshCmd": "print(var_dic_list())"
    },
    "r": {
     "delete_cmd_postfix": ") ",
     "delete_cmd_prefix": "rm(",
     "library": "var_list.r",
     "varRefreshCmd": "cat(var_dic_list()) "
    }
   },
   "types_to_exclude": [
    "module",
    "function",
    "builtin_function_or_method",
    "instance",
    "_Feature"
   ],
   "window_display": false
  }
 },
 "nbformat": 4,
 "nbformat_minor": 1
}
