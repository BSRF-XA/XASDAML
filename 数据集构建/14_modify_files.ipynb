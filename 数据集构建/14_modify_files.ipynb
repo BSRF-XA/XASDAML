{
 "cells": [
  {
   "cell_type": "markdown",
   "metadata": {
    "ExecuteTime": {
     "end_time": "2020-09-08T08:27:40.714309Z",
     "start_time": "2020-09-08T08:27:40.707472Z"
    }
   },
   "source": [
    "## 本程序从解压缩的计算文件中挑选出能够对数据集构建有用的文件（不对配位数等有没有物理意义做选择），如coor、cluster、xmu、chi_FEFF、expWT、expFT和expBFT等，作为后续操作，如统计、绘图等。"
   ]
  },
  {
   "cell_type": "markdown",
   "metadata": {},
   "source": [
    "### 将本程序安放在“种子文件_single_xyz_WT”（名称可更改）所在文件夹（一级目录）下的任意一个文件夹下（二级目录）。\n",
    "### 经过解压缩后的文件夹为“AuPd-4000_single_xyz_WT_untar”；则经过选择后的文件夹名称为“_treat”"
   ]
  },
  {
   "cell_type": "markdown",
   "metadata": {},
   "source": [
    "last update: 2021.9.15"
   ]
  },
  {
   "cell_type": "markdown",
   "metadata": {},
   "source": [
    "contacts: zhaohf@ihep.ac.cn"
   ]
  },
  {
   "cell_type": "markdown",
   "metadata": {},
   "source": [
    "# 配置环境"
   ]
  },
  {
   "cell_type": "markdown",
   "metadata": {},
   "source": [
    "## 导入各种模块"
   ]
  },
  {
   "cell_type": "code",
   "execution_count": 17,
   "metadata": {
    "ExecuteTime": {
     "end_time": "2021-09-13T06:28:39.482520Z",
     "start_time": "2021-09-13T06:28:39.479511Z"
    }
   },
   "outputs": [],
   "source": [
    "import os\n",
    "import sys\n",
    "import shutil"
   ]
  },
  {
   "cell_type": "markdown",
   "metadata": {},
   "source": [
    "输出导入模板的版本。"
   ]
  },
  {
   "cell_type": "code",
   "execution_count": 18,
   "metadata": {
    "ExecuteTime": {
     "end_time": "2021-09-13T06:28:42.093304Z",
     "start_time": "2021-09-13T06:28:42.091300Z"
    }
   },
   "outputs": [
    {
     "name": "stdout",
     "output_type": "stream",
     "text": [
      "python version: 3.8.8 (default, Apr 13 2021, 15:08:03) [MSC v.1916 64 bit (AMD64)]\n"
     ]
    }
   ],
   "source": [
    "print('python version:',sys.version)\n",
    "#print('shutil version:',shutil.__version__)"
   ]
  },
  {
   "cell_type": "markdown",
   "metadata": {},
   "source": [
    "# 设置输入文件夹和输出文件夹"
   ]
  },
  {
   "cell_type": "markdown",
   "metadata": {},
   "source": [
    "## 设置源文件夹，即经过计算集群计算的文件夹"
   ]
  },
  {
   "cell_type": "code",
   "execution_count": 19,
   "metadata": {
    "ExecuteTime": {
     "end_time": "2021-09-13T06:28:45.333107Z",
     "start_time": "2021-09-13T06:28:45.330099Z"
    }
   },
   "outputs": [],
   "source": [
    "# 设置源文件夹，即经过计算集群计算的文件夹\n",
    "dir_src = 'AuPd-4000_au150-0_DW_R0_cncr_WT_untar'"
   ]
  },
  {
   "cell_type": "markdown",
   "metadata": {},
   "source": [
    "## 设置目标文件夹"
   ]
  },
  {
   "cell_type": "code",
   "execution_count": 20,
   "metadata": {
    "ExecuteTime": {
     "end_time": "2021-09-13T06:28:47.064437Z",
     "start_time": "2021-09-13T06:28:47.062432Z"
    }
   },
   "outputs": [],
   "source": [
    "# 构建提取文件夹和目录\n",
    "dir_work = dir_src + '_treat'"
   ]
  },
  {
   "cell_type": "markdown",
   "metadata": {},
   "source": [
    "# 程序正文"
   ]
  },
  {
   "cell_type": "code",
   "execution_count": 21,
   "metadata": {
    "ExecuteTime": {
     "end_time": "2021-09-13T06:28:48.204569Z",
     "start_time": "2021-09-13T06:28:48.201562Z"
    }
   },
   "outputs": [
    {
     "data": {
      "text/plain": [
       "'D:\\\\haifeng\\\\work_20210709\\\\ML+XAS\\\\code\\\\datasets setup\\\\jupyterbook'"
      ]
     },
     "execution_count": 21,
     "metadata": {},
     "output_type": "execute_result"
    }
   ],
   "source": [
    "# 当前目录\n",
    "path = os.path.abspath('./')\n",
    "path"
   ]
  },
  {
   "cell_type": "code",
   "execution_count": 22,
   "metadata": {
    "ExecuteTime": {
     "end_time": "2021-09-13T06:28:50.111916Z",
     "start_time": "2021-09-13T06:28:50.107903Z"
    }
   },
   "outputs": [
    {
     "data": {
      "text/plain": [
       "'D:\\\\haifeng\\\\work_20210709\\\\ML+XAS\\\\code\\\\datasets setup'"
      ]
     },
     "execution_count": 22,
     "metadata": {},
     "output_type": "execute_result"
    }
   ],
   "source": [
    "# 上一级目录\n",
    "path_par = os.path.abspath(os.path.pardir)\n",
    "path_par"
   ]
  },
  {
   "cell_type": "code",
   "execution_count": 23,
   "metadata": {
    "ExecuteTime": {
     "end_time": "2021-09-13T06:28:52.546815Z",
     "start_time": "2021-09-13T06:28:52.543807Z"
    }
   },
   "outputs": [],
   "source": [
    "# 源文件夹\n",
    "path_src = os.path.join(path_par, dir_src)"
   ]
  },
  {
   "cell_type": "code",
   "execution_count": 24,
   "metadata": {
    "ExecuteTime": {
     "end_time": "2021-09-13T06:28:53.479813Z",
     "start_time": "2021-09-13T06:28:53.473797Z"
    }
   },
   "outputs": [
    {
     "data": {
      "text/plain": [
       "['100',\n",
       " '1000',\n",
       " '1100',\n",
       " '1200',\n",
       " '1300',\n",
       " '1400',\n",
       " '1500',\n",
       " '1600',\n",
       " '1700',\n",
       " '1800',\n",
       " '1900',\n",
       " '200',\n",
       " '2000',\n",
       " '2100',\n",
       " '2200',\n",
       " '2300',\n",
       " '2400',\n",
       " '2500',\n",
       " '2600',\n",
       " '2700',\n",
       " '2800',\n",
       " '2900',\n",
       " '300',\n",
       " '3000',\n",
       " '3100',\n",
       " '3200',\n",
       " '3300',\n",
       " '3400',\n",
       " '3500',\n",
       " '3600',\n",
       " '3700',\n",
       " '3800',\n",
       " '3900',\n",
       " '400',\n",
       " '4000',\n",
       " '500',\n",
       " '600',\n",
       " '700',\n",
       " '800',\n",
       " '900']"
      ]
     },
     "execution_count": 24,
     "metadata": {},
     "output_type": "execute_result"
    }
   ],
   "source": [
    "# 检查源文件夹是否存在，存在则列出其内部文件夹，不存在则打印错误\n",
    "exist = os.path.exists(path_src)\n",
    "if exist:\n",
    "    list_seed = os.listdir(path_src)\n",
    "else:\n",
    "    print()\n",
    "    print('** Error!! WT untared directory', dir_src, 'is not found!' )\n",
    "    print()\n",
    "#    sys.exit()\n",
    "list_seed"
   ]
  },
  {
   "cell_type": "code",
   "execution_count": 25,
   "metadata": {
    "ExecuteTime": {
     "end_time": "2021-09-13T06:29:03.385889Z",
     "start_time": "2021-09-13T06:29:03.381881Z"
    }
   },
   "outputs": [
    {
     "data": {
      "text/plain": [
       "'D:\\\\haifeng\\\\work_20210709\\\\ML+XAS\\\\code\\\\datasets setup\\\\AuPd-4000_au150-0_DW_R0_cncr_WT_untar_treat'"
      ]
     },
     "execution_count": 25,
     "metadata": {},
     "output_type": "execute_result"
    }
   ],
   "source": [
    "# 目标文件夹\n",
    "path_work = os.path.join(path_par, dir_work)\n",
    "os.makedirs(path_work, exist_ok=True)\n",
    "path_work"
   ]
  },
  {
   "cell_type": "markdown",
   "metadata": {},
   "source": [
    "### 提取coor"
   ]
  },
  {
   "cell_type": "code",
   "execution_count": 26,
   "metadata": {
    "ExecuteTime": {
     "end_time": "2021-09-13T06:43:42.645374Z",
     "start_time": "2021-09-13T06:43:34.997669Z"
    }
   },
   "outputs": [],
   "source": [
    "for dir_seed in list_seed:\n",
    "#\n",
    "#  在新文件夹内，新建与源一致的文件夹\n",
    "    path_seed_work = os.path.join(path_work, dir_seed)\n",
    "    os.makedirs(path_seed_work, exist_ok=True)\n",
    "#\n",
    "#  在每个seed文件夹下，构建coor\n",
    "    dir_coor = 'coor'\n",
    "    path_coor_work = os.path.join(path_seed_work, dir_coor)\n",
    "#\n",
    "#  检查是否已经存在coor文件夹，若有，删除其中文件；若没有则构建coor文件夹\n",
    "    os.makedirs(path_coor_work, exist_ok=True)\n",
    "    shutil.rmtree(path_coor_work)\n",
    "#\n",
    "# 源seed的路径\n",
    "    path_seed_src = os.path.join(path_src, dir_seed)\n",
    "# 源seed中各个xyz文件夹  \n",
    "    list_xyz = os.listdir(path_seed_src)\n",
    "#\n",
    "    for dir_xyz in list_xyz:\n",
    "#\n",
    "# 源xyz的路径\n",
    "        path_xyz_src = os.path.join(path_seed_src, dir_xyz)\n",
    "#\n",
    "# 同样，copy coor.dat 到coor文件夹下，然后改名\n",
    "# 理论上来说，coor.dat文件是存在的，不过这里还是再检查一下。\n",
    "        file = 'coor.dat'\n",
    "        path_coor_src = os.path.join(path_xyz_src, file)\n",
    "        exist = os.path.exists(path_coor_src)\n",
    "        if exist:\n",
    "            try:\n",
    "                shutil.copy(path_coor_src, path_coor_work)\n",
    "            except IOError as e:\n",
    "                print(\"Unable to copy file. %s\" % e)\n",
    "            except:\n",
    "                print(f\"Unexpected error: {sys.exc_info()}\")\n",
    "            path_coor_coor_work = os.path.join(path_coor_work, file)\n",
    "            result = os.path.splitext(file)\n",
    "            file_new = result[0] + '_' + dir_xyz + result[1]\n",
    "            path_coor_coorN_work = os.path.join(path_coor_work, file_new)\n",
    "#\n",
    "            exist = os.path.exists(path_coor_coorN_work)\n",
    "            if exist :\n",
    "                os.remove(path_coor_coorN_work)\n",
    "            else:\n",
    "                pass\n",
    "            os.rename(path_coor_coor_work, path_coor_coorN_work)\n",
    "#\n",
    "        else:\n",
    "            print()\n",
    "            print(f\"  Error! No correspoing coor.dat file for {dir_seed} / {dir_xyz}\")\n",
    "            print()\n",
    "#\n",
    "# 删除 空文件夹\n",
    "#\n",
    "    try:\n",
    "        os.removedirs(path_coor_work)\n",
    "    except:\n",
    "        pass"
   ]
  },
  {
   "cell_type": "markdown",
   "metadata": {},
   "source": [
    "### 提取cluster"
   ]
  },
  {
   "cell_type": "code",
   "execution_count": 27,
   "metadata": {
    "ExecuteTime": {
     "end_time": "2021-09-13T06:44:02.798520Z",
     "start_time": "2021-09-13T06:43:54.927190Z"
    }
   },
   "outputs": [],
   "source": [
    "for dir_seed in list_seed:\n",
    "#\n",
    "#  在新文件夹内，新建与源一致的文件夹\n",
    "    path_seed_work = os.path.join(path_work, dir_seed)\n",
    "    os.makedirs(path_seed_work, exist_ok=True)\n",
    "#\n",
    "#  在每个seed文件夹下，构建文件夹cluster\n",
    "    dir_cluster = 'cluster'\n",
    "    path_cluster_work = os.path.join(path_seed_work, dir_cluster)\n",
    "#\n",
    "#  检查是否已经存在cluster文件夹，若有，删除其中文件；若没有则构建cluster文件夹\n",
    "    os.makedirs(path_cluster_work, exist_ok=True)\n",
    "    shutil.rmtree(path_cluster_work)\n",
    "#\n",
    "# 源seed的路径\n",
    "    path_seed_src = os.path.join(path_src, dir_seed)\n",
    "# 源seed中各个xyz文件夹  \n",
    "    list_xyz = os.listdir(path_seed_src)\n",
    "#\n",
    "    for dir_xyz in list_xyz:\n",
    "#\n",
    "# 源xyz的路径\n",
    "        path_xyz_src = os.path.join(path_seed_src, dir_xyz)\n",
    "#\n",
    "# 同样，copy cluster.xyz 到cluster文件夹下，然后改名\n",
    "# 理论上来说，cluster.xyz文件是存在的，不过这里还是再检查一下。\n",
    "        file = 'cluster.xyz'\n",
    "        path_cluster_src = os.path.join(path_xyz_src, file)\n",
    "        exist = os.path.exists(path_cluster_src)\n",
    "        if exist:\n",
    "            try:\n",
    "                shutil.copy(path_cluster_src, path_cluster_work)\n",
    "            except IOError as e:\n",
    "                print(\"Unable to copy file. %s\" % e)\n",
    "            except:\n",
    "                print(f\"Unexpected error: {sys.exc_info()}\")\n",
    "            path_cluster_cluster_work = os.path.join(path_cluster_work, file)\n",
    "            result = os.path.splitext(file)\n",
    "            file_new = result[0] + '_' + dir_xyz + result[1]\n",
    "            path_cluster_clusterN_work = os.path.join(path_cluster_work, file_new)\n",
    "#\n",
    "            exist = os.path.exists(path_cluster_clusterN_work)\n",
    "            if exist :\n",
    "                os.remove(path_cluster_clusterN_work)\n",
    "            else:\n",
    "                pass\n",
    "            os.rename(path_cluster_cluster_work, path_cluster_clusterN_work)\n",
    "#\n",
    "        else:\n",
    "            print()\n",
    "            print(f\"  Error! No correspoing coor.dat file for {dir_seed} / {dir_xyz}\")\n",
    "            print()\n",
    "#\n",
    "# 删除 空文件夹\n",
    "#\n",
    "    try:\n",
    "        os.removedirs(path_cluster_work)\n",
    "    except:\n",
    "        pass"
   ]
  },
  {
   "cell_type": "markdown",
   "metadata": {},
   "source": [
    "### 提取xmu.dat"
   ]
  },
  {
   "cell_type": "code",
   "execution_count": 28,
   "metadata": {
    "ExecuteTime": {
     "end_time": "2021-09-13T06:44:15.848694Z",
     "start_time": "2021-09-13T06:44:08.666985Z"
    }
   },
   "outputs": [],
   "source": [
    "for dir_seed in list_seed:\n",
    "#\n",
    "#  在新文件夹内，新建与源一致的文件夹\n",
    "    path_seed_work = os.path.join(path_work, dir_seed)\n",
    "    os.makedirs(path_seed_work, exist_ok=True)\n",
    "#\n",
    "#  在每个seed文件夹下，构建文件夹xmu：\n",
    "    dir_xmu = 'xmu'\n",
    "    path_xmu_work = os.path.join(path_seed_work, dir_xmu)\n",
    "#\n",
    "#  检查是否已经存在xmu文件夹，若有，删除其中文件；若没有则构建xmu文件夹\n",
    "    os.makedirs(path_xmu_work, exist_ok=True)\n",
    "    shutil.rmtree(path_xmu_work)\n",
    "#\n",
    "# 源seed的路径\n",
    "    path_seed_src = os.path.join(path_src, dir_seed)\n",
    "# 源seed中各个xyz文件夹  \n",
    "    list_xyz = os.listdir(path_seed_src)\n",
    "#\n",
    "    for dir_xyz in list_xyz:\n",
    "#\n",
    "# 源xyz的路径\n",
    "        path_xyz_src = os.path.join(path_seed_src, dir_xyz)\n",
    "# 查找xyz路径（文件夹）下是否存在“xmu.dat”文件\n",
    "        file = 'xmu.dat'\n",
    "        path_xmu_src = os.path.join(path_xyz_src, file)\n",
    "        exist = os.path.exists(path_xmu_src)\n",
    "        if exist:\n",
    "#\n",
    "# 如果存在，则copy xmu.dat 到xmu文件夹下，然后改名\n",
    "            try:\n",
    "#\n",
    "#  path_xmu_src 为（带绝对路径的）文件 D:\\...\\AuPd-4000_single_xyz\\au50pd100-0\\1\\xmu.dat\n",
    "#  path_xmu_work 为 绝对路径文件夹：D:\\...\\AuPd-4000_single_xyz_WT\\au50pd100-0\\xmu\\\n",
    "                shutil.copy(path_xmu_src, path_xmu_work)\n",
    "            except IOError as e:\n",
    "                print(\"Unable to copy file. %s\" % e)\n",
    "            except:\n",
    "                print(f\"Unexpected error: {sys.exc_info()}\")\n",
    "#\n",
    "# 改名为 xmu_xyz文件夹名序号\n",
    "            path_xmu_xmu_work = os.path.join(path_xmu_work, file)\n",
    "            result = os.path.splitext(file)\n",
    "            file_new = result[0] + '_' + dir_xyz + result[1]\n",
    "            path_xmu_xmuN_work = os.path.join(path_xmu_work, file_new)\n",
    "#\n",
    "#  改名前得先看看有没有这个文件，如果有就不能改了，所以要先删除既有文件\n",
    "            exist = os.path.exists(path_xmu_xmuN_work)\n",
    "            if exist :\n",
    "                os.remove(path_xmu_xmuN_work)\n",
    "            else:\n",
    "                pass\n",
    "            os.rename(path_xmu_xmu_work, path_xmu_xmuN_work)\n",
    "#\n",
    "        else:\n",
    "            print()\n",
    "            print(f\"  Error! No correspoing coor.dat file for {dir_seed} / {dir_xyz}\")\n",
    "            print()\n",
    "#\n",
    "# 删除 空文件夹\n",
    "#\n",
    "    try:\n",
    "        os.removedirs(path_xmu_work)\n",
    "    except:\n",
    "        pass"
   ]
  },
  {
   "cell_type": "markdown",
   "metadata": {},
   "source": [
    "### 提取chi_FEFF.dat"
   ]
  },
  {
   "cell_type": "code",
   "execution_count": 29,
   "metadata": {
    "ExecuteTime": {
     "end_time": "2021-09-13T06:44:32.997636Z",
     "start_time": "2021-09-13T06:44:24.897185Z"
    }
   },
   "outputs": [],
   "source": [
    "for dir_seed in list_seed:\n",
    "#\n",
    "#  在新文件夹内，新建与源一致的文件夹\n",
    "    path_seed_work = os.path.join(path_work, dir_seed)\n",
    "    os.makedirs(path_seed_work, exist_ok=True)\n",
    "#\n",
    "#  在每个seed文件夹下，构建文件夹：chi_FEFF\n",
    "    dir_chi_FEFF = 'chi_FEFF'\n",
    "    path_chi_FEFF_work = os.path.join(path_seed_work, dir_chi_FEFF)\n",
    "#\n",
    "#  检查是否已经存在chi_FEFF文件夹，若有，删除其中文件；若没有则构建chi_FEFF文件夹\n",
    "    os.makedirs(path_chi_FEFF_work, exist_ok=True)\n",
    "    shutil.rmtree(path_chi_FEFF_work)\n",
    "#\n",
    "# 源seed的路径\n",
    "    path_seed_src = os.path.join(path_src, dir_seed)\n",
    "# 源seed中各个xyz文件夹  \n",
    "    list_xyz = os.listdir(path_seed_src)\n",
    "#\n",
    "    for dir_xyz in list_xyz:\n",
    "#\n",
    "# 源xyz的路径\n",
    "        path_xyz_src = os.path.join(path_seed_src, dir_xyz)\n",
    "# 查找xyz路径（文件夹）下是否存在“chi_FEFF.dat”文件\n",
    "        file = 'chi_FEFF.dat'\n",
    "        path_chi_FEFF_src = os.path.join(path_xyz_src, file)\n",
    "        exist = os.path.exists(path_chi_FEFF_src)\n",
    "        if exist:\n",
    "#\n",
    "# 如果存在，则copy chi_FEFF.dat 到chi_FEFF文件夹下，然后改名\n",
    "            try:\n",
    "#\n",
    "#  path_chi_FEFF_src 为（带绝对路径的）文件 D:\\...\\AuPd-4000_single_xyz\\au50pd100-0\\1\\chi_FEFF.dat\n",
    "#  path_chi_FEFF_work 为 绝对路径文件夹：D:\\...\\AuPd-4000_single_xyz_WT\\au50pd100-0\\chi_FEFF\\\n",
    "                shutil.copy(path_chi_FEFF_src, path_chi_FEFF_work)\n",
    "            except IOError as e:\n",
    "                print(\"Unable to copy file. %s\" % e)\n",
    "            except:\n",
    "                print(f\"Unexpected error: {sys.exc_info()}\")\n",
    "#\n",
    "# 改名为 chi_FEFF_xyz文件夹名序号\n",
    "            path_chi_FEFF_chi_FEFF_work = os.path.join(path_chi_FEFF_work, file)\n",
    "            result = os.path.splitext(file)\n",
    "            file_new = result[0] + '_' + dir_xyz + result[1]\n",
    "            path_chi_FEFF_chi_FEFFN_work = os.path.join(path_chi_FEFF_work, file_new)\n",
    "#\n",
    "#  改名前得先看看有没有这个文件，如果有就不能改了，所以要先删除既有文件\n",
    "            exist = os.path.exists(path_chi_FEFF_chi_FEFFN_work)\n",
    "            if exist :\n",
    "                os.remove(path_chi_FEFF_chi_FEFFN_work)\n",
    "            else:\n",
    "                pass\n",
    "            os.rename(path_chi_FEFF_chi_FEFF_work, path_chi_FEFF_chi_FEFFN_work)\n",
    "#\n",
    "        else:\n",
    "            print()\n",
    "            print(f\"  Error! No correspoing coor.dat file for {dir_seed} / {dir_xyz}\")\n",
    "            print()\n",
    "#\n",
    "# 删除 空文件夹\n",
    "#\n",
    "    try:\n",
    "        os.removedirs(path_chi_FEFF_work)\n",
    "    except:\n",
    "        pass"
   ]
  },
  {
   "cell_type": "markdown",
   "metadata": {},
   "source": [
    "### 提取expWT"
   ]
  },
  {
   "cell_type": "code",
   "execution_count": 30,
   "metadata": {
    "ExecuteTime": {
     "end_time": "2021-09-13T06:46:17.220936Z",
     "start_time": "2021-09-13T06:44:34.173450Z"
    }
   },
   "outputs": [],
   "source": [
    "for dir_seed in list_seed:\n",
    "#\n",
    "#  在新文件夹内，新建与源一致的文件夹\n",
    "    path_seed_work = os.path.join(path_work, dir_seed)\n",
    "    os.makedirs(path_seed_work, exist_ok=True)\n",
    "#\n",
    "#  在每个seed文件夹下，构建文件夹expWT\n",
    "    dir_expWT = 'expWT'\n",
    "    path_expWT_work = os.path.join(path_seed_work, dir_expWT)\n",
    "#\n",
    "#  检查是否已经存在expWT文件夹，若有，删除其中文件；若没有则构建expWT文件夹\n",
    "    os.makedirs(path_expWT_work, exist_ok=True)\n",
    "    shutil.rmtree(path_expWT_work)\n",
    "#\n",
    "# 源seed的路径\n",
    "    path_seed_src = os.path.join(path_src, dir_seed)\n",
    "# 源seed中各个xyz文件夹  \n",
    "    list_xyz = os.listdir(path_seed_src)\n",
    "#\n",
    "    for dir_xyz in list_xyz:\n",
    "#\n",
    "# 源xyz的路径\n",
    "        path_xyz_src = os.path.join(path_seed_src, dir_xyz)\n",
    "# 查找xyz路径（文件夹）下是否存在“expWT.dat”文件\n",
    "        file = 'expWT.dat'\n",
    "        path_expWT_src = os.path.join(path_xyz_src, file)\n",
    "        exist = os.path.exists(path_expWT_src)\n",
    "        if exist:\n",
    "#\n",
    "# 如果存在，则copy expWT.dat 到expWT文件夹下，然后改名\n",
    "            try:\n",
    "#\n",
    "#  path_expWT_src 为（带绝对路径的）文件 D:\\...\\AuPd-4000_single_xyz\\au50pd100-0\\1\\expWT.dat\n",
    "#  path_expWT_work 为 绝对路径文件夹：D:\\...\\AuPd-4000_single_xyz_WT\\au50pd100-0\\expWT\\\n",
    "                shutil.copy(path_expWT_src, path_expWT_work)\n",
    "            except IOError as e:\n",
    "                print(\"Unable to copy file. %s\" % e)\n",
    "            except:\n",
    "                print(f\"Unexpected error: {sys.exc_info()}\")\n",
    "#\n",
    "# 改名为 expWT_xyz文件夹名序号\n",
    "            path_expWT_expWT_work = os.path.join(path_expWT_work, file)\n",
    "            result = os.path.splitext(file)\n",
    "            file_new = result[0] + '_' + dir_xyz + result[1]\n",
    "            path_expWT_expWTN_work = os.path.join(path_expWT_work, file_new)\n",
    "#\n",
    "#  改名前得先看看有没有这个文件，如果有就不能改了，所以要先删除既有文件\n",
    "            exist = os.path.exists(path_expWT_expWTN_work)\n",
    "            if exist :\n",
    "                os.remove(path_expWT_expWTN_work)\n",
    "            else:\n",
    "                pass\n",
    "            os.rename(path_expWT_expWT_work, path_expWT_expWTN_work)\n",
    "#\n",
    "        else:\n",
    "            pass\n",
    "#\n",
    "# 删除 空文件夹\n",
    "#\n",
    "    try:\n",
    "        os.removedirs(path_expWT_work)\n",
    "    except:\n",
    "        pass"
   ]
  },
  {
   "cell_type": "markdown",
   "metadata": {},
   "source": [
    "### 提取expFT"
   ]
  },
  {
   "cell_type": "code",
   "execution_count": 31,
   "metadata": {
    "ExecuteTime": {
     "end_time": "2021-09-13T06:46:33.591446Z",
     "start_time": "2021-09-13T06:46:23.639446Z"
    }
   },
   "outputs": [],
   "source": [
    "for dir_seed in list_seed:\n",
    "#\n",
    "#  在新文件夹内，新建与源一致的文件夹\n",
    "    path_seed_work = os.path.join(path_work, dir_seed)\n",
    "    os.makedirs(path_seed_work, exist_ok=True)\n",
    "#\n",
    "#  在每个seed文件夹下，构建目标文件夹\n",
    "    dir_dest = 'expFT'\n",
    "    path_dest_work = os.path.join(path_seed_work, dir_dest)\n",
    "#\n",
    "#  检查是否已经存在目标文件夹，若有，删除其中文件；若没有则构建之\n",
    "    os.makedirs(path_dest_work, exist_ok=True)\n",
    "    shutil.rmtree(path_dest_work)\n",
    "#\n",
    "# 源seed的路径\n",
    "    path_seed_src = os.path.join(path_src, dir_seed)\n",
    "# 源seed中各个xyz文件夹  \n",
    "    list_xyz = os.listdir(path_seed_src)\n",
    "#\n",
    "    for dir_xyz in list_xyz:\n",
    "#\n",
    "# 源xyz的路径\n",
    "        path_xyz_src = os.path.join(path_seed_src, dir_xyz)\n",
    "# 查找xyz路径（文件夹）下是否存在目标文件\n",
    "        dest = 'expFT.dat'\n",
    "        path_dest_src = os.path.join(path_xyz_src, dest)\n",
    "        exist = os.path.exists(path_dest_src)\n",
    "        if exist:\n",
    "#\n",
    "# 如果存在，则copy目标文件到目标文件夹下，然后改名\n",
    "            try:\n",
    "#\n",
    "#  path_dest_src 为（带绝对路径的）文件 D:\\...\\AuPd-4000_single_xyz\\au50pd100-0\\1\\dest.dat\n",
    "#  path_dest_work 为 绝对路径文件夹：D:\\...\\AuPd-4000_single_xyz_WT\\au50pd100-0\\dest\\\n",
    "                shutil.copy(path_dest_src, path_dest_work)\n",
    "            except IOError as e:\n",
    "                print(\"Unable to copy file. %s\" % e)\n",
    "            except:\n",
    "                print(f\"Unexpected error: {sys.exc_info()}\")\n",
    "#\n",
    "# 改名为 dest文件夹名序号\n",
    "            path_dest_dest_work = os.path.join(path_dest_work, dest)\n",
    "            result = os.path.splitext(dest)\n",
    "            dest_new = result[0] + '_' + dir_xyz + result[1]\n",
    "            path_dest_destN_work = os.path.join(path_dest_work, dest_new)\n",
    "#\n",
    "#  改名前得先看看有没有这个文件，如果有就不能改了，所以要先删除既有文件\n",
    "            exist = os.path.exists(path_dest_destN_work)\n",
    "            if exist :\n",
    "                os.remove(path_dest_destN_work)\n",
    "            else:\n",
    "                pass\n",
    "            os.rename(path_dest_dest_work, path_dest_destN_work)\n",
    "#\n",
    "        else:\n",
    "            pass\n",
    "#\n",
    "# 删除 空文件夹\n",
    "#\n",
    "    try:\n",
    "        os.removedirs(path_dest_work)\n",
    "    except:\n",
    "        pass"
   ]
  },
  {
   "cell_type": "markdown",
   "metadata": {},
   "source": [
    "### 提取expBFT"
   ]
  },
  {
   "cell_type": "code",
   "execution_count": 32,
   "metadata": {
    "ExecuteTime": {
     "end_time": "2021-09-13T06:47:41.456529Z",
     "start_time": "2021-09-13T06:47:34.237581Z"
    }
   },
   "outputs": [],
   "source": [
    "for dir_seed in list_seed:\n",
    "#\n",
    "#  在新文件夹内，新建与源一致的文件夹\n",
    "    path_seed_work = os.path.join(path_work, dir_seed)\n",
    "    os.makedirs(path_seed_work, exist_ok=True)\n",
    "#\n",
    "#  在每个seed文件夹下，构建目标文件夹\n",
    "    dir_dest = 'expBFT'\n",
    "    path_dest_work = os.path.join(path_seed_work, dir_dest)\n",
    "#\n",
    "#  检查是否已经存在目标文件夹，若有，删除其中文件；若没有则构建之\n",
    "    os.makedirs(path_dest_work, exist_ok=True)\n",
    "    shutil.rmtree(path_dest_work)\n",
    "#\n",
    "# 源seed的路径\n",
    "    path_seed_src = os.path.join(path_src, dir_seed)\n",
    "# 源seed中各个xyz文件夹  \n",
    "    list_xyz = os.listdir(path_seed_src)\n",
    "#\n",
    "    for dir_xyz in list_xyz:\n",
    "#\n",
    "# 源xyz的路径\n",
    "        path_xyz_src = os.path.join(path_seed_src, dir_xyz)\n",
    "# 查找xyz路径（文件夹）下是否存在目标文件\n",
    "        dest = 'expBFT.dat'\n",
    "        path_dest_src = os.path.join(path_xyz_src, dest)\n",
    "        exist = os.path.exists(path_dest_src)\n",
    "        if exist:\n",
    "#\n",
    "# 如果存在，则copy目标文件到目标文件夹下，然后改名\n",
    "            try:\n",
    "#\n",
    "#  path_dest_src 为（带绝对路径的）文件 D:\\...\\AuPd-4000_single_xyz\\au50pd100-0\\1\\dest.dat\n",
    "#  path_dest_work 为 绝对路径文件夹：D:\\...\\AuPd-4000_single_xyz_WT\\au50pd100-0\\dest\\\n",
    "                shutil.copy(path_dest_src, path_dest_work)\n",
    "            except IOError as e:\n",
    "                print(\"Unable to copy file. %s\" % e)\n",
    "            except:\n",
    "                print(f\"Unexpected error: {sys.exc_info()}\")\n",
    "#\n",
    "# 改名为 dest文件夹名序号\n",
    "            path_dest_dest_work = os.path.join(path_dest_work, dest)\n",
    "            result = os.path.splitext(dest)\n",
    "            dest_new = result[0] + '_' + dir_xyz + result[1]\n",
    "            path_dest_destN_work = os.path.join(path_dest_work, dest_new)\n",
    "#\n",
    "#  改名前得先看看有没有这个文件，如果有就不能改了，所以要先删除既有文件\n",
    "            exist = os.path.exists(path_dest_destN_work)\n",
    "            if exist :\n",
    "                os.remove(path_dest_destN_work)\n",
    "            else:\n",
    "                pass\n",
    "            os.rename(path_dest_dest_work, path_dest_destN_work)\n",
    "#\n",
    "        else:\n",
    "            pass\n",
    "#\n",
    "# 删除 空文件夹\n",
    "#\n",
    "    try:\n",
    "        os.removedirs(path_dest_work)\n",
    "    except:\n",
    "        pass"
   ]
  },
  {
   "cell_type": "code",
   "execution_count": null,
   "metadata": {},
   "outputs": [],
   "source": []
  }
 ],
 "metadata": {
  "kernelspec": {
   "display_name": "Python 3",
   "language": "python",
   "name": "python3"
  },
  "language_info": {
   "codemirror_mode": {
    "name": "ipython",
    "version": 3
   },
   "file_extension": ".py",
   "mimetype": "text/x-python",
   "name": "python",
   "nbconvert_exporter": "python",
   "pygments_lexer": "ipython3",
   "version": "3.8.8"
  },
  "toc": {
   "base_numbering": 1,
   "nav_menu": {},
   "number_sections": true,
   "sideBar": true,
   "skip_h1_title": false,
   "title_cell": "Table of Contents",
   "title_sidebar": "Contents",
   "toc_cell": false,
   "toc_position": {},
   "toc_section_display": true,
   "toc_window_display": false
  },
  "varInspector": {
   "cols": {
    "lenName": 16,
    "lenType": 16,
    "lenVar": 40
   },
   "kernels_config": {
    "python": {
     "delete_cmd_postfix": "",
     "delete_cmd_prefix": "del ",
     "library": "var_list.py",
     "varRefreshCmd": "print(var_dic_list())"
    },
    "r": {
     "delete_cmd_postfix": ") ",
     "delete_cmd_prefix": "rm(",
     "library": "var_list.r",
     "varRefreshCmd": "cat(var_dic_list()) "
    }
   },
   "types_to_exclude": [
    "module",
    "function",
    "builtin_function_or_method",
    "instance",
    "_Feature"
   ],
   "window_display": false
  }
 },
 "nbformat": 4,
 "nbformat_minor": 4
}
