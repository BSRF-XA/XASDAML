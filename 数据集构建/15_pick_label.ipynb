{
 "cells": [
  {
   "cell_type": "markdown",
   "metadata": {},
   "source": [
    "## 本程序移除不满足要求的位点信息，服务对象是已经挑选出cluster、expWT等文件到\"_treat\"文件夹的数据。本程序不统计label值。"
   ]
  },
  {
   "cell_type": "markdown",
   "metadata": {},
   "source": [
    "### 假设需要统计的文件的目录结构为“AuPd-4000_au150-0_WT_untar_treat”（一级目录）——“500”（二级目录）——“cluster/coor/expWT”（三级目录），将本程序安放在与一级目录平行的另一个一级目录（或一级目录本身）的任意一个二级文件目录内，即可运行。\n",
    "### 它会将不符合的数据，提取到与“cluster、coor、expWT”等平行目录的“check”文件夹中"
   ]
  },
  {
   "cell_type": "markdown",
   "metadata": {},
   "source": [
    "last update: 2021.9.14"
   ]
  },
  {
   "cell_type": "markdown",
   "metadata": {},
   "source": [
    "contacts: zhaohf@ihep.ac.cn"
   ]
  },
  {
   "cell_type": "markdown",
   "metadata": {},
   "source": [
    "# 配置环境"
   ]
  },
  {
   "cell_type": "markdown",
   "metadata": {},
   "source": [
    "## 导入各种模块"
   ]
  },
  {
   "cell_type": "code",
   "execution_count": 1,
   "metadata": {
    "ExecuteTime": {
     "end_time": "2021-09-14T15:03:32.290675Z",
     "start_time": "2021-09-14T15:03:32.002417Z"
    }
   },
   "outputs": [],
   "source": [
    "import os\n",
    "import sys\n",
    "import numpy as np\n",
    "import pandas as pd\n",
    "import shutil"
   ]
  },
  {
   "cell_type": "markdown",
   "metadata": {},
   "source": [
    "输出导入模板的版本。"
   ]
  },
  {
   "cell_type": "code",
   "execution_count": 2,
   "metadata": {
    "ExecuteTime": {
     "end_time": "2021-09-14T15:03:34.365335Z",
     "start_time": "2021-09-14T15:03:34.362329Z"
    },
    "scrolled": true
   },
   "outputs": [
    {
     "name": "stdout",
     "output_type": "stream",
     "text": [
      "python version: 3.8.8 (default, Apr 13 2021, 15:08:03) [MSC v.1916 64 bit (AMD64)]\n",
      "numpy version: 1.19.5\n",
      "panda version: 1.2.4\n"
     ]
    }
   ],
   "source": [
    "print('python version:',sys.version)\n",
    "print('numpy version:',np.__version__)\n",
    "print('panda version:',pd.__version__)\n",
    "#print('shutil version:',shutil.__version__)"
   ]
  },
  {
   "cell_type": "markdown",
   "metadata": {},
   "source": [
    "# 设置输入文件夹和输出文件夹"
   ]
  },
  {
   "cell_type": "markdown",
   "metadata": {},
   "source": [
    "## 设置源文件夹，即要处理的文件夹"
   ]
  },
  {
   "cell_type": "code",
   "execution_count": 3,
   "metadata": {
    "ExecuteTime": {
     "end_time": "2021-09-14T15:03:36.085253Z",
     "start_time": "2021-09-14T15:03:36.083249Z"
    }
   },
   "outputs": [],
   "source": [
    "# 设置源文件夹，即经过计算集群计算的文件夹\n",
    "dir_src = 'AuPd-4000_au150-0_DW_R0_cncr_WT_untar_treat'"
   ]
  },
  {
   "cell_type": "markdown",
   "metadata": {},
   "source": [
    "## 设置移除的文件夹"
   ]
  },
  {
   "cell_type": "code",
   "execution_count": 4,
   "metadata": {
    "ExecuteTime": {
     "end_time": "2021-09-14T15:03:37.172959Z",
     "start_time": "2021-09-14T15:03:37.170953Z"
    }
   },
   "outputs": [],
   "source": [
    "dir_check = 'check'"
   ]
  },
  {
   "cell_type": "markdown",
   "metadata": {},
   "source": [
    "## 设置认可的配位数范围"
   ]
  },
  {
   "cell_type": "code",
   "execution_count": 5,
   "metadata": {
    "ExecuteTime": {
     "end_time": "2021-09-14T15:03:38.204465Z",
     "start_time": "2021-09-14T15:03:38.202450Z"
    }
   },
   "outputs": [],
   "source": [
    "cn_max = 14\n",
    "cn_min = 3"
   ]
  },
  {
   "cell_type": "markdown",
   "metadata": {},
   "source": [
    "# 一些函数、类"
   ]
  },
  {
   "cell_type": "markdown",
   "metadata": {},
   "source": [
    "## 读取coor.dat文件中的数组"
   ]
  },
  {
   "cell_type": "code",
   "execution_count": 6,
   "metadata": {
    "ExecuteTime": {
     "end_time": "2021-09-14T15:03:40.478121Z",
     "start_time": "2021-09-14T15:03:40.472104Z"
    }
   },
   "outputs": [],
   "source": [
    "def read_coor(path_coor, shell=1):\n",
    "    \"\"\"\n",
    "    读取coor.dat中前shell个壳层的数据\n",
    "    \"\"\"\n",
    "    exist = os.path.exists(path_coor)\n",
    "    if exist:\n",
    "        coor = pd.read_csv(path_coor,delim_whitespace=True,header=None, skiprows=[0,1])\n",
    "        coor_data = coor.values\n",
    "        cn = coor_data[0:shell,1]\n",
    "        r = coor_data[0:shell,2]\n",
    "        r_d = coor_data[0:shell,3]\n",
    "#\n",
    "        return cn,r,r_d\n",
    "#\n",
    "    else:\n",
    "        return None  "
   ]
  },
  {
   "cell_type": "markdown",
   "metadata": {},
   "source": [
    "# 程序正文"
   ]
  },
  {
   "cell_type": "markdown",
   "metadata": {},
   "source": [
    "## 设置工作文件夹"
   ]
  },
  {
   "cell_type": "code",
   "execution_count": 7,
   "metadata": {
    "ExecuteTime": {
     "end_time": "2021-09-14T15:03:42.441246Z",
     "start_time": "2021-09-14T15:03:42.434226Z"
    }
   },
   "outputs": [
    {
     "data": {
      "text/plain": [
       "'D:\\\\haifeng\\\\work_20210709\\\\ML+XAS\\\\code\\\\datasets setup\\\\jupyterbook'"
      ]
     },
     "execution_count": 7,
     "metadata": {},
     "output_type": "execute_result"
    }
   ],
   "source": [
    "# 当前目录\n",
    "path = os.path.abspath('./')\n",
    "path"
   ]
  },
  {
   "cell_type": "code",
   "execution_count": 8,
   "metadata": {
    "ExecuteTime": {
     "end_time": "2021-09-14T15:03:43.933697Z",
     "start_time": "2021-09-14T15:03:43.929678Z"
    }
   },
   "outputs": [
    {
     "data": {
      "text/plain": [
       "'D:\\\\haifeng\\\\work_20210709\\\\ML+XAS\\\\code\\\\datasets setup'"
      ]
     },
     "execution_count": 8,
     "metadata": {},
     "output_type": "execute_result"
    }
   ],
   "source": [
    "# 上一级目录\n",
    "path_par = os.path.abspath(os.path.pardir)\n",
    "path_par"
   ]
  },
  {
   "cell_type": "code",
   "execution_count": 9,
   "metadata": {
    "ExecuteTime": {
     "end_time": "2021-09-14T15:03:45.309044Z",
     "start_time": "2021-09-14T15:03:45.306071Z"
    }
   },
   "outputs": [],
   "source": [
    "# 设置源文件夹路径\n",
    "path_src = os.path.join(path_par, dir_src)"
   ]
  },
  {
   "cell_type": "code",
   "execution_count": 10,
   "metadata": {
    "ExecuteTime": {
     "end_time": "2021-09-14T15:03:46.080104Z",
     "start_time": "2021-09-14T15:03:46.074089Z"
    },
    "code_folding": [
     2
    ]
   },
   "outputs": [
    {
     "data": {
      "text/plain": [
       "['100',\n",
       " '1000',\n",
       " '1100',\n",
       " '1200',\n",
       " '1300',\n",
       " '1400',\n",
       " '1500',\n",
       " '1600',\n",
       " '1700',\n",
       " '1800',\n",
       " '1900',\n",
       " '200',\n",
       " '2000',\n",
       " '2100',\n",
       " '2200',\n",
       " '2300',\n",
       " '2400',\n",
       " '2500',\n",
       " '2600',\n",
       " '2700',\n",
       " '2800',\n",
       " '2900',\n",
       " '300',\n",
       " '3000',\n",
       " '3100',\n",
       " '3200',\n",
       " '3300',\n",
       " '3400',\n",
       " '3500',\n",
       " '3600',\n",
       " '3700',\n",
       " '3800',\n",
       " '3900',\n",
       " '400',\n",
       " '4000',\n",
       " '500',\n",
       " '600',\n",
       " '700',\n",
       " '800',\n",
       " '900']"
      ]
     },
     "execution_count": 10,
     "metadata": {},
     "output_type": "execute_result"
    }
   ],
   "source": [
    "# 检查源文件夹是否存在，存在则列出其内部文件夹，不存在则打印错误\n",
    "exist = os.path.exists(path_src)\n",
    "if exist:\n",
    "    list_seed = os.listdir(path_src)\n",
    "else:\n",
    "    print()\n",
    "    print('** Error!! WT untared directory', dir_src, 'is not found!' )\n",
    "    print()\n",
    "#    sys.exit()\n",
    "list_seed"
   ]
  },
  {
   "cell_type": "code",
   "execution_count": 12,
   "metadata": {
    "ExecuteTime": {
     "end_time": "2021-09-14T15:04:23.305758Z",
     "start_time": "2021-09-14T15:04:15.225259Z"
    },
    "code_folding": []
   },
   "outputs": [
    {
     "name": "stdout",
     "output_type": "stream",
     "text": [
      "\n",
      "** 0 sites'cn < 3 or > 14 should be checked. **\n"
     ]
    }
   ],
   "source": [
    "#  N_bad 表示不好的位点数量（也就是配位数超过m的位点数）\n",
    "N_bad = 0\n",
    "#\n",
    "# 进入各个cluster，即100、200等\n",
    "for dir_seed in list_seed:\n",
    "# 源seed的路径\n",
    "    path_seed_src = os.path.join(path_src, dir_seed)\n",
    "# 先检查各seed下有没有coor文件夹，如果没有，则报错，因为这样无法进行判断\n",
    "    dir_coor = 'coor'\n",
    "    path_coor_src = os.path.join(path_seed_src, dir_coor)\n",
    "    exist = os.path.exists(path_coor_src)\n",
    "    if exist:\n",
    "        pass\n",
    "    else:\n",
    "        print()\n",
    "        print('** Error!! Directory', dir_coor, 'is not found!' )\n",
    "#        sys.exit()\n",
    "#\n",
    "#  在源文件夹内，查一下有哪些文件夹\n",
    "    list_choose = os.listdir(path_seed_src)\n",
    "# 创建“check”文件夹目录\n",
    "#    dir_check = 'check'\n",
    "    path_check_work = os.path.join(path_seed_src, dir_check)\n",
    "    os.makedirs(path_check_work, exist_ok=True)\n",
    "#\n",
    "# 源seed/coor中各个coor文件  \n",
    "    list_coor = os.listdir(path_coor_src)\n",
    "    for file_coor in list_coor:\n",
    "#\n",
    "# 各个coor_i.dat文件的路径\n",
    "        path_coorN_src = os.path.join(path_coor_src, file_coor)\n",
    "#\n",
    "#  读取coor_i.dat中的信息\n",
    "        cn,r,r_d = read_coor(path_coorN_src,1)\n",
    "#\n",
    "        if cn[0] < cn_min or cn[0] > cn_max :\n",
    "            N_bad = N_bad + 1\n",
    "            print()\n",
    "            print('** file', dir_seed, '/', file_coor, ' is moved to ''check'' directory. **')\n",
    "            print('** Its CN is', cn[0])\n",
    "            print('** Its CR is', r[0])\n",
    "            print('** Its CR delta is', r_d[0])\n",
    "#\n",
    "#  将配位数大于m的文件——所有seed文件夹下各文件夹中的文件，如coor、cluster、expWT等——移动到check文件夹下\n",
    "            try:\n",
    "                shutil.move(path_coorN_src,path_check_work)\n",
    "            except shutil.Error:\n",
    "                path_coorN_work = os.path.join(path_check_work, file_coor)\n",
    "                os.remove(path_coorN_work)\n",
    "                shutil.move(path_coorN_src,path_check_work)\n",
    "#\n",
    "#  对coorN.dat文件进行断句，找到是第几个位点，便于去cluster、expWT文件夹中进行寻找。\n",
    "            result = os.path.splitext(file_coor)\n",
    "            number = result[0][5:]\n",
    "            key = '_' + number + '.'\n",
    "            for dest in list_choose:\n",
    "                if dest != 'coor' and dest != 'check':\n",
    "                    path_dest_src = os.path.join(path_seed_src, dest)\n",
    "                    list_dest = os.listdir(path_dest_src)\n",
    "                    found = False\n",
    "                    for file in list_dest:\n",
    "                        if key in file:\n",
    "                            found = True\n",
    "                            break\n",
    "                    if found:\n",
    "                        path_file_src = os.path.join(path_dest_src, file)\n",
    "                        try:\n",
    "                            shutil.move(path_file_src,path_check_work)\n",
    "                        except shutil.Error:\n",
    "                            path_file_work = os.path.join(path_check_work, file)\n",
    "                            os.remove(path_file_work)\n",
    "                            shutil.move(path_file_src,path_check_work)\n",
    "#\n",
    "# 删除 空文件夹\n",
    "#\n",
    "    try:\n",
    "        os.removedirs(path_check_work)\n",
    "    except:\n",
    "        pass\n",
    "#\n",
    "print()\n",
    "print(f\"** {N_bad} sites'cn < {cn_min} or > {cn_max} should be checked. **\")\n",
    "#"
   ]
  }
 ],
 "metadata": {
  "kernelspec": {
   "display_name": "Python 3",
   "language": "python",
   "name": "python3"
  },
  "language_info": {
   "codemirror_mode": {
    "name": "ipython",
    "version": 3
   },
   "file_extension": ".py",
   "mimetype": "text/x-python",
   "name": "python",
   "nbconvert_exporter": "python",
   "pygments_lexer": "ipython3",
   "version": "3.8.8"
  },
  "toc": {
   "base_numbering": 1,
   "nav_menu": {},
   "number_sections": true,
   "sideBar": true,
   "skip_h1_title": false,
   "title_cell": "Table of Contents",
   "title_sidebar": "Contents",
   "toc_cell": false,
   "toc_position": {},
   "toc_section_display": true,
   "toc_window_display": false
  },
  "varInspector": {
   "cols": {
    "lenName": 16,
    "lenType": 16,
    "lenVar": 40
   },
   "kernels_config": {
    "python": {
     "delete_cmd_postfix": "",
     "delete_cmd_prefix": "del ",
     "library": "var_list.py",
     "varRefreshCmd": "print(var_dic_list())"
    },
    "r": {
     "delete_cmd_postfix": ") ",
     "delete_cmd_prefix": "rm(",
     "library": "var_list.r",
     "varRefreshCmd": "cat(var_dic_list()) "
    }
   },
   "types_to_exclude": [
    "module",
    "function",
    "builtin_function_or_method",
    "instance",
    "_Feature"
   ],
   "window_display": false
  }
 },
 "nbformat": 4,
 "nbformat_minor": 4
}
