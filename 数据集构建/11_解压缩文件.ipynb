{
 "cells": [
  {
   "cell_type": "markdown",
   "metadata": {
    "ExecuteTime": {
     "end_time": "2020-09-08T08:27:40.714309Z",
     "start_time": "2020-09-08T08:27:40.707472Z"
    }
   },
   "source": [
    "# 本程序对计算出的tar.gz文件进行批量解压缩。"
   ]
  },
  {
   "cell_type": "markdown",
   "metadata": {},
   "source": [
    "## 将本程序安放在“种子文件_single_xyz_WT”（名称可更改）所在文件夹（一级目录）下的任意一个文件夹下（二级目录）。\n",
    "## 这里种子文件夹名为 “AuPd-4000”；\n",
    "## 提出cluster文件的文件夹为“AuPd-4000_single_xyz”；\n",
    "## 进行计算集群计算小波变换后的文件夹为“AuPd-4000_single_xyz_WT”\n",
    "## 经过解压缩后的文件夹为“AuPd-4000_single_xyz_WT_untar”；"
   ]
  },
  {
   "cell_type": "markdown",
   "metadata": {},
   "source": [
    "last updated: 2021.9.9"
   ]
  },
  {
   "cell_type": "markdown",
   "metadata": {},
   "source": [
    "contacts: zhaohf@ihep.ac.cn"
   ]
  },
  {
   "cell_type": "markdown",
   "metadata": {},
   "source": [
    "# 配置环境"
   ]
  },
  {
   "cell_type": "code",
   "execution_count": 1,
   "metadata": {
    "ExecuteTime": {
     "end_time": "2021-12-17T13:32:42.256650Z",
     "start_time": "2021-12-17T13:32:42.237699Z"
    }
   },
   "outputs": [],
   "source": [
    "import os\n",
    "import sys\n",
    "import shutil\n",
    "import tarfile"
   ]
  },
  {
   "cell_type": "markdown",
   "metadata": {},
   "source": [
    "输出导入模板的版本。"
   ]
  },
  {
   "cell_type": "code",
   "execution_count": 2,
   "metadata": {
    "ExecuteTime": {
     "end_time": "2021-09-09T02:18:43.635324Z",
     "start_time": "2021-09-09T02:18:43.631314Z"
    }
   },
   "outputs": [
    {
     "name": "stdout",
     "output_type": "stream",
     "text": [
      "python version: 3.8.8 (default, Apr 13 2021, 15:08:03) [MSC v.1916 64 bit (AMD64)]\n"
     ]
    }
   ],
   "source": [
    "print('python version:',sys.version)\n",
    "#print('shutil version:',shutil.__version__)\n",
    "#print('tarfile version:',tarfile.__version__)"
   ]
  },
  {
   "cell_type": "markdown",
   "metadata": {},
   "source": [
    "# 设置输入文件夹和输出文件夹"
   ]
  },
  {
   "cell_type": "markdown",
   "metadata": {},
   "source": [
    "## 当前目录"
   ]
  },
  {
   "cell_type": "code",
   "execution_count": 3,
   "metadata": {
    "ExecuteTime": {
     "end_time": "2021-09-09T02:18:45.362806Z",
     "start_time": "2021-09-09T02:18:45.348769Z"
    }
   },
   "outputs": [
    {
     "data": {
      "text/plain": [
       "'D:\\\\haifeng\\\\work_20210709\\\\ML+XAS\\\\code\\\\datasets setup\\\\jupyterbook'"
      ]
     },
     "execution_count": 3,
     "metadata": {},
     "output_type": "execute_result"
    }
   ],
   "source": [
    "path = os.path.abspath('./')\n",
    "path"
   ]
  },
  {
   "cell_type": "code",
   "execution_count": 4,
   "metadata": {
    "ExecuteTime": {
     "end_time": "2021-09-09T02:18:47.153061Z",
     "start_time": "2021-09-09T02:18:47.149051Z"
    }
   },
   "outputs": [
    {
     "data": {
      "text/plain": [
       "'D:\\\\haifeng\\\\work_20210709\\\\ML+XAS\\\\code\\\\datasets setup'"
      ]
     },
     "execution_count": 4,
     "metadata": {},
     "output_type": "execute_result"
    }
   ],
   "source": [
    "# 上一级目录\n",
    "path_par = os.path.abspath(os.path.pardir)\n",
    "path_par"
   ]
  },
  {
   "cell_type": "markdown",
   "metadata": {},
   "source": [
    "## 设置源文件夹，即经过计算集群计算的文件夹"
   ]
  },
  {
   "cell_type": "code",
   "execution_count": 5,
   "metadata": {
    "ExecuteTime": {
     "end_time": "2021-09-09T02:18:48.991709Z",
     "start_time": "2021-09-09T02:18:48.986713Z"
    }
   },
   "outputs": [],
   "source": [
    "dir_src = 'AuPd-4000_au150-0_DW_R0_cncr_WT'\n",
    "path_src = os.path.join(path_par, dir_src)"
   ]
  },
  {
   "cell_type": "markdown",
   "metadata": {},
   "source": [
    "## 设置解压缩文件夹名称"
   ]
  },
  {
   "cell_type": "code",
   "execution_count": 6,
   "metadata": {
    "ExecuteTime": {
     "end_time": "2021-09-09T02:18:51.052618Z",
     "start_time": "2021-09-09T02:18:51.048606Z"
    }
   },
   "outputs": [
    {
     "data": {
      "text/plain": [
       "'D:\\\\haifeng\\\\work_20210709\\\\ML+XAS\\\\code\\\\datasets setup\\\\AuPd-4000_au150-0_DW_R0_cncr_WT_untar'"
      ]
     },
     "execution_count": 6,
     "metadata": {},
     "output_type": "execute_result"
    }
   ],
   "source": [
    "dir_work = dir_src + '_untar'\n",
    "path_work = os.path.join(path_par, dir_work)\n",
    "os.makedirs(path_work, exist_ok=True)\n",
    "path_work"
   ]
  },
  {
   "cell_type": "markdown",
   "metadata": {},
   "source": [
    "# 正文"
   ]
  },
  {
   "cell_type": "code",
   "execution_count": 7,
   "metadata": {
    "ExecuteTime": {
     "end_time": "2021-09-09T02:19:01.067221Z",
     "start_time": "2021-09-09T02:19:01.061224Z"
    }
   },
   "outputs": [
    {
     "data": {
      "text/plain": [
       "['100',\n",
       " '1000',\n",
       " '1100',\n",
       " '1200',\n",
       " '1300',\n",
       " '1400',\n",
       " '1500',\n",
       " '1600',\n",
       " '1700',\n",
       " '1800',\n",
       " '1900',\n",
       " '200',\n",
       " '2000',\n",
       " '2100',\n",
       " '2200',\n",
       " '2300',\n",
       " '2400',\n",
       " '2500',\n",
       " '2600',\n",
       " '2700',\n",
       " '2800',\n",
       " '2900',\n",
       " '300',\n",
       " '3000',\n",
       " '3100',\n",
       " '3200',\n",
       " '3300',\n",
       " '3400',\n",
       " '3500',\n",
       " '3600',\n",
       " '3700',\n",
       " '3800',\n",
       " '3900',\n",
       " '400',\n",
       " '4000',\n",
       " '500',\n",
       " '600',\n",
       " '700',\n",
       " '800',\n",
       " '900',\n",
       " 'code_bash_noout_time_nocut',\n",
       " 'code_bash_noout_time_nocut.zip',\n",
       " 'run']"
      ]
     },
     "execution_count": 7,
     "metadata": {},
     "output_type": "execute_result"
    }
   ],
   "source": [
    "# 检查源文件夹是否存在，存在则列出其内部文件夹，不存在则打印错误\n",
    "exist = os.path.exists(path_src)\n",
    "if exist:\n",
    "    list_seed = os.listdir(path_src)\n",
    "else:\n",
    "    print()\n",
    "    print('** Error!! WT tared directory', dir_src, 'is not found!' )\n",
    "    print()\n",
    "#    sys.exit()\n",
    "list_seed"
   ]
  },
  {
   "cell_type": "markdown",
   "metadata": {},
   "source": [
    "# 开始解压缩"
   ]
  },
  {
   "cell_type": "code",
   "execution_count": 8,
   "metadata": {
    "ExecuteTime": {
     "end_time": "2021-09-09T02:33:10.204737Z",
     "start_time": "2021-09-09T02:22:44.506754Z"
    },
    "scrolled": true
   },
   "outputs": [
    {
     "name": "stdout",
     "output_type": "stream",
     "text": [
      "** seed  100  untared.\n",
      "** seed  1000  untared.\n",
      "** seed  1100  untared.\n",
      "** seed  1200  untared.\n",
      "** seed  1300  untared.\n",
      "** seed  1400  untared.\n",
      "** seed  1500  untared.\n",
      "** seed  1600  untared.\n",
      "** seed  1700  untared.\n",
      "** seed  1800  untared.\n",
      "** seed  1900  untared.\n",
      "** seed  200  untared.\n",
      "** seed  2000  untared.\n",
      "** seed  2100  untared.\n",
      "** seed  2200  untared.\n",
      "** seed  2300  untared.\n",
      "** seed  2400  untared.\n",
      "** seed  2500  untared.\n",
      "** seed  2600  untared.\n",
      "** seed  2700  untared.\n",
      "** seed  2800  untared.\n",
      "** seed  2900  untared.\n",
      "** seed  300  untared.\n",
      "** seed  3000  untared.\n",
      "** seed  3100  untared.\n",
      "** seed  3200  untared.\n",
      "** seed  3300  untared.\n",
      "** seed  3400  untared.\n",
      "** seed  3500  untared.\n",
      "** seed  3600  untared.\n",
      "** seed  3700  untared.\n",
      "** seed  3800  untared.\n",
      "** seed  3900  untared.\n",
      "** seed  400  untared.\n",
      "** seed  4000  untared.\n",
      "** seed  500  untared.\n",
      "** seed  600  untared.\n",
      "** seed  700  untared.\n",
      "** seed  800  untared.\n",
      "** seed  900  untared.\n",
      "** seed  code_bash_noout_time_nocut  untared.\n"
     ]
    },
    {
     "ename": "NotADirectoryError",
     "evalue": "[WinError 267] 目录名称无效。: 'D:\\\\haifeng\\\\work_20210709\\\\ML+XAS\\\\code\\\\datasets setup\\\\AuPd-4000_au150-0_DW_R0_cncr_WT\\\\code_bash_noout_time_nocut.zip'",
     "output_type": "error",
     "traceback": [
      "\u001b[1;31m---------------------------------------------------------------------------\u001b[0m",
      "\u001b[1;31mNotADirectoryError\u001b[0m                        Traceback (most recent call last)",
      "\u001b[1;32m<ipython-input-8-35c1d5c53127>\u001b[0m in \u001b[0;36m<module>\u001b[1;34m\u001b[0m\n\u001b[0;32m     10\u001b[0m \u001b[1;31m#\u001b[0m\u001b[1;33m\u001b[0m\u001b[1;33m\u001b[0m\u001b[1;33m\u001b[0m\u001b[0m\n\u001b[0;32m     11\u001b[0m \u001b[1;31m#  读取源文件夹seed下的各个tar.gz文件，对以“.tar.gz”结尾的文件进行解压缩\u001b[0m\u001b[1;33m\u001b[0m\u001b[1;33m\u001b[0m\u001b[1;33m\u001b[0m\u001b[0m\n\u001b[1;32m---> 12\u001b[1;33m     \u001b[0mlist_tar_file\u001b[0m \u001b[1;33m=\u001b[0m \u001b[0mos\u001b[0m\u001b[1;33m.\u001b[0m\u001b[0mlistdir\u001b[0m\u001b[1;33m(\u001b[0m\u001b[0mpath_seed_src\u001b[0m\u001b[1;33m)\u001b[0m\u001b[1;33m\u001b[0m\u001b[1;33m\u001b[0m\u001b[0m\n\u001b[0m\u001b[0;32m     13\u001b[0m     \u001b[1;32mfor\u001b[0m \u001b[0mtar_file\u001b[0m \u001b[1;32min\u001b[0m \u001b[0mlist_tar_file\u001b[0m\u001b[1;33m:\u001b[0m\u001b[1;33m\u001b[0m\u001b[1;33m\u001b[0m\u001b[0m\n\u001b[0;32m     14\u001b[0m         \u001b[0mlength\u001b[0m \u001b[1;33m=\u001b[0m \u001b[0mlen\u001b[0m\u001b[1;33m(\u001b[0m\u001b[0mtar_file\u001b[0m\u001b[1;33m)\u001b[0m\u001b[1;33m\u001b[0m\u001b[1;33m\u001b[0m\u001b[0m\n",
      "\u001b[1;31mNotADirectoryError\u001b[0m: [WinError 267] 目录名称无效。: 'D:\\\\haifeng\\\\work_20210709\\\\ML+XAS\\\\code\\\\datasets setup\\\\AuPd-4000_au150-0_DW_R0_cncr_WT\\\\code_bash_noout_time_nocut.zip'"
     ]
    }
   ],
   "source": [
    "# 到源文件夹的各个 seed文件夹内，找到各个tar.gz文件，然后在目标文件内解压缩\n",
    "for dir_seed in list_seed:\n",
    "#\n",
    "#  在新文件夹内，新建与源一致的文件夹\n",
    "    path_seed_work = os.path.join(path_work, dir_seed)\n",
    "    os.makedirs(path_seed_work, exist_ok=True)\n",
    "#\n",
    "# 源seed的路径\n",
    "    path_seed_src = os.path.join(path_src, dir_seed)\n",
    "#\n",
    "#  读取源文件夹seed下的各个tar.gz文件，对以“.tar.gz”结尾的文件进行解压缩\n",
    "    list_tar_file = os.listdir(path_seed_src)\n",
    "    for tar_file in list_tar_file:\n",
    "        length = len(tar_file)\n",
    "        if length >= 7:\n",
    "            if tar_file[-7:] == '.tar.gz':\n",
    "                path_tar_src  = os.path.join(path_seed_src, tar_file)\n",
    "                t = tarfile.open(path_tar_src)\n",
    "                t.extractall(path_seed_work)\n",
    "#\n",
    "    print('** seed ', dir_seed, ' untared.')\n",
    "#\n",
    "    try:\n",
    "#\n",
    "#  注意不能用os.removedirs来删除，因为如果第一个种子文件为空，则它会递归删除上一级目录，即XXX_WT_untar ！\n",
    "#        os.removedirs(path_seed_work)\n",
    "        os.rmdir(path_seed_work)\n",
    "    except:\n",
    "        pass"
   ]
  }
 ],
 "metadata": {
  "kernelspec": {
   "display_name": "Python 3 (ipykernel)",
   "language": "python",
   "name": "python3"
  },
  "language_info": {
   "codemirror_mode": {
    "name": "ipython",
    "version": 3
   },
   "file_extension": ".py",
   "mimetype": "text/x-python",
   "name": "python",
   "nbconvert_exporter": "python",
   "pygments_lexer": "ipython3",
   "version": "3.9.7"
  },
  "toc": {
   "base_numbering": 1,
   "nav_menu": {},
   "number_sections": true,
   "sideBar": true,
   "skip_h1_title": false,
   "title_cell": "Table of Contents",
   "title_sidebar": "Contents",
   "toc_cell": false,
   "toc_position": {},
   "toc_section_display": true,
   "toc_window_display": false
  },
  "varInspector": {
   "cols": {
    "lenName": 16,
    "lenType": 16,
    "lenVar": 40
   },
   "kernels_config": {
    "python": {
     "delete_cmd_postfix": "",
     "delete_cmd_prefix": "del ",
     "library": "var_list.py",
     "varRefreshCmd": "print(var_dic_list())"
    },
    "r": {
     "delete_cmd_postfix": ") ",
     "delete_cmd_prefix": "rm(",
     "library": "var_list.r",
     "varRefreshCmd": "cat(var_dic_list()) "
    }
   },
   "types_to_exclude": [
    "module",
    "function",
    "builtin_function_or_method",
    "instance",
    "_Feature"
   ],
   "window_display": false
  }
 },
 "nbformat": 4,
 "nbformat_minor": 4
}
