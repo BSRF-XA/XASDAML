{
 "cells": [
  {
   "cell_type": "markdown",
   "metadata": {},
   "source": [
    "## 本程序对已经挑选出cluster、expWT等文件的\"_FLpick\"文件夹数据，从中挑选出不符合定义要求的数据。本程序不统计label值。"
   ]
  },
  {
   "cell_type": "markdown",
   "metadata": {},
   "source": [
    "### 假设需要统计的文件的目录结构为“AuPd-4000_au150-0_WT_untar_treat”（一级目录）——“500”（二级目录）——“cluster/coor/expWT”（三级目录），将本程序安放在与一级目录平行的另一个一级目录（或一级目录本身）的任意一个二级文件目录内，即可运行。\n",
    "### 它会将不符合的数据，复制到与“cluster、coor、expWT”等平行目录的“check”文件夹中，并列出不符合数据的列表名称和独特“数字”编号"
   ]
  },
  {
   "cell_type": "markdown",
   "metadata": {},
   "source": [
    "last update: 2022.5.27"
   ]
  },
  {
   "cell_type": "markdown",
   "metadata": {},
   "source": [
    "contacts: zhaohf@ihep.ac.cn"
   ]
  },
  {
   "cell_type": "markdown",
   "metadata": {},
   "source": [
    "# 配置环境"
   ]
  },
  {
   "cell_type": "markdown",
   "metadata": {},
   "source": [
    "## 导入各种模块"
   ]
  },
  {
   "cell_type": "code",
   "execution_count": 1,
   "metadata": {
    "ExecuteTime": {
     "end_time": "2022-05-27T15:29:15.219201Z",
     "start_time": "2022-05-27T15:29:14.574919Z"
    }
   },
   "outputs": [],
   "source": [
    "import os\n",
    "import sys\n",
    "#import numpy as np\n",
    "import pandas as pd\n",
    "import shutil\n",
    "import time\n",
    "import datetime"
   ]
  },
  {
   "cell_type": "markdown",
   "metadata": {},
   "source": [
    "输出导入模板的版本。"
   ]
  },
  {
   "cell_type": "code",
   "execution_count": 2,
   "metadata": {
    "ExecuteTime": {
     "end_time": "2022-05-27T15:29:15.235159Z",
     "start_time": "2022-05-27T15:29:15.223191Z"
    },
    "scrolled": true
   },
   "outputs": [
    {
     "name": "stdout",
     "output_type": "stream",
     "text": [
      "python version: 3.9.12 (main, Apr  4 2022, 05:22:27) [MSC v.1916 64 bit (AMD64)]\n",
      "panda version: 1.4.2\n"
     ]
    }
   ],
   "source": [
    "print('python version:',sys.version)\n",
    "#print('numpy version:',np.__version__)\n",
    "print('panda version:',pd.__version__)\n",
    "#print('shutil version:',shutil.__version__)\n",
    "#print('time version:',time.__version__)\n",
    "#print('datetime version:',datetime.__version__)"
   ]
  },
  {
   "cell_type": "markdown",
   "metadata": {},
   "source": [
    "# 设置输入文件夹和输出文件夹"
   ]
  },
  {
   "cell_type": "markdown",
   "metadata": {},
   "source": [
    "## 设置源文件夹，即要处理的文件夹"
   ]
  },
  {
   "cell_type": "code",
   "execution_count": 3,
   "metadata": {
    "ExecuteTime": {
     "end_time": "2022-05-27T15:29:15.250118Z",
     "start_time": "2022-05-27T15:29:15.238151Z"
    }
   },
   "outputs": [],
   "source": [
    "# 设置源文件夹，即经过计算集群计算的文件夹\n",
    "dir_src = 'AuPd-4000_au150-0_DW_R0_cncr_WT_untar_fealab'"
   ]
  },
  {
   "cell_type": "markdown",
   "metadata": {},
   "source": [
    "## 设置可接受的label值范围"
   ]
  },
  {
   "cell_type": "code",
   "execution_count": 4,
   "metadata": {
    "ExecuteTime": {
     "end_time": "2022-05-27T15:29:15.265079Z",
     "start_time": "2022-05-27T15:29:15.253111Z"
    }
   },
   "outputs": [],
   "source": [
    "pick_dict = {\n",
    "                 'cn1' : [3, 14]\n",
    "                ,'cr1' : [2.5, 3.1]\n",
    "}"
   ]
  },
  {
   "cell_type": "markdown",
   "metadata": {},
   "source": [
    "## 设置放置被移除文件的文件夹"
   ]
  },
  {
   "cell_type": "code",
   "execution_count": 5,
   "metadata": {
    "ExecuteTime": {
     "end_time": "2022-05-27T15:29:15.281038Z",
     "start_time": "2022-05-27T15:29:15.268075Z"
    }
   },
   "outputs": [],
   "source": [
    "dir_check = 'check'\n",
    "file_check = 'check.txt'"
   ]
  },
  {
   "cell_type": "markdown",
   "metadata": {},
   "source": [
    "## 设置运行日志文件名"
   ]
  },
  {
   "cell_type": "code",
   "execution_count": 6,
   "metadata": {
    "ExecuteTime": {
     "end_time": "2022-05-27T15:29:15.297030Z",
     "start_time": "2022-05-27T15:29:15.283031Z"
    }
   },
   "outputs": [],
   "source": [
    "file_log = 'pick.log'"
   ]
  },
  {
   "cell_type": "markdown",
   "metadata": {},
   "source": [
    "# 程序正文"
   ]
  },
  {
   "cell_type": "markdown",
   "metadata": {},
   "source": [
    "## 设置工作文件夹"
   ]
  },
  {
   "cell_type": "code",
   "execution_count": 7,
   "metadata": {
    "ExecuteTime": {
     "end_time": "2022-05-27T15:29:15.312950Z",
     "start_time": "2022-05-27T15:29:15.298989Z"
    }
   },
   "outputs": [
    {
     "data": {
      "text/plain": [
       "'D:\\\\haifeng\\\\work_20211031\\\\XAS-ML\\\\code\\\\datasets setup\\\\jupyterbook'"
      ]
     },
     "execution_count": 7,
     "metadata": {},
     "output_type": "execute_result"
    }
   ],
   "source": [
    "# 当前目录\n",
    "path = os.path.abspath('./')\n",
    "path"
   ]
  },
  {
   "cell_type": "code",
   "execution_count": 8,
   "metadata": {
    "ExecuteTime": {
     "end_time": "2022-05-27T15:29:15.328937Z",
     "start_time": "2022-05-27T15:29:15.314947Z"
    }
   },
   "outputs": [
    {
     "data": {
      "text/plain": [
       "'D:\\\\haifeng\\\\work_20211031\\\\XAS-ML\\\\code\\\\datasets setup'"
      ]
     },
     "execution_count": 8,
     "metadata": {},
     "output_type": "execute_result"
    }
   ],
   "source": [
    "# 上一级目录\n",
    "path_par = os.path.abspath(os.path.pardir)\n",
    "path_par"
   ]
  },
  {
   "cell_type": "code",
   "execution_count": 9,
   "metadata": {
    "ExecuteTime": {
     "end_time": "2022-05-27T15:29:15.344865Z",
     "start_time": "2022-05-27T15:29:15.330902Z"
    }
   },
   "outputs": [],
   "source": [
    "# 设置源文件夹路径\n",
    "path_src = os.path.join(path_par, dir_src)"
   ]
  },
  {
   "cell_type": "markdown",
   "metadata": {},
   "source": [
    "## 检查源文件是否存在"
   ]
  },
  {
   "cell_type": "code",
   "execution_count": 10,
   "metadata": {
    "ExecuteTime": {
     "end_time": "2022-05-27T15:29:15.360822Z",
     "start_time": "2022-05-27T15:29:15.347894Z"
    },
    "code_folding": [
     2
    ]
   },
   "outputs": [
    {
     "data": {
      "text/plain": [
       "['100',\n",
       " '1000',\n",
       " '1100',\n",
       " '1200',\n",
       " '1300',\n",
       " '1400',\n",
       " '1500',\n",
       " '1600',\n",
       " '1700',\n",
       " '1800',\n",
       " '1900',\n",
       " '200',\n",
       " '2000',\n",
       " '2100',\n",
       " '2200',\n",
       " '2300',\n",
       " '2400',\n",
       " '2500',\n",
       " '2600',\n",
       " '2700',\n",
       " '2800',\n",
       " '2900',\n",
       " '300',\n",
       " '3000',\n",
       " '3100',\n",
       " '3200',\n",
       " '3300',\n",
       " '3400',\n",
       " '3500',\n",
       " '3600',\n",
       " '3700',\n",
       " '3800',\n",
       " '3900',\n",
       " '400',\n",
       " '4000',\n",
       " '500',\n",
       " '600',\n",
       " '700',\n",
       " '800',\n",
       " '900',\n",
       " 'modify.log',\n",
       " 'modify2.log',\n",
       " 'pick.log']"
      ]
     },
     "execution_count": 10,
     "metadata": {},
     "output_type": "execute_result"
    }
   ],
   "source": [
    "# 检查源文件夹是否存在，存在则列出其内部文件夹，不存在则打印错误\n",
    "exist = os.path.exists(path_src)\n",
    "if exist:\n",
    "    list_seed = os.listdir(path_src)\n",
    "else:\n",
    "    print()\n",
    "    print('** Error!! WT untared directory', dir_src, 'is not found!' )\n",
    "    print()\n",
    "#    sys.exit()\n",
    "list_seed"
   ]
  },
  {
   "cell_type": "code",
   "execution_count": 11,
   "metadata": {
    "ExecuteTime": {
     "end_time": "2022-05-27T15:29:15.376783Z",
     "start_time": "2022-05-27T15:29:15.363815Z"
    }
   },
   "outputs": [],
   "source": [
    "# 去除list_seed中不是文件夹的部分\n",
    "file_del = []\n",
    "for dir_seed in list_seed:\n",
    "    path_seed_src = os.path.join(path_src, dir_seed)\n",
    "    if os.path.isfile(path_seed_src):\n",
    "        file_del.append(dir_seed)\n",
    "for file in file_del:\n",
    "    list_seed.remove(file)"
   ]
  },
  {
   "cell_type": "markdown",
   "metadata": {},
   "source": [
    "## 创建日志文件"
   ]
  },
  {
   "cell_type": "code",
   "execution_count": 12,
   "metadata": {
    "ExecuteTime": {
     "end_time": "2022-05-27T15:29:15.392736Z",
     "start_time": "2022-05-27T15:29:15.378777Z"
    }
   },
   "outputs": [],
   "source": [
    "#file_log = 'pick.log'\n",
    "path_file_log = os.path.join(path_src, file_log)\n",
    "flog = open(path_file_log, 'w')"
   ]
  },
  {
   "cell_type": "markdown",
   "metadata": {},
   "source": [
    "## 数据筛选"
   ]
  },
  {
   "cell_type": "code",
   "execution_count": 13,
   "metadata": {
    "ExecuteTime": {
     "end_time": "2022-05-27T15:29:43.357628Z",
     "start_time": "2022-05-27T15:29:15.395733Z"
    },
    "code_folding": []
   },
   "outputs": [
    {
     "name": "stdout",
     "output_type": "stream",
     "text": [
      "== Start: 2022-05-27 23:29:15.430638\n",
      "\n",
      "** file 100 / cn1_104.dat copy to directory check. **\n",
      "** Its data is 16 .\n",
      "** file 100 / cn1_25.dat copy to directory check. **\n",
      "** Its data is 15 .\n",
      "** file 100 / cn1_77.dat copy to directory check. **\n",
      "** Its data is 18 .\n",
      "** file 100 / cn1_80.dat copy to directory check. **\n",
      "** Its data is 17 .\n",
      "** file 100 / cr1_104.dat copy to directory check. **\n",
      "** Its data is 3.175 .\n",
      "** file 100 / cr1_143.dat copy to directory check. **\n",
      "** Its data is 3.187 .\n",
      "** file 100 / cr1_25.dat copy to directory check. **\n",
      "** Its data is 3.106 .\n",
      "** file 100 / cr1_77.dat copy to directory check. **\n",
      "** Its data is 3.344 .\n",
      "** file 100 / cr1_80.dat copy to directory check. **\n",
      "** Its data is 3.23 .\n",
      "\n",
      "** file 1000 / cn1_113.dat copy to directory check. **\n",
      "** Its data is 2 .\n",
      "\n",
      "** file 1100 / cn1_25.dat copy to directory check. **\n",
      "** Its data is 144 .\n",
      "** file 1100 / cn1_70.dat copy to directory check. **\n",
      "** Its data is 42 .\n",
      "** file 1100 / cr1_25.dat copy to directory check. **\n",
      "** Its data is 7.523 .\n",
      "** file 1100 / cr1_70.dat copy to directory check. **\n",
      "** Its data is 4.43 .\n",
      "\n",
      "** file 1200 / cn1_113.dat copy to directory check. **\n",
      "** Its data is 2 .\n",
      "** file 1200 / cr1_150.dat copy to directory check. **\n",
      "** Its data is 3.108 .\n",
      "\n",
      "** file 1300 / cn1_113.dat copy to directory check. **\n",
      "** Its data is 1 .\n",
      "** file 1300 / cr1_113.dat copy to directory check. **\n",
      "** Its data is 2.488 .\n",
      "\n",
      "** file 1400 / cn1_139.dat copy to directory check. **\n",
      "** Its data is 148 .\n",
      "** file 1400 / cr1_139.dat copy to directory check. **\n",
      "** Its data is 6.888 .\n",
      "\n",
      "\n",
      "** file 1600 / cn1_104.dat copy to directory check. **\n",
      "** Its data is 147 .\n",
      "** file 1600 / cr1_104.dat copy to directory check. **\n",
      "** Its data is 7.661 .\n",
      "** file 1600 / cr1_107.dat copy to directory check. **\n",
      "** Its data is 3.114 .\n",
      "\n",
      "** file 1700 / cn1_59.dat copy to directory check. **\n",
      "** Its data is 19 .\n",
      "** file 1700 / cr1_59.dat copy to directory check. **\n",
      "** Its data is 3.331 .\n",
      "\n",
      "** file 1800 / cn1_104.dat copy to directory check. **\n",
      "** Its data is 16 .\n",
      "** file 1800 / cr1_104.dat copy to directory check. **\n",
      "** Its data is 3.152 .\n",
      "\n",
      "** file 1900 / cn1_134.dat copy to directory check. **\n",
      "** Its data is 15 .\n",
      "** file 1900 / cr1_134.dat copy to directory check. **\n",
      "** Its data is 3.119 .\n",
      "\n",
      "** file 200 / cn1_101.dat copy to directory check. **\n",
      "** Its data is 2 .\n",
      "** file 200 / cn1_29.dat copy to directory check. **\n",
      "** Its data is 15 .\n",
      "** file 200 / cr1_29.dat copy to directory check. **\n",
      "** Its data is 3.138 .\n",
      "\n",
      "** file 2000 / cr1_84.dat copy to directory check. **\n",
      "** Its data is 3.134 .\n",
      "\n",
      "** file 2100 / cn1_29.dat copy to directory check. **\n",
      "** Its data is 16 .\n",
      "** file 2100 / cr1_29.dat copy to directory check. **\n",
      "** Its data is 3.19 .\n",
      "\n",
      "\n",
      "** file 2300 / cn1_104.dat copy to directory check. **\n",
      "** Its data is 17 .\n",
      "** file 2300 / cr1_104.dat copy to directory check. **\n",
      "** Its data is 3.252 .\n",
      "\n",
      "\n",
      "** file 2500 / cn1_13.dat copy to directory check. **\n",
      "** Its data is 32 .\n",
      "** file 2500 / cn1_93.dat copy to directory check. **\n",
      "** Its data is 47 .\n",
      "** file 2500 / cr1_13.dat copy to directory check. **\n",
      "** Its data is 4.101 .\n",
      "** file 2500 / cr1_93.dat copy to directory check. **\n",
      "** Its data is 4.528 .\n",
      "\n",
      "** file 2600 / cn1_120.dat copy to directory check. **\n",
      "** Its data is 15 .\n",
      "\n",
      "** file 2700 / cn1_57.dat copy to directory check. **\n",
      "** Its data is 16 .\n",
      "** file 2700 / cr1_57.dat copy to directory check. **\n",
      "** Its data is 3.164 .\n",
      "\n",
      "** file 2800 / cn1_104.dat copy to directory check. **\n",
      "** Its data is 16 .\n",
      "** file 2800 / cn1_111.dat copy to directory check. **\n",
      "** Its data is 16 .\n",
      "** file 2800 / cr1_104.dat copy to directory check. **\n",
      "** Its data is 3.174 .\n",
      "** file 2800 / cr1_111.dat copy to directory check. **\n",
      "** Its data is 3.168 .\n",
      "\n",
      "** file 2900 / cn1_145.dat copy to directory check. **\n",
      "** Its data is 17 .\n",
      "** file 2900 / cr1_145.dat copy to directory check. **\n",
      "** Its data is 3.239 .\n",
      "\n",
      "\n",
      "** file 3000 / cn1_145.dat copy to directory check. **\n",
      "** Its data is 47 .\n",
      "** file 3000 / cr1_145.dat copy to directory check. **\n",
      "** Its data is 4.56 .\n",
      "\n",
      "** file 3100 / cn1_70.dat copy to directory check. **\n",
      "** Its data is 16 .\n",
      "** file 3100 / cr1_70.dat copy to directory check. **\n",
      "** Its data is 3.171 .\n",
      "\n",
      "\n",
      "** file 3300 / cn1_108.dat copy to directory check. **\n",
      "** Its data is 41 .\n",
      "** file 3300 / cn1_122.dat copy to directory check. **\n",
      "** Its data is 17 .\n",
      "** file 3300 / cr1_108.dat copy to directory check. **\n",
      "** Its data is 4.42 .\n",
      "** file 3300 / cr1_122.dat copy to directory check. **\n",
      "** Its data is 3.19 .\n",
      "** file 3300 / cr1_73.dat copy to directory check. **\n",
      "** Its data is 3.108 .\n",
      "\n",
      "** file 3400 / cn1_78.dat copy to directory check. **\n",
      "** Its data is 15 .\n",
      "** file 3400 / cn1_92.dat copy to directory check. **\n",
      "** Its data is 47 .\n",
      "** file 3400 / cr1_92.dat copy to directory check. **\n",
      "** Its data is 4.569 .\n",
      "\n",
      "** file 3500 / cn1_134.dat copy to directory check. **\n",
      "** Its data is 147 .\n",
      "** file 3500 / cn1_29.dat copy to directory check. **\n",
      "** Its data is 49 .\n",
      "** file 3500 / cr1_134.dat copy to directory check. **\n",
      "** Its data is 7.554 .\n",
      "** file 3500 / cr1_29.dat copy to directory check. **\n",
      "** Its data is 4.645 .\n",
      "\n",
      "** file 3600 / cn1_104.dat copy to directory check. **\n",
      "** Its data is 16 .\n",
      "** file 3600 / cr1_104.dat copy to directory check. **\n",
      "** Its data is 3.153 .\n",
      "\n",
      "** file 3700 / cn1_102.dat copy to directory check. **\n",
      "** Its data is 17 .\n",
      "** file 3700 / cr1_102.dat copy to directory check. **\n",
      "** Its data is 3.246 .\n",
      "\n",
      "\n",
      "** file 3900 / cn1_77.dat copy to directory check. **\n",
      "** Its data is 17 .\n",
      "** file 3900 / cr1_77.dat copy to directory check. **\n",
      "** Its data is 3.246 .\n",
      "\n",
      "** file 400 / cn1_104.dat copy to directory check. **\n",
      "** Its data is 15 .\n",
      "** file 400 / cn1_70.dat copy to directory check. **\n",
      "** Its data is 15 .\n",
      "** file 400 / cr1_104.dat copy to directory check. **\n",
      "** Its data is 3.133 .\n",
      "** file 400 / cr1_70.dat copy to directory check. **\n",
      "** Its data is 3.145 .\n",
      "** file 400 / cr1_76.dat copy to directory check. **\n",
      "** Its data is 3.154 .\n",
      "\n",
      "** file 4000 / cn1_104.dat copy to directory check. **\n",
      "** Its data is 16 .\n",
      "** file 4000 / cn1_134.dat copy to directory check. **\n",
      "** Its data is 129 .\n",
      "** file 4000 / cn1_70.dat copy to directory check. **\n",
      "** Its data is 146 .\n",
      "** file 4000 / cr1_104.dat copy to directory check. **\n",
      "** Its data is 3.198 .\n",
      "** file 4000 / cr1_134.dat copy to directory check. **\n",
      "** Its data is 7.214 .\n",
      "** file 4000 / cr1_70.dat copy to directory check. **\n",
      "** Its data is 7.629 .\n",
      "\n",
      "\n",
      "\n",
      "** file 700 / cn1_57.dat copy to directory check. **\n",
      "** Its data is 16 .\n",
      "** file 700 / cn1_70.dat copy to directory check. **\n",
      "** Its data is 17 .\n",
      "** file 700 / cn1_75.dat copy to directory check. **\n",
      "** Its data is 2 .\n",
      "** file 700 / cr1_57.dat copy to directory check. **\n",
      "** Its data is 3.183 .\n",
      "** file 700 / cr1_70.dat copy to directory check. **\n",
      "** Its data is 3.278 .\n",
      "\n",
      "** file 800 / cn1_102.dat copy to directory check. **\n",
      "** Its data is 18 .\n",
      "** file 800 / cn1_58.dat copy to directory check. **\n",
      "** Its data is 15 .\n",
      "** file 800 / cr1_102.dat copy to directory check. **\n",
      "** Its data is 3.258 .\n",
      "\n",
      "** file 900 / cn1_36.dat copy to directory check. **\n",
      "** Its data is 1 .\n",
      "** file 900 / cn1_57.dat copy to directory check. **\n",
      "** Its data is 47 .\n",
      "** file 900 / cr1_36.dat copy to directory check. **\n",
      "** Its data is 2.493 .\n",
      "** file 900 / cr1_57.dat copy to directory check. **\n",
      "** Its data is 4.507 .\n",
      "\n",
      "\n",
      "** 95 sites should be checked. **\n",
      "\n",
      "** No sites in seeds ['1500', '2200', '2400', '300', '3200', '3800', '500', '600'] will be checked. **\n",
      "\n",
      "== Start: 2022-05-27 23:29:15.430638\n",
      "== End: 2022-05-27 23:29:43.341630\n",
      "== Running time : 0:00:27.910992\n"
     ]
    }
   ],
   "source": [
    "#starttime = time.strftime(\"%Y_%m_%d-%H_%M_%S\")\n",
    "starttime1 = datetime.datetime.now()\n",
    "#starttime2 = time.time()\n",
    "##starttime3 = time.clock()\n",
    "#print(f\"== Start: {starttime}\")\n",
    "print(f\"== Start: {starttime1}\")\n",
    "#print(f\"== Start: {starttime2}\")\n",
    "##print(f\"== Start: {starttime3}\")\n",
    "#print(f\"== Start: {starttime}\", file=flog)\n",
    "print(f\"== Start: {starttime1}\", file=flog)\n",
    "#print(f\"== Start: {starttime2}\", file=flog)\n",
    "##print(f\"== Start: {starttime3}\", file=flog)\n",
    "print()\n",
    "print(file=flog)\n",
    "#  N_bad 表示不好的位点数量（也就是配位数超过m的位点数）\n",
    "N_bad = 0\n",
    "# seed_not_check 包含没有check的seed\n",
    "seed_not_check = []\n",
    "# 进入各个cluster，即100、200等\n",
    "for dir_seed in list_seed:\n",
    "# 源seed的路径\n",
    "    path_seed_src = os.path.join(path_src, dir_seed)\n",
    "# 创建“check”文件夹目录\n",
    "    path_dir_check = os.path.join(path_seed_src, dir_check)\n",
    "#\n",
    "#  检查是否已经存在check文件夹，若有，删除其中文件；若没有则构建\n",
    "    os.makedirs(path_dir_check, exist_ok=True)\n",
    "    shutil.rmtree(path_dir_check)\n",
    "    os.makedirs(path_dir_check, exist_ok=True)\n",
    "# 创建“check.dat”文件\n",
    "    path_file_check = os.path.join(path_dir_check, file_check)\n",
    "    fout = open(path_file_check, 'w')\n",
    "# 先检查各seed下有没有pick_dict下所列的key文件夹，如果都没有，则报错，若有一部分，则继续运行\n",
    "# pick_ok 表示到目前为止，是否有已经有pick_dict中的key找到，只要有一个就是True\n",
    "    pick_ok = False\n",
    "# number_list 用于存储不符合要求的（cn）数字\n",
    "    number_list = []\n",
    "    for dir_pick in pick_dict.keys():\n",
    "#    for id, dir_seed in enumerate(list_seed):\n",
    "        pick_data_min = pick_dict[dir_pick][0]\n",
    "        pick_data_max = pick_dict[dir_pick][1]\n",
    "#\n",
    "        path_dir_pick = os.path.join(path_seed_src, dir_pick)\n",
    "        exist = os.path.exists(path_dir_pick)\n",
    "        if exist:\n",
    "            pick_ok = True\n",
    "#\n",
    "#  在源文件夹内，查一下有哪些文件夹\n",
    "            list_choose = os.listdir(path_seed_src)\n",
    "# 源seed/dir_pick中各个pick文件  \n",
    "            list_pick = os.listdir(path_dir_pick)\n",
    "            for file_pick in list_pick:\n",
    "# 各个cn1_i.dat文件的路径\n",
    "                path_file_pick = os.path.join(path_dir_pick, file_pick)\n",
    "#\n",
    "#  读取cn1_i.dat中的信息\n",
    "                pick_pd = pd.read_csv(path_file_pick,header=None)\n",
    "                pick_data = pick_pd.values\n",
    "#\n",
    "                if pick_data < pick_data_min or pick_data > pick_data_max :\n",
    "                    N_bad = N_bad + 1\n",
    "                    print(f\"** file {dir_seed} / {file_pick} copy to directory {dir_check}. **\")\n",
    "                    print(f\"** file {dir_seed} / {file_pick} copy to directory {dir_check}. **\", file=flog)\n",
    "                    print(f\"** Its data is {pick_data[0][0]} .\")\n",
    "                    print(f\"** Its data is {pick_data[0][0]} .\", file=flog)\n",
    "#\n",
    "#  将配位数大于m的文件——所有seed文件夹下各文件夹中的文件，如coor、cluster、expWT等——移动到check文件夹下\n",
    "#                    try:\n",
    "#                        shutil.move(path_file_pick,path_dir_check)\n",
    "#                    except shutil.Error:\n",
    "#                        path_del = os.path.join(path_dir_check, file_pick)\n",
    "#                        os.remove(path_del)\n",
    "#                        shutil.move(path_file_pick,path_dir_check)\n",
    "#\n",
    "#  对cn1_N.dat文件进行断句，找到是第几个位点，便于去cluster、expWT等其他文件夹中进行寻找。\n",
    "                    result = os.path.splitext(file_pick)\n",
    "                    start = len(dir_pick) + 1\n",
    "                    number = result[0][start:]\n",
    "                    if number not in number_list:\n",
    "                        number_list.append(number)\n",
    "                        print(f\"{number:>4s} {file_pick:>}\", end = '\\n', file=fout)\n",
    "                        shutil.copy2(path_file_pick,path_dir_check)\n",
    "    #\n",
    "                        key = '_' + number + '.'\n",
    "                        for dest in list_choose:\n",
    "                            if dest != dir_pick and dest != dir_check:\n",
    "                                path_dest_src = os.path.join(path_seed_src, dest)\n",
    "                                list_dest = os.listdir(path_dest_src)\n",
    "                                found = False\n",
    "                                for file in list_dest:\n",
    "                                    if key in file:\n",
    "                                        found = True\n",
    "                                        break\n",
    "                                if found:\n",
    "                                    path_file_src = os.path.join(path_dest_src, file)\n",
    "#                                try:\n",
    "#                                    shutil.move(path_file_src,path_dir_check)\n",
    "#                                except shutil.Error:\n",
    "#                                    path_file_work = os.path.join(path_dir_check, file)\n",
    "#                                    os.remove(path_file_work)\n",
    "#                                    shutil.move(path_file_src,path_dir_check)\n",
    "                                    shutil.copy2(path_file_src, path_dir_check)\n",
    "                                    print(f\"{number:>4s} {file:>}\", end = '\\n', file=fout)\n",
    "#\n",
    "        else:\n",
    "            print()\n",
    "            print(file=flog)\n",
    "            print(f\"** Error!! Directory {dir_pick} not found!\")\n",
    "            print(f\"** Error!! Directory {dir_pick} not found!\", file=flog)\n",
    "            pick_ok = pick_ok or False\n",
    "#        sys.exit()\n",
    "#\n",
    "    fout.close()\n",
    "# 如果没找到需要check的点位，则不产生check文件\n",
    "    if len(number_list) >0:\n",
    "        result = os.path.splitext(file_check)\n",
    "        file_checknum = result[0] + '_num' + result[1]\n",
    "        path_file_checknum = os.path.join(path_dir_check, file_checknum)\n",
    "        fout = open(path_file_checknum, 'w')\n",
    "        for number in number_list:\n",
    "            print(f\"{number:>4s}\", end = '\\n', file=fout)\n",
    "        fout.close()\n",
    "    else:\n",
    "        if os.path.exists(path_file_check):\n",
    "            os.remove(path_file_check)\n",
    "        seed_not_check.append(dir_seed)\n",
    "#\n",
    "    if pick_ok:\n",
    "        print()\n",
    "        print(file=flog)\n",
    "        pass\n",
    "    else:\n",
    "        print()\n",
    "        print(file=flog)\n",
    "        print(f\"** Error!! Directories {pick_dict.keys()} not found!\")\n",
    "        print(f\"** Error!! Directories {pick_dict.keys()} not found!\", file=flog)\n",
    "        sys.exit()\n",
    "#\n",
    "# 删除 空文件夹\n",
    "#\n",
    "    if os.path.exists(path_dir_check):\n",
    "        if len(os.listdir(path_dir_check)) == 0:\n",
    "            os.rmdir(path_dir_check)\n",
    "#\n",
    "print()\n",
    "print(file=flog)\n",
    "print(f\"** {N_bad} sites should be checked. **\")\n",
    "print(f\"** {N_bad} sites should be checked. **\", file=flog)\n",
    "print()\n",
    "print(file=flog)\n",
    "print(f\"** No sites in seeds {seed_not_check} will be checked. **\")\n",
    "print(f\"** No sites in seeds {seed_not_check} will be checked. **\", file=flog)\n",
    "#\n",
    "#endtime = time.strftime(\"%Y_%m_%d-%H_%M_%S\")\n",
    "endtime1 = datetime.datetime.now()\n",
    "#endtime2 = time.time()\n",
    "#endtime3 = time.clock()\n",
    "#\n",
    "print()\n",
    "print(file=flog)\n",
    "#print(f\"== Start: {starttime}\")\n",
    "print(f\"== Start: {starttime1}\")\n",
    "#print(f\"== Start: {starttime2}\")\n",
    "##print(f\"== Start: {starttime3}\")\n",
    "#print(f\"== Start: {starttime}\", file=flog)\n",
    "print(f\"== Start: {starttime1}\", file=flog)\n",
    "#print(f\"== Start: {starttime2}\", file=flog)\n",
    "##print(f\"== Start: {starttime3}\", file=flog)\n",
    "#print(f\"== End: {endtime}\")\n",
    "print(f\"== End: {endtime1}\")\n",
    "#print(f\"== End: {endtime2}\")\n",
    "##print(f\"== End: {endtime3}\")\n",
    "#print(f\"== End: {endtime}\", file=flog)\n",
    "print(f\"== End: {endtime1}\", file=flog)\n",
    "#print(f\"== End: {endtime2}\", file=flog)\n",
    "##print(f\"== End: {endtime3}\", file=flog)\n",
    "#\n",
    "print(f\"== Running time : {endtime1-starttime1}\")\n",
    "#print(f\"== Running time : {endtime2-starttime2}\")\n",
    "##print(f\"== Running time : {endtime3-starttime3}\")\n",
    "print(f\"== Running time : {endtime1-starttime1}\", file=flog)\n",
    "#print(f\"== Running time : {endtime2-starttime2}\", file=flog)\n",
    "##print(f\"== Running time : {endtime3-starttime3}\", file=flog)\n",
    "flog.close()\n",
    "#"
   ]
  },
  {
   "cell_type": "code",
   "execution_count": null,
   "metadata": {},
   "outputs": [],
   "source": []
  }
 ],
 "metadata": {
  "kernelspec": {
   "display_name": "Python 3 (ipykernel)",
   "language": "python",
   "name": "python3"
  },
  "language_info": {
   "codemirror_mode": {
    "name": "ipython",
    "version": 3
   },
   "file_extension": ".py",
   "mimetype": "text/x-python",
   "name": "python",
   "nbconvert_exporter": "python",
   "pygments_lexer": "ipython3",
   "version": "3.9.12"
  },
  "toc": {
   "base_numbering": 1,
   "nav_menu": {},
   "number_sections": true,
   "sideBar": true,
   "skip_h1_title": false,
   "title_cell": "Table of Contents",
   "title_sidebar": "Contents",
   "toc_cell": false,
   "toc_position": {},
   "toc_section_display": true,
   "toc_window_display": true
  },
  "varInspector": {
   "cols": {
    "lenName": 16,
    "lenType": 16,
    "lenVar": 40
   },
   "kernels_config": {
    "python": {
     "delete_cmd_postfix": "",
     "delete_cmd_prefix": "del ",
     "library": "var_list.py",
     "varRefreshCmd": "print(var_dic_list())"
    },
    "r": {
     "delete_cmd_postfix": ") ",
     "delete_cmd_prefix": "rm(",
     "library": "var_list.r",
     "varRefreshCmd": "cat(var_dic_list()) "
    }
   },
   "types_to_exclude": [
    "module",
    "function",
    "builtin_function_or_method",
    "instance",
    "_Feature"
   ],
   "window_display": false
  }
 },
 "nbformat": 4,
 "nbformat_minor": 4
}
