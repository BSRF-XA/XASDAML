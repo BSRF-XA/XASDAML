{
 "cells": [
  {
   "cell_type": "markdown",
   "metadata": {},
   "source": [
    "## 本程序统计label（配位数和平均键长）的情况。"
   ]
  },
  {
   "cell_type": "markdown",
   "metadata": {},
   "source": [
    "### 程序处理对象为“_untar_treat”文件夹中各seed的coor.dat文件，输出结果在“_untar_treat_stastistics”下，包含txt文档和图片。"
   ]
  },
  {
   "cell_type": "markdown",
   "metadata": {},
   "source": [
    "### 假设需要统计的文件的目录结构为“AuPd-4000_au150-0_WT_untar”（一级目录）——“500”（二级目录）——“1/2/3/4等解压缩的文件夹”（三级目录），将本程序安放在与一级目录平行的另一个一级目录（或一级目录本身）的任意一个二级文件目录内，即可运行。\n",
    "\n",
    "### 它会读取用户输入的一级目录（如“AuPd-4000_au150-0_WT_untar_treat”）下各cluster中的coor文件，运行后会在一级目录下产生一个“AuPd-4000_au150-0_WT_untar_treat_statistics”的文件夹，包含label的统计情况。该文件夹下会有“cluster”文件夹，内有统计各cluster各个位点统计的配位数柱状图和第一配位键长的统计图。"
   ]
  },
  {
   "cell_type": "markdown",
   "metadata": {},
   "source": [
    "last update： 2021.9.18"
   ]
  },
  {
   "cell_type": "markdown",
   "metadata": {},
   "source": [
    "contacts: zhaohf@ihep.ac.cn"
   ]
  },
  {
   "cell_type": "markdown",
   "metadata": {},
   "source": [
    "# 配置环境"
   ]
  },
  {
   "cell_type": "code",
   "execution_count": 67,
   "metadata": {
    "ExecuteTime": {
     "end_time": "2021-09-17T06:09:05.697691Z",
     "start_time": "2021-09-17T06:09:05.694684Z"
    }
   },
   "outputs": [],
   "source": [
    "import os\n",
    "import sys\n",
    "import numpy as np\n",
    "import pandas as pd\n",
    "import matplotlib as mpl\n",
    "import matplotlib.pyplot as plt"
   ]
  },
  {
   "cell_type": "markdown",
   "metadata": {},
   "source": [
    "输出导入模板的版本。"
   ]
  },
  {
   "cell_type": "code",
   "execution_count": 68,
   "metadata": {
    "ExecuteTime": {
     "end_time": "2021-09-17T06:09:07.290838Z",
     "start_time": "2021-09-17T06:09:07.286827Z"
    }
   },
   "outputs": [
    {
     "name": "stdout",
     "output_type": "stream",
     "text": [
      "python version: 3.8.8 (default, Apr 13 2021, 15:08:03) [MSC v.1916 64 bit (AMD64)]\n",
      "numpy version: 1.19.5\n",
      "panda version: 1.2.4\n",
      "matplotlib version: 3.3.4\n"
     ]
    }
   ],
   "source": [
    "print('python version:',sys.version)\n",
    "print('numpy version:',np.__version__)\n",
    "print('panda version:',pd.__version__)\n",
    "print('matplotlib version:',mpl.__version__)"
   ]
  },
  {
   "cell_type": "markdown",
   "metadata": {},
   "source": [
    "# 设置输入文件夹和输出文件夹"
   ]
  },
  {
   "cell_type": "markdown",
   "metadata": {},
   "source": [
    "## 设置源文件夹，即经过处理后的文件夹"
   ]
  },
  {
   "cell_type": "code",
   "execution_count": 69,
   "metadata": {
    "ExecuteTime": {
     "end_time": "2021-09-17T06:09:09.006715Z",
     "start_time": "2021-09-17T06:09:09.004711Z"
    }
   },
   "outputs": [],
   "source": [
    "dir_src = 'AuPd-4000_au150-0_DW_R0_cncr_WT_untar_treat'"
   ]
  },
  {
   "cell_type": "markdown",
   "metadata": {},
   "source": [
    "## 定义统计标记后缀"
   ]
  },
  {
   "cell_type": "code",
   "execution_count": 70,
   "metadata": {
    "ExecuteTime": {
     "end_time": "2021-09-17T06:09:09.870070Z",
     "start_time": "2021-09-17T06:09:09.867063Z"
    }
   },
   "outputs": [],
   "source": [
    "stat = '_statistics'"
   ]
  },
  {
   "cell_type": "markdown",
   "metadata": {},
   "source": [
    "## 设置目标文件夹"
   ]
  },
  {
   "cell_type": "code",
   "execution_count": 71,
   "metadata": {
    "ExecuteTime": {
     "end_time": "2021-09-17T06:09:11.752714Z",
     "start_time": "2021-09-17T06:09:11.749707Z"
    }
   },
   "outputs": [],
   "source": [
    "dir_work = dir_src + stat"
   ]
  },
  {
   "cell_type": "markdown",
   "metadata": {},
   "source": [
    "## 设置CR统计间隔和小数点后有效位数（为了画图）\n",
    "注意delta_R和digit最好对应"
   ]
  },
  {
   "cell_type": "code",
   "execution_count": 96,
   "metadata": {
    "ExecuteTime": {
     "end_time": "2021-09-17T06:42:21.766553Z",
     "start_time": "2021-09-17T06:42:21.762540Z"
    }
   },
   "outputs": [],
   "source": [
    "delta_R = 0.05\n",
    "digit = 2"
   ]
  },
  {
   "cell_type": "markdown",
   "metadata": {},
   "source": [
    "## 设置输出文件名字前缀，如经过筛选的，则加treated，若没有建议设空"
   ]
  },
  {
   "cell_type": "code",
   "execution_count": 143,
   "metadata": {
    "ExecuteTime": {
     "end_time": "2021-09-17T08:37:19.352779Z",
     "start_time": "2021-09-17T08:37:19.349751Z"
    }
   },
   "outputs": [],
   "source": [
    "prf_trt = '_treated'\n",
    "#prf_trt = ''"
   ]
  },
  {
   "cell_type": "markdown",
   "metadata": {},
   "source": [
    "## 设置CR输出文件表积累前缀，为区别不同间隔统计时图片的覆盖"
   ]
  },
  {
   "cell_type": "code",
   "execution_count": 143,
   "metadata": {
    "ExecuteTime": {
     "end_time": "2021-09-17T08:37:19.352779Z",
     "start_time": "2021-09-17T08:37:19.349751Z"
    }
   },
   "outputs": [],
   "source": [
    "prf_dR = f\"_dR={delta_R}\"\n",
    "#prf_dR = \"\""
   ]
  },
  {
   "cell_type": "code",
   "execution_count": 143,
   "metadata": {
    "ExecuteTime": {
     "end_time": "2021-09-17T08:37:19.352779Z",
     "start_time": "2021-09-17T08:37:19.349751Z"
    }
   },
   "outputs": [],
   "source": [
    "prf_trt = '_treated'\n",
    "prf_dR = f\"_dR={delta_R}\"\n",
    "#prf_trt = ''\n",
    "#prf_dR = \"\""
   ]
  },
  {
   "cell_type": "markdown",
   "metadata": {},
   "source": [
    "## 设置CN的统计输出文件名和图片输出名"
   ]
  },
  {
   "cell_type": "code",
   "execution_count": 144,
   "metadata": {
    "ExecuteTime": {
     "end_time": "2021-09-17T08:37:20.329587Z",
     "start_time": "2021-09-17T08:37:20.326580Z"
    }
   },
   "outputs": [
    {
     "data": {
      "text/plain": [
       "'cr_treated_statistics_dR=0.05.txt'"
      ]
     },
     "execution_count": 144,
     "metadata": {},
     "output_type": "execute_result"
    }
   ],
   "source": [
    "file_cn_statistics_txt = 'cn' + prf_trt + stat + '.txt'\n",
    "file_cn_statistics_png = 'cn' + prf_trt + stat"
   ]
  },
  {
   "cell_type": "markdown",
   "metadata": {},
   "source": [
    "## 设置CR的统计输出文件名和图片输出名"
   ]
  },
  {
   "cell_type": "code",
   "execution_count": 145,
   "metadata": {
    "ExecuteTime": {
     "end_time": "2021-09-17T08:37:50.109233Z",
     "start_time": "2021-09-17T08:37:50.105197Z"
    }
   },
   "outputs": [
    {
     "data": {
      "text/plain": [
       "'cr_treated_statistics_dR=0.05'"
      ]
     },
     "execution_count": 145,
     "metadata": {},
     "output_type": "execute_result"
    }
   ],
   "source": [
    "file_cr_statistics_txt = 'cr' + prf_trt + stat + prf_dR + '.txt'\n",
    "file_cr_statistics_png = 'cr' + prf_trt + stat + prf_dR\n",
    "file_cr_statistics_txt"
   ]
  },
  {
   "cell_type": "markdown",
   "metadata": {},
   "source": [
    "# 部分函数模块"
   ]
  },
  {
   "cell_type": "markdown",
   "metadata": {},
   "source": [
    "## 设置绘图格式和保存图片的模块"
   ]
  },
  {
   "cell_type": "markdown",
   "metadata": {},
   "source": [
    "注意这里的save_fig与神经网络中的有所不同，特别时路径和文件名位置换了。"
   ]
  },
  {
   "cell_type": "code",
   "execution_count": 75,
   "metadata": {
    "ExecuteTime": {
     "end_time": "2021-09-17T06:09:17.382072Z",
     "start_time": "2021-09-17T06:09:17.374008Z"
    }
   },
   "outputs": [],
   "source": [
    "# To plot pretty figures\n",
    "# %matplotlib具体作用是调用matplotlib.pyplot的绘图函数plot()进行绘图时，\n",
    "# 或生成一个figure画布时，可以直接在你的python console里面生成图像。\n",
    "%matplotlib inline\n",
    "import matplotlib as mpl\n",
    "import matplotlib.pyplot as plt\n",
    "mpl.rc('axes', labelsize=14)   # matplotlib.rc 什么意思没找到\n",
    "mpl.rc('xtick', labelsize=12)\n",
    "mpl.rc('ytick', labelsize=12)\n",
    "\n",
    "def save_fig(IMAGES_PATH, fig_id, tight_layout=True, fig_extension=\"png\", resolution=300):\n",
    "    os.makedirs(IMAGES_PATH, exist_ok=True)\n",
    "    path = os.path.join(IMAGES_PATH, fig_id + \".\" + fig_extension)\n",
    "    print(\"Saving figure\", fig_id)\n",
    "    if tight_layout:\n",
    "        plt.tight_layout()\n",
    "    plt.savefig(path, format=fig_extension, dpi=resolution)\n",
    "#    plt.show()\n",
    "\n",
    "# Ignore useless warnings (see SciPy issue #5998)\n",
    "import warnings\n",
    "warnings.filterwarnings(action=\"ignore\", message=\"^internal gelsd\")"
   ]
  },
  {
   "cell_type": "markdown",
   "metadata": {},
   "source": [
    "### 绘制配位数柱状图"
   ]
  },
  {
   "cell_type": "markdown",
   "metadata": {},
   "source": [
    "#### CN 各cluster"
   ]
  },
  {
   "cell_type": "code",
   "execution_count": 130,
   "metadata": {
    "ExecuteTime": {
     "end_time": "2021-09-17T08:29:45.452037Z",
     "start_time": "2021-09-17T08:29:45.446051Z"
    }
   },
   "outputs": [],
   "source": [
    "# 绘制各个cluster的CN统计图\n",
    "def plot_cn(x, y, path, file):\n",
    "#\n",
    "    #fig = plt.figure(num=1, figsize=(15, 8),dpi=80) #开启一个窗口，同时设置大小，分辨率\n",
    "    fig = plt.figure(1)\n",
    "    ax1 = fig.add_subplot(1,1,1)\n",
    "#\n",
    "    x_index = np.array(x)\n",
    "    y_index = np.array(y)\n",
    "#\n",
    "    len_x = len(x)\n",
    "    ind = np.linspace(1,len_x,len_x)\n",
    "#\n",
    "    bar_width = 0.8 #定义一个数字代表每个独立柱的宽度\n",
    "    \n",
    "#    rects1 = ax1.bar(cn_list,cn_number,width=0.8,alpha=0.4,color='blue',edgecolor='red',label=label_index,lw=1)\n",
    "#\n",
    "#    print(ind-bar_width/2)\n",
    "#    print(y_index)\n",
    "#\n",
    "    rects1 = ax1.bar(ind, y_index, width=bar_width,alpha=0.7, color='blue',label=file)\n",
    "#\n",
    "    for a,b in zip(ind,y_index):\n",
    "        plt.text(a, b+0.05, '%.0f' % b, ha='center', va= 'bottom',fontsize=10)\n",
    "#\n",
    "#    plt.ylim(0,cn_max*1.2)\n",
    "#    plt.legend(loc='upper right') #显示图例\n",
    "    plt.legend()\n",
    "    plt.tight_layout() #自动控制图像外部边缘，此方法不能够很好的控制图像间的间隔\n",
    "#\n",
    "#    plt.xticks(np.arange(min(cn_list),max(cn_list)+1,1), rotation=0)#rotation控制倾斜角度   #x轴刻度线\n",
    "    ax1.set_xticks(ind)\n",
    "    ax1.set_xticklabels(x,rotation=0,fontsize=10)\n",
    "    ax1.set_xlabel('Coordinate number')\n",
    "    ax1.set_ylabel('Number')\n",
    "    ax1.set_title('CN statistics')\n",
    "#\n",
    "    save_fig(path,file)\n",
    "    plt.close(fig)"
   ]
  },
  {
   "cell_type": "markdown",
   "metadata": {},
   "source": [
    "#### CN all"
   ]
  },
  {
   "cell_type": "code",
   "execution_count": 131,
   "metadata": {
    "ExecuteTime": {
     "end_time": "2021-09-17T08:29:48.091314Z",
     "start_time": "2021-09-17T08:29:48.085325Z"
    }
   },
   "outputs": [],
   "source": [
    "# 绘制所有样本的CN统计图\n",
    "def plot_cn_all(x, y, path, file):\n",
    "#\n",
    "    #fig = plt.figure(num=1, figsize=(15, 8),dpi=80) #开启一个窗口，同时设置大小，分辨率\n",
    "    fig = plt.figure()\n",
    "    ax1 = fig.add_subplot(1,1,1)\n",
    "#\n",
    "    x_index = np.array(x)\n",
    "    y_index = np.array(y)\n",
    "#\n",
    "    len_x = len(x)\n",
    "    ind = np.linspace(1,len_x,len_x)\n",
    "#\n",
    "    bar_width = 0.8 #定义一个数字代表每个独立柱的宽度\n",
    "#\n",
    "#    rects1 = ax1.bar(cn_list,cn_number,width=0.8,alpha=0.4,color='blue',edgecolor='red',label=label_index,lw=1)\n",
    "#\n",
    "#    print(ind-bar_width/2)\n",
    "#    print(y_index)\n",
    "#\n",
    "    rects1 = ax1.bar(ind, y_index, width=bar_width,alpha=0.7, color='blue',label=file)\n",
    "#\n",
    "    for a,b in zip(ind,y_index):\n",
    "        plt.text(a, b+0.05, '%.0f' % b, ha='center', va= 'bottom',fontsize=8)\n",
    "#\n",
    "#    plt.ylim(0,cn_max*1.2)\n",
    "#    plt.legend(loc='upper right') #显示图例\n",
    "    plt.legend()\n",
    "    plt.tight_layout() #自动控制图像外部边缘，此方法不能够很好的控制图像间的间隔\n",
    "#\n",
    "#    plt.xticks(np.arange(min(cn_list),max(cn_list)+1,1), rotation=0)#rotation控制倾斜角度   #x轴刻度线\n",
    "    ax1.set_xticks(ind)\n",
    "    ax1.set_xticklabels(x,rotation=45,fontsize=8)\n",
    "    ax1.set_xlabel('Coordinate number')\n",
    "    ax1.set_ylabel('Number')\n",
    "    ax1.set_title('CN statistics')\n",
    "#\n",
    "    save_fig(path,file)\n",
    "    plt.close(fig)"
   ]
  },
  {
   "cell_type": "markdown",
   "metadata": {},
   "source": [
    "#### CR 各cluster"
   ]
  },
  {
   "cell_type": "code",
   "execution_count": 80,
   "metadata": {
    "ExecuteTime": {
     "end_time": "2021-09-17T06:11:01.178968Z",
     "start_time": "2021-09-17T06:11:01.172985Z"
    }
   },
   "outputs": [],
   "source": [
    "# 绘制各个cluster的CR统计图\n",
    "def plot_cr(x, y, path, file, digit=1):\n",
    "    \"\"\"\n",
    "    绘制CR统计图。\n",
    "    x：平均配位键长列表\n",
    "    y: x对应的样本数\n",
    "    digit：自然数，用于给出绘制图中x轴数字的有效位数，如果步长为0.1，则为1，若步长为0.05， 则为2\n",
    "    path：图的保存路径\n",
    "    file：图的名称（不包含后缀）    \n",
    "    \"\"\"\n",
    "#\n",
    "    #fig = plt.figure(num=1, figsize=(15, 8),dpi=80) #开启一个窗口，同时设置大小，分辨率\n",
    "    fig = plt.figure()\n",
    "    ax1 = fig.add_subplot(1,1,1)\n",
    "#\n",
    "    x_index = np.array(x)\n",
    "    y_index = np.array(y)\n",
    "#\n",
    "    delta = x[1]-x[0]\n",
    "#\n",
    "    len_x = len(x)\n",
    "    ind = np.linspace(1,len_x,len_x)\n",
    "#\n",
    "    bar_width = 1 #定义一个数字代表每个独立柱的宽度\n",
    "#\n",
    "    rects1 = ax1.bar(ind, y_index, width=bar_width,align='edge',alpha=0.5, color='yellow',edgecolor='red',label=file)\n",
    "    for a,b in zip(ind,y_index):\n",
    "        plt.text(a+0.5, b+0.05, '%.0f' % b, ha='center', va= 'bottom',fontsize=10)\n",
    "#    plt.xticks(x_index + bar_width/2, x_data) #x轴刻度线\n",
    "#    plt.legend('upper right') #显示图例\n",
    "    plt.legend() #显示图例\n",
    "    plt.tight_layout() #自动控制图像外部边缘，此方法不能够很好的控制图像间的间隔\n",
    "#\n",
    "    ax1.set_xticks(np.append(ind,len_x+1))\n",
    "    xx = list(np.append(x_index,round(x[-1]+delta,digit)))\n",
    "    ax1.set_xticklabels(xx,rotation=0,fontsize=10)\n",
    "    ax1.set_xlabel('Coordinate bond length')\n",
    "    ax1.set_ylabel('Number')\n",
    "    ax1.set_title('CR statistics')\n",
    "#\n",
    "    save_fig(path,file)\n",
    "    plt.close(fig)"
   ]
  },
  {
   "cell_type": "markdown",
   "metadata": {},
   "source": [
    "#### CR all"
   ]
  },
  {
   "cell_type": "code",
   "execution_count": 81,
   "metadata": {
    "ExecuteTime": {
     "end_time": "2021-09-17T06:11:11.140180Z",
     "start_time": "2021-09-17T06:11:11.133162Z"
    }
   },
   "outputs": [],
   "source": [
    "# 绘制所有样本的CR统计图\n",
    "def plot_cr_all(x, y, path, file, digit=1):\n",
    "    \"\"\"\n",
    "    绘制CR统计图。\n",
    "    x：平均配位键长列表\n",
    "    y: x对应的样本数\n",
    "    digit：自然数，用于给出绘制图中x轴数字的有效位数，如果步长为0.1，则为1，若步长为0.05， 则为2\n",
    "    path：图的保存路径\n",
    "    file：图的名称（不包含后缀）    \n",
    "    \"\"\"\n",
    "#\n",
    "    #fig = plt.figure(num=1, figsize=(15, 8),dpi=80) #开启一个窗口，同时设置大小，分辨率\n",
    "    fig = plt.figure()\n",
    "    ax1 = fig.add_subplot(1,1,1)\n",
    "#\n",
    "    x_index = np.array(x)\n",
    "    y_index = np.array(y)\n",
    "#\n",
    "    delta = x[1]-x[0]\n",
    "#\n",
    "    len_x = len(x)\n",
    "    ind = np.linspace(1,len_x,len_x)\n",
    "#\n",
    "    bar_width = 1 #定义一个数字代表每个独立柱的宽度\n",
    "#\n",
    "    rects1 = ax1.bar(ind, y_index, width=bar_width,align='edge',alpha=0.5, color='yellow',edgecolor='red',label=file)\n",
    "    for a,b in zip(ind,y_index):\n",
    "        plt.text(a+0.5, b+0.05, '%.0f' % b, ha='center', va= 'bottom',fontsize=8)\n",
    "#    plt.xticks(x_index + bar_width/2, x_data) #x轴刻度线\n",
    "#    plt.legend('upper right') #显示图例\n",
    "    plt.legend() #显示图例\n",
    "    plt.tight_layout() #自动控制图像外部边缘，此方法不能够很好的控制图像间的间隔\n",
    "#\n",
    "    ax1.set_xticks(np.append(ind,len_x+1))\n",
    "    xx = list(np.append(x_index,round(x[-1]+delta,digit)))\n",
    "    ax1.set_xticklabels(xx,rotation=30,fontsize=8)\n",
    "    ax1.set_xlabel('Coordinate bond length')\n",
    "    ax1.set_ylabel('Number')\n",
    "    ax1.set_title('CR statistics')\n",
    "#\n",
    "    save_fig(path,file)\n",
    "    plt.close(fig)"
   ]
  },
  {
   "cell_type": "code",
   "execution_count": 132,
   "metadata": {
    "ExecuteTime": {
     "end_time": "2021-09-17T08:30:06.284272Z",
     "start_time": "2021-09-17T08:30:06.281265Z"
    }
   },
   "outputs": [],
   "source": [
    "def plot_cr_seq(y, path, file, note='Avg. 1st bond length'):\n",
    "#\n",
    "    #fig = plt.figure(num=1, figsize=(15, 8),dpi=80) #开启一个窗口，同时设置大小，分辨率\n",
    "    fig = plt.figure()\n",
    "    ax1 = fig.add_subplot(1,1,1)\n",
    "#\n",
    "    x = list(range(len(y)))\n",
    "    ax1.plot(x,y, label=file)\n",
    "#\n",
    "    ax1.set_title(note)\n",
    "    ax1.set_xlabel('site')\n",
    "    ax1.set_ylabel(note)\n",
    "    ax1.legend()\n",
    "    save_fig(path,file)\n",
    "    plt.close(fig)"
   ]
  },
  {
   "cell_type": "markdown",
   "metadata": {},
   "source": [
    "## 读取coor.dat文件中的数组"
   ]
  },
  {
   "cell_type": "code",
   "execution_count": 83,
   "metadata": {
    "ExecuteTime": {
     "end_time": "2021-09-17T06:11:19.305272Z",
     "start_time": "2021-09-17T06:11:19.301261Z"
    }
   },
   "outputs": [],
   "source": [
    "def read_coor(path_coor, shell=1):\n",
    "    \"\"\"\n",
    "    读取coor.dat中前shell个壳层的数据\n",
    "    \"\"\"\n",
    "    exist = os.path.exists(path_coor)\n",
    "    if exist:\n",
    "        coor = pd.read_csv(path_coor,delim_whitespace=True,header=None, skiprows=[0,1])\n",
    "        coor_data = coor.values\n",
    "        cn = coor_data[0:shell,1]\n",
    "        r = coor_data[0:shell,2]\n",
    "        r_d = coor_data[0:shell,3]\n",
    "#\n",
    "        return cn,r,r_d\n",
    "#\n",
    "    else:\n",
    "        return None  "
   ]
  },
  {
   "cell_type": "markdown",
   "metadata": {},
   "source": [
    "## 将一个整数序列（含有多个连续零）改造成只包含少量零的序列，供作图使用"
   ]
  },
  {
   "cell_type": "code",
   "execution_count": 17,
   "metadata": {
    "ExecuteTime": {
     "end_time": "2021-09-17T12:21:32.728702Z",
     "start_time": "2021-09-17T12:21:32.722722Z"
    }
   },
   "outputs": [],
   "source": [
    "def list_modify(start, end, list0):\n",
    "    \"\"\"\n",
    "    删除list0(start, end)中0元素连续超过三个的部分，只保留有非零周围的0，返回修正过的列表和列表各元素所在的序号\n",
    "    这里假设list0[start]和list0[end]都不为0。\n",
    "    \"\"\"\n",
    "    list_index = []\n",
    "    list_modify = []\n",
    "    if start == end:\n",
    "        list_index = [start]\n",
    "        list_modify = [list0[start]]\n",
    "        return list_index, list_modify\n",
    "    if start > end:\n",
    "        print(f\"\\n{'#'*10:10}Warning!! Error list!\")\n",
    "        print(f\"{' ':10}Start({start}) > End({end}) !\")\n",
    "#        sys.exit(0)\n",
    "        return [], []\n",
    "#\n",
    "    for i in range(start,end):    #注意，这里估计不统计list0[end]因为它不为零\n",
    "        j = list0[i] + list0[i+1]\n",
    "        if j != 0:\n",
    "            list_index.append(i)\n",
    "            list_modify.append(list0[i])\n",
    "        else:\n",
    "            k = list0[i] + list0[i-1]\n",
    "            if k != 0:\n",
    "                list_index.append(i)\n",
    "                list_modify.append(list0[i])\n",
    "    list_index.append(end)\n",
    "    list_modify.append(list0[end])\n",
    "    return list_index, list_modify"
   ]
  },
  {
   "cell_type": "code",
   "execution_count": 18,
   "metadata": {
    "ExecuteTime": {
     "end_time": "2021-09-17T12:21:35.056892Z",
     "start_time": "2021-09-17T12:21:35.050879Z"
    }
   },
   "outputs": [],
   "source": [
    "def list_modify_without0(start, end, list0):\n",
    "    \"\"\"\n",
    "    删除list0(start, end)中所有0元素，返回修正过的列表和列表各元素所在的序号\n",
    "    这里假设list0[start]和list0[end]都不为0。\n",
    "    \"\"\"\n",
    "    list_index = []\n",
    "    list_modify = []\n",
    "    if start == end:\n",
    "        list_index = [start]\n",
    "        list_modify = [list0[start]]\n",
    "        return list_index, list_modify\n",
    "    if start > end:\n",
    "        print(f\"\\n{'#'*10:10}Warning!! Error list!\")\n",
    "        print(f\"{' ':10}Start({start}) > End({end}) !\")\n",
    "#        sys.exit(0)\n",
    "        return [], []\n",
    "#\n",
    "    for i in range(start,end):    #注意，这里估计不统计list0[end]因为它不为零\n",
    "        j = list0[i]\n",
    "        if j != 0:\n",
    "            list_index.append(i)\n",
    "            list_modify.append(j)\n",
    "    list_index.append(end)\n",
    "    list_modify.append(list0[end])\n",
    "    return list_index, list_modify"
   ]
  },
  {
   "cell_type": "markdown",
   "metadata": {},
   "source": [
    "# 程序正文"
   ]
  },
  {
   "cell_type": "markdown",
   "metadata": {},
   "source": [
    "## 当前目录"
   ]
  },
  {
   "cell_type": "code",
   "execution_count": 86,
   "metadata": {
    "ExecuteTime": {
     "end_time": "2021-09-17T06:11:27.585369Z",
     "start_time": "2021-09-17T06:11:27.582360Z"
    }
   },
   "outputs": [
    {
     "data": {
      "text/plain": [
       "'D:\\\\haifeng\\\\work_20210709\\\\ML+XAS\\\\code\\\\datasets setup\\\\jupyterbook'"
      ]
     },
     "execution_count": 86,
     "metadata": {},
     "output_type": "execute_result"
    }
   ],
   "source": [
    "path = os.path.abspath('./')\n",
    "path"
   ]
  },
  {
   "cell_type": "code",
   "execution_count": 87,
   "metadata": {
    "ExecuteTime": {
     "end_time": "2021-09-17T06:11:28.373504Z",
     "start_time": "2021-09-17T06:11:28.369493Z"
    }
   },
   "outputs": [
    {
     "data": {
      "text/plain": [
       "'D:\\\\haifeng\\\\work_20210709\\\\ML+XAS\\\\code\\\\datasets setup'"
      ]
     },
     "execution_count": 87,
     "metadata": {},
     "output_type": "execute_result"
    }
   ],
   "source": [
    "# 上一级目录\n",
    "path_par = os.path.abspath(os.path.pardir)\n",
    "path_par"
   ]
  },
  {
   "cell_type": "markdown",
   "metadata": {},
   "source": [
    "## 源文件夹目录"
   ]
  },
  {
   "cell_type": "code",
   "execution_count": 88,
   "metadata": {
    "ExecuteTime": {
     "end_time": "2021-09-17T06:11:29.963980Z",
     "start_time": "2021-09-17T06:11:29.958968Z"
    }
   },
   "outputs": [
    {
     "data": {
      "text/plain": [
       "['100',\n",
       " '1000',\n",
       " '1100',\n",
       " '1200',\n",
       " '1300',\n",
       " '1400',\n",
       " '1500',\n",
       " '1600',\n",
       " '1700',\n",
       " '1800',\n",
       " '1900',\n",
       " '200',\n",
       " '2000',\n",
       " '2100',\n",
       " '2200',\n",
       " '2300',\n",
       " '2400',\n",
       " '2500',\n",
       " '2600',\n",
       " '2700',\n",
       " '2800',\n",
       " '2900',\n",
       " '300',\n",
       " '3000',\n",
       " '3100',\n",
       " '3200',\n",
       " '3300',\n",
       " '3400',\n",
       " '3500',\n",
       " '3600',\n",
       " '3700',\n",
       " '3800',\n",
       " '3900',\n",
       " '400',\n",
       " '4000',\n",
       " '500',\n",
       " '600',\n",
       " '700',\n",
       " '800',\n",
       " '900']"
      ]
     },
     "execution_count": 88,
     "metadata": {},
     "output_type": "execute_result"
    }
   ],
   "source": [
    "# 源文件夹目录\n",
    "path_src = os.path.join(path_par, dir_src)\n",
    "# 检查源文件夹是否存在，存在则列出其内部文件夹，不存在则打印错误\n",
    "exist = os.path.exists(path_src)\n",
    "if exist:\n",
    "    list_seed = os.listdir(path_src)\n",
    "else:\n",
    "    print()\n",
    "    print('** Error!! WT untared directory', dir_src, 'is not found!' )\n",
    "    print()\n",
    "#    sys.exit()\n",
    "list_seed"
   ]
  },
  {
   "cell_type": "markdown",
   "metadata": {},
   "source": [
    "## 目标文件夹"
   ]
  },
  {
   "cell_type": "code",
   "execution_count": 125,
   "metadata": {
    "ExecuteTime": {
     "end_time": "2021-09-17T08:15:17.263262Z",
     "start_time": "2021-09-17T08:15:17.258250Z"
    }
   },
   "outputs": [
    {
     "data": {
      "text/plain": [
       "'D:\\\\haifeng\\\\work_20210709\\\\ML+XAS\\\\code\\\\datasets setup\\\\AuPd-4000_au150-0_DW_R0_cncr_WT_untar_treat_statistics'"
      ]
     },
     "execution_count": 125,
     "metadata": {},
     "output_type": "execute_result"
    }
   ],
   "source": [
    "path_work = os.path.join(path_par, dir_work)\n",
    "os.makedirs(path_work, exist_ok=True)\n",
    "path_work"
   ]
  },
  {
   "cell_type": "markdown",
   "metadata": {},
   "source": [
    "## 开始统计coor.dat中第一壳层的数据。"
   ]
  },
  {
   "cell_type": "markdown",
   "metadata": {
    "ExecuteTime": {
     "end_time": "2021-09-09T11:32:40.507150Z",
     "start_time": "2021-09-09T11:32:40.503139Z"
    }
   },
   "source": [
    "a = [[1,2,3]]\n",
    "b = [[4,5,6]]\n",
    "a+b = [[1, 2, 3], [4, 5, 6]]"
   ]
  },
  {
   "cell_type": "markdown",
   "metadata": {
    "ExecuteTime": {
     "end_time": "2021-09-10T14:30:32.649877Z",
     "start_time": "2021-09-10T14:30:32.646869Z"
    }
   },
   "source": [
    "a = [], b = [1,2] ,a.append(b) = [[1, 2]]"
   ]
  },
  {
   "cell_type": "markdown",
   "metadata": {
    "ExecuteTime": {
     "end_time": "2021-09-10T14:31:41.028060Z",
     "start_time": "2021-09-10T14:31:41.024051Z"
    }
   },
   "source": [
    "a = [], b = [1,2], a+b = [1, 2]"
   ]
  },
  {
   "cell_type": "markdown",
   "metadata": {
    "ExecuteTime": {
     "end_time": "2021-09-17T02:34:52.100868Z",
     "start_time": "2021-09-17T02:34:52.097859Z"
    }
   },
   "source": [
    "int(2.6) = 2"
   ]
  },
  {
   "cell_type": "markdown",
   "metadata": {
    "ExecuteTime": {
     "end_time": "2021-09-17T02:35:13.004673Z",
     "start_time": "2021-09-17T02:35:13.001664Z"
    }
   },
   "source": [
    "int(-2.6) = -2"
   ]
  },
  {
   "cell_type": "code",
   "execution_count": 126,
   "metadata": {
    "ExecuteTime": {
     "end_time": "2021-09-17T08:15:38.605867Z",
     "start_time": "2021-09-17T08:15:30.227528Z"
    },
    "scrolled": true
   },
   "outputs": [
    {
     "name": "stdout",
     "output_type": "stream",
     "text": [
      "\n",
      "** 0 sitescn larger than 150 should be checked. **\n"
     ]
    }
   ],
   "source": [
    "#  这里假设最多配位数为m，其值可以提高，因为后面会删除没有统计到的配位数情况，但再高没有物理意义。\n",
    "# mm为配位键长/delta_R之后取整的最大值,我们这里假设最大CR为10埃\n",
    "# trivial 是一个很小的值，用于在对读取的cn、cr进行相加，让其避免出现2.8/0.05=55.99999999999999，然后取int时只得到55的错误。\n",
    "# 为避免trivial与delta_R课比较，这里将其设为\n",
    "N_atom_max = 150\n",
    "CR_Max = 10\n",
    "trivial = min(0.00001, delta_R/100)\n",
    "#print(f\"trivial={trivial}\")\n",
    "#\n",
    "m = N_atom_max\n",
    "mm = int(CR_Max / delta_R)\n",
    "#  N_bad 表示不好的位点数量（也就是配位数超过m的位点数）\n",
    "N_bad = 0\n",
    "#\n",
    "#\n",
    "N_seed = len(list_seed)\n",
    "#\n",
    "#\n",
    "#  CN是一个数组，共N_seed行（cluster个数），m列，CN(i,j)为第i个cluster，配位数为j的样本数\n",
    "#  CR是一个数组，共N_seed行（cluster个数），mm列，CR(i,j)为第i个cluster，配位键长为j*delta_R（在[j*delta_R,(j+1)*delta_R）的样本数\n",
    "#  R_all和R_all_d都是数组list，共N_seed*mm个元素，顺溜着读取键长和误差。\n",
    "#  cluster为数组，元素对应于cluster的名称\n",
    "CN = np.zeros((N_seed,m+1),dtype=int)\n",
    "CR = np.zeros((N_seed,mm+1),dtype=int)\n",
    "R_all = []\n",
    "R_d_all = []\n",
    "CN_min = []\n",
    "CN_max = []\n",
    "CR_min = []\n",
    "CR_max = []\n",
    "#\n",
    "CN_all_min = m\n",
    "CN_all_max = 0\n",
    "CR_all_min = mm+1\n",
    "CR_all_max = 0\n",
    "#\n",
    "#\n",
    "# 进入各个cluster，即100、200等\n",
    "for iseed, dir_seed in enumerate(list_seed):\n",
    "#\n",
    "# 源seed的路径\n",
    "    path_seed_src = os.path.join(path_src, dir_seed)\n",
    "# 进入seed下的coor文件夹，查找其下是否存在“coor.dat”文件\n",
    "    dir_coor = 'coor'\n",
    "    path_coor_src = os.path.join(path_seed_src, dir_coor)\n",
    "    exist = os.path.exists(path_coor_src)\n",
    "    if exist:\n",
    "#  R、R_d统计某个seed下所有位点的情况\n",
    "        R = []\n",
    "        R_d = []\n",
    "# 源seed中各个xyz文件夹  \n",
    "        list_coor = os.listdir(path_coor_src)\n",
    "        for i, file_coor in enumerate(list_coor):\n",
    "            path_file_coor_src = os.path.join(path_coor_src, file_coor)\n",
    "#  提取绘图信息\n",
    "            cn,r,r_d = read_coor(path_file_coor_src,1)\n",
    "#\n",
    "            if cn[0] > m:\n",
    "                N_bad = N_bad + 1\n",
    "                print()\n",
    "                print(f\"** file {dir_seed}'/'{dir_coor}'/'{file_coor} should be checked! **\")\n",
    "                print(f\"** It''s CN is {cn[0]}\")\n",
    "                print(f\"** It''s CR is {r[0]}\")\n",
    "                print(f\"** It''s CR delta is {r_d[0]}\")\n",
    "#\n",
    "            CN[iseed][int(cn[0]+trivial)] += 1\n",
    "            CR[iseed][int((r[0]+trivial)/delta_R)] += 1\n",
    "#\n",
    "            R.append(r[0])\n",
    "            R_d.append(r_d[0])\n",
    "#            if iseed ==0 :\n",
    "#                print(f\"{file_coor}, R={r[0]},CR[0][{int((r[0]+trivial)/delta_R)}]={CR[iseed][int((r[0]+trivial)/delta_R)]}\")\n",
    "\n",
    "        for i in range(m+1):\n",
    "            if CN[iseed][i] != 0:\n",
    "                break\n",
    "        cn_min = i\n",
    "#\n",
    "        for i in range(m,0,-1):\n",
    "            if CN[iseed][i] != 0:\n",
    "                break\n",
    "        cn_max = i\n",
    "#\n",
    "        for i in range(mm+1):\n",
    "            if CR[iseed][i] != 0:\n",
    "                break\n",
    "        cr_min = i\n",
    "#\n",
    "        for i in range(mm,0,-1):\n",
    "            if CR[iseed][i] != 0:\n",
    "                break\n",
    "        cr_max = i\n",
    "#\n",
    "\n",
    "        CN_max.append(cn_max)\n",
    "        CN_min.append(cn_min)\n",
    "        CR_max.append(cr_max)\n",
    "        CR_min.append(cr_min)\n",
    "#\n",
    "        CN_all_min = min(CN_all_min, cn_min)\n",
    "        CN_all_max = max(CN_all_max, cn_max)\n",
    "        CR_all_min = min(CR_all_min, cr_min)\n",
    "        CR_all_max = max(CR_all_max, cr_max)\n",
    "#\n",
    "        R_all.append(R)\n",
    "        R_d_all.append(R_d)\n",
    "\n",
    "    else:\n",
    "        print()\n",
    "        print(f\"** Error!! No directory {dir_coor} found in seed {dir_seed}\")\n",
    "        print()\n",
    "#        sys.exit()\n",
    "#\n",
    "print()\n",
    "print('**', N_bad, 'sites''cn larger than',m, 'should be checked. **')\n",
    "#\n",
    "#\n",
    "CN_sum = np.sum(CN, axis=0)\n",
    "CR_sum = np.sum(CR, axis=0)\n",
    "#\n",
    "CN_all_sum = np.sum(CN_sum)\n",
    "CR_all_sum = np.sum(CR_sum)"
   ]
  },
  {
   "cell_type": "markdown",
   "metadata": {},
   "source": [
    "### 数列调整"
   ]
  },
  {
   "cell_type": "code",
   "execution_count": 128,
   "metadata": {
    "ExecuteTime": {
     "end_time": "2021-09-17T08:21:03.560553Z",
     "start_time": "2021-09-17T08:21:03.554553Z"
    }
   },
   "outputs": [],
   "source": [
    "# list_CN 、count_CN 为数列，其第i个元素为调整过的配位数列表\n",
    "list_CN = []\n",
    "count_CN = []\n",
    "list_CR = []\n",
    "count_CR = []\n",
    "for i, dir_seed in enumerate(list_seed):\n",
    "    cn_min = CN_min[i]\n",
    "    cn_max = CN_max[i]\n",
    "    cr_min = CR_min[i]\n",
    "    cr_max = CR_max[i]\n",
    "#\n",
    "    b,c = list_modify(cn_min, cn_max, CN[i])\n",
    "    list_CN.append(b)\n",
    "    count_CN.append(c)\n",
    "#\n",
    "    b, c = list_modify(cr_min, cr_max, CR[i])\n",
    "    list_CR.append(b)\n",
    "    count_CR.append(c)\n",
    "#\n",
    "b, c = list_modify_without0(CN_all_min, CN_all_max, CN_sum)\n",
    "list_CN.append(b)\n",
    "count_CN.append(c)\n",
    "#\n",
    "b, c = list_modify_without0(CR_all_min, CR_all_max, CR_sum)\n",
    "list_CR.append(b)\n",
    "count_CR.append(c)"
   ]
  },
  {
   "cell_type": "markdown",
   "metadata": {
    "ExecuteTime": {
     "end_time": "2021-09-06T14:09:50.792506Z",
     "start_time": "2021-09-06T14:09:48.945496Z"
    }
   },
   "source": [
    "### 绘图"
   ]
  },
  {
   "cell_type": "code",
   "execution_count": null,
   "metadata": {},
   "outputs": [],
   "source": [
    "#  设置plot文件夹\n",
    "#\n",
    "dir_cluster = 'cluster'\n",
    "path_plot_work = os.path.join(path_work, dir_cluster)\n",
    "os.makedirs(path_plot_work, exist_ok=True)"
   ]
  },
  {
   "cell_type": "markdown",
   "metadata": {},
   "source": [
    "#### CN绘图"
   ]
  },
  {
   "cell_type": "code",
   "execution_count": null,
   "metadata": {},
   "outputs": [],
   "source": [
    "for i, dir_seed in enumerate(list_seed):\n",
    "    file_cn = dir_seed + '_cn' + prf_trt\n",
    "    plot_cn(list_CN[i], count_CN[i], path_plot_work, file_cn)\n",
    "plot_cn_all(list_CN[-1], count_CN[-1], path_work, file_cn_statistics_png)"
   ]
  },
  {
   "cell_type": "markdown",
   "metadata": {},
   "source": [
    "#### CR统计绘图"
   ]
  },
  {
   "cell_type": "code",
   "execution_count": null,
   "metadata": {},
   "outputs": [],
   "source": [
    "for i, dir_seed in enumerate(list_seed):\n",
    "    file_cr = dir_seed + '_cr' + prf_dR + prf_trt\n",
    "    plot_cr(list(np.around(np.array(list_CR[i])*delta_R,digit)), count_CR[i], path_plot_work, file_cr, digit)\n",
    "plot_cr_all(list(np.around(np.array(list_CR[-1])*delta_R,digit)), count_CR[-1], path_work, file_cr_statistics_png, digit)"
   ]
  },
  {
   "cell_type": "markdown",
   "metadata": {},
   "source": [
    "#### CR连续分布绘图"
   ]
  },
  {
   "cell_type": "code",
   "execution_count": null,
   "metadata": {},
   "outputs": [],
   "source": [
    "for i, dir_seed in enumerate(list_seed):\n",
    "    file_cr_seq = dir_seed + '_cr_seq' + prf_trt\n",
    "    plot_cr_seq(R_all[i], path_plot_work, file_cr_seq,note='Avg. 1st bond distance')"
   ]
  },
  {
   "cell_type": "markdown",
   "metadata": {},
   "source": [
    "#### CR误差连续分布绘图"
   ]
  },
  {
   "cell_type": "code",
   "execution_count": null,
   "metadata": {},
   "outputs": [],
   "source": [
    "for i, dir_seed in enumerate(list_seed):\n",
    "    file_cr_d_seq = dir_seed + '_cr_error_seq' + prf_trt\n",
    "    plot_cr_seq(R_d_all[i], path_plot_work, file_cr_d_seq,note='Avg. 1st bond distance error')"
   ]
  },
  {
   "cell_type": "markdown",
   "metadata": {},
   "source": [
    "### 输出统计文件"
   ]
  },
  {
   "cell_type": "markdown",
   "metadata": {},
   "source": [
    "#### CN"
   ]
  },
  {
   "cell_type": "code",
   "execution_count": null,
   "metadata": {},
   "outputs": [],
   "source": [
    "path_cn_statistics_txt = os.path.join(path_work,file_cn_statistics_txt)"
   ]
  },
  {
   "cell_type": "code",
   "execution_count": 148,
   "metadata": {
    "ExecuteTime": {
     "end_time": "2021-09-17T08:43:22.138501Z",
     "start_time": "2021-09-17T08:43:22.119450Z"
    }
   },
   "outputs": [
    {
     "name": "stdout",
     "output_type": "stream",
     "text": [
      "cluster    3    4    5    6    7    8    9   10   11   12   13   14\n",
      "    100         2    8   16   17   34   14    4    7   37    6    1\n",
      "   1000         1    7   15   20   32   14    3    2   45   10\n",
      "   1100         3    7   17   22   31   13    2    2   38   11    2\n",
      "   1200         1    4   13   24   36   14    4    5   35   12    1\n",
      "   1300         2    4   15   22   35   13    1    3   44    7    3\n",
      "   1400         2    2   14   29   33   13    1    2   41   12\n",
      "   1500         2    7   15   22   33   13    3    2   46    6    1\n",
      "   1600         2    5   14   23   31   17    2    0   46    6    3\n",
      "   1700         1    4   17   21   38   12    0    2   43   10    1\n",
      "   1800    1    1    3   14   27   33   15    0    4   39   10    2\n",
      "   1900    1    0    5   16   22   35   14    1    3   41    9    2\n",
      "    200    1    2    4   15   17   39   14    3    6   40    5    2\n",
      "   2000         1    4   20   26   29   12    2    4   43    7    2\n",
      "   2100         3    5   17   21   35   11    2    3   41   11\n",
      "   2200    1    1    4   14   25   35   14    6    3   39    8\n",
      "   2300         3    2   14   25   34   14    2    4   39   10    2\n",
      "   2400    2    1    3   17   23   30   17    1    1   42   11    2\n",
      "   2500         1    4   15   30   28   14    2    2   41   11\n",
      "   2600         1    4   17   24   32   13    3    4   40   10    1\n",
      "   2700         3    4   16   25   31   14    4    7   33    9    3\n",
      "   2800         3    4   13   25   36   12    3    2   38    9    3\n",
      "   2900    1    2    3   13   24   38   13    1    5   38   11\n",
      "    300         2    3   18   19   34   14    6    8   38    4    4\n",
      "   3000         1    5   18   18   35   15    3    6   39    8    1\n",
      "   3100         2    7   14   25   26   18    5    3   39    8    2\n",
      "   3200         1    2   12   32   34   12    1    1   46    9\n",
      "   3300    1    2    0   19   21   32   17    3    3   42    8\n",
      "   3400    1    2    3   18   21   31   17    1    2   41    9    2\n",
      "   3500         2    2   19   23   34   15    1    5   39    8\n",
      "   3600         3    5   16   17   36   15    2    4   41   10\n",
      "   3700    1    1    2   18   23   36   13    1    7   33   11    3\n",
      "   3800         3    2   15   26   33   13    3    3   43    8    1\n",
      "   3900         1    5   19   23   33   12    4    1   36   12    3\n",
      "    400             10   13   19   32   18    3    4   40    8    1\n",
      "   4000         2    2   16   27   30   15    3    3   41    8\n",
      "    500         2    5   14   21   35   15    2    5   44    6    1\n",
      "    600         2    4   17   18   35   15    4    3   42    7    3\n",
      "    700         2    3   23   18   29   17    1    7   38    7    2\n",
      "    800    1    2    3   15   23   33   15    3    5   40    7    1\n",
      "    900    1    2    7   15   18   33   16    2    3   38   12    1\n",
      "    sum   12   70  167  636  906 1329  572   98  146 1609  351   56\n",
      "sum_all      5952\n",
      "\n",
      "cluster    3    4    5    6    7    8    9   10   11   12   13   14\n"
     ]
    }
   ],
   "source": [
    "fout_cn = open(path_cn_statistics_txt,'w')\n",
    "\n",
    "print(f\"{'cluster':>7}\", end=' ')\n",
    "print(f\"{'cluster':>7}\", end=' ', file=fout_cn)\n",
    "for i in range(CN_all_min,CN_all_max):\n",
    "    print(f\"{i:>4d}\", end = ' ')\n",
    "    print(f\"{i:>4d}\", end = ' ', file=fout_cn)\n",
    "print(f\"{CN_all_max:>4d}\")\n",
    "print(f\"{CN_all_max:>4d}\", file=fout_cn)\n",
    "#\n",
    "for j, dir_seed in enumerate(list_seed):\n",
    "    cn_min = CN_min[j]\n",
    "    cn_max = CN_max[j]\n",
    "    print(f\"{dir_seed:>7}\", end=' ')\n",
    "    print(f\"{dir_seed:>7}\", end=' ', file=fout_cn)\n",
    "    for i in range(CN_all_min,cn_min):\n",
    "        print(f\"{' ':>4}\", end = ' ')\n",
    "        print(f\"{' ':>4}\", end = ' ', file=fout_cn)\n",
    "    for i in range(cn_min,cn_max):\n",
    "        print(f\"{CN[j][i]:>4d}\", end = ' ')\n",
    "        print(f\"{CN[j][i]:>4d}\", end = ' ', file=fout_cn)\n",
    "    print(f\"{CN[j][cn_max]:>4d}\")\n",
    "    print(f\"{CN[j][cn_max]:>4d}\", file=fout_cn)\n",
    "#\n",
    "print(f\"{'sum':>7}\", end=' ')\n",
    "print(f\"{'sum':>7}\", end=' ', file=fout_cn)\n",
    "for i in range(CN_all_min,CN_all_max):\n",
    "    print(f\"{CN_sum[i]:>4d}\", end = ' ')\n",
    "    print(f\"{CN_sum[i]:>4d}\", end = ' ', file=fout_cn)\n",
    "print(f\"{CN_sum[CN_all_max]:>4d}\")\n",
    "print(f\"{CN_sum[CN_all_max]:>4d}\", file=fout_cn)\n",
    "#\n",
    "print(f\"{'sum_all':>7}\", end=' ')\n",
    "print(f\"{'sum_all':>7}\", end=' ', file=fout_cn)\n",
    "print(f\"{CN_all_sum:>9d}\")\n",
    "print(f\"{CN_all_sum:>9d}\", file=fout_cn)\n",
    "#\n",
    "print(f\"\\n{'cluster':>7}\", end=' ')\n",
    "print(f\"\\n{'cluster':>7}\", end=' ', file=fout_cn)\n",
    "for i in range(CN_all_min,CN_all_max):\n",
    "    print(f\"{i:>4d}\", end = ' ')\n",
    "    print(f\"{i:>4d}\", end = ' ', file=fout_cn)\n",
    "print(f\"{CN_all_max:>4d}\")\n",
    "print(f\"{CN_all_max:>4d}\", file=fout_cn)\n",
    "#\n",
    "fout_cn.close()"
   ]
  },
  {
   "cell_type": "markdown",
   "metadata": {},
   "source": [
    "#### 简单 CN without 0输出"
   ]
  },
  {
   "cell_type": "code",
   "execution_count": null,
   "metadata": {},
   "outputs": [],
   "source": [
    "a = os.path.splitext(path_cn_statistics_txt)\n",
    "path_cn_statistics2_txt = a[0]+'_2'+a[1]"
   ]
  },
  {
   "cell_type": "code",
   "execution_count": 161,
   "metadata": {
    "ExecuteTime": {
     "end_time": "2021-09-17T09:07:19.099954Z",
     "start_time": "2021-09-17T09:07:19.080926Z"
    }
   },
   "outputs": [
    {
     "name": "stdout",
     "output_type": "stream",
     "text": [
      "cluster    3    4    5    6    7    8    9   10   11   12   13   14\n",
      "    100         2    8   16   17   34   14    4    7   37    6    1\n",
      "   1000         1    7   15   20   32   14    3    2   45   10\n",
      "   1100         3    7   17   22   31   13    2    2   38   11    2\n",
      "   1200         1    4   13   24   36   14    4    5   35   12    1\n",
      "   1300         2    4   15   22   35   13    1    3   44    7    3\n",
      "   1400         2    2   14   29   33   13    1    2   41   12\n",
      "   1500         2    7   15   22   33   13    3    2   46    6    1\n",
      "   1600         2    5   14   23   31   17    2        46    6    3\n",
      "   1700         1    4   17   21   38   12         2   43   10    1\n",
      "   1800    1    1    3   14   27   33   15         4   39   10    2\n",
      "   1900    1         5   16   22   35   14    1    3   41    9    2\n",
      "    200    1    2    4   15   17   39   14    3    6   40    5    2\n",
      "   2000         1    4   20   26   29   12    2    4   43    7    2\n",
      "   2100         3    5   17   21   35   11    2    3   41   11\n",
      "   2200    1    1    4   14   25   35   14    6    3   39    8\n",
      "   2300         3    2   14   25   34   14    2    4   39   10    2\n",
      "   2400    2    1    3   17   23   30   17    1    1   42   11    2\n",
      "   2500         1    4   15   30   28   14    2    2   41   11\n",
      "   2600         1    4   17   24   32   13    3    4   40   10    1\n",
      "   2700         3    4   16   25   31   14    4    7   33    9    3\n",
      "   2800         3    4   13   25   36   12    3    2   38    9    3\n",
      "   2900    1    2    3   13   24   38   13    1    5   38   11\n",
      "    300         2    3   18   19   34   14    6    8   38    4    4\n",
      "   3000         1    5   18   18   35   15    3    6   39    8    1\n",
      "   3100         2    7   14   25   26   18    5    3   39    8    2\n",
      "   3200         1    2   12   32   34   12    1    1   46    9\n",
      "   3300    1    2        19   21   32   17    3    3   42    8\n",
      "   3400    1    2    3   18   21   31   17    1    2   41    9    2\n",
      "   3500         2    2   19   23   34   15    1    5   39    8\n",
      "   3600         3    5   16   17   36   15    2    4   41   10\n",
      "   3700    1    1    2   18   23   36   13    1    7   33   11    3\n",
      "   3800         3    2   15   26   33   13    3    3   43    8    1\n",
      "   3900         1    5   19   23   33   12    4    1   36   12    3\n",
      "    400             10   13   19   32   18    3    4   40    8    1\n",
      "   4000         2    2   16   27   30   15    3    3   41    8\n",
      "    500         2    5   14   21   35   15    2    5   44    6    1\n",
      "    600         2    4   17   18   35   15    4    3   42    7    3\n",
      "    700         2    3   23   18   29   17    1    7   38    7    2\n",
      "    800    1    2    3   15   23   33   15    3    5   40    7    1\n",
      "    900    1    2    7   15   18   33   16    2    3   38   12    1\n",
      "    sum   12   70  167  636  906 1329  572   98  146 1609  351   56\n",
      "sum_all      5952\n",
      "\n",
      "cluster    3    4    5    6    7    8    9   10   11   12   13   14\n"
     ]
    }
   ],
   "source": [
    "fout_cn = open(path_cn_statistics2_txt,'w')\n",
    "\n",
    "print(f\"{'cluster':>7}\", end=' ')\n",
    "print(f\"{'cluster':>7}\", end=' ', file=fout_cn)\n",
    "for i in range(CN_all_min,CN_all_max):\n",
    "    if CN_sum[i] != 0:\n",
    "        print(f\"{i:>4d}\", end = ' ')\n",
    "        print(f\"{i:>4d}\", end = ' ', file=fout_cn)\n",
    "print(f\"{CN_all_max:>4d}\")\n",
    "print(f\"{CN_all_max:>4d}\", file=fout_cn)\n",
    "#\n",
    "for j, dir_seed in enumerate(list_seed):\n",
    "    cn_min = CN_min[j]\n",
    "    cn_max = CN_max[j]\n",
    "    print(f\"{dir_seed:>7}\", end=' ')\n",
    "    print(f\"{dir_seed:>7}\", end=' ', file=fout_cn)\n",
    "    for i in range(CN_all_min,cn_max):\n",
    "        if CN_sum[i] != 0:\n",
    "            if CN[j][i] == 0:\n",
    "                print(f\"{' ':>4}\", end = ' ')\n",
    "                print(f\"{' ':>4}\", end = ' ', file=fout_cn)\n",
    "            else:\n",
    "                print(f\"{CN[j][i]:>4d}\", end = ' ')\n",
    "                print(f\"{CN[j][i]:>4d}\", end = ' ', file=fout_cn)\n",
    "    print(f\"{CN[j][cn_max]:>4d}\")\n",
    "    print(f\"{CN[j][cn_max]:>4d}\", file=fout_cn)\n",
    "#\n",
    "print(f\"{'sum':>7}\", end=' ')\n",
    "print(f\"{'sum':>7}\", end=' ', file=fout_cn)\n",
    "for i in range(CN_all_min,CN_all_max):\n",
    "    if CN_sum[i] != 0:\n",
    "        print(f\"{CN_sum[i]:>4d}\", end = ' ')\n",
    "        print(f\"{CN_sum[i]:>4d}\", end = ' ', file=fout_cn)\n",
    "print(f\"{CN_sum[CN_all_max]:>4d}\")\n",
    "print(f\"{CN_sum[CN_all_max]:>4d}\", file=fout_cn)\n",
    "#\n",
    "print(f\"{'sum_all':>7}\", end=' ')\n",
    "print(f\"{'sum_all':>7}\", end=' ', file=fout_cn)\n",
    "print(f\"{CN_all_sum:>9d}\")\n",
    "print(f\"{CN_all_sum:>9d}\", file=fout_cn)\n",
    "#\n",
    "print(f\"\\n{'cluster':>7}\", end=' ')\n",
    "print(f\"\\n{'cluster':>7}\", end=' ', file=fout_cn)\n",
    "for i in range(CN_all_min,CN_all_max):\n",
    "    if CN_sum[i] != 0:\n",
    "        print(f\"{i:>4d}\", end = ' ')\n",
    "        print(f\"{i:>4d}\", end = ' ', file=fout_cn)\n",
    "print(f\"{CN_all_max:>4d}\")\n",
    "print(f\"{CN_all_max:>4d}\", file=fout_cn)\n",
    "#\n",
    "fout_cn.close()"
   ]
  },
  {
   "cell_type": "markdown",
   "metadata": {},
   "source": [
    "#### CR"
   ]
  },
  {
   "cell_type": "code",
   "execution_count": null,
   "metadata": {},
   "outputs": [],
   "source": [
    "path_cr_statistics_txt = os.path.join(path_work,file_cr_statistics_txt)"
   ]
  },
  {
   "cell_type": "code",
   "execution_count": 158,
   "metadata": {
    "ExecuteTime": {
     "end_time": "2021-09-17T09:05:55.743806Z",
     "start_time": "2021-09-17T09:05:55.722750Z"
    },
    "scrolled": false
   },
   "outputs": [
    {
     "name": "stdout",
     "output_type": "stream",
     "text": [
      "Cluster [2.55,2.60) [2.60,2.65) [2.65,2.70) [2.70,2.75) [2.75,2.80) [2.80,2.85) [2.85,2.90) [2.90,2.95) [2.95,3.00) [3.00,3.05) [3.05,3.10) [3.10,3.15) [3.15,3.20)\n",
      "    100                                           6          13          31          45          38           7           4           1           0           1\n",
      "   1000                                           3          10          34          56          34           9           3\n",
      "   1100                                           7          21          32          43          27          15           3\n",
      "   1200                                           4          15          33          58          23          12           2           1           1\n",
      "   1300                               1           7          13          30          54          26          13           2           3\n",
      "   1400                                           3          10          38          53          31           9           5\n",
      "   1500                   1           0           3          17          32          52          35           9           1\n",
      "   1600                               1           5          14          29          49          34          11           3           2           1\n",
      "   1700                               1           6          12          30          48          36          15           1\n",
      "   1800                               1           3          20          28          47          30          17           3\n",
      "   1900                                           3          19          36          43          34          11           3\n",
      "    200       1           0           1           4          16          28          64          21          11           1           1\n",
      "   2000                                           3          17          35          57          23          11           3           0           1\n",
      "   2100                               1           8          17          16          55          36          14           2\n",
      "   2200                               1           5          16          33          51          34           9           1\n",
      "   2300                               1           3          16          30          49          26          16           6           2\n",
      "   2400                   1           2           4          13          32          43          38          12           3           2\n",
      "   2500                               2           4          15          32          51          27          14           3\n",
      "   2600                               1           2          14          20          68          28          12           2           2\n",
      "   2700                               2           2          21          34          41          32          11           5           1\n",
      "   2800                               2           6          13          37          43          31          10           6\n",
      "   2900                   1           0           1          16          30          52          34          14           1\n",
      "    300                                           5          15          36          42          31          15           4           2\n",
      "   3000                                           5          15          30          53          34          11           1\n",
      "   3100                               1           5          16          26          53          32          11           2           3\n",
      "   3200                                           1          14          33          62          29          10           1\n",
      "   3300                               1           1          14          37          54          25          14           1           0           1\n",
      "   3400                               1           5          18          33          44          30          12           5\n",
      "   3500                                           2          14          39          49          37           7\n",
      "   3600                                           2          12          37          48          34          13           3\n",
      "   3700                               1           5          14          41          36          39          10           1           2\n",
      "   3800                                           2          16          38          49          33          10           2\n",
      "   3900                                           4          15          36          38          31          16           7           2\n",
      "    400                                           2          15          32          58          26           9           5           0           0           1\n",
      "   4000                                                      12          27          51          39          13           4           1\n",
      "    500                   1           0           3          17          31          58          27          11           1           1\n",
      "    600                   1           1           3          13          32          55          29          10           4           2\n",
      "    700                               1           5          10          43          47          26          10           5\n",
      "    800                   1           1           4          11          36          51          34           9           1\n",
      "    900                                           6          13          29          55          26          15           3           1\n",
      "    sum       1           6          24         152         592        1296        2025        1240         468         113          29           4           2\n",
      "Sum_all    5952\n",
      "\n",
      "Cluster [2.55,2.60) [2.60,2.65) [2.65,2.70) [2.70,2.75) [2.75,2.80) [2.80,2.85) [2.85,2.90) [2.90,2.95) [2.95,3.00) [3.00,3.05) [3.05,3.10) [3.10,3.15) [3.15,3.20)\n"
     ]
    }
   ],
   "source": [
    "clus = 'Cluster'\n",
    "len_clus = len(clus)\n",
    "#\n",
    "fout_cr = open(path_cr_statistics_txt,'w')\n",
    "#\n",
    "print(f\"{clus:>{len_clus}}\", end=' ')\n",
    "print(f\"{clus:>{len_clus}}\", end=' ', file=fout_cr)\n",
    "for i in np.arange(CR_all_min,CR_all_max):\n",
    "    print(f\"[{i*delta_R:>{digit+2}.{digit}f},{(i+1)*delta_R:>{digit+2}.{digit}f})\", end = ' ')\n",
    "    print(f\"[{i*delta_R:>{digit+2}.{digit}f},{(i+1)*delta_R:>{digit+2}.{digit}f})\", end = ' ', file=fout_cr)\n",
    "print(f\"[{CR_all_max*delta_R:>{digit+2}.{digit}f},{(CR_all_max+1)*delta_R:>{digit+2}.{digit}f})\")\n",
    "print(f\"[{CR_all_max*delta_R:>{digit+2}.{digit}f},{(CR_all_max+1)*delta_R:>{digit+2}.{digit}f})\", file=fout_cr)\n",
    "#\n",
    "for j, dir_seed in enumerate(list_seed):\n",
    "    cr_min = CR_min[j]\n",
    "    cr_max = CR_max[j]\n",
    "    print(f\"{dir_seed:>{len_clus}}\", end=' ')\n",
    "    print(f\"{dir_seed:>{len_clus}}\", end=' ', file=fout_cr)\n",
    "    for i in range(CR_all_min,cr_min):\n",
    "        print(f\"{' ':>{2*digit+7}}\", end = ' ')\n",
    "        print(f\"{' ':>{2*digit+7}}\", end = ' ', file=fout_cr)\n",
    "#\n",
    "    for i in range(cr_min,cr_max):\n",
    "        print(f\"{CR[j][i]:>{digit+5}d}{' ':>{digit+2}}\", end = ' ')\n",
    "        print(f\"{CR[j][i]:>{digit+5}d}{' ':>{digit+2}}\", end = ' ', file=fout_cr)\n",
    "    print(f\"{CR[j][cr_max]:>{digit+5}d}\")\n",
    "    print(f\"{CR[j][cr_max]:>{digit+5}d}\", file=fout_cr)\n",
    "#\n",
    "print(f\"{'sum':>{len_clus}}\", end=' ')\n",
    "print(f\"{'sum':>{len_clus}}\", end=' ', file=fout_cr)\n",
    "#\n",
    "for i in range(CR_all_min,CR_all_max):\n",
    "    print(f\"{CR_sum[i]:>{digit+5}d}{' ':>{digit+2}}\", end = ' ')\n",
    "    print(f\"{CR_sum[i]:>{digit+5}d}{' ':>{digit+2}}\", end = ' ', file=fout_cr)\n",
    "print(f\"{CR_sum[CR_all_max]:>{digit+5}d}\")\n",
    "print(f\"{CR_sum[CR_all_max]:>{digit+5}d}\", file=fout_cr)\n",
    "#\n",
    "print(f\"{'Sum_all':>{len_clus}}\", end=' ')\n",
    "print(f\"{'Sum_all':>{len_clus}}\", end=' ', file=fout_cr)\n",
    "print(f\"{CR_all_sum:>{digit+5}d}\")\n",
    "print(f\"{CR_all_sum:>{digit+5}d}\", file=fout_cr)\n",
    "#\n",
    "print(f\"\\n{clus:>{len_clus}}\", end=' ')\n",
    "print(f\"\\n{clus:>{len_clus}}\", end=' ', file=fout_cr)\n",
    "for i in np.arange(CR_all_min,CR_all_max):\n",
    "    print(f\"[{i*delta_R:>{digit+2}.{digit}f},{(i+1)*delta_R:>{digit+2}.{digit}f})\", end = ' ')\n",
    "    print(f\"[{i*delta_R:>{digit+2}.{digit}f},{(i+1)*delta_R:>{digit+2}.{digit}f})\", end = ' ', file=fout_cr)\n",
    "print(f\"[{CR_all_max*delta_R:>{digit+2}.{digit}f},{(CR_all_max+1)*delta_R:>{digit+2}.{digit}f})\")\n",
    "print(f\"[{CR_all_max*delta_R:>{digit+2}.{digit}f},{(CR_all_max+1)*delta_R:>{digit+2}.{digit}f})\", file=fout_cr)\n",
    "#\n",
    "fout_cr.close()"
   ]
  },
  {
   "cell_type": "markdown",
   "metadata": {},
   "source": [
    "#### 简单 CR without 0输出"
   ]
  },
  {
   "cell_type": "code",
   "execution_count": 160,
   "metadata": {
    "ExecuteTime": {
     "end_time": "2021-09-17T09:07:18.063981Z",
     "start_time": "2021-09-17T09:07:18.060973Z"
    }
   },
   "outputs": [],
   "source": [
    "a = os.path.splitext(path_cr_statistics_txt)\n",
    "path_cr_statistics2_txt = a[0]+'_2'+a[1]"
   ]
  },
  {
   "cell_type": "code",
   "execution_count": 162,
   "metadata": {
    "ExecuteTime": {
     "end_time": "2021-09-17T09:17:11.264611Z",
     "start_time": "2021-09-17T09:17:11.242596Z"
    }
   },
   "outputs": [
    {
     "name": "stdout",
     "output_type": "stream",
     "text": [
      "Cluster [2.55,2.60) [2.60,2.65) [2.65,2.70) [2.70,2.75) [2.75,2.80) [2.80,2.85) [2.85,2.90) [2.90,2.95) [2.95,3.00) [3.00,3.05) [3.05,3.10) [3.10,3.15) [3.15,3.20)\n",
      "    100                                           6          13          31          45          38           7           4           1                       1\n",
      "   1000                                           3          10          34          56          34           9           3\n",
      "   1100                                           7          21          32          43          27          15           3\n",
      "   1200                                           4          15          33          58          23          12           2           1           1\n",
      "   1300                               1           7          13          30          54          26          13           2           3\n",
      "   1400                                           3          10          38          53          31           9           5\n",
      "   1500                   1                       3          17          32          52          35           9           1\n",
      "   1600                               1           5          14          29          49          34          11           3           2           1\n",
      "   1700                               1           6          12          30          48          36          15           1\n",
      "   1800                               1           3          20          28          47          30          17           3\n",
      "   1900                                           3          19          36          43          34          11           3\n",
      "    200       1                       1           4          16          28          64          21          11           1           1\n",
      "   2000                                           3          17          35          57          23          11           3                       1\n",
      "   2100                               1           8          17          16          55          36          14           2\n",
      "   2200                               1           5          16          33          51          34           9           1\n",
      "   2300                               1           3          16          30          49          26          16           6           2\n",
      "   2400                   1           2           4          13          32          43          38          12           3           2\n",
      "   2500                               2           4          15          32          51          27          14           3\n",
      "   2600                               1           2          14          20          68          28          12           2           2\n",
      "   2700                               2           2          21          34          41          32          11           5           1\n",
      "   2800                               2           6          13          37          43          31          10           6\n",
      "   2900                   1                       1          16          30          52          34          14           1\n",
      "    300                                           5          15          36          42          31          15           4           2\n",
      "   3000                                           5          15          30          53          34          11           1\n",
      "   3100                               1           5          16          26          53          32          11           2           3\n",
      "   3200                                           1          14          33          62          29          10           1\n",
      "   3300                               1           1          14          37          54          25          14           1                       1\n",
      "   3400                               1           5          18          33          44          30          12           5\n",
      "   3500                                           2          14          39          49          37           7\n",
      "   3600                                           2          12          37          48          34          13           3\n",
      "   3700                               1           5          14          41          36          39          10           1           2\n",
      "   3800                                           2          16          38          49          33          10           2\n",
      "   3900                                           4          15          36          38          31          16           7           2\n",
      "    400                                           2          15          32          58          26           9           5                                   1\n",
      "   4000                                                      12          27          51          39          13           4           1\n",
      "    500                   1                       3          17          31          58          27          11           1           1\n",
      "    600                   1           1           3          13          32          55          29          10           4           2\n",
      "    700                               1           5          10          43          47          26          10           5\n",
      "    800                   1           1           4          11          36          51          34           9           1\n",
      "    900                                           6          13          29          55          26          15           3           1\n",
      "    sum       1           6          24         152         592        1296        2025        1240         468         113          29           4           2\n",
      "Sum_all    5952\n",
      "\n",
      "Cluster [2.55,2.60) [2.60,2.65) [2.65,2.70) [2.70,2.75) [2.75,2.80) [2.80,2.85) [2.85,2.90) [2.90,2.95) [2.95,3.00) [3.00,3.05) [3.05,3.10) [3.10,3.15) [3.15,3.20)\n"
     ]
    }
   ],
   "source": [
    "clus = 'Cluster'\n",
    "len_clus = len(clus)\n",
    "#\n",
    "fout_cr = open(path_cr_statistics2_txt,'w')\n",
    "#\n",
    "print(f\"{clus:>{len_clus}}\", end=' ')\n",
    "print(f\"{clus:>{len_clus}}\", end=' ', file=fout_cr)\n",
    "for i in np.arange(CR_all_min,CR_all_max):\n",
    "    if CR_sum[i] != 0:\n",
    "        print(f\"[{i*delta_R:>{digit+2}.{digit}f},{(i+1)*delta_R:>{digit+2}.{digit}f})\", end = ' ')\n",
    "        print(f\"[{i*delta_R:>{digit+2}.{digit}f},{(i+1)*delta_R:>{digit+2}.{digit}f})\", end = ' ', file=fout_cr)\n",
    "print(f\"[{CR_all_max*delta_R:>{digit+2}.{digit}f},{(CR_all_max+1)*delta_R:>{digit+2}.{digit}f})\")\n",
    "print(f\"[{CR_all_max*delta_R:>{digit+2}.{digit}f},{(CR_all_max+1)*delta_R:>{digit+2}.{digit}f})\", file=fout_cr)\n",
    "#\n",
    "for j, dir_seed in enumerate(list_seed):\n",
    "    cr_min = CR_min[j]\n",
    "    cr_max = CR_max[j]\n",
    "    print(f\"{dir_seed:>{len_clus}}\", end=' ')\n",
    "    print(f\"{dir_seed:>{len_clus}}\", end=' ', file=fout_cr)\n",
    "#\n",
    "    for i in range(CR_all_min,cr_max):\n",
    "        if CR_sum[i] != 0:\n",
    "            if CR[j][i] == 0:\n",
    "                print(f\"{' ':>{2*digit+7}}\", end = ' ')\n",
    "                print(f\"{' ':>{2*digit+7}}\", end = ' ', file=fout_cr)\n",
    "            else:\n",
    "                print(f\"{CR[j][i]:>{digit+5}d}{' ':>{digit+2}}\", end = ' ')\n",
    "                print(f\"{CR[j][i]:>{digit+5}d}{' ':>{digit+2}}\", end = ' ', file=fout_cr)\n",
    "#\n",
    "    print(f\"{CR[j][cr_max]:>{digit+5}d}\")\n",
    "    print(f\"{CR[j][cr_max]:>{digit+5}d}\", file=fout_cr)\n",
    "#\n",
    "print(f\"{'sum':>{len_clus}}\", end=' ')\n",
    "print(f\"{'sum':>{len_clus}}\", end=' ', file=fout_cr)\n",
    "#\n",
    "for i in range(CR_all_min,CR_all_max):\n",
    "    if CR_sum[i] != 0:\n",
    "        print(f\"{CR_sum[i]:>{digit+5}d}{' ':>{digit+2}}\", end = ' ')\n",
    "        print(f\"{CR_sum[i]:>{digit+5}d}{' ':>{digit+2}}\", end = ' ', file=fout_cr)\n",
    "print(f\"{CR_sum[CR_all_max]:>{digit+5}d}\")\n",
    "print(f\"{CR_sum[CR_all_max]:>{digit+5}d}\", file=fout_cr)\n",
    "#\n",
    "print(f\"{'Sum_all':>{len_clus}}\", end=' ')\n",
    "print(f\"{'Sum_all':>{len_clus}}\", end=' ', file=fout_cr)\n",
    "print(f\"{CR_all_sum:>{digit+5}d}\")\n",
    "print(f\"{CR_all_sum:>{digit+5}d}\", file=fout_cr)\n",
    "#\n",
    "print(f\"\\n{clus:>{len_clus}}\", end=' ')\n",
    "print(f\"\\n{clus:>{len_clus}}\", end=' ', file=fout_cr)\n",
    "for i in np.arange(CR_all_min,CR_all_max):\n",
    "    if CR_sum[i] != 0:\n",
    "        print(f\"[{i*delta_R:>{digit+2}.{digit}f},{(i+1)*delta_R:>{digit+2}.{digit}f})\", end = ' ')\n",
    "        print(f\"[{i*delta_R:>{digit+2}.{digit}f},{(i+1)*delta_R:>{digit+2}.{digit}f})\", end = ' ', file=fout_cr)\n",
    "print(f\"[{CR_all_max*delta_R:>{digit+2}.{digit}f},{(CR_all_max+1)*delta_R:>{digit+2}.{digit}f})\")\n",
    "print(f\"[{CR_all_max*delta_R:>{digit+2}.{digit}f},{(CR_all_max+1)*delta_R:>{digit+2}.{digit}f})\", file=fout_cr)\n",
    "#\n",
    "fout_cr.close()"
   ]
  },
  {
   "cell_type": "code",
   "execution_count": null,
   "metadata": {},
   "outputs": [],
   "source": []
  }
 ],
 "metadata": {
  "kernelspec": {
   "display_name": "Python 3",
   "language": "python",
   "name": "python3"
  },
  "language_info": {
   "codemirror_mode": {
    "name": "ipython",
    "version": 3
   },
   "file_extension": ".py",
   "mimetype": "text/x-python",
   "name": "python",
   "nbconvert_exporter": "python",
   "pygments_lexer": "ipython3",
   "version": "3.8.8"
  },
  "toc": {
   "base_numbering": 1,
   "nav_menu": {},
   "number_sections": true,
   "sideBar": true,
   "skip_h1_title": false,
   "title_cell": "Table of Contents",
   "title_sidebar": "Contents",
   "toc_cell": false,
   "toc_position": {},
   "toc_section_display": true,
   "toc_window_display": false
  },
  "varInspector": {
   "cols": {
    "lenName": 16,
    "lenType": 16,
    "lenVar": 40
   },
   "kernels_config": {
    "python": {
     "delete_cmd_postfix": "",
     "delete_cmd_prefix": "del ",
     "library": "var_list.py",
     "varRefreshCmd": "print(var_dic_list())"
    },
    "r": {
     "delete_cmd_postfix": ") ",
     "delete_cmd_prefix": "rm(",
     "library": "var_list.r",
     "varRefreshCmd": "cat(var_dic_list()) "
    }
   },
   "types_to_exclude": [
    "module",
    "function",
    "builtin_function_or_method",
    "instance",
    "_Feature"
   ],
   "window_display": false
  }
 },
 "nbformat": 4,
 "nbformat_minor": 4
}
