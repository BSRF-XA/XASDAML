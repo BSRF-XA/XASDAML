{
 "cells": [
  {
   "cell_type": "markdown",
   "metadata": {},
   "source": [
    "## 本程序统计label（配位数和平均键长）的情况。"
   ]
  },
  {
   "cell_type": "markdown",
   "metadata": {},
   "source": [
    "### 程序处理对象为“_untar_fealab”文件夹中各seed的lab或feature文件，输出结果在“_untar_fealab_stastistics”下，包含txt文档和图片。该文件夹下会有“cluster”文件夹，内有统计各cluster各个位点统计的配位数柱状图和第一配位键长的统计图。"
   ]
  },
  {
   "cell_type": "markdown",
   "metadata": {},
   "source": [
    "### 假设需要统计的文件的目录结构为“AuPd-4000_au150-0_WT_untar”（一级目录）——“500”（二级目录）——“1/2/3/4等解压缩的文件夹”（三级目录），将本程序安放在与一级目录平行的另一个一级目录（或一级目录本身）的任意一个二级文件目录内，即可运行。"
   ]
  },
  {
   "cell_type": "markdown",
   "metadata": {},
   "source": [
    "last update： 2022.5.27"
   ]
  },
  {
   "cell_type": "markdown",
   "metadata": {},
   "source": [
    "contacts: zhaohf@ihep.ac.cn"
   ]
  },
  {
   "cell_type": "markdown",
   "metadata": {},
   "source": [
    "# 配置环境"
   ]
  },
  {
   "cell_type": "code",
   "execution_count": 1,
   "metadata": {
    "ExecuteTime": {
     "end_time": "2022-05-27T12:50:44.485268Z",
     "start_time": "2022-05-27T12:50:43.249266Z"
    }
   },
   "outputs": [],
   "source": [
    "import os\n",
    "import sys\n",
    "import numpy as np\n",
    "import pandas as pd\n",
    "import matplotlib as mpl\n",
    "import matplotlib.pyplot as plt"
   ]
  },
  {
   "cell_type": "markdown",
   "metadata": {},
   "source": [
    "输出导入模板的版本。"
   ]
  },
  {
   "cell_type": "code",
   "execution_count": 2,
   "metadata": {
    "ExecuteTime": {
     "end_time": "2022-05-27T12:50:44.500576Z",
     "start_time": "2022-05-27T12:50:44.488272Z"
    }
   },
   "outputs": [
    {
     "name": "stdout",
     "output_type": "stream",
     "text": [
      "python version: 3.9.12 (main, Apr  4 2022, 05:22:27) [MSC v.1916 64 bit (AMD64)]\n",
      "numpy version: 1.21.5\n",
      "panda version: 1.4.2\n",
      "matplotlib version: 3.5.1\n"
     ]
    }
   ],
   "source": [
    "print('python version:',sys.version)\n",
    "print('numpy version:',np.__version__)\n",
    "print('panda version:',pd.__version__)\n",
    "print('matplotlib version:',mpl.__version__)"
   ]
  },
  {
   "cell_type": "markdown",
   "metadata": {},
   "source": [
    "# 参数设置"
   ]
  },
  {
   "cell_type": "markdown",
   "metadata": {},
   "source": [
    "## 设置输入和输出文件夹名"
   ]
  },
  {
   "cell_type": "code",
   "execution_count": 3,
   "metadata": {
    "ExecuteTime": {
     "end_time": "2022-05-27T12:50:44.516568Z",
     "start_time": "2022-05-27T12:50:44.503570Z"
    }
   },
   "outputs": [],
   "source": [
    "dir_src = 'AuPd-4000_au150-0_DW_R0_cncr_WT_untar_fealab'\n",
    "stat = '_statistics'\n",
    "# 目标文件夹\n",
    "dir_work = dir_src + stat\n",
    "# 目标文件夹下包含详细各seed统计信息的文件夹名称\n",
    "dir_seed_work = 'seeds'"
   ]
  },
  {
   "cell_type": "markdown",
   "metadata": {},
   "source": [
    "## 设置需要统计的对象"
   ]
  },
  {
   "cell_type": "code",
   "execution_count": 4,
   "metadata": {
    "ExecuteTime": {
     "end_time": "2022-05-27T12:50:44.532525Z",
     "start_time": "2022-05-27T12:50:44.518526Z"
    }
   },
   "outputs": [],
   "source": [
    "# label_stat is a dictionary, value of key(label) is 'd'(dispersed) or the step to be counted (continous)\n",
    "# For example, 'cr1':0.05 means that label 'cr1' is continous, and it will be counted in each 0.05 step,\n",
    "# if min of cr1 is 2.32, then the count range will be [2.30,2.35),[2.35,2.40)...\n",
    "label_stat = {'cr1'  :  {'type'  : 'c'\n",
    "                        ,'step'  : 0.1\n",
    "                        ,'xlabel': 'Coordinate bond length($\\AA$)'\n",
    "                        ,'ylabel': 'Number'\n",
    "                        ,'title' : 'CR statistics'\n",
    "                        }\n",
    "#             ,'cn1'  :  {'type'  : 'd'\n",
    "#                        ,'step'  : 1\n",
    "#                        ,'xlabel': 'Coordinate number'\n",
    "#                        ,'ylabel': 'Number'\n",
    "#                        ,'title' : 'CN statistics'\n",
    "#                        }\n",
    "             }"
   ]
  },
  {
   "cell_type": "markdown",
   "metadata": {},
   "source": [
    "## 设置统计原始还是已经经过pick的label"
   ]
  },
  {
   "cell_type": "code",
   "execution_count": 5,
   "metadata": {
    "ExecuteTime": {
     "end_time": "2022-05-27T12:50:44.548499Z",
     "start_time": "2022-05-27T12:50:44.533487Z"
    }
   },
   "outputs": [],
   "source": [
    "# pick_count = False : count all labels\n",
    "#            = True  : count labels having been picked. (work with check)\n",
    "pick_count = True\n",
    "# 如果pick_out = True， 则需要设置如下需要pick out的label情况\n",
    "dir_check = 'check'\n",
    "file_checknum = 'check_num.txt'\n",
    "# 设置输出文件名字前缀，如经过筛选的，建议pick，若没有（即pick_cout = False）则不读\n",
    "prf_pick = 'pick'"
   ]
  },
  {
   "cell_type": "markdown",
   "metadata": {},
   "source": [
    "## 其他一些参数"
   ]
  },
  {
   "cell_type": "code",
   "execution_count": 6,
   "metadata": {
    "ExecuteTime": {
     "end_time": "2022-05-27T12:50:44.564404Z",
     "start_time": "2022-05-27T12:50:44.550442Z"
    }
   },
   "outputs": [],
   "source": [
    "trivial = 0.0001"
   ]
  },
  {
   "cell_type": "markdown",
   "metadata": {},
   "source": [
    "# 部分函数模块"
   ]
  },
  {
   "cell_type": "markdown",
   "metadata": {},
   "source": [
    "## 设置绘图格式和保存图片的模块"
   ]
  },
  {
   "cell_type": "markdown",
   "metadata": {},
   "source": [
    "注意这里的save_fig与神经网络中的有所不同，特别时路径和文件名位置换了。"
   ]
  },
  {
   "cell_type": "code",
   "execution_count": 7,
   "metadata": {
    "ExecuteTime": {
     "end_time": "2022-05-27T12:50:44.580363Z",
     "start_time": "2022-05-27T12:50:44.567411Z"
    }
   },
   "outputs": [],
   "source": [
    "# To plot pretty figures\n",
    "# %matplotlib具体作用是调用matplotlib.pyplot的绘图函数plot()进行绘图时，\n",
    "# 或生成一个figure画布时，可以直接在你的python console里面生成图像。\n",
    "%matplotlib inline\n",
    "import matplotlib as mpl\n",
    "import matplotlib.pyplot as plt\n",
    "mpl.rc('axes', labelsize=14)   # matplotlib.rc 什么意思没找到\n",
    "mpl.rc('xtick', labelsize=12)\n",
    "mpl.rc('ytick', labelsize=12)\n",
    "\n",
    "def save_fig(IMAGES_PATH, fig_id, tight_layout=True, fig_extension=\"png\", resolution=300):\n",
    "    os.makedirs(IMAGES_PATH, exist_ok=True)\n",
    "    path = os.path.join(IMAGES_PATH, fig_id + \".\" + fig_extension)\n",
    "    print(\"Saving figure\", fig_id)\n",
    "    if tight_layout:\n",
    "        plt.tight_layout()\n",
    "    plt.savefig(path, format=fig_extension, dpi=resolution)\n",
    "#    plt.show()\n",
    "\n",
    "# Ignore useless warnings (see SciPy issue #5998)\n",
    "import warnings\n",
    "warnings.filterwarnings(action=\"ignore\", message=\"^internal gelsd\")"
   ]
  },
  {
   "cell_type": "markdown",
   "metadata": {},
   "source": [
    "## 扩展字典"
   ]
  },
  {
   "cell_type": "code",
   "execution_count": 8,
   "metadata": {
    "ExecuteTime": {
     "end_time": "2022-05-27T12:50:44.596319Z",
     "start_time": "2022-05-27T12:50:44.583354Z"
    }
   },
   "outputs": [],
   "source": [
    "# 在间隔为step的网格上进行补0的字典补足。\n",
    "def dict_expand(dict0, dc, step, type='all'):\n",
    "    \"\"\"\n",
    "    Expand the dictionary 'dict0' to the one with keys located at the girds with distance 'step'\n",
    "    and the corresponding value of keys are 0 for dc = 'c'(continuous);\n",
    "    wile for dc = 'd'(dispersed), the keys of expanded dictionary will be located in the \n",
    "    most sparse linear grid which covers all the keys in dict0.\n",
    "    Input :\n",
    "        dict0   :   dictionary to be treat\n",
    "                    dictionary\n",
    "        dc      :   property of label(key in dict0)\n",
    "                    String\n",
    "                    'c' for continuous\n",
    "                    'd' for dispersed\n",
    "                    else for wrong case\n",
    "        step    :   the interval for the two adjacent label indices\n",
    "                    numeral\n",
    "        type    :   type for dictionary expansion\n",
    "                    String\n",
    "                    'all'  : Expand to all grids\n",
    "                    'adj0' : Expand to grids only adjacent to non-zero grids\n",
    "    \"\"\"\n",
    "#\n",
    "    trivial = 0.0001\n",
    "#\n",
    "    a = list(dict0.keys())\n",
    "#    print(f\"dict0={dict0}\")\n",
    "#    print(f\"dict0.keys()={dict0.keys()}\")\n",
    "#    print(f\"list(dict0.keys())={a}\")\n",
    "    a.sort()\n",
    "#    print(f\"a.sort()={a}\")\n",
    "    new = {}\n",
    "    if dc == 'd':\n",
    "        dist = []\n",
    "        for i in range(len(a)-1):\n",
    "            dist.append(a[i+1]-a[i])\n",
    "        dist.sort()\n",
    "        step = dist[0]\n",
    "#\n",
    "    step_split = str(step).split(\".\")\n",
    "    if len(step_split) == 2:\n",
    "        digit = len(str(step).split(\".\")[1])\n",
    "    else:\n",
    "        digit = 0\n",
    "#\n",
    "    if dc == 'c' or dc == 'd':\n",
    "        b = (a[-1] - a[0])/step\n",
    "        if abs(b - int(b+trivial)) > trivial:\n",
    "            print()\n",
    "            print(f\"** Error!! The max and min of keys in dictionary '{dict0}' don't satisfy the definition of step = {step}!\")\n",
    "#\n",
    "        n_step = int(b+trivial) + 1\n",
    "        n_len = len(a)\n",
    "        if n_len < n_step:\n",
    "            for c in np.arange(a[0], a[-1], step):\n",
    "#                print(f\"c={c}\")\n",
    "                c = round(c,digit)\n",
    "                if c not in a:\n",
    "                    if type == 'all':\n",
    "                        new[c] = 0\n",
    "                    elif type == 'adj0':\n",
    "                        c1 = c - step\n",
    "#                        c2 = c + step\n",
    "#                        if c1 in a or c2 in a:\n",
    "                        if c1 in a:\n",
    "                            new[c] = 0\n",
    "                    else:\n",
    "                        pass\n",
    "        elif n_len == n_step:\n",
    "            pass\n",
    "        else:\n",
    "            print()\n",
    "            print(f\"** Error!! N of items in dictionary '{dict0}' outranges the space that its key allows!\")\n",
    "    else:\n",
    "        print()\n",
    "        print(f\"** Error!! label type is {dc}, Not continuous nor Dispersed!\")\n",
    "    new.update(dict0)\n",
    "#    print(f\"new={new}\")\n",
    "    return new"
   ]
  },
  {
   "cell_type": "markdown",
   "metadata": {},
   "source": [
    "## 字典提取key列表"
   ]
  },
  {
   "cell_type": "code",
   "execution_count": 9,
   "metadata": {
    "ExecuteTime": {
     "end_time": "2022-05-27T12:50:44.612279Z",
     "start_time": "2022-05-27T12:50:44.599312Z"
    }
   },
   "outputs": [],
   "source": [
    "# 将字典按照key的顺序排序，返回key和对应于key的value列表\n",
    "def sort_dict2lists (dict0,reverse = False):\n",
    "    \"\"\"\n",
    "    sort the input dictionary 'dict0', return two lists with sorted keys and the corresponding values.\n",
    "    \"\"\"\n",
    "#\n",
    "    list_key = sorted(list(dict0.keys()), reverse=reverse)\n",
    "#    print(f\"list_key={list_key}\")\n",
    "    list_value = []\n",
    "    for key in list_key:\n",
    "        list_value.append(dict0[key])\n",
    "    return list_key, list_value"
   ]
  },
  {
   "cell_type": "markdown",
   "metadata": {},
   "source": [
    "## 文件命名"
   ]
  },
  {
   "cell_type": "code",
   "execution_count": 10,
   "metadata": {
    "ExecuteTime": {
     "end_time": "2022-05-27T12:50:44.628237Z",
     "start_time": "2022-05-27T12:50:44.616305Z"
    }
   },
   "outputs": [],
   "source": [
    "def file_make(label,dir_seed, dc, step, pick_count, prf_pick, seedyn = 'y'):\n",
    "    \"\"\"\n",
    "    Define the name of file to be ploted for each seed or label, no suffix\n",
    "    \"\"\"\n",
    "    file = label\n",
    "    if seedyn == 'y':\n",
    "        file = f\"{dir_seed}_\" + file\n",
    "    if dc == 'c':\n",
    "        file = file + f\"_step={step}\" \n",
    "    if pick_count:\n",
    "        file = file + f\"_{prf_pick}\" \n",
    "#\n",
    "    return file"
   ]
  },
  {
   "cell_type": "markdown",
   "metadata": {},
   "source": [
    "## 离散点绘图"
   ]
  },
  {
   "cell_type": "code",
   "execution_count": 11,
   "metadata": {
    "ExecuteTime": {
     "end_time": "2022-05-27T12:50:44.644138Z",
     "start_time": "2022-05-27T12:50:44.630255Z"
    }
   },
   "outputs": [],
   "source": [
    "# 绘制各个cluster的CN统计图\n",
    "def plot_cn(x, y, path, file, xlabel='Coordinate number', ylabel='Number', title='CN statistics'):\n",
    "    \"\"\"\n",
    "    绘制CN统计图。\n",
    "    x：平均配位数列表\n",
    "    y: x对应的样本数\n",
    "    path：图的保存路径\n",
    "    file：图的名称（不包含后缀）    \n",
    "    \"\"\"\n",
    "#\n",
    "    #fig = plt.figure(num=1, figsize=(15, 8),dpi=80) #开启一个窗口，同时设置大小，分辨率\n",
    "    fig = plt.figure(1)\n",
    "    ax1 = fig.add_subplot(1,1,1)\n",
    "#\n",
    "# n0, index for plot show.\n",
    "    n0 = 15\n",
    "    n1 = 30\n",
    "#\n",
    "    x_index = np.array(x)\n",
    "    y_index = np.array(y)\n",
    "    y_max = max(y_index)\n",
    "#\n",
    "    len_x = len(x)\n",
    "    ind = np.linspace(1,len_x,len_x)\n",
    "#\n",
    "    if len_x <= n0:\n",
    "        fontsize = 10\n",
    "        rotation = 0\n",
    "    elif len_x <= n1:\n",
    "        fontsize = 8\n",
    "        rotation = 45\n",
    "    else:\n",
    "        fontsize = 5\n",
    "        rotation = 45\n",
    "#\n",
    "    bar_width = 0.8 #定义一个数字代表每个独立柱的宽度\n",
    "#\n",
    "#    rects1 = ax1.bar(cn_list,cn_number,width=0.8,alpha=0.4,color='blue',edgecolor='red',label=label_index,lw=1)\n",
    "#\n",
    "#    print(ind-bar_width/2)\n",
    "#    print(y_index)\n",
    "#\n",
    "    rects1 = ax1.bar(ind, y_index, width=bar_width,alpha=0.7, color='blue',label=file)\n",
    "#\n",
    "    for a,b in zip(ind,y_index):\n",
    "        plt.text(a, b+0.05, '%.0f' % b, ha='center', va= 'bottom',fontsize=fontsize)\n",
    "#\n",
    "#    plt.ylim(0,cn_max*1.2)\n",
    "#    plt.legend(loc='upper right') #显示图例\n",
    "    plt.legend()\n",
    "    plt.tight_layout() #自动控制图像外部边缘，此方法不能够很好的控制图像间的间隔\n",
    "#\n",
    "#    plt.xticks(np.arange(min(cn_list),max(cn_list)+1,1), rotation=0)#rotation控制倾斜角度   #x轴刻度线\n",
    "    ax1.set_xticks(ind)\n",
    "    ax1.set_xticklabels(x,rotation=rotation,fontsize=fontsize)\n",
    "    ax1.set_xlabel(xlabel)\n",
    "    ax1.set_ylabel(ylabel)\n",
    "    ax1.set_title(title)\n",
    "    ax1.set_ylim(0,y_max*1.2)\n",
    "#\n",
    "    save_fig(path,file)\n",
    "    plt.close(fig)"
   ]
  },
  {
   "cell_type": "markdown",
   "metadata": {},
   "source": [
    "## 连续点绘图"
   ]
  },
  {
   "cell_type": "code",
   "execution_count": 12,
   "metadata": {
    "ExecuteTime": {
     "end_time": "2022-05-27T12:50:44.675056Z",
     "start_time": "2022-05-27T12:50:44.647096Z"
    }
   },
   "outputs": [],
   "source": [
    "# 绘制各个cluster的CR统计图\n",
    "def plot_cr(x, y, path, file, delta, xlabel='Coordinate bond length($\\AA$)', ylabel='Number', title='CR statistics'):\n",
    "    \"\"\"\n",
    "    绘制CR统计图。\n",
    "    x：平均配位键长列表\n",
    "    y: x对应的样本数\n",
    "    digit：自然数，用于给出绘制图中x轴数字的有效位数，如果步长为0.1，则为1，若步长为0.05， 则为2\n",
    "    path：图的保存路径\n",
    "    file：图的名称（不包含后缀）    \n",
    "    \"\"\"\n",
    "#\n",
    "#\n",
    "    #fig = plt.figure(num=1, figsize=(15, 8),dpi=80) #开启一个窗口，同时设置大小，分辨率\n",
    "    fig = plt.figure()\n",
    "    ax1 = fig.add_subplot(1,1,1)\n",
    "#\n",
    "# n0, index for plot show.\n",
    "    n0 = 13\n",
    "    n1 = 26\n",
    "#\n",
    "    x_index = np.array(x)\n",
    "    y_index = np.array(y)\n",
    "    y_max = max(y_index)\n",
    "#\n",
    "    len_x = len(x)\n",
    "#\n",
    "    digit = len(str(delta).split(\".\")[1])\n",
    "#\n",
    "    ind = np.linspace(1,len_x,len_x)\n",
    "#\n",
    "    if len_x <= n0:\n",
    "        fontsize = 10\n",
    "        rotation = 0\n",
    "    elif len_x <= n1:\n",
    "        fontsize = 8\n",
    "        rotation = 45\n",
    "    else:\n",
    "        fontsize = 5\n",
    "        rotation = 45\n",
    "#\n",
    "    bar_width = 1 #定义一个数字代表每个独立柱的宽度\n",
    "#\n",
    "    rects1 = ax1.bar(ind, y_index, width=bar_width,align='edge',alpha=0.5, color='yellow',edgecolor='red',label=file)\n",
    "    for a,b in zip(ind,y_index):\n",
    "        plt.text(a+0.5, b+0.05, '%.0f' % b, ha='center', va= 'bottom',fontsize=fontsize)\n",
    "#\n",
    "#    plt.xticks(x_index + bar_width/2, x_data) #x轴刻度线\n",
    "#    plt.legend('upper right') #显示图例\n",
    "    plt.legend() #显示图例\n",
    "    plt.tight_layout() #自动控制图像外部边缘，此方法不能够很好的控制图像间的间隔\n",
    "#\n",
    "    ax1.set_xticks(np.append(ind,len_x+1))\n",
    "    xx = list(np.append(x_index,round(x[-1]+delta,digit)))\n",
    "    ax1.set_xticklabels(xx,rotation=rotation,fontsize=fontsize)\n",
    "    ax1.set_xlabel(xlabel)\n",
    "    ax1.set_ylabel(ylabel)\n",
    "    ax1.set_title(title)\n",
    "    ax1.set_ylim(0,y_max*1.2)\n",
    "#\n",
    "    save_fig(path,file)\n",
    "    plt.close(fig)"
   ]
  },
  {
   "cell_type": "markdown",
   "metadata": {},
   "source": [
    "## label绘图"
   ]
  },
  {
   "cell_type": "code",
   "execution_count": 13,
   "metadata": {
    "ExecuteTime": {
     "end_time": "2022-05-27T12:50:44.690033Z",
     "start_time": "2022-05-27T12:50:44.677015Z"
    }
   },
   "outputs": [],
   "source": [
    "def plot_label(label,label_dict,label_stat_info,path,file):\n",
    "    \"\"\"\n",
    "    绘制label_dict中统计的label值分布\n",
    "    input:\n",
    "        label           :   label to be counted\n",
    "                            String\n",
    "        label_dict      :   dictionary to be ploted\n",
    "                            Dictionary\n",
    "        label_stat_info :   dictionary for label 'label'\n",
    "                        :   Dictionary\n",
    "        path            :   the directory path of plot-figure file\n",
    "                            String\n",
    "        file            :   the name of plot-figure, without suffix\n",
    "                            String\n",
    "    Return  :   figure file in 'path' with name 'file'  \n",
    "                    \n",
    "    \"\"\"\n",
    "    x,y = sort_dict2lists(label_dict)\n",
    "    dc = label_stat_info['type']\n",
    "    step = label_stat_info['step']\n",
    "    xlabel = label_stat_info['xlabel']\n",
    "    ylabel = label_stat_info['ylabel']\n",
    "    title = label_stat_info['title']\n",
    "    if dc == 'c':\n",
    "        plot_cr(x, y, path, file, step, xlabel=xlabel, ylabel=ylabel, title=title)\n",
    "    elif dc == 'd':\n",
    "        plot_cn(x, y, path, file, xlabel=xlabel, ylabel=ylabel, title=title)\n",
    "    else:\n",
    "        print()\n",
    "        print(f\"** Error!! label type is {dc}, Not continuous nor Dispersed! 2\")\n",
    "#"
   ]
  },
  {
   "cell_type": "markdown",
   "metadata": {},
   "source": [
    "## label统计"
   ]
  },
  {
   "cell_type": "code",
   "execution_count": 14,
   "metadata": {
    "ExecuteTime": {
     "end_time": "2022-05-27T12:50:44.721930Z",
     "start_time": "2022-05-27T12:50:44.691978Z"
    }
   },
   "outputs": [],
   "source": [
    "def label_count(label, label_stat_info,\n",
    "                list_seed, path_src,\n",
    "                pick_count, dir_check, file_checknum, trivial\n",
    "               ):\n",
    "    \"\"\"\n",
    "    统计label\n",
    "    \"\"\"\n",
    "#\n",
    "    dc = label_stat_info['type']\n",
    "    if dc == 'd' or dc == 'D':\n",
    "        dc = 'd'\n",
    "        step = trivial\n",
    "    elif dc == 'c' or dc == 'C':\n",
    "        dc = 'c'\n",
    "        step = label_stat_info['step']\n",
    "        if step <= 0:\n",
    "            print()\n",
    "            print(f\"** step = {step} <= 0, WRONG!\")\n",
    "            sys.exit()\n",
    "    else:\n",
    "        print()\n",
    "        print(f\"** Error!! label type is {dc}, Not continuous nor Dispersed! 4\")\n",
    "#\n",
    "    step_split = str(step).split(\".\")\n",
    "    if len(step_split) == 2:\n",
    "        digit = len(str(step).split(\".\")[1])\n",
    "    else:\n",
    "        digit = 0\n",
    "#\n",
    "    label_dict = {}\n",
    "    label_list_dict_seed = []\n",
    "# 进入各个cluster，即100、200等\n",
    "    for iseed, dir_seed in enumerate(list_seed):\n",
    "        path_dir_seed = os.path.join(path_src, dir_seed)\n",
    "# 进入seed下的label文件夹，查找其下是否存在label文件\n",
    "        path_dir_label = os.path.join(path_dir_seed, label)\n",
    "        exist = os.path.exists(path_dir_label)\n",
    "        label_dict_seed = {}\n",
    "        if exist:\n",
    "    # 源seed中各个label文件\n",
    "            list_label = os.listdir(path_dir_label)\n",
    "            result = os.path.splitext(list_label[0])\n",
    "# 统计是否扣除check文件夹中的label\n",
    "            if pick_count:\n",
    "                path_dir_check = os.path.join(path_dir_seed, dir_check)\n",
    "                path_file_checknum = os.path.join(path_dir_check, file_checknum)\n",
    "                exist_checknum = os.path.exists(path_file_checknum)\n",
    "                if exist_checknum:\n",
    "# csv读取方式\n",
    "                    number_pd = pd.read_csv(path_file_checknum,header=None)\n",
    "                    number_list = list(number_pd.values)\n",
    "                    for i, number in enumerate(number_list):\n",
    "                        number_list[i] = str(int(max(abs(number+trivial),abs(number-trivial))))\n",
    "# readlines读取方式\n",
    "#                    with open(path_file_checknum) as f:\n",
    "#                        number_list0 = f.read().splitlines()\n",
    "#                    number_list = []\n",
    "#                    for i, number in enumerate(number_list0):\n",
    "#                        number_list.append(number.strip())\n",
    "# \n",
    "                    for i, number in enumerate(number_list):\n",
    "                        file_label_num = label + '_' + number + result[1]\n",
    "                        list_label.remove(file_label_num)\n",
    "                else:\n",
    "                    print()\n",
    "                    print(f\"** Warning! File '{file_checknum}' in seed {dir_seed} for label '{label}' NOT found!\")\n",
    "                    print(f\"** All the label will be counted!\")\n",
    "#               end if exist_checknum\n",
    "            else:\n",
    "                pass\n",
    "#           end if pick_count\n",
    "# 开始读取label文件夹中的label_N.dat\n",
    "            for i, labelN in enumerate(list_label):\n",
    "                path_file_labelN = os.path.join(path_dir_label, labelN)\n",
    "                labelN_pd = pd.read_csv(path_file_labelN,header=None)\n",
    "#                labelN_list = labelN_pd.values\n",
    "#                print(f\"labelN_pd.values={labelN_pd.values}\")\n",
    "#                print(f\"labelN_list={labelN_list}\")\n",
    "#                a = labelN_list[0][0]\n",
    "                a = labelN_pd.iloc[0,0]\n",
    "#                print(f\"a={a}\")\n",
    "                if dc == 'd':\n",
    "                    labelN_data = a\n",
    "                elif dc == 'c':\n",
    "                    if a >= 0 :\n",
    "                        labelN_data = int((a+trivial)/step)*step\n",
    "                    else:\n",
    "                        labelN_data = (int((a-trivial)/step)-1)*step\n",
    "                    labelN_data = round(labelN_data,digit)\n",
    "                else:\n",
    "                    pass\n",
    "#                print(f\"a={a}\")\n",
    "#                print(f\"labelN_data={labelN_data}\")\n",
    "                if labelN_data in label_dict_seed.keys():\n",
    "                    label_dict_seed[labelN_data] = label_dict_seed[labelN_data] + 1\n",
    "                else:\n",
    "                    label_dict_seed[labelN_data] = 1\n",
    "                if labelN_data in label_dict.keys():\n",
    "                    label_dict[labelN_data] = label_dict[labelN_data] + 1\n",
    "                else:\n",
    "                    label_dict[labelN_data] = 1\n",
    "#           end for i, labelN in enumerate(list_label)\n",
    "        else:\n",
    "            print()\n",
    "            print(f\"** Error!! No directory '{label}' found in seed {dir_seed}\")\n",
    "            print()\n",
    "    #        sys.exit()\n",
    "#       end if exist = os.path.exists(path_dir_label)\n",
    "        label_list_dict_seed.append(label_dict_seed)\n",
    "#   end for iseed, dir_seed in enumerate(list_seed):\n",
    "    return label_list_dict_seed, label_dict"
   ]
  },
  {
   "cell_type": "markdown",
   "metadata": {},
   "source": [
    "## label统计绘图"
   ]
  },
  {
   "cell_type": "code",
   "execution_count": 15,
   "metadata": {
    "ExecuteTime": {
     "end_time": "2022-05-27T12:50:44.737881Z",
     "start_time": "2022-05-27T12:50:44.723915Z"
    }
   },
   "outputs": [],
   "source": [
    "def label_count_plot(label, label_stat_info,\n",
    "                     label_list_dict_seed, label_dict,\n",
    "                     list_seed,\n",
    "                     pick_count, prf_pick, trivial,\n",
    "                     path_dir_seed_work, path_work):\n",
    "    \"\"\"\n",
    "    绘制统计的label\n",
    "    \"\"\"\n",
    "#\n",
    "    dc = label_stat_info['type']\n",
    "    if dc == 'd' or dc == 'D':\n",
    "        dc = 'd'\n",
    "        step = trivial\n",
    "    elif dc == 'c' or dc == 'C':\n",
    "        dc = 'c'\n",
    "        step = label_stat_info['step']\n",
    "        if step <= 0:\n",
    "            print()\n",
    "            print(f\"** step = {step} <= 0, WRONG!\")\n",
    "            sys.exit()\n",
    "    else:\n",
    "        print()\n",
    "        print(f\"** Error!! label type is {dc}, Not continuous nor Dispersed! 5\")\n",
    "    for iseed, dir_seed in enumerate(list_seed):\n",
    "        label_dict_seed = label_list_dict_seed[iseed]\n",
    "#\n",
    "        label_dict_seed_exp_adj0 = dict_expand(label_dict_seed, dc, step, type='adj0')\n",
    "        file_plot_seed = file_make(label,dir_seed, dc, step, pick_count, prf_pick, seedyn = 'y')\n",
    "        plot_label(label, label_dict_seed_exp_adj0, label_stat_info, path_dir_seed_work, file_plot_seed)\n",
    "#\n",
    "# end for iseed, dir_seed in enumerate(list_seed)\n",
    "    label_dict_exp_adj0 = dict_expand(label_dict, dc, step, type='adj0')\n",
    "    file_plot = file_make(label,'any', dc, step, pick_count, prf_pick, seedyn = 'n')\n",
    "    plot_label(label, label_dict_exp_adj0, label_stat_info, path_work, file_plot)\n",
    "#end for label in label_stat.keys()\n",
    "    return"
   ]
  },
  {
   "cell_type": "markdown",
   "metadata": {},
   "source": [
    "## label统计输出为文件"
   ]
  },
  {
   "cell_type": "code",
   "execution_count": 16,
   "metadata": {
    "ExecuteTime": {
     "end_time": "2022-05-27T12:50:44.785190Z",
     "start_time": "2022-05-27T12:50:44.739847Z"
    }
   },
   "outputs": [],
   "source": [
    "def label_count_writeout(label, label_stat_info,\n",
    "                         label_list_dict_seed, label_dict,\n",
    "                         list_seed,\n",
    "                         pick_count, prf_pick,\n",
    "                         path_work):\n",
    "    \"\"\"\n",
    "    将统计的label输出到txt文件\n",
    "    \"\"\"\n",
    "#\n",
    "    x,y = sort_dict2lists(label_dict)\n",
    "    \n",
    "#\n",
    "    dc = label_stat_info['type']\n",
    "    if dc == 'd' or dc == 'D':\n",
    "        dc = 'd'\n",
    "        dist = []\n",
    "        for i in range(len(x)-1):\n",
    "            dist.append(x[i+1]-x[i])\n",
    "        dist.sort()\n",
    "        step = dist[0]\n",
    "    elif dc == 'c' or dc == 'C':\n",
    "        dc = 'c'\n",
    "        step = label_stat_info['step']\n",
    "        if step <= 0:\n",
    "            print()\n",
    "            print(f\"** step = {step} <= 0, WRONG!\")\n",
    "            sys.exit()\n",
    "    else:\n",
    "        print()\n",
    "        print(f\"** Error!! label type is {dc}, Not continuous nor Dispersed! 6\")\n",
    "#\n",
    "    step_split = str(step).split(\".\")\n",
    "    if len(step_split) == 2:\n",
    "        digit = len(str(step).split(\".\")[1])\n",
    "    else:\n",
    "        digit = 0\n",
    "#\n",
    "#\n",
    "    a = file_make(label,'anything', dc, step, pick_count, prf_pick, seedyn = 'n')\n",
    "    file_write = f\"{a}.txt\"\n",
    "#    file_write_with0 = f\"{a}_with0.txt\"\n",
    "#\n",
    "    path_file_write = os.path.join(path_work, file_write)\n",
    "    fout = open(path_file_write,'w')\n",
    "#\n",
    "#    path_file_write_with0 = os.path.join(path_work, file_write_with0)\n",
    "#    fout1 = open(path_file_write_with0,'w')\n",
    "#\n",
    "# find the space length of 1st index column,  for writeout formate\n",
    "#\n",
    "    index_cluster = 'Cluster'\n",
    "    index_sum = 'Sum'\n",
    "    index_sum_all = 'Sum_all'\n",
    "    n_ind = max(len(index_cluster),len(index_sum),len(index_sum_all))\n",
    "    for a in list_seed:\n",
    "        n_ind = max(n_ind, len(str(a)))\n",
    "#\n",
    "# find the space length of label, for writeout formated\n",
    "    n_data = 0\n",
    "    for a in x+y:\n",
    "        n_data = max(n_data, len(str(a)))\n",
    "    ndddf = f\"{n_data}.{digit}f\"\n",
    "#\n",
    "#\n",
    "#  Start to writeout\n",
    "#\n",
    "    if dc == 'd':\n",
    "# Cluster    1    2    3    4\n",
    "        print(f\"{index_cluster:>{n_ind}}\", end=' ')\n",
    "        print(f\"{index_cluster:>{n_ind}}\", end=' ', file=fout)\n",
    "        for a in x[:-1]:\n",
    "            print(f\"{a:>{ndddf}}\", end = ' ')\n",
    "            print(f\"{a:>{ndddf}}\", end = ' ', file=fout)\n",
    "        print(f\"{x[-1]:>{ndddf}}\", end = '\\n')\n",
    "        print(f\"{x[-1]:>{ndddf}}\", end = '\\n', file=fout)\n",
    "# ----\n",
    "        print(f\"{'-'*n_ind}\", end='-')\n",
    "        print(f\"{'-'*n_ind}\", end='-', file=fout)\n",
    "        for a in x[:-1]:\n",
    "            print(f\"{'-'*n_data}\", end = '-')\n",
    "            print(f\"{'-'*n_data}\", end = '-', file=fout)\n",
    "        print(f\"{'-'*n_data}\", end = '\\n')\n",
    "        print(f\"{'-'*n_data}\", end = '\\n', file=fout)\n",
    "# major part\n",
    "        for j, dir_seed in enumerate(list_seed):\n",
    "            print(f\"{dir_seed:>{n_ind}}\", end=' ')\n",
    "            print(f\"{dir_seed:>{n_ind}}\", end=' ', file=fout)\n",
    "            label_dict_seed = label_list_dict_seed[j]\n",
    "#\n",
    "            a = max(list(label_dict_seed.keys()))\n",
    "            for b in x:\n",
    "                if b < a:\n",
    "                    if b in label_dict_seed.keys():\n",
    "                        c = label_dict_seed[b]\n",
    "                        print(f\"{c:>{n_data}d}\", end = ' ')\n",
    "                        print(f\"{c:>{n_data}d}\", end = ' ', file=fout)\n",
    "                    else:\n",
    "                        print(f\"{' '*n_data}\", end = ' ')\n",
    "                        print(f\"{' '*n_data}\", end = ' ', file=fout)\n",
    "                elif b == a:\n",
    "                    c = label_dict_seed[b]\n",
    "                    print(f\"{c:>{n_data}d}\", end = '\\n')\n",
    "                    print(f\"{c:>{n_data}d}\", end = '\\n', file=fout)\n",
    "                    break\n",
    "                else:\n",
    "                    print(f\"** Error! {b} is larger than max of seed {dir_seed} label {a}.\")\n",
    "                    sys.exit()\n",
    "# sum part\n",
    "        print(f\"{index_sum:>{n_ind}}\", end=' ')\n",
    "        print(f\"{index_sum:>{n_ind}}\", end=' ', file=fout)\n",
    "        for a in y[:-1]:\n",
    "            print(f\"{a:>{n_data}d}\", end = ' ')\n",
    "            print(f\"{a:>{n_data}d}\", end = ' ', file=fout)\n",
    "        print(f\"{y[-1]:>{n_data}d}\", end = '\\n')\n",
    "        print(f\"{y[-1]:>{n_data}d}\", end = '\\n', file=fout)\n",
    "# sum_all part\n",
    "        print(f\"{index_sum_all:>{n_ind}}\", end=' ')\n",
    "        print(f\"{index_sum_all:>{n_ind}}\", end=' ', file=fout)\n",
    "        a = sum(y)\n",
    "        print(f\"{a}\")\n",
    "        print(f\"{a}\", file=fout)\n",
    "# ----\n",
    "        print(f\"{'-'*n_ind}\", end='-')\n",
    "        print(f\"{'-'*n_ind}\", end='-', file=fout)\n",
    "        for a in x[:-1]:\n",
    "            print(f\"{'-'*n_data}\", end = '-')\n",
    "            print(f\"{'-'*n_data}\", end = '-', file=fout)\n",
    "        print(f\"{'-'*n_data}\", end = '\\n')\n",
    "        print(f\"{'-'*n_data}\", end = '\\n', file=fout)\n",
    "# Cluster    1    2    3    4\n",
    "        print(f\"{index_cluster:>{n_ind}}\", end=' ')\n",
    "        print(f\"{index_cluster:>{n_ind}}\", end=' ', file=fout)\n",
    "        for a in x[:-1]:\n",
    "            print(f\"{a:>{ndddf}}\", end = ' ')\n",
    "            print(f\"{a:>{ndddf}}\", end = ' ', file=fout)\n",
    "        print(f\"{x[-1]:>{ndddf}}\", end = '\\n')\n",
    "        print(f\"{x[-1]:>{ndddf}}\", end = '\\n', file=fout)\n",
    "#\n",
    "#\n",
    "    elif dc == 'c':\n",
    "# Cluster [2.4,2.5) [2.5,2.6) [2.6,2.7)\n",
    "        print(f\"{index_cluster:>{n_ind}}\", end=' ')\n",
    "        print(f\"{index_cluster:>{n_ind}}\", end=' ', file=fout)\n",
    "        for a in x[:-1]:\n",
    "            b = round(a+step,digit)\n",
    "            print(f\"[{a:>{ndddf}},{b:>{ndddf}})\", end = ' ')\n",
    "            print(f\"[{a:>{ndddf}},{b:>{ndddf}})\", end = ' ', file=fout)\n",
    "        b = round(x[-1]+step,digit)\n",
    "        print(f\"[{x[-1]:>{ndddf}},{b:>{ndddf}})\", end = '\\n')\n",
    "        print(f\"[{x[-1]:>{ndddf}},{b:>{ndddf}})\", end = '\\n', file=fout)\n",
    "# ----\n",
    "        print(f\"{'-'*n_ind}\", end='-')\n",
    "        print(f\"{'-'*n_ind}\", end='-', file=fout)\n",
    "        aa = 3+2*n_data\n",
    "        for a in x[:-1]:\n",
    "            print(f\"{'-'*aa}\", end = '-')\n",
    "            print(f\"{'-'*aa}\", end = '-', file=fout)\n",
    "        print(f\"{'-'*aa}\", end = '\\n')\n",
    "        print(f\"{'-'*aa}\", end = '\\n', file=fout)\n",
    "# major part\n",
    "        for j, dir_seed in enumerate(list_seed):\n",
    "            print(f\"{dir_seed:>{n_ind}}\", end=' ')\n",
    "            print(f\"{dir_seed:>{n_ind}}\", end=' ', file=fout)\n",
    "            label_dict_seed = label_list_dict_seed[j]\n",
    "#\n",
    "            a = max(list(label_dict_seed.keys()))\n",
    "            for b in x:\n",
    "                if b < a:\n",
    "                    if b in label_dict_seed.keys():\n",
    "                        c = label_dict_seed[b]\n",
    "                        print(f\"{c:>{aa}d}\", end = ' ')\n",
    "                        print(f\"{c:>{aa}d}\", end = ' ', file=fout)\n",
    "                    else:\n",
    "                        print(f\"{' '*aa}\", end = ' ')\n",
    "                        print(f\"{' '*aa}\", end = ' ', file=fout)\n",
    "                elif b == a:\n",
    "                    c = label_dict_seed[b]\n",
    "                    print(f\"{c:>{aa}d}\", end = '\\n')\n",
    "                    print(f\"{c:>{aa}d}\", end = '\\n', file=fout)\n",
    "                    break\n",
    "                else:\n",
    "                    print(f\"** Error! label {b} is larger than max of seed {dir_seed} label {a}.\")\n",
    "                    sys.exit()\n",
    "# sum part\n",
    "        print(f\"{index_sum:>{n_ind}}\", end=' ')\n",
    "        print(f\"{index_sum:>{n_ind}}\", end=' ', file=fout)\n",
    "        for a in y[:-1]:\n",
    "            print(f\"{a:>{aa}d}\", end = ' ')\n",
    "            print(f\"{a:>{aa}d}\", end = ' ', file=fout)\n",
    "        print(f\"{y[-1]:>{aa}d}\", end = '\\n')\n",
    "        print(f\"{y[-1]:>{aa}d}\", end = '\\n', file=fout)\n",
    "# sum_all part\n",
    "        print(f\"{index_sum_all:>{n_ind}}\", end=' ')\n",
    "        print(f\"{index_sum_all:>{n_ind}}\", end=' ', file=fout)\n",
    "        a = sum(y)\n",
    "        print(f\"{a}\")\n",
    "        print(f\"{a}\", file=fout)\n",
    "# ----\n",
    "        print(f\"{'-'*n_ind}\", end='-')\n",
    "        print(f\"{'-'*n_ind}\", end='-', file=fout)\n",
    "        aa = 3+2*n_data\n",
    "        for a in x[:-1]:\n",
    "            print(f\"{'-'*aa}\", end = '-')\n",
    "            print(f\"{'-'*aa}\", end = '-', file=fout)\n",
    "        print(f\"{'-'*aa}\", end = '\\n')\n",
    "        print(f\"{'-'*aa}\", end = '\\n', file=fout)\n",
    "# Cluster [2.4,2.5) [2.5,2.6) [2.6,2.7)\n",
    "        print(f\"{index_cluster:>{n_ind}}\", end=' ')\n",
    "        print(f\"{index_cluster:>{n_ind}}\", end=' ', file=fout)\n",
    "        for a in x[:-1]:\n",
    "            b = round(a+step,digit)\n",
    "            print(f\"[{a:>{ndddf}},{b:>{ndddf}})\", end = ' ')\n",
    "            print(f\"[{a:>{ndddf}},{b:>{ndddf}})\", end = ' ', file=fout)\n",
    "        b = round(x[-1]+step,digit)\n",
    "        print(f\"[{x[-1]:>{ndddf}},{b:>{ndddf}})\", end = '\\n')\n",
    "        print(f\"[{x[-1]:>{ndddf}},{b:>{ndddf}})\", end = '\\n', file=fout)\n",
    "#\n",
    "    else:\n",
    "        pass\n",
    "    fout.close()\n",
    "#    fout1.close()"
   ]
  },
  {
   "cell_type": "markdown",
   "metadata": {},
   "source": [
    "# 程序正文"
   ]
  },
  {
   "cell_type": "markdown",
   "metadata": {},
   "source": [
    "## 当前目录"
   ]
  },
  {
   "cell_type": "code",
   "execution_count": 17,
   "metadata": {
    "ExecuteTime": {
     "end_time": "2022-05-27T12:50:44.801151Z",
     "start_time": "2022-05-27T12:50:44.791189Z"
    }
   },
   "outputs": [
    {
     "data": {
      "text/plain": [
       "'D:\\\\haifeng\\\\work_20211031\\\\XAS-ML\\\\code\\\\datasets setup\\\\jupyterbook'"
      ]
     },
     "execution_count": 17,
     "metadata": {},
     "output_type": "execute_result"
    }
   ],
   "source": [
    "path = os.path.abspath('./')\n",
    "path"
   ]
  },
  {
   "cell_type": "code",
   "execution_count": 18,
   "metadata": {
    "ExecuteTime": {
     "end_time": "2022-05-27T12:50:44.817110Z",
     "start_time": "2022-05-27T12:50:44.802150Z"
    }
   },
   "outputs": [
    {
     "data": {
      "text/plain": [
       "'D:\\\\haifeng\\\\work_20211031\\\\XAS-ML\\\\code\\\\datasets setup'"
      ]
     },
     "execution_count": 18,
     "metadata": {},
     "output_type": "execute_result"
    }
   ],
   "source": [
    "# 上一级目录\n",
    "path_par = os.path.abspath(os.path.pardir)\n",
    "path_par"
   ]
  },
  {
   "cell_type": "markdown",
   "metadata": {},
   "source": [
    "## 源文件夹目录"
   ]
  },
  {
   "cell_type": "code",
   "execution_count": 19,
   "metadata": {
    "ExecuteTime": {
     "end_time": "2022-05-27T12:50:44.833073Z",
     "start_time": "2022-05-27T12:50:44.818108Z"
    }
   },
   "outputs": [
    {
     "data": {
      "text/plain": [
       "['100',\n",
       " '1000',\n",
       " '1100',\n",
       " '1200',\n",
       " '1300',\n",
       " '1400',\n",
       " '1500',\n",
       " '1600',\n",
       " '1700',\n",
       " '1800',\n",
       " '1900',\n",
       " '200',\n",
       " '2000',\n",
       " '2100',\n",
       " '2200',\n",
       " '2300',\n",
       " '2400',\n",
       " '2500',\n",
       " '2600',\n",
       " '2700',\n",
       " '2800',\n",
       " '2900',\n",
       " '300',\n",
       " '3000',\n",
       " '3100',\n",
       " '3200',\n",
       " '3300',\n",
       " '3400',\n",
       " '3500',\n",
       " '3600',\n",
       " '3700',\n",
       " '3800',\n",
       " '3900',\n",
       " '400',\n",
       " '4000',\n",
       " '500',\n",
       " '600',\n",
       " '700',\n",
       " '800',\n",
       " '900',\n",
       " 'modify.log',\n",
       " 'pick.log']"
      ]
     },
     "execution_count": 19,
     "metadata": {},
     "output_type": "execute_result"
    }
   ],
   "source": [
    "# 源文件夹目录\n",
    "path_src = os.path.join(path_par, dir_src)\n",
    "# 检查源文件夹是否存在，存在则列出其内部文件夹，不存在则打印错误\n",
    "exist = os.path.exists(path_src)\n",
    "if exist:\n",
    "    list_seed = os.listdir(path_src)\n",
    "else:\n",
    "    print()\n",
    "    print('** Error!! WT untared directory', dir_src, 'is not found!' )\n",
    "    print()\n",
    "#    sys.exit()\n",
    "list_seed"
   ]
  },
  {
   "cell_type": "code",
   "execution_count": 20,
   "metadata": {
    "ExecuteTime": {
     "end_time": "2022-05-27T12:50:44.849025Z",
     "start_time": "2022-05-27T12:50:44.835062Z"
    }
   },
   "outputs": [],
   "source": [
    "# 去除list_seed中不是文件夹的部分\n",
    "file_del = []\n",
    "for dir_seed in list_seed:\n",
    "    path_seed_src = os.path.join(path_src, dir_seed)\n",
    "    if os.path.isfile(path_seed_src):\n",
    "        file_del.append(dir_seed)\n",
    "for file in file_del:\n",
    "    list_seed.remove(file)"
   ]
  },
  {
   "cell_type": "markdown",
   "metadata": {},
   "source": [
    "## 输出文件夹路径"
   ]
  },
  {
   "cell_type": "code",
   "execution_count": 21,
   "metadata": {
    "ExecuteTime": {
     "end_time": "2022-05-27T12:50:44.864982Z",
     "start_time": "2022-05-27T12:50:44.851019Z"
    }
   },
   "outputs": [
    {
     "data": {
      "text/plain": [
       "'D:\\\\haifeng\\\\work_20211031\\\\XAS-ML\\\\code\\\\datasets setup\\\\AuPd-4000_au150-0_DW_R0_cncr_WT_untar_fealab_statistics'"
      ]
     },
     "execution_count": 21,
     "metadata": {},
     "output_type": "execute_result"
    }
   ],
   "source": [
    "path_work = os.path.join(path_par, dir_work)\n",
    "os.makedirs(path_work, exist_ok=True)\n",
    "path_work"
   ]
  },
  {
   "cell_type": "code",
   "execution_count": 22,
   "metadata": {
    "ExecuteTime": {
     "end_time": "2022-05-27T12:50:44.880939Z",
     "start_time": "2022-05-27T12:50:44.866978Z"
    }
   },
   "outputs": [
    {
     "data": {
      "text/plain": [
       "'D:\\\\haifeng\\\\work_20211031\\\\XAS-ML\\\\code\\\\datasets setup\\\\AuPd-4000_au150-0_DW_R0_cncr_WT_untar_fealab_statistics\\\\seeds'"
      ]
     },
     "execution_count": 22,
     "metadata": {},
     "output_type": "execute_result"
    }
   ],
   "source": [
    "path_dir_seed_work = os.path.join(path_work, dir_seed_work)\n",
    "os.makedirs(path_dir_seed_work, exist_ok=True)\n",
    "path_dir_seed_work"
   ]
  },
  {
   "cell_type": "markdown",
   "metadata": {},
   "source": [
    "## 开始统计abel分布。"
   ]
  },
  {
   "cell_type": "markdown",
   "metadata": {
    "ExecuteTime": {
     "end_time": "2021-09-09T11:32:40.507150Z",
     "start_time": "2021-09-09T11:32:40.503139Z"
    }
   },
   "source": [
    "a = [[1,2,3]]\n",
    "b = [[4,5,6]]\n",
    "a+b = [[1, 2, 3], [4, 5, 6]]"
   ]
  },
  {
   "cell_type": "markdown",
   "metadata": {
    "ExecuteTime": {
     "end_time": "2021-09-10T14:30:32.649877Z",
     "start_time": "2021-09-10T14:30:32.646869Z"
    }
   },
   "source": [
    "a = [], b = [1,2] ,a.append(b) = [[1, 2]]"
   ]
  },
  {
   "cell_type": "markdown",
   "metadata": {
    "ExecuteTime": {
     "end_time": "2021-09-10T14:31:41.028060Z",
     "start_time": "2021-09-10T14:31:41.024051Z"
    }
   },
   "source": [
    "a = [], b = [1,2], a+b = [1, 2]"
   ]
  },
  {
   "cell_type": "markdown",
   "metadata": {
    "ExecuteTime": {
     "end_time": "2021-09-17T02:34:52.100868Z",
     "start_time": "2021-09-17T02:34:52.097859Z"
    }
   },
   "source": [
    "int(2.6) = 2"
   ]
  },
  {
   "cell_type": "markdown",
   "metadata": {
    "ExecuteTime": {
     "end_time": "2021-09-17T02:35:13.004673Z",
     "start_time": "2021-09-17T02:35:13.001664Z"
    }
   },
   "source": [
    "int(-2.6) =int(-2.2)= -2"
   ]
  },
  {
   "cell_type": "code",
   "execution_count": 23,
   "metadata": {
    "ExecuteTime": {
     "end_time": "2022-05-27T12:51:01.987080Z",
     "start_time": "2022-05-27T12:50:44.882940Z"
    }
   },
   "outputs": [
    {
     "name": "stdout",
     "output_type": "stream",
     "text": [
      "\n",
      "** Warning! File 'check_num.txt' in seed 1500 for label 'cr1' NOT found!\n",
      "** All the label will be counted!\n",
      "\n",
      "** Warning! File 'check_num.txt' in seed 2200 for label 'cr1' NOT found!\n",
      "** All the label will be counted!\n",
      "\n",
      "** Warning! File 'check_num.txt' in seed 2400 for label 'cr1' NOT found!\n",
      "** All the label will be counted!\n",
      "\n",
      "** Warning! File 'check_num.txt' in seed 300 for label 'cr1' NOT found!\n",
      "** All the label will be counted!\n",
      "\n",
      "** Warning! File 'check_num.txt' in seed 3200 for label 'cr1' NOT found!\n",
      "** All the label will be counted!\n",
      "\n",
      "** Warning! File 'check_num.txt' in seed 3800 for label 'cr1' NOT found!\n",
      "** All the label will be counted!\n",
      "\n",
      "** Warning! File 'check_num.txt' in seed 500 for label 'cr1' NOT found!\n",
      "** All the label will be counted!\n",
      "\n",
      "** Warning! File 'check_num.txt' in seed 600 for label 'cr1' NOT found!\n",
      "** All the label will be counted!\n",
      "Saving figure 100_cr1_step=0.1_pick\n",
      "Saving figure 1000_cr1_step=0.1_pick\n",
      "Saving figure 1100_cr1_step=0.1_pick\n",
      "Saving figure 1200_cr1_step=0.1_pick\n",
      "Saving figure 1300_cr1_step=0.1_pick\n",
      "Saving figure 1400_cr1_step=0.1_pick\n",
      "Saving figure 1500_cr1_step=0.1_pick\n",
      "Saving figure 1600_cr1_step=0.1_pick\n",
      "Saving figure 1700_cr1_step=0.1_pick\n",
      "Saving figure 1800_cr1_step=0.1_pick\n",
      "Saving figure 1900_cr1_step=0.1_pick\n",
      "Saving figure 200_cr1_step=0.1_pick\n",
      "Saving figure 2000_cr1_step=0.1_pick\n",
      "Saving figure 2100_cr1_step=0.1_pick\n",
      "Saving figure 2200_cr1_step=0.1_pick\n",
      "Saving figure 2300_cr1_step=0.1_pick\n",
      "Saving figure 2400_cr1_step=0.1_pick\n",
      "Saving figure 2500_cr1_step=0.1_pick\n",
      "Saving figure 2600_cr1_step=0.1_pick\n",
      "Saving figure 2700_cr1_step=0.1_pick\n",
      "Saving figure 2800_cr1_step=0.1_pick\n",
      "Saving figure 2900_cr1_step=0.1_pick\n",
      "Saving figure 300_cr1_step=0.1_pick\n",
      "Saving figure 3000_cr1_step=0.1_pick\n",
      "Saving figure 3100_cr1_step=0.1_pick\n",
      "Saving figure 3200_cr1_step=0.1_pick\n",
      "Saving figure 3300_cr1_step=0.1_pick\n",
      "Saving figure 3400_cr1_step=0.1_pick\n",
      "Saving figure 3500_cr1_step=0.1_pick\n",
      "Saving figure 3600_cr1_step=0.1_pick\n",
      "Saving figure 3700_cr1_step=0.1_pick\n",
      "Saving figure 3800_cr1_step=0.1_pick\n",
      "Saving figure 3900_cr1_step=0.1_pick\n",
      "Saving figure 400_cr1_step=0.1_pick\n",
      "Saving figure 4000_cr1_step=0.1_pick\n",
      "Saving figure 500_cr1_step=0.1_pick\n",
      "Saving figure 600_cr1_step=0.1_pick\n",
      "Saving figure 700_cr1_step=0.1_pick\n",
      "Saving figure 800_cr1_step=0.1_pick\n",
      "Saving figure 900_cr1_step=0.1_pick\n",
      "Saving figure cr1_step=0.1_pick\n",
      "Cluster [ 2.5, 2.6) [ 2.6, 2.7) [ 2.7, 2.8) [ 2.8, 2.9) [ 2.9, 3.0) [ 3.0, 3.1)\n",
      "-------------------------------------------------------------------------------\n",
      "    100                                  19          76          45           5\n",
      "   1000                                  13          90          43           3\n",
      "   1100                                  28          75          42           3\n",
      "   1200                                  19          91          35           3\n",
      "   1300                       1          20          84          39           5\n",
      "   1400                                  13          91          40           5\n",
      "   1500                       1          20          84          44           1\n",
      "   1600                       1          19          78          45           5\n",
      "   1700                       1          18          78          51           1\n",
      "   1800                       1          23          75          47           3\n",
      "   1900                                  22          79          45           3\n",
      "    200           1           1          20          92          32           2\n",
      "   2000                                  20          92          34           3\n",
      "   2100                       1          25          71          50           2\n",
      "   2200                       1          21          84          43           1\n",
      "   2300                       1          19          79          42           8\n",
      "   2400                       3          17          75          50           5\n",
      "   2500                       2          19          83          41           3\n",
      "   2600                       1          16          88          40           4\n",
      "   2700                       2          23          75          43           6\n",
      "   2800                       2          19          80          41           6\n",
      "   2900                       1          17          82          48           1\n",
      "    300                                  20          78          46           6\n",
      "   3000                                  20          83          45           1\n",
      "   3100                       1          21          79          43           5\n",
      "   3200                                  15          95          39           1\n",
      "   3300                       1          15          91          39           1\n",
      "   3400                       1          23          77          42           5\n",
      "   3500                                  16          88          44\n",
      "   3600                                  14          85          47           3\n",
      "   3700                       1          19          77          49           3\n",
      "   3800                                  18          87          43           2\n",
      "   3900                                  19          74          47           9\n",
      "    400                                  17          90          35           5\n",
      "   4000                                  12          78          52           5\n",
      "    500                       1          20          89          38           2\n",
      "    600                       2          16          87          39           6\n",
      "    700                       1          15          90          36           5\n",
      "    800                       2          15          87          43           1\n",
      "    900                                  19          84          41           4\n",
      "    Sum           1          30         744        3321        1708         142\n",
      "Sum_all 5946\n",
      "-------------------------------------------------------------------------------\n",
      "Cluster [ 2.5, 2.6) [ 2.6, 2.7) [ 2.7, 2.8) [ 2.8, 2.9) [ 2.9, 3.0) [ 3.0, 3.1)\n"
     ]
    }
   ],
   "source": [
    "for label in label_stat.keys():\n",
    "    label_stat_info = label_stat[label]\n",
    "#\n",
    "#  label count statistics\n",
    "    label_list_dict_seed, label_dict = label_count(label, label_stat_info,\n",
    "                list_seed, path_src,\n",
    "                pick_count, dir_check, file_checknum, trivial)\n",
    "#  label statistics plot\n",
    "    label_count_plot(label, label_stat_info,\n",
    "                     label_list_dict_seed, label_dict,\n",
    "                     list_seed,\n",
    "                     pick_count, prf_pick, trivial,\n",
    "                     path_dir_seed_work, path_work)\n",
    "# label statistics write to file\n",
    "    label_count_writeout(label, label_stat_info,\n",
    "                         label_list_dict_seed, label_dict,\n",
    "                         list_seed,\n",
    "                         pick_count, prf_pick,\n",
    "                         path_work)"
   ]
  },
  {
   "cell_type": "markdown",
   "metadata": {},
   "source": [
    "#### CN"
   ]
  },
  {
   "cell_type": "markdown",
   "metadata": {
    "ExecuteTime": {
     "end_time": "2022-05-27T01:52:49.182576Z",
     "start_time": "2022-05-27T01:51:24.387866Z"
    },
    "scrolled": true
   },
   "source": [
    "for label in label_stat.keys():\n",
    "    label_stat_info = label_stat[label]\n",
    "    dc = label_stat_info['type']\n",
    "    if dc == 'd' or dc == 'D':\n",
    "        dc = 'd'\n",
    "        step = trivial\n",
    "    elif dc == 'c' or dc == 'C':\n",
    "        dc = 'c'\n",
    "        step = label_stat_info['step']\n",
    "        if step <= 0:\n",
    "            print()\n",
    "            print(f\"** step = {step} <= 0, WRONG!\")\n",
    "            sys.exit()\n",
    "    else:\n",
    "        print()\n",
    "        print(f\"** Error!! label type is {dc}, Not continuous nor Dispersed! 4\")\n",
    "#\n",
    "    step_split = str(step).split(\".\")\n",
    "    if len(step_split) == 2:\n",
    "        digit = len(str(step).split(\".\")[1])\n",
    "    else:\n",
    "        digit = 0\n",
    "#\n",
    "    label_dict = {}\n",
    "# 进入各个cluster，即100、200等\n",
    "    for iseed, dir_seed in enumerate(list_seed):\n",
    "        path_dir_seed = os.path.join(path_src, dir_seed)\n",
    "# 进入seed下的label文件夹，查找其下是否存在label文件\n",
    "        path_dir_label = os.path.join(path_dir_seed, label)\n",
    "        exist = os.path.exists(path_dir_label)\n",
    "        label_dict_seed = {}\n",
    "        if exist:\n",
    "    # 源seed中各个label文件\n",
    "            list_label = os.listdir(path_dir_label)\n",
    "            result = os.path.splitext(list_label[0])\n",
    "# 统计是否扣除check文件夹中的label\n",
    "            if pick_count:\n",
    "                path_dir_check = os.path.join(path_dir_seed, dir_check)\n",
    "                path_file_checknum = os.path.join(path_dir_check, file_checknum)\n",
    "                exist_checknum = os.path.exists(path_file_checknum)\n",
    "                if exist_checknum:\n",
    "# csv读取方式\n",
    "                    number_pd = pd.read_csv(path_file_checknum,header=None)\n",
    "                    number_list = list(number_pd.values)\n",
    "                    for i, number in enumerate(number_list):\n",
    "                        number_list[i] = str(int(max(abs(number+trivial),abs(number-trivial))))\n",
    "# readlines读取方式\n",
    "#                    with open(path_file_checknum) as f:\n",
    "#                        number_list0 = f.read().splitlines()\n",
    "#                    number_list = []\n",
    "#                    for i, number in enumerate(number_list0):\n",
    "#                        number_list.append(number.strip())\n",
    "# \n",
    "                    for i, number in enumerate(number_list):\n",
    "                        file_label_num = label + '_' + number + result[1]\n",
    "                        list_label.remove(file_label_num)\n",
    "                else:\n",
    "                    print()\n",
    "                    print(f\"** Warning! File '{file_checknum}' in seed {dir_seed} for label '{label}' NOT found!\")\n",
    "                    print(f\"** All the label will be counted!\")\n",
    "#               end if exist_checknum\n",
    "            else:\n",
    "                pass\n",
    "#           end if pick_count\n",
    "# 开始读取label文件夹中的label_N.dat\n",
    "            for i, labelN in enumerate(list_label):\n",
    "                path_file_labelN = os.path.join(path_dir_label, labelN)\n",
    "                labelN_pd = pd.read_csv(path_file_labelN,header=None)\n",
    "#                labelN_list = labelN_pd.values\n",
    "#                print(f\"labelN_pd.values={labelN_pd.values}\")\n",
    "#                print(f\"labelN_list={labelN_list}\")\n",
    "#                a = labelN_list[0][0]\n",
    "                a = labelN_pd.iloc[0,0]\n",
    "#                print(f\"a={a}\")\n",
    "                if dc == 'd':\n",
    "                    labelN_data = a\n",
    "                elif dc == 'c':\n",
    "                    if a >= 0 :\n",
    "                        labelN_data = int((a+trivial)/step)*step\n",
    "                    else:\n",
    "                        labelN_data = (int((a-trivial)/step)-1)*step\n",
    "                    labelN_data = round(labelN_data,digit)\n",
    "                else:\n",
    "                    pass\n",
    "#                print(f\"a={a}\")\n",
    "#                print(f\"labelN_data={labelN_data}\")\n",
    "                if labelN_data in label_dict_seed.keys():\n",
    "                    label_dict_seed[labelN_data] = label_dict_seed[labelN_data] + 1\n",
    "                else:\n",
    "                    label_dict_seed[labelN_data] = 1\n",
    "                if labelN_data in label_dict.keys():\n",
    "                    label_dict[labelN_data] = label_dict[labelN_data] + 1\n",
    "                else:\n",
    "                    label_dict[labelN_data] = 1\n",
    "#           end for i, labelN in enumerate(list_label)\n",
    "        else:\n",
    "            print()\n",
    "            print(f\"** Error!! No directory '{label}' found in seed {dir_seed}\")\n",
    "            print()\n",
    "    #        sys.exit()\n",
    "#       end if exist = os.path.exists(path_dir_label)\n",
    "#\n",
    "        label_dict_seed_exp_adj0 = dict_expand(label_dict_seed, dc, step, type='adj0')\n",
    "        file_plot_seed = file_make(label,dir_seed, dc, step, pick_count, prf_pick, seedyn = 'y')\n",
    "        plot_label(label, label_dict_seed_exp_adj0, label_stat_info, path_dir_seed_work, file_plot_seed)\n",
    "#\n",
    "# end for iseed, dir_seed in enumerate(list_seed)\n",
    "    label_dict_exp_adj0 = dict_expand(label_dict, dc, step, type='adj0')\n",
    "    file_plot = file_make(label,dir_seed, dc, step, pick_count, prf_pick, seedyn = 'n')\n",
    "    plot_label(label, label_dict_exp_adj0, label_stat_info, path_work, file_plot)\n",
    "#end for label in label_stat.keys()"
   ]
  },
  {
   "cell_type": "code",
   "execution_count": null,
   "metadata": {},
   "outputs": [],
   "source": []
  }
 ],
 "metadata": {
  "kernelspec": {
   "display_name": "Python 3 (ipykernel)",
   "language": "python",
   "name": "python3"
  },
  "language_info": {
   "codemirror_mode": {
    "name": "ipython",
    "version": 3
   },
   "file_extension": ".py",
   "mimetype": "text/x-python",
   "name": "python",
   "nbconvert_exporter": "python",
   "pygments_lexer": "ipython3",
   "version": "3.9.12"
  },
  "toc": {
   "base_numbering": 1,
   "nav_menu": {},
   "number_sections": true,
   "sideBar": true,
   "skip_h1_title": false,
   "title_cell": "Table of Contents",
   "title_sidebar": "Contents",
   "toc_cell": false,
   "toc_position": {},
   "toc_section_display": true,
   "toc_window_display": true
  },
  "varInspector": {
   "cols": {
    "lenName": 16,
    "lenType": 16,
    "lenVar": 40
   },
   "kernels_config": {
    "python": {
     "delete_cmd_postfix": "",
     "delete_cmd_prefix": "del ",
     "library": "var_list.py",
     "varRefreshCmd": "print(var_dic_list())"
    },
    "r": {
     "delete_cmd_postfix": ") ",
     "delete_cmd_prefix": "rm(",
     "library": "var_list.r",
     "varRefreshCmd": "cat(var_dic_list()) "
    }
   },
   "types_to_exclude": [
    "module",
    "function",
    "builtin_function_or_method",
    "instance",
    "_Feature"
   ],
   "window_display": false
  }
 },
 "nbformat": 4,
 "nbformat_minor": 4
}
