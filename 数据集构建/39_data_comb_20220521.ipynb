{
 "cells": [
  {
   "cell_type": "markdown",
   "metadata": {},
   "source": [
    "## 本程序对提取出的非等效位点进行三成分线性组合，给出组合后的chi谱、配位数文件和信息文件"
   ]
  },
  {
   "cell_type": "markdown",
   "metadata": {},
   "source": [
    "### 默认已经提取出非等效位点的文件夹为“cu_crystal_different_xyz_WT_untar_symmetry”（一级目录，即源文件夹），该文件夹可由程序“symmetry_check.ipynb”运行获得，将本程序放置在一级目录并行的任何一个文件夹下即可运行（不要放置在“cu_crystal_different_xyz_WT_untar_symmetry”中）。 "
   ]
  },
  {
   "cell_type": "markdown",
   "metadata": {},
   "source": [
    "### 程序会读取文件夹“cu_crystal_different_xyz_WT_untar_symmetry”下所有的格点的“chi_FEFF.dat”“coor.dat”文件，运行后生成“cu_crystal_different_xyz_WT_untar_symmetry_ex”文件夹（一级目录，目标文件夹），该文件夹下有“chi_FEFF”、“coor”和“info”三个文件夹，分别对应组合后体系的chi谱、结构文件和信息文件（即由哪三个结构组合而来）。"
   ]
  },
  {
   "cell_type": "markdown",
   "metadata": {},
   "source": [
    "last update: 2022.5.21"
   ]
  },
  {
   "cell_type": "markdown",
   "metadata": {},
   "source": [
    "修订了symmetry中如果存在文件的小问题"
   ]
  },
  {
   "cell_type": "markdown",
   "metadata": {},
   "source": [
    "contacts: zhaohf@ihep.ac.cn"
   ]
  },
  {
   "cell_type": "markdown",
   "metadata": {},
   "source": [
    "# 配置环境"
   ]
  },
  {
   "cell_type": "markdown",
   "metadata": {},
   "source": [
    "## 导入各种模块"
   ]
  },
  {
   "cell_type": "code",
   "execution_count": 1,
   "metadata": {
    "ExecuteTime": {
     "end_time": "2022-05-21T00:15:13.263534Z",
     "start_time": "2022-05-21T00:15:12.719795Z"
    }
   },
   "outputs": [],
   "source": [
    "import os\n",
    "import sys\n",
    "import pandas as pd\n",
    "import numpy as np"
   ]
  },
  {
   "cell_type": "markdown",
   "metadata": {},
   "source": [
    "输出导入模板的版本。"
   ]
  },
  {
   "cell_type": "code",
   "execution_count": 2,
   "metadata": {
    "ExecuteTime": {
     "end_time": "2022-05-21T00:15:13.275909Z",
     "start_time": "2022-05-21T00:15:13.265911Z"
    },
    "scrolled": true
   },
   "outputs": [
    {
     "name": "stdout",
     "output_type": "stream",
     "text": [
      "python version: 3.9.12 (main, Apr  4 2022, 05:22:27) [MSC v.1916 64 bit (AMD64)]\n",
      "numpy version: 1.21.5\n",
      "panda version: 1.4.2\n"
     ]
    }
   ],
   "source": [
    "print('python version:',sys.version)\n",
    "print('numpy version:',np.__version__)\n",
    "print('panda version:',pd.__version__)"
   ]
  },
  {
   "cell_type": "markdown",
   "metadata": {},
   "source": [
    "# 设置输入文件夹和输出文件夹"
   ]
  },
  {
   "cell_type": "markdown",
   "metadata": {},
   "source": [
    "## 设置源文件夹，即要处理的文件夹"
   ]
  },
  {
   "cell_type": "code",
   "execution_count": 3,
   "metadata": {
    "ExecuteTime": {
     "end_time": "2022-05-21T00:15:13.288231Z",
     "start_time": "2022-05-21T00:15:13.275909Z"
    }
   },
   "outputs": [],
   "source": [
    "# 设置源文件夹，即经过等效位点筛查的文件夹\n",
    "dir_src = 'cu_crystal_different_xyz_WT_untar_symmetry'"
   ]
  },
  {
   "cell_type": "markdown",
   "metadata": {},
   "source": [
    "## 设置输出文件夹名"
   ]
  },
  {
   "cell_type": "code",
   "execution_count": 4,
   "metadata": {
    "ExecuteTime": {
     "end_time": "2022-05-21T00:15:13.300696Z",
     "start_time": "2022-05-21T00:15:13.290974Z"
    }
   },
   "outputs": [],
   "source": [
    "dir_work = dir_src + '_comb'"
   ]
  },
  {
   "cell_type": "markdown",
   "metadata": {},
   "source": [
    "# 一些函数、类"
   ]
  },
  {
   "cell_type": "markdown",
   "metadata": {},
   "source": [
    "## 删除某一目录下的所有文件或文件夹"
   ]
  },
  {
   "cell_type": "code",
   "execution_count": 5,
   "metadata": {
    "ExecuteTime": {
     "end_time": "2022-05-21T00:15:13.317818Z",
     "start_time": "2022-05-21T00:15:13.300696Z"
    }
   },
   "outputs": [],
   "source": [
    "def del_file(filepath):\n",
    "    \"\"\"\n",
    "    删除某一目录下的所有文件或文件夹，但不会删除filepath这个文件夹，即留下filepath这个文件夹\n",
    "    :param filepath: 路径\n",
    "    :return:\n",
    "    \"\"\"\n",
    "    \n",
    "    import shutil\n",
    "    del_list = os.listdir(filepath)\n",
    "    for f in del_list:\n",
    "        file_path = os.path.join(filepath, f)\n",
    "        if os.path.isfile(file_path):\n",
    "            os.remove(file_path)\n",
    "        elif os.path.isdir(file_path):\n",
    "            shutil.rmtree(file_path)"
   ]
  },
  {
   "cell_type": "markdown",
   "metadata": {},
   "source": [
    "## 查找文件"
   ]
  },
  {
   "cell_type": "code",
   "execution_count": 6,
   "metadata": {
    "ExecuteTime": {
     "end_time": "2022-05-21T00:15:13.333120Z",
     "start_time": "2022-05-21T00:15:13.317818Z"
    }
   },
   "outputs": [],
   "source": [
    "def pick_file(path_src, file):\n",
    "    \"\"\"\n",
    "    给定文件夹（path_src），查找文件（file），然后给出文件的路径，存储在数组（list_path_file）中\n",
    "    \"\"\"\n",
    "#\n",
    "# 检查源文件夹是否存在，存在则列出其内部文件夹，不存在则打印错误\n",
    "    exist = os.path.exists(path_src)\n",
    "    if exist:\n",
    "        list_seed = os.listdir(path_src)\n",
    "    else:\n",
    "        print()\n",
    "        print('** Error!! WT untared directory', path_src, 'is not found!' )\n",
    "        print()\n",
    "        sys.exit()\n",
    "#\n",
    "    list_path_file = []\n",
    "    list_info_seed = []\n",
    "    list_info_xyz = []\n",
    "    for dir_seed in list_seed:\n",
    "#\n",
    "# 源seed的路径\n",
    "        path_seed_src = os.path.join(path_src, dir_seed)\n",
    "# 判断是否是文件夹，因为有的时候有文件，有文件就会出问题\n",
    "        isdirectory = os.path.isdir(path_seed_src)\n",
    "#\n",
    "        if isdirectory:\n",
    "# 源seed中各个xyz文件夹  \n",
    "            list_xyz = os.listdir(path_seed_src)\n",
    "#\n",
    "            for dir_xyz in list_xyz:\n",
    "#\n",
    "# 源xyz的路径\n",
    "                path_xyz_src = os.path.join(path_seed_src, dir_xyz)\n",
    "# 查找是否存在file\n",
    "                path_file_src = os.path.join(path_xyz_src, file)\n",
    "                exist = os.path.exists(path_file_src)\n",
    "                if exist:\n",
    "                    list_path_file.append(path_file_src)\n",
    "                    list_info_seed.append(dir_seed)\n",
    "                    list_info_xyz.append(dir_xyz)\n",
    "                else:\n",
    "                    list_path_file.append('NaN')\n",
    "                    list_info_seed.append(dir_seed)\n",
    "                    list_info_xyz.append(dir_xyz)\n",
    "#\n",
    "    return list_path_file, list_info_seed, list_info_xyz"
   ]
  },
  {
   "cell_type": "markdown",
   "metadata": {},
   "source": [
    "## 读取chi_FEFF.dat的数组"
   ]
  },
  {
   "cell_type": "code",
   "execution_count": 7,
   "metadata": {
    "ExecuteTime": {
     "end_time": "2022-05-21T00:15:13.348687Z",
     "start_time": "2022-05-21T00:15:13.333904Z"
    }
   },
   "outputs": [],
   "source": [
    "def read_chi_FEFF(path):\n",
    "    \"\"\"\"\"\"\n",
    "    data_df = pd.read_csv(path,header=None,delim_whitespace=True)\n",
    "    a = data_df.iloc[0,0]\n",
    "    if a == 0 :\n",
    "        data_df = pd.read_csv(path,header=0,delim_whitespace=True)\n",
    "#    data_np = data_df.iloc[:,1].values\n",
    "    data_np = data_df.values\n",
    "#\n",
    "# 数据由list改为numpy array的形式\n",
    "#\n",
    "#    data_np_array = np.array(data_np)\n",
    "#\n",
    "    return data_np\n",
    "#    return data_np_array"
   ]
  },
  {
   "cell_type": "markdown",
   "metadata": {},
   "source": [
    "## 读取coor.dat文件中的数组"
   ]
  },
  {
   "cell_type": "code",
   "execution_count": 8,
   "metadata": {
    "ExecuteTime": {
     "end_time": "2022-05-21T00:15:13.365520Z",
     "start_time": "2022-05-21T00:15:13.350028Z"
    }
   },
   "outputs": [],
   "source": [
    "def read_coor(path_coor):\n",
    "    \"\"\"\n",
    "    读取coor.dat中的数据\n",
    "    \"\"\"\n",
    "    coor = pd.read_csv(path_coor,delim_whitespace=True,header=None, skiprows=[0,1])\n",
    "    coor_data = coor.values\n",
    "#    N_shell = coor_data.shape[0]\n",
    "#    cn = coor_data[0:N_shell,1]\n",
    "#    r = coor_data[0:N_shell,2]\n",
    "#    r_d = coor_data[0:N_shell,3]\n",
    "#\n",
    "#    return cn,r,r_d\n",
    "    return coor_data"
   ]
  },
  {
   "cell_type": "markdown",
   "metadata": {},
   "source": [
    "# 程序正文"
   ]
  },
  {
   "cell_type": "markdown",
   "metadata": {},
   "source": [
    "## 设置工作文件夹"
   ]
  },
  {
   "cell_type": "code",
   "execution_count": 9,
   "metadata": {
    "ExecuteTime": {
     "end_time": "2022-05-21T00:15:13.381321Z",
     "start_time": "2022-05-21T00:15:13.366541Z"
    },
    "code_folding": []
   },
   "outputs": [
    {
     "data": {
      "text/plain": [
       "'D:\\\\haifeng\\\\work_20211031\\\\XAS-ML\\\\code\\\\datasets setup\\\\jupyterbook'"
      ]
     },
     "execution_count": 9,
     "metadata": {},
     "output_type": "execute_result"
    }
   ],
   "source": [
    "# 当前目录\n",
    "path = os.path.abspath('./')\n",
    "path"
   ]
  },
  {
   "cell_type": "code",
   "execution_count": 10,
   "metadata": {
    "ExecuteTime": {
     "end_time": "2022-05-21T00:15:13.396283Z",
     "start_time": "2022-05-21T00:15:13.385311Z"
    }
   },
   "outputs": [
    {
     "data": {
      "text/plain": [
       "'D:\\\\haifeng\\\\work_20211031\\\\XAS-ML\\\\code\\\\datasets setup'"
      ]
     },
     "execution_count": 10,
     "metadata": {},
     "output_type": "execute_result"
    }
   ],
   "source": [
    "# 上一级目录\n",
    "path_par = os.path.abspath(os.path.pardir)\n",
    "path_par"
   ]
  },
  {
   "cell_type": "code",
   "execution_count": 11,
   "metadata": {
    "ExecuteTime": {
     "end_time": "2022-05-21T00:15:13.411241Z",
     "start_time": "2022-05-21T00:15:13.399275Z"
    }
   },
   "outputs": [
    {
     "data": {
      "text/plain": [
       "['Cu-bulk',\n",
       " 'Cu-fcc-22',\n",
       " 'Cu-fcc-22-1',\n",
       " 'Cu-fcc-23-1',\n",
       " 'Cu-fcc-33',\n",
       " 'Cu-fcc-33-1',\n",
       " 'Cu-fcc-33-2',\n",
       " 'Cu-fcc-331',\n",
       " 'Cu-fcc-333',\n",
       " 'Cu-fcc-34-2',\n",
       " 'Cu-fcc-342',\n",
       " 'Cu-fcc-42',\n",
       " 'Cu-fcc-43-1',\n",
       " 'Cu-fcc-43-2',\n",
       " 'Cu-fcc-44-2',\n",
       " 'Cu-fcc-53',\n",
       " 'Cu-wulff-size13',\n",
       " 'Cu-wulff-size201',\n",
       " 'symmetry.dat']"
      ]
     },
     "execution_count": 11,
     "metadata": {},
     "output_type": "execute_result"
    }
   ],
   "source": [
    "# 设置源文件夹，即经过等效位点筛查的文件夹\n",
    "#dir_src = 'cu_crystal_different_xyz_WT_untar_symmetry'\n",
    "path_src = os.path.join(path_par, dir_src)\n",
    "# 检查源文件夹是否存在，存在则列出其内部文件夹，不存在则打印错误\n",
    "exist = os.path.exists(path_src)\n",
    "if exist:\n",
    "    list_seed = os.listdir(path_src)\n",
    "else:\n",
    "    print()\n",
    "    print('** Error!! WT untared directory', dir_src, 'is not found!' )\n",
    "    print()\n",
    "#    sys.exit()\n",
    "list_seed"
   ]
  },
  {
   "cell_type": "code",
   "execution_count": 12,
   "metadata": {
    "ExecuteTime": {
     "end_time": "2022-05-21T00:15:13.426202Z",
     "start_time": "2022-05-21T00:15:13.414239Z"
    }
   },
   "outputs": [
    {
     "data": {
      "text/plain": [
       "'D:\\\\haifeng\\\\work_20211031\\\\XAS-ML\\\\code\\\\datasets setup\\\\cu_crystal_different_xyz_WT_untar_symmetry_comb'"
      ]
     },
     "execution_count": 12,
     "metadata": {},
     "output_type": "execute_result"
    }
   ],
   "source": [
    "# 创建工作文件夹和目录\n",
    "#dir_work = dir_src + '_exp'\n",
    "path_work = os.path.join(path_par, dir_work)\n",
    "os.makedirs(path_work, exist_ok=True)\n",
    "path_work"
   ]
  },
  {
   "cell_type": "code",
   "execution_count": 13,
   "metadata": {
    "ExecuteTime": {
     "end_time": "2022-05-21T00:15:13.441197Z",
     "start_time": "2022-05-21T00:15:13.428197Z"
    }
   },
   "outputs": [],
   "source": [
    "#  在工作文件夹内，新建“chi_FEFF”、“coor”和“info”文件夹\n",
    "dir_chi_FEFF = 'chi_FEFF'    # 存储组合后的chi_FEFF.dat文件\n",
    "dir_coor = 'coor'            # 对应的coor.dat文件\n",
    "dir_info = 'info'            # 组合前的源文件信息\n",
    "path_chi_FEFF_work = os.path.join(path_work, dir_chi_FEFF)\n",
    "path_coor_work = os.path.join(path_work, dir_coor)\n",
    "path_info_work = os.path.join(path_work, dir_info)\n",
    "#\n",
    "#  检查是否已经存在这三个文件夹，若有，删除其中文件；若没有则构建\n",
    "os.makedirs(path_chi_FEFF_work, exist_ok=True)\n",
    "del_file(path_chi_FEFF_work)\n",
    "os.makedirs(path_coor_work, exist_ok=True)\n",
    "del_file(path_coor_work)\n",
    "os.makedirs(path_info_work, exist_ok=True)\n",
    "del_file(path_info_work)"
   ]
  },
  {
   "cell_type": "markdown",
   "metadata": {},
   "source": [
    "## 查找源文件"
   ]
  },
  {
   "cell_type": "code",
   "execution_count": 14,
   "metadata": {
    "ExecuteTime": {
     "end_time": "2022-05-21T00:15:13.471081Z",
     "start_time": "2022-05-21T00:15:13.443156Z"
    }
   },
   "outputs": [],
   "source": [
    "# 获得“chi_FEFF.dat”文件的路径列表\n",
    "file = 'chi_FEFF.dat'\n",
    "list_chi_FEFF_path, list_info_seed, list_info_xyz = pick_file(path_src, file)"
   ]
  },
  {
   "cell_type": "code",
   "execution_count": 15,
   "metadata": {
    "ExecuteTime": {
     "end_time": "2022-05-21T00:15:13.487546Z",
     "start_time": "2022-05-21T00:15:13.471709Z"
    }
   },
   "outputs": [
    {
     "data": {
      "text/plain": [
       "84"
      ]
     },
     "execution_count": 15,
     "metadata": {},
     "output_type": "execute_result"
    }
   ],
   "source": [
    "N_chi_FEFF = len(list_chi_FEFF_path)\n",
    "N_chi_FEFF"
   ]
  },
  {
   "cell_type": "code",
   "execution_count": 16,
   "metadata": {
    "ExecuteTime": {
     "end_time": "2022-05-21T00:15:13.511891Z",
     "start_time": "2022-05-21T00:15:13.487546Z"
    }
   },
   "outputs": [],
   "source": [
    "# 获得“coor.dat”文件的路径列表\n",
    "file = 'coor.dat'\n",
    "list_coor_path, list_info_seed, list_info_xyz = pick_file(path_src, file)"
   ]
  },
  {
   "cell_type": "code",
   "execution_count": 17,
   "metadata": {
    "ExecuteTime": {
     "end_time": "2022-05-21T00:15:13.526566Z",
     "start_time": "2022-05-21T00:15:13.513429Z"
    }
   },
   "outputs": [
    {
     "data": {
      "text/plain": [
       "84"
      ]
     },
     "execution_count": 17,
     "metadata": {},
     "output_type": "execute_result"
    }
   ],
   "source": [
    "N_coor = len(list_coor_path)\n",
    "N_coor"
   ]
  },
  {
   "cell_type": "code",
   "execution_count": 18,
   "metadata": {
    "ExecuteTime": {
     "end_time": "2022-05-21T00:15:13.541784Z",
     "start_time": "2022-05-21T00:15:13.526566Z"
    }
   },
   "outputs": [],
   "source": [
    "if N_chi_FEFF != N_coor:\n",
    "    print()\n",
    "    print('*****  Attension!  ******* ')\n",
    "    print('N_chi_FEFF = ', N_chi_FEFF)\n",
    "    print('N_coor     = ', N_coor)\n",
    "    print()"
   ]
  },
  {
   "cell_type": "markdown",
   "metadata": {},
   "source": [
    "## 开始组合"
   ]
  },
  {
   "cell_type": "markdown",
   "metadata": {},
   "source": [
    "chi谱都为（400,2）数组，可直接相加，而coor文件为（N_shell，4），无法直接相加，处理方式为将短的数组用零扩充，然后相加"
   ]
  },
  {
   "cell_type": "code",
   "execution_count": 19,
   "metadata": {
    "ExecuteTime": {
     "end_time": "2022-05-21T00:52:20.537297Z",
     "start_time": "2022-05-21T00:15:13.543747Z"
    }
   },
   "outputs": [],
   "source": [
    "#  index 是新的组合体系的编号。\n",
    "index = 0\n",
    "# i,j,k分别为三个谱（结构）的标记\n",
    "for i in range(N_chi_FEFF):\n",
    "    path_chi_FEFF_i = list_chi_FEFF_path[i]\n",
    "    chi_FEFF_data_i = read_chi_FEFF(path_chi_FEFF_i)\n",
    "#\n",
    "    path_coor_i = list_coor_path[i]\n",
    "    coor_data_i = read_coor(path_coor_i)\n",
    "    N_shell_i = coor_data_i.shape[0]\n",
    "#\n",
    "    for j in range(i+1, N_chi_FEFF):\n",
    "        path_chi_FEFF_j = list_chi_FEFF_path[j]\n",
    "        chi_FEFF_data_j = read_chi_FEFF(path_chi_FEFF_j)\n",
    "#\n",
    "        path_coor_j = list_coor_path[j]\n",
    "        coor_data_j = read_coor(path_coor_j)\n",
    "        N_shell_j = coor_data_j.shape[0]\n",
    "#\n",
    "        for k in range(j+1, N_chi_FEFF):\n",
    "            index = index + 1\n",
    "#\n",
    "            path_chi_FEFF_k = list_chi_FEFF_path[k]\n",
    "            chi_FEFF_data_k = read_chi_FEFF(path_chi_FEFF_k)\n",
    "#\n",
    "            path_coor_k = list_coor_path[k]\n",
    "            coor_data_k = read_coor(path_coor_k)\n",
    "            N_shell_k = coor_data_k.shape[0]\n",
    "#\n",
    "            chi_FEFF = (chi_FEFF_data_i + chi_FEFF_data_j + chi_FEFF_data_k)/3.0\n",
    "#\n",
    "#    考虑到各个cluster的大小，每个cluster的N_shell都不同，需要将所有体系的coor.dat按照最大的N_shell进行扩充（都补零），然后相加\n",
    "            N_shell_max = max(N_shell_i, N_shell_j, N_shell_k)\n",
    "            coor_data_i_ex = np.pad(coor_data_i, ((0,N_shell_max - N_shell_i),(0,0)), 'constant')\n",
    "            coor_data_j_ex = np.pad(coor_data_j, ((0,N_shell_max - N_shell_j),(0,0)), 'constant')\n",
    "            coor_data_k_ex = np.pad(coor_data_k, ((0,N_shell_max - N_shell_k),(0,0)), 'constant')\n",
    "            coor = (coor_data_i_ex + coor_data_j_ex + coor_data_k_ex)/3.0\n",
    "#  输出\n",
    "            index_str = str(index)\n",
    "            file_chi_FEFF_N = 'chi_FEFF_' + index_str + '.dat'\n",
    "            path_chi_FEFF_chi_FEFF_N = os.path.join(path_chi_FEFF_work, file_chi_FEFF_N)\n",
    "            fout = open(path_chi_FEFF_chi_FEFF_N, 'wt')\n",
    "#            print(chi_FEFF, file=fout)\n",
    "            N_k = chi_FEFF.shape[0]\n",
    "            for i_k in range(N_k):\n",
    "                print(\"{:>12.4f}{:>14.6E}\".format(chi_FEFF[i_k,0], chi_FEFF[i_k,1]), file=fout)\n",
    "            fout.close()\n",
    "#\n",
    "            file_coor_N = 'coor_' + index_str + '.dat'\n",
    "            path_coor_coor_N = os.path.join(path_coor_work, file_coor_N)\n",
    "            fout = open(path_coor_coor_N, 'wt')\n",
    "            print(file=fout)\n",
    "            print(\"  SHELL  N_COOR  BOND_AV  DELTA\", file=fout)\n",
    "#            print(coor, file=fout)\n",
    "            for i_sh in range(N_shell_max):\n",
    "                print(\"{:>7.1f}{:>8.3f}{:>9.3f}{:>7.3f}\".format(coor[i_sh,0], coor[i_sh,1], coor[i_sh,2], coor[i_sh,3]), file=fout)\n",
    "            fout.close()\n",
    "#\n",
    "            file_info_N = 'info_' + index_str + '.dat'\n",
    "            path_info_info_N = os.path.join(path_info_work, file_info_N)\n",
    "            fout = open(path_info_info_N, 'wt')\n",
    "            print(list_info_seed[i], list_info_xyz[i], file=fout)\n",
    "            print(list_info_seed[j], list_info_xyz[j], file=fout)\n",
    "            print(list_info_seed[k], list_info_xyz[k], file=fout)\n",
    "            fout.close()"
   ]
  },
  {
   "cell_type": "code",
   "execution_count": null,
   "metadata": {},
   "outputs": [],
   "source": []
  }
 ],
 "metadata": {
  "kernelspec": {
   "display_name": "Python 3 (ipykernel)",
   "language": "python",
   "name": "python3"
  },
  "language_info": {
   "codemirror_mode": {
    "name": "ipython",
    "version": 3
   },
   "file_extension": ".py",
   "mimetype": "text/x-python",
   "name": "python",
   "nbconvert_exporter": "python",
   "pygments_lexer": "ipython3",
   "version": "3.9.12"
  },
  "toc": {
   "base_numbering": 1,
   "nav_menu": {},
   "number_sections": true,
   "sideBar": true,
   "skip_h1_title": false,
   "title_cell": "Table of Contents",
   "title_sidebar": "Contents",
   "toc_cell": false,
   "toc_position": {},
   "toc_section_display": true,
   "toc_window_display": true
  },
  "varInspector": {
   "cols": {
    "lenName": 16,
    "lenType": 16,
    "lenVar": 40
   },
   "kernels_config": {
    "python": {
     "delete_cmd_postfix": "",
     "delete_cmd_prefix": "del ",
     "library": "var_list.py",
     "varRefreshCmd": "print(var_dic_list())"
    },
    "r": {
     "delete_cmd_postfix": ") ",
     "delete_cmd_prefix": "rm(",
     "library": "var_list.r",
     "varRefreshCmd": "cat(var_dic_list()) "
    }
   },
   "types_to_exclude": [
    "module",
    "function",
    "builtin_function_or_method",
    "instance",
    "_Feature"
   ],
   "window_display": false
  }
 },
 "nbformat": 4,
 "nbformat_minor": 4
}
