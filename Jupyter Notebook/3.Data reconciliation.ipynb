{
 "cells": [
  {
   "cell_type": "markdown",
   "id": "c46c2959-1056-44ec-8fe1-bceb33140414",
   "metadata": {},
   "source": [
    "# Program Description: Data Reconciliation (Module 3)\n",
    "## Overview:\n",
    "This module performs data reconciliation for the results obtained from **Module 1** (XAS Simulation). The purpose is to apply interpolation and data preprocessing to the features `['chi', 'xmu', 'rdf']` obtained from these modules. The module ensures that the features are aligned, resampled, and interpolated as necessary for consistent comparison and further analysis.\n",
    "\n",
    "## Input Files:\n",
    "- **Input Features (before interpolation)**: \n",
    "  - **Features**: `['chi', 'xmu', 'rdf']`\n",
    "  - **Description**: These are the raw features (chi, xmu, rdf) obtained from **Module 1** and **Module 2**.\n",
    "  - **Format**: CSV or data files containing the raw feature data.\n",
    "\n",
    "## Output Files:\n",
    "- **Output Features (after interpolation)**: \n",
    "  - **Features**: `['chi', 'xmu', 'rdf']`\n",
    "  - **Description**: These are the features that have undergone interpolation and preprocessing.\n",
    "  - **Format**: CSV or data files containing the interpolated feature data.\n",
    "  \n",
    "The features are saved with new interpolated values that align across the samples, making the data consistent and ready for further analysis or visualization.\n",
    "\n",
    "## Process:\n",
    "1. **Interpolation**: \n",
    "   - The module applies interpolation techniques to the features `['chi', 'xmu', 'rdf']` to ensure that data points across the samples are consistently aligned. This allows for comparisons between features that were calculated with different resolutions or sample frequencies.\n",
    "   - Interpolation methods such as linear interpolation, cubic spline, or other relevant techniques are used depending on the data requirements.\n",
    "\n",
    "2. **Data Alignment**: \n",
    "   - Ensures that the features from both modules are aligned in terms of sample points (k-values, energy, or other relevant metrics), and missing or unaligned data is handled through the interpolation process.\n",
    "\n",
    "3. **Output Data**: \n",
    "   - After the interpolation is applied, the processed data is saved to new files with updated feature values, allowing users to continue their analysis with the reconciled and consistent data.\n",
    "\n",
    "## Example Workflow:\n",
    "1. **Input**: Raw `['chi', 'xmu', 'rdf']` from **Module 1** (XAS Simulation) and **Module 2** (Structure Descriptors).\n",
    "2. **Process**: Interpolate data, reconcile features, and ensure consistency across the samples.\n",
    "3. **Output**: Interpolated `['chi', 'xmu', 'rdf']`, saved in a specified directory.\n",
    "\n",
    "## Notes:\n",
    "- This module is especially useful when the data from **Module 1**  are not directly comparable due to varying resolutions or inconsistencies in sampling points. The interpolation process reconciles the differences to ensure uniformity across the dataset.\n",
    "- The interpolated data is stored in the same file format as the input data, making it easy to access and further process.\n"
   ]
  },
  {
   "cell_type": "markdown",
   "id": "12b58fde-a237-4b87-a3f0-516006d5cc8e",
   "metadata": {},
   "source": [
    "# Import libraries"
   ]
  },
  {
   "cell_type": "code",
   "execution_count": 1,
   "id": "57f0471e-1d3c-4266-858f-3a7c3f7bb603",
   "metadata": {
    "ExecuteTime": {
     "end_time": "2025-01-21T01:31:38.217609Z",
     "start_time": "2025-01-21T01:31:37.109592Z"
    }
   },
   "outputs": [],
   "source": [
    "import os\n",
    "from os.path import join, splitext, split,basename\n",
    "import sys \n",
    "import glob\n",
    "import pandas as pd\n",
    "import numpy as np\n",
    "import matplotlib.pyplot as plt\n",
    "from larch import Group\n",
    "from larch.xafs import pre_edge\n",
    "import math\n",
    "import shutil\n"
   ]
  },
  {
   "cell_type": "markdown",
   "id": "8a016290-5bbe-4500-9d2c-0f726f87fac0",
   "metadata": {},
   "source": [
    "# Version Information"
   ]
  },
  {
   "cell_type": "code",
   "execution_count": 2,
   "id": "1b899884-374c-4f6f-843d-c80bcb7a277b",
   "metadata": {
    "ExecuteTime": {
     "end_time": "2025-01-21T01:31:38.225265Z",
     "start_time": "2025-01-21T01:31:38.219840Z"
    }
   },
   "outputs": [
    {
     "name": "stdout",
     "output_type": "stream",
     "text": [
      "pandas: 2.0.3\n",
      "numpy: 1.23.5\n",
      "sklearn: 1.3.2\n",
      "larch: 0.9.76\n",
      "Python: 3.8.15 | packaged by conda-forge | (default, Nov 22 2022, 08:46:39) \n",
      "[GCC 10.4.0]\n"
     ]
    }
   ],
   "source": [
    "def get_python_version():\n",
    "    return sys.version\n",
    "def get_package_version(package_name):\n",
    "    try:\n",
    "        module = __import__(package_name)\n",
    "        version = getattr(module, '__version__', None)\n",
    "        if version:\n",
    "            return version\n",
    "        else:\n",
    "            return pkg_resources.get_distribution(package_name).version\n",
    "    except (ImportError, AttributeError, pkg_resources.DistributionNotFound):\n",
    "        return \"Version info not found\"\n",
    "\n",
    "packages = ['pandas', 'numpy', 'sklearn', 'larch']\n",
    "for package in packages:\n",
    "    print(f\"{package}: {get_package_version(package)}\")\n",
    "print(f\"Python: {get_python_version()}\")"
   ]
  },
  {
   "cell_type": "markdown",
   "id": "60112138-6a33-4f9f-b1fc-98b68853a13a",
   "metadata": {},
   "source": [
    "# Parameter Settings\n",
    "\n",
    "## Input Files:\n",
    "- **`load_path`**: \n",
    "  - **Description**: Specifies the directory path where the dataset files are stored.\n",
    "  - **Usage**: Ensure this path points to the folder containing the data to be used for further processing.\n",
    "  - **Example**: `\"/media/dell-hd/data1/datasets/Au-datasets\"`\n",
    "\n",
    "## Data Types:\n",
    "- **`features`**: \n",
    "  - **Description**: A list of features to be used for processing.\n",
    "  - **Usage**: Defines the types of data (such as chi, xmu, rdf) that will be analyzed.\n",
    "  - **Example**: `['chi', 'xmu', 'rdf']`\n",
    "\n",
    "## Label Types:\n",
    "- **`labels`**: \n",
    "  - **Description**: Defines the types of labels to be used in the analysis. \n",
    "  - **Usage**: Customize based on the specific labels you want to  analyze.\n",
    "\n",
    "## Directory Checks:\n",
    "- **`load_path` existence check**: \n",
    "  - **Description**: Verifies that the specified `load_path` exists before proceeding with further operations.\n",
    "  - **Usage**: Raises an error if the path does not exist, ensuring that the user has provided a valid directory.\n",
    "\n",
    "## Output Paths:\n",
    "- **`save_data_path`**: \n",
    "  - **Description**: Directory path where the final processed data will be saved.\n",
    "  - **Usage**: This path stores the datasets generated by the method and analysis.\n",
    "  - **Example**: `os.path.join(load_path, f\"datasets({method})\")`"
   ]
  },
  {
   "cell_type": "code",
   "execution_count": 3,
   "id": "0f8e4242-3ef0-432e-9c79-ef7099a25ddc",
   "metadata": {
    "ExecuteTime": {
     "end_time": "2025-01-21T01:31:38.236762Z",
     "start_time": "2025-01-21T01:31:38.226489Z"
    }
   },
   "outputs": [
    {
     "name": "stdout",
     "output_type": "stream",
     "text": [
      "File '0926-datasets' exists.\n"
     ]
    }
   ],
   "source": [
    "# Define the method and load path for the dataset\n",
    "load_path = \"0926-datasets\"\n",
    "# Define the feature types to be used in the analysis (e.g., chi, xmu, rdf)\n",
    "features = ['chi', 'xmu', 'rdf']\n",
    "# Define label types\n",
    "label_types = [\"cn\", \"cr\"]\n",
    "n=5001\n",
    "# Check if the specified load path exists\n",
    "if os.path.exists(load_path):\n",
    "    print(f\"File '{load_path}' exists.\")  # Print a message if the path exists\n",
    "else:\n",
    "    raise FileNotFoundError(f\"File '{load_path}' does not exist.\")  # Raise an error if the path does not exist\n",
    "\n",
    "# Create a save path for the processed data, appending the method name to the dataset path\n",
    "#save_data_path = os.path.join(load_path, \"datasets\")\n",
    "for data_type in features:\n",
    "    globals()[f\"{data_type}_path\"] = join(load_path, data_type)\n",
    "# Create a dictionary to store paths, showing only common directory paths\n",
    "prepare_path = os.path.join(load_path, f\"prepare\")\n",
    "for data_type in features:\n",
    "    globals()[f\"save_{data_type}_path\"] = join(prepare_path, data_type)\n",
    "# Check and create necessary directories\n",
    "paths_to_check = [prepare_path] + [globals()[f'save_{data_type}_path'] for data_type in features]\n",
    "for path in paths_to_check:\n",
    "    if not os.path.exists(path):\n",
    "        os.makedirs(path)\n",
    "\n"
   ]
  },
  {
   "cell_type": "code",
   "execution_count": 4,
   "id": "23588c28-4f24-40d2-9b9a-c9cafedcabf5",
   "metadata": {
    "ExecuteTime": {
     "end_time": "2025-01-21T01:31:38.270671Z",
     "start_time": "2025-01-21T01:31:38.238946Z"
    }
   },
   "outputs": [],
   "source": [
    "# Function to read chi data from CSV files, optionally save and plot the data\n",
    "def get_chi(path, n=-1, save_path=False, plot=False):\n",
    "    plot_dat = None\n",
    "    chi = []\n",
    "    # Sort CSV files by filename (assuming filenames are numerical) and limit to 'n' files\n",
    "    file_list = sorted(glob.glob(join(path, \"*.csv\")), key=lambda x: int(splitext(basename(x))[0]))[:n]\n",
    "    \n",
    "    for file in file_list:\n",
    "        index = int(splitext(basename(file))[0])\n",
    "        dat = pd.read_csv(file)\n",
    "        \n",
    "        # Save the data to the specified path if 'save_path' is set to True\n",
    "        if save_path:\n",
    "            dat.to_csv(join(save_path, basename(file)), index=False)\n",
    "        \n",
    "        # If the file index matches the 'plot' value, store the data for plotting\n",
    "        if index == plot:\n",
    "            plot_dat = dat\n",
    "        \n",
    "        # Remove the first row if it corresponds to a chi value of 0\n",
    "        if dat.k[0] == 0:\n",
    "            dat = dat[1:]\n",
    "        \n",
    "        chi.append((index, dat.chi.values))\n",
    "    \n",
    "    # Sort chi data by index and extract the chi values\n",
    "    chi.sort(key=lambda x: x[0])\n",
    "    chi = [x[1] for x in chi]\n",
    "    \n",
    "    # If 'plot' is specified, plot the chi data for the chosen sample\n",
    "    if plot:\n",
    "        fig, ax = plt.subplots(1, 1)\n",
    "        ax.plot(plot_dat.k, plot_dat.chi * (plot_dat.k ** 2))  # Chi*k^2 plot\n",
    "        plt.show()\n",
    "    \n",
    "    return np.array(chi)\n",
    "# Function to read xmu data, perform pre-edge correction, and return the processed data\n",
    "def get_xmu(path, n=-1, save_path=False, plot=False):\n",
    "    plot_dat = None\n",
    "    plot_dat_new = None\n",
    "    emin, emax = float('inf'), float('-inf')\n",
    "    \n",
    "    # Sort CSV files and limit to 'n' files\n",
    "    file_list = sorted(glob.glob(join(path, \"*.csv\")), key=lambda x: int(splitext(basename(x))[0]))[:n]\n",
    "    \n",
    "    for file in file_list:\n",
    "        index = int(splitext(basename(file))[0])\n",
    "        dat = pd.read_csv(file)\n",
    "        \n",
    "        # Store the data for plotting if 'plot' matches the current index\n",
    "        if index == plot:\n",
    "            plot_dat = dat\n",
    "        \n",
    "        dat = Group(energy=dat.energy, mu=dat.mu)\n",
    "        pre_edge(dat)  # Perform pre-edge correction\n",
    "        emin = min(emin, dat.e0)\n",
    "        emax = max(emax, dat.e0)\n",
    "    \n",
    "    # Interpolate the data to a uniform energy grid\n",
    "    xmu = []\n",
    "    xvals = np.linspace(emin - 10, emax + 200, 1000)\n",
    "    \n",
    "    for file in file_list:\n",
    "        index = int(splitext(basename(file))[0])\n",
    "        dat = pd.read_csv(file)\n",
    "        yvals = np.interp(xvals, dat.energy, dat.mu)\n",
    "        \n",
    "        # Store the interpolated data for plotting\n",
    "        if index == plot:\n",
    "            plot_dat_new = (xvals, yvals)\n",
    "        \n",
    "        xmu.append((index, yvals))\n",
    "    \n",
    "    # Sort xmu data by index and extract the y-values\n",
    "    xmu.sort(key=lambda x: x[0])\n",
    "    xmu = [x[1] for x in xmu]\n",
    "    \n",
    "    # Plot the original and interpolated xmu data if 'plot' is set\n",
    "    if plot and plot_dat_new is not None:\n",
    "        plt.figure(figsize=(14, 6))\n",
    "        plt.subplot(1, 2, 1)\n",
    "        plt.plot(plot_dat.energy, plot_dat.mu)  # Original data\n",
    "        plt.subplot(1, 2, 2)\n",
    "        plt.plot(plot_dat_new[0], plot_dat_new[1])  # Interpolated data\n",
    "        plt.show()\n",
    "    \n",
    "    # Save the processed xmu data to CSV files if 'save_path' is specified\n",
    "    if save_path:\n",
    "        for i, file in enumerate(file_list):\n",
    "            dat = pd.DataFrame({\"energy\": xvals, \"mu\": xmu[i]})\n",
    "            dat.to_csv(join(save_path, basename(file)), index=False)\n",
    "    \n",
    "    return xmu\n",
    "\n",
    "# Function to read norm spectrum data, perform pre-edge correction, and return the processed data\n",
    "def get_norm(path, n=-1, save_path=False, plot=False):\n",
    "    plot_dat = None\n",
    "    plot_dat_new = None\n",
    "    emin, emax = float('inf'), float('-inf')\n",
    "    \n",
    "    # Sort CSV files and limit to 'n' files\n",
    "    file_list = sorted(glob.glob(join(path, \"*.csv\")), key=lambda x: int(splitext(basename(x))[0]))[:n]\n",
    "    \n",
    "    for file in file_list:\n",
    "        index = int(splitext(basename(file))[0])\n",
    "        dat = pd.read_csv(file)\n",
    "        \n",
    "        # Store the data for plotting if 'plot' matches the current index\n",
    "        if index == plot:\n",
    "            plot_dat = dat\n",
    "        \n",
    "        dat = Group(energy=dat.energy, mu=dat.norm)\n",
    "        pre_edge(dat)  # Perform pre-edge correction\n",
    "        emin = min(emin, dat.e0)\n",
    "        emax = max(emax, dat.e0)\n",
    "    \n",
    "    # Interpolate the data to a uniform energy grid\n",
    "    norm = []\n",
    "    xvals = np.linspace(emin - 30, emax + 400, 500)\n",
    "    \n",
    "    for file in file_list:\n",
    "        index = int(splitext(basename(file))[0])\n",
    "        dat = pd.read_csv(file)\n",
    "        yvals = np.interp(xvals, dat.energy, dat.norm)\n",
    "        \n",
    "        # Store the interpolated data for plotting\n",
    "        if index == plot:\n",
    "            plot_dat_new = (xvals, yvals)\n",
    "        \n",
    "        norm.append((index, yvals))\n",
    "    \n",
    "    # Sort norm data by index and extract the y-values\n",
    "    norm.sort(key=lambda x: x[0])\n",
    "    norm = [x[1] for x in norm]\n",
    "    \n",
    "    # Plot the original and interpolated norm data if 'plot' is set\n",
    "    if plot and plot_dat_new is not None:\n",
    "        plt.figure(figsize=(14, 6))\n",
    "        plt.subplot(1, 2, 1)\n",
    "        plt.plot(plot_dat.energy, plot_dat.norm)  # Original data\n",
    "        plt.subplot(1, 2, 2)\n",
    "        plt.plot(plot_dat_new[0], plot_dat_new[1])  # Interpolated data\n",
    "        plt.show()\n",
    "    \n",
    "    # Save the processed norm data to CSV files if 'save_path' is specified\n",
    "    if save_path:\n",
    "        for i, file in enumerate(file_list):\n",
    "            dat = pd.DataFrame({\"energy\": xvals, \"norm\": norm[i]})\n",
    "            dat.to_csv(join(save_path, basename(file)), index=False)\n",
    "    \n",
    "    return norm\n",
    "\n",
    "# Function to read RDF (Radial Distribution Function) data and return the processed data\n",
    "def get_rdf(path, n=-1, save_path=False, plot=False):\n",
    "    plot_dat = None\n",
    "    rdf = []\n",
    "    \n",
    "    # Sort CSV files and limit to 'n' files\n",
    "    file_list = sorted(glob.glob(join(path, \"*.csv\")), key=lambda x: int(splitext(basename(x))[0]))[:n]\n",
    "    \n",
    "    for file in file_list:\n",
    "        index = int(splitext(basename(file))[0])\n",
    "        dat = pd.read_csv(file)\n",
    "        \n",
    "        # Save the data to the specified path if 'save_path' is set\n",
    "        if save_path:\n",
    "            dat.to_csv(join(save_path, basename(file)), index=False)\n",
    "        \n",
    "        # Store the data for plotting if 'plot' matches the current index\n",
    "        if index == plot:\n",
    "            plot_dat = dat\n",
    "        \n",
    "        rdf.append((index, dat['g(r)'].values))\n",
    "    \n",
    "    # Sort RDF data by index and extract the g(r) values\n",
    "    rdf.sort(key=lambda x: x[0])\n",
    "    rdf = [x[1] for x in rdf]\n",
    "    \n",
    "    # Plot the RDF data if 'plot' is set\n",
    "    if plot and plot_dat is not None:\n",
    "        plt.figure(figsize=(10, 6))\n",
    "        plt.plot(plot_dat['r'], plot_dat['g(r)'])  # RDF plot\n",
    "        plt.xlabel(\"r\")\n",
    "        plt.ylabel(\"g(r)\")\n",
    "        plt.title(\"RDF Plot\")\n",
    "        plt.show()\n",
    "    \n",
    "    return np.array(rdf)\n",
    "#Function to read wavelet change data\n",
    "def get_wt(path, rate=1200, n=40, save_path=False, plot=False):\n",
    "    if save_path:\n",
    "        save_path1, save_path2 = join(save_path, \"1\"), join(save_path, \"2\")\n",
    "        if not os.path.exists(save_path1):\n",
    "            os.makedirs(save_path1)\n",
    "        if not os.path.exists(save_path2):\n",
    "            os.makedirs(save_path2)\n",
    "    file_list = sorted(glob.glob(join(path, \"*.csv\")), key=lambda x: int(splitext(basename(x))[0]))[:n]\n",
    "    dat = pd.read_csv(file_list[0])\n",
    "    k_list, r_list = sorted(list(set(dat.k.values))), sorted(list(set(dat.r.values)))\n",
    "    if 0 in k_list:\n",
    "        k_list.remove(0.0)\n",
    "    k_list, r_list = k_list[::math.ceil(len(k_list)/40)], r_list[::math.ceil(len(r_list)/40)]\n",
    "    \n",
    "    wt = np.array([])\n",
    "    all_dat = []\n",
    "    for file in file_list:\n",
    "        index = int(splitext(basename(file))[0])\n",
    "        dat = pd.read_csv(file)\n",
    "        dat = dat[dat['k'].isin(k_list)]\n",
    "        dat = dat[dat['r'].isin(r_list)]\n",
    "        dat.index = range(len(dat))\n",
    "        all_dat.append(dat)\n",
    "        \n",
    "        if save_path1:\n",
    "            dat.to_csv(join(save_path1, basename(file)), index=False)\n",
    "        if len(wt) == 0:\n",
    "            wt = dat.mag.values.reshape(1, -1)\n",
    "        else:\n",
    "            wt = np.concatenate((wt, dat.mag.values.reshape(1, -1)), axis=0)\n",
    "    \n",
    "    var = np.var(wt, axis=0)\n",
    "    index_list = np.where(var > sorted(var, reverse=True)[rate])[0]\n",
    "    index_list_ = np.where(var <= sorted(var, reverse=True)[rate])[0]\n",
    "    new_wt = wt[:, index_list]\n",
    "    \n",
    "    if plot:\n",
    "        plt.figure(figsize=(14, 6))\n",
    "        plt.subplot(1, 2, 1)\n",
    "        x, y = np.meshgrid(k_list, r_list)\n",
    "        z = wt[plot, :].reshape((33, 40))\n",
    "        plt.contourf(x, y, z, cmap=plt.cm.bwr, levels=40)\n",
    "        plt.xlabel(r'Wavenumber k $(\\AA^{-1})$', fontsize=15)\n",
    "        plt.ylabel(r'Radial distance R $(\\AA^{-1})$', fontsize=12)\n",
    "        plt.title(\"Wavelet Transform: Magnitude\", fontsize=15)\n",
    "        \n",
    "        plt.subplot(1, 2, 2)\n",
    "        x, y = np.meshgrid(k_list, r_list)\n",
    "        z = wt[plot, :]\n",
    "        z[[index_list_]] = 0\n",
    "        z = z.reshape((33, 40))\n",
    "        plt.contourf(x, y, z, cmap=plt.cm.bwr, levels=40)\n",
    "        plt.xlabel(r'Wavenumber k $(\\AA^{-1})$', fontsize=15)\n",
    "        plt.ylabel(r'Radial distance R $(\\AA^{-1})$', fontsize=12)\n",
    "        plt.title(\"Wavelet Transform: Magnitude\", fontsize=15)\n",
    "        \n",
    "        plt.show()\n",
    "    if save_path2:\n",
    "        for file, dat in zip(file_list, all_dat):\n",
    "            dat = dat.loc[index_list, :]\n",
    "            dat.index = range(len(dat))\n",
    "            dat.to_csv(join(save_path2, basename(file)), index=False)\n",
    "    return new_wt"
   ]
  },
  {
   "cell_type": "markdown",
   "id": "718e13eb-466d-423b-8ea3-172afb01e12e",
   "metadata": {},
   "source": [
    "#   Main program"
   ]
  },
  {
   "cell_type": "code",
   "execution_count": 5,
   "id": "ebd8dd54-ddbb-4477-b40b-1f9a3299bfde",
   "metadata": {
    "ExecuteTime": {
     "end_time": "2025-01-21T01:43:39.746499Z",
     "start_time": "2025-01-21T01:31:38.271654Z"
    }
   },
   "outputs": [
    {
     "data": {
      "image/png": "[encoded data removed]",
      "text/plain": [
       "<Figure size 432x288 with 1 Axes>"
      ]
     },
     "metadata": {
      "needs_background": "light"
     },
     "output_type": "display_data"
    },
    {
     "name": "stdout",
     "output_type": "stream",
     "text": [
      "fature_chi finished\n"
     ]
    },
    {
     "data": {
      "image/png": "[encoded data removed]",
      "text/plain": [
       "<Figure size 1008x432 with 2 Axes>"
      ]
     },
     "metadata": {
      "needs_background": "light"
     },
     "output_type": "display_data"
    },
    {
     "name": "stdout",
     "output_type": "stream",
     "text": [
      "fature_xmu finished\n"
     ]
    },
    {
     "data": {
      "image/png": "[encoded data removed]",
      "text/plain": [
       "<Figure size 720x432 with 1 Axes>"
      ]
     },
     "metadata": {
      "needs_background": "light"
     },
     "output_type": "display_data"
    },
    {
     "name": "stdout",
     "output_type": "stream",
     "text": [
      "fature_rdf finished\n"
     ]
    }
   ],
   "source": [
    "def process_data(features,n):\n",
    "    if 'chi' in features:\n",
    "        chi = get_chi(chi_path, save_path=save_chi_path, n=n, plot=1)\n",
    "        print(f\"fature_chi finished\")\n",
    "    if 'xmu' in features:\n",
    "        xmu = get_xmu(xmu_path, save_path=save_xmu_path, n=n, plot=1)\n",
    "        print(f\"fature_xmu finished\")\n",
    "    if 'norm' in features:\n",
    "        norm = get_norm(norm_path, save_path=save_norm_path, n=n, plot=1)\n",
    "        print(f\"fature_norm finished\")\n",
    "    if 'rdf' in features:\n",
    "        rdf = get_rdf(rdf_path, save_path=save_rdf_path, n=n, plot=1)\n",
    "        print(f\"fature_rdf finished\")\n",
    "    if 'wt' in features:\n",
    "        wt = get_wt(wt_path, n=n, save_path=save_wt_path, rate=150, plot=1)\n",
    "        print(f\"fature_wt finished\")\n",
    "process_data(features, n)\n"
   ]
  },
  {
   "cell_type": "code",
   "execution_count": 6,
   "id": "8be6280f",
   "metadata": {
    "ExecuteTime": {
     "end_time": "2025-01-21T01:43:39.754883Z",
     "start_time": "2025-01-21T01:43:39.748197Z"
    }
   },
   "outputs": [
    {
     "name": "stdout",
     "output_type": "stream",
     "text": [
      "All label files have been copied to the 'prepare' subfolders successfully. ✅\n"
     ]
    }
   ],
   "source": [
    "for label_type in label_types:\n",
    "    label_path = os.path.join(load_path, label_type)\n",
    "    target_folder = os.path.join(prepare_path, label_type)\n",
    "    os.makedirs(target_folder, exist_ok=True)\n",
    "    if os.path.exists(label_path):  \n",
    "        for item in os.listdir(label_path):\n",
    "            source_item = os.path.join(label_path, item)\n",
    "            destination_item = os.path.join(target_folder, item)\n",
    "\n",
    "            if os.path.isdir(source_item):\n",
    "                shutil.copytree(source_item, destination_item, dirs_exist_ok=True)\n",
    "            else:\n",
    "                shutil.copy2(source_item, destination_item)\n",
    "\n",
    "print(\"All label files have been copied to the 'prepare' subfolders successfully. ✅\")"
   ]
  },
  {
   "cell_type": "code",
   "execution_count": null,
   "id": "dbe77d83",
   "metadata": {},
   "outputs": [],
   "source": []
  }
 ],
 "metadata": {
  "kernelspec": {
   "display_name": "Python 3 (ipykernel)",
   "language": "python",
   "name": "python3"
  },
  "language_info": {
   "codemirror_mode": {
    "name": "ipython",
    "version": 3
   },
   "file_extension": ".py",
   "mimetype": "text/x-python",
   "name": "python",
   "nbconvert_exporter": "python",
   "pygments_lexer": "ipython3",
   "version": "3.11.4"
  },
  "toc": {
   "base_numbering": 1,
   "nav_menu": {},
   "number_sections": true,
   "sideBar": true,
   "skip_h1_title": false,
   "title_cell": "Table of Contents",
   "title_sidebar": "Contents",
   "toc_cell": false,
   "toc_position": {},
   "toc_section_display": true,
   "toc_window_display": false
  }
 },
 "nbformat": 4,
 "nbformat_minor": 5
}
