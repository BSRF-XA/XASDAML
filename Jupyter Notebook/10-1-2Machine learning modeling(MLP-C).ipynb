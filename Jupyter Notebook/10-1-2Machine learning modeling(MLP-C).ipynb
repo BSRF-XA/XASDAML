{
 "cells": [
  {
   "cell_type": "markdown",
   "id": "bac92299",
   "metadata": {},
   "source": [
    "# Program Description: Machine Learning Modeling (MLP - Classification)\n",
    "\n",
    "## Overview:\n",
    "- This module is responsible for building a **classification model** using a **multi-layer perceptron (MLP)** neural network. \n",
    "- The model is trained using the dataset output from **Module 9**, which contains **normalized data**.\n",
    "- After training, the best model is saved, and predictions are made on the test set.\n",
    "\n",
    "## Key Steps:\n",
    "\n",
    "1. **Dataset Input:**\n",
    "   - The feature and label datasets for training and validation are read from the output of **Module 9**.\n",
    "   - These datasets are preprocessed and normalized.\n",
    "\n",
    "2. **Model Building:**\n",
    "   - A multi-layer perceptron (MLP) neural network model is constructed and trained on the data.\n",
    "   - The best-performing model during training is saved for future use.\n",
    "\n",
    "3. **Prediction and Evaluation:**\n",
    "   - The trained model is used to make predictions on the validation or test dataset.\n",
    "   - Model performance is evaluated using relevant classification metrics (accuracy, F1 score, etc.).\n",
    "\n",
    "4. **Output:**\n",
    "   - The trained model is saved in the `datasets-ml` folder within the current working directory.\n",
    "   - Each run saves the model with a unique timestamp in the format: `MLPmodel--{current_time}`.\n",
    "\n",
    "## Output Files:\n",
    "- **Trained Model:**\n",
    "  - Stored in the `datasets-ml` folder under a file name containing the timestamp.\n",
    "  - Example: `MLPmodel--{current_time}.h5`.\n",
    "\n",
    "- **Predictions:**\n",
    "  - The model's predictions are saved in a separate file (e.g., `predictions.csv`) for later analysis.\n",
    "\n",
    "## Logging and Monitoring:\n",
    "- Logs are generated to track the training progress, dataset sizes, and model performance metrics.\n"
   ]
  },
  {
   "cell_type": "markdown",
   "id": "b7fb63f8",
   "metadata": {},
   "source": [
    "contacts：zhaohf@ihep.ac.cn"
   ]
  },
  {
   "cell_type": "markdown",
   "id": "f11d7181",
   "metadata": {},
   "source": [
    "#  Import libraries"
   ]
  },
  {
   "cell_type": "code",
   "execution_count": 1,
   "id": "b96f9e27",
   "metadata": {
    "ExecuteTime": {
     "end_time": "2025-01-21T02:03:02.886835Z",
     "start_time": "2025-01-21T02:03:00.171305Z"
    }
   },
   "outputs": [
    {
     "name": "stderr",
     "output_type": "stream",
     "text": [
      "2025-01-21 10:03:01.484884: I tensorflow/core/util/util.cc:169] oneDNN custom operations are on. You may see slightly different numerical results due to floating-point round-off errors from different computation orders. To turn them off, set the environment variable `TF_ENABLE_ONEDNN_OPTS=0`.\n"
     ]
    }
   ],
   "source": [
    "import os\n",
    "import sys\n",
    "import pkg_resources\n",
    "import numpy as np\n",
    "import matplotlib.pyplot as plt\n",
    "import seaborn as sns\n",
    "import joblib\n",
    "import logging\n",
    "from datetime import datetime\n",
    "from tensorflow.keras import regularizers\n",
    "import keras.callbacks\n",
    "from IPython.display import Image, display\n",
    "from tensorflow.keras.utils import plot_model\n",
    "from tensorflow.keras.models import Sequential, load_model\n",
    "from tensorflow.keras.layers import Dense, Dropout\n",
    "from tensorflow.keras.optimizers import Adam\n",
    "from tensorflow.keras.callbacks import ModelCheckpoint, EarlyStopping\n",
    "from tensorflow.keras.utils import to_categorical\n",
    "from tensorflow.keras.regularizers import l2\n",
    "from sklearn.metrics import mean_squared_error, r2_score\n",
    "from sklearn.preprocessing import StandardScaler\n",
    "from sklearn.model_selection import ParameterSampler, StratifiedKFold\n",
    "from sklearn.metrics import accuracy_score, confusion_matrix, classification_report, log_loss\n"
   ]
  },
  {
   "cell_type": "markdown",
   "id": "9bbe171c",
   "metadata": {},
   "source": [
    "##  Version Information"
   ]
  },
  {
   "cell_type": "code",
   "execution_count": 2,
   "id": "f381c116",
   "metadata": {
    "ExecuteTime": {
     "end_time": "2025-01-21T02:03:02.895438Z",
     "start_time": "2025-01-21T02:03:02.889119Z"
    }
   },
   "outputs": [
    {
     "name": "stdout",
     "output_type": "stream",
     "text": [
      "tensorflow: 2.9.1\n",
      "numpy: 1.23.5\n",
      "joblib: 1.4.0\n",
      "matplotlib: 3.7.5\n",
      "seaborn: 0.13.2\n",
      "sklearn: 1.3.2\n",
      "Python: 3.8.15 | packaged by conda-forge | (default, Nov 22 2022, 08:46:39) \n",
      "[GCC 10.4.0]\n"
     ]
    }
   ],
   "source": [
    "def get_python_version():\n",
    "    return sys.version\n",
    "def get_package_version(package_name):\n",
    "    try:\n",
    "        module = __import__(package_name)\n",
    "        version = getattr(module, '__version__', None)\n",
    "        if version:\n",
    "            return version\n",
    "        else:\n",
    "            return pkg_resources.get_distribution(package_name).version\n",
    "    except (ImportError, AttributeError, pkg_resources.DistributionNotFound):\n",
    "        return \"Version info not found\"\n",
    "\n",
    "packages = ['tensorflow', 'numpy', 'joblib', 'matplotlib','seaborn','sklearn']\n",
    "for package in packages:\n",
    "    print(f\"{package}: {get_package_version(package)}\")\n",
    "print(f\"Python: {get_python_version()}\")"
   ]
  },
  {
   "cell_type": "markdown",
   "id": "b1781fe8",
   "metadata": {},
   "source": [
    "# Parameter Settings (Input File, Output File)\n",
    "\n",
    "## Input File Path:\n",
    "- `dir_data`: Specifies the directory where the preprocessed dataset is located.\n",
    "- The dataset includes **training**, **validation**, and **test** sets generated in **Module 9**.\n",
    "- Example: `'0926-datasets/datasets(JmolNN)-pre-xmu-cn'`.\n",
    "\n",
    "## Output File Path:\n",
    "- `output_path`: The directory where the trained model will be saved.\n",
    "- The model and logs will be stored under the `datasets-ml` folder in the current working path.\n",
    "- Example: `'0926-datasets-ml/ml-cn-xmu-(JmolNN)'`.\n",
    "\n",
    "## Model Output File Name:\n",
    "- `dir_output`: The output save file name, which includes a timestamp (`current_time`), ensuring a unique file name for each run.\n",
    "- Example: `'MLPmodel-{current_time}'` where `{current_time}` is the timestamp formatted as `YYYYMMDD_HHMM`.\n",
    "\n",
    "## Logging Configuration:\n",
    "- A log file (`training_log.txt`) will be generated to track the training progress, dataset sizes, and model details.\n",
    "- The log is stored in the output directory, providing real-time updates for monitoring.\n",
    "\n",
    "## Data Loading:\n",
    "- `file_train_feature`, `file_train_label`: Specifies the file paths for training features and labels.\n",
    "- `file_valid_feature`, `file_valid_label`: Specifies the file paths for validation features and labels.\n",
    "- `file_test_feature`, `file_test_label`: Specifies the file paths for test features and labels.\n"
   ]
  },
  {
   "cell_type": "code",
   "execution_count": 3,
   "id": "30d151bd",
   "metadata": {
    "ExecuteTime": {
     "end_time": "2025-01-21T02:03:04.790413Z",
     "start_time": "2025-01-21T02:03:02.896717Z"
    }
   },
   "outputs": [
    {
     "name": "stdout",
     "output_type": "stream",
     "text": [
      "File '0926-datasets/datasets(JmolNN)-pre-xmu-cn' exists.\n"
     ]
    },
    {
     "name": "stderr",
     "output_type": "stream",
     "text": [
      "Training set size: X_train: (3465, 1000), y_train: (3465,)\n",
      "Validation set size: X_valid: (990, 1000), y_valid: (990,)\n",
      "Test set size: X_test: (495, 1000), y_test: (495,)\n",
      "Unique labels in y_train: [ 3.  4.  5.  6.  7.  8.  9. 10. 11. 12.]\n",
      "Unique labels in y_valid: [ 3.  4.  5.  6.  7.  8.  9. 10. 11. 12.]\n",
      "Unique labels in y_test: [ 2.  3.  4.  5.  6.  7.  8.  9. 10. 11. 12.]\n"
     ]
    },
    {
     "name": "stdout",
     "output_type": "stream",
     "text": [
      "Training set size: X_train: (3465, 1000), y_train: (3465,)\n",
      "Validation set size: X_valid: (990, 1000), y_valid: (990,)\n",
      "Test set size: X_test: (495, 1000), y_test: (495,)\n",
      "Unique labels in y_train: [ 3.  4.  5.  6.  7.  8.  9. 10. 11. 12.]\n",
      "Unique labels in y_valid: [ 3.  4.  5.  6.  7.  8.  9. 10. 11. 12.]\n",
      "Unique labels in y_test: [ 2.  3.  4.  5.  6.  7.  8.  9. 10. 11. 12.]\n"
     ]
    }
   ],
   "source": [
    "# Set input file path\n",
    "dir_data = '0926-datasets/datasets(JmolNN)-pre-xmu-cn'\n",
    "# Set output file save path\n",
    "output_path = '0926-datasets-ml/ml-cn-xmu-(JmolNN)'\n",
    "current_time = datetime.now().strftime(\"%Y%m%d_%H%M\")\n",
    "# Output save file name and add timestamp\n",
    "dir_output=os.path.join(output_path,f'MLPmodel-{current_time}')\n",
    "# Check if the input path exists\n",
    "if os.path.exists(dir_data):\n",
    "    print(f\"File '{dir_data}' exists.\")\n",
    "else:\n",
    "    raise FileNotFoundError(f\"File '{dir_data}' does not exist.\")\n",
    "os.makedirs(dir_output, exist_ok=True)\n",
    "os.makedirs(dir_output, exist_ok=True)\n",
    "# Load training, validation, and test datasets\n",
    "file_train_feature = os.path.join(dir_data, 'xmu_train_JmolNN.txt')\n",
    "file_train_label = os.path.join(dir_data, 'label_cn_train_JmolNN.txt')\n",
    "file_valid_feature = os.path.join(dir_data, 'xmu_valid_JmolNN.txt')\n",
    "file_valid_label = os.path.join(dir_data, 'label_cn_valid_JmolNN.txt')\n",
    "file_test_feature = os.path.join(dir_data, 'xmu_test_JmolNN.txt')\n",
    "file_test_label = os.path.join(dir_data, 'label_cn_test_JmolNN.txt')\n",
    "log_file_path = os.path.join(dir_output, 'training_log.txt')\n",
    "logging.basicConfig(level=logging.INFO, format='%(message)s', handlers=[logging.FileHandler(log_file_path), logging.StreamHandler()])\n",
    "# Read data\n",
    "X_train = np.loadtxt(file_train_feature)\n",
    "y_train = np.loadtxt(file_train_label, dtype=float)\n",
    "X_valid = np.loadtxt(file_valid_feature)\n",
    "y_valid = np.loadtxt(file_valid_label, dtype=float)\n",
    "X_test = np.loadtxt(file_test_feature)\n",
    "y_test = np.loadtxt(file_test_label, dtype=float)\n",
    "# Prepare messages for dataset sizes\n",
    "train_size_message = f\"Training set size: X_train: {X_train.shape}, y_train: {y_train.shape}\"\n",
    "valid_size_message = f\"Validation set size: X_valid: {X_valid.shape}, y_valid: {y_valid.shape}\"\n",
    "test_size_message = f\"Test set size: X_test: {X_test.shape}, y_test: {y_test.shape}\"\n",
    "print(train_size_message)\n",
    "print(valid_size_message)\n",
    "print(test_size_message)\n",
    "# Log dataset sizes\n",
    "logging.info(train_size_message)\n",
    "logging.info(valid_size_message)\n",
    "logging.info(test_size_message)\n",
    "print(\"Unique labels in y_train:\", np.unique(y_train))\n",
    "print(\"Unique labels in y_valid:\", np.unique(y_valid))\n",
    "print(\"Unique labels in y_test:\", np.unique(y_test))\n",
    "logging.info(f\"Unique labels in y_train: {np.unique(y_train)}\")\n",
    "logging.info(f\"Unique labels in y_valid: {np.unique(y_valid)}\")\n",
    "logging.info(f\"Unique labels in y_test: {np.unique(y_test)}\")"
   ]
  },
  {
   "cell_type": "markdown",
   "id": "58f54c6c",
   "metadata": {},
   "source": [
    "# Build a MLP classification model and save the best model results"
   ]
  },
  {
   "cell_type": "code",
   "execution_count": 4,
   "id": "81c4ac69",
   "metadata": {
    "ExecuteTime": {
     "end_time": "2025-01-21T02:04:50.763737Z",
     "start_time": "2025-01-21T02:03:04.794506Z"
    }
   },
   "outputs": [
    {
     "name": "stderr",
     "output_type": "stream",
     "text": [
      "2025-01-21 10:03:04.813779: I tensorflow/core/platform/cpu_feature_guard.cc:193] This TensorFlow binary is optimized with oneAPI Deep Neural Network Library (oneDNN) to use the following CPU instructions in performance-critical operations:  SSE4.1 SSE4.2 AVX AVX2 AVX512F AVX512_VNNI FMA\n",
      "To enable them in other operations, rebuild TensorFlow with the appropriate compiler flags.\n"
     ]
    },
    {
     "name": "stdout",
     "output_type": "stream",
     "text": [
      "Epoch 1/100\n",
      "107/109 [============================>.] - ETA: 0s - loss: 4.0390 - accuracy: 0.3989 - mae: 0.1239\n",
      "Epoch 1: val_accuracy improved from -inf to 0.42222, saving model to 0926-datasets-ml/ml-cn-xmu-(JmolNN)/MLPmodel-20250121_1003/best_model.h5\n"
     ]
    },
    {
     "name": "stderr",
     "output_type": "stream",
     "text": [
      "Epoch 1, Loss: 4.0242, Accuracy: 0.3994, Val_Loss: 2.8290, Val_Accuracy: 0.4222\n"
     ]
    },
    {
     "name": "stdout",
     "output_type": "stream",
     "text": [
      "109/109 [==============================] - 2s 10ms/step - loss: 4.0242 - accuracy: 0.3994 - mae: 0.1237 - val_loss: 2.8290 - val_accuracy: 0.4222 - val_mae: 0.1166\n",
      "Epoch 2/100\n",
      "103/109 [===========================>..] - ETA: 0s - loss: 2.3844 - accuracy: 0.4463 - mae: 0.1185\n",
      "Epoch 2: val_accuracy improved from 0.42222 to 0.42626, saving model to 0926-datasets-ml/ml-cn-xmu-(JmolNN)/MLPmodel-20250121_1003/best_model.h5\n"
     ]
    },
    {
     "name": "stderr",
     "output_type": "stream",
     "text": [
      "Epoch 2, Loss: 2.3624, Accuracy: 0.4499, Val_Loss: 2.0467, Val_Accuracy: 0.4263\n"
     ]
    },
    {
     "name": "stdout",
     "output_type": "stream",
     "text": [
      "109/109 [==============================] - 1s 7ms/step - loss: 2.3624 - accuracy: 0.4499 - mae: 0.1182 - val_loss: 2.0467 - val_accuracy: 0.4263 - val_mae: 0.1158\n",
      "Epoch 3/100\n",
      " 99/109 [==========================>...] - ETA: 0s - loss: 1.8423 - accuracy: 0.4558 - mae: 0.1171\n",
      "Epoch 3: val_accuracy improved from 0.42626 to 0.46465, saving model to 0926-datasets-ml/ml-cn-xmu-(JmolNN)/MLPmodel-20250121_1003/best_model.h5\n"
     ]
    },
    {
     "name": "stderr",
     "output_type": "stream",
     "text": [
      "Epoch 3, Loss: 1.8285, Accuracy: 0.4609, Val_Loss: 1.6686, Val_Accuracy: 0.4646\n"
     ]
    },
    {
     "name": "stdout",
     "output_type": "stream",
     "text": [
      "109/109 [==============================] - 1s 7ms/step - loss: 1.8285 - accuracy: 0.4609 - mae: 0.1171 - val_loss: 1.6686 - val_accuracy: 0.4646 - val_mae: 0.1169\n",
      "Epoch 4/100\n",
      "106/109 [============================>.] - ETA: 0s - loss: 1.5754 - accuracy: 0.4711 - mae: 0.1154\n",
      "Epoch 4: val_accuracy did not improve from 0.46465\n"
     ]
    },
    {
     "name": "stderr",
     "output_type": "stream",
     "text": [
      "Epoch 4, Loss: 1.5761, Accuracy: 0.4710, Val_Loss: 1.5239, Val_Accuracy: 0.4535\n"
     ]
    },
    {
     "name": "stdout",
     "output_type": "stream",
     "text": [
      "109/109 [==============================] - 1s 8ms/step - loss: 1.5761 - accuracy: 0.4710 - mae: 0.1154 - val_loss: 1.5239 - val_accuracy: 0.4535 - val_mae: 0.1156\n",
      "Epoch 5/100\n",
      "109/109 [==============================] - ETA: 0s - loss: 1.4805 - accuracy: 0.4531 - mae: 0.1162\n",
      "Epoch 5: val_accuracy did not improve from 0.46465\n"
     ]
    },
    {
     "name": "stderr",
     "output_type": "stream",
     "text": [
      "Epoch 5, Loss: 1.4805, Accuracy: 0.4531, Val_Loss: 1.4267, Val_Accuracy: 0.4626\n"
     ]
    },
    {
     "name": "stdout",
     "output_type": "stream",
     "text": [
      "109/109 [==============================] - 1s 7ms/step - loss: 1.4805 - accuracy: 0.4531 - mae: 0.1162 - val_loss: 1.4267 - val_accuracy: 0.4626 - val_mae: 0.1149\n",
      "Epoch 6/100\n",
      "107/109 [============================>.] - ETA: 0s - loss: 1.4078 - accuracy: 0.4740 - mae: 0.1150\n",
      "Epoch 6: val_accuracy improved from 0.46465 to 0.48990, saving model to 0926-datasets-ml/ml-cn-xmu-(JmolNN)/MLPmodel-20250121_1003/best_model.h5\n"
     ]
    },
    {
     "name": "stderr",
     "output_type": "stream",
     "text": [
      "Epoch 6, Loss: 1.4071, Accuracy: 0.4745, Val_Loss: 1.3676, Val_Accuracy: 0.4899\n"
     ]
    },
    {
     "name": "stdout",
     "output_type": "stream",
     "text": [
      "109/109 [==============================] - 1s 7ms/step - loss: 1.4071 - accuracy: 0.4745 - mae: 0.1150 - val_loss: 1.3676 - val_accuracy: 0.4899 - val_mae: 0.1130\n",
      "Epoch 7/100\n",
      "109/109 [==============================] - ETA: 0s - loss: 1.3536 - accuracy: 0.4805 - mae: 0.1131\n",
      "Epoch 7: val_accuracy improved from 0.48990 to 0.50303, saving model to 0926-datasets-ml/ml-cn-xmu-(JmolNN)/MLPmodel-20250121_1003/best_model.h5\n"
     ]
    },
    {
     "name": "stderr",
     "output_type": "stream",
     "text": [
      "Epoch 7, Loss: 1.3536, Accuracy: 0.4805, Val_Loss: 1.3035, Val_Accuracy: 0.5030\n"
     ]
    },
    {
     "name": "stdout",
     "output_type": "stream",
     "text": [
      "109/109 [==============================] - 1s 8ms/step - loss: 1.3536 - accuracy: 0.4805 - mae: 0.1131 - val_loss: 1.3035 - val_accuracy: 0.5030 - val_mae: 0.1129\n",
      "Epoch 8/100\n",
      "106/109 [============================>.] - ETA: 0s - loss: 1.3529 - accuracy: 0.4738 - mae: 0.1136\n",
      "Epoch 8: val_accuracy did not improve from 0.50303\n"
     ]
    },
    {
     "name": "stderr",
     "output_type": "stream",
     "text": [
      "Epoch 8, Loss: 1.3516, Accuracy: 0.4765, Val_Loss: 1.3073, Val_Accuracy: 0.4859\n"
     ]
    },
    {
     "name": "stdout",
     "output_type": "stream",
     "text": [
      "109/109 [==============================] - 1s 7ms/step - loss: 1.3516 - accuracy: 0.4765 - mae: 0.1134 - val_loss: 1.3073 - val_accuracy: 0.4859 - val_mae: 0.1119\n",
      "Epoch 9/100\n",
      "109/109 [==============================] - ETA: 0s - loss: 1.3118 - accuracy: 0.4895 - mae: 0.1116\n",
      "Epoch 9: val_accuracy improved from 0.50303 to 0.52222, saving model to 0926-datasets-ml/ml-cn-xmu-(JmolNN)/MLPmodel-20250121_1003/best_model.h5\n"
     ]
    },
    {
     "name": "stderr",
     "output_type": "stream",
     "text": [
      "Epoch 9, Loss: 1.3118, Accuracy: 0.4895, Val_Loss: 1.2959, Val_Accuracy: 0.5222\n"
     ]
    },
    {
     "name": "stdout",
     "output_type": "stream",
     "text": [
      "109/109 [==============================] - 1s 8ms/step - loss: 1.3118 - accuracy: 0.4895 - mae: 0.1116 - val_loss: 1.2959 - val_accuracy: 0.5222 - val_mae: 0.1125\n",
      "Epoch 10/100\n",
      "109/109 [==============================] - ETA: 0s - loss: 1.2607 - accuracy: 0.5100 - mae: 0.1083\n",
      "Epoch 10: val_accuracy did not improve from 0.52222\n"
     ]
    },
    {
     "name": "stderr",
     "output_type": "stream",
     "text": [
      "Epoch 10, Loss: 1.2607, Accuracy: 0.5100, Val_Loss: 1.3396, Val_Accuracy: 0.4838\n"
     ]
    },
    {
     "name": "stdout",
     "output_type": "stream",
     "text": [
      "109/109 [==============================] - 1s 9ms/step - loss: 1.2607 - accuracy: 0.5100 - mae: 0.1083 - val_loss: 1.3396 - val_accuracy: 0.4838 - val_mae: 0.1158\n",
      "Epoch 11/100\n",
      "107/109 [============================>.] - ETA: 0s - loss: 1.2558 - accuracy: 0.5143 - mae: 0.1073\n",
      "Epoch 11: val_accuracy improved from 0.52222 to 0.54141, saving model to 0926-datasets-ml/ml-cn-xmu-(JmolNN)/MLPmodel-20250121_1003/best_model.h5\n"
     ]
    },
    {
     "name": "stderr",
     "output_type": "stream",
     "text": [
      "Epoch 11, Loss: 1.2572, Accuracy: 0.5146, Val_Loss: 1.2706, Val_Accuracy: 0.5414\n"
     ]
    },
    {
     "name": "stdout",
     "output_type": "stream",
     "text": [
      "109/109 [==============================] - 1s 12ms/step - loss: 1.2572 - accuracy: 0.5146 - mae: 0.1074 - val_loss: 1.2706 - val_accuracy: 0.5414 - val_mae: 0.1069\n",
      "Epoch 12/100\n",
      "104/109 [===========================>..] - ETA: 0s - loss: 1.2498 - accuracy: 0.5123 - mae: 0.1068\n",
      "Epoch 12: val_accuracy did not improve from 0.54141\n"
     ]
    },
    {
     "name": "stderr",
     "output_type": "stream",
     "text": [
      "Epoch 12, Loss: 1.2506, Accuracy: 0.5134, Val_Loss: 1.3343, Val_Accuracy: 0.4778\n"
     ]
    },
    {
     "name": "stdout",
     "output_type": "stream",
     "text": [
      "109/109 [==============================] - 1s 11ms/step - loss: 1.2506 - accuracy: 0.5134 - mae: 0.1069 - val_loss: 1.3343 - val_accuracy: 0.4778 - val_mae: 0.1047\n",
      "Epoch 13/100\n",
      "107/109 [============================>.] - ETA: 0s - loss: 1.1957 - accuracy: 0.5356 - mae: 0.1035\n",
      "Epoch 13: val_accuracy did not improve from 0.54141\n"
     ]
    },
    {
     "name": "stderr",
     "output_type": "stream",
     "text": [
      "Epoch 13, Loss: 1.1946, Accuracy: 0.5359, Val_Loss: 1.3243, Val_Accuracy: 0.5051\n"
     ]
    },
    {
     "name": "stdout",
     "output_type": "stream",
     "text": [
      "109/109 [==============================] - 1s 8ms/step - loss: 1.1946 - accuracy: 0.5359 - mae: 0.1035 - val_loss: 1.3243 - val_accuracy: 0.5051 - val_mae: 0.1111\n",
      "Epoch 14/100\n",
      "106/109 [============================>.] - ETA: 0s - loss: 1.2119 - accuracy: 0.5315 - mae: 0.1034\n",
      "Epoch 14: val_accuracy did not improve from 0.54141\n"
     ]
    },
    {
     "name": "stderr",
     "output_type": "stream",
     "text": [
      "Epoch 14, Loss: 1.2071, Accuracy: 0.5351, Val_Loss: 1.1888, Val_Accuracy: 0.5222\n"
     ]
    },
    {
     "name": "stdout",
     "output_type": "stream",
     "text": [
      "109/109 [==============================] - 1s 12ms/step - loss: 1.2071 - accuracy: 0.5351 - mae: 0.1032 - val_loss: 1.1888 - val_accuracy: 0.5222 - val_mae: 0.1012\n",
      "Epoch 15/100\n",
      "107/109 [============================>.] - ETA: 0s - loss: 1.1260 - accuracy: 0.5724 - mae: 0.0966\n",
      "Epoch 15: val_accuracy did not improve from 0.54141\n"
     ]
    },
    {
     "name": "stderr",
     "output_type": "stream",
     "text": [
      "Epoch 15, Loss: 1.1274, Accuracy: 0.5717, Val_Loss: 1.4730, Val_Accuracy: 0.4172\n"
     ]
    },
    {
     "name": "stdout",
     "output_type": "stream",
     "text": [
      "109/109 [==============================] - 1s 11ms/step - loss: 1.1274 - accuracy: 0.5717 - mae: 0.0966 - val_loss: 1.4730 - val_accuracy: 0.4172 - val_mae: 0.1162\n",
      "Epoch 16/100\n",
      "101/109 [==========================>...] - ETA: 0s - loss: 1.1810 - accuracy: 0.5523 - mae: 0.1010\n",
      "Epoch 16: val_accuracy improved from 0.54141 to 0.58990, saving model to 0926-datasets-ml/ml-cn-xmu-(JmolNN)/MLPmodel-20250121_1003/best_model.h5\n"
     ]
    },
    {
     "name": "stderr",
     "output_type": "stream",
     "text": [
      "Epoch 16, Loss: 1.1769, Accuracy: 0.5532, Val_Loss: 1.1080, Val_Accuracy: 0.5899\n"
     ]
    },
    {
     "name": "stdout",
     "output_type": "stream",
     "text": [
      "109/109 [==============================] - 1s 10ms/step - loss: 1.1769 - accuracy: 0.5532 - mae: 0.1008 - val_loss: 1.1080 - val_accuracy: 0.5899 - val_mae: 0.0956\n",
      "Epoch 17/100\n",
      "107/109 [============================>.] - ETA: 0s - loss: 1.1291 - accuracy: 0.5680 - mae: 0.0965\n",
      "Epoch 17: val_accuracy did not improve from 0.58990\n"
     ]
    },
    {
     "name": "stderr",
     "output_type": "stream",
     "text": [
      "Epoch 17, Loss: 1.1268, Accuracy: 0.5694, Val_Loss: 1.0941, Val_Accuracy: 0.5758\n"
     ]
    },
    {
     "name": "stdout",
     "output_type": "stream",
     "text": [
      "109/109 [==============================] - 1s 10ms/step - loss: 1.1268 - accuracy: 0.5694 - mae: 0.0965 - val_loss: 1.0941 - val_accuracy: 0.5758 - val_mae: 0.0929\n",
      "Epoch 18/100\n",
      "104/109 [===========================>..] - ETA: 0s - loss: 1.0860 - accuracy: 0.5965 - mae: 0.0921\n",
      "Epoch 18: val_accuracy improved from 0.58990 to 0.61515, saving model to 0926-datasets-ml/ml-cn-xmu-(JmolNN)/MLPmodel-20250121_1003/best_model.h5\n"
     ]
    },
    {
     "name": "stderr",
     "output_type": "stream",
     "text": [
      "Epoch 18, Loss: 1.0919, Accuracy: 0.5922, Val_Loss: 1.0483, Val_Accuracy: 0.6152\n"
     ]
    },
    {
     "name": "stdout",
     "output_type": "stream",
     "text": [
      "109/109 [==============================] - 1s 12ms/step - loss: 1.0919 - accuracy: 0.5922 - mae: 0.0924 - val_loss: 1.0483 - val_accuracy: 0.6152 - val_mae: 0.0932\n",
      "Epoch 19/100\n",
      "104/109 [===========================>..] - ETA: 0s - loss: 1.0709 - accuracy: 0.5947 - mae: 0.0934\n",
      "Epoch 19: val_accuracy did not improve from 0.61515\n"
     ]
    },
    {
     "name": "stderr",
     "output_type": "stream",
     "text": [
      "Epoch 19, Loss: 1.0714, Accuracy: 0.5945, Val_Loss: 1.1233, Val_Accuracy: 0.6000\n"
     ]
    },
    {
     "name": "stdout",
     "output_type": "stream",
     "text": [
      "109/109 [==============================] - 1s 10ms/step - loss: 1.0714 - accuracy: 0.5945 - mae: 0.0934 - val_loss: 1.1233 - val_accuracy: 0.6000 - val_mae: 0.0931\n",
      "Epoch 20/100\n",
      "109/109 [==============================] - ETA: 0s - loss: 1.0924 - accuracy: 0.5838 - mae: 0.0942\n",
      "Epoch 20: val_accuracy did not improve from 0.61515\n"
     ]
    },
    {
     "name": "stderr",
     "output_type": "stream",
     "text": [
      "Epoch 20, Loss: 1.0924, Accuracy: 0.5838, Val_Loss: 1.0960, Val_Accuracy: 0.6051\n"
     ]
    },
    {
     "name": "stdout",
     "output_type": "stream",
     "text": [
      "109/109 [==============================] - 1s 11ms/step - loss: 1.0924 - accuracy: 0.5838 - mae: 0.0942 - val_loss: 1.0960 - val_accuracy: 0.6051 - val_mae: 0.0934\n",
      "Epoch 21/100\n",
      "105/109 [===========================>..] - ETA: 0s - loss: 1.0619 - accuracy: 0.5997 - mae: 0.0923\n",
      "Epoch 21: val_accuracy improved from 0.61515 to 0.62929, saving model to 0926-datasets-ml/ml-cn-xmu-(JmolNN)/MLPmodel-20250121_1003/best_model.h5\n"
     ]
    },
    {
     "name": "stderr",
     "output_type": "stream",
     "text": [
      "Epoch 21, Loss: 1.0610, Accuracy: 0.6000, Val_Loss: 1.0116, Val_Accuracy: 0.6293\n"
     ]
    },
    {
     "name": "stdout",
     "output_type": "stream",
     "text": [
      "109/109 [==============================] - 1s 12ms/step - loss: 1.0610 - accuracy: 0.6000 - mae: 0.0922 - val_loss: 1.0116 - val_accuracy: 0.6293 - val_mae: 0.0904\n",
      "Epoch 22/100\n",
      "101/109 [==========================>...] - ETA: 0s - loss: 1.0736 - accuracy: 0.5891 - mae: 0.0938\n",
      "Epoch 22: val_accuracy did not improve from 0.62929\n"
     ]
    },
    {
     "name": "stderr",
     "output_type": "stream",
     "text": [
      "Epoch 22, Loss: 1.0676, Accuracy: 0.5913, Val_Loss: 1.0219, Val_Accuracy: 0.6253\n"
     ]
    },
    {
     "name": "stdout",
     "output_type": "stream",
     "text": [
      "109/109 [==============================] - 1s 8ms/step - loss: 1.0676 - accuracy: 0.5913 - mae: 0.0935 - val_loss: 1.0219 - val_accuracy: 0.6253 - val_mae: 0.0902\n",
      "Epoch 23/100\n",
      "104/109 [===========================>..] - ETA: 0s - loss: 1.0770 - accuracy: 0.5968 - mae: 0.0940\n",
      "Epoch 23: val_accuracy did not improve from 0.62929\n"
     ]
    },
    {
     "name": "stderr",
     "output_type": "stream",
     "text": [
      "Epoch 23, Loss: 1.0717, Accuracy: 0.5991, Val_Loss: 1.0398, Val_Accuracy: 0.6162\n"
     ]
    },
    {
     "name": "stdout",
     "output_type": "stream",
     "text": [
      "109/109 [==============================] - 1s 11ms/step - loss: 1.0717 - accuracy: 0.5991 - mae: 0.0937 - val_loss: 1.0398 - val_accuracy: 0.6162 - val_mae: 0.0935\n",
      "Epoch 24/100\n",
      "106/109 [============================>.] - ETA: 0s - loss: 1.0031 - accuracy: 0.6200 - mae: 0.0885\n",
      "Epoch 24: val_accuracy did not improve from 0.62929\n"
     ]
    },
    {
     "name": "stderr",
     "output_type": "stream",
     "text": [
      "Epoch 24, Loss: 0.9994, Accuracy: 0.6208, Val_Loss: 1.0414, Val_Accuracy: 0.6061\n"
     ]
    },
    {
     "name": "stdout",
     "output_type": "stream",
     "text": [
      "109/109 [==============================] - 1s 11ms/step - loss: 0.9994 - accuracy: 0.6208 - mae: 0.0883 - val_loss: 1.0414 - val_accuracy: 0.6061 - val_mae: 0.0915\n",
      "Epoch 25/100\n",
      "104/109 [===========================>..] - ETA: 0s - loss: 0.9908 - accuracy: 0.6235 - mae: 0.0864\n",
      "Epoch 25: val_accuracy improved from 0.62929 to 0.64040, saving model to 0926-datasets-ml/ml-cn-xmu-(JmolNN)/MLPmodel-20250121_1003/best_model.h5\n"
     ]
    },
    {
     "name": "stderr",
     "output_type": "stream",
     "text": [
      "Epoch 25, Loss: 0.9927, Accuracy: 0.6208, Val_Loss: 0.9774, Val_Accuracy: 0.6404\n"
     ]
    },
    {
     "name": "stdout",
     "output_type": "stream",
     "text": [
      "109/109 [==============================] - 1s 11ms/step - loss: 0.9927 - accuracy: 0.6208 - mae: 0.0864 - val_loss: 0.9774 - val_accuracy: 0.6404 - val_mae: 0.0882\n",
      "Epoch 26/100\n",
      "104/109 [===========================>..] - ETA: 0s - loss: 1.0177 - accuracy: 0.6061 - mae: 0.0885\n",
      "Epoch 26: val_accuracy improved from 0.64040 to 0.64646, saving model to 0926-datasets-ml/ml-cn-xmu-(JmolNN)/MLPmodel-20250121_1003/best_model.h5\n"
     ]
    },
    {
     "name": "stderr",
     "output_type": "stream",
     "text": [
      "Epoch 26, Loss: 1.0144, Accuracy: 0.6078, Val_Loss: 0.9615, Val_Accuracy: 0.6465\n"
     ]
    },
    {
     "name": "stdout",
     "output_type": "stream",
     "text": [
      "109/109 [==============================] - 1s 12ms/step - loss: 1.0144 - accuracy: 0.6078 - mae: 0.0884 - val_loss: 0.9615 - val_accuracy: 0.6465 - val_mae: 0.0865\n",
      "Epoch 27/100\n",
      "105/109 [===========================>..] - ETA: 0s - loss: 0.9972 - accuracy: 0.6143 - mae: 0.0881\n",
      "Epoch 27: val_accuracy did not improve from 0.64646\n"
     ]
    },
    {
     "name": "stderr",
     "output_type": "stream",
     "text": [
      "Epoch 27, Loss: 0.9984, Accuracy: 0.6127, Val_Loss: 0.9810, Val_Accuracy: 0.6242\n"
     ]
    },
    {
     "name": "stdout",
     "output_type": "stream",
     "text": [
      "109/109 [==============================] - 1s 11ms/step - loss: 0.9984 - accuracy: 0.6127 - mae: 0.0881 - val_loss: 0.9810 - val_accuracy: 0.6242 - val_mae: 0.0833\n",
      "Epoch 28/100\n",
      "107/109 [============================>.] - ETA: 0s - loss: 0.9752 - accuracy: 0.6294 - mae: 0.0854\n",
      "Epoch 28: val_accuracy did not improve from 0.64646\n"
     ]
    },
    {
     "name": "stderr",
     "output_type": "stream",
     "text": [
      "Epoch 28, Loss: 0.9738, Accuracy: 0.6317, Val_Loss: 0.9871, Val_Accuracy: 0.6212\n"
     ]
    },
    {
     "name": "stdout",
     "output_type": "stream",
     "text": [
      "109/109 [==============================] - 1s 8ms/step - loss: 0.9738 - accuracy: 0.6317 - mae: 0.0853 - val_loss: 0.9871 - val_accuracy: 0.6212 - val_mae: 0.0896\n",
      "Epoch 29/100\n",
      "105/109 [===========================>..] - ETA: 0s - loss: 0.9637 - accuracy: 0.6280 - mae: 0.0850\n",
      "Epoch 29: val_accuracy did not improve from 0.64646\n"
     ]
    },
    {
     "name": "stderr",
     "output_type": "stream",
     "text": [
      "Epoch 29, Loss: 0.9599, Accuracy: 0.6291, Val_Loss: 0.9897, Val_Accuracy: 0.6020\n"
     ]
    },
    {
     "name": "stdout",
     "output_type": "stream",
     "text": [
      "109/109 [==============================] - 1s 11ms/step - loss: 0.9599 - accuracy: 0.6291 - mae: 0.0849 - val_loss: 0.9897 - val_accuracy: 0.6020 - val_mae: 0.0879\n",
      "Epoch 30/100\n",
      "107/109 [============================>.] - ETA: 0s - loss: 0.9547 - accuracy: 0.6332 - mae: 0.0845\n",
      "Epoch 30: val_accuracy did not improve from 0.64646\n"
     ]
    },
    {
     "name": "stderr",
     "output_type": "stream",
     "text": [
      "Epoch 30, Loss: 0.9599, Accuracy: 0.6317, Val_Loss: 1.0877, Val_Accuracy: 0.5616\n"
     ]
    },
    {
     "name": "stdout",
     "output_type": "stream",
     "text": [
      "109/109 [==============================] - 1s 11ms/step - loss: 0.9599 - accuracy: 0.6317 - mae: 0.0846 - val_loss: 1.0877 - val_accuracy: 0.5616 - val_mae: 0.0903\n",
      "Epoch 31/100\n",
      "104/109 [===========================>..] - ETA: 0s - loss: 0.9556 - accuracy: 0.6337 - mae: 0.0848\n",
      "Epoch 31: val_accuracy improved from 0.64646 to 0.65051, saving model to 0926-datasets-ml/ml-cn-xmu-(JmolNN)/MLPmodel-20250121_1003/best_model.h5\n"
     ]
    },
    {
     "name": "stderr",
     "output_type": "stream",
     "text": [
      "Epoch 31, Loss: 0.9533, Accuracy: 0.6341, Val_Loss: 0.9426, Val_Accuracy: 0.6505\n"
     ]
    },
    {
     "name": "stdout",
     "output_type": "stream",
     "text": [
      "109/109 [==============================] - 1s 10ms/step - loss: 0.9533 - accuracy: 0.6341 - mae: 0.0848 - val_loss: 0.9426 - val_accuracy: 0.6505 - val_mae: 0.0845\n",
      "Epoch 32/100\n",
      "107/109 [============================>.] - ETA: 0s - loss: 0.9939 - accuracy: 0.6084 - mae: 0.0878\n",
      "Epoch 32: val_accuracy did not improve from 0.65051\n"
     ]
    },
    {
     "name": "stderr",
     "output_type": "stream",
     "text": [
      "Epoch 32, Loss: 0.9930, Accuracy: 0.6087, Val_Loss: 0.9887, Val_Accuracy: 0.6273\n"
     ]
    },
    {
     "name": "stdout",
     "output_type": "stream",
     "text": [
      "109/109 [==============================] - 1s 10ms/step - loss: 0.9930 - accuracy: 0.6087 - mae: 0.0878 - val_loss: 0.9887 - val_accuracy: 0.6273 - val_mae: 0.0893\n",
      "Epoch 33/100\n",
      "109/109 [==============================] - ETA: 0s - loss: 0.9402 - accuracy: 0.6335 - mae: 0.0843\n",
      "Epoch 33: val_accuracy did not improve from 0.65051\n"
     ]
    },
    {
     "name": "stderr",
     "output_type": "stream",
     "text": [
      "Epoch 33, Loss: 0.9402, Accuracy: 0.6335, Val_Loss: 0.9961, Val_Accuracy: 0.6242\n"
     ]
    },
    {
     "name": "stdout",
     "output_type": "stream",
     "text": [
      "109/109 [==============================] - 1s 11ms/step - loss: 0.9402 - accuracy: 0.6335 - mae: 0.0843 - val_loss: 0.9961 - val_accuracy: 0.6242 - val_mae: 0.0827\n",
      "Epoch 34/100\n",
      "104/109 [===========================>..] - ETA: 0s - loss: 0.9407 - accuracy: 0.6400 - mae: 0.0835\n",
      "Epoch 34: val_accuracy did not improve from 0.65051\n"
     ]
    },
    {
     "name": "stderr",
     "output_type": "stream",
     "text": [
      "Epoch 34, Loss: 0.9435, Accuracy: 0.6375, Val_Loss: 0.9431, Val_Accuracy: 0.6384\n"
     ]
    },
    {
     "name": "stdout",
     "output_type": "stream",
     "text": [
      "109/109 [==============================] - 1s 10ms/step - loss: 0.9435 - accuracy: 0.6375 - mae: 0.0837 - val_loss: 0.9431 - val_accuracy: 0.6384 - val_mae: 0.0842\n",
      "Epoch 35/100\n",
      "105/109 [===========================>..] - ETA: 0s - loss: 0.9646 - accuracy: 0.6185 - mae: 0.0865\n",
      "Epoch 35: val_accuracy improved from 0.65051 to 0.65657, saving model to 0926-datasets-ml/ml-cn-xmu-(JmolNN)/MLPmodel-20250121_1003/best_model.h5\n"
     ]
    },
    {
     "name": "stderr",
     "output_type": "stream",
     "text": [
      "Epoch 35, Loss: 0.9656, Accuracy: 0.6176, Val_Loss: 0.9093, Val_Accuracy: 0.6566\n"
     ]
    },
    {
     "name": "stdout",
     "output_type": "stream",
     "text": [
      "109/109 [==============================] - 1s 11ms/step - loss: 0.9656 - accuracy: 0.6176 - mae: 0.0866 - val_loss: 0.9093 - val_accuracy: 0.6566 - val_mae: 0.0828\n",
      "Epoch 36/100\n",
      "105/109 [===========================>..] - ETA: 0s - loss: 0.9377 - accuracy: 0.6429 - mae: 0.0830\n",
      "Epoch 36: val_accuracy did not improve from 0.65657\n"
     ]
    },
    {
     "name": "stderr",
     "output_type": "stream",
     "text": [
      "Epoch 36, Loss: 0.9393, Accuracy: 0.6427, Val_Loss: 0.9190, Val_Accuracy: 0.6535\n"
     ]
    },
    {
     "name": "stdout",
     "output_type": "stream",
     "text": [
      "109/109 [==============================] - 1s 11ms/step - loss: 0.9393 - accuracy: 0.6427 - mae: 0.0832 - val_loss: 0.9190 - val_accuracy: 0.6535 - val_mae: 0.0846\n",
      "Epoch 37/100\n",
      "106/109 [============================>.] - ETA: 0s - loss: 0.9484 - accuracy: 0.6285 - mae: 0.0856\n",
      "Epoch 37: val_accuracy did not improve from 0.65657\n"
     ]
    },
    {
     "name": "stderr",
     "output_type": "stream",
     "text": [
      "Epoch 37, Loss: 0.9468, Accuracy: 0.6300, Val_Loss: 0.9452, Val_Accuracy: 0.6313\n"
     ]
    },
    {
     "name": "stdout",
     "output_type": "stream",
     "text": [
      "109/109 [==============================] - 1s 10ms/step - loss: 0.9468 - accuracy: 0.6300 - mae: 0.0855 - val_loss: 0.9452 - val_accuracy: 0.6313 - val_mae: 0.0875\n",
      "Epoch 38/100\n",
      "107/109 [============================>.] - ETA: 0s - loss: 0.9602 - accuracy: 0.6224 - mae: 0.0848\n",
      "Epoch 38: val_accuracy improved from 0.65657 to 0.66566, saving model to 0926-datasets-ml/ml-cn-xmu-(JmolNN)/MLPmodel-20250121_1003/best_model.h5\n"
     ]
    },
    {
     "name": "stderr",
     "output_type": "stream",
     "text": [
      "Epoch 38, Loss: 0.9597, Accuracy: 0.6228, Val_Loss: 0.9186, Val_Accuracy: 0.6657\n"
     ]
    },
    {
     "name": "stdout",
     "output_type": "stream",
     "text": [
      "109/109 [==============================] - 1s 12ms/step - loss: 0.9597 - accuracy: 0.6228 - mae: 0.0848 - val_loss: 0.9186 - val_accuracy: 0.6657 - val_mae: 0.0841\n",
      "Epoch 39/100\n",
      "106/109 [============================>.] - ETA: 0s - loss: 0.9296 - accuracy: 0.6383 - mae: 0.0844\n",
      "Epoch 39: val_accuracy did not improve from 0.66566\n"
     ]
    },
    {
     "name": "stderr",
     "output_type": "stream",
     "text": [
      "Epoch 39, Loss: 0.9272, Accuracy: 0.6390, Val_Loss: 0.9151, Val_Accuracy: 0.6535\n"
     ]
    },
    {
     "name": "stdout",
     "output_type": "stream",
     "text": [
      "109/109 [==============================] - 1s 11ms/step - loss: 0.9272 - accuracy: 0.6390 - mae: 0.0844 - val_loss: 0.9151 - val_accuracy: 0.6535 - val_mae: 0.0828\n",
      "Epoch 40/100\n",
      "104/109 [===========================>..] - ETA: 0s - loss: 0.9228 - accuracy: 0.6445 - mae: 0.0818\n",
      "Epoch 40: val_accuracy did not improve from 0.66566\n"
     ]
    },
    {
     "name": "stderr",
     "output_type": "stream",
     "text": [
      "Epoch 40, Loss: 0.9222, Accuracy: 0.6459, Val_Loss: 0.9585, Val_Accuracy: 0.6232\n"
     ]
    },
    {
     "name": "stdout",
     "output_type": "stream",
     "text": [
      "109/109 [==============================] - 1s 10ms/step - loss: 0.9222 - accuracy: 0.6459 - mae: 0.0817 - val_loss: 0.9585 - val_accuracy: 0.6232 - val_mae: 0.0841\n",
      "Epoch 41/100\n",
      "108/109 [============================>.] - ETA: 0s - loss: 0.9385 - accuracy: 0.6337 - mae: 0.0837\n",
      "Epoch 41: val_accuracy did not improve from 0.66566\n"
     ]
    },
    {
     "name": "stderr",
     "output_type": "stream",
     "text": [
      "Epoch 41, Loss: 0.9384, Accuracy: 0.6335, Val_Loss: 1.0329, Val_Accuracy: 0.5929\n"
     ]
    },
    {
     "name": "stdout",
     "output_type": "stream",
     "text": [
      "109/109 [==============================] - 1s 11ms/step - loss: 0.9384 - accuracy: 0.6335 - mae: 0.0838 - val_loss: 1.0329 - val_accuracy: 0.5929 - val_mae: 0.0861\n",
      "Epoch 42/100\n",
      "104/109 [===========================>..] - ETA: 0s - loss: 0.9260 - accuracy: 0.6478 - mae: 0.0827\n",
      "Epoch 42: val_accuracy did not improve from 0.66566\n"
     ]
    },
    {
     "name": "stderr",
     "output_type": "stream",
     "text": [
      "Epoch 42, Loss: 0.9343, Accuracy: 0.6442, Val_Loss: 0.9382, Val_Accuracy: 0.6374\n"
     ]
    },
    {
     "name": "stdout",
     "output_type": "stream",
     "text": [
      "109/109 [==============================] - 1s 11ms/step - loss: 0.9343 - accuracy: 0.6442 - mae: 0.0830 - val_loss: 0.9382 - val_accuracy: 0.6374 - val_mae: 0.0848\n",
      "Epoch 43/100\n",
      "104/109 [===========================>..] - ETA: 0s - loss: 0.9747 - accuracy: 0.6229 - mae: 0.0881\n",
      "Epoch 43: val_accuracy did not improve from 0.66566\n"
     ]
    },
    {
     "name": "stderr",
     "output_type": "stream",
     "text": [
      "Epoch 43, Loss: 0.9724, Accuracy: 0.6242, Val_Loss: 0.9457, Val_Accuracy: 0.6283\n"
     ]
    },
    {
     "name": "stdout",
     "output_type": "stream",
     "text": [
      "109/109 [==============================] - 1s 10ms/step - loss: 0.9724 - accuracy: 0.6242 - mae: 0.0878 - val_loss: 0.9457 - val_accuracy: 0.6283 - val_mae: 0.0842\n",
      "Epoch 44/100\n",
      "107/109 [============================>.] - ETA: 0s - loss: 0.9318 - accuracy: 0.6411 - mae: 0.0841\n",
      "Epoch 44: val_accuracy did not improve from 0.66566\n"
     ]
    },
    {
     "name": "stderr",
     "output_type": "stream",
     "text": [
      "Epoch 44, Loss: 0.9301, Accuracy: 0.6418, Val_Loss: 0.9326, Val_Accuracy: 0.6303\n"
     ]
    },
    {
     "name": "stdout",
     "output_type": "stream",
     "text": [
      "109/109 [==============================] - 1s 11ms/step - loss: 0.9301 - accuracy: 0.6418 - mae: 0.0840 - val_loss: 0.9326 - val_accuracy: 0.6303 - val_mae: 0.0832\n",
      "Epoch 45/100\n",
      "107/109 [============================>.] - ETA: 0s - loss: 0.9205 - accuracy: 0.6405 - mae: 0.0833\n",
      "Epoch 45: val_accuracy did not improve from 0.66566\n"
     ]
    },
    {
     "name": "stderr",
     "output_type": "stream",
     "text": [
      "Epoch 45, Loss: 0.9211, Accuracy: 0.6398, Val_Loss: 0.8920, Val_Accuracy: 0.6414\n"
     ]
    },
    {
     "name": "stdout",
     "output_type": "stream",
     "text": [
      "109/109 [==============================] - 1s 11ms/step - loss: 0.9211 - accuracy: 0.6398 - mae: 0.0834 - val_loss: 0.8920 - val_accuracy: 0.6414 - val_mae: 0.0814\n",
      "Epoch 46/100\n",
      "104/109 [===========================>..] - ETA: 0s - loss: 0.9130 - accuracy: 0.6436 - mae: 0.0823\n",
      "Epoch 46: val_accuracy did not improve from 0.66566\n"
     ]
    },
    {
     "name": "stderr",
     "output_type": "stream",
     "text": [
      "Epoch 46, Loss: 0.9098, Accuracy: 0.6459, Val_Loss: 0.9165, Val_Accuracy: 0.6303\n"
     ]
    },
    {
     "name": "stdout",
     "output_type": "stream",
     "text": [
      "109/109 [==============================] - 1s 8ms/step - loss: 0.9098 - accuracy: 0.6459 - mae: 0.0821 - val_loss: 0.9165 - val_accuracy: 0.6303 - val_mae: 0.0824\n",
      "Epoch 47/100\n",
      "108/109 [============================>.] - ETA: 0s - loss: 0.8942 - accuracy: 0.6586 - mae: 0.0805\n",
      "Epoch 47: val_accuracy did not improve from 0.66566\n"
     ]
    },
    {
     "name": "stderr",
     "output_type": "stream",
     "text": [
      "Epoch 47, Loss: 0.8941, Accuracy: 0.6586, Val_Loss: 0.9368, Val_Accuracy: 0.6384\n"
     ]
    },
    {
     "name": "stdout",
     "output_type": "stream",
     "text": [
      "109/109 [==============================] - 1s 11ms/step - loss: 0.8941 - accuracy: 0.6586 - mae: 0.0805 - val_loss: 0.9368 - val_accuracy: 0.6384 - val_mae: 0.0805\n",
      "Epoch 48/100\n",
      "105/109 [===========================>..] - ETA: 0s - loss: 0.9282 - accuracy: 0.6313 - mae: 0.0835\n",
      "Epoch 48: val_accuracy did not improve from 0.66566\n"
     ]
    },
    {
     "name": "stderr",
     "output_type": "stream",
     "text": [
      "Epoch 48, Loss: 0.9291, Accuracy: 0.6297, Val_Loss: 0.8871, Val_Accuracy: 0.6566\n"
     ]
    },
    {
     "name": "stdout",
     "output_type": "stream",
     "text": [
      "109/109 [==============================] - 1s 11ms/step - loss: 0.9291 - accuracy: 0.6297 - mae: 0.0836 - val_loss: 0.8871 - val_accuracy: 0.6566 - val_mae: 0.0807\n",
      "Epoch 49/100\n",
      "106/109 [============================>.] - ETA: 0s - loss: 0.9067 - accuracy: 0.6518 - mae: 0.0818\n",
      "Epoch 49: val_accuracy did not improve from 0.66566\n"
     ]
    },
    {
     "name": "stderr",
     "output_type": "stream",
     "text": [
      "Epoch 49, Loss: 0.9064, Accuracy: 0.6505, Val_Loss: 0.9925, Val_Accuracy: 0.6182\n"
     ]
    },
    {
     "name": "stdout",
     "output_type": "stream",
     "text": [
      "109/109 [==============================] - 1s 10ms/step - loss: 0.9064 - accuracy: 0.6505 - mae: 0.0818 - val_loss: 0.9925 - val_accuracy: 0.6182 - val_mae: 0.0848\n",
      "Epoch 50/100\n",
      "107/109 [============================>.] - ETA: 0s - loss: 0.9192 - accuracy: 0.6387 - mae: 0.0833\n",
      "Epoch 50: val_accuracy did not improve from 0.66566\n"
     ]
    },
    {
     "name": "stderr",
     "output_type": "stream",
     "text": [
      "Epoch 50, Loss: 0.9167, Accuracy: 0.6392, Val_Loss: 0.8871, Val_Accuracy: 0.6485\n"
     ]
    },
    {
     "name": "stdout",
     "output_type": "stream",
     "text": [
      "109/109 [==============================] - 1s 12ms/step - loss: 0.9167 - accuracy: 0.6392 - mae: 0.0832 - val_loss: 0.8871 - val_accuracy: 0.6485 - val_mae: 0.0810\n",
      "Epoch 51/100\n",
      "105/109 [===========================>..] - ETA: 0s - loss: 0.8894 - accuracy: 0.6521 - mae: 0.0808\n",
      "Epoch 51: val_accuracy did not improve from 0.66566\n"
     ]
    },
    {
     "name": "stderr",
     "output_type": "stream",
     "text": [
      "Epoch 51, Loss: 0.8862, Accuracy: 0.6531, Val_Loss: 0.8910, Val_Accuracy: 0.6475\n"
     ]
    },
    {
     "name": "stdout",
     "output_type": "stream",
     "text": [
      "109/109 [==============================] - 1s 11ms/step - loss: 0.8862 - accuracy: 0.6531 - mae: 0.0805 - val_loss: 0.8910 - val_accuracy: 0.6475 - val_mae: 0.0805\n",
      "Epoch 52/100\n",
      "106/109 [============================>.] - ETA: 0s - loss: 0.9156 - accuracy: 0.6374 - mae: 0.0832\n",
      "Epoch 52: val_accuracy did not improve from 0.66566\n"
     ]
    },
    {
     "name": "stderr",
     "output_type": "stream",
     "text": [
      "Epoch 52, Loss: 0.9132, Accuracy: 0.6381, Val_Loss: 1.1317, Val_Accuracy: 0.5475\n"
     ]
    },
    {
     "name": "stdout",
     "output_type": "stream",
     "text": [
      "109/109 [==============================] - 1s 8ms/step - loss: 0.9132 - accuracy: 0.6381 - mae: 0.0830 - val_loss: 1.1317 - val_accuracy: 0.5475 - val_mae: 0.0894\n",
      "Epoch 53/100\n",
      "104/109 [===========================>..] - ETA: 0s - loss: 0.8934 - accuracy: 0.6611 - mae: 0.0808\n",
      "Epoch 53: val_accuracy did not improve from 0.66566\n"
     ]
    },
    {
     "name": "stderr",
     "output_type": "stream",
     "text": [
      "Epoch 53, Loss: 0.8928, Accuracy: 0.6597, Val_Loss: 0.9914, Val_Accuracy: 0.6081\n"
     ]
    },
    {
     "name": "stdout",
     "output_type": "stream",
     "text": [
      "109/109 [==============================] - 1s 10ms/step - loss: 0.8928 - accuracy: 0.6597 - mae: 0.0806 - val_loss: 0.9914 - val_accuracy: 0.6081 - val_mae: 0.0834\n",
      "Epoch 54/100\n",
      "109/109 [==============================] - ETA: 0s - loss: 0.8707 - accuracy: 0.6641 - mae: 0.0791\n",
      "Epoch 54: val_accuracy did not improve from 0.66566\n"
     ]
    },
    {
     "name": "stderr",
     "output_type": "stream",
     "text": [
      "Epoch 54, Loss: 0.8707, Accuracy: 0.6641, Val_Loss: 1.0677, Val_Accuracy: 0.5737\n"
     ]
    },
    {
     "name": "stdout",
     "output_type": "stream",
     "text": [
      "109/109 [==============================] - 1s 9ms/step - loss: 0.8707 - accuracy: 0.6641 - mae: 0.0791 - val_loss: 1.0677 - val_accuracy: 0.5737 - val_mae: 0.0882\n",
      "Epoch 55/100\n",
      "108/109 [============================>.] - ETA: 0s - loss: 0.8862 - accuracy: 0.6580 - mae: 0.0801\n",
      "Epoch 55: val_accuracy did not improve from 0.66566\n"
     ]
    },
    {
     "name": "stderr",
     "output_type": "stream",
     "text": [
      "Epoch 55, Loss: 0.8856, Accuracy: 0.6583, Val_Loss: 0.9396, Val_Accuracy: 0.6465\n"
     ]
    },
    {
     "name": "stdout",
     "output_type": "stream",
     "text": [
      "109/109 [==============================] - 1s 8ms/step - loss: 0.8856 - accuracy: 0.6583 - mae: 0.0800 - val_loss: 0.9396 - val_accuracy: 0.6465 - val_mae: 0.0833\n",
      "Epoch 56/100\n",
      "109/109 [==============================] - ETA: 0s - loss: 0.9019 - accuracy: 0.6540 - mae: 0.0815\n",
      "Epoch 56: val_accuracy did not improve from 0.66566\n"
     ]
    },
    {
     "name": "stderr",
     "output_type": "stream",
     "text": [
      "Epoch 56, Loss: 0.9019, Accuracy: 0.6540, Val_Loss: 1.0409, Val_Accuracy: 0.5838\n"
     ]
    },
    {
     "name": "stdout",
     "output_type": "stream",
     "text": [
      "109/109 [==============================] - 1s 10ms/step - loss: 0.9019 - accuracy: 0.6540 - mae: 0.0815 - val_loss: 1.0409 - val_accuracy: 0.5838 - val_mae: 0.0910\n",
      "Epoch 57/100\n",
      "101/109 [==========================>...] - ETA: 0s - loss: 0.8762 - accuracy: 0.6612 - mae: 0.0794\n",
      "Epoch 57: val_accuracy did not improve from 0.66566\n"
     ]
    },
    {
     "name": "stderr",
     "output_type": "stream",
     "text": [
      "Epoch 57, Loss: 0.8775, Accuracy: 0.6603, Val_Loss: 0.8739, Val_Accuracy: 0.6535\n"
     ]
    },
    {
     "name": "stdout",
     "output_type": "stream",
     "text": [
      "109/109 [==============================] - 1s 9ms/step - loss: 0.8775 - accuracy: 0.6603 - mae: 0.0793 - val_loss: 0.8739 - val_accuracy: 0.6535 - val_mae: 0.0789\n",
      "Epoch 58/100\n",
      "103/109 [===========================>..] - ETA: 0s - loss: 0.8800 - accuracy: 0.6638 - mae: 0.0798\n",
      "Epoch 58: val_accuracy did not improve from 0.66566\n"
     ]
    },
    {
     "name": "stderr",
     "output_type": "stream",
     "text": [
      "Epoch 58, Loss: 0.8847, Accuracy: 0.6606, Val_Loss: 0.9944, Val_Accuracy: 0.6152\n"
     ]
    },
    {
     "name": "stdout",
     "output_type": "stream",
     "text": [
      "109/109 [==============================] - 1s 9ms/step - loss: 0.8847 - accuracy: 0.6606 - mae: 0.0802 - val_loss: 0.9944 - val_accuracy: 0.6152 - val_mae: 0.0844\n",
      "Epoch 59/100\n",
      "109/109 [==============================] - ETA: 0s - loss: 0.8885 - accuracy: 0.6548 - mae: 0.0811\n",
      "Epoch 59: val_accuracy did not improve from 0.66566\n"
     ]
    },
    {
     "name": "stderr",
     "output_type": "stream",
     "text": [
      "Epoch 59, Loss: 0.8885, Accuracy: 0.6548, Val_Loss: 0.8683, Val_Accuracy: 0.6606\n"
     ]
    },
    {
     "name": "stdout",
     "output_type": "stream",
     "text": [
      "109/109 [==============================] - 1s 9ms/step - loss: 0.8885 - accuracy: 0.6548 - mae: 0.0811 - val_loss: 0.8683 - val_accuracy: 0.6606 - val_mae: 0.0790\n",
      "Epoch 60/100\n",
      "105/109 [===========================>..] - ETA: 0s - loss: 0.8653 - accuracy: 0.6643 - mae: 0.0789\n",
      "Epoch 60: val_accuracy did not improve from 0.66566\n"
     ]
    },
    {
     "name": "stderr",
     "output_type": "stream",
     "text": [
      "Epoch 60, Loss: 0.8614, Accuracy: 0.6664, Val_Loss: 0.9078, Val_Accuracy: 0.6626\n"
     ]
    },
    {
     "name": "stdout",
     "output_type": "stream",
     "text": [
      "109/109 [==============================] - 1s 9ms/step - loss: 0.8614 - accuracy: 0.6664 - mae: 0.0785 - val_loss: 0.9078 - val_accuracy: 0.6626 - val_mae: 0.0787\n",
      "Epoch 61/100\n",
      "104/109 [===========================>..] - ETA: 0s - loss: 0.8953 - accuracy: 0.6514 - mae: 0.0806\n",
      "Epoch 61: val_accuracy did not improve from 0.66566\n"
     ]
    },
    {
     "name": "stderr",
     "output_type": "stream",
     "text": [
      "Epoch 61, Loss: 0.8998, Accuracy: 0.6482, Val_Loss: 0.9984, Val_Accuracy: 0.5939\n"
     ]
    },
    {
     "name": "stdout",
     "output_type": "stream",
     "text": [
      "109/109 [==============================] - 1s 8ms/step - loss: 0.8998 - accuracy: 0.6482 - mae: 0.0808 - val_loss: 0.9984 - val_accuracy: 0.5939 - val_mae: 0.0875\n",
      "Epoch 62/100\n",
      "105/109 [===========================>..] - ETA: 0s - loss: 0.8622 - accuracy: 0.6607 - mae: 0.0792\n",
      "Epoch 62: val_accuracy improved from 0.66566 to 0.67273, saving model to 0926-datasets-ml/ml-cn-xmu-(JmolNN)/MLPmodel-20250121_1003/best_model.h5\n"
     ]
    },
    {
     "name": "stderr",
     "output_type": "stream",
     "text": [
      "Epoch 62, Loss: 0.8611, Accuracy: 0.6626, Val_Loss: 0.8484, Val_Accuracy: 0.6727\n"
     ]
    },
    {
     "name": "stdout",
     "output_type": "stream",
     "text": [
      "109/109 [==============================] - 1s 10ms/step - loss: 0.8611 - accuracy: 0.6626 - mae: 0.0792 - val_loss: 0.8484 - val_accuracy: 0.6727 - val_mae: 0.0771\n",
      "Epoch 63/100\n",
      "100/109 [==========================>...] - ETA: 0s - loss: 0.8525 - accuracy: 0.6656 - mae: 0.0774\n",
      "Epoch 63: val_accuracy did not improve from 0.67273\n"
     ]
    },
    {
     "name": "stderr",
     "output_type": "stream",
     "text": [
      "Epoch 63, Loss: 0.8526, Accuracy: 0.6646, Val_Loss: 0.8514, Val_Accuracy: 0.6727\n"
     ]
    },
    {
     "name": "stdout",
     "output_type": "stream",
     "text": [
      "109/109 [==============================] - 1s 9ms/step - loss: 0.8526 - accuracy: 0.6646 - mae: 0.0775 - val_loss: 0.8514 - val_accuracy: 0.6727 - val_mae: 0.0768\n",
      "Epoch 64/100\n",
      "104/109 [===========================>..] - ETA: 0s - loss: 0.8549 - accuracy: 0.6737 - mae: 0.0773\n",
      "Epoch 64: val_accuracy did not improve from 0.67273\n"
     ]
    },
    {
     "name": "stderr",
     "output_type": "stream",
     "text": [
      "Epoch 64, Loss: 0.8566, Accuracy: 0.6733, Val_Loss: 0.9045, Val_Accuracy: 0.6424\n"
     ]
    },
    {
     "name": "stdout",
     "output_type": "stream",
     "text": [
      "109/109 [==============================] - 1s 9ms/step - loss: 0.8566 - accuracy: 0.6733 - mae: 0.0773 - val_loss: 0.9045 - val_accuracy: 0.6424 - val_mae: 0.0776\n",
      "Epoch 65/100\n",
      "106/109 [============================>.] - ETA: 0s - loss: 0.8971 - accuracy: 0.6462 - mae: 0.0812\n",
      "Epoch 65: val_accuracy improved from 0.67273 to 0.67677, saving model to 0926-datasets-ml/ml-cn-xmu-(JmolNN)/MLPmodel-20250121_1003/best_model.h5\n"
     ]
    },
    {
     "name": "stderr",
     "output_type": "stream",
     "text": [
      "Epoch 65, Loss: 0.8987, Accuracy: 0.6456, Val_Loss: 0.8662, Val_Accuracy: 0.6768\n"
     ]
    },
    {
     "name": "stdout",
     "output_type": "stream",
     "text": [
      "109/109 [==============================] - 1s 10ms/step - loss: 0.8987 - accuracy: 0.6456 - mae: 0.0814 - val_loss: 0.8662 - val_accuracy: 0.6768 - val_mae: 0.0800\n",
      "Epoch 66/100\n",
      "107/109 [============================>.] - ETA: 0s - loss: 0.8531 - accuracy: 0.6723 - mae: 0.0784\n",
      "Epoch 66: val_accuracy did not improve from 0.67677\n"
     ]
    },
    {
     "name": "stderr",
     "output_type": "stream",
     "text": [
      "Epoch 66, Loss: 0.8533, Accuracy: 0.6724, Val_Loss: 0.8593, Val_Accuracy: 0.6707\n"
     ]
    },
    {
     "name": "stdout",
     "output_type": "stream",
     "text": [
      "109/109 [==============================] - 1s 9ms/step - loss: 0.8533 - accuracy: 0.6724 - mae: 0.0784 - val_loss: 0.8593 - val_accuracy: 0.6707 - val_mae: 0.0799\n",
      "Epoch 67/100\n",
      "109/109 [==============================] - ETA: 0s - loss: 0.8541 - accuracy: 0.6629 - mae: 0.0777\n",
      "Epoch 67: val_accuracy did not improve from 0.67677\n"
     ]
    },
    {
     "name": "stderr",
     "output_type": "stream",
     "text": [
      "Epoch 67, Loss: 0.8541, Accuracy: 0.6629, Val_Loss: 0.8742, Val_Accuracy: 0.6475\n"
     ]
    },
    {
     "name": "stdout",
     "output_type": "stream",
     "text": [
      "109/109 [==============================] - 1s 9ms/step - loss: 0.8541 - accuracy: 0.6629 - mae: 0.0777 - val_loss: 0.8742 - val_accuracy: 0.6475 - val_mae: 0.0798\n",
      "Epoch 68/100\n",
      "105/109 [===========================>..] - ETA: 0s - loss: 0.8719 - accuracy: 0.6571 - mae: 0.0796\n",
      "Epoch 68: val_accuracy did not improve from 0.67677\n"
     ]
    },
    {
     "name": "stderr",
     "output_type": "stream",
     "text": [
      "Epoch 68, Loss: 0.8709, Accuracy: 0.6577, Val_Loss: 0.8477, Val_Accuracy: 0.6727\n"
     ]
    },
    {
     "name": "stdout",
     "output_type": "stream",
     "text": [
      "109/109 [==============================] - 1s 9ms/step - loss: 0.8709 - accuracy: 0.6577 - mae: 0.0795 - val_loss: 0.8477 - val_accuracy: 0.6727 - val_mae: 0.0771\n",
      "Epoch 69/100\n",
      "104/109 [===========================>..] - ETA: 0s - loss: 0.8554 - accuracy: 0.6713 - mae: 0.0776\n",
      "Epoch 69: val_accuracy did not improve from 0.67677\n"
     ]
    },
    {
     "name": "stderr",
     "output_type": "stream",
     "text": [
      "Epoch 69, Loss: 0.8585, Accuracy: 0.6716, Val_Loss: 0.8707, Val_Accuracy: 0.6616\n"
     ]
    },
    {
     "name": "stdout",
     "output_type": "stream",
     "text": [
      "109/109 [==============================] - 1s 8ms/step - loss: 0.8585 - accuracy: 0.6716 - mae: 0.0777 - val_loss: 0.8707 - val_accuracy: 0.6616 - val_mae: 0.0773\n",
      "Epoch 70/100\n",
      "104/109 [===========================>..] - ETA: 0s - loss: 0.8495 - accuracy: 0.6590 - mae: 0.0773\n",
      "Epoch 70: val_accuracy did not improve from 0.67677\n"
     ]
    },
    {
     "name": "stderr",
     "output_type": "stream",
     "text": [
      "Epoch 70, Loss: 0.8560, Accuracy: 0.6554, Val_Loss: 1.0091, Val_Accuracy: 0.6040\n"
     ]
    },
    {
     "name": "stdout",
     "output_type": "stream",
     "text": [
      "109/109 [==============================] - 1s 9ms/step - loss: 0.8560 - accuracy: 0.6554 - mae: 0.0778 - val_loss: 1.0091 - val_accuracy: 0.6040 - val_mae: 0.0873\n",
      "Epoch 71/100\n",
      "108/109 [============================>.] - ETA: 0s - loss: 0.8404 - accuracy: 0.6791 - mae: 0.0769\n",
      "Epoch 71: val_accuracy improved from 0.67677 to 0.67778, saving model to 0926-datasets-ml/ml-cn-xmu-(JmolNN)/MLPmodel-20250121_1003/best_model.h5\n"
     ]
    },
    {
     "name": "stderr",
     "output_type": "stream",
     "text": [
      "Epoch 71, Loss: 0.8399, Accuracy: 0.6797, Val_Loss: 0.8456, Val_Accuracy: 0.6778\n"
     ]
    },
    {
     "name": "stdout",
     "output_type": "stream",
     "text": [
      "109/109 [==============================] - 1s 10ms/step - loss: 0.8399 - accuracy: 0.6797 - mae: 0.0769 - val_loss: 0.8456 - val_accuracy: 0.6778 - val_mae: 0.0761\n",
      "Epoch 72/100\n",
      "105/109 [===========================>..] - ETA: 0s - loss: 0.8286 - accuracy: 0.6827 - mae: 0.0757\n",
      "Epoch 72: val_accuracy did not improve from 0.67778\n"
     ]
    },
    {
     "name": "stderr",
     "output_type": "stream",
     "text": [
      "Epoch 72, Loss: 0.8272, Accuracy: 0.6843, Val_Loss: 0.8717, Val_Accuracy: 0.6707\n"
     ]
    },
    {
     "name": "stdout",
     "output_type": "stream",
     "text": [
      "109/109 [==============================] - 1s 9ms/step - loss: 0.8272 - accuracy: 0.6843 - mae: 0.0756 - val_loss: 0.8717 - val_accuracy: 0.6707 - val_mae: 0.0775\n",
      "Epoch 73/100\n",
      "108/109 [============================>.] - ETA: 0s - loss: 0.8393 - accuracy: 0.6698 - mae: 0.0767\n",
      "Epoch 73: val_accuracy did not improve from 0.67778\n"
     ]
    },
    {
     "name": "stderr",
     "output_type": "stream",
     "text": [
      "Epoch 73, Loss: 0.8398, Accuracy: 0.6696, Val_Loss: 0.8625, Val_Accuracy: 0.6606\n"
     ]
    },
    {
     "name": "stdout",
     "output_type": "stream",
     "text": [
      "109/109 [==============================] - 1s 9ms/step - loss: 0.8398 - accuracy: 0.6696 - mae: 0.0768 - val_loss: 0.8625 - val_accuracy: 0.6606 - val_mae: 0.0761\n",
      "Epoch 74/100\n",
      "106/109 [============================>.] - ETA: 0s - loss: 0.8482 - accuracy: 0.6722 - mae: 0.0773\n",
      "Epoch 74: val_accuracy did not improve from 0.67778\n"
     ]
    },
    {
     "name": "stderr",
     "output_type": "stream",
     "text": [
      "Epoch 74, Loss: 0.8475, Accuracy: 0.6716, Val_Loss: 0.8675, Val_Accuracy: 0.6616\n"
     ]
    },
    {
     "name": "stdout",
     "output_type": "stream",
     "text": [
      "109/109 [==============================] - 1s 9ms/step - loss: 0.8475 - accuracy: 0.6716 - mae: 0.0773 - val_loss: 0.8675 - val_accuracy: 0.6616 - val_mae: 0.0780\n",
      "Epoch 75/100\n",
      "104/109 [===========================>..] - ETA: 0s - loss: 0.8813 - accuracy: 0.6581 - mae: 0.0800\n",
      "Epoch 75: val_accuracy improved from 0.67778 to 0.68687, saving model to 0926-datasets-ml/ml-cn-xmu-(JmolNN)/MLPmodel-20250121_1003/best_model.h5\n"
     ]
    },
    {
     "name": "stderr",
     "output_type": "stream",
     "text": [
      "Epoch 75, Loss: 0.8804, Accuracy: 0.6577, Val_Loss: 0.8381, Val_Accuracy: 0.6869\n"
     ]
    },
    {
     "name": "stdout",
     "output_type": "stream",
     "text": [
      "109/109 [==============================] - 1s 9ms/step - loss: 0.8804 - accuracy: 0.6577 - mae: 0.0800 - val_loss: 0.8381 - val_accuracy: 0.6869 - val_mae: 0.0785\n",
      "Epoch 76/100\n",
      "107/109 [============================>.] - ETA: 0s - loss: 0.8347 - accuracy: 0.6761 - mae: 0.0766\n",
      "Epoch 76: val_accuracy did not improve from 0.68687\n"
     ]
    },
    {
     "name": "stderr",
     "output_type": "stream",
     "text": [
      "Epoch 76, Loss: 0.8344, Accuracy: 0.6765, Val_Loss: 0.9144, Val_Accuracy: 0.6495\n"
     ]
    },
    {
     "name": "stdout",
     "output_type": "stream",
     "text": [
      "109/109 [==============================] - 1s 9ms/step - loss: 0.8344 - accuracy: 0.6765 - mae: 0.0766 - val_loss: 0.9144 - val_accuracy: 0.6495 - val_mae: 0.0794\n",
      "Epoch 77/100\n",
      "102/109 [===========================>..] - ETA: 0s - loss: 0.8315 - accuracy: 0.6783 - mae: 0.0763\n",
      "Epoch 77: val_accuracy did not improve from 0.68687\n"
     ]
    },
    {
     "name": "stderr",
     "output_type": "stream",
     "text": [
      "Epoch 77, Loss: 0.8294, Accuracy: 0.6776, Val_Loss: 0.9489, Val_Accuracy: 0.6091\n"
     ]
    },
    {
     "name": "stdout",
     "output_type": "stream",
     "text": [
      "109/109 [==============================] - 1s 9ms/step - loss: 0.8294 - accuracy: 0.6776 - mae: 0.0763 - val_loss: 0.9489 - val_accuracy: 0.6091 - val_mae: 0.0826\n",
      "Epoch 78/100\n",
      "104/109 [===========================>..] - ETA: 0s - loss: 0.8276 - accuracy: 0.6818 - mae: 0.0755\n",
      "Epoch 78: val_accuracy did not improve from 0.68687\n"
     ]
    },
    {
     "name": "stderr",
     "output_type": "stream",
     "text": [
      "Epoch 78, Loss: 0.8281, Accuracy: 0.6820, Val_Loss: 0.9742, Val_Accuracy: 0.6051\n"
     ]
    },
    {
     "name": "stdout",
     "output_type": "stream",
     "text": [
      "109/109 [==============================] - 1s 9ms/step - loss: 0.8281 - accuracy: 0.6820 - mae: 0.0755 - val_loss: 0.9742 - val_accuracy: 0.6051 - val_mae: 0.0818\n",
      "Epoch 79/100\n",
      "103/109 [===========================>..] - ETA: 0s - loss: 0.8386 - accuracy: 0.6799 - mae: 0.0755\n",
      "Epoch 79: val_accuracy did not improve from 0.68687\n"
     ]
    },
    {
     "name": "stderr",
     "output_type": "stream",
     "text": [
      "Epoch 79, Loss: 0.8363, Accuracy: 0.6811, Val_Loss: 0.9461, Val_Accuracy: 0.6091\n"
     ]
    },
    {
     "name": "stdout",
     "output_type": "stream",
     "text": [
      "109/109 [==============================] - 1s 10ms/step - loss: 0.8363 - accuracy: 0.6811 - mae: 0.0754 - val_loss: 0.9461 - val_accuracy: 0.6091 - val_mae: 0.0813\n",
      "Epoch 80/100\n",
      "105/109 [===========================>..] - ETA: 0s - loss: 0.8648 - accuracy: 0.6601 - mae: 0.0791\n",
      "Epoch 80: val_accuracy did not improve from 0.68687\n"
     ]
    },
    {
     "name": "stderr",
     "output_type": "stream",
     "text": [
      "Epoch 80, Loss: 0.8679, Accuracy: 0.6606, Val_Loss: 0.8611, Val_Accuracy: 0.6717\n"
     ]
    },
    {
     "name": "stdout",
     "output_type": "stream",
     "text": [
      "109/109 [==============================] - 1s 9ms/step - loss: 0.8679 - accuracy: 0.6606 - mae: 0.0791 - val_loss: 0.8611 - val_accuracy: 0.6717 - val_mae: 0.0777\n",
      "Epoch 81/100\n",
      "105/109 [===========================>..] - ETA: 0s - loss: 0.8690 - accuracy: 0.6711 - mae: 0.0793\n",
      "Epoch 81: val_accuracy did not improve from 0.68687\n"
     ]
    },
    {
     "name": "stderr",
     "output_type": "stream",
     "text": [
      "Epoch 81, Loss: 0.8691, Accuracy: 0.6707, Val_Loss: 0.8862, Val_Accuracy: 0.6475\n"
     ]
    },
    {
     "name": "stdout",
     "output_type": "stream",
     "text": [
      "109/109 [==============================] - 1s 9ms/step - loss: 0.8691 - accuracy: 0.6707 - mae: 0.0795 - val_loss: 0.8862 - val_accuracy: 0.6475 - val_mae: 0.0806\n",
      "Epoch 82/100\n",
      "108/109 [============================>.] - ETA: 0s - loss: 0.8377 - accuracy: 0.6756 - mae: 0.0774\n",
      "Epoch 82: val_accuracy did not improve from 0.68687\n"
     ]
    },
    {
     "name": "stderr",
     "output_type": "stream",
     "text": [
      "Epoch 82, Loss: 0.8378, Accuracy: 0.6756, Val_Loss: 0.8475, Val_Accuracy: 0.6808\n"
     ]
    },
    {
     "name": "stdout",
     "output_type": "stream",
     "text": [
      "109/109 [==============================] - 1s 10ms/step - loss: 0.8378 - accuracy: 0.6756 - mae: 0.0774 - val_loss: 0.8475 - val_accuracy: 0.6808 - val_mae: 0.0757\n",
      "Epoch 83/100\n",
      "106/109 [============================>.] - ETA: 0s - loss: 0.8180 - accuracy: 0.6751 - mae: 0.0752\n",
      "Epoch 83: val_accuracy did not improve from 0.68687\n"
     ]
    },
    {
     "name": "stderr",
     "output_type": "stream",
     "text": [
      "Epoch 83, Loss: 0.8179, Accuracy: 0.6762, Val_Loss: 1.1102, Val_Accuracy: 0.5606\n"
     ]
    },
    {
     "name": "stdout",
     "output_type": "stream",
     "text": [
      "109/109 [==============================] - 1s 8ms/step - loss: 0.8179 - accuracy: 0.6762 - mae: 0.0750 - val_loss: 1.1102 - val_accuracy: 0.5606 - val_mae: 0.0862\n",
      "Epoch 84/100\n",
      "108/109 [============================>.] - ETA: 0s - loss: 0.8463 - accuracy: 0.6745 - mae: 0.0772\n",
      "Epoch 84: val_accuracy did not improve from 0.68687\n"
     ]
    },
    {
     "name": "stderr",
     "output_type": "stream",
     "text": [
      "Epoch 84, Loss: 0.8458, Accuracy: 0.6745, Val_Loss: 0.8648, Val_Accuracy: 0.6596\n"
     ]
    },
    {
     "name": "stdout",
     "output_type": "stream",
     "text": [
      "109/109 [==============================] - 1s 9ms/step - loss: 0.8458 - accuracy: 0.6745 - mae: 0.0772 - val_loss: 0.8648 - val_accuracy: 0.6596 - val_mae: 0.0759\n",
      "Epoch 85/100\n",
      "107/109 [============================>.] - ETA: 0s - loss: 0.8218 - accuracy: 0.6773 - mae: 0.0754\n",
      "Epoch 85: val_accuracy did not improve from 0.68687\n"
     ]
    },
    {
     "name": "stderr",
     "output_type": "stream",
     "text": [
      "Epoch 85, Loss: 0.8227, Accuracy: 0.6768, Val_Loss: 0.8137, Val_Accuracy: 0.6828\n"
     ]
    },
    {
     "name": "stdout",
     "output_type": "stream",
     "text": [
      "109/109 [==============================] - 1s 10ms/step - loss: 0.8227 - accuracy: 0.6768 - mae: 0.0755 - val_loss: 0.8137 - val_accuracy: 0.6828 - val_mae: 0.0739\n",
      "Epoch 86/100\n",
      "102/109 [===========================>..] - ETA: 0s - loss: 0.8240 - accuracy: 0.6777 - mae: 0.0749\n",
      "Epoch 86: val_accuracy did not improve from 0.68687\n"
     ]
    },
    {
     "name": "stderr",
     "output_type": "stream",
     "text": [
      "Epoch 86, Loss: 0.8226, Accuracy: 0.6768, Val_Loss: 0.8138, Val_Accuracy: 0.6838\n"
     ]
    },
    {
     "name": "stdout",
     "output_type": "stream",
     "text": [
      "109/109 [==============================] - 1s 9ms/step - loss: 0.8226 - accuracy: 0.6768 - mae: 0.0751 - val_loss: 0.8138 - val_accuracy: 0.6838 - val_mae: 0.0741\n",
      "Epoch 87/100\n",
      "106/109 [============================>.] - ETA: 0s - loss: 0.8394 - accuracy: 0.6710 - mae: 0.0763\n",
      "Epoch 87: val_accuracy did not improve from 0.68687\n"
     ]
    },
    {
     "name": "stderr",
     "output_type": "stream",
     "text": [
      "Epoch 87, Loss: 0.8373, Accuracy: 0.6724, Val_Loss: 0.9721, Val_Accuracy: 0.5919\n"
     ]
    },
    {
     "name": "stdout",
     "output_type": "stream",
     "text": [
      "109/109 [==============================] - 1s 8ms/step - loss: 0.8373 - accuracy: 0.6724 - mae: 0.0762 - val_loss: 0.9721 - val_accuracy: 0.5919 - val_mae: 0.0840\n",
      "Epoch 88/100\n",
      "105/109 [===========================>..] - ETA: 0s - loss: 0.8486 - accuracy: 0.6622 - mae: 0.0779\n",
      "Epoch 88: val_accuracy did not improve from 0.68687\n"
     ]
    },
    {
     "name": "stderr",
     "output_type": "stream",
     "text": [
      "Epoch 88, Loss: 0.8451, Accuracy: 0.6652, Val_Loss: 0.8413, Val_Accuracy: 0.6778\n"
     ]
    },
    {
     "name": "stdout",
     "output_type": "stream",
     "text": [
      "109/109 [==============================] - 1s 9ms/step - loss: 0.8451 - accuracy: 0.6652 - mae: 0.0777 - val_loss: 0.8413 - val_accuracy: 0.6778 - val_mae: 0.0776\n",
      "Epoch 89/100\n",
      "104/109 [===========================>..] - ETA: 0s - loss: 0.8377 - accuracy: 0.6746 - mae: 0.0769\n",
      "Epoch 89: val_accuracy did not improve from 0.68687\n"
     ]
    },
    {
     "name": "stderr",
     "output_type": "stream",
     "text": [
      "Epoch 89, Loss: 0.8391, Accuracy: 0.6736, Val_Loss: 0.9065, Val_Accuracy: 0.6364\n"
     ]
    },
    {
     "name": "stdout",
     "output_type": "stream",
     "text": [
      "109/109 [==============================] - 1s 9ms/step - loss: 0.8391 - accuracy: 0.6736 - mae: 0.0769 - val_loss: 0.9065 - val_accuracy: 0.6364 - val_mae: 0.0816\n",
      "Epoch 90/100\n",
      "107/109 [============================>.] - ETA: 0s - loss: 0.8399 - accuracy: 0.6703 - mae: 0.0766\n",
      "Epoch 90: val_accuracy did not improve from 0.68687\n"
     ]
    },
    {
     "name": "stderr",
     "output_type": "stream",
     "text": [
      "Epoch 90, Loss: 0.8399, Accuracy: 0.6701, Val_Loss: 0.8507, Val_Accuracy: 0.6667\n"
     ]
    },
    {
     "name": "stdout",
     "output_type": "stream",
     "text": [
      "109/109 [==============================] - 1s 8ms/step - loss: 0.8399 - accuracy: 0.6701 - mae: 0.0767 - val_loss: 0.8507 - val_accuracy: 0.6667 - val_mae: 0.0778\n",
      "Epoch 91/100\n",
      "104/109 [===========================>..] - ETA: 0s - loss: 0.8286 - accuracy: 0.6773 - mae: 0.0761\n",
      "Epoch 91: val_accuracy did not improve from 0.68687\n"
     ]
    },
    {
     "name": "stderr",
     "output_type": "stream",
     "text": [
      "Epoch 91, Loss: 0.8255, Accuracy: 0.6797, Val_Loss: 0.8305, Val_Accuracy: 0.6758\n"
     ]
    },
    {
     "name": "stdout",
     "output_type": "stream",
     "text": [
      "109/109 [==============================] - 1s 9ms/step - loss: 0.8255 - accuracy: 0.6797 - mae: 0.0759 - val_loss: 0.8305 - val_accuracy: 0.6758 - val_mae: 0.0767\n",
      "Epoch 92/100\n",
      "109/109 [==============================] - ETA: 0s - loss: 0.8308 - accuracy: 0.6788 - mae: 0.0761\n",
      "Epoch 92: val_accuracy did not improve from 0.68687\n"
     ]
    },
    {
     "name": "stderr",
     "output_type": "stream",
     "text": [
      "Epoch 92, Loss: 0.8308, Accuracy: 0.6788, Val_Loss: 0.8352, Val_Accuracy: 0.6818\n"
     ]
    },
    {
     "name": "stdout",
     "output_type": "stream",
     "text": [
      "109/109 [==============================] - 1s 9ms/step - loss: 0.8308 - accuracy: 0.6788 - mae: 0.0761 - val_loss: 0.8352 - val_accuracy: 0.6818 - val_mae: 0.0771\n",
      "Epoch 93/100\n",
      "108/109 [============================>.] - ETA: 0s - loss: 0.8370 - accuracy: 0.6742 - mae: 0.0768\n",
      "Epoch 93: val_accuracy improved from 0.68687 to 0.69091, saving model to 0926-datasets-ml/ml-cn-xmu-(JmolNN)/MLPmodel-20250121_1003/best_model.h5\n"
     ]
    },
    {
     "name": "stderr",
     "output_type": "stream",
     "text": [
      "Epoch 93, Loss: 0.8374, Accuracy: 0.6739, Val_Loss: 0.8183, Val_Accuracy: 0.6909\n"
     ]
    },
    {
     "name": "stdout",
     "output_type": "stream",
     "text": [
      "109/109 [==============================] - 1s 9ms/step - loss: 0.8374 - accuracy: 0.6739 - mae: 0.0769 - val_loss: 0.8183 - val_accuracy: 0.6909 - val_mae: 0.0751\n",
      "Epoch 94/100\n",
      "108/109 [============================>.] - ETA: 0s - loss: 0.8215 - accuracy: 0.6881 - mae: 0.0757\n",
      "Epoch 94: val_accuracy did not improve from 0.69091\n"
     ]
    },
    {
     "name": "stderr",
     "output_type": "stream",
     "text": [
      "Epoch 94, Loss: 0.8219, Accuracy: 0.6880, Val_Loss: 0.8566, Val_Accuracy: 0.6808\n"
     ]
    },
    {
     "name": "stdout",
     "output_type": "stream",
     "text": [
      "109/109 [==============================] - 1s 9ms/step - loss: 0.8219 - accuracy: 0.6880 - mae: 0.0757 - val_loss: 0.8566 - val_accuracy: 0.6808 - val_mae: 0.0766\n",
      "Epoch 95/100\n",
      "103/109 [===========================>..] - ETA: 0s - loss: 0.8252 - accuracy: 0.6745 - mae: 0.0762\n",
      "Epoch 95: val_accuracy did not improve from 0.69091\n"
     ]
    },
    {
     "name": "stderr",
     "output_type": "stream",
     "text": [
      "Epoch 95, Loss: 0.8241, Accuracy: 0.6779, Val_Loss: 0.8036, Val_Accuracy: 0.6889\n"
     ]
    },
    {
     "name": "stdout",
     "output_type": "stream",
     "text": [
      "109/109 [==============================] - 1s 9ms/step - loss: 0.8241 - accuracy: 0.6779 - mae: 0.0762 - val_loss: 0.8036 - val_accuracy: 0.6889 - val_mae: 0.0747\n",
      "Epoch 96/100\n",
      "103/109 [===========================>..] - ETA: 0s - loss: 0.8273 - accuracy: 0.6772 - mae: 0.0759\n",
      "Epoch 96: val_accuracy did not improve from 0.69091\n"
     ]
    },
    {
     "name": "stderr",
     "output_type": "stream",
     "text": [
      "Epoch 96, Loss: 0.8227, Accuracy: 0.6785, Val_Loss: 0.8299, Val_Accuracy: 0.6859\n"
     ]
    },
    {
     "name": "stdout",
     "output_type": "stream",
     "text": [
      "109/109 [==============================] - 1s 9ms/step - loss: 0.8227 - accuracy: 0.6785 - mae: 0.0756 - val_loss: 0.8299 - val_accuracy: 0.6859 - val_mae: 0.0753\n",
      "Epoch 97/100\n",
      "103/109 [===========================>..] - ETA: 0s - loss: 0.8134 - accuracy: 0.6851 - mae: 0.0743\n",
      "Epoch 97: val_accuracy did not improve from 0.69091\n"
     ]
    },
    {
     "name": "stderr",
     "output_type": "stream",
     "text": [
      "Epoch 97, Loss: 0.8163, Accuracy: 0.6828, Val_Loss: 0.8505, Val_Accuracy: 0.6758\n"
     ]
    },
    {
     "name": "stdout",
     "output_type": "stream",
     "text": [
      "109/109 [==============================] - 1s 10ms/step - loss: 0.8163 - accuracy: 0.6828 - mae: 0.0746 - val_loss: 0.8505 - val_accuracy: 0.6758 - val_mae: 0.0768\n",
      "Epoch 98/100\n",
      "108/109 [============================>.] - ETA: 0s - loss: 0.8086 - accuracy: 0.6861 - mae: 0.0744\n",
      "Epoch 98: val_accuracy did not improve from 0.69091\n"
     ]
    },
    {
     "name": "stderr",
     "output_type": "stream",
     "text": [
      "Epoch 98, Loss: 0.8094, Accuracy: 0.6860, Val_Loss: 0.7983, Val_Accuracy: 0.6899\n"
     ]
    },
    {
     "name": "stdout",
     "output_type": "stream",
     "text": [
      "109/109 [==============================] - 1s 9ms/step - loss: 0.8094 - accuracy: 0.6860 - mae: 0.0745 - val_loss: 0.7983 - val_accuracy: 0.6899 - val_mae: 0.0737\n",
      "Epoch 99/100\n",
      "105/109 [===========================>..] - ETA: 0s - loss: 0.8044 - accuracy: 0.6869 - mae: 0.0744\n",
      "Epoch 99: val_accuracy improved from 0.69091 to 0.69394, saving model to 0926-datasets-ml/ml-cn-xmu-(JmolNN)/MLPmodel-20250121_1003/best_model.h5\n"
     ]
    },
    {
     "name": "stderr",
     "output_type": "stream",
     "text": [
      "Epoch 99, Loss: 0.8045, Accuracy: 0.6866, Val_Loss: 0.8078, Val_Accuracy: 0.6939\n"
     ]
    },
    {
     "name": "stdout",
     "output_type": "stream",
     "text": [
      "109/109 [==============================] - 1s 10ms/step - loss: 0.8045 - accuracy: 0.6866 - mae: 0.0744 - val_loss: 0.8078 - val_accuracy: 0.6939 - val_mae: 0.0738\n",
      "Epoch 100/100\n",
      "104/109 [===========================>..] - ETA: 0s - loss: 0.8330 - accuracy: 0.6764 - mae: 0.0757\n",
      "Epoch 100: val_accuracy did not improve from 0.69394\n"
     ]
    },
    {
     "name": "stderr",
     "output_type": "stream",
     "text": [
      "Epoch 100, Loss: 0.8349, Accuracy: 0.6753, Val_Loss: 0.8329, Val_Accuracy: 0.6848\n"
     ]
    },
    {
     "name": "stdout",
     "output_type": "stream",
     "text": [
      "109/109 [==============================] - 1s 9ms/step - loss: 0.8349 - accuracy: 0.6753 - mae: 0.0758 - val_loss: 0.8329 - val_accuracy: 0.6848 - val_mae: 0.0757\n"
     ]
    }
   ],
   "source": [
    "all_labels = np.concatenate((y_train, y_valid, y_test))\n",
    "num_classes = len(np.unique(all_labels))\n",
    "min_label = np.min(all_labels)\n",
    "y_train = to_categorical(y_train - min_label, num_classes=num_classes)\n",
    "y_valid = to_categorical(y_valid - min_label, num_classes=num_classes)\n",
    "y_test = to_categorical(y_test - min_label, num_classes=num_classes)\n",
    "#model.add(Dense(num_classes, activation='softmax')) \n",
    "model = Sequential()\n",
    "model.add(Dense(512, input_dim=X_train.shape[1], activation='relu',kernel_regularizer=l2(0.001)))\n",
    "model.add(Dense(256, activation='relu',kernel_regularizer=l2(0.01)))\n",
    "model.add(Dense(128, activation='relu',kernel_regularizer=l2(0.001)))\n",
    "model.add(Dense(64, activation='relu',kernel_regularizer=l2(0.001)))\n",
    "model.add(Dense(32, activation='relu',kernel_regularizer=l2(0.001)))\n",
    "model.add(Dense(num_classes, activation='softmax'))\n",
    "optimizer = Adam(learning_rate=0.001)\n",
    "model.compile(optimizer='adam', loss='categorical_crossentropy', metrics=['accuracy','mae'])\n",
    "model_file = os.path.join(dir_output, 'best_model.h5')\n",
    "checkpoint = ModelCheckpoint(model_file, monitor='val_accuracy', verbose=1, save_best_only=True, mode='max')\n",
    "class CustomCallback(keras.callbacks.Callback):\n",
    "    def on_epoch_end(self, epoch, logs=None):\n",
    "        log_message = (f\"Epoch {epoch + 1}, \"\n",
    "                       f\"Loss: {logs['loss']:.4f}, \"\n",
    "                       f\"Accuracy: {logs['accuracy']:.4f}, \"\n",
    "                       f\"Val_Loss: {logs['val_loss']:.4f}, \"\n",
    "                       f\"Val_Accuracy: {logs['val_accuracy']:.4f}\")\n",
    "        logging.info(log_message)\n",
    "history = model.fit(X_train, y_train,\n",
    "                    epochs=100,\n",
    "                    batch_size=32,\n",
    "                    validation_data=(X_valid, y_valid),\n",
    "                    callbacks=[checkpoint, CustomCallback()])\n"
   ]
  },
  {
   "cell_type": "code",
   "execution_count": 5,
   "id": "c8d92b3d",
   "metadata": {
    "ExecuteTime": {
     "end_time": "2025-01-21T02:04:51.066159Z",
     "start_time": "2025-01-21T02:04:50.768374Z"
    }
   },
   "outputs": [
    {
     "name": "stdout",
     "output_type": "stream",
     "text": [
      "Model structure saved to: 0926-datasets-ml/ml-cn-xmu-(JmolNN)/MLPmodel-20250121_1003/model_structure.png\n"
     ]
    },
    {
     "data": {
      "image/png": "[encoded data removed]",
      "text/plain": [
       "<IPython.core.display.Image object>"
      ]
     },
     "metadata": {},
     "output_type": "display_data"
    }
   ],
   "source": [
    "# Plot and save the model structure\n",
    "model_structure_file = os.path.join(dir_output, 'model_structure.png')\n",
    "plot_model(model, to_file=model_structure_file, show_shapes=True, show_layer_names=True)\n",
    "print(f\"Model structure saved to: {model_structure_file}\")\n",
    "display(Image(filename=model_structure_file))"
   ]
  },
  {
   "cell_type": "markdown",
   "id": "1f6407c0",
   "metadata": {},
   "source": [
    "# Plot the loss curve of the training process"
   ]
  },
  {
   "cell_type": "code",
   "execution_count": 6,
   "id": "4a3b81b9",
   "metadata": {
    "ExecuteTime": {
     "end_time": "2025-01-21T02:04:51.934096Z",
     "start_time": "2025-01-21T02:04:51.071414Z"
    }
   },
   "outputs": [
    {
     "data": {
      "image/png": "[encoded data removed]",
      "text/plain": [
       "<Figure size 720x432 with 1 Axes>"
      ]
     },
     "metadata": {
      "needs_background": "light"
     },
     "output_type": "display_data"
    },
    {
     "data": {
      "image/png": "[encoded data removed]",
      "text/plain": [
       "<Figure size 720x432 with 1 Axes>"
      ]
     },
     "metadata": {
      "needs_background": "light"
     },
     "output_type": "display_data"
    }
   ],
   "source": [
    "plt.figure(figsize=(10, 6))\n",
    "plt.plot(history.history['loss'], label='Training Loss', color='blue')\n",
    "plt.plot(history.history['val_loss'], label='Validation Loss', color='red')\n",
    "plt.title('Model Loss')\n",
    "plt.xlabel('Epoch')\n",
    "plt.ylabel('Loss')\n",
    "plt.legend()\n",
    "plt.grid(True)\n",
    "plt.savefig(os.path.join(dir_output, 'training_loss.png'))\n",
    "plt.show()\n",
    "# Draw the accuracy curve during training\n",
    "plt.figure(figsize=(10, 6))\n",
    "plt.plot(history.history['accuracy'], label='Training Accuracy', color='blue')\n",
    "plt.plot(history.history['val_accuracy'], label='Validation Accuracy', color='red')\n",
    "plt.title('Model Accuracy')\n",
    "plt.xlabel('Epoch')\n",
    "plt.ylabel('Accuracy')\n",
    "plt.legend()\n",
    "plt.grid(True)\n",
    "plt.savefig(os.path.join(dir_output, 'training_accuracy.png'))\n",
    "plt.show()\n"
   ]
  },
  {
   "cell_type": "markdown",
   "id": "48a8445e",
   "metadata": {},
   "source": [
    "# Predict and calculate accuracy\n",
    "\n",
    "## Prediction and Comparison:\n",
    "- The trained model is loaded using `load_model` function to predict the classes for the test set (`X_test`).\n",
    "- `y_test_classes`: The true class labels for the test set are adjusted based on the minimum label (`min_label`).\n",
    "- `y_pred_classes`: The predicted class labels for the test set are obtained by selecting the class with the highest probability from the model's output.\n",
    "  \n",
    "## Accuracy Calculation:\n",
    "- The accuracy of the predictions is computed using `accuracy_score` between the true and predicted class labels.\n",
    "\n",
    "## Evaluation Metrics:\n",
    "- **Mean Squared Error (MSE)**: Measures the average of the squared differences between true and predicted values.\n",
    "- **R² Score**: A statistical measure of how well the predicted values approximate the true values. The closer to 1, the better the model.\n",
    "- These metrics are printed and logged for further analysis.\n",
    "\n",
    "## Save Predictions:\n",
    "- The predicted class labels (`y_pred_classes`) are saved in a CSV file (`predictions.csv`) for later analysis.\n",
    "\n",
    "## Confusion Matrix:\n",
    "- A confusion matrix is generated using `confusion_matrix` to visually assess the performance of the classification model.\n",
    "- The matrix is plotted using a heatmap, showing the true versus predicted values.\n",
    "\n",
    "## Classification Report:\n",
    "- A detailed classification report (`classification_report`) is generated to evaluate the precision, recall, f1-score, and support for each class.\n",
    "- This report is saved as `classification_report.txt` for documentation purposes.\n",
    "\n",
    "## Plot True vs Predicted Values:\n",
    "- A plot is generated to compare the true values (`y_test_classes`) and predicted values (`y_pred_classes`) over the samples in the test set.\n",
    "- The plot is saved as `true_vs_predicted.png`.\n",
    "\n",
    "## Output Files:\n",
    "- Predictions: `predictions.csv`\n",
    "- Confusion Matrix: `confusion_matrix.png`\n",
    "- Classification Report: `classification_report.txt`\n",
    "- True vs Predicted Plot: `true_vs_predicted.png`\n"
   ]
  },
  {
   "cell_type": "code",
   "execution_count": 7,
   "id": "cb6e0da0",
   "metadata": {
    "ExecuteTime": {
     "end_time": "2025-01-21T02:04:53.999854Z",
     "start_time": "2025-01-21T02:04:51.938257Z"
    }
   },
   "outputs": [
    {
     "name": "stdout",
     "output_type": "stream",
     "text": [
      "2.0\n",
      "16/16 [==============================] - 0s 4ms/step\n"
     ]
    },
    {
     "name": "stderr",
     "output_type": "stream",
     "text": [
      "Test MSE: 0.474747\n",
      "Test R² Score: 0.944307\n",
      "Test accuracy: 0.668687\n"
     ]
    },
    {
     "name": "stdout",
     "output_type": "stream",
     "text": [
      "Test MSE: 0.474747\n",
      "Test R² Score: 0.944307\n",
      "Test accuracy: 0.668687\n"
     ]
    },
    {
     "data": {
      "image/png": "[encoded data removed]",
      "text/plain": [
       "<Figure size 720x504 with 2 Axes>"
      ]
     },
     "metadata": {
      "needs_background": "light"
     },
     "output_type": "display_data"
    },
    {
     "name": "stderr",
     "output_type": "stream",
     "text": [
      "/home/dell-hd/xraylarch/envs/hanxue2/lib/python3.8/site-packages/sklearn/metrics/_classification.py:1471: UndefinedMetricWarning: Precision and F-score are ill-defined and being set to 0.0 in labels with no predicted samples. Use `zero_division` parameter to control this behavior.\n",
      "  _warn_prf(average, modifier, msg_start, len(result))\n",
      "/home/dell-hd/xraylarch/envs/hanxue2/lib/python3.8/site-packages/sklearn/metrics/_classification.py:1471: UndefinedMetricWarning: Precision and F-score are ill-defined and being set to 0.0 in labels with no predicted samples. Use `zero_division` parameter to control this behavior.\n",
      "  _warn_prf(average, modifier, msg_start, len(result))\n",
      "/home/dell-hd/xraylarch/envs/hanxue2/lib/python3.8/site-packages/sklearn/metrics/_classification.py:1471: UndefinedMetricWarning: Precision and F-score are ill-defined and being set to 0.0 in labels with no predicted samples. Use `zero_division` parameter to control this behavior.\n",
      "  _warn_prf(average, modifier, msg_start, len(result))\n"
     ]
    },
    {
     "name": "stdout",
     "output_type": "stream",
     "text": [
      "              precision    recall  f1-score   support\n",
      "\n",
      "         2.0       0.00      0.00      0.00         1\n",
      "         3.0       0.91      0.86      0.88       154\n",
      "         4.0       0.76      0.79      0.77       122\n",
      "         5.0       0.64      0.78      0.70        32\n",
      "         6.0       1.00      0.38      0.55         8\n",
      "         7.0       0.44      0.31      0.36        13\n",
      "         8.0       0.38      0.57      0.45        30\n",
      "         9.0       0.39      0.58      0.47        53\n",
      "        10.0       0.41      0.23      0.30        47\n",
      "        11.0       0.53      0.35      0.42        26\n",
      "        12.0       0.60      0.33      0.43         9\n",
      "\n",
      "    accuracy                           0.67       495\n",
      "   macro avg       0.55      0.47      0.49       495\n",
      "weighted avg       0.68      0.67      0.67       495\n",
      "\n"
     ]
    },
    {
     "data": {
      "image/png": "[encoded data removed]",
      "text/plain": [
       "<Figure size 720x360 with 1 Axes>"
      ]
     },
     "metadata": {
      "needs_background": "light"
     },
     "output_type": "display_data"
    }
   ],
   "source": [
    "print(min_label)\n",
    "# Predict and calculate accuracy\n",
    "model = load_model(model_file)\n",
    "y_test_classes = np.argmax(y_test, axis=1) + min_label \n",
    "y_pred = model.predict(X_test)\n",
    "y_pred_classes  = np.argmax(y_pred, axis=1) + min_label   \n",
    "test_accuracy = accuracy_score(y_test_classes, y_pred_classes)\n",
    "# Calculate and print Mean Squared Error (MSE) and R² score\n",
    "mse = mean_squared_error(y_test_classes, y_pred_classes)\n",
    "r2 = r2_score(y_test_classes, y_pred_classes)\n",
    "print(f\"Test MSE: {mse:.6f}\")\n",
    "print(f\"Test R² Score: {r2:.6f}\")\n",
    "logging.info(f\"Test MSE: {mse:.6f}\")\n",
    "logging.info(f\"Test R² Score: {r2:.6f}\")\n",
    "print(f\"Test accuracy: {test_accuracy:.6f}\")\n",
    "logging.info(f\"Test accuracy: {test_accuracy:.6f}\")\n",
    "#print(f'Test Accuracy: {accuracy * 100:.2f}%')\n",
    "# Save predictions\n",
    "np.savetxt(os.path.join(dir_output, 'predictions.csv'), y_pred_classes, delimiter=',', fmt='%d')\n",
    "\n",
    "comparison = np.stack((y_test_classes, y_pred_classes), axis=-1)\n",
    "np.savetxt(os.path.join(dir_output, 'true_vs_predicted_classification.csv'), comparison, delimiter=',', fmt='%d', header='True,Predicted')\n",
    "#test_accuracy = accuracy_score(y_test_classes, y_pred_classes)\n",
    "#print(f\"Test accuracy: {test_accuracy:.6f}\")\n",
    "cm = confusion_matrix(y_test_classes, y_pred_classes)\n",
    "labels = np.arange(min_label, min_label + cm.shape[0])\n",
    "plt.figure(figsize=(10, 7))\n",
    "sns.heatmap(cm, annot=True, fmt='d', cmap='Blues', xticklabels=labels, yticklabels=labels)\n",
    "plt.xlabel('Predicted')\n",
    "plt.ylabel('Actual')\n",
    "plt.title('Confusion Matrix')\n",
    "plt.savefig(os.path.join(dir_output, 'confusion_matrix.png'))\n",
    "plt.show()\n",
    "# print the report of prediction\n",
    "report = classification_report(y_test_classes, y_pred_classes)\n",
    "print(report)\n",
    "report_path = os.path.join(dir_output, 'classification_report.txt')\n",
    "with open(report_path, 'w') as f:\n",
    "    f.write(report)\n",
    "plt.figure(figsize=(10, 5))\n",
    "plt.plot(y_test_classes, label='True Values (Test)', color='yellow', linewidth=1.5)\n",
    "plt.plot(y_pred_classes, label='Predicted Values (Test)', color='blue', linewidth=1.5)\n",
    "plt.xlabel('Samples')\n",
    "plt.ylabel('Values')\n",
    "plt.title('Comparison of True and Predicted Values (Test)')\n",
    "plt.legend()\n",
    "plt.grid(True)\n",
    "plt.savefig(os.path.join(dir_output, 'true_vs_predicted.png'))\n",
    "plt.show()\n"
   ]
  },
  {
   "cell_type": "code",
   "execution_count": null,
   "id": "e5120145",
   "metadata": {
    "ExecuteTime": {
     "end_time": "2025-01-06T10:06:21.696018Z",
     "start_time": "2025-01-06T10:06:21.691151Z"
    }
   },
   "outputs": [],
   "source": []
  },
  {
   "cell_type": "code",
   "execution_count": null,
   "id": "90ef3209",
   "metadata": {},
   "outputs": [],
   "source": []
  }
 ],
 "metadata": {
  "kernelspec": {
   "display_name": "hanxue2",
   "language": "python",
   "name": "hanxue2"
  },
  "language_info": {
   "codemirror_mode": {
    "name": "ipython",
    "version": 3
   },
   "file_extension": ".py",
   "mimetype": "text/x-python",
   "name": "python",
   "nbconvert_exporter": "python",
   "pygments_lexer": "ipython3",
   "version": "3.8.15"
  },
  "toc": {
   "base_numbering": 1,
   "nav_menu": {},
   "number_sections": true,
   "sideBar": true,
   "skip_h1_title": false,
   "title_cell": "Table of Contents",
   "title_sidebar": "Contents",
   "toc_cell": false,
   "toc_position": {},
   "toc_section_display": true,
   "toc_window_display": false
  }
 },
 "nbformat": 4,
 "nbformat_minor": 5
}
