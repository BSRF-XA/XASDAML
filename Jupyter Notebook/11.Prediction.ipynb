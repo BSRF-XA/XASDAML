{
 "cells": [
  {
   "cell_type": "markdown",
   "id": "5c169963",
   "metadata": {},
   "source": [
    "# Program Description of Prediction (Module 11)\n",
    "\n",
    "## Overview:\n",
    "This module is responsible for making predictions using a previously trained model. It takes the feature dataset to be tested, along with the trained model parameters and data preprocessing settings, and generates predictions. The results are then saved in a specified output file for further analysis.\n",
    "\n",
    "## Key Steps:\n",
    "1. **Input Files**:\n",
    "   - The feature dataset to be tested is provided as input. This dataset may include features to be used for making predictions (e.g., test set).\n",
    "   - The trained model parameters are loaded to make predictions based on the previously learned patterns.\n",
    "   - The data preprocessing parameters, such as normalization or transformation settings, are also loaded to ensure the correct preprocessing of the input features.\n",
    "\n",
    "2. **Model Loading**:\n",
    "   - The trained model is loaded from the model's path. This model contains the learned weights and configurations based on the training phase.\n",
    "\n",
    "3. **Data Preprocessing**:\n",
    "   - The feature dataset is preprocessed (normalized, scaled, or transformed) based on the parameters used during the model's training phase to ensure consistency.\n",
    "\n",
    "4. **Prediction**:\n",
    "   - The trained model performs predictions on the preprocessed test data.\n",
    "\n",
    "5. **Result Saving**:\n",
    "   - The prediction results are saved in the `test_predictions.txt` file located in the model's path.\n",
    "\n",
    "\n",
    "## Example:\n",
    "- The model generates predictions for the test dataset, and the results are saved in the output file (`test_predictions.txt`) for further evaluation and comparison.\n",
    " folder.\n",
    "\n"
   ]
  },
  {
   "cell_type": "markdown",
   "id": "c950a697",
   "metadata": {},
   "source": [
    "contacts：zhaohf@ihep.ac.cn"
   ]
  },
  {
   "cell_type": "markdown",
   "id": "e12f3b82",
   "metadata": {},
   "source": [
    "#  Import libraries"
   ]
  },
  {
   "cell_type": "code",
   "execution_count": 1,
   "id": "cf937563",
   "metadata": {
    "ExecuteTime": {
     "end_time": "2025-01-21T02:05:16.856175Z",
     "start_time": "2025-01-21T02:05:13.296396Z"
    }
   },
   "outputs": [
    {
     "name": "stderr",
     "output_type": "stream",
     "text": [
      "2025-01-21 10:05:13.471510: I tensorflow/core/util/util.cc:169] oneDNN custom operations are on. You may see slightly different numerical results due to floating-point round-off errors from different computation orders. To turn them off, set the environment variable `TF_ENABLE_ONEDNN_OPTS=0`.\n"
     ]
    }
   ],
   "source": [
    "import os\n",
    "import tensorflow.keras as keras\n",
    "import joblib\n",
    "import numpy as np\n",
    "import sys\n",
    "import matplotlib.pyplot as plt"
   ]
  },
  {
   "cell_type": "code",
   "execution_count": 2,
   "id": "3ab03255",
   "metadata": {
    "ExecuteTime": {
     "end_time": "2025-01-21T02:05:16.873208Z",
     "start_time": "2025-01-21T02:05:16.859278Z"
    }
   },
   "outputs": [
    {
     "name": "stdout",
     "output_type": "stream",
     "text": [
      "tensorflow: 2.9.1\n",
      "numpy: 1.23.5\n",
      "joblib: 1.4.0\n",
      "Python: 3.8.15 | packaged by conda-forge | (default, Nov 22 2022, 08:46:39) \n",
      "[GCC 10.4.0]\n"
     ]
    }
   ],
   "source": [
    "def get_python_version():\n",
    "    return sys.version\n",
    "def get_package_version(package_name):\n",
    "    try:\n",
    "        module = __import__(package_name)\n",
    "        version = getattr(module, '__version__', None)\n",
    "        if version:\n",
    "            return version\n",
    "        else:\n",
    "            return pkg_resources.get_distribution(package_name).version\n",
    "    except (ImportError, AttributeError, pkg_resources.DistributionNotFound):\n",
    "        return \"Version info not found\"\n",
    "\n",
    "packages = ['tensorflow', 'numpy', 'joblib']\n",
    "for package in packages:\n",
    "    print(f\"{package}: {get_package_version(package)}\")\n",
    "print(f\"Python: {get_python_version()}\")"
   ]
  },
  {
   "cell_type": "markdown",
   "id": "1412360b",
   "metadata": {},
   "source": [
    "# Parameter Settings \n",
    "\n",
    "## Input Files:\n",
    "- **Feature File** (`file_path_feature`): The test set file containing the feature data that will be used for predictions.\n",
    "    - Example: `\"0926-datasets/datasets(JmolNN)-pre-xmu-cn/xmu_test_JmolNN.txt\"`\n",
    "- **Model File** (`best_model_path`): The path to the trained model that will be used for making predictions.\n",
    "    - Example: `'0926-datasets-ml/ml-cn-xmu-(JmolNN)/MLPmodel-20250115_1903/best_model.h5'`\n",
    "\n",
    "## Model Configuration:\n",
    "- **round_predictions**: A boolean parameter that determines whether the predictions should be rounded. Set it to `True` if rounding is required.\n",
    "    - Example: `round_predictions = True`\n",
    "- **model_type**: Defines the type of model used for predictions, either `'MLP'` or `'CNN'`.\n",
    "    - Example: `model_type = 'MLP'`\n",
    "- **Regression**: A boolean parameter indicating whether the task is a regression task. Set to `True` for regression.\n",
    "    - Example: `Regression = True`\n",
    "- **min_label**: The minimum value for the label, used for adjusting the predicted values.\n",
    "    - Example: `min_label = 2`\n",
    "\n",
    "## Output:\n",
    "- The output predictions will be saved in the `test_predictions.txt` file under the directory specified by the model path.\n",
    "\n",
    "## File Existence Checks:\n",
    "- The program checks if the model file (`best_model_path`) and feature file (`file_path_feature`) exist. If either file is missing, a `FileNotFoundError` is raised.\n"
   ]
  },
  {
   "cell_type": "code",
   "execution_count": 3,
   "id": "4688728d",
   "metadata": {
    "ExecuteTime": {
     "end_time": "2025-01-21T02:05:16.885288Z",
     "start_time": "2025-01-21T02:05:16.875069Z"
    }
   },
   "outputs": [],
   "source": [
    "# Input file for the test set (features)\n",
    "file_path_feature = \"0926-datasets/datasets(JmolNN)-pre-xmu-cn/xmu_test_JmolNN.txt\"\n",
    "\n",
    "# Input file path for the trained model parameters\n",
    "model_path = '0926-datasets-ml/ml-cn-xmu-(JmolNN)/MLPmodel-20250121_1002'\n",
    "best_model_path = os.path.join(model_path, 'best_model.h5')\n",
    "\n",
    "# Parameter to determine whether to round the model predictions\n",
    "round_predictions = True  # Set to True if you want to round the predictions\n",
    "\n",
    "# Select the type of model being used: 'MLP' for Multi-layer Perceptron or 'CNN' for Convolutional Neural Network\n",
    "model_type = 'MLP'  # Options: 'MLP' or 'CNN'\n",
    "\n",
    "# Set the regression flag to determine if the task is a regression problem\n",
    "Regression = True  # Set to True for regression, False for classification\n",
    "\n",
    "# Minimum label value (used for filtering or constraints)\n",
    "min_label = 2\n",
    "\n",
    "# Check if the necessary files exist\n",
    "if not os.path.exists(best_model_path):\n",
    "    raise FileNotFoundError(f\"Model file not found: {best_model_path}\")\n",
    "if not os.path.exists(file_path_feature):\n",
    "    raise FileNotFoundError(f\"Feature file not found: {file_path_feature}\")\n"
   ]
  },
  {
   "cell_type": "markdown",
   "id": "ff09cdb7",
   "metadata": {},
   "source": [
    "# Function settings\n",
    "\n",
    "## Model Loading:\n",
    "- The trained model is loaded using the `keras.models.load_model` function from the specified path (`best_model_path`).\n",
    "    - Example: `model = keras.models.load_model(best_model_path)`\n",
    "\n",
    "## Data Loading:\n",
    "- The feature dataset (`file_path_feature`) is loaded using `np.loadtxt`.\n",
    "    - Example: `X_test = np.loadtxt(file_path_feature)`\n",
    "- If needed, you can uncomment the line to load the label data as well (`data_pre = np.loadtxt(file_path_label_pre, delimiter=',')`).\n",
    "\n",
    "## Data Path Information:\n",
    "- After loading the model and data, the paths of the loaded model and dataset are printed for verification.\n",
    "    - Example: `print(f\"Model loaded from: {best_model_path}\")`\n",
    "    - Example: `print(f\"Features loaded from: {file_path_feature}, shape: {X_test.shape}\")`\n",
    "\n",
    "## Data Preprocessing:\n",
    "- The test data (`X_test`) is preprocessed according to the model type:\n",
    "  - For **CNN** models, the data is reshaped to include an extra dimension.\n",
    "      - Preprocessing function: `preprocess_for_model_CNN(X)` which reshapes the data to `(-1, X.shape[1], 1)`.\n",
    "  - For **MLP** models, the data remains unchanged.\n",
    "      - Preprocessing function: `preprocess_for_model_MLP(X)` which keeps the data in its original form.\n",
    "    - Example: `X_test_preprocessed = preprocess_ffor_model_MLP(X_test)` based on the `model_type`.\n"
   ]
  },
  {
   "cell_type": "code",
   "execution_count": 4,
   "id": "baf07554",
   "metadata": {
    "ExecuteTime": {
     "end_time": "2025-01-21T02:05:17.474395Z",
     "start_time": "2025-01-21T02:05:16.893209Z"
    }
   },
   "outputs": [
    {
     "name": "stderr",
     "output_type": "stream",
     "text": [
      "2025-01-21 10:05:17.141100: I tensorflow/core/platform/cpu_feature_guard.cc:193] This TensorFlow binary is optimized with oneAPI Deep Neural Network Library (oneDNN) to use the following CPU instructions in performance-critical operations:  SSE4.1 SSE4.2 AVX AVX2 AVX512F AVX512_VNNI FMA\n",
      "To enable them in other operations, rebuild TensorFlow with the appropriate compiler flags.\n"
     ]
    },
    {
     "name": "stdout",
     "output_type": "stream",
     "text": [
      "Model loaded from: 0926-datasets-ml/ml-cn-xmu-(JmolNN)/MLPmodel-20250121_1002/best_model.h5\n",
      "Features loaded from: 0926-datasets/datasets(JmolNN)-pre-xmu-cn/xmu_test_JmolNN.txt, shape: (495, 1000)\n"
     ]
    }
   ],
   "source": [
    "# Load the trained model\n",
    "model = keras.models.load_model(best_model_path)\n",
    "\n",
    "# Uncomment the following line if you need to load the scaler for preprocessing\n",
    "# scaler = joblib.load(scaler_path)\n",
    "\n",
    "# Load the test data (features)\n",
    "X_test = np.loadtxt(file_path_feature)\n",
    "\n",
    "# Print the loaded information\n",
    "print(f\"Model loaded from: {best_model_path}\")\n",
    "# Uncomment the following line if you need to print the output directory information\n",
    "# print(f\"Output directory created at: {output_dir}\")\n",
    "print(f\"Features loaded from: {file_path_feature}, shape: {X_test.shape}\")\n",
    "\n",
    "# Apply preprocessing (scaling) to the test data if needed\n",
    "# Uncomment the following line if you need to scale the test data\n",
    "# X_test = scaler.transform(X_test_raw)\n",
    "\n",
    "# Reshape the test data for CNN or MLP based on the model type\n",
    "def preprocess_for_model_CNN(X):\n",
    "    # Reshape the data for CNN input (e.g., add a channel dimension)\n",
    "    return X.reshape(-1, X.shape[1], 1)\n",
    "\n",
    "def preprocess_for_model_MLP(X):\n",
    "    # For MLP, no reshaping is required (data remains 2D)\n",
    "    return X\n",
    "\n",
    "# Preprocess the test data based on the selected model type\n",
    "if model_type == 'CNN':\n",
    "    X_test_preprocessed = preprocess_for_model_CNN(X_test)\n",
    "elif model_type == 'MLP':\n",
    "    X_test_preprocessed = preprocess_for_model_MLP(X_test)\n"
   ]
  },
  {
   "cell_type": "markdown",
   "id": "08b36596",
   "metadata": {},
   "source": [
    "#  Main program\n",
    "-Predict the Dataset by Loading the Model and Save the Prediction Results\n",
    "\n",
    "## Prediction for Regression Tasks:\n",
    "- If the model is configured for regression (i.e., `Regression=True`), the model predicts continuous values for the test dataset (`X_test_preprocessed`).\n",
    "    - The predictions are then flattened using `y_pre = y_pre.ravel()`.\n",
    "    - If `round_predictions` is set to `True`, the predictions are rounded to the nearest integer using `y_pre = np.round(y_pre)`.\n",
    "\n",
    "## Prediction for Classification Tasks:\n",
    "- If the model is not a regression model, predictions are made for classification tasks.\n",
    "    - For classification, the class probabilities are predicted using `model.predict(X_test)`, and the class labels are obtained by taking the `argmax` of the predictions.\n",
    "    - The predicted class labels are adjusted by adding the `min_label` value: `y_pre = np.argmax(y_pred, axis=1) + min_label`.\n",
    "\n",
    "## Saving Predictions:\n",
    "- The predictions are saved to a file `test_predictions.txt` in the model directory (`model_path`).\n",
    "    - Example: `np.savetxt(output_file, y_pre, delimiter=',')`\n",
    "    - A message is printed to confirm the location of the saved predictions: `print(f\"Predictions saved to: {output_file}\")`.\n",
    "\n",
    "## Plotting Predicted Labels Distribution:\n",
    "- A histogram of the predicted labels (`y_pre`) is generated to show the distribution of the predicted values.\n",
    "    - The histogram is saved as a PNG file (`predicted_y_distribution.png`) under the model path (`model_path`).\n",
    "    - The plot includes labels for the x-axis, y-axis, and a title, along with a grid for better visualization.\n",
    "    - Example: `plt.savefig(predicted_label_distribution_path)` and `plt.show()`.\n"
   ]
  },
  {
   "cell_type": "code",
   "execution_count": 5,
   "id": "7a9cd5f1",
   "metadata": {
    "ExecuteTime": {
     "end_time": "2025-01-21T02:05:17.718231Z",
     "start_time": "2025-01-21T02:05:17.476814Z"
    }
   },
   "outputs": [
    {
     "name": "stdout",
     "output_type": "stream",
     "text": [
      "16/16 [==============================] - 0s 3ms/step\n",
      "Output directory created at: 0926-datasets-ml/ml-cn-xmu-(JmolNN)/MLPmodel-20250121_1002/test_predictions.txt\n",
      "Predictions saved to: 0926-datasets-ml/ml-cn-xmu-(JmolNN)/MLPmodel-20250121_1002/test_predictions.txt\n"
     ]
    }
   ],
   "source": [
    "if Regression:\n",
    "    y_pre = model.predict(X_test_preprocessed)\n",
    "    y_pre = y_pre.ravel()\n",
    "    if round_predictions:\n",
    "        y_pre = np.round(y_pre)\n",
    "else:\n",
    "    y_pred = model.predict(X_test)\n",
    "    y_pre = np.argmax(y_pred, axis=1) + min_label   \n",
    "# Apply rounding if round_predictions is True\n",
    "output_file = os.path.join(model_path, \"test_predictions.txt\")\n",
    "print(f\"Output directory created at: {output_file}\")\n",
    "np.savetxt(output_file, y_pre, delimiter=',')\n",
    "print(f\"Predictions saved to: {output_file}\")"
   ]
  },
  {
   "cell_type": "code",
   "execution_count": 6,
   "id": "de538f90",
   "metadata": {
    "ExecuteTime": {
     "end_time": "2025-01-21T02:05:18.252820Z",
     "start_time": "2025-01-21T02:05:17.721890Z"
    }
   },
   "outputs": [
    {
     "data": {
      "image/png": "[encoded data removed]",
      "text/plain": [
       "<Figure size 864x576 with 1 Axes>"
      ]
     },
     "metadata": {
      "needs_background": "light"
     },
     "output_type": "display_data"
    }
   ],
   "source": [
    "#Plot a distribution histogram of the predicted labels\n",
    "plt.figure(figsize=(12, 8))\n",
    "plt.hist(y_pre, bins=20, color='skyblue', edgecolor='black', alpha=0.7)\n",
    "plt.xlabel(\"Predicted Labels\", fontsize=12)\n",
    "plt.ylabel(\"Frequency\", fontsize=12)\n",
    "plt.title(\"Distribution of Predicted Labels\", fontsize=12)\n",
    "plt.xticks(rotation=0, fontsize=12)\n",
    "plt.yticks(rotation=0, fontsize=12)\n",
    "plt.grid(True)\n",
    "predicted_label_distribution_path = os.path.join(model_path, \"predicted_y_distribution.png\")\n",
    "plt.savefig(predicted_label_distribution_path)\n",
    "plt.show()"
   ]
  },
  {
   "cell_type": "code",
   "execution_count": null,
   "id": "5ff9758d",
   "metadata": {},
   "outputs": [],
   "source": []
  }
 ],
 "metadata": {
  "kernelspec": {
   "display_name": "Python 3 (ipykernel)",
   "language": "python",
   "name": "python3"
  },
  "language_info": {
   "codemirror_mode": {
    "name": "ipython",
    "version": 3
   },
   "file_extension": ".py",
   "mimetype": "text/x-python",
   "name": "python",
   "nbconvert_exporter": "python",
   "pygments_lexer": "ipython3",
   "version": "3.11.4"
  },
  "toc": {
   "base_numbering": 1,
   "nav_menu": {},
   "number_sections": true,
   "sideBar": true,
   "skip_h1_title": false,
   "title_cell": "Table of Contents",
   "title_sidebar": "Contents",
   "toc_cell": false,
   "toc_position": {},
   "toc_section_display": true,
   "toc_window_display": false
  }
 },
 "nbformat": 4,
 "nbformat_minor": 5
}
