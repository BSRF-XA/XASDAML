{
 "cells": [
  {
   "cell_type": "markdown",
   "id": "1f0e86b0",
   "metadata": {},
   "source": [
    "# Program Description for Structure Descriptor Simulation (Module 2)\r\n",
    "\r\n",
    "## 1. Module Overview\r\n",
    "This module processes a cluster file in `.xyz` format containing `n` 3D structures (where `n` is the number of samples).\r\n",
    "\r\n",
    "## 2. Functionalities\r\n",
    "It integrates six commonly used neighbor atom calculation methods to compute coordination numbers (CN) and bond lengths (CR).\r\n",
    "\r\n",
    "## 3. Implemented Methods\r\n",
    "The following methods are implemented for calculating the structural descriptors:\r\n",
    "\r\n",
    "- **EconNN**: Effective Coordination Number\r\n",
    "- **VoronoiNN**: Voronoi Coordination Method\r\n",
    "- **CrystalNN**: Crystal Nearest Neighbor Method\r\n",
    "- **MinimumDistanceNN**: Minimum Distance Algorithm\r\n",
    "- **JmolNN**: Jmol Algorithm\r\n",
    "- **BrunnerNN**: Brunner Method\r\n",
    "\r\n",
    "## 4. Additional Features\r\n",
    "Additionally, the module provides an option to calculate the Radial Distribution Function (RDF) for each structure.\r\n",
    "\r\n",
    "## 5. Output\r\n",
    "- The calculated spectra are saved in a file named `datasets` in the current directory.\r\n",
    "- Structure descriptors calculated by different methods are saved in separate files, named after the method used. For example, the coordination number calculated by the EconNN method is saved as `cn_EconNN` in the `cn` folder.\r\n",
    "\r\n",
    "## 6. Progress Monitoring\r\n",
    "This program includes a progress bar during the calculation process to monitor the progress of sample processing in real-time.\r\n",
    "\r\n",
    "## 7. Parameters\r\n",
    "- **`num_processes`**: Specifies the number of processes used for multi-process parallel computation.\r\n",
    "- **`n`**: Defines the total number of samples to be processed.\r\n"
   ]
  },
  {
   "cell_type": "markdown",
   "id": "c5457e25",
   "metadata": {},
   "source": []
  },
  {
   "cell_type": "markdown",
   "id": "ed5928d6",
   "metadata": {},
   "source": [
    "#  Import libraries"
   ]
  },
  {
   "cell_type": "code",
   "execution_count": 1,
   "id": "a94d1aa0",
   "metadata": {
    "ExecuteTime": {
     "end_time": "2025-01-13T07:24:33.684136Z",
     "start_time": "2025-01-13T07:24:32.532344Z"
    }
   },
   "outputs": [],
   "source": [
    "import os\n",
    "import pandas as pd\n",
    "import multiprocessing\n",
    "from multiprocessing import Lock, Pool, Manager\n",
    "from tqdm import tqdm\n",
    "from pymatgen.io.ase import AseAtomsAdaptor\n",
    "from pymatgen.core import Structure\n",
    "#import pymatgen.analysis.local_env as getNN\n",
    "from pymatgen.analysis.local_env import EconNN, VoronoiNN, CrystalNN, MinimumDistanceNN, JmolNN, BrunnerNN_relative\n",
    "from ase.io import read, write\n",
    "from os.path import join, exists, basename\n",
    "from vasppy.rdf import RadialDistributionFunction\n",
    "import glob\n",
    "import re\n",
    "import sys \n",
    "import pkg_resources"
   ]
  },
  {
   "cell_type": "markdown",
   "id": "bc5b90b2",
   "metadata": {},
   "source": [
    "##  Version Information"
   ]
  },
  {
   "cell_type": "code",
   "execution_count": 2,
   "id": "d485aedb",
   "metadata": {
    "ExecuteTime": {
     "end_time": "2025-01-13T07:24:33.692905Z",
     "start_time": "2025-01-13T07:24:33.685974Z"
    }
   },
   "outputs": [
    {
     "name": "stdout",
     "output_type": "stream",
     "text": [
      "pandas: 2.0.3\n",
      "tqdm: 4.62.3\n",
      "pymatgen: 2023.8.10\n",
      "ase: 3.22.0\n",
      "vasppy: 0.7.1.0\n",
      "re: 2.2.1\n",
      "Python: 3.8.15 | packaged by conda-forge | (default, Nov 22 2022, 08:46:39) \n",
      "[GCC 10.4.0]\n"
     ]
    }
   ],
   "source": [
    "def get_python_version():\n",
    "    return sys.version\n",
    "def get_package_version(package_name):\n",
    "    try:\n",
    "        module = __import__(package_name)\n",
    "        version = getattr(module, '__version__', None)\n",
    "        if version:\n",
    "            return version\n",
    "        else:\n",
    "            return pkg_resources.get_distribution(package_name).version\n",
    "    except (ImportError, AttributeError, pkg_resources.DistributionNotFound):\n",
    "        return \"Version info not found\"\n",
    "\n",
    "packages = ['pandas', 'tqdm', 'pymatgen', 'ase', 'vasppy', 're']\n",
    "for package in packages:\n",
    "    print(f\"{package}: {get_package_version(package)}\")\n",
    "print(f\"Python: {get_python_version()}\")"
   ]
  },
  {
   "cell_type": "markdown",
   "id": "a2144f87",
   "metadata": {},
   "source": [
    "#  Parameter settings"
   ]
  },
  {
   "cell_type": "markdown",
   "id": "fbd6106a",
   "metadata": {},
   "source": [
    "## Parameters:\r\n",
    "\r\n",
    "- **`num_processes`**: \r\n",
    "  - Used to manually set the number of processes for parallel computation.\r\n",
    "  - Increasing this value allows the program to process more samples concurrently, potentially speeding up the computation for large datasets.\r\n",
    "\r\n",
    "- **`n`**:\r\n",
    "  - Defines the number of samples to be processed.\r\n",
    "  - If you're unsure about the value, you can set this to a larger number to ensure that enough samples are processed. The program will handle any remaining samples.\r\n",
    "\r\n",
    "- **`methods`**:\r\n",
    "  - Specifies the calculation methods to be used for structure analysis.\r\n",
    "  - Multiple methods can be selected, allowing users to choose different techniques for calculating structural descriptors (e.g., coordination number, bond length).\r\n",
    "  - Users can select more than one method for a more comprehensive analysis.\r\n"
   ]
  },
  {
   "cell_type": "code",
   "execution_count": 3,
   "id": "e8adf74e",
   "metadata": {
    "ExecuteTime": {
     "end_time": "2025-01-13T07:24:33.702989Z",
     "start_time": "2025-01-13T07:24:33.694145Z"
    }
   },
   "outputs": [],
   "source": [
    "# Format of the input data. Options are 'vasp-xdatcar' or 'lammps-dump-text'\n",
    "format = \"lammps-dump-text\"\n",
    "\n",
    "# Name of the input data file containing atomic structures\n",
    "data_input = \"Cu-20220624.xyz\"\n",
    "\n",
    "# Boolean flag indicating whether to read a single file or multiple files\n",
    "read_single_file = True\n",
    "\n",
    "# Keyword used to filter or identify specific elements or atoms in the data\n",
    "keyword = \"Cu\"\n",
    "\n",
    "# Base directory for storing various types of data and output files\n",
    "data_dir = \"1010-datasets\"\n",
    "\n",
    "# Directory for storing coordination number (CN) data\n",
    "cn_dir = join(data_dir, \"cn\")\n",
    "\n",
    "# Directory for storing crystal structure (CR) data\n",
    "cr_dir = join(data_dir, \"cr\")\n",
    "\n",
    "# Directory for storing radial distribution function (RDF) data in CSV format\n",
    "rdf_dir_csv = join(data_dir, \"rdf\")\n",
    "\n",
    "# Directory for storing POSCAR files (a file format used in VASP for atomic structures)\n",
    "poscar_dir = join(data_dir, \"poscar\")\n",
    "\n",
    "# Number of processes to use for parallel computation\n",
    "num_processes = 5\n",
    "\n",
    "# Parameter specifying the number of samples or iterations, used in computations \n",
    "n = 10\n",
    "\n",
    "# List of methods for determining nearest neighbors or computing properties related to atomic structures\n",
    "methods = [\n",
    "    'BrunnerNN_relative',  # Relative nearest neighbor method\n",
    "    'VoronoiNN',           # Voronoi tessellation-based nearest neighbor method\n",
    "    'JmolNN',              # Nearest neighbor method from Jmol\n",
    "    'MinimumDistanceNN',   # Simple nearest neighbor based on minimum distance\n",
    "    'CrystalNN',           # Crystal-based nearest neighbor determination\n",
    "    'EconNN'               # Efficient nearest neighbor determination\n",
    "]\n",
    "\n",
    "# Create the necessary directories if they do not already exist\n",
    "os.makedirs(data_dir, exist_ok=True)\n",
    "os.makedirs(cn_dir, exist_ok=True)\n",
    "os.makedirs(cr_dir, exist_ok=True)\n",
    "os.makedirs(rdf_dir_csv, exist_ok=True)\n",
    "os.makedirs(poscar_dir, exist_ok=True)\n"
   ]
  },
  {
   "cell_type": "code",
   "execution_count": 4,
   "id": "6d89f1a2",
   "metadata": {
    "ExecuteTime": {
     "end_time": "2025-01-13T07:24:35.425449Z",
     "start_time": "2025-01-13T07:24:33.704843Z"
    }
   },
   "outputs": [
    {
     "name": "stdout",
     "output_type": "stream",
     "text": [
      "CPU_numbers: 64\n",
      "Sample_numbers: 5001\n",
      "Structure calculation methods: ['BrunnerNN_relative', 'VoronoiNN', 'JmolNN', 'MinimumDistanceNN', 'CrystalNN', 'EconNN']\n",
      "Number of samples to process: 10\n",
      "Number of processes to use for parallel computing: 5\n"
     ]
    }
   ],
   "source": [
    "def extract_number(filename):\n",
    "    match = re.findall(r'\\d+', basename(filename))\n",
    "    numbers = [int(num) for num in match]\n",
    "    return max(numbers) if numbers else float('inf')\n",
    "if read_single_file:\n",
    "    traj = read(data_input, format=format, index=':')\n",
    "    total_samples = len(traj)\n",
    "else:\n",
    "    file_paths = sorted(glob.glob(join(data_input, '*.xyz')), key=extract_number)\n",
    "    print(\"Sorted file paths:\")\n",
    "    for file_path in file_paths:\n",
    "         print(file_path)\n",
    "    trajectories = [read(file_path, format=format) for file_path in file_paths]\n",
    "    total_samples = len(trajectories)\n",
    "cpu_count = os.cpu_count()\n",
    "print(f\"CPU_numbers: {cpu_count}\")\n",
    "print(f\"Sample_numbers: {total_samples}\")\n",
    "num_samples_to_process = min(n, total_samples)\n",
    "num_processes=min(num_processes, cpu_count)\n",
    "print(f\"Structure calculation methods: {methods}\")\n",
    "print(f\"Number of samples to process: {num_samples_to_process}\")\n",
    "print(f\"Number of processes to use for parallel computing: {num_processes}\")"
   ]
  },
  {
   "cell_type": "markdown",
   "id": "3bb38778",
   "metadata": {},
   "source": [
    "# Function settings"
   ]
  },
  {
   "cell_type": "code",
   "execution_count": 5,
   "id": "f8c8b5db",
   "metadata": {
    "ExecuteTime": {
     "end_time": "2025-01-13T07:24:35.438318Z",
     "start_time": "2025-01-13T07:24:35.426940Z"
    }
   },
   "outputs": [],
   "source": [
    "def compute_coordination(frame, absorbing_atom, structure, k):\n",
    "    \"\"\"Calculate the coordination number and average bond length\"\"\"\n",
    "    label = {'index': k}\n",
    "    for method_class in [BrunnerNN_relative, VoronoiNN, JmolNN, MinimumDistanceNN, CrystalNN, EconNN]:\n",
    "        method = method_class()\n",
    "        try:\n",
    "            cn = method.get_cn(structure=structure, n=absorbing_atom)\n",
    "            neighbors = method.get_nn_info(structure=structure, n=absorbing_atom)\n",
    "            avg_bond_length = sum(neighbor['site'].distance(structure[absorbing_atom]) for neighbor in neighbors) / cn if cn > 0 else 0\n",
    "            method_name = method.__class__.__name__\n",
    "            label[f'CN_{method_name}'] = cn\n",
    "            label[f'CR_{method_name}'] = avg_bond_length\n",
    "        except Exception as e:\n",
    "            print(f\"Error with {method.__class__.__name__}: {e}\")\n",
    "            label[f'CN_{method_name}'] = None\n",
    "            label[f'CR_{method_name}'] = None\n",
    "    return label\n",
    "\n",
    "def process_sample(args):\n",
    "    \"\"\"Processing a single sample\"\"\"\n",
    "    j, frame, cn_dir, cr_dir, methods, lock = args\n",
    "    try:\n",
    "        frame.set_cell((40, 40, 40))\n",
    "        structure = AseAtomsAdaptor.get_structure(frame)\n",
    "        absorbing_atom = 0  # Assume the first atom is the absorbing atom\n",
    "        results = compute_coordination(frame, absorbing_atom, structure, j)\n",
    "        for method in methods:\n",
    "            save_data({'index': results['index'], f'CN_{method}': results[f'CN_{method}']},\n",
    "                      join(cn_dir, f\"cn_{method}.csv\"), lock)\n",
    "            save_data({'index': results['index'], f'CR_{method}': results[f'CR_{method}']},\n",
    "                      join(cr_dir, f\"cr_{method}.csv\"), lock)\n",
    "    except Exception as e:\n",
    "        print(f\"Error processing sample {j}: {e}\")\n",
    "\n",
    "def save_data(label, save_path, lock):\n",
    "    \"\"\"Universal function to save data\"\"\"\n",
    "    lock.acquire()\n",
    "    try:\n",
    "        if not exists(save_path):\n",
    "            data = pd.DataFrame()\n",
    "        else:\n",
    "            data = pd.read_csv(save_path)\n",
    "        print(f\"Saving data to {save_path}: {label}\")  # Debugging info\n",
    "        data = pd.concat([data, pd.DataFrame([label])], ignore_index=True)\n",
    "        data.to_csv(save_path, index=False)\n",
    "    finally:\n",
    "        lock.release()\n",
    "\n",
    "def sort_and_save_csv(file_path):\n",
    "    \"\"\"Sort by index and save to CSV file\"\"\"\n",
    "    if os.path.exists(file_path):\n",
    "        data = pd.read_csv(file_path)\n",
    "        data = data.sort_values(by=\"index\")\n",
    "        data.to_csv(file_path, index=False)\n",
    "        print(f\"Sorted and saved: {file_path}\")\n",
    "    else:\n",
    "        print(f\"File does not exist: {file_path}\")\n",
    "\n",
    "def compute_rdf(sample, index, rdf_dir_csv):\n",
    "    \"\"\"Calculate the radial distribution function and save it to a CSV file\"\"\"\n",
    "    tmp_poscar = join(poscar_dir, f'POSCAR_{index}')\n",
    "    write(tmp_poscar, sample, format='vasp', vasp5=True)\n",
    "    \n",
    "    clu = Structure.from_file(tmp_poscar)\n",
    "    indices_1 = [i for i, site in enumerate(clu) if site.species_string == keyword and i != 0]\n",
    "    \n",
    "    rdf_cucu = RadialDistributionFunction(structures=[clu], indices_i=[0], indices_j=indices_1,\n",
    "                                          r_min=1.0, r_max=8.0, nbins=100)\n",
    "    \n",
    "    rdf_data = pd.DataFrame({'r': rdf_cucu.r, 'g(r)': rdf_cucu.smeared_rdf()})\n",
    "    rdf_data = rdf_data.round(3)\n",
    "    csv_path = join(rdf_dir_csv, f'{index}.csv')\n",
    "    rdf_data.to_csv(csv_path, index=False)\n",
    "    print(f'RDF data has been saved to {csv_path}')\n",
    "def sort_and_save_csv(file_path):\n",
    "    if os.path.exists(file_path):\n",
    "        data = pd.read_csv(file_path)\n",
    "        data = data.sort_values(by=\"index\")  # Sort by index\n",
    "        data.to_csv(file_path, index=False)\n",
    "        print(f\"Sorted and saved: {file_path}\")\n",
    "    else:\n",
    "        print(f\"File does not exist: {file_path}\")\n"
   ]
  },
  {
   "cell_type": "markdown",
   "id": "84cc39e2",
   "metadata": {},
   "source": [
    "# Main program"
   ]
  },
  {
   "cell_type": "code",
   "execution_count": 6,
   "id": "73ba54cb",
   "metadata": {
    "ExecuteTime": {
     "end_time": "2025-01-13T07:24:37.747682Z",
     "start_time": "2025-01-13T07:24:35.439519Z"
    }
   },
   "outputs": [
    {
     "name": "stderr",
     "output_type": "stream",
     "text": [
      "Computing Samples:   0%|                                 | 0/10 [00:00<?, ?it/s]/home/dell-hd/xraylarch/envs/hanxue2/lib/python3.8/site-packages/pymatgen/analysis/local_env.py:4141: UserWarning: No oxidation states specified on sites! For better results, set the site oxidation states in the structure.\n",
      "  warnings.warn(\n",
      "/home/dell-hd/xraylarch/envs/hanxue2/lib/python3.8/site-packages/pymatgen/analysis/local_env.py:3935: UserWarning: CrystalNN: cannot locate an appropriate radius, covalent or atomic radii will be used, this can lead to non-optimal results.\n",
      "  warnings.warn(\n",
      "/home/dell-hd/xraylarch/envs/hanxue2/lib/python3.8/site-packages/pymatgen/analysis/local_env.py:4141: UserWarning: No oxidation states specified on sites! For better results, set the site oxidation states in the structure.\n",
      "  warnings.warn(\n",
      "/home/dell-hd/xraylarch/envs/hanxue2/lib/python3.8/site-packages/pymatgen/analysis/local_env.py:3935: UserWarning: CrystalNN: cannot locate an appropriate radius, covalent or atomic radii will be used, this can lead to non-optimal results.\n",
      "  warnings.warn(\n",
      "/home/dell-hd/xraylarch/envs/hanxue2/lib/python3.8/site-packages/pymatgen/analysis/local_env.py:4141: UserWarning: No oxidation states specified on sites! For better results, set the site oxidation states in the structure.\n",
      "  warnings.warn(\n",
      "/home/dell-hd/xraylarch/envs/hanxue2/lib/python3.8/site-packages/pymatgen/analysis/local_env.py:3935: UserWarning: CrystalNN: cannot locate an appropriate radius, covalent or atomic radii will be used, this can lead to non-optimal results.\n",
      "  warnings.warn(\n",
      "/home/dell-hd/xraylarch/envs/hanxue2/lib/python3.8/site-packages/pymatgen/analysis/local_env.py:4141: UserWarning: No oxidation states specified on sites! For better results, set the site oxidation states in the structure.\n",
      "  warnings.warn(\n",
      "/home/dell-hd/xraylarch/envs/hanxue2/lib/python3.8/site-packages/pymatgen/analysis/local_env.py:3935: UserWarning: CrystalNN: cannot locate an appropriate radius, covalent or atomic radii will be used, this can lead to non-optimal results.\n",
      "  warnings.warn(\n",
      "/home/dell-hd/xraylarch/envs/hanxue2/lib/python3.8/site-packages/pymatgen/analysis/local_env.py:4141: UserWarning: No oxidation states specified on sites! For better results, set the site oxidation states in the structure.\n",
      "  warnings.warn(\n",
      "/home/dell-hd/xraylarch/envs/hanxue2/lib/python3.8/site-packages/pymatgen/analysis/local_env.py:3935: UserWarning: CrystalNN: cannot locate an appropriate radius, covalent or atomic radii will be used, this can lead to non-optimal results.\n",
      "  warnings.warn(\n"
     ]
    },
    {
     "name": "stdout",
     "output_type": "stream",
     "text": [
      "Saving data to 1010-datasets/cn/cn_BrunnerNN_relative.csv: {'index': 4, 'CN_BrunnerNN_relative': 3}\n",
      "Saving data to 1010-datasets/cr/cr_BrunnerNN_relative.csv: {'index': 4, 'CR_BrunnerNN_relative': 2.4950970138707143}\n",
      "Saving data to 1010-datasets/cn/cn_VoronoiNN.csv: {'index': 4, 'CN_VoronoiNN': 15}\n",
      "Saving data to 1010-datasets/cr/cr_VoronoiNN.csv: {'index': 4, 'CR_VoronoiNN': 7.391947459363609}\n",
      "Saving data to 1010-datasets/cn/cn_BrunnerNN_relative.csv: {'index': 1, 'CN_BrunnerNN_relative': 3}\n",
      "Saving data to 1010-datasets/cn/cn_JmolNN.csv: {'index': 4, 'CN_JmolNN': 5}\n",
      "Saving data to 1010-datasets/cr/cr_BrunnerNN_relative.csv: {'index': 1, 'CR_BrunnerNN_relative': 2.45508693148209}\n",
      "Saving data to 1010-datasets/cr/cr_JmolNN.csv: {'index': 4, 'CR_JmolNN': 2.88691089571652}\n",
      "Saving data to 1010-datasets/cn/cn_BrunnerNN_relative.csv: {'index': 3, 'CN_BrunnerNN_relative': 3}\n",
      "Saving data to 1010-datasets/cn/cn_BrunnerNN_relative.csv: {'index': 0, 'CN_BrunnerNN_relative': 3}\n",
      "Saving data to 1010-datasets/cn/cn_VoronoiNN.csv: {'index': 1, 'CN_VoronoiNN': 16}\n",
      "Saving data to 1010-datasets/cn/cn_MinimumDistanceNN.csv: {'index': 4, 'CN_MinimumDistanceNN': 3}\n",
      "Saving data to 1010-datasets/cr/cr_BrunnerNN_relative.csv: {'index': 3, 'CR_BrunnerNN_relative': 2.6558849716556403}\n",
      "Saving data to 1010-datasets/cr/cr_BrunnerNN_relative.csv: {'index': 0, 'CR_BrunnerNN_relative': 2.5526554800834367}\n",
      "Saving data to 1010-datasets/cr/cr_VoronoiNN.csv: {'index': 1, 'CR_VoronoiNN': 7.324792731396245}\n",
      "Saving data to 1010-datasets/cr/cr_MinimumDistanceNN.csv: {'index': 4, 'CR_MinimumDistanceNN': 2.4950970138707143}\n",
      "Saving data to 1010-datasets/cn/cn_BrunnerNN_relative.csv: {'index': 2, 'CN_BrunnerNN_relative': 3}\n",
      "Saving data to 1010-datasets/cn/cn_VoronoiNN.csv: {'index': 3, 'CN_VoronoiNN': 18}\n",
      "Saving data to 1010-datasets/cn/cn_VoronoiNN.csv: {'index': 0, 'CN_VoronoiNN': 15}\n",
      "Saving data to 1010-datasets/cn/cn_JmolNN.csv: {'index': 1, 'CN_JmolNN': 5}\n",
      "Saving data to 1010-datasets/cn/cn_CrystalNN.csv: {'index': 4, 'CN_CrystalNN': 3}\n",
      "Saving data to 1010-datasets/cr/cr_BrunnerNN_relative.csv: {'index': 2, 'CR_BrunnerNN_relative': 2.5820269119634767}\n",
      "Saving data to 1010-datasets/cr/cr_VoronoiNN.csv: {'index': 3, 'CR_VoronoiNN': 7.799293092843405}\n",
      "Saving data to 1010-datasets/cr/cr_VoronoiNN.csv: {'index': 0, 'CR_VoronoiNN': 7.466678664914113}\n",
      "Saving data to 1010-datasets/cr/cr_JmolNN.csv: {'index': 1, 'CR_JmolNN': 2.839654336832605}\n",
      "Saving data to 1010-datasets/cr/cr_CrystalNN.csv: {'index': 4, 'CR_CrystalNN': 2.4950970138707147}\n",
      "Saving data to 1010-datasets/cn/cn_VoronoiNN.csv: {'index': 2, 'CN_VoronoiNN': 16}\n",
      "Saving data to 1010-datasets/cn/cn_JmolNN.csv: {'index': 3, 'CN_JmolNN': 3}\n",
      "Saving data to 1010-datasets/cn/cn_JmolNN.csv: {'index': 0, 'CN_JmolNN': 3}\n",
      "Saving data to 1010-datasets/cn/cn_MinimumDistanceNN.csv: {'index': 1, 'CN_MinimumDistanceNN': 3}\n",
      "Saving data to 1010-datasets/cn/cn_EconNN.csv: {'index': 4, 'CN_EconNN': 3}\n",
      "Saving data to 1010-datasets/cr/cr_VoronoiNN.csv: {'index': 2, 'CR_VoronoiNN': 7.636492704280021}\n",
      "Saving data to 1010-datasets/cr/cr_JmolNN.csv: {'index': 3, 'CR_JmolNN': 2.6558849716556403}\n",
      "Saving data to 1010-datasets/cr/cr_JmolNN.csv: {'index': 0, 'CR_JmolNN': 2.5526554800834367}\n",
      "Saving data to 1010-datasets/cr/cr_MinimumDistanceNN.csv: {'index': 1, 'CR_MinimumDistanceNN': 2.45508693148209}\n",
      "Saving data to 1010-datasets/cr/cr_EconNN.csv: {'index': 4, 'CR_EconNN': 2.4950970138707143}\n"
     ]
    },
    {
     "name": "stderr",
     "output_type": "stream",
     "text": [
      "\r",
      "Computing Samples:  10%|██▌                      | 1/10 [00:00<00:08,  1.12it/s]"
     ]
    },
    {
     "name": "stdout",
     "output_type": "stream",
     "text": [
      "Saving data to 1010-datasets/cn/cn_JmolNN.csv: {'index': 2, 'CN_JmolNN': 4}\n",
      "Saving data to 1010-datasets/cn/cn_MinimumDistanceNN.csv: {'index': 3, 'CN_MinimumDistanceNN': 3}\n",
      "Saving data to 1010-datasets/cn/cn_MinimumDistanceNN.csv: {'index': 0, 'CN_MinimumDistanceNN': 3}\n",
      "Saving data to 1010-datasets/cn/cn_CrystalNN.csv: {'index': 1, 'CN_CrystalNN': 3}\n",
      "Saving data to 1010-datasets/cr/cr_JmolNN.csv: {'index': 2, 'CR_JmolNN': 2.8083557980440395}\n",
      "Saving data to 1010-datasets/cr/cr_MinimumDistanceNN.csv: {'index': 3, 'CR_MinimumDistanceNN': 2.6558849716556403}\n",
      "Saving data to 1010-datasets/cr/cr_MinimumDistanceNN.csv: {'index': 0, 'CR_MinimumDistanceNN': 2.5526554800834367}\n",
      "Saving data to 1010-datasets/cr/cr_CrystalNN.csv: {'index': 1, 'CR_CrystalNN': 2.45508693148209}\n",
      "Saving data to 1010-datasets/cn/cn_MinimumDistanceNN.csv: {'index': 2, 'CN_MinimumDistanceNN': 3}\n",
      "Saving data to 1010-datasets/cn/cn_CrystalNN.csv: {'index': 3, 'CN_CrystalNN': 3}\n",
      "Saving data to 1010-datasets/cn/cn_CrystalNN.csv: {'index': 0, 'CN_CrystalNN': 3}\n",
      "Saving data to 1010-datasets/cn/cn_EconNN.csv: {'index': 1, 'CN_EconNN': 3}\n",
      "Saving data to 1010-datasets/cr/cr_MinimumDistanceNN.csv: {'index': 2, 'CR_MinimumDistanceNN': 2.5820269119634767}\n",
      "Saving data to 1010-datasets/cr/cr_CrystalNN.csv: {'index': 3, 'CR_CrystalNN': 2.6558849716556403}\n",
      "Saving data to 1010-datasets/cr/cr_CrystalNN.csv: {'index': 0, 'CR_CrystalNN': 2.5526554800834367}\n",
      "Saving data to 1010-datasets/cr/cr_EconNN.csv: {'index': 1, 'CR_EconNN': 2.45508693148209}\n"
     ]
    },
    {
     "name": "stderr",
     "output_type": "stream",
     "text": [
      "\r",
      "Computing Samples:  20%|█████                    | 2/10 [00:01<00:03,  2.31it/s]"
     ]
    },
    {
     "name": "stdout",
     "output_type": "stream",
     "text": [
      "Saving data to 1010-datasets/cn/cn_CrystalNN.csv: {'index': 2, 'CN_CrystalNN': 3}\n",
      "Saving data to 1010-datasets/cn/cn_EconNN.csv: {'index': 3, 'CN_EconNN': 3}\n",
      "Saving data to 1010-datasets/cn/cn_EconNN.csv: {'index': 0, 'CN_EconNN': 3}\n",
      "Saving data to 1010-datasets/cr/cr_CrystalNN.csv: {'index': 2, 'CR_CrystalNN': 2.5820269119634767}\n",
      "Saving data to 1010-datasets/cr/cr_EconNN.csv: {'index': 3, 'CR_EconNN': 2.6558849716556403}\n",
      "Saving data to 1010-datasets/cr/cr_EconNN.csv: {'index': 0, 'CR_EconNN': 2.5526554800834367}\n",
      "Saving data to 1010-datasets/cn/cn_EconNN.csv: {'index': 2, 'CN_EconNN': 3}\n",
      "Saving data to 1010-datasets/cr/cr_EconNN.csv: {'index': 2, 'CR_EconNN': 2.5820269119634767}\n"
     ]
    },
    {
     "name": "stderr",
     "output_type": "stream",
     "text": [
      "/home/dell-hd/xraylarch/envs/hanxue2/lib/python3.8/site-packages/pymatgen/analysis/local_env.py:4141: UserWarning: No oxidation states specified on sites! For better results, set the site oxidation states in the structure.\n",
      "  warnings.warn(\n",
      "/home/dell-hd/xraylarch/envs/hanxue2/lib/python3.8/site-packages/pymatgen/analysis/local_env.py:3935: UserWarning: CrystalNN: cannot locate an appropriate radius, covalent or atomic radii will be used, this can lead to non-optimal results.\n",
      "  warnings.warn(\n",
      "/home/dell-hd/xraylarch/envs/hanxue2/lib/python3.8/site-packages/pymatgen/analysis/local_env.py:4141: UserWarning: No oxidation states specified on sites! For better results, set the site oxidation states in the structure.\n",
      "  warnings.warn(\n",
      "/home/dell-hd/xraylarch/envs/hanxue2/lib/python3.8/site-packages/pymatgen/analysis/local_env.py:3935: UserWarning: CrystalNN: cannot locate an appropriate radius, covalent or atomic radii will be used, this can lead to non-optimal results.\n",
      "  warnings.warn(\n",
      "/home/dell-hd/xraylarch/envs/hanxue2/lib/python3.8/site-packages/pymatgen/analysis/local_env.py:4141: UserWarning: No oxidation states specified on sites! For better results, set the site oxidation states in the structure.\n",
      "  warnings.warn(\n",
      "/home/dell-hd/xraylarch/envs/hanxue2/lib/python3.8/site-packages/pymatgen/analysis/local_env.py:3935: UserWarning: CrystalNN: cannot locate an appropriate radius, covalent or atomic radii will be used, this can lead to non-optimal results.\n",
      "  warnings.warn(\n"
     ]
    },
    {
     "name": "stdout",
     "output_type": "stream",
     "text": [
      "Saving data to 1010-datasets/cn/cn_BrunnerNN_relative.csv: {'index': 5, 'CN_BrunnerNN_relative': 3}"
     ]
    },
    {
     "name": "stderr",
     "output_type": "stream",
     "text": [
      "/home/dell-hd/xraylarch/envs/hanxue2/lib/python3.8/site-packages/pymatgen/analysis/local_env.py:4141: UserWarning: No oxidation states specified on sites! For better results, set the site oxidation states in the structure.\n",
      "  warnings.warn(\n"
     ]
    },
    {
     "name": "stdout",
     "output_type": "stream",
     "text": [
      "\n"
     ]
    },
    {
     "name": "stderr",
     "output_type": "stream",
     "text": [
      "/home/dell-hd/xraylarch/envs/hanxue2/lib/python3.8/site-packages/pymatgen/analysis/local_env.py:3935: UserWarning: CrystalNN: cannot locate an appropriate radius, covalent or atomic radii will be used, this can lead to non-optimal results.\n",
      "  warnings.warn(\n"
     ]
    },
    {
     "name": "stdout",
     "output_type": "stream",
     "text": [
      "Saving data to 1010-datasets/cr/cr_BrunnerNN_relative.csv: {'index': 5, 'CR_BrunnerNN_relative': 2.5569012290918685}\n",
      "Saving data to 1010-datasets/cn/cn_VoronoiNN.csv: {'index': 5, 'CN_VoronoiNN': 18}\n"
     ]
    },
    {
     "name": "stderr",
     "output_type": "stream",
     "text": [
      "/home/dell-hd/xraylarch/envs/hanxue2/lib/python3.8/site-packages/pymatgen/analysis/local_env.py:4141: UserWarning: No oxidation states specified on sites! For better results, set the site oxidation states in the structure.\n",
      "  warnings.warn(\n",
      "/home/dell-hd/xraylarch/envs/hanxue2/lib/python3.8/site-packages/pymatgen/analysis/local_env.py:3935: UserWarning: CrystalNN: cannot locate an appropriate radius, covalent or atomic radii will be used, this can lead to non-optimal results.\n",
      "  warnings.warn(\n"
     ]
    },
    {
     "name": "stdout",
     "output_type": "stream",
     "text": [
      "Saving data to 1010-datasets/cr/cr_VoronoiNN.csv: {'index': 5, 'CR_VoronoiNN': 8.1228443625776}\n",
      "Saving data to 1010-datasets/cn/cn_JmolNN.csv: {'index': 5, 'CN_JmolNN': 4}\n",
      "Saving data to 1010-datasets/cr/cr_JmolNN.csv: {'index': 5, 'CR_JmolNN': 2.7852935429845225}\n",
      "Saving data to 1010-datasets/cn/cn_MinimumDistanceNN.csv: {'index': 5, 'CN_MinimumDistanceNN': 3}\n",
      "Saving data to 1010-datasets/cr/cr_MinimumDistanceNN.csv: {'index': 5, 'CR_MinimumDistanceNN': 2.5569012290918685}\n",
      "Saving data to 1010-datasets/cn/cn_CrystalNN.csv: {'index': 5, 'CN_CrystalNN': 3}\n",
      "Saving data to 1010-datasets/cr/cr_CrystalNN.csv: {'index': 5, 'CR_CrystalNN': 2.5569012290918685}\n",
      "Saving data to 1010-datasets/cn/cn_EconNN.csv: {'index': 5, 'CN_EconNN': 3}\n",
      "Saving data to 1010-datasets/cr/cr_EconNN.csv: {'index': 5, 'CR_EconNN': 2.5569012290918685}\n"
     ]
    },
    {
     "name": "stderr",
     "output_type": "stream",
     "text": [
      "\r",
      "Computing Samples:  60%|███████████████          | 6/10 [00:01<00:00,  4.98it/s]"
     ]
    },
    {
     "name": "stdout",
     "output_type": "stream",
     "text": [
      "Saving data to 1010-datasets/cn/cn_BrunnerNN_relative.csv: {'index': 6, 'CN_BrunnerNN_relative': 3}\n",
      "Saving data to 1010-datasets/cn/cn_BrunnerNN_relative.csv: {'index': 8, 'CN_BrunnerNN_relative': 3}\n",
      "Saving data to 1010-datasets/cr/cr_BrunnerNN_relative.csv: {'index': 6, 'CR_BrunnerNN_relative': 2.6529163714478172}\n",
      "Saving data to 1010-datasets/cr/cr_BrunnerNN_relative.csv: {'index': 8, 'CR_BrunnerNN_relative': 2.637153941680596}\n",
      "Saving data to 1010-datasets/cn/cn_VoronoiNN.csv: {'index': 6, 'CN_VoronoiNN': 16}\n",
      "Saving data to 1010-datasets/cn/cn_VoronoiNN.csv: {'index': 8, 'CN_VoronoiNN': 15}\n",
      "Saving data to 1010-datasets/cr/cr_VoronoiNN.csv: {'index': 6, 'CR_VoronoiNN': 7.673695311436043}\n",
      "Saving data to 1010-datasets/cr/cr_VoronoiNN.csv: {'index': 8, 'CR_VoronoiNN': 7.536258635850855}\n",
      "Saving data to 1010-datasets/cn/cn_JmolNN.csv: {'index': 6, 'CN_JmolNN': 3}\n",
      "Saving data to 1010-datasets/cn/cn_JmolNN.csv: {'index': 8, 'CN_JmolNN': 3}\n",
      "Saving data to 1010-datasets/cr/cr_JmolNN.csv: {'index': 6, 'CR_JmolNN': 2.6529163714478172}\n",
      "Saving data to 1010-datasets/cr/cr_JmolNN.csv: {'index': 8, 'CR_JmolNN': 2.637153941680596}\n",
      "Saving data to 1010-datasets/cn/cn_BrunnerNN_relative.csv: {'index': 9, 'CN_BrunnerNN_relative': 3}\n",
      "Saving data to 1010-datasets/cn/cn_MinimumDistanceNN.csv: {'index': 6, 'CN_MinimumDistanceNN': 3}\n",
      "Saving data to 1010-datasets/cn/cn_MinimumDistanceNN.csv: {'index': 8, 'CN_MinimumDistanceNN': 3}\n",
      "Saving data to 1010-datasets/cr/cr_BrunnerNN_relative.csv: {'index': 9, 'CR_BrunnerNN_relative': 2.5660053838257535}\n",
      "Saving data to 1010-datasets/cn/cn_BrunnerNN_relative.csv: {'index': 7, 'CN_BrunnerNN_relative': 3}\n",
      "Saving data to 1010-datasets/cr/cr_MinimumDistanceNN.csv: {'index': 6, 'CR_MinimumDistanceNN': 2.6529163714478172}\n",
      "Saving data to 1010-datasets/cr/cr_MinimumDistanceNN.csv: {'index': 8, 'CR_MinimumDistanceNN': 2.637153941680596}\n",
      "Saving data to 1010-datasets/cn/cn_VoronoiNN.csv: {'index': 9, 'CN_VoronoiNN': 17}\n",
      "Saving data to 1010-datasets/cr/cr_BrunnerNN_relative.csv: {'index': 7, 'CR_BrunnerNN_relative': 2.5461632559234997}\n",
      "Saving data to 1010-datasets/cn/cn_CrystalNN.csv: {'index': 6, 'CN_CrystalNN': 3}\n",
      "Saving data to 1010-datasets/cn/cn_CrystalNN.csv: {'index': 8, 'CN_CrystalNN': 3}\n",
      "Saving data to 1010-datasets/cr/cr_VoronoiNN.csv: {'index': 9, 'CR_VoronoiNN': 7.453363465548243}\n",
      "Saving data to 1010-datasets/cn/cn_VoronoiNN.csv: {'index': 7, 'CN_VoronoiNN': 18}\n",
      "Saving data to 1010-datasets/cr/cr_CrystalNN.csv: {'index': 6, 'CR_CrystalNN': 2.6529163714478172}\n",
      "Saving data to 1010-datasets/cr/cr_CrystalNN.csv: {'index': 8, 'CR_CrystalNN': 2.637153941680596}\n",
      "Saving data to 1010-datasets/cn/cn_JmolNN.csv: {'index': 9, 'CN_JmolNN': 3}\n",
      "Saving data to 1010-datasets/cr/cr_VoronoiNN.csv: {'index': 7, 'CR_VoronoiNN': 7.919823126631234}\n",
      "Saving data to 1010-datasets/cn/cn_EconNN.csv: {'index': 6, 'CN_EconNN': 3}\n",
      "Saving data to 1010-datasets/cn/cn_EconNN.csv: {'index': 8, 'CN_EconNN': 3}\n",
      "Saving data to 1010-datasets/cr/cr_JmolNN.csv: {'index': 9, 'CR_JmolNN': 2.5660053838257535}\n",
      "Saving data to 1010-datasets/cn/cn_JmolNN.csv: {'index': 7, 'CN_JmolNN': 4}\n",
      "Saving data to 1010-datasets/cr/cr_EconNN.csv: {'index': 6, 'CR_EconNN': 2.6529163714478172}\n"
     ]
    },
    {
     "name": "stderr",
     "output_type": "stream",
     "text": [
      "\r",
      "Computing Samples:  70%|█████████████████▌       | 7/10 [00:01<00:00,  4.74it/s]"
     ]
    },
    {
     "name": "stdout",
     "output_type": "stream",
     "text": [
      "Saving data to 1010-datasets/cr/cr_EconNN.csv: {'index': 8, 'CR_EconNN': 2.637153941680596}\n",
      "Saving data to 1010-datasets/cn/cn_MinimumDistanceNN.csv: {'index': 9, 'CN_MinimumDistanceNN': 3}\n",
      "Saving data to 1010-datasets/cr/cr_JmolNN.csv: {'index': 7, 'CR_JmolNN': 2.7511119943102313}\n",
      "Saving data to 1010-datasets/cr/cr_MinimumDistanceNN.csv: {'index': 9, 'CR_MinimumDistanceNN': 2.5660053838257535}\n",
      "Saving data to 1010-datasets/cn/cn_MinimumDistanceNN.csv: {'index': 7, 'CN_MinimumDistanceNN': 3}\n",
      "Saving data to 1010-datasets/cn/cn_CrystalNN.csv: {'index': 9, 'CN_CrystalNN': 3}\n",
      "Saving data to 1010-datasets/cr/cr_MinimumDistanceNN.csv: {'index': 7, 'CR_MinimumDistanceNN': 2.5461632559234997}\n",
      "Saving data to 1010-datasets/cr/cr_CrystalNN.csv: {'index': 9, 'CR_CrystalNN': 2.5660053838257535}\n",
      "Saving data to 1010-datasets/cn/cn_CrystalNN.csv: {'index': 7, 'CN_CrystalNN': 3}\n",
      "Saving data to 1010-datasets/cn/cn_EconNN.csv: {'index': 9, 'CN_EconNN': 3}\n",
      "Saving data to 1010-datasets/cr/cr_CrystalNN.csv: {'index': 7, 'CR_CrystalNN': 2.5461632559234997}\n",
      "Saving data to 1010-datasets/cr/cr_EconNN.csv: {'index': 9, 'CR_EconNN': 2.5660053838257535}\n",
      "Saving data to 1010-datasets/cn/cn_EconNN.csv: {'index': 7, 'CN_EconNN': 3}\n",
      "Saving data to 1010-datasets/cr/cr_EconNN.csv: {'index': 7, 'CR_EconNN': 2.5461632559234997}\n"
     ]
    },
    {
     "name": "stderr",
     "output_type": "stream",
     "text": [
      "Computing Samples: 100%|████████████████████████| 10/10 [00:01<00:00,  5.31it/s]\n"
     ]
    },
    {
     "name": "stdout",
     "output_type": "stream",
     "text": [
      "RDF data has been saved to 1010-datasets/rdf/1.csvRDF data has been saved to 1010-datasets/rdf/2.csv\n",
      "\n",
      "RDF data has been saved to 1010-datasets/rdf/0.csvRDF data has been saved to 1010-datasets/rdf/4.csv\n",
      "\n",
      "RDF data has been saved to 1010-datasets/rdf/3.csv\n",
      "RDF data has been saved to 1010-datasets/rdf/5.csv\n",
      "RDF data has been saved to 1010-datasets/rdf/8.csv\n",
      "RDF data has been saved to 1010-datasets/rdf/6.csvRDF data has been saved to 1010-datasets/rdf/9.csv\n",
      "\n",
      "RDF data has been saved to 1010-datasets/rdf/7.csv\n"
     ]
    }
   ],
   "source": [
    "def main():\n",
    "    with Manager() as manager:\n",
    "        lock = manager.Lock()  # Create a lock using the Manager\n",
    "        pool = Pool(processes=num_processes)\n",
    "\n",
    "        if read_single_file:\n",
    "            tasks = [(j, traj[j], cn_dir, cr_dir, methods, lock) for j in range(min(n, total_samples))]\n",
    "        else:\n",
    "            tasks = [(j, trajectories[j], cn_dir, cr_dir, methods, lock) for j in range(min(n, total_samples))]\n",
    "\n",
    "        with tqdm(total=len(tasks), desc='Computing Samples') as pbar:\n",
    "            for _ in pool.imap_unordered(process_sample, tasks):\n",
    "                pbar.update(1)\n",
    "\n",
    "        pool.close()\n",
    "        pool.join()\n",
    "\n",
    "        samples_to_process = traj[:n] if read_single_file else trajectories[:n]\n",
    "        with Pool(processes=num_processes) as pool:\n",
    "            results = pool.starmap(compute_rdf, [(samples_to_process[i], i, rdf_dir_csv) for i in range(len(samples_to_process))])\n",
    "\n",
    "if __name__ == \"__main__\":\n",
    "    main()"
   ]
  },
  {
   "cell_type": "markdown",
   "id": "591efe4a",
   "metadata": {},
   "source": [
    "## Sorting Output Files:\r\n",
    "\r\n",
    "- After the calculations are completed, the resulting CSV files will be automatically sorted based on the sample index.\r\n",
    "- This ensures that the output files are organized in a systematic order, corresponding to the sample index, making it easier to reference and analyze the results.\r\n",
    "- Sorting is applied to all the output files, including the calculated spectra, coordination numbers, and other structural descriptors.\r\n"
   ]
  },
  {
   "cell_type": "code",
   "execution_count": 7,
   "id": "2b6e876d",
   "metadata": {
    "ExecuteTime": {
     "end_time": "2025-01-13T07:24:37.791184Z",
     "start_time": "2025-01-13T07:24:37.751752Z"
    }
   },
   "outputs": [
    {
     "name": "stdout",
     "output_type": "stream",
     "text": [
      "Sorted and saved: 1010-datasets/cn/cn_BrunnerNN_relative.csv\n",
      "Sorted and saved: 1010-datasets/cn/cn_VoronoiNN.csv\n",
      "Sorted and saved: 1010-datasets/cn/cn_JmolNN.csv\n",
      "Sorted and saved: 1010-datasets/cn/cn_MinimumDistanceNN.csv\n",
      "Sorted and saved: 1010-datasets/cn/cn_CrystalNN.csv\n",
      "Sorted and saved: 1010-datasets/cn/cn_EconNN.csv\n",
      "Sorted and saved: 1010-datasets/cr/cr_BrunnerNN_relative.csv\n",
      "Sorted and saved: 1010-datasets/cr/cr_VoronoiNN.csv\n",
      "Sorted and saved: 1010-datasets/cr/cr_JmolNN.csv\n",
      "Sorted and saved: 1010-datasets/cr/cr_MinimumDistanceNN.csv\n",
      "Sorted and saved: 1010-datasets/cr/cr_CrystalNN.csv\n",
      "Sorted and saved: 1010-datasets/cr/cr_EconNN.csv\n"
     ]
    }
   ],
   "source": [
    "methods = ['BrunnerNN_relative', 'VoronoiNN', 'JmolNN', 'MinimumDistanceNN', 'CrystalNN', 'EconNN']\n",
    "for method in methods:\n",
    "    cn_file_path = os.path.join(cn_dir, f\"cn_{method}.csv\")\n",
    "    sort_and_save_csv(cn_file_path)\n",
    "for method in methods:\n",
    "    cr_file_path = os.path.join(cr_dir, f\"cr_{method}.csv\")\n",
    "    sort_and_save_csv(cr_file_path)"
   ]
  },
  {
   "cell_type": "code",
   "execution_count": null,
   "id": "fc9c3c32",
   "metadata": {},
   "outputs": [],
   "source": []
  }
 ],
 "metadata": {
  "kernelspec": {
   "display_name": "Python 3 (ipykernel)",
   "language": "python",
   "name": "python3"
  },
  "language_info": {
   "codemirror_mode": {
    "name": "ipython",
    "version": 3
   },
   "file_extension": ".py",
   "mimetype": "text/x-python",
   "name": "python",
   "nbconvert_exporter": "python",
   "pygments_lexer": "ipython3",
   "version": "3.11.4"
  },
  "toc": {
   "base_numbering": 1,
   "nav_menu": {},
   "number_sections": true,
   "sideBar": true,
   "skip_h1_title": false,
   "title_cell": "Table of Contents",
   "title_sidebar": "Contents",
   "toc_cell": false,
   "toc_position": {},
   "toc_section_display": true,
   "toc_window_display": true
  }
 },
 "nbformat": 4,
 "nbformat_minor": 5
}
