{
 "cells": [
  {
   "cell_type": "markdown",
   "id": "138c1b90",
   "metadata": {},
   "source": [
    "# Program Description: Machine Learning Modeling (CNN-Classification, Module 10)\n",
    "\n",
    "## Overview:\n",
    "This module is responsible for building a **classification** model using a Convolutional Neural Network (CNN). It works in parallel with other network models. The goal is to train the CNN model, save the best-performing model, and make predictions.\n",
    "\n",
    "- **Input Dataset**: This module reads the dataset output by **Module 9** (normalized data).\n",
    "- **Model Type**: The model used in this module is a **CNN (Convolutional Neural Network)**, which is trained for classification tasks.\n",
    "- **Prediction**: After training, the model is used to make predictions on the test set.\n",
    "\n",
    "## Key Steps:\n",
    "1. **Read Data**: \n",
    "   - The features and labels for training, validation, and test datasets are read from the files output by **Module 9**.\n",
    "   \n",
    "2. **Build CNN Model**: \n",
    "   - A CNN model is constructed for classification.\n",
    "   \n",
    "3. **Train and Save the Best Model**: \n",
    "   - The model is trained on the training dataset, and the best model is saved after training.\n",
    "   \n",
    "4. **Model Prediction**: \n",
    "   - The trained model is used to make predictions on the test set.\n",
    "\n",
    "5. **Output**:\n",
    "   - The trained model and evaluation metrics are saved in the `datasets-ml` folder.\n",
    "   - The model filename includes the timestamp to differentiate between runs (e.g., `CNNmodel-{current_time}.h5`).\n",
    "\n",
    "## Output:\n",
    "- **Model File**: The trained CNN model is saved in the `datasets-ml` folder with the filename `CNNmodel-{current_time}.h5`, where `{current_time}` represents the timestamp of the model save.\n",
    "- **Log Files**: The log file will contain training progress, evaluation metrics, and other relevant details.\n"
   ]
  },
  {
   "cell_type": "markdown",
   "id": "23862227",
   "metadata": {},
   "source": [
    "contacts：zhaohf@ihep.ac.cn"
   ]
  },
  {
   "cell_type": "markdown",
   "id": "60fa3007",
   "metadata": {},
   "source": [
    "# Import libraries"
   ]
  },
  {
   "cell_type": "code",
   "execution_count": 1,
   "id": "536ca7ad",
   "metadata": {
    "ExecuteTime": {
     "end_time": "2025-01-21T02:03:06.288046Z",
     "start_time": "2025-01-21T02:03:03.291736Z"
    }
   },
   "outputs": [
    {
     "name": "stderr",
     "output_type": "stream",
     "text": [
      "2025-01-21 10:03:03.888002: I tensorflow/core/util/util.cc:169] oneDNN custom operations are on. You may see slightly different numerical results due to floating-point round-off errors from different computation orders. To turn them off, set the environment variable `TF_ENABLE_ONEDNN_OPTS=0`.\n"
     ]
    }
   ],
   "source": [
    "from datetime import datetime\n",
    "from sklearn.preprocessing import StandardScaler\n",
    "from tensorflow.keras.utils import to_categorical\n",
    "from tensorflow.keras import regularizers\n",
    "from sklearn.metrics import accuracy_score, confusion_matrix, classification_report\n",
    "from tensorflow.keras.callbacks import ModelCheckpoint, EarlyStopping\n",
    "from sklearn.metrics import mean_squared_error, r2_score\n",
    "import os\n",
    "import logging\n",
    "import numpy as np\n",
    "import joblib\n",
    "import tensorflow as tf\n",
    "import keras.callbacks\n",
    "import matplotlib.pyplot as plt\n",
    "import seaborn as sns\n",
    "import sys\n",
    "from tensorflow.keras.utils import plot_model\n",
    "from IPython.display import Image, display"
   ]
  },
  {
   "cell_type": "markdown",
   "id": "3bde49c6",
   "metadata": {},
   "source": [
    "##  Version Information"
   ]
  },
  {
   "cell_type": "code",
   "execution_count": 2,
   "id": "37ae3a60",
   "metadata": {
    "ExecuteTime": {
     "end_time": "2025-01-21T02:03:06.308000Z",
     "start_time": "2025-01-21T02:03:06.294168Z"
    }
   },
   "outputs": [
    {
     "name": "stdout",
     "output_type": "stream",
     "text": [
      "tensorflow: 2.9.1\n",
      "numpy: 1.23.5\n",
      "joblib: 1.4.0\n",
      "matplotlib: 3.7.5\n",
      "seaborn: 0.13.2\n",
      "sklearn: 1.3.2\n",
      "Python: 3.8.15 | packaged by conda-forge | (default, Nov 22 2022, 08:46:39) \n",
      "[GCC 10.4.0]\n"
     ]
    }
   ],
   "source": [
    "def get_python_version():\n",
    "    return sys.version\n",
    "def get_package_version(package_name):\n",
    "    try:\n",
    "        module = __import__(package_name)\n",
    "        version = getattr(module, '__version__', None)\n",
    "        if version:\n",
    "            return version\n",
    "        else:\n",
    "            return pkg_resources.get_distribution(package_name).version\n",
    "    except (ImportError, AttributeError, pkg_resources.DistributionNotFound):\n",
    "        return \"Version info not found\"\n",
    "\n",
    "packages = ['tensorflow', 'numpy', 'joblib', 'matplotlib','seaborn','sklearn']\n",
    "for package in packages:\n",
    "    print(f\"{package}: {get_package_version(package)}\")\n",
    "print(f\"Python: {get_python_version()}\")"
   ]
  },
  {
   "cell_type": "markdown",
   "id": "917ddba1",
   "metadata": {},
   "source": [
    "# Parameter Settings \n",
    "\n",
    "## Input File Path:\n",
    "- `dir_data`: Specifies the directory where the dataset (features and labels for training, validation, and test) is located.\n",
    "- The dataset includes **training**, **validation**, and **test** datasets generated by **Module 9**.\n",
    "- Example: `'0926-datasets/datasets(JmolNN)-pre-xmu-cn'` (path to the dataset).\n",
    "\n",
    "## Output File Path:\n",
    "- `dir_output`: The directory where the trained model and other output files will be saved.\n",
    "- The output includes the model file (`CNNmodel-{current_time}.h5`) and logs.\n",
    "- Example: `'0926-datasets-ml/ml-cn-xmu-(JmolNN)'` (path where the model and log files will be saved)."
   ]
  },
  {
   "cell_type": "code",
   "execution_count": 3,
   "id": "16d5e1a3",
   "metadata": {
    "ExecuteTime": {
     "end_time": "2025-01-21T02:03:08.480353Z",
     "start_time": "2025-01-21T02:03:06.311901Z"
    }
   },
   "outputs": [
    {
     "name": "stdout",
     "output_type": "stream",
     "text": [
      "File '0926-datasets/datasets(JmolNN)-pre-xmu-cn' exists.\n"
     ]
    },
    {
     "name": "stderr",
     "output_type": "stream",
     "text": [
      "Training set size: X_train: (3465, 1000), y_train: (3465,)\n",
      "Validation set size: X_valid: (990, 1000), y_valid: (990,)\n",
      "Test set size: X_test: (495, 1000), y_test: (495,)\n"
     ]
    },
    {
     "name": "stdout",
     "output_type": "stream",
     "text": [
      "Training set size: X_train: (3465, 1000), y_train: (3465,)\n",
      "Validation set size: X_valid: (990, 1000), y_valid: (990,)\n",
      "Test set size: X_test: (495, 1000), y_test: (495,)\n",
      "Unique labels in y_train: [ 3.  4.  5.  6.  7.  8.  9. 10. 11. 12.]\n",
      "Unique labels in y_valid: [ 3.  4.  5.  6.  7.  8.  9. 10. 11. 12.]\n",
      "Unique labels in y_test: [ 2.  3.  4.  5.  6.  7.  8.  9. 10. 11. 12.]\n"
     ]
    }
   ],
   "source": [
    "# Set input file path\n",
    "dir_data = '0926-datasets/datasets(JmolNN)-pre-xmu-cn'\n",
    "# Set output file save path\n",
    "output_path = '0926-datasets-ml/ml-cn-xmu-(JmolNN)'\n",
    "current_time = datetime.now().strftime(\"%Y%m%d_%H%M\")\n",
    "# Output save file name and add timestamp\n",
    "dir_output=os.path.join(output_path,f'CNNmodel-{current_time}')\n",
    "# Check if the input path exists\n",
    "if os.path.exists(dir_data):\n",
    "    print(f\"File '{dir_data}' exists.\")\n",
    "else:\n",
    "    raise FileNotFoundError(f\"File '{dir_data}' does not exist.\")\n",
    "os.makedirs(dir_output, exist_ok=True)\n",
    "os.makedirs(dir_output, exist_ok=True)\n",
    "# Load training, validation, and test datasets\n",
    "file_train_feature = os.path.join(dir_data, 'xmu_train_JmolNN.txt')\n",
    "file_train_label = os.path.join(dir_data, 'label_cn_train_JmolNN.txt')\n",
    "file_valid_feature = os.path.join(dir_data, 'xmu_valid_JmolNN.txt')\n",
    "file_valid_label = os.path.join(dir_data, 'label_cn_valid_JmolNN.txt')\n",
    "file_test_feature = os.path.join(dir_data, 'xmu_test_JmolNN.txt')\n",
    "file_test_label = os.path.join(dir_data, 'label_cn_test_JmolNN.txt')\n",
    "log_file_path = os.path.join(dir_output, 'training_log.txt')\n",
    "logging.basicConfig(level=logging.INFO, format='%(message)s', handlers=[logging.FileHandler(log_file_path), logging.StreamHandler()])\n",
    "# Read data\n",
    "X_train = np.loadtxt(file_train_feature)\n",
    "y_train = np.loadtxt(file_train_label, dtype=float)\n",
    "X_valid = np.loadtxt(file_valid_feature)\n",
    "y_valid = np.loadtxt(file_valid_label, dtype=float)\n",
    "X_test = np.loadtxt(file_test_feature)\n",
    "y_test = np.loadtxt(file_test_label, dtype=float)\n",
    "# Prepare messages for dataset sizes\n",
    "train_size_message = f\"Training set size: X_train: {X_train.shape}, y_train: {y_train.shape}\"\n",
    "valid_size_message = f\"Validation set size: X_valid: {X_valid.shape}, y_valid: {y_valid.shape}\"\n",
    "test_size_message = f\"Test set size: X_test: {X_test.shape}, y_test: {y_test.shape}\"\n",
    "print(train_size_message)\n",
    "print(valid_size_message)\n",
    "print(test_size_message)\n",
    "# Log dataset sizes\n",
    "logging.info(train_size_message)\n",
    "logging.info(valid_size_message)\n",
    "logging.info(test_size_message)\n",
    "print(\"Unique labels in y_train:\", np.unique(y_train))\n",
    "print(\"Unique labels in y_valid:\", np.unique(y_valid))\n",
    "print(\"Unique labels in y_test:\", np.unique(y_test))\n"
   ]
  },
  {
   "cell_type": "markdown",
   "id": "c8e3683e",
   "metadata": {},
   "source": [
    "# Build a MLP classification model and save the best model results"
   ]
  },
  {
   "cell_type": "code",
   "execution_count": 4,
   "id": "6bc2161e",
   "metadata": {
    "ExecuteTime": {
     "end_time": "2025-01-21T02:05:42.172246Z",
     "start_time": "2025-01-21T02:03:08.487904Z"
    }
   },
   "outputs": [
    {
     "name": "stderr",
     "output_type": "stream",
     "text": [
      "Unique labels in y_train: [ 3.  4.  5.  6.  7.  8.  9. 10. 11. 12.]\n",
      "Unique labels in y_valid: [ 3.  4.  5.  6.  7.  8.  9. 10. 11. 12.]\n",
      "Unique labels in y_test: [ 2.  3.  4.  5.  6.  7.  8.  9. 10. 11. 12.]\n"
     ]
    },
    {
     "name": "stdout",
     "output_type": "stream",
     "text": [
      "Unique labels in y_train: [ 3.  4.  5.  6.  7.  8.  9. 10. 11. 12.]\n",
      "Unique labels in y_valid: [ 3.  4.  5.  6.  7.  8.  9. 10. 11. 12.]\n",
      "Unique labels in y_test: [ 2.  3.  4.  5.  6.  7.  8.  9. 10. 11. 12.]\n"
     ]
    },
    {
     "name": "stderr",
     "output_type": "stream",
     "text": [
      "2025-01-21 10:03:08.544981: I tensorflow/core/platform/cpu_feature_guard.cc:193] This TensorFlow binary is optimized with oneAPI Deep Neural Network Library (oneDNN) to use the following CPU instructions in performance-critical operations:  SSE4.1 SSE4.2 AVX AVX2 AVX512F AVX512_VNNI FMA\n",
      "To enable them in other operations, rebuild TensorFlow with the appropriate compiler flags.\n"
     ]
    },
    {
     "name": "stdout",
     "output_type": "stream",
     "text": [
      "Best model saved to: 0926-datasets-ml/ml-cn-xmu-(JmolNN)/CNNmodel-20250121_1003/best_model.h5\n",
      "Epoch 1/150\n",
      "107/109 [============================>.] - ETA: 0s - loss: 2.0205 - accuracy: 0.3940 - mae: 0.1231\n",
      "Epoch 1: val_accuracy improved from -inf to 0.41414, saving model to 0926-datasets-ml/ml-cn-xmu-(JmolNN)/CNNmodel-20250121_1003/best_model.h5\n"
     ]
    },
    {
     "name": "stderr",
     "output_type": "stream",
     "text": [
      "Epoch 1, Loss: 2.0179, Accuracy: 0.3951, Val_Loss: 1.8009, Val_Accuracy: 0.4141\n"
     ]
    },
    {
     "name": "stdout",
     "output_type": "stream",
     "text": [
      "109/109 [==============================] - 2s 10ms/step - loss: 2.0179 - accuracy: 0.3951 - mae: 0.1230 - val_loss: 1.8009 - val_accuracy: 0.4141 - val_mae: 0.1196\n",
      "Epoch 2/150\n",
      "104/109 [===========================>..] - ETA: 0s - loss: 1.7360 - accuracy: 0.4441 - mae: 0.1171\n",
      "Epoch 2: val_accuracy did not improve from 0.41414\n"
     ]
    },
    {
     "name": "stderr",
     "output_type": "stream",
     "text": [
      "Epoch 2, Loss: 1.7371, Accuracy: 0.4421, Val_Loss: 1.6880, Val_Accuracy: 0.4040\n"
     ]
    },
    {
     "name": "stdout",
     "output_type": "stream",
     "text": [
      "109/109 [==============================] - 1s 7ms/step - loss: 1.7371 - accuracy: 0.4421 - mae: 0.1172 - val_loss: 1.6880 - val_accuracy: 0.4040 - val_mae: 0.1212\n",
      "Epoch 3/150\n",
      "100/109 [==========================>...] - ETA: 0s - loss: 1.6369 - accuracy: 0.4538 - mae: 0.1169\n",
      "Epoch 3: val_accuracy improved from 0.41414 to 0.45152, saving model to 0926-datasets-ml/ml-cn-xmu-(JmolNN)/CNNmodel-20250121_1003/best_model.h5\n"
     ]
    },
    {
     "name": "stderr",
     "output_type": "stream",
     "text": [
      "Epoch 3, Loss: 1.6314, Accuracy: 0.4528, Val_Loss: 1.6495, Val_Accuracy: 0.4515\n"
     ]
    },
    {
     "name": "stdout",
     "output_type": "stream",
     "text": [
      "109/109 [==============================] - 1s 8ms/step - loss: 1.6314 - accuracy: 0.4528 - mae: 0.1168 - val_loss: 1.6495 - val_accuracy: 0.4515 - val_mae: 0.1160\n",
      "Epoch 4/150\n",
      "107/109 [============================>.] - ETA: 0s - loss: 1.5462 - accuracy: 0.4635 - mae: 0.1148\n",
      "Epoch 4: val_accuracy improved from 0.45152 to 0.45455, saving model to 0926-datasets-ml/ml-cn-xmu-(JmolNN)/CNNmodel-20250121_1003/best_model.h5\n"
     ]
    },
    {
     "name": "stderr",
     "output_type": "stream",
     "text": [
      "Epoch 4, Loss: 1.5442, Accuracy: 0.4652, Val_Loss: 1.5048, Val_Accuracy: 0.4545\n"
     ]
    },
    {
     "name": "stdout",
     "output_type": "stream",
     "text": [
      "109/109 [==============================] - 1s 10ms/step - loss: 1.5442 - accuracy: 0.4652 - mae: 0.1147 - val_loss: 1.5048 - val_accuracy: 0.4545 - val_mae: 0.1159\n",
      "Epoch 5/150\n",
      "108/109 [============================>.] - ETA: 0s - loss: 1.4845 - accuracy: 0.4688 - mae: 0.1139\n",
      "Epoch 5: val_accuracy did not improve from 0.45455\n"
     ]
    },
    {
     "name": "stderr",
     "output_type": "stream",
     "text": [
      "Epoch 5, Loss: 1.4846, Accuracy: 0.4681, Val_Loss: 1.4442, Val_Accuracy: 0.4485\n"
     ]
    },
    {
     "name": "stdout",
     "output_type": "stream",
     "text": [
      "109/109 [==============================] - 1s 9ms/step - loss: 1.4846 - accuracy: 0.4681 - mae: 0.1139 - val_loss: 1.4442 - val_accuracy: 0.4485 - val_mae: 0.1146\n",
      "Epoch 6/150\n",
      "105/109 [===========================>..] - ETA: 0s - loss: 1.4244 - accuracy: 0.4702 - mae: 0.1126\n",
      "Epoch 6: val_accuracy did not improve from 0.45455\n"
     ]
    },
    {
     "name": "stderr",
     "output_type": "stream",
     "text": [
      "Epoch 6, Loss: 1.4248, Accuracy: 0.4701, Val_Loss: 1.4719, Val_Accuracy: 0.4020\n"
     ]
    },
    {
     "name": "stdout",
     "output_type": "stream",
     "text": [
      "109/109 [==============================] - 1s 11ms/step - loss: 1.4248 - accuracy: 0.4701 - mae: 0.1127 - val_loss: 1.4719 - val_accuracy: 0.4020 - val_mae: 0.1190\n",
      "Epoch 7/150\n",
      "108/109 [============================>.] - ETA: 0s - loss: 1.3722 - accuracy: 0.4852 - mae: 0.1112\n",
      "Epoch 7: val_accuracy did not improve from 0.45455\n"
     ]
    },
    {
     "name": "stderr",
     "output_type": "stream",
     "text": [
      "Epoch 7, Loss: 1.3724, Accuracy: 0.4846, Val_Loss: 1.3735, Val_Accuracy: 0.4434\n"
     ]
    },
    {
     "name": "stdout",
     "output_type": "stream",
     "text": [
      "109/109 [==============================] - 1s 11ms/step - loss: 1.3724 - accuracy: 0.4846 - mae: 0.1112 - val_loss: 1.3735 - val_accuracy: 0.4434 - val_mae: 0.1108\n",
      "Epoch 8/150\n",
      "108/109 [============================>.] - ETA: 0s - loss: 1.3218 - accuracy: 0.4913 - mae: 0.1098\n",
      "Epoch 8: val_accuracy improved from 0.45455 to 0.45960, saving model to 0926-datasets-ml/ml-cn-xmu-(JmolNN)/CNNmodel-20250121_1003/best_model.h5\n"
     ]
    },
    {
     "name": "stderr",
     "output_type": "stream",
     "text": [
      "Epoch 8, Loss: 1.3231, Accuracy: 0.4906, Val_Loss: 1.3366, Val_Accuracy: 0.4596\n"
     ]
    },
    {
     "name": "stdout",
     "output_type": "stream",
     "text": [
      "109/109 [==============================] - 1s 10ms/step - loss: 1.3231 - accuracy: 0.4906 - mae: 0.1099 - val_loss: 1.3366 - val_accuracy: 0.4596 - val_mae: 0.1054\n",
      "Epoch 9/150\n",
      "104/109 [===========================>..] - ETA: 0s - loss: 1.2799 - accuracy: 0.5036 - mae: 0.1072\n",
      "Epoch 9: val_accuracy improved from 0.45960 to 0.54444, saving model to 0926-datasets-ml/ml-cn-xmu-(JmolNN)/CNNmodel-20250121_1003/best_model.h5\n"
     ]
    },
    {
     "name": "stderr",
     "output_type": "stream",
     "text": [
      "Epoch 9, Loss: 1.2794, Accuracy: 0.5022, Val_Loss: 1.1885, Val_Accuracy: 0.5444\n"
     ]
    },
    {
     "name": "stdout",
     "output_type": "stream",
     "text": [
      "109/109 [==============================] - 1s 12ms/step - loss: 1.2794 - accuracy: 0.5022 - mae: 0.1072 - val_loss: 1.1885 - val_accuracy: 0.5444 - val_mae: 0.1043\n",
      "Epoch 10/150\n",
      "109/109 [==============================] - ETA: 0s - loss: 1.2042 - accuracy: 0.5380 - mae: 0.1030\n",
      "Epoch 10: val_accuracy improved from 0.54444 to 0.55556, saving model to 0926-datasets-ml/ml-cn-xmu-(JmolNN)/CNNmodel-20250121_1003/best_model.h5\n"
     ]
    },
    {
     "name": "stderr",
     "output_type": "stream",
     "text": [
      "Epoch 10, Loss: 1.2042, Accuracy: 0.5380, Val_Loss: 1.1735, Val_Accuracy: 0.5556\n"
     ]
    },
    {
     "name": "stdout",
     "output_type": "stream",
     "text": [
      "109/109 [==============================] - 1s 12ms/step - loss: 1.2042 - accuracy: 0.5380 - mae: 0.1030 - val_loss: 1.1735 - val_accuracy: 0.5556 - val_mae: 0.1029\n",
      "Epoch 11/150\n",
      "104/109 [===========================>..] - ETA: 0s - loss: 1.1540 - accuracy: 0.5505 - mae: 0.0992\n",
      "Epoch 11: val_accuracy improved from 0.55556 to 0.56566, saving model to 0926-datasets-ml/ml-cn-xmu-(JmolNN)/CNNmodel-20250121_1003/best_model.h5\n"
     ]
    },
    {
     "name": "stderr",
     "output_type": "stream",
     "text": [
      "Epoch 11, Loss: 1.1484, Accuracy: 0.5524, Val_Loss: 1.2039, Val_Accuracy: 0.5657\n"
     ]
    },
    {
     "name": "stdout",
     "output_type": "stream",
     "text": [
      "109/109 [==============================] - 1s 9ms/step - loss: 1.1484 - accuracy: 0.5524 - mae: 0.0988 - val_loss: 1.2039 - val_accuracy: 0.5657 - val_mae: 0.1036\n",
      "Epoch 12/150\n",
      "109/109 [==============================] - ETA: 0s - loss: 1.1301 - accuracy: 0.5636 - mae: 0.0976\n",
      "Epoch 12: val_accuracy did not improve from 0.56566\n"
     ]
    },
    {
     "name": "stderr",
     "output_type": "stream",
     "text": [
      "Epoch 12, Loss: 1.1301, Accuracy: 0.5636, Val_Loss: 1.2484, Val_Accuracy: 0.4828\n"
     ]
    },
    {
     "name": "stdout",
     "output_type": "stream",
     "text": [
      "109/109 [==============================] - 1s 11ms/step - loss: 1.1301 - accuracy: 0.5636 - mae: 0.0976 - val_loss: 1.2484 - val_accuracy: 0.4828 - val_mae: 0.1014\n",
      "Epoch 13/150\n",
      "105/109 [===========================>..] - ETA: 0s - loss: 1.1233 - accuracy: 0.5500 - mae: 0.0985\n",
      "Epoch 13: val_accuracy improved from 0.56566 to 0.59293, saving model to 0926-datasets-ml/ml-cn-xmu-(JmolNN)/CNNmodel-20250121_1003/best_model.h5\n"
     ]
    },
    {
     "name": "stderr",
     "output_type": "stream",
     "text": [
      "Epoch 13, Loss: 1.1205, Accuracy: 0.5506, Val_Loss: 1.0766, Val_Accuracy: 0.5929\n"
     ]
    },
    {
     "name": "stdout",
     "output_type": "stream",
     "text": [
      "109/109 [==============================] - 1s 12ms/step - loss: 1.1205 - accuracy: 0.5506 - mae: 0.0984 - val_loss: 1.0766 - val_accuracy: 0.5929 - val_mae: 0.0931\n",
      "Epoch 14/150\n",
      "109/109 [==============================] - ETA: 0s - loss: 1.1014 - accuracy: 0.5752 - mae: 0.0965\n",
      "Epoch 14: val_accuracy did not improve from 0.59293\n"
     ]
    },
    {
     "name": "stderr",
     "output_type": "stream",
     "text": [
      "Epoch 14, Loss: 1.1014, Accuracy: 0.5752, Val_Loss: 1.0910, Val_Accuracy: 0.5616\n"
     ]
    },
    {
     "name": "stdout",
     "output_type": "stream",
     "text": [
      "109/109 [==============================] - 1s 10ms/step - loss: 1.1014 - accuracy: 0.5752 - mae: 0.0965 - val_loss: 1.0910 - val_accuracy: 0.5616 - val_mae: 0.0916\n",
      "Epoch 15/150\n",
      "108/109 [============================>.] - ETA: 0s - loss: 1.0583 - accuracy: 0.5862 - mae: 0.0943\n",
      "Epoch 15: val_accuracy improved from 0.59293 to 0.60202, saving model to 0926-datasets-ml/ml-cn-xmu-(JmolNN)/CNNmodel-20250121_1003/best_model.h5\n"
     ]
    },
    {
     "name": "stderr",
     "output_type": "stream",
     "text": [
      "Epoch 15, Loss: 1.0585, Accuracy: 0.5864, Val_Loss: 0.9873, Val_Accuracy: 0.6020\n"
     ]
    },
    {
     "name": "stdout",
     "output_type": "stream",
     "text": [
      "109/109 [==============================] - 1s 12ms/step - loss: 1.0585 - accuracy: 0.5864 - mae: 0.0943 - val_loss: 0.9873 - val_accuracy: 0.6020 - val_mae: 0.0875\n",
      "Epoch 16/150\n",
      "107/109 [============================>.] - ETA: 0s - loss: 1.0263 - accuracy: 0.5908 - mae: 0.0918\n",
      "Epoch 16: val_accuracy improved from 0.60202 to 0.61010, saving model to 0926-datasets-ml/ml-cn-xmu-(JmolNN)/CNNmodel-20250121_1003/best_model.h5\n"
     ]
    },
    {
     "name": "stderr",
     "output_type": "stream",
     "text": [
      "Epoch 16, Loss: 1.0255, Accuracy: 0.5911, Val_Loss: 0.9835, Val_Accuracy: 0.6101\n"
     ]
    },
    {
     "name": "stdout",
     "output_type": "stream",
     "text": [
      "109/109 [==============================] - 1s 11ms/step - loss: 1.0255 - accuracy: 0.5911 - mae: 0.0918 - val_loss: 0.9835 - val_accuracy: 0.6101 - val_mae: 0.0884\n",
      "Epoch 17/150\n",
      "108/109 [============================>.] - ETA: 0s - loss: 1.0314 - accuracy: 0.5897 - mae: 0.0923\n",
      "Epoch 17: val_accuracy did not improve from 0.61010\n"
     ]
    },
    {
     "name": "stderr",
     "output_type": "stream",
     "text": [
      "Epoch 17, Loss: 1.0316, Accuracy: 0.5896, Val_Loss: 1.0567, Val_Accuracy: 0.5566\n"
     ]
    },
    {
     "name": "stdout",
     "output_type": "stream",
     "text": [
      "109/109 [==============================] - 1s 8ms/step - loss: 1.0316 - accuracy: 0.5896 - mae: 0.0924 - val_loss: 1.0567 - val_accuracy: 0.5566 - val_mae: 0.0965\n",
      "Epoch 18/150\n",
      "107/109 [============================>.] - ETA: 0s - loss: 1.0211 - accuracy: 0.5920 - mae: 0.0929\n",
      "Epoch 18: val_accuracy did not improve from 0.61010\n"
     ]
    },
    {
     "name": "stderr",
     "output_type": "stream",
     "text": [
      "Epoch 18, Loss: 1.0203, Accuracy: 0.5934, Val_Loss: 0.9907, Val_Accuracy: 0.6091\n"
     ]
    },
    {
     "name": "stdout",
     "output_type": "stream",
     "text": [
      "109/109 [==============================] - 1s 11ms/step - loss: 1.0203 - accuracy: 0.5934 - mae: 0.0928 - val_loss: 0.9907 - val_accuracy: 0.6091 - val_mae: 0.0908\n",
      "Epoch 19/150\n",
      "105/109 [===========================>..] - ETA: 0s - loss: 0.9925 - accuracy: 0.5967 - mae: 0.0908\n",
      "Epoch 19: val_accuracy did not improve from 0.61010\n"
     ]
    },
    {
     "name": "stderr",
     "output_type": "stream",
     "text": [
      "Epoch 19, Loss: 1.0019, Accuracy: 0.5951, Val_Loss: 1.0559, Val_Accuracy: 0.5808\n"
     ]
    },
    {
     "name": "stdout",
     "output_type": "stream",
     "text": [
      "109/109 [==============================] - 1s 11ms/step - loss: 1.0019 - accuracy: 0.5951 - mae: 0.0910 - val_loss: 1.0559 - val_accuracy: 0.5808 - val_mae: 0.0942\n",
      "Epoch 20/150\n",
      "106/109 [============================>.] - ETA: 0s - loss: 0.9697 - accuracy: 0.6173 - mae: 0.0886\n",
      "Epoch 20: val_accuracy did not improve from 0.61010\n"
     ]
    },
    {
     "name": "stderr",
     "output_type": "stream",
     "text": [
      "Epoch 20, Loss: 0.9699, Accuracy: 0.6159, Val_Loss: 0.9693, Val_Accuracy: 0.6081\n"
     ]
    },
    {
     "name": "stdout",
     "output_type": "stream",
     "text": [
      "109/109 [==============================] - 1s 10ms/step - loss: 0.9699 - accuracy: 0.6159 - mae: 0.0887 - val_loss: 0.9693 - val_accuracy: 0.6081 - val_mae: 0.0885\n",
      "Epoch 21/150\n",
      "107/109 [============================>.] - ETA: 0s - loss: 0.9776 - accuracy: 0.6066 - mae: 0.0893\n",
      "Epoch 21: val_accuracy improved from 0.61010 to 0.62020, saving model to 0926-datasets-ml/ml-cn-xmu-(JmolNN)/CNNmodel-20250121_1003/best_model.h5\n"
     ]
    },
    {
     "name": "stderr",
     "output_type": "stream",
     "text": [
      "Epoch 21, Loss: 0.9787, Accuracy: 0.6069, Val_Loss: 0.9551, Val_Accuracy: 0.6202\n"
     ]
    },
    {
     "name": "stdout",
     "output_type": "stream",
     "text": [
      "109/109 [==============================] - 1s 12ms/step - loss: 0.9787 - accuracy: 0.6069 - mae: 0.0893 - val_loss: 0.9551 - val_accuracy: 0.6202 - val_mae: 0.0869\n",
      "Epoch 22/150\n",
      "105/109 [===========================>..] - ETA: 0s - loss: 0.9641 - accuracy: 0.6170 - mae: 0.0884\n",
      "Epoch 22: val_accuracy improved from 0.62020 to 0.65455, saving model to 0926-datasets-ml/ml-cn-xmu-(JmolNN)/CNNmodel-20250121_1003/best_model.h5\n"
     ]
    },
    {
     "name": "stderr",
     "output_type": "stream",
     "text": [
      "Epoch 22, Loss: 0.9591, Accuracy: 0.6173, Val_Loss: 0.8981, Val_Accuracy: 0.6545\n"
     ]
    },
    {
     "name": "stdout",
     "output_type": "stream",
     "text": [
      "109/109 [==============================] - 1s 12ms/step - loss: 0.9591 - accuracy: 0.6173 - mae: 0.0880 - val_loss: 0.8981 - val_accuracy: 0.6545 - val_mae: 0.0838\n",
      "Epoch 23/150\n",
      "105/109 [===========================>..] - ETA: 0s - loss: 0.9421 - accuracy: 0.6128 - mae: 0.0859\n",
      "Epoch 23: val_accuracy did not improve from 0.65455\n"
     ]
    },
    {
     "name": "stderr",
     "output_type": "stream",
     "text": [
      "Epoch 23, Loss: 0.9424, Accuracy: 0.6130, Val_Loss: 0.9154, Val_Accuracy: 0.6505\n"
     ]
    },
    {
     "name": "stdout",
     "output_type": "stream",
     "text": [
      "109/109 [==============================] - 1s 8ms/step - loss: 0.9424 - accuracy: 0.6130 - mae: 0.0860 - val_loss: 0.9154 - val_accuracy: 0.6505 - val_mae: 0.0856\n",
      "Epoch 24/150\n",
      "108/109 [============================>.] - ETA: 0s - loss: 0.9303 - accuracy: 0.6343 - mae: 0.0860\n",
      "Epoch 24: val_accuracy did not improve from 0.65455\n"
     ]
    },
    {
     "name": "stderr",
     "output_type": "stream",
     "text": [
      "Epoch 24, Loss: 0.9301, Accuracy: 0.6346, Val_Loss: 0.9684, Val_Accuracy: 0.6051\n"
     ]
    },
    {
     "name": "stdout",
     "output_type": "stream",
     "text": [
      "109/109 [==============================] - 1s 11ms/step - loss: 0.9301 - accuracy: 0.6346 - mae: 0.0860 - val_loss: 0.9684 - val_accuracy: 0.6051 - val_mae: 0.0873\n",
      "Epoch 25/150\n",
      "106/109 [============================>.] - ETA: 0s - loss: 0.9099 - accuracy: 0.6277 - mae: 0.0848\n",
      "Epoch 25: val_accuracy did not improve from 0.65455\n"
     ]
    },
    {
     "name": "stderr",
     "output_type": "stream",
     "text": [
      "Epoch 25, Loss: 0.9090, Accuracy: 0.6280, Val_Loss: 0.8767, Val_Accuracy: 0.6384\n"
     ]
    },
    {
     "name": "stdout",
     "output_type": "stream",
     "text": [
      "109/109 [==============================] - 1s 11ms/step - loss: 0.9090 - accuracy: 0.6280 - mae: 0.0848 - val_loss: 0.8767 - val_accuracy: 0.6384 - val_mae: 0.0843\n",
      "Epoch 26/150\n",
      "104/109 [===========================>..] - ETA: 0s - loss: 0.9437 - accuracy: 0.6223 - mae: 0.0880\n",
      "Epoch 26: val_accuracy did not improve from 0.65455\n"
     ]
    },
    {
     "name": "stderr",
     "output_type": "stream",
     "text": [
      "Epoch 26, Loss: 0.9437, Accuracy: 0.6214, Val_Loss: 0.8764, Val_Accuracy: 0.6374\n"
     ]
    },
    {
     "name": "stdout",
     "output_type": "stream",
     "text": [
      "109/109 [==============================] - 1s 8ms/step - loss: 0.9437 - accuracy: 0.6214 - mae: 0.0880 - val_loss: 0.8764 - val_accuracy: 0.6374 - val_mae: 0.0837\n",
      "Epoch 27/150\n",
      "104/109 [===========================>..] - ETA: 0s - loss: 0.8786 - accuracy: 0.6424 - mae: 0.0829\n",
      "Epoch 27: val_accuracy did not improve from 0.65455\n"
     ]
    },
    {
     "name": "stderr",
     "output_type": "stream",
     "text": [
      "Epoch 27, Loss: 0.8836, Accuracy: 0.6421, Val_Loss: 0.8885, Val_Accuracy: 0.6434\n"
     ]
    },
    {
     "name": "stdout",
     "output_type": "stream",
     "text": [
      "109/109 [==============================] - 1s 11ms/step - loss: 0.8836 - accuracy: 0.6421 - mae: 0.0831 - val_loss: 0.8885 - val_accuracy: 0.6434 - val_mae: 0.0825\n",
      "Epoch 28/150\n",
      "106/109 [============================>.] - ETA: 0s - loss: 0.9071 - accuracy: 0.6330 - mae: 0.0844\n",
      "Epoch 28: val_accuracy did not improve from 0.65455\n"
     ]
    },
    {
     "name": "stderr",
     "output_type": "stream",
     "text": [
      "Epoch 28, Loss: 0.9046, Accuracy: 0.6346, Val_Loss: 0.8762, Val_Accuracy: 0.6414\n"
     ]
    },
    {
     "name": "stdout",
     "output_type": "stream",
     "text": [
      "109/109 [==============================] - 1s 11ms/step - loss: 0.9046 - accuracy: 0.6346 - mae: 0.0843 - val_loss: 0.8762 - val_accuracy: 0.6414 - val_mae: 0.0856\n",
      "Epoch 29/150\n",
      "102/109 [===========================>..] - ETA: 0s - loss: 0.8873 - accuracy: 0.6443 - mae: 0.0832\n",
      "Epoch 29: val_accuracy did not improve from 0.65455\n"
     ]
    },
    {
     "name": "stderr",
     "output_type": "stream",
     "text": [
      "Epoch 29, Loss: 0.8868, Accuracy: 0.6436, Val_Loss: 0.8879, Val_Accuracy: 0.6495\n"
     ]
    },
    {
     "name": "stdout",
     "output_type": "stream",
     "text": [
      "109/109 [==============================] - 1s 10ms/step - loss: 0.8868 - accuracy: 0.6436 - mae: 0.0833 - val_loss: 0.8879 - val_accuracy: 0.6495 - val_mae: 0.0810\n",
      "Epoch 30/150\n",
      "104/109 [===========================>..] - ETA: 0s - loss: 0.8764 - accuracy: 0.6430 - mae: 0.0823\n",
      "Epoch 30: val_accuracy did not improve from 0.65455\n"
     ]
    },
    {
     "name": "stderr",
     "output_type": "stream",
     "text": [
      "Epoch 30, Loss: 0.8814, Accuracy: 0.6424, Val_Loss: 0.9203, Val_Accuracy: 0.6505\n"
     ]
    },
    {
     "name": "stdout",
     "output_type": "stream",
     "text": [
      "109/109 [==============================] - 1s 11ms/step - loss: 0.8814 - accuracy: 0.6424 - mae: 0.0825 - val_loss: 0.9203 - val_accuracy: 0.6505 - val_mae: 0.0808\n",
      "Epoch 31/150\n",
      "109/109 [==============================] - ETA: 0s - loss: 0.8790 - accuracy: 0.6289 - mae: 0.0833\n",
      "Epoch 31: val_accuracy improved from 0.65455 to 0.66061, saving model to 0926-datasets-ml/ml-cn-xmu-(JmolNN)/CNNmodel-20250121_1003/best_model.h5\n"
     ]
    },
    {
     "name": "stderr",
     "output_type": "stream",
     "text": [
      "Epoch 31, Loss: 0.8790, Accuracy: 0.6289, Val_Loss: 0.8444, Val_Accuracy: 0.6606\n"
     ]
    },
    {
     "name": "stdout",
     "output_type": "stream",
     "text": [
      "109/109 [==============================] - 1s 13ms/step - loss: 0.8790 - accuracy: 0.6289 - mae: 0.0833 - val_loss: 0.8444 - val_accuracy: 0.6606 - val_mae: 0.0808\n",
      "Epoch 32/150\n",
      "108/109 [============================>.] - ETA: 0s - loss: 0.8830 - accuracy: 0.6400 - mae: 0.0834\n",
      "Epoch 32: val_accuracy did not improve from 0.66061\n"
     ]
    },
    {
     "name": "stderr",
     "output_type": "stream",
     "text": [
      "Epoch 32, Loss: 0.8825, Accuracy: 0.6401, Val_Loss: 0.8768, Val_Accuracy: 0.6485\n"
     ]
    },
    {
     "name": "stdout",
     "output_type": "stream",
     "text": [
      "109/109 [==============================] - 1s 10ms/step - loss: 0.8825 - accuracy: 0.6401 - mae: 0.0834 - val_loss: 0.8768 - val_accuracy: 0.6485 - val_mae: 0.0828\n",
      "Epoch 33/150\n",
      "107/109 [============================>.] - ETA: 0s - loss: 0.9122 - accuracy: 0.6273 - mae: 0.0857\n",
      "Epoch 33: val_accuracy did not improve from 0.66061\n"
     ]
    },
    {
     "name": "stderr",
     "output_type": "stream",
     "text": [
      "Epoch 33, Loss: 0.9131, Accuracy: 0.6271, Val_Loss: 0.8589, Val_Accuracy: 0.6525\n"
     ]
    },
    {
     "name": "stdout",
     "output_type": "stream",
     "text": [
      "109/109 [==============================] - 1s 11ms/step - loss: 0.9131 - accuracy: 0.6271 - mae: 0.0858 - val_loss: 0.8589 - val_accuracy: 0.6525 - val_mae: 0.0824\n",
      "Epoch 34/150\n",
      "104/109 [===========================>..] - ETA: 0s - loss: 0.8799 - accuracy: 0.6493 - mae: 0.0832\n",
      "Epoch 34: val_accuracy did not improve from 0.66061\n"
     ]
    },
    {
     "name": "stderr",
     "output_type": "stream",
     "text": [
      "Epoch 34, Loss: 0.8759, Accuracy: 0.6488, Val_Loss: 0.9552, Val_Accuracy: 0.5859\n"
     ]
    },
    {
     "name": "stdout",
     "output_type": "stream",
     "text": [
      "109/109 [==============================] - 1s 11ms/step - loss: 0.8759 - accuracy: 0.6488 - mae: 0.0831 - val_loss: 0.9552 - val_accuracy: 0.5859 - val_mae: 0.0862\n",
      "Epoch 35/150\n",
      "104/109 [===========================>..] - ETA: 0s - loss: 0.8994 - accuracy: 0.6331 - mae: 0.0845\n",
      "Epoch 35: val_accuracy did not improve from 0.66061\n"
     ]
    },
    {
     "name": "stderr",
     "output_type": "stream",
     "text": [
      "Epoch 35, Loss: 0.9005, Accuracy: 0.6329, Val_Loss: 0.9157, Val_Accuracy: 0.6263\n"
     ]
    },
    {
     "name": "stdout",
     "output_type": "stream",
     "text": [
      "109/109 [==============================] - 1s 10ms/step - loss: 0.9005 - accuracy: 0.6329 - mae: 0.0847 - val_loss: 0.9157 - val_accuracy: 0.6263 - val_mae: 0.0875\n",
      "Epoch 36/150\n",
      "108/109 [============================>.] - ETA: 0s - loss: 0.8502 - accuracy: 0.6432 - mae: 0.0817\n",
      "Epoch 36: val_accuracy did not improve from 0.66061\n"
     ]
    },
    {
     "name": "stderr",
     "output_type": "stream",
     "text": [
      "Epoch 36, Loss: 0.8499, Accuracy: 0.6433, Val_Loss: 0.8973, Val_Accuracy: 0.6273\n"
     ]
    },
    {
     "name": "stdout",
     "output_type": "stream",
     "text": [
      "109/109 [==============================] - 1s 11ms/step - loss: 0.8499 - accuracy: 0.6433 - mae: 0.0816 - val_loss: 0.8973 - val_accuracy: 0.6273 - val_mae: 0.0854\n",
      "Epoch 37/150\n",
      "108/109 [============================>.] - ETA: 0s - loss: 0.8745 - accuracy: 0.6403 - mae: 0.0829\n",
      "Epoch 37: val_accuracy did not improve from 0.66061\n"
     ]
    },
    {
     "name": "stderr",
     "output_type": "stream",
     "text": [
      "Epoch 37, Loss: 0.8748, Accuracy: 0.6398, Val_Loss: 0.8596, Val_Accuracy: 0.6374\n"
     ]
    },
    {
     "name": "stdout",
     "output_type": "stream",
     "text": [
      "109/109 [==============================] - 1s 11ms/step - loss: 0.8748 - accuracy: 0.6398 - mae: 0.0829 - val_loss: 0.8596 - val_accuracy: 0.6374 - val_mae: 0.0823\n",
      "Epoch 38/150\n",
      "105/109 [===========================>..] - ETA: 0s - loss: 0.8335 - accuracy: 0.6687 - mae: 0.0795\n",
      "Epoch 38: val_accuracy did not improve from 0.66061\n"
     ]
    },
    {
     "name": "stderr",
     "output_type": "stream",
     "text": [
      "Epoch 38, Loss: 0.8354, Accuracy: 0.6670, Val_Loss: 0.8650, Val_Accuracy: 0.6444\n"
     ]
    },
    {
     "name": "stdout",
     "output_type": "stream",
     "text": [
      "109/109 [==============================] - 1s 10ms/step - loss: 0.8354 - accuracy: 0.6670 - mae: 0.0796 - val_loss: 0.8650 - val_accuracy: 0.6444 - val_mae: 0.0813\n",
      "Epoch 39/150\n",
      "107/109 [============================>.] - ETA: 0s - loss: 0.8598 - accuracy: 0.6551 - mae: 0.0812\n",
      "Epoch 39: val_accuracy improved from 0.66061 to 0.66970, saving model to 0926-datasets-ml/ml-cn-xmu-(JmolNN)/CNNmodel-20250121_1003/best_model.h5\n"
     ]
    },
    {
     "name": "stderr",
     "output_type": "stream",
     "text": [
      "Epoch 39, Loss: 0.8631, Accuracy: 0.6543, Val_Loss: 0.8513, Val_Accuracy: 0.6697\n"
     ]
    },
    {
     "name": "stdout",
     "output_type": "stream",
     "text": [
      "109/109 [==============================] - 1s 12ms/step - loss: 0.8631 - accuracy: 0.6543 - mae: 0.0813 - val_loss: 0.8513 - val_accuracy: 0.6697 - val_mae: 0.0835\n",
      "Epoch 40/150\n",
      "106/109 [============================>.] - ETA: 0s - loss: 0.8595 - accuracy: 0.6504 - mae: 0.0836\n",
      "Epoch 40: val_accuracy did not improve from 0.66970\n"
     ]
    },
    {
     "name": "stderr",
     "output_type": "stream",
     "text": [
      "Epoch 40, Loss: 0.8573, Accuracy: 0.6511, Val_Loss: 0.8118, Val_Accuracy: 0.6697\n"
     ]
    },
    {
     "name": "stdout",
     "output_type": "stream",
     "text": [
      "109/109 [==============================] - 1s 10ms/step - loss: 0.8573 - accuracy: 0.6511 - mae: 0.0835 - val_loss: 0.8118 - val_accuracy: 0.6697 - val_mae: 0.0783\n",
      "Epoch 41/150\n",
      "109/109 [==============================] - ETA: 0s - loss: 0.8580 - accuracy: 0.6418 - mae: 0.0810\n",
      "Epoch 41: val_accuracy did not improve from 0.66970\n"
     ]
    },
    {
     "name": "stderr",
     "output_type": "stream",
     "text": [
      "Epoch 41, Loss: 0.8580, Accuracy: 0.6418, Val_Loss: 0.9106, Val_Accuracy: 0.6333\n"
     ]
    },
    {
     "name": "stdout",
     "output_type": "stream",
     "text": [
      "109/109 [==============================] - 1s 9ms/step - loss: 0.8580 - accuracy: 0.6418 - mae: 0.0810 - val_loss: 0.9106 - val_accuracy: 0.6333 - val_mae: 0.0850\n",
      "Epoch 42/150\n",
      "105/109 [===========================>..] - ETA: 0s - loss: 0.8509 - accuracy: 0.6482 - mae: 0.0824\n",
      "Epoch 42: val_accuracy improved from 0.66970 to 0.67475, saving model to 0926-datasets-ml/ml-cn-xmu-(JmolNN)/CNNmodel-20250121_1003/best_model.h5\n"
     ]
    },
    {
     "name": "stderr",
     "output_type": "stream",
     "text": [
      "Epoch 42, Loss: 0.8504, Accuracy: 0.6473, Val_Loss: 0.8119, Val_Accuracy: 0.6747\n"
     ]
    },
    {
     "name": "stdout",
     "output_type": "stream",
     "text": [
      "109/109 [==============================] - 1s 13ms/step - loss: 0.8504 - accuracy: 0.6473 - mae: 0.0823 - val_loss: 0.8119 - val_accuracy: 0.6747 - val_mae: 0.0776\n",
      "Epoch 43/150\n",
      "104/109 [===========================>..] - ETA: 0s - loss: 0.8447 - accuracy: 0.6517 - mae: 0.0801\n",
      "Epoch 43: val_accuracy did not improve from 0.67475\n"
     ]
    },
    {
     "name": "stderr",
     "output_type": "stream",
     "text": [
      "Epoch 43, Loss: 0.8418, Accuracy: 0.6522, Val_Loss: 0.8237, Val_Accuracy: 0.6717\n"
     ]
    },
    {
     "name": "stdout",
     "output_type": "stream",
     "text": [
      "109/109 [==============================] - 1s 11ms/step - loss: 0.8418 - accuracy: 0.6522 - mae: 0.0799 - val_loss: 0.8237 - val_accuracy: 0.6717 - val_mae: 0.0801\n",
      "Epoch 44/150\n",
      "106/109 [============================>.] - ETA: 0s - loss: 0.8263 - accuracy: 0.6677 - mae: 0.0800\n",
      "Epoch 44: val_accuracy did not improve from 0.67475\n"
     ]
    },
    {
     "name": "stderr",
     "output_type": "stream",
     "text": [
      "Epoch 44, Loss: 0.8235, Accuracy: 0.6684, Val_Loss: 0.8702, Val_Accuracy: 0.6364\n"
     ]
    },
    {
     "name": "stdout",
     "output_type": "stream",
     "text": [
      "109/109 [==============================] - 1s 9ms/step - loss: 0.8235 - accuracy: 0.6684 - mae: 0.0798 - val_loss: 0.8702 - val_accuracy: 0.6364 - val_mae: 0.0802\n",
      "Epoch 45/150\n",
      "107/109 [============================>.] - ETA: 0s - loss: 0.8269 - accuracy: 0.6630 - mae: 0.0792\n",
      "Epoch 45: val_accuracy did not improve from 0.67475\n"
     ]
    },
    {
     "name": "stderr",
     "output_type": "stream",
     "text": [
      "Epoch 45, Loss: 0.8296, Accuracy: 0.6618, Val_Loss: 0.9657, Val_Accuracy: 0.6061\n"
     ]
    },
    {
     "name": "stdout",
     "output_type": "stream",
     "text": [
      "109/109 [==============================] - 1s 11ms/step - loss: 0.8296 - accuracy: 0.6618 - mae: 0.0794 - val_loss: 0.9657 - val_accuracy: 0.6061 - val_mae: 0.0890\n",
      "Epoch 46/150\n",
      "107/109 [============================>.] - ETA: 0s - loss: 0.8355 - accuracy: 0.6507 - mae: 0.0804\n",
      "Epoch 46: val_accuracy did not improve from 0.67475\n"
     ]
    },
    {
     "name": "stderr",
     "output_type": "stream",
     "text": [
      "Epoch 46, Loss: 0.8357, Accuracy: 0.6511, Val_Loss: 0.8582, Val_Accuracy: 0.6485\n"
     ]
    },
    {
     "name": "stdout",
     "output_type": "stream",
     "text": [
      "109/109 [==============================] - 1s 10ms/step - loss: 0.8357 - accuracy: 0.6511 - mae: 0.0804 - val_loss: 0.8582 - val_accuracy: 0.6485 - val_mae: 0.0811\n",
      "Epoch 47/150\n",
      "106/109 [============================>.] - ETA: 0s - loss: 0.8368 - accuracy: 0.6459 - mae: 0.0796\n",
      "Epoch 47: val_accuracy did not improve from 0.67475\n"
     ]
    },
    {
     "name": "stderr",
     "output_type": "stream",
     "text": [
      "Epoch 47, Loss: 0.8403, Accuracy: 0.6450, Val_Loss: 0.8698, Val_Accuracy: 0.6343\n"
     ]
    },
    {
     "name": "stdout",
     "output_type": "stream",
     "text": [
      "109/109 [==============================] - 1s 9ms/step - loss: 0.8403 - accuracy: 0.6450 - mae: 0.0800 - val_loss: 0.8698 - val_accuracy: 0.6343 - val_mae: 0.0874\n",
      "Epoch 48/150\n",
      "107/109 [============================>.] - ETA: 0s - loss: 0.8389 - accuracy: 0.6510 - mae: 0.0817\n",
      "Epoch 48: val_accuracy did not improve from 0.67475\n"
     ]
    },
    {
     "name": "stderr",
     "output_type": "stream",
     "text": [
      "Epoch 48, Loss: 0.8395, Accuracy: 0.6494, Val_Loss: 0.8394, Val_Accuracy: 0.6535\n"
     ]
    },
    {
     "name": "stdout",
     "output_type": "stream",
     "text": [
      "109/109 [==============================] - 1s 9ms/step - loss: 0.8395 - accuracy: 0.6494 - mae: 0.0818 - val_loss: 0.8394 - val_accuracy: 0.6535 - val_mae: 0.0798\n",
      "Epoch 49/150\n",
      "109/109 [==============================] - ETA: 0s - loss: 0.8183 - accuracy: 0.6620 - mae: 0.0791\n",
      "Epoch 49: val_accuracy did not improve from 0.67475\n"
     ]
    },
    {
     "name": "stderr",
     "output_type": "stream",
     "text": [
      "Epoch 49, Loss: 0.8183, Accuracy: 0.6620, Val_Loss: 0.8287, Val_Accuracy: 0.6535\n"
     ]
    },
    {
     "name": "stdout",
     "output_type": "stream",
     "text": [
      "109/109 [==============================] - 1s 9ms/step - loss: 0.8183 - accuracy: 0.6620 - mae: 0.0791 - val_loss: 0.8287 - val_accuracy: 0.6535 - val_mae: 0.0759\n",
      "Epoch 50/150\n",
      "108/109 [============================>.] - ETA: 0s - loss: 0.8246 - accuracy: 0.6577 - mae: 0.0789\n",
      "Epoch 50: val_accuracy did not improve from 0.67475\n"
     ]
    },
    {
     "name": "stderr",
     "output_type": "stream",
     "text": [
      "Epoch 50, Loss: 0.8251, Accuracy: 0.6574, Val_Loss: 0.8620, Val_Accuracy: 0.6515\n"
     ]
    },
    {
     "name": "stdout",
     "output_type": "stream",
     "text": [
      "109/109 [==============================] - 1s 9ms/step - loss: 0.8251 - accuracy: 0.6574 - mae: 0.0789 - val_loss: 0.8620 - val_accuracy: 0.6515 - val_mae: 0.0852\n",
      "Epoch 51/150\n",
      "105/109 [===========================>..] - ETA: 0s - loss: 0.8203 - accuracy: 0.6652 - mae: 0.0790\n",
      "Epoch 51: val_accuracy did not improve from 0.67475\n"
     ]
    },
    {
     "name": "stderr",
     "output_type": "stream",
     "text": [
      "Epoch 51, Loss: 0.8230, Accuracy: 0.6623, Val_Loss: 0.8209, Val_Accuracy: 0.6596\n"
     ]
    },
    {
     "name": "stdout",
     "output_type": "stream",
     "text": [
      "109/109 [==============================] - 1s 9ms/step - loss: 0.8230 - accuracy: 0.6623 - mae: 0.0793 - val_loss: 0.8209 - val_accuracy: 0.6596 - val_mae: 0.0782\n",
      "Epoch 52/150\n",
      "109/109 [==============================] - ETA: 0s - loss: 0.8068 - accuracy: 0.6646 - mae: 0.0783\n",
      "Epoch 52: val_accuracy did not improve from 0.67475\n"
     ]
    },
    {
     "name": "stderr",
     "output_type": "stream",
     "text": [
      "Epoch 52, Loss: 0.8068, Accuracy: 0.6646, Val_Loss: 0.8270, Val_Accuracy: 0.6646\n"
     ]
    },
    {
     "name": "stdout",
     "output_type": "stream",
     "text": [
      "109/109 [==============================] - 1s 9ms/step - loss: 0.8068 - accuracy: 0.6646 - mae: 0.0783 - val_loss: 0.8270 - val_accuracy: 0.6646 - val_mae: 0.0809\n",
      "Epoch 53/150\n",
      "105/109 [===========================>..] - ETA: 0s - loss: 0.8019 - accuracy: 0.6631 - mae: 0.0772\n",
      "Epoch 53: val_accuracy did not improve from 0.67475\n"
     ]
    },
    {
     "name": "stderr",
     "output_type": "stream",
     "text": [
      "Epoch 53, Loss: 0.8037, Accuracy: 0.6609, Val_Loss: 0.8254, Val_Accuracy: 0.6626\n"
     ]
    },
    {
     "name": "stdout",
     "output_type": "stream",
     "text": [
      "109/109 [==============================] - 1s 9ms/step - loss: 0.8037 - accuracy: 0.6609 - mae: 0.0775 - val_loss: 0.8254 - val_accuracy: 0.6626 - val_mae: 0.0807\n",
      "Epoch 54/150\n",
      "104/109 [===========================>..] - ETA: 0s - loss: 0.8296 - accuracy: 0.6584 - mae: 0.0806\n",
      "Epoch 54: val_accuracy did not improve from 0.67475\n"
     ]
    },
    {
     "name": "stderr",
     "output_type": "stream",
     "text": [
      "Epoch 54, Loss: 0.8286, Accuracy: 0.6583, Val_Loss: 0.8496, Val_Accuracy: 0.6293\n"
     ]
    },
    {
     "name": "stdout",
     "output_type": "stream",
     "text": [
      "109/109 [==============================] - 1s 9ms/step - loss: 0.8286 - accuracy: 0.6583 - mae: 0.0805 - val_loss: 0.8496 - val_accuracy: 0.6293 - val_mae: 0.0806\n",
      "Epoch 55/150\n",
      "103/109 [===========================>..] - ETA: 0s - loss: 0.7946 - accuracy: 0.6660 - mae: 0.0773\n",
      "Epoch 55: val_accuracy did not improve from 0.67475\n"
     ]
    },
    {
     "name": "stderr",
     "output_type": "stream",
     "text": [
      "Epoch 55, Loss: 0.7915, Accuracy: 0.6655, Val_Loss: 0.8028, Val_Accuracy: 0.6646\n"
     ]
    },
    {
     "name": "stdout",
     "output_type": "stream",
     "text": [
      "109/109 [==============================] - 1s 7ms/step - loss: 0.7915 - accuracy: 0.6655 - mae: 0.0772 - val_loss: 0.8028 - val_accuracy: 0.6646 - val_mae: 0.0773\n",
      "Epoch 56/150\n",
      "103/109 [===========================>..] - ETA: 0s - loss: 0.8160 - accuracy: 0.6578 - mae: 0.0785\n",
      "Epoch 56: val_accuracy did not improve from 0.67475\n"
     ]
    },
    {
     "name": "stderr",
     "output_type": "stream",
     "text": [
      "Epoch 56, Loss: 0.8125, Accuracy: 0.6580, Val_Loss: 0.8982, Val_Accuracy: 0.6101\n"
     ]
    },
    {
     "name": "stdout",
     "output_type": "stream",
     "text": [
      "109/109 [==============================] - 1s 9ms/step - loss: 0.8125 - accuracy: 0.6580 - mae: 0.0784 - val_loss: 0.8982 - val_accuracy: 0.6101 - val_mae: 0.0815\n",
      "Epoch 57/150\n",
      "106/109 [============================>.] - ETA: 0s - loss: 0.8251 - accuracy: 0.6512 - mae: 0.0803\n",
      "Epoch 57: val_accuracy did not improve from 0.67475\n"
     ]
    },
    {
     "name": "stderr",
     "output_type": "stream",
     "text": [
      "Epoch 57, Loss: 0.8241, Accuracy: 0.6517, Val_Loss: 0.9135, Val_Accuracy: 0.6091\n"
     ]
    },
    {
     "name": "stdout",
     "output_type": "stream",
     "text": [
      "109/109 [==============================] - 1s 9ms/step - loss: 0.8241 - accuracy: 0.6517 - mae: 0.0801 - val_loss: 0.9135 - val_accuracy: 0.6091 - val_mae: 0.0827\n",
      "Epoch 58/150\n",
      "106/109 [============================>.] - ETA: 0s - loss: 0.8087 - accuracy: 0.6595 - mae: 0.0789\n",
      "Epoch 58: val_accuracy did not improve from 0.67475\n"
     ]
    },
    {
     "name": "stderr",
     "output_type": "stream",
     "text": [
      "Epoch 58, Loss: 0.8117, Accuracy: 0.6592, Val_Loss: 0.9678, Val_Accuracy: 0.5980\n"
     ]
    },
    {
     "name": "stdout",
     "output_type": "stream",
     "text": [
      "109/109 [==============================] - 1s 9ms/step - loss: 0.8117 - accuracy: 0.6592 - mae: 0.0791 - val_loss: 0.9678 - val_accuracy: 0.5980 - val_mae: 0.0832\n",
      "Epoch 59/150\n",
      "106/109 [============================>.] - ETA: 0s - loss: 0.8054 - accuracy: 0.6621 - mae: 0.0778\n",
      "Epoch 59: val_accuracy did not improve from 0.67475\n"
     ]
    },
    {
     "name": "stderr",
     "output_type": "stream",
     "text": [
      "Epoch 59, Loss: 0.8081, Accuracy: 0.6606, Val_Loss: 0.7878, Val_Accuracy: 0.6737\n"
     ]
    },
    {
     "name": "stdout",
     "output_type": "stream",
     "text": [
      "109/109 [==============================] - 1s 9ms/step - loss: 0.8081 - accuracy: 0.6606 - mae: 0.0779 - val_loss: 0.7878 - val_accuracy: 0.6737 - val_mae: 0.0763\n",
      "Epoch 60/150\n",
      "108/109 [============================>.] - ETA: 0s - loss: 0.7962 - accuracy: 0.6725 - mae: 0.0778\n",
      "Epoch 60: val_accuracy did not improve from 0.67475\n"
     ]
    },
    {
     "name": "stderr",
     "output_type": "stream",
     "text": [
      "Epoch 60, Loss: 0.7968, Accuracy: 0.6719, Val_Loss: 0.8168, Val_Accuracy: 0.6636\n"
     ]
    },
    {
     "name": "stdout",
     "output_type": "stream",
     "text": [
      "109/109 [==============================] - 1s 9ms/step - loss: 0.7968 - accuracy: 0.6719 - mae: 0.0778 - val_loss: 0.8168 - val_accuracy: 0.6636 - val_mae: 0.0756\n",
      "Epoch 61/150\n",
      "103/109 [===========================>..] - ETA: 0s - loss: 0.7994 - accuracy: 0.6644 - mae: 0.0778\n",
      "Epoch 61: val_accuracy improved from 0.67475 to 0.68182, saving model to 0926-datasets-ml/ml-cn-xmu-(JmolNN)/CNNmodel-20250121_1003/best_model.h5\n"
     ]
    },
    {
     "name": "stderr",
     "output_type": "stream",
     "text": [
      "Epoch 61, Loss: 0.8031, Accuracy: 0.6638, Val_Loss: 0.7987, Val_Accuracy: 0.6818\n"
     ]
    },
    {
     "name": "stdout",
     "output_type": "stream",
     "text": [
      "109/109 [==============================] - 1s 9ms/step - loss: 0.8031 - accuracy: 0.6638 - mae: 0.0780 - val_loss: 0.7987 - val_accuracy: 0.6818 - val_mae: 0.0779\n",
      "Epoch 62/150\n",
      "105/109 [===========================>..] - ETA: 0s - loss: 0.8009 - accuracy: 0.6696 - mae: 0.0774\n",
      "Epoch 62: val_accuracy did not improve from 0.68182\n"
     ]
    },
    {
     "name": "stderr",
     "output_type": "stream",
     "text": [
      "Epoch 62, Loss: 0.7990, Accuracy: 0.6707, Val_Loss: 0.9746, Val_Accuracy: 0.5929\n"
     ]
    },
    {
     "name": "stdout",
     "output_type": "stream",
     "text": [
      "109/109 [==============================] - 1s 9ms/step - loss: 0.7990 - accuracy: 0.6707 - mae: 0.0773 - val_loss: 0.9746 - val_accuracy: 0.5929 - val_mae: 0.0850\n",
      "Epoch 63/150\n",
      "102/109 [===========================>..] - ETA: 0s - loss: 0.7786 - accuracy: 0.6762 - mae: 0.0764\n",
      "Epoch 63: val_accuracy did not improve from 0.68182\n"
     ]
    },
    {
     "name": "stderr",
     "output_type": "stream",
     "text": [
      "Epoch 63, Loss: 0.7809, Accuracy: 0.6733, Val_Loss: 0.8148, Val_Accuracy: 0.6687\n"
     ]
    },
    {
     "name": "stdout",
     "output_type": "stream",
     "text": [
      "109/109 [==============================] - 1s 9ms/step - loss: 0.7809 - accuracy: 0.6733 - mae: 0.0765 - val_loss: 0.8148 - val_accuracy: 0.6687 - val_mae: 0.0787\n",
      "Epoch 64/150\n",
      "106/109 [============================>.] - ETA: 0s - loss: 0.7987 - accuracy: 0.6669 - mae: 0.0777\n",
      "Epoch 64: val_accuracy did not improve from 0.68182\n"
     ]
    },
    {
     "name": "stderr",
     "output_type": "stream",
     "text": [
      "Epoch 64, Loss: 0.7982, Accuracy: 0.6675, Val_Loss: 0.8532, Val_Accuracy: 0.6566\n"
     ]
    },
    {
     "name": "stdout",
     "output_type": "stream",
     "text": [
      "109/109 [==============================] - 1s 9ms/step - loss: 0.7982 - accuracy: 0.6675 - mae: 0.0778 - val_loss: 0.8532 - val_accuracy: 0.6566 - val_mae: 0.0796\n",
      "Epoch 65/150\n",
      "105/109 [===========================>..] - ETA: 0s - loss: 0.7911 - accuracy: 0.6830 - mae: 0.0758\n",
      "Epoch 65: val_accuracy did not improve from 0.68182\n"
     ]
    },
    {
     "name": "stderr",
     "output_type": "stream",
     "text": [
      "Epoch 65, Loss: 0.7941, Accuracy: 0.6817, Val_Loss: 0.8653, Val_Accuracy: 0.6384\n"
     ]
    },
    {
     "name": "stdout",
     "output_type": "stream",
     "text": [
      "109/109 [==============================] - 1s 9ms/step - loss: 0.7941 - accuracy: 0.6817 - mae: 0.0760 - val_loss: 0.8653 - val_accuracy: 0.6384 - val_mae: 0.0811\n",
      "Epoch 66/150\n",
      "105/109 [===========================>..] - ETA: 0s - loss: 0.7747 - accuracy: 0.6792 - mae: 0.0764\n",
      "Epoch 66: val_accuracy did not improve from 0.68182\n"
     ]
    },
    {
     "name": "stderr",
     "output_type": "stream",
     "text": [
      "Epoch 66, Loss: 0.7765, Accuracy: 0.6791, Val_Loss: 0.8017, Val_Accuracy: 0.6657\n"
     ]
    },
    {
     "name": "stdout",
     "output_type": "stream",
     "text": [
      "109/109 [==============================] - 1s 9ms/step - loss: 0.7765 - accuracy: 0.6791 - mae: 0.0765 - val_loss: 0.8017 - val_accuracy: 0.6657 - val_mae: 0.0767\n",
      "Epoch 67/150\n",
      "104/109 [===========================>..] - ETA: 0s - loss: 0.7983 - accuracy: 0.6722 - mae: 0.0771\n",
      "Epoch 67: val_accuracy did not improve from 0.68182\n"
     ]
    },
    {
     "name": "stderr",
     "output_type": "stream",
     "text": [
      "Epoch 67, Loss: 0.8044, Accuracy: 0.6687, Val_Loss: 0.8195, Val_Accuracy: 0.6626\n"
     ]
    },
    {
     "name": "stdout",
     "output_type": "stream",
     "text": [
      "109/109 [==============================] - 1s 9ms/step - loss: 0.8044 - accuracy: 0.6687 - mae: 0.0775 - val_loss: 0.8195 - val_accuracy: 0.6626 - val_mae: 0.0779\n",
      "Epoch 68/150\n",
      "107/109 [============================>.] - ETA: 0s - loss: 0.7935 - accuracy: 0.6752 - mae: 0.0778\n",
      "Epoch 68: val_accuracy did not improve from 0.68182\n"
     ]
    },
    {
     "name": "stderr",
     "output_type": "stream",
     "text": [
      "Epoch 68, Loss: 0.7941, Accuracy: 0.6753, Val_Loss: 0.7800, Val_Accuracy: 0.6737\n"
     ]
    },
    {
     "name": "stdout",
     "output_type": "stream",
     "text": [
      "109/109 [==============================] - 1s 9ms/step - loss: 0.7941 - accuracy: 0.6753 - mae: 0.0780 - val_loss: 0.7800 - val_accuracy: 0.6737 - val_mae: 0.0763\n",
      "Epoch 69/150\n",
      "106/109 [============================>.] - ETA: 0s - loss: 0.7943 - accuracy: 0.6736 - mae: 0.0766\n",
      "Epoch 69: val_accuracy did not improve from 0.68182\n"
     ]
    },
    {
     "name": "stderr",
     "output_type": "stream",
     "text": [
      "Epoch 69, Loss: 0.7948, Accuracy: 0.6727, Val_Loss: 0.8603, Val_Accuracy: 0.6323\n"
     ]
    },
    {
     "name": "stdout",
     "output_type": "stream",
     "text": [
      "109/109 [==============================] - 1s 9ms/step - loss: 0.7948 - accuracy: 0.6727 - mae: 0.0766 - val_loss: 0.8603 - val_accuracy: 0.6323 - val_mae: 0.0818\n",
      "Epoch 70/150\n",
      "102/109 [===========================>..] - ETA: 0s - loss: 0.7893 - accuracy: 0.6798 - mae: 0.0770\n",
      "Epoch 70: val_accuracy did not improve from 0.68182\n"
     ]
    },
    {
     "name": "stderr",
     "output_type": "stream",
     "text": [
      "Epoch 70, Loss: 0.7872, Accuracy: 0.6817, Val_Loss: 0.7739, Val_Accuracy: 0.6697\n"
     ]
    },
    {
     "name": "stdout",
     "output_type": "stream",
     "text": [
      "109/109 [==============================] - 1s 9ms/step - loss: 0.7872 - accuracy: 0.6817 - mae: 0.0768 - val_loss: 0.7739 - val_accuracy: 0.6697 - val_mae: 0.0752\n",
      "Epoch 71/150\n",
      "107/109 [============================>.] - ETA: 0s - loss: 0.7881 - accuracy: 0.6741 - mae: 0.0763\n",
      "Epoch 71: val_accuracy did not improve from 0.68182\n"
     ]
    },
    {
     "name": "stderr",
     "output_type": "stream",
     "text": [
      "Epoch 71, Loss: 0.7914, Accuracy: 0.6716, Val_Loss: 0.9708, Val_Accuracy: 0.5808\n"
     ]
    },
    {
     "name": "stdout",
     "output_type": "stream",
     "text": [
      "109/109 [==============================] - 1s 9ms/step - loss: 0.7914 - accuracy: 0.6716 - mae: 0.0765 - val_loss: 0.9708 - val_accuracy: 0.5808 - val_mae: 0.0852\n",
      "Epoch 72/150\n",
      "106/109 [============================>.] - ETA: 0s - loss: 0.8040 - accuracy: 0.6701 - mae: 0.0785\n",
      "Epoch 72: val_accuracy did not improve from 0.68182\n"
     ]
    },
    {
     "name": "stderr",
     "output_type": "stream",
     "text": [
      "Epoch 72, Loss: 0.8049, Accuracy: 0.6713, Val_Loss: 0.8515, Val_Accuracy: 0.6475\n"
     ]
    },
    {
     "name": "stdout",
     "output_type": "stream",
     "text": [
      "109/109 [==============================] - 1s 8ms/step - loss: 0.8049 - accuracy: 0.6713 - mae: 0.0785 - val_loss: 0.8515 - val_accuracy: 0.6475 - val_mae: 0.0796\n",
      "Epoch 73/150\n",
      "108/109 [============================>.] - ETA: 0s - loss: 0.7858 - accuracy: 0.6768 - mae: 0.0768\n",
      "Epoch 73: val_accuracy did not improve from 0.68182\n"
     ]
    },
    {
     "name": "stderr",
     "output_type": "stream",
     "text": [
      "Epoch 73, Loss: 0.7852, Accuracy: 0.6771, Val_Loss: 0.8107, Val_Accuracy: 0.6737\n"
     ]
    },
    {
     "name": "stdout",
     "output_type": "stream",
     "text": [
      "109/109 [==============================] - 1s 9ms/step - loss: 0.7852 - accuracy: 0.6771 - mae: 0.0768 - val_loss: 0.8107 - val_accuracy: 0.6737 - val_mae: 0.0763\n",
      "Epoch 74/150\n",
      "106/109 [============================>.] - ETA: 0s - loss: 0.7730 - accuracy: 0.6745 - mae: 0.0752\n",
      "Epoch 74: val_accuracy did not improve from 0.68182\n"
     ]
    },
    {
     "name": "stderr",
     "output_type": "stream",
     "text": [
      "Epoch 74, Loss: 0.7710, Accuracy: 0.6773, Val_Loss: 0.8179, Val_Accuracy: 0.6576\n"
     ]
    },
    {
     "name": "stdout",
     "output_type": "stream",
     "text": [
      "109/109 [==============================] - 1s 9ms/step - loss: 0.7710 - accuracy: 0.6773 - mae: 0.0750 - val_loss: 0.8179 - val_accuracy: 0.6576 - val_mae: 0.0770\n",
      "Epoch 75/150\n",
      "103/109 [===========================>..] - ETA: 0s - loss: 0.7722 - accuracy: 0.6775 - mae: 0.0754\n",
      "Epoch 75: val_accuracy did not improve from 0.68182\n"
     ]
    },
    {
     "name": "stderr",
     "output_type": "stream",
     "text": [
      "Epoch 75, Loss: 0.7716, Accuracy: 0.6759, Val_Loss: 0.8006, Val_Accuracy: 0.6727\n"
     ]
    },
    {
     "name": "stdout",
     "output_type": "stream",
     "text": [
      "109/109 [==============================] - 1s 8ms/step - loss: 0.7716 - accuracy: 0.6759 - mae: 0.0753 - val_loss: 0.8006 - val_accuracy: 0.6727 - val_mae: 0.0746\n",
      "Epoch 76/150\n",
      "106/109 [============================>.] - ETA: 0s - loss: 0.7971 - accuracy: 0.6716 - mae: 0.0776\n",
      "Epoch 76: val_accuracy did not improve from 0.68182\n"
     ]
    },
    {
     "name": "stderr",
     "output_type": "stream",
     "text": [
      "Epoch 76, Loss: 0.7972, Accuracy: 0.6724, Val_Loss: 0.8017, Val_Accuracy: 0.6687\n"
     ]
    },
    {
     "name": "stdout",
     "output_type": "stream",
     "text": [
      "109/109 [==============================] - 1s 9ms/step - loss: 0.7972 - accuracy: 0.6724 - mae: 0.0776 - val_loss: 0.8017 - val_accuracy: 0.6687 - val_mae: 0.0800\n",
      "Epoch 77/150\n",
      "105/109 [===========================>..] - ETA: 0s - loss: 0.7807 - accuracy: 0.6726 - mae: 0.0757\n",
      "Epoch 77: val_accuracy did not improve from 0.68182\n"
     ]
    },
    {
     "name": "stderr",
     "output_type": "stream",
     "text": [
      "Epoch 77, Loss: 0.7840, Accuracy: 0.6701, Val_Loss: 0.8616, Val_Accuracy: 0.6374\n"
     ]
    },
    {
     "name": "stdout",
     "output_type": "stream",
     "text": [
      "109/109 [==============================] - 1s 9ms/step - loss: 0.7840 - accuracy: 0.6701 - mae: 0.0759 - val_loss: 0.8616 - val_accuracy: 0.6374 - val_mae: 0.0809\n",
      "Epoch 78/150\n",
      "105/109 [===========================>..] - ETA: 0s - loss: 0.7935 - accuracy: 0.6679 - mae: 0.0775\n",
      "Epoch 78: val_accuracy did not improve from 0.68182\n"
     ]
    },
    {
     "name": "stderr",
     "output_type": "stream",
     "text": [
      "Epoch 78, Loss: 0.7921, Accuracy: 0.6672, Val_Loss: 0.8423, Val_Accuracy: 0.6444\n"
     ]
    },
    {
     "name": "stdout",
     "output_type": "stream",
     "text": [
      "109/109 [==============================] - 1s 8ms/step - loss: 0.7921 - accuracy: 0.6672 - mae: 0.0775 - val_loss: 0.8423 - val_accuracy: 0.6444 - val_mae: 0.0815\n",
      "Epoch 79/150\n",
      "107/109 [============================>.] - ETA: 0s - loss: 0.7783 - accuracy: 0.6729 - mae: 0.0768\n",
      "Epoch 79: val_accuracy did not improve from 0.68182\n"
     ]
    },
    {
     "name": "stderr",
     "output_type": "stream",
     "text": [
      "Epoch 79, Loss: 0.7800, Accuracy: 0.6716, Val_Loss: 0.8638, Val_Accuracy: 0.6475\n"
     ]
    },
    {
     "name": "stdout",
     "output_type": "stream",
     "text": [
      "109/109 [==============================] - 1s 9ms/step - loss: 0.7800 - accuracy: 0.6716 - mae: 0.0769 - val_loss: 0.8638 - val_accuracy: 0.6475 - val_mae: 0.0787\n",
      "Epoch 80/150\n",
      "102/109 [===========================>..] - ETA: 0s - loss: 0.7617 - accuracy: 0.6795 - mae: 0.0746\n",
      "Epoch 80: val_accuracy did not improve from 0.68182\n"
     ]
    },
    {
     "name": "stderr",
     "output_type": "stream",
     "text": [
      "Epoch 80, Loss: 0.7595, Accuracy: 0.6791, Val_Loss: 0.7870, Val_Accuracy: 0.6778\n"
     ]
    },
    {
     "name": "stdout",
     "output_type": "stream",
     "text": [
      "109/109 [==============================] - 1s 9ms/step - loss: 0.7595 - accuracy: 0.6791 - mae: 0.0746 - val_loss: 0.7870 - val_accuracy: 0.6778 - val_mae: 0.0740\n",
      "Epoch 81/150\n",
      "102/109 [===========================>..] - ETA: 0s - loss: 0.8001 - accuracy: 0.6605 - mae: 0.0776\n",
      "Epoch 81: val_accuracy did not improve from 0.68182\n"
     ]
    },
    {
     "name": "stderr",
     "output_type": "stream",
     "text": [
      "Epoch 81, Loss: 0.7972, Accuracy: 0.6618, Val_Loss: 0.9291, Val_Accuracy: 0.5919\n"
     ]
    },
    {
     "name": "stdout",
     "output_type": "stream",
     "text": [
      "109/109 [==============================] - 1s 8ms/step - loss: 0.7972 - accuracy: 0.6618 - mae: 0.0774 - val_loss: 0.9291 - val_accuracy: 0.5919 - val_mae: 0.0838\n",
      "Epoch 82/150\n",
      "107/109 [============================>.] - ETA: 0s - loss: 0.7696 - accuracy: 0.6779 - mae: 0.0762\n",
      "Epoch 82: val_accuracy did not improve from 0.68182\n"
     ]
    },
    {
     "name": "stderr",
     "output_type": "stream",
     "text": [
      "Epoch 82, Loss: 0.7694, Accuracy: 0.6782, Val_Loss: 0.7973, Val_Accuracy: 0.6616\n"
     ]
    },
    {
     "name": "stdout",
     "output_type": "stream",
     "text": [
      "109/109 [==============================] - 1s 8ms/step - loss: 0.7694 - accuracy: 0.6782 - mae: 0.0762 - val_loss: 0.7973 - val_accuracy: 0.6616 - val_mae: 0.0772\n",
      "Epoch 83/150\n",
      "105/109 [===========================>..] - ETA: 0s - loss: 0.7697 - accuracy: 0.6827 - mae: 0.0754\n",
      "Epoch 83: val_accuracy did not improve from 0.68182\n"
     ]
    },
    {
     "name": "stderr",
     "output_type": "stream",
     "text": [
      "Epoch 83, Loss: 0.7716, Accuracy: 0.6814, Val_Loss: 0.8236, Val_Accuracy: 0.6556\n"
     ]
    },
    {
     "name": "stdout",
     "output_type": "stream",
     "text": [
      "109/109 [==============================] - 1s 9ms/step - loss: 0.7716 - accuracy: 0.6814 - mae: 0.0755 - val_loss: 0.8236 - val_accuracy: 0.6556 - val_mae: 0.0774\n",
      "Epoch 84/150\n",
      "103/109 [===========================>..] - ETA: 0s - loss: 0.7634 - accuracy: 0.6799 - mae: 0.0746\n",
      "Epoch 84: val_accuracy did not improve from 0.68182\n"
     ]
    },
    {
     "name": "stderr",
     "output_type": "stream",
     "text": [
      "Epoch 84, Loss: 0.7663, Accuracy: 0.6779, Val_Loss: 0.8697, Val_Accuracy: 0.6323\n"
     ]
    },
    {
     "name": "stdout",
     "output_type": "stream",
     "text": [
      "109/109 [==============================] - 1s 9ms/step - loss: 0.7663 - accuracy: 0.6779 - mae: 0.0746 - val_loss: 0.8697 - val_accuracy: 0.6323 - val_mae: 0.0780\n",
      "Epoch 85/150\n",
      "108/109 [============================>.] - ETA: 0s - loss: 0.7643 - accuracy: 0.6803 - mae: 0.0753\n",
      "Epoch 85: val_accuracy did not improve from 0.68182\n"
     ]
    },
    {
     "name": "stderr",
     "output_type": "stream",
     "text": [
      "Epoch 85, Loss: 0.7643, Accuracy: 0.6802, Val_Loss: 0.8367, Val_Accuracy: 0.6333\n"
     ]
    },
    {
     "name": "stdout",
     "output_type": "stream",
     "text": [
      "109/109 [==============================] - 1s 8ms/step - loss: 0.7643 - accuracy: 0.6802 - mae: 0.0753 - val_loss: 0.8367 - val_accuracy: 0.6333 - val_mae: 0.0811\n",
      "Epoch 86/150\n",
      "103/109 [===========================>..] - ETA: 0s - loss: 0.7552 - accuracy: 0.6833 - mae: 0.0746\n",
      "Epoch 86: val_accuracy did not improve from 0.68182\n"
     ]
    },
    {
     "name": "stderr",
     "output_type": "stream",
     "text": [
      "Epoch 86, Loss: 0.7558, Accuracy: 0.6837, Val_Loss: 0.8519, Val_Accuracy: 0.6525\n"
     ]
    },
    {
     "name": "stdout",
     "output_type": "stream",
     "text": [
      "109/109 [==============================] - 1s 10ms/step - loss: 0.7558 - accuracy: 0.6837 - mae: 0.0744 - val_loss: 0.8519 - val_accuracy: 0.6525 - val_mae: 0.0785\n",
      "Epoch 87/150\n",
      "103/109 [===========================>..] - ETA: 0s - loss: 0.7641 - accuracy: 0.6896 - mae: 0.0746\n",
      "Epoch 87: val_accuracy did not improve from 0.68182\n"
     ]
    },
    {
     "name": "stderr",
     "output_type": "stream",
     "text": [
      "Epoch 87, Loss: 0.7632, Accuracy: 0.6909, Val_Loss: 0.8143, Val_Accuracy: 0.6606\n"
     ]
    },
    {
     "name": "stdout",
     "output_type": "stream",
     "text": [
      "109/109 [==============================] - 1s 9ms/step - loss: 0.7632 - accuracy: 0.6909 - mae: 0.0746 - val_loss: 0.8143 - val_accuracy: 0.6606 - val_mae: 0.0765\n",
      "Epoch 88/150\n",
      "102/109 [===========================>..] - ETA: 0s - loss: 0.7467 - accuracy: 0.6884 - mae: 0.0733\n",
      "Epoch 88: val_accuracy did not improve from 0.68182\n"
     ]
    },
    {
     "name": "stderr",
     "output_type": "stream",
     "text": [
      "Epoch 88, Loss: 0.7489, Accuracy: 0.6874, Val_Loss: 0.7809, Val_Accuracy: 0.6788\n"
     ]
    },
    {
     "name": "stdout",
     "output_type": "stream",
     "text": [
      "109/109 [==============================] - 1s 8ms/step - loss: 0.7489 - accuracy: 0.6874 - mae: 0.0736 - val_loss: 0.7809 - val_accuracy: 0.6788 - val_mae: 0.0770\n",
      "Epoch 89/150\n",
      "105/109 [===========================>..] - ETA: 0s - loss: 0.7488 - accuracy: 0.6833 - mae: 0.0740\n",
      "Epoch 89: val_accuracy did not improve from 0.68182\n"
     ]
    },
    {
     "name": "stderr",
     "output_type": "stream",
     "text": [
      "Epoch 89, Loss: 0.7475, Accuracy: 0.6837, Val_Loss: 0.9009, Val_Accuracy: 0.6222\n"
     ]
    },
    {
     "name": "stdout",
     "output_type": "stream",
     "text": [
      "109/109 [==============================] - 1s 9ms/step - loss: 0.7475 - accuracy: 0.6837 - mae: 0.0739 - val_loss: 0.9009 - val_accuracy: 0.6222 - val_mae: 0.0802\n",
      "Epoch 90/150\n",
      "104/109 [===========================>..] - ETA: 0s - loss: 0.7525 - accuracy: 0.6833 - mae: 0.0738\n",
      "Epoch 90: val_accuracy did not improve from 0.68182\n"
     ]
    },
    {
     "name": "stderr",
     "output_type": "stream",
     "text": [
      "Epoch 90, Loss: 0.7561, Accuracy: 0.6797, Val_Loss: 0.8033, Val_Accuracy: 0.6626\n"
     ]
    },
    {
     "name": "stdout",
     "output_type": "stream",
     "text": [
      "109/109 [==============================] - 1s 9ms/step - loss: 0.7561 - accuracy: 0.6797 - mae: 0.0740 - val_loss: 0.8033 - val_accuracy: 0.6626 - val_mae: 0.0752\n",
      "Epoch 91/150\n",
      "102/109 [===========================>..] - ETA: 0s - loss: 0.7919 - accuracy: 0.6765 - mae: 0.0773\n",
      "Epoch 91: val_accuracy did not improve from 0.68182\n"
     ]
    },
    {
     "name": "stderr",
     "output_type": "stream",
     "text": [
      "Epoch 91, Loss: 0.7839, Accuracy: 0.6831, Val_Loss: 0.7762, Val_Accuracy: 0.6677\n"
     ]
    },
    {
     "name": "stdout",
     "output_type": "stream",
     "text": [
      "109/109 [==============================] - 1s 9ms/step - loss: 0.7839 - accuracy: 0.6831 - mae: 0.0768 - val_loss: 0.7762 - val_accuracy: 0.6677 - val_mae: 0.0757\n",
      "Epoch 92/150\n",
      "108/109 [============================>.] - ETA: 0s - loss: 0.7449 - accuracy: 0.6875 - mae: 0.0727\n",
      "Epoch 92: val_accuracy did not improve from 0.68182\n"
     ]
    },
    {
     "name": "stderr",
     "output_type": "stream",
     "text": [
      "Epoch 92, Loss: 0.7449, Accuracy: 0.6874, Val_Loss: 0.7934, Val_Accuracy: 0.6818\n"
     ]
    },
    {
     "name": "stdout",
     "output_type": "stream",
     "text": [
      "109/109 [==============================] - 1s 10ms/step - loss: 0.7449 - accuracy: 0.6874 - mae: 0.0727 - val_loss: 0.7934 - val_accuracy: 0.6818 - val_mae: 0.0749\n",
      "Epoch 93/150\n",
      "108/109 [============================>.] - ETA: 0s - loss: 0.7882 - accuracy: 0.6580 - mae: 0.0780\n",
      "Epoch 93: val_accuracy did not improve from 0.68182\n"
     ]
    },
    {
     "name": "stderr",
     "output_type": "stream",
     "text": [
      "Epoch 93, Loss: 0.7874, Accuracy: 0.6583, Val_Loss: 0.8113, Val_Accuracy: 0.6697\n"
     ]
    },
    {
     "name": "stdout",
     "output_type": "stream",
     "text": [
      "109/109 [==============================] - 1s 9ms/step - loss: 0.7874 - accuracy: 0.6583 - mae: 0.0780 - val_loss: 0.8113 - val_accuracy: 0.6697 - val_mae: 0.0756\n",
      "Epoch 94/150\n",
      "103/109 [===========================>..] - ETA: 0s - loss: 0.7577 - accuracy: 0.6775 - mae: 0.0739\n",
      "Epoch 94: val_accuracy improved from 0.68182 to 0.68384, saving model to 0926-datasets-ml/ml-cn-xmu-(JmolNN)/CNNmodel-20250121_1003/best_model.h5\n"
     ]
    },
    {
     "name": "stderr",
     "output_type": "stream",
     "text": [
      "Epoch 94, Loss: 0.7646, Accuracy: 0.6739, Val_Loss: 0.7909, Val_Accuracy: 0.6838\n"
     ]
    },
    {
     "name": "stdout",
     "output_type": "stream",
     "text": [
      "109/109 [==============================] - 1s 10ms/step - loss: 0.7646 - accuracy: 0.6739 - mae: 0.0743 - val_loss: 0.7909 - val_accuracy: 0.6838 - val_mae: 0.0766\n",
      "Epoch 95/150\n",
      "107/109 [============================>.] - ETA: 0s - loss: 0.7467 - accuracy: 0.6960 - mae: 0.0740\n",
      "Epoch 95: val_accuracy did not improve from 0.68384\n"
     ]
    },
    {
     "name": "stderr",
     "output_type": "stream",
     "text": [
      "Epoch 95, Loss: 0.7480, Accuracy: 0.6952, Val_Loss: 0.7775, Val_Accuracy: 0.6747\n"
     ]
    },
    {
     "name": "stdout",
     "output_type": "stream",
     "text": [
      "109/109 [==============================] - 1s 9ms/step - loss: 0.7480 - accuracy: 0.6952 - mae: 0.0741 - val_loss: 0.7775 - val_accuracy: 0.6747 - val_mae: 0.0733\n",
      "Epoch 96/150\n",
      "108/109 [============================>.] - ETA: 0s - loss: 0.7602 - accuracy: 0.6800 - mae: 0.0746\n",
      "Epoch 96: val_accuracy did not improve from 0.68384\n"
     ]
    },
    {
     "name": "stderr",
     "output_type": "stream",
     "text": [
      "Epoch 96, Loss: 0.7609, Accuracy: 0.6791, Val_Loss: 0.8355, Val_Accuracy: 0.6677\n"
     ]
    },
    {
     "name": "stdout",
     "output_type": "stream",
     "text": [
      "109/109 [==============================] - 1s 8ms/step - loss: 0.7609 - accuracy: 0.6791 - mae: 0.0747 - val_loss: 0.8355 - val_accuracy: 0.6677 - val_mae: 0.0778\n",
      "Epoch 97/150\n",
      "104/109 [===========================>..] - ETA: 0s - loss: 0.7498 - accuracy: 0.6908 - mae: 0.0739\n",
      "Epoch 97: val_accuracy did not improve from 0.68384\n"
     ]
    },
    {
     "name": "stderr",
     "output_type": "stream",
     "text": [
      "Epoch 97, Loss: 0.7442, Accuracy: 0.6924, Val_Loss: 0.8008, Val_Accuracy: 0.6697\n"
     ]
    },
    {
     "name": "stdout",
     "output_type": "stream",
     "text": [
      "109/109 [==============================] - 1s 9ms/step - loss: 0.7442 - accuracy: 0.6924 - mae: 0.0737 - val_loss: 0.8008 - val_accuracy: 0.6697 - val_mae: 0.0755\n",
      "Epoch 98/150\n",
      "108/109 [============================>.] - ETA: 0s - loss: 0.7407 - accuracy: 0.6869 - mae: 0.0720\n",
      "Epoch 98: val_accuracy did not improve from 0.68384\n"
     ]
    },
    {
     "name": "stderr",
     "output_type": "stream",
     "text": [
      "Epoch 98, Loss: 0.7403, Accuracy: 0.6872, Val_Loss: 0.8781, Val_Accuracy: 0.6333\n"
     ]
    },
    {
     "name": "stdout",
     "output_type": "stream",
     "text": [
      "109/109 [==============================] - 1s 9ms/step - loss: 0.7403 - accuracy: 0.6872 - mae: 0.0720 - val_loss: 0.8781 - val_accuracy: 0.6333 - val_mae: 0.0782\n",
      "Epoch 99/150\n",
      "104/109 [===========================>..] - ETA: 0s - loss: 0.7611 - accuracy: 0.6851 - mae: 0.0745\n",
      "Epoch 99: val_accuracy did not improve from 0.68384\n"
     ]
    },
    {
     "name": "stderr",
     "output_type": "stream",
     "text": [
      "Epoch 99, Loss: 0.7598, Accuracy: 0.6854, Val_Loss: 0.7965, Val_Accuracy: 0.6707\n"
     ]
    },
    {
     "name": "stdout",
     "output_type": "stream",
     "text": [
      "109/109 [==============================] - 1s 8ms/step - loss: 0.7598 - accuracy: 0.6854 - mae: 0.0746 - val_loss: 0.7965 - val_accuracy: 0.6707 - val_mae: 0.0750\n",
      "Epoch 100/150\n",
      "106/109 [============================>.] - ETA: 0s - loss: 0.7404 - accuracy: 0.6972 - mae: 0.0728\n",
      "Epoch 100: val_accuracy did not improve from 0.68384\n"
     ]
    },
    {
     "name": "stderr",
     "output_type": "stream",
     "text": [
      "Epoch 100, Loss: 0.7435, Accuracy: 0.6958, Val_Loss: 0.7689, Val_Accuracy: 0.6808\n"
     ]
    },
    {
     "name": "stdout",
     "output_type": "stream",
     "text": [
      "109/109 [==============================] - 1s 8ms/step - loss: 0.7435 - accuracy: 0.6958 - mae: 0.0730 - val_loss: 0.7689 - val_accuracy: 0.6808 - val_mae: 0.0745\n",
      "Epoch 101/150\n",
      "107/109 [============================>.] - ETA: 0s - loss: 0.7511 - accuracy: 0.6872 - mae: 0.0743\n",
      "Epoch 101: val_accuracy did not improve from 0.68384\n"
     ]
    },
    {
     "name": "stderr",
     "output_type": "stream",
     "text": [
      "Epoch 101, Loss: 0.7501, Accuracy: 0.6869, Val_Loss: 0.8480, Val_Accuracy: 0.6556\n"
     ]
    },
    {
     "name": "stdout",
     "output_type": "stream",
     "text": [
      "109/109 [==============================] - 1s 9ms/step - loss: 0.7501 - accuracy: 0.6869 - mae: 0.0742 - val_loss: 0.8480 - val_accuracy: 0.6556 - val_mae: 0.0762\n",
      "Epoch 102/150\n",
      "102/109 [===========================>..] - ETA: 0s - loss: 0.7426 - accuracy: 0.6863 - mae: 0.0734\n",
      "Epoch 102: val_accuracy did not improve from 0.68384\n"
     ]
    },
    {
     "name": "stderr",
     "output_type": "stream",
     "text": [
      "Epoch 102, Loss: 0.7462, Accuracy: 0.6854, Val_Loss: 0.8009, Val_Accuracy: 0.6727\n"
     ]
    },
    {
     "name": "stdout",
     "output_type": "stream",
     "text": [
      "109/109 [==============================] - 1s 8ms/step - loss: 0.7462 - accuracy: 0.6854 - mae: 0.0737 - val_loss: 0.8009 - val_accuracy: 0.6727 - val_mae: 0.0772\n",
      "Epoch 103/150\n",
      "109/109 [==============================] - ETA: 0s - loss: 0.7472 - accuracy: 0.6889 - mae: 0.0734\n",
      "Epoch 103: val_accuracy did not improve from 0.68384\n"
     ]
    },
    {
     "name": "stderr",
     "output_type": "stream",
     "text": [
      "Epoch 103, Loss: 0.7472, Accuracy: 0.6889, Val_Loss: 0.8647, Val_Accuracy: 0.6455\n"
     ]
    },
    {
     "name": "stdout",
     "output_type": "stream",
     "text": [
      "109/109 [==============================] - 1s 9ms/step - loss: 0.7472 - accuracy: 0.6889 - mae: 0.0734 - val_loss: 0.8647 - val_accuracy: 0.6455 - val_mae: 0.0790\n",
      "Epoch 104/150\n",
      "103/109 [===========================>..] - ETA: 0s - loss: 0.7570 - accuracy: 0.6829 - mae: 0.0744\n",
      "Epoch 104: val_accuracy did not improve from 0.68384\n"
     ]
    },
    {
     "name": "stderr",
     "output_type": "stream",
     "text": [
      "Epoch 104, Loss: 0.7584, Accuracy: 0.6840, Val_Loss: 0.8151, Val_Accuracy: 0.6606\n"
     ]
    },
    {
     "name": "stdout",
     "output_type": "stream",
     "text": [
      "109/109 [==============================] - 1s 8ms/step - loss: 0.7584 - accuracy: 0.6840 - mae: 0.0746 - val_loss: 0.8151 - val_accuracy: 0.6606 - val_mae: 0.0761\n",
      "Epoch 105/150\n",
      "105/109 [===========================>..] - ETA: 0s - loss: 0.7427 - accuracy: 0.7000 - mae: 0.0735\n",
      "Epoch 105: val_accuracy did not improve from 0.68384\n"
     ]
    },
    {
     "name": "stderr",
     "output_type": "stream",
     "text": [
      "Epoch 105, Loss: 0.7454, Accuracy: 0.6981, Val_Loss: 0.7953, Val_Accuracy: 0.6697\n"
     ]
    },
    {
     "name": "stdout",
     "output_type": "stream",
     "text": [
      "109/109 [==============================] - 1s 9ms/step - loss: 0.7454 - accuracy: 0.6981 - mae: 0.0736 - val_loss: 0.7953 - val_accuracy: 0.6697 - val_mae: 0.0754\n",
      "Epoch 106/150\n",
      "105/109 [===========================>..] - ETA: 0s - loss: 0.7372 - accuracy: 0.6985 - mae: 0.0728\n",
      "Epoch 106: val_accuracy did not improve from 0.68384\n"
     ]
    },
    {
     "name": "stderr",
     "output_type": "stream",
     "text": [
      "Epoch 106, Loss: 0.7382, Accuracy: 0.6975, Val_Loss: 0.7903, Val_Accuracy: 0.6778\n"
     ]
    },
    {
     "name": "stdout",
     "output_type": "stream",
     "text": [
      "109/109 [==============================] - 1s 9ms/step - loss: 0.7382 - accuracy: 0.6975 - mae: 0.0729 - val_loss: 0.7903 - val_accuracy: 0.6778 - val_mae: 0.0722\n",
      "Epoch 107/150\n",
      "108/109 [============================>.] - ETA: 0s - loss: 0.7530 - accuracy: 0.6895 - mae: 0.0734\n",
      "Epoch 107: val_accuracy improved from 0.68384 to 0.68788, saving model to 0926-datasets-ml/ml-cn-xmu-(JmolNN)/CNNmodel-20250121_1003/best_model.h5\n"
     ]
    },
    {
     "name": "stderr",
     "output_type": "stream",
     "text": [
      "Epoch 107, Loss: 0.7533, Accuracy: 0.6898, Val_Loss: 0.7627, Val_Accuracy: 0.6879\n"
     ]
    },
    {
     "name": "stdout",
     "output_type": "stream",
     "text": [
      "109/109 [==============================] - 1s 9ms/step - loss: 0.7533 - accuracy: 0.6898 - mae: 0.0733 - val_loss: 0.7627 - val_accuracy: 0.6879 - val_mae: 0.0737\n",
      "Epoch 108/150\n",
      "102/109 [===========================>..] - ETA: 0s - loss: 0.7566 - accuracy: 0.6945 - mae: 0.0740\n",
      "Epoch 108: val_accuracy improved from 0.68788 to 0.69394, saving model to 0926-datasets-ml/ml-cn-xmu-(JmolNN)/CNNmodel-20250121_1003/best_model.h5\n"
     ]
    },
    {
     "name": "stderr",
     "output_type": "stream",
     "text": [
      "Epoch 108, Loss: 0.7528, Accuracy: 0.6952, Val_Loss: 0.7629, Val_Accuracy: 0.6939\n"
     ]
    },
    {
     "name": "stdout",
     "output_type": "stream",
     "text": [
      "109/109 [==============================] - 1s 10ms/step - loss: 0.7528 - accuracy: 0.6952 - mae: 0.0738 - val_loss: 0.7629 - val_accuracy: 0.6939 - val_mae: 0.0736\n",
      "Epoch 109/150\n",
      "107/109 [============================>.] - ETA: 0s - loss: 0.7476 - accuracy: 0.6887 - mae: 0.0735\n",
      "Epoch 109: val_accuracy did not improve from 0.69394\n"
     ]
    },
    {
     "name": "stderr",
     "output_type": "stream",
     "text": [
      "Epoch 109, Loss: 0.7491, Accuracy: 0.6880, Val_Loss: 0.7922, Val_Accuracy: 0.6636\n"
     ]
    },
    {
     "name": "stdout",
     "output_type": "stream",
     "text": [
      "109/109 [==============================] - 1s 8ms/step - loss: 0.7491 - accuracy: 0.6880 - mae: 0.0736 - val_loss: 0.7922 - val_accuracy: 0.6636 - val_mae: 0.0777\n",
      "Epoch 110/150\n",
      "105/109 [===========================>..] - ETA: 0s - loss: 0.7371 - accuracy: 0.6943 - mae: 0.0733\n",
      "Epoch 110: val_accuracy did not improve from 0.69394\n"
     ]
    },
    {
     "name": "stderr",
     "output_type": "stream",
     "text": [
      "Epoch 110, Loss: 0.7346, Accuracy: 0.6975, Val_Loss: 0.7648, Val_Accuracy: 0.6909\n"
     ]
    },
    {
     "name": "stdout",
     "output_type": "stream",
     "text": [
      "109/109 [==============================] - 1s 8ms/step - loss: 0.7346 - accuracy: 0.6975 - mae: 0.0731 - val_loss: 0.7648 - val_accuracy: 0.6909 - val_mae: 0.0731\n",
      "Epoch 111/150\n",
      "106/109 [============================>.] - ETA: 0s - loss: 0.7497 - accuracy: 0.6848 - mae: 0.0734\n",
      "Epoch 111: val_accuracy did not improve from 0.69394\n"
     ]
    },
    {
     "name": "stderr",
     "output_type": "stream",
     "text": [
      "Epoch 111, Loss: 0.7507, Accuracy: 0.6851, Val_Loss: 0.7679, Val_Accuracy: 0.6788\n"
     ]
    },
    {
     "name": "stdout",
     "output_type": "stream",
     "text": [
      "109/109 [==============================] - 1s 9ms/step - loss: 0.7507 - accuracy: 0.6851 - mae: 0.0734 - val_loss: 0.7679 - val_accuracy: 0.6788 - val_mae: 0.0769\n",
      "Epoch 112/150\n",
      "102/109 [===========================>..] - ETA: 0s - loss: 0.7324 - accuracy: 0.6976 - mae: 0.0726\n",
      "Epoch 112: val_accuracy did not improve from 0.69394\n"
     ]
    },
    {
     "name": "stderr",
     "output_type": "stream",
     "text": [
      "Epoch 112, Loss: 0.7391, Accuracy: 0.6941, Val_Loss: 0.7974, Val_Accuracy: 0.6717\n"
     ]
    },
    {
     "name": "stdout",
     "output_type": "stream",
     "text": [
      "109/109 [==============================] - 1s 9ms/step - loss: 0.7391 - accuracy: 0.6941 - mae: 0.0731 - val_loss: 0.7974 - val_accuracy: 0.6717 - val_mae: 0.0768\n",
      "Epoch 113/150\n",
      "104/109 [===========================>..] - ETA: 0s - loss: 0.7445 - accuracy: 0.6848 - mae: 0.0738\n",
      "Epoch 113: val_accuracy did not improve from 0.69394\n"
     ]
    },
    {
     "name": "stderr",
     "output_type": "stream",
     "text": [
      "Epoch 113, Loss: 0.7456, Accuracy: 0.6840, Val_Loss: 0.7909, Val_Accuracy: 0.6657\n"
     ]
    },
    {
     "name": "stdout",
     "output_type": "stream",
     "text": [
      "109/109 [==============================] - 1s 7ms/step - loss: 0.7456 - accuracy: 0.6840 - mae: 0.0737 - val_loss: 0.7909 - val_accuracy: 0.6657 - val_mae: 0.0744\n",
      "Epoch 114/150\n",
      "103/109 [===========================>..] - ETA: 0s - loss: 0.7235 - accuracy: 0.7033 - mae: 0.0719\n",
      "Epoch 114: val_accuracy did not improve from 0.69394\n"
     ]
    },
    {
     "name": "stderr",
     "output_type": "stream",
     "text": [
      "Epoch 114, Loss: 0.7272, Accuracy: 0.7019, Val_Loss: 0.7759, Val_Accuracy: 0.6869\n"
     ]
    },
    {
     "name": "stdout",
     "output_type": "stream",
     "text": [
      "109/109 [==============================] - 1s 9ms/step - loss: 0.7272 - accuracy: 0.7019 - mae: 0.0721 - val_loss: 0.7759 - val_accuracy: 0.6869 - val_mae: 0.0724\n",
      "Epoch 115/150\n",
      "107/109 [============================>.] - ETA: 0s - loss: 0.7435 - accuracy: 0.6930 - mae: 0.0730\n",
      "Epoch 115: val_accuracy did not improve from 0.69394\n"
     ]
    },
    {
     "name": "stderr",
     "output_type": "stream",
     "text": [
      "Epoch 115, Loss: 0.7438, Accuracy: 0.6924, Val_Loss: 0.7694, Val_Accuracy: 0.6869\n"
     ]
    },
    {
     "name": "stdout",
     "output_type": "stream",
     "text": [
      "109/109 [==============================] - 1s 9ms/step - loss: 0.7438 - accuracy: 0.6924 - mae: 0.0730 - val_loss: 0.7694 - val_accuracy: 0.6869 - val_mae: 0.0735\n",
      "Epoch 116/150\n",
      "108/109 [============================>.] - ETA: 0s - loss: 0.7503 - accuracy: 0.6863 - mae: 0.0734\n",
      "Epoch 116: val_accuracy did not improve from 0.69394\n"
     ]
    },
    {
     "name": "stderr",
     "output_type": "stream",
     "text": [
      "Epoch 116, Loss: 0.7495, Accuracy: 0.6869, Val_Loss: 0.8581, Val_Accuracy: 0.6434\n"
     ]
    },
    {
     "name": "stdout",
     "output_type": "stream",
     "text": [
      "109/109 [==============================] - 1s 8ms/step - loss: 0.7495 - accuracy: 0.6869 - mae: 0.0733 - val_loss: 0.8581 - val_accuracy: 0.6434 - val_mae: 0.0764\n",
      "Epoch 117/150\n",
      "106/109 [============================>.] - ETA: 0s - loss: 0.7344 - accuracy: 0.6952 - mae: 0.0724\n",
      "Epoch 117: val_accuracy did not improve from 0.69394\n"
     ]
    },
    {
     "name": "stderr",
     "output_type": "stream",
     "text": [
      "Epoch 117, Loss: 0.7334, Accuracy: 0.6955, Val_Loss: 0.7827, Val_Accuracy: 0.6717\n"
     ]
    },
    {
     "name": "stdout",
     "output_type": "stream",
     "text": [
      "109/109 [==============================] - 1s 9ms/step - loss: 0.7334 - accuracy: 0.6955 - mae: 0.0724 - val_loss: 0.7827 - val_accuracy: 0.6717 - val_mae: 0.0742\n",
      "Epoch 118/150\n",
      "105/109 [===========================>..] - ETA: 0s - loss: 0.7293 - accuracy: 0.7051 - mae: 0.0718\n",
      "Epoch 118: val_accuracy did not improve from 0.69394\n"
     ]
    },
    {
     "name": "stderr",
     "output_type": "stream",
     "text": [
      "Epoch 118, Loss: 0.7326, Accuracy: 0.7033, Val_Loss: 0.8284, Val_Accuracy: 0.6636\n"
     ]
    },
    {
     "name": "stdout",
     "output_type": "stream",
     "text": [
      "109/109 [==============================] - 1s 8ms/step - loss: 0.7326 - accuracy: 0.7033 - mae: 0.0721 - val_loss: 0.8284 - val_accuracy: 0.6636 - val_mae: 0.0787\n",
      "Epoch 119/150\n",
      "109/109 [==============================] - ETA: 0s - loss: 0.7350 - accuracy: 0.7022 - mae: 0.0722\n",
      "Epoch 119: val_accuracy did not improve from 0.69394\n"
     ]
    },
    {
     "name": "stderr",
     "output_type": "stream",
     "text": [
      "Epoch 119, Loss: 0.7350, Accuracy: 0.7022, Val_Loss: 0.8048, Val_Accuracy: 0.6646\n"
     ]
    },
    {
     "name": "stdout",
     "output_type": "stream",
     "text": [
      "109/109 [==============================] - 1s 9ms/step - loss: 0.7350 - accuracy: 0.7022 - mae: 0.0722 - val_loss: 0.8048 - val_accuracy: 0.6646 - val_mae: 0.0752\n",
      "Epoch 120/150\n",
      "108/109 [============================>.] - ETA: 0s - loss: 0.7148 - accuracy: 0.7078 - mae: 0.0706\n",
      "Epoch 120: val_accuracy did not improve from 0.69394\n"
     ]
    },
    {
     "name": "stderr",
     "output_type": "stream",
     "text": [
      "Epoch 120, Loss: 0.7148, Accuracy: 0.7074, Val_Loss: 0.7826, Val_Accuracy: 0.6808\n"
     ]
    },
    {
     "name": "stdout",
     "output_type": "stream",
     "text": [
      "109/109 [==============================] - 1s 9ms/step - loss: 0.7148 - accuracy: 0.7074 - mae: 0.0706 - val_loss: 0.7826 - val_accuracy: 0.6808 - val_mae: 0.0738\n",
      "Epoch 121/150\n",
      "107/109 [============================>.] - ETA: 0s - loss: 0.7168 - accuracy: 0.7036 - mae: 0.0710\n",
      "Epoch 121: val_accuracy did not improve from 0.69394\n"
     ]
    },
    {
     "name": "stderr",
     "output_type": "stream",
     "text": [
      "Epoch 121, Loss: 0.7191, Accuracy: 0.7016, Val_Loss: 0.7706, Val_Accuracy: 0.6909\n"
     ]
    },
    {
     "name": "stdout",
     "output_type": "stream",
     "text": [
      "109/109 [==============================] - 1s 9ms/step - loss: 0.7191 - accuracy: 0.7016 - mae: 0.0712 - val_loss: 0.7706 - val_accuracy: 0.6909 - val_mae: 0.0720\n",
      "Epoch 122/150\n",
      "106/109 [============================>.] - ETA: 0s - loss: 0.7444 - accuracy: 0.6949 - mae: 0.0735\n",
      "Epoch 122: val_accuracy did not improve from 0.69394\n"
     ]
    },
    {
     "name": "stderr",
     "output_type": "stream",
     "text": [
      "Epoch 122, Loss: 0.7429, Accuracy: 0.6964, Val_Loss: 0.8008, Val_Accuracy: 0.6778\n"
     ]
    },
    {
     "name": "stdout",
     "output_type": "stream",
     "text": [
      "109/109 [==============================] - 1s 8ms/step - loss: 0.7429 - accuracy: 0.6964 - mae: 0.0734 - val_loss: 0.8008 - val_accuracy: 0.6778 - val_mae: 0.0735\n",
      "Epoch 123/150\n",
      "108/109 [============================>.] - ETA: 0s - loss: 0.7301 - accuracy: 0.6985 - mae: 0.0721\n",
      "Epoch 123: val_accuracy did not improve from 0.69394\n"
     ]
    },
    {
     "name": "stderr",
     "output_type": "stream",
     "text": [
      "Epoch 123, Loss: 0.7299, Accuracy: 0.6987, Val_Loss: 0.7979, Val_Accuracy: 0.6798\n"
     ]
    },
    {
     "name": "stdout",
     "output_type": "stream",
     "text": [
      "109/109 [==============================] - 1s 9ms/step - loss: 0.7299 - accuracy: 0.6987 - mae: 0.0720 - val_loss: 0.7979 - val_accuracy: 0.6798 - val_mae: 0.0727\n",
      "Epoch 124/150\n",
      "107/109 [============================>.] - ETA: 0s - loss: 0.7095 - accuracy: 0.7044 - mae: 0.0705\n",
      "Epoch 124: val_accuracy did not improve from 0.69394\n"
     ]
    },
    {
     "name": "stderr",
     "output_type": "stream",
     "text": [
      "Epoch 124, Loss: 0.7090, Accuracy: 0.7056, Val_Loss: 0.9222, Val_Accuracy: 0.6141\n"
     ]
    },
    {
     "name": "stdout",
     "output_type": "stream",
     "text": [
      "109/109 [==============================] - 1s 7ms/step - loss: 0.7090 - accuracy: 0.7056 - mae: 0.0705 - val_loss: 0.9222 - val_accuracy: 0.6141 - val_mae: 0.0829\n",
      "Epoch 125/150\n",
      "105/109 [===========================>..] - ETA: 0s - loss: 0.7237 - accuracy: 0.7071 - mae: 0.0718\n",
      "Epoch 125: val_accuracy did not improve from 0.69394\n"
     ]
    },
    {
     "name": "stderr",
     "output_type": "stream",
     "text": [
      "Epoch 125, Loss: 0.7213, Accuracy: 0.7071, Val_Loss: 0.8917, Val_Accuracy: 0.6323\n"
     ]
    },
    {
     "name": "stdout",
     "output_type": "stream",
     "text": [
      "109/109 [==============================] - 1s 9ms/step - loss: 0.7213 - accuracy: 0.7071 - mae: 0.0715 - val_loss: 0.8917 - val_accuracy: 0.6323 - val_mae: 0.0766\n",
      "Epoch 126/150\n",
      "103/109 [===========================>..] - ETA: 0s - loss: 0.7386 - accuracy: 0.6914 - mae: 0.0730\n",
      "Epoch 126: val_accuracy did not improve from 0.69394\n"
     ]
    },
    {
     "name": "stderr",
     "output_type": "stream",
     "text": [
      "Epoch 126, Loss: 0.7367, Accuracy: 0.6932, Val_Loss: 0.8299, Val_Accuracy: 0.6616\n"
     ]
    },
    {
     "name": "stdout",
     "output_type": "stream",
     "text": [
      "109/109 [==============================] - 1s 9ms/step - loss: 0.7367 - accuracy: 0.6932 - mae: 0.0729 - val_loss: 0.8299 - val_accuracy: 0.6616 - val_mae: 0.0785\n",
      "Epoch 127/150\n",
      "100/109 [==========================>...] - ETA: 0s - loss: 0.7282 - accuracy: 0.6894 - mae: 0.0720\n",
      "Epoch 127: val_accuracy did not improve from 0.69394\n"
     ]
    },
    {
     "name": "stderr",
     "output_type": "stream",
     "text": [
      "Epoch 127, Loss: 0.7227, Accuracy: 0.6932, Val_Loss: 0.8262, Val_Accuracy: 0.6586\n"
     ]
    },
    {
     "name": "stdout",
     "output_type": "stream",
     "text": [
      "109/109 [==============================] - 1s 8ms/step - loss: 0.7227 - accuracy: 0.6932 - mae: 0.0718 - val_loss: 0.8262 - val_accuracy: 0.6586 - val_mae: 0.0773\n",
      "Epoch 128/150\n",
      "103/109 [===========================>..] - ETA: 0s - loss: 0.7360 - accuracy: 0.6936 - mae: 0.0726\n",
      "Epoch 128: val_accuracy did not improve from 0.69394\n"
     ]
    },
    {
     "name": "stderr",
     "output_type": "stream",
     "text": [
      "Epoch 128, Loss: 0.7393, Accuracy: 0.6903, Val_Loss: 0.8364, Val_Accuracy: 0.6414\n"
     ]
    },
    {
     "name": "stdout",
     "output_type": "stream",
     "text": [
      "109/109 [==============================] - 1s 9ms/step - loss: 0.7393 - accuracy: 0.6903 - mae: 0.0729 - val_loss: 0.8364 - val_accuracy: 0.6414 - val_mae: 0.0778\n",
      "Epoch 129/150\n",
      "109/109 [==============================] - ETA: 0s - loss: 0.7214 - accuracy: 0.7025 - mae: 0.0716\n",
      "Epoch 129: val_accuracy did not improve from 0.69394\n"
     ]
    },
    {
     "name": "stderr",
     "output_type": "stream",
     "text": [
      "Epoch 129, Loss: 0.7214, Accuracy: 0.7025, Val_Loss: 0.8423, Val_Accuracy: 0.6434\n"
     ]
    },
    {
     "name": "stdout",
     "output_type": "stream",
     "text": [
      "109/109 [==============================] - 1s 9ms/step - loss: 0.7214 - accuracy: 0.7025 - mae: 0.0716 - val_loss: 0.8423 - val_accuracy: 0.6434 - val_mae: 0.0748\n",
      "Epoch 130/150\n",
      "108/109 [============================>.] - ETA: 0s - loss: 0.7162 - accuracy: 0.7092 - mae: 0.0711\n",
      "Epoch 130: val_accuracy did not improve from 0.69394\n"
     ]
    },
    {
     "name": "stderr",
     "output_type": "stream",
     "text": [
      "Epoch 130, Loss: 0.7180, Accuracy: 0.7082, Val_Loss: 0.8118, Val_Accuracy: 0.6747\n"
     ]
    },
    {
     "name": "stdout",
     "output_type": "stream",
     "text": [
      "109/109 [==============================] - 1s 7ms/step - loss: 0.7180 - accuracy: 0.7082 - mae: 0.0713 - val_loss: 0.8118 - val_accuracy: 0.6747 - val_mae: 0.0744\n",
      "Epoch 131/150\n",
      "108/109 [============================>.] - ETA: 0s - loss: 0.7403 - accuracy: 0.6936 - mae: 0.0732\n",
      "Epoch 131: val_accuracy did not improve from 0.69394\n"
     ]
    },
    {
     "name": "stderr",
     "output_type": "stream",
     "text": [
      "Epoch 131, Loss: 0.7397, Accuracy: 0.6938, Val_Loss: 0.8001, Val_Accuracy: 0.6717\n"
     ]
    },
    {
     "name": "stdout",
     "output_type": "stream",
     "text": [
      "109/109 [==============================] - 1s 9ms/step - loss: 0.7397 - accuracy: 0.6938 - mae: 0.0732 - val_loss: 0.8001 - val_accuracy: 0.6717 - val_mae: 0.0751\n",
      "Epoch 132/150\n",
      "106/109 [============================>.] - ETA: 0s - loss: 0.7346 - accuracy: 0.6993 - mae: 0.0719\n",
      "Epoch 132: val_accuracy did not improve from 0.69394\n"
     ]
    },
    {
     "name": "stderr",
     "output_type": "stream",
     "text": [
      "Epoch 132, Loss: 0.7363, Accuracy: 0.6990, Val_Loss: 0.8822, Val_Accuracy: 0.6303\n"
     ]
    },
    {
     "name": "stdout",
     "output_type": "stream",
     "text": [
      "109/109 [==============================] - 1s 9ms/step - loss: 0.7363 - accuracy: 0.6990 - mae: 0.0719 - val_loss: 0.8822 - val_accuracy: 0.6303 - val_mae: 0.0801\n",
      "Epoch 133/150\n",
      "104/109 [===========================>..] - ETA: 0s - loss: 0.7233 - accuracy: 0.7058 - mae: 0.0716\n",
      "Epoch 133: val_accuracy did not improve from 0.69394\n"
     ]
    },
    {
     "name": "stderr",
     "output_type": "stream",
     "text": [
      "Epoch 133, Loss: 0.7223, Accuracy: 0.7053, Val_Loss: 0.7658, Val_Accuracy: 0.6939\n"
     ]
    },
    {
     "name": "stdout",
     "output_type": "stream",
     "text": [
      "109/109 [==============================] - 1s 8ms/step - loss: 0.7223 - accuracy: 0.7053 - mae: 0.0716 - val_loss: 0.7658 - val_accuracy: 0.6939 - val_mae: 0.0723\n",
      "Epoch 134/150\n",
      "103/109 [===========================>..] - ETA: 0s - loss: 0.7154 - accuracy: 0.7008 - mae: 0.0711\n",
      "Epoch 134: val_accuracy did not improve from 0.69394\n"
     ]
    },
    {
     "name": "stderr",
     "output_type": "stream",
     "text": [
      "Epoch 134, Loss: 0.7121, Accuracy: 0.7036, Val_Loss: 0.8131, Val_Accuracy: 0.6636\n"
     ]
    },
    {
     "name": "stdout",
     "output_type": "stream",
     "text": [
      "109/109 [==============================] - 1s 9ms/step - loss: 0.7121 - accuracy: 0.7036 - mae: 0.0708 - val_loss: 0.8131 - val_accuracy: 0.6636 - val_mae: 0.0758\n",
      "Epoch 135/150\n",
      "109/109 [==============================] - ETA: 0s - loss: 0.7144 - accuracy: 0.7074 - mae: 0.0703\n",
      "Epoch 135: val_accuracy did not improve from 0.69394\n"
     ]
    },
    {
     "name": "stderr",
     "output_type": "stream",
     "text": [
      "Epoch 135, Loss: 0.7144, Accuracy: 0.7074, Val_Loss: 0.7905, Val_Accuracy: 0.6758\n"
     ]
    },
    {
     "name": "stdout",
     "output_type": "stream",
     "text": [
      "109/109 [==============================] - 1s 9ms/step - loss: 0.7144 - accuracy: 0.7074 - mae: 0.0703 - val_loss: 0.7905 - val_accuracy: 0.6758 - val_mae: 0.0743\n",
      "Epoch 136/150\n",
      "105/109 [===========================>..] - ETA: 0s - loss: 0.7150 - accuracy: 0.7027 - mae: 0.0705\n",
      "Epoch 136: val_accuracy did not improve from 0.69394\n"
     ]
    },
    {
     "name": "stderr",
     "output_type": "stream",
     "text": [
      "Epoch 136, Loss: 0.7168, Accuracy: 0.7025, Val_Loss: 0.8159, Val_Accuracy: 0.6636\n"
     ]
    },
    {
     "name": "stdout",
     "output_type": "stream",
     "text": [
      "109/109 [==============================] - 1s 8ms/step - loss: 0.7168 - accuracy: 0.7025 - mae: 0.0707 - val_loss: 0.8159 - val_accuracy: 0.6636 - val_mae: 0.0763\n",
      "Epoch 137/150\n",
      "107/109 [============================>.] - ETA: 0s - loss: 0.7213 - accuracy: 0.6983 - mae: 0.0715\n",
      "Epoch 137: val_accuracy did not improve from 0.69394\n"
     ]
    },
    {
     "name": "stderr",
     "output_type": "stream",
     "text": [
      "Epoch 137, Loss: 0.7241, Accuracy: 0.6967, Val_Loss: 0.7743, Val_Accuracy: 0.6737\n"
     ]
    },
    {
     "name": "stdout",
     "output_type": "stream",
     "text": [
      "109/109 [==============================] - 1s 9ms/step - loss: 0.7241 - accuracy: 0.6967 - mae: 0.0716 - val_loss: 0.7743 - val_accuracy: 0.6737 - val_mae: 0.0721\n",
      "Epoch 138/150\n",
      "109/109 [==============================] - ETA: 0s - loss: 0.7120 - accuracy: 0.7108 - mae: 0.0702\n",
      "Epoch 138: val_accuracy did not improve from 0.69394\n"
     ]
    },
    {
     "name": "stderr",
     "output_type": "stream",
     "text": [
      "Epoch 138, Loss: 0.7120, Accuracy: 0.7108, Val_Loss: 0.8479, Val_Accuracy: 0.6525\n"
     ]
    },
    {
     "name": "stdout",
     "output_type": "stream",
     "text": [
      "109/109 [==============================] - 1s 8ms/step - loss: 0.7120 - accuracy: 0.7108 - mae: 0.0702 - val_loss: 0.8479 - val_accuracy: 0.6525 - val_mae: 0.0782\n",
      "Epoch 139/150\n",
      "106/109 [============================>.] - ETA: 0s - loss: 0.7261 - accuracy: 0.7040 - mae: 0.0716\n",
      "Epoch 139: val_accuracy did not improve from 0.69394\n"
     ]
    },
    {
     "name": "stderr",
     "output_type": "stream",
     "text": [
      "Epoch 139, Loss: 0.7229, Accuracy: 0.7062, Val_Loss: 0.7909, Val_Accuracy: 0.6636\n"
     ]
    },
    {
     "name": "stdout",
     "output_type": "stream",
     "text": [
      "109/109 [==============================] - 1s 8ms/step - loss: 0.7229 - accuracy: 0.7062 - mae: 0.0714 - val_loss: 0.7909 - val_accuracy: 0.6636 - val_mae: 0.0728\n",
      "Epoch 140/150\n",
      "104/109 [===========================>..] - ETA: 0s - loss: 0.7072 - accuracy: 0.7034 - mae: 0.0702\n",
      "Epoch 140: val_accuracy did not improve from 0.69394\n"
     ]
    },
    {
     "name": "stderr",
     "output_type": "stream",
     "text": [
      "Epoch 140, Loss: 0.7093, Accuracy: 0.7007, Val_Loss: 0.7691, Val_Accuracy: 0.6798\n"
     ]
    },
    {
     "name": "stdout",
     "output_type": "stream",
     "text": [
      "109/109 [==============================] - 1s 9ms/step - loss: 0.7093 - accuracy: 0.7007 - mae: 0.0703 - val_loss: 0.7691 - val_accuracy: 0.6798 - val_mae: 0.0729\n",
      "Epoch 141/150\n",
      "105/109 [===========================>..] - ETA: 0s - loss: 0.6962 - accuracy: 0.7188 - mae: 0.0694\n",
      "Epoch 141: val_accuracy did not improve from 0.69394\n"
     ]
    },
    {
     "name": "stderr",
     "output_type": "stream",
     "text": [
      "Epoch 141, Loss: 0.6980, Accuracy: 0.7172, Val_Loss: 0.8558, Val_Accuracy: 0.6444\n"
     ]
    },
    {
     "name": "stdout",
     "output_type": "stream",
     "text": [
      "109/109 [==============================] - 1s 8ms/step - loss: 0.6980 - accuracy: 0.7172 - mae: 0.0695 - val_loss: 0.8558 - val_accuracy: 0.6444 - val_mae: 0.0744\n",
      "Epoch 142/150\n",
      "103/109 [===========================>..] - ETA: 0s - loss: 0.7176 - accuracy: 0.7015 - mae: 0.0712\n",
      "Epoch 142: val_accuracy did not improve from 0.69394\n"
     ]
    },
    {
     "name": "stderr",
     "output_type": "stream",
     "text": [
      "Epoch 142, Loss: 0.7226, Accuracy: 0.6990, Val_Loss: 0.8332, Val_Accuracy: 0.6525\n"
     ]
    },
    {
     "name": "stdout",
     "output_type": "stream",
     "text": [
      "109/109 [==============================] - 1s 9ms/step - loss: 0.7226 - accuracy: 0.6990 - mae: 0.0715 - val_loss: 0.8332 - val_accuracy: 0.6525 - val_mae: 0.0768\n",
      "Epoch 143/150\n",
      "106/109 [============================>.] - ETA: 0s - loss: 0.7279 - accuracy: 0.6958 - mae: 0.0720\n",
      "Epoch 143: val_accuracy did not improve from 0.69394\n"
     ]
    },
    {
     "name": "stderr",
     "output_type": "stream",
     "text": [
      "Epoch 143, Loss: 0.7268, Accuracy: 0.6967, Val_Loss: 0.7770, Val_Accuracy: 0.6737\n"
     ]
    },
    {
     "name": "stdout",
     "output_type": "stream",
     "text": [
      "109/109 [==============================] - 1s 9ms/step - loss: 0.7268 - accuracy: 0.6967 - mae: 0.0720 - val_loss: 0.7770 - val_accuracy: 0.6737 - val_mae: 0.0733\n",
      "Epoch 144/150\n",
      "107/109 [============================>.] - ETA: 0s - loss: 0.7331 - accuracy: 0.7088 - mae: 0.0720\n",
      "Epoch 144: val_accuracy did not improve from 0.69394\n"
     ]
    },
    {
     "name": "stderr",
     "output_type": "stream",
     "text": [
      "Epoch 144, Loss: 0.7324, Accuracy: 0.7094, Val_Loss: 0.7798, Val_Accuracy: 0.6697\n"
     ]
    },
    {
     "name": "stdout",
     "output_type": "stream",
     "text": [
      "109/109 [==============================] - 1s 8ms/step - loss: 0.7324 - accuracy: 0.7094 - mae: 0.0720 - val_loss: 0.7798 - val_accuracy: 0.6697 - val_mae: 0.0755\n",
      "Epoch 145/150\n",
      "107/109 [============================>.] - ETA: 0s - loss: 0.7071 - accuracy: 0.7062 - mae: 0.0704\n",
      "Epoch 145: val_accuracy did not improve from 0.69394\n"
     ]
    },
    {
     "name": "stderr",
     "output_type": "stream",
     "text": [
      "Epoch 145, Loss: 0.7074, Accuracy: 0.7051, Val_Loss: 0.8200, Val_Accuracy: 0.6687\n"
     ]
    },
    {
     "name": "stdout",
     "output_type": "stream",
     "text": [
      "109/109 [==============================] - 1s 9ms/step - loss: 0.7074 - accuracy: 0.7051 - mae: 0.0705 - val_loss: 0.8200 - val_accuracy: 0.6687 - val_mae: 0.0737\n",
      "Epoch 146/150\n",
      "106/109 [============================>.] - ETA: 0s - loss: 0.7044 - accuracy: 0.7093 - mae: 0.0690\n",
      "Epoch 146: val_accuracy did not improve from 0.69394\n"
     ]
    },
    {
     "name": "stderr",
     "output_type": "stream",
     "text": [
      "Epoch 146, Loss: 0.7024, Accuracy: 0.7102, Val_Loss: 0.7595, Val_Accuracy: 0.6818\n"
     ]
    },
    {
     "name": "stdout",
     "output_type": "stream",
     "text": [
      "109/109 [==============================] - 1s 9ms/step - loss: 0.7024 - accuracy: 0.7102 - mae: 0.0689 - val_loss: 0.7595 - val_accuracy: 0.6818 - val_mae: 0.0730\n",
      "Epoch 147/150\n",
      "106/109 [============================>.] - ETA: 0s - loss: 0.7044 - accuracy: 0.7061 - mae: 0.0701\n",
      "Epoch 147: val_accuracy did not improve from 0.69394\n"
     ]
    },
    {
     "name": "stderr",
     "output_type": "stream",
     "text": [
      "Epoch 147, Loss: 0.7016, Accuracy: 0.7071, Val_Loss: 0.7818, Val_Accuracy: 0.6646\n"
     ]
    },
    {
     "name": "stdout",
     "output_type": "stream",
     "text": [
      "109/109 [==============================] - 1s 8ms/step - loss: 0.7016 - accuracy: 0.7071 - mae: 0.0699 - val_loss: 0.7818 - val_accuracy: 0.6646 - val_mae: 0.0763\n",
      "Epoch 148/150\n",
      "105/109 [===========================>..] - ETA: 0s - loss: 0.7027 - accuracy: 0.7170 - mae: 0.0694\n",
      "Epoch 148: val_accuracy did not improve from 0.69394\n"
     ]
    },
    {
     "name": "stderr",
     "output_type": "stream",
     "text": [
      "Epoch 148, Loss: 0.6997, Accuracy: 0.7183, Val_Loss: 0.7527, Val_Accuracy: 0.6889\n"
     ]
    },
    {
     "name": "stdout",
     "output_type": "stream",
     "text": [
      "109/109 [==============================] - 1s 9ms/step - loss: 0.6997 - accuracy: 0.7183 - mae: 0.0691 - val_loss: 0.7527 - val_accuracy: 0.6889 - val_mae: 0.0720\n",
      "Epoch 149/150\n",
      "106/109 [============================>.] - ETA: 0s - loss: 0.7061 - accuracy: 0.7108 - mae: 0.0696\n",
      "Epoch 149: val_accuracy did not improve from 0.69394\n"
     ]
    },
    {
     "name": "stderr",
     "output_type": "stream",
     "text": [
      "Epoch 149, Loss: 0.7072, Accuracy: 0.7097, Val_Loss: 0.8439, Val_Accuracy: 0.6586\n"
     ]
    },
    {
     "name": "stdout",
     "output_type": "stream",
     "text": [
      "109/109 [==============================] - 1s 8ms/step - loss: 0.7072 - accuracy: 0.7097 - mae: 0.0697 - val_loss: 0.8439 - val_accuracy: 0.6586 - val_mae: 0.0748\n",
      "Epoch 150/150\n",
      "105/109 [===========================>..] - ETA: 0s - loss: 0.7146 - accuracy: 0.7149 - mae: 0.0705\n",
      "Epoch 150: val_accuracy did not improve from 0.69394\n"
     ]
    },
    {
     "name": "stderr",
     "output_type": "stream",
     "text": [
      "Epoch 150, Loss: 0.7101, Accuracy: 0.7160, Val_Loss: 0.8199, Val_Accuracy: 0.6636\n"
     ]
    },
    {
     "name": "stdout",
     "output_type": "stream",
     "text": [
      "109/109 [==============================] - 1s 8ms/step - loss: 0.7101 - accuracy: 0.7160 - mae: 0.0703 - val_loss: 0.8199 - val_accuracy: 0.6636 - val_mae: 0.0741\n",
      "16/16 [==============================] - 0s 4ms/step - loss: 0.8672 - accuracy: 0.6848 - mae: 0.0726\n",
      "Test Loss: 0.8671888709068298\n",
      "Test Accuracy: 0.6848484873771667\n"
     ]
    }
   ],
   "source": [
    "# Check the unique values and range of the labels\n",
    "print(\"Unique labels in y_train:\", np.unique(y_train))\n",
    "print(\"Unique labels in y_valid:\", np.unique(y_valid))\n",
    "print(\"Unique labels in y_test:\", np.unique(y_test))\n",
    "logging.info(f\"Unique labels in y_train: {np.unique(y_train)}\")\n",
    "logging.info(f\"Unique labels in y_valid: {np.unique(y_valid)}\")\n",
    "logging.info(f\"Unique labels in y_test: {np.unique(y_test)}\")\n",
    "# Determine the number of classes and the minimum label value\n",
    "all_labels = np.concatenate((y_train, y_valid, y_test))\n",
    "num_classes = len(np.unique(all_labels))\n",
    "min_label = np.min(all_labels)\n",
    "# Convert labels to one-hot encoding\n",
    "y_train = to_categorical(y_train - min_label, num_classes=num_classes)\n",
    "y_valid = to_categorical(y_valid - min_label, num_classes=num_classes)\n",
    "y_test = to_categorical(y_test - min_label, num_classes=num_classes)\n",
    "# Build the deep learning model\n",
    "#model = tf.keras.Sequential([\n",
    "    #tf.keras.layers.Dense(100, activation='relu', input_shape=(X_train.shape[1],)),\n",
    "    #tf.keras.layers.Dense(50, activation='relu'),\n",
    "    #tf.keras.layers.Dense(num_classes, activation='softmax')  # 输出层，分类问题使用softmax激活函数\n",
    "#])\n",
    "model = tf.keras.Sequential([\n",
    "    tf.keras.layers.Dense(512, activation='relu', input_shape=(X_train.shape[1],)),\n",
    "    tf.keras.layers.Dropout(0.2),  # Add Dropout layer\n",
    "    tf.keras.layers.Dense(256, activation='relu', kernel_regularizer=regularizers.l2(0.001)),# 添加L2正则化\n",
    "    #tf.keras.layers.Dropout(0.2),  # Add Dropout layer\n",
    "    tf.keras.layers.Dense(128, activation='relu', kernel_regularizer=regularizers.l2(0.001)),  # 添加L2正则化\n",
    "    #tf.keras.layers.Dropout(0.2), \n",
    "    tf.keras.layers.Dense(64, activation='relu', kernel_regularizer=regularizers.l2(0.001)),  # 添加L2正则化\n",
    "    #tf.keras.layers.Dropout(0.2), \n",
    "    tf.keras.layers.Dense(32, activation='relu', kernel_regularizer=regularizers.l2(0.001)),  # 添加L2正则化\n",
    "    tf.keras.layers.Dense(num_classes, activation='softmax')\n",
    "])\n",
    "# Customize callback class for logging\n",
    "class CustomCallback(keras.callbacks.Callback):\n",
    "    def on_epoch_end(self, epoch, logs=None):\n",
    "        log_message = (f\"Epoch {epoch + 1}, \"\n",
    "                       f\"Loss: {logs['loss']:.4f}, \"\n",
    "                       f\"Accuracy: {logs['accuracy']:.4f}, \"\n",
    "                       f\"Val_Loss: {logs['val_loss']:.4f}, \"\n",
    "                       f\"Val_Accuracy: {logs['val_accuracy']:.4f}\")\n",
    "        logging.info(log_message)\n",
    "# Compile the model\n",
    "optimizer = tf.keras.optimizers.Adam(learning_rate=0.001)\n",
    "model.compile(optimizer='adam',\n",
    "              loss='categorical_crossentropy',  # Classification problem uses cross entropy loss function\n",
    "              metrics=['accuracy','mae']) # Accuracy as an evaluation metric\n",
    "# Save the best model\n",
    "model_file = os.path.join(dir_output, 'best_model.h5')\n",
    "model.save(model_file)\n",
    "print(f\"Best model saved to: {model_file}\")\n",
    "checkpoint = ModelCheckpoint(model_file, monitor='val_accuracy', verbose=1, save_best_only=True, mode='max')\n",
    "# Train the model\n",
    "history = model.fit(X_train, y_train,\n",
    "                    epochs=150,\n",
    "                    batch_size=32,\n",
    "                    validation_data=(X_valid, y_valid),\n",
    "                    callbacks=[checkpoint, CustomCallback()],\n",
    "                    verbose=1)\n",
    "\n",
    "# Evaluate model performance\n",
    "loss, accuracy,mae = model.evaluate(X_test, y_test)\n",
    "print(f'Test Loss: {loss}')\n",
    "print(f'Test Accuracy: {accuracy}')\n"
   ]
  },
  {
   "cell_type": "code",
   "execution_count": 5,
   "id": "bb7cd25b",
   "metadata": {
    "ExecuteTime": {
     "end_time": "2025-01-21T02:05:42.475289Z",
     "start_time": "2025-01-21T02:05:42.176908Z"
    }
   },
   "outputs": [
    {
     "name": "stdout",
     "output_type": "stream",
     "text": [
      "Model structure saved to: 0926-datasets-ml/ml-cn-xmu-(JmolNN)/CNNmodel-20250121_1003/model_structure.png\n"
     ]
    },
    {
     "data": {
      "image/png": "[encoded data removed]",
      "text/plain": [
       "<IPython.core.display.Image object>"
      ]
     },
     "metadata": {},
     "output_type": "display_data"
    }
   ],
   "source": [
    "# Plot and save the model structure\n",
    "model_structure_file = os.path.join(dir_output, 'model_structure.png')\n",
    "plot_model(model, to_file=model_structure_file, show_shapes=True, show_layer_names=True)\n",
    "print(f\"Model structure saved to: {model_structure_file}\")\n",
    "display(Image(filename=model_structure_file))"
   ]
  },
  {
   "cell_type": "markdown",
   "id": "72536e96",
   "metadata": {},
   "source": [
    "# Plot the loss curve of the training process"
   ]
  },
  {
   "cell_type": "code",
   "execution_count": 6,
   "id": "ecb860e7",
   "metadata": {
    "ExecuteTime": {
     "end_time": "2025-01-21T02:05:43.689109Z",
     "start_time": "2025-01-21T02:05:42.484441Z"
    }
   },
   "outputs": [
    {
     "data": {
      "image/png": "[encoded data removed]",
      "text/plain": [
       "<Figure size 864x432 with 2 Axes>"
      ]
     },
     "metadata": {
      "needs_background": "light"
     },
     "output_type": "display_data"
    },
    {
     "data": {
      "image/png": "[encoded data removed]",
      "text/plain": [
       "<Figure size 432x432 with 1 Axes>"
      ]
     },
     "metadata": {
      "needs_background": "light"
     },
     "output_type": "display_data"
    }
   ],
   "source": [
    "# Plot the fitting curve and training curve\n",
    "plt.figure(figsize=(12, 6))\n",
    "# Plot training loss and validation loss\n",
    "plt.subplot(1, 2, 1)\n",
    "plt.plot(history.history['loss'], label='Train Loss')\n",
    "plt.plot(history.history['val_loss'], label='Validation Loss')\n",
    "plt.title('Training and Validation Loss')\n",
    "plt.xlabel('Epoch')\n",
    "plt.ylabel('Loss')\n",
    "plt.legend()\n",
    "# Plot training MAE and validation MAE\n",
    "plt.subplot(1, 2, 2)\n",
    "plt.plot(history.history['mae'], label='Train MAE')\n",
    "plt.plot(history.history['val_mae'], label='Validation MAE')\n",
    "plt.title('Training and Validation MAE')\n",
    "plt.xlabel('Epoch')\n",
    "plt.ylabel('MAE')\n",
    "plt.legend()\n",
    "plt.tight_layout()\n",
    "plt.savefig(os.path.join(dir_output, 'training_validation_metrics.png'))\n",
    "plt.show()\n",
    "# Plot training accuracy and validation accuracy\n",
    "plt.figure(figsize=(6, 6))\n",
    "plt.subplot(1, 1, 1)\n",
    "plt.plot(history.history['accuracy'], label='Train Accuracy')\n",
    "plt.plot(history.history['val_accuracy'], label='Validation Accuracy')\n",
    "plt.title('Training and Validation Accuracy')\n",
    "plt.xlabel('Epoch')\n",
    "plt.ylabel('Accuracy')\n",
    "plt.legend()\n",
    "plt.tight_layout()\n",
    "plt.savefig(os.path.join(dir_output, 'training_validation_metrics_classification.png'))\n",
    "plt.show()"
   ]
  },
  {
   "cell_type": "markdown",
   "id": "c74be8f9",
   "metadata": {},
   "source": [
    "# Predict and calculate accuracy\n",
    "\n",
    "## Prediction and Comparison:\n",
    "- The trained model is used to predict the class probabilities for the test set (`X_test`).\n",
    "- `y_test_classes`: The true class labels are converted from one-hot encoding to class indices, adjusted by `min_label`.\n",
    "- `y_pred_classes`: The predicted class labels are derived by selecting the class with the highest probability from the model’s output.\n",
    "\n",
    "## Accuracy Calculation:\n",
    "- The accuracy is computed using `accuracy_score` by comparing the true and predicted class labels.\n",
    "\n",
    "## Evaluation Metrics:\n",
    "- **Mean Squared Error (MSE)**: Measures the average squared differences between true and predicted class labels.\n",
    "- **R² Score**: Indicates the proportion of variance explained by the model; the closer to 1, the better.\n",
    "\n",
    "## Save Predictions:\n",
    "- The predicted class labels (`y_pred_classes`) are saved into a CSV file (`predictions_classification.csv`).\n",
    "\n",
    "## Confusion Matrix:\n",
    "- A confusion matrix is created to assess the model’s performance by showing the counts of true vs. predicted labels.\n",
    "- The matrix is visualized with a heatmap, saved as `confusion_matrix.png`.\n",
    "\n",
    "## Classification Report:\n",
    "- A classification report is generated, displaying precision, recall, f1-score, and support for each class.\n",
    "- The report is saved as `classification_report_classification.txt`.\n",
    "\n",
    "## Plot True vs Predicted Values:\n",
    "- A plot comparing true values (`y_test_classes`) and predicted values (`y_pred_classes`) is generated.\n",
    "- The plot is saved as `true_vs_predicted_classification.png`.\n",
    "\n",
    "## Output Files:\n",
    "- **Predictions**: `predictions_classification.csv`\n",
    "- **Confusion Matrix**: `confusion_matrix.png`\n",
    "- **Classification Report**: `classification_report_classification.txt`\n",
    "- **True vs Predicted Plot**: `true_vs_predicted_classification.png`\n"
   ]
  },
  {
   "cell_type": "code",
   "execution_count": 7,
   "id": "4fc4c81c",
   "metadata": {
    "ExecuteTime": {
     "end_time": "2025-01-21T02:05:45.250315Z",
     "start_time": "2025-01-21T02:05:43.691037Z"
    }
   },
   "outputs": [
    {
     "name": "stdout",
     "output_type": "stream",
     "text": [
      "16/16 [==============================] - 0s 3ms/step\n"
     ]
    },
    {
     "name": "stderr",
     "output_type": "stream",
     "text": [
      "Test accuracy: 0.684848\n",
      "Test MSE: 0.505051\n",
      "Test R² Score: 0.940752\n"
     ]
    },
    {
     "name": "stdout",
     "output_type": "stream",
     "text": [
      "Test accuracy: 0.684848\n",
      "Test MSE: 0.505051\n",
      "Test R² Score: 0.940752\n"
     ]
    },
    {
     "data": {
      "image/png": "[encoded data removed]",
      "text/plain": [
       "<Figure size 720x504 with 2 Axes>"
      ]
     },
     "metadata": {
      "needs_background": "light"
     },
     "output_type": "display_data"
    },
    {
     "name": "stderr",
     "output_type": "stream",
     "text": [
      "/home/dell-hd/xraylarch/envs/hanxue2/lib/python3.8/site-packages/sklearn/metrics/_classification.py:1471: UndefinedMetricWarning: Precision and F-score are ill-defined and being set to 0.0 in labels with no predicted samples. Use `zero_division` parameter to control this behavior.\n",
      "  _warn_prf(average, modifier, msg_start, len(result))\n",
      "/home/dell-hd/xraylarch/envs/hanxue2/lib/python3.8/site-packages/sklearn/metrics/_classification.py:1471: UndefinedMetricWarning: Precision and F-score are ill-defined and being set to 0.0 in labels with no predicted samples. Use `zero_division` parameter to control this behavior.\n",
      "  _warn_prf(average, modifier, msg_start, len(result))\n",
      "/home/dell-hd/xraylarch/envs/hanxue2/lib/python3.8/site-packages/sklearn/metrics/_classification.py:1471: UndefinedMetricWarning: Precision and F-score are ill-defined and being set to 0.0 in labels with no predicted samples. Use `zero_division` parameter to control this behavior.\n",
      "  _warn_prf(average, modifier, msg_start, len(result))\n"
     ]
    },
    {
     "name": "stdout",
     "output_type": "stream",
     "text": [
      "              precision    recall  f1-score   support\n",
      "\n",
      "         2.0       0.00      0.00      0.00         1\n",
      "         3.0       0.87      0.92      0.90       154\n",
      "         4.0       0.76      0.84      0.80       122\n",
      "         5.0       0.88      0.47      0.61        32\n",
      "         6.0       0.50      0.12      0.20         8\n",
      "         7.0       0.50      0.23      0.32        13\n",
      "         8.0       0.48      0.43      0.46        30\n",
      "         9.0       0.46      0.64      0.54        53\n",
      "        10.0       0.61      0.23      0.34        47\n",
      "        11.0       0.33      0.54      0.41        26\n",
      "        12.0       0.33      0.44      0.38         9\n",
      "\n",
      "    accuracy                           0.68       495\n",
      "   macro avg       0.52      0.44      0.45       495\n",
      "weighted avg       0.70      0.68      0.67       495\n",
      "\n"
     ]
    },
    {
     "data": {
      "image/png": "[encoded data removed]",
      "text/plain": [
       "<Figure size 720x360 with 1 Axes>"
      ]
     },
     "metadata": {
      "needs_background": "light"
     },
     "output_type": "display_data"
    }
   ],
   "source": [
    "# Predict test set\n",
    "y_pred_proba = model.predict(X_test)\n",
    "y_test_classes = np.argmax(y_test, axis=1) + min_label\n",
    "y_pred_classes = np.argmax(y_pred_proba, axis=1)+min_label\n",
    "test_accuracy = accuracy_score(y_test_classes, y_pred_classes)\n",
    "print(f\"Test accuracy: {test_accuracy:.6f}\")\n",
    "logging.info(f\"Test accuracy: {test_accuracy:.6f}\")\n",
    "mse = mean_squared_error(y_test_classes, y_pred_classes)\n",
    "r2 = r2_score(y_test_classes, y_pred_classes)\n",
    "print(f\"Test MSE: {mse:.6f}\")\n",
    "print(f\"Test R² Score: {r2:.6f}\")\n",
    "logging.info(f\"Test MSE: {mse:.6f}\")\n",
    "logging.info(f\"Test R² Score: {r2:.6f}\")\n",
    "# Save the prediction results\n",
    "np.savetxt(os.path.join(dir_output, 'predictions_classification.csv'), y_pred_classes, delimiter=',', fmt='%d')\n",
    "# Save the actual prediction comparison\n",
    "#comparison = np.stack(y_test, y_pred_classes)\n",
    "#np.savetxt(os.path.join(dir_output, 'true_vs_predicted_classification.csv'), comparison, delimiter=',', fmt='%d', header='True,Predicted')\n",
    "# Save the actual prediction comparison\n",
    "comparison = np.stack((y_test_classes, y_pred_classes), axis=-1)\n",
    "np.savetxt(os.path.join(dir_output, 'true_vs_predicted_classification.csv'), comparison, delimiter=',', fmt='%d', header='True,Predicted')\n",
    "# Plot the confusion matrix\n",
    "cm = confusion_matrix(y_test_classes, y_pred_classes)\n",
    "labels = np.arange(min_label, min_label + cm.shape[0])\n",
    "plt.figure(figsize=(10, 7))\n",
    "sns.heatmap(cm, annot=True, fmt='d', cmap='Blues', xticklabels=labels, yticklabels=labels)\n",
    "plt.xlabel('Predicted')\n",
    "plt.ylabel('Actual')\n",
    "plt.title('Confusion Matrix')\n",
    "plt.savefig(os.path.join(dir_output, 'confusion_matrix.png'))\n",
    "plt.show()\n",
    "# Print classification report\n",
    "report = classification_report(y_test_classes, y_pred_classes)\n",
    "print(report)\n",
    "# Save classification report\n",
    "report_path = os.path.join(dir_output, 'classification_report_classification.txt')\n",
    "with open(report_path, 'w') as f:\n",
    "    f.write(report)\n",
    "# Draw a comparison chart of the predicted results and the actual values\n",
    "plt.figure(figsize=(10, 5))\n",
    "plt.plot(y_test_classes,label='True Values (Test)', color='yellow', linewidth=1.5)\n",
    "plt.plot(y_pred_classes, label='Predicted Values (Test)', color='blue', linewidth=1.5)\n",
    "plt.xlabel('Samples')\n",
    "plt.ylabel('Values')\n",
    "plt.title('Comparison of True and Predicted Values (Test)')\n",
    "plt.legend()\n",
    "plt.grid(True)\n",
    "plt.savefig(os.path.join(dir_output, 'true_vs_predicted_classification.png'))\n",
    "plt.show()\n",
    "\n",
    "\n"
   ]
  },
  {
   "cell_type": "code",
   "execution_count": null,
   "id": "25be66b1",
   "metadata": {},
   "outputs": [],
   "source": []
  },
  {
   "cell_type": "code",
   "execution_count": null,
   "id": "22833339",
   "metadata": {},
   "outputs": [],
   "source": []
  },
  {
   "cell_type": "code",
   "execution_count": null,
   "id": "4275ae92",
   "metadata": {},
   "outputs": [],
   "source": []
  }
 ],
 "metadata": {
  "kernelspec": {
   "display_name": "Python 3 (ipykernel)",
   "language": "python",
   "name": "python3"
  },
  "language_info": {
   "codemirror_mode": {
    "name": "ipython",
    "version": 3
   },
   "file_extension": ".py",
   "mimetype": "text/x-python",
   "name": "python",
   "nbconvert_exporter": "python",
   "pygments_lexer": "ipython3",
   "version": "3.11.4"
  },
  "toc": {
   "base_numbering": 1,
   "nav_menu": {},
   "number_sections": true,
   "sideBar": true,
   "skip_h1_title": false,
   "title_cell": "Table of Contents",
   "title_sidebar": "Contents",
   "toc_cell": false,
   "toc_position": {},
   "toc_section_display": true,
   "toc_window_display": false
  }
 },
 "nbformat": 4,
 "nbformat_minor": 5
}
