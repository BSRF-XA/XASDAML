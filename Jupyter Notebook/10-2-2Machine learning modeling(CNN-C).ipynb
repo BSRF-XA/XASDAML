{
 "cells": [
  {
   "cell_type": "markdown",
   "id": "138c1b90",
   "metadata": {},
   "source": [
    "# Program Description: Machine Learning Modeling (CNN-Classification, Module 10)\r\n",
    "\r\n",
    "## Overview:\r\n",
    "This module is responsible for building a **classification** model using a Convolutional Neural Network (CNN). It works in parallel with other network models. The goal is to train the CNN model, save the best-performing model, and make predictions.\r\n",
    "\r\n",
    "- **Input Dataset**: This module reads the dataset output by **Module 9** (normalized data).\r\n",
    "- **Model Type**: The model used in this module is a **CNN (Convolutional Neural Network)**, which is trained for classification tasks.\r\n",
    "- **Prediction**: After training, the model is used to make predictions on the test set.\r\n",
    "\r\n",
    "## Key Steps:\r\n",
    "1. **Read Data**: \r\n",
    "   - The features and labels for training, validation, and test datasets are read from the files output by **Module 9**.\r\n",
    "   \r\n",
    "2. **Build CNN Model**: \r\n",
    "   - A CNN model is constructed for classification.\r\n",
    "   \r\n",
    "3. **Train and Save the Best Model**: \r\n",
    "   - The model is trained on the training dataset, and the best model is saved after training.\r\n",
    "   \r\n",
    "4. **Model Prediction**: \r\n",
    "   - The trained model is used to make predictions on the test set.\r\n",
    "\r\n",
    "5. **Output**:\r\n",
    "   - The trained model and evaluation metrics are saved in the `datasets-ml` folder.\r\n",
    "   - The model filename includes the timestamp to differentiate between runs (e.g., `CNNmodel-{current_time}.h5`).\r\n",
    "\r\n",
    "## Output:\r\n",
    "- **Model File**: The trained CNN model is saved in the `datasets-ml` folder with the filename `CNNmodel-{current_time}.h5`, where `{current_time}` represents the timestamp of the model save.\r\n",
    "- **Log Files**: The log file will contain training progress, evaluation metrics, and other relevant details.\r\n"
   ]
  },
  {
   "cell_type": "markdown",
   "id": "23862227",
   "metadata": {},
   "source": [
    "contacts：zhaohf@ihep.ac.cn"
   ]
  },
  {
   "cell_type": "markdown",
   "id": "60fa3007",
   "metadata": {},
   "source": [
    " # Import libraries"
   ]
  },
  {
   "cell_type": "code",
   "execution_count": 1,
   "id": "536ca7ad",
   "metadata": {
    "ExecuteTime": {
     "end_time": "2025-01-06T09:49:22.466897Z",
     "start_time": "2025-01-06T09:49:20.472281Z"
    }
   },
   "outputs": [
    {
     "name": "stderr",
     "output_type": "stream",
     "text": [
      "2025-01-06 17:49:20.935133: I tensorflow/core/util/util.cc:169] oneDNN custom operations are on. You may see slightly different numerical results due to floating-point round-off errors from different computation orders. To turn them off, set the environment variable `TF_ENABLE_ONEDNN_OPTS=0`.\n"
     ]
    }
   ],
   "source": [
    "from datetime import datetime\n",
    "from sklearn.preprocessing import StandardScaler\n",
    "from tensorflow.keras.utils import to_categorical\n",
    "from tensorflow.keras import regularizers\n",
    "from sklearn.metrics import accuracy_score, confusion_matrix, classification_report\n",
    "from tensorflow.keras.callbacks import ModelCheckpoint, EarlyStopping\n",
    "from sklearn.metrics import mean_squared_error, r2_score\n",
    "import os\n",
    "import logging\n",
    "import numpy as np\n",
    "import joblib\n",
    "import tensorflow as tf\n",
    "import keras.callbacks\n",
    "import matplotlib.pyplot as plt\n",
    "import seaborn as sns\n",
    "import sys\n",
    "from tensorflow.keras.utils import plot_model\n",
    "from IPython.display import Image, display"
   ]
  },
  {
   "cell_type": "markdown",
   "id": "3bde49c6",
   "metadata": {},
   "source": [
    "##  Version Information"
   ]
  },
  {
   "cell_type": "code",
   "execution_count": 2,
   "id": "37ae3a60",
   "metadata": {
    "ExecuteTime": {
     "end_time": "2025-01-06T09:49:22.477813Z",
     "start_time": "2025-01-06T09:49:22.469967Z"
    }
   },
   "outputs": [
    {
     "name": "stdout",
     "output_type": "stream",
     "text": [
      "tensorflow: 2.9.1\n",
      "numpy: 1.23.5\n",
      "joblib: 1.4.0\n",
      "matplotlib: 3.7.5\n",
      "seaborn: 0.13.2\n",
      "sklearn: 1.3.2\n",
      "Python: 3.8.15 | packaged by conda-forge | (default, Nov 22 2022, 08:46:39) \n",
      "[GCC 10.4.0]\n"
     ]
    }
   ],
   "source": [
    "def get_python_version():\n",
    "    return sys.version\n",
    "def get_package_version(package_name):\n",
    "    try:\n",
    "        module = __import__(package_name)\n",
    "        version = getattr(module, '__version__', None)\n",
    "        if version:\n",
    "            return version\n",
    "        else:\n",
    "            return pkg_resources.get_distribution(package_name).version\n",
    "    except (ImportError, AttributeError, pkg_resources.DistributionNotFound):\n",
    "        return \"Version info not found\"\n",
    "\n",
    "packages = ['tensorflow', 'numpy', 'joblib', 'matplotlib','seaborn','sklearn']\n",
    "for package in packages:\n",
    "    print(f\"{package}: {get_package_version(package)}\")\n",
    "print(f\"Python: {get_python_version()}\")"
   ]
  },
  {
   "cell_type": "markdown",
   "id": "917ddba1",
   "metadata": {},
   "source": [
    "# Parameter Settings (Input File, Output File)\n",
    "\n",
    "## Input File Path:\n",
    "- `dir_data`: Specifies the directory where the dataset (features and labels for training, validation, and test) is located.\n",
    "- The dataset includes **training**, **validation**, and **test** datasets generated by **Module 9**.\n",
    "- Example: `'0926-datasets/datasets(JmolNN)-pre-xmu-cn'` (path to the dataset).\n",
    "\n",
    "## Output File Path:\n",
    "- `dir_output`: The directory where the trained model and other output files will be saved.\n",
    "- The output includes the model file (`CNNmodel-{current_time}.h5`) and logs.\n",
    "- Example: `'0926-datasets-ml/ml-cn-xmu-(JmolNN)'` (path where the model and log files will be saved)."
   ]
  },
  {
   "cell_type": "code",
   "execution_count": 3,
   "id": "16d5e1a3",
   "metadata": {
    "ExecuteTime": {
     "end_time": "2025-01-06T09:49:23.956686Z",
     "start_time": "2025-01-06T09:49:22.479680Z"
    }
   },
   "outputs": [
    {
     "name": "stdout",
     "output_type": "stream",
     "text": [
      "File '0926-datasets/datasets(JmolNN)-pre-xmu-cn' exists.\n"
     ]
    },
    {
     "name": "stderr",
     "output_type": "stream",
     "text": [
      "Training set size: X_train: (3455, 1000), y_train: (3455,)\n",
      "Validation set size: X_valid: (987, 1000), y_valid: (987,)\n",
      "Test set size: X_test: (495, 1000), y_test: (495,)\n"
     ]
    },
    {
     "name": "stdout",
     "output_type": "stream",
     "text": [
      "Training set size: X_train: (3455, 1000), y_train: (3455,)\n",
      "Validation set size: X_valid: (987, 1000), y_valid: (987,)\n",
      "Test set size: X_test: (495, 1000), y_test: (495,)\n",
      "Unique labels in y_train: [ 3.  4.  5.  6.  7.  8.  9. 10. 11. 12.]\n",
      "Unique labels in y_valid: [ 3.  4.  5.  6.  7.  8.  9. 10. 11. 12.]\n",
      "Unique labels in y_test: [ 2.  3.  4.  5.  6.  7.  8.  9. 10. 11. 12.]\n"
     ]
    }
   ],
   "source": [
    "# Set input file path\n",
    "dir_data = '0926-datasets/datasets(JmolNN)-pre-xmu-cn'\n",
    "# Set output file save path\n",
    "output_path = '0926-datasets-ml/ml-cn-xmu-(JmolNN)'\n",
    "current_time = datetime.now().strftime(\"%Y%m%d_%H%M\")\n",
    "# Output save file name and add timestamp\n",
    "dir_output=os.path.join(output_path,f'CNNmodel-{current_time}')\n",
    "# Check if the input path exists\n",
    "if os.path.exists(dir_data):\n",
    "    print(f\"File '{dir_data}' exists.\")\n",
    "else:\n",
    "    raise FileNotFoundError(f\"File '{dir_data}' does not exist.\")\n",
    "os.makedirs(dir_output, exist_ok=True)\n",
    "os.makedirs(dir_output, exist_ok=True)\n",
    "# Load training, validation, and test datasets\n",
    "file_train_feature = os.path.join(dir_data, 'xmu_train_JmolNN.txt')\n",
    "file_train_label = os.path.join(dir_data, 'label_cn_train_JmolNN.txt')\n",
    "file_valid_feature = os.path.join(dir_data, 'xmu_valid_JmolNN.txt')\n",
    "file_valid_label = os.path.join(dir_data, 'label_cn_valid_JmolNN.txt')\n",
    "file_test_feature = os.path.join(dir_data, 'xmu_test_JmolNN.txt')\n",
    "file_test_label = os.path.join(dir_data, 'label_cn_test_JmolNN.txt')\n",
    "log_file_path = os.path.join(dir_output, 'training_log.txt')\n",
    "logging.basicConfig(level=logging.INFO, format='%(message)s', handlers=[logging.FileHandler(log_file_path), logging.StreamHandler()])\n",
    "# Read data\n",
    "X_train = np.loadtxt(file_train_feature)\n",
    "y_train = np.loadtxt(file_train_label, dtype=float)\n",
    "X_valid = np.loadtxt(file_valid_feature)\n",
    "y_valid = np.loadtxt(file_valid_label, dtype=float)\n",
    "X_test = np.loadtxt(file_test_feature)\n",
    "y_test = np.loadtxt(file_test_label, dtype=float)\n",
    "# Prepare messages for dataset sizes\n",
    "train_size_message = f\"Training set size: X_train: {X_train.shape}, y_train: {y_train.shape}\"\n",
    "valid_size_message = f\"Validation set size: X_valid: {X_valid.shape}, y_valid: {y_valid.shape}\"\n",
    "test_size_message = f\"Test set size: X_test: {X_test.shape}, y_test: {y_test.shape}\"\n",
    "print(train_size_message)\n",
    "print(valid_size_message)\n",
    "print(test_size_message)\n",
    "# Log dataset sizes\n",
    "logging.info(train_size_message)\n",
    "logging.info(valid_size_message)\n",
    "logging.info(test_size_message)\n",
    "print(\"Unique labels in y_train:\", np.unique(y_train))\n",
    "print(\"Unique labels in y_valid:\", np.unique(y_valid))\n",
    "print(\"Unique labels in y_test:\", np.unique(y_test))\n"
   ]
  },
  {
   "cell_type": "markdown",
   "id": "c8e3683e",
   "metadata": {},
   "source": [
    "# Build a MLP classification model and save the best model results"
   ]
  },
  {
   "cell_type": "code",
   "execution_count": 4,
   "id": "6bc2161e",
   "metadata": {
    "ExecuteTime": {
     "end_time": "2025-01-06T09:51:08.553929Z",
     "start_time": "2025-01-06T09:49:23.958721Z"
    }
   },
   "outputs": [
    {
     "name": "stderr",
     "output_type": "stream",
     "text": [
      "Unique labels in y_train: [ 3.  4.  5.  6.  7.  8.  9. 10. 11. 12.]\n",
      "Unique labels in y_valid: [ 3.  4.  5.  6.  7.  8.  9. 10. 11. 12.]\n",
      "Unique labels in y_test: [ 2.  3.  4.  5.  6.  7.  8.  9. 10. 11. 12.]\n"
     ]
    },
    {
     "name": "stdout",
     "output_type": "stream",
     "text": [
      "Unique labels in y_train: [ 3.  4.  5.  6.  7.  8.  9. 10. 11. 12.]\n",
      "Unique labels in y_valid: [ 3.  4.  5.  6.  7.  8.  9. 10. 11. 12.]\n",
      "Unique labels in y_test: [ 2.  3.  4.  5.  6.  7.  8.  9. 10. 11. 12.]\n",
      "Best model saved to: 0926-datasets-ml/ml-cn-xmu-(JmolNN)/CNNmodel-20250106_1749/best_model.h5\n",
      "Epoch 1/150\n"
     ]
    },
    {
     "name": "stderr",
     "output_type": "stream",
     "text": [
      "2025-01-06 17:49:23.982884: I tensorflow/core/platform/cpu_feature_guard.cc:193] This TensorFlow binary is optimized with oneAPI Deep Neural Network Library (oneDNN) to use the following CPU instructions in performance-critical operations:  SSE4.1 SSE4.2 AVX AVX2 AVX512F AVX512_VNNI FMA\n",
      "To enable them in other operations, rebuild TensorFlow with the appropriate compiler flags.\n"
     ]
    },
    {
     "name": "stdout",
     "output_type": "stream",
     "text": [
      "107/108 [============================>.] - ETA: 0s - loss: 1.9888 - accuracy: 0.4051 - mae: 0.1216\n",
      "Epoch 1: val_accuracy improved from -inf to 0.42655, saving model to 0926-datasets-ml/ml-cn-xmu-(JmolNN)/CNNmodel-20250106_1749/best_model.h5\n"
     ]
    },
    {
     "name": "stderr",
     "output_type": "stream",
     "text": [
      "Epoch 1, Loss: 1.9874, Accuracy: 0.4055, Val_Loss: 1.8233, Val_Accuracy: 0.4265\n"
     ]
    },
    {
     "name": "stdout",
     "output_type": "stream",
     "text": [
      "108/108 [==============================] - 1s 8ms/step - loss: 1.9874 - accuracy: 0.4055 - mae: 0.1216 - val_loss: 1.8233 - val_accuracy: 0.4265 - val_mae: 0.1218\n",
      "Epoch 2/150\n",
      "100/108 [==========================>...] - ETA: 0s - loss: 1.7623 - accuracy: 0.4403 - mae: 0.1176\n",
      "Epoch 2: val_accuracy did not improve from 0.42655\n"
     ]
    },
    {
     "name": "stderr",
     "output_type": "stream",
     "text": [
      "Epoch 2, Loss: 1.7529, Accuracy: 0.4425, Val_Loss: 1.7052, Val_Accuracy: 0.4184\n"
     ]
    },
    {
     "name": "stdout",
     "output_type": "stream",
     "text": [
      "108/108 [==============================] - 1s 6ms/step - loss: 1.7529 - accuracy: 0.4425 - mae: 0.1176 - val_loss: 1.7052 - val_accuracy: 0.4184 - val_mae: 0.1161\n",
      "Epoch 3/150\n",
      "101/108 [===========================>..] - ETA: 0s - loss: 1.6350 - accuracy: 0.4598 - mae: 0.1152\n",
      "Epoch 3: val_accuracy improved from 0.42655 to 0.44681, saving model to 0926-datasets-ml/ml-cn-xmu-(JmolNN)/CNNmodel-20250106_1749/best_model.h5\n"
     ]
    },
    {
     "name": "stderr",
     "output_type": "stream",
     "text": [
      "Epoch 3, Loss: 1.6363, Accuracy: 0.4573, Val_Loss: 1.6102, Val_Accuracy: 0.4468\n"
     ]
    },
    {
     "name": "stdout",
     "output_type": "stream",
     "text": [
      "108/108 [==============================] - 1s 7ms/step - loss: 1.6363 - accuracy: 0.4573 - mae: 0.1155 - val_loss: 1.6102 - val_accuracy: 0.4468 - val_mae: 0.1187\n",
      "Epoch 4/150\n",
      "102/108 [===========================>..] - ETA: 0s - loss: 1.5569 - accuracy: 0.4614 - mae: 0.1146\n",
      "Epoch 4: val_accuracy improved from 0.44681 to 0.47315, saving model to 0926-datasets-ml/ml-cn-xmu-(JmolNN)/CNNmodel-20250106_1749/best_model.h5\n"
     ]
    },
    {
     "name": "stderr",
     "output_type": "stream",
     "text": [
      "Epoch 4, Loss: 1.5550, Accuracy: 0.4622, Val_Loss: 1.5557, Val_Accuracy: 0.4732\n"
     ]
    },
    {
     "name": "stdout",
     "output_type": "stream",
     "text": [
      "108/108 [==============================] - 1s 8ms/step - loss: 1.5550 - accuracy: 0.4622 - mae: 0.1147 - val_loss: 1.5557 - val_accuracy: 0.4732 - val_mae: 0.1178\n",
      "Epoch 5/150\n",
      "103/108 [===========================>..] - ETA: 0s - loss: 1.4733 - accuracy: 0.4718 - mae: 0.1128\n",
      "Epoch 5: val_accuracy did not improve from 0.47315\n"
     ]
    },
    {
     "name": "stderr",
     "output_type": "stream",
     "text": [
      "Epoch 5, Loss: 1.4755, Accuracy: 0.4706, Val_Loss: 1.6000, Val_Accuracy: 0.3769\n"
     ]
    },
    {
     "name": "stdout",
     "output_type": "stream",
     "text": [
      "108/108 [==============================] - 1s 6ms/step - loss: 1.4755 - accuracy: 0.4706 - mae: 0.1129 - val_loss: 1.6000 - val_accuracy: 0.3769 - val_mae: 0.1240\n",
      "Epoch 6/150\n",
      "101/108 [===========================>..] - ETA: 0s - loss: 1.4492 - accuracy: 0.4588 - mae: 0.1141\n",
      "Epoch 6: val_accuracy improved from 0.47315 to 0.49949, saving model to 0926-datasets-ml/ml-cn-xmu-(JmolNN)/CNNmodel-20250106_1749/best_model.h5\n"
     ]
    },
    {
     "name": "stderr",
     "output_type": "stream",
     "text": [
      "Epoch 6, Loss: 1.4425, Accuracy: 0.4628, Val_Loss: 1.3841, Val_Accuracy: 0.4995\n"
     ]
    },
    {
     "name": "stdout",
     "output_type": "stream",
     "text": [
      "108/108 [==============================] - 1s 7ms/step - loss: 1.4425 - accuracy: 0.4628 - mae: 0.1138 - val_loss: 1.3841 - val_accuracy: 0.4995 - val_mae: 0.1117\n",
      "Epoch 7/150\n",
      "100/108 [==========================>...] - ETA: 0s - loss: 1.3880 - accuracy: 0.4841 - mae: 0.1117\n",
      "Epoch 7: val_accuracy did not improve from 0.49949\n"
     ]
    },
    {
     "name": "stderr",
     "output_type": "stream",
     "text": [
      "Epoch 7, Loss: 1.3837, Accuracy: 0.4839, Val_Loss: 1.4116, Val_Accuracy: 0.4813\n"
     ]
    },
    {
     "name": "stdout",
     "output_type": "stream",
     "text": [
      "108/108 [==============================] - 1s 6ms/step - loss: 1.3837 - accuracy: 0.4839 - mae: 0.1114 - val_loss: 1.4116 - val_accuracy: 0.4813 - val_mae: 0.1124\n",
      "Epoch 8/150\n",
      " 99/108 [==========================>...] - ETA: 0s - loss: 1.3306 - accuracy: 0.4953 - mae: 0.1093\n",
      "Epoch 8: val_accuracy improved from 0.49949 to 0.50051, saving model to 0926-datasets-ml/ml-cn-xmu-(JmolNN)/CNNmodel-20250106_1749/best_model.h5\n"
     ]
    },
    {
     "name": "stderr",
     "output_type": "stream",
     "text": [
      "Epoch 8, Loss: 1.3250, Accuracy: 0.4958, Val_Loss: 1.2739, Val_Accuracy: 0.5005\n"
     ]
    },
    {
     "name": "stdout",
     "output_type": "stream",
     "text": [
      "108/108 [==============================] - 1s 7ms/step - loss: 1.3250 - accuracy: 0.4958 - mae: 0.1085 - val_loss: 1.2739 - val_accuracy: 0.5005 - val_mae: 0.1065\n",
      "Epoch 9/150\n",
      "101/108 [===========================>..] - ETA: 0s - loss: 1.2622 - accuracy: 0.5217 - mae: 0.1051\n",
      "Epoch 9: val_accuracy improved from 0.50051 to 0.51368, saving model to 0926-datasets-ml/ml-cn-xmu-(JmolNN)/CNNmodel-20250106_1749/best_model.h5\n"
     ]
    },
    {
     "name": "stderr",
     "output_type": "stream",
     "text": [
      "Epoch 9, Loss: 1.2601, Accuracy: 0.5236, Val_Loss: 1.2269, Val_Accuracy: 0.5137\n"
     ]
    },
    {
     "name": "stdout",
     "output_type": "stream",
     "text": [
      "108/108 [==============================] - 1s 7ms/step - loss: 1.2601 - accuracy: 0.5236 - mae: 0.1051 - val_loss: 1.2269 - val_accuracy: 0.5137 - val_mae: 0.1044\n",
      "Epoch 10/150\n",
      "108/108 [==============================] - ETA: 0s - loss: 1.2152 - accuracy: 0.5256 - mae: 0.1034\n",
      "Epoch 10: val_accuracy improved from 0.51368 to 0.57751, saving model to 0926-datasets-ml/ml-cn-xmu-(JmolNN)/CNNmodel-20250106_1749/best_model.h5\n"
     ]
    },
    {
     "name": "stderr",
     "output_type": "stream",
     "text": [
      "Epoch 10, Loss: 1.2152, Accuracy: 0.5256, Val_Loss: 1.1639, Val_Accuracy: 0.5775\n"
     ]
    },
    {
     "name": "stdout",
     "output_type": "stream",
     "text": [
      "108/108 [==============================] - 1s 7ms/step - loss: 1.2152 - accuracy: 0.5256 - mae: 0.1034 - val_loss: 1.1639 - val_accuracy: 0.5775 - val_mae: 0.1018\n",
      "Epoch 11/150\n",
      "102/108 [===========================>..] - ETA: 0s - loss: 1.1785 - accuracy: 0.5512 - mae: 0.0998\n",
      "Epoch 11: val_accuracy did not improve from 0.57751\n"
     ]
    },
    {
     "name": "stderr",
     "output_type": "stream",
     "text": [
      "Epoch 11, Loss: 1.1799, Accuracy: 0.5520, Val_Loss: 1.1974, Val_Accuracy: 0.5451\n"
     ]
    },
    {
     "name": "stdout",
     "output_type": "stream",
     "text": [
      "108/108 [==============================] - 1s 6ms/step - loss: 1.1799 - accuracy: 0.5520 - mae: 0.0998 - val_loss: 1.1974 - val_accuracy: 0.5451 - val_mae: 0.1063\n",
      "Epoch 12/150\n",
      "101/108 [===========================>..] - ETA: 0s - loss: 1.1448 - accuracy: 0.5603 - mae: 0.0987\n",
      "Epoch 12: val_accuracy did not improve from 0.57751\n"
     ]
    },
    {
     "name": "stderr",
     "output_type": "stream",
     "text": [
      "Epoch 12, Loss: 1.1464, Accuracy: 0.5572, Val_Loss: 1.0911, Val_Accuracy: 0.5735\n"
     ]
    },
    {
     "name": "stdout",
     "output_type": "stream",
     "text": [
      "108/108 [==============================] - 1s 6ms/step - loss: 1.1464 - accuracy: 0.5572 - mae: 0.0989 - val_loss: 1.0911 - val_accuracy: 0.5735 - val_mae: 0.0925\n",
      "Epoch 13/150\n",
      "101/108 [===========================>..] - ETA: 0s - loss: 1.0947 - accuracy: 0.5653 - mae: 0.0959\n",
      "Epoch 13: val_accuracy did not improve from 0.57751\n"
     ]
    },
    {
     "name": "stderr",
     "output_type": "stream",
     "text": [
      "Epoch 13, Loss: 1.0928, Accuracy: 0.5679, Val_Loss: 1.0732, Val_Accuracy: 0.5755\n"
     ]
    },
    {
     "name": "stdout",
     "output_type": "stream",
     "text": [
      "108/108 [==============================] - 1s 6ms/step - loss: 1.0928 - accuracy: 0.5679 - mae: 0.0956 - val_loss: 1.0732 - val_accuracy: 0.5755 - val_mae: 0.0907\n",
      "Epoch 14/150\n",
      "101/108 [===========================>..] - ETA: 0s - loss: 1.1430 - accuracy: 0.5594 - mae: 0.0992\n",
      "Epoch 14: val_accuracy improved from 0.57751 to 0.60588, saving model to 0926-datasets-ml/ml-cn-xmu-(JmolNN)/CNNmodel-20250106_1749/best_model.h5\n"
     ]
    },
    {
     "name": "stderr",
     "output_type": "stream",
     "text": [
      "Epoch 14, Loss: 1.1370, Accuracy: 0.5612, Val_Loss: 1.0333, Val_Accuracy: 0.6059\n"
     ]
    },
    {
     "name": "stdout",
     "output_type": "stream",
     "text": [
      "108/108 [==============================] - 1s 7ms/step - loss: 1.1370 - accuracy: 0.5612 - mae: 0.0987 - val_loss: 1.0333 - val_accuracy: 0.6059 - val_mae: 0.0905\n",
      "Epoch 15/150\n",
      "100/108 [==========================>...] - ETA: 0s - loss: 1.0521 - accuracy: 0.5784 - mae: 0.0935\n",
      "Epoch 15: val_accuracy improved from 0.60588 to 0.60993, saving model to 0926-datasets-ml/ml-cn-xmu-(JmolNN)/CNNmodel-20250106_1749/best_model.h5\n"
     ]
    },
    {
     "name": "stderr",
     "output_type": "stream",
     "text": [
      "Epoch 15, Loss: 1.0626, Accuracy: 0.5708, Val_Loss: 1.0486, Val_Accuracy: 0.6099\n"
     ]
    },
    {
     "name": "stdout",
     "output_type": "stream",
     "text": [
      "108/108 [==============================] - 1s 7ms/step - loss: 1.0626 - accuracy: 0.5708 - mae: 0.0942 - val_loss: 1.0486 - val_accuracy: 0.6099 - val_mae: 0.0959\n",
      "Epoch 16/150\n",
      "102/108 [===========================>..] - ETA: 0s - loss: 1.0373 - accuracy: 0.5815 - mae: 0.0932\n",
      "Epoch 16: val_accuracy did not improve from 0.60993\n"
     ]
    },
    {
     "name": "stderr",
     "output_type": "stream",
     "text": [
      "Epoch 16, Loss: 1.0342, Accuracy: 0.5852, Val_Loss: 0.9831, Val_Accuracy: 0.6069\n"
     ]
    },
    {
     "name": "stdout",
     "output_type": "stream",
     "text": [
      "108/108 [==============================] - 1s 6ms/step - loss: 1.0342 - accuracy: 0.5852 - mae: 0.0927 - val_loss: 0.9831 - val_accuracy: 0.6069 - val_mae: 0.0885\n",
      "Epoch 17/150\n",
      "101/108 [===========================>..] - ETA: 0s - loss: 1.0109 - accuracy: 0.6101 - mae: 0.0903\n",
      "Epoch 17: val_accuracy did not improve from 0.60993\n"
     ]
    },
    {
     "name": "stderr",
     "output_type": "stream",
     "text": [
      "Epoch 17, Loss: 1.0196, Accuracy: 0.6046, Val_Loss: 1.0224, Val_Accuracy: 0.5947\n"
     ]
    },
    {
     "name": "stdout",
     "output_type": "stream",
     "text": [
      "108/108 [==============================] - 1s 6ms/step - loss: 1.0196 - accuracy: 0.6046 - mae: 0.0907 - val_loss: 1.0224 - val_accuracy: 0.5947 - val_mae: 0.0916\n",
      "Epoch 18/150\n",
      "101/108 [===========================>..] - ETA: 0s - loss: 1.0368 - accuracy: 0.5848 - mae: 0.0944\n",
      "Epoch 18: val_accuracy improved from 0.60993 to 0.61905, saving model to 0926-datasets-ml/ml-cn-xmu-(JmolNN)/CNNmodel-20250106_1749/best_model.h5\n"
     ]
    },
    {
     "name": "stderr",
     "output_type": "stream",
     "text": [
      "Epoch 18, Loss: 1.0335, Accuracy: 0.5849, Val_Loss: 0.9989, Val_Accuracy: 0.6190\n"
     ]
    },
    {
     "name": "stdout",
     "output_type": "stream",
     "text": [
      "108/108 [==============================] - 1s 7ms/step - loss: 1.0335 - accuracy: 0.5849 - mae: 0.0943 - val_loss: 0.9989 - val_accuracy: 0.6190 - val_mae: 0.0911\n",
      "Epoch 19/150\n",
      "102/108 [===========================>..] - ETA: 0s - loss: 0.9898 - accuracy: 0.6180 - mae: 0.0897\n",
      "Epoch 19: val_accuracy did not improve from 0.61905\n"
     ]
    },
    {
     "name": "stderr",
     "output_type": "stream",
     "text": [
      "Epoch 19, Loss: 0.9871, Accuracy: 0.6179, Val_Loss: 1.2227, Val_Accuracy: 0.5056\n"
     ]
    },
    {
     "name": "stdout",
     "output_type": "stream",
     "text": [
      "108/108 [==============================] - 1s 6ms/step - loss: 0.9871 - accuracy: 0.6179 - mae: 0.0893 - val_loss: 1.2227 - val_accuracy: 0.5056 - val_mae: 0.0960\n",
      "Epoch 20/150\n",
      "100/108 [==========================>...] - ETA: 0s - loss: 1.0201 - accuracy: 0.5875 - mae: 0.0931\n",
      "Epoch 20: val_accuracy improved from 0.61905 to 0.64438, saving model to 0926-datasets-ml/ml-cn-xmu-(JmolNN)/CNNmodel-20250106_1749/best_model.h5\n"
     ]
    },
    {
     "name": "stderr",
     "output_type": "stream",
     "text": [
      "Epoch 20, Loss: 1.0083, Accuracy: 0.5925, Val_Loss: 0.9165, Val_Accuracy: 0.6444\n"
     ]
    },
    {
     "name": "stdout",
     "output_type": "stream",
     "text": [
      "108/108 [==============================] - 1s 7ms/step - loss: 1.0083 - accuracy: 0.5925 - mae: 0.0924 - val_loss: 0.9165 - val_accuracy: 0.6444 - val_mae: 0.0853\n",
      "Epoch 21/150\n",
      "101/108 [===========================>..] - ETA: 0s - loss: 0.9693 - accuracy: 0.6098 - mae: 0.0889\n",
      "Epoch 21: val_accuracy improved from 0.64438 to 0.64742, saving model to 0926-datasets-ml/ml-cn-xmu-(JmolNN)/CNNmodel-20250106_1749/best_model.h5\n"
     ]
    },
    {
     "name": "stderr",
     "output_type": "stream",
     "text": [
      "Epoch 21, Loss: 0.9659, Accuracy: 0.6110, Val_Loss: 0.9321, Val_Accuracy: 0.6474\n"
     ]
    },
    {
     "name": "stdout",
     "output_type": "stream",
     "text": [
      "108/108 [==============================] - 1s 7ms/step - loss: 0.9659 - accuracy: 0.6110 - mae: 0.0885 - val_loss: 0.9321 - val_accuracy: 0.6474 - val_mae: 0.0847\n",
      "Epoch 22/150\n",
      "102/108 [===========================>..] - ETA: 0s - loss: 0.9532 - accuracy: 0.6085 - mae: 0.0877\n",
      "Epoch 22: val_accuracy did not improve from 0.64742\n"
     ]
    },
    {
     "name": "stderr",
     "output_type": "stream",
     "text": [
      "Epoch 22, Loss: 0.9532, Accuracy: 0.6081, Val_Loss: 0.9700, Val_Accuracy: 0.6302\n"
     ]
    },
    {
     "name": "stdout",
     "output_type": "stream",
     "text": [
      "108/108 [==============================] - 1s 6ms/step - loss: 0.9532 - accuracy: 0.6081 - mae: 0.0878 - val_loss: 0.9700 - val_accuracy: 0.6302 - val_mae: 0.0854\n",
      "Epoch 23/150\n",
      "101/108 [===========================>..] - ETA: 0s - loss: 0.9528 - accuracy: 0.6176 - mae: 0.0873\n",
      "Epoch 23: val_accuracy did not improve from 0.64742\n"
     ]
    },
    {
     "name": "stderr",
     "output_type": "stream",
     "text": [
      "Epoch 23, Loss: 0.9564, Accuracy: 0.6145, Val_Loss: 0.9383, Val_Accuracy: 0.6302\n"
     ]
    },
    {
     "name": "stdout",
     "output_type": "stream",
     "text": [
      "108/108 [==============================] - 1s 6ms/step - loss: 0.9564 - accuracy: 0.6145 - mae: 0.0874 - val_loss: 0.9383 - val_accuracy: 0.6302 - val_mae: 0.0873\n",
      "Epoch 24/150\n",
      "100/108 [==========================>...] - ETA: 0s - loss: 0.9324 - accuracy: 0.6178 - mae: 0.0867\n",
      "Epoch 24: val_accuracy improved from 0.64742 to 0.65552, saving model to 0926-datasets-ml/ml-cn-xmu-(JmolNN)/CNNmodel-20250106_1749/best_model.h5\n"
     ]
    },
    {
     "name": "stderr",
     "output_type": "stream",
     "text": [
      "Epoch 24, Loss: 0.9301, Accuracy: 0.6197, Val_Loss: 0.8965, Val_Accuracy: 0.6555\n"
     ]
    },
    {
     "name": "stdout",
     "output_type": "stream",
     "text": [
      "108/108 [==============================] - 1s 7ms/step - loss: 0.9301 - accuracy: 0.6197 - mae: 0.0865 - val_loss: 0.8965 - val_accuracy: 0.6555 - val_mae: 0.0830\n",
      "Epoch 25/150\n",
      "101/108 [===========================>..] - ETA: 0s - loss: 0.9134 - accuracy: 0.6272 - mae: 0.0850\n",
      "Epoch 25: val_accuracy did not improve from 0.65552\n"
     ]
    },
    {
     "name": "stderr",
     "output_type": "stream",
     "text": [
      "Epoch 25, Loss: 0.9167, Accuracy: 0.6246, Val_Loss: 0.8639, Val_Accuracy: 0.6545\n"
     ]
    },
    {
     "name": "stdout",
     "output_type": "stream",
     "text": [
      "108/108 [==============================] - 1s 6ms/step - loss: 0.9167 - accuracy: 0.6246 - mae: 0.0851 - val_loss: 0.8639 - val_accuracy: 0.6545 - val_mae: 0.0815\n",
      "Epoch 26/150\n",
      "100/108 [==========================>...] - ETA: 0s - loss: 0.9287 - accuracy: 0.6237 - mae: 0.0862\n",
      "Epoch 26: val_accuracy did not improve from 0.65552\n"
     ]
    },
    {
     "name": "stderr",
     "output_type": "stream",
     "text": [
      "Epoch 26, Loss: 0.9225, Accuracy: 0.6260, Val_Loss: 0.9023, Val_Accuracy: 0.6373\n"
     ]
    },
    {
     "name": "stdout",
     "output_type": "stream",
     "text": [
      "108/108 [==============================] - 1s 6ms/step - loss: 0.9225 - accuracy: 0.6260 - mae: 0.0858 - val_loss: 0.9023 - val_accuracy: 0.6373 - val_mae: 0.0831\n",
      "Epoch 27/150\n",
      "100/108 [==========================>...] - ETA: 0s - loss: 0.9317 - accuracy: 0.6097 - mae: 0.0872\n",
      "Epoch 27: val_accuracy did not improve from 0.65552\n"
     ]
    },
    {
     "name": "stderr",
     "output_type": "stream",
     "text": [
      "Epoch 27, Loss: 0.9244, Accuracy: 0.6145, Val_Loss: 0.9071, Val_Accuracy: 0.6272\n"
     ]
    },
    {
     "name": "stdout",
     "output_type": "stream",
     "text": [
      "108/108 [==============================] - 1s 6ms/step - loss: 0.9244 - accuracy: 0.6145 - mae: 0.0868 - val_loss: 0.9071 - val_accuracy: 0.6272 - val_mae: 0.0863\n",
      "Epoch 28/150\n",
      "101/108 [===========================>..] - ETA: 0s - loss: 0.8789 - accuracy: 0.6417 - mae: 0.0823\n",
      "Epoch 28: val_accuracy did not improve from 0.65552\n"
     ]
    },
    {
     "name": "stderr",
     "output_type": "stream",
     "text": [
      "Epoch 28, Loss: 0.8870, Accuracy: 0.6399, Val_Loss: 0.9282, Val_Accuracy: 0.6201\n"
     ]
    },
    {
     "name": "stdout",
     "output_type": "stream",
     "text": [
      "108/108 [==============================] - 1s 6ms/step - loss: 0.8870 - accuracy: 0.6399 - mae: 0.0823 - val_loss: 0.9282 - val_accuracy: 0.6201 - val_mae: 0.0851\n",
      "Epoch 29/150\n",
      "101/108 [===========================>..] - ETA: 0s - loss: 0.9011 - accuracy: 0.6321 - mae: 0.0836\n",
      "Epoch 29: val_accuracy did not improve from 0.65552\n"
     ]
    },
    {
     "name": "stderr",
     "output_type": "stream",
     "text": [
      "Epoch 29, Loss: 0.9058, Accuracy: 0.6292, Val_Loss: 0.9805, Val_Accuracy: 0.5907\n"
     ]
    },
    {
     "name": "stdout",
     "output_type": "stream",
     "text": [
      "108/108 [==============================] - 1s 6ms/step - loss: 0.9058 - accuracy: 0.6292 - mae: 0.0840 - val_loss: 0.9805 - val_accuracy: 0.5907 - val_mae: 0.0931\n",
      "Epoch 30/150\n",
      "100/108 [==========================>...] - ETA: 0s - loss: 0.8824 - accuracy: 0.6316 - mae: 0.0836\n",
      "Epoch 30: val_accuracy did not improve from 0.65552\n"
     ]
    },
    {
     "name": "stderr",
     "output_type": "stream",
     "text": [
      "Epoch 30, Loss: 0.8820, Accuracy: 0.6315, Val_Loss: 0.8822, Val_Accuracy: 0.6545\n"
     ]
    },
    {
     "name": "stdout",
     "output_type": "stream",
     "text": [
      "108/108 [==============================] - 1s 6ms/step - loss: 0.8820 - accuracy: 0.6315 - mae: 0.0837 - val_loss: 0.8822 - val_accuracy: 0.6545 - val_mae: 0.0831\n",
      "Epoch 31/150\n",
      "101/108 [===========================>..] - ETA: 0s - loss: 0.9050 - accuracy: 0.6176 - mae: 0.0853\n",
      "Epoch 31: val_accuracy improved from 0.65552 to 0.66565, saving model to 0926-datasets-ml/ml-cn-xmu-(JmolNN)/CNNmodel-20250106_1749/best_model.h5\n"
     ]
    },
    {
     "name": "stderr",
     "output_type": "stream",
     "text": [
      "Epoch 31, Loss: 0.9024, Accuracy: 0.6177, Val_Loss: 0.8915, Val_Accuracy: 0.6657\n"
     ]
    },
    {
     "name": "stdout",
     "output_type": "stream",
     "text": [
      "108/108 [==============================] - 1s 7ms/step - loss: 0.9024 - accuracy: 0.6177 - mae: 0.0854 - val_loss: 0.8915 - val_accuracy: 0.6657 - val_mae: 0.0866\n",
      "Epoch 32/150\n",
      "101/108 [===========================>..] - ETA: 0s - loss: 0.8629 - accuracy: 0.6479 - mae: 0.0814\n",
      "Epoch 32: val_accuracy did not improve from 0.66565\n"
     ]
    },
    {
     "name": "stderr",
     "output_type": "stream",
     "text": [
      "Epoch 32, Loss: 0.8598, Accuracy: 0.6498, Val_Loss: 0.9260, Val_Accuracy: 0.5947\n"
     ]
    },
    {
     "name": "stdout",
     "output_type": "stream",
     "text": [
      "108/108 [==============================] - 1s 6ms/step - loss: 0.8598 - accuracy: 0.6498 - mae: 0.0813 - val_loss: 0.9260 - val_accuracy: 0.5947 - val_mae: 0.0852\n",
      "Epoch 33/150\n",
      "101/108 [===========================>..] - ETA: 0s - loss: 0.8921 - accuracy: 0.6405 - mae: 0.0842\n",
      "Epoch 33: val_accuracy improved from 0.66565 to 0.67072, saving model to 0926-datasets-ml/ml-cn-xmu-(JmolNN)/CNNmodel-20250106_1749/best_model.h5\n"
     ]
    },
    {
     "name": "stderr",
     "output_type": "stream",
     "text": [
      "Epoch 33, Loss: 0.8920, Accuracy: 0.6420, Val_Loss: 0.8759, Val_Accuracy: 0.6707\n"
     ]
    },
    {
     "name": "stdout",
     "output_type": "stream",
     "text": [
      "108/108 [==============================] - 1s 7ms/step - loss: 0.8920 - accuracy: 0.6420 - mae: 0.0839 - val_loss: 0.8759 - val_accuracy: 0.6707 - val_mae: 0.0806\n",
      "Epoch 34/150\n",
      "101/108 [===========================>..] - ETA: 0s - loss: 0.8647 - accuracy: 0.6417 - mae: 0.0822\n",
      "Epoch 34: val_accuracy did not improve from 0.67072\n"
     ]
    },
    {
     "name": "stderr",
     "output_type": "stream",
     "text": [
      "Epoch 34, Loss: 0.8639, Accuracy: 0.6405, Val_Loss: 0.8634, Val_Accuracy: 0.6545\n"
     ]
    },
    {
     "name": "stdout",
     "output_type": "stream",
     "text": [
      "108/108 [==============================] - 1s 6ms/step - loss: 0.8639 - accuracy: 0.6405 - mae: 0.0821 - val_loss: 0.8634 - val_accuracy: 0.6545 - val_mae: 0.0842\n",
      "Epoch 35/150\n",
      "101/108 [===========================>..] - ETA: 0s - loss: 0.8724 - accuracy: 0.6386 - mae: 0.0829\n",
      "Epoch 35: val_accuracy did not improve from 0.67072\n"
     ]
    },
    {
     "name": "stderr",
     "output_type": "stream",
     "text": [
      "Epoch 35, Loss: 0.8759, Accuracy: 0.6359, Val_Loss: 0.9110, Val_Accuracy: 0.6292\n"
     ]
    },
    {
     "name": "stdout",
     "output_type": "stream",
     "text": [
      "108/108 [==============================] - 1s 6ms/step - loss: 0.8759 - accuracy: 0.6359 - mae: 0.0830 - val_loss: 0.9110 - val_accuracy: 0.6292 - val_mae: 0.0843\n",
      "Epoch 36/150\n",
      "101/108 [===========================>..] - ETA: 0s - loss: 0.8613 - accuracy: 0.6454 - mae: 0.0823\n",
      "Epoch 36: val_accuracy did not improve from 0.67072\n"
     ]
    },
    {
     "name": "stderr",
     "output_type": "stream",
     "text": [
      "Epoch 36, Loss: 0.8683, Accuracy: 0.6402, Val_Loss: 1.0141, Val_Accuracy: 0.5704\n"
     ]
    },
    {
     "name": "stdout",
     "output_type": "stream",
     "text": [
      "108/108 [==============================] - 1s 6ms/step - loss: 0.8683 - accuracy: 0.6402 - mae: 0.0827 - val_loss: 1.0141 - val_accuracy: 0.5704 - val_mae: 0.0926\n",
      "Epoch 37/150\n",
      "101/108 [===========================>..] - ETA: 0s - loss: 0.8672 - accuracy: 0.6402 - mae: 0.0828\n",
      "Epoch 37: val_accuracy did not improve from 0.67072\n"
     ]
    },
    {
     "name": "stderr",
     "output_type": "stream",
     "text": [
      "Epoch 37, Loss: 0.8644, Accuracy: 0.6420, Val_Loss: 0.8918, Val_Accuracy: 0.6342\n"
     ]
    },
    {
     "name": "stdout",
     "output_type": "stream",
     "text": [
      "108/108 [==============================] - 1s 6ms/step - loss: 0.8644 - accuracy: 0.6420 - mae: 0.0826 - val_loss: 0.8918 - val_accuracy: 0.6342 - val_mae: 0.0826\n",
      "Epoch 38/150\n",
      "101/108 [===========================>..] - ETA: 0s - loss: 0.8706 - accuracy: 0.6330 - mae: 0.0837\n",
      "Epoch 38: val_accuracy did not improve from 0.67072\n"
     ]
    },
    {
     "name": "stderr",
     "output_type": "stream",
     "text": [
      "Epoch 38, Loss: 0.8691, Accuracy: 0.6347, Val_Loss: 0.8823, Val_Accuracy: 0.6434\n"
     ]
    },
    {
     "name": "stdout",
     "output_type": "stream",
     "text": [
      "108/108 [==============================] - 1s 6ms/step - loss: 0.8691 - accuracy: 0.6347 - mae: 0.0833 - val_loss: 0.8823 - val_accuracy: 0.6434 - val_mae: 0.0831\n",
      "Epoch 39/150\n",
      "101/108 [===========================>..] - ETA: 0s - loss: 0.8582 - accuracy: 0.6368 - mae: 0.0822\n",
      "Epoch 39: val_accuracy did not improve from 0.67072\n"
     ]
    },
    {
     "name": "stderr",
     "output_type": "stream",
     "text": [
      "Epoch 39, Loss: 0.8582, Accuracy: 0.6365, Val_Loss: 0.8409, Val_Accuracy: 0.6636\n"
     ]
    },
    {
     "name": "stdout",
     "output_type": "stream",
     "text": [
      "108/108 [==============================] - 1s 6ms/step - loss: 0.8582 - accuracy: 0.6365 - mae: 0.0824 - val_loss: 0.8409 - val_accuracy: 0.6636 - val_mae: 0.0799\n",
      "Epoch 40/150\n",
      "101/108 [===========================>..] - ETA: 0s - loss: 0.8174 - accuracy: 0.6668 - mae: 0.0789\n",
      "Epoch 40: val_accuracy did not improve from 0.67072\n"
     ]
    },
    {
     "name": "stderr",
     "output_type": "stream",
     "text": [
      "Epoch 40, Loss: 0.8128, Accuracy: 0.6683, Val_Loss: 0.8541, Val_Accuracy: 0.6494\n"
     ]
    },
    {
     "name": "stdout",
     "output_type": "stream",
     "text": [
      "108/108 [==============================] - 1s 6ms/step - loss: 0.8128 - accuracy: 0.6683 - mae: 0.0786 - val_loss: 0.8541 - val_accuracy: 0.6494 - val_mae: 0.0788\n",
      "Epoch 41/150\n",
      "101/108 [===========================>..] - ETA: 0s - loss: 0.8645 - accuracy: 0.6389 - mae: 0.0820\n",
      "Epoch 41: val_accuracy did not improve from 0.67072\n"
     ]
    },
    {
     "name": "stderr",
     "output_type": "stream",
     "text": [
      "Epoch 41, Loss: 0.8599, Accuracy: 0.6420, Val_Loss: 0.8645, Val_Accuracy: 0.6596\n"
     ]
    },
    {
     "name": "stdout",
     "output_type": "stream",
     "text": [
      "108/108 [==============================] - 1s 6ms/step - loss: 0.8599 - accuracy: 0.6420 - mae: 0.0817 - val_loss: 0.8645 - val_accuracy: 0.6596 - val_mae: 0.0820\n",
      "Epoch 42/150\n",
      "100/108 [==========================>...] - ETA: 0s - loss: 0.8245 - accuracy: 0.6625 - mae: 0.0791\n",
      "Epoch 42: val_accuracy did not improve from 0.67072\n"
     ]
    },
    {
     "name": "stderr",
     "output_type": "stream",
     "text": [
      "Epoch 42, Loss: 0.8215, Accuracy: 0.6640, Val_Loss: 0.8537, Val_Accuracy: 0.6525\n"
     ]
    },
    {
     "name": "stdout",
     "output_type": "stream",
     "text": [
      "108/108 [==============================] - 1s 6ms/step - loss: 0.8215 - accuracy: 0.6640 - mae: 0.0789 - val_loss: 0.8537 - val_accuracy: 0.6525 - val_mae: 0.0810\n",
      "Epoch 43/150\n",
      "101/108 [===========================>..] - ETA: 0s - loss: 0.8307 - accuracy: 0.6504 - mae: 0.0795\n",
      "Epoch 43: val_accuracy did not improve from 0.67072\n"
     ]
    },
    {
     "name": "stderr",
     "output_type": "stream",
     "text": [
      "Epoch 43, Loss: 0.8367, Accuracy: 0.6469, Val_Loss: 0.8307, Val_Accuracy: 0.6606\n"
     ]
    },
    {
     "name": "stdout",
     "output_type": "stream",
     "text": [
      "108/108 [==============================] - 1s 6ms/step - loss: 0.8367 - accuracy: 0.6469 - mae: 0.0801 - val_loss: 0.8307 - val_accuracy: 0.6606 - val_mae: 0.0811\n",
      "Epoch 44/150\n",
      "101/108 [===========================>..] - ETA: 0s - loss: 0.8186 - accuracy: 0.6615 - mae: 0.0786\n",
      "Epoch 44: val_accuracy did not improve from 0.67072\n"
     ]
    },
    {
     "name": "stderr",
     "output_type": "stream",
     "text": [
      "Epoch 44, Loss: 0.8249, Accuracy: 0.6556, Val_Loss: 0.8233, Val_Accuracy: 0.6707\n"
     ]
    },
    {
     "name": "stdout",
     "output_type": "stream",
     "text": [
      "108/108 [==============================] - 1s 6ms/step - loss: 0.8249 - accuracy: 0.6556 - mae: 0.0792 - val_loss: 0.8233 - val_accuracy: 0.6707 - val_mae: 0.0803\n",
      "Epoch 45/150\n",
      "100/108 [==========================>...] - ETA: 0s - loss: 0.8195 - accuracy: 0.6553 - mae: 0.0791\n",
      "Epoch 45: val_accuracy did not improve from 0.67072\n"
     ]
    },
    {
     "name": "stderr",
     "output_type": "stream",
     "text": [
      "Epoch 45, Loss: 0.8252, Accuracy: 0.6524, Val_Loss: 0.8626, Val_Accuracy: 0.6545\n"
     ]
    },
    {
     "name": "stdout",
     "output_type": "stream",
     "text": [
      "108/108 [==============================] - 1s 6ms/step - loss: 0.8252 - accuracy: 0.6524 - mae: 0.0796 - val_loss: 0.8626 - val_accuracy: 0.6545 - val_mae: 0.0828\n",
      "Epoch 46/150\n",
      "101/108 [===========================>..] - ETA: 0s - loss: 0.8343 - accuracy: 0.6476 - mae: 0.0809\n",
      "Epoch 46: val_accuracy improved from 0.67072 to 0.67579, saving model to 0926-datasets-ml/ml-cn-xmu-(JmolNN)/CNNmodel-20250106_1749/best_model.h5\n"
     ]
    },
    {
     "name": "stderr",
     "output_type": "stream",
     "text": [
      "Epoch 46, Loss: 0.8410, Accuracy: 0.6483, Val_Loss: 0.8119, Val_Accuracy: 0.6758\n"
     ]
    },
    {
     "name": "stdout",
     "output_type": "stream",
     "text": [
      "108/108 [==============================] - 1s 7ms/step - loss: 0.8410 - accuracy: 0.6483 - mae: 0.0810 - val_loss: 0.8119 - val_accuracy: 0.6758 - val_mae: 0.0768\n",
      "Epoch 47/150\n",
      "101/108 [===========================>..] - ETA: 0s - loss: 0.8289 - accuracy: 0.6550 - mae: 0.0806\n",
      "Epoch 47: val_accuracy did not improve from 0.67579\n"
     ]
    },
    {
     "name": "stderr",
     "output_type": "stream",
     "text": [
      "Epoch 47, Loss: 0.8256, Accuracy: 0.6573, Val_Loss: 0.8620, Val_Accuracy: 0.6464\n"
     ]
    },
    {
     "name": "stdout",
     "output_type": "stream",
     "text": [
      "108/108 [==============================] - 1s 6ms/step - loss: 0.8256 - accuracy: 0.6573 - mae: 0.0803 - val_loss: 0.8620 - val_accuracy: 0.6464 - val_mae: 0.0791\n",
      "Epoch 48/150\n",
      "101/108 [===========================>..] - ETA: 0s - loss: 0.8237 - accuracy: 0.6566 - mae: 0.0796\n",
      "Epoch 48: val_accuracy did not improve from 0.67579\n"
     ]
    },
    {
     "name": "stderr",
     "output_type": "stream",
     "text": [
      "Epoch 48, Loss: 0.8242, Accuracy: 0.6579, Val_Loss: 0.8243, Val_Accuracy: 0.6707\n"
     ]
    },
    {
     "name": "stdout",
     "output_type": "stream",
     "text": [
      "108/108 [==============================] - 1s 6ms/step - loss: 0.8242 - accuracy: 0.6579 - mae: 0.0796 - val_loss: 0.8243 - val_accuracy: 0.6707 - val_mae: 0.0779\n",
      "Epoch 49/150\n",
      "101/108 [===========================>..] - ETA: 0s - loss: 0.8070 - accuracy: 0.6705 - mae: 0.0779\n",
      "Epoch 49: val_accuracy did not improve from 0.67579\n"
     ]
    },
    {
     "name": "stderr",
     "output_type": "stream",
     "text": [
      "Epoch 49, Loss: 0.8035, Accuracy: 0.6724, Val_Loss: 0.8617, Val_Accuracy: 0.6332\n"
     ]
    },
    {
     "name": "stdout",
     "output_type": "stream",
     "text": [
      "108/108 [==============================] - 1s 6ms/step - loss: 0.8035 - accuracy: 0.6724 - mae: 0.0776 - val_loss: 0.8617 - val_accuracy: 0.6332 - val_mae: 0.0824\n",
      "Epoch 50/150\n",
      "101/108 [===========================>..] - ETA: 0s - loss: 0.8274 - accuracy: 0.6587 - mae: 0.0800\n",
      "Epoch 50: val_accuracy did not improve from 0.67579\n"
     ]
    },
    {
     "name": "stderr",
     "output_type": "stream",
     "text": [
      "Epoch 50, Loss: 0.8270, Accuracy: 0.6599, Val_Loss: 1.0957, Val_Accuracy: 0.5481\n"
     ]
    },
    {
     "name": "stdout",
     "output_type": "stream",
     "text": [
      "108/108 [==============================] - 1s 6ms/step - loss: 0.8270 - accuracy: 0.6599 - mae: 0.0800 - val_loss: 1.0957 - val_accuracy: 0.5481 - val_mae: 0.0902\n",
      "Epoch 51/150\n",
      "100/108 [==========================>...] - ETA: 0s - loss: 0.8316 - accuracy: 0.6544 - mae: 0.0807\n",
      "Epoch 51: val_accuracy did not improve from 0.67579\n"
     ]
    },
    {
     "name": "stderr",
     "output_type": "stream",
     "text": [
      "Epoch 51, Loss: 0.8274, Accuracy: 0.6550, Val_Loss: 0.8569, Val_Accuracy: 0.6657\n"
     ]
    },
    {
     "name": "stdout",
     "output_type": "stream",
     "text": [
      "108/108 [==============================] - 1s 6ms/step - loss: 0.8274 - accuracy: 0.6550 - mae: 0.0804 - val_loss: 0.8569 - val_accuracy: 0.6657 - val_mae: 0.0822\n",
      "Epoch 52/150\n",
      "101/108 [===========================>..] - ETA: 0s - loss: 0.8098 - accuracy: 0.6587 - mae: 0.0789\n",
      "Epoch 52: val_accuracy did not improve from 0.67579\n"
     ]
    },
    {
     "name": "stderr",
     "output_type": "stream",
     "text": [
      "Epoch 52, Loss: 0.8131, Accuracy: 0.6570, Val_Loss: 0.9174, Val_Accuracy: 0.6150\n"
     ]
    },
    {
     "name": "stdout",
     "output_type": "stream",
     "text": [
      "108/108 [==============================] - 1s 6ms/step - loss: 0.8131 - accuracy: 0.6570 - mae: 0.0790 - val_loss: 0.9174 - val_accuracy: 0.6150 - val_mae: 0.0821\n",
      "Epoch 53/150\n",
      "101/108 [===========================>..] - ETA: 0s - loss: 0.8145 - accuracy: 0.6658 - mae: 0.0779\n",
      "Epoch 53: val_accuracy did not improve from 0.67579\n"
     ]
    },
    {
     "name": "stderr",
     "output_type": "stream",
     "text": [
      "Epoch 53, Loss: 0.8204, Accuracy: 0.6614, Val_Loss: 0.9074, Val_Accuracy: 0.6261\n"
     ]
    },
    {
     "name": "stdout",
     "output_type": "stream",
     "text": [
      "108/108 [==============================] - 1s 6ms/step - loss: 0.8204 - accuracy: 0.6614 - mae: 0.0784 - val_loss: 0.9074 - val_accuracy: 0.6261 - val_mae: 0.0825\n",
      "Epoch 54/150\n",
      "101/108 [===========================>..] - ETA: 0s - loss: 0.8304 - accuracy: 0.6423 - mae: 0.0814\n",
      "Epoch 54: val_accuracy did not improve from 0.67579\n"
     ]
    },
    {
     "name": "stderr",
     "output_type": "stream",
     "text": [
      "Epoch 54, Loss: 0.8278, Accuracy: 0.6417, Val_Loss: 0.7876, Val_Accuracy: 0.6727\n"
     ]
    },
    {
     "name": "stdout",
     "output_type": "stream",
     "text": [
      "108/108 [==============================] - 1s 6ms/step - loss: 0.8278 - accuracy: 0.6417 - mae: 0.0812 - val_loss: 0.7876 - val_accuracy: 0.6727 - val_mae: 0.0771\n",
      "Epoch 55/150\n",
      "101/108 [===========================>..] - ETA: 0s - loss: 0.8009 - accuracy: 0.6677 - mae: 0.0777\n",
      "Epoch 55: val_accuracy did not improve from 0.67579\n"
     ]
    },
    {
     "name": "stderr",
     "output_type": "stream",
     "text": [
      "Epoch 55, Loss: 0.8007, Accuracy: 0.6686, Val_Loss: 0.8365, Val_Accuracy: 0.6596\n"
     ]
    },
    {
     "name": "stdout",
     "output_type": "stream",
     "text": [
      "108/108 [==============================] - 1s 6ms/step - loss: 0.8007 - accuracy: 0.6686 - mae: 0.0779 - val_loss: 0.8365 - val_accuracy: 0.6596 - val_mae: 0.0802\n",
      "Epoch 56/150\n",
      "101/108 [===========================>..] - ETA: 0s - loss: 0.8026 - accuracy: 0.6631 - mae: 0.0778\n",
      "Epoch 56: val_accuracy did not improve from 0.67579\n"
     ]
    },
    {
     "name": "stderr",
     "output_type": "stream",
     "text": [
      "Epoch 56, Loss: 0.8038, Accuracy: 0.6640, Val_Loss: 0.8598, Val_Accuracy: 0.6484\n"
     ]
    },
    {
     "name": "stdout",
     "output_type": "stream",
     "text": [
      "108/108 [==============================] - 1s 6ms/step - loss: 0.8038 - accuracy: 0.6640 - mae: 0.0779 - val_loss: 0.8598 - val_accuracy: 0.6484 - val_mae: 0.0798\n",
      "Epoch 57/150\n",
      "101/108 [===========================>..] - ETA: 0s - loss: 0.8184 - accuracy: 0.6606 - mae: 0.0786\n",
      "Epoch 57: val_accuracy did not improve from 0.67579\n"
     ]
    },
    {
     "name": "stderr",
     "output_type": "stream",
     "text": [
      "Epoch 57, Loss: 0.8164, Accuracy: 0.6605, Val_Loss: 0.8107, Val_Accuracy: 0.6738\n"
     ]
    },
    {
     "name": "stdout",
     "output_type": "stream",
     "text": [
      "108/108 [==============================] - 1s 6ms/step - loss: 0.8164 - accuracy: 0.6605 - mae: 0.0788 - val_loss: 0.8107 - val_accuracy: 0.6738 - val_mae: 0.0767\n",
      "Epoch 58/150\n",
      "101/108 [===========================>..] - ETA: 0s - loss: 0.7948 - accuracy: 0.6612 - mae: 0.0776\n",
      "Epoch 58: val_accuracy did not improve from 0.67579\n"
     ]
    },
    {
     "name": "stderr",
     "output_type": "stream",
     "text": [
      "Epoch 58, Loss: 0.7950, Accuracy: 0.6619, Val_Loss: 0.8430, Val_Accuracy: 0.6707\n"
     ]
    },
    {
     "name": "stdout",
     "output_type": "stream",
     "text": [
      "108/108 [==============================] - 1s 6ms/step - loss: 0.7950 - accuracy: 0.6619 - mae: 0.0773 - val_loss: 0.8430 - val_accuracy: 0.6707 - val_mae: 0.0776\n",
      "Epoch 59/150\n",
      "101/108 [===========================>..] - ETA: 0s - loss: 0.8078 - accuracy: 0.6649 - mae: 0.0780\n",
      "Epoch 59: val_accuracy did not improve from 0.67579\n"
     ]
    },
    {
     "name": "stderr",
     "output_type": "stream",
     "text": [
      "Epoch 59, Loss: 0.8085, Accuracy: 0.6648, Val_Loss: 0.8991, Val_Accuracy: 0.6474\n"
     ]
    },
    {
     "name": "stdout",
     "output_type": "stream",
     "text": [
      "108/108 [==============================] - 1s 6ms/step - loss: 0.8085 - accuracy: 0.6648 - mae: 0.0783 - val_loss: 0.8991 - val_accuracy: 0.6474 - val_mae: 0.0856\n",
      "Epoch 60/150\n",
      "101/108 [===========================>..] - ETA: 0s - loss: 0.7973 - accuracy: 0.6711 - mae: 0.0782\n",
      "Epoch 60: val_accuracy did not improve from 0.67579\n"
     ]
    },
    {
     "name": "stderr",
     "output_type": "stream",
     "text": [
      "Epoch 60, Loss: 0.8011, Accuracy: 0.6671, Val_Loss: 0.8753, Val_Accuracy: 0.6332\n"
     ]
    },
    {
     "name": "stdout",
     "output_type": "stream",
     "text": [
      "108/108 [==============================] - 1s 6ms/step - loss: 0.8011 - accuracy: 0.6671 - mae: 0.0784 - val_loss: 0.8753 - val_accuracy: 0.6332 - val_mae: 0.0834\n",
      "Epoch 61/150\n",
      "101/108 [===========================>..] - ETA: 0s - loss: 0.7944 - accuracy: 0.6640 - mae: 0.0775\n",
      "Epoch 61: val_accuracy did not improve from 0.67579\n"
     ]
    },
    {
     "name": "stderr",
     "output_type": "stream",
     "text": [
      "Epoch 61, Loss: 0.7943, Accuracy: 0.6654, Val_Loss: 0.8253, Val_Accuracy: 0.6575\n"
     ]
    },
    {
     "name": "stdout",
     "output_type": "stream",
     "text": [
      "108/108 [==============================] - 1s 6ms/step - loss: 0.7943 - accuracy: 0.6654 - mae: 0.0774 - val_loss: 0.8253 - val_accuracy: 0.6575 - val_mae: 0.0777\n",
      "Epoch 62/150\n",
      "101/108 [===========================>..] - ETA: 0s - loss: 0.7818 - accuracy: 0.6658 - mae: 0.0765\n",
      "Epoch 62: val_accuracy did not improve from 0.67579\n"
     ]
    },
    {
     "name": "stderr",
     "output_type": "stream",
     "text": [
      "Epoch 62, Loss: 0.7766, Accuracy: 0.6706, Val_Loss: 0.8058, Val_Accuracy: 0.6565\n"
     ]
    },
    {
     "name": "stdout",
     "output_type": "stream",
     "text": [
      "108/108 [==============================] - 1s 6ms/step - loss: 0.7766 - accuracy: 0.6706 - mae: 0.0762 - val_loss: 0.8058 - val_accuracy: 0.6565 - val_mae: 0.0787\n",
      "Epoch 63/150\n",
      "100/108 [==========================>...] - ETA: 0s - loss: 0.7997 - accuracy: 0.6675 - mae: 0.0774\n",
      "Epoch 63: val_accuracy did not improve from 0.67579\n"
     ]
    },
    {
     "name": "stderr",
     "output_type": "stream",
     "text": [
      "Epoch 63, Loss: 0.7980, Accuracy: 0.6680, Val_Loss: 0.8443, Val_Accuracy: 0.6535\n"
     ]
    },
    {
     "name": "stdout",
     "output_type": "stream",
     "text": [
      "108/108 [==============================] - 1s 6ms/step - loss: 0.7980 - accuracy: 0.6680 - mae: 0.0775 - val_loss: 0.8443 - val_accuracy: 0.6535 - val_mae: 0.0811\n",
      "Epoch 64/150\n",
      "101/108 [===========================>..] - ETA: 0s - loss: 0.7982 - accuracy: 0.6705 - mae: 0.0771\n",
      "Epoch 64: val_accuracy did not improve from 0.67579\n"
     ]
    },
    {
     "name": "stderr",
     "output_type": "stream",
     "text": [
      "Epoch 64, Loss: 0.7961, Accuracy: 0.6686, Val_Loss: 0.9001, Val_Accuracy: 0.6089\n"
     ]
    },
    {
     "name": "stdout",
     "output_type": "stream",
     "text": [
      "108/108 [==============================] - 1s 6ms/step - loss: 0.7961 - accuracy: 0.6686 - mae: 0.0772 - val_loss: 0.9001 - val_accuracy: 0.6089 - val_mae: 0.0862\n",
      "Epoch 65/150\n",
      "101/108 [===========================>..] - ETA: 0s - loss: 0.7731 - accuracy: 0.6649 - mae: 0.0764\n",
      "Epoch 65: val_accuracy did not improve from 0.67579\n"
     ]
    },
    {
     "name": "stderr",
     "output_type": "stream",
     "text": [
      "Epoch 65, Loss: 0.7819, Accuracy: 0.6582, Val_Loss: 0.8494, Val_Accuracy: 0.6464\n"
     ]
    },
    {
     "name": "stdout",
     "output_type": "stream",
     "text": [
      "108/108 [==============================] - 1s 6ms/step - loss: 0.7819 - accuracy: 0.6582 - mae: 0.0770 - val_loss: 0.8494 - val_accuracy: 0.6464 - val_mae: 0.0811\n",
      "Epoch 66/150\n",
      "101/108 [===========================>..] - ETA: 0s - loss: 0.8152 - accuracy: 0.6547 - mae: 0.0785\n",
      "Epoch 66: val_accuracy did not improve from 0.67579\n"
     ]
    },
    {
     "name": "stderr",
     "output_type": "stream",
     "text": [
      "Epoch 66, Loss: 0.8120, Accuracy: 0.6559, Val_Loss: 0.8163, Val_Accuracy: 0.6758\n"
     ]
    },
    {
     "name": "stdout",
     "output_type": "stream",
     "text": [
      "108/108 [==============================] - 1s 6ms/step - loss: 0.8120 - accuracy: 0.6559 - mae: 0.0785 - val_loss: 0.8163 - val_accuracy: 0.6758 - val_mae: 0.0810\n",
      "Epoch 67/150\n",
      "101/108 [===========================>..] - ETA: 0s - loss: 0.7619 - accuracy: 0.6829 - mae: 0.0756\n",
      "Epoch 67: val_accuracy improved from 0.67579 to 0.67882, saving model to 0926-datasets-ml/ml-cn-xmu-(JmolNN)/CNNmodel-20250106_1749/best_model.h5\n"
     ]
    },
    {
     "name": "stderr",
     "output_type": "stream",
     "text": [
      "Epoch 67, Loss: 0.7636, Accuracy: 0.6810, Val_Loss: 0.7848, Val_Accuracy: 0.6788\n"
     ]
    },
    {
     "name": "stdout",
     "output_type": "stream",
     "text": [
      "108/108 [==============================] - 1s 7ms/step - loss: 0.7636 - accuracy: 0.6810 - mae: 0.0755 - val_loss: 0.7848 - val_accuracy: 0.6788 - val_mae: 0.0745\n",
      "Epoch 68/150\n",
      "101/108 [===========================>..] - ETA: 0s - loss: 0.7783 - accuracy: 0.6761 - mae: 0.0757\n",
      "Epoch 68: val_accuracy did not improve from 0.67882\n"
     ]
    },
    {
     "name": "stderr",
     "output_type": "stream",
     "text": [
      "Epoch 68, Loss: 0.7792, Accuracy: 0.6767, Val_Loss: 0.8462, Val_Accuracy: 0.6646\n"
     ]
    },
    {
     "name": "stdout",
     "output_type": "stream",
     "text": [
      "108/108 [==============================] - 1s 6ms/step - loss: 0.7792 - accuracy: 0.6767 - mae: 0.0759 - val_loss: 0.8462 - val_accuracy: 0.6646 - val_mae: 0.0801\n",
      "Epoch 69/150\n",
      "101/108 [===========================>..] - ETA: 0s - loss: 0.7741 - accuracy: 0.6674 - mae: 0.0758\n",
      "Epoch 69: val_accuracy did not improve from 0.67882\n"
     ]
    },
    {
     "name": "stderr",
     "output_type": "stream",
     "text": [
      "Epoch 69, Loss: 0.7722, Accuracy: 0.6726, Val_Loss: 0.8278, Val_Accuracy: 0.6657\n"
     ]
    },
    {
     "name": "stdout",
     "output_type": "stream",
     "text": [
      "108/108 [==============================] - 1s 6ms/step - loss: 0.7722 - accuracy: 0.6726 - mae: 0.0757 - val_loss: 0.8278 - val_accuracy: 0.6657 - val_mae: 0.0790\n",
      "Epoch 70/150\n",
      "101/108 [===========================>..] - ETA: 0s - loss: 0.7685 - accuracy: 0.6878 - mae: 0.0747\n",
      "Epoch 70: val_accuracy improved from 0.67882 to 0.68490, saving model to 0926-datasets-ml/ml-cn-xmu-(JmolNN)/CNNmodel-20250106_1749/best_model.h5\n"
     ]
    },
    {
     "name": "stderr",
     "output_type": "stream",
     "text": [
      "Epoch 70, Loss: 0.7692, Accuracy: 0.6868, Val_Loss: 0.7900, Val_Accuracy: 0.6849\n"
     ]
    },
    {
     "name": "stdout",
     "output_type": "stream",
     "text": [
      "108/108 [==============================] - 1s 7ms/step - loss: 0.7692 - accuracy: 0.6868 - mae: 0.0749 - val_loss: 0.7900 - val_accuracy: 0.6849 - val_mae: 0.0761\n",
      "Epoch 71/150\n",
      "100/108 [==========================>...] - ETA: 0s - loss: 0.7748 - accuracy: 0.6806 - mae: 0.0755\n",
      "Epoch 71: val_accuracy did not improve from 0.68490\n"
     ]
    },
    {
     "name": "stderr",
     "output_type": "stream",
     "text": [
      "Epoch 71, Loss: 0.7805, Accuracy: 0.6767, Val_Loss: 0.8156, Val_Accuracy: 0.6667\n"
     ]
    },
    {
     "name": "stdout",
     "output_type": "stream",
     "text": [
      "108/108 [==============================] - 1s 6ms/step - loss: 0.7805 - accuracy: 0.6767 - mae: 0.0758 - val_loss: 0.8156 - val_accuracy: 0.6667 - val_mae: 0.0799\n",
      "Epoch 72/150\n",
      "101/108 [===========================>..] - ETA: 0s - loss: 0.7658 - accuracy: 0.6900 - mae: 0.0754\n",
      "Epoch 72: val_accuracy did not improve from 0.68490\n"
     ]
    },
    {
     "name": "stderr",
     "output_type": "stream",
     "text": [
      "Epoch 72, Loss: 0.7741, Accuracy: 0.6868, Val_Loss: 0.8282, Val_Accuracy: 0.6636\n"
     ]
    },
    {
     "name": "stdout",
     "output_type": "stream",
     "text": [
      "108/108 [==============================] - 1s 6ms/step - loss: 0.7741 - accuracy: 0.6868 - mae: 0.0757 - val_loss: 0.8282 - val_accuracy: 0.6636 - val_mae: 0.0769\n",
      "Epoch 73/150\n",
      "101/108 [===========================>..] - ETA: 0s - loss: 0.7781 - accuracy: 0.6587 - mae: 0.0765\n",
      "Epoch 73: val_accuracy did not improve from 0.68490\n"
     ]
    },
    {
     "name": "stderr",
     "output_type": "stream",
     "text": [
      "Epoch 73, Loss: 0.7843, Accuracy: 0.6596, Val_Loss: 0.8432, Val_Accuracy: 0.6302\n"
     ]
    },
    {
     "name": "stdout",
     "output_type": "stream",
     "text": [
      "108/108 [==============================] - 1s 6ms/step - loss: 0.7843 - accuracy: 0.6596 - mae: 0.0767 - val_loss: 0.8432 - val_accuracy: 0.6302 - val_mae: 0.0830\n",
      "Epoch 74/150\n",
      "100/108 [==========================>...] - ETA: 0s - loss: 0.7730 - accuracy: 0.6778 - mae: 0.0759\n",
      "Epoch 74: val_accuracy improved from 0.68490 to 0.69200, saving model to 0926-datasets-ml/ml-cn-xmu-(JmolNN)/CNNmodel-20250106_1749/best_model.h5\n"
     ]
    },
    {
     "name": "stderr",
     "output_type": "stream",
     "text": [
      "Epoch 74, Loss: 0.7713, Accuracy: 0.6799, Val_Loss: 0.7975, Val_Accuracy: 0.6920\n"
     ]
    },
    {
     "name": "stdout",
     "output_type": "stream",
     "text": [
      "108/108 [==============================] - 1s 7ms/step - loss: 0.7713 - accuracy: 0.6799 - mae: 0.0758 - val_loss: 0.7975 - val_accuracy: 0.6920 - val_mae: 0.0762\n",
      "Epoch 75/150\n",
      "101/108 [===========================>..] - ETA: 0s - loss: 0.7774 - accuracy: 0.6655 - mae: 0.0762\n",
      "Epoch 75: val_accuracy did not improve from 0.69200\n"
     ]
    },
    {
     "name": "stderr",
     "output_type": "stream",
     "text": [
      "Epoch 75, Loss: 0.7756, Accuracy: 0.6683, Val_Loss: 0.8054, Val_Accuracy: 0.6677\n"
     ]
    },
    {
     "name": "stdout",
     "output_type": "stream",
     "text": [
      "108/108 [==============================] - 1s 6ms/step - loss: 0.7756 - accuracy: 0.6683 - mae: 0.0762 - val_loss: 0.8054 - val_accuracy: 0.6677 - val_mae: 0.0771\n",
      "Epoch 76/150\n",
      "101/108 [===========================>..] - ETA: 0s - loss: 0.7682 - accuracy: 0.6708 - mae: 0.0753\n",
      "Epoch 76: val_accuracy did not improve from 0.69200\n"
     ]
    },
    {
     "name": "stderr",
     "output_type": "stream",
     "text": [
      "Epoch 76, Loss: 0.7689, Accuracy: 0.6680, Val_Loss: 0.8615, Val_Accuracy: 0.6636\n"
     ]
    },
    {
     "name": "stdout",
     "output_type": "stream",
     "text": [
      "108/108 [==============================] - 1s 6ms/step - loss: 0.7689 - accuracy: 0.6680 - mae: 0.0755 - val_loss: 0.8615 - val_accuracy: 0.6636 - val_mae: 0.0793\n",
      "Epoch 77/150\n",
      "101/108 [===========================>..] - ETA: 0s - loss: 0.7600 - accuracy: 0.6844 - mae: 0.0745\n",
      "Epoch 77: val_accuracy did not improve from 0.69200\n"
     ]
    },
    {
     "name": "stderr",
     "output_type": "stream",
     "text": [
      "Epoch 77, Loss: 0.7602, Accuracy: 0.6848, Val_Loss: 0.8275, Val_Accuracy: 0.6717\n"
     ]
    },
    {
     "name": "stdout",
     "output_type": "stream",
     "text": [
      "108/108 [==============================] - 1s 6ms/step - loss: 0.7602 - accuracy: 0.6848 - mae: 0.0745 - val_loss: 0.8275 - val_accuracy: 0.6717 - val_mae: 0.0761\n",
      "Epoch 78/150\n",
      "101/108 [===========================>..] - ETA: 0s - loss: 0.7798 - accuracy: 0.6640 - mae: 0.0772\n",
      "Epoch 78: val_accuracy did not improve from 0.69200\n"
     ]
    },
    {
     "name": "stderr",
     "output_type": "stream",
     "text": [
      "Epoch 78, Loss: 0.7768, Accuracy: 0.6645, Val_Loss: 0.7983, Val_Accuracy: 0.6778\n"
     ]
    },
    {
     "name": "stdout",
     "output_type": "stream",
     "text": [
      "108/108 [==============================] - 1s 6ms/step - loss: 0.7768 - accuracy: 0.6645 - mae: 0.0769 - val_loss: 0.7983 - val_accuracy: 0.6778 - val_mae: 0.0766\n",
      "Epoch 79/150\n",
      "101/108 [===========================>..] - ETA: 0s - loss: 0.7747 - accuracy: 0.6702 - mae: 0.0758\n",
      "Epoch 79: val_accuracy did not improve from 0.69200\n"
     ]
    },
    {
     "name": "stderr",
     "output_type": "stream",
     "text": [
      "Epoch 79, Loss: 0.7755, Accuracy: 0.6686, Val_Loss: 0.7935, Val_Accuracy: 0.6768\n"
     ]
    },
    {
     "name": "stdout",
     "output_type": "stream",
     "text": [
      "108/108 [==============================] - 1s 6ms/step - loss: 0.7755 - accuracy: 0.6686 - mae: 0.0759 - val_loss: 0.7935 - val_accuracy: 0.6768 - val_mae: 0.0759\n",
      "Epoch 80/150\n",
      "101/108 [===========================>..] - ETA: 0s - loss: 0.7557 - accuracy: 0.6807 - mae: 0.0747\n",
      "Epoch 80: val_accuracy did not improve from 0.69200\n"
     ]
    },
    {
     "name": "stderr",
     "output_type": "stream",
     "text": [
      "Epoch 80, Loss: 0.7564, Accuracy: 0.6787, Val_Loss: 0.7951, Val_Accuracy: 0.6819\n"
     ]
    },
    {
     "name": "stdout",
     "output_type": "stream",
     "text": [
      "108/108 [==============================] - 1s 6ms/step - loss: 0.7564 - accuracy: 0.6787 - mae: 0.0745 - val_loss: 0.7951 - val_accuracy: 0.6819 - val_mae: 0.0747\n",
      "Epoch 81/150\n",
      "101/108 [===========================>..] - ETA: 0s - loss: 0.7687 - accuracy: 0.6757 - mae: 0.0752\n",
      "Epoch 81: val_accuracy did not improve from 0.69200\n"
     ]
    },
    {
     "name": "stderr",
     "output_type": "stream",
     "text": [
      "Epoch 81, Loss: 0.7705, Accuracy: 0.6770, Val_Loss: 0.8221, Val_Accuracy: 0.6636\n"
     ]
    },
    {
     "name": "stdout",
     "output_type": "stream",
     "text": [
      "108/108 [==============================] - 1s 6ms/step - loss: 0.7705 - accuracy: 0.6770 - mae: 0.0753 - val_loss: 0.8221 - val_accuracy: 0.6636 - val_mae: 0.0748\n",
      "Epoch 82/150\n",
      "101/108 [===========================>..] - ETA: 0s - loss: 0.7672 - accuracy: 0.6754 - mae: 0.0750\n",
      "Epoch 82: val_accuracy did not improve from 0.69200\n"
     ]
    },
    {
     "name": "stderr",
     "output_type": "stream",
     "text": [
      "Epoch 82, Loss: 0.7663, Accuracy: 0.6741, Val_Loss: 0.7611, Val_Accuracy: 0.6849\n"
     ]
    },
    {
     "name": "stdout",
     "output_type": "stream",
     "text": [
      "108/108 [==============================] - 1s 6ms/step - loss: 0.7663 - accuracy: 0.6741 - mae: 0.0751 - val_loss: 0.7611 - val_accuracy: 0.6849 - val_mae: 0.0739\n",
      "Epoch 83/150\n",
      "101/108 [===========================>..] - ETA: 0s - loss: 0.7523 - accuracy: 0.6878 - mae: 0.0739\n",
      "Epoch 83: val_accuracy did not improve from 0.69200\n"
     ]
    },
    {
     "name": "stderr",
     "output_type": "stream",
     "text": [
      "Epoch 83, Loss: 0.7559, Accuracy: 0.6845, Val_Loss: 0.8184, Val_Accuracy: 0.6606\n"
     ]
    },
    {
     "name": "stdout",
     "output_type": "stream",
     "text": [
      "108/108 [==============================] - 1s 6ms/step - loss: 0.7559 - accuracy: 0.6845 - mae: 0.0740 - val_loss: 0.8184 - val_accuracy: 0.6606 - val_mae: 0.0777\n",
      "Epoch 84/150\n",
      "101/108 [===========================>..] - ETA: 0s - loss: 0.7631 - accuracy: 0.6847 - mae: 0.0750\n",
      "Epoch 84: val_accuracy did not improve from 0.69200\n"
     ]
    },
    {
     "name": "stderr",
     "output_type": "stream",
     "text": [
      "Epoch 84, Loss: 0.7678, Accuracy: 0.6810, Val_Loss: 0.8191, Val_Accuracy: 0.6515\n"
     ]
    },
    {
     "name": "stdout",
     "output_type": "stream",
     "text": [
      "108/108 [==============================] - 1s 6ms/step - loss: 0.7678 - accuracy: 0.6810 - mae: 0.0754 - val_loss: 0.8191 - val_accuracy: 0.6515 - val_mae: 0.0763\n",
      "Epoch 85/150\n",
      "101/108 [===========================>..] - ETA: 0s - loss: 0.7672 - accuracy: 0.6764 - mae: 0.0751\n",
      "Epoch 85: val_accuracy did not improve from 0.69200\n"
     ]
    },
    {
     "name": "stderr",
     "output_type": "stream",
     "text": [
      "Epoch 85, Loss: 0.7676, Accuracy: 0.6738, Val_Loss: 0.7763, Val_Accuracy: 0.6636\n"
     ]
    },
    {
     "name": "stdout",
     "output_type": "stream",
     "text": [
      "108/108 [==============================] - 1s 6ms/step - loss: 0.7676 - accuracy: 0.6738 - mae: 0.0752 - val_loss: 0.7763 - val_accuracy: 0.6636 - val_mae: 0.0760\n",
      "Epoch 86/150\n",
      "101/108 [===========================>..] - ETA: 0s - loss: 0.7633 - accuracy: 0.6795 - mae: 0.0752\n",
      "Epoch 86: val_accuracy did not improve from 0.69200\n"
     ]
    },
    {
     "name": "stderr",
     "output_type": "stream",
     "text": [
      "Epoch 86, Loss: 0.7637, Accuracy: 0.6802, Val_Loss: 0.8638, Val_Accuracy: 0.6312\n"
     ]
    },
    {
     "name": "stdout",
     "output_type": "stream",
     "text": [
      "108/108 [==============================] - 1s 6ms/step - loss: 0.7637 - accuracy: 0.6802 - mae: 0.0750 - val_loss: 0.8638 - val_accuracy: 0.6312 - val_mae: 0.0796\n",
      "Epoch 87/150\n",
      "101/108 [===========================>..] - ETA: 0s - loss: 0.7626 - accuracy: 0.6751 - mae: 0.0756\n",
      "Epoch 87: val_accuracy did not improve from 0.69200\n"
     ]
    },
    {
     "name": "stderr",
     "output_type": "stream",
     "text": [
      "Epoch 87, Loss: 0.7576, Accuracy: 0.6761, Val_Loss: 0.8767, Val_Accuracy: 0.6413\n"
     ]
    },
    {
     "name": "stdout",
     "output_type": "stream",
     "text": [
      "108/108 [==============================] - 1s 6ms/step - loss: 0.7576 - accuracy: 0.6761 - mae: 0.0752 - val_loss: 0.8767 - val_accuracy: 0.6413 - val_mae: 0.0773\n",
      "Epoch 88/150\n",
      "101/108 [===========================>..] - ETA: 0s - loss: 0.7606 - accuracy: 0.6714 - mae: 0.0751\n",
      "Epoch 88: val_accuracy did not improve from 0.69200\n"
     ]
    },
    {
     "name": "stderr",
     "output_type": "stream",
     "text": [
      "Epoch 88, Loss: 0.7616, Accuracy: 0.6744, Val_Loss: 0.8320, Val_Accuracy: 0.6646\n"
     ]
    },
    {
     "name": "stdout",
     "output_type": "stream",
     "text": [
      "108/108 [==============================] - 1s 6ms/step - loss: 0.7616 - accuracy: 0.6744 - mae: 0.0752 - val_loss: 0.8320 - val_accuracy: 0.6646 - val_mae: 0.0784\n",
      "Epoch 89/150\n",
      "101/108 [===========================>..] - ETA: 0s - loss: 0.7482 - accuracy: 0.6875 - mae: 0.0733\n",
      "Epoch 89: val_accuracy did not improve from 0.69200\n"
     ]
    },
    {
     "name": "stderr",
     "output_type": "stream",
     "text": [
      "Epoch 89, Loss: 0.7493, Accuracy: 0.6874, Val_Loss: 0.7681, Val_Accuracy: 0.6839\n"
     ]
    },
    {
     "name": "stdout",
     "output_type": "stream",
     "text": [
      "108/108 [==============================] - 1s 6ms/step - loss: 0.7493 - accuracy: 0.6874 - mae: 0.0733 - val_loss: 0.7681 - val_accuracy: 0.6839 - val_mae: 0.0749\n",
      "Epoch 90/150\n",
      "101/108 [===========================>..] - ETA: 0s - loss: 0.7441 - accuracy: 0.6940 - mae: 0.0734\n",
      "Epoch 90: val_accuracy did not improve from 0.69200\n"
     ]
    },
    {
     "name": "stderr",
     "output_type": "stream",
     "text": [
      "Epoch 90, Loss: 0.7493, Accuracy: 0.6909, Val_Loss: 0.7787, Val_Accuracy: 0.6839\n"
     ]
    },
    {
     "name": "stdout",
     "output_type": "stream",
     "text": [
      "108/108 [==============================] - 1s 6ms/step - loss: 0.7493 - accuracy: 0.6909 - mae: 0.0739 - val_loss: 0.7787 - val_accuracy: 0.6839 - val_mae: 0.0747\n",
      "Epoch 91/150\n",
      "101/108 [===========================>..] - ETA: 0s - loss: 0.7511 - accuracy: 0.6841 - mae: 0.0748\n",
      "Epoch 91: val_accuracy did not improve from 0.69200\n"
     ]
    },
    {
     "name": "stderr",
     "output_type": "stream",
     "text": [
      "Epoch 91, Loss: 0.7519, Accuracy: 0.6851, Val_Loss: 0.8573, Val_Accuracy: 0.6606\n"
     ]
    },
    {
     "name": "stdout",
     "output_type": "stream",
     "text": [
      "108/108 [==============================] - 1s 6ms/step - loss: 0.7519 - accuracy: 0.6851 - mae: 0.0748 - val_loss: 0.8573 - val_accuracy: 0.6606 - val_mae: 0.0767\n",
      "Epoch 92/150\n",
      "101/108 [===========================>..] - ETA: 0s - loss: 0.7315 - accuracy: 0.6869 - mae: 0.0726\n",
      "Epoch 92: val_accuracy did not improve from 0.69200\n"
     ]
    },
    {
     "name": "stderr",
     "output_type": "stream",
     "text": [
      "Epoch 92, Loss: 0.7332, Accuracy: 0.6883, Val_Loss: 0.8629, Val_Accuracy: 0.6515\n"
     ]
    },
    {
     "name": "stdout",
     "output_type": "stream",
     "text": [
      "108/108 [==============================] - 1s 6ms/step - loss: 0.7332 - accuracy: 0.6883 - mae: 0.0727 - val_loss: 0.8629 - val_accuracy: 0.6515 - val_mae: 0.0761\n",
      "Epoch 93/150\n",
      "101/108 [===========================>..] - ETA: 0s - loss: 0.7616 - accuracy: 0.6860 - mae: 0.0738\n",
      "Epoch 93: val_accuracy did not improve from 0.69200\n"
     ]
    },
    {
     "name": "stderr",
     "output_type": "stream",
     "text": [
      "Epoch 93, Loss: 0.7579, Accuracy: 0.6868, Val_Loss: 0.7803, Val_Accuracy: 0.6738\n"
     ]
    },
    {
     "name": "stdout",
     "output_type": "stream",
     "text": [
      "108/108 [==============================] - 1s 6ms/step - loss: 0.7579 - accuracy: 0.6868 - mae: 0.0736 - val_loss: 0.7803 - val_accuracy: 0.6738 - val_mae: 0.0746\n",
      "Epoch 94/150\n",
      "101/108 [===========================>..] - ETA: 0s - loss: 0.7467 - accuracy: 0.6853 - mae: 0.0730\n",
      "Epoch 94: val_accuracy did not improve from 0.69200\n"
     ]
    },
    {
     "name": "stderr",
     "output_type": "stream",
     "text": [
      "Epoch 94, Loss: 0.7540, Accuracy: 0.6836, Val_Loss: 0.7747, Val_Accuracy: 0.6920\n"
     ]
    },
    {
     "name": "stdout",
     "output_type": "stream",
     "text": [
      "108/108 [==============================] - 1s 6ms/step - loss: 0.7540 - accuracy: 0.6836 - mae: 0.0737 - val_loss: 0.7747 - val_accuracy: 0.6920 - val_mae: 0.0740\n",
      "Epoch 95/150\n",
      "101/108 [===========================>..] - ETA: 0s - loss: 0.7478 - accuracy: 0.6825 - mae: 0.0736\n",
      "Epoch 95: val_accuracy did not improve from 0.69200\n"
     ]
    },
    {
     "name": "stderr",
     "output_type": "stream",
     "text": [
      "Epoch 95, Loss: 0.7451, Accuracy: 0.6860, Val_Loss: 0.7712, Val_Accuracy: 0.6920\n"
     ]
    },
    {
     "name": "stdout",
     "output_type": "stream",
     "text": [
      "108/108 [==============================] - 1s 6ms/step - loss: 0.7451 - accuracy: 0.6860 - mae: 0.0736 - val_loss: 0.7712 - val_accuracy: 0.6920 - val_mae: 0.0752\n",
      "Epoch 96/150\n",
      "101/108 [===========================>..] - ETA: 0s - loss: 0.7334 - accuracy: 0.6890 - mae: 0.0722\n",
      "Epoch 96: val_accuracy did not improve from 0.69200\n"
     ]
    },
    {
     "name": "stderr",
     "output_type": "stream",
     "text": [
      "Epoch 96, Loss: 0.7324, Accuracy: 0.6897, Val_Loss: 0.8053, Val_Accuracy: 0.6727\n"
     ]
    },
    {
     "name": "stdout",
     "output_type": "stream",
     "text": [
      "108/108 [==============================] - 1s 6ms/step - loss: 0.7324 - accuracy: 0.6897 - mae: 0.0722 - val_loss: 0.8053 - val_accuracy: 0.6727 - val_mae: 0.0753\n",
      "Epoch 97/150\n",
      "101/108 [===========================>..] - ETA: 0s - loss: 0.7459 - accuracy: 0.6850 - mae: 0.0730\n",
      "Epoch 97: val_accuracy did not improve from 0.69200\n"
     ]
    },
    {
     "name": "stderr",
     "output_type": "stream",
     "text": [
      "Epoch 97, Loss: 0.7420, Accuracy: 0.6909, Val_Loss: 0.8258, Val_Accuracy: 0.6707\n"
     ]
    },
    {
     "name": "stdout",
     "output_type": "stream",
     "text": [
      "108/108 [==============================] - 1s 6ms/step - loss: 0.7420 - accuracy: 0.6909 - mae: 0.0728 - val_loss: 0.8258 - val_accuracy: 0.6707 - val_mae: 0.0762\n",
      "Epoch 98/150\n",
      "101/108 [===========================>..] - ETA: 0s - loss: 0.7466 - accuracy: 0.6841 - mae: 0.0734\n",
      "Epoch 98: val_accuracy did not improve from 0.69200\n"
     ]
    },
    {
     "name": "stderr",
     "output_type": "stream",
     "text": [
      "Epoch 98, Loss: 0.7559, Accuracy: 0.6808, Val_Loss: 0.8357, Val_Accuracy: 0.6596\n"
     ]
    },
    {
     "name": "stdout",
     "output_type": "stream",
     "text": [
      "108/108 [==============================] - 1s 6ms/step - loss: 0.7559 - accuracy: 0.6808 - mae: 0.0742 - val_loss: 0.8357 - val_accuracy: 0.6596 - val_mae: 0.0820\n",
      "Epoch 99/150\n",
      "101/108 [===========================>..] - ETA: 0s - loss: 0.7662 - accuracy: 0.6779 - mae: 0.0757\n",
      "Epoch 99: val_accuracy improved from 0.69200 to 0.69504, saving model to 0926-datasets-ml/ml-cn-xmu-(JmolNN)/CNNmodel-20250106_1749/best_model.h5\n"
     ]
    },
    {
     "name": "stderr",
     "output_type": "stream",
     "text": [
      "Epoch 99, Loss: 0.7668, Accuracy: 0.6796, Val_Loss: 0.7615, Val_Accuracy: 0.6950\n"
     ]
    },
    {
     "name": "stdout",
     "output_type": "stream",
     "text": [
      "108/108 [==============================] - 1s 7ms/step - loss: 0.7668 - accuracy: 0.6796 - mae: 0.0757 - val_loss: 0.7615 - val_accuracy: 0.6950 - val_mae: 0.0745\n",
      "Epoch 100/150\n",
      "101/108 [===========================>..] - ETA: 0s - loss: 0.7575 - accuracy: 0.6785 - mae: 0.0746\n",
      "Epoch 100: val_accuracy did not improve from 0.69504\n"
     ]
    },
    {
     "name": "stderr",
     "output_type": "stream",
     "text": [
      "Epoch 100, Loss: 0.7578, Accuracy: 0.6773, Val_Loss: 0.7795, Val_Accuracy: 0.6727\n"
     ]
    },
    {
     "name": "stdout",
     "output_type": "stream",
     "text": [
      "108/108 [==============================] - 1s 6ms/step - loss: 0.7578 - accuracy: 0.6773 - mae: 0.0747 - val_loss: 0.7795 - val_accuracy: 0.6727 - val_mae: 0.0746\n",
      "Epoch 101/150\n",
      "101/108 [===========================>..] - ETA: 0s - loss: 0.7476 - accuracy: 0.6847 - mae: 0.0738\n",
      "Epoch 101: val_accuracy did not improve from 0.69504\n"
     ]
    },
    {
     "name": "stderr",
     "output_type": "stream",
     "text": [
      "Epoch 101, Loss: 0.7461, Accuracy: 0.6857, Val_Loss: 0.7687, Val_Accuracy: 0.6809\n"
     ]
    },
    {
     "name": "stdout",
     "output_type": "stream",
     "text": [
      "108/108 [==============================] - 1s 6ms/step - loss: 0.7461 - accuracy: 0.6857 - mae: 0.0737 - val_loss: 0.7687 - val_accuracy: 0.6809 - val_mae: 0.0722\n",
      "Epoch 102/150\n",
      "101/108 [===========================>..] - ETA: 0s - loss: 0.7402 - accuracy: 0.6853 - mae: 0.0734\n",
      "Epoch 102: val_accuracy did not improve from 0.69504\n"
     ]
    },
    {
     "name": "stderr",
     "output_type": "stream",
     "text": [
      "Epoch 102, Loss: 0.7348, Accuracy: 0.6880, Val_Loss: 0.8158, Val_Accuracy: 0.6677\n"
     ]
    },
    {
     "name": "stdout",
     "output_type": "stream",
     "text": [
      "108/108 [==============================] - 1s 6ms/step - loss: 0.7348 - accuracy: 0.6880 - mae: 0.0730 - val_loss: 0.8158 - val_accuracy: 0.6677 - val_mae: 0.0750\n",
      "Epoch 103/150\n",
      "101/108 [===========================>..] - ETA: 0s - loss: 0.7367 - accuracy: 0.6974 - mae: 0.0726\n",
      "Epoch 103: val_accuracy did not improve from 0.69504\n"
     ]
    },
    {
     "name": "stderr",
     "output_type": "stream",
     "text": [
      "Epoch 103, Loss: 0.7393, Accuracy: 0.6967, Val_Loss: 0.7618, Val_Accuracy: 0.6890\n"
     ]
    },
    {
     "name": "stdout",
     "output_type": "stream",
     "text": [
      "108/108 [==============================] - 1s 6ms/step - loss: 0.7393 - accuracy: 0.6967 - mae: 0.0729 - val_loss: 0.7618 - val_accuracy: 0.6890 - val_mae: 0.0742\n",
      "Epoch 104/150\n",
      "101/108 [===========================>..] - ETA: 0s - loss: 0.7490 - accuracy: 0.6884 - mae: 0.0736\n",
      "Epoch 104: val_accuracy did not improve from 0.69504\n"
     ]
    },
    {
     "name": "stderr",
     "output_type": "stream",
     "text": [
      "Epoch 104, Loss: 0.7518, Accuracy: 0.6874, Val_Loss: 0.8476, Val_Accuracy: 0.6403\n"
     ]
    },
    {
     "name": "stdout",
     "output_type": "stream",
     "text": [
      "108/108 [==============================] - 1s 6ms/step - loss: 0.7518 - accuracy: 0.6874 - mae: 0.0739 - val_loss: 0.8476 - val_accuracy: 0.6403 - val_mae: 0.0821\n",
      "Epoch 105/150\n",
      "101/108 [===========================>..] - ETA: 0s - loss: 0.7361 - accuracy: 0.6878 - mae: 0.0731\n",
      "Epoch 105: val_accuracy did not improve from 0.69504\n"
     ]
    },
    {
     "name": "stderr",
     "output_type": "stream",
     "text": [
      "Epoch 105, Loss: 0.7366, Accuracy: 0.6874, Val_Loss: 0.8668, Val_Accuracy: 0.6413\n"
     ]
    },
    {
     "name": "stdout",
     "output_type": "stream",
     "text": [
      "108/108 [==============================] - 1s 6ms/step - loss: 0.7366 - accuracy: 0.6874 - mae: 0.0732 - val_loss: 0.8668 - val_accuracy: 0.6413 - val_mae: 0.0795\n",
      "Epoch 106/150\n",
      "101/108 [===========================>..] - ETA: 0s - loss: 0.7352 - accuracy: 0.6977 - mae: 0.0724\n",
      "Epoch 106: val_accuracy did not improve from 0.69504\n"
     ]
    },
    {
     "name": "stderr",
     "output_type": "stream",
     "text": [
      "Epoch 106, Loss: 0.7400, Accuracy: 0.6967, Val_Loss: 0.8581, Val_Accuracy: 0.6545\n"
     ]
    },
    {
     "name": "stdout",
     "output_type": "stream",
     "text": [
      "108/108 [==============================] - 1s 6ms/step - loss: 0.7400 - accuracy: 0.6967 - mae: 0.0726 - val_loss: 0.8581 - val_accuracy: 0.6545 - val_mae: 0.0800\n",
      "Epoch 107/150\n",
      "101/108 [===========================>..] - ETA: 0s - loss: 0.7322 - accuracy: 0.6866 - mae: 0.0729\n",
      "Epoch 107: val_accuracy did not improve from 0.69504\n"
     ]
    },
    {
     "name": "stderr",
     "output_type": "stream",
     "text": [
      "Epoch 107, Loss: 0.7316, Accuracy: 0.6883, Val_Loss: 0.7942, Val_Accuracy: 0.6717\n"
     ]
    },
    {
     "name": "stdout",
     "output_type": "stream",
     "text": [
      "108/108 [==============================] - 1s 6ms/step - loss: 0.7316 - accuracy: 0.6883 - mae: 0.0728 - val_loss: 0.7942 - val_accuracy: 0.6717 - val_mae: 0.0732\n",
      "Epoch 108/150\n",
      "101/108 [===========================>..] - ETA: 0s - loss: 0.7354 - accuracy: 0.6890 - mae: 0.0723\n",
      "Epoch 108: val_accuracy did not improve from 0.69504\n"
     ]
    },
    {
     "name": "stderr",
     "output_type": "stream",
     "text": [
      "Epoch 108, Loss: 0.7346, Accuracy: 0.6889, Val_Loss: 0.8334, Val_Accuracy: 0.6312\n"
     ]
    },
    {
     "name": "stdout",
     "output_type": "stream",
     "text": [
      "108/108 [==============================] - 1s 6ms/step - loss: 0.7346 - accuracy: 0.6889 - mae: 0.0722 - val_loss: 0.8334 - val_accuracy: 0.6312 - val_mae: 0.0808\n",
      "Epoch 109/150\n",
      "102/108 [===========================>..] - ETA: 0s - loss: 0.7349 - accuracy: 0.6829 - mae: 0.0726\n",
      "Epoch 109: val_accuracy did not improve from 0.69504\n"
     ]
    },
    {
     "name": "stderr",
     "output_type": "stream",
     "text": [
      "Epoch 109, Loss: 0.7399, Accuracy: 0.6796, Val_Loss: 0.8309, Val_Accuracy: 0.6586\n"
     ]
    },
    {
     "name": "stdout",
     "output_type": "stream",
     "text": [
      "108/108 [==============================] - 1s 6ms/step - loss: 0.7399 - accuracy: 0.6796 - mae: 0.0730 - val_loss: 0.8309 - val_accuracy: 0.6586 - val_mae: 0.0759\n",
      "Epoch 110/150\n",
      "101/108 [===========================>..] - ETA: 0s - loss: 0.7344 - accuracy: 0.6993 - mae: 0.0721\n",
      "Epoch 110: val_accuracy did not improve from 0.69504\n"
     ]
    },
    {
     "name": "stderr",
     "output_type": "stream",
     "text": [
      "Epoch 110, Loss: 0.7353, Accuracy: 0.6967, Val_Loss: 0.8529, Val_Accuracy: 0.6373\n"
     ]
    },
    {
     "name": "stdout",
     "output_type": "stream",
     "text": [
      "108/108 [==============================] - 1s 6ms/step - loss: 0.7353 - accuracy: 0.6967 - mae: 0.0721 - val_loss: 0.8529 - val_accuracy: 0.6373 - val_mae: 0.0789\n",
      "Epoch 111/150\n",
      "101/108 [===========================>..] - ETA: 0s - loss: 0.7433 - accuracy: 0.6869 - mae: 0.0732\n",
      "Epoch 111: val_accuracy did not improve from 0.69504\n"
     ]
    },
    {
     "name": "stderr",
     "output_type": "stream",
     "text": [
      "Epoch 111, Loss: 0.7445, Accuracy: 0.6877, Val_Loss: 0.8664, Val_Accuracy: 0.6332\n"
     ]
    },
    {
     "name": "stdout",
     "output_type": "stream",
     "text": [
      "108/108 [==============================] - 1s 6ms/step - loss: 0.7445 - accuracy: 0.6877 - mae: 0.0732 - val_loss: 0.8664 - val_accuracy: 0.6332 - val_mae: 0.0814\n",
      "Epoch 112/150\n",
      "101/108 [===========================>..] - ETA: 0s - loss: 0.7320 - accuracy: 0.6983 - mae: 0.0722\n",
      "Epoch 112: val_accuracy did not improve from 0.69504\n"
     ]
    },
    {
     "name": "stderr",
     "output_type": "stream",
     "text": [
      "Epoch 112, Loss: 0.7310, Accuracy: 0.6984, Val_Loss: 0.7666, Val_Accuracy: 0.6940\n"
     ]
    },
    {
     "name": "stdout",
     "output_type": "stream",
     "text": [
      "108/108 [==============================] - 1s 6ms/step - loss: 0.7310 - accuracy: 0.6984 - mae: 0.0719 - val_loss: 0.7666 - val_accuracy: 0.6940 - val_mae: 0.0737\n",
      "Epoch 113/150\n",
      "101/108 [===========================>..] - ETA: 0s - loss: 0.7359 - accuracy: 0.6881 - mae: 0.0725\n",
      "Epoch 113: val_accuracy did not improve from 0.69504\n"
     ]
    },
    {
     "name": "stderr",
     "output_type": "stream",
     "text": [
      "Epoch 113, Loss: 0.7365, Accuracy: 0.6880, Val_Loss: 0.8137, Val_Accuracy: 0.6555\n"
     ]
    },
    {
     "name": "stdout",
     "output_type": "stream",
     "text": [
      "108/108 [==============================] - 1s 6ms/step - loss: 0.7365 - accuracy: 0.6880 - mae: 0.0725 - val_loss: 0.8137 - val_accuracy: 0.6555 - val_mae: 0.0756\n",
      "Epoch 114/150\n",
      "101/108 [===========================>..] - ETA: 0s - loss: 0.7219 - accuracy: 0.6962 - mae: 0.0717\n",
      "Epoch 114: val_accuracy did not improve from 0.69504\n"
     ]
    },
    {
     "name": "stderr",
     "output_type": "stream",
     "text": [
      "Epoch 114, Loss: 0.7273, Accuracy: 0.6949, Val_Loss: 0.8385, Val_Accuracy: 0.6555\n"
     ]
    },
    {
     "name": "stdout",
     "output_type": "stream",
     "text": [
      "108/108 [==============================] - 1s 6ms/step - loss: 0.7273 - accuracy: 0.6949 - mae: 0.0721 - val_loss: 0.8385 - val_accuracy: 0.6555 - val_mae: 0.0777\n",
      "Epoch 115/150\n",
      "101/108 [===========================>..] - ETA: 0s - loss: 0.7289 - accuracy: 0.6968 - mae: 0.0718\n",
      "Epoch 115: val_accuracy did not improve from 0.69504\n"
     ]
    },
    {
     "name": "stderr",
     "output_type": "stream",
     "text": [
      "Epoch 115, Loss: 0.7338, Accuracy: 0.6946, Val_Loss: 0.7955, Val_Accuracy: 0.6859\n"
     ]
    },
    {
     "name": "stdout",
     "output_type": "stream",
     "text": [
      "108/108 [==============================] - 1s 6ms/step - loss: 0.7338 - accuracy: 0.6946 - mae: 0.0721 - val_loss: 0.7955 - val_accuracy: 0.6859 - val_mae: 0.0749\n",
      "Epoch 116/150\n",
      "101/108 [===========================>..] - ETA: 0s - loss: 0.7507 - accuracy: 0.6869 - mae: 0.0738\n",
      "Epoch 116: val_accuracy did not improve from 0.69504\n"
     ]
    },
    {
     "name": "stderr",
     "output_type": "stream",
     "text": [
      "Epoch 116, Loss: 0.7452, Accuracy: 0.6874, Val_Loss: 0.7820, Val_Accuracy: 0.6717\n"
     ]
    },
    {
     "name": "stdout",
     "output_type": "stream",
     "text": [
      "108/108 [==============================] - 1s 6ms/step - loss: 0.7452 - accuracy: 0.6874 - mae: 0.0736 - val_loss: 0.7820 - val_accuracy: 0.6717 - val_mae: 0.0746\n",
      "Epoch 117/150\n",
      "101/108 [===========================>..] - ETA: 0s - loss: 0.7456 - accuracy: 0.6931 - mae: 0.0737\n",
      "Epoch 117: val_accuracy did not improve from 0.69504\n"
     ]
    },
    {
     "name": "stderr",
     "output_type": "stream",
     "text": [
      "Epoch 117, Loss: 0.7493, Accuracy: 0.6915, Val_Loss: 0.7815, Val_Accuracy: 0.6849\n"
     ]
    },
    {
     "name": "stdout",
     "output_type": "stream",
     "text": [
      "108/108 [==============================] - 1s 6ms/step - loss: 0.7493 - accuracy: 0.6915 - mae: 0.0740 - val_loss: 0.7815 - val_accuracy: 0.6849 - val_mae: 0.0742\n",
      "Epoch 118/150\n",
      "101/108 [===========================>..] - ETA: 0s - loss: 0.7156 - accuracy: 0.6993 - mae: 0.0705\n",
      "Epoch 118: val_accuracy did not improve from 0.69504\n"
     ]
    },
    {
     "name": "stderr",
     "output_type": "stream",
     "text": [
      "Epoch 118, Loss: 0.7163, Accuracy: 0.7001, Val_Loss: 0.7845, Val_Accuracy: 0.6849\n"
     ]
    },
    {
     "name": "stdout",
     "output_type": "stream",
     "text": [
      "108/108 [==============================] - 1s 6ms/step - loss: 0.7163 - accuracy: 0.7001 - mae: 0.0707 - val_loss: 0.7845 - val_accuracy: 0.6849 - val_mae: 0.0751\n",
      "Epoch 119/150\n",
      "101/108 [===========================>..] - ETA: 0s - loss: 0.7232 - accuracy: 0.6940 - mae: 0.0717\n",
      "Epoch 119: val_accuracy did not improve from 0.69504\n"
     ]
    },
    {
     "name": "stderr",
     "output_type": "stream",
     "text": [
      "Epoch 119, Loss: 0.7171, Accuracy: 0.6973, Val_Loss: 0.7909, Val_Accuracy: 0.6778\n"
     ]
    },
    {
     "name": "stdout",
     "output_type": "stream",
     "text": [
      "108/108 [==============================] - 1s 6ms/step - loss: 0.7171 - accuracy: 0.6973 - mae: 0.0713 - val_loss: 0.7909 - val_accuracy: 0.6778 - val_mae: 0.0725\n",
      "Epoch 120/150\n",
      "101/108 [===========================>..] - ETA: 0s - loss: 0.7304 - accuracy: 0.7008 - mae: 0.0714\n",
      "Epoch 120: val_accuracy did not improve from 0.69504\n"
     ]
    },
    {
     "name": "stderr",
     "output_type": "stream",
     "text": [
      "Epoch 120, Loss: 0.7286, Accuracy: 0.6996, Val_Loss: 0.7572, Val_Accuracy: 0.6890\n"
     ]
    },
    {
     "name": "stdout",
     "output_type": "stream",
     "text": [
      "108/108 [==============================] - 1s 6ms/step - loss: 0.7286 - accuracy: 0.6996 - mae: 0.0714 - val_loss: 0.7572 - val_accuracy: 0.6890 - val_mae: 0.0715\n",
      "Epoch 121/150\n",
      "100/108 [==========================>...] - ETA: 0s - loss: 0.7248 - accuracy: 0.6947 - mae: 0.0718\n",
      "Epoch 121: val_accuracy did not improve from 0.69504\n"
     ]
    },
    {
     "name": "stderr",
     "output_type": "stream",
     "text": [
      "Epoch 121, Loss: 0.7305, Accuracy: 0.6900, Val_Loss: 0.7622, Val_Accuracy: 0.6930\n"
     ]
    },
    {
     "name": "stdout",
     "output_type": "stream",
     "text": [
      "108/108 [==============================] - 1s 6ms/step - loss: 0.7305 - accuracy: 0.6900 - mae: 0.0722 - val_loss: 0.7622 - val_accuracy: 0.6930 - val_mae: 0.0741\n",
      "Epoch 122/150\n",
      "101/108 [===========================>..] - ETA: 0s - loss: 0.7400 - accuracy: 0.6974 - mae: 0.0734\n",
      "Epoch 122: val_accuracy did not improve from 0.69504\n"
     ]
    },
    {
     "name": "stderr",
     "output_type": "stream",
     "text": [
      "Epoch 122, Loss: 0.7504, Accuracy: 0.6891, Val_Loss: 0.9117, Val_Accuracy: 0.5866\n"
     ]
    },
    {
     "name": "stdout",
     "output_type": "stream",
     "text": [
      "108/108 [==============================] - 1s 6ms/step - loss: 0.7504 - accuracy: 0.6891 - mae: 0.0739 - val_loss: 0.9117 - val_accuracy: 0.5866 - val_mae: 0.0849\n",
      "Epoch 123/150\n",
      "101/108 [===========================>..] - ETA: 0s - loss: 0.7509 - accuracy: 0.6757 - mae: 0.0750\n",
      "Epoch 123: val_accuracy did not improve from 0.69504\n"
     ]
    },
    {
     "name": "stderr",
     "output_type": "stream",
     "text": [
      "Epoch 123, Loss: 0.7525, Accuracy: 0.6750, Val_Loss: 0.7448, Val_Accuracy: 0.6900\n"
     ]
    },
    {
     "name": "stdout",
     "output_type": "stream",
     "text": [
      "108/108 [==============================] - 1s 6ms/step - loss: 0.7525 - accuracy: 0.6750 - mae: 0.0749 - val_loss: 0.7448 - val_accuracy: 0.6900 - val_mae: 0.0722\n",
      "Epoch 124/150\n",
      "101/108 [===========================>..] - ETA: 0s - loss: 0.7266 - accuracy: 0.6925 - mae: 0.0722\n",
      "Epoch 124: val_accuracy did not improve from 0.69504\n"
     ]
    },
    {
     "name": "stderr",
     "output_type": "stream",
     "text": [
      "Epoch 124, Loss: 0.7302, Accuracy: 0.6938, Val_Loss: 0.7572, Val_Accuracy: 0.6900\n"
     ]
    },
    {
     "name": "stdout",
     "output_type": "stream",
     "text": [
      "108/108 [==============================] - 1s 6ms/step - loss: 0.7302 - accuracy: 0.6938 - mae: 0.0724 - val_loss: 0.7572 - val_accuracy: 0.6900 - val_mae: 0.0745\n",
      "Epoch 125/150\n",
      "101/108 [===========================>..] - ETA: 0s - loss: 0.7188 - accuracy: 0.6937 - mae: 0.0713\n",
      "Epoch 125: val_accuracy did not improve from 0.69504\n"
     ]
    },
    {
     "name": "stderr",
     "output_type": "stream",
     "text": [
      "Epoch 125, Loss: 0.7213, Accuracy: 0.6909, Val_Loss: 0.7627, Val_Accuracy: 0.6809\n"
     ]
    },
    {
     "name": "stdout",
     "output_type": "stream",
     "text": [
      "108/108 [==============================] - 1s 6ms/step - loss: 0.7213 - accuracy: 0.6909 - mae: 0.0715 - val_loss: 0.7627 - val_accuracy: 0.6809 - val_mae: 0.0734\n",
      "Epoch 126/150\n",
      "101/108 [===========================>..] - ETA: 0s - loss: 0.7170 - accuracy: 0.7020 - mae: 0.0708\n",
      "Epoch 126: val_accuracy did not improve from 0.69504\n"
     ]
    },
    {
     "name": "stderr",
     "output_type": "stream",
     "text": [
      "Epoch 126, Loss: 0.7181, Accuracy: 0.7001, Val_Loss: 0.8984, Val_Accuracy: 0.6494\n"
     ]
    },
    {
     "name": "stdout",
     "output_type": "stream",
     "text": [
      "108/108 [==============================] - 1s 6ms/step - loss: 0.7181 - accuracy: 0.7001 - mae: 0.0708 - val_loss: 0.8984 - val_accuracy: 0.6494 - val_mae: 0.0757\n",
      "Epoch 127/150\n",
      "101/108 [===========================>..] - ETA: 0s - loss: 0.7327 - accuracy: 0.6928 - mae: 0.0722\n",
      "Epoch 127: val_accuracy did not improve from 0.69504\n"
     ]
    },
    {
     "name": "stderr",
     "output_type": "stream",
     "text": [
      "Epoch 127, Loss: 0.7269, Accuracy: 0.6978, Val_Loss: 0.8192, Val_Accuracy: 0.6667\n"
     ]
    },
    {
     "name": "stdout",
     "output_type": "stream",
     "text": [
      "108/108 [==============================] - 1s 6ms/step - loss: 0.7269 - accuracy: 0.6978 - mae: 0.0717 - val_loss: 0.8192 - val_accuracy: 0.6667 - val_mae: 0.0754\n",
      "Epoch 128/150\n",
      "101/108 [===========================>..] - ETA: 0s - loss: 0.7260 - accuracy: 0.6887 - mae: 0.0719\n",
      "Epoch 128: val_accuracy did not improve from 0.69504\n"
     ]
    },
    {
     "name": "stderr",
     "output_type": "stream",
     "text": [
      "Epoch 128, Loss: 0.7235, Accuracy: 0.6889, Val_Loss: 0.7963, Val_Accuracy: 0.6748\n"
     ]
    },
    {
     "name": "stdout",
     "output_type": "stream",
     "text": [
      "108/108 [==============================] - 1s 6ms/step - loss: 0.7235 - accuracy: 0.6889 - mae: 0.0718 - val_loss: 0.7963 - val_accuracy: 0.6748 - val_mae: 0.0729\n",
      "Epoch 129/150\n",
      "100/108 [==========================>...] - ETA: 0s - loss: 0.7296 - accuracy: 0.6913 - mae: 0.0722\n",
      "Epoch 129: val_accuracy did not improve from 0.69504\n"
     ]
    },
    {
     "name": "stderr",
     "output_type": "stream",
     "text": [
      "Epoch 129, Loss: 0.7274, Accuracy: 0.6923, Val_Loss: 0.8392, Val_Accuracy: 0.6565\n"
     ]
    },
    {
     "name": "stdout",
     "output_type": "stream",
     "text": [
      "108/108 [==============================] - 1s 6ms/step - loss: 0.7274 - accuracy: 0.6923 - mae: 0.0718 - val_loss: 0.8392 - val_accuracy: 0.6565 - val_mae: 0.0769\n",
      "Epoch 130/150\n",
      "101/108 [===========================>..] - ETA: 0s - loss: 0.7405 - accuracy: 0.7008 - mae: 0.0726\n",
      "Epoch 130: val_accuracy did not improve from 0.69504\n"
     ]
    },
    {
     "name": "stderr",
     "output_type": "stream",
     "text": [
      "Epoch 130, Loss: 0.7386, Accuracy: 0.7004, Val_Loss: 0.7687, Val_Accuracy: 0.6819\n"
     ]
    },
    {
     "name": "stdout",
     "output_type": "stream",
     "text": [
      "108/108 [==============================] - 1s 6ms/step - loss: 0.7386 - accuracy: 0.7004 - mae: 0.0724 - val_loss: 0.7687 - val_accuracy: 0.6819 - val_mae: 0.0743\n",
      "Epoch 131/150\n",
      "101/108 [===========================>..] - ETA: 0s - loss: 0.7030 - accuracy: 0.6983 - mae: 0.0699\n",
      "Epoch 131: val_accuracy did not improve from 0.69504\n"
     ]
    },
    {
     "name": "stderr",
     "output_type": "stream",
     "text": [
      "Epoch 131, Loss: 0.7146, Accuracy: 0.6918, Val_Loss: 0.9362, Val_Accuracy: 0.5968\n"
     ]
    },
    {
     "name": "stdout",
     "output_type": "stream",
     "text": [
      "108/108 [==============================] - 1s 6ms/step - loss: 0.7146 - accuracy: 0.6918 - mae: 0.0708 - val_loss: 0.9362 - val_accuracy: 0.5968 - val_mae: 0.0845\n",
      "Epoch 132/150\n",
      "101/108 [===========================>..] - ETA: 0s - loss: 0.7327 - accuracy: 0.6977 - mae: 0.0727\n",
      "Epoch 132: val_accuracy did not improve from 0.69504\n"
     ]
    },
    {
     "name": "stderr",
     "output_type": "stream",
     "text": [
      "Epoch 132, Loss: 0.7324, Accuracy: 0.6990, Val_Loss: 0.7474, Val_Accuracy: 0.6727\n"
     ]
    },
    {
     "name": "stdout",
     "output_type": "stream",
     "text": [
      "108/108 [==============================] - 1s 6ms/step - loss: 0.7324 - accuracy: 0.6990 - mae: 0.0727 - val_loss: 0.7474 - val_accuracy: 0.6727 - val_mae: 0.0729\n",
      "Epoch 133/150\n",
      "101/108 [===========================>..] - ETA: 0s - loss: 0.7110 - accuracy: 0.6965 - mae: 0.0704\n",
      "Epoch 133: val_accuracy did not improve from 0.69504\n"
     ]
    },
    {
     "name": "stderr",
     "output_type": "stream",
     "text": [
      "Epoch 133, Loss: 0.7110, Accuracy: 0.6970, Val_Loss: 0.7737, Val_Accuracy: 0.6869\n"
     ]
    },
    {
     "name": "stdout",
     "output_type": "stream",
     "text": [
      "108/108 [==============================] - 1s 6ms/step - loss: 0.7110 - accuracy: 0.6970 - mae: 0.0704 - val_loss: 0.7737 - val_accuracy: 0.6869 - val_mae: 0.0725\n",
      "Epoch 134/150\n",
      "101/108 [===========================>..] - ETA: 0s - loss: 0.7101 - accuracy: 0.7070 - mae: 0.0700\n",
      "Epoch 134: val_accuracy did not improve from 0.69504\n"
     ]
    },
    {
     "name": "stderr",
     "output_type": "stream",
     "text": [
      "Epoch 134, Loss: 0.7109, Accuracy: 0.7059, Val_Loss: 0.7566, Val_Accuracy: 0.6677\n"
     ]
    },
    {
     "name": "stdout",
     "output_type": "stream",
     "text": [
      "108/108 [==============================] - 1s 6ms/step - loss: 0.7109 - accuracy: 0.7059 - mae: 0.0703 - val_loss: 0.7566 - val_accuracy: 0.6677 - val_mae: 0.0743\n",
      "Epoch 135/150\n",
      "101/108 [===========================>..] - ETA: 0s - loss: 0.7243 - accuracy: 0.7008 - mae: 0.0712\n",
      "Epoch 135: val_accuracy did not improve from 0.69504\n"
     ]
    },
    {
     "name": "stderr",
     "output_type": "stream",
     "text": [
      "Epoch 135, Loss: 0.7248, Accuracy: 0.6984, Val_Loss: 0.8241, Val_Accuracy: 0.6697\n"
     ]
    },
    {
     "name": "stdout",
     "output_type": "stream",
     "text": [
      "108/108 [==============================] - 1s 6ms/step - loss: 0.7248 - accuracy: 0.6984 - mae: 0.0714 - val_loss: 0.8241 - val_accuracy: 0.6697 - val_mae: 0.0735\n",
      "Epoch 136/150\n",
      "101/108 [===========================>..] - ETA: 0s - loss: 0.7190 - accuracy: 0.7042 - mae: 0.0708\n",
      "Epoch 136: val_accuracy did not improve from 0.69504\n"
     ]
    },
    {
     "name": "stderr",
     "output_type": "stream",
     "text": [
      "Epoch 136, Loss: 0.7133, Accuracy: 0.7065, Val_Loss: 0.8435, Val_Accuracy: 0.6272\n"
     ]
    },
    {
     "name": "stdout",
     "output_type": "stream",
     "text": [
      "108/108 [==============================] - 1s 6ms/step - loss: 0.7133 - accuracy: 0.7065 - mae: 0.0705 - val_loss: 0.8435 - val_accuracy: 0.6272 - val_mae: 0.0804\n",
      "Epoch 137/150\n",
      "101/108 [===========================>..] - ETA: 0s - loss: 0.7151 - accuracy: 0.7058 - mae: 0.0705\n",
      "Epoch 137: val_accuracy did not improve from 0.69504\n"
     ]
    },
    {
     "name": "stderr",
     "output_type": "stream",
     "text": [
      "Epoch 137, Loss: 0.7182, Accuracy: 0.7048, Val_Loss: 0.7931, Val_Accuracy: 0.6545\n"
     ]
    },
    {
     "name": "stdout",
     "output_type": "stream",
     "text": [
      "108/108 [==============================] - 1s 6ms/step - loss: 0.7182 - accuracy: 0.7048 - mae: 0.0706 - val_loss: 0.7931 - val_accuracy: 0.6545 - val_mae: 0.0767\n",
      "Epoch 138/150\n",
      "101/108 [===========================>..] - ETA: 0s - loss: 0.7033 - accuracy: 0.7048 - mae: 0.0703\n",
      "Epoch 138: val_accuracy did not improve from 0.69504\n"
     ]
    },
    {
     "name": "stderr",
     "output_type": "stream",
     "text": [
      "Epoch 138, Loss: 0.7082, Accuracy: 0.7019, Val_Loss: 0.7989, Val_Accuracy: 0.6839\n"
     ]
    },
    {
     "name": "stdout",
     "output_type": "stream",
     "text": [
      "108/108 [==============================] - 1s 6ms/step - loss: 0.7082 - accuracy: 0.7019 - mae: 0.0707 - val_loss: 0.7989 - val_accuracy: 0.6839 - val_mae: 0.0730\n",
      "Epoch 139/150\n",
      "101/108 [===========================>..] - ETA: 0s - loss: 0.7021 - accuracy: 0.7054 - mae: 0.0693\n",
      "Epoch 139: val_accuracy did not improve from 0.69504\n"
     ]
    },
    {
     "name": "stderr",
     "output_type": "stream",
     "text": [
      "Epoch 139, Loss: 0.6963, Accuracy: 0.7097, Val_Loss: 0.7795, Val_Accuracy: 0.6768\n"
     ]
    },
    {
     "name": "stdout",
     "output_type": "stream",
     "text": [
      "108/108 [==============================] - 1s 6ms/step - loss: 0.6963 - accuracy: 0.7097 - mae: 0.0690 - val_loss: 0.7795 - val_accuracy: 0.6768 - val_mae: 0.0752\n",
      "Epoch 140/150\n",
      "101/108 [===========================>..] - ETA: 0s - loss: 0.7400 - accuracy: 0.6999 - mae: 0.0723\n",
      "Epoch 140: val_accuracy did not improve from 0.69504\n"
     ]
    },
    {
     "name": "stderr",
     "output_type": "stream",
     "text": [
      "Epoch 140, Loss: 0.7388, Accuracy: 0.6978, Val_Loss: 0.7656, Val_Accuracy: 0.6697\n"
     ]
    },
    {
     "name": "stdout",
     "output_type": "stream",
     "text": [
      "108/108 [==============================] - 1s 6ms/step - loss: 0.7388 - accuracy: 0.6978 - mae: 0.0722 - val_loss: 0.7656 - val_accuracy: 0.6697 - val_mae: 0.0731\n",
      "Epoch 141/150\n",
      "100/108 [==========================>...] - ETA: 0s - loss: 0.7112 - accuracy: 0.7050 - mae: 0.0705\n",
      "Epoch 141: val_accuracy did not improve from 0.69504\n"
     ]
    },
    {
     "name": "stderr",
     "output_type": "stream",
     "text": [
      "Epoch 141, Loss: 0.7182, Accuracy: 0.7036, Val_Loss: 0.7820, Val_Accuracy: 0.6697\n"
     ]
    },
    {
     "name": "stdout",
     "output_type": "stream",
     "text": [
      "108/108 [==============================] - 1s 6ms/step - loss: 0.7182 - accuracy: 0.7036 - mae: 0.0708 - val_loss: 0.7820 - val_accuracy: 0.6697 - val_mae: 0.0748\n",
      "Epoch 142/150\n",
      "101/108 [===========================>..] - ETA: 0s - loss: 0.6969 - accuracy: 0.7113 - mae: 0.0695\n",
      "Epoch 142: val_accuracy did not improve from 0.69504\n"
     ]
    },
    {
     "name": "stderr",
     "output_type": "stream",
     "text": [
      "Epoch 142, Loss: 0.6941, Accuracy: 0.7111, Val_Loss: 0.7423, Val_Accuracy: 0.6657\n"
     ]
    },
    {
     "name": "stdout",
     "output_type": "stream",
     "text": [
      "108/108 [==============================] - 1s 6ms/step - loss: 0.6941 - accuracy: 0.7111 - mae: 0.0693 - val_loss: 0.7423 - val_accuracy: 0.6657 - val_mae: 0.0722\n",
      "Epoch 143/150\n",
      "101/108 [===========================>..] - ETA: 0s - loss: 0.7197 - accuracy: 0.6989 - mae: 0.0717\n",
      "Epoch 143: val_accuracy did not improve from 0.69504\n"
     ]
    },
    {
     "name": "stderr",
     "output_type": "stream",
     "text": [
      "Epoch 143, Loss: 0.7316, Accuracy: 0.6949, Val_Loss: 0.7594, Val_Accuracy: 0.6879\n"
     ]
    },
    {
     "name": "stdout",
     "output_type": "stream",
     "text": [
      "108/108 [==============================] - 1s 6ms/step - loss: 0.7316 - accuracy: 0.6949 - mae: 0.0721 - val_loss: 0.7594 - val_accuracy: 0.6879 - val_mae: 0.0720\n",
      "Epoch 144/150\n",
      "100/108 [==========================>...] - ETA: 0s - loss: 0.7310 - accuracy: 0.6925 - mae: 0.0718\n",
      "Epoch 144: val_accuracy did not improve from 0.69504\n"
     ]
    },
    {
     "name": "stderr",
     "output_type": "stream",
     "text": [
      "Epoch 144, Loss: 0.7343, Accuracy: 0.6944, Val_Loss: 0.7926, Val_Accuracy: 0.6900\n"
     ]
    },
    {
     "name": "stdout",
     "output_type": "stream",
     "text": [
      "108/108 [==============================] - 1s 6ms/step - loss: 0.7343 - accuracy: 0.6944 - mae: 0.0719 - val_loss: 0.7926 - val_accuracy: 0.6900 - val_mae: 0.0748\n",
      "Epoch 145/150\n",
      "101/108 [===========================>..] - ETA: 0s - loss: 0.7108 - accuracy: 0.7076 - mae: 0.0703\n",
      "Epoch 145: val_accuracy improved from 0.69504 to 0.69807, saving model to 0926-datasets-ml/ml-cn-xmu-(JmolNN)/CNNmodel-20250106_1749/best_model.h5\n"
     ]
    },
    {
     "name": "stderr",
     "output_type": "stream",
     "text": [
      "Epoch 145, Loss: 0.7091, Accuracy: 0.7100, Val_Loss: 0.7461, Val_Accuracy: 0.6981\n"
     ]
    },
    {
     "name": "stdout",
     "output_type": "stream",
     "text": [
      "108/108 [==============================] - 1s 7ms/step - loss: 0.7091 - accuracy: 0.7100 - mae: 0.0703 - val_loss: 0.7461 - val_accuracy: 0.6981 - val_mae: 0.0736\n",
      "Epoch 146/150\n",
      "101/108 [===========================>..] - ETA: 0s - loss: 0.6911 - accuracy: 0.7172 - mae: 0.0693\n",
      "Epoch 146: val_accuracy did not improve from 0.69807\n"
     ]
    },
    {
     "name": "stderr",
     "output_type": "stream",
     "text": [
      "Epoch 146, Loss: 0.6941, Accuracy: 0.7158, Val_Loss: 0.7493, Val_Accuracy: 0.6869\n"
     ]
    },
    {
     "name": "stdout",
     "output_type": "stream",
     "text": [
      "108/108 [==============================] - 1s 6ms/step - loss: 0.6941 - accuracy: 0.7158 - mae: 0.0696 - val_loss: 0.7493 - val_accuracy: 0.6869 - val_mae: 0.0732\n",
      "Epoch 147/150\n",
      "101/108 [===========================>..] - ETA: 0s - loss: 0.7314 - accuracy: 0.6866 - mae: 0.0724\n",
      "Epoch 147: val_accuracy did not improve from 0.69807\n"
     ]
    },
    {
     "name": "stderr",
     "output_type": "stream",
     "text": [
      "Epoch 147, Loss: 0.7280, Accuracy: 0.6889, Val_Loss: 0.7701, Val_Accuracy: 0.6890\n"
     ]
    },
    {
     "name": "stdout",
     "output_type": "stream",
     "text": [
      "108/108 [==============================] - 1s 6ms/step - loss: 0.7280 - accuracy: 0.6889 - mae: 0.0721 - val_loss: 0.7701 - val_accuracy: 0.6890 - val_mae: 0.0736\n",
      "Epoch 148/150\n",
      "100/108 [==========================>...] - ETA: 0s - loss: 0.7086 - accuracy: 0.6994 - mae: 0.0706\n",
      "Epoch 148: val_accuracy did not improve from 0.69807\n"
     ]
    },
    {
     "name": "stderr",
     "output_type": "stream",
     "text": [
      "Epoch 148, Loss: 0.7051, Accuracy: 0.7025, Val_Loss: 0.7325, Val_Accuracy: 0.6930\n"
     ]
    },
    {
     "name": "stdout",
     "output_type": "stream",
     "text": [
      "108/108 [==============================] - 1s 6ms/step - loss: 0.7051 - accuracy: 0.7025 - mae: 0.0703 - val_loss: 0.7325 - val_accuracy: 0.6930 - val_mae: 0.0703\n",
      "Epoch 149/150\n",
      "101/108 [===========================>..] - ETA: 0s - loss: 0.7176 - accuracy: 0.7064 - mae: 0.0701\n",
      "Epoch 149: val_accuracy did not improve from 0.69807\n"
     ]
    },
    {
     "name": "stderr",
     "output_type": "stream",
     "text": [
      "Epoch 149, Loss: 0.7179, Accuracy: 0.7048, Val_Loss: 0.7945, Val_Accuracy: 0.6920\n"
     ]
    },
    {
     "name": "stdout",
     "output_type": "stream",
     "text": [
      "108/108 [==============================] - 1s 6ms/step - loss: 0.7179 - accuracy: 0.7048 - mae: 0.0703 - val_loss: 0.7945 - val_accuracy: 0.6920 - val_mae: 0.0732\n",
      "Epoch 150/150\n",
      "101/108 [===========================>..] - ETA: 0s - loss: 0.7247 - accuracy: 0.6974 - mae: 0.0717\n",
      "Epoch 150: val_accuracy did not improve from 0.69807\n"
     ]
    },
    {
     "name": "stderr",
     "output_type": "stream",
     "text": [
      "Epoch 150, Loss: 0.7286, Accuracy: 0.6949, Val_Loss: 0.7966, Val_Accuracy: 0.6758\n"
     ]
    },
    {
     "name": "stdout",
     "output_type": "stream",
     "text": [
      "108/108 [==============================] - 1s 6ms/step - loss: 0.7286 - accuracy: 0.6949 - mae: 0.0721 - val_loss: 0.7966 - val_accuracy: 0.6758 - val_mae: 0.0767\n",
      "16/16 [==============================] - 0s 2ms/step - loss: 0.8523 - accuracy: 0.6626 - mae: 0.0773\n",
      "Test Loss: 0.8522712588310242\n",
      "Test Accuracy: 0.6626262664794922\n"
     ]
    }
   ],
   "source": [
    "# Check the unique values and range of the labels\n",
    "print(\"Unique labels in y_train:\", np.unique(y_train))\n",
    "print(\"Unique labels in y_valid:\", np.unique(y_valid))\n",
    "print(\"Unique labels in y_test:\", np.unique(y_test))\n",
    "logging.info(f\"Unique labels in y_train: {np.unique(y_train)}\")\n",
    "logging.info(f\"Unique labels in y_valid: {np.unique(y_valid)}\")\n",
    "logging.info(f\"Unique labels in y_test: {np.unique(y_test)}\")\n",
    "# Determine the number of classes and the minimum label value\n",
    "all_labels = np.concatenate((y_train, y_valid, y_test))\n",
    "num_classes = len(np.unique(all_labels))\n",
    "min_label = np.min(all_labels)\n",
    "# Convert labels to one-hot encoding\n",
    "y_train = to_categorical(y_train - min_label, num_classes=num_classes)\n",
    "y_valid = to_categorical(y_valid - min_label, num_classes=num_classes)\n",
    "y_test = to_categorical(y_test - min_label, num_classes=num_classes)\n",
    "# Build the deep learning model\n",
    "#model = tf.keras.Sequential([\n",
    "    #tf.keras.layers.Dense(100, activation='relu', input_shape=(X_train.shape[1],)),\n",
    "    #tf.keras.layers.Dense(50, activation='relu'),\n",
    "    #tf.keras.layers.Dense(num_classes, activation='softmax')  # 输出层，分类问题使用softmax激活函数\n",
    "#])\n",
    "model = tf.keras.Sequential([\n",
    "    tf.keras.layers.Dense(512, activation='relu', input_shape=(X_train.shape[1],)),\n",
    "    tf.keras.layers.Dropout(0.2),  # Add Dropout layer\n",
    "    tf.keras.layers.Dense(256, activation='relu', kernel_regularizer=regularizers.l2(0.001)),# 添加L2正则化\n",
    "    #tf.keras.layers.Dropout(0.2),  # Add Dropout layer\n",
    "    tf.keras.layers.Dense(128, activation='relu', kernel_regularizer=regularizers.l2(0.001)),  # 添加L2正则化\n",
    "    #tf.keras.layers.Dropout(0.2), \n",
    "    tf.keras.layers.Dense(64, activation='relu', kernel_regularizer=regularizers.l2(0.001)),  # 添加L2正则化\n",
    "    #tf.keras.layers.Dropout(0.2), \n",
    "    tf.keras.layers.Dense(32, activation='relu', kernel_regularizer=regularizers.l2(0.001)),  # 添加L2正则化\n",
    "    tf.keras.layers.Dense(num_classes, activation='softmax')\n",
    "])\n",
    "# Customize callback class for logging\n",
    "class CustomCallback(keras.callbacks.Callback):\n",
    "    def on_epoch_end(self, epoch, logs=None):\n",
    "        log_message = (f\"Epoch {epoch + 1}, \"\n",
    "                       f\"Loss: {logs['loss']:.4f}, \"\n",
    "                       f\"Accuracy: {logs['accuracy']:.4f}, \"\n",
    "                       f\"Val_Loss: {logs['val_loss']:.4f}, \"\n",
    "                       f\"Val_Accuracy: {logs['val_accuracy']:.4f}\")\n",
    "        logging.info(log_message)\n",
    "# Compile the model\n",
    "optimizer = tf.keras.optimizers.Adam(learning_rate=0.001)\n",
    "model.compile(optimizer='adam',\n",
    "              loss='categorical_crossentropy',  # Classification problem uses cross entropy loss function\n",
    "              metrics=['accuracy','mae']) # Accuracy as an evaluation metric\n",
    "# Save the best model\n",
    "model_file = os.path.join(dir_output, 'best_model.h5')\n",
    "model.save(model_file)\n",
    "print(f\"Best model saved to: {model_file}\")\n",
    "checkpoint = ModelCheckpoint(model_file, monitor='val_accuracy', verbose=1, save_best_only=True, mode='max')\n",
    "# Train the model\n",
    "history = model.fit(X_train, y_train,\n",
    "                    epochs=150,\n",
    "                    batch_size=32,\n",
    "                    validation_data=(X_valid, y_valid),\n",
    "                    callbacks=[checkpoint, CustomCallback()],\n",
    "                    verbose=1)\n",
    "\n",
    "# Evaluate model performance\n",
    "loss, accuracy,mae = model.evaluate(X_test, y_test)\n",
    "print(f'Test Loss: {loss}')\n",
    "print(f'Test Accuracy: {accuracy}')\n"
   ]
  },
  {
   "cell_type": "code",
   "execution_count": 5,
   "id": "bb7cd25b",
   "metadata": {
    "ExecuteTime": {
     "end_time": "2025-01-06T09:51:08.754573Z",
     "start_time": "2025-01-06T09:51:08.557458Z"
    }
   },
   "outputs": [
    {
     "name": "stdout",
     "output_type": "stream",
     "text": [
      "Model structure saved to: 0926-datasets-ml/ml-cn-xmu-(JmolNN)/CNNmodel-20250106_1749/model_structure.png\n"
     ]
    },
    {
     "data": {
      "image/png": "[encoded data removed]",
      "text/plain": [
       "<IPython.core.display.Image object>"
      ]
     },
     "metadata": {},
     "output_type": "display_data"
    }
   ],
   "source": [
    "# Plot and save the model structure\n",
    "model_structure_file = os.path.join(dir_output, 'model_structure.png')\n",
    "plot_model(model, to_file=model_structure_file, show_shapes=True, show_layer_names=True)\n",
    "print(f\"Model structure saved to: {model_structure_file}\")\n",
    "display(Image(filename=model_structure_file))"
   ]
  },
  {
   "cell_type": "markdown",
   "id": "72536e96",
   "metadata": {},
   "source": [
    "# Plot the loss curve of the training process"
   ]
  },
  {
   "cell_type": "code",
   "execution_count": 6,
   "id": "ecb860e7",
   "metadata": {
    "ExecuteTime": {
     "end_time": "2025-01-06T09:51:09.551478Z",
     "start_time": "2025-01-06T09:51:08.757062Z"
    }
   },
   "outputs": [
    {
     "data": {
      "image/png": "[encoded data removed]",
      "text/plain": [
       "<Figure size 864x432 with 2 Axes>"
      ]
     },
     "metadata": {
      "needs_background": "light"
     },
     "output_type": "display_data"
    },
    {
     "data": {
      "image/png": "[encoded data removed]",
      "text/plain": [
       "<Figure size 432x432 with 1 Axes>"
      ]
     },
     "metadata": {
      "needs_background": "light"
     },
     "output_type": "display_data"
    }
   ],
   "source": [
    "# Plot the fitting curve and training curve\n",
    "plt.figure(figsize=(12, 6))\n",
    "# Plot training loss and validation loss\n",
    "plt.subplot(1, 2, 1)\n",
    "plt.plot(history.history['loss'], label='Train Loss')\n",
    "plt.plot(history.history['val_loss'], label='Validation Loss')\n",
    "plt.title('Training and Validation Loss')\n",
    "plt.xlabel('Epoch')\n",
    "plt.ylabel('Loss')\n",
    "plt.legend()\n",
    "# Plot training MAE and validation MAE\n",
    "plt.subplot(1, 2, 2)\n",
    "plt.plot(history.history['mae'], label='Train MAE')\n",
    "plt.plot(history.history['val_mae'], label='Validation MAE')\n",
    "plt.title('Training and Validation MAE')\n",
    "plt.xlabel('Epoch')\n",
    "plt.ylabel('MAE')\n",
    "plt.legend()\n",
    "plt.tight_layout()\n",
    "plt.savefig(os.path.join(dir_output, 'training_validation_metrics.png'))\n",
    "plt.show()\n",
    "# Plot training accuracy and validation accuracy\n",
    "plt.figure(figsize=(6, 6))\n",
    "plt.subplot(1, 1, 1)\n",
    "plt.plot(history.history['accuracy'], label='Train Accuracy')\n",
    "plt.plot(history.history['val_accuracy'], label='Validation Accuracy')\n",
    "plt.title('Training and Validation Accuracy')\n",
    "plt.xlabel('Epoch')\n",
    "plt.ylabel('Accuracy')\n",
    "plt.legend()\n",
    "plt.tight_layout()\n",
    "plt.savefig(os.path.join(dir_output, 'training_validation_metrics_classification.png'))\n",
    "plt.show()"
   ]
  },
  {
   "cell_type": "markdown",
   "id": "c74be8f9",
   "metadata": {},
   "source": [
    "# Predict and calculate accuracy\r\n",
    "\r\n",
    "## Prediction and Comparison:\r\n",
    "- The trained model is used to predict the class probabilities for the test set (`X_test`).\r\n",
    "- `y_test_classes`: The true class labels are converted from one-hot encoding to class indices, adjusted by `min_label`.\r\n",
    "- `y_pred_classes`: The predicted class labels are derived by selecting the class with the highest probability from the model’s output.\r\n",
    "\r\n",
    "## Accuracy Calculation:\r\n",
    "- The accuracy is computed using `accuracy_score` by comparing the true and predicted class labels.\r\n",
    "\r\n",
    "## Evaluation Metrics:\r\n",
    "- **Mean Squared Error (MSE)**: Measures the average squared differences between true and predicted class labels.\r\n",
    "- **R² Score**: Indicates the proportion of variance explained by the model; the closer to 1, the better.\r\n",
    "\r\n",
    "## Save Predictions:\r\n",
    "- The predicted class labels (`y_pred_classes`) are saved into a CSV file (`predictions_classification.csv`).\r\n",
    "\r\n",
    "## Confusion Matrix:\r\n",
    "- A confusion matrix is created to assess the model’s performance by showing the counts of true vs. predicted labels.\r\n",
    "- The matrix is visualized with a heatmap, saved as `confusion_matrix.png`.\r\n",
    "\r\n",
    "## Classification Report:\r\n",
    "- A classification report is generated, displaying precision, recall, f1-score, and support for each class.\r\n",
    "- The report is saved as `classification_report_classification.txt`.\r\n",
    "\r\n",
    "## Plot True vs Predicted Values:\r\n",
    "- A plot comparing true values (`y_test_classes`) and predicted values (`y_pred_classes`) is generated.\r\n",
    "- The plot is saved as `true_vs_predicted_classification.png`.\r\n",
    "\r\n",
    "## Output Files:\r\n",
    "- **Predictions**: `predictions_classification.csv`\r\n",
    "- **Confusion Matrix**: `confusion_matrix.png`\r\n",
    "- **Classification Report**: `classification_report_classification.txt`\r\n",
    "- **True vs Predicted Plot**: `true_vs_predicted_classification.png`\r\n"
   ]
  },
  {
   "cell_type": "code",
   "execution_count": 7,
   "id": "4fc4c81c",
   "metadata": {
    "ExecuteTime": {
     "end_time": "2025-01-06T09:51:10.428499Z",
     "start_time": "2025-01-06T09:51:09.552780Z"
    }
   },
   "outputs": [
    {
     "name": "stdout",
     "output_type": "stream",
     "text": [
      "16/16 [==============================] - 0s 2ms/step\n"
     ]
    },
    {
     "name": "stderr",
     "output_type": "stream",
     "text": [
      "Test accuracy: 0.662626\n",
      "Test MSE: 0.442424\n",
      "Test R² Score: 0.945978\n"
     ]
    },
    {
     "name": "stdout",
     "output_type": "stream",
     "text": [
      "Test accuracy: 0.662626\n",
      "Test MSE: 0.442424\n",
      "Test R² Score: 0.945978\n"
     ]
    },
    {
     "data": {
      "image/png": "[encoded data removed]",
      "text/plain": [
       "<Figure size 720x504 with 2 Axes>"
      ]
     },
     "metadata": {
      "needs_background": "light"
     },
     "output_type": "display_data"
    },
    {
     "name": "stderr",
     "output_type": "stream",
     "text": [
      "/home/dell-hd/xraylarch/envs/hanxue2/lib/python3.8/site-packages/sklearn/metrics/_classification.py:1471: UndefinedMetricWarning: Precision and F-score are ill-defined and being set to 0.0 in labels with no predicted samples. Use `zero_division` parameter to control this behavior.\n",
      "  _warn_prf(average, modifier, msg_start, len(result))\n",
      "/home/dell-hd/xraylarch/envs/hanxue2/lib/python3.8/site-packages/sklearn/metrics/_classification.py:1471: UndefinedMetricWarning: Precision and F-score are ill-defined and being set to 0.0 in labels with no predicted samples. Use `zero_division` parameter to control this behavior.\n",
      "  _warn_prf(average, modifier, msg_start, len(result))\n",
      "/home/dell-hd/xraylarch/envs/hanxue2/lib/python3.8/site-packages/sklearn/metrics/_classification.py:1471: UndefinedMetricWarning: Precision and F-score are ill-defined and being set to 0.0 in labels with no predicted samples. Use `zero_division` parameter to control this behavior.\n",
      "  _warn_prf(average, modifier, msg_start, len(result))\n"
     ]
    },
    {
     "name": "stdout",
     "output_type": "stream",
     "text": [
      "              precision    recall  f1-score   support\n",
      "\n",
      "         2.0       0.00      0.00      0.00         1\n",
      "         3.0       0.93      0.82      0.87       140\n",
      "         4.0       0.74      0.76      0.75       127\n",
      "         5.0       0.52      0.74      0.61        38\n",
      "         6.0       0.50      0.50      0.50         6\n",
      "         7.0       0.40      0.31      0.35        13\n",
      "         8.0       0.54      0.50      0.52        44\n",
      "         9.0       0.40      0.57      0.47        49\n",
      "        10.0       0.52      0.38      0.44        45\n",
      "        11.0       0.50      0.55      0.52        22\n",
      "        12.0       0.75      0.30      0.43        10\n",
      "\n",
      "    accuracy                           0.66       495\n",
      "   macro avg       0.53      0.49      0.50       495\n",
      "weighted avg       0.68      0.66      0.67       495\n",
      "\n"
     ]
    },
    {
     "data": {
      "image/png": "[encoded data removed]",
      "text/plain": [
       "<Figure size 720x360 with 1 Axes>"
      ]
     },
     "metadata": {
      "needs_background": "light"
     },
     "output_type": "display_data"
    }
   ],
   "source": [
    "# Predict test set\n",
    "y_pred_proba = model.predict(X_test)\n",
    "y_test_classes = np.argmax(y_test, axis=1) + min_label\n",
    "y_pred_classes = np.argmax(y_pred_proba, axis=1)+min_label\n",
    "test_accuracy = accuracy_score(y_test_classes, y_pred_classes)\n",
    "print(f\"Test accuracy: {test_accuracy:.6f}\")\n",
    "logging.info(f\"Test accuracy: {test_accuracy:.6f}\")\n",
    "mse = mean_squared_error(y_test_classes, y_pred_classes)\n",
    "r2 = r2_score(y_test_classes, y_pred_classes)\n",
    "print(f\"Test MSE: {mse:.6f}\")\n",
    "print(f\"Test R² Score: {r2:.6f}\")\n",
    "logging.info(f\"Test MSE: {mse:.6f}\")\n",
    "logging.info(f\"Test R² Score: {r2:.6f}\")\n",
    "# Save the prediction results\n",
    "np.savetxt(os.path.join(dir_output, 'predictions_classification.csv'), y_pred_classes, delimiter=',', fmt='%d')\n",
    "# Save the actual prediction comparison\n",
    "#comparison = np.stack(y_test, y_pred_classes)\n",
    "#np.savetxt(os.path.join(dir_output, 'true_vs_predicted_classification.csv'), comparison, delimiter=',', fmt='%d', header='True,Predicted')\n",
    "# Save the actual prediction comparison\n",
    "comparison = np.stack((y_test_classes, y_pred_classes), axis=-1)\n",
    "np.savetxt(os.path.join(dir_output, 'true_vs_predicted_classification.csv'), comparison, delimiter=',', fmt='%d', header='True,Predicted')\n",
    "# Plot the confusion matrix\n",
    "cm = confusion_matrix(y_test_classes, y_pred_classes)\n",
    "labels = np.arange(min_label, min_label + cm.shape[0])\n",
    "plt.figure(figsize=(10, 7))\n",
    "sns.heatmap(cm, annot=True, fmt='d', cmap='Blues', xticklabels=labels, yticklabels=labels)\n",
    "plt.xlabel('Predicted')\n",
    "plt.ylabel('Actual')\n",
    "plt.title('Confusion Matrix')\n",
    "plt.savefig(os.path.join(dir_output, 'confusion_matrix.png'))\n",
    "plt.show()\n",
    "# Print classification report\n",
    "report = classification_report(y_test_classes, y_pred_classes)\n",
    "print(report)\n",
    "# Save classification report\n",
    "report_path = os.path.join(dir_output, 'classification_report_classification.txt')\n",
    "with open(report_path, 'w') as f:\n",
    "    f.write(report)\n",
    "# Draw a comparison chart of the predicted results and the actual values\n",
    "plt.figure(figsize=(10, 5))\n",
    "plt.plot(y_test_classes,label='True Values (Test)', color='yellow', linewidth=1.5)\n",
    "plt.plot(y_pred_classes, label='Predicted Values (Test)', color='blue', linewidth=1.5)\n",
    "plt.xlabel('Samples')\n",
    "plt.ylabel('Values')\n",
    "plt.title('Comparison of True and Predicted Values (Test)')\n",
    "plt.legend()\n",
    "plt.grid(True)\n",
    "plt.savefig(os.path.join(dir_output, 'true_vs_predicted_classification.png'))\n",
    "plt.show()\n",
    "\n",
    "\n"
   ]
  },
  {
   "cell_type": "code",
   "execution_count": null,
   "id": "25be66b1",
   "metadata": {},
   "outputs": [],
   "source": []
  },
  {
   "cell_type": "code",
   "execution_count": null,
   "id": "22833339",
   "metadata": {},
   "outputs": [],
   "source": []
  },
  {
   "cell_type": "code",
   "execution_count": null,
   "id": "4275ae92",
   "metadata": {},
   "outputs": [],
   "source": []
  }
 ],
 "metadata": {
  "kernelspec": {
   "display_name": "Python 3 (ipykernel)",
   "language": "python",
   "name": "python3"
  },
  "language_info": {
   "codemirror_mode": {
    "name": "ipython",
    "version": 3
   },
   "file_extension": ".py",
   "mimetype": "text/x-python",
   "name": "python",
   "nbconvert_exporter": "python",
   "pygments_lexer": "ipython3",
   "version": "3.11.4"
  },
  "toc": {
   "base_numbering": 1,
   "nav_menu": {},
   "number_sections": true,
   "sideBar": true,
   "skip_h1_title": false,
   "title_cell": "Table of Contents",
   "title_sidebar": "Contents",
   "toc_cell": false,
   "toc_position": {},
   "toc_section_display": true,
   "toc_window_display": false
  }
 },
 "nbformat": 4,
 "nbformat_minor": 5
}
