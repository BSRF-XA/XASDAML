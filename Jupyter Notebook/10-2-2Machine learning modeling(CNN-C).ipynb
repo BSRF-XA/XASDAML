{
 "cells": [
  {
   "cell_type": "markdown",
   "id": "138c1b90",
   "metadata": {},
   "source": [
    "# Program Description: Machine Learning Modeling (CNN-Classification, Module 10)\n",
    "\n",
    "## Overview:\n",
    "This module is responsible for building a **classification** model using a Convolutional Neural Network (CNN). It works in parallel with other network models. The goal is to train the CNN model, save the best-performing model, and make predictions.\n",
    "\n",
    "- **Input Dataset**: This module reads the dataset output by **Module 9** (normalized data).\n",
    "- **Model Type**: The model used in this module is a **CNN (Convolutional Neural Network)**, which is trained for classification tasks.\n",
    "- **Prediction**: After training, the model is used to make predictions on the test set.\n",
    "\n",
    "## Key Steps:\n",
    "1. **Read Data**: \n",
    "   - The features and labels for training, validation, and test datasets are read from the files output by **Module 9**.\n",
    "   \n",
    "2. **Build CNN Model**: \n",
    "   - A CNN model is constructed for classification.\n",
    "   \n",
    "3. **Train and Save the Best Model**: \n",
    "   - The model is trained on the training dataset, and the best model is saved after training.\n",
    "   \n",
    "4. **Model Prediction**: \n",
    "   - The trained model is used to make predictions on the test set.\n",
    "\n",
    "5. **Output**:\n",
    "   - The trained model and evaluation metrics are saved in the `datasets-ml` folder.\n",
    "   - The model filename includes the timestamp to differentiate between runs (e.g., `CNNmodel-{current_time}.h5`).\n",
    "\n",
    "## Output:\n",
    "- **Model File**: The trained CNN model is saved in the `datasets-ml` folder with the filename `CNNmodel-{current_time}.h5`, where `{current_time}` represents the timestamp of the model save.\n",
    "- **Log Files**: The log file will contain training progress, evaluation metrics, and other relevant details.\n"
   ]
  },
  {
   "cell_type": "markdown",
   "id": "23862227",
   "metadata": {},
   "source": [
    "contacts：zhaohf@ihep.ac.cn"
   ]
  },
  {
   "cell_type": "markdown",
   "id": "60fa3007",
   "metadata": {},
   "source": [
    " # Import libraries"
   ]
  },
  {
   "cell_type": "code",
   "execution_count": 1,
   "id": "536ca7ad",
   "metadata": {
    "ExecuteTime": {
     "end_time": "2025-03-05T08:33:10.542249Z",
     "start_time": "2025-03-05T08:33:08.336148Z"
    }
   },
   "outputs": [
    {
     "name": "stderr",
     "output_type": "stream",
     "text": [
      "2025-03-05 16:33:08.799199: I tensorflow/core/util/util.cc:169] oneDNN custom operations are on. You may see slightly different numerical results due to floating-point round-off errors from different computation orders. To turn them off, set the environment variable `TF_ENABLE_ONEDNN_OPTS=0`.\n"
     ]
    }
   ],
   "source": [
    "from datetime import datetime\n",
    "from sklearn.preprocessing import StandardScaler\n",
    "from tensorflow.keras.utils import to_categorical,plot_model\n",
    "from tensorflow.keras import regularizers,layers, models\n",
    "from sklearn.metrics import accuracy_score, confusion_matrix, classification_report\n",
    "from tensorflow.keras.callbacks import ModelCheckpoint, EarlyStopping,ReduceLROnPlateau\n",
    "from sklearn.metrics import mean_squared_error, r2_score,mean_absolute_error\n",
    "import os\n",
    "import logging\n",
    "import numpy as np\n",
    "import joblib\n",
    "import tensorflow as tf\n",
    "import keras.callbacks\n",
    "import matplotlib.pyplot as plt\n",
    "import seaborn as sns\n",
    "import sys\n",
    "from IPython.display import Image, display"
   ]
  },
  {
   "cell_type": "markdown",
   "id": "3bde49c6",
   "metadata": {},
   "source": [
    "##  Version Information"
   ]
  },
  {
   "cell_type": "code",
   "execution_count": 2,
   "id": "37ae3a60",
   "metadata": {
    "ExecuteTime": {
     "end_time": "2025-03-05T08:33:10.550364Z",
     "start_time": "2025-03-05T08:33:10.544223Z"
    }
   },
   "outputs": [
    {
     "name": "stdout",
     "output_type": "stream",
     "text": [
      "tensorflow: 2.9.1\n",
      "numpy: 1.23.5\n",
      "joblib: 1.4.0\n",
      "matplotlib: 3.7.5\n",
      "seaborn: 0.13.2\n",
      "sklearn: 1.3.2\n",
      "Python: 3.8.15 | packaged by conda-forge | (default, Nov 22 2022, 08:46:39) \n",
      "[GCC 10.4.0]\n"
     ]
    }
   ],
   "source": [
    "def get_python_version():\n",
    "    return sys.version\n",
    "def get_package_version(package_name):\n",
    "    try:\n",
    "        module = __import__(package_name)\n",
    "        version = getattr(module, '__version__', None)\n",
    "        if version:\n",
    "            return version\n",
    "        else:\n",
    "            return pkg_resources.get_distribution(package_name).version\n",
    "    except (ImportError, AttributeError, pkg_resources.DistributionNotFound):\n",
    "        return \"Version info not found\"\n",
    "\n",
    "packages = ['tensorflow', 'numpy', 'joblib', 'matplotlib','seaborn','sklearn']\n",
    "for package in packages:\n",
    "    print(f\"{package}: {get_package_version(package)}\")\n",
    "print(f\"Python: {get_python_version()}\")"
   ]
  },
  {
   "cell_type": "markdown",
   "id": "917ddba1",
   "metadata": {},
   "source": [
    "# Parameter Settings (Input File, Output File)\n",
    "\n",
    "## Input File Path:\n",
    "- `dir_data`: Specifies the directory where the dataset (features and labels for training, validation, and test) is located.\n",
    "- The dataset includes **training**, **validation**, and **test** datasets generated by **Module 9**.\n",
    "- Example: `'0926-datasets/datasets(JmolNN)-pre-xmu-cn'` (path to the dataset).\n",
    "\n",
    "## Output File Path:\n",
    "- `dir_output`: The directory where the trained model and other output files will be saved.\n",
    "- The output includes the model file (`CNNmodel-{current_time}.h5`) and logs.\n",
    "- Example: `'0926-datasets-ml/ml-cn-xmu-(JmolNN)'` (path where the model and log files will be saved)."
   ]
  },
  {
   "cell_type": "code",
   "execution_count": 3,
   "id": "16d5e1a3",
   "metadata": {
    "ExecuteTime": {
     "end_time": "2025-03-05T08:33:12.044083Z",
     "start_time": "2025-03-05T08:33:10.552060Z"
    }
   },
   "outputs": [
    {
     "name": "stdout",
     "output_type": "stream",
     "text": [
      "File '0926-datasets/datasets(JmolNN)-pre-xmu-cn' exists.\n"
     ]
    },
    {
     "name": "stderr",
     "output_type": "stream",
     "text": [
      "Training set size: X_train: (3455, 1000), y_train: (3455,)\n",
      "Validation set size: X_valid: (987, 1000), y_valid: (987,)\n",
      "Test set size: X_test: (494, 1000), y_test: (494,)\n"
     ]
    },
    {
     "name": "stdout",
     "output_type": "stream",
     "text": [
      "Training set size: X_train: (3455, 1000), y_train: (3455,)\n",
      "Validation set size: X_valid: (987, 1000), y_valid: (987,)\n",
      "Test set size: X_test: (494, 1000), y_test: (494,)\n",
      "Unique labels in y_train: [ 3.  4.  5.  6.  7.  8.  9. 10. 11. 12.]\n",
      "Unique labels in y_valid: [ 3.  4.  5.  6.  7.  8.  9. 10. 11. 12.]\n",
      "Unique labels in y_test: [ 3.  4.  5.  6.  7.  8.  9. 10. 11. 12.]\n"
     ]
    }
   ],
   "source": [
    "# Set input file path\n",
    "dir_data = '0926-datasets/datasets(JmolNN)-pre-xmu-cn'\n",
    "# Set output file save path\n",
    "output_path = '0926-datasets-ml/ml-cn-xmu-(JmolNN)'\n",
    "current_time = datetime.now().strftime(\"%Y%m%d_%H%M\")\n",
    "# Output save file name and add timestamp\n",
    "dir_output=os.path.join(output_path,f'CNNmodel-{current_time}')\n",
    "# Check if the input path exists\n",
    "if os.path.exists(dir_data):\n",
    "    print(f\"File '{dir_data}' exists.\")\n",
    "else:\n",
    "    raise FileNotFoundError(f\"File '{dir_data}' does not exist.\")\n",
    "os.makedirs(dir_output, exist_ok=True)\n",
    "os.makedirs(dir_output, exist_ok=True)\n",
    "# Load training, validation, and test datasets\n",
    "file_train_feature = os.path.join(dir_data, 'xmu_train_JmolNN.txt')\n",
    "file_train_label = os.path.join(dir_data, 'label_cn_train_JmolNN.txt')\n",
    "file_valid_feature = os.path.join(dir_data, 'xmu_valid_JmolNN.txt')\n",
    "file_valid_label = os.path.join(dir_data, 'label_cn_valid_JmolNN.txt')\n",
    "file_test_feature = os.path.join(dir_data, 'xmu_test_JmolNN.txt')\n",
    "file_test_label = os.path.join(dir_data, 'label_cn_test_JmolNN.txt')\n",
    "log_file_path = os.path.join(dir_output, 'training_log.txt')\n",
    "logging.basicConfig(level=logging.INFO, format='%(message)s', handlers=[logging.FileHandler(log_file_path), logging.StreamHandler()])\n",
    "# Read data\n",
    "X_train = np.loadtxt(file_train_feature)\n",
    "y_train = np.loadtxt(file_train_label, dtype=float)\n",
    "X_valid = np.loadtxt(file_valid_feature)\n",
    "y_valid = np.loadtxt(file_valid_label, dtype=float)\n",
    "X_test = np.loadtxt(file_test_feature)\n",
    "y_test = np.loadtxt(file_test_label, dtype=float)\n",
    "# Prepare messages for dataset sizes\n",
    "train_size_message = f\"Training set size: X_train: {X_train.shape}, y_train: {y_train.shape}\"\n",
    "valid_size_message = f\"Validation set size: X_valid: {X_valid.shape}, y_valid: {y_valid.shape}\"\n",
    "test_size_message = f\"Test set size: X_test: {X_test.shape}, y_test: {y_test.shape}\"\n",
    "print(train_size_message)\n",
    "print(valid_size_message)\n",
    "print(test_size_message)\n",
    "# Log dataset sizes\n",
    "logging.info(train_size_message)\n",
    "logging.info(valid_size_message)\n",
    "logging.info(test_size_message)\n",
    "print(\"Unique labels in y_train:\", np.unique(y_train))\n",
    "print(\"Unique labels in y_valid:\", np.unique(y_valid))\n",
    "print(\"Unique labels in y_test:\", np.unique(y_test))\n"
   ]
  },
  {
   "cell_type": "markdown",
   "id": "c8e3683e",
   "metadata": {},
   "source": [
    "# Build a MLP classification model and save the best model results"
   ]
  },
  {
   "cell_type": "code",
   "execution_count": 4,
   "id": "6bc2161e",
   "metadata": {
    "ExecuteTime": {
     "end_time": "2025-03-05T08:35:54.880487Z",
     "start_time": "2025-03-05T08:33:12.046849Z"
    }
   },
   "outputs": [
    {
     "name": "stderr",
     "output_type": "stream",
     "text": [
      "Unique labels in y_train: [ 3.  4.  5.  6.  7.  8.  9. 10. 11. 12.]\n",
      "Unique labels in y_valid: [ 3.  4.  5.  6.  7.  8.  9. 10. 11. 12.]\n",
      "Unique labels in y_test: [ 3.  4.  5.  6.  7.  8.  9. 10. 11. 12.]\n"
     ]
    },
    {
     "name": "stdout",
     "output_type": "stream",
     "text": [
      "Unique labels in y_train: [ 3.  4.  5.  6.  7.  8.  9. 10. 11. 12.]\n",
      "Unique labels in y_valid: [ 3.  4.  5.  6.  7.  8.  9. 10. 11. 12.]\n",
      "Unique labels in y_test: [ 3.  4.  5.  6.  7.  8.  9. 10. 11. 12.]\n",
      "Best model saved to: 0926-datasets-ml/ml-cn-xmu-(JmolNN)/CNNmodel-20250305_1633/best_model.h5\n",
      "Epoch 1/150\n"
     ]
    },
    {
     "name": "stderr",
     "output_type": "stream",
     "text": [
      "2025-03-05 16:33:12.073193: I tensorflow/core/platform/cpu_feature_guard.cc:193] This TensorFlow binary is optimized with oneAPI Deep Neural Network Library (oneDNN) to use the following CPU instructions in performance-critical operations:  SSE4.1 SSE4.2 AVX AVX2 AVX512F AVX512_VNNI FMA\n",
      "To enable them in other operations, rebuild TensorFlow with the appropriate compiler flags.\n"
     ]
    },
    {
     "name": "stdout",
     "output_type": "stream",
     "text": [
      "105/108 [============================>.] - ETA: 0s - loss: 1.9301 - accuracy: 0.3193 - mae: 0.1553\n",
      "Epoch 1: val_accuracy improved from -inf to 0.40831, saving model to 0926-datasets-ml/ml-cn-xmu-(JmolNN)/CNNmodel-20250305_1633/best_model.h5\n"
     ]
    },
    {
     "name": "stderr",
     "output_type": "stream",
     "text": [
      "Epoch 1, Loss: 1.9197, Accuracy: 0.3221, Val_Loss: 1.4633, Val_Accuracy: 0.4083\n"
     ]
    },
    {
     "name": "stdout",
     "output_type": "stream",
     "text": [
      "108/108 [==============================] - 2s 17ms/step - loss: 1.9197 - accuracy: 0.3221 - mae: 0.1548 - val_loss: 1.4633 - val_accuracy: 0.4083 - val_mae: 0.1378\n",
      "Epoch 2/150\n",
      "106/108 [============================>.] - ETA: 0s - loss: 1.5716 - accuracy: 0.3777 - mae: 0.1402\n",
      "Epoch 2: val_accuracy improved from 0.40831 to 0.45187, saving model to 0926-datasets-ml/ml-cn-xmu-(JmolNN)/CNNmodel-20250305_1633/best_model.h5\n"
     ]
    },
    {
     "name": "stderr",
     "output_type": "stream",
     "text": [
      "Epoch 2, Loss: 1.5758, Accuracy: 0.3766, Val_Loss: 1.3834, Val_Accuracy: 0.4519\n"
     ]
    },
    {
     "name": "stdout",
     "output_type": "stream",
     "text": [
      "108/108 [==============================] - 2s 16ms/step - loss: 1.5758 - accuracy: 0.3766 - mae: 0.1403 - val_loss: 1.3834 - val_accuracy: 0.4519 - val_mae: 0.1346\n",
      "Epoch 3/150\n",
      "106/108 [============================>.] - ETA: 0s - loss: 1.4743 - accuracy: 0.4012 - mae: 0.1373\n",
      "Epoch 3: val_accuracy improved from 0.45187 to 0.45998, saving model to 0926-datasets-ml/ml-cn-xmu-(JmolNN)/CNNmodel-20250305_1633/best_model.h5\n"
     ]
    },
    {
     "name": "stderr",
     "output_type": "stream",
     "text": [
      "Epoch 3, Loss: 1.4718, Accuracy: 0.4026, Val_Loss: 1.3194, Val_Accuracy: 0.4600\n"
     ]
    },
    {
     "name": "stdout",
     "output_type": "stream",
     "text": [
      "108/108 [==============================] - 2s 15ms/step - loss: 1.4718 - accuracy: 0.4026 - mae: 0.1372 - val_loss: 1.3194 - val_accuracy: 0.4600 - val_mae: 0.1336\n",
      "Epoch 4/150\n",
      "108/108 [==============================] - ETA: 0s - loss: 1.4149 - accuracy: 0.4119 - mae: 0.1347\n",
      "Epoch 4: val_accuracy did not improve from 0.45998\n"
     ]
    },
    {
     "name": "stderr",
     "output_type": "stream",
     "text": [
      "Epoch 4, Loss: 1.4149, Accuracy: 0.4119, Val_Loss: 1.3066, Val_Accuracy: 0.4316\n"
     ]
    },
    {
     "name": "stdout",
     "output_type": "stream",
     "text": [
      "108/108 [==============================] - 2s 14ms/step - loss: 1.4149 - accuracy: 0.4119 - mae: 0.1347 - val_loss: 1.3066 - val_accuracy: 0.4316 - val_mae: 0.1327\n",
      "Epoch 5/150\n",
      "107/108 [============================>.] - ETA: 0s - loss: 1.3822 - accuracy: 0.4200 - mae: 0.1338\n",
      "Epoch 5: val_accuracy did not improve from 0.45998\n"
     ]
    },
    {
     "name": "stderr",
     "output_type": "stream",
     "text": [
      "Epoch 5, Loss: 1.3840, Accuracy: 0.4188, Val_Loss: 1.2956, Val_Accuracy: 0.4326\n"
     ]
    },
    {
     "name": "stdout",
     "output_type": "stream",
     "text": [
      "108/108 [==============================] - 2s 14ms/step - loss: 1.3840 - accuracy: 0.4188 - mae: 0.1340 - val_loss: 1.2956 - val_accuracy: 0.4326 - val_mae: 0.1328\n",
      "Epoch 6/150\n",
      "105/108 [============================>.] - ETA: 0s - loss: 1.3447 - accuracy: 0.4348 - mae: 0.1313\n",
      "Epoch 6: val_accuracy improved from 0.45998 to 0.46707, saving model to 0926-datasets-ml/ml-cn-xmu-(JmolNN)/CNNmodel-20250305_1633/best_model.h5\n"
     ]
    },
    {
     "name": "stderr",
     "output_type": "stream",
     "text": [
      "Epoch 6, Loss: 1.3510, Accuracy: 0.4298, Val_Loss: 1.2853, Val_Accuracy: 0.4671\n"
     ]
    },
    {
     "name": "stdout",
     "output_type": "stream",
     "text": [
      "108/108 [==============================] - 2s 15ms/step - loss: 1.3510 - accuracy: 0.4298 - mae: 0.1316 - val_loss: 1.2853 - val_accuracy: 0.4671 - val_mae: 0.1330\n",
      "Epoch 7/150\n",
      "105/108 [============================>.] - ETA: 0s - loss: 1.3421 - accuracy: 0.4345 - mae: 0.1326\n",
      "Epoch 7: val_accuracy did not improve from 0.46707\n"
     ]
    },
    {
     "name": "stderr",
     "output_type": "stream",
     "text": [
      "Epoch 7, Loss: 1.3406, Accuracy: 0.4330, Val_Loss: 1.2827, Val_Accuracy: 0.4509\n"
     ]
    },
    {
     "name": "stdout",
     "output_type": "stream",
     "text": [
      "108/108 [==============================] - 2s 14ms/step - loss: 1.3406 - accuracy: 0.4330 - mae: 0.1325 - val_loss: 1.2827 - val_accuracy: 0.4509 - val_mae: 0.1324\n",
      "Epoch 8/150\n",
      "105/108 [============================>.] - ETA: 0s - loss: 1.3235 - accuracy: 0.4449 - mae: 0.1319\n",
      "Epoch 8: val_accuracy did not improve from 0.46707\n"
     ]
    },
    {
     "name": "stderr",
     "output_type": "stream",
     "text": [
      "Epoch 8, Loss: 1.3214, Accuracy: 0.4475, Val_Loss: 1.2642, Val_Accuracy: 0.4590\n"
     ]
    },
    {
     "name": "stdout",
     "output_type": "stream",
     "text": [
      "108/108 [==============================] - 2s 14ms/step - loss: 1.3214 - accuracy: 0.4475 - mae: 0.1317 - val_loss: 1.2642 - val_accuracy: 0.4590 - val_mae: 0.1308\n",
      "Epoch 9/150\n",
      "106/108 [============================>.] - ETA: 0s - loss: 1.3145 - accuracy: 0.4440 - mae: 0.1310\n",
      "Epoch 9: val_accuracy improved from 0.46707 to 0.46809, saving model to 0926-datasets-ml/ml-cn-xmu-(JmolNN)/CNNmodel-20250305_1633/best_model.h5\n"
     ]
    },
    {
     "name": "stderr",
     "output_type": "stream",
     "text": [
      "Epoch 9, Loss: 1.3118, Accuracy: 0.4454, Val_Loss: 1.2449, Val_Accuracy: 0.4681\n"
     ]
    },
    {
     "name": "stdout",
     "output_type": "stream",
     "text": [
      "108/108 [==============================] - 2s 15ms/step - loss: 1.3118 - accuracy: 0.4454 - mae: 0.1309 - val_loss: 1.2449 - val_accuracy: 0.4681 - val_mae: 0.1313\n",
      "Epoch 10/150\n",
      "105/108 [============================>.] - ETA: 0s - loss: 1.2931 - accuracy: 0.4494 - mae: 0.1306\n",
      "Epoch 10: val_accuracy did not improve from 0.46809\n"
     ]
    },
    {
     "name": "stderr",
     "output_type": "stream",
     "text": [
      "Epoch 10, Loss: 1.2929, Accuracy: 0.4498, Val_Loss: 1.2453, Val_Accuracy: 0.4590\n"
     ]
    },
    {
     "name": "stdout",
     "output_type": "stream",
     "text": [
      "108/108 [==============================] - 2s 14ms/step - loss: 1.2929 - accuracy: 0.4498 - mae: 0.1306 - val_loss: 1.2453 - val_accuracy: 0.4590 - val_mae: 0.1303\n",
      "Epoch 11/150\n",
      "106/108 [============================>.] - ETA: 0s - loss: 1.2852 - accuracy: 0.4466 - mae: 0.1295\n",
      "Epoch 11: val_accuracy did not improve from 0.46809\n"
     ]
    },
    {
     "name": "stderr",
     "output_type": "stream",
     "text": [
      "Epoch 11, Loss: 1.2859, Accuracy: 0.4457, Val_Loss: 1.2365, Val_Accuracy: 0.4671\n"
     ]
    },
    {
     "name": "stdout",
     "output_type": "stream",
     "text": [
      "108/108 [==============================] - 1s 14ms/step - loss: 1.2859 - accuracy: 0.4457 - mae: 0.1296 - val_loss: 1.2365 - val_accuracy: 0.4671 - val_mae: 0.1303\n",
      "Epoch 12/150\n",
      "104/108 [===========================>..] - ETA: 0s - loss: 1.2875 - accuracy: 0.4447 - mae: 0.1302\n",
      "Epoch 12: val_accuracy improved from 0.46809 to 0.48430, saving model to 0926-datasets-ml/ml-cn-xmu-(JmolNN)/CNNmodel-20250305_1633/best_model.h5\n"
     ]
    },
    {
     "name": "stderr",
     "output_type": "stream",
     "text": [
      "Epoch 12, Loss: 1.2893, Accuracy: 0.4440, Val_Loss: 1.2352, Val_Accuracy: 0.4843\n"
     ]
    },
    {
     "name": "stdout",
     "output_type": "stream",
     "text": [
      "108/108 [==============================] - 2s 15ms/step - loss: 1.2893 - accuracy: 0.4440 - mae: 0.1304 - val_loss: 1.2352 - val_accuracy: 0.4843 - val_mae: 0.1316\n",
      "Epoch 13/150\n",
      "104/108 [===========================>..] - ETA: 0s - loss: 1.2725 - accuracy: 0.4594 - mae: 0.1290\n",
      "Epoch 13: val_accuracy improved from 0.48430 to 0.48734, saving model to 0926-datasets-ml/ml-cn-xmu-(JmolNN)/CNNmodel-20250305_1633/best_model.h5\n"
     ]
    },
    {
     "name": "stderr",
     "output_type": "stream",
     "text": [
      "Epoch 13, Loss: 1.2708, Accuracy: 0.4573, Val_Loss: 1.2281, Val_Accuracy: 0.4873\n"
     ]
    },
    {
     "name": "stdout",
     "output_type": "stream",
     "text": [
      "108/108 [==============================] - 2s 15ms/step - loss: 1.2708 - accuracy: 0.4573 - mae: 0.1289 - val_loss: 1.2281 - val_accuracy: 0.4873 - val_mae: 0.1295\n",
      "Epoch 14/150\n",
      "106/108 [============================>.] - ETA: 0s - loss: 1.2545 - accuracy: 0.4634 - mae: 0.1276\n",
      "Epoch 14: val_accuracy did not improve from 0.48734\n"
     ]
    },
    {
     "name": "stderr",
     "output_type": "stream",
     "text": [
      "Epoch 14, Loss: 1.2541, Accuracy: 0.4625, Val_Loss: 1.2020, Val_Accuracy: 0.4863\n"
     ]
    },
    {
     "name": "stdout",
     "output_type": "stream",
     "text": [
      "108/108 [==============================] - 1s 14ms/step - loss: 1.2541 - accuracy: 0.4625 - mae: 0.1276 - val_loss: 1.2020 - val_accuracy: 0.4863 - val_mae: 0.1267\n",
      "Epoch 15/150\n",
      "106/108 [============================>.] - ETA: 0s - loss: 1.2507 - accuracy: 0.4729 - mae: 0.1267\n",
      "Epoch 15: val_accuracy did not improve from 0.48734\n"
     ]
    },
    {
     "name": "stderr",
     "output_type": "stream",
     "text": [
      "Epoch 15, Loss: 1.2521, Accuracy: 0.4724, Val_Loss: 1.2104, Val_Accuracy: 0.4853\n"
     ]
    },
    {
     "name": "stdout",
     "output_type": "stream",
     "text": [
      "108/108 [==============================] - 2s 14ms/step - loss: 1.2521 - accuracy: 0.4724 - mae: 0.1267 - val_loss: 1.2104 - val_accuracy: 0.4853 - val_mae: 0.1276\n",
      "Epoch 16/150\n",
      "107/108 [============================>.] - ETA: 0s - loss: 1.2506 - accuracy: 0.4658 - mae: 0.1275\n",
      "Epoch 16: val_accuracy did not improve from 0.48734\n"
     ]
    },
    {
     "name": "stderr",
     "output_type": "stream",
     "text": [
      "Epoch 16, Loss: 1.2510, Accuracy: 0.4651, Val_Loss: 1.1857, Val_Accuracy: 0.4873\n"
     ]
    },
    {
     "name": "stdout",
     "output_type": "stream",
     "text": [
      "108/108 [==============================] - 2s 14ms/step - loss: 1.2510 - accuracy: 0.4651 - mae: 0.1275 - val_loss: 1.1857 - val_accuracy: 0.4873 - val_mae: 0.1256\n",
      "Epoch 17/150\n",
      "108/108 [==============================] - ETA: 0s - loss: 1.2305 - accuracy: 0.4721 - mae: 0.1260\n",
      "Epoch 17: val_accuracy improved from 0.48734 to 0.49645, saving model to 0926-datasets-ml/ml-cn-xmu-(JmolNN)/CNNmodel-20250305_1633/best_model.h5\n"
     ]
    },
    {
     "name": "stderr",
     "output_type": "stream",
     "text": [
      "Epoch 17, Loss: 1.2305, Accuracy: 0.4721, Val_Loss: 1.1726, Val_Accuracy: 0.4965\n"
     ]
    },
    {
     "name": "stdout",
     "output_type": "stream",
     "text": [
      "108/108 [==============================] - 2s 15ms/step - loss: 1.2305 - accuracy: 0.4721 - mae: 0.1260 - val_loss: 1.1726 - val_accuracy: 0.4965 - val_mae: 0.1242\n",
      "Epoch 18/150\n",
      "106/108 [============================>.] - ETA: 0s - loss: 1.2111 - accuracy: 0.4838 - mae: 0.1243\n",
      "Epoch 18: val_accuracy improved from 0.49645 to 0.49747, saving model to 0926-datasets-ml/ml-cn-xmu-(JmolNN)/CNNmodel-20250305_1633/best_model.h5\n"
     ]
    },
    {
     "name": "stderr",
     "output_type": "stream",
     "text": [
      "Epoch 18, Loss: 1.2129, Accuracy: 0.4822, Val_Loss: 1.1578, Val_Accuracy: 0.4975\n"
     ]
    },
    {
     "name": "stdout",
     "output_type": "stream",
     "text": [
      "108/108 [==============================] - 2s 15ms/step - loss: 1.2129 - accuracy: 0.4822 - mae: 0.1244 - val_loss: 1.1578 - val_accuracy: 0.4975 - val_mae: 0.1226\n",
      "Epoch 19/150\n",
      "104/108 [===========================>..] - ETA: 0s - loss: 1.2032 - accuracy: 0.4898 - mae: 0.1237\n",
      "Epoch 19: val_accuracy improved from 0.49747 to 0.52280, saving model to 0926-datasets-ml/ml-cn-xmu-(JmolNN)/CNNmodel-20250305_1633/best_model.h5\n"
     ]
    },
    {
     "name": "stderr",
     "output_type": "stream",
     "text": [
      "Epoch 19, Loss: 1.2030, Accuracy: 0.4900, Val_Loss: 1.1568, Val_Accuracy: 0.5228\n"
     ]
    },
    {
     "name": "stdout",
     "output_type": "stream",
     "text": [
      "108/108 [==============================] - 2s 15ms/step - loss: 1.2030 - accuracy: 0.4900 - mae: 0.1236 - val_loss: 1.1568 - val_accuracy: 0.5228 - val_mae: 0.1248\n",
      "Epoch 20/150\n",
      "105/108 [============================>.] - ETA: 0s - loss: 1.1924 - accuracy: 0.4839 - mae: 0.1235\n",
      "Epoch 20: val_accuracy did not improve from 0.52280\n"
     ]
    },
    {
     "name": "stderr",
     "output_type": "stream",
     "text": [
      "Epoch 20, Loss: 1.1914, Accuracy: 0.4839, Val_Loss: 1.1351, Val_Accuracy: 0.5035\n"
     ]
    },
    {
     "name": "stdout",
     "output_type": "stream",
     "text": [
      "108/108 [==============================] - 2s 14ms/step - loss: 1.1914 - accuracy: 0.4839 - mae: 0.1234 - val_loss: 1.1351 - val_accuracy: 0.5035 - val_mae: 0.1210\n",
      "Epoch 21/150\n",
      "104/108 [===========================>..] - ETA: 0s - loss: 1.1817 - accuracy: 0.4895 - mae: 0.1218\n",
      "Epoch 21: val_accuracy improved from 0.52280 to 0.52584, saving model to 0926-datasets-ml/ml-cn-xmu-(JmolNN)/CNNmodel-20250305_1633/best_model.h5\n"
     ]
    },
    {
     "name": "stderr",
     "output_type": "stream",
     "text": [
      "Epoch 21, Loss: 1.1821, Accuracy: 0.4894, Val_Loss: 1.1347, Val_Accuracy: 0.5258\n"
     ]
    },
    {
     "name": "stdout",
     "output_type": "stream",
     "text": [
      "108/108 [==============================] - 2s 15ms/step - loss: 1.1821 - accuracy: 0.4894 - mae: 0.1216 - val_loss: 1.1347 - val_accuracy: 0.5258 - val_mae: 0.1209\n",
      "Epoch 22/150\n",
      "106/108 [============================>.] - ETA: 0s - loss: 1.1767 - accuracy: 0.4912 - mae: 0.1208\n",
      "Epoch 22: val_accuracy did not improve from 0.52584\n"
     ]
    },
    {
     "name": "stderr",
     "output_type": "stream",
     "text": [
      "Epoch 22, Loss: 1.1758, Accuracy: 0.4929, Val_Loss: 1.1261, Val_Accuracy: 0.5157\n"
     ]
    },
    {
     "name": "stdout",
     "output_type": "stream",
     "text": [
      "108/108 [==============================] - 1s 14ms/step - loss: 1.1758 - accuracy: 0.4929 - mae: 0.1207 - val_loss: 1.1261 - val_accuracy: 0.5157 - val_mae: 0.1195\n",
      "Epoch 23/150\n",
      "106/108 [============================>.] - ETA: 0s - loss: 1.1835 - accuracy: 0.4968 - mae: 0.1210\n",
      "Epoch 23: val_accuracy did not improve from 0.52584\n"
     ]
    },
    {
     "name": "stderr",
     "output_type": "stream",
     "text": [
      "Epoch 23, Loss: 1.1825, Accuracy: 0.4964, Val_Loss: 1.1218, Val_Accuracy: 0.5238\n"
     ]
    },
    {
     "name": "stdout",
     "output_type": "stream",
     "text": [
      "108/108 [==============================] - 2s 14ms/step - loss: 1.1825 - accuracy: 0.4964 - mae: 0.1209 - val_loss: 1.1218 - val_accuracy: 0.5238 - val_mae: 0.1181\n",
      "Epoch 24/150\n",
      "105/108 [============================>.] - ETA: 0s - loss: 1.1692 - accuracy: 0.5080 - mae: 0.1195\n",
      "Epoch 24: val_accuracy improved from 0.52584 to 0.54306, saving model to 0926-datasets-ml/ml-cn-xmu-(JmolNN)/CNNmodel-20250305_1633/best_model.h5\n"
     ]
    },
    {
     "name": "stderr",
     "output_type": "stream",
     "text": [
      "Epoch 24, Loss: 1.1721, Accuracy: 0.5059, Val_Loss: 1.0956, Val_Accuracy: 0.5431\n"
     ]
    },
    {
     "name": "stdout",
     "output_type": "stream",
     "text": [
      "108/108 [==============================] - 2s 15ms/step - loss: 1.1721 - accuracy: 0.5059 - mae: 0.1196 - val_loss: 1.0956 - val_accuracy: 0.5431 - val_mae: 0.1177\n",
      "Epoch 25/150\n",
      "107/108 [============================>.] - ETA: 0s - loss: 1.1517 - accuracy: 0.5307 - mae: 0.1180\n",
      "Epoch 25: val_accuracy did not improve from 0.54306\n"
     ]
    },
    {
     "name": "stderr",
     "output_type": "stream",
     "text": [
      "Epoch 25, Loss: 1.1521, Accuracy: 0.5305, Val_Loss: 1.1040, Val_Accuracy: 0.5360\n"
     ]
    },
    {
     "name": "stdout",
     "output_type": "stream",
     "text": [
      "108/108 [==============================] - 1s 14ms/step - loss: 1.1521 - accuracy: 0.5305 - mae: 0.1180 - val_loss: 1.1040 - val_accuracy: 0.5360 - val_mae: 0.1156\n",
      "Epoch 26/150\n",
      "108/108 [==============================] - ETA: 0s - loss: 1.1389 - accuracy: 0.5288 - mae: 0.1169\n",
      "Epoch 26: val_accuracy did not improve from 0.54306\n"
     ]
    },
    {
     "name": "stderr",
     "output_type": "stream",
     "text": [
      "Epoch 26, Loss: 1.1389, Accuracy: 0.5288, Val_Loss: 1.0793, Val_Accuracy: 0.5431\n"
     ]
    },
    {
     "name": "stdout",
     "output_type": "stream",
     "text": [
      "108/108 [==============================] - 2s 14ms/step - loss: 1.1389 - accuracy: 0.5288 - mae: 0.1169 - val_loss: 1.0793 - val_accuracy: 0.5431 - val_mae: 0.1129\n",
      "Epoch 27/150\n",
      "106/108 [============================>.] - ETA: 0s - loss: 1.1559 - accuracy: 0.5209 - mae: 0.1165\n",
      "Epoch 27: val_accuracy improved from 0.54306 to 0.55522, saving model to 0926-datasets-ml/ml-cn-xmu-(JmolNN)/CNNmodel-20250305_1633/best_model.h5\n"
     ]
    },
    {
     "name": "stderr",
     "output_type": "stream",
     "text": [
      "Epoch 27, Loss: 1.1548, Accuracy: 0.5219, Val_Loss: 1.0673, Val_Accuracy: 0.5552\n"
     ]
    },
    {
     "name": "stdout",
     "output_type": "stream",
     "text": [
      "108/108 [==============================] - 2s 14ms/step - loss: 1.1548 - accuracy: 0.5219 - mae: 0.1166 - val_loss: 1.0673 - val_accuracy: 0.5552 - val_mae: 0.1144\n",
      "Epoch 28/150\n",
      "108/108 [==============================] - ETA: 0s - loss: 1.1331 - accuracy: 0.5288 - mae: 0.1156\n",
      "Epoch 28: val_accuracy did not improve from 0.55522\n"
     ]
    },
    {
     "name": "stderr",
     "output_type": "stream",
     "text": [
      "Epoch 28, Loss: 1.1331, Accuracy: 0.5288, Val_Loss: 1.0869, Val_Accuracy: 0.5542\n"
     ]
    },
    {
     "name": "stdout",
     "output_type": "stream",
     "text": [
      "108/108 [==============================] - 2s 14ms/step - loss: 1.1331 - accuracy: 0.5288 - mae: 0.1156 - val_loss: 1.0869 - val_accuracy: 0.5542 - val_mae: 0.1173\n",
      "Epoch 29/150\n",
      "106/108 [============================>.] - ETA: 0s - loss: 1.1206 - accuracy: 0.5457 - mae: 0.1139\n",
      "Epoch 29: val_accuracy improved from 0.55522 to 0.56738, saving model to 0926-datasets-ml/ml-cn-xmu-(JmolNN)/CNNmodel-20250305_1633/best_model.h5\n"
     ]
    },
    {
     "name": "stderr",
     "output_type": "stream",
     "text": [
      "Epoch 29, Loss: 1.1185, Accuracy: 0.5467, Val_Loss: 1.0681, Val_Accuracy: 0.5674\n"
     ]
    },
    {
     "name": "stdout",
     "output_type": "stream",
     "text": [
      "108/108 [==============================] - 2s 15ms/step - loss: 1.1185 - accuracy: 0.5467 - mae: 0.1139 - val_loss: 1.0681 - val_accuracy: 0.5674 - val_mae: 0.1146\n",
      "Epoch 30/150\n",
      "104/108 [===========================>..] - ETA: 0s - loss: 1.1078 - accuracy: 0.5421 - mae: 0.1135\n",
      "Epoch 30: val_accuracy improved from 0.56738 to 0.60284, saving model to 0926-datasets-ml/ml-cn-xmu-(JmolNN)/CNNmodel-20250305_1633/best_model.h5\n"
     ]
    },
    {
     "name": "stderr",
     "output_type": "stream",
     "text": [
      "Epoch 30, Loss: 1.1097, Accuracy: 0.5418, Val_Loss: 1.0476, Val_Accuracy: 0.6028\n"
     ]
    },
    {
     "name": "stdout",
     "output_type": "stream",
     "text": [
      "108/108 [==============================] - 2s 15ms/step - loss: 1.1097 - accuracy: 0.5418 - mae: 0.1136 - val_loss: 1.0476 - val_accuracy: 0.6028 - val_mae: 0.1126\n",
      "Epoch 31/150\n",
      "106/108 [============================>.] - ETA: 0s - loss: 1.1033 - accuracy: 0.5448 - mae: 0.1129\n",
      "Epoch 31: val_accuracy did not improve from 0.60284\n"
     ]
    },
    {
     "name": "stderr",
     "output_type": "stream",
     "text": [
      "Epoch 31, Loss: 1.1047, Accuracy: 0.5436, Val_Loss: 1.0557, Val_Accuracy: 0.5593\n"
     ]
    },
    {
     "name": "stdout",
     "output_type": "stream",
     "text": [
      "108/108 [==============================] - 2s 14ms/step - loss: 1.1047 - accuracy: 0.5436 - mae: 0.1130 - val_loss: 1.0557 - val_accuracy: 0.5593 - val_mae: 0.1108\n",
      "Epoch 32/150\n",
      "106/108 [============================>.] - ETA: 0s - loss: 1.0963 - accuracy: 0.5433 - mae: 0.1115\n",
      "Epoch 32: val_accuracy did not improve from 0.60284\n"
     ]
    },
    {
     "name": "stderr",
     "output_type": "stream",
     "text": [
      "Epoch 32, Loss: 1.0973, Accuracy: 0.5418, Val_Loss: 1.0398, Val_Accuracy: 0.5643\n"
     ]
    },
    {
     "name": "stdout",
     "output_type": "stream",
     "text": [
      "108/108 [==============================] - 1s 14ms/step - loss: 1.0973 - accuracy: 0.5418 - mae: 0.1116 - val_loss: 1.0398 - val_accuracy: 0.5643 - val_mae: 0.1097\n",
      "Epoch 33/150\n",
      "106/108 [============================>.] - ETA: 0s - loss: 1.1144 - accuracy: 0.5439 - mae: 0.1130\n",
      "Epoch 33: val_accuracy did not improve from 0.60284\n"
     ]
    },
    {
     "name": "stderr",
     "output_type": "stream",
     "text": [
      "Epoch 33, Loss: 1.1135, Accuracy: 0.5450, Val_Loss: 1.0259, Val_Accuracy: 0.5887\n"
     ]
    },
    {
     "name": "stdout",
     "output_type": "stream",
     "text": [
      "108/108 [==============================] - 1s 14ms/step - loss: 1.1135 - accuracy: 0.5450 - mae: 0.1129 - val_loss: 1.0259 - val_accuracy: 0.5887 - val_mae: 0.1100\n",
      "Epoch 34/150\n",
      "105/108 [============================>.] - ETA: 0s - loss: 1.0976 - accuracy: 0.5461 - mae: 0.1117\n",
      "Epoch 34: val_accuracy did not improve from 0.60284\n"
     ]
    },
    {
     "name": "stderr",
     "output_type": "stream",
     "text": [
      "Epoch 34, Loss: 1.0960, Accuracy: 0.5459, Val_Loss: 1.0136, Val_Accuracy: 0.6028\n"
     ]
    },
    {
     "name": "stdout",
     "output_type": "stream",
     "text": [
      "108/108 [==============================] - 1s 14ms/step - loss: 1.0960 - accuracy: 0.5459 - mae: 0.1117 - val_loss: 1.0136 - val_accuracy: 0.6028 - val_mae: 0.1099\n",
      "Epoch 35/150\n",
      "106/108 [============================>.] - ETA: 0s - loss: 1.0769 - accuracy: 0.5637 - mae: 0.1102\n",
      "Epoch 35: val_accuracy did not improve from 0.60284\n"
     ]
    },
    {
     "name": "stderr",
     "output_type": "stream",
     "text": [
      "Epoch 35, Loss: 1.0764, Accuracy: 0.5644, Val_Loss: 1.0618, Val_Accuracy: 0.5603\n"
     ]
    },
    {
     "name": "stdout",
     "output_type": "stream",
     "text": [
      "108/108 [==============================] - 1s 14ms/step - loss: 1.0764 - accuracy: 0.5644 - mae: 0.1102 - val_loss: 1.0618 - val_accuracy: 0.5603 - val_mae: 0.1098\n",
      "Epoch 36/150\n",
      "106/108 [============================>.] - ETA: 0s - loss: 1.0811 - accuracy: 0.5578 - mae: 0.1103\n",
      "Epoch 36: val_accuracy improved from 0.60284 to 0.61398, saving model to 0926-datasets-ml/ml-cn-xmu-(JmolNN)/CNNmodel-20250305_1633/best_model.h5\n"
     ]
    },
    {
     "name": "stderr",
     "output_type": "stream",
     "text": [
      "Epoch 36, Loss: 1.0832, Accuracy: 0.5563, Val_Loss: 0.9912, Val_Accuracy: 0.6140\n"
     ]
    },
    {
     "name": "stdout",
     "output_type": "stream",
     "text": [
      "108/108 [==============================] - 2s 15ms/step - loss: 1.0832 - accuracy: 0.5563 - mae: 0.1103 - val_loss: 0.9912 - val_accuracy: 0.6140 - val_mae: 0.1050\n",
      "Epoch 37/150\n",
      "105/108 [============================>.] - ETA: 0s - loss: 1.0859 - accuracy: 0.5551 - mae: 0.1104\n",
      "Epoch 37: val_accuracy did not improve from 0.61398\n"
     ]
    },
    {
     "name": "stderr",
     "output_type": "stream",
     "text": [
      "Epoch 37, Loss: 1.0866, Accuracy: 0.5520, Val_Loss: 1.0121, Val_Accuracy: 0.6049\n"
     ]
    },
    {
     "name": "stdout",
     "output_type": "stream",
     "text": [
      "108/108 [==============================] - 1s 14ms/step - loss: 1.0866 - accuracy: 0.5520 - mae: 0.1106 - val_loss: 1.0121 - val_accuracy: 0.6049 - val_mae: 0.1100\n",
      "Epoch 38/150\n",
      "108/108 [==============================] - ETA: 0s - loss: 1.0831 - accuracy: 0.5569 - mae: 0.1103\n",
      "Epoch 38: val_accuracy improved from 0.61398 to 0.61803, saving model to 0926-datasets-ml/ml-cn-xmu-(JmolNN)/CNNmodel-20250305_1633/best_model.h5\n"
     ]
    },
    {
     "name": "stderr",
     "output_type": "stream",
     "text": [
      "Epoch 38, Loss: 1.0831, Accuracy: 0.5569, Val_Loss: 0.9962, Val_Accuracy: 0.6180\n"
     ]
    },
    {
     "name": "stdout",
     "output_type": "stream",
     "text": [
      "108/108 [==============================] - 2s 15ms/step - loss: 1.0831 - accuracy: 0.5569 - mae: 0.1103 - val_loss: 0.9962 - val_accuracy: 0.6180 - val_mae: 0.1071\n",
      "Epoch 39/150\n",
      "105/108 [============================>.] - ETA: 0s - loss: 1.0718 - accuracy: 0.5768 - mae: 0.1089\n",
      "Epoch 39: val_accuracy did not improve from 0.61803\n"
     ]
    },
    {
     "name": "stderr",
     "output_type": "stream",
     "text": [
      "Epoch 39, Loss: 1.0695, Accuracy: 0.5771, Val_Loss: 0.9784, Val_Accuracy: 0.6130\n"
     ]
    },
    {
     "name": "stdout",
     "output_type": "stream",
     "text": [
      "108/108 [==============================] - 1s 14ms/step - loss: 1.0695 - accuracy: 0.5771 - mae: 0.1087 - val_loss: 0.9784 - val_accuracy: 0.6130 - val_mae: 0.1045\n",
      "Epoch 40/150\n",
      "105/108 [============================>.] - ETA: 0s - loss: 1.0668 - accuracy: 0.5637 - mae: 0.1082\n",
      "Epoch 40: val_accuracy did not improve from 0.61803\n"
     ]
    },
    {
     "name": "stderr",
     "output_type": "stream",
     "text": [
      "Epoch 40, Loss: 1.0675, Accuracy: 0.5638, Val_Loss: 0.9961, Val_Accuracy: 0.6089\n"
     ]
    },
    {
     "name": "stdout",
     "output_type": "stream",
     "text": [
      "108/108 [==============================] - 1s 14ms/step - loss: 1.0675 - accuracy: 0.5638 - mae: 0.1083 - val_loss: 0.9961 - val_accuracy: 0.6089 - val_mae: 0.1050\n",
      "Epoch 41/150\n",
      "108/108 [==============================] - ETA: 0s - loss: 1.0709 - accuracy: 0.5644 - mae: 0.1087\n",
      "Epoch 41: val_accuracy did not improve from 0.61803\n"
     ]
    },
    {
     "name": "stderr",
     "output_type": "stream",
     "text": [
      "Epoch 41, Loss: 1.0709, Accuracy: 0.5644, Val_Loss: 0.9839, Val_Accuracy: 0.5988\n"
     ]
    },
    {
     "name": "stdout",
     "output_type": "stream",
     "text": [
      "108/108 [==============================] - 2s 14ms/step - loss: 1.0709 - accuracy: 0.5644 - mae: 0.1087 - val_loss: 0.9839 - val_accuracy: 0.5988 - val_mae: 0.1060\n",
      "Epoch 42/150\n",
      "105/108 [============================>.] - ETA: 0s - loss: 1.0757 - accuracy: 0.5673 - mae: 0.1083\n",
      "Epoch 42: val_accuracy did not improve from 0.61803\n"
     ]
    },
    {
     "name": "stderr",
     "output_type": "stream",
     "text": [
      "Epoch 42, Loss: 1.0715, Accuracy: 0.5690, Val_Loss: 0.9694, Val_Accuracy: 0.6140\n"
     ]
    },
    {
     "name": "stdout",
     "output_type": "stream",
     "text": [
      "108/108 [==============================] - 1s 14ms/step - loss: 1.0715 - accuracy: 0.5690 - mae: 0.1080 - val_loss: 0.9694 - val_accuracy: 0.6140 - val_mae: 0.1042\n",
      "Epoch 43/150\n",
      "105/108 [============================>.] - ETA: 0s - loss: 1.0462 - accuracy: 0.5824 - mae: 0.1069\n",
      "Epoch 43: val_accuracy did not improve from 0.61803\n"
     ]
    },
    {
     "name": "stderr",
     "output_type": "stream",
     "text": [
      "Epoch 43, Loss: 1.0466, Accuracy: 0.5838, Val_Loss: 0.9712, Val_Accuracy: 0.6018\n"
     ]
    },
    {
     "name": "stdout",
     "output_type": "stream",
     "text": [
      "108/108 [==============================] - 1s 14ms/step - loss: 1.0466 - accuracy: 0.5838 - mae: 0.1069 - val_loss: 0.9712 - val_accuracy: 0.6018 - val_mae: 0.1038\n",
      "Epoch 44/150\n",
      "106/108 [============================>.] - ETA: 0s - loss: 1.0596 - accuracy: 0.5705 - mae: 0.1073\n",
      "Epoch 44: val_accuracy did not improve from 0.61803\n"
     ]
    },
    {
     "name": "stderr",
     "output_type": "stream",
     "text": [
      "Epoch 44, Loss: 1.0585, Accuracy: 0.5713, Val_Loss: 0.9721, Val_Accuracy: 0.6160\n"
     ]
    },
    {
     "name": "stdout",
     "output_type": "stream",
     "text": [
      "108/108 [==============================] - 1s 14ms/step - loss: 1.0585 - accuracy: 0.5713 - mae: 0.1072 - val_loss: 0.9721 - val_accuracy: 0.6160 - val_mae: 0.1049\n",
      "Epoch 45/150\n",
      "104/108 [===========================>..] - ETA: 0s - loss: 1.0490 - accuracy: 0.5712 - mae: 0.1066\n",
      "Epoch 45: val_accuracy did not improve from 0.61803\n"
     ]
    },
    {
     "name": "stderr",
     "output_type": "stream",
     "text": [
      "Epoch 45, Loss: 1.0525, Accuracy: 0.5702, Val_Loss: 0.9811, Val_Accuracy: 0.6180\n"
     ]
    },
    {
     "name": "stdout",
     "output_type": "stream",
     "text": [
      "108/108 [==============================] - 2s 14ms/step - loss: 1.0525 - accuracy: 0.5702 - mae: 0.1068 - val_loss: 0.9811 - val_accuracy: 0.6180 - val_mae: 0.1057\n",
      "Epoch 46/150\n",
      "106/108 [============================>.] - ETA: 0s - loss: 1.0608 - accuracy: 0.5643 - mae: 0.1078\n",
      "Epoch 46: val_accuracy did not improve from 0.61803\n"
     ]
    },
    {
     "name": "stderr",
     "output_type": "stream",
     "text": [
      "Epoch 46, Loss: 1.0610, Accuracy: 0.5641, Val_Loss: 0.9913, Val_Accuracy: 0.5846\n"
     ]
    },
    {
     "name": "stdout",
     "output_type": "stream",
     "text": [
      "108/108 [==============================] - 2s 14ms/step - loss: 1.0610 - accuracy: 0.5641 - mae: 0.1078 - val_loss: 0.9913 - val_accuracy: 0.5846 - val_mae: 0.1049\n",
      "Epoch 47/150\n",
      "107/108 [============================>.] - ETA: 0s - loss: 1.0609 - accuracy: 0.5768 - mae: 0.1072\n",
      "Epoch 47: val_accuracy did not improve from 0.61803\n"
     ]
    },
    {
     "name": "stderr",
     "output_type": "stream",
     "text": [
      "Epoch 47, Loss: 1.0621, Accuracy: 0.5766, Val_Loss: 1.0034, Val_Accuracy: 0.6059\n"
     ]
    },
    {
     "name": "stdout",
     "output_type": "stream",
     "text": [
      "108/108 [==============================] - 1s 14ms/step - loss: 1.0621 - accuracy: 0.5766 - mae: 0.1072 - val_loss: 1.0034 - val_accuracy: 0.6059 - val_mae: 0.1055\n",
      "Epoch 48/150\n",
      "107/108 [============================>.] - ETA: 0s - loss: 1.0584 - accuracy: 0.5657 - mae: 0.1068\n",
      "Epoch 48: val_accuracy did not improve from 0.61803\n"
     ]
    },
    {
     "name": "stderr",
     "output_type": "stream",
     "text": [
      "Epoch 48, Loss: 1.0575, Accuracy: 0.5664, Val_Loss: 0.9811, Val_Accuracy: 0.6099\n"
     ]
    },
    {
     "name": "stdout",
     "output_type": "stream",
     "text": [
      "108/108 [==============================] - 2s 14ms/step - loss: 1.0575 - accuracy: 0.5664 - mae: 0.1068 - val_loss: 0.9811 - val_accuracy: 0.6099 - val_mae: 0.1038\n",
      "Epoch 49/150\n",
      "106/108 [============================>.] - ETA: 0s - loss: 1.0412 - accuracy: 0.5793 - mae: 0.1057\n",
      "Epoch 49: val_accuracy did not improve from 0.61803\n"
     ]
    },
    {
     "name": "stderr",
     "output_type": "stream",
     "text": [
      "Epoch 49, Loss: 1.0408, Accuracy: 0.5795, Val_Loss: 0.9759, Val_Accuracy: 0.6049\n"
     ]
    },
    {
     "name": "stdout",
     "output_type": "stream",
     "text": [
      "108/108 [==============================] - 1s 14ms/step - loss: 1.0408 - accuracy: 0.5795 - mae: 0.1057 - val_loss: 0.9759 - val_accuracy: 0.6049 - val_mae: 0.1025\n",
      "Epoch 50/150\n",
      "108/108 [==============================] - ETA: 0s - loss: 1.0494 - accuracy: 0.5664 - mae: 0.1068\n",
      "Epoch 50: val_accuracy did not improve from 0.61803\n"
     ]
    },
    {
     "name": "stderr",
     "output_type": "stream",
     "text": [
      "Epoch 50, Loss: 1.0494, Accuracy: 0.5664, Val_Loss: 0.9996, Val_Accuracy: 0.5937\n"
     ]
    },
    {
     "name": "stdout",
     "output_type": "stream",
     "text": [
      "108/108 [==============================] - 2s 14ms/step - loss: 1.0494 - accuracy: 0.5664 - mae: 0.1068 - val_loss: 0.9996 - val_accuracy: 0.5937 - val_mae: 0.1053\n",
      "Epoch 51/150\n",
      "106/108 [============================>.] - ETA: 0s - loss: 1.0807 - accuracy: 0.5610 - mae: 0.1086\n",
      "Epoch 51: val_accuracy did not improve from 0.61803\n"
     ]
    },
    {
     "name": "stderr",
     "output_type": "stream",
     "text": [
      "Epoch 51, Loss: 1.0818, Accuracy: 0.5598, Val_Loss: 0.9905, Val_Accuracy: 0.5856\n"
     ]
    },
    {
     "name": "stdout",
     "output_type": "stream",
     "text": [
      "108/108 [==============================] - 1s 14ms/step - loss: 1.0818 - accuracy: 0.5598 - mae: 0.1087 - val_loss: 0.9905 - val_accuracy: 0.5856 - val_mae: 0.1054\n",
      "Epoch 52/150\n",
      "106/108 [============================>.] - ETA: 0s - loss: 1.0371 - accuracy: 0.5719 - mae: 0.1059\n",
      "Epoch 52: val_accuracy did not improve from 0.61803\n"
     ]
    },
    {
     "name": "stderr",
     "output_type": "stream",
     "text": [
      "Epoch 52, Loss: 1.0346, Accuracy: 0.5722, Val_Loss: 0.9713, Val_Accuracy: 0.6150\n"
     ]
    },
    {
     "name": "stdout",
     "output_type": "stream",
     "text": [
      "108/108 [==============================] - 1s 14ms/step - loss: 1.0346 - accuracy: 0.5722 - mae: 0.1058 - val_loss: 0.9713 - val_accuracy: 0.6150 - val_mae: 0.1038\n",
      "Epoch 53/150\n",
      "105/108 [============================>.] - ETA: 0s - loss: 1.0322 - accuracy: 0.5854 - mae: 0.1049\n",
      "Epoch 53: val_accuracy improved from 0.61803 to 0.61905, saving model to 0926-datasets-ml/ml-cn-xmu-(JmolNN)/CNNmodel-20250305_1633/best_model.h5\n"
     ]
    },
    {
     "name": "stderr",
     "output_type": "stream",
     "text": [
      "Epoch 53, Loss: 1.0328, Accuracy: 0.5852, Val_Loss: 0.9719, Val_Accuracy: 0.6190\n"
     ]
    },
    {
     "name": "stdout",
     "output_type": "stream",
     "text": [
      "108/108 [==============================] - 2s 15ms/step - loss: 1.0328 - accuracy: 0.5852 - mae: 0.1049 - val_loss: 0.9719 - val_accuracy: 0.6190 - val_mae: 0.1021\n",
      "Epoch 54/150\n",
      "105/108 [============================>.] - ETA: 0s - loss: 1.0392 - accuracy: 0.5833 - mae: 0.1056\n",
      "Epoch 54: val_accuracy did not improve from 0.61905\n"
     ]
    },
    {
     "name": "stderr",
     "output_type": "stream",
     "text": [
      "Epoch 54, Loss: 1.0381, Accuracy: 0.5841, Val_Loss: 0.9929, Val_Accuracy: 0.5765\n"
     ]
    },
    {
     "name": "stdout",
     "output_type": "stream",
     "text": [
      "108/108 [==============================] - 1s 14ms/step - loss: 1.0381 - accuracy: 0.5841 - mae: 0.1054 - val_loss: 0.9929 - val_accuracy: 0.5765 - val_mae: 0.1028\n",
      "Epoch 55/150\n",
      "106/108 [============================>.] - ETA: 0s - loss: 1.0357 - accuracy: 0.5808 - mae: 0.1042\n",
      "Epoch 55: val_accuracy did not improve from 0.61905\n"
     ]
    },
    {
     "name": "stderr",
     "output_type": "stream",
     "text": [
      "Epoch 55, Loss: 1.0378, Accuracy: 0.5792, Val_Loss: 0.9656, Val_Accuracy: 0.6140\n"
     ]
    },
    {
     "name": "stdout",
     "output_type": "stream",
     "text": [
      "108/108 [==============================] - 2s 14ms/step - loss: 1.0378 - accuracy: 0.5792 - mae: 0.1045 - val_loss: 0.9656 - val_accuracy: 0.6140 - val_mae: 0.1036\n",
      "Epoch 56/150\n",
      "108/108 [==============================] - ETA: 0s - loss: 1.0151 - accuracy: 0.5931 - mae: 0.1035\n",
      "Epoch 56: val_accuracy did not improve from 0.61905\n"
     ]
    },
    {
     "name": "stderr",
     "output_type": "stream",
     "text": [
      "Epoch 56, Loss: 1.0151, Accuracy: 0.5931, Val_Loss: 1.0210, Val_Accuracy: 0.5593\n"
     ]
    },
    {
     "name": "stdout",
     "output_type": "stream",
     "text": [
      "108/108 [==============================] - 2s 14ms/step - loss: 1.0151 - accuracy: 0.5931 - mae: 0.1035 - val_loss: 1.0210 - val_accuracy: 0.5593 - val_mae: 0.1074\n",
      "Epoch 57/150\n",
      "106/108 [============================>.] - ETA: 0s - loss: 1.0306 - accuracy: 0.5834 - mae: 0.1051\n",
      "Epoch 57: val_accuracy did not improve from 0.61905\n"
     ]
    },
    {
     "name": "stderr",
     "output_type": "stream",
     "text": [
      "Epoch 57, Loss: 1.0283, Accuracy: 0.5838, Val_Loss: 0.9629, Val_Accuracy: 0.6140\n"
     ]
    },
    {
     "name": "stdout",
     "output_type": "stream",
     "text": [
      "108/108 [==============================] - 1s 14ms/step - loss: 1.0283 - accuracy: 0.5838 - mae: 0.1049 - val_loss: 0.9629 - val_accuracy: 0.6140 - val_mae: 0.1016\n",
      "Epoch 58/150\n",
      "104/108 [===========================>..] - ETA: 0s - loss: 1.0418 - accuracy: 0.5829 - mae: 0.1046\n",
      "Epoch 58: val_accuracy did not improve from 0.61905\n"
     ]
    },
    {
     "name": "stderr",
     "output_type": "stream",
     "text": [
      "Epoch 58, Loss: 1.0405, Accuracy: 0.5823, Val_Loss: 0.9945, Val_Accuracy: 0.5907\n"
     ]
    },
    {
     "name": "stdout",
     "output_type": "stream",
     "text": [
      "108/108 [==============================] - 1s 14ms/step - loss: 1.0405 - accuracy: 0.5823 - mae: 0.1046 - val_loss: 0.9945 - val_accuracy: 0.5907 - val_mae: 0.1056\n",
      "Epoch 59/150\n",
      "108/108 [==============================] - ETA: 0s - loss: 1.0266 - accuracy: 0.5728 - mae: 0.1045\n",
      "Epoch 59: val_accuracy did not improve from 0.61905\n"
     ]
    },
    {
     "name": "stderr",
     "output_type": "stream",
     "text": [
      "Epoch 59, Loss: 1.0266, Accuracy: 0.5728, Val_Loss: 0.9721, Val_Accuracy: 0.6008\n"
     ]
    },
    {
     "name": "stdout",
     "output_type": "stream",
     "text": [
      "108/108 [==============================] - 2s 14ms/step - loss: 1.0266 - accuracy: 0.5728 - mae: 0.1045 - val_loss: 0.9721 - val_accuracy: 0.6008 - val_mae: 0.1001\n",
      "Epoch 60/150\n",
      "105/108 [============================>.] - ETA: 0s - loss: 1.0112 - accuracy: 0.5875 - mae: 0.1028\n",
      "Epoch 60: val_accuracy did not improve from 0.61905\n"
     ]
    },
    {
     "name": "stderr",
     "output_type": "stream",
     "text": [
      "Epoch 60, Loss: 1.0130, Accuracy: 0.5861, Val_Loss: 0.9899, Val_Accuracy: 0.6008\n"
     ]
    },
    {
     "name": "stdout",
     "output_type": "stream",
     "text": [
      "108/108 [==============================] - 2s 14ms/step - loss: 1.0130 - accuracy: 0.5861 - mae: 0.1031 - val_loss: 0.9899 - val_accuracy: 0.6008 - val_mae: 0.1024\n",
      "Epoch 61/150\n",
      "104/108 [===========================>..] - ETA: 0s - loss: 1.0328 - accuracy: 0.5787 - mae: 0.1048\n",
      "Epoch 61: val_accuracy improved from 0.61905 to 0.62107, saving model to 0926-datasets-ml/ml-cn-xmu-(JmolNN)/CNNmodel-20250305_1633/best_model.h5\n"
     ]
    },
    {
     "name": "stderr",
     "output_type": "stream",
     "text": [
      "Epoch 61, Loss: 1.0318, Accuracy: 0.5818, Val_Loss: 0.9555, Val_Accuracy: 0.6211\n"
     ]
    },
    {
     "name": "stdout",
     "output_type": "stream",
     "text": [
      "108/108 [==============================] - 2s 15ms/step - loss: 1.0318 - accuracy: 0.5818 - mae: 0.1049 - val_loss: 0.9555 - val_accuracy: 0.6211 - val_mae: 0.1019\n",
      "Epoch 62/150\n",
      "107/108 [============================>.] - ETA: 0s - loss: 1.0246 - accuracy: 0.5809 - mae: 0.1043\n",
      "Epoch 62: val_accuracy did not improve from 0.62107\n"
     ]
    },
    {
     "name": "stderr",
     "output_type": "stream",
     "text": [
      "Epoch 62, Loss: 1.0233, Accuracy: 0.5815, Val_Loss: 0.9521, Val_Accuracy: 0.6150\n"
     ]
    },
    {
     "name": "stdout",
     "output_type": "stream",
     "text": [
      "108/108 [==============================] - 2s 14ms/step - loss: 1.0233 - accuracy: 0.5815 - mae: 0.1042 - val_loss: 0.9521 - val_accuracy: 0.6150 - val_mae: 0.1007\n",
      "Epoch 63/150\n",
      "105/108 [============================>.] - ETA: 0s - loss: 1.0160 - accuracy: 0.5896 - mae: 0.1041\n",
      "Epoch 63: val_accuracy did not improve from 0.62107\n"
     ]
    },
    {
     "name": "stderr",
     "output_type": "stream",
     "text": [
      "Epoch 63, Loss: 1.0119, Accuracy: 0.5919, Val_Loss: 0.9572, Val_Accuracy: 0.6099\n"
     ]
    },
    {
     "name": "stdout",
     "output_type": "stream",
     "text": [
      "108/108 [==============================] - 1s 14ms/step - loss: 1.0119 - accuracy: 0.5919 - mae: 0.1038 - val_loss: 0.9572 - val_accuracy: 0.6099 - val_mae: 0.0993\n",
      "Epoch 64/150\n",
      "105/108 [============================>.] - ETA: 0s - loss: 1.0224 - accuracy: 0.5929 - mae: 0.1034\n",
      "Epoch 64: val_accuracy improved from 0.62107 to 0.63121, saving model to 0926-datasets-ml/ml-cn-xmu-(JmolNN)/CNNmodel-20250305_1633/best_model.h5\n"
     ]
    },
    {
     "name": "stderr",
     "output_type": "stream",
     "text": [
      "Epoch 64, Loss: 1.0208, Accuracy: 0.5936, Val_Loss: 0.9306, Val_Accuracy: 0.6312\n"
     ]
    },
    {
     "name": "stdout",
     "output_type": "stream",
     "text": [
      "108/108 [==============================] - 2s 15ms/step - loss: 1.0208 - accuracy: 0.5936 - mae: 0.1033 - val_loss: 0.9306 - val_accuracy: 0.6312 - val_mae: 0.0988\n",
      "Epoch 65/150\n",
      "107/108 [============================>.] - ETA: 0s - loss: 1.0069 - accuracy: 0.5990 - mae: 0.1022\n",
      "Epoch 65: val_accuracy did not improve from 0.63121\n"
     ]
    },
    {
     "name": "stderr",
     "output_type": "stream",
     "text": [
      "Epoch 65, Loss: 1.0080, Accuracy: 0.5994, Val_Loss: 0.9497, Val_Accuracy: 0.6089\n"
     ]
    },
    {
     "name": "stdout",
     "output_type": "stream",
     "text": [
      "108/108 [==============================] - 2s 14ms/step - loss: 1.0080 - accuracy: 0.5994 - mae: 0.1022 - val_loss: 0.9497 - val_accuracy: 0.6089 - val_mae: 0.1009\n",
      "Epoch 66/150\n",
      "107/108 [============================>.] - ETA: 0s - loss: 1.0088 - accuracy: 0.5905 - mae: 0.1022\n",
      "Epoch 66: val_accuracy did not improve from 0.63121\n"
     ]
    },
    {
     "name": "stderr",
     "output_type": "stream",
     "text": [
      "Epoch 66, Loss: 1.0088, Accuracy: 0.5904, Val_Loss: 0.9568, Val_Accuracy: 0.6120\n"
     ]
    },
    {
     "name": "stdout",
     "output_type": "stream",
     "text": [
      "108/108 [==============================] - 2s 14ms/step - loss: 1.0088 - accuracy: 0.5904 - mae: 0.1023 - val_loss: 0.9568 - val_accuracy: 0.6120 - val_mae: 0.1007\n",
      "Epoch 67/150\n",
      "104/108 [===========================>..] - ETA: 0s - loss: 1.0095 - accuracy: 0.5910 - mae: 0.1021\n",
      "Epoch 67: val_accuracy did not improve from 0.63121\n"
     ]
    },
    {
     "name": "stderr",
     "output_type": "stream",
     "text": [
      "Epoch 67, Loss: 1.0152, Accuracy: 0.5910, Val_Loss: 0.9613, Val_Accuracy: 0.6049\n"
     ]
    },
    {
     "name": "stdout",
     "output_type": "stream",
     "text": [
      "108/108 [==============================] - 2s 14ms/step - loss: 1.0152 - accuracy: 0.5910 - mae: 0.1024 - val_loss: 0.9613 - val_accuracy: 0.6049 - val_mae: 0.1013\n",
      "Epoch 68/150\n",
      "108/108 [==============================] - ETA: 0s - loss: 1.0021 - accuracy: 0.5965 - mae: 0.1022\n",
      "Epoch 68: val_accuracy did not improve from 0.63121\n"
     ]
    },
    {
     "name": "stderr",
     "output_type": "stream",
     "text": [
      "Epoch 68, Loss: 1.0021, Accuracy: 0.5965, Val_Loss: 0.9640, Val_Accuracy: 0.6049\n"
     ]
    },
    {
     "name": "stdout",
     "output_type": "stream",
     "text": [
      "108/108 [==============================] - 2s 14ms/step - loss: 1.0021 - accuracy: 0.5965 - mae: 0.1022 - val_loss: 0.9640 - val_accuracy: 0.6049 - val_mae: 0.1003\n",
      "Epoch 69/150\n",
      "105/108 [============================>.] - ETA: 0s - loss: 1.0018 - accuracy: 0.6030 - mae: 0.1019\n",
      "Epoch 69: val_accuracy did not improve from 0.63121\n"
     ]
    },
    {
     "name": "stderr",
     "output_type": "stream",
     "text": [
      "Epoch 69, Loss: 0.9987, Accuracy: 0.6041, Val_Loss: 0.9477, Val_Accuracy: 0.6059\n"
     ]
    },
    {
     "name": "stdout",
     "output_type": "stream",
     "text": [
      "108/108 [==============================] - 1s 14ms/step - loss: 0.9987 - accuracy: 0.6041 - mae: 0.1017 - val_loss: 0.9477 - val_accuracy: 0.6059 - val_mae: 0.0992\n",
      "Epoch 70/150\n",
      "108/108 [==============================] - ETA: 0s - loss: 1.0220 - accuracy: 0.5986 - mae: 0.1023\n",
      "Epoch 70: val_accuracy did not improve from 0.63121\n"
     ]
    },
    {
     "name": "stderr",
     "output_type": "stream",
     "text": [
      "Epoch 70, Loss: 1.0220, Accuracy: 0.5986, Val_Loss: 0.9712, Val_Accuracy: 0.6170\n"
     ]
    },
    {
     "name": "stdout",
     "output_type": "stream",
     "text": [
      "108/108 [==============================] - 2s 14ms/step - loss: 1.0220 - accuracy: 0.5986 - mae: 0.1023 - val_loss: 0.9712 - val_accuracy: 0.6170 - val_mae: 0.1037\n",
      "Epoch 71/150\n",
      "108/108 [==============================] - ETA: 0s - loss: 0.9951 - accuracy: 0.6032 - mae: 0.1017\n",
      "Epoch 71: val_accuracy did not improve from 0.63121\n"
     ]
    },
    {
     "name": "stderr",
     "output_type": "stream",
     "text": [
      "Epoch 71, Loss: 0.9951, Accuracy: 0.6032, Val_Loss: 0.9452, Val_Accuracy: 0.6201\n"
     ]
    },
    {
     "name": "stdout",
     "output_type": "stream",
     "text": [
      "108/108 [==============================] - 1s 14ms/step - loss: 0.9951 - accuracy: 0.6032 - mae: 0.1017 - val_loss: 0.9452 - val_accuracy: 0.6201 - val_mae: 0.1000\n",
      "Epoch 72/150\n",
      "106/108 [============================>.] - ETA: 0s - loss: 0.9940 - accuracy: 0.6052 - mae: 0.1012\n",
      "Epoch 72: val_accuracy did not improve from 0.63121\n"
     ]
    },
    {
     "name": "stderr",
     "output_type": "stream",
     "text": [
      "Epoch 72, Loss: 0.9949, Accuracy: 0.6041, Val_Loss: 0.9276, Val_Accuracy: 0.6292\n"
     ]
    },
    {
     "name": "stdout",
     "output_type": "stream",
     "text": [
      "108/108 [==============================] - 2s 14ms/step - loss: 0.9949 - accuracy: 0.6041 - mae: 0.1013 - val_loss: 0.9276 - val_accuracy: 0.6292 - val_mae: 0.0985\n",
      "Epoch 73/150\n",
      "106/108 [============================>.] - ETA: 0s - loss: 0.9989 - accuracy: 0.5958 - mae: 0.1012\n",
      "Epoch 73: val_accuracy did not improve from 0.63121\n"
     ]
    },
    {
     "name": "stderr",
     "output_type": "stream",
     "text": [
      "Epoch 73, Loss: 0.9986, Accuracy: 0.5965, Val_Loss: 0.9609, Val_Accuracy: 0.6069\n"
     ]
    },
    {
     "name": "stdout",
     "output_type": "stream",
     "text": [
      "108/108 [==============================] - 1s 14ms/step - loss: 0.9986 - accuracy: 0.5965 - mae: 0.1012 - val_loss: 0.9609 - val_accuracy: 0.6069 - val_mae: 0.0979\n",
      "Epoch 74/150\n",
      "106/108 [============================>.] - ETA: 0s - loss: 0.9980 - accuracy: 0.6035 - mae: 0.1015\n",
      "Epoch 74: val_accuracy improved from 0.63121 to 0.63627, saving model to 0926-datasets-ml/ml-cn-xmu-(JmolNN)/CNNmodel-20250305_1633/best_model.h5\n"
     ]
    },
    {
     "name": "stderr",
     "output_type": "stream",
     "text": [
      "Epoch 74, Loss: 1.0010, Accuracy: 0.6026, Val_Loss: 0.9253, Val_Accuracy: 0.6363\n"
     ]
    },
    {
     "name": "stdout",
     "output_type": "stream",
     "text": [
      "108/108 [==============================] - 2s 14ms/step - loss: 1.0010 - accuracy: 0.6026 - mae: 0.1015 - val_loss: 0.9253 - val_accuracy: 0.6363 - val_mae: 0.0970\n",
      "Epoch 75/150\n",
      "106/108 [============================>.] - ETA: 0s - loss: 0.9929 - accuracy: 0.6076 - mae: 0.1005\n",
      "Epoch 75: val_accuracy did not improve from 0.63627\n"
     ]
    },
    {
     "name": "stderr",
     "output_type": "stream",
     "text": [
      "Epoch 75, Loss: 0.9952, Accuracy: 0.6064, Val_Loss: 0.9556, Val_Accuracy: 0.6079\n"
     ]
    },
    {
     "name": "stdout",
     "output_type": "stream",
     "text": [
      "108/108 [==============================] - 2s 14ms/step - loss: 0.9952 - accuracy: 0.6064 - mae: 0.1005 - val_loss: 0.9556 - val_accuracy: 0.6079 - val_mae: 0.0970\n",
      "Epoch 76/150\n",
      "106/108 [============================>.] - ETA: 0s - loss: 1.0183 - accuracy: 0.5861 - mae: 0.1027\n",
      "Epoch 76: val_accuracy did not improve from 0.63627\n"
     ]
    },
    {
     "name": "stderr",
     "output_type": "stream",
     "text": [
      "Epoch 76, Loss: 1.0180, Accuracy: 0.5870, Val_Loss: 0.9654, Val_Accuracy: 0.6059\n"
     ]
    },
    {
     "name": "stdout",
     "output_type": "stream",
     "text": [
      "108/108 [==============================] - 2s 14ms/step - loss: 1.0180 - accuracy: 0.5870 - mae: 0.1026 - val_loss: 0.9654 - val_accuracy: 0.6059 - val_mae: 0.1027\n",
      "Epoch 77/150\n",
      "104/108 [===========================>..] - ETA: 0s - loss: 0.9943 - accuracy: 0.6103 - mae: 0.1011\n",
      "Epoch 77: val_accuracy improved from 0.63627 to 0.63830, saving model to 0926-datasets-ml/ml-cn-xmu-(JmolNN)/CNNmodel-20250305_1633/best_model.h5\n"
     ]
    },
    {
     "name": "stderr",
     "output_type": "stream",
     "text": [
      "Epoch 77, Loss: 0.9904, Accuracy: 0.6130, Val_Loss: 0.9434, Val_Accuracy: 0.6383\n"
     ]
    },
    {
     "name": "stdout",
     "output_type": "stream",
     "text": [
      "108/108 [==============================] - 2s 15ms/step - loss: 0.9904 - accuracy: 0.6130 - mae: 0.1006 - val_loss: 0.9434 - val_accuracy: 0.6383 - val_mae: 0.0979\n",
      "Epoch 78/150\n",
      "104/108 [===========================>..] - ETA: 0s - loss: 0.9904 - accuracy: 0.6073 - mae: 0.0998\n",
      "Epoch 78: val_accuracy did not improve from 0.63830\n"
     ]
    },
    {
     "name": "stderr",
     "output_type": "stream",
     "text": [
      "Epoch 78, Loss: 0.9902, Accuracy: 0.6058, Val_Loss: 0.9475, Val_Accuracy: 0.6099\n"
     ]
    },
    {
     "name": "stdout",
     "output_type": "stream",
     "text": [
      "108/108 [==============================] - 1s 14ms/step - loss: 0.9902 - accuracy: 0.6058 - mae: 0.0998 - val_loss: 0.9475 - val_accuracy: 0.6099 - val_mae: 0.0996\n",
      "Epoch 79/150\n",
      "106/108 [============================>.] - ETA: 0s - loss: 0.9866 - accuracy: 0.6091 - mae: 0.1003\n",
      "Epoch 79: val_accuracy did not improve from 0.63830\n"
     ]
    },
    {
     "name": "stderr",
     "output_type": "stream",
     "text": [
      "Epoch 79, Loss: 0.9896, Accuracy: 0.6078, Val_Loss: 0.9894, Val_Accuracy: 0.6099\n"
     ]
    },
    {
     "name": "stdout",
     "output_type": "stream",
     "text": [
      "108/108 [==============================] - 2s 14ms/step - loss: 0.9896 - accuracy: 0.6078 - mae: 0.1005 - val_loss: 0.9894 - val_accuracy: 0.6099 - val_mae: 0.1026\n",
      "Epoch 80/150\n",
      "106/108 [============================>.] - ETA: 0s - loss: 0.9964 - accuracy: 0.5996 - mae: 0.1006\n",
      "Epoch 80: val_accuracy did not improve from 0.63830\n"
     ]
    },
    {
     "name": "stderr",
     "output_type": "stream",
     "text": [
      "Epoch 80, Loss: 0.9954, Accuracy: 0.5997, Val_Loss: 0.9302, Val_Accuracy: 0.6292\n"
     ]
    },
    {
     "name": "stdout",
     "output_type": "stream",
     "text": [
      "108/108 [==============================] - 1s 14ms/step - loss: 0.9954 - accuracy: 0.5997 - mae: 0.1005 - val_loss: 0.9302 - val_accuracy: 0.6292 - val_mae: 0.0993\n",
      "Epoch 81/150\n",
      "104/108 [===========================>..] - ETA: 0s - loss: 1.0010 - accuracy: 0.6028 - mae: 0.1012\n",
      "Epoch 81: val_accuracy did not improve from 0.63830\n"
     ]
    },
    {
     "name": "stderr",
     "output_type": "stream",
     "text": [
      "Epoch 81, Loss: 0.9986, Accuracy: 0.6029, Val_Loss: 0.9391, Val_Accuracy: 0.6261\n"
     ]
    },
    {
     "name": "stdout",
     "output_type": "stream",
     "text": [
      "108/108 [==============================] - 2s 14ms/step - loss: 0.9986 - accuracy: 0.6029 - mae: 0.1012 - val_loss: 0.9391 - val_accuracy: 0.6261 - val_mae: 0.0986\n",
      "Epoch 82/150\n",
      "106/108 [============================>.] - ETA: 0s - loss: 0.9822 - accuracy: 0.6011 - mae: 0.0997\n",
      "Epoch 82: val_accuracy did not improve from 0.63830\n"
     ]
    },
    {
     "name": "stderr",
     "output_type": "stream",
     "text": [
      "Epoch 82, Loss: 0.9820, Accuracy: 0.6017, Val_Loss: 0.9368, Val_Accuracy: 0.6272\n"
     ]
    },
    {
     "name": "stdout",
     "output_type": "stream",
     "text": [
      "108/108 [==============================] - 1s 14ms/step - loss: 0.9820 - accuracy: 0.6017 - mae: 0.0996 - val_loss: 0.9368 - val_accuracy: 0.6272 - val_mae: 0.0992\n",
      "Epoch 83/150\n",
      "104/108 [===========================>..] - ETA: 0s - loss: 1.0020 - accuracy: 0.6094 - mae: 0.1013\n",
      "Epoch 83: val_accuracy did not improve from 0.63830\n"
     ]
    },
    {
     "name": "stderr",
     "output_type": "stream",
     "text": [
      "Epoch 83, Loss: 1.0011, Accuracy: 0.6093, Val_Loss: 0.9370, Val_Accuracy: 0.6150\n"
     ]
    },
    {
     "name": "stdout",
     "output_type": "stream",
     "text": [
      "108/108 [==============================] - 2s 14ms/step - loss: 1.0011 - accuracy: 0.6093 - mae: 0.1013 - val_loss: 0.9370 - val_accuracy: 0.6150 - val_mae: 0.0998\n",
      "Epoch 84/150\n",
      "105/108 [============================>.] - ETA: 0s - loss: 1.0041 - accuracy: 0.5994 - mae: 0.1015\n",
      "Epoch 84: val_accuracy did not improve from 0.63830\n"
     ]
    },
    {
     "name": "stderr",
     "output_type": "stream",
     "text": [
      "Epoch 84, Loss: 1.0010, Accuracy: 0.6014, Val_Loss: 0.9334, Val_Accuracy: 0.6302\n"
     ]
    },
    {
     "name": "stdout",
     "output_type": "stream",
     "text": [
      "108/108 [==============================] - 2s 14ms/step - loss: 1.0010 - accuracy: 0.6014 - mae: 0.1012 - val_loss: 0.9334 - val_accuracy: 0.6302 - val_mae: 0.0997\n",
      "Epoch 85/150\n",
      "104/108 [===========================>..] - ETA: 0s - loss: 1.0016 - accuracy: 0.5931 - mae: 0.1015\n",
      "Epoch 85: val_accuracy did not improve from 0.63830\n"
     ]
    },
    {
     "name": "stderr",
     "output_type": "stream",
     "text": [
      "Epoch 85, Loss: 1.0040, Accuracy: 0.5925, Val_Loss: 0.9492, Val_Accuracy: 0.6272\n"
     ]
    },
    {
     "name": "stdout",
     "output_type": "stream",
     "text": [
      "108/108 [==============================] - 1s 14ms/step - loss: 1.0040 - accuracy: 0.5925 - mae: 0.1017 - val_loss: 0.9492 - val_accuracy: 0.6272 - val_mae: 0.1022\n",
      "Epoch 86/150\n",
      "106/108 [============================>.] - ETA: 0s - loss: 0.9716 - accuracy: 0.6173 - mae: 0.0994\n",
      "Epoch 86: val_accuracy improved from 0.63830 to 0.64032, saving model to 0926-datasets-ml/ml-cn-xmu-(JmolNN)/CNNmodel-20250305_1633/best_model.h5\n"
     ]
    },
    {
     "name": "stderr",
     "output_type": "stream",
     "text": [
      "Epoch 86, Loss: 0.9711, Accuracy: 0.6179, Val_Loss: 0.9094, Val_Accuracy: 0.6403\n"
     ]
    },
    {
     "name": "stdout",
     "output_type": "stream",
     "text": [
      "108/108 [==============================] - 2s 15ms/step - loss: 0.9711 - accuracy: 0.6179 - mae: 0.0992 - val_loss: 0.9094 - val_accuracy: 0.6403 - val_mae: 0.0952\n",
      "Epoch 87/150\n",
      "106/108 [============================>.] - ETA: 0s - loss: 1.0047 - accuracy: 0.5923 - mae: 0.1007\n",
      "Epoch 87: val_accuracy did not improve from 0.64032\n"
     ]
    },
    {
     "name": "stderr",
     "output_type": "stream",
     "text": [
      "Epoch 87, Loss: 1.0035, Accuracy: 0.5939, Val_Loss: 0.9455, Val_Accuracy: 0.6302\n"
     ]
    },
    {
     "name": "stdout",
     "output_type": "stream",
     "text": [
      "108/108 [==============================] - 1s 14ms/step - loss: 1.0035 - accuracy: 0.5939 - mae: 0.1008 - val_loss: 0.9455 - val_accuracy: 0.6302 - val_mae: 0.1010\n",
      "Epoch 88/150\n",
      "108/108 [==============================] - ETA: 0s - loss: 0.9771 - accuracy: 0.6188 - mae: 0.0995\n",
      "Epoch 88: val_accuracy did not improve from 0.64032\n"
     ]
    },
    {
     "name": "stderr",
     "output_type": "stream",
     "text": [
      "Epoch 88, Loss: 0.9771, Accuracy: 0.6188, Val_Loss: 0.9370, Val_Accuracy: 0.6282\n"
     ]
    },
    {
     "name": "stdout",
     "output_type": "stream",
     "text": [
      "108/108 [==============================] - 2s 14ms/step - loss: 0.9771 - accuracy: 0.6188 - mae: 0.0995 - val_loss: 0.9370 - val_accuracy: 0.6282 - val_mae: 0.0977\n",
      "Epoch 89/150\n",
      "104/108 [===========================>..] - ETA: 0s - loss: 0.9871 - accuracy: 0.6052 - mae: 0.0989\n",
      "Epoch 89: val_accuracy did not improve from 0.64032\n"
     ]
    },
    {
     "name": "stderr",
     "output_type": "stream",
     "text": [
      "Epoch 89, Loss: 0.9842, Accuracy: 0.6055, Val_Loss: 0.9573, Val_Accuracy: 0.6170\n"
     ]
    },
    {
     "name": "stdout",
     "output_type": "stream",
     "text": [
      "108/108 [==============================] - 1s 14ms/step - loss: 0.9842 - accuracy: 0.6055 - mae: 0.0989 - val_loss: 0.9573 - val_accuracy: 0.6170 - val_mae: 0.1000\n",
      "Epoch 90/150\n",
      "104/108 [===========================>..] - ETA: 0s - loss: 0.9813 - accuracy: 0.6061 - mae: 0.0994\n",
      "Epoch 90: val_accuracy did not improve from 0.64032\n"
     ]
    },
    {
     "name": "stderr",
     "output_type": "stream",
     "text": [
      "Epoch 90, Loss: 0.9798, Accuracy: 0.6081, Val_Loss: 0.9410, Val_Accuracy: 0.6302\n"
     ]
    },
    {
     "name": "stdout",
     "output_type": "stream",
     "text": [
      "108/108 [==============================] - 1s 14ms/step - loss: 0.9798 - accuracy: 0.6081 - mae: 0.0993 - val_loss: 0.9410 - val_accuracy: 0.6302 - val_mae: 0.0984\n",
      "Epoch 91/150\n",
      "105/108 [============================>.] - ETA: 0s - loss: 0.9903 - accuracy: 0.6000 - mae: 0.0999\n",
      "Epoch 91: val_accuracy did not improve from 0.64032\n"
     ]
    },
    {
     "name": "stderr",
     "output_type": "stream",
     "text": [
      "Epoch 91, Loss: 0.9873, Accuracy: 0.6012, Val_Loss: 0.9376, Val_Accuracy: 0.6190\n"
     ]
    },
    {
     "name": "stdout",
     "output_type": "stream",
     "text": [
      "108/108 [==============================] - 2s 14ms/step - loss: 0.9873 - accuracy: 0.6012 - mae: 0.0997 - val_loss: 0.9376 - val_accuracy: 0.6190 - val_mae: 0.0984\n",
      "Epoch 92/150\n",
      "106/108 [============================>.] - ETA: 0s - loss: 0.9896 - accuracy: 0.6067 - mae: 0.0998\n",
      "Epoch 92: val_accuracy did not improve from 0.64032\n"
     ]
    },
    {
     "name": "stderr",
     "output_type": "stream",
     "text": [
      "Epoch 92, Loss: 0.9883, Accuracy: 0.6069, Val_Loss: 1.0071, Val_Accuracy: 0.6039\n"
     ]
    },
    {
     "name": "stdout",
     "output_type": "stream",
     "text": [
      "108/108 [==============================] - 1s 14ms/step - loss: 0.9883 - accuracy: 0.6069 - mae: 0.0998 - val_loss: 1.0071 - val_accuracy: 0.6039 - val_mae: 0.1048\n",
      "Epoch 93/150\n",
      "106/108 [============================>.] - ETA: 0s - loss: 0.9877 - accuracy: 0.6041 - mae: 0.1000\n",
      "Epoch 93: val_accuracy did not improve from 0.64032\n"
     ]
    },
    {
     "name": "stderr",
     "output_type": "stream",
     "text": [
      "Epoch 93, Loss: 0.9873, Accuracy: 0.6052, Val_Loss: 0.9458, Val_Accuracy: 0.6292\n"
     ]
    },
    {
     "name": "stdout",
     "output_type": "stream",
     "text": [
      "108/108 [==============================] - 1s 14ms/step - loss: 0.9873 - accuracy: 0.6052 - mae: 0.1001 - val_loss: 0.9458 - val_accuracy: 0.6292 - val_mae: 0.1012\n",
      "Epoch 94/150\n",
      "107/108 [============================>.] - ETA: 0s - loss: 0.9881 - accuracy: 0.6060 - mae: 0.0997\n",
      "Epoch 94: val_accuracy did not improve from 0.64032\n"
     ]
    },
    {
     "name": "stderr",
     "output_type": "stream",
     "text": [
      "Epoch 94, Loss: 0.9897, Accuracy: 0.6046, Val_Loss: 0.9615, Val_Accuracy: 0.6201\n"
     ]
    },
    {
     "name": "stdout",
     "output_type": "stream",
     "text": [
      "108/108 [==============================] - 2s 14ms/step - loss: 0.9897 - accuracy: 0.6046 - mae: 0.0998 - val_loss: 0.9615 - val_accuracy: 0.6201 - val_mae: 0.1028\n",
      "Epoch 95/150\n",
      "107/108 [============================>.] - ETA: 0s - loss: 0.9730 - accuracy: 0.6069 - mae: 0.0988\n",
      "Epoch 95: val_accuracy did not improve from 0.64032\n"
     ]
    },
    {
     "name": "stderr",
     "output_type": "stream",
     "text": [
      "Epoch 95, Loss: 0.9728, Accuracy: 0.6058, Val_Loss: 0.9511, Val_Accuracy: 0.6028\n"
     ]
    },
    {
     "name": "stdout",
     "output_type": "stream",
     "text": [
      "108/108 [==============================] - 1s 14ms/step - loss: 0.9728 - accuracy: 0.6058 - mae: 0.0988 - val_loss: 0.9511 - val_accuracy: 0.6028 - val_mae: 0.1004\n",
      "Epoch 96/150\n",
      "104/108 [===========================>..] - ETA: 0s - loss: 0.9984 - accuracy: 0.6148 - mae: 0.0998\n",
      "Epoch 96: val_accuracy did not improve from 0.64032\n"
     ]
    },
    {
     "name": "stderr",
     "output_type": "stream",
     "text": [
      "Epoch 96, Loss: 0.9978, Accuracy: 0.6142, Val_Loss: 0.9169, Val_Accuracy: 0.6241\n"
     ]
    },
    {
     "name": "stdout",
     "output_type": "stream",
     "text": [
      "108/108 [==============================] - 2s 14ms/step - loss: 0.9978 - accuracy: 0.6142 - mae: 0.0997 - val_loss: 0.9169 - val_accuracy: 0.6241 - val_mae: 0.0965\n",
      "Epoch 97/150\n",
      "106/108 [============================>.] - ETA: 0s - loss: 0.9789 - accuracy: 0.6117 - mae: 0.0996\n",
      "Epoch 97: val_accuracy did not improve from 0.64032\n"
     ]
    },
    {
     "name": "stderr",
     "output_type": "stream",
     "text": [
      "Epoch 97, Loss: 0.9802, Accuracy: 0.6122, Val_Loss: 0.9773, Val_Accuracy: 0.6211\n"
     ]
    },
    {
     "name": "stdout",
     "output_type": "stream",
     "text": [
      "108/108 [==============================] - 1s 14ms/step - loss: 0.9802 - accuracy: 0.6122 - mae: 0.0998 - val_loss: 0.9773 - val_accuracy: 0.6211 - val_mae: 0.1049\n",
      "Epoch 98/150\n",
      "106/108 [============================>.] - ETA: 0s - loss: 0.9838 - accuracy: 0.6153 - mae: 0.0997\n",
      "Epoch 98: val_accuracy did not improve from 0.64032\n"
     ]
    },
    {
     "name": "stderr",
     "output_type": "stream",
     "text": [
      "Epoch 98, Loss: 0.9867, Accuracy: 0.6142, Val_Loss: 0.9394, Val_Accuracy: 0.6292\n"
     ]
    },
    {
     "name": "stdout",
     "output_type": "stream",
     "text": [
      "108/108 [==============================] - 1s 14ms/step - loss: 0.9867 - accuracy: 0.6142 - mae: 0.0999 - val_loss: 0.9394 - val_accuracy: 0.6292 - val_mae: 0.0971\n",
      "Epoch 99/150\n",
      "106/108 [============================>.] - ETA: 0s - loss: 0.9661 - accuracy: 0.6132 - mae: 0.0984\n",
      "Epoch 99: val_accuracy did not improve from 0.64032\n"
     ]
    },
    {
     "name": "stderr",
     "output_type": "stream",
     "text": [
      "Epoch 99, Loss: 0.9654, Accuracy: 0.6142, Val_Loss: 0.9540, Val_Accuracy: 0.6028\n"
     ]
    },
    {
     "name": "stdout",
     "output_type": "stream",
     "text": [
      "108/108 [==============================] - 2s 14ms/step - loss: 0.9654 - accuracy: 0.6142 - mae: 0.0982 - val_loss: 0.9540 - val_accuracy: 0.6028 - val_mae: 0.1011\n",
      "Epoch 100/150\n",
      "104/108 [===========================>..] - ETA: 0s - loss: 0.9686 - accuracy: 0.6094 - mae: 0.0978\n",
      "Epoch 100: val_accuracy did not improve from 0.64032\n"
     ]
    },
    {
     "name": "stderr",
     "output_type": "stream",
     "text": [
      "Epoch 100, Loss: 0.9673, Accuracy: 0.6101, Val_Loss: 0.9511, Val_Accuracy: 0.6272\n"
     ]
    },
    {
     "name": "stdout",
     "output_type": "stream",
     "text": [
      "108/108 [==============================] - 1s 14ms/step - loss: 0.9673 - accuracy: 0.6101 - mae: 0.0977 - val_loss: 0.9511 - val_accuracy: 0.6272 - val_mae: 0.1022\n",
      "Epoch 101/150\n",
      "106/108 [============================>.] - ETA: 0s - loss: 0.9602 - accuracy: 0.6138 - mae: 0.0972\n",
      "Epoch 101: val_accuracy did not improve from 0.64032\n"
     ]
    },
    {
     "name": "stderr",
     "output_type": "stream",
     "text": [
      "Epoch 101, Loss: 0.9591, Accuracy: 0.6151, Val_Loss: 0.9353, Val_Accuracy: 0.6190\n"
     ]
    },
    {
     "name": "stdout",
     "output_type": "stream",
     "text": [
      "108/108 [==============================] - 1s 14ms/step - loss: 0.9591 - accuracy: 0.6151 - mae: 0.0970 - val_loss: 0.9353 - val_accuracy: 0.6190 - val_mae: 0.0976\n",
      "Epoch 102/150\n",
      "107/108 [============================>.] - ETA: 0s - loss: 0.9800 - accuracy: 0.6171 - mae: 0.0988\n",
      "Epoch 102: val_accuracy did not improve from 0.64032\n"
     ]
    },
    {
     "name": "stderr",
     "output_type": "stream",
     "text": [
      "Epoch 102, Loss: 0.9790, Accuracy: 0.6177, Val_Loss: 0.9647, Val_Accuracy: 0.6120\n"
     ]
    },
    {
     "name": "stdout",
     "output_type": "stream",
     "text": [
      "108/108 [==============================] - 2s 14ms/step - loss: 0.9790 - accuracy: 0.6177 - mae: 0.0988 - val_loss: 0.9647 - val_accuracy: 0.6120 - val_mae: 0.1030\n",
      "Epoch 103/150\n",
      "104/108 [===========================>..] - ETA: 0s - loss: 0.9704 - accuracy: 0.6097 - mae: 0.0989\n",
      "Epoch 103: val_accuracy did not improve from 0.64032\n"
     ]
    },
    {
     "name": "stderr",
     "output_type": "stream",
     "text": [
      "Epoch 103, Loss: 0.9697, Accuracy: 0.6098, Val_Loss: 0.9508, Val_Accuracy: 0.6150\n"
     ]
    },
    {
     "name": "stdout",
     "output_type": "stream",
     "text": [
      "108/108 [==============================] - 2s 14ms/step - loss: 0.9697 - accuracy: 0.6098 - mae: 0.0987 - val_loss: 0.9508 - val_accuracy: 0.6150 - val_mae: 0.0991\n",
      "Epoch 104/150\n",
      "107/108 [============================>.] - ETA: 0s - loss: 0.9660 - accuracy: 0.6154 - mae: 0.0978\n",
      "Epoch 104: val_accuracy did not improve from 0.64032\n"
     ]
    },
    {
     "name": "stderr",
     "output_type": "stream",
     "text": [
      "Epoch 104, Loss: 0.9651, Accuracy: 0.6153, Val_Loss: 0.9421, Val_Accuracy: 0.6170\n"
     ]
    },
    {
     "name": "stdout",
     "output_type": "stream",
     "text": [
      "108/108 [==============================] - 2s 14ms/step - loss: 0.9651 - accuracy: 0.6153 - mae: 0.0978 - val_loss: 0.9421 - val_accuracy: 0.6170 - val_mae: 0.0997\n",
      "Epoch 105/150\n",
      "105/108 [============================>.] - ETA: 0s - loss: 0.9687 - accuracy: 0.6068 - mae: 0.0984\n",
      "Epoch 105: val_accuracy did not improve from 0.64032\n"
     ]
    },
    {
     "name": "stderr",
     "output_type": "stream",
     "text": [
      "Epoch 105, Loss: 0.9713, Accuracy: 0.6072, Val_Loss: 0.9255, Val_Accuracy: 0.6261\n"
     ]
    },
    {
     "name": "stdout",
     "output_type": "stream",
     "text": [
      "108/108 [==============================] - 1s 14ms/step - loss: 0.9713 - accuracy: 0.6072 - mae: 0.0985 - val_loss: 0.9255 - val_accuracy: 0.6261 - val_mae: 0.0963\n",
      "Epoch 106/150\n",
      "105/108 [============================>.] - ETA: 0s - loss: 0.9692 - accuracy: 0.6021 - mae: 0.0982\n",
      "Epoch 106: val_accuracy did not improve from 0.64032\n"
     ]
    },
    {
     "name": "stderr",
     "output_type": "stream",
     "text": [
      "Epoch 106, Loss: 0.9709, Accuracy: 0.6014, Val_Loss: 0.9448, Val_Accuracy: 0.6292\n"
     ]
    },
    {
     "name": "stdout",
     "output_type": "stream",
     "text": [
      "108/108 [==============================] - 2s 14ms/step - loss: 0.9709 - accuracy: 0.6014 - mae: 0.0984 - val_loss: 0.9448 - val_accuracy: 0.6292 - val_mae: 0.1001\n",
      "16/16 [==============================] - 0s 6ms/step - loss: 0.9508 - accuracy: 0.6235 - mae: 0.0977\n",
      "Test Loss: 0.9507575035095215\n",
      "Test Accuracy: 0.623481810092926\n"
     ]
    }
   ],
   "source": [
    "# Check the unique values and range of the labels\n",
    "print(\"Unique labels in y_train:\", np.unique(y_train))\n",
    "print(\"Unique labels in y_valid:\", np.unique(y_valid))\n",
    "print(\"Unique labels in y_test:\", np.unique(y_test))\n",
    "logging.info(f\"Unique labels in y_train: {np.unique(y_train)}\")\n",
    "logging.info(f\"Unique labels in y_valid: {np.unique(y_valid)}\")\n",
    "logging.info(f\"Unique labels in y_test: {np.unique(y_test)}\")\n",
    "# Determine the number of classes and the minimum label value\n",
    "all_labels = np.concatenate((y_train, y_valid, y_test))\n",
    "num_classes = len(np.unique(all_labels))\n",
    "min_label = np.min(all_labels)\n",
    "# Convert labels to one-hot encoding\n",
    "y_train = to_categorical(y_train - min_label, num_classes=num_classes)\n",
    "y_valid = to_categorical(y_valid - min_label, num_classes=num_classes)\n",
    "y_test = to_categorical(y_test - min_label, num_classes=num_classes)\n",
    "X_train = X_train.reshape(-1, X_train.shape[1], 1)\n",
    "X_valid = X_valid.reshape(-1, X_valid.shape[1], 1)\n",
    "X_test = X_test.reshape(-1, X_test.shape[1], 1)\n",
    "model = tf.keras.Sequential([\n",
    "    layers.Conv1D(32, 3, activation='relu', input_shape=(X_train.shape[1], 1)),  # input_shape需要调整为 (特征数, 1)\n",
    "    layers.MaxPooling1D(2),  \n",
    "    layers.Conv1D(64, 3, activation='relu'),\n",
    "    layers.MaxPooling1D(2),\n",
    "    layers.Flatten(),\n",
    "    layers.Dense(64, activation='relu', kernel_regularizer=regularizers.l2(0.001)),\n",
    "    layers.Dropout(0.5),  \n",
    "    layers.Dense(64, activation='relu', kernel_regularizer=regularizers.l2(0.001)),\n",
    "    layers.Dropout(0.5),\n",
    "    layers.Dense(num_classes, activation='softmax')\n",
    "])\n",
    "early_stopping = EarlyStopping(monitor='val_loss', patience=20, restore_best_weights=True, min_delta=0.0005, mode='min')\n",
    "lr_scheduler = ReduceLROnPlateau(monitor='val_loss', factor=0.5, patience=5, verbose=1)\n",
    "# Customize callback class for logging\n",
    "class CustomCallback(keras.callbacks.Callback):\n",
    "    def on_epoch_end(self, epoch, logs=None):\n",
    "        log_message = (f\"Epoch {epoch + 1}, \"\n",
    "                       f\"Loss: {logs['loss']:.4f}, \"\n",
    "                       f\"Accuracy: {logs['accuracy']:.4f}, \"\n",
    "                       f\"Val_Loss: {logs['val_loss']:.4f}, \"\n",
    "                       f\"Val_Accuracy: {logs['val_accuracy']:.4f}\")\n",
    "        logging.info(log_message)\n",
    "# Compile the model\n",
    "optimizer = tf.keras.optimizers.Adam(learning_rate=0.001)\n",
    "model.compile(optimizer='adam',\n",
    "              loss='categorical_crossentropy',  # Classification problem uses cross entropy loss function\n",
    "              metrics=['accuracy','mae']) # Accuracy as an evaluation metric\n",
    "# Save the best model\n",
    "model_file = os.path.join(dir_output, 'best_model.h5')\n",
    "model.save(model_file)\n",
    "print(f\"Best model saved to: {model_file}\")\n",
    "checkpoint = ModelCheckpoint(model_file, monitor='val_accuracy', verbose=1, save_best_only=True, mode='max')\n",
    "# Train the model\n",
    "history = model.fit(X_train, y_train,\n",
    "                    epochs=150,\n",
    "                    batch_size=32,\n",
    "                    validation_data=(X_valid, y_valid),\n",
    "                    callbacks=[early_stopping, checkpoint, CustomCallback()],\n",
    "                    verbose=1)\n",
    "\n",
    "# Evaluate model performance\n",
    "loss, accuracy,mae = model.evaluate(X_test, y_test)\n",
    "print(f'Test Loss: {loss}')\n",
    "print(f'Test Accuracy: {accuracy}')\n"
   ]
  },
  {
   "cell_type": "code",
   "execution_count": 5,
   "id": "bb7cd25b",
   "metadata": {
    "ExecuteTime": {
     "end_time": "2025-03-05T08:35:55.107739Z",
     "start_time": "2025-03-05T08:35:54.883860Z"
    }
   },
   "outputs": [
    {
     "name": "stdout",
     "output_type": "stream",
     "text": [
      "Model structure saved to: 0926-datasets-ml/ml-cn-xmu-(JmolNN)/CNNmodel-20250305_1633/model_structure.png\n"
     ]
    },
    {
     "data": {
      "image/png": "[encoded data removed]",
      "text/plain": [
       "<IPython.core.display.Image object>"
      ]
     },
     "metadata": {},
     "output_type": "display_data"
    }
   ],
   "source": [
    "# Plot and save the model structure\n",
    "model_structure_file = os.path.join(dir_output, 'model_structure.png')\n",
    "plot_model(model, to_file=model_structure_file, show_shapes=True, show_layer_names=True)\n",
    "print(f\"Model structure saved to: {model_structure_file}\")\n",
    "display(Image(filename=model_structure_file))\n"
   ]
  },
  {
   "cell_type": "code",
   "execution_count": 6,
   "id": "ec82fad4",
   "metadata": {
    "ExecuteTime": {
     "end_time": "2025-03-05T08:35:55.141256Z",
     "start_time": "2025-03-05T08:35:55.110365Z"
    }
   },
   "outputs": [
    {
     "name": "stdout",
     "output_type": "stream",
     "text": [
      "Model: \"sequential\"\n",
      "_________________________________________________________________\n",
      " Layer (type)                Output Shape              Param #   \n",
      "=================================================================\n",
      " conv1d (Conv1D)             (None, 998, 32)           128       \n",
      "                                                                 \n",
      " max_pooling1d (MaxPooling1D  (None, 499, 32)          0         \n",
      " )                                                               \n",
      "                                                                 \n",
      " conv1d_1 (Conv1D)           (None, 497, 64)           6208      \n",
      "                                                                 \n",
      " max_pooling1d_1 (MaxPooling  (None, 248, 64)          0         \n",
      " 1D)                                                             \n",
      "                                                                 \n",
      " flatten (Flatten)           (None, 15872)             0         \n",
      "                                                                 \n",
      " dense (Dense)               (None, 64)                1015872   \n",
      "                                                                 \n",
      " dropout (Dropout)           (None, 64)                0         \n",
      "                                                                 \n",
      " dense_1 (Dense)             (None, 64)                4160      \n",
      "                                                                 \n",
      " dropout_1 (Dropout)         (None, 64)                0         \n",
      "                                                                 \n",
      " dense_2 (Dense)             (None, 10)                650       \n",
      "                                                                 \n",
      "=================================================================\n",
      "Total params: 1,027,018\n",
      "Trainable params: 1,027,018\n",
      "Non-trainable params: 0\n",
      "_________________________________________________________________\n",
      "Model summary saved to: 0926-datasets-ml/ml-cn-xmu-(JmolNN)/CNNmodel-20250305_1633/model_summary.txt\n"
     ]
    }
   ],
   "source": [
    "# Print model structure\n",
    "model.summary()\n",
    "# Redirect the output of model.summary() to a file\n",
    "model_summary_path = os.path.join(dir_output, 'model_summary.txt')\n",
    "# Use context manager to open a file and write the model summary\n",
    "with open(model_summary_path, 'w') as f:\n",
    "    # Redirect standard output to the file\n",
    "    model.summary(print_fn=lambda x: f.write(x + '\\n'))\n",
    "\n",
    "print(f\"Model summary saved to: {model_summary_path}\")\n"
   ]
  },
  {
   "cell_type": "markdown",
   "id": "72536e96",
   "metadata": {},
   "source": [
    "# Plot the loss curve of the training process"
   ]
  },
  {
   "cell_type": "code",
   "execution_count": 7,
   "id": "ecb860e7",
   "metadata": {
    "ExecuteTime": {
     "end_time": "2025-03-05T08:35:55.972897Z",
     "start_time": "2025-03-05T08:35:55.143644Z"
    }
   },
   "outputs": [
    {
     "data": {
      "image/png": "[encoded data removed]",
      "text/plain": [
       "<Figure size 720x432 with 1 Axes>"
      ]
     },
     "metadata": {
      "needs_background": "light"
     },
     "output_type": "display_data"
    },
    {
     "data": {
      "image/png": "[encoded data removed]",
      "text/plain": [
       "<Figure size 720x432 with 1 Axes>"
      ]
     },
     "metadata": {
      "needs_background": "light"
     },
     "output_type": "display_data"
    },
    {
     "data": {
      "image/png": "[encoded data removed]",
      "text/plain": [
       "<Figure size 432x432 with 1 Axes>"
      ]
     },
     "metadata": {
      "needs_background": "light"
     },
     "output_type": "display_data"
    }
   ],
   "source": [
    "# Plot the fitting curve and training curve\n",
    "plt.figure(figsize=(10, 6))\n",
    "# Plot training loss and validation loss\n",
    "#plt.subplot(1, 1, 1)\n",
    "plt.plot(history.history['loss'], label='Train Loss',color='blue')\n",
    "plt.plot(history.history['val_loss'], label='Validation Loss',color='red')\n",
    "plt.title('Training and Validation Loss')\n",
    "plt.xlabel('Epoch')\n",
    "plt.ylabel('Loss')\n",
    "plt.legend()\n",
    "plt.tight_layout()\n",
    "plt.grid(True)\n",
    "plt.savefig(os.path.join(dir_output, 'training_validation_loss.png'))\n",
    "plt.show()\n",
    "# Plot training MAE and validation MAE\n",
    "#plt.subplot(1, 1, 1)\n",
    "plt.figure(figsize=(10, 6))\n",
    "plt.plot(history.history['mae'], label='Train MAE',color='blue')\n",
    "plt.plot(history.history['val_mae'], label='Validation MAE',color='red')\n",
    "plt.title('Training and Validation MAE')\n",
    "plt.xlabel('Epoch')\n",
    "plt.ylabel('MAE')\n",
    "plt.legend()\n",
    "plt.tight_layout()\n",
    "plt.grid(True)\n",
    "plt.savefig(os.path.join(dir_output, 'training_validation_mae.png'))\n",
    "plt.show()\n",
    "# Plot training accuracy and validation accuracy\n",
    "plt.figure(figsize=(6, 6))\n",
    "plt.subplot(1, 1, 1)\n",
    "plt.plot(history.history['accuracy'], label='Train Accuracy')\n",
    "plt.plot(history.history['val_accuracy'], label='Validation Accuracy')\n",
    "plt.title('Training and Validation Accuracy')\n",
    "plt.xlabel('Epoch')\n",
    "plt.ylabel('Accuracy')\n",
    "plt.legend()\n",
    "plt.tight_layout()\n",
    "plt.savefig(os.path.join(dir_output, 'training_validation_metrics_classification.png'))\n",
    "plt.show()"
   ]
  },
  {
   "cell_type": "markdown",
   "id": "c74be8f9",
   "metadata": {},
   "source": [
    "# Predict and calculate accuracy\n",
    "\n",
    "## Prediction and Comparison:\n",
    "- The trained model is used to predict the class probabilities for the test set (`X_test`).\n",
    "- `y_test_classes`: The true class labels are converted from one-hot encoding to class indices, adjusted by `min_label`.\n",
    "- `y_pred_classes`: The predicted class labels are derived by selecting the class with the highest probability from the model’s output.\n",
    "\n",
    "## Accuracy Calculation:\n",
    "- The accuracy is computed using `accuracy_score` by comparing the true and predicted class labels.\n",
    "\n",
    "## Evaluation Metrics:\n",
    "- **Mean Squared Error (MSE)**: Measures the average squared differences between true and predicted class labels.\n",
    "- **R² Score**: Indicates the proportion of variance explained by the model; the closer to 1, the better.\n",
    "\n",
    "## Save Predictions:\n",
    "- The predicted class labels (`y_pred_classes`) are saved into a CSV file (`predictions_classification.csv`).\n",
    "\n",
    "## Confusion Matrix:\n",
    "- A confusion matrix is created to assess the model’s performance by showing the counts of true vs. predicted labels.\n",
    "- The matrix is visualized with a heatmap, saved as `confusion_matrix.png`.\n",
    "\n",
    "## Classification Report:\n",
    "- A classification report is generated, displaying precision, recall, f1-score, and support for each class.\n",
    "- The report is saved as `classification_report_classification.txt`.\n",
    "\n",
    "## Plot True vs Predicted Values:\n",
    "- A plot comparing true values (`y_test_classes`) and predicted values (`y_pred_classes`) is generated.\n",
    "- The plot is saved as `true_vs_predicted_classification.png`.\n",
    "\n",
    "## Output Files:\n",
    "- **Predictions**: `predictions_classification.csv`\n",
    "- **Confusion Matrix**: `confusion_matrix.png`\n",
    "- **Classification Report**: `classification_report_classification.txt`\n",
    "- **True vs Predicted Plot**: `true_vs_predicted_classification.png`\n"
   ]
  },
  {
   "cell_type": "code",
   "execution_count": 8,
   "id": "4fc4c81c",
   "metadata": {
    "ExecuteTime": {
     "end_time": "2025-03-05T08:35:56.870643Z",
     "start_time": "2025-03-05T08:35:55.975886Z"
    }
   },
   "outputs": [
    {
     "name": "stdout",
     "output_type": "stream",
     "text": [
      "16/16 [==============================] - 0s 5ms/step\n"
     ]
    },
    {
     "name": "stderr",
     "output_type": "stream",
     "text": [
      "Test accuracy: 0.623482\n",
      "Test MSE: 0.607287\n",
      "Test R² Score: 0.929988\n",
      "Test MAE Score: 0.449393\n"
     ]
    },
    {
     "name": "stdout",
     "output_type": "stream",
     "text": [
      "Test accuracy: 0.623482\n",
      "Test MSE: 0.607287\n",
      "Test R² Score: 0.929988\n",
      "Test MAE: 0.4493927125506073\n"
     ]
    },
    {
     "data": {
      "image/png": "[encoded data removed]",
      "text/plain": [
       "<Figure size 720x504 with 2 Axes>"
      ]
     },
     "metadata": {
      "needs_background": "light"
     },
     "output_type": "display_data"
    },
    {
     "name": "stderr",
     "output_type": "stream",
     "text": [
      "/home/dell-hd/xraylarch/envs/hanxue2/lib/python3.8/site-packages/sklearn/metrics/_classification.py:1471: UndefinedMetricWarning: Precision and F-score are ill-defined and being set to 0.0 in labels with no predicted samples. Use `zero_division` parameter to control this behavior.\n",
      "  _warn_prf(average, modifier, msg_start, len(result))\n",
      "/home/dell-hd/xraylarch/envs/hanxue2/lib/python3.8/site-packages/sklearn/metrics/_classification.py:1471: UndefinedMetricWarning: Precision and F-score are ill-defined and being set to 0.0 in labels with no predicted samples. Use `zero_division` parameter to control this behavior.\n",
      "  _warn_prf(average, modifier, msg_start, len(result))\n",
      "/home/dell-hd/xraylarch/envs/hanxue2/lib/python3.8/site-packages/sklearn/metrics/_classification.py:1471: UndefinedMetricWarning: Precision and F-score are ill-defined and being set to 0.0 in labels with no predicted samples. Use `zero_division` parameter to control this behavior.\n",
      "  _warn_prf(average, modifier, msg_start, len(result))\n"
     ]
    },
    {
     "name": "stdout",
     "output_type": "stream",
     "text": [
      "              precision    recall  f1-score   support\n",
      "\n",
      "         3.0       0.84      0.91      0.87       140\n",
      "         4.0       0.76      0.78      0.77       127\n",
      "         5.0       0.68      0.50      0.58        38\n",
      "         6.0       0.00      0.00      0.00        13\n",
      "         7.0       0.00      0.00      0.00        10\n",
      "         8.0       0.30      0.48      0.37        27\n",
      "         9.0       0.37      0.70      0.48        50\n",
      "        10.0       0.33      0.24      0.28        49\n",
      "        11.0       0.33      0.11      0.17        27\n",
      "        12.0       0.00      0.00      0.00        13\n",
      "\n",
      "    accuracy                           0.62       494\n",
      "   macro avg       0.36      0.37      0.35       494\n",
      "weighted avg       0.59      0.62      0.59       494\n",
      "\n"
     ]
    },
    {
     "data": {
      "image/png": "[encoded data removed]",
      "text/plain": [
       "<Figure size 720x360 with 1 Axes>"
      ]
     },
     "metadata": {
      "needs_background": "light"
     },
     "output_type": "display_data"
    }
   ],
   "source": [
    "# Predict test set\n",
    "y_pred_proba = model.predict(X_test)\n",
    "y_test_classes = np.argmax(y_test, axis=1) + min_label\n",
    "y_pred_classes = np.argmax(y_pred_proba, axis=1)+min_label\n",
    "test_accuracy = accuracy_score(y_test_classes, y_pred_classes)\n",
    "print(f\"Test accuracy: {test_accuracy:.6f}\")\n",
    "logging.info(f\"Test accuracy: {test_accuracy:.6f}\")\n",
    "mse = mean_squared_error(y_test_classes, y_pred_classes)\n",
    "r2 = r2_score(y_test_classes, y_pred_classes)\n",
    "mae = mean_absolute_error(y_test_classes, y_pred_classes)\n",
    "print(f\"Test MSE: {mse:.6f}\")\n",
    "print(f\"Test R² Score: {r2:.6f}\")\n",
    "print(f'Test MAE: {mae}')\n",
    "logging.info(f\"Test MSE: {mse:.6f}\")\n",
    "logging.info(f\"Test R² Score: {r2:.6f}\")\n",
    "logging.info(f\"Test MAE Score: {mae:.6f}\")\n",
    "# Save the prediction results\n",
    "np.savetxt(os.path.join(dir_output, 'predictions_classification.csv'), y_pred_classes, delimiter=',', fmt='%d')\n",
    "# Save the actual prediction comparison\n",
    "#comparison = np.stack(y_test, y_pred_classes)\n",
    "#np.savetxt(os.path.join(dir_output, 'true_vs_predicted_classification.csv'), comparison, delimiter=',', fmt='%d', header='True,Predicted')\n",
    "# Save the actual prediction comparison\n",
    "comparison = np.stack((y_test_classes, y_pred_classes), axis=-1)\n",
    "np.savetxt(os.path.join(dir_output, 'true_vs_predicted_classification.csv'), comparison, delimiter=',', fmt='%d', header='True,Predicted')\n",
    "# Plot the confusion matrix\n",
    "cm = confusion_matrix(y_test_classes, y_pred_classes)\n",
    "labels = np.arange(min_label, min_label + cm.shape[0])\n",
    "plt.figure(figsize=(10, 7))\n",
    "sns.heatmap(cm, annot=True, fmt='d', cmap='Blues', xticklabels=labels, yticklabels=labels)\n",
    "plt.xlabel('Predicted')\n",
    "plt.ylabel('Actual')\n",
    "plt.title('Confusion Matrix')\n",
    "plt.savefig(os.path.join(dir_output, 'confusion_matrix.png'))\n",
    "plt.show()\n",
    "# Print classification report\n",
    "report = classification_report(y_test_classes, y_pred_classes)\n",
    "print(report)\n",
    "# Save classification report\n",
    "report_path = os.path.join(dir_output, 'classification_report_classification.txt')\n",
    "with open(report_path, 'w') as f:\n",
    "    f.write(report)\n",
    "# Draw a comparison chart of the predicted results and the actual values\n",
    "plt.figure(figsize=(10, 5))\n",
    "plt.plot(y_test_classes,label='True Values (Test)', color='yellow', linewidth=1.5)\n",
    "plt.plot(y_pred_classes, label='Predicted Values (Test)', color='blue', linewidth=1.5)\n",
    "plt.xlabel('Samples')\n",
    "plt.ylabel('Values')\n",
    "plt.title('Comparison of True and Predicted Values (Test)')\n",
    "plt.legend()\n",
    "plt.grid(True)\n",
    "plt.savefig(os.path.join(dir_output, 'true_vs_predicted_classification.png'))\n",
    "plt.show()\n",
    "\n",
    "\n"
   ]
  },
  {
   "cell_type": "code",
   "execution_count": null,
   "id": "25be66b1",
   "metadata": {},
   "outputs": [],
   "source": []
  }
 ],
 "metadata": {
  "kernelspec": {
   "display_name": "hanxue2",
   "language": "python",
   "name": "hanxue2"
  },
  "language_info": {
   "codemirror_mode": {
    "name": "ipython",
    "version": 3
   },
   "file_extension": ".py",
   "mimetype": "text/x-python",
   "name": "python",
   "nbconvert_exporter": "python",
   "pygments_lexer": "ipython3",
   "version": "3.8.15"
  },
  "toc": {
   "base_numbering": 1,
   "nav_menu": {},
   "number_sections": true,
   "sideBar": true,
   "skip_h1_title": false,
   "title_cell": "Table of Contents",
   "title_sidebar": "Contents",
   "toc_cell": false,
   "toc_position": {},
   "toc_section_display": true,
   "toc_window_display": false
  }
 },
 "nbformat": 4,
 "nbformat_minor": 5
}
