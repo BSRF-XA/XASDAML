{
 "cells": [
  {
   "cell_type": "markdown",
   "id": "dd4ea747",
   "metadata": {},
   "source": [
    "# Program Description: Machine Learning Modeling (MLP Regression - Module 10)\r\n",
    "\r\n",
    "## Overview:\r\n",
    "This module is responsible for building a multi-layer perceptron (MLP) regression model, training it on the provided dataset, and saving the best model after training. The input dataset (feature and label files) is loaded from the output of **Module 9** (where the dataset has been normalized).\r\n",
    "\r\n",
    "## Key Steps:\r\n",
    "\r\n",
    "1. **Dataset Loading**:\r\n",
    "   - The module reads the **normalized dataset** (train and validation sets) generated in **Module 9**.\r\n",
    "   - The dataset includes both **features** and **labels** required for training the model.\r\n",
    "\r\n",
    "2. **Model Construction**:\r\n",
    "   - An MLP regression model is built using the loaded dataset.\r\n",
    "   - The model is configured and optimized for regression tasks.\r\n",
    "\r\n",
    "3. **Training and Evaluation**:\r\n",
    "   - The model is trained using the provided **training dataset**.\r\n",
    "   - The performance of the model is evaluated using the **validation dataset**.\r\n",
    "   - Hyperparameter tuning may be applied to improve the model's accuracy.\r\n",
    "\r\n",
    "4. **Model Saving and Prediction**:\r\n",
    "   - After training, the **best model** (based on validation performance) is saved.\r\n",
    "   - The trained model is used to make predictions on the test set or additional unseen data.\r\n",
    "\r\n",
    "## Output:\r\n",
    "- The best trained model is saved in the `datasets-ml` folder under the current path. The saved model is named as follows:\r\n",
    "  - `MLPmodel--{current_time}`, where `{current_time}` is the timestamp of the training session.\r\n",
    "\r\n",
    "## Note:\r\n",
    "- This module is parallel to other network models, meaning it can be used with other models or in conjunction with other training pipelines.\r\n",
    "- The input data is provided as the output of **Module 9** (dataset normalization).\r\n"
   ]
  },
  {
   "cell_type": "markdown",
   "id": "9389208b",
   "metadata": {},
   "source": [
    "contacts：zhaohf@ihep.ac.cn"
   ]
  },
  {
   "cell_type": "markdown",
   "id": "cbfdca4e",
   "metadata": {},
   "source": [
    "#  Import libraries"
   ]
  },
  {
   "cell_type": "code",
   "execution_count": 1,
   "id": "0069045f",
   "metadata": {
    "ExecuteTime": {
     "end_time": "2025-01-15T11:03:36.789990Z",
     "start_time": "2025-01-15T11:03:34.790294Z"
    }
   },
   "outputs": [
    {
     "name": "stderr",
     "output_type": "stream",
     "text": [
      "2025-01-15 19:03:35.224537: I tensorflow/core/util/util.cc:169] oneDNN custom operations are on. You may see slightly different numerical results due to floating-point round-off errors from different computation orders. To turn them off, set the environment variable `TF_ENABLE_ONEDNN_OPTS=0`.\n"
     ]
    }
   ],
   "source": [
    "import sys\n",
    "import os\n",
    "import numpy as np\n",
    "import matplotlib.pyplot as plt\n",
    "import joblib\n",
    "import logging\n",
    "from datetime import datetime\n",
    "from tensorflow.keras.models import Sequential\n",
    "from tensorflow.keras.layers import Dense, Dropout\n",
    "from tensorflow.keras.callbacks import ModelCheckpoint\n",
    "from tensorflow.keras.optimizers import Adam\n",
    "from sklearn.preprocessing import StandardScaler\n",
    "from sklearn.metrics import mean_squared_error, r2_score\n",
    "from tensorflow.keras import regularizers\n",
    "import keras.callbacks\n",
    "from tensorflow.keras.utils import plot_model\n",
    "from IPython.display import Image, display"
   ]
  },
  {
   "cell_type": "markdown",
   "id": "0d742494",
   "metadata": {},
   "source": [
    "#  Version Information"
   ]
  },
  {
   "cell_type": "code",
   "execution_count": 2,
   "id": "ad05f383",
   "metadata": {
    "ExecuteTime": {
     "end_time": "2025-01-15T11:03:36.797582Z",
     "start_time": "2025-01-15T11:03:36.792277Z"
    }
   },
   "outputs": [
    {
     "name": "stdout",
     "output_type": "stream",
     "text": [
      "tensorflow: 2.9.1\n",
      "numpy: 1.23.5\n",
      "joblib: 1.4.0\n",
      "matplotlib: 3.7.5\n",
      "keras: 2.9.0\n",
      "Python: 3.8.15 | packaged by conda-forge | (default, Nov 22 2022, 08:46:39) \n",
      "[GCC 10.4.0]\n"
     ]
    }
   ],
   "source": [
    "def get_python_version():\n",
    "    return sys.version\n",
    "def get_package_version(package_name):\n",
    "    try:\n",
    "        module = __import__(package_name)\n",
    "        version = getattr(module, '__version__', None)\n",
    "        if version:\n",
    "            return version\n",
    "        else:\n",
    "            return pkg_resources.get_distribution(package_name).version\n",
    "    except (ImportError, AttributeError, pkg_resources.DistributionNotFound):\n",
    "        return \"Version info not found\"\n",
    "\n",
    "packages = ['tensorflow', 'numpy', 'joblib', 'matplotlib','keras']\n",
    "for package in packages:\n",
    "    print(f\"{package}: {get_package_version(package)}\")\n",
    "print(f\"Python: {get_python_version()}\")"
   ]
  },
  {
   "cell_type": "markdown",
   "id": "d3512acb",
   "metadata": {},
   "source": [
    "# Parameter Settings\r\n",
    "\r\n",
    "## Input File Path:\r\n",
    "- `dir_data`: Specifies the directory where the processed dataset (after preprocessing in Module 9) is located.\r\n",
    "- Example: `'0926-datasets/datasets(JmolNN)-pre-xmu-cn'`\r\n",
    "- The dataset includes **training**, **validation**, and **test** (features and labels), loaded from this directory.\r\n",
    "\r\n",
    "## Output File Path:\r\n",
    "- `dir_output`: The directory where the trained MLP model will be saved.\r\n",
    "- The trained model is saved under the `ml-cn-xmu-(JmolNN)` folder, with a timestamp added to the model file name.\r\n",
    "- Example: `'0926-datasets-ml/ml-cn-xmu-(JmolNN)'`\r\n",
    "- The final model is saved with a filename that includes a timestamp for version tracking, e.g., `MLPmodel-20230101_1500`.\r\n",
    "\r\n",
    "## Logging:\r\n",
    "- `log_file_path`: The path where the training log file (`training_log.txt`) will be stored.\r\n",
    "- This log file contains details about the dataset sizes, model training progress, and other relevant information.\r\n",
    "\r\n",
    "## Model Hyperparameters (Structural Parameters):\r\n",
    "The following parameters can be customized within the Multi-Layer Percet in the code yet:\r\n",
    "\r\n",
    "- **Hidden Layers**: The number of hidden layers and their neuron sizes in the MLP.\r\n",
    "  - Example: `[64, 32]` (two hidden layers with 64 and 32 neurons).\r\n",
    "  \r\n",
    "- **Activation Function**: The activation function used for the layers in the network.\r\n",
    "  - Options: `'relu'`, `'tanh'`, `'sigmoid'`, etc.\r\n",
    "  - Default: `'relu'`.\r\n",
    "  \r\n",
    "- **Learning Rate**: The learning rate for the optimization process.\r\n",
    "  - Example: `0.001`.\r\n",
    "  \r\n",
    "- **Epochs**: Number of epochs to train the model.\r\n",
    "  - Example: `50`.\r\n",
    "\r\n",
    "- **Optimizer**: The optimization algorithm to be used.\r\n",
    "  - Options: `'adam'`, `'sgd'`, etc.\r\n",
    "  - Default: `'adam'`.\r\n",
    "  \r\n",
    "- **Loss Function**: The loss function used to optimize the model.\r\n",
    "  - Example: `'mean_squared_error'` (commonly used for regression).\r\n",
    "  \r\n",
    "- **Batch Size**: The batch size for training the model.\r\n",
    "  - Example: `32`."
   ]
  },
  {
   "cell_type": "code",
   "execution_count": 3,
   "id": "81dcae0e",
   "metadata": {
    "ExecuteTime": {
     "end_time": "2025-01-15T11:03:38.286772Z",
     "start_time": "2025-01-15T11:03:36.798737Z"
    }
   },
   "outputs": [
    {
     "name": "stdout",
     "output_type": "stream",
     "text": [
      "File '0926-datasets/datasets(JmolNN)-pre-xmu-cn' exists.\n"
     ]
    },
    {
     "name": "stderr",
     "output_type": "stream",
     "text": [
      "Training set size: X_train: (3455, 1000), y_train: (3455,)\n",
      "Validation set size: X_valid: (987, 1000), y_valid: (987,)\n",
      "Test set size: X_test: (495, 1000), y_test: (495,)\n"
     ]
    },
    {
     "name": "stdout",
     "output_type": "stream",
     "text": [
      "Training set size: X_train: (3455, 1000), y_train: (3455,)\n",
      "Validation set size: X_valid: (987, 1000), y_valid: (987,)\n",
      "Test set size: X_test: (495, 1000), y_test: (495,)\n"
     ]
    }
   ],
   "source": [
    "# Set input file path\n",
    "dir_data = '0926-datasets/datasets(JmolNN)-pre-xmu-cn'\n",
    "# Set output file save path\n",
    "output_path = '0926-datasets-ml/ml-cn-xmu-(JmolNN)'\n",
    "current_time = datetime.now().strftime(\"%Y%m%d_%H%M\")\n",
    "# Output save file name and add timestamp\n",
    "dir_output=os.path.join(output_path,f'MLPmodel-{current_time}')\n",
    "# Check if the input path exists\n",
    "if os.path.exists(dir_data):\n",
    "    print(f\"File '{dir_data}' exists.\")\n",
    "else:\n",
    "    raise FileNotFoundError(f\"File '{dir_data}' does not exist.\")\n",
    "os.makedirs(dir_output, exist_ok=True)\n",
    "os.makedirs(dir_output, exist_ok=True)\n",
    "# Load training, validation, and test datasets\n",
    "file_train_feature = os.path.join(dir_data, 'xmu_train_JmolNN.txt')\n",
    "file_train_label = os.path.join(dir_data, 'label_cn_train_JmolNN.txt')\n",
    "file_valid_feature = os.path.join(dir_data, 'xmu_valid_JmolNN.txt')\n",
    "file_valid_label = os.path.join(dir_data, 'label_cn_valid_JmolNN.txt')\n",
    "file_test_feature = os.path.join(dir_data, 'xmu_test_JmolNN.txt')\n",
    "file_test_label = os.path.join(dir_data, 'label_cn_test_JmolNN.txt')\n",
    "log_file_path = os.path.join(dir_output, 'training_log.txt')\n",
    "logging.basicConfig(level=logging.INFO, format='%(message)s', handlers=[logging.FileHandler(log_file_path), logging.StreamHandler()])\n",
    "# Read data\n",
    "X_train = np.loadtxt(file_train_feature)\n",
    "y_train = np.loadtxt(file_train_label, dtype=float)\n",
    "X_valid = np.loadtxt(file_valid_feature)\n",
    "y_valid = np.loadtxt(file_valid_label, dtype=float)\n",
    "X_test = np.loadtxt(file_test_feature)\n",
    "y_test = np.loadtxt(file_test_label, dtype=float)\n",
    "# Prepare messages for dataset sizes\n",
    "train_size_message = f\"Training set size: X_train: {X_train.shape}, y_train: {y_train.shape}\"\n",
    "valid_size_message = f\"Validation set size: X_valid: {X_valid.shape}, y_valid: {y_valid.shape}\"\n",
    "test_size_message = f\"Test set size: X_test: {X_test.shape}, y_test: {y_test.shape}\"\n",
    "print(train_size_message)\n",
    "print(valid_size_message)\n",
    "print(test_size_message)\n",
    "# Log dataset sizes\n",
    "logging.info(train_size_message)\n",
    "logging.info(valid_size_message)\n",
    "logging.info(test_size_message)"
   ]
  },
  {
   "cell_type": "markdown",
   "id": "a5f7f696",
   "metadata": {},
   "source": [
    "## Build a MLP regression model and save the best model results"
   ]
  },
  {
   "cell_type": "code",
   "execution_count": 4,
   "id": "2221e8ba",
   "metadata": {
    "ExecuteTime": {
     "end_time": "2025-01-15T11:04:43.806732Z",
     "start_time": "2025-01-15T11:03:38.288401Z"
    }
   },
   "outputs": [
    {
     "name": "stdout",
     "output_type": "stream",
     "text": [
      "Epoch 1/100\n"
     ]
    },
    {
     "name": "stderr",
     "output_type": "stream",
     "text": [
      "2025-01-15 19:03:38.294322: I tensorflow/core/platform/cpu_feature_guard.cc:193] This TensorFlow binary is optimized with oneAPI Deep Neural Network Library (oneDNN) to use the following CPU instructions in performance-critical operations:  SSE4.1 SSE4.2 AVX AVX2 AVX512F AVX512_VNNI FMA\n",
      "To enable them in other operations, rebuild TensorFlow with the appropriate compiler flags.\n"
     ]
    },
    {
     "name": "stdout",
     "output_type": "stream",
     "text": [
      " 99/108 [==========================>...] - ETA: 0s - loss: 4.3365 - mean_squared_error: 4.2072\n",
      "Epoch 1: val_mean_squared_error improved from inf to 2.10532, saving model to 0926-datasets-ml/ml-cn-xmu-(JmolNN)/MLPmodel-20250115_1903/best_model.h5\n"
     ]
    },
    {
     "name": "stderr",
     "output_type": "stream",
     "text": [
      "Epoch 1, Loss: 4.1442, MSE: 4.0151, Val_Loss: 2.2330, Val_MSE: 2.1053\n"
     ]
    },
    {
     "name": "stdout",
     "output_type": "stream",
     "text": [
      "108/108 [==============================] - 1s 8ms/step - loss: 4.1442 - mean_squared_error: 4.0151 - val_loss: 2.2330 - val_mean_squared_error: 2.1053\n",
      "Epoch 2/100\n",
      "107/108 [============================>.] - ETA: 0s - loss: 1.7065 - mean_squared_error: 1.5791\n",
      "Epoch 2: val_mean_squared_error improved from 2.10532 to 1.64227, saving model to 0926-datasets-ml/ml-cn-xmu-(JmolNN)/MLPmodel-20250115_1903/best_model.h5\n"
     ]
    },
    {
     "name": "stderr",
     "output_type": "stream",
     "text": [
      "Epoch 2, Loss: 1.7062, MSE: 1.5789, Val_Loss: 1.7693, Val_MSE: 1.6423\n"
     ]
    },
    {
     "name": "stdout",
     "output_type": "stream",
     "text": [
      "108/108 [==============================] - 1s 7ms/step - loss: 1.7062 - mean_squared_error: 1.5789 - val_loss: 1.7693 - val_mean_squared_error: 1.6423\n",
      "Epoch 3/100\n",
      "108/108 [==============================] - ETA: 0s - loss: 1.5929 - mean_squared_error: 1.4660\n",
      "Epoch 3: val_mean_squared_error improved from 1.64227 to 1.17554, saving model to 0926-datasets-ml/ml-cn-xmu-(JmolNN)/MLPmodel-20250115_1903/best_model.h5\n"
     ]
    },
    {
     "name": "stderr",
     "output_type": "stream",
     "text": [
      "Epoch 3, Loss: 1.5929, MSE: 1.4660, Val_Loss: 1.3024, Val_MSE: 1.1755\n"
     ]
    },
    {
     "name": "stdout",
     "output_type": "stream",
     "text": [
      "108/108 [==============================] - 1s 7ms/step - loss: 1.5929 - mean_squared_error: 1.4660 - val_loss: 1.3024 - val_mean_squared_error: 1.1755\n",
      "Epoch 4/100\n",
      " 98/108 [==========================>...] - ETA: 0s - loss: 1.2062 - mean_squared_error: 1.0796\n",
      "Epoch 4: val_mean_squared_error did not improve from 1.17554\n"
     ]
    },
    {
     "name": "stderr",
     "output_type": "stream",
     "text": [
      "Epoch 4, Loss: 1.2097, MSE: 1.0831, Val_Loss: 1.4684, Val_MSE: 1.3420\n"
     ]
    },
    {
     "name": "stdout",
     "output_type": "stream",
     "text": [
      "108/108 [==============================] - 1s 6ms/step - loss: 1.2097 - mean_squared_error: 1.0831 - val_loss: 1.4684 - val_mean_squared_error: 1.3420\n",
      "Epoch 5/100\n",
      " 99/108 [==========================>...] - ETA: 0s - loss: 1.0782 - mean_squared_error: 0.9520\n",
      "Epoch 5: val_mean_squared_error did not improve from 1.17554\n"
     ]
    },
    {
     "name": "stderr",
     "output_type": "stream",
     "text": [
      "Epoch 5, Loss: 1.0695, MSE: 0.9432, Val_Loss: 1.3653, Val_MSE: 1.2392\n"
     ]
    },
    {
     "name": "stdout",
     "output_type": "stream",
     "text": [
      "108/108 [==============================] - 1s 6ms/step - loss: 1.0695 - mean_squared_error: 0.9432 - val_loss: 1.3653 - val_mean_squared_error: 1.2392\n",
      "Epoch 6/100\n",
      "100/108 [==========================>...] - ETA: 0s - loss: 1.0096 - mean_squared_error: 0.8837\n",
      "Epoch 6: val_mean_squared_error improved from 1.17554 to 0.81685, saving model to 0926-datasets-ml/ml-cn-xmu-(JmolNN)/MLPmodel-20250115_1903/best_model.h5\n"
     ]
    },
    {
     "name": "stderr",
     "output_type": "stream",
     "text": [
      "Epoch 6, Loss: 0.9872, MSE: 0.8613, Val_Loss: 0.9426, Val_MSE: 0.8168\n"
     ]
    },
    {
     "name": "stdout",
     "output_type": "stream",
     "text": [
      "108/108 [==============================] - 1s 6ms/step - loss: 0.9872 - mean_squared_error: 0.8613 - val_loss: 0.9426 - val_mean_squared_error: 0.8168\n",
      "Epoch 7/100\n",
      " 98/108 [==========================>...] - ETA: 0s - loss: 1.0254 - mean_squared_error: 0.8999\n",
      "Epoch 7: val_mean_squared_error did not improve from 0.81685\n"
     ]
    },
    {
     "name": "stderr",
     "output_type": "stream",
     "text": [
      "Epoch 7, Loss: 1.0089, MSE: 0.8834, Val_Loss: 1.1518, Val_MSE: 1.0265\n"
     ]
    },
    {
     "name": "stdout",
     "output_type": "stream",
     "text": [
      "108/108 [==============================] - 1s 6ms/step - loss: 1.0089 - mean_squared_error: 0.8834 - val_loss: 1.1518 - val_mean_squared_error: 1.0265\n",
      "Epoch 8/100\n",
      " 99/108 [==========================>...] - ETA: 0s - loss: 0.9500 - mean_squared_error: 0.8249\n",
      "Epoch 8: val_mean_squared_error did not improve from 0.81685\n"
     ]
    },
    {
     "name": "stderr",
     "output_type": "stream",
     "text": [
      "Epoch 8, Loss: 0.9586, MSE: 0.8334, Val_Loss: 1.6466, Val_MSE: 1.5217\n"
     ]
    },
    {
     "name": "stdout",
     "output_type": "stream",
     "text": [
      "108/108 [==============================] - 1s 6ms/step - loss: 0.9586 - mean_squared_error: 0.8334 - val_loss: 1.6466 - val_mean_squared_error: 1.5217\n",
      "Epoch 9/100\n",
      " 99/108 [==========================>...] - ETA: 0s - loss: 0.9627 - mean_squared_error: 0.8378\n",
      "Epoch 9: val_mean_squared_error did not improve from 0.81685\n"
     ]
    },
    {
     "name": "stderr",
     "output_type": "stream",
     "text": [
      "Epoch 9, Loss: 0.9662, MSE: 0.8414, Val_Loss: 0.9680, Val_MSE: 0.8433\n"
     ]
    },
    {
     "name": "stdout",
     "output_type": "stream",
     "text": [
      "108/108 [==============================] - 1s 6ms/step - loss: 0.9662 - mean_squared_error: 0.8414 - val_loss: 0.9680 - val_mean_squared_error: 0.8433\n",
      "Epoch 10/100\n",
      " 99/108 [==========================>...] - ETA: 0s - loss: 0.8038 - mean_squared_error: 0.6794\n",
      "Epoch 10: val_mean_squared_error did not improve from 0.81685\n"
     ]
    },
    {
     "name": "stderr",
     "output_type": "stream",
     "text": [
      "Epoch 10, Loss: 0.8132, MSE: 0.6887, Val_Loss: 1.1115, Val_MSE: 0.9873\n"
     ]
    },
    {
     "name": "stdout",
     "output_type": "stream",
     "text": [
      "108/108 [==============================] - 1s 6ms/step - loss: 0.8132 - mean_squared_error: 0.6887 - val_loss: 1.1115 - val_mean_squared_error: 0.9873\n",
      "Epoch 11/100\n",
      " 99/108 [==========================>...] - ETA: 0s - loss: 0.7844 - mean_squared_error: 0.6605\n",
      "Epoch 11: val_mean_squared_error did not improve from 0.81685\n"
     ]
    },
    {
     "name": "stderr",
     "output_type": "stream",
     "text": [
      "Epoch 11, Loss: 0.8161, MSE: 0.6922, Val_Loss: 1.1362, Val_MSE: 1.0125\n"
     ]
    },
    {
     "name": "stdout",
     "output_type": "stream",
     "text": [
      "108/108 [==============================] - 1s 6ms/step - loss: 0.8161 - mean_squared_error: 0.6922 - val_loss: 1.1362 - val_mean_squared_error: 1.0125\n",
      "Epoch 12/100\n",
      "100/108 [==========================>...] - ETA: 0s - loss: 0.7668 - mean_squared_error: 0.6433\n",
      "Epoch 12: val_mean_squared_error improved from 0.81685 to 0.81012, saving model to 0926-datasets-ml/ml-cn-xmu-(JmolNN)/MLPmodel-20250115_1903/best_model.h5\n"
     ]
    },
    {
     "name": "stderr",
     "output_type": "stream",
     "text": [
      "Epoch 12, Loss: 0.7645, MSE: 0.6410, Val_Loss: 0.9334, Val_MSE: 0.8101\n"
     ]
    },
    {
     "name": "stdout",
     "output_type": "stream",
     "text": [
      "108/108 [==============================] - 1s 7ms/step - loss: 0.7645 - mean_squared_error: 0.6410 - val_loss: 0.9334 - val_mean_squared_error: 0.8101\n",
      "Epoch 13/100\n",
      "106/108 [============================>.] - ETA: 0s - loss: 0.7856 - mean_squared_error: 0.6626\n",
      "Epoch 13: val_mean_squared_error improved from 0.81012 to 0.62941, saving model to 0926-datasets-ml/ml-cn-xmu-(JmolNN)/MLPmodel-20250115_1903/best_model.h5\n"
     ]
    },
    {
     "name": "stderr",
     "output_type": "stream",
     "text": [
      "Epoch 13, Loss: 0.7850, MSE: 0.6620, Val_Loss: 0.7521, Val_MSE: 0.6294\n"
     ]
    },
    {
     "name": "stdout",
     "output_type": "stream",
     "text": [
      "108/108 [==============================] - 1s 7ms/step - loss: 0.7850 - mean_squared_error: 0.6620 - val_loss: 0.7521 - val_mean_squared_error: 0.6294\n",
      "Epoch 14/100\n",
      "100/108 [==========================>...] - ETA: 0s - loss: 0.7733 - mean_squared_error: 0.6508\n",
      "Epoch 14: val_mean_squared_error did not improve from 0.62941\n"
     ]
    },
    {
     "name": "stderr",
     "output_type": "stream",
     "text": [
      "Epoch 14, Loss: 0.7686, MSE: 0.6461, Val_Loss: 0.8407, Val_MSE: 0.7185\n"
     ]
    },
    {
     "name": "stdout",
     "output_type": "stream",
     "text": [
      "108/108 [==============================] - 1s 6ms/step - loss: 0.7686 - mean_squared_error: 0.6461 - val_loss: 0.8407 - val_mean_squared_error: 0.7185\n",
      "Epoch 15/100\n",
      "108/108 [==============================] - ETA: 0s - loss: 0.7942 - mean_squared_error: 0.6720\n",
      "Epoch 15: val_mean_squared_error did not improve from 0.62941\n"
     ]
    },
    {
     "name": "stderr",
     "output_type": "stream",
     "text": [
      "Epoch 15, Loss: 0.7942, MSE: 0.6720, Val_Loss: 0.7917, Val_MSE: 0.6698\n"
     ]
    },
    {
     "name": "stdout",
     "output_type": "stream",
     "text": [
      "108/108 [==============================] - 1s 6ms/step - loss: 0.7942 - mean_squared_error: 0.6720 - val_loss: 0.7917 - val_mean_squared_error: 0.6698\n",
      "Epoch 16/100\n",
      "100/108 [==========================>...] - ETA: 0s - loss: 0.6988 - mean_squared_error: 0.5772\n",
      "Epoch 16: val_mean_squared_error improved from 0.62941 to 0.60565, saving model to 0926-datasets-ml/ml-cn-xmu-(JmolNN)/MLPmodel-20250115_1903/best_model.h5\n"
     ]
    },
    {
     "name": "stderr",
     "output_type": "stream",
     "text": [
      "Epoch 16, Loss: 0.7008, MSE: 0.5792, Val_Loss: 0.7269, Val_MSE: 0.6056\n"
     ]
    },
    {
     "name": "stdout",
     "output_type": "stream",
     "text": [
      "108/108 [==============================] - 1s 7ms/step - loss: 0.7008 - mean_squared_error: 0.5792 - val_loss: 0.7269 - val_mean_squared_error: 0.6056\n",
      "Epoch 17/100\n",
      "100/108 [==========================>...] - ETA: 0s - loss: 0.6271 - mean_squared_error: 0.5061\n",
      "Epoch 17: val_mean_squared_error did not improve from 0.60565\n"
     ]
    },
    {
     "name": "stderr",
     "output_type": "stream",
     "text": [
      "Epoch 17, Loss: 0.6252, MSE: 0.5042, Val_Loss: 0.7738, Val_MSE: 0.6532\n"
     ]
    },
    {
     "name": "stdout",
     "output_type": "stream",
     "text": [
      "108/108 [==============================] - 1s 6ms/step - loss: 0.6252 - mean_squared_error: 0.5042 - val_loss: 0.7738 - val_mean_squared_error: 0.6532\n",
      "Epoch 18/100\n",
      " 99/108 [==========================>...] - ETA: 0s - loss: 0.6812 - mean_squared_error: 0.5610\n",
      "Epoch 18: val_mean_squared_error improved from 0.60565 to 0.54001, saving model to 0926-datasets-ml/ml-cn-xmu-(JmolNN)/MLPmodel-20250115_1903/best_model.h5\n"
     ]
    },
    {
     "name": "stderr",
     "output_type": "stream",
     "text": [
      "Epoch 18, Loss: 0.6725, MSE: 0.5523, Val_Loss: 0.6599, Val_MSE: 0.5400\n"
     ]
    },
    {
     "name": "stdout",
     "output_type": "stream",
     "text": [
      "108/108 [==============================] - 1s 7ms/step - loss: 0.6725 - mean_squared_error: 0.5523 - val_loss: 0.6599 - val_mean_squared_error: 0.5400\n",
      "Epoch 19/100\n",
      "100/108 [==========================>...] - ETA: 0s - loss: 0.6936 - mean_squared_error: 0.5740\n",
      "Epoch 19: val_mean_squared_error did not improve from 0.54001\n"
     ]
    },
    {
     "name": "stderr",
     "output_type": "stream",
     "text": [
      "Epoch 19, Loss: 0.6805, MSE: 0.5609, Val_Loss: 0.7440, Val_MSE: 0.6247\n"
     ]
    },
    {
     "name": "stdout",
     "output_type": "stream",
     "text": [
      "108/108 [==============================] - 1s 6ms/step - loss: 0.6805 - mean_squared_error: 0.5609 - val_loss: 0.7440 - val_mean_squared_error: 0.6247\n",
      "Epoch 20/100\n",
      "106/108 [============================>.] - ETA: 0s - loss: 0.6766 - mean_squared_error: 0.5576\n",
      "Epoch 20: val_mean_squared_error did not improve from 0.54001\n"
     ]
    },
    {
     "name": "stderr",
     "output_type": "stream",
     "text": [
      "Epoch 20, Loss: 0.6783, MSE: 0.5594, Val_Loss: 1.1251, Val_MSE: 1.0064\n"
     ]
    },
    {
     "name": "stdout",
     "output_type": "stream",
     "text": [
      "108/108 [==============================] - 1s 6ms/step - loss: 0.6783 - mean_squared_error: 0.5594 - val_loss: 1.1251 - val_mean_squared_error: 1.0064\n",
      "Epoch 21/100\n",
      "100/108 [==========================>...] - ETA: 0s - loss: 0.5913 - mean_squared_error: 0.4729\n",
      "Epoch 21: val_mean_squared_error improved from 0.54001 to 0.49805, saving model to 0926-datasets-ml/ml-cn-xmu-(JmolNN)/MLPmodel-20250115_1903/best_model.h5\n"
     ]
    },
    {
     "name": "stderr",
     "output_type": "stream",
     "text": [
      "Epoch 21, Loss: 0.5927, MSE: 0.4743, Val_Loss: 0.6160, Val_MSE: 0.4980\n"
     ]
    },
    {
     "name": "stdout",
     "output_type": "stream",
     "text": [
      "108/108 [==============================] - 1s 7ms/step - loss: 0.5927 - mean_squared_error: 0.4743 - val_loss: 0.6160 - val_mean_squared_error: 0.4980\n",
      "Epoch 22/100\n",
      " 98/108 [==========================>...] - ETA: 0s - loss: 0.6766 - mean_squared_error: 0.5590\n",
      "Epoch 22: val_mean_squared_error did not improve from 0.49805\n"
     ]
    },
    {
     "name": "stderr",
     "output_type": "stream",
     "text": [
      "Epoch 22, Loss: 0.6805, MSE: 0.5629, Val_Loss: 0.9522, Val_MSE: 0.8349\n"
     ]
    },
    {
     "name": "stdout",
     "output_type": "stream",
     "text": [
      "108/108 [==============================] - 1s 6ms/step - loss: 0.6805 - mean_squared_error: 0.5629 - val_loss: 0.9522 - val_mean_squared_error: 0.8349\n",
      "Epoch 23/100\n",
      "106/108 [============================>.] - ETA: 0s - loss: 0.6592 - mean_squared_error: 0.5422\n",
      "Epoch 23: val_mean_squared_error did not improve from 0.49805\n"
     ]
    },
    {
     "name": "stderr",
     "output_type": "stream",
     "text": [
      "Epoch 23, Loss: 0.6616, MSE: 0.5446, Val_Loss: 0.6317, Val_MSE: 0.5151\n"
     ]
    },
    {
     "name": "stdout",
     "output_type": "stream",
     "text": [
      "108/108 [==============================] - 1s 6ms/step - loss: 0.6616 - mean_squared_error: 0.5446 - val_loss: 0.6317 - val_mean_squared_error: 0.5151\n",
      "Epoch 24/100\n",
      " 98/108 [==========================>...] - ETA: 0s - loss: 0.7644 - mean_squared_error: 0.6481\n",
      "Epoch 24: val_mean_squared_error did not improve from 0.49805\n"
     ]
    },
    {
     "name": "stderr",
     "output_type": "stream",
     "text": [
      "Epoch 24, Loss: 0.7656, MSE: 0.6493, Val_Loss: 0.6796, Val_MSE: 0.5635\n"
     ]
    },
    {
     "name": "stdout",
     "output_type": "stream",
     "text": [
      "108/108 [==============================] - 1s 6ms/step - loss: 0.7656 - mean_squared_error: 0.6493 - val_loss: 0.6796 - val_mean_squared_error: 0.5635\n",
      "Epoch 25/100\n",
      "100/108 [==========================>...] - ETA: 0s - loss: 0.5755 - mean_squared_error: 0.4598\n",
      "Epoch 25: val_mean_squared_error did not improve from 0.49805\n"
     ]
    },
    {
     "name": "stderr",
     "output_type": "stream",
     "text": [
      "Epoch 25, Loss: 0.5721, MSE: 0.4564, Val_Loss: 0.6461, Val_MSE: 0.5308\n"
     ]
    },
    {
     "name": "stdout",
     "output_type": "stream",
     "text": [
      "108/108 [==============================] - 1s 6ms/step - loss: 0.5721 - mean_squared_error: 0.4564 - val_loss: 0.6461 - val_mean_squared_error: 0.5308\n",
      "Epoch 26/100\n",
      "103/108 [===========================>..] - ETA: 0s - loss: 0.5919 - mean_squared_error: 0.4771\n",
      "Epoch 26: val_mean_squared_error did not improve from 0.49805\n"
     ]
    },
    {
     "name": "stderr",
     "output_type": "stream",
     "text": [
      "Epoch 26, Loss: 0.5886, MSE: 0.4738, Val_Loss: 0.6965, Val_MSE: 0.5822\n"
     ]
    },
    {
     "name": "stdout",
     "output_type": "stream",
     "text": [
      "108/108 [==============================] - 1s 6ms/step - loss: 0.5886 - mean_squared_error: 0.4738 - val_loss: 0.6965 - val_mean_squared_error: 0.5822\n",
      "Epoch 27/100\n",
      " 99/108 [==========================>...] - ETA: 0s - loss: 0.6171 - mean_squared_error: 0.5032\n",
      "Epoch 27: val_mean_squared_error did not improve from 0.49805\n"
     ]
    },
    {
     "name": "stderr",
     "output_type": "stream",
     "text": [
      "Epoch 27, Loss: 0.6196, MSE: 0.5058, Val_Loss: 0.7750, Val_MSE: 0.6615\n"
     ]
    },
    {
     "name": "stdout",
     "output_type": "stream",
     "text": [
      "108/108 [==============================] - 1s 6ms/step - loss: 0.6196 - mean_squared_error: 0.5058 - val_loss: 0.7750 - val_mean_squared_error: 0.6615\n",
      "Epoch 28/100\n",
      "101/108 [===========================>..] - ETA: 0s - loss: 0.5482 - mean_squared_error: 0.4352\n",
      "Epoch 28: val_mean_squared_error did not improve from 0.49805\n"
     ]
    },
    {
     "name": "stderr",
     "output_type": "stream",
     "text": [
      "Epoch 28, Loss: 0.5496, MSE: 0.4366, Val_Loss: 0.6465, Val_MSE: 0.5339\n"
     ]
    },
    {
     "name": "stdout",
     "output_type": "stream",
     "text": [
      "108/108 [==============================] - 1s 6ms/step - loss: 0.5496 - mean_squared_error: 0.4366 - val_loss: 0.6465 - val_mean_squared_error: 0.5339\n",
      "Epoch 29/100\n",
      "100/108 [==========================>...] - ETA: 0s - loss: 0.5484 - mean_squared_error: 0.4363\n",
      "Epoch 29: val_mean_squared_error did not improve from 0.49805\n"
     ]
    },
    {
     "name": "stderr",
     "output_type": "stream",
     "text": [
      "Epoch 29, Loss: 0.5580, MSE: 0.4459, Val_Loss: 0.6632, Val_MSE: 0.5517\n"
     ]
    },
    {
     "name": "stdout",
     "output_type": "stream",
     "text": [
      "108/108 [==============================] - 1s 6ms/step - loss: 0.5580 - mean_squared_error: 0.4459 - val_loss: 0.6632 - val_mean_squared_error: 0.5517\n",
      "Epoch 30/100\n",
      "100/108 [==========================>...] - ETA: 0s - loss: 0.5219 - mean_squared_error: 0.4108\n",
      "Epoch 30: val_mean_squared_error did not improve from 0.49805\n"
     ]
    },
    {
     "name": "stderr",
     "output_type": "stream",
     "text": [
      "Epoch 30, Loss: 0.5326, MSE: 0.4216, Val_Loss: 0.7094, Val_MSE: 0.5988\n"
     ]
    },
    {
     "name": "stdout",
     "output_type": "stream",
     "text": [
      "108/108 [==============================] - 1s 6ms/step - loss: 0.5326 - mean_squared_error: 0.4216 - val_loss: 0.7094 - val_mean_squared_error: 0.5988\n",
      "Epoch 31/100\n",
      "104/108 [===========================>..] - ETA: 0s - loss: 0.5527 - mean_squared_error: 0.4425\n",
      "Epoch 31: val_mean_squared_error did not improve from 0.49805\n"
     ]
    },
    {
     "name": "stderr",
     "output_type": "stream",
     "text": [
      "Epoch 31, Loss: 0.5494, MSE: 0.4393, Val_Loss: 0.8401, Val_MSE: 0.7306\n"
     ]
    },
    {
     "name": "stdout",
     "output_type": "stream",
     "text": [
      "108/108 [==============================] - 1s 6ms/step - loss: 0.5494 - mean_squared_error: 0.4393 - val_loss: 0.8401 - val_mean_squared_error: 0.7306\n",
      "Epoch 32/100\n",
      "100/108 [==========================>...] - ETA: 0s - loss: 0.5082 - mean_squared_error: 0.3991\n",
      "Epoch 32: val_mean_squared_error did not improve from 0.49805\n"
     ]
    },
    {
     "name": "stderr",
     "output_type": "stream",
     "text": [
      "Epoch 32, Loss: 0.5110, MSE: 0.4020, Val_Loss: 0.6318, Val_MSE: 0.5234\n"
     ]
    },
    {
     "name": "stdout",
     "output_type": "stream",
     "text": [
      "108/108 [==============================] - 1s 6ms/step - loss: 0.5110 - mean_squared_error: 0.4020 - val_loss: 0.6318 - val_mean_squared_error: 0.5234\n",
      "Epoch 33/100\n",
      "100/108 [==========================>...] - ETA: 0s - loss: 0.5696 - mean_squared_error: 0.4616\n",
      "Epoch 33: val_mean_squared_error did not improve from 0.49805\n"
     ]
    },
    {
     "name": "stderr",
     "output_type": "stream",
     "text": [
      "Epoch 33, Loss: 0.5580, MSE: 0.4500, Val_Loss: 0.6088, Val_MSE: 0.5013\n"
     ]
    },
    {
     "name": "stdout",
     "output_type": "stream",
     "text": [
      "108/108 [==============================] - 1s 6ms/step - loss: 0.5580 - mean_squared_error: 0.4500 - val_loss: 0.6088 - val_mean_squared_error: 0.5013\n",
      "Epoch 34/100\n",
      "100/108 [==========================>...] - ETA: 0s - loss: 0.5286 - mean_squared_error: 0.4216\n",
      "Epoch 34: val_mean_squared_error did not improve from 0.49805\n"
     ]
    },
    {
     "name": "stderr",
     "output_type": "stream",
     "text": [
      "Epoch 34, Loss: 0.5452, MSE: 0.4382, Val_Loss: 0.7738, Val_MSE: 0.6674\n"
     ]
    },
    {
     "name": "stdout",
     "output_type": "stream",
     "text": [
      "108/108 [==============================] - 1s 6ms/step - loss: 0.5452 - mean_squared_error: 0.4382 - val_loss: 0.7738 - val_mean_squared_error: 0.6674\n",
      "Epoch 35/100\n",
      "100/108 [==========================>...] - ETA: 0s - loss: 0.5460 - mean_squared_error: 0.4400\n",
      "Epoch 35: val_mean_squared_error did not improve from 0.49805\n"
     ]
    },
    {
     "name": "stderr",
     "output_type": "stream",
     "text": [
      "Epoch 35, Loss: 0.5461, MSE: 0.4402, Val_Loss: 0.9201, Val_MSE: 0.8146\n"
     ]
    },
    {
     "name": "stdout",
     "output_type": "stream",
     "text": [
      "108/108 [==============================] - 1s 6ms/step - loss: 0.5461 - mean_squared_error: 0.4402 - val_loss: 0.9201 - val_mean_squared_error: 0.8146\n",
      "Epoch 36/100\n",
      "100/108 [==========================>...] - ETA: 0s - loss: 0.5344 - mean_squared_error: 0.4294\n",
      "Epoch 36: val_mean_squared_error did not improve from 0.49805\n"
     ]
    },
    {
     "name": "stderr",
     "output_type": "stream",
     "text": [
      "Epoch 36, Loss: 0.5377, MSE: 0.4328, Val_Loss: 0.7214, Val_MSE: 0.6170\n"
     ]
    },
    {
     "name": "stdout",
     "output_type": "stream",
     "text": [
      "108/108 [==============================] - 1s 6ms/step - loss: 0.5377 - mean_squared_error: 0.4328 - val_loss: 0.7214 - val_mean_squared_error: 0.6170\n",
      "Epoch 37/100\n",
      "100/108 [==========================>...] - ETA: 0s - loss: 0.6215 - mean_squared_error: 0.5175\n",
      "Epoch 37: val_mean_squared_error did not improve from 0.49805\n"
     ]
    },
    {
     "name": "stderr",
     "output_type": "stream",
     "text": [
      "Epoch 37, Loss: 0.6135, MSE: 0.5096, Val_Loss: 0.8161, Val_MSE: 0.7123\n"
     ]
    },
    {
     "name": "stdout",
     "output_type": "stream",
     "text": [
      "108/108 [==============================] - 1s 6ms/step - loss: 0.6135 - mean_squared_error: 0.5096 - val_loss: 0.8161 - val_mean_squared_error: 0.7123\n",
      "Epoch 38/100\n",
      "102/108 [===========================>..] - ETA: 0s - loss: 0.5360 - mean_squared_error: 0.4329\n",
      "Epoch 38: val_mean_squared_error did not improve from 0.49805\n"
     ]
    },
    {
     "name": "stderr",
     "output_type": "stream",
     "text": [
      "Epoch 38, Loss: 0.5366, MSE: 0.4334, Val_Loss: 0.6129, Val_MSE: 0.5103\n"
     ]
    },
    {
     "name": "stdout",
     "output_type": "stream",
     "text": [
      "108/108 [==============================] - 1s 6ms/step - loss: 0.5366 - mean_squared_error: 0.4334 - val_loss: 0.6129 - val_mean_squared_error: 0.5103\n",
      "Epoch 39/100\n",
      " 98/108 [==========================>...] - ETA: 0s - loss: 0.5228 - mean_squared_error: 0.4207\n",
      "Epoch 39: val_mean_squared_error improved from 0.49805 to 0.47528, saving model to 0926-datasets-ml/ml-cn-xmu-(JmolNN)/MLPmodel-20250115_1903/best_model.h5\n"
     ]
    },
    {
     "name": "stderr",
     "output_type": "stream",
     "text": [
      "Epoch 39, Loss: 0.5136, MSE: 0.4116, Val_Loss: 0.5768, Val_MSE: 0.4753\n"
     ]
    },
    {
     "name": "stdout",
     "output_type": "stream",
     "text": [
      "108/108 [==============================] - 1s 7ms/step - loss: 0.5136 - mean_squared_error: 0.4116 - val_loss: 0.5768 - val_mean_squared_error: 0.4753\n",
      "Epoch 40/100\n",
      " 99/108 [==========================>...] - ETA: 0s - loss: 0.5486 - mean_squared_error: 0.4475\n",
      "Epoch 40: val_mean_squared_error did not improve from 0.47528\n"
     ]
    },
    {
     "name": "stderr",
     "output_type": "stream",
     "text": [
      "Epoch 40, Loss: 0.5429, MSE: 0.4419, Val_Loss: 0.6065, Val_MSE: 0.5060\n"
     ]
    },
    {
     "name": "stdout",
     "output_type": "stream",
     "text": [
      "108/108 [==============================] - 1s 6ms/step - loss: 0.5429 - mean_squared_error: 0.4419 - val_loss: 0.6065 - val_mean_squared_error: 0.5060\n",
      "Epoch 41/100\n",
      "104/108 [===========================>..] - ETA: 0s - loss: 0.4871 - mean_squared_error: 0.3872\n",
      "Epoch 41: val_mean_squared_error improved from 0.47528 to 0.39760, saving model to 0926-datasets-ml/ml-cn-xmu-(JmolNN)/MLPmodel-20250115_1903/best_model.h5\n"
     ]
    },
    {
     "name": "stderr",
     "output_type": "stream",
     "text": [
      "Epoch 41, Loss: 0.4910, MSE: 0.3911, Val_Loss: 0.4968, Val_MSE: 0.3976\n"
     ]
    },
    {
     "name": "stdout",
     "output_type": "stream",
     "text": [
      "108/108 [==============================] - 1s 7ms/step - loss: 0.4910 - mean_squared_error: 0.3911 - val_loss: 0.4968 - val_mean_squared_error: 0.3976\n",
      "Epoch 42/100\n",
      "100/108 [==========================>...] - ETA: 0s - loss: 0.5308 - mean_squared_error: 0.4320\n",
      "Epoch 42: val_mean_squared_error did not improve from 0.39760\n"
     ]
    },
    {
     "name": "stderr",
     "output_type": "stream",
     "text": [
      "Epoch 42, Loss: 0.5349, MSE: 0.4361, Val_Loss: 0.5710, Val_MSE: 0.4726\n"
     ]
    },
    {
     "name": "stdout",
     "output_type": "stream",
     "text": [
      "108/108 [==============================] - 1s 6ms/step - loss: 0.5349 - mean_squared_error: 0.4361 - val_loss: 0.5710 - val_mean_squared_error: 0.4726\n",
      "Epoch 43/100\n",
      "100/108 [==========================>...] - ETA: 0s - loss: 0.5249 - mean_squared_error: 0.4271\n",
      "Epoch 43: val_mean_squared_error did not improve from 0.39760\n"
     ]
    },
    {
     "name": "stderr",
     "output_type": "stream",
     "text": [
      "Epoch 43, Loss: 0.5277, MSE: 0.4300, Val_Loss: 0.8667, Val_MSE: 0.7695\n"
     ]
    },
    {
     "name": "stdout",
     "output_type": "stream",
     "text": [
      "108/108 [==============================] - 1s 6ms/step - loss: 0.5277 - mean_squared_error: 0.4300 - val_loss: 0.8667 - val_mean_squared_error: 0.7695\n",
      "Epoch 44/100\n",
      "100/108 [==========================>...] - ETA: 0s - loss: 0.5069 - mean_squared_error: 0.4102\n",
      "Epoch 44: val_mean_squared_error did not improve from 0.39760\n"
     ]
    },
    {
     "name": "stderr",
     "output_type": "stream",
     "text": [
      "Epoch 44, Loss: 0.5074, MSE: 0.4107, Val_Loss: 0.6467, Val_MSE: 0.5506\n"
     ]
    },
    {
     "name": "stdout",
     "output_type": "stream",
     "text": [
      "108/108 [==============================] - 1s 6ms/step - loss: 0.5074 - mean_squared_error: 0.4107 - val_loss: 0.6467 - val_mean_squared_error: 0.5506\n",
      "Epoch 45/100\n",
      "100/108 [==========================>...] - ETA: 0s - loss: 0.5126 - mean_squared_error: 0.4170\n",
      "Epoch 45: val_mean_squared_error did not improve from 0.39760\n"
     ]
    },
    {
     "name": "stderr",
     "output_type": "stream",
     "text": [
      "Epoch 45, Loss: 0.5170, MSE: 0.4214, Val_Loss: 0.5326, Val_MSE: 0.4376\n"
     ]
    },
    {
     "name": "stdout",
     "output_type": "stream",
     "text": [
      "108/108 [==============================] - 1s 6ms/step - loss: 0.5170 - mean_squared_error: 0.4214 - val_loss: 0.5326 - val_mean_squared_error: 0.4376\n",
      "Epoch 46/100\n",
      "100/108 [==========================>...] - ETA: 0s - loss: 0.5064 - mean_squared_error: 0.4120\n",
      "Epoch 46: val_mean_squared_error did not improve from 0.39760\n"
     ]
    },
    {
     "name": "stderr",
     "output_type": "stream",
     "text": [
      "Epoch 46, Loss: 0.5002, MSE: 0.4058, Val_Loss: 0.5436, Val_MSE: 0.4497\n"
     ]
    },
    {
     "name": "stdout",
     "output_type": "stream",
     "text": [
      "108/108 [==============================] - 1s 6ms/step - loss: 0.5002 - mean_squared_error: 0.4058 - val_loss: 0.5436 - val_mean_squared_error: 0.4497\n",
      "Epoch 47/100\n",
      "104/108 [===========================>..] - ETA: 0s - loss: 0.4946 - mean_squared_error: 0.4013\n",
      "Epoch 47: val_mean_squared_error did not improve from 0.39760\n"
     ]
    },
    {
     "name": "stderr",
     "output_type": "stream",
     "text": [
      "Epoch 47, Loss: 0.4974, MSE: 0.4041, Val_Loss: 0.5654, Val_MSE: 0.4727\n"
     ]
    },
    {
     "name": "stdout",
     "output_type": "stream",
     "text": [
      "108/108 [==============================] - 1s 6ms/step - loss: 0.4974 - mean_squared_error: 0.4041 - val_loss: 0.5654 - val_mean_squared_error: 0.4727\n",
      "Epoch 48/100\n",
      " 99/108 [==========================>...] - ETA: 0s - loss: 0.4982 - mean_squared_error: 0.4060\n",
      "Epoch 48: val_mean_squared_error did not improve from 0.39760\n"
     ]
    },
    {
     "name": "stderr",
     "output_type": "stream",
     "text": [
      "Epoch 48, Loss: 0.4915, MSE: 0.3993, Val_Loss: 0.6484, Val_MSE: 0.5567\n"
     ]
    },
    {
     "name": "stdout",
     "output_type": "stream",
     "text": [
      "108/108 [==============================] - 1s 6ms/step - loss: 0.4915 - mean_squared_error: 0.3993 - val_loss: 0.6484 - val_mean_squared_error: 0.5567\n",
      "Epoch 49/100\n",
      "100/108 [==========================>...] - ETA: 0s - loss: 0.4705 - mean_squared_error: 0.3794\n",
      "Epoch 49: val_mean_squared_error did not improve from 0.39760\n"
     ]
    },
    {
     "name": "stderr",
     "output_type": "stream",
     "text": [
      "Epoch 49, Loss: 0.4728, MSE: 0.3817, Val_Loss: 0.4966, Val_MSE: 0.4063\n"
     ]
    },
    {
     "name": "stdout",
     "output_type": "stream",
     "text": [
      "108/108 [==============================] - 1s 6ms/step - loss: 0.4728 - mean_squared_error: 0.3817 - val_loss: 0.4966 - val_mean_squared_error: 0.4063\n",
      "Epoch 50/100\n",
      "108/108 [==============================] - ETA: 0s - loss: 0.5275 - mean_squared_error: 0.4377\n",
      "Epoch 50: val_mean_squared_error did not improve from 0.39760\n"
     ]
    },
    {
     "name": "stderr",
     "output_type": "stream",
     "text": [
      "Epoch 50, Loss: 0.5275, MSE: 0.4377, Val_Loss: 0.6337, Val_MSE: 0.5443\n"
     ]
    },
    {
     "name": "stdout",
     "output_type": "stream",
     "text": [
      "108/108 [==============================] - 1s 6ms/step - loss: 0.5275 - mean_squared_error: 0.4377 - val_loss: 0.6337 - val_mean_squared_error: 0.5443\n",
      "Epoch 51/100\n",
      "100/108 [==========================>...] - ETA: 0s - loss: 0.5172 - mean_squared_error: 0.4283\n",
      "Epoch 51: val_mean_squared_error did not improve from 0.39760\n"
     ]
    },
    {
     "name": "stderr",
     "output_type": "stream",
     "text": [
      "Epoch 51, Loss: 0.5092, MSE: 0.4203, Val_Loss: 0.5271, Val_MSE: 0.4387\n"
     ]
    },
    {
     "name": "stdout",
     "output_type": "stream",
     "text": [
      "108/108 [==============================] - 1s 6ms/step - loss: 0.5092 - mean_squared_error: 0.4203 - val_loss: 0.5271 - val_mean_squared_error: 0.4387\n",
      "Epoch 52/100\n",
      "100/108 [==========================>...] - ETA: 0s - loss: 0.4575 - mean_squared_error: 0.3697\n",
      "Epoch 52: val_mean_squared_error did not improve from 0.39760\n"
     ]
    },
    {
     "name": "stderr",
     "output_type": "stream",
     "text": [
      "Epoch 52, Loss: 0.4591, MSE: 0.3714, Val_Loss: 0.4925, Val_MSE: 0.4053\n"
     ]
    },
    {
     "name": "stdout",
     "output_type": "stream",
     "text": [
      "108/108 [==============================] - 1s 6ms/step - loss: 0.4591 - mean_squared_error: 0.3714 - val_loss: 0.4925 - val_mean_squared_error: 0.4053\n",
      "Epoch 53/100\n",
      "100/108 [==========================>...] - ETA: 0s - loss: 0.4741 - mean_squared_error: 0.3876\n",
      "Epoch 53: val_mean_squared_error did not improve from 0.39760\n"
     ]
    },
    {
     "name": "stderr",
     "output_type": "stream",
     "text": [
      "Epoch 53, Loss: 0.4680, MSE: 0.3815, Val_Loss: 0.4909, Val_MSE: 0.4050\n"
     ]
    },
    {
     "name": "stdout",
     "output_type": "stream",
     "text": [
      "108/108 [==============================] - 1s 6ms/step - loss: 0.4680 - mean_squared_error: 0.3815 - val_loss: 0.4909 - val_mean_squared_error: 0.4050\n",
      "Epoch 54/100\n",
      "100/108 [==========================>...] - ETA: 0s - loss: 0.4764 - mean_squared_error: 0.3911\n",
      "Epoch 54: val_mean_squared_error did not improve from 0.39760\n"
     ]
    },
    {
     "name": "stderr",
     "output_type": "stream",
     "text": [
      "Epoch 54, Loss: 0.4785, MSE: 0.3932, Val_Loss: 0.5922, Val_MSE: 0.5073\n"
     ]
    },
    {
     "name": "stdout",
     "output_type": "stream",
     "text": [
      "108/108 [==============================] - 1s 6ms/step - loss: 0.4785 - mean_squared_error: 0.3932 - val_loss: 0.5922 - val_mean_squared_error: 0.5073\n",
      "Epoch 55/100\n",
      " 99/108 [==========================>...] - ETA: 0s - loss: 0.4696 - mean_squared_error: 0.3852\n",
      "Epoch 55: val_mean_squared_error did not improve from 0.39760\n"
     ]
    },
    {
     "name": "stderr",
     "output_type": "stream",
     "text": [
      "Epoch 55, Loss: 0.4654, MSE: 0.3811, Val_Loss: 0.7149, Val_MSE: 0.6312\n"
     ]
    },
    {
     "name": "stdout",
     "output_type": "stream",
     "text": [
      "108/108 [==============================] - 1s 6ms/step - loss: 0.4654 - mean_squared_error: 0.3811 - val_loss: 0.7149 - val_mean_squared_error: 0.6312\n",
      "Epoch 56/100\n",
      "100/108 [==========================>...] - ETA: 0s - loss: 0.4643 - mean_squared_error: 0.3809\n",
      "Epoch 56: val_mean_squared_error did not improve from 0.39760\n"
     ]
    },
    {
     "name": "stderr",
     "output_type": "stream",
     "text": [
      "Epoch 56, Loss: 0.4650, MSE: 0.3817, Val_Loss: 0.5538, Val_MSE: 0.4711\n"
     ]
    },
    {
     "name": "stdout",
     "output_type": "stream",
     "text": [
      "108/108 [==============================] - 1s 6ms/step - loss: 0.4650 - mean_squared_error: 0.3817 - val_loss: 0.5538 - val_mean_squared_error: 0.4711\n",
      "Epoch 57/100\n",
      "103/108 [===========================>..] - ETA: 0s - loss: 0.4507 - mean_squared_error: 0.3688\n",
      "Epoch 57: val_mean_squared_error did not improve from 0.39760\n"
     ]
    },
    {
     "name": "stderr",
     "output_type": "stream",
     "text": [
      "Epoch 57, Loss: 0.4494, MSE: 0.3674, Val_Loss: 0.4837, Val_MSE: 0.4025\n"
     ]
    },
    {
     "name": "stdout",
     "output_type": "stream",
     "text": [
      "108/108 [==============================] - 1s 6ms/step - loss: 0.4494 - mean_squared_error: 0.3674 - val_loss: 0.4837 - val_mean_squared_error: 0.4025\n",
      "Epoch 58/100\n",
      "100/108 [==========================>...] - ETA: 0s - loss: 0.4594 - mean_squared_error: 0.3786\n",
      "Epoch 58: val_mean_squared_error did not improve from 0.39760\n"
     ]
    },
    {
     "name": "stderr",
     "output_type": "stream",
     "text": [
      "Epoch 58, Loss: 0.4594, MSE: 0.3787, Val_Loss: 0.6092, Val_MSE: 0.5291\n"
     ]
    },
    {
     "name": "stdout",
     "output_type": "stream",
     "text": [
      "108/108 [==============================] - 1s 6ms/step - loss: 0.4594 - mean_squared_error: 0.3787 - val_loss: 0.6092 - val_mean_squared_error: 0.5291\n",
      "Epoch 59/100\n",
      "100/108 [==========================>...] - ETA: 0s - loss: 0.4226 - mean_squared_error: 0.3431\n",
      "Epoch 59: val_mean_squared_error did not improve from 0.39760\n"
     ]
    },
    {
     "name": "stderr",
     "output_type": "stream",
     "text": [
      "Epoch 59, Loss: 0.4301, MSE: 0.3507, Val_Loss: 0.4826, Val_MSE: 0.4038\n"
     ]
    },
    {
     "name": "stdout",
     "output_type": "stream",
     "text": [
      "108/108 [==============================] - 1s 6ms/step - loss: 0.4301 - mean_squared_error: 0.3507 - val_loss: 0.4826 - val_mean_squared_error: 0.4038\n",
      "Epoch 60/100\n",
      "100/108 [==========================>...] - ETA: 0s - loss: 0.4745 - mean_squared_error: 0.3960\n",
      "Epoch 60: val_mean_squared_error did not improve from 0.39760\n"
     ]
    },
    {
     "name": "stderr",
     "output_type": "stream",
     "text": [
      "Epoch 60, Loss: 0.4779, MSE: 0.3995, Val_Loss: 0.5260, Val_MSE: 0.4481\n"
     ]
    },
    {
     "name": "stdout",
     "output_type": "stream",
     "text": [
      "108/108 [==============================] - 1s 6ms/step - loss: 0.4779 - mean_squared_error: 0.3995 - val_loss: 0.5260 - val_mean_squared_error: 0.4481\n",
      "Epoch 61/100\n",
      "100/108 [==========================>...] - ETA: 0s - loss: 0.4404 - mean_squared_error: 0.3628\n",
      "Epoch 61: val_mean_squared_error did not improve from 0.39760\n"
     ]
    },
    {
     "name": "stderr",
     "output_type": "stream",
     "text": [
      "Epoch 61, Loss: 0.4398, MSE: 0.3623, Val_Loss: 0.4821, Val_MSE: 0.4051\n"
     ]
    },
    {
     "name": "stdout",
     "output_type": "stream",
     "text": [
      "108/108 [==============================] - 1s 6ms/step - loss: 0.4398 - mean_squared_error: 0.3623 - val_loss: 0.4821 - val_mean_squared_error: 0.4051\n",
      "Epoch 62/100\n",
      "100/108 [==========================>...] - ETA: 0s - loss: 0.4539 - mean_squared_error: 0.3775\n",
      "Epoch 62: val_mean_squared_error did not improve from 0.39760\n"
     ]
    },
    {
     "name": "stderr",
     "output_type": "stream",
     "text": [
      "Epoch 62, Loss: 0.4540, MSE: 0.3776, Val_Loss: 0.5519, Val_MSE: 0.4762\n"
     ]
    },
    {
     "name": "stdout",
     "output_type": "stream",
     "text": [
      "108/108 [==============================] - 1s 6ms/step - loss: 0.4540 - mean_squared_error: 0.3776 - val_loss: 0.5519 - val_mean_squared_error: 0.4762\n",
      "Epoch 63/100\n",
      "100/108 [==========================>...] - ETA: 0s - loss: 0.4405 - mean_squared_error: 0.3653\n",
      "Epoch 63: val_mean_squared_error did not improve from 0.39760\n"
     ]
    },
    {
     "name": "stderr",
     "output_type": "stream",
     "text": [
      "Epoch 63, Loss: 0.4444, MSE: 0.3693, Val_Loss: 0.6632, Val_MSE: 0.5886\n"
     ]
    },
    {
     "name": "stdout",
     "output_type": "stream",
     "text": [
      "108/108 [==============================] - 1s 6ms/step - loss: 0.4444 - mean_squared_error: 0.3693 - val_loss: 0.6632 - val_mean_squared_error: 0.5886\n",
      "Epoch 64/100\n",
      "100/108 [==========================>...] - ETA: 0s - loss: 0.4398 - mean_squared_error: 0.3657\n",
      "Epoch 64: val_mean_squared_error improved from 0.39760 to 0.39586, saving model to 0926-datasets-ml/ml-cn-xmu-(JmolNN)/MLPmodel-20250115_1903/best_model.h5\n"
     ]
    },
    {
     "name": "stderr",
     "output_type": "stream",
     "text": [
      "Epoch 64, Loss: 0.4424, MSE: 0.3684, Val_Loss: 0.4692, Val_MSE: 0.3959\n"
     ]
    },
    {
     "name": "stdout",
     "output_type": "stream",
     "text": [
      "108/108 [==============================] - 1s 7ms/step - loss: 0.4424 - mean_squared_error: 0.3684 - val_loss: 0.4692 - val_mean_squared_error: 0.3959\n",
      "Epoch 65/100\n",
      "100/108 [==========================>...] - ETA: 0s - loss: 0.4475 - mean_squared_error: 0.3746\n",
      "Epoch 65: val_mean_squared_error did not improve from 0.39586\n"
     ]
    },
    {
     "name": "stderr",
     "output_type": "stream",
     "text": [
      "Epoch 65, Loss: 0.4448, MSE: 0.3719, Val_Loss: 0.5028, Val_MSE: 0.4305\n"
     ]
    },
    {
     "name": "stdout",
     "output_type": "stream",
     "text": [
      "108/108 [==============================] - 1s 6ms/step - loss: 0.4448 - mean_squared_error: 0.3719 - val_loss: 0.5028 - val_mean_squared_error: 0.4305\n",
      "Epoch 66/100\n",
      "100/108 [==========================>...] - ETA: 0s - loss: 0.4464 - mean_squared_error: 0.3744\n",
      "Epoch 66: val_mean_squared_error did not improve from 0.39586\n"
     ]
    },
    {
     "name": "stderr",
     "output_type": "stream",
     "text": [
      "Epoch 66, Loss: 0.4438, MSE: 0.3719, Val_Loss: 0.5386, Val_MSE: 0.4673\n"
     ]
    },
    {
     "name": "stdout",
     "output_type": "stream",
     "text": [
      "108/108 [==============================] - 1s 6ms/step - loss: 0.4438 - mean_squared_error: 0.3719 - val_loss: 0.5386 - val_mean_squared_error: 0.4673\n",
      "Epoch 67/100\n",
      "100/108 [==========================>...] - ETA: 0s - loss: 0.4383 - mean_squared_error: 0.3675\n",
      "Epoch 67: val_mean_squared_error improved from 0.39586 to 0.35839, saving model to 0926-datasets-ml/ml-cn-xmu-(JmolNN)/MLPmodel-20250115_1903/best_model.h5\n"
     ]
    },
    {
     "name": "stderr",
     "output_type": "stream",
     "text": [
      "Epoch 67, Loss: 0.4384, MSE: 0.3677, Val_Loss: 0.4284, Val_MSE: 0.3584\n"
     ]
    },
    {
     "name": "stdout",
     "output_type": "stream",
     "text": [
      "108/108 [==============================] - 1s 7ms/step - loss: 0.4384 - mean_squared_error: 0.3677 - val_loss: 0.4284 - val_mean_squared_error: 0.3584\n",
      "Epoch 68/100\n",
      "100/108 [==========================>...] - ETA: 0s - loss: 0.4119 - mean_squared_error: 0.3422\n",
      "Epoch 68: val_mean_squared_error did not improve from 0.35839\n"
     ]
    },
    {
     "name": "stderr",
     "output_type": "stream",
     "text": [
      "Epoch 68, Loss: 0.4160, MSE: 0.3463, Val_Loss: 0.4373, Val_MSE: 0.3680\n"
     ]
    },
    {
     "name": "stdout",
     "output_type": "stream",
     "text": [
      "108/108 [==============================] - 1s 6ms/step - loss: 0.4160 - mean_squared_error: 0.3463 - val_loss: 0.4373 - val_mean_squared_error: 0.3680\n",
      "Epoch 69/100\n",
      "100/108 [==========================>...] - ETA: 0s - loss: 0.4387 - mean_squared_error: 0.3699\n",
      "Epoch 69: val_mean_squared_error did not improve from 0.35839\n"
     ]
    },
    {
     "name": "stderr",
     "output_type": "stream",
     "text": [
      "Epoch 69, Loss: 0.4396, MSE: 0.3708, Val_Loss: 0.4640, Val_MSE: 0.3957\n"
     ]
    },
    {
     "name": "stdout",
     "output_type": "stream",
     "text": [
      "108/108 [==============================] - 1s 6ms/step - loss: 0.4396 - mean_squared_error: 0.3708 - val_loss: 0.4640 - val_mean_squared_error: 0.3957\n",
      "Epoch 70/100\n",
      "100/108 [==========================>...] - ETA: 0s - loss: 0.4668 - mean_squared_error: 0.3988\n",
      "Epoch 70: val_mean_squared_error did not improve from 0.35839\n"
     ]
    },
    {
     "name": "stderr",
     "output_type": "stream",
     "text": [
      "Epoch 70, Loss: 0.4638, MSE: 0.3957, Val_Loss: 0.4667, Val_MSE: 0.3990\n"
     ]
    },
    {
     "name": "stdout",
     "output_type": "stream",
     "text": [
      "108/108 [==============================] - 1s 6ms/step - loss: 0.4638 - mean_squared_error: 0.3957 - val_loss: 0.4667 - val_mean_squared_error: 0.3990\n",
      "Epoch 71/100\n",
      "100/108 [==========================>...] - ETA: 0s - loss: 0.4460 - mean_squared_error: 0.3787\n",
      "Epoch 71: val_mean_squared_error did not improve from 0.35839\n"
     ]
    },
    {
     "name": "stderr",
     "output_type": "stream",
     "text": [
      "Epoch 71, Loss: 0.4463, MSE: 0.3790, Val_Loss: 0.5304, Val_MSE: 0.4636\n"
     ]
    },
    {
     "name": "stdout",
     "output_type": "stream",
     "text": [
      "108/108 [==============================] - 1s 6ms/step - loss: 0.4463 - mean_squared_error: 0.3790 - val_loss: 0.5304 - val_mean_squared_error: 0.4636\n",
      "Epoch 72/100\n",
      "100/108 [==========================>...] - ETA: 0s - loss: 0.4631 - mean_squared_error: 0.3964\n",
      "Epoch 72: val_mean_squared_error did not improve from 0.35839\n"
     ]
    },
    {
     "name": "stderr",
     "output_type": "stream",
     "text": [
      "Epoch 72, Loss: 0.4601, MSE: 0.3934, Val_Loss: 0.4635, Val_MSE: 0.3971\n"
     ]
    },
    {
     "name": "stdout",
     "output_type": "stream",
     "text": [
      "108/108 [==============================] - 1s 6ms/step - loss: 0.4601 - mean_squared_error: 0.3934 - val_loss: 0.4635 - val_mean_squared_error: 0.3971\n",
      "Epoch 73/100\n",
      "100/108 [==========================>...] - ETA: 0s - loss: 0.4292 - mean_squared_error: 0.3633\n",
      "Epoch 73: val_mean_squared_error did not improve from 0.35839\n"
     ]
    },
    {
     "name": "stderr",
     "output_type": "stream",
     "text": [
      "Epoch 73, Loss: 0.4271, MSE: 0.3612, Val_Loss: 0.4896, Val_MSE: 0.4240\n"
     ]
    },
    {
     "name": "stdout",
     "output_type": "stream",
     "text": [
      "108/108 [==============================] - 1s 6ms/step - loss: 0.4271 - mean_squared_error: 0.3612 - val_loss: 0.4896 - val_mean_squared_error: 0.4240\n",
      "Epoch 74/100\n",
      " 98/108 [==========================>...] - ETA: 0s - loss: 0.4171 - mean_squared_error: 0.3519\n",
      "Epoch 74: val_mean_squared_error did not improve from 0.35839\n"
     ]
    },
    {
     "name": "stderr",
     "output_type": "stream",
     "text": [
      "Epoch 74, Loss: 0.4171, MSE: 0.3520, Val_Loss: 0.4812, Val_MSE: 0.4164\n"
     ]
    },
    {
     "name": "stdout",
     "output_type": "stream",
     "text": [
      "108/108 [==============================] - 1s 6ms/step - loss: 0.4171 - mean_squared_error: 0.3520 - val_loss: 0.4812 - val_mean_squared_error: 0.4164\n",
      "Epoch 75/100\n",
      " 99/108 [==========================>...] - ETA: 0s - loss: 0.4208 - mean_squared_error: 0.3564\n",
      "Epoch 75: val_mean_squared_error did not improve from 0.35839\n"
     ]
    },
    {
     "name": "stderr",
     "output_type": "stream",
     "text": [
      "Epoch 75, Loss: 0.4225, MSE: 0.3582, Val_Loss: 0.4432, Val_MSE: 0.3794\n"
     ]
    },
    {
     "name": "stdout",
     "output_type": "stream",
     "text": [
      "108/108 [==============================] - 1s 6ms/step - loss: 0.4225 - mean_squared_error: 0.3582 - val_loss: 0.4432 - val_mean_squared_error: 0.3794\n",
      "Epoch 76/100\n",
      " 99/108 [==========================>...] - ETA: 0s - loss: 0.4035 - mean_squared_error: 0.3401\n",
      "Epoch 76: val_mean_squared_error did not improve from 0.35839\n"
     ]
    },
    {
     "name": "stderr",
     "output_type": "stream",
     "text": [
      "Epoch 76, Loss: 0.4074, MSE: 0.3441, Val_Loss: 0.4611, Val_MSE: 0.3982\n"
     ]
    },
    {
     "name": "stdout",
     "output_type": "stream",
     "text": [
      "108/108 [==============================] - 1s 6ms/step - loss: 0.4074 - mean_squared_error: 0.3441 - val_loss: 0.4611 - val_mean_squared_error: 0.3982\n",
      "Epoch 77/100\n",
      "100/108 [==========================>...] - ETA: 0s - loss: 0.4272 - mean_squared_error: 0.3646\n",
      "Epoch 77: val_mean_squared_error did not improve from 0.35839\n"
     ]
    },
    {
     "name": "stderr",
     "output_type": "stream",
     "text": [
      "Epoch 77, Loss: 0.4250, MSE: 0.3624, Val_Loss: 0.4453, Val_MSE: 0.3833\n"
     ]
    },
    {
     "name": "stdout",
     "output_type": "stream",
     "text": [
      "108/108 [==============================] - 1s 6ms/step - loss: 0.4250 - mean_squared_error: 0.3624 - val_loss: 0.4453 - val_mean_squared_error: 0.3833\n",
      "Epoch 78/100\n",
      " 99/108 [==========================>...] - ETA: 0s - loss: 0.4498 - mean_squared_error: 0.3880\n",
      "Epoch 78: val_mean_squared_error did not improve from 0.35839\n"
     ]
    },
    {
     "name": "stderr",
     "output_type": "stream",
     "text": [
      "Epoch 78, Loss: 0.4362, MSE: 0.3744, Val_Loss: 0.4566, Val_MSE: 0.3952\n"
     ]
    },
    {
     "name": "stdout",
     "output_type": "stream",
     "text": [
      "108/108 [==============================] - 1s 6ms/step - loss: 0.4362 - mean_squared_error: 0.3744 - val_loss: 0.4566 - val_mean_squared_error: 0.3952\n",
      "Epoch 79/100\n",
      " 99/108 [==========================>...] - ETA: 0s - loss: 0.4009 - mean_squared_error: 0.3400\n",
      "Epoch 79: val_mean_squared_error did not improve from 0.35839\n"
     ]
    },
    {
     "name": "stderr",
     "output_type": "stream",
     "text": [
      "Epoch 79, Loss: 0.4064, MSE: 0.3455, Val_Loss: 0.4641, Val_MSE: 0.4038\n"
     ]
    },
    {
     "name": "stdout",
     "output_type": "stream",
     "text": [
      "108/108 [==============================] - 1s 6ms/step - loss: 0.4064 - mean_squared_error: 0.3455 - val_loss: 0.4641 - val_mean_squared_error: 0.4038\n",
      "Epoch 80/100\n",
      " 99/108 [==========================>...] - ETA: 0s - loss: 0.4134 - mean_squared_error: 0.3533\n",
      "Epoch 80: val_mean_squared_error did not improve from 0.35839\n"
     ]
    },
    {
     "name": "stderr",
     "output_type": "stream",
     "text": [
      "Epoch 80, Loss: 0.4158, MSE: 0.3558, Val_Loss: 0.4453, Val_MSE: 0.3854\n"
     ]
    },
    {
     "name": "stdout",
     "output_type": "stream",
     "text": [
      "108/108 [==============================] - 1s 6ms/step - loss: 0.4158 - mean_squared_error: 0.3558 - val_loss: 0.4453 - val_mean_squared_error: 0.3854\n",
      "Epoch 81/100\n",
      "100/108 [==========================>...] - ETA: 0s - loss: 0.4022 - mean_squared_error: 0.3426\n",
      "Epoch 81: val_mean_squared_error did not improve from 0.35839\n"
     ]
    },
    {
     "name": "stderr",
     "output_type": "stream",
     "text": [
      "Epoch 81, Loss: 0.4096, MSE: 0.3500, Val_Loss: 0.5638, Val_MSE: 0.5045\n"
     ]
    },
    {
     "name": "stdout",
     "output_type": "stream",
     "text": [
      "108/108 [==============================] - 1s 6ms/step - loss: 0.4096 - mean_squared_error: 0.3500 - val_loss: 0.5638 - val_mean_squared_error: 0.5045\n",
      "Epoch 82/100\n",
      "100/108 [==========================>...] - ETA: 0s - loss: 0.4412 - mean_squared_error: 0.3821\n",
      "Epoch 82: val_mean_squared_error did not improve from 0.35839\n"
     ]
    },
    {
     "name": "stderr",
     "output_type": "stream",
     "text": [
      "Epoch 82, Loss: 0.4375, MSE: 0.3785, Val_Loss: 0.5469, Val_MSE: 0.4882\n"
     ]
    },
    {
     "name": "stdout",
     "output_type": "stream",
     "text": [
      "108/108 [==============================] - 1s 6ms/step - loss: 0.4375 - mean_squared_error: 0.3785 - val_loss: 0.5469 - val_mean_squared_error: 0.4882\n",
      "Epoch 83/100\n",
      "100/108 [==========================>...] - ETA: 0s - loss: 0.3994 - mean_squared_error: 0.3412\n",
      "Epoch 83: val_mean_squared_error did not improve from 0.35839\n"
     ]
    },
    {
     "name": "stderr",
     "output_type": "stream",
     "text": [
      "Epoch 83, Loss: 0.4029, MSE: 0.3448, Val_Loss: 0.4739, Val_MSE: 0.4162\n"
     ]
    },
    {
     "name": "stdout",
     "output_type": "stream",
     "text": [
      "108/108 [==============================] - 1s 6ms/step - loss: 0.4029 - mean_squared_error: 0.3448 - val_loss: 0.4739 - val_mean_squared_error: 0.4162\n",
      "Epoch 84/100\n",
      "100/108 [==========================>...] - ETA: 0s - loss: 0.4077 - mean_squared_error: 0.3503\n",
      "Epoch 84: val_mean_squared_error did not improve from 0.35839\n"
     ]
    },
    {
     "name": "stderr",
     "output_type": "stream",
     "text": [
      "Epoch 84, Loss: 0.4090, MSE: 0.3517, Val_Loss: 0.4263, Val_MSE: 0.3692\n"
     ]
    },
    {
     "name": "stdout",
     "output_type": "stream",
     "text": [
      "108/108 [==============================] - 1s 6ms/step - loss: 0.4090 - mean_squared_error: 0.3517 - val_loss: 0.4263 - val_mean_squared_error: 0.3692\n",
      "Epoch 85/100\n",
      "100/108 [==========================>...] - ETA: 0s - loss: 0.3893 - mean_squared_error: 0.3325\n",
      "Epoch 85: val_mean_squared_error did not improve from 0.35839\n"
     ]
    },
    {
     "name": "stderr",
     "output_type": "stream",
     "text": [
      "Epoch 85, Loss: 0.3895, MSE: 0.3328, Val_Loss: 0.4575, Val_MSE: 0.4010\n"
     ]
    },
    {
     "name": "stdout",
     "output_type": "stream",
     "text": [
      "108/108 [==============================] - 1s 6ms/step - loss: 0.3895 - mean_squared_error: 0.3328 - val_loss: 0.4575 - val_mean_squared_error: 0.4010\n",
      "Epoch 86/100\n",
      "100/108 [==========================>...] - ETA: 0s - loss: 0.4043 - mean_squared_error: 0.3481\n",
      "Epoch 86: val_mean_squared_error did not improve from 0.35839\n"
     ]
    },
    {
     "name": "stderr",
     "output_type": "stream",
     "text": [
      "Epoch 86, Loss: 0.4017, MSE: 0.3455, Val_Loss: 0.4666, Val_MSE: 0.4106\n"
     ]
    },
    {
     "name": "stdout",
     "output_type": "stream",
     "text": [
      "108/108 [==============================] - 1s 6ms/step - loss: 0.4017 - mean_squared_error: 0.3455 - val_loss: 0.4666 - val_mean_squared_error: 0.4106\n",
      "Epoch 87/100\n",
      "100/108 [==========================>...] - ETA: 0s - loss: 0.3858 - mean_squared_error: 0.3302\n",
      "Epoch 87: val_mean_squared_error did not improve from 0.35839\n"
     ]
    },
    {
     "name": "stderr",
     "output_type": "stream",
     "text": [
      "Epoch 87, Loss: 0.3980, MSE: 0.3424, Val_Loss: 0.4372, Val_MSE: 0.3820\n"
     ]
    },
    {
     "name": "stdout",
     "output_type": "stream",
     "text": [
      "108/108 [==============================] - 1s 6ms/step - loss: 0.3980 - mean_squared_error: 0.3424 - val_loss: 0.4372 - val_mean_squared_error: 0.3820\n",
      "Epoch 88/100\n",
      "100/108 [==========================>...] - ETA: 0s - loss: 0.4521 - mean_squared_error: 0.3965\n",
      "Epoch 88: val_mean_squared_error did not improve from 0.35839\n"
     ]
    },
    {
     "name": "stderr",
     "output_type": "stream",
     "text": [
      "Epoch 88, Loss: 0.4513, MSE: 0.3957, Val_Loss: 0.5241, Val_MSE: 0.4685\n"
     ]
    },
    {
     "name": "stdout",
     "output_type": "stream",
     "text": [
      "108/108 [==============================] - 1s 6ms/step - loss: 0.4513 - mean_squared_error: 0.3957 - val_loss: 0.5241 - val_mean_squared_error: 0.4685\n",
      "Epoch 89/100\n",
      "100/108 [==========================>...] - ETA: 0s - loss: 0.4211 - mean_squared_error: 0.3660\n",
      "Epoch 89: val_mean_squared_error did not improve from 0.35839\n"
     ]
    },
    {
     "name": "stderr",
     "output_type": "stream",
     "text": [
      "Epoch 89, Loss: 0.4261, MSE: 0.3709, Val_Loss: 0.6153, Val_MSE: 0.5598\n"
     ]
    },
    {
     "name": "stdout",
     "output_type": "stream",
     "text": [
      "108/108 [==============================] - 1s 6ms/step - loss: 0.4261 - mean_squared_error: 0.3709 - val_loss: 0.6153 - val_mean_squared_error: 0.5598\n",
      "Epoch 90/100\n",
      "100/108 [==========================>...] - ETA: 0s - loss: 0.4313 - mean_squared_error: 0.3760\n",
      "Epoch 90: val_mean_squared_error did not improve from 0.35839\n"
     ]
    },
    {
     "name": "stderr",
     "output_type": "stream",
     "text": [
      "Epoch 90, Loss: 0.4312, MSE: 0.3760, Val_Loss: 0.4151, Val_MSE: 0.3604\n"
     ]
    },
    {
     "name": "stdout",
     "output_type": "stream",
     "text": [
      "108/108 [==============================] - 1s 6ms/step - loss: 0.4312 - mean_squared_error: 0.3760 - val_loss: 0.4151 - val_mean_squared_error: 0.3604\n",
      "Epoch 91/100\n",
      "100/108 [==========================>...] - ETA: 0s - loss: 0.4007 - mean_squared_error: 0.3464\n",
      "Epoch 91: val_mean_squared_error did not improve from 0.35839\n"
     ]
    },
    {
     "name": "stderr",
     "output_type": "stream",
     "text": [
      "Epoch 91, Loss: 0.4001, MSE: 0.3458, Val_Loss: 0.4879, Val_MSE: 0.4340\n"
     ]
    },
    {
     "name": "stdout",
     "output_type": "stream",
     "text": [
      "108/108 [==============================] - 1s 6ms/step - loss: 0.4001 - mean_squared_error: 0.3458 - val_loss: 0.4879 - val_mean_squared_error: 0.4340\n",
      "Epoch 92/100\n",
      "100/108 [==========================>...] - ETA: 0s - loss: 0.3903 - mean_squared_error: 0.3367\n",
      "Epoch 92: val_mean_squared_error did not improve from 0.35839\n"
     ]
    },
    {
     "name": "stderr",
     "output_type": "stream",
     "text": [
      "Epoch 92, Loss: 0.3931, MSE: 0.3395, Val_Loss: 0.4893, Val_MSE: 0.4360\n"
     ]
    },
    {
     "name": "stdout",
     "output_type": "stream",
     "text": [
      "108/108 [==============================] - 1s 6ms/step - loss: 0.3931 - mean_squared_error: 0.3395 - val_loss: 0.4893 - val_mean_squared_error: 0.4360\n",
      "Epoch 93/100\n",
      " 99/108 [==========================>...] - ETA: 0s - loss: 0.4378 - mean_squared_error: 0.3846\n",
      "Epoch 93: val_mean_squared_error did not improve from 0.35839\n"
     ]
    },
    {
     "name": "stderr",
     "output_type": "stream",
     "text": [
      "Epoch 93, Loss: 0.4351, MSE: 0.3819, Val_Loss: 0.4163, Val_MSE: 0.3632\n"
     ]
    },
    {
     "name": "stdout",
     "output_type": "stream",
     "text": [
      "108/108 [==============================] - 1s 6ms/step - loss: 0.4351 - mean_squared_error: 0.3819 - val_loss: 0.4163 - val_mean_squared_error: 0.3632\n",
      "Epoch 94/100\n",
      "100/108 [==========================>...] - ETA: 0s - loss: 0.4071 - mean_squared_error: 0.3542\n",
      "Epoch 94: val_mean_squared_error did not improve from 0.35839\n"
     ]
    },
    {
     "name": "stderr",
     "output_type": "stream",
     "text": [
      "Epoch 94, Loss: 0.4049, MSE: 0.3520, Val_Loss: 0.5433, Val_MSE: 0.4905\n"
     ]
    },
    {
     "name": "stdout",
     "output_type": "stream",
     "text": [
      "108/108 [==============================] - 1s 6ms/step - loss: 0.4049 - mean_squared_error: 0.3520 - val_loss: 0.5433 - val_mean_squared_error: 0.4905\n",
      "Epoch 95/100\n",
      "100/108 [==========================>...] - ETA: 0s - loss: 0.3994 - mean_squared_error: 0.3467\n",
      "Epoch 95: val_mean_squared_error did not improve from 0.35839\n"
     ]
    },
    {
     "name": "stderr",
     "output_type": "stream",
     "text": [
      "Epoch 95, Loss: 0.3985, MSE: 0.3458, Val_Loss: 0.4665, Val_MSE: 0.4142\n"
     ]
    },
    {
     "name": "stdout",
     "output_type": "stream",
     "text": [
      "108/108 [==============================] - 1s 6ms/step - loss: 0.3985 - mean_squared_error: 0.3458 - val_loss: 0.4665 - val_mean_squared_error: 0.4142\n",
      "Epoch 96/100\n",
      "100/108 [==========================>...] - ETA: 0s - loss: 0.3703 - mean_squared_error: 0.3183\n",
      "Epoch 96: val_mean_squared_error did not improve from 0.35839\n"
     ]
    },
    {
     "name": "stderr",
     "output_type": "stream",
     "text": [
      "Epoch 96, Loss: 0.3698, MSE: 0.3178, Val_Loss: 0.4662, Val_MSE: 0.4145\n"
     ]
    },
    {
     "name": "stdout",
     "output_type": "stream",
     "text": [
      "108/108 [==============================] - 1s 6ms/step - loss: 0.3698 - mean_squared_error: 0.3178 - val_loss: 0.4662 - val_mean_squared_error: 0.4145\n",
      "Epoch 97/100\n",
      "100/108 [==========================>...] - ETA: 0s - loss: 0.3749 - mean_squared_error: 0.3235\n",
      "Epoch 97: val_mean_squared_error did not improve from 0.35839\n"
     ]
    },
    {
     "name": "stderr",
     "output_type": "stream",
     "text": [
      "Epoch 97, Loss: 0.3769, MSE: 0.3255, Val_Loss: 0.4390, Val_MSE: 0.3877\n"
     ]
    },
    {
     "name": "stdout",
     "output_type": "stream",
     "text": [
      "108/108 [==============================] - 1s 6ms/step - loss: 0.3769 - mean_squared_error: 0.3255 - val_loss: 0.4390 - val_mean_squared_error: 0.3877\n",
      "Epoch 98/100\n",
      "100/108 [==========================>...] - ETA: 0s - loss: 0.3875 - mean_squared_error: 0.3366\n",
      "Epoch 98: val_mean_squared_error did not improve from 0.35839\n"
     ]
    },
    {
     "name": "stderr",
     "output_type": "stream",
     "text": [
      "Epoch 98, Loss: 0.3851, MSE: 0.3341, Val_Loss: 0.4848, Val_MSE: 0.4343\n"
     ]
    },
    {
     "name": "stdout",
     "output_type": "stream",
     "text": [
      "108/108 [==============================] - 1s 6ms/step - loss: 0.3851 - mean_squared_error: 0.3341 - val_loss: 0.4848 - val_mean_squared_error: 0.4343\n",
      "Epoch 99/100\n",
      "100/108 [==========================>...] - ETA: 0s - loss: 0.3990 - mean_squared_error: 0.3485\n",
      "Epoch 99: val_mean_squared_error did not improve from 0.35839\n"
     ]
    },
    {
     "name": "stderr",
     "output_type": "stream",
     "text": [
      "Epoch 99, Loss: 0.3973, MSE: 0.3469, Val_Loss: 0.4818, Val_MSE: 0.4314\n"
     ]
    },
    {
     "name": "stdout",
     "output_type": "stream",
     "text": [
      "108/108 [==============================] - 1s 6ms/step - loss: 0.3973 - mean_squared_error: 0.3469 - val_loss: 0.4818 - val_mean_squared_error: 0.4314\n",
      "Epoch 100/100\n",
      "100/108 [==========================>...] - ETA: 0s - loss: 0.3760 - mean_squared_error: 0.3258\n",
      "Epoch 100: val_mean_squared_error did not improve from 0.35839\n"
     ]
    },
    {
     "name": "stderr",
     "output_type": "stream",
     "text": [
      "Epoch 100, Loss: 0.3743, MSE: 0.3241, Val_Loss: 0.4162, Val_MSE: 0.3661\n"
     ]
    },
    {
     "name": "stdout",
     "output_type": "stream",
     "text": [
      "108/108 [==============================] - 1s 6ms/step - loss: 0.3743 - mean_squared_error: 0.3241 - val_loss: 0.4162 - val_mean_squared_error: 0.3661\n"
     ]
    }
   ],
   "source": [
    "# Standardize data\n",
    "#scaler = StandardScaler()\n",
    "#X_train = scaler.fit_transform(X_train)\n",
    "#X_valid = scaler.transform(X_valid)\n",
    "#X_test = scaler.transform(X_test)\n",
    "#scaler_path = os.path.join(dir_output, 'scaler.pkl')\n",
    "#joblib.dump(scaler, scaler_path)\n",
    "#print(f\"Scaler saved to: {scaler_path}\")\n",
    "# Build the mlp model\n",
    "#model = Sequential()\n",
    "#model.add(Dense(400, input_dim=X_train.shape[1], activation='relu'))  # Input layer and first hidden layer\n",
    "#model.add(Dense(200, activation='relu'))\n",
    "#model.add(Dense(100, activation='relu'))  # Second hidden layer\n",
    "#model.add(Dense(1))  # Output layer with linear activation function (default)\n",
    "model = Sequential()\n",
    "model.add(Dense(512, input_dim=X_train.shape[1], activation='relu', kernel_regularizer=regularizers.l2(0.0001)))\n",
    "#model.add(Dropout(0.2))  # Add Dropout layer\n",
    "model.add(Dense(256, activation='relu', kernel_regularizer=regularizers.l2(0.0001)))\n",
    "#model.add(Dropout(0.2))  # Add Dropout layer\n",
    "model.add(Dense(128, activation='relu', kernel_regularizer=regularizers.l2(0.0001)))\n",
    "#model.add(Dropout(0.2))  # Add Dropout layer\n",
    "model.add(Dense(64, activation='relu', kernel_regularizer=regularizers.l2(0.0001)))\n",
    "#model.add(Dropout(0.2))  # Add Dropout layer\n",
    "model.add(Dense(32, activation='relu', kernel_regularizer=regularizers.l2(0.0001)))\n",
    "#model.add(Dense(16, activation='relu', kernel_regularizer=regularizers.l2(0.0001)))\n",
    "model.add(Dense(1))\n",
    "optimizer = Adam(learning_rate=0.001)\n",
    "#model.compile(optimizer=optimizer, loss='mean_squared_error', metrics=['mean_squared_error'])\n",
    "# Compile the model\n",
    "model.compile(optimizer='adam', loss='mean_squared_error', metrics=['mean_squared_error'])\n",
    "# Set model save path\n",
    "model_file = os.path.join(dir_output, 'best_model.h5')\n",
    "# Set callbacks to save the model with the best performance on the validation set and to log training process\n",
    "checkpoint = ModelCheckpoint(model_file, monitor='val_mean_squared_error', verbose=1, save_best_only=True, mode='min')\n",
    "# Custom callback class to log training process\n",
    "class CustomCallback(keras.callbacks.Callback):\n",
    "    def on_epoch_end(self, epoch, logs=None):\n",
    "        log_message = (f\"Epoch {epoch + 1}, \"\n",
    "                       f\"Loss: {logs['loss']:.4f}, \"\n",
    "                       f\"MSE: {logs['mean_squared_error']:.4f}, \"\n",
    "                       f\"Val_Loss: {logs['val_loss']:.4f}, \"\n",
    "                       f\"Val_MSE: {logs['val_mean_squared_error']:.4f}\")\n",
    "        logging.info(log_message)\n",
    "# Train the model\n",
    "history = model.fit(X_train, y_train, validation_data=(X_valid, y_valid), epochs=100, batch_size=32, callbacks=[checkpoint, CustomCallback()])\n"
   ]
  },
  {
   "cell_type": "code",
   "execution_count": 5,
   "id": "aa3a7675",
   "metadata": {
    "ExecuteTime": {
     "end_time": "2025-01-15T11:04:44.022603Z",
     "start_time": "2025-01-15T11:04:43.810892Z"
    }
   },
   "outputs": [
    {
     "name": "stdout",
     "output_type": "stream",
     "text": [
      "Model structure saved to: 0926-datasets-ml/ml-cn-xmu-(JmolNN)/MLPmodel-20250115_1903/model_structure.png\n"
     ]
    },
    {
     "data": {
      "image/png": "[encoded data removed]",
      "text/plain": [
       "<IPython.core.display.Image object>"
      ]
     },
     "metadata": {},
     "output_type": "display_data"
    }
   ],
   "source": [
    "# Plot and save the model structure\n",
    "model_structure_file = os.path.join(dir_output, 'model_structure.png')\n",
    "plot_model(model, to_file=model_structure_file, show_shapes=True, show_layer_names=True)\n",
    "print(f\"Model structure saved to: {model_structure_file}\")\n",
    "display(Image(filename=model_structure_file))"
   ]
  },
  {
   "cell_type": "markdown",
   "id": "17bdbbbe",
   "metadata": {},
   "source": [
    "## Plot the loss curve of the training process"
   ]
  },
  {
   "cell_type": "code",
   "execution_count": 6,
   "id": "17337056",
   "metadata": {
    "ExecuteTime": {
     "end_time": "2025-01-15T11:04:44.297278Z",
     "start_time": "2025-01-15T11:04:44.025636Z"
    }
   },
   "outputs": [
    {
     "data": {
      "image/png": "[encoded data removed]",
      "text/plain": [
       "<Figure size 720x432 with 1 Axes>"
      ]
     },
     "metadata": {
      "needs_background": "light"
     },
     "output_type": "display_data"
    }
   ],
   "source": [
    "# Plot the loss curve during training\n",
    "plt.figure(figsize=(10, 6))\n",
    "plt.plot(history.history['loss'], label='Training Loss', color='blue')\n",
    "plt.plot(history.history['val_loss'], label='Validation Loss', color='red')\n",
    "plt.title('Model Loss(MLP)')\n",
    "plt.xlabel('Epoch')\n",
    "plt.ylabel('Loss')\n",
    "plt.legend()\n",
    "plt.grid(True)\n",
    "plt.savefig(os.path.join(dir_output, 'training_loss.png'))\n",
    "plt.show()"
   ]
  },
  {
   "cell_type": "markdown",
   "id": "acbd9d7a",
   "metadata": {},
   "source": [
    "# Predict and calculate accuracy\n",
    "\n",
    "## Model Prediction:\n",
    "- `y_pred`: Contains the predicted values for the test set generated by the trained model.\n",
    "- The predicted values are compared with the true values (`y_test`) to evaluate the model's performance.\n",
    "\n",
    "## Performance Evaluation:\n",
    "- **Mean Squared Error (MSE)**: This metric calculates the average squared difference between predicted and actual values. A lower value indicates a better fit.\n",
    "- **R² Score**: This metric represents the proportion of the variance in the dependent variable that is predictable from the independent variables. A value closer to 1 indicates a better model fit.\n",
    "\n",
    "# Save Predictions:\n",
    "- The predicted values (`y_pred`) are saved into a CSV file for future reference or further analysis.\n",
    "- Example: `'predictions.csv'` (file where predictions are stored).\n",
    "\n",
    "## Visualization:\n",
    "- A plot is generated to compare the true and predicted values visually, providing insights into the model's performance.\n",
    "- The plot is saved as `'true_vs_predicted.png'` for easy access."
   ]
  },
  {
   "cell_type": "code",
   "execution_count": 7,
   "id": "0e0de0e6",
   "metadata": {
    "ExecuteTime": {
     "end_time": "2025-01-15T11:04:44.725449Z",
     "start_time": "2025-01-15T11:04:44.298646Z"
    }
   },
   "outputs": [
    {
     "name": "stdout",
     "output_type": "stream",
     "text": [
      "16/16 [==============================] - 0s 2ms/step\n"
     ]
    },
    {
     "name": "stderr",
     "output_type": "stream",
     "text": [
      "Test MSE: 0.332462\n",
      "Test R² Score: 0.959405\n"
     ]
    },
    {
     "name": "stdout",
     "output_type": "stream",
     "text": [
      "Test MSE: 0.332462\n",
      "Test R² Score: 0.959405\n"
     ]
    },
    {
     "data": {
      "image/png": "[encoded data removed]",
      "text/plain": [
       "<Figure size 720x360 with 1 Axes>"
      ]
     },
     "metadata": {
      "needs_background": "light"
     },
     "output_type": "display_data"
    }
   ],
   "source": [
    "# Predict and calculate accuracy\n",
    "y_pred = model.predict(X_test).flatten()\n",
    "\n",
    "# Calculate and print Mean Squared Error (MSE) and R² score\n",
    "mse = mean_squared_error(y_test, y_pred)\n",
    "r2 = r2_score(y_test, y_pred)\n",
    "print(f\"Test MSE: {mse:.6f}\")\n",
    "print(f\"Test R² Score: {r2:.6f}\")\n",
    "logging.info(f\"Test MSE: {mse:.6f}\")\n",
    "logging.info(f\"Test R² Score: {r2:.6f}\")\n",
    "\n",
    "# Save predictions\n",
    "predictions_file = os.path.join(dir_output, 'predictions.csv')\n",
    "np.savetxt(predictions_file, y_pred, delimiter=',')\n",
    "\n",
    "# Plot the comparison of predicted and true values\n",
    "plt.figure(figsize=(10, 5))\n",
    "plt.plot(y_test, label='True Values (Test)', color='yellow', linewidth=1.5)\n",
    "plt.plot(y_pred, label='Predicted Values (Test)', color='blue', linewidth=1.5)\n",
    "plt.xlabel('Samples')\n",
    "plt.ylabel('Values')\n",
    "plt.title('Comparison of True and Predicted Values (Test)-MLP')\n",
    "plt.legend()\n",
    "plt.grid(True)\n",
    "plt.savefig(os.path.join(dir_output, 'true_vs_predicted.png'))\n",
    "plt.show()\n",
    "\n"
   ]
  },
  {
   "cell_type": "code",
   "execution_count": null,
   "id": "a0b6df62",
   "metadata": {},
   "outputs": [],
   "source": []
  },
  {
   "cell_type": "code",
   "execution_count": null,
   "id": "98e644f3",
   "metadata": {},
   "outputs": [],
   "source": []
  }
 ],
 "metadata": {
  "kernelspec": {
   "display_name": "Python 3 (ipykernel)",
   "language": "python",
   "name": "python3"
  },
  "language_info": {
   "codemirror_mode": {
    "name": "ipython",
    "version": 3
   },
   "file_extension": ".py",
   "mimetype": "text/x-python",
   "name": "python",
   "nbconvert_exporter": "python",
   "pygments_lexer": "ipython3",
   "version": "3.11.4"
  },
  "toc": {
   "base_numbering": 1,
   "nav_menu": {},
   "number_sections": true,
   "sideBar": true,
   "skip_h1_title": false,
   "title_cell": "Table of Contents",
   "title_sidebar": "Contents",
   "toc_cell": false,
   "toc_position": {
    "height": "calc(100% - 180px)",
    "left": "10px",
    "top": "150px",
    "width": "264.796875px"
   },
   "toc_section_display": true,
   "toc_window_display": true
  }
 },
 "nbformat": 4,
 "nbformat_minor": 5
}
