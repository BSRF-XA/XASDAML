{
 "cells": [
  {
   "cell_type": "markdown",
   "id": "dd4ea747",
   "metadata": {},
   "source": [
    "# Program Description: Machine Learning Modeling (MLP Regression - Module 10)\n",
    "\n",
    "## Overview:\n",
    "This module is responsible for building a multi-layer perceptron (MLP) regression model, training it on the provided dataset, and saving the best model after training. The input dataset (feature and label files) is loaded from the output of **Module 9** (where the dataset has been normalized).\n",
    "\n",
    "## Key Steps:\n",
    "\n",
    "1. **Dataset Loading**:\n",
    "   - The module reads the **normalized dataset** (train and validation sets) generated in **Module 9**.\n",
    "   - The dataset includes both **features** and **labels** required for training the model.\n",
    "\n",
    "2. **Model Construction**:\n",
    "   - An MLP regression model is built using the loaded dataset.\n",
    "   - The model is configured and optimized for regression tasks.\n",
    "\n",
    "3. **Training and Evaluation**:\n",
    "   - The model is trained using the provided **training dataset**.\n",
    "   - The performance of the model is evaluated using the **validation dataset**.\n",
    "   - Hyperparameter tuning may be applied to improve the model's accuracy.\n",
    "\n",
    "4. **Model Saving and Prediction**:\n",
    "   - After training, the **best model** (based on validation performance) is saved.\n",
    "   - The trained model is used to make predictions on the test set or additional unseen data.\n",
    "\n",
    "## Output:\n",
    "- The best trained model is saved in the `datasets-ml` folder under the current path. The saved model is named as follows:\n",
    "  - `MLPmodel--{current_time}`, where `{current_time}` is the timestamp of the training session.\n",
    "\n",
    "## Note:\n",
    "- This module is parallel to other network models, meaning it can be used with other models or in conjunction with other training pipelines.\n",
    "- The input data is provided as the output of **Module 9** (dataset normalization).\n"
   ]
  },
  {
   "cell_type": "markdown",
   "id": "9389208b",
   "metadata": {},
   "source": [
    "contacts：zhaohf@ihep.ac.cn"
   ]
  },
  {
   "cell_type": "markdown",
   "id": "cbfdca4e",
   "metadata": {},
   "source": [
    "#  Import libraries"
   ]
  },
  {
   "cell_type": "code",
   "execution_count": 1,
   "id": "0069045f",
   "metadata": {
    "ExecuteTime": {
     "end_time": "2025-01-21T02:02:32.610335Z",
     "start_time": "2025-01-21T02:02:30.671781Z"
    }
   },
   "outputs": [
    {
     "name": "stderr",
     "output_type": "stream",
     "text": [
      "2025-01-21 10:02:31.104900: I tensorflow/core/util/util.cc:169] oneDNN custom operations are on. You may see slightly different numerical results due to floating-point round-off errors from different computation orders. To turn them off, set the environment variable `TF_ENABLE_ONEDNN_OPTS=0`.\n"
     ]
    }
   ],
   "source": [
    "import sys\n",
    "import os\n",
    "import numpy as np\n",
    "import matplotlib.pyplot as plt\n",
    "import joblib\n",
    "import logging\n",
    "from datetime import datetime\n",
    "from tensorflow.keras.models import Sequential\n",
    "from tensorflow.keras.layers import Dense, Dropout\n",
    "from tensorflow.keras.callbacks import ModelCheckpoint\n",
    "from tensorflow.keras.optimizers import Adam\n",
    "from sklearn.preprocessing import StandardScaler\n",
    "from sklearn.metrics import mean_squared_error, r2_score\n",
    "from tensorflow.keras import regularizers\n",
    "import keras.callbacks\n",
    "from tensorflow.keras.utils import plot_model\n",
    "from IPython.display import Image, display"
   ]
  },
  {
   "cell_type": "markdown",
   "id": "0d742494",
   "metadata": {},
   "source": [
    "##  Version Information"
   ]
  },
  {
   "cell_type": "code",
   "execution_count": 2,
   "id": "ad05f383",
   "metadata": {
    "ExecuteTime": {
     "end_time": "2025-01-21T02:02:32.617425Z",
     "start_time": "2025-01-21T02:02:32.612269Z"
    }
   },
   "outputs": [
    {
     "name": "stdout",
     "output_type": "stream",
     "text": [
      "tensorflow: 2.9.1\n",
      "numpy: 1.23.5\n",
      "joblib: 1.4.0\n",
      "matplotlib: 3.7.5\n",
      "keras: 2.9.0\n",
      "Python: 3.8.15 | packaged by conda-forge | (default, Nov 22 2022, 08:46:39) \n",
      "[GCC 10.4.0]\n"
     ]
    }
   ],
   "source": [
    "def get_python_version():\n",
    "    return sys.version\n",
    "def get_package_version(package_name):\n",
    "    try:\n",
    "        module = __import__(package_name)\n",
    "        version = getattr(module, '__version__', None)\n",
    "        if version:\n",
    "            return version\n",
    "        else:\n",
    "            return pkg_resources.get_distribution(package_name).version\n",
    "    except (ImportError, AttributeError, pkg_resources.DistributionNotFound):\n",
    "        return \"Version info not found\"\n",
    "\n",
    "packages = ['tensorflow', 'numpy', 'joblib', 'matplotlib','keras']\n",
    "for package in packages:\n",
    "    print(f\"{package}: {get_package_version(package)}\")\n",
    "print(f\"Python: {get_python_version()}\")"
   ]
  },
  {
   "cell_type": "markdown",
   "id": "d3512acb",
   "metadata": {},
   "source": [
    "# Parameter Settings\n",
    "\n",
    "## Input File Path:\n",
    "- `dir_data`: Specifies the directory where the processed dataset (after preprocessing in Module 9) is located.\n",
    "- Example: `'0926-datasets/datasets(JmolNN)-pre-xmu-cn'`\n",
    "- The dataset includes **training**, **validation**, and **test** (features and labels), loaded from this directory.\n",
    "\n",
    "## Output File Path:\n",
    "- `dir_output`: The directory where the trained MLP model will be saved.\n",
    "- The trained model is saved under the `ml-cn-xmu-(JmolNN)` folder, with a timestamp added to the model file name.\n",
    "- Example: `'0926-datasets-ml/ml-cn-xmu-(JmolNN)'`\n",
    "- The final model is saved with a filename that includes a timestamp for version tracking, e.g., `MLPmodel-20230101_1500`.\n",
    "\n",
    "## Logging:\n",
    "- `log_file_path`: The path where the training log file (`training_log.txt`) will be stored.\n",
    "- This log file contains details about the dataset sizes, model training progress, and other relevant information.\n",
    "\n",
    "## Model Hyperparameters (Structural Parameters):\n",
    "The following parameters can be customized within the Multi-Layer Percet in the code yet:\n",
    "\n",
    "- **Hidden Layers**: The number of hidden layers and their neuron sizes in the MLP.\n",
    "  - Example: `[64, 32]` (two hidden layers with 64 and 32 neurons).\n",
    "  \n",
    "- **Activation Function**: The activation function used for the layers in the network.\n",
    "  - Options: `'relu'`, `'tanh'`, `'sigmoid'`, etc.\n",
    "  - Default: `'relu'`.\n",
    "  \n",
    "- **Learning Rate**: The learning rate for the optimization process.\n",
    "  - Example: `0.001`.\n",
    "  \n",
    "- **Epochs**: Number of epochs to train the model.\n",
    "  - Example: `50`.\n",
    "\n",
    "- **Optimizer**: The optimization algorithm to be used.\n",
    "  - Options: `'adam'`, `'sgd'`, etc.\n",
    "  - Default: `'adam'`.\n",
    "  \n",
    "- **Loss Function**: The loss function used to optimize the model.\n",
    "  - Example: `'mean_squared_error'` (commonly used for regression).\n",
    "  \n",
    "- **Batch Size**: The batch size for training the model.\n",
    "  - Example: `32`."
   ]
  },
  {
   "cell_type": "code",
   "execution_count": 3,
   "id": "81dcae0e",
   "metadata": {
    "ExecuteTime": {
     "end_time": "2025-01-21T02:02:34.229565Z",
     "start_time": "2025-01-21T02:02:32.618651Z"
    }
   },
   "outputs": [
    {
     "name": "stdout",
     "output_type": "stream",
     "text": [
      "File '0926-datasets/datasets(JmolNN)-pre-xmu-cn' exists.\n"
     ]
    },
    {
     "name": "stderr",
     "output_type": "stream",
     "text": [
      "Training set size: X_train: (3465, 1000), y_train: (3465,)\n",
      "Validation set size: X_valid: (990, 1000), y_valid: (990,)\n",
      "Test set size: X_test: (495, 1000), y_test: (495,)\n"
     ]
    },
    {
     "name": "stdout",
     "output_type": "stream",
     "text": [
      "Training set size: X_train: (3465, 1000), y_train: (3465,)\n",
      "Validation set size: X_valid: (990, 1000), y_valid: (990,)\n",
      "Test set size: X_test: (495, 1000), y_test: (495,)\n"
     ]
    }
   ],
   "source": [
    "# Set input file path\n",
    "dir_data = '0926-datasets/datasets(JmolNN)-pre-xmu-cn'\n",
    "# Set output file save path\n",
    "output_path = '0926-datasets-ml/ml-cn-xmu-(JmolNN)'\n",
    "current_time = datetime.now().strftime(\"%Y%m%d_%H%M\")\n",
    "# Output save file name and add timestamp\n",
    "dir_output=os.path.join(output_path,f'MLPmodel-{current_time}')\n",
    "# Check if the input path exists\n",
    "if os.path.exists(dir_data):\n",
    "    print(f\"File '{dir_data}' exists.\")\n",
    "else:\n",
    "    raise FileNotFoundError(f\"File '{dir_data}' does not exist.\")\n",
    "os.makedirs(dir_output, exist_ok=True)\n",
    "os.makedirs(dir_output, exist_ok=True)\n",
    "# Load training, validation, and test datasets\n",
    "file_train_feature = os.path.join(dir_data, 'xmu_train_JmolNN.txt')\n",
    "file_train_label = os.path.join(dir_data, 'label_cn_train_JmolNN.txt')\n",
    "file_valid_feature = os.path.join(dir_data, 'xmu_valid_JmolNN.txt')\n",
    "file_valid_label = os.path.join(dir_data, 'label_cn_valid_JmolNN.txt')\n",
    "file_test_feature = os.path.join(dir_data, 'xmu_test_JmolNN.txt')\n",
    "file_test_label = os.path.join(dir_data, 'label_cn_test_JmolNN.txt')\n",
    "log_file_path = os.path.join(dir_output, 'training_log.txt')\n",
    "logging.basicConfig(level=logging.INFO, format='%(message)s', handlers=[logging.FileHandler(log_file_path), logging.StreamHandler()])\n",
    "# Read data\n",
    "X_train = np.loadtxt(file_train_feature)\n",
    "y_train = np.loadtxt(file_train_label, dtype=float)\n",
    "X_valid = np.loadtxt(file_valid_feature)\n",
    "y_valid = np.loadtxt(file_valid_label, dtype=float)\n",
    "X_test = np.loadtxt(file_test_feature)\n",
    "y_test = np.loadtxt(file_test_label, dtype=float)\n",
    "# Prepare messages for dataset sizes\n",
    "train_size_message = f\"Training set size: X_train: {X_train.shape}, y_train: {y_train.shape}\"\n",
    "valid_size_message = f\"Validation set size: X_valid: {X_valid.shape}, y_valid: {y_valid.shape}\"\n",
    "test_size_message = f\"Test set size: X_test: {X_test.shape}, y_test: {y_test.shape}\"\n",
    "print(train_size_message)\n",
    "print(valid_size_message)\n",
    "print(test_size_message)\n",
    "# Log dataset sizes\n",
    "logging.info(train_size_message)\n",
    "logging.info(valid_size_message)\n",
    "logging.info(test_size_message)"
   ]
  },
  {
   "cell_type": "markdown",
   "id": "a5f7f696",
   "metadata": {},
   "source": [
    "## Build a MLP regression model and save the best model results"
   ]
  },
  {
   "cell_type": "code",
   "execution_count": 4,
   "id": "2221e8ba",
   "metadata": {
    "ExecuteTime": {
     "end_time": "2025-01-21T02:04:01.961820Z",
     "start_time": "2025-01-21T02:02:34.232098Z"
    }
   },
   "outputs": [
    {
     "name": "stdout",
     "output_type": "stream",
     "text": [
      "Epoch 1/100\n"
     ]
    },
    {
     "name": "stderr",
     "output_type": "stream",
     "text": [
      "2025-01-21 10:02:34.244709: I tensorflow/core/platform/cpu_feature_guard.cc:193] This TensorFlow binary is optimized with oneAPI Deep Neural Network Library (oneDNN) to use the following CPU instructions in performance-critical operations:  SSE4.1 SSE4.2 AVX AVX2 AVX512F AVX512_VNNI FMA\n",
      "To enable them in other operations, rebuild TensorFlow with the appropriate compiler flags.\n"
     ]
    },
    {
     "name": "stdout",
     "output_type": "stream",
     "text": [
      "109/109 [==============================] - ETA: 0s - loss: 4.7116 - mean_squared_error: 4.5828\n",
      "Epoch 1: val_mean_squared_error improved from inf to 1.72770, saving model to 0926-datasets-ml/ml-cn-xmu-(JmolNN)/MLPmodel-20250121_1002/best_model.h5\n"
     ]
    },
    {
     "name": "stderr",
     "output_type": "stream",
     "text": [
      "Epoch 1, Loss: 4.7116, MSE: 4.5828, Val_Loss: 1.8546, Val_MSE: 1.7277\n"
     ]
    },
    {
     "name": "stdout",
     "output_type": "stream",
     "text": [
      "109/109 [==============================] - 1s 8ms/step - loss: 4.7116 - mean_squared_error: 4.5828 - val_loss: 1.8546 - val_mean_squared_error: 1.7277\n",
      "Epoch 2/100\n",
      "106/109 [============================>.] - ETA: 0s - loss: 2.1471 - mean_squared_error: 2.0205\n",
      "Epoch 2: val_mean_squared_error did not improve from 1.72770\n"
     ]
    },
    {
     "name": "stderr",
     "output_type": "stream",
     "text": [
      "Epoch 2, Loss: 2.1528, MSE: 2.0262, Val_Loss: 2.5197, Val_MSE: 2.3933\n"
     ]
    },
    {
     "name": "stdout",
     "output_type": "stream",
     "text": [
      "109/109 [==============================] - 1s 6ms/step - loss: 2.1528 - mean_squared_error: 2.0262 - val_loss: 2.5197 - val_mean_squared_error: 2.3933\n",
      "Epoch 3/100\n",
      "107/109 [============================>.] - ETA: 0s - loss: 1.5814 - mean_squared_error: 1.4552\n",
      "Epoch 3: val_mean_squared_error improved from 1.72770 to 1.45260, saving model to 0926-datasets-ml/ml-cn-xmu-(JmolNN)/MLPmodel-20250121_1002/best_model.h5\n"
     ]
    },
    {
     "name": "stderr",
     "output_type": "stream",
     "text": [
      "Epoch 3, Loss: 1.5780, MSE: 1.4518, Val_Loss: 1.5785, Val_MSE: 1.4526\n"
     ]
    },
    {
     "name": "stdout",
     "output_type": "stream",
     "text": [
      "109/109 [==============================] - 1s 6ms/step - loss: 1.5780 - mean_squared_error: 1.4518 - val_loss: 1.5785 - val_mean_squared_error: 1.4526\n",
      "Epoch 4/100\n",
      "108/109 [============================>.] - ETA: 0s - loss: 1.3157 - mean_squared_error: 1.1900\n",
      "Epoch 4: val_mean_squared_error improved from 1.45260 to 1.10303, saving model to 0926-datasets-ml/ml-cn-xmu-(JmolNN)/MLPmodel-20250121_1002/best_model.h5\n"
     ]
    },
    {
     "name": "stderr",
     "output_type": "stream",
     "text": [
      "Epoch 4, Loss: 1.3170, MSE: 1.1914, Val_Loss: 1.2284, Val_MSE: 1.1030\n"
     ]
    },
    {
     "name": "stdout",
     "output_type": "stream",
     "text": [
      "109/109 [==============================] - 1s 6ms/step - loss: 1.3170 - mean_squared_error: 1.1914 - val_loss: 1.2284 - val_mean_squared_error: 1.1030\n",
      "Epoch 5/100\n",
      "106/109 [============================>.] - ETA: 0s - loss: 1.1590 - mean_squared_error: 1.0339\n",
      "Epoch 5: val_mean_squared_error improved from 1.10303 to 1.07322, saving model to 0926-datasets-ml/ml-cn-xmu-(JmolNN)/MLPmodel-20250121_1002/best_model.h5\n"
     ]
    },
    {
     "name": "stderr",
     "output_type": "stream",
     "text": [
      "Epoch 5, Loss: 1.1657, MSE: 1.0406, Val_Loss: 1.1980, Val_MSE: 1.0732\n"
     ]
    },
    {
     "name": "stdout",
     "output_type": "stream",
     "text": [
      "109/109 [==============================] - 1s 6ms/step - loss: 1.1657 - mean_squared_error: 1.0406 - val_loss: 1.1980 - val_mean_squared_error: 1.0732\n",
      "Epoch 6/100\n",
      "100/109 [==========================>...] - ETA: 0s - loss: 1.0482 - mean_squared_error: 0.9237\n",
      "Epoch 6: val_mean_squared_error improved from 1.07322 to 0.99999, saving model to 0926-datasets-ml/ml-cn-xmu-(JmolNN)/MLPmodel-20250121_1002/best_model.h5\n"
     ]
    },
    {
     "name": "stderr",
     "output_type": "stream",
     "text": [
      "Epoch 6, Loss: 1.0348, MSE: 0.9103, Val_Loss: 1.1242, Val_MSE: 1.0000\n"
     ]
    },
    {
     "name": "stdout",
     "output_type": "stream",
     "text": [
      "109/109 [==============================] - 1s 6ms/step - loss: 1.0348 - mean_squared_error: 0.9103 - val_loss: 1.1242 - val_mean_squared_error: 1.0000\n",
      "Epoch 7/100\n",
      "105/109 [===========================>..] - ETA: 0s - loss: 0.9759 - mean_squared_error: 0.8519\n",
      "Epoch 7: val_mean_squared_error improved from 0.99999 to 0.73098, saving model to 0926-datasets-ml/ml-cn-xmu-(JmolNN)/MLPmodel-20250121_1002/best_model.h5\n"
     ]
    },
    {
     "name": "stderr",
     "output_type": "stream",
     "text": [
      "Epoch 7, Loss: 0.9807, MSE: 0.8567, Val_Loss: 0.8546, Val_MSE: 0.7310\n"
     ]
    },
    {
     "name": "stdout",
     "output_type": "stream",
     "text": [
      "109/109 [==============================] - 1s 6ms/step - loss: 0.9807 - mean_squared_error: 0.8567 - val_loss: 0.8546 - val_mean_squared_error: 0.7310\n",
      "Epoch 8/100\n",
      "108/109 [============================>.] - ETA: 0s - loss: 0.8965 - mean_squared_error: 0.7731\n",
      "Epoch 8: val_mean_squared_error did not improve from 0.73098\n"
     ]
    },
    {
     "name": "stderr",
     "output_type": "stream",
     "text": [
      "Epoch 8, Loss: 0.8956, MSE: 0.7721, Val_Loss: 1.2229, Val_MSE: 1.0997\n"
     ]
    },
    {
     "name": "stdout",
     "output_type": "stream",
     "text": [
      "109/109 [==============================] - 1s 6ms/step - loss: 0.8956 - mean_squared_error: 0.7721 - val_loss: 1.2229 - val_mean_squared_error: 1.0997\n",
      "Epoch 9/100\n",
      "108/109 [============================>.] - ETA: 0s - loss: 0.8538 - mean_squared_error: 0.7309\n",
      "Epoch 9: val_mean_squared_error improved from 0.73098 to 0.67180, saving model to 0926-datasets-ml/ml-cn-xmu-(JmolNN)/MLPmodel-20250121_1002/best_model.h5\n"
     ]
    },
    {
     "name": "stderr",
     "output_type": "stream",
     "text": [
      "Epoch 9, Loss: 0.8536, MSE: 0.7308, Val_Loss: 0.7943, Val_MSE: 0.6718\n"
     ]
    },
    {
     "name": "stdout",
     "output_type": "stream",
     "text": [
      "109/109 [==============================] - 1s 6ms/step - loss: 0.8536 - mean_squared_error: 0.7308 - val_loss: 0.7943 - val_mean_squared_error: 0.6718\n",
      "Epoch 10/100\n",
      " 99/109 [==========================>...] - ETA: 0s - loss: 0.8136 - mean_squared_error: 0.6913\n",
      "Epoch 10: val_mean_squared_error did not improve from 0.67180\n"
     ]
    },
    {
     "name": "stderr",
     "output_type": "stream",
     "text": [
      "Epoch 10, Loss: 0.8330, MSE: 0.7108, Val_Loss: 1.1692, Val_MSE: 1.0473\n"
     ]
    },
    {
     "name": "stdout",
     "output_type": "stream",
     "text": [
      "109/109 [==============================] - 1s 6ms/step - loss: 0.8330 - mean_squared_error: 0.7108 - val_loss: 1.1692 - val_mean_squared_error: 1.0473\n",
      "Epoch 11/100\n",
      " 99/109 [==========================>...] - ETA: 0s - loss: 0.8032 - mean_squared_error: 0.6814\n",
      "Epoch 11: val_mean_squared_error did not improve from 0.67180\n"
     ]
    },
    {
     "name": "stderr",
     "output_type": "stream",
     "text": [
      "Epoch 11, Loss: 0.8146, MSE: 0.6928, Val_Loss: 1.2481, Val_MSE: 1.1267\n"
     ]
    },
    {
     "name": "stdout",
     "output_type": "stream",
     "text": [
      "109/109 [==============================] - 1s 6ms/step - loss: 0.8146 - mean_squared_error: 0.6928 - val_loss: 1.2481 - val_mean_squared_error: 1.1267\n",
      "Epoch 12/100\n",
      "105/109 [===========================>..] - ETA: 0s - loss: 0.7450 - mean_squared_error: 0.6239\n",
      "Epoch 12: val_mean_squared_error improved from 0.67180 to 0.62516, saving model to 0926-datasets-ml/ml-cn-xmu-(JmolNN)/MLPmodel-20250121_1002/best_model.h5\n"
     ]
    },
    {
     "name": "stderr",
     "output_type": "stream",
     "text": [
      "Epoch 12, Loss: 0.7463, MSE: 0.6252, Val_Loss: 0.7458, Val_MSE: 0.6252\n"
     ]
    },
    {
     "name": "stdout",
     "output_type": "stream",
     "text": [
      "109/109 [==============================] - 1s 6ms/step - loss: 0.7463 - mean_squared_error: 0.6252 - val_loss: 0.7458 - val_mean_squared_error: 0.6252\n",
      "Epoch 13/100\n",
      "107/109 [============================>.] - ETA: 0s - loss: 0.8048 - mean_squared_error: 0.6844\n",
      "Epoch 13: val_mean_squared_error improved from 0.62516 to 0.52849, saving model to 0926-datasets-ml/ml-cn-xmu-(JmolNN)/MLPmodel-20250121_1002/best_model.h5\n"
     ]
    },
    {
     "name": "stderr",
     "output_type": "stream",
     "text": [
      "Epoch 13, Loss: 0.8068, MSE: 0.6864, Val_Loss: 0.6487, Val_MSE: 0.5285\n"
     ]
    },
    {
     "name": "stdout",
     "output_type": "stream",
     "text": [
      "109/109 [==============================] - 1s 7ms/step - loss: 0.8068 - mean_squared_error: 0.6864 - val_loss: 0.6487 - val_mean_squared_error: 0.5285\n",
      "Epoch 14/100\n",
      "100/109 [==========================>...] - ETA: 0s - loss: 0.6730 - mean_squared_error: 0.5532\n",
      "Epoch 14: val_mean_squared_error did not improve from 0.52849\n"
     ]
    },
    {
     "name": "stderr",
     "output_type": "stream",
     "text": [
      "Epoch 14, Loss: 0.6701, MSE: 0.5504, Val_Loss: 0.6523, Val_MSE: 0.5330\n"
     ]
    },
    {
     "name": "stdout",
     "output_type": "stream",
     "text": [
      "109/109 [==============================] - 1s 6ms/step - loss: 0.6701 - mean_squared_error: 0.5504 - val_loss: 0.6523 - val_mean_squared_error: 0.5330\n",
      "Epoch 15/100\n",
      "100/109 [==========================>...] - ETA: 0s - loss: 0.7227 - mean_squared_error: 0.6037\n",
      "Epoch 15: val_mean_squared_error improved from 0.52849 to 0.50571, saving model to 0926-datasets-ml/ml-cn-xmu-(JmolNN)/MLPmodel-20250121_1002/best_model.h5\n"
     ]
    },
    {
     "name": "stderr",
     "output_type": "stream",
     "text": [
      "Epoch 15, Loss: 0.7143, MSE: 0.5954, Val_Loss: 0.6242, Val_MSE: 0.5057\n"
     ]
    },
    {
     "name": "stdout",
     "output_type": "stream",
     "text": [
      "109/109 [==============================] - 1s 6ms/step - loss: 0.7143 - mean_squared_error: 0.5954 - val_loss: 0.6242 - val_mean_squared_error: 0.5057\n",
      "Epoch 16/100\n",
      "107/109 [============================>.] - ETA: 0s - loss: 0.7036 - mean_squared_error: 0.5854\n",
      "Epoch 16: val_mean_squared_error improved from 0.50571 to 0.45231, saving model to 0926-datasets-ml/ml-cn-xmu-(JmolNN)/MLPmodel-20250121_1002/best_model.h5\n"
     ]
    },
    {
     "name": "stderr",
     "output_type": "stream",
     "text": [
      "Epoch 16, Loss: 0.7044, MSE: 0.5862, Val_Loss: 0.5701, Val_MSE: 0.4523\n"
     ]
    },
    {
     "name": "stdout",
     "output_type": "stream",
     "text": [
      "109/109 [==============================] - 1s 7ms/step - loss: 0.7044 - mean_squared_error: 0.5862 - val_loss: 0.5701 - val_mean_squared_error: 0.4523\n",
      "Epoch 17/100\n",
      "100/109 [==========================>...] - ETA: 0s - loss: 0.6457 - mean_squared_error: 0.5284\n",
      "Epoch 17: val_mean_squared_error did not improve from 0.45231\n"
     ]
    },
    {
     "name": "stderr",
     "output_type": "stream",
     "text": [
      "Epoch 17, Loss: 0.6511, MSE: 0.5338, Val_Loss: 0.5974, Val_MSE: 0.4805\n"
     ]
    },
    {
     "name": "stdout",
     "output_type": "stream",
     "text": [
      "109/109 [==============================] - 1s 6ms/step - loss: 0.6511 - mean_squared_error: 0.5338 - val_loss: 0.5974 - val_mean_squared_error: 0.4805\n",
      "Epoch 18/100\n",
      "108/109 [============================>.] - ETA: 0s - loss: 0.6159 - mean_squared_error: 0.4994\n",
      "Epoch 18: val_mean_squared_error did not improve from 0.45231\n"
     ]
    },
    {
     "name": "stderr",
     "output_type": "stream",
     "text": [
      "Epoch 18, Loss: 0.6157, MSE: 0.4992, Val_Loss: 0.6240, Val_MSE: 0.5080\n"
     ]
    },
    {
     "name": "stdout",
     "output_type": "stream",
     "text": [
      "109/109 [==============================] - 1s 6ms/step - loss: 0.6157 - mean_squared_error: 0.4992 - val_loss: 0.6240 - val_mean_squared_error: 0.5080\n",
      "Epoch 19/100\n",
      " 99/109 [==========================>...] - ETA: 0s - loss: 0.6534 - mean_squared_error: 0.5378\n",
      "Epoch 19: val_mean_squared_error did not improve from 0.45231\n"
     ]
    },
    {
     "name": "stderr",
     "output_type": "stream",
     "text": [
      "Epoch 19, Loss: 0.6510, MSE: 0.5354, Val_Loss: 0.8124, Val_MSE: 0.6972\n"
     ]
    },
    {
     "name": "stdout",
     "output_type": "stream",
     "text": [
      "109/109 [==============================] - 1s 6ms/step - loss: 0.6510 - mean_squared_error: 0.5354 - val_loss: 0.8124 - val_mean_squared_error: 0.6972\n",
      "Epoch 20/100\n",
      "100/109 [==========================>...] - ETA: 0s - loss: 0.6211 - mean_squared_error: 0.5064\n",
      "Epoch 20: val_mean_squared_error did not improve from 0.45231\n"
     ]
    },
    {
     "name": "stderr",
     "output_type": "stream",
     "text": [
      "Epoch 20, Loss: 0.6221, MSE: 0.5073, Val_Loss: 0.5857, Val_MSE: 0.4714\n"
     ]
    },
    {
     "name": "stdout",
     "output_type": "stream",
     "text": [
      "109/109 [==============================] - 1s 6ms/step - loss: 0.6221 - mean_squared_error: 0.5073 - val_loss: 0.5857 - val_mean_squared_error: 0.4714\n",
      "Epoch 21/100\n",
      " 99/109 [==========================>...] - ETA: 0s - loss: 0.7363 - mean_squared_error: 0.6222\n",
      "Epoch 21: val_mean_squared_error did not improve from 0.45231\n"
     ]
    },
    {
     "name": "stderr",
     "output_type": "stream",
     "text": [
      "Epoch 21, Loss: 0.7281, MSE: 0.6141, Val_Loss: 0.9784, Val_MSE: 0.8647\n"
     ]
    },
    {
     "name": "stdout",
     "output_type": "stream",
     "text": [
      "109/109 [==============================] - 1s 6ms/step - loss: 0.7281 - mean_squared_error: 0.6141 - val_loss: 0.9784 - val_mean_squared_error: 0.8647\n",
      "Epoch 22/100\n",
      "106/109 [============================>.] - ETA: 0s - loss: 0.6677 - mean_squared_error: 0.5543\n",
      "Epoch 22: val_mean_squared_error did not improve from 0.45231\n"
     ]
    },
    {
     "name": "stderr",
     "output_type": "stream",
     "text": [
      "Epoch 22, Loss: 0.6655, MSE: 0.5521, Val_Loss: 0.6319, Val_MSE: 0.5189\n"
     ]
    },
    {
     "name": "stdout",
     "output_type": "stream",
     "text": [
      "109/109 [==============================] - 1s 6ms/step - loss: 0.6655 - mean_squared_error: 0.5521 - val_loss: 0.6319 - val_mean_squared_error: 0.5189\n",
      "Epoch 23/100\n",
      "109/109 [==============================] - ETA: 0s - loss: 0.5763 - mean_squared_error: 0.4637\n",
      "Epoch 23: val_mean_squared_error did not improve from 0.45231\n"
     ]
    },
    {
     "name": "stderr",
     "output_type": "stream",
     "text": [
      "Epoch 23, Loss: 0.5763, MSE: 0.4637, Val_Loss: 0.6745, Val_MSE: 0.5625\n"
     ]
    },
    {
     "name": "stdout",
     "output_type": "stream",
     "text": [
      "109/109 [==============================] - 1s 6ms/step - loss: 0.5763 - mean_squared_error: 0.4637 - val_loss: 0.6745 - val_mean_squared_error: 0.5625\n",
      "Epoch 24/100\n",
      " 99/109 [==========================>...] - ETA: 0s - loss: 0.5761 - mean_squared_error: 0.4643\n",
      "Epoch 24: val_mean_squared_error did not improve from 0.45231\n"
     ]
    },
    {
     "name": "stderr",
     "output_type": "stream",
     "text": [
      "Epoch 24, Loss: 0.5743, MSE: 0.4626, Val_Loss: 0.6581, Val_MSE: 0.5469\n"
     ]
    },
    {
     "name": "stdout",
     "output_type": "stream",
     "text": [
      "109/109 [==============================] - 1s 6ms/step - loss: 0.5743 - mean_squared_error: 0.4626 - val_loss: 0.6581 - val_mean_squared_error: 0.5469\n",
      "Epoch 25/100\n",
      "106/109 [============================>.] - ETA: 0s - loss: 0.6280 - mean_squared_error: 0.5171\n",
      "Epoch 25: val_mean_squared_error did not improve from 0.45231\n"
     ]
    },
    {
     "name": "stderr",
     "output_type": "stream",
     "text": [
      "Epoch 25, Loss: 0.6268, MSE: 0.5160, Val_Loss: 0.6009, Val_MSE: 0.4905\n"
     ]
    },
    {
     "name": "stdout",
     "output_type": "stream",
     "text": [
      "109/109 [==============================] - 1s 6ms/step - loss: 0.6268 - mean_squared_error: 0.5160 - val_loss: 0.6009 - val_mean_squared_error: 0.4905\n",
      "Epoch 26/100\n",
      "109/109 [==============================] - ETA: 0s - loss: 0.5798 - mean_squared_error: 0.4699\n",
      "Epoch 26: val_mean_squared_error did not improve from 0.45231\n"
     ]
    },
    {
     "name": "stderr",
     "output_type": "stream",
     "text": [
      "Epoch 26, Loss: 0.5798, MSE: 0.4699, Val_Loss: 0.5718, Val_MSE: 0.4623\n"
     ]
    },
    {
     "name": "stdout",
     "output_type": "stream",
     "text": [
      "109/109 [==============================] - 1s 6ms/step - loss: 0.5798 - mean_squared_error: 0.4699 - val_loss: 0.5718 - val_mean_squared_error: 0.4623\n",
      "Epoch 27/100\n",
      "109/109 [==============================] - ETA: 0s - loss: 0.5414 - mean_squared_error: 0.4324\n",
      "Epoch 27: val_mean_squared_error did not improve from 0.45231\n"
     ]
    },
    {
     "name": "stderr",
     "output_type": "stream",
     "text": [
      "Epoch 27, Loss: 0.5414, MSE: 0.4324, Val_Loss: 0.6812, Val_MSE: 0.5727\n"
     ]
    },
    {
     "name": "stdout",
     "output_type": "stream",
     "text": [
      "109/109 [==============================] - 1s 6ms/step - loss: 0.5414 - mean_squared_error: 0.4324 - val_loss: 0.6812 - val_mean_squared_error: 0.5727\n",
      "Epoch 28/100\n",
      " 99/109 [==========================>...] - ETA: 0s - loss: 0.5958 - mean_squared_error: 0.4878\n",
      "Epoch 28: val_mean_squared_error did not improve from 0.45231\n"
     ]
    },
    {
     "name": "stderr",
     "output_type": "stream",
     "text": [
      "Epoch 28, Loss: 0.5975, MSE: 0.4895, Val_Loss: 0.7724, Val_MSE: 0.6649\n"
     ]
    },
    {
     "name": "stdout",
     "output_type": "stream",
     "text": [
      "109/109 [==============================] - 1s 6ms/step - loss: 0.5975 - mean_squared_error: 0.4895 - val_loss: 0.7724 - val_mean_squared_error: 0.6649\n",
      "Epoch 29/100\n",
      "106/109 [============================>.] - ETA: 0s - loss: 0.5724 - mean_squared_error: 0.4654\n",
      "Epoch 29: val_mean_squared_error did not improve from 0.45231\n"
     ]
    },
    {
     "name": "stderr",
     "output_type": "stream",
     "text": [
      "Epoch 29, Loss: 0.5711, MSE: 0.4641, Val_Loss: 0.7208, Val_MSE: 0.6142\n"
     ]
    },
    {
     "name": "stdout",
     "output_type": "stream",
     "text": [
      "109/109 [==============================] - 1s 6ms/step - loss: 0.5711 - mean_squared_error: 0.4641 - val_loss: 0.7208 - val_mean_squared_error: 0.6142\n",
      "Epoch 30/100\n",
      "108/109 [============================>.] - ETA: 0s - loss: 0.6842 - mean_squared_error: 0.5779\n",
      "Epoch 30: val_mean_squared_error did not improve from 0.45231\n"
     ]
    },
    {
     "name": "stderr",
     "output_type": "stream",
     "text": [
      "Epoch 30, Loss: 0.6887, MSE: 0.5824, Val_Loss: 0.6243, Val_MSE: 0.5184\n"
     ]
    },
    {
     "name": "stdout",
     "output_type": "stream",
     "text": [
      "109/109 [==============================] - 1s 6ms/step - loss: 0.6887 - mean_squared_error: 0.5824 - val_loss: 0.6243 - val_mean_squared_error: 0.5184\n",
      "Epoch 31/100\n",
      "100/109 [==========================>...] - ETA: 0s - loss: 0.6652 - mean_squared_error: 0.5595\n",
      "Epoch 31: val_mean_squared_error did not improve from 0.45231\n"
     ]
    },
    {
     "name": "stderr",
     "output_type": "stream",
     "text": [
      "Epoch 31, Loss: 0.6592, MSE: 0.5535, Val_Loss: 0.5644, Val_MSE: 0.4589\n"
     ]
    },
    {
     "name": "stdout",
     "output_type": "stream",
     "text": [
      "109/109 [==============================] - 1s 6ms/step - loss: 0.6592 - mean_squared_error: 0.5535 - val_loss: 0.5644 - val_mean_squared_error: 0.4589\n",
      "Epoch 32/100\n",
      "108/109 [============================>.] - ETA: 0s - loss: 0.5813 - mean_squared_error: 0.4763\n",
      "Epoch 32: val_mean_squared_error did not improve from 0.45231\n"
     ]
    },
    {
     "name": "stderr",
     "output_type": "stream",
     "text": [
      "Epoch 32, Loss: 0.5810, MSE: 0.4760, Val_Loss: 0.5677, Val_MSE: 0.4632\n"
     ]
    },
    {
     "name": "stdout",
     "output_type": "stream",
     "text": [
      "109/109 [==============================] - 1s 6ms/step - loss: 0.5810 - mean_squared_error: 0.4760 - val_loss: 0.5677 - val_mean_squared_error: 0.4632\n",
      "Epoch 33/100\n",
      "108/109 [============================>.] - ETA: 0s - loss: 0.5851 - mean_squared_error: 0.4809\n",
      "Epoch 33: val_mean_squared_error did not improve from 0.45231\n"
     ]
    },
    {
     "name": "stderr",
     "output_type": "stream",
     "text": [
      "Epoch 33, Loss: 0.5851, MSE: 0.4809, Val_Loss: 0.6155, Val_MSE: 0.5118\n"
     ]
    },
    {
     "name": "stdout",
     "output_type": "stream",
     "text": [
      "109/109 [==============================] - 1s 6ms/step - loss: 0.5851 - mean_squared_error: 0.4809 - val_loss: 0.6155 - val_mean_squared_error: 0.5118\n",
      "Epoch 34/100\n",
      "105/109 [===========================>..] - ETA: 0s - loss: 0.5305 - mean_squared_error: 0.4273\n",
      "Epoch 34: val_mean_squared_error did not improve from 0.45231\n"
     ]
    },
    {
     "name": "stderr",
     "output_type": "stream",
     "text": [
      "Epoch 34, Loss: 0.5318, MSE: 0.4286, Val_Loss: 0.5927, Val_MSE: 0.4901\n"
     ]
    },
    {
     "name": "stdout",
     "output_type": "stream",
     "text": [
      "109/109 [==============================] - 1s 6ms/step - loss: 0.5318 - mean_squared_error: 0.4286 - val_loss: 0.5927 - val_mean_squared_error: 0.4901\n",
      "Epoch 35/100\n",
      "109/109 [==============================] - ETA: 0s - loss: 0.5775 - mean_squared_error: 0.4754\n",
      "Epoch 35: val_mean_squared_error improved from 0.45231 to 0.43569, saving model to 0926-datasets-ml/ml-cn-xmu-(JmolNN)/MLPmodel-20250121_1002/best_model.h5\n"
     ]
    },
    {
     "name": "stderr",
     "output_type": "stream",
     "text": [
      "Epoch 35, Loss: 0.5775, MSE: 0.4754, Val_Loss: 0.5372, Val_MSE: 0.4357\n"
     ]
    },
    {
     "name": "stdout",
     "output_type": "stream",
     "text": [
      "109/109 [==============================] - 1s 6ms/step - loss: 0.5775 - mean_squared_error: 0.4754 - val_loss: 0.5372 - val_mean_squared_error: 0.4357\n",
      "Epoch 36/100\n",
      " 99/109 [==========================>...] - ETA: 0s - loss: 0.5082 - mean_squared_error: 0.4072\n",
      "Epoch 36: val_mean_squared_error did not improve from 0.43569\n"
     ]
    },
    {
     "name": "stderr",
     "output_type": "stream",
     "text": [
      "Epoch 36, Loss: 0.5104, MSE: 0.4094, Val_Loss: 0.5362, Val_MSE: 0.4357\n"
     ]
    },
    {
     "name": "stdout",
     "output_type": "stream",
     "text": [
      "109/109 [==============================] - 1s 6ms/step - loss: 0.5104 - mean_squared_error: 0.4094 - val_loss: 0.5362 - val_mean_squared_error: 0.4357\n",
      "Epoch 37/100\n",
      "105/109 [===========================>..] - ETA: 0s - loss: 0.5930 - mean_squared_error: 0.4929\n",
      "Epoch 37: val_mean_squared_error did not improve from 0.43569\n"
     ]
    },
    {
     "name": "stderr",
     "output_type": "stream",
     "text": [
      "Epoch 37, Loss: 0.5920, MSE: 0.4920, Val_Loss: 0.5989, Val_MSE: 0.4993\n"
     ]
    },
    {
     "name": "stdout",
     "output_type": "stream",
     "text": [
      "109/109 [==============================] - 1s 6ms/step - loss: 0.5920 - mean_squared_error: 0.4920 - val_loss: 0.5989 - val_mean_squared_error: 0.4993\n",
      "Epoch 38/100\n",
      "109/109 [==============================] - ETA: 0s - loss: 0.5630 - mean_squared_error: 0.4638\n",
      "Epoch 38: val_mean_squared_error did not improve from 0.43569\n"
     ]
    },
    {
     "name": "stderr",
     "output_type": "stream",
     "text": [
      "Epoch 38, Loss: 0.5630, MSE: 0.4638, Val_Loss: 0.5356, Val_MSE: 0.4370\n"
     ]
    },
    {
     "name": "stdout",
     "output_type": "stream",
     "text": [
      "109/109 [==============================] - 1s 6ms/step - loss: 0.5630 - mean_squared_error: 0.4638 - val_loss: 0.5356 - val_mean_squared_error: 0.4370\n",
      "Epoch 39/100\n",
      "100/109 [==========================>...] - ETA: 0s - loss: 0.5261 - mean_squared_error: 0.4279\n",
      "Epoch 39: val_mean_squared_error improved from 0.43569 to 0.40859, saving model to 0926-datasets-ml/ml-cn-xmu-(JmolNN)/MLPmodel-20250121_1002/best_model.h5\n"
     ]
    },
    {
     "name": "stderr",
     "output_type": "stream",
     "text": [
      "Epoch 39, Loss: 0.5189, MSE: 0.4208, Val_Loss: 0.5061, Val_MSE: 0.4086\n"
     ]
    },
    {
     "name": "stdout",
     "output_type": "stream",
     "text": [
      "109/109 [==============================] - 1s 6ms/step - loss: 0.5189 - mean_squared_error: 0.4208 - val_loss: 0.5061 - val_mean_squared_error: 0.4086\n",
      "Epoch 40/100\n",
      "101/109 [==========================>...] - ETA: 0s - loss: 0.5019 - mean_squared_error: 0.4050\n",
      "Epoch 40: val_mean_squared_error did not improve from 0.40859\n"
     ]
    },
    {
     "name": "stderr",
     "output_type": "stream",
     "text": [
      "Epoch 40, Loss: 0.4965, MSE: 0.3996, Val_Loss: 0.5065, Val_MSE: 0.4103\n"
     ]
    },
    {
     "name": "stdout",
     "output_type": "stream",
     "text": [
      "109/109 [==============================] - 1s 6ms/step - loss: 0.4965 - mean_squared_error: 0.3996 - val_loss: 0.5065 - val_mean_squared_error: 0.4103\n",
      "Epoch 41/100\n",
      " 99/109 [==========================>...] - ETA: 0s - loss: 0.5126 - mean_squared_error: 0.4169\n",
      "Epoch 41: val_mean_squared_error did not improve from 0.40859\n"
     ]
    },
    {
     "name": "stderr",
     "output_type": "stream",
     "text": [
      "Epoch 41, Loss: 0.5167, MSE: 0.4210, Val_Loss: 0.5758, Val_MSE: 0.4807\n"
     ]
    },
    {
     "name": "stdout",
     "output_type": "stream",
     "text": [
      "109/109 [==============================] - 1s 6ms/step - loss: 0.5167 - mean_squared_error: 0.4210 - val_loss: 0.5758 - val_mean_squared_error: 0.4807\n",
      "Epoch 42/100\n",
      "100/109 [==========================>...] - ETA: 0s - loss: 0.4907 - mean_squared_error: 0.3962\n",
      "Epoch 42: val_mean_squared_error improved from 0.40859 to 0.39652, saving model to 0926-datasets-ml/ml-cn-xmu-(JmolNN)/MLPmodel-20250121_1002/best_model.h5\n"
     ]
    },
    {
     "name": "stderr",
     "output_type": "stream",
     "text": [
      "Epoch 42, Loss: 0.4911, MSE: 0.3965, Val_Loss: 0.4905, Val_MSE: 0.3965\n"
     ]
    },
    {
     "name": "stdout",
     "output_type": "stream",
     "text": [
      "109/109 [==============================] - 1s 6ms/step - loss: 0.4911 - mean_squared_error: 0.3965 - val_loss: 0.4905 - val_mean_squared_error: 0.3965\n",
      "Epoch 43/100\n",
      " 96/109 [=========================>....] - ETA: 0s - loss: 0.5187 - mean_squared_error: 0.4252\n",
      "Epoch 43: val_mean_squared_error did not improve from 0.39652\n"
     ]
    },
    {
     "name": "stderr",
     "output_type": "stream",
     "text": [
      "Epoch 43, Loss: 0.5089, MSE: 0.4155, Val_Loss: 0.5444, Val_MSE: 0.4516\n"
     ]
    },
    {
     "name": "stdout",
     "output_type": "stream",
     "text": [
      "109/109 [==============================] - 1s 6ms/step - loss: 0.5089 - mean_squared_error: 0.4155 - val_loss: 0.5444 - val_mean_squared_error: 0.4516\n",
      "Epoch 44/100\n",
      "106/109 [============================>.] - ETA: 0s - loss: 0.4887 - mean_squared_error: 0.3964\n",
      "Epoch 44: val_mean_squared_error did not improve from 0.39652\n"
     ]
    },
    {
     "name": "stderr",
     "output_type": "stream",
     "text": [
      "Epoch 44, Loss: 0.4879, MSE: 0.3956, Val_Loss: 0.6049, Val_MSE: 0.5132\n"
     ]
    },
    {
     "name": "stdout",
     "output_type": "stream",
     "text": [
      "109/109 [==============================] - 1s 5ms/step - loss: 0.4879 - mean_squared_error: 0.3956 - val_loss: 0.6049 - val_mean_squared_error: 0.5132\n",
      "Epoch 45/100\n",
      "100/109 [==========================>...] - ETA: 0s - loss: 0.5123 - mean_squared_error: 0.4211\n",
      "Epoch 45: val_mean_squared_error did not improve from 0.39652\n"
     ]
    },
    {
     "name": "stderr",
     "output_type": "stream",
     "text": [
      "Epoch 45, Loss: 0.5215, MSE: 0.4303, Val_Loss: 0.5460, Val_MSE: 0.4553\n"
     ]
    },
    {
     "name": "stdout",
     "output_type": "stream",
     "text": [
      "109/109 [==============================] - 1s 6ms/step - loss: 0.5215 - mean_squared_error: 0.4303 - val_loss: 0.5460 - val_mean_squared_error: 0.4553\n",
      "Epoch 46/100\n",
      "107/109 [============================>.] - ETA: 0s - loss: 0.4777 - mean_squared_error: 0.3875\n",
      "Epoch 46: val_mean_squared_error improved from 0.39652 to 0.36584, saving model to 0926-datasets-ml/ml-cn-xmu-(JmolNN)/MLPmodel-20250121_1002/best_model.h5\n"
     ]
    },
    {
     "name": "stderr",
     "output_type": "stream",
     "text": [
      "Epoch 46, Loss: 0.4777, MSE: 0.3876, Val_Loss: 0.4553, Val_MSE: 0.3658\n"
     ]
    },
    {
     "name": "stdout",
     "output_type": "stream",
     "text": [
      "109/109 [==============================] - 1s 6ms/step - loss: 0.4777 - mean_squared_error: 0.3876 - val_loss: 0.4553 - val_mean_squared_error: 0.3658\n",
      "Epoch 47/100\n",
      "109/109 [==============================] - ETA: 0s - loss: 0.4640 - mean_squared_error: 0.3753\n",
      "Epoch 47: val_mean_squared_error did not improve from 0.36584\n"
     ]
    },
    {
     "name": "stderr",
     "output_type": "stream",
     "text": [
      "Epoch 47, Loss: 0.4640, MSE: 0.3753, Val_Loss: 0.4648, Val_MSE: 0.3767\n"
     ]
    },
    {
     "name": "stdout",
     "output_type": "stream",
     "text": [
      "109/109 [==============================] - 1s 6ms/step - loss: 0.4640 - mean_squared_error: 0.3753 - val_loss: 0.4648 - val_mean_squared_error: 0.3767\n",
      "Epoch 48/100\n",
      "108/109 [============================>.] - ETA: 0s - loss: 0.4588 - mean_squared_error: 0.3714\n",
      "Epoch 48: val_mean_squared_error did not improve from 0.36584\n"
     ]
    },
    {
     "name": "stderr",
     "output_type": "stream",
     "text": [
      "Epoch 48, Loss: 0.4587, MSE: 0.3712, Val_Loss: 0.5053, Val_MSE: 0.4184\n"
     ]
    },
    {
     "name": "stdout",
     "output_type": "stream",
     "text": [
      "109/109 [==============================] - 1s 6ms/step - loss: 0.4587 - mean_squared_error: 0.3712 - val_loss: 0.5053 - val_mean_squared_error: 0.4184\n",
      "Epoch 49/100\n",
      "105/109 [===========================>..] - ETA: 0s - loss: 0.4946 - mean_squared_error: 0.4082\n",
      "Epoch 49: val_mean_squared_error did not improve from 0.36584\n"
     ]
    },
    {
     "name": "stderr",
     "output_type": "stream",
     "text": [
      "Epoch 49, Loss: 0.4951, MSE: 0.4086, Val_Loss: 0.4975, Val_MSE: 0.4115\n"
     ]
    },
    {
     "name": "stdout",
     "output_type": "stream",
     "text": [
      "109/109 [==============================] - 1s 6ms/step - loss: 0.4951 - mean_squared_error: 0.4086 - val_loss: 0.4975 - val_mean_squared_error: 0.4115\n",
      "Epoch 50/100\n",
      "105/109 [===========================>..] - ETA: 0s - loss: 0.4795 - mean_squared_error: 0.3940\n",
      "Epoch 50: val_mean_squared_error did not improve from 0.36584\n"
     ]
    },
    {
     "name": "stderr",
     "output_type": "stream",
     "text": [
      "Epoch 50, Loss: 0.4783, MSE: 0.3928, Val_Loss: 0.5670, Val_MSE: 0.4820\n"
     ]
    },
    {
     "name": "stdout",
     "output_type": "stream",
     "text": [
      "109/109 [==============================] - 1s 7ms/step - loss: 0.4783 - mean_squared_error: 0.3928 - val_loss: 0.5670 - val_mean_squared_error: 0.4820\n",
      "Epoch 51/100\n",
      "105/109 [===========================>..] - ETA: 0s - loss: 0.4975 - mean_squared_error: 0.4130\n",
      "Epoch 51: val_mean_squared_error did not improve from 0.36584\n"
     ]
    },
    {
     "name": "stderr",
     "output_type": "stream",
     "text": [
      "Epoch 51, Loss: 0.4962, MSE: 0.4117, Val_Loss: 0.4794, Val_MSE: 0.3955\n"
     ]
    },
    {
     "name": "stdout",
     "output_type": "stream",
     "text": [
      "109/109 [==============================] - 1s 7ms/step - loss: 0.4962 - mean_squared_error: 0.4117 - val_loss: 0.4794 - val_mean_squared_error: 0.3955\n",
      "Epoch 52/100\n",
      "107/109 [============================>.] - ETA: 0s - loss: 0.4825 - mean_squared_error: 0.3991\n",
      "Epoch 52: val_mean_squared_error did not improve from 0.36584\n"
     ]
    },
    {
     "name": "stderr",
     "output_type": "stream",
     "text": [
      "Epoch 52, Loss: 0.4832, MSE: 0.3998, Val_Loss: 0.4796, Val_MSE: 0.3968\n"
     ]
    },
    {
     "name": "stdout",
     "output_type": "stream",
     "text": [
      "109/109 [==============================] - 1s 7ms/step - loss: 0.4832 - mean_squared_error: 0.3998 - val_loss: 0.4796 - val_mean_squared_error: 0.3968\n",
      "Epoch 53/100\n",
      " 99/109 [==========================>...] - ETA: 0s - loss: 0.4849 - mean_squared_error: 0.4025\n",
      "Epoch 53: val_mean_squared_error improved from 0.36584 to 0.35798, saving model to 0926-datasets-ml/ml-cn-xmu-(JmolNN)/MLPmodel-20250121_1002/best_model.h5\n"
     ]
    },
    {
     "name": "stderr",
     "output_type": "stream",
     "text": [
      "Epoch 53, Loss: 0.4795, MSE: 0.3972, Val_Loss: 0.4398, Val_MSE: 0.3580\n"
     ]
    },
    {
     "name": "stdout",
     "output_type": "stream",
     "text": [
      "109/109 [==============================] - 1s 7ms/step - loss: 0.4795 - mean_squared_error: 0.3972 - val_loss: 0.4398 - val_mean_squared_error: 0.3580\n",
      "Epoch 54/100\n",
      "109/109 [==============================] - ETA: 0s - loss: 0.4545 - mean_squared_error: 0.3733\n",
      "Epoch 54: val_mean_squared_error did not improve from 0.35798\n"
     ]
    },
    {
     "name": "stderr",
     "output_type": "stream",
     "text": [
      "Epoch 54, Loss: 0.4545, MSE: 0.3733, Val_Loss: 0.6041, Val_MSE: 0.5235\n"
     ]
    },
    {
     "name": "stdout",
     "output_type": "stream",
     "text": [
      "109/109 [==============================] - 1s 7ms/step - loss: 0.4545 - mean_squared_error: 0.3733 - val_loss: 0.6041 - val_mean_squared_error: 0.5235\n",
      "Epoch 55/100\n",
      "103/109 [===========================>..] - ETA: 0s - loss: 0.4521 - mean_squared_error: 0.3719\n",
      "Epoch 55: val_mean_squared_error did not improve from 0.35798\n"
     ]
    },
    {
     "name": "stderr",
     "output_type": "stream",
     "text": [
      "Epoch 55, Loss: 0.4575, MSE: 0.3774, Val_Loss: 0.4915, Val_MSE: 0.4119\n"
     ]
    },
    {
     "name": "stdout",
     "output_type": "stream",
     "text": [
      "109/109 [==============================] - 1s 7ms/step - loss: 0.4575 - mean_squared_error: 0.3774 - val_loss: 0.4915 - val_mean_squared_error: 0.4119\n",
      "Epoch 56/100\n",
      "101/109 [==========================>...] - ETA: 0s - loss: 0.5401 - mean_squared_error: 0.4607\n",
      "Epoch 56: val_mean_squared_error did not improve from 0.35798\n"
     ]
    },
    {
     "name": "stderr",
     "output_type": "stream",
     "text": [
      "Epoch 56, Loss: 0.5275, MSE: 0.4482, Val_Loss: 0.6076, Val_MSE: 0.5286\n"
     ]
    },
    {
     "name": "stdout",
     "output_type": "stream",
     "text": [
      "109/109 [==============================] - 1s 8ms/step - loss: 0.5275 - mean_squared_error: 0.4482 - val_loss: 0.6076 - val_mean_squared_error: 0.5286\n",
      "Epoch 57/100\n",
      "101/109 [==========================>...] - ETA: 0s - loss: 0.4535 - mean_squared_error: 0.3750\n",
      "Epoch 57: val_mean_squared_error improved from 0.35798 to 0.35469, saving model to 0926-datasets-ml/ml-cn-xmu-(JmolNN)/MLPmodel-20250121_1002/best_model.h5\n"
     ]
    },
    {
     "name": "stderr",
     "output_type": "stream",
     "text": [
      "Epoch 57, Loss: 0.4590, MSE: 0.3806, Val_Loss: 0.4326, Val_MSE: 0.3547\n"
     ]
    },
    {
     "name": "stdout",
     "output_type": "stream",
     "text": [
      "109/109 [==============================] - 1s 8ms/step - loss: 0.4590 - mean_squared_error: 0.3806 - val_loss: 0.4326 - val_mean_squared_error: 0.3547\n",
      "Epoch 58/100\n",
      "108/109 [============================>.] - ETA: 0s - loss: 0.4721 - mean_squared_error: 0.3947\n",
      "Epoch 58: val_mean_squared_error did not improve from 0.35469\n"
     ]
    },
    {
     "name": "stderr",
     "output_type": "stream",
     "text": [
      "Epoch 58, Loss: 0.4718, MSE: 0.3944, Val_Loss: 0.4848, Val_MSE: 0.4079\n"
     ]
    },
    {
     "name": "stdout",
     "output_type": "stream",
     "text": [
      "109/109 [==============================] - 1s 11ms/step - loss: 0.4718 - mean_squared_error: 0.3944 - val_loss: 0.4848 - val_mean_squared_error: 0.4079\n",
      "Epoch 59/100\n",
      "105/109 [===========================>..] - ETA: 0s - loss: 0.4621 - mean_squared_error: 0.3855\n",
      "Epoch 59: val_mean_squared_error did not improve from 0.35469\n"
     ]
    },
    {
     "name": "stderr",
     "output_type": "stream",
     "text": [
      "Epoch 59, Loss: 0.4656, MSE: 0.3890, Val_Loss: 0.6033, Val_MSE: 0.5272\n"
     ]
    },
    {
     "name": "stdout",
     "output_type": "stream",
     "text": [
      "109/109 [==============================] - 1s 11ms/step - loss: 0.4656 - mean_squared_error: 0.3890 - val_loss: 0.6033 - val_mean_squared_error: 0.5272\n",
      "Epoch 60/100\n",
      "108/109 [============================>.] - ETA: 0s - loss: 0.4580 - mean_squared_error: 0.3822\n",
      "Epoch 60: val_mean_squared_error did not improve from 0.35469\n"
     ]
    },
    {
     "name": "stderr",
     "output_type": "stream",
     "text": [
      "Epoch 60, Loss: 0.4573, MSE: 0.3815, Val_Loss: 0.4407, Val_MSE: 0.3655\n"
     ]
    },
    {
     "name": "stdout",
     "output_type": "stream",
     "text": [
      "109/109 [==============================] - 1s 9ms/step - loss: 0.4573 - mean_squared_error: 0.3815 - val_loss: 0.4407 - val_mean_squared_error: 0.3655\n",
      "Epoch 61/100\n",
      "103/109 [===========================>..] - ETA: 0s - loss: 0.4590 - mean_squared_error: 0.3842\n",
      "Epoch 61: val_mean_squared_error did not improve from 0.35469\n"
     ]
    },
    {
     "name": "stderr",
     "output_type": "stream",
     "text": [
      "Epoch 61, Loss: 0.4596, MSE: 0.3849, Val_Loss: 0.5282, Val_MSE: 0.4540\n"
     ]
    },
    {
     "name": "stdout",
     "output_type": "stream",
     "text": [
      "109/109 [==============================] - 1s 7ms/step - loss: 0.4596 - mean_squared_error: 0.3849 - val_loss: 0.5282 - val_mean_squared_error: 0.4540\n",
      "Epoch 62/100\n",
      "109/109 [==============================] - ETA: 0s - loss: 0.4511 - mean_squared_error: 0.3774\n",
      "Epoch 62: val_mean_squared_error did not improve from 0.35469\n"
     ]
    },
    {
     "name": "stderr",
     "output_type": "stream",
     "text": [
      "Epoch 62, Loss: 0.4511, MSE: 0.3774, Val_Loss: 0.4741, Val_MSE: 0.4008\n"
     ]
    },
    {
     "name": "stdout",
     "output_type": "stream",
     "text": [
      "109/109 [==============================] - 1s 11ms/step - loss: 0.4511 - mean_squared_error: 0.3774 - val_loss: 0.4741 - val_mean_squared_error: 0.4008\n",
      "Epoch 63/100\n",
      "109/109 [==============================] - ETA: 0s - loss: 0.4688 - mean_squared_error: 0.3959\n",
      "Epoch 63: val_mean_squared_error did not improve from 0.35469\n"
     ]
    },
    {
     "name": "stderr",
     "output_type": "stream",
     "text": [
      "Epoch 63, Loss: 0.4688, MSE: 0.3959, Val_Loss: 0.4329, Val_MSE: 0.3604\n"
     ]
    },
    {
     "name": "stdout",
     "output_type": "stream",
     "text": [
      "109/109 [==============================] - 1s 11ms/step - loss: 0.4688 - mean_squared_error: 0.3959 - val_loss: 0.4329 - val_mean_squared_error: 0.3604\n",
      "Epoch 64/100\n",
      "108/109 [============================>.] - ETA: 0s - loss: 0.4509 - mean_squared_error: 0.3789\n",
      "Epoch 64: val_mean_squared_error did not improve from 0.35469\n"
     ]
    },
    {
     "name": "stderr",
     "output_type": "stream",
     "text": [
      "Epoch 64, Loss: 0.4500, MSE: 0.3780, Val_Loss: 0.5211, Val_MSE: 0.4496\n"
     ]
    },
    {
     "name": "stdout",
     "output_type": "stream",
     "text": [
      "109/109 [==============================] - 1s 8ms/step - loss: 0.4500 - mean_squared_error: 0.3780 - val_loss: 0.5211 - val_mean_squared_error: 0.4496\n",
      "Epoch 65/100\n",
      "104/109 [===========================>..] - ETA: 0s - loss: 0.4473 - mean_squared_error: 0.3762\n",
      "Epoch 65: val_mean_squared_error did not improve from 0.35469\n"
     ]
    },
    {
     "name": "stderr",
     "output_type": "stream",
     "text": [
      "Epoch 65, Loss: 0.4464, MSE: 0.3753, Val_Loss: 0.5183, Val_MSE: 0.4477\n"
     ]
    },
    {
     "name": "stdout",
     "output_type": "stream",
     "text": [
      "109/109 [==============================] - 1s 10ms/step - loss: 0.4464 - mean_squared_error: 0.3753 - val_loss: 0.5183 - val_mean_squared_error: 0.4477\n",
      "Epoch 66/100\n",
      "108/109 [============================>.] - ETA: 0s - loss: 0.5083 - mean_squared_error: 0.4378\n",
      "Epoch 66: val_mean_squared_error did not improve from 0.35469\n"
     ]
    },
    {
     "name": "stderr",
     "output_type": "stream",
     "text": [
      "Epoch 66, Loss: 0.5123, MSE: 0.4418, Val_Loss: 0.5264, Val_MSE: 0.4561\n"
     ]
    },
    {
     "name": "stdout",
     "output_type": "stream",
     "text": [
      "109/109 [==============================] - 1s 12ms/step - loss: 0.5123 - mean_squared_error: 0.4418 - val_loss: 0.5264 - val_mean_squared_error: 0.4561\n",
      "Epoch 67/100\n",
      "106/109 [============================>.] - ETA: 0s - loss: 0.5421 - mean_squared_error: 0.4715\n",
      "Epoch 67: val_mean_squared_error did not improve from 0.35469\n"
     ]
    },
    {
     "name": "stderr",
     "output_type": "stream",
     "text": [
      "Epoch 67, Loss: 0.5395, MSE: 0.4689, Val_Loss: 0.4451, Val_MSE: 0.3750\n"
     ]
    },
    {
     "name": "stdout",
     "output_type": "stream",
     "text": [
      "109/109 [==============================] - 1s 10ms/step - loss: 0.5395 - mean_squared_error: 0.4689 - val_loss: 0.4451 - val_mean_squared_error: 0.3750\n",
      "Epoch 68/100\n",
      "107/109 [============================>.] - ETA: 0s - loss: 0.4258 - mean_squared_error: 0.3562\n",
      "Epoch 68: val_mean_squared_error did not improve from 0.35469\n"
     ]
    },
    {
     "name": "stderr",
     "output_type": "stream",
     "text": [
      "Epoch 68, Loss: 0.4278, MSE: 0.3582, Val_Loss: 0.5089, Val_MSE: 0.4397\n"
     ]
    },
    {
     "name": "stdout",
     "output_type": "stream",
     "text": [
      "109/109 [==============================] - 1s 10ms/step - loss: 0.4278 - mean_squared_error: 0.3582 - val_loss: 0.5089 - val_mean_squared_error: 0.4397\n",
      "Epoch 69/100\n",
      "109/109 [==============================] - ETA: 0s - loss: 0.4606 - mean_squared_error: 0.3920\n",
      "Epoch 69: val_mean_squared_error did not improve from 0.35469\n"
     ]
    },
    {
     "name": "stderr",
     "output_type": "stream",
     "text": [
      "Epoch 69, Loss: 0.4606, MSE: 0.3920, Val_Loss: 0.6263, Val_MSE: 0.5583\n"
     ]
    },
    {
     "name": "stdout",
     "output_type": "stream",
     "text": [
      "109/109 [==============================] - 1s 11ms/step - loss: 0.4606 - mean_squared_error: 0.3920 - val_loss: 0.6263 - val_mean_squared_error: 0.5583\n",
      "Epoch 70/100\n",
      "105/109 [===========================>..] - ETA: 0s - loss: 0.4357 - mean_squared_error: 0.3680\n",
      "Epoch 70: val_mean_squared_error improved from 0.35469 to 0.35022, saving model to 0926-datasets-ml/ml-cn-xmu-(JmolNN)/MLPmodel-20250121_1002/best_model.h5\n"
     ]
    },
    {
     "name": "stderr",
     "output_type": "stream",
     "text": [
      "Epoch 70, Loss: 0.4346, MSE: 0.3669, Val_Loss: 0.4174, Val_MSE: 0.3502\n"
     ]
    },
    {
     "name": "stdout",
     "output_type": "stream",
     "text": [
      "109/109 [==============================] - 1s 10ms/step - loss: 0.4346 - mean_squared_error: 0.3669 - val_loss: 0.4174 - val_mean_squared_error: 0.3502\n",
      "Epoch 71/100\n",
      "106/109 [============================>.] - ETA: 0s - loss: 0.4233 - mean_squared_error: 0.3567\n",
      "Epoch 71: val_mean_squared_error did not improve from 0.35022\n"
     ]
    },
    {
     "name": "stderr",
     "output_type": "stream",
     "text": [
      "Epoch 71, Loss: 0.4213, MSE: 0.3547, Val_Loss: 0.4217, Val_MSE: 0.3556\n"
     ]
    },
    {
     "name": "stdout",
     "output_type": "stream",
     "text": [
      "109/109 [==============================] - 1s 10ms/step - loss: 0.4213 - mean_squared_error: 0.3547 - val_loss: 0.4217 - val_mean_squared_error: 0.3556\n",
      "Epoch 72/100\n",
      "107/109 [============================>.] - ETA: 0s - loss: 0.4326 - mean_squared_error: 0.3670\n",
      "Epoch 72: val_mean_squared_error did not improve from 0.35022\n"
     ]
    },
    {
     "name": "stderr",
     "output_type": "stream",
     "text": [
      "Epoch 72, Loss: 0.4319, MSE: 0.3663, Val_Loss: 0.5425, Val_MSE: 0.4772\n"
     ]
    },
    {
     "name": "stdout",
     "output_type": "stream",
     "text": [
      "109/109 [==============================] - 1s 11ms/step - loss: 0.4319 - mean_squared_error: 0.3663 - val_loss: 0.5425 - val_mean_squared_error: 0.4772\n",
      "Epoch 73/100\n",
      "106/109 [============================>.] - ETA: 0s - loss: 0.4296 - mean_squared_error: 0.3647\n",
      "Epoch 73: val_mean_squared_error did not improve from 0.35022\n"
     ]
    },
    {
     "name": "stderr",
     "output_type": "stream",
     "text": [
      "Epoch 73, Loss: 0.4293, MSE: 0.3644, Val_Loss: 0.5553, Val_MSE: 0.4908\n"
     ]
    },
    {
     "name": "stdout",
     "output_type": "stream",
     "text": [
      "109/109 [==============================] - 1s 10ms/step - loss: 0.4293 - mean_squared_error: 0.3644 - val_loss: 0.5553 - val_mean_squared_error: 0.4908\n",
      "Epoch 74/100\n",
      "104/109 [===========================>..] - ETA: 0s - loss: 0.4371 - mean_squared_error: 0.3730\n",
      "Epoch 74: val_mean_squared_error did not improve from 0.35022\n"
     ]
    },
    {
     "name": "stderr",
     "output_type": "stream",
     "text": [
      "Epoch 74, Loss: 0.4363, MSE: 0.3721, Val_Loss: 0.4938, Val_MSE: 0.4298\n"
     ]
    },
    {
     "name": "stdout",
     "output_type": "stream",
     "text": [
      "109/109 [==============================] - 1s 9ms/step - loss: 0.4363 - mean_squared_error: 0.3721 - val_loss: 0.4938 - val_mean_squared_error: 0.4298\n",
      "Epoch 75/100\n",
      "108/109 [============================>.] - ETA: 0s - loss: 0.4373 - mean_squared_error: 0.3736\n",
      "Epoch 75: val_mean_squared_error did not improve from 0.35022\n"
     ]
    },
    {
     "name": "stderr",
     "output_type": "stream",
     "text": [
      "Epoch 75, Loss: 0.4377, MSE: 0.3740, Val_Loss: 0.5204, Val_MSE: 0.4568\n"
     ]
    },
    {
     "name": "stdout",
     "output_type": "stream",
     "text": [
      "109/109 [==============================] - 1s 11ms/step - loss: 0.4377 - mean_squared_error: 0.3740 - val_loss: 0.5204 - val_mean_squared_error: 0.4568\n",
      "Epoch 76/100\n",
      "104/109 [===========================>..] - ETA: 0s - loss: 0.4379 - mean_squared_error: 0.3746\n",
      "Epoch 76: val_mean_squared_error did not improve from 0.35022\n"
     ]
    },
    {
     "name": "stderr",
     "output_type": "stream",
     "text": [
      "Epoch 76, Loss: 0.4393, MSE: 0.3760, Val_Loss: 0.4500, Val_MSE: 0.3873\n"
     ]
    },
    {
     "name": "stdout",
     "output_type": "stream",
     "text": [
      "109/109 [==============================] - 1s 11ms/step - loss: 0.4393 - mean_squared_error: 0.3760 - val_loss: 0.4500 - val_mean_squared_error: 0.3873\n",
      "Epoch 77/100\n",
      "107/109 [============================>.] - ETA: 0s - loss: 0.4448 - mean_squared_error: 0.3824\n",
      "Epoch 77: val_mean_squared_error did not improve from 0.35022\n"
     ]
    },
    {
     "name": "stderr",
     "output_type": "stream",
     "text": [
      "Epoch 77, Loss: 0.4464, MSE: 0.3841, Val_Loss: 0.5529, Val_MSE: 0.4905\n"
     ]
    },
    {
     "name": "stdout",
     "output_type": "stream",
     "text": [
      "109/109 [==============================] - 1s 8ms/step - loss: 0.4464 - mean_squared_error: 0.3841 - val_loss: 0.5529 - val_mean_squared_error: 0.4905\n",
      "Epoch 78/100\n",
      "107/109 [============================>.] - ETA: 0s - loss: 0.4596 - mean_squared_error: 0.3972\n",
      "Epoch 78: val_mean_squared_error improved from 0.35022 to 0.33747, saving model to 0926-datasets-ml/ml-cn-xmu-(JmolNN)/MLPmodel-20250121_1002/best_model.h5\n"
     ]
    },
    {
     "name": "stderr",
     "output_type": "stream",
     "text": [
      "Epoch 78, Loss: 0.4592, MSE: 0.3969, Val_Loss: 0.3993, Val_MSE: 0.3375\n"
     ]
    },
    {
     "name": "stdout",
     "output_type": "stream",
     "text": [
      "109/109 [==============================] - 1s 12ms/step - loss: 0.4592 - mean_squared_error: 0.3969 - val_loss: 0.3993 - val_mean_squared_error: 0.3375\n",
      "Epoch 79/100\n",
      "107/109 [============================>.] - ETA: 0s - loss: 0.4216 - mean_squared_error: 0.3602\n",
      "Epoch 79: val_mean_squared_error did not improve from 0.33747\n"
     ]
    },
    {
     "name": "stderr",
     "output_type": "stream",
     "text": [
      "Epoch 79, Loss: 0.4226, MSE: 0.3612, Val_Loss: 0.5169, Val_MSE: 0.4558\n"
     ]
    },
    {
     "name": "stdout",
     "output_type": "stream",
     "text": [
      "109/109 [==============================] - 1s 11ms/step - loss: 0.4226 - mean_squared_error: 0.3612 - val_loss: 0.5169 - val_mean_squared_error: 0.4558\n",
      "Epoch 80/100\n",
      "107/109 [============================>.] - ETA: 0s - loss: 0.4068 - mean_squared_error: 0.3459\n",
      "Epoch 80: val_mean_squared_error did not improve from 0.33747\n"
     ]
    },
    {
     "name": "stderr",
     "output_type": "stream",
     "text": [
      "Epoch 80, Loss: 0.4062, MSE: 0.3453, Val_Loss: 0.6104, Val_MSE: 0.5500\n"
     ]
    },
    {
     "name": "stdout",
     "output_type": "stream",
     "text": [
      "109/109 [==============================] - 1s 8ms/step - loss: 0.4062 - mean_squared_error: 0.3453 - val_loss: 0.6104 - val_mean_squared_error: 0.5500\n",
      "Epoch 81/100\n",
      "107/109 [============================>.] - ETA: 0s - loss: 0.4289 - mean_squared_error: 0.3688\n",
      "Epoch 81: val_mean_squared_error did not improve from 0.33747\n"
     ]
    },
    {
     "name": "stderr",
     "output_type": "stream",
     "text": [
      "Epoch 81, Loss: 0.4274, MSE: 0.3673, Val_Loss: 0.4935, Val_MSE: 0.4338\n"
     ]
    },
    {
     "name": "stdout",
     "output_type": "stream",
     "text": [
      "109/109 [==============================] - 1s 11ms/step - loss: 0.4274 - mean_squared_error: 0.3673 - val_loss: 0.4935 - val_mean_squared_error: 0.4338\n",
      "Epoch 82/100\n",
      "107/109 [============================>.] - ETA: 0s - loss: 0.4128 - mean_squared_error: 0.3536\n",
      "Epoch 82: val_mean_squared_error did not improve from 0.33747\n"
     ]
    },
    {
     "name": "stderr",
     "output_type": "stream",
     "text": [
      "Epoch 82, Loss: 0.4128, MSE: 0.3536, Val_Loss: 0.4180, Val_MSE: 0.3591\n"
     ]
    },
    {
     "name": "stdout",
     "output_type": "stream",
     "text": [
      "109/109 [==============================] - 1s 11ms/step - loss: 0.4128 - mean_squared_error: 0.3536 - val_loss: 0.4180 - val_mean_squared_error: 0.3591\n",
      "Epoch 83/100\n",
      "104/109 [===========================>..] - ETA: 0s - loss: 0.4008 - mean_squared_error: 0.3423\n",
      "Epoch 83: val_mean_squared_error did not improve from 0.33747\n"
     ]
    },
    {
     "name": "stderr",
     "output_type": "stream",
     "text": [
      "Epoch 83, Loss: 0.3982, MSE: 0.3397, Val_Loss: 0.4225, Val_MSE: 0.3642\n"
     ]
    },
    {
     "name": "stdout",
     "output_type": "stream",
     "text": [
      "109/109 [==============================] - 1s 10ms/step - loss: 0.3982 - mean_squared_error: 0.3397 - val_loss: 0.4225 - val_mean_squared_error: 0.3642\n",
      "Epoch 84/100\n",
      "109/109 [==============================] - ETA: 0s - loss: 0.4038 - mean_squared_error: 0.3459\n",
      "Epoch 84: val_mean_squared_error did not improve from 0.33747\n"
     ]
    },
    {
     "name": "stderr",
     "output_type": "stream",
     "text": [
      "Epoch 84, Loss: 0.4038, MSE: 0.3459, Val_Loss: 0.5838, Val_MSE: 0.5262\n"
     ]
    },
    {
     "name": "stdout",
     "output_type": "stream",
     "text": [
      "109/109 [==============================] - 1s 11ms/step - loss: 0.4038 - mean_squared_error: 0.3459 - val_loss: 0.5838 - val_mean_squared_error: 0.5262\n",
      "Epoch 85/100\n",
      "103/109 [===========================>..] - ETA: 0s - loss: 0.3987 - mean_squared_error: 0.3413\n",
      "Epoch 85: val_mean_squared_error did not improve from 0.33747\n"
     ]
    },
    {
     "name": "stderr",
     "output_type": "stream",
     "text": [
      "Epoch 85, Loss: 0.3989, MSE: 0.3416, Val_Loss: 0.4889, Val_MSE: 0.4319\n"
     ]
    },
    {
     "name": "stdout",
     "output_type": "stream",
     "text": [
      "109/109 [==============================] - 1s 11ms/step - loss: 0.3989 - mean_squared_error: 0.3416 - val_loss: 0.4889 - val_mean_squared_error: 0.4319\n",
      "Epoch 86/100\n",
      "107/109 [============================>.] - ETA: 0s - loss: 0.4117 - mean_squared_error: 0.3547\n",
      "Epoch 86: val_mean_squared_error did not improve from 0.33747\n"
     ]
    },
    {
     "name": "stderr",
     "output_type": "stream",
     "text": [
      "Epoch 86, Loss: 0.4141, MSE: 0.3571, Val_Loss: 0.6070, Val_MSE: 0.5503\n"
     ]
    },
    {
     "name": "stdout",
     "output_type": "stream",
     "text": [
      "109/109 [==============================] - 1s 10ms/step - loss: 0.4141 - mean_squared_error: 0.3571 - val_loss: 0.6070 - val_mean_squared_error: 0.5503\n",
      "Epoch 87/100\n",
      "104/109 [===========================>..] - ETA: 0s - loss: 0.4579 - mean_squared_error: 0.4004\n",
      "Epoch 87: val_mean_squared_error did not improve from 0.33747\n"
     ]
    },
    {
     "name": "stderr",
     "output_type": "stream",
     "text": [
      "Epoch 87, Loss: 0.4541, MSE: 0.3966, Val_Loss: 0.4929, Val_MSE: 0.4355\n"
     ]
    },
    {
     "name": "stdout",
     "output_type": "stream",
     "text": [
      "109/109 [==============================] - 1s 11ms/step - loss: 0.4541 - mean_squared_error: 0.3966 - val_loss: 0.4929 - val_mean_squared_error: 0.4355\n",
      "Epoch 88/100\n",
      "106/109 [============================>.] - ETA: 0s - loss: 0.4073 - mean_squared_error: 0.3505\n",
      "Epoch 88: val_mean_squared_error did not improve from 0.33747\n"
     ]
    },
    {
     "name": "stderr",
     "output_type": "stream",
     "text": [
      "Epoch 88, Loss: 0.4061, MSE: 0.3494, Val_Loss: 0.4275, Val_MSE: 0.3710\n"
     ]
    },
    {
     "name": "stdout",
     "output_type": "stream",
     "text": [
      "109/109 [==============================] - 1s 11ms/step - loss: 0.4061 - mean_squared_error: 0.3494 - val_loss: 0.4275 - val_mean_squared_error: 0.3710\n",
      "Epoch 89/100\n",
      "103/109 [===========================>..] - ETA: 0s - loss: 0.4033 - mean_squared_error: 0.3471\n",
      "Epoch 89: val_mean_squared_error did not improve from 0.33747\n"
     ]
    },
    {
     "name": "stderr",
     "output_type": "stream",
     "text": [
      "Epoch 89, Loss: 0.4000, MSE: 0.3438, Val_Loss: 0.4826, Val_MSE: 0.4268\n"
     ]
    },
    {
     "name": "stdout",
     "output_type": "stream",
     "text": [
      "109/109 [==============================] - 1s 9ms/step - loss: 0.4000 - mean_squared_error: 0.3438 - val_loss: 0.4826 - val_mean_squared_error: 0.4268\n",
      "Epoch 90/100\n",
      "105/109 [===========================>..] - ETA: 0s - loss: 0.3900 - mean_squared_error: 0.3346\n",
      "Epoch 90: val_mean_squared_error did not improve from 0.33747\n"
     ]
    },
    {
     "name": "stderr",
     "output_type": "stream",
     "text": [
      "Epoch 90, Loss: 0.3883, MSE: 0.3329, Val_Loss: 0.4632, Val_MSE: 0.4081\n"
     ]
    },
    {
     "name": "stdout",
     "output_type": "stream",
     "text": [
      "109/109 [==============================] - 1s 11ms/step - loss: 0.3883 - mean_squared_error: 0.3329 - val_loss: 0.4632 - val_mean_squared_error: 0.4081\n",
      "Epoch 91/100\n",
      "109/109 [==============================] - ETA: 0s - loss: 0.4061 - mean_squared_error: 0.3511\n",
      "Epoch 91: val_mean_squared_error did not improve from 0.33747\n"
     ]
    },
    {
     "name": "stderr",
     "output_type": "stream",
     "text": [
      "Epoch 91, Loss: 0.4061, MSE: 0.3511, Val_Loss: 0.4054, Val_MSE: 0.3506\n"
     ]
    },
    {
     "name": "stdout",
     "output_type": "stream",
     "text": [
      "109/109 [==============================] - 1s 11ms/step - loss: 0.4061 - mean_squared_error: 0.3511 - val_loss: 0.4054 - val_mean_squared_error: 0.3506\n",
      "Epoch 92/100\n",
      "108/109 [============================>.] - ETA: 0s - loss: 0.4125 - mean_squared_error: 0.3580\n",
      "Epoch 92: val_mean_squared_error did not improve from 0.33747\n"
     ]
    },
    {
     "name": "stderr",
     "output_type": "stream",
     "text": [
      "Epoch 92, Loss: 0.4121, MSE: 0.3575, Val_Loss: 0.4579, Val_MSE: 0.4035\n"
     ]
    },
    {
     "name": "stdout",
     "output_type": "stream",
     "text": [
      "109/109 [==============================] - 1s 10ms/step - loss: 0.4121 - mean_squared_error: 0.3575 - val_loss: 0.4579 - val_mean_squared_error: 0.4035\n",
      "Epoch 93/100\n",
      "109/109 [==============================] - ETA: 0s - loss: 0.4009 - mean_squared_error: 0.3468\n",
      "Epoch 93: val_mean_squared_error did not improve from 0.33747\n"
     ]
    },
    {
     "name": "stderr",
     "output_type": "stream",
     "text": [
      "Epoch 93, Loss: 0.4009, MSE: 0.3468, Val_Loss: 0.4585, Val_MSE: 0.4047\n"
     ]
    },
    {
     "name": "stdout",
     "output_type": "stream",
     "text": [
      "109/109 [==============================] - 1s 11ms/step - loss: 0.4009 - mean_squared_error: 0.3468 - val_loss: 0.4585 - val_mean_squared_error: 0.4047\n",
      "Epoch 94/100\n",
      "106/109 [============================>.] - ETA: 0s - loss: 0.4171 - mean_squared_error: 0.3632\n",
      "Epoch 94: val_mean_squared_error did not improve from 0.33747\n"
     ]
    },
    {
     "name": "stderr",
     "output_type": "stream",
     "text": [
      "Epoch 94, Loss: 0.4173, MSE: 0.3634, Val_Loss: 0.4107, Val_MSE: 0.3566\n"
     ]
    },
    {
     "name": "stdout",
     "output_type": "stream",
     "text": [
      "109/109 [==============================] - 1s 11ms/step - loss: 0.4173 - mean_squared_error: 0.3634 - val_loss: 0.4107 - val_mean_squared_error: 0.3566\n",
      "Epoch 95/100\n",
      "105/109 [===========================>..] - ETA: 0s - loss: 0.4285 - mean_squared_error: 0.3747\n",
      "Epoch 95: val_mean_squared_error did not improve from 0.33747\n"
     ]
    },
    {
     "name": "stderr",
     "output_type": "stream",
     "text": [
      "Epoch 95, Loss: 0.4292, MSE: 0.3754, Val_Loss: 0.6282, Val_MSE: 0.5746\n"
     ]
    },
    {
     "name": "stdout",
     "output_type": "stream",
     "text": [
      "109/109 [==============================] - 1s 8ms/step - loss: 0.4292 - mean_squared_error: 0.3754 - val_loss: 0.6282 - val_mean_squared_error: 0.5746\n",
      "Epoch 96/100\n",
      "107/109 [============================>.] - ETA: 0s - loss: 0.4406 - mean_squared_error: 0.3870\n",
      "Epoch 96: val_mean_squared_error did not improve from 0.33747\n"
     ]
    },
    {
     "name": "stderr",
     "output_type": "stream",
     "text": [
      "Epoch 96, Loss: 0.4379, MSE: 0.3844, Val_Loss: 0.5206, Val_MSE: 0.4669\n"
     ]
    },
    {
     "name": "stdout",
     "output_type": "stream",
     "text": [
      "109/109 [==============================] - 1s 11ms/step - loss: 0.4379 - mean_squared_error: 0.3844 - val_loss: 0.5206 - val_mean_squared_error: 0.4669\n",
      "Epoch 97/100\n",
      "106/109 [============================>.] - ETA: 0s - loss: 0.4228 - mean_squared_error: 0.3696\n",
      "Epoch 97: val_mean_squared_error did not improve from 0.33747\n"
     ]
    },
    {
     "name": "stderr",
     "output_type": "stream",
     "text": [
      "Epoch 97, Loss: 0.4217, MSE: 0.3685, Val_Loss: 0.4401, Val_MSE: 0.3869\n"
     ]
    },
    {
     "name": "stdout",
     "output_type": "stream",
     "text": [
      "109/109 [==============================] - 1s 11ms/step - loss: 0.4217 - mean_squared_error: 0.3685 - val_loss: 0.4401 - val_mean_squared_error: 0.3869\n",
      "Epoch 98/100\n",
      "105/109 [===========================>..] - ETA: 0s - loss: 0.3675 - mean_squared_error: 0.3147\n",
      "Epoch 98: val_mean_squared_error did not improve from 0.33747\n"
     ]
    },
    {
     "name": "stderr",
     "output_type": "stream",
     "text": [
      "Epoch 98, Loss: 0.3679, MSE: 0.3150, Val_Loss: 0.4335, Val_MSE: 0.3811\n"
     ]
    },
    {
     "name": "stdout",
     "output_type": "stream",
     "text": [
      "109/109 [==============================] - 1s 10ms/step - loss: 0.3679 - mean_squared_error: 0.3150 - val_loss: 0.4335 - val_mean_squared_error: 0.3811\n",
      "Epoch 99/100\n",
      "108/109 [============================>.] - ETA: 0s - loss: 0.3918 - mean_squared_error: 0.3395\n",
      "Epoch 99: val_mean_squared_error did not improve from 0.33747\n"
     ]
    },
    {
     "name": "stderr",
     "output_type": "stream",
     "text": [
      "Epoch 99, Loss: 0.3914, MSE: 0.3390, Val_Loss: 0.4303, Val_MSE: 0.3781\n"
     ]
    },
    {
     "name": "stdout",
     "output_type": "stream",
     "text": [
      "109/109 [==============================] - 1s 12ms/step - loss: 0.3914 - mean_squared_error: 0.3390 - val_loss: 0.4303 - val_mean_squared_error: 0.3781\n",
      "Epoch 100/100\n",
      "108/109 [============================>.] - ETA: 0s - loss: 0.3712 - mean_squared_error: 0.3194\n",
      "Epoch 100: val_mean_squared_error did not improve from 0.33747\n"
     ]
    },
    {
     "name": "stderr",
     "output_type": "stream",
     "text": [
      "Epoch 100, Loss: 0.3720, MSE: 0.3202, Val_Loss: 0.4381, Val_MSE: 0.3867\n"
     ]
    },
    {
     "name": "stdout",
     "output_type": "stream",
     "text": [
      "109/109 [==============================] - 1s 11ms/step - loss: 0.3720 - mean_squared_error: 0.3202 - val_loss: 0.4381 - val_mean_squared_error: 0.3867\n"
     ]
    }
   ],
   "source": [
    "# Standardize data\n",
    "#scaler = StandardScaler()\n",
    "#X_train = scaler.fit_transform(X_train)\n",
    "#X_valid = scaler.transform(X_valid)\n",
    "#X_test = scaler.transform(X_test)\n",
    "#scaler_path = os.path.join(dir_output, 'scaler.pkl')\n",
    "#joblib.dump(scaler, scaler_path)\n",
    "#print(f\"Scaler saved to: {scaler_path}\")\n",
    "# Build the mlp model\n",
    "#model = Sequential()\n",
    "#model.add(Dense(400, input_dim=X_train.shape[1], activation='relu'))  # Input layer and first hidden layer\n",
    "#model.add(Dense(200, activation='relu'))\n",
    "#model.add(Dense(100, activation='relu'))  # Second hidden layer\n",
    "#model.add(Dense(1))  # Output layer with linear activation function (default)\n",
    "model = Sequential()\n",
    "model.add(Dense(512, input_dim=X_train.shape[1], activation='relu', kernel_regularizer=regularizers.l2(0.0001)))\n",
    "#model.add(Dropout(0.2))  # Add Dropout layer\n",
    "model.add(Dense(256, activation='relu', kernel_regularizer=regularizers.l2(0.0001)))\n",
    "#model.add(Dropout(0.2))  # Add Dropout layer\n",
    "model.add(Dense(128, activation='relu', kernel_regularizer=regularizers.l2(0.0001)))\n",
    "#model.add(Dropout(0.2))  # Add Dropout layer\n",
    "model.add(Dense(64, activation='relu', kernel_regularizer=regularizers.l2(0.0001)))\n",
    "#model.add(Dropout(0.2))  # Add Dropout layer\n",
    "model.add(Dense(32, activation='relu', kernel_regularizer=regularizers.l2(0.0001)))\n",
    "#model.add(Dense(16, activation='relu', kernel_regularizer=regularizers.l2(0.0001)))\n",
    "model.add(Dense(1))\n",
    "optimizer = Adam(learning_rate=0.001)\n",
    "#model.compile(optimizer=optimizer, loss='mean_squared_error', metrics=['mean_squared_error'])\n",
    "# Compile the model\n",
    "model.compile(optimizer='adam', loss='mean_squared_error', metrics=['mean_squared_error'])\n",
    "# Set model save path\n",
    "model_file = os.path.join(dir_output, 'best_model.h5')\n",
    "# Set callbacks to save the model with the best performance on the validation set and to log training process\n",
    "checkpoint = ModelCheckpoint(model_file, monitor='val_mean_squared_error', verbose=1, save_best_only=True, mode='min')\n",
    "# Custom callback class to log training process\n",
    "class CustomCallback(keras.callbacks.Callback):\n",
    "    def on_epoch_end(self, epoch, logs=None):\n",
    "        log_message = (f\"Epoch {epoch + 1}, \"\n",
    "                       f\"Loss: {logs['loss']:.4f}, \"\n",
    "                       f\"MSE: {logs['mean_squared_error']:.4f}, \"\n",
    "                       f\"Val_Loss: {logs['val_loss']:.4f}, \"\n",
    "                       f\"Val_MSE: {logs['val_mean_squared_error']:.4f}\")\n",
    "        logging.info(log_message)\n",
    "# Train the model\n",
    "history = model.fit(X_train, y_train, validation_data=(X_valid, y_valid), epochs=100, batch_size=32, callbacks=[checkpoint, CustomCallback()])\n"
   ]
  },
  {
   "cell_type": "code",
   "execution_count": 5,
   "id": "aa3a7675",
   "metadata": {
    "ExecuteTime": {
     "end_time": "2025-01-21T02:04:02.292845Z",
     "start_time": "2025-01-21T02:04:01.965995Z"
    }
   },
   "outputs": [
    {
     "name": "stdout",
     "output_type": "stream",
     "text": [
      "Model structure saved to: 0926-datasets-ml/ml-cn-xmu-(JmolNN)/MLPmodel-20250121_1002/model_structure.png\n"
     ]
    },
    {
     "data": {
      "image/png": "[encoded data removed]",
      "text/plain": [
       "<IPython.core.display.Image object>"
      ]
     },
     "metadata": {},
     "output_type": "display_data"
    }
   ],
   "source": [
    "# Plot and save the model structure\n",
    "model_structure_file = os.path.join(dir_output, 'model_structure.png')\n",
    "plot_model(model, to_file=model_structure_file, show_shapes=True, show_layer_names=True)\n",
    "print(f\"Model structure saved to: {model_structure_file}\")\n",
    "display(Image(filename=model_structure_file))"
   ]
  },
  {
   "cell_type": "markdown",
   "id": "17bdbbbe",
   "metadata": {},
   "source": [
    "## Plot the loss curve of the training process"
   ]
  },
  {
   "cell_type": "code",
   "execution_count": 6,
   "id": "17337056",
   "metadata": {
    "ExecuteTime": {
     "end_time": "2025-01-21T02:04:02.858442Z",
     "start_time": "2025-01-21T02:04:02.296586Z"
    }
   },
   "outputs": [
    {
     "data": {
      "image/png": "[encoded data removed]",
      "text/plain": [
       "<Figure size 720x432 with 1 Axes>"
      ]
     },
     "metadata": {
      "needs_background": "light"
     },
     "output_type": "display_data"
    }
   ],
   "source": [
    "# Plot the loss curve during training\n",
    "plt.figure(figsize=(10, 6))\n",
    "plt.plot(history.history['loss'], label='Training Loss', color='blue')\n",
    "plt.plot(history.history['val_loss'], label='Validation Loss', color='red')\n",
    "plt.title('Model Loss(MLP)')\n",
    "plt.xlabel('Epoch')\n",
    "plt.ylabel('Loss')\n",
    "plt.legend()\n",
    "plt.grid(True)\n",
    "plt.savefig(os.path.join(dir_output, 'training_loss.png'))\n",
    "plt.show()"
   ]
  },
  {
   "cell_type": "markdown",
   "id": "acbd9d7a",
   "metadata": {},
   "source": [
    "# Predict and calculate accuracy\n",
    "\n",
    "## Model Prediction:\n",
    "- `y_pred`: Contains the predicted values for the test set generated by the trained model.\n",
    "- The predicted values are compared with the true values (`y_test`) to evaluate the model's performance.\n",
    "\n",
    "## Performance Evaluation:\n",
    "- **Mean Squared Error (MSE)**: This metric calculates the average squared difference between predicted and actual values. A lower value indicates a better fit.\n",
    "- **R² Score**: This metric represents the proportion of the variance in the dependent variable that is predictable from the independent variables. A value closer to 1 indicates a better model fit.\n",
    "\n",
    "# Save Predictions:\n",
    "- The predicted values (`y_pred`) are saved into a CSV file for future reference or further analysis.\n",
    "- Example: `'predictions.csv'` (file where predictions are stored).\n",
    "\n",
    "## Visualization:\n",
    "- A plot is generated to compare the true and predicted values visually, providing insights into the model's performance.\n",
    "- The plot is saved as `'true_vs_predicted.png'` for easy access."
   ]
  },
  {
   "cell_type": "code",
   "execution_count": 7,
   "id": "0e0de0e6",
   "metadata": {
    "ExecuteTime": {
     "end_time": "2025-01-21T02:04:03.978979Z",
     "start_time": "2025-01-21T02:04:02.861822Z"
    }
   },
   "outputs": [
    {
     "name": "stdout",
     "output_type": "stream",
     "text": [
      "16/16 [==============================] - 0s 4ms/step\n"
     ]
    },
    {
     "name": "stderr",
     "output_type": "stream",
     "text": [
      "Test MSE: 0.341422\n",
      "Test R² Score: 0.959947\n"
     ]
    },
    {
     "name": "stdout",
     "output_type": "stream",
     "text": [
      "Test MSE: 0.341422\n",
      "Test R² Score: 0.959947\n"
     ]
    },
    {
     "data": {
      "image/png": "[encoded data removed]",
      "text/plain": [
       "<Figure size 720x360 with 1 Axes>"
      ]
     },
     "metadata": {
      "needs_background": "light"
     },
     "output_type": "display_data"
    }
   ],
   "source": [
    "# Predict and calculate accuracy\n",
    "y_pred = model.predict(X_test).flatten()\n",
    "\n",
    "# Calculate and print Mean Squared Error (MSE) and R² score\n",
    "mse = mean_squared_error(y_test, y_pred)\n",
    "r2 = r2_score(y_test, y_pred)\n",
    "print(f\"Test MSE: {mse:.6f}\")\n",
    "print(f\"Test R² Score: {r2:.6f}\")\n",
    "logging.info(f\"Test MSE: {mse:.6f}\")\n",
    "logging.info(f\"Test R² Score: {r2:.6f}\")\n",
    "\n",
    "# Save predictions\n",
    "predictions_file = os.path.join(dir_output, 'predictions.csv')\n",
    "np.savetxt(predictions_file, y_pred, delimiter=',')\n",
    "\n",
    "# Plot the comparison of predicted and true values\n",
    "plt.figure(figsize=(10, 5))\n",
    "plt.plot(y_test, label='True Values (Test)', color='yellow', linewidth=1.5)\n",
    "plt.plot(y_pred, label='Predicted Values (Test)', color='blue', linewidth=1.5)\n",
    "plt.xlabel('Samples')\n",
    "plt.ylabel('Values')\n",
    "plt.title('Comparison of True and Predicted Values (Test)-MLP')\n",
    "plt.legend()\n",
    "plt.grid(True)\n",
    "plt.savefig(os.path.join(dir_output, 'true_vs_predicted.png'))\n",
    "plt.show()\n",
    "\n"
   ]
  },
  {
   "cell_type": "code",
   "execution_count": null,
   "id": "a0b6df62",
   "metadata": {},
   "outputs": [],
   "source": []
  },
  {
   "cell_type": "code",
   "execution_count": null,
   "id": "98e644f3",
   "metadata": {},
   "outputs": [],
   "source": []
  }
 ],
 "metadata": {
  "kernelspec": {
   "display_name": "Python 3 (ipykernel)",
   "language": "python",
   "name": "python3"
  },
  "language_info": {
   "codemirror_mode": {
    "name": "ipython",
    "version": 3
   },
   "file_extension": ".py",
   "mimetype": "text/x-python",
   "name": "python",
   "nbconvert_exporter": "python",
   "pygments_lexer": "ipython3",
   "version": "3.11.4"
  },
  "toc": {
   "base_numbering": 1,
   "nav_menu": {},
   "number_sections": true,
   "sideBar": true,
   "skip_h1_title": false,
   "title_cell": "Table of Contents",
   "title_sidebar": "Contents",
   "toc_cell": false,
   "toc_position": {
    "height": "calc(100% - 180px)",
    "left": "10px",
    "top": "150px",
    "width": "264.796875px"
   },
   "toc_section_display": true,
   "toc_window_display": true
  }
 },
 "nbformat": 4,
 "nbformat_minor": 5
}
