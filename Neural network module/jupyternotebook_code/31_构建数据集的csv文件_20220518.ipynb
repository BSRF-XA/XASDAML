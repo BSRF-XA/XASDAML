{
 "cells": [
  {
   "cell_type": "markdown",
   "metadata": {},
   "source": [
    "### 本程序构建feature和label文件链接的csv文件，然后将csv文件保存到“datasets_csv”文件夹内。"
   ]
  },
  {
   "cell_type": "markdown",
   "metadata": {},
   "source": [
    "### 这里的feature是chi_FEFF或xmu，label文件是coor"
   ]
  },
  {
   "cell_type": "markdown",
   "metadata": {},
   "source": [
    "last update: 2022.5.18"
   ]
  },
  {
   "cell_type": "markdown",
   "metadata": {},
   "source": [
    "相对于21版本，将文件/文件夹参数提前到前面进行设置，并调整了输入和输出文件夹相对于本代码的相对路径"
   ]
  },
  {
   "cell_type": "markdown",
   "metadata": {},
   "source": [
    "contacts：zhaohf@ihep.ac.cn"
   ]
  },
  {
   "cell_type": "markdown",
   "metadata": {},
   "source": [
    "# 配置环境"
   ]
  },
  {
   "cell_type": "markdown",
   "metadata": {},
   "source": [
    "## 所需模块"
   ]
  },
  {
   "cell_type": "code",
   "execution_count": 1,
   "metadata": {
    "ExecuteTime": {
     "end_time": "2022-05-18T06:47:21.167833Z",
     "start_time": "2022-05-18T06:47:20.568468Z"
    }
   },
   "outputs": [],
   "source": [
    "import os\n",
    "import sys\n",
    "assert sys.version_info >= (3, 5)\n",
    "#\n",
    "import pandas as pd"
   ]
  },
  {
   "cell_type": "markdown",
   "metadata": {},
   "source": [
    "输出导入模板的版本。"
   ]
  },
  {
   "cell_type": "code",
   "execution_count": 2,
   "metadata": {
    "ExecuteTime": {
     "end_time": "2022-05-18T06:47:21.197759Z",
     "start_time": "2022-05-18T06:47:21.173823Z"
    }
   },
   "outputs": [
    {
     "name": "stdout",
     "output_type": "stream",
     "text": [
      "python version: 3.9.12 (main, Apr  4 2022, 05:22:27) [MSC v.1916 64 bit (AMD64)]\n",
      "panda version: 1.4.2\n"
     ]
    }
   ],
   "source": [
    "print('python version:',sys.version)\n",
    "print('panda version:',pd.__version__)"
   ]
  },
  {
   "cell_type": "markdown",
   "metadata": {},
   "source": [
    "# 设置参数"
   ]
  },
  {
   "cell_type": "markdown",
   "metadata": {},
   "source": [
    "## 设置feature和label文件所在的文件夹和相对路径"
   ]
  },
  {
   "cell_type": "code",
   "execution_count": 3,
   "metadata": {
    "ExecuteTime": {
     "end_time": "2022-05-18T06:47:21.212727Z",
     "start_time": "2022-05-18T06:47:21.200766Z"
    }
   },
   "outputs": [],
   "source": [
    "# the directory name of feature\n",
    "dir_feature = 'chi_FEFF'\n",
    "dir_label = 'coor'\n",
    "#\n",
    "dir_src = 'AuPd-4000_au150-0_DW_R0_cncr_WT_untar_pick'\n",
    "path_rela = './../../datasets setup'"
   ]
  },
  {
   "cell_type": "markdown",
   "metadata": {},
   "source": [
    "## 设置保存csv文件的文件夹和文件名"
   ]
  },
  {
   "cell_type": "code",
   "execution_count": 4,
   "metadata": {
    "ExecuteTime": {
     "end_time": "2022-05-18T06:47:21.228855Z",
     "start_time": "2022-05-18T06:47:21.216710Z"
    }
   },
   "outputs": [],
   "source": [
    "#  保存csv文件（路径、文件名）\n",
    "dir_csv = './../datasets_csv'\n",
    "file_csv  = 'au150_DW_' + dir_feature + '.csv'"
   ]
  },
  {
   "cell_type": "markdown",
   "metadata": {},
   "source": [
    "# 正文"
   ]
  },
  {
   "cell_type": "markdown",
   "metadata": {},
   "source": [
    "## 确定当前目录和工作目录"
   ]
  },
  {
   "cell_type": "code",
   "execution_count": 5,
   "metadata": {
    "ExecuteTime": {
     "end_time": "2022-05-18T06:47:21.244604Z",
     "start_time": "2022-05-18T06:47:21.230980Z"
    }
   },
   "outputs": [
    {
     "data": {
      "text/plain": [
       "'D:\\\\haifeng\\\\work_20211031\\\\XAS-ML\\\\code\\\\neural network module\\\\jupyternotebook_code'"
      ]
     },
     "execution_count": 5,
     "metadata": {},
     "output_type": "execute_result"
    }
   ],
   "source": [
    "path = os.path.abspath(os.curdir)\n",
    "path"
   ]
  },
  {
   "cell_type": "code",
   "execution_count": 6,
   "metadata": {
    "ExecuteTime": {
     "end_time": "2022-05-18T06:47:21.260563Z",
     "start_time": "2022-05-18T06:47:21.246600Z"
    }
   },
   "outputs": [
    {
     "data": {
      "text/plain": [
       "'./../../datasets setup\\\\AuPd-4000_au150-0_DW_R0_cncr_WT_untar_pick'"
      ]
     },
     "execution_count": 6,
     "metadata": {},
     "output_type": "execute_result"
    }
   ],
   "source": [
    "# 数据集文件夹\n",
    "path_src = os.path.join(path_rela, dir_src)\n",
    "path_src"
   ]
  },
  {
   "cell_type": "code",
   "execution_count": 7,
   "metadata": {
    "ExecuteTime": {
     "end_time": "2022-05-18T06:47:21.275523Z",
     "start_time": "2022-05-18T06:47:21.261559Z"
    }
   },
   "outputs": [
    {
     "data": {
      "text/plain": [
       "['100',\n",
       " '1000',\n",
       " '1100',\n",
       " '1200',\n",
       " '1300',\n",
       " '1400',\n",
       " '1500',\n",
       " '1600',\n",
       " '1700',\n",
       " '1800',\n",
       " '1900',\n",
       " '200',\n",
       " '2000',\n",
       " '2100',\n",
       " '2200',\n",
       " '2300',\n",
       " '2400',\n",
       " '2500',\n",
       " '2600',\n",
       " '2700',\n",
       " '2800',\n",
       " '2900',\n",
       " '300',\n",
       " '3000',\n",
       " '3100',\n",
       " '3200',\n",
       " '3300',\n",
       " '3400',\n",
       " '3500',\n",
       " '3600',\n",
       " '3700',\n",
       " '3800',\n",
       " '3900',\n",
       " '400',\n",
       " '4000',\n",
       " '500',\n",
       " '600',\n",
       " '700',\n",
       " '800',\n",
       " '900']"
      ]
     },
     "execution_count": 7,
     "metadata": {},
     "output_type": "execute_result"
    }
   ],
   "source": [
    "# 检查源文件夹是否存在，存在则列出其内部文件夹，不存在则打印错误\n",
    "exist = os.path.exists(path_src)\n",
    "if exist:\n",
    "    list_seed = os.listdir(path_src)\n",
    "else:\n",
    "    print()\n",
    "    print('** Error!! WT tared directory', dir_src, 'is not found!' )\n",
    "    print()\n",
    "    sys.exit()\n",
    "list_seed"
   ]
  },
  {
   "cell_type": "markdown",
   "metadata": {},
   "source": [
    "## 将feature和label所在的文件路径制成列表"
   ]
  },
  {
   "cell_type": "code",
   "execution_count": 8,
   "metadata": {
    "ExecuteTime": {
     "end_time": "2022-05-18T06:47:21.369814Z",
     "start_time": "2022-05-18T06:47:21.277517Z"
    }
   },
   "outputs": [],
   "source": [
    "path_list = []\n",
    "label_list = []\n",
    "#\n",
    "for dir_seed in list_seed:\n",
    "#\n",
    "#  种子文件夹的路径\n",
    "    path_seed = os.path.join(path_src,dir_seed)\n",
    "#  只看种子夹下的文件夹\n",
    "    result = os.path.isfile(path_seed)\n",
    "    if result:\n",
    "        print()\n",
    "        print('**',dir_seed,'is a file! **')\n",
    "        sys.exit()\n",
    "#\n",
    "    path_chi_FEFF = os.path.join(path_seed, dir_feature)\n",
    "    path_coor = os.path.join(path_seed, dir_label)\n",
    "#\n",
    "#  判断“chi_FEFF”、“coor”文件夹在seed文件夹下\n",
    "    result1 = os.path.isdir(path_chi_FEFF)\n",
    "    result2 = os.path.isdir(path_coor)\n",
    "    if result1 and result2:\n",
    "        list_chi_FEFF = os.listdir(path_chi_FEFF)\n",
    "        list_coor = os.listdir(path_coor)\n",
    "        N_chi_FEFF = len(list_chi_FEFF)\n",
    "        N_coor = len(list_coor)\n",
    "        if N_chi_FEFF == N_coor :\n",
    "            for i in range(N_chi_FEFF):\n",
    "                chi_FEFF = list_chi_FEFF[i]\n",
    "                coor = list_coor[i]\n",
    "                path_chi_FEFF_chi_FEFF = os.path.join(path_chi_FEFF, chi_FEFF)\n",
    "                path_coor_coor = os.path.join(path_coor, coor)\n",
    "                path_list.append(path_chi_FEFF_chi_FEFF)\n",
    "                label_list.append(path_coor_coor)\n",
    "        else:\n",
    "            print()\n",
    "            print('** Error!!', dir_seed, 'has different number of chi_FEFF/coor/cluster files !' )\n",
    "            sys.exit()\n",
    "    else:\n",
    "        print()\n",
    "        print('** Error!! This seed', dir_seed, 'has no chi_FEFF/coor/cluster !' )\n",
    "        sys.exit()"
   ]
  },
  {
   "cell_type": "markdown",
   "metadata": {},
   "source": [
    "# 将列表保存为csv文件"
   ]
  },
  {
   "cell_type": "code",
   "execution_count": 9,
   "metadata": {
    "ExecuteTime": {
     "end_time": "2022-05-18T06:47:21.433475Z",
     "start_time": "2022-05-18T06:47:21.371812Z"
    }
   },
   "outputs": [],
   "source": [
    "#  保存csv文件（路径、文件名）\n",
    "path_data = os.path.join(os.curdir, dir_csv)\n",
    "os.makedirs(path_data, exist_ok=True)\n",
    "#\n",
    "path_csv = os.path.join(path_data,file_csv)\n",
    "df_samples = pd.DataFrame({'file_path':path_list,'label_path':label_list})\n",
    "#\n",
    "# 将df_samples转化为csv文件\n",
    "df_samples.to_csv(path_csv)"
   ]
  },
  {
   "cell_type": "code",
   "execution_count": 10,
   "metadata": {
    "ExecuteTime": {
     "end_time": "2022-05-18T06:47:21.479358Z",
     "start_time": "2022-05-18T06:47:21.445451Z"
    },
    "scrolled": true
   },
   "outputs": [
    {
     "data": {
      "text/html": [
       "<div>\n",
       "<style scoped>\n",
       "    .dataframe tbody tr th:only-of-type {\n",
       "        vertical-align: middle;\n",
       "    }\n",
       "\n",
       "    .dataframe tbody tr th {\n",
       "        vertical-align: top;\n",
       "    }\n",
       "\n",
       "    .dataframe thead th {\n",
       "        text-align: right;\n",
       "    }\n",
       "</style>\n",
       "<table border=\"1\" class=\"dataframe\">\n",
       "  <thead>\n",
       "    <tr style=\"text-align: right;\">\n",
       "      <th></th>\n",
       "      <th>file_path</th>\n",
       "      <th>label_path</th>\n",
       "    </tr>\n",
       "  </thead>\n",
       "  <tbody>\n",
       "    <tr>\n",
       "      <th>0</th>\n",
       "      <td>./../../datasets setup\\AuPd-4000_au150-0_DW_R0...</td>\n",
       "      <td>./../../datasets setup\\AuPd-4000_au150-0_DW_R0...</td>\n",
       "    </tr>\n",
       "    <tr>\n",
       "      <th>1</th>\n",
       "      <td>./../../datasets setup\\AuPd-4000_au150-0_DW_R0...</td>\n",
       "      <td>./../../datasets setup\\AuPd-4000_au150-0_DW_R0...</td>\n",
       "    </tr>\n",
       "    <tr>\n",
       "      <th>2</th>\n",
       "      <td>./../../datasets setup\\AuPd-4000_au150-0_DW_R0...</td>\n",
       "      <td>./../../datasets setup\\AuPd-4000_au150-0_DW_R0...</td>\n",
       "    </tr>\n",
       "    <tr>\n",
       "      <th>3</th>\n",
       "      <td>./../../datasets setup\\AuPd-4000_au150-0_DW_R0...</td>\n",
       "      <td>./../../datasets setup\\AuPd-4000_au150-0_DW_R0...</td>\n",
       "    </tr>\n",
       "    <tr>\n",
       "      <th>4</th>\n",
       "      <td>./../../datasets setup\\AuPd-4000_au150-0_DW_R0...</td>\n",
       "      <td>./../../datasets setup\\AuPd-4000_au150-0_DW_R0...</td>\n",
       "    </tr>\n",
       "    <tr>\n",
       "      <th>...</th>\n",
       "      <td>...</td>\n",
       "      <td>...</td>\n",
       "    </tr>\n",
       "    <tr>\n",
       "      <th>5961</th>\n",
       "      <td>./../../datasets setup\\AuPd-4000_au150-0_DW_R0...</td>\n",
       "      <td>./../../datasets setup\\AuPd-4000_au150-0_DW_R0...</td>\n",
       "    </tr>\n",
       "    <tr>\n",
       "      <th>5962</th>\n",
       "      <td>./../../datasets setup\\AuPd-4000_au150-0_DW_R0...</td>\n",
       "      <td>./../../datasets setup\\AuPd-4000_au150-0_DW_R0...</td>\n",
       "    </tr>\n",
       "    <tr>\n",
       "      <th>5963</th>\n",
       "      <td>./../../datasets setup\\AuPd-4000_au150-0_DW_R0...</td>\n",
       "      <td>./../../datasets setup\\AuPd-4000_au150-0_DW_R0...</td>\n",
       "    </tr>\n",
       "    <tr>\n",
       "      <th>5964</th>\n",
       "      <td>./../../datasets setup\\AuPd-4000_au150-0_DW_R0...</td>\n",
       "      <td>./../../datasets setup\\AuPd-4000_au150-0_DW_R0...</td>\n",
       "    </tr>\n",
       "    <tr>\n",
       "      <th>5965</th>\n",
       "      <td>./../../datasets setup\\AuPd-4000_au150-0_DW_R0...</td>\n",
       "      <td>./../../datasets setup\\AuPd-4000_au150-0_DW_R0...</td>\n",
       "    </tr>\n",
       "  </tbody>\n",
       "</table>\n",
       "<p>5966 rows × 2 columns</p>\n",
       "</div>"
      ],
      "text/plain": [
       "                                              file_path  \\\n",
       "0     ./../../datasets setup\\AuPd-4000_au150-0_DW_R0...   \n",
       "1     ./../../datasets setup\\AuPd-4000_au150-0_DW_R0...   \n",
       "2     ./../../datasets setup\\AuPd-4000_au150-0_DW_R0...   \n",
       "3     ./../../datasets setup\\AuPd-4000_au150-0_DW_R0...   \n",
       "4     ./../../datasets setup\\AuPd-4000_au150-0_DW_R0...   \n",
       "...                                                 ...   \n",
       "5961  ./../../datasets setup\\AuPd-4000_au150-0_DW_R0...   \n",
       "5962  ./../../datasets setup\\AuPd-4000_au150-0_DW_R0...   \n",
       "5963  ./../../datasets setup\\AuPd-4000_au150-0_DW_R0...   \n",
       "5964  ./../../datasets setup\\AuPd-4000_au150-0_DW_R0...   \n",
       "5965  ./../../datasets setup\\AuPd-4000_au150-0_DW_R0...   \n",
       "\n",
       "                                             label_path  \n",
       "0     ./../../datasets setup\\AuPd-4000_au150-0_DW_R0...  \n",
       "1     ./../../datasets setup\\AuPd-4000_au150-0_DW_R0...  \n",
       "2     ./../../datasets setup\\AuPd-4000_au150-0_DW_R0...  \n",
       "3     ./../../datasets setup\\AuPd-4000_au150-0_DW_R0...  \n",
       "4     ./../../datasets setup\\AuPd-4000_au150-0_DW_R0...  \n",
       "...                                                 ...  \n",
       "5961  ./../../datasets setup\\AuPd-4000_au150-0_DW_R0...  \n",
       "5962  ./../../datasets setup\\AuPd-4000_au150-0_DW_R0...  \n",
       "5963  ./../../datasets setup\\AuPd-4000_au150-0_DW_R0...  \n",
       "5964  ./../../datasets setup\\AuPd-4000_au150-0_DW_R0...  \n",
       "5965  ./../../datasets setup\\AuPd-4000_au150-0_DW_R0...  \n",
       "\n",
       "[5966 rows x 2 columns]"
      ]
     },
     "execution_count": 10,
     "metadata": {},
     "output_type": "execute_result"
    }
   ],
   "source": [
    "df_samples"
   ]
  },
  {
   "cell_type": "code",
   "execution_count": 11,
   "metadata": {
    "ExecuteTime": {
     "end_time": "2022-05-18T06:47:21.495354Z",
     "start_time": "2022-05-18T06:47:21.482354Z"
    },
    "scrolled": false
   },
   "outputs": [
    {
     "data": {
      "text/plain": [
       "'./../../datasets setup\\\\AuPd-4000_au150-0_DW_R0_cncr_WT_untar_pick\\\\100\\\\chi_FEFF\\\\chi_FEFF_1.dat'"
      ]
     },
     "execution_count": 11,
     "metadata": {},
     "output_type": "execute_result"
    }
   ],
   "source": [
    "df_samples['file_path'][0]"
   ]
  },
  {
   "cell_type": "code",
   "execution_count": 12,
   "metadata": {
    "ExecuteTime": {
     "end_time": "2022-05-18T06:47:21.511324Z",
     "start_time": "2022-05-18T06:47:21.499306Z"
    }
   },
   "outputs": [
    {
     "data": {
      "text/plain": [
       "'./../../datasets setup\\\\AuPd-4000_au150-0_DW_R0_cncr_WT_untar_pick\\\\100\\\\coor\\\\coor_1.dat'"
      ]
     },
     "execution_count": 12,
     "metadata": {},
     "output_type": "execute_result"
    }
   ],
   "source": [
    "df_samples['label_path'][0]"
   ]
  },
  {
   "cell_type": "code",
   "execution_count": null,
   "metadata": {},
   "outputs": [],
   "source": []
  }
 ],
 "metadata": {
  "colab": {
   "collapsed_sections": [],
   "name": "多元回归问题 0818",
   "provenance": [],
   "toc_visible": true
  },
  "kernelspec": {
   "display_name": "Python 3 (ipykernel)",
   "language": "python",
   "name": "python3"
  },
  "language_info": {
   "codemirror_mode": {
    "name": "ipython",
    "version": 3
   },
   "file_extension": ".py",
   "mimetype": "text/x-python",
   "name": "python",
   "nbconvert_exporter": "python",
   "pygments_lexer": "ipython3",
   "version": "3.9.12"
  },
  "toc": {
   "base_numbering": 1,
   "nav_menu": {},
   "number_sections": true,
   "sideBar": true,
   "skip_h1_title": false,
   "title_cell": "Table of Contents",
   "title_sidebar": "Contents",
   "toc_cell": false,
   "toc_position": {
    "height": "calc(100% - 180px)",
    "left": "10px",
    "top": "150px",
    "width": "230.4px"
   },
   "toc_section_display": true,
   "toc_window_display": true
  },
  "varInspector": {
   "cols": {
    "lenName": 16,
    "lenType": 16,
    "lenVar": 40
   },
   "kernels_config": {
    "python": {
     "delete_cmd_postfix": "",
     "delete_cmd_prefix": "del ",
     "library": "var_list.py",
     "varRefreshCmd": "print(var_dic_list())"
    },
    "r": {
     "delete_cmd_postfix": ") ",
     "delete_cmd_prefix": "rm(",
     "library": "var_list.r",
     "varRefreshCmd": "cat(var_dic_list()) "
    }
   },
   "types_to_exclude": [
    "module",
    "function",
    "builtin_function_or_method",
    "instance",
    "_Feature"
   ],
   "window_display": false
  }
 },
 "nbformat": 4,
 "nbformat_minor": 1
}
