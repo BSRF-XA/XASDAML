{
 "cells": [
  {
   "cell_type": "markdown",
   "metadata": {},
   "source": [
    "## 本程序读取train、validation、test的feature、label文件（在“datasets”文件夹下），然后构建网络进行超参数训练。输出在文件夹“hyper-param_tuning”中。"
   ]
  },
  {
   "cell_type": "markdown",
   "metadata": {},
   "source": [
    "last update: 2022.5.18"
   ]
  },
  {
   "cell_type": "markdown",
   "metadata": {},
   "source": [
    "相对于24版本，将文件/文件夹参数提前到前面进行设置，并调整了输入和输出文件夹相对于本代码的相对路径"
   ]
  },
  {
   "cell_type": "markdown",
   "metadata": {},
   "source": [
    "contacts：zhaohf@ihep.ac.cn"
   ]
  },
  {
   "cell_type": "markdown",
   "metadata": {},
   "source": [
    "# 配置环境"
   ]
  },
  {
   "cell_type": "markdown",
   "metadata": {},
   "source": [
    "## 导入所需模块"
   ]
  },
  {
   "cell_type": "code",
   "execution_count": 1,
   "metadata": {
    "ExecuteTime": {
     "end_time": "2022-05-18T09:43:24.690722Z",
     "start_time": "2022-05-18T09:43:19.786699Z"
    }
   },
   "outputs": [],
   "source": [
    "import os\n",
    "import sys\n",
    "assert sys.version_info >= (3, 5)\n",
    "#\n",
    "import pandas as pd\n",
    "import numpy as np\n",
    "#\n",
    "# TensorFlow ≥2.0 is required\n",
    "import tensorflow as tf\n",
    "assert tf.__version__ >= \"2.0\"\n",
    "import sklearn\n",
    "\n",
    "from tensorflow import keras\n",
    "from tensorflow.keras import optimizers\n",
    "#\n",
    "# pydot_ng and graphviz are for tf.keras.utils.plot_model\n",
    "# note that installing pydot_ng is 'pydot-ng'\n",
    "# note that 在windows下不可以使用pip install graphviz 下载graphviz安装包，\n",
    "# 要去https://graphviz.gitlab.io/下载windows版本的安装包，安装好之后在环境变量中添加对应的路径即可！！！\n",
    "import graphviz\n",
    "import pydot\n",
    "import pydot_ng\n",
    "#\n",
    "import time"
   ]
  },
  {
   "cell_type": "markdown",
   "metadata": {},
   "source": [
    "输出导入模板的版本。"
   ]
  },
  {
   "cell_type": "code",
   "execution_count": 2,
   "metadata": {
    "ExecuteTime": {
     "end_time": "2022-05-18T09:43:24.738774Z",
     "start_time": "2022-05-18T09:43:24.725634Z"
    }
   },
   "outputs": [
    {
     "name": "stdout",
     "output_type": "stream",
     "text": [
      "python version: 3.9.12 (main, Apr  4 2022, 05:22:27) [MSC v.1916 64 bit (AMD64)]\n",
      "TensorFlow version: 2.7.0\n",
      "sciket learn version: 1.0.2\n",
      "numpy version: 1.21.5\n",
      "panda version: 1.4.2\n",
      "graphviz version: 0.19.1\n",
      "pydot version: 1.4.2\n",
      "pydot_ng version: 2.0.0\n"
     ]
    }
   ],
   "source": [
    "print('python version:',sys.version)\n",
    "print('TensorFlow version:',tf.__version__)\n",
    "print('sciket learn version:',sklearn.__version__)\n",
    "print('numpy version:',np.__version__)\n",
    "print('panda version:',pd.__version__)\n",
    "print('graphviz version:',graphviz.__version__)\n",
    "print('pydot version:',pydot.__version__)\n",
    "print('pydot_ng version:',pydot_ng.__version__)\n",
    "#\n",
    "#print('matplotlib version:',matplotlib.__version__)\n",
    "#print('time version:',time.__version__)"
   ]
  },
  {
   "cell_type": "markdown",
   "metadata": {},
   "source": [
    "# 设置参数"
   ]
  },
  {
   "cell_type": "markdown",
   "metadata": {},
   "source": [
    "## 配置输入文件夹"
   ]
  },
  {
   "cell_type": "markdown",
   "metadata": {},
   "source": [
    "设置train、validation、test的文件夹路径和文件名"
   ]
  },
  {
   "cell_type": "code",
   "execution_count": 3,
   "metadata": {
    "ExecuteTime": {
     "end_time": "2022-05-18T09:43:34.462624Z",
     "start_time": "2022-05-18T09:43:34.451510Z"
    }
   },
   "outputs": [],
   "source": [
    "dir_data = './../datasets'\n",
    "file_train = ['Au_chi_train.txt', 'Au_cn_train.txt']\n",
    "file_valid = ['Au_chi_valid.txt', 'Au_cn_valid.txt']\n",
    "file_test = ['Au_chi_test.txt', 'Au_cn_test.txt']"
   ]
  },
  {
   "cell_type": "markdown",
   "metadata": {},
   "source": [
    "## 配置输出文件夹"
   ]
  },
  {
   "cell_type": "markdown",
   "metadata": {},
   "source": [
    "所有输出文件都保存在一个文件夹内"
   ]
  },
  {
   "cell_type": "code",
   "execution_count": 4,
   "metadata": {
    "ExecuteTime": {
     "end_time": "2022-05-18T09:43:41.083938Z",
     "start_time": "2022-05-18T09:43:41.074460Z"
    }
   },
   "outputs": [],
   "source": [
    "dir_output = './../hyper-param_tuning'"
   ]
  },
  {
   "cell_type": "markdown",
   "metadata": {},
   "source": [
    "设置日志文件的文件夹，为TensorBoard使用。"
   ]
  },
  {
   "cell_type": "code",
   "execution_count": 5,
   "metadata": {
    "ExecuteTime": {
     "end_time": "2022-05-18T09:43:44.333179Z",
     "start_time": "2022-05-18T09:43:44.315194Z"
    }
   },
   "outputs": [],
   "source": [
    "dir_log = dir_output + './my_logs'"
   ]
  },
  {
   "cell_type": "markdown",
   "metadata": {},
   "source": [
    "## 设置label标签，用于后面模型训练、绘图"
   ]
  },
  {
   "cell_type": "code",
   "execution_count": 6,
   "metadata": {
    "ExecuteTime": {
     "end_time": "2022-05-18T09:43:52.463502Z",
     "start_time": "2022-05-18T09:43:52.445551Z"
    }
   },
   "outputs": [],
   "source": [
    "label_index = 'CN'"
   ]
  },
  {
   "cell_type": "markdown",
   "metadata": {},
   "source": [
    "## 设置输入超参数训练模型的关键词，用于命名给出训练过程信息的文件名"
   ]
  },
  {
   "cell_type": "code",
   "execution_count": 7,
   "metadata": {
    "ExecuteTime": {
     "end_time": "2022-05-18T09:43:56.213018Z",
     "start_time": "2022-05-18T09:43:56.201051Z"
    }
   },
   "outputs": [],
   "source": [
    "model_pre = 'au150_DW_cn_3level_neuron'"
   ]
  },
  {
   "cell_type": "markdown",
   "metadata": {},
   "source": [
    "## 有关网络的参数设置，在正文网络超参数训练中进行设置——未来进行调整"
   ]
  },
  {
   "cell_type": "markdown",
   "metadata": {},
   "source": [
    "# 部分函数模块"
   ]
  },
  {
   "cell_type": "markdown",
   "metadata": {},
   "source": [
    "## 设置绘图格式和保存图片的模块"
   ]
  },
  {
   "cell_type": "markdown",
   "metadata": {},
   "source": [
    "注意这里的save_fig与原来神经网络中的有所不同，特别是路径和文件名位置换了。"
   ]
  },
  {
   "cell_type": "code",
   "execution_count": 8,
   "metadata": {
    "ExecuteTime": {
     "end_time": "2022-05-18T09:44:07.739666Z",
     "start_time": "2022-05-18T09:44:07.072966Z"
    }
   },
   "outputs": [],
   "source": [
    "# To plot pretty figures\n",
    "# %matplotlib具体作用是调用matplotlib.pyplot的绘图函数plot()进行绘图时，\n",
    "# 或生成一个figure画布时，可以直接在你的python console里面生成图像。\n",
    "%matplotlib inline\n",
    "import matplotlib as mpl\n",
    "import matplotlib.pyplot as plt\n",
    "mpl.rc('axes', labelsize=14)   # matplotlib.rc 什么意思没找到\n",
    "mpl.rc('xtick', labelsize=12)\n",
    "mpl.rc('ytick', labelsize=12)\n",
    "\n",
    "def save_fig(IMAGES_PATH, fig_id, tight_layout=True, fig_extension=\"png\", resolution=300):\n",
    "    os.makedirs(IMAGES_PATH, exist_ok=True)\n",
    "    path = os.path.join(IMAGES_PATH, fig_id + \".\" + fig_extension)\n",
    "    print(\"Saving figure\", fig_id)\n",
    "    if tight_layout:\n",
    "        plt.tight_layout()\n",
    "    plt.savefig(path, format=fig_extension, dpi=resolution)\n",
    "#    plt.show()\n",
    "\n",
    "# Ignore useless warnings (see SciPy issue #5998)\n",
    "import warnings\n",
    "warnings.filterwarnings(action=\"ignore\", message=\"^internal gelsd\")"
   ]
  },
  {
   "cell_type": "markdown",
   "metadata": {},
   "source": [
    "## 预测分析函数"
   ]
  },
  {
   "cell_type": "code",
   "execution_count": 9,
   "metadata": {
    "ExecuteTime": {
     "end_time": "2022-05-18T09:44:14.081549Z",
     "start_time": "2022-05-18T09:44:14.066589Z"
    }
   },
   "outputs": [],
   "source": [
    "def pre_ana(pre, label_test):\n",
    "    \"\"\"\n",
    "    \"\"\"\n",
    "    diff = pre - label_test\n",
    "    diff_abs = np.abs(diff)\n",
    "    diff2 = np.square(diff)  # = diff**2\n",
    "    #pre_var_mean = np.mean(diff2, axis=0)\n",
    "    pre_var_mean = np.mean(diff2)\n",
    "    pre_var_std = np.sqrt(pre_var_mean)  # = pre_var_mean**0.5\n",
    "    err = diff / label_test\n",
    "    err_abs = np.abs(err)\n",
    "    attr_dict3 = {\n",
    "        'diff_Max': np.max(diff),\n",
    "        'diff_Min': np.min(diff),\n",
    "        '|diff|_Mean(MAE)': np.mean(diff_abs),\n",
    "        '|diff|_Max': np.max(diff_abs),\n",
    "        '|diff|_Min': np.min(diff_abs),\n",
    "        'pre_Var(MSE)': pre_var_mean,\n",
    "        'pre_Std(RMSE)': pre_var_std,\n",
    "        'Error_mean': np.mean(err),\n",
    "        'Error_max': np.max(err),\n",
    "        'Error_min': np.min(err),\n",
    "        '|Error|_mean(MAPE)': np.mean(err_abs),\n",
    "        '|Error|_max': np.max(err_abs),\n",
    "        '|Error|_min': np.min(err_abs)\n",
    "    }\n",
    "    return attr_dict3, err"
   ]
  },
  {
   "cell_type": "markdown",
   "metadata": {},
   "source": [
    "## 预测分析绘图函数"
   ]
  },
  {
   "cell_type": "code",
   "execution_count": 10,
   "metadata": {
    "ExecuteTime": {
     "end_time": "2022-05-18T09:44:18.229228Z",
     "start_time": "2022-05-18T09:44:18.212266Z"
    }
   },
   "outputs": [],
   "source": [
    "def plot_PredictionError(ylim,ind=0):\n",
    "    \"\"\"\n",
    "    \"\"\"\n",
    "#\n",
    "    prediction_error = model_pre + \"_prediction_error\" + f\"_{ind}\"\n",
    "    plt.plot(err, label = f'{label_index}')\n",
    "    plt.xlabel('Test series')\n",
    "    plt.ylabel('Error')\n",
    "    plt.ylim(ylim)\n",
    "    plt.legend(loc='upper left',fontsize=12)\n",
    "    plt.title(f\"{model_pre}\\nPrediction Error\", fontsize=16)\n",
    "    save_fig(path_plot, prediction_error)"
   ]
  },
  {
   "cell_type": "markdown",
   "metadata": {},
   "source": [
    "## 一些模型构建的函数、图形绘制函数，为了阅读方便，放置于正文中。"
   ]
  },
  {
   "cell_type": "markdown",
   "metadata": {},
   "source": [
    "# 正文"
   ]
  },
  {
   "cell_type": "markdown",
   "metadata": {},
   "source": [
    "## 确定当前目录和工作目录"
   ]
  },
  {
   "cell_type": "code",
   "execution_count": 11,
   "metadata": {
    "ExecuteTime": {
     "end_time": "2022-05-18T09:44:21.467328Z",
     "start_time": "2022-05-18T09:44:21.456358Z"
    }
   },
   "outputs": [
    {
     "data": {
      "text/plain": [
       "'D:\\\\haifeng\\\\work_20211031\\\\XAS-ML\\\\code\\\\neural network module\\\\jupyternotebook_code'"
      ]
     },
     "execution_count": 11,
     "metadata": {},
     "output_type": "execute_result"
    }
   ],
   "source": [
    "import os\n",
    "path = os.path.abspath(os.curdir)\n",
    "path"
   ]
  },
  {
   "cell_type": "markdown",
   "metadata": {},
   "source": [
    "## 检查输入文件是否存在"
   ]
  },
  {
   "cell_type": "code",
   "execution_count": 12,
   "metadata": {
    "ExecuteTime": {
     "end_time": "2022-05-18T09:44:24.242058Z",
     "start_time": "2022-05-18T09:44:24.224106Z"
    }
   },
   "outputs": [],
   "source": [
    "path_dir_data = os.path.join(path,dir_data)\n",
    "file_data = file_train + file_valid + file_test\n",
    "#\n",
    "for i in range(len(file_data)):\n",
    "    path_file = os.path.join(path_dir_data,file_data[i])\n",
    "#\n",
    "# 检查csv是否存在，若不存在，报错\n",
    "    exist = os.path.exists(path_file)\n",
    "    if not exist:\n",
    "        print()\n",
    "        print(f\"** Error!! cannot find file {file_data[i]} in directory {dir_data}! **\")\n",
    "        print()\n",
    "        sys.exit()"
   ]
  },
  {
   "cell_type": "markdown",
   "metadata": {},
   "source": [
    "## 读取train、valid等文件，制成数据集。"
   ]
  },
  {
   "cell_type": "code",
   "execution_count": 13,
   "metadata": {
    "ExecuteTime": {
     "end_time": "2022-05-18T09:44:29.585467Z",
     "start_time": "2022-05-18T09:44:27.885528Z"
    }
   },
   "outputs": [],
   "source": [
    "import pandas as pd\n",
    "for i in range(len(file_data)):\n",
    "    path_file = os.path.join(path_dir_data,file_data[i])\n",
    "#   df.values, df.as_matrix() and np.array(df) all works.\n",
    "    data_df = pd.read_csv(path_file,header=None,delim_whitespace=True)\n",
    "#\n",
    "    if i == 0 : feature_train = data_df.values\n",
    "    if i == 1 : label_train = data_df.values\n",
    "    if i == 2 : feature_valid = data_df.values\n",
    "    if i == 3 : label_valid = data_df.values\n",
    "    if i == 4 : feature_test = data_df.values\n",
    "    if i == 5 : label_test = data_df.values"
   ]
  },
  {
   "cell_type": "code",
   "execution_count": 14,
   "metadata": {
    "ExecuteTime": {
     "end_time": "2022-05-18T09:44:29.695364Z",
     "start_time": "2022-05-18T09:44:29.683397Z"
    }
   },
   "outputs": [
    {
     "name": "stdout",
     "output_type": "stream",
     "text": [
      "(4176, 400) (4176, 1)\n",
      "(1193, 400) (1193, 1)\n",
      "(597, 400) (597, 1)\n"
     ]
    }
   ],
   "source": [
    "print(feature_train.shape, label_train.shape)\n",
    "print(feature_valid.shape, label_valid.shape)\n",
    "print(feature_test.shape, label_test.shape)"
   ]
  },
  {
   "cell_type": "code",
   "execution_count": 15,
   "metadata": {
    "ExecuteTime": {
     "end_time": "2022-05-18T09:44:31.372670Z",
     "start_time": "2022-05-18T09:44:31.355704Z"
    }
   },
   "outputs": [
    {
     "data": {
      "text/plain": [
       "array([[ 3.204381e-01,  3.179742e-01,  3.107868e-01, ...,  1.588940e-06,\n",
       "         1.217988e-06,  8.223206e-07],\n",
       "       [ 2.272433e-01,  2.254551e-01,  2.202515e-01, ..., -1.081169e-06,\n",
       "        -1.537145e-06, -1.827965e-06],\n",
       "       [ 2.434066e-01,  2.416660e-01,  2.365912e-01, ...,  1.017455e-06,\n",
       "         9.860825e-07,  8.813536e-07],\n",
       "       ...,\n",
       "       [ 2.441422e-01,  2.422082e-01,  2.365669e-01, ..., -1.025576e-06,\n",
       "        -8.874537e-07, -7.067118e-07],\n",
       "       [ 7.773254e-02,  7.687764e-02,  7.436020e-02, ...,  3.263314e-07,\n",
       "         2.805082e-07,  2.240872e-07],\n",
       "       [ 3.252115e-01,  3.225673e-01,  3.148726e-01, ...,  7.640049e-07,\n",
       "         1.259443e-06,  1.596963e-06]])"
      ]
     },
     "execution_count": 15,
     "metadata": {},
     "output_type": "execute_result"
    }
   ],
   "source": [
    "feature_train"
   ]
  },
  {
   "cell_type": "code",
   "execution_count": 16,
   "metadata": {
    "ExecuteTime": {
     "end_time": "2022-05-18T09:44:32.441936Z",
     "start_time": "2022-05-18T09:44:32.424981Z"
    }
   },
   "outputs": [
    {
     "data": {
      "text/plain": [
       "array([[ 8],\n",
       "       [ 9],\n",
       "       [ 8],\n",
       "       ...,\n",
       "       [12],\n",
       "       [12],\n",
       "       [ 8]], dtype=int64)"
      ]
     },
     "execution_count": 16,
     "metadata": {},
     "output_type": "execute_result"
    }
   ],
   "source": [
    "label_valid"
   ]
  },
  {
   "cell_type": "markdown",
   "metadata": {},
   "source": [
    "设置网络训练参数值，输入数组维数"
   ]
  },
  {
   "cell_type": "code",
   "execution_count": 17,
   "metadata": {
    "ExecuteTime": {
     "end_time": "2022-05-18T09:44:38.746325Z",
     "start_time": "2022-05-18T09:44:38.740383Z"
    }
   },
   "outputs": [
    {
     "data": {
      "text/plain": [
       "(400,)"
      ]
     },
     "execution_count": 17,
     "metadata": {},
     "output_type": "execute_result"
    }
   ],
   "source": [
    "input_shape = feature_train.shape[1:]\n",
    "input_shape"
   ]
  },
  {
   "cell_type": "markdown",
   "metadata": {},
   "source": [
    "## 设置一系列文件输出目录"
   ]
  },
  {
   "cell_type": "markdown",
   "metadata": {},
   "source": [
    "为与以前代码一致，故保留原有代码"
   ]
  },
  {
   "cell_type": "code",
   "execution_count": 18,
   "metadata": {
    "ExecuteTime": {
     "end_time": "2022-05-18T09:44:44.061559Z",
     "start_time": "2022-05-18T09:44:44.053554Z"
    }
   },
   "outputs": [],
   "source": [
    "#dir_model = 'model'\n",
    "dir_model = dir_output\n",
    "path_model = os.path.join(os.curdir, dir_model)\n",
    "os.makedirs(path_model, exist_ok=True)"
   ]
  },
  {
   "cell_type": "markdown",
   "metadata": {},
   "source": [
    "设置文件夹放置图片"
   ]
  },
  {
   "cell_type": "code",
   "execution_count": 19,
   "metadata": {
    "ExecuteTime": {
     "end_time": "2022-05-18T09:44:45.838302Z",
     "start_time": "2022-05-18T09:44:45.829326Z"
    }
   },
   "outputs": [],
   "source": [
    "#dir_images = 'images'\n",
    "dir_images = dir_output\n",
    "path_images = os.path.join(os.curdir, dir_images)\n",
    "os.makedirs(path_images, exist_ok=True)"
   ]
  },
  {
   "cell_type": "markdown",
   "metadata": {},
   "source": [
    "设置文件夹放置分析结果"
   ]
  },
  {
   "cell_type": "code",
   "execution_count": 20,
   "metadata": {
    "ExecuteTime": {
     "end_time": "2022-05-18T09:44:47.491555Z",
     "start_time": "2022-05-18T09:44:47.473602Z"
    }
   },
   "outputs": [],
   "source": [
    "#dir_ana = 'analysis'\n",
    "dir_ana = dir_output\n",
    "path_ana = os.path.join(os.curdir, dir_ana)\n",
    "os.makedirs(path_ana, exist_ok=True)"
   ]
  },
  {
   "cell_type": "markdown",
   "metadata": {},
   "source": [
    "设置文件夹放置预测结果"
   ]
  },
  {
   "cell_type": "code",
   "execution_count": 21,
   "metadata": {
    "ExecuteTime": {
     "end_time": "2022-05-18T09:44:49.603947Z",
     "start_time": "2022-05-18T09:44:49.587955Z"
    }
   },
   "outputs": [],
   "source": [
    "#dir_pre = 'data'\n",
    "dir_pre = dir_output\n",
    "path_pre = os.path.join(os.curdir, dir_pre)\n",
    "os.makedirs(path_pre, exist_ok=True)"
   ]
  },
  {
   "cell_type": "markdown",
   "metadata": {},
   "source": [
    "设置日志文件的文件夹，为TensorBoard使用。"
   ]
  },
  {
   "cell_type": "code",
   "execution_count": 22,
   "metadata": {
    "ExecuteTime": {
     "end_time": "2022-05-18T09:44:52.442097Z",
     "start_time": "2022-05-18T09:44:52.432126Z"
    }
   },
   "outputs": [],
   "source": [
    "# 设置日志文件的文件夹\n",
    "root_logdir = os.path.join(os.curdir, dir_log)\n",
    "#print(root_logdir)\n",
    "#\n",
    "def get_run_logdir():\n",
    "#    import time\n",
    "    run_id = time.strftime(\"run_%Y_%m_%d-%H_%M_%S\")\n",
    "    return os.path.join(root_logdir, run_id)"
   ]
  },
  {
   "cell_type": "markdown",
   "metadata": {},
   "source": [
    "## 构建模型（神经网络），进行超参数调节"
   ]
  },
  {
   "cell_type": "markdown",
   "metadata": {},
   "source": [
    "### 模型1"
   ]
  },
  {
   "cell_type": "markdown",
   "metadata": {},
   "source": [
    "#### 参量设置"
   ]
  },
  {
   "cell_type": "code",
   "execution_count": 23,
   "metadata": {
    "ExecuteTime": {
     "end_time": "2022-05-18T09:45:02.527495Z",
     "start_time": "2022-05-18T09:45:02.515527Z"
    }
   },
   "outputs": [],
   "source": [
    "import time\n",
    "model_time = time.strftime(\"run_%Y_%m_%d-%H_%M_%S\")\n",
    "model_pre_time = model_pre + '_' + model_time\n",
    "path_plot = os.path.join(path_images, model_pre_time)\n",
    "os.makedirs(path_plot, exist_ok=True)"
   ]
  },
  {
   "cell_type": "code",
   "execution_count": 24,
   "metadata": {
    "ExecuteTime": {
     "end_time": "2022-05-18T09:45:07.770165Z",
     "start_time": "2022-05-18T09:45:07.759194Z"
    }
   },
   "outputs": [],
   "source": [
    "file_fitinfo =  model_pre_time + '_fitinfo.txt'\n",
    "path_fitinfo = os.path.join(path_ana,file_fitinfo)"
   ]
  },
  {
   "cell_type": "code",
   "execution_count": 25,
   "metadata": {
    "ExecuteTime": {
     "end_time": "2022-05-18T09:45:08.555368Z",
     "start_time": "2022-05-18T09:45:08.537454Z"
    }
   },
   "outputs": [
    {
     "name": "stdout",
     "output_type": "stream",
     "text": [
      "Model : au150_DW_cn_3level_neuron\n"
     ]
    }
   ],
   "source": [
    "fout = open(path_fitinfo,'w')\n",
    "print(f\"Model : {model_pre}\")\n",
    "print(f\"Model : {model_pre}\", file=fout)"
   ]
  },
  {
   "cell_type": "code",
   "execution_count": 26,
   "metadata": {
    "ExecuteTime": {
     "end_time": "2022-05-18T09:45:15.643791Z",
     "start_time": "2022-05-18T09:45:15.626795Z"
    }
   },
   "outputs": [],
   "source": [
    "# Set random seed to be used as argument for other functions.\n",
    "rseed = 42"
   ]
  },
  {
   "cell_type": "code",
   "execution_count": 27,
   "metadata": {
    "ExecuteTime": {
     "end_time": "2022-05-18T09:45:17.301595Z",
     "start_time": "2022-05-18T09:45:17.284639Z"
    }
   },
   "outputs": [
    {
     "name": "stdout",
     "output_type": "stream",
     "text": [
      "===================================\n",
      "rseed : 42\n",
      "Time : run_2022_05_18-17_45_02\n"
     ]
    }
   ],
   "source": [
    "print(f\"===================================\")\n",
    "print(f\"\\n===================================\", file=fout)\n",
    "print(f\"rseed : {rseed}\")\n",
    "print(f\"rseed : {rseed}\",file=fout)\n",
    "print(f\"Time : {model_time}\")\n",
    "print(f\"Time : {model_time}\",file=fout)"
   ]
  },
  {
   "cell_type": "code",
   "execution_count": 28,
   "metadata": {
    "ExecuteTime": {
     "end_time": "2022-05-18T09:45:19.324586Z",
     "start_time": "2022-05-18T09:45:19.304614Z"
    }
   },
   "outputs": [],
   "source": [
    "import tensorflow as tf\n",
    "assert tf.__version__ >= \"2.0\"\n",
    "from tensorflow import keras\n",
    "from tensorflow.keras import optimizers\n",
    "keras.backend.clear_session()\n",
    "np.random.seed(rseed)\n",
    "tf.random.set_seed(rseed)"
   ]
  },
  {
   "cell_type": "code",
   "execution_count": 29,
   "metadata": {
    "ExecuteTime": {
     "end_time": "2022-05-18T09:45:21.279507Z",
     "start_time": "2022-05-18T09:45:21.262552Z"
    }
   },
   "outputs": [
    {
     "data": {
      "text/plain": [
       "'.\\\\./../hyper-param_tuning./my_logs\\\\run_2022_05_18-17_45_21'"
      ]
     },
     "execution_count": 29,
     "metadata": {},
     "output_type": "execute_result"
    }
   ],
   "source": [
    "run_logdir = get_run_logdir()\n",
    "run_logdir"
   ]
  },
  {
   "cell_type": "markdown",
   "metadata": {},
   "source": [
    "#### 构建模型"
   ]
  },
  {
   "cell_type": "code",
   "execution_count": 30,
   "metadata": {
    "ExecuteTime": {
     "end_time": "2022-05-18T09:45:32.887257Z",
     "start_time": "2022-05-18T09:45:32.868279Z"
    }
   },
   "outputs": [],
   "source": [
    "def build_model(N1 = 400,\n",
    "                N2 = 200,\n",
    "                N3 = 20,\n",
    "                activation = 'relu',\n",
    "#                learning_rate = 3e-3,\n",
    "                input_shape=input_shape):\n",
    "#\n",
    "    model = keras.models.Sequential()\n",
    "#\n",
    "    model.add(keras.layers.Flatten(input_shape=input_shape))\n",
    "    model.add(keras.layers.Dense(N1, activation=activation))\n",
    "    model.add(keras.layers.Dense(N2, activation=activation))\n",
    "    model.add(keras.layers.Dense(N3, activation=activation))\n",
    "    model.add(keras.layers.Dense(1, activation=activation))\n",
    "#\n",
    "#    optimizer = keras.optimizers.SGD(lr=learning_rate)\n",
    "#    optimizer = tf.keras.optimizers.RMSprop(learning_rate=0.001, rho=0.9, momentum=0.0, epsilon=1e-07, centered=False,name='RMSprop')\n",
    "#    model.compile(loss=\"mse\", optimizer=optimizer)\n",
    "    model.compile(loss=\"mse\", optimizer='rmsprop')\n",
    "    return model"
   ]
  },
  {
   "cell_type": "markdown",
   "metadata": {},
   "source": [
    "用函数 build_model() 创建一个 KerasRegressor，它通过 build_model() 将Keras模型包装起来的。"
   ]
  },
  {
   "cell_type": "code",
   "execution_count": 31,
   "metadata": {
    "ExecuteTime": {
     "end_time": "2022-05-18T09:45:38.091791Z",
     "start_time": "2022-05-18T09:45:38.076852Z"
    }
   },
   "outputs": [
    {
     "name": "stderr",
     "output_type": "stream",
     "text": [
      "C:\\Users\\haifeng\\AppData\\Local\\Temp\\ipykernel_46744\\1709004121.py:1: DeprecationWarning: KerasRegressor is deprecated, use Sci-Keras (https://github.com/adriangb/scikeras) instead.\n",
      "  keras_reg = keras.wrappers.scikit_learn.KerasRegressor(build_model)\n"
     ]
    }
   ],
   "source": [
    "keras_reg = keras.wrappers.scikit_learn.KerasRegressor(build_model)"
   ]
  },
  {
   "cell_type": "markdown",
   "metadata": {},
   "source": [
    "注意！不要将类似“\"N1\": range(1, 600)”写成“\"N1\": np.arange(1, 600)”或“\"N1\": list(np.range(1, 600))”的情况，不然在fit的结尾，会出现如下问题："
   ]
  },
  {
   "cell_type": "markdown",
   "metadata": {},
   "source": [
    "而且“model = rnd_search_cv.best_estimator_.model”等无法加载。\n",
    "但需要指出，最后的“rnd_search_cv.best_params_”等是一样的"
   ]
  },
  {
   "cell_type": "code",
   "execution_count": 32,
   "metadata": {
    "ExecuteTime": {
     "end_time": "2022-05-18T09:45:52.512627Z",
     "start_time": "2022-05-18T09:45:52.181403Z"
    }
   },
   "outputs": [],
   "source": [
    "from scipy.stats import reciprocal\n",
    "from sklearn.model_selection import RandomizedSearchCV\n",
    "from sklearn.metrics import classification_report\n",
    "\n",
    "param_distribs = {\n",
    "#    \"kernel_size\": [3, 4, 5, 6],\n",
    "#    \"padding\" = ['valid', 'SAME'],\n",
    "#    \"n_hidden\": [0, 1, 2, 3],\n",
    "#    \"activation\": ['relu','softmax'],\n",
    "    \"N1\": range(10, 600, 10),\n",
    "    \"N2\": range(10, 600, 10),\n",
    "    \"N3\": range(10, 600, 10)\n",
    "#    \"learning_rate\": reciprocal(3e-4, 3e-2),\n",
    "}\n",
    "\n",
    "# n_iter=300，训练300次，数值越大，获得的参数精度越大，但是搜索时间越长\n",
    "# cv 训练集与验证集的比值\n",
    "# verbose=0，不打印任何训练过程信息；verbose=1，打印进度条；verbose=2，每一个epoch打印一次。\n",
    "# n_jobs = -1，使用所有的CPU进行训练，默认为1，使用1个CPU\n",
    "#rnd_search_cv = RandomizedSearchCV(keras_reg, param_distribs, n_iter=20, cv=3, verbose=2, n_jobs=-1)\n",
    "rnd_search_cv = RandomizedSearchCV(keras_reg, param_distribs, n_iter=20, verbose=1, n_jobs=-1)\n",
    "#rnd_search_cv = RandomizedSearchCV(keras_reg, param_distribs, n_iter=20, verbose=1)"
   ]
  },
  {
   "cell_type": "markdown",
   "metadata": {},
   "source": [
    "#### 开始拟合"
   ]
  },
  {
   "cell_type": "code",
   "execution_count": 33,
   "metadata": {
    "ExecuteTime": {
     "end_time": "2022-05-18T10:32:38.844619Z",
     "start_time": "2022-05-18T09:46:23.242586Z"
    }
   },
   "outputs": [
    {
     "name": "stdout",
     "output_type": "stream",
     "text": [
      "Fitting 5 folds for each of 20 candidates, totalling 100 fits\n"
     ]
    },
    {
     "name": "stderr",
     "output_type": "stream",
     "text": [
      "C:\\Users\\haifeng\\anaconda3\\lib\\site-packages\\sklearn\\model_selection\\_validation.py:372: FitFailedWarning: \n",
      "3 fits failed out of a total of 100.\n",
      "The score on these train-test partitions for these parameters will be set to nan.\n",
      "If these failures are not expected, you can try to debug them by setting error_score='raise'.\n",
      "\n",
      "Below are more details about the failures:\n",
      "--------------------------------------------------------------------------------\n",
      "1 fits failed with the following error:\n",
      "Traceback (most recent call last):\n",
      "  File \"C:\\Users\\haifeng\\anaconda3\\lib\\site-packages\\sklearn\\model_selection\\_validation.py\", line 680, in _fit_and_score\n",
      "    estimator.fit(X_train, y_train, **fit_params)\n",
      "  File \"C:\\Users\\haifeng\\anaconda3\\lib\\site-packages\\keras\\wrappers\\scikit_learn.py\", line 164, in fit\n",
      "    history = self.model.fit(x, y, **fit_args)\n",
      "  File \"C:\\Users\\haifeng\\anaconda3\\lib\\site-packages\\keras\\utils\\traceback_utils.py\", line 67, in error_handler\n",
      "    raise e.with_traceback(filtered_tb) from None\n",
      "  File \"C:\\Users\\haifeng\\anaconda3\\lib\\site-packages\\h5py\\_hl\\files.py\", line 507, in __init__\n",
      "    fid = make_fid(name, mode, userblock_size, fapl, fcpl, swmr=swmr)\n",
      "  File \"C:\\Users\\haifeng\\anaconda3\\lib\\site-packages\\h5py\\_hl\\files.py\", line 226, in make_fid\n",
      "    fid = h5f.create(name, h5f.ACC_TRUNC, fapl=fapl, fcpl=fcpl)\n",
      "  File \"h5py\\_objects.pyx\", line 54, in h5py._objects.with_phil.wrapper\n",
      "  File \"h5py\\_objects.pyx\", line 55, in h5py._objects.with_phil.wrapper\n",
      "  File \"h5py\\h5f.pyx\", line 126, in h5py.h5f.create\n",
      "OSError: Unable to create file (truncated file: eof = 910520, sblock->base_addr = 0, stored_eof = 1293856)\n",
      "\n",
      "--------------------------------------------------------------------------------\n",
      "2 fits failed with the following error:\n",
      "Traceback (most recent call last):\n",
      "  File \"C:\\Users\\haifeng\\anaconda3\\lib\\site-packages\\sklearn\\model_selection\\_validation.py\", line 680, in _fit_and_score\n",
      "    estimator.fit(X_train, y_train, **fit_params)\n",
      "  File \"C:\\Users\\haifeng\\anaconda3\\lib\\site-packages\\keras\\wrappers\\scikit_learn.py\", line 164, in fit\n",
      "    history = self.model.fit(x, y, **fit_args)\n",
      "  File \"C:\\Users\\haifeng\\anaconda3\\lib\\site-packages\\keras\\utils\\traceback_utils.py\", line 67, in error_handler\n",
      "    raise e.with_traceback(filtered_tb) from None\n",
      "  File \"C:\\Users\\haifeng\\anaconda3\\lib\\site-packages\\h5py\\_hl\\files.py\", line 507, in __init__\n",
      "    fid = make_fid(name, mode, userblock_size, fapl, fcpl, swmr=swmr)\n",
      "  File \"C:\\Users\\haifeng\\anaconda3\\lib\\site-packages\\h5py\\_hl\\files.py\", line 226, in make_fid\n",
      "    fid = h5f.create(name, h5f.ACC_TRUNC, fapl=fapl, fcpl=fcpl)\n",
      "  File \"h5py\\_objects.pyx\", line 54, in h5py._objects.with_phil.wrapper\n",
      "  File \"h5py\\_objects.pyx\", line 55, in h5py._objects.with_phil.wrapper\n",
      "  File \"h5py\\h5f.pyx\", line 126, in h5py.h5f.create\n",
      "OSError: Unable to create file (file signature not found)\n",
      "\n",
      "  warnings.warn(some_fits_failed_message, FitFailedWarning)\n",
      "C:\\Users\\haifeng\\anaconda3\\lib\\site-packages\\sklearn\\model_selection\\_search.py:969: UserWarning: One or more of the test scores are non-finite: [         nan -18.32372735 -36.09882028 -36.016702   -18.11762258\n",
      " -36.00011482 -36.11132326 -18.23786659 -53.88060843          nan\n",
      " -18.17366812 -18.14427314          nan -18.02842765  -0.26638325\n",
      " -36.00298271 -18.12032135 -35.8961562   -0.3016314   -0.27764337]\n",
      "  warnings.warn(\n"
     ]
    },
    {
     "data": {
      "text/plain": [
       "RandomizedSearchCV(estimator=<keras.wrappers.scikit_learn.KerasRegressor object at 0x000001EDD6D94850>,\n",
       "                   n_iter=20, n_jobs=-1,\n",
       "                   param_distributions={'N1': range(10, 600, 10),\n",
       "                                        'N2': range(10, 600, 10),\n",
       "                                        'N3': range(10, 600, 10)},\n",
       "                   verbose=1)"
      ]
     },
     "execution_count": 33,
     "metadata": {},
     "output_type": "execute_result"
    }
   ],
   "source": [
    "#将训练最好的模型保存下来\n",
    "model_saved_best = os.path.join(path_model, model_pre_time + \".h5\")\n",
    "#\n",
    "rnd_search_cv.fit(feature_train,label_train,epochs=200,\n",
    "                  validation_data=(feature_valid,label_valid),\n",
    "                  callbacks=[keras.callbacks.ModelCheckpoint(model_saved_best, save_best_only=True),\n",
    "                             keras.callbacks.EarlyStopping(patience=20, restore_best_weights=True),\n",
    "                             keras.callbacks.TensorBoard(run_logdir)\n",
    "                            ],\n",
    "                  verbose=0)"
   ]
  },
  {
   "cell_type": "markdown",
   "metadata": {},
   "source": [
    "executed in 38m 36s, finished 14:49:36 2021-03-01\n",
    "Fitting 5 folds for each of 20 candidates, totalling 100 fits\n",
    "[Parallel(n_jobs=-1)]: Using backend LokyBackend with 8 concurrent workers.\n",
    "[Parallel(n_jobs=-1)]: Done  25 tasks      | elapsed: 10.3min\n",
    "[Parallel(n_jobs=-1)]: Done 100 out of 100 | elapsed: 37.9min finished\n",
    "RandomizedSearchCV(estimator=<tensorflow.python.keras.wrappers.scikit_learn.KerasRegressor object at 0x0000029136552640>,\n",
    "                   n_iter=20, n_jobs=-1,\n",
    "                   param_distributions={'N1': range(1, 600),\n",
    "                                        'N2': range(1, 600),\n",
    "                                        'N3': range(1, 600)},\n",
    "                   verbose=2)"
   ]
  },
  {
   "cell_type": "markdown",
   "metadata": {},
   "source": [
    "#### 给出拟合结果"
   ]
  },
  {
   "cell_type": "code",
   "execution_count": 34,
   "metadata": {
    "ExecuteTime": {
     "end_time": "2022-05-18T10:33:38.642331Z",
     "start_time": "2022-05-18T10:33:38.632359Z"
    }
   },
   "outputs": [
    {
     "name": "stdout",
     "output_type": "stream",
     "text": [
      "Best parameters : {'N3': 350, 'N2': 360, 'N1': 50}\n"
     ]
    }
   ],
   "source": [
    "# Parameter setting that gave the best results on the hold out data.\n",
    "#rnd_search_cv.best_params_\n",
    "print(f\"Best parameters : {rnd_search_cv.best_params_}\")\n",
    "print(f\"\\nBest parameters : {rnd_search_cv.best_params_}\",file=fout)"
   ]
  },
  {
   "cell_type": "code",
   "execution_count": 35,
   "metadata": {
    "ExecuteTime": {
     "end_time": "2022-05-18T10:33:39.973843Z",
     "start_time": "2022-05-18T10:33:39.963852Z"
    }
   },
   "outputs": [
    {
     "data": {
      "text/plain": [
       "<keras.wrappers.scikit_learn.KerasRegressor at 0x1ede1e4ee50>"
      ]
     },
     "execution_count": 35,
     "metadata": {},
     "output_type": "execute_result"
    }
   ],
   "source": [
    "# 返回最优的训练器\n",
    "# Estimator that was chosen by the search, i.e. estimator which gave highest score (or smallest loss if specified) on the left out data.\n",
    "rnd_search_cv.best_estimator_"
   ]
  },
  {
   "cell_type": "code",
   "execution_count": 36,
   "metadata": {
    "ExecuteTime": {
     "end_time": "2022-05-18T10:33:41.446825Z",
     "start_time": "2022-05-18T10:33:41.434851Z"
    }
   },
   "outputs": [
    {
     "name": "stdout",
     "output_type": "stream",
     "text": [
      "Best score : -0.26638324558734894\n"
     ]
    }
   ],
   "source": [
    "# Mean cross-validated score of the best_estimator.\n",
    "#rnd_search_cv.best_score_\n",
    "print(f\"Best score : {rnd_search_cv.best_score_}\")\n",
    "print(f\"\\nBest score : {rnd_search_cv.best_score_}\",file=fout)"
   ]
  },
  {
   "cell_type": "markdown",
   "metadata": {},
   "source": [
    "Best score : -0.282334824403127"
   ]
  },
  {
   "cell_type": "markdown",
   "metadata": {},
   "source": [
    "Best score = -0.2784130076567332"
   ]
  },
  {
   "cell_type": "markdown",
   "metadata": {},
   "source": [
    "原来是-0.0010918860401337345"
   ]
  },
  {
   "cell_type": "markdown",
   "metadata": {},
   "source": [
    "#### 输出拟合日志文件"
   ]
  },
  {
   "cell_type": "code",
   "execution_count": 37,
   "metadata": {
    "ExecuteTime": {
     "end_time": "2022-05-18T10:33:45.349784Z",
     "start_time": "2022-05-18T10:33:45.330801Z"
    }
   },
   "outputs": [
    {
     "data": {
      "text/plain": [
       "3"
      ]
     },
     "execution_count": 37,
     "metadata": {},
     "output_type": "execute_result"
    }
   ],
   "source": [
    "# rnd_search_cv.cv_results_ 是选择参数的日志信息\n",
    "cv_result = pd.DataFrame.from_dict( rnd_search_cv.cv_results_)\n",
    "file_fit_csv = model_pre_time + '_fit.csv'\n",
    "path_fit_csv = os.path.join(path_ana, file_fit_csv)\n",
    "with open(path_fit_csv,'w') as f: cv_result.to_csv(f)"
   ]
  },
  {
   "cell_type": "code",
   "execution_count": 38,
   "metadata": {
    "ExecuteTime": {
     "end_time": "2022-05-18T10:33:46.324103Z",
     "start_time": "2022-05-18T10:33:46.307156Z"
    }
   },
   "outputs": [
    {
     "name": "stdout",
     "output_type": "stream",
     "text": [
      "Refit time (s) : 30.381864547729492\n"
     ]
    }
   ],
   "source": [
    "# Seconds used for refitting the best model on the whole dataset.\n",
    "#rnd_search_cv.refit_time_\n",
    "print(f\"Refit time (s) : {rnd_search_cv.refit_time_}\")\n",
    "print(f\"\\nRefit time (s) : {rnd_search_cv.refit_time_}\",file=fout)"
   ]
  },
  {
   "cell_type": "code",
   "execution_count": 39,
   "metadata": {
    "ExecuteTime": {
     "end_time": "2022-05-18T10:33:47.793420Z",
     "start_time": "2022-05-18T10:33:47.784448Z"
    }
   },
   "outputs": [],
   "source": [
    "#y_pred_array = rnd_search_cv.predict(feature_test) # 预测结果\n",
    "#print(classification_report( y_true=label_test, y_pred=y_pred_array ))"
   ]
  },
  {
   "cell_type": "markdown",
   "metadata": {},
   "source": [
    "#### 用给出的最佳（参数）模型对test数据集进行预测"
   ]
  },
  {
   "cell_type": "code",
   "execution_count": 40,
   "metadata": {
    "ExecuteTime": {
     "end_time": "2022-05-18T10:33:50.417712Z",
     "start_time": "2022-05-18T10:33:50.410729Z"
    }
   },
   "outputs": [
    {
     "data": {
      "text/plain": [
       "<keras.engine.sequential.Sequential at 0x1ede1e672e0>"
      ]
     },
     "execution_count": 40,
     "metadata": {},
     "output_type": "execute_result"
    }
   ],
   "source": [
    "model0 = rnd_search_cv.best_estimator_.model\n",
    "model0"
   ]
  },
  {
   "cell_type": "markdown",
   "metadata": {},
   "source": [
    "查看预测结果"
   ]
  },
  {
   "cell_type": "code",
   "execution_count": 41,
   "metadata": {
    "ExecuteTime": {
     "end_time": "2022-05-18T10:33:53.289460Z",
     "start_time": "2022-05-18T10:33:53.196672Z"
    },
    "scrolled": true
   },
   "outputs": [
    {
     "name": "stdout",
     "output_type": "stream",
     "text": [
      "19/19 [==============================] - 0s 2ms/step - loss: 0.3380\n"
     ]
    },
    {
     "data": {
      "text/plain": [
       "0.33795300126075745"
      ]
     },
     "execution_count": 41,
     "metadata": {},
     "output_type": "execute_result"
    }
   ],
   "source": [
    "model0.evaluate(feature_test, label_test)"
   ]
  },
  {
   "cell_type": "markdown",
   "metadata": {},
   "source": [
    "19/19 [==============================] - 0s 780us/step - loss: 0.2871\n",
    "0.28713077306747437"
   ]
  },
  {
   "cell_type": "markdown",
   "metadata": {},
   "source": [
    "19/19 [==============================] - 0s 1ms/step - loss: 89.5477\n",
    "89.54773712158203"
   ]
  },
  {
   "cell_type": "markdown",
   "metadata": {},
   "source": [
    "19/19 [==============================] - 0s 891us/step - loss: 0.2962\n",
    "0.2962176203727722"
   ]
  },
  {
   "cell_type": "markdown",
   "metadata": {},
   "source": [
    "rnd_search_cv.predict(feature_test) works as rnd_search_cv.best_estimator_.model.predict(feature_test)"
   ]
  },
  {
   "cell_type": "code",
   "execution_count": 42,
   "metadata": {
    "ExecuteTime": {
     "end_time": "2022-05-18T10:34:03.087638Z",
     "start_time": "2022-05-18T10:34:02.908245Z"
    },
    "scrolled": true
   },
   "outputs": [
    {
     "data": {
      "text/plain": [
       "array([[ 8.323562 ],\n",
       "       [ 8.008592 ],\n",
       "       [ 7.981981 ],\n",
       "       [ 7.3915014],\n",
       "       [ 6.0059366],\n",
       "       [11.723507 ],\n",
       "       [ 9.058235 ],\n",
       "       [12.368658 ],\n",
       "       [11.820247 ],\n",
       "       [ 7.766271 ],\n",
       "       [ 7.012146 ],\n",
       "       [13.8707   ],\n",
       "       [11.673872 ],\n",
       "       [ 5.8353887],\n",
       "       [12.16479  ],\n",
       "       [11.837577 ],\n",
       "       [ 9.180281 ],\n",
       "       [ 4.9112253],\n",
       "       [11.480256 ],\n",
       "       [11.747678 ],\n",
       "       [ 8.225661 ],\n",
       "       [ 7.6876283],\n",
       "       [ 7.8815446],\n",
       "       [ 7.4989243],\n",
       "       [ 5.5580597],\n",
       "       [11.6699095],\n",
       "       [ 6.8490205],\n",
       "       [12.423991 ],\n",
       "       [ 7.7719646],\n",
       "       [ 8.096435 ],\n",
       "       [12.043343 ],\n",
       "       [11.763627 ],\n",
       "       [11.8987055],\n",
       "       [ 7.9738994],\n",
       "       [ 6.0685105],\n",
       "       [13.184091 ],\n",
       "       [ 9.347907 ],\n",
       "       [ 6.8348975],\n",
       "       [ 8.017279 ],\n",
       "       [11.794654 ],\n",
       "       [12.325457 ],\n",
       "       [ 6.8207135],\n",
       "       [ 7.7753787],\n",
       "       [ 9.154251 ],\n",
       "       [11.676143 ],\n",
       "       [11.968293 ],\n",
       "       [12.551665 ],\n",
       "       [ 8.209274 ],\n",
       "       [11.830612 ],\n",
       "       [11.5998955],\n",
       "       [ 6.0496154],\n",
       "       [ 6.6509852],\n",
       "       [11.706821 ],\n",
       "       [11.74487  ],\n",
       "       [ 7.902983 ],\n",
       "       [ 6.0894127],\n",
       "       [11.617252 ],\n",
       "       [ 5.4403586],\n",
       "       [ 7.024267 ],\n",
       "       [ 6.9285173],\n",
       "       [12.360767 ],\n",
       "       [ 8.419294 ],\n",
       "       [ 7.5500407],\n",
       "       [ 5.6094117],\n",
       "       [ 7.928596 ],\n",
       "       [ 5.9695835],\n",
       "       [ 5.8737907],\n",
       "       [ 7.900389 ],\n",
       "       [11.950038 ],\n",
       "       [11.880827 ],\n",
       "       [11.846749 ],\n",
       "       [ 5.878085 ],\n",
       "       [ 9.112168 ],\n",
       "       [11.827528 ],\n",
       "       [ 7.81094  ],\n",
       "       [10.128857 ],\n",
       "       [ 8.294929 ],\n",
       "       [11.821091 ],\n",
       "       [ 8.119361 ],\n",
       "       [ 6.1557846],\n",
       "       [11.667257 ],\n",
       "       [ 5.2292843],\n",
       "       [ 6.664219 ],\n",
       "       [ 6.952205 ],\n",
       "       [11.701074 ],\n",
       "       [11.087577 ],\n",
       "       [11.6931   ],\n",
       "       [ 9.105213 ],\n",
       "       [ 7.422625 ],\n",
       "       [ 7.8356733],\n",
       "       [ 6.0351176],\n",
       "       [12.122243 ],\n",
       "       [ 8.764849 ],\n",
       "       [ 8.1154585],\n",
       "       [ 8.731511 ],\n",
       "       [ 5.39758  ],\n",
       "       [ 8.041102 ],\n",
       "       [10.356125 ],\n",
       "       [ 6.945828 ],\n",
       "       [ 8.121088 ],\n",
       "       [12.648175 ],\n",
       "       [ 7.071919 ],\n",
       "       [ 6.9155216],\n",
       "       [11.928773 ],\n",
       "       [11.826024 ],\n",
       "       [12.21196  ],\n",
       "       [11.727593 ],\n",
       "       [11.855182 ],\n",
       "       [ 7.445652 ],\n",
       "       [ 7.4018617],\n",
       "       [11.710897 ],\n",
       "       [ 7.631121 ],\n",
       "       [ 6.8637543],\n",
       "       [ 7.6250563],\n",
       "       [ 7.0115695],\n",
       "       [ 8.058254 ],\n",
       "       [ 7.742307 ],\n",
       "       [11.578728 ],\n",
       "       [11.915862 ],\n",
       "       [10.8587   ],\n",
       "       [ 9.0619755],\n",
       "       [ 8.544293 ],\n",
       "       [ 6.1525593],\n",
       "       [ 7.785819 ],\n",
       "       [ 7.048465 ],\n",
       "       [11.576107 ],\n",
       "       [11.106113 ],\n",
       "       [12.299737 ],\n",
       "       [11.64026  ],\n",
       "       [ 6.865179 ],\n",
       "       [12.574415 ],\n",
       "       [ 8.079312 ],\n",
       "       [ 6.924316 ],\n",
       "       [12.010493 ],\n",
       "       [ 7.639022 ],\n",
       "       [ 5.1749516],\n",
       "       [ 6.151465 ],\n",
       "       [ 7.9252405],\n",
       "       [ 7.5714235],\n",
       "       [ 9.129258 ],\n",
       "       [11.721068 ],\n",
       "       [ 5.92323  ],\n",
       "       [ 7.286662 ],\n",
       "       [12.577897 ],\n",
       "       [11.867009 ],\n",
       "       [ 9.219619 ],\n",
       "       [ 9.049393 ],\n",
       "       [12.005767 ],\n",
       "       [12.003027 ],\n",
       "       [ 8.069016 ],\n",
       "       [ 7.4997864],\n",
       "       [ 8.138433 ],\n",
       "       [ 7.8862143],\n",
       "       [ 6.655527 ],\n",
       "       [ 6.1905293],\n",
       "       [12.149525 ],\n",
       "       [ 8.07578  ],\n",
       "       [11.428614 ],\n",
       "       [10.638861 ],\n",
       "       [ 7.771718 ],\n",
       "       [ 6.695691 ],\n",
       "       [11.245178 ],\n",
       "       [11.5132065],\n",
       "       [ 5.898898 ],\n",
       "       [12.815401 ],\n",
       "       [11.879465 ],\n",
       "       [ 8.940833 ],\n",
       "       [ 4.3040557],\n",
       "       [11.97168  ],\n",
       "       [11.689849 ],\n",
       "       [ 9.612169 ],\n",
       "       [ 7.892636 ],\n",
       "       [ 8.190058 ],\n",
       "       [ 7.9753075],\n",
       "       [ 4.8675003],\n",
       "       [11.878296 ],\n",
       "       [ 7.1465673],\n",
       "       [12.461526 ],\n",
       "       [ 6.5647345],\n",
       "       [ 8.260064 ],\n",
       "       [12.054253 ],\n",
       "       [12.196685 ],\n",
       "       [11.646613 ],\n",
       "       [ 6.6748853],\n",
       "       [ 5.925149 ],\n",
       "       [11.181469 ],\n",
       "       [ 8.986455 ],\n",
       "       [ 7.2456264],\n",
       "       [ 7.597541 ],\n",
       "       [12.840277 ],\n",
       "       [12.467386 ],\n",
       "       [ 4.979215 ],\n",
       "       [ 6.9517646],\n",
       "       [ 9.170273 ],\n",
       "       [11.099883 ],\n",
       "       [11.504325 ],\n",
       "       [11.636419 ],\n",
       "       [ 7.8966365],\n",
       "       [11.718022 ],\n",
       "       [11.745598 ],\n",
       "       [ 6.859442 ],\n",
       "       [ 7.9490867],\n",
       "       [11.562186 ],\n",
       "       [11.603562 ],\n",
       "       [ 7.729557 ],\n",
       "       [ 5.694908 ],\n",
       "       [11.290215 ],\n",
       "       [ 5.907281 ],\n",
       "       [ 6.547803 ],\n",
       "       [ 6.814343 ],\n",
       "       [12.150886 ],\n",
       "       [ 8.056602 ],\n",
       "       [ 8.427461 ],\n",
       "       [ 7.7033434],\n",
       "       [ 7.4763465],\n",
       "       [ 4.7844753],\n",
       "       [ 5.6804366],\n",
       "       [ 7.159597 ],\n",
       "       [11.909221 ],\n",
       "       [11.837475 ],\n",
       "       [11.515096 ],\n",
       "       [ 6.05951  ],\n",
       "       [ 9.062274 ],\n",
       "       [12.814938 ],\n",
       "       [ 8.49849  ],\n",
       "       [ 6.0301785],\n",
       "       [ 8.436643 ],\n",
       "       [11.794001 ],\n",
       "       [ 8.280416 ],\n",
       "       [ 6.0417056],\n",
       "       [11.599758 ],\n",
       "       [ 5.695069 ],\n",
       "       [ 6.062421 ],\n",
       "       [ 6.436194 ],\n",
       "       [11.84874  ],\n",
       "       [ 8.805235 ],\n",
       "       [11.9078   ],\n",
       "       [ 8.923643 ],\n",
       "       [ 6.8350143],\n",
       "       [ 7.8091326],\n",
       "       [ 6.09331  ],\n",
       "       [12.088646 ],\n",
       "       [ 8.8011055],\n",
       "       [ 7.4124336],\n",
       "       [ 8.756626 ],\n",
       "       [ 4.4023924],\n",
       "       [ 7.7976303],\n",
       "       [11.082633 ],\n",
       "       [ 7.5739226],\n",
       "       [ 7.680801 ],\n",
       "       [11.73291  ],\n",
       "       [ 6.2756014],\n",
       "       [ 6.815602 ],\n",
       "       [10.224979 ],\n",
       "       [11.995554 ],\n",
       "       [12.580095 ],\n",
       "       [11.859535 ],\n",
       "       [ 8.236047 ],\n",
       "       [ 7.101335 ],\n",
       "       [11.884225 ],\n",
       "       [ 7.765394 ],\n",
       "       [ 6.4080586],\n",
       "       [ 5.3064504],\n",
       "       [ 6.9577403],\n",
       "       [ 7.3344536],\n",
       "       [ 7.8372183],\n",
       "       [ 9.022845 ],\n",
       "       [11.931793 ],\n",
       "       [ 9.221542 ],\n",
       "       [ 7.9582667],\n",
       "       [ 5.8854947],\n",
       "       [ 7.832296 ],\n",
       "       [ 6.81517  ],\n",
       "       [11.521435 ],\n",
       "       [11.724272 ],\n",
       "       [11.8362255],\n",
       "       [11.790899 ],\n",
       "       [ 8.585837 ],\n",
       "       [12.1584425],\n",
       "       [ 7.784358 ],\n",
       "       [ 6.655551 ],\n",
       "       [11.790873 ],\n",
       "       [ 8.016152 ],\n",
       "       [ 6.0608287],\n",
       "       [ 7.298776 ],\n",
       "       [ 7.8919253],\n",
       "       [ 8.002364 ],\n",
       "       [ 9.453742 ],\n",
       "       [11.710612 ],\n",
       "       [ 6.018166 ],\n",
       "       [ 7.08066  ],\n",
       "       [12.588712 ],\n",
       "       [11.743714 ],\n",
       "       [ 9.04238  ],\n",
       "       [ 8.843083 ],\n",
       "       [12.073398 ],\n",
       "       [11.659191 ],\n",
       "       [ 8.145367 ],\n",
       "       [ 6.485675 ],\n",
       "       [ 7.666021 ],\n",
       "       [ 7.041142 ],\n",
       "       [ 8.2557125],\n",
       "       [ 5.818695 ],\n",
       "       [ 8.504875 ],\n",
       "       [11.820542 ],\n",
       "       [11.1174555],\n",
       "       [ 8.018757 ],\n",
       "       [ 6.6068454],\n",
       "       [11.77888  ],\n",
       "       [11.919546 ],\n",
       "       [ 6.576961 ],\n",
       "       [12.405178 ],\n",
       "       [11.984426 ],\n",
       "       [ 9.721643 ],\n",
       "       [ 3.979661 ],\n",
       "       [11.507616 ],\n",
       "       [11.731669 ],\n",
       "       [ 7.1230464],\n",
       "       [ 8.09858  ],\n",
       "       [ 8.265504 ],\n",
       "       [ 7.855394 ],\n",
       "       [ 5.2214675],\n",
       "       [11.717341 ],\n",
       "       [ 5.819443 ],\n",
       "       [13.558459 ],\n",
       "       [ 6.8621774],\n",
       "       [ 7.9424105],\n",
       "       [12.0139475],\n",
       "       [12.64746  ],\n",
       "       [11.584424 ],\n",
       "       [ 8.2251625],\n",
       "       [ 5.1031013],\n",
       "       [12.788728 ],\n",
       "       [ 9.292114 ],\n",
       "       [ 7.113331 ],\n",
       "       [ 8.286288 ],\n",
       "       [12.048958 ],\n",
       "       [12.635515 ],\n",
       "       [ 6.4548554],\n",
       "       [ 6.882021 ],\n",
       "       [ 8.895033 ],\n",
       "       [11.70263  ],\n",
       "       [11.917717 ],\n",
       "       [12.117377 ],\n",
       "       [ 8.148793 ],\n",
       "       [11.539444 ],\n",
       "       [11.80867  ],\n",
       "       [ 7.704564 ],\n",
       "       [ 7.8545218],\n",
       "       [11.608631 ],\n",
       "       [11.784276 ],\n",
       "       [ 7.5620675],\n",
       "       [ 6.143049 ],\n",
       "       [11.691902 ],\n",
       "       [ 5.97284  ],\n",
       "       [ 5.629236 ],\n",
       "       [ 7.019865 ],\n",
       "       [11.948899 ],\n",
       "       [ 8.103895 ],\n",
       "       [ 7.188863 ],\n",
       "       [ 7.134917 ],\n",
       "       [ 7.6301064],\n",
       "       [ 3.9408174],\n",
       "       [ 6.870051 ],\n",
       "       [ 7.623432 ],\n",
       "       [11.904243 ],\n",
       "       [11.701414 ],\n",
       "       [11.759351 ],\n",
       "       [ 6.0153737],\n",
       "       [ 9.443473 ],\n",
       "       [11.581466 ],\n",
       "       [ 8.170108 ],\n",
       "       [ 8.009003 ],\n",
       "       [ 9.227893 ],\n",
       "       [11.78795  ],\n",
       "       [ 7.6821613],\n",
       "       [ 5.974473 ],\n",
       "       [11.397815 ],\n",
       "       [ 6.3311357],\n",
       "       [ 5.0705237],\n",
       "       [ 7.382172 ],\n",
       "       [12.080821 ],\n",
       "       [ 8.867131 ],\n",
       "       [12.003037 ],\n",
       "       [ 9.32142  ],\n",
       "       [ 7.0286474],\n",
       "       [ 8.266728 ],\n",
       "       [ 6.360242 ],\n",
       "       [12.181701 ],\n",
       "       [ 8.129061 ],\n",
       "       [ 8.0541525],\n",
       "       [ 8.945762 ],\n",
       "       [ 5.861569 ],\n",
       "       [ 7.9596343],\n",
       "       [11.231282 ],\n",
       "       [ 8.327538 ],\n",
       "       [ 8.221026 ],\n",
       "       [11.635768 ],\n",
       "       [ 7.0153356],\n",
       "       [ 6.8479686],\n",
       "       [ 8.5271435],\n",
       "       [12.529435 ],\n",
       "       [13.501255 ],\n",
       "       [12.459095 ],\n",
       "       [11.893772 ],\n",
       "       [ 7.8972254],\n",
       "       [ 6.8558292],\n",
       "       [11.501856 ],\n",
       "       [ 7.712427 ],\n",
       "       [ 7.9834943],\n",
       "       [ 7.5797276],\n",
       "       [ 6.1047173],\n",
       "       [ 8.083303 ],\n",
       "       [ 7.9732833],\n",
       "       [11.290423 ],\n",
       "       [12.097293 ],\n",
       "       [11.121508 ],\n",
       "       [ 9.553568 ],\n",
       "       [ 8.023925 ],\n",
       "       [ 6.031871 ],\n",
       "       [ 8.007298 ],\n",
       "       [ 6.939268 ],\n",
       "       [11.3905525],\n",
       "       [12.067253 ],\n",
       "       [12.672584 ],\n",
       "       [11.537322 ],\n",
       "       [ 9.311029 ],\n",
       "       [12.626096 ],\n",
       "       [ 6.5955157],\n",
       "       [ 6.329664 ],\n",
       "       [11.487811 ],\n",
       "       [ 8.07939  ],\n",
       "       [ 5.5925775],\n",
       "       [ 6.697164 ],\n",
       "       [ 7.769615 ],\n",
       "       [ 7.889919 ],\n",
       "       [ 9.2169895],\n",
       "       [12.313119 ],\n",
       "       [ 6.3043303],\n",
       "       [ 7.0100594],\n",
       "       [12.250026 ],\n",
       "       [11.945922 ],\n",
       "       [ 8.349537 ],\n",
       "       [ 8.551013 ],\n",
       "       [12.145692 ],\n",
       "       [11.783681 ],\n",
       "       [ 7.59997  ],\n",
       "       [ 6.9976873],\n",
       "       [ 7.811768 ],\n",
       "       [ 7.6059346],\n",
       "       [ 7.8373303],\n",
       "       [ 5.0990252],\n",
       "       [11.652991 ],\n",
       "       [ 8.708417 ],\n",
       "       [12.200756 ],\n",
       "       [12.343001 ],\n",
       "       [ 7.6343045],\n",
       "       [ 8.229779 ],\n",
       "       [12.950704 ],\n",
       "       [11.747612 ],\n",
       "       [ 5.681155 ],\n",
       "       [12.900013 ],\n",
       "       [11.424468 ],\n",
       "       [ 9.670352 ],\n",
       "       [ 4.1058054],\n",
       "       [12.005289 ],\n",
       "       [11.770062 ],\n",
       "       [ 7.908738 ],\n",
       "       [ 7.146307 ],\n",
       "       [ 8.266455 ],\n",
       "       [ 8.633107 ],\n",
       "       [ 5.948936 ],\n",
       "       [11.693661 ],\n",
       "       [ 5.9886103],\n",
       "       [12.4734535],\n",
       "       [ 8.342062 ],\n",
       "       [ 7.1482983],\n",
       "       [11.890496 ],\n",
       "       [11.963306 ],\n",
       "       [11.6614275],\n",
       "       [ 9.45072  ],\n",
       "       [ 6.9868503],\n",
       "       [12.814199 ],\n",
       "       [ 9.504748 ],\n",
       "       [ 6.0490885],\n",
       "       [ 7.861124 ],\n",
       "       [11.923252 ],\n",
       "       [12.726355 ],\n",
       "       [ 6.7594156],\n",
       "       [ 6.2091312],\n",
       "       [ 8.008208 ],\n",
       "       [11.420358 ],\n",
       "       [11.855004 ],\n",
       "       [11.7514305],\n",
       "       [ 8.144391 ],\n",
       "       [11.5280285],\n",
       "       [11.6641   ],\n",
       "       [ 7.327882 ],\n",
       "       [ 7.9381166],\n",
       "       [12.139119 ],\n",
       "       [11.933556 ],\n",
       "       [ 8.49737  ],\n",
       "       [ 5.753761 ],\n",
       "       [11.352927 ],\n",
       "       [ 5.4971924],\n",
       "       [ 4.9849405],\n",
       "       [ 5.835848 ],\n",
       "       [11.819092 ],\n",
       "       [ 7.64598  ],\n",
       "       [ 5.912709 ],\n",
       "       [ 6.9184346],\n",
       "       [ 8.155407 ],\n",
       "       [ 4.6640534],\n",
       "       [ 5.2088003],\n",
       "       [ 7.700115 ],\n",
       "       [11.766652 ],\n",
       "       [11.827859 ],\n",
       "       [11.79941  ],\n",
       "       [ 6.1840215],\n",
       "       [ 8.577867 ],\n",
       "       [11.144672 ],\n",
       "       [ 8.217653 ],\n",
       "       [ 7.3251066],\n",
       "       [ 9.625104 ],\n",
       "       [11.96185  ],\n",
       "       [ 7.859934 ],\n",
       "       [ 5.3579426],\n",
       "       [12.259648 ],\n",
       "       [ 6.4550776],\n",
       "       [ 5.979668 ],\n",
       "       [ 7.024029 ],\n",
       "       [11.696036 ],\n",
       "       [ 7.6559477],\n",
       "       [11.550844 ],\n",
       "       [ 9.190918 ],\n",
       "       [ 6.817634 ],\n",
       "       [ 7.7645507],\n",
       "       [ 7.12408  ],\n",
       "       [11.500889 ],\n",
       "       [ 8.218558 ],\n",
       "       [ 7.7936506],\n",
       "       [ 8.824497 ],\n",
       "       [ 6.758691 ],\n",
       "       [ 7.24746  ],\n",
       "       [11.148013 ],\n",
       "       [ 7.7154326],\n",
       "       [ 8.079658 ],\n",
       "       [12.174262 ],\n",
       "       [ 6.727735 ],\n",
       "       [ 7.1523542],\n",
       "       [10.454005 ],\n",
       "       [13.061526 ],\n",
       "       [12.958073 ],\n",
       "       [12.117198 ],\n",
       "       [ 7.1924973],\n",
       "       [ 7.076087 ],\n",
       "       [11.668353 ],\n",
       "       [ 7.6942143],\n",
       "       [ 6.1849284],\n",
       "       [ 8.356634 ],\n",
       "       [ 6.7535877],\n",
       "       [ 7.66946  ],\n",
       "       [ 8.051442 ],\n",
       "       [11.678455 ],\n",
       "       [11.921728 ],\n",
       "       [12.20146  ],\n",
       "       [ 9.278227 ],\n",
       "       [ 7.9208627],\n",
       "       [ 5.775518 ],\n",
       "       [ 7.9640365],\n",
       "       [ 7.17296  ],\n",
       "       [10.466254 ],\n",
       "       [11.45091  ],\n",
       "       [13.101015 ],\n",
       "       [12.539344 ],\n",
       "       [ 8.88847  ],\n",
       "       [12.386364 ],\n",
       "       [ 8.686159 ],\n",
       "       [ 6.000798 ],\n",
       "       [11.919787 ],\n",
       "       [ 8.833542 ],\n",
       "       [ 5.559205 ],\n",
       "       [ 4.8838143],\n",
       "       [ 7.7701163],\n",
       "       [ 7.906504 ],\n",
       "       [ 8.750819 ],\n",
       "       [12.496964 ],\n",
       "       [ 5.104078 ],\n",
       "       [ 5.9008064],\n",
       "       [12.146421 ],\n",
       "       [11.679943 ],\n",
       "       [ 9.5325365],\n",
       "       [ 8.562401 ],\n",
       "       [11.691482 ],\n",
       "       [11.851049 ],\n",
       "       [ 8.186679 ],\n",
       "       [ 6.992872 ]], dtype=float32)"
      ]
     },
     "execution_count": 42,
     "metadata": {},
     "output_type": "execute_result"
    }
   ],
   "source": [
    "pre0 = model0.predict(feature_test)\n",
    "pre0"
   ]
  },
  {
   "cell_type": "code",
   "execution_count": 53,
   "metadata": {
    "ExecuteTime": {
     "end_time": "2022-05-18T10:41:41.171050Z",
     "start_time": "2022-05-18T10:41:41.166011Z"
    }
   },
   "outputs": [],
   "source": [
    "diff = pre0 - label_test"
   ]
  },
  {
   "cell_type": "code",
   "execution_count": 43,
   "metadata": {
    "ExecuteTime": {
     "end_time": "2022-05-18T10:34:04.603328Z",
     "start_time": "2022-05-18T10:34:04.592332Z"
    },
    "scrolled": false
   },
   "outputs": [
    {
     "name": "stdout",
     "output_type": "stream",
     "text": [
      "Prediction:\n",
      "  diff_Max            :   5.4550776\n",
      "  diff_Min            :  -2.0165057\n",
      "  |diff|_Mean(MAE)    :   0.3546449\n",
      "  |diff|_Max          :   5.4550776\n",
      "  |diff|_Min          :   0.0007982\n",
      "  pre_Var(MSE)        :   0.3379530\n",
      "  pre_Std(RMSE)       :   0.5813373\n",
      "  Error_mean          :   0.0130800\n",
      "  Error_max           :   5.4550776\n",
      "  Error_min           :  -0.2118365\n",
      "  |Error|_mean(MAPE)  :   0.0547576\n",
      "  |Error|_max         :   5.4550776\n",
      "  |Error|_min         :   0.0001330\n"
     ]
    }
   ],
   "source": [
    "a, err = pre_ana(pre0, label_test)\n",
    "print(\"Prediction:\")\n",
    "print(\"\\nPrediction:\",file=fout)\n",
    "for key in a.keys():\n",
    "    print(f\"  {key:<20}: {a[key]:>11.7f}\")\n",
    "    print(f\"  {key:<20}: {a[key]:>11.7f}\",file=fout)"
   ]
  },
  {
   "cell_type": "markdown",
   "metadata": {},
   "source": [
    "#### 查看拟合中保存的最佳模型"
   ]
  },
  {
   "cell_type": "markdown",
   "metadata": {},
   "source": [
    "是否与上述模型一样？"
   ]
  },
  {
   "cell_type": "code",
   "execution_count": 44,
   "metadata": {
    "ExecuteTime": {
     "end_time": "2022-05-18T10:34:08.641808Z",
     "start_time": "2022-05-18T10:34:08.625851Z"
    }
   },
   "outputs": [
    {
     "name": "stdout",
     "output_type": "stream",
     "text": [
      "Saved best model : .\\./../hyper-param_tuning\\au150_DW_cn_3level_neuron_run_2022_05_18-17_45_02.h5\n"
     ]
    }
   ],
   "source": [
    "print(f\"Saved best model : {model_saved_best}\")\n",
    "print(f\"\\nSaved best model : {model_saved_best}\",file=fout)\n",
    "fout.close()"
   ]
  },
  {
   "cell_type": "code",
   "execution_count": 45,
   "metadata": {
    "ExecuteTime": {
     "end_time": "2022-05-18T10:34:11.983735Z",
     "start_time": "2022-05-18T10:34:11.901952Z"
    }
   },
   "outputs": [
    {
     "data": {
      "text/plain": [
       "<keras.engine.sequential.Sequential at 0x1ede4368a30>"
      ]
     },
     "execution_count": 45,
     "metadata": {},
     "output_type": "execute_result"
    }
   ],
   "source": [
    "model = keras.models.load_model(model_saved_best)\n",
    "model"
   ]
  },
  {
   "cell_type": "code",
   "execution_count": 46,
   "metadata": {
    "ExecuteTime": {
     "end_time": "2022-05-18T10:34:13.127412Z",
     "start_time": "2022-05-18T10:34:13.009119Z"
    }
   },
   "outputs": [
    {
     "data": {
      "text/plain": [
       "array([[ 8.323562 ],\n",
       "       [ 8.008592 ],\n",
       "       [ 7.981981 ],\n",
       "       [ 7.3915014],\n",
       "       [ 6.0059366],\n",
       "       [11.723507 ],\n",
       "       [ 9.058235 ],\n",
       "       [12.368658 ],\n",
       "       [11.820247 ],\n",
       "       [ 7.766271 ],\n",
       "       [ 7.012146 ],\n",
       "       [13.8707   ],\n",
       "       [11.673872 ],\n",
       "       [ 5.8353887],\n",
       "       [12.16479  ],\n",
       "       [11.837577 ],\n",
       "       [ 9.180281 ],\n",
       "       [ 4.9112253],\n",
       "       [11.480256 ],\n",
       "       [11.747678 ],\n",
       "       [ 8.225661 ],\n",
       "       [ 7.6876283],\n",
       "       [ 7.8815446],\n",
       "       [ 7.4989243],\n",
       "       [ 5.5580597],\n",
       "       [11.6699095],\n",
       "       [ 6.8490205],\n",
       "       [12.423991 ],\n",
       "       [ 7.7719646],\n",
       "       [ 8.096435 ],\n",
       "       [12.043343 ],\n",
       "       [11.763627 ],\n",
       "       [11.8987055],\n",
       "       [ 7.9738994],\n",
       "       [ 6.0685105],\n",
       "       [13.184091 ],\n",
       "       [ 9.347907 ],\n",
       "       [ 6.8348975],\n",
       "       [ 8.017279 ],\n",
       "       [11.794654 ],\n",
       "       [12.325457 ],\n",
       "       [ 6.8207135],\n",
       "       [ 7.7753787],\n",
       "       [ 9.154251 ],\n",
       "       [11.676143 ],\n",
       "       [11.968293 ],\n",
       "       [12.551665 ],\n",
       "       [ 8.209274 ],\n",
       "       [11.830612 ],\n",
       "       [11.5998955],\n",
       "       [ 6.0496154],\n",
       "       [ 6.6509852],\n",
       "       [11.706821 ],\n",
       "       [11.74487  ],\n",
       "       [ 7.902983 ],\n",
       "       [ 6.0894127],\n",
       "       [11.617252 ],\n",
       "       [ 5.4403586],\n",
       "       [ 7.024267 ],\n",
       "       [ 6.9285173],\n",
       "       [12.360767 ],\n",
       "       [ 8.419294 ],\n",
       "       [ 7.5500407],\n",
       "       [ 5.6094117],\n",
       "       [ 7.928596 ],\n",
       "       [ 5.9695835],\n",
       "       [ 5.8737907],\n",
       "       [ 7.900389 ],\n",
       "       [11.950038 ],\n",
       "       [11.880827 ],\n",
       "       [11.846749 ],\n",
       "       [ 5.878085 ],\n",
       "       [ 9.112168 ],\n",
       "       [11.827528 ],\n",
       "       [ 7.81094  ],\n",
       "       [10.128857 ],\n",
       "       [ 8.294929 ],\n",
       "       [11.821091 ],\n",
       "       [ 8.119361 ],\n",
       "       [ 6.1557846],\n",
       "       [11.667257 ],\n",
       "       [ 5.2292843],\n",
       "       [ 6.664219 ],\n",
       "       [ 6.952205 ],\n",
       "       [11.701074 ],\n",
       "       [11.087577 ],\n",
       "       [11.6931   ],\n",
       "       [ 9.105213 ],\n",
       "       [ 7.422625 ],\n",
       "       [ 7.8356733],\n",
       "       [ 6.0351176],\n",
       "       [12.122243 ],\n",
       "       [ 8.764849 ],\n",
       "       [ 8.1154585],\n",
       "       [ 8.731511 ],\n",
       "       [ 5.39758  ],\n",
       "       [ 8.041102 ],\n",
       "       [10.356125 ],\n",
       "       [ 6.945828 ],\n",
       "       [ 8.121088 ],\n",
       "       [12.648175 ],\n",
       "       [ 7.071919 ],\n",
       "       [ 6.9155216],\n",
       "       [11.928773 ],\n",
       "       [11.826024 ],\n",
       "       [12.21196  ],\n",
       "       [11.727593 ],\n",
       "       [11.855182 ],\n",
       "       [ 7.445652 ],\n",
       "       [ 7.4018617],\n",
       "       [11.710897 ],\n",
       "       [ 7.631121 ],\n",
       "       [ 6.8637543],\n",
       "       [ 7.6250563],\n",
       "       [ 7.0115695],\n",
       "       [ 8.058254 ],\n",
       "       [ 7.742307 ],\n",
       "       [11.578728 ],\n",
       "       [11.915862 ],\n",
       "       [10.8587   ],\n",
       "       [ 9.0619755],\n",
       "       [ 8.544293 ],\n",
       "       [ 6.1525593],\n",
       "       [ 7.785819 ],\n",
       "       [ 7.048465 ],\n",
       "       [11.576107 ],\n",
       "       [11.106113 ],\n",
       "       [12.299737 ],\n",
       "       [11.64026  ],\n",
       "       [ 6.865179 ],\n",
       "       [12.574415 ],\n",
       "       [ 8.079312 ],\n",
       "       [ 6.924316 ],\n",
       "       [12.010493 ],\n",
       "       [ 7.639022 ],\n",
       "       [ 5.1749516],\n",
       "       [ 6.151465 ],\n",
       "       [ 7.9252405],\n",
       "       [ 7.5714235],\n",
       "       [ 9.129258 ],\n",
       "       [11.721068 ],\n",
       "       [ 5.92323  ],\n",
       "       [ 7.286662 ],\n",
       "       [12.577897 ],\n",
       "       [11.867009 ],\n",
       "       [ 9.219619 ],\n",
       "       [ 9.049393 ],\n",
       "       [12.005767 ],\n",
       "       [12.003027 ],\n",
       "       [ 8.069016 ],\n",
       "       [ 7.4997864],\n",
       "       [ 8.138433 ],\n",
       "       [ 7.8862143],\n",
       "       [ 6.655527 ],\n",
       "       [ 6.1905293],\n",
       "       [12.149525 ],\n",
       "       [ 8.07578  ],\n",
       "       [11.428614 ],\n",
       "       [10.638861 ],\n",
       "       [ 7.771718 ],\n",
       "       [ 6.695691 ],\n",
       "       [11.245178 ],\n",
       "       [11.5132065],\n",
       "       [ 5.898898 ],\n",
       "       [12.815401 ],\n",
       "       [11.879465 ],\n",
       "       [ 8.940833 ],\n",
       "       [ 4.3040557],\n",
       "       [11.97168  ],\n",
       "       [11.689849 ],\n",
       "       [ 9.612169 ],\n",
       "       [ 7.892636 ],\n",
       "       [ 8.190058 ],\n",
       "       [ 7.9753075],\n",
       "       [ 4.8675003],\n",
       "       [11.878296 ],\n",
       "       [ 7.1465673],\n",
       "       [12.461526 ],\n",
       "       [ 6.5647345],\n",
       "       [ 8.260064 ],\n",
       "       [12.054253 ],\n",
       "       [12.196685 ],\n",
       "       [11.646613 ],\n",
       "       [ 6.6748853],\n",
       "       [ 5.925149 ],\n",
       "       [11.181469 ],\n",
       "       [ 8.986455 ],\n",
       "       [ 7.2456264],\n",
       "       [ 7.597541 ],\n",
       "       [12.840277 ],\n",
       "       [12.467386 ],\n",
       "       [ 4.979215 ],\n",
       "       [ 6.9517646],\n",
       "       [ 9.170273 ],\n",
       "       [11.099883 ],\n",
       "       [11.504325 ],\n",
       "       [11.636419 ],\n",
       "       [ 7.8966365],\n",
       "       [11.718022 ],\n",
       "       [11.745598 ],\n",
       "       [ 6.859442 ],\n",
       "       [ 7.9490867],\n",
       "       [11.562186 ],\n",
       "       [11.603562 ],\n",
       "       [ 7.729557 ],\n",
       "       [ 5.694908 ],\n",
       "       [11.290215 ],\n",
       "       [ 5.907281 ],\n",
       "       [ 6.547803 ],\n",
       "       [ 6.814343 ],\n",
       "       [12.150886 ],\n",
       "       [ 8.056602 ],\n",
       "       [ 8.427461 ],\n",
       "       [ 7.7033434],\n",
       "       [ 7.4763465],\n",
       "       [ 4.7844753],\n",
       "       [ 5.6804366],\n",
       "       [ 7.159597 ],\n",
       "       [11.909221 ],\n",
       "       [11.837475 ],\n",
       "       [11.515096 ],\n",
       "       [ 6.05951  ],\n",
       "       [ 9.062274 ],\n",
       "       [12.814938 ],\n",
       "       [ 8.49849  ],\n",
       "       [ 6.0301785],\n",
       "       [ 8.436643 ],\n",
       "       [11.794001 ],\n",
       "       [ 8.280416 ],\n",
       "       [ 6.0417056],\n",
       "       [11.599758 ],\n",
       "       [ 5.695069 ],\n",
       "       [ 6.062421 ],\n",
       "       [ 6.436194 ],\n",
       "       [11.84874  ],\n",
       "       [ 8.805235 ],\n",
       "       [11.9078   ],\n",
       "       [ 8.923643 ],\n",
       "       [ 6.8350143],\n",
       "       [ 7.8091326],\n",
       "       [ 6.09331  ],\n",
       "       [12.088646 ],\n",
       "       [ 8.8011055],\n",
       "       [ 7.4124336],\n",
       "       [ 8.756626 ],\n",
       "       [ 4.4023924],\n",
       "       [ 7.7976303],\n",
       "       [11.082633 ],\n",
       "       [ 7.5739226],\n",
       "       [ 7.680801 ],\n",
       "       [11.73291  ],\n",
       "       [ 6.2756014],\n",
       "       [ 6.815602 ],\n",
       "       [10.224979 ],\n",
       "       [11.995554 ],\n",
       "       [12.580095 ],\n",
       "       [11.859535 ],\n",
       "       [ 8.236047 ],\n",
       "       [ 7.101335 ],\n",
       "       [11.884225 ],\n",
       "       [ 7.765394 ],\n",
       "       [ 6.4080586],\n",
       "       [ 5.3064504],\n",
       "       [ 6.9577403],\n",
       "       [ 7.3344536],\n",
       "       [ 7.8372183],\n",
       "       [ 9.022845 ],\n",
       "       [11.931793 ],\n",
       "       [ 9.221542 ],\n",
       "       [ 7.9582667],\n",
       "       [ 5.8854947],\n",
       "       [ 7.832296 ],\n",
       "       [ 6.81517  ],\n",
       "       [11.521435 ],\n",
       "       [11.724272 ],\n",
       "       [11.8362255],\n",
       "       [11.790899 ],\n",
       "       [ 8.585837 ],\n",
       "       [12.1584425],\n",
       "       [ 7.784358 ],\n",
       "       [ 6.655551 ],\n",
       "       [11.790873 ],\n",
       "       [ 8.016152 ],\n",
       "       [ 6.0608287],\n",
       "       [ 7.298776 ],\n",
       "       [ 7.8919253],\n",
       "       [ 8.002364 ],\n",
       "       [ 9.453742 ],\n",
       "       [11.710612 ],\n",
       "       [ 6.018166 ],\n",
       "       [ 7.08066  ],\n",
       "       [12.588712 ],\n",
       "       [11.743714 ],\n",
       "       [ 9.04238  ],\n",
       "       [ 8.843083 ],\n",
       "       [12.073398 ],\n",
       "       [11.659191 ],\n",
       "       [ 8.145367 ],\n",
       "       [ 6.485675 ],\n",
       "       [ 7.666021 ],\n",
       "       [ 7.041142 ],\n",
       "       [ 8.2557125],\n",
       "       [ 5.818695 ],\n",
       "       [ 8.504875 ],\n",
       "       [11.820542 ],\n",
       "       [11.1174555],\n",
       "       [ 8.018757 ],\n",
       "       [ 6.6068454],\n",
       "       [11.77888  ],\n",
       "       [11.919546 ],\n",
       "       [ 6.576961 ],\n",
       "       [12.405178 ],\n",
       "       [11.984426 ],\n",
       "       [ 9.721643 ],\n",
       "       [ 3.979661 ],\n",
       "       [11.507616 ],\n",
       "       [11.731669 ],\n",
       "       [ 7.1230464],\n",
       "       [ 8.09858  ],\n",
       "       [ 8.265504 ],\n",
       "       [ 7.855394 ],\n",
       "       [ 5.2214675],\n",
       "       [11.717341 ],\n",
       "       [ 5.819443 ],\n",
       "       [13.558459 ],\n",
       "       [ 6.8621774],\n",
       "       [ 7.9424105],\n",
       "       [12.0139475],\n",
       "       [12.64746  ],\n",
       "       [11.584424 ],\n",
       "       [ 8.2251625],\n",
       "       [ 5.1031013],\n",
       "       [12.788728 ],\n",
       "       [ 9.292114 ],\n",
       "       [ 7.113331 ],\n",
       "       [ 8.286288 ],\n",
       "       [12.048958 ],\n",
       "       [12.635515 ],\n",
       "       [ 6.4548554],\n",
       "       [ 6.882021 ],\n",
       "       [ 8.895033 ],\n",
       "       [11.70263  ],\n",
       "       [11.917717 ],\n",
       "       [12.117377 ],\n",
       "       [ 8.148793 ],\n",
       "       [11.539444 ],\n",
       "       [11.80867  ],\n",
       "       [ 7.704564 ],\n",
       "       [ 7.8545218],\n",
       "       [11.608631 ],\n",
       "       [11.784276 ],\n",
       "       [ 7.5620675],\n",
       "       [ 6.143049 ],\n",
       "       [11.691902 ],\n",
       "       [ 5.97284  ],\n",
       "       [ 5.629236 ],\n",
       "       [ 7.019865 ],\n",
       "       [11.948899 ],\n",
       "       [ 8.103895 ],\n",
       "       [ 7.188863 ],\n",
       "       [ 7.134917 ],\n",
       "       [ 7.6301064],\n",
       "       [ 3.9408174],\n",
       "       [ 6.870051 ],\n",
       "       [ 7.623432 ],\n",
       "       [11.904243 ],\n",
       "       [11.701414 ],\n",
       "       [11.759351 ],\n",
       "       [ 6.0153737],\n",
       "       [ 9.443473 ],\n",
       "       [11.581466 ],\n",
       "       [ 8.170108 ],\n",
       "       [ 8.009003 ],\n",
       "       [ 9.227893 ],\n",
       "       [11.78795  ],\n",
       "       [ 7.6821613],\n",
       "       [ 5.974473 ],\n",
       "       [11.397815 ],\n",
       "       [ 6.3311357],\n",
       "       [ 5.0705237],\n",
       "       [ 7.382172 ],\n",
       "       [12.080821 ],\n",
       "       [ 8.867131 ],\n",
       "       [12.003037 ],\n",
       "       [ 9.32142  ],\n",
       "       [ 7.0286474],\n",
       "       [ 8.266728 ],\n",
       "       [ 6.360242 ],\n",
       "       [12.181701 ],\n",
       "       [ 8.129061 ],\n",
       "       [ 8.0541525],\n",
       "       [ 8.945762 ],\n",
       "       [ 5.861569 ],\n",
       "       [ 7.9596343],\n",
       "       [11.231282 ],\n",
       "       [ 8.327538 ],\n",
       "       [ 8.221026 ],\n",
       "       [11.635768 ],\n",
       "       [ 7.0153356],\n",
       "       [ 6.8479686],\n",
       "       [ 8.5271435],\n",
       "       [12.529435 ],\n",
       "       [13.501255 ],\n",
       "       [12.459095 ],\n",
       "       [11.893772 ],\n",
       "       [ 7.8972254],\n",
       "       [ 6.8558292],\n",
       "       [11.501856 ],\n",
       "       [ 7.712427 ],\n",
       "       [ 7.9834943],\n",
       "       [ 7.5797276],\n",
       "       [ 6.1047173],\n",
       "       [ 8.083303 ],\n",
       "       [ 7.9732833],\n",
       "       [11.290423 ],\n",
       "       [12.097293 ],\n",
       "       [11.121508 ],\n",
       "       [ 9.553568 ],\n",
       "       [ 8.023925 ],\n",
       "       [ 6.031871 ],\n",
       "       [ 8.007298 ],\n",
       "       [ 6.939268 ],\n",
       "       [11.3905525],\n",
       "       [12.067253 ],\n",
       "       [12.672584 ],\n",
       "       [11.537322 ],\n",
       "       [ 9.311029 ],\n",
       "       [12.626096 ],\n",
       "       [ 6.5955157],\n",
       "       [ 6.329664 ],\n",
       "       [11.487811 ],\n",
       "       [ 8.07939  ],\n",
       "       [ 5.5925775],\n",
       "       [ 6.697164 ],\n",
       "       [ 7.769615 ],\n",
       "       [ 7.889919 ],\n",
       "       [ 9.2169895],\n",
       "       [12.313119 ],\n",
       "       [ 6.3043303],\n",
       "       [ 7.0100594],\n",
       "       [12.250026 ],\n",
       "       [11.945922 ],\n",
       "       [ 8.349537 ],\n",
       "       [ 8.551013 ],\n",
       "       [12.145692 ],\n",
       "       [11.783681 ],\n",
       "       [ 7.59997  ],\n",
       "       [ 6.9976873],\n",
       "       [ 7.811768 ],\n",
       "       [ 7.6059346],\n",
       "       [ 7.8373303],\n",
       "       [ 5.0990252],\n",
       "       [11.652991 ],\n",
       "       [ 8.708417 ],\n",
       "       [12.200756 ],\n",
       "       [12.343001 ],\n",
       "       [ 7.6343045],\n",
       "       [ 8.229779 ],\n",
       "       [12.950704 ],\n",
       "       [11.747612 ],\n",
       "       [ 5.681155 ],\n",
       "       [12.900013 ],\n",
       "       [11.424468 ],\n",
       "       [ 9.670352 ],\n",
       "       [ 4.1058054],\n",
       "       [12.005289 ],\n",
       "       [11.770062 ],\n",
       "       [ 7.908738 ],\n",
       "       [ 7.146307 ],\n",
       "       [ 8.266455 ],\n",
       "       [ 8.633107 ],\n",
       "       [ 5.948936 ],\n",
       "       [11.693661 ],\n",
       "       [ 5.9886103],\n",
       "       [12.4734535],\n",
       "       [ 8.342062 ],\n",
       "       [ 7.1482983],\n",
       "       [11.890496 ],\n",
       "       [11.963306 ],\n",
       "       [11.6614275],\n",
       "       [ 9.45072  ],\n",
       "       [ 6.9868503],\n",
       "       [12.814199 ],\n",
       "       [ 9.504748 ],\n",
       "       [ 6.0490885],\n",
       "       [ 7.861124 ],\n",
       "       [11.923252 ],\n",
       "       [12.726355 ],\n",
       "       [ 6.7594156],\n",
       "       [ 6.2091312],\n",
       "       [ 8.008208 ],\n",
       "       [11.420358 ],\n",
       "       [11.855004 ],\n",
       "       [11.7514305],\n",
       "       [ 8.144391 ],\n",
       "       [11.5280285],\n",
       "       [11.6641   ],\n",
       "       [ 7.327882 ],\n",
       "       [ 7.9381166],\n",
       "       [12.139119 ],\n",
       "       [11.933556 ],\n",
       "       [ 8.49737  ],\n",
       "       [ 5.753761 ],\n",
       "       [11.352927 ],\n",
       "       [ 5.4971924],\n",
       "       [ 4.9849405],\n",
       "       [ 5.835848 ],\n",
       "       [11.819092 ],\n",
       "       [ 7.64598  ],\n",
       "       [ 5.912709 ],\n",
       "       [ 6.9184346],\n",
       "       [ 8.155407 ],\n",
       "       [ 4.6640534],\n",
       "       [ 5.2088003],\n",
       "       [ 7.700115 ],\n",
       "       [11.766652 ],\n",
       "       [11.827859 ],\n",
       "       [11.79941  ],\n",
       "       [ 6.1840215],\n",
       "       [ 8.577867 ],\n",
       "       [11.144672 ],\n",
       "       [ 8.217653 ],\n",
       "       [ 7.3251066],\n",
       "       [ 9.625104 ],\n",
       "       [11.96185  ],\n",
       "       [ 7.859934 ],\n",
       "       [ 5.3579426],\n",
       "       [12.259648 ],\n",
       "       [ 6.4550776],\n",
       "       [ 5.979668 ],\n",
       "       [ 7.024029 ],\n",
       "       [11.696036 ],\n",
       "       [ 7.6559477],\n",
       "       [11.550844 ],\n",
       "       [ 9.190918 ],\n",
       "       [ 6.817634 ],\n",
       "       [ 7.7645507],\n",
       "       [ 7.12408  ],\n",
       "       [11.500889 ],\n",
       "       [ 8.218558 ],\n",
       "       [ 7.7936506],\n",
       "       [ 8.824497 ],\n",
       "       [ 6.758691 ],\n",
       "       [ 7.24746  ],\n",
       "       [11.148013 ],\n",
       "       [ 7.7154326],\n",
       "       [ 8.079658 ],\n",
       "       [12.174262 ],\n",
       "       [ 6.727735 ],\n",
       "       [ 7.1523542],\n",
       "       [10.454005 ],\n",
       "       [13.061526 ],\n",
       "       [12.958073 ],\n",
       "       [12.117198 ],\n",
       "       [ 7.1924973],\n",
       "       [ 7.076087 ],\n",
       "       [11.668353 ],\n",
       "       [ 7.6942143],\n",
       "       [ 6.1849284],\n",
       "       [ 8.356634 ],\n",
       "       [ 6.7535877],\n",
       "       [ 7.66946  ],\n",
       "       [ 8.051442 ],\n",
       "       [11.678455 ],\n",
       "       [11.921728 ],\n",
       "       [12.20146  ],\n",
       "       [ 9.278227 ],\n",
       "       [ 7.9208627],\n",
       "       [ 5.775518 ],\n",
       "       [ 7.9640365],\n",
       "       [ 7.17296  ],\n",
       "       [10.466254 ],\n",
       "       [11.45091  ],\n",
       "       [13.101015 ],\n",
       "       [12.539344 ],\n",
       "       [ 8.88847  ],\n",
       "       [12.386364 ],\n",
       "       [ 8.686159 ],\n",
       "       [ 6.000798 ],\n",
       "       [11.919787 ],\n",
       "       [ 8.833542 ],\n",
       "       [ 5.559205 ],\n",
       "       [ 4.8838143],\n",
       "       [ 7.7701163],\n",
       "       [ 7.906504 ],\n",
       "       [ 8.750819 ],\n",
       "       [12.496964 ],\n",
       "       [ 5.104078 ],\n",
       "       [ 5.9008064],\n",
       "       [12.146421 ],\n",
       "       [11.679943 ],\n",
       "       [ 9.5325365],\n",
       "       [ 8.562401 ],\n",
       "       [11.691482 ],\n",
       "       [11.851049 ],\n",
       "       [ 8.186679 ],\n",
       "       [ 6.992872 ]], dtype=float32)"
      ]
     },
     "execution_count": 46,
     "metadata": {},
     "output_type": "execute_result"
    }
   ],
   "source": [
    "pre = model.predict(feature_test)\n",
    "pre"
   ]
  },
  {
   "cell_type": "code",
   "execution_count": 47,
   "metadata": {
    "ExecuteTime": {
     "end_time": "2022-05-18T10:34:13.987515Z",
     "start_time": "2022-05-18T10:34:13.973553Z"
    }
   },
   "outputs": [
    {
     "data": {
      "text/plain": [
       "array([[0.],\n",
       "       [0.],\n",
       "       [0.],\n",
       "       [0.],\n",
       "       [0.],\n",
       "       [0.],\n",
       "       [0.],\n",
       "       [0.],\n",
       "       [0.],\n",
       "       [0.],\n",
       "       [0.],\n",
       "       [0.],\n",
       "       [0.],\n",
       "       [0.],\n",
       "       [0.],\n",
       "       [0.],\n",
       "       [0.],\n",
       "       [0.],\n",
       "       [0.],\n",
       "       [0.],\n",
       "       [0.],\n",
       "       [0.],\n",
       "       [0.],\n",
       "       [0.],\n",
       "       [0.],\n",
       "       [0.],\n",
       "       [0.],\n",
       "       [0.],\n",
       "       [0.],\n",
       "       [0.],\n",
       "       [0.],\n",
       "       [0.],\n",
       "       [0.],\n",
       "       [0.],\n",
       "       [0.],\n",
       "       [0.],\n",
       "       [0.],\n",
       "       [0.],\n",
       "       [0.],\n",
       "       [0.],\n",
       "       [0.],\n",
       "       [0.],\n",
       "       [0.],\n",
       "       [0.],\n",
       "       [0.],\n",
       "       [0.],\n",
       "       [0.],\n",
       "       [0.],\n",
       "       [0.],\n",
       "       [0.],\n",
       "       [0.],\n",
       "       [0.],\n",
       "       [0.],\n",
       "       [0.],\n",
       "       [0.],\n",
       "       [0.],\n",
       "       [0.],\n",
       "       [0.],\n",
       "       [0.],\n",
       "       [0.],\n",
       "       [0.],\n",
       "       [0.],\n",
       "       [0.],\n",
       "       [0.],\n",
       "       [0.],\n",
       "       [0.],\n",
       "       [0.],\n",
       "       [0.],\n",
       "       [0.],\n",
       "       [0.],\n",
       "       [0.],\n",
       "       [0.],\n",
       "       [0.],\n",
       "       [0.],\n",
       "       [0.],\n",
       "       [0.],\n",
       "       [0.],\n",
       "       [0.],\n",
       "       [0.],\n",
       "       [0.],\n",
       "       [0.],\n",
       "       [0.],\n",
       "       [0.],\n",
       "       [0.],\n",
       "       [0.],\n",
       "       [0.],\n",
       "       [0.],\n",
       "       [0.],\n",
       "       [0.],\n",
       "       [0.],\n",
       "       [0.],\n",
       "       [0.],\n",
       "       [0.],\n",
       "       [0.],\n",
       "       [0.],\n",
       "       [0.],\n",
       "       [0.],\n",
       "       [0.],\n",
       "       [0.],\n",
       "       [0.],\n",
       "       [0.],\n",
       "       [0.],\n",
       "       [0.],\n",
       "       [0.],\n",
       "       [0.],\n",
       "       [0.],\n",
       "       [0.],\n",
       "       [0.],\n",
       "       [0.],\n",
       "       [0.],\n",
       "       [0.],\n",
       "       [0.],\n",
       "       [0.],\n",
       "       [0.],\n",
       "       [0.],\n",
       "       [0.],\n",
       "       [0.],\n",
       "       [0.],\n",
       "       [0.],\n",
       "       [0.],\n",
       "       [0.],\n",
       "       [0.],\n",
       "       [0.],\n",
       "       [0.],\n",
       "       [0.],\n",
       "       [0.],\n",
       "       [0.],\n",
       "       [0.],\n",
       "       [0.],\n",
       "       [0.],\n",
       "       [0.],\n",
       "       [0.],\n",
       "       [0.],\n",
       "       [0.],\n",
       "       [0.],\n",
       "       [0.],\n",
       "       [0.],\n",
       "       [0.],\n",
       "       [0.],\n",
       "       [0.],\n",
       "       [0.],\n",
       "       [0.],\n",
       "       [0.],\n",
       "       [0.],\n",
       "       [0.],\n",
       "       [0.],\n",
       "       [0.],\n",
       "       [0.],\n",
       "       [0.],\n",
       "       [0.],\n",
       "       [0.],\n",
       "       [0.],\n",
       "       [0.],\n",
       "       [0.],\n",
       "       [0.],\n",
       "       [0.],\n",
       "       [0.],\n",
       "       [0.],\n",
       "       [0.],\n",
       "       [0.],\n",
       "       [0.],\n",
       "       [0.],\n",
       "       [0.],\n",
       "       [0.],\n",
       "       [0.],\n",
       "       [0.],\n",
       "       [0.],\n",
       "       [0.],\n",
       "       [0.],\n",
       "       [0.],\n",
       "       [0.],\n",
       "       [0.],\n",
       "       [0.],\n",
       "       [0.],\n",
       "       [0.],\n",
       "       [0.],\n",
       "       [0.],\n",
       "       [0.],\n",
       "       [0.],\n",
       "       [0.],\n",
       "       [0.],\n",
       "       [0.],\n",
       "       [0.],\n",
       "       [0.],\n",
       "       [0.],\n",
       "       [0.],\n",
       "       [0.],\n",
       "       [0.],\n",
       "       [0.],\n",
       "       [0.],\n",
       "       [0.],\n",
       "       [0.],\n",
       "       [0.],\n",
       "       [0.],\n",
       "       [0.],\n",
       "       [0.],\n",
       "       [0.],\n",
       "       [0.],\n",
       "       [0.],\n",
       "       [0.],\n",
       "       [0.],\n",
       "       [0.],\n",
       "       [0.],\n",
       "       [0.],\n",
       "       [0.],\n",
       "       [0.],\n",
       "       [0.],\n",
       "       [0.],\n",
       "       [0.],\n",
       "       [0.],\n",
       "       [0.],\n",
       "       [0.],\n",
       "       [0.],\n",
       "       [0.],\n",
       "       [0.],\n",
       "       [0.],\n",
       "       [0.],\n",
       "       [0.],\n",
       "       [0.],\n",
       "       [0.],\n",
       "       [0.],\n",
       "       [0.],\n",
       "       [0.],\n",
       "       [0.],\n",
       "       [0.],\n",
       "       [0.],\n",
       "       [0.],\n",
       "       [0.],\n",
       "       [0.],\n",
       "       [0.],\n",
       "       [0.],\n",
       "       [0.],\n",
       "       [0.],\n",
       "       [0.],\n",
       "       [0.],\n",
       "       [0.],\n",
       "       [0.],\n",
       "       [0.],\n",
       "       [0.],\n",
       "       [0.],\n",
       "       [0.],\n",
       "       [0.],\n",
       "       [0.],\n",
       "       [0.],\n",
       "       [0.],\n",
       "       [0.],\n",
       "       [0.],\n",
       "       [0.],\n",
       "       [0.],\n",
       "       [0.],\n",
       "       [0.],\n",
       "       [0.],\n",
       "       [0.],\n",
       "       [0.],\n",
       "       [0.],\n",
       "       [0.],\n",
       "       [0.],\n",
       "       [0.],\n",
       "       [0.],\n",
       "       [0.],\n",
       "       [0.],\n",
       "       [0.],\n",
       "       [0.],\n",
       "       [0.],\n",
       "       [0.],\n",
       "       [0.],\n",
       "       [0.],\n",
       "       [0.],\n",
       "       [0.],\n",
       "       [0.],\n",
       "       [0.],\n",
       "       [0.],\n",
       "       [0.],\n",
       "       [0.],\n",
       "       [0.],\n",
       "       [0.],\n",
       "       [0.],\n",
       "       [0.],\n",
       "       [0.],\n",
       "       [0.],\n",
       "       [0.],\n",
       "       [0.],\n",
       "       [0.],\n",
       "       [0.],\n",
       "       [0.],\n",
       "       [0.],\n",
       "       [0.],\n",
       "       [0.],\n",
       "       [0.],\n",
       "       [0.],\n",
       "       [0.],\n",
       "       [0.],\n",
       "       [0.],\n",
       "       [0.],\n",
       "       [0.],\n",
       "       [0.],\n",
       "       [0.],\n",
       "       [0.],\n",
       "       [0.],\n",
       "       [0.],\n",
       "       [0.],\n",
       "       [0.],\n",
       "       [0.],\n",
       "       [0.],\n",
       "       [0.],\n",
       "       [0.],\n",
       "       [0.],\n",
       "       [0.],\n",
       "       [0.],\n",
       "       [0.],\n",
       "       [0.],\n",
       "       [0.],\n",
       "       [0.],\n",
       "       [0.],\n",
       "       [0.],\n",
       "       [0.],\n",
       "       [0.],\n",
       "       [0.],\n",
       "       [0.],\n",
       "       [0.],\n",
       "       [0.],\n",
       "       [0.],\n",
       "       [0.],\n",
       "       [0.],\n",
       "       [0.],\n",
       "       [0.],\n",
       "       [0.],\n",
       "       [0.],\n",
       "       [0.],\n",
       "       [0.],\n",
       "       [0.],\n",
       "       [0.],\n",
       "       [0.],\n",
       "       [0.],\n",
       "       [0.],\n",
       "       [0.],\n",
       "       [0.],\n",
       "       [0.],\n",
       "       [0.],\n",
       "       [0.],\n",
       "       [0.],\n",
       "       [0.],\n",
       "       [0.],\n",
       "       [0.],\n",
       "       [0.],\n",
       "       [0.],\n",
       "       [0.],\n",
       "       [0.],\n",
       "       [0.],\n",
       "       [0.],\n",
       "       [0.],\n",
       "       [0.],\n",
       "       [0.],\n",
       "       [0.],\n",
       "       [0.],\n",
       "       [0.],\n",
       "       [0.],\n",
       "       [0.],\n",
       "       [0.],\n",
       "       [0.],\n",
       "       [0.],\n",
       "       [0.],\n",
       "       [0.],\n",
       "       [0.],\n",
       "       [0.],\n",
       "       [0.],\n",
       "       [0.],\n",
       "       [0.],\n",
       "       [0.],\n",
       "       [0.],\n",
       "       [0.],\n",
       "       [0.],\n",
       "       [0.],\n",
       "       [0.],\n",
       "       [0.],\n",
       "       [0.],\n",
       "       [0.],\n",
       "       [0.],\n",
       "       [0.],\n",
       "       [0.],\n",
       "       [0.],\n",
       "       [0.],\n",
       "       [0.],\n",
       "       [0.],\n",
       "       [0.],\n",
       "       [0.],\n",
       "       [0.],\n",
       "       [0.],\n",
       "       [0.],\n",
       "       [0.],\n",
       "       [0.],\n",
       "       [0.],\n",
       "       [0.],\n",
       "       [0.],\n",
       "       [0.],\n",
       "       [0.],\n",
       "       [0.],\n",
       "       [0.],\n",
       "       [0.],\n",
       "       [0.],\n",
       "       [0.],\n",
       "       [0.],\n",
       "       [0.],\n",
       "       [0.],\n",
       "       [0.],\n",
       "       [0.],\n",
       "       [0.],\n",
       "       [0.],\n",
       "       [0.],\n",
       "       [0.],\n",
       "       [0.],\n",
       "       [0.],\n",
       "       [0.],\n",
       "       [0.],\n",
       "       [0.],\n",
       "       [0.],\n",
       "       [0.],\n",
       "       [0.],\n",
       "       [0.],\n",
       "       [0.],\n",
       "       [0.],\n",
       "       [0.],\n",
       "       [0.],\n",
       "       [0.],\n",
       "       [0.],\n",
       "       [0.],\n",
       "       [0.],\n",
       "       [0.],\n",
       "       [0.],\n",
       "       [0.],\n",
       "       [0.],\n",
       "       [0.],\n",
       "       [0.],\n",
       "       [0.],\n",
       "       [0.],\n",
       "       [0.],\n",
       "       [0.],\n",
       "       [0.],\n",
       "       [0.],\n",
       "       [0.],\n",
       "       [0.],\n",
       "       [0.],\n",
       "       [0.],\n",
       "       [0.],\n",
       "       [0.],\n",
       "       [0.],\n",
       "       [0.],\n",
       "       [0.],\n",
       "       [0.],\n",
       "       [0.],\n",
       "       [0.],\n",
       "       [0.],\n",
       "       [0.],\n",
       "       [0.],\n",
       "       [0.],\n",
       "       [0.],\n",
       "       [0.],\n",
       "       [0.],\n",
       "       [0.],\n",
       "       [0.],\n",
       "       [0.],\n",
       "       [0.],\n",
       "       [0.],\n",
       "       [0.],\n",
       "       [0.],\n",
       "       [0.],\n",
       "       [0.],\n",
       "       [0.],\n",
       "       [0.],\n",
       "       [0.],\n",
       "       [0.],\n",
       "       [0.],\n",
       "       [0.],\n",
       "       [0.],\n",
       "       [0.],\n",
       "       [0.],\n",
       "       [0.],\n",
       "       [0.],\n",
       "       [0.],\n",
       "       [0.],\n",
       "       [0.],\n",
       "       [0.],\n",
       "       [0.],\n",
       "       [0.],\n",
       "       [0.],\n",
       "       [0.],\n",
       "       [0.],\n",
       "       [0.],\n",
       "       [0.],\n",
       "       [0.],\n",
       "       [0.],\n",
       "       [0.],\n",
       "       [0.],\n",
       "       [0.],\n",
       "       [0.],\n",
       "       [0.],\n",
       "       [0.],\n",
       "       [0.],\n",
       "       [0.],\n",
       "       [0.],\n",
       "       [0.],\n",
       "       [0.],\n",
       "       [0.],\n",
       "       [0.],\n",
       "       [0.],\n",
       "       [0.],\n",
       "       [0.],\n",
       "       [0.],\n",
       "       [0.],\n",
       "       [0.],\n",
       "       [0.],\n",
       "       [0.],\n",
       "       [0.],\n",
       "       [0.],\n",
       "       [0.],\n",
       "       [0.],\n",
       "       [0.],\n",
       "       [0.],\n",
       "       [0.],\n",
       "       [0.],\n",
       "       [0.],\n",
       "       [0.],\n",
       "       [0.],\n",
       "       [0.],\n",
       "       [0.],\n",
       "       [0.],\n",
       "       [0.],\n",
       "       [0.],\n",
       "       [0.],\n",
       "       [0.],\n",
       "       [0.],\n",
       "       [0.],\n",
       "       [0.],\n",
       "       [0.],\n",
       "       [0.],\n",
       "       [0.],\n",
       "       [0.],\n",
       "       [0.],\n",
       "       [0.],\n",
       "       [0.],\n",
       "       [0.],\n",
       "       [0.],\n",
       "       [0.],\n",
       "       [0.],\n",
       "       [0.],\n",
       "       [0.],\n",
       "       [0.],\n",
       "       [0.],\n",
       "       [0.],\n",
       "       [0.],\n",
       "       [0.],\n",
       "       [0.],\n",
       "       [0.],\n",
       "       [0.],\n",
       "       [0.],\n",
       "       [0.],\n",
       "       [0.],\n",
       "       [0.],\n",
       "       [0.],\n",
       "       [0.],\n",
       "       [0.],\n",
       "       [0.],\n",
       "       [0.],\n",
       "       [0.],\n",
       "       [0.],\n",
       "       [0.],\n",
       "       [0.],\n",
       "       [0.],\n",
       "       [0.],\n",
       "       [0.],\n",
       "       [0.],\n",
       "       [0.],\n",
       "       [0.],\n",
       "       [0.],\n",
       "       [0.],\n",
       "       [0.],\n",
       "       [0.],\n",
       "       [0.],\n",
       "       [0.],\n",
       "       [0.],\n",
       "       [0.],\n",
       "       [0.],\n",
       "       [0.],\n",
       "       [0.],\n",
       "       [0.],\n",
       "       [0.],\n",
       "       [0.],\n",
       "       [0.],\n",
       "       [0.],\n",
       "       [0.],\n",
       "       [0.],\n",
       "       [0.],\n",
       "       [0.],\n",
       "       [0.],\n",
       "       [0.],\n",
       "       [0.],\n",
       "       [0.]], dtype=float32)"
      ]
     },
     "execution_count": 47,
     "metadata": {},
     "output_type": "execute_result"
    }
   ],
   "source": [
    "diff_pre = pre0-pre\n",
    "diff_pre"
   ]
  },
  {
   "cell_type": "code",
   "execution_count": 48,
   "metadata": {
    "ExecuteTime": {
     "end_time": "2022-05-18T10:34:15.602890Z",
     "start_time": "2022-05-18T10:34:15.593914Z"
    }
   },
   "outputs": [],
   "source": [
    "small = 0.0001\n",
    "if np.max(np.abs(pre0 - pre)) > small:\n",
    "    different = True\n",
    "else:\n",
    "    different = False"
   ]
  },
  {
   "cell_type": "code",
   "execution_count": 49,
   "metadata": {
    "ExecuteTime": {
     "end_time": "2022-05-18T10:34:17.655319Z",
     "start_time": "2022-05-18T10:34:17.642354Z"
    },
    "scrolled": false
   },
   "outputs": [],
   "source": [
    "if different:\n",
    "    b, err = pre_ana(pre, label_test)\n",
    "    fout = open(path_fitinfo, 'a')\n",
    "    print(\"Prediction(Saved model):\")\n",
    "    print(\"\\nPrediction(Saved model):\", file=fout)\n",
    "    for key in b.keys():\n",
    "        print(f\"  {key:<20}: {b[key]:>11.7f}  VS  {a[key]:>11.7f}  diff= {(b[key]-a[key]):>11.7f}\")\n",
    "        print(f\"  {key:<20}: {b[key]:>11.7f}  VS  {a[key]:>11.7f}  diff= {(b[key]-a[key]):>11.7f}\", file=fout)\n",
    "    fout.close()"
   ]
  },
  {
   "cell_type": "markdown",
   "metadata": {},
   "source": [
    "## 将本来值、预测值输出到文件中"
   ]
  },
  {
   "cell_type": "code",
   "execution_count": 50,
   "metadata": {
    "ExecuteTime": {
     "end_time": "2022-05-18T10:34:19.104333Z",
     "start_time": "2022-05-18T10:34:19.086314Z"
    }
   },
   "outputs": [],
   "source": [
    "file_pre_txt =  model_pre_time + '_pre.txt'\n",
    "path_pre_txt = os.path.join(path_pre,file_pre_txt)"
   ]
  },
  {
   "cell_type": "code",
   "execution_count": 51,
   "metadata": {
    "ExecuteTime": {
     "end_time": "2022-05-18T10:34:19.842108Z",
     "start_time": "2022-05-18T10:34:19.829094Z"
    }
   },
   "outputs": [
    {
     "name": "stdout",
     "output_type": "stream",
     "text": [
      "  No. Label Pre_best     Diff      Error Pre_saved Pre_diff\n"
     ]
    }
   ],
   "source": [
    "fout = open(path_pre_txt,'w')\n",
    "str_no = 'No.'\n",
    "str_lab = 'Label'\n",
    "str_pre = 'Pre_best'\n",
    "str_diff = 'Diff'\n",
    "str_err = 'Error'\n",
    "str_pre2 = 'Pre_saved'\n",
    "str_pre_diff = 'Pre_diff'\n",
    "print(f\"{str_no:>5} {str_lab:>5} {str_pre:>8} {str_diff:>8} {str_err:>10} {str_pre2:>8} {str_pre_diff:>8}\")\n",
    "print(f\"{str_no:>5} {str_lab:>5} {str_pre:>8} {str_diff:>8} {str_err:>10} {str_pre2:>8} {str_pre_diff:>8}\", file=fout)"
   ]
  },
  {
   "cell_type": "code",
   "execution_count": 54,
   "metadata": {
    "ExecuteTime": {
     "end_time": "2022-05-18T10:41:52.935035Z",
     "start_time": "2022-05-18T10:41:52.880170Z"
    }
   },
   "outputs": [
    {
     "name": "stdout",
     "output_type": "stream",
     "text": [
      "    1   8.0   8.3236   0.3236   4.045E-02   8.3236   0.0000\n",
      "    2   8.0   8.0086   0.0086   1.074E-03   8.0086   0.0000\n",
      "    3   8.0   7.9820  -0.0180  -2.252E-03   7.9820   0.0000\n",
      "    4   7.0   7.3915   0.3915   5.593E-02   7.3915   0.0000\n",
      "    5   6.0   6.0059   0.0059   9.894E-04   6.0059   0.0000\n",
      "    6  12.0  11.7235  -0.2765  -2.304E-02  11.7235   0.0000\n",
      "    7   9.0   9.0582   0.0582   6.471E-03   9.0582   0.0000\n",
      "    8  13.0  12.3687  -0.6313  -4.856E-02  12.3687   0.0000\n",
      "    9  12.0  11.8202  -0.1798  -1.498E-02  11.8202   0.0000\n",
      "   10   8.0   7.7663  -0.2337  -2.922E-02   7.7663   0.0000\n",
      "   11   7.0   7.0121   0.0121   1.735E-03   7.0121   0.0000\n",
      "   12  14.0  13.8707  -0.1293  -9.236E-03  13.8707   0.0000\n",
      "   13  12.0  11.6739  -0.3261  -2.718E-02  11.6739   0.0000\n",
      "   14   6.0   5.8354  -0.1646  -2.744E-02   5.8354   0.0000\n",
      "   15  13.0  12.1648  -0.8352  -6.425E-02  12.1648   0.0000\n",
      "   16  12.0  11.8376  -0.1624  -1.354E-02  11.8376   0.0000\n",
      "   17   9.0   9.1803   0.1803   2.003E-02   9.1803   0.0000\n",
      "   18   5.0   4.9112  -0.0888  -1.775E-02   4.9112   0.0000\n",
      "   19  12.0  11.4803  -0.5197  -4.331E-02  11.4803   0.0000\n",
      "   20  12.0  11.7477  -0.2523  -2.103E-02  11.7477   0.0000\n",
      "   21   9.0   8.2257  -0.7743  -8.604E-02   8.2257   0.0000\n",
      "   22   8.0   7.6876  -0.3124  -3.905E-02   7.6876   0.0000\n",
      "   23   8.0   7.8815  -0.1185  -1.481E-02   7.8815   0.0000\n",
      "   24   8.0   7.4989  -0.5011  -6.263E-02   7.4989   0.0000\n",
      "   25   5.0   5.5581   0.5581   1.116E-01   5.5581   0.0000\n",
      "   26  12.0  11.6699  -0.3301  -2.751E-02  11.6699   0.0000\n",
      "   27   7.0   6.8490  -0.1510  -2.157E-02   6.8490   0.0000\n",
      "   28  13.0  12.4240  -0.5760  -4.431E-02  12.4240   0.0000\n",
      "   29   8.0   7.7720  -0.2280  -2.850E-02   7.7720   0.0000\n",
      "   30   8.0   8.0964   0.0964   1.205E-02   8.0964   0.0000\n",
      "   31  13.0  12.0433  -0.9567  -7.359E-02  12.0433   0.0000\n",
      "   32  12.0  11.7636  -0.2364  -1.970E-02  11.7636   0.0000\n",
      "   33  12.0  11.8987  -0.1013  -8.441E-03  11.8987   0.0000\n",
      "   34   8.0   7.9739  -0.0261  -3.263E-03   7.9739   0.0000\n",
      "   35   6.0   6.0685   0.0685   1.142E-02   6.0685   0.0000\n",
      "   36  14.0  13.1841  -0.8159  -5.828E-02  13.1841   0.0000\n",
      "   37   9.0   9.3479   0.3479   3.866E-02   9.3479   0.0000\n",
      "   38   7.0   6.8349  -0.1651  -2.359E-02   6.8349   0.0000\n",
      "   39   8.0   8.0173   0.0173   2.160E-03   8.0173   0.0000\n",
      "   40  12.0  11.7947  -0.2053  -1.711E-02  11.7947   0.0000\n",
      "   41  12.0  12.3255   0.3255   2.712E-02  12.3255   0.0000\n",
      "   42   7.0   6.8207  -0.1793  -2.561E-02   6.8207   0.0000\n",
      "   43   8.0   7.7754  -0.2246  -2.808E-02   7.7754   0.0000\n",
      "   44   9.0   9.1543   0.1543   1.714E-02   9.1543   0.0000\n",
      "   45  12.0  11.6761  -0.3239  -2.699E-02  11.6761   0.0000\n",
      "   46  12.0  11.9683  -0.0317  -2.642E-03  11.9683   0.0000\n",
      "   47  12.0  12.5517   0.5517   4.597E-02  12.5517   0.0000\n",
      "   48   8.0   8.2093   0.2093   2.616E-02   8.2093   0.0000\n",
      "   49  12.0  11.8306  -0.1694  -1.412E-02  11.8306   0.0000\n",
      "   50  12.0  11.5999  -0.4001  -3.334E-02  11.5999   0.0000\n",
      "   51   6.0   6.0496   0.0496   8.269E-03   6.0496   0.0000\n",
      "   52   6.0   6.6510   0.6510   1.085E-01   6.6510   0.0000\n",
      "   53  11.0  11.7068   0.7068   6.426E-02  11.7068   0.0000\n",
      "   54  12.0  11.7449  -0.2551  -2.126E-02  11.7449   0.0000\n",
      "   55   8.0   7.9030  -0.0970  -1.213E-02   7.9030   0.0000\n",
      "   56   6.0   6.0894   0.0894   1.490E-02   6.0894   0.0000\n",
      "   57  12.0  11.6173  -0.3827  -3.190E-02  11.6173   0.0000\n",
      "   58   6.0   5.4404  -0.5596  -9.327E-02   5.4404   0.0000\n",
      "   59   6.0   7.0243   1.0243   1.707E-01   7.0243   0.0000\n",
      "   60   7.0   6.9285  -0.0715  -1.021E-02   6.9285   0.0000\n",
      "   61  12.0  12.3608   0.3608   3.006E-02  12.3608   0.0000\n",
      "   62   9.0   8.4193  -0.5807  -6.452E-02   8.4193   0.0000\n",
      "   63   8.0   7.5500  -0.4500  -5.624E-02   7.5500   0.0000\n",
      "   64   4.0   5.6094   1.6094   4.024E-01   5.6094   0.0000\n",
      "   65   8.0   7.9286  -0.0714  -8.925E-03   7.9286   0.0000\n",
      "   66   6.0   5.9696  -0.0304  -5.069E-03   5.9696   0.0000\n",
      "   67   6.0   5.8738  -0.1262  -2.103E-02   5.8738   0.0000\n",
      "   68   8.0   7.9004  -0.0996  -1.245E-02   7.9004   0.0000\n",
      "   69  12.0  11.9500  -0.0500  -4.164E-03  11.9500   0.0000\n",
      "   70  12.0  11.8808  -0.1192  -9.931E-03  11.8808   0.0000\n",
      "   71  12.0  11.8467  -0.1533  -1.277E-02  11.8467   0.0000\n",
      "   72   6.0   5.8781  -0.1219  -2.032E-02   5.8781   0.0000\n",
      "   73   9.0   9.1122   0.1122   1.246E-02   9.1122   0.0000\n",
      "   74  12.0  11.8275  -0.1725  -1.437E-02  11.8275   0.0000\n",
      "   75   8.0   7.8109  -0.1891  -2.363E-02   7.8109   0.0000\n",
      "   76  10.0  10.1289   0.1289   1.289E-02  10.1289   0.0000\n",
      "   77   9.0   8.2949  -0.7051  -7.834E-02   8.2949   0.0000\n",
      "   78  12.0  11.8211  -0.1789  -1.491E-02  11.8211   0.0000\n",
      "   79   8.0   8.1194   0.1194   1.492E-02   8.1194   0.0000\n",
      "   80   6.0   6.1558   0.1558   2.596E-02   6.1558   0.0000\n",
      "   81  12.0  11.6673  -0.3327  -2.773E-02  11.6673   0.0000\n",
      "   82   6.0   5.2293  -0.7707  -1.285E-01   5.2293   0.0000\n",
      "   83   4.0   6.6642   2.6642   6.661E-01   6.6642   0.0000\n",
      "   84   7.0   6.9522  -0.0478  -6.828E-03   6.9522   0.0000\n",
      "   85  12.0  11.7011  -0.2989  -2.491E-02  11.7011   0.0000\n",
      "   86  10.0  11.0876   1.0876   1.088E-01  11.0876   0.0000\n",
      "   87  12.0  11.6931  -0.3069  -2.558E-02  11.6931   0.0000\n",
      "   88   9.0   9.1052   0.1052   1.169E-02   9.1052   0.0000\n",
      "   89   8.0   7.4226  -0.5774  -7.217E-02   7.4226   0.0000\n",
      "   90   8.0   7.8357  -0.1643  -2.054E-02   7.8357   0.0000\n",
      "   91   6.0   6.0351   0.0351   5.853E-03   6.0351   0.0000\n",
      "   92  12.0  12.1222   0.1222   1.019E-02  12.1222   0.0000\n",
      "   93   9.0   8.7648  -0.2352  -2.613E-02   8.7648   0.0000\n",
      "   94   8.0   8.1155   0.1155   1.443E-02   8.1155   0.0000\n",
      "   95   9.0   8.7315  -0.2685  -2.983E-02   8.7315   0.0000\n",
      "   96   5.0   5.3976   0.3976   7.952E-02   5.3976   0.0000\n",
      "   97   8.0   8.0411   0.0411   5.138E-03   8.0411   0.0000\n",
      "   98  10.0  10.3561   0.3561   3.561E-02  10.3561   0.0000\n",
      "   99   7.0   6.9458  -0.0542  -7.739E-03   6.9458   0.0000\n",
      "  100   8.0   8.1211   0.1211   1.514E-02   8.1211   0.0000\n",
      "  101  13.0  12.6482  -0.3518  -2.706E-02  12.6482   0.0000\n",
      "  102   7.0   7.0719   0.0719   1.027E-02   7.0719   0.0000\n",
      "  103   7.0   6.9155  -0.0845  -1.207E-02   6.9155   0.0000\n",
      "  104  10.0  11.9288   1.9288   1.929E-01  11.9288   0.0000\n",
      "  105  12.0  11.8260  -0.1740  -1.450E-02  11.8260   0.0000\n",
      "  106  14.0  12.2120  -1.7880  -1.277E-01  12.2120   0.0000\n",
      "  107  12.0  11.7276  -0.2724  -2.270E-02  11.7276   0.0000\n",
      "  108  12.0  11.8552  -0.1448  -1.207E-02  11.8552   0.0000\n",
      "  109   8.0   7.4457  -0.5543  -6.929E-02   7.4457   0.0000\n",
      "  110   7.0   7.4019   0.4019   5.741E-02   7.4019   0.0000\n",
      "  111  12.0  11.7109  -0.2891  -2.409E-02  11.7109   0.0000\n",
      "  112   8.0   7.6311  -0.3689  -4.611E-02   7.6311   0.0000\n",
      "  113   7.0   6.8638  -0.1362  -1.946E-02   6.8638   0.0000\n",
      "  114   7.0   7.6251   0.6251   8.929E-02   7.6251   0.0000\n",
      "  115   7.0   7.0116   0.0116   1.653E-03   7.0116   0.0000\n",
      "  116   8.0   8.0583   0.0583   7.282E-03   8.0583   0.0000\n",
      "  117   8.0   7.7423  -0.2577  -3.221E-02   7.7423   0.0000\n",
      "  118  11.0  11.5787   0.5787   5.261E-02  11.5787   0.0000\n",
      "  119  12.0  11.9159  -0.0841  -7.011E-03  11.9159   0.0000\n",
      "  120  12.0  10.8587  -1.1413  -9.511E-02  10.8587   0.0000\n",
      "  121   9.0   9.0620   0.0620   6.886E-03   9.0620   0.0000\n",
      "  122   8.0   8.5443   0.5443   6.804E-02   8.5443   0.0000\n",
      "  123   6.0   6.1526   0.1526   2.543E-02   6.1526   0.0000\n",
      "  124   8.0   7.7858  -0.2142  -2.677E-02   7.7858   0.0000\n",
      "  125   7.0   7.0485   0.0485   6.924E-03   7.0485   0.0000\n",
      "  126  11.0  11.5761   0.5761   5.237E-02  11.5761   0.0000\n",
      "  127  12.0  11.1061  -0.8939  -7.449E-02  11.1061   0.0000\n",
      "  128  12.0  12.2997   0.2997   2.498E-02  12.2997   0.0000\n",
      "  129  12.0  11.6403  -0.3597  -2.998E-02  11.6403   0.0000\n",
      "  130   7.0   6.8652  -0.1348  -1.926E-02   6.8652   0.0000\n",
      "  131  13.0  12.5744  -0.4256  -3.274E-02  12.5744   0.0000\n",
      "  132   8.0   8.0793   0.0793   9.914E-03   8.0793   0.0000\n",
      "  133   7.0   6.9243  -0.0757  -1.081E-02   6.9243   0.0000\n",
      "  134  12.0  12.0105   0.0105   8.744E-04  12.0105   0.0000\n",
      "  135   8.0   7.6390  -0.3610  -4.512E-02   7.6390   0.0000\n",
      "  136   5.0   5.1750   0.1750   3.499E-02   5.1750   0.0000\n",
      "  137   6.0   6.1515   0.1515   2.524E-02   6.1515   0.0000\n",
      "  138   8.0   7.9252  -0.0748  -9.345E-03   7.9252   0.0000\n",
      "  139   8.0   7.5714  -0.4286  -5.357E-02   7.5714   0.0000\n",
      "  140   9.0   9.1293   0.1293   1.436E-02   9.1293   0.0000\n",
      "  141  13.0  11.7211  -1.2789  -9.838E-02  11.7211   0.0000\n",
      "  142   6.0   5.9232  -0.0768  -1.279E-02   5.9232   0.0000\n",
      "  143   7.0   7.2867   0.2867   4.095E-02   7.2867   0.0000\n",
      "  144  12.0  12.5779   0.5779   4.816E-02  12.5779   0.0000\n",
      "  145  12.0  11.8670  -0.1330  -1.108E-02  11.8670   0.0000\n",
      "  146   9.0   9.2196   0.2196   2.440E-02   9.2196   0.0000\n",
      "  147   9.0   9.0494   0.0494   5.488E-03   9.0494   0.0000\n",
      "  148  12.0  12.0058   0.0058   4.806E-04  12.0058   0.0000\n",
      "  149  12.0  12.0030   0.0030   2.522E-04  12.0030   0.0000\n",
      "  150   8.0   8.0690   0.0690   8.627E-03   8.0690   0.0000\n",
      "  151   8.0   7.4998  -0.5002  -6.253E-02   7.4998   0.0000\n",
      "  152   8.0   8.1384   0.1384   1.730E-02   8.1384   0.0000\n",
      "  153   8.0   7.8862  -0.1138  -1.422E-02   7.8862   0.0000\n",
      "  154   6.0   6.6555   0.6555   1.093E-01   6.6555   0.0000\n",
      "  155   6.0   6.1905   0.1905   3.175E-02   6.1905   0.0000\n",
      "  156  13.0  12.1495  -0.8505  -6.542E-02  12.1495   0.0000\n",
      "  157   9.0   8.0758  -0.9242  -1.027E-01   8.0758   0.0000\n",
      "  158  13.0  11.4286  -1.5714  -1.209E-01  11.4286   0.0000\n",
      "  159  12.0  10.6389  -1.3611  -1.134E-01  10.6389   0.0000\n",
      "  160   8.0   7.7717  -0.2283  -2.854E-02   7.7717   0.0000\n",
      "  161   7.0   6.6957  -0.3043  -4.347E-02   6.6957   0.0000\n",
      "  162  11.0  11.2452   0.2452   2.229E-02  11.2452   0.0000\n",
      "  163  12.0  11.5132  -0.4868  -4.057E-02  11.5132   0.0000\n",
      "  164   6.0   5.8989  -0.1011  -1.685E-02   5.8989   0.0000\n",
      "  165  13.0  12.8154  -0.1846  -1.420E-02  12.8154   0.0000\n",
      "  166  12.0  11.8795  -0.1205  -1.004E-02  11.8795   0.0000\n",
      "  167   9.0   8.9408  -0.0592  -6.574E-03   8.9408   0.0000\n",
      "  168   4.0   4.3041   0.3041   7.601E-02   4.3041   0.0000\n",
      "  169  12.0  11.9717  -0.0283  -2.360E-03  11.9717   0.0000\n",
      "  170  12.0  11.6898  -0.3102  -2.585E-02  11.6898   0.0000\n",
      "  171  10.0   9.6122  -0.3878  -3.878E-02   9.6122   0.0000\n",
      "  172   8.0   7.8926  -0.1074  -1.342E-02   7.8926   0.0000\n",
      "  173   8.0   8.1901   0.1901   2.376E-02   8.1901   0.0000\n",
      "  174   8.0   7.9753  -0.0247  -3.087E-03   7.9753   0.0000\n",
      "  175   5.0   4.8675  -0.1325  -2.650E-02   4.8675   0.0000\n",
      "  176  12.0  11.8783  -0.1217  -1.014E-02  11.8783   0.0000\n",
      "  177   7.0   7.1466   0.1466   2.094E-02   7.1466   0.0000\n",
      "  178  13.0  12.4615  -0.5385  -4.142E-02  12.4615   0.0000\n",
      "  179   6.0   6.5647   0.5647   9.412E-02   6.5647   0.0000\n",
      "  180   8.0   8.2601   0.2601   3.251E-02   8.2601   0.0000\n",
      "  181  12.0  12.0543   0.0543   4.521E-03  12.0543   0.0000\n",
      "  182  12.0  12.1967   0.1967   1.639E-02  12.1967   0.0000\n",
      "  183  12.0  11.6466  -0.3534  -2.945E-02  11.6466   0.0000\n",
      "  184   6.0   6.6749   0.6749   1.125E-01   6.6749   0.0000\n",
      "  185   6.0   5.9251  -0.0749  -1.248E-02   5.9251   0.0000\n",
      "  186  11.0  11.1815   0.1815   1.650E-02  11.1815   0.0000\n",
      "  187   9.0   8.9865  -0.0135  -1.505E-03   8.9865   0.0000\n",
      "  188   7.0   7.2456   0.2456   3.509E-02   7.2456   0.0000\n",
      "  189   8.0   7.5975  -0.4025  -5.031E-02   7.5975   0.0000\n",
      "  190  14.0  12.8403  -1.1597  -8.284E-02  12.8403   0.0000\n",
      "  191  13.0  12.4674  -0.5326  -4.097E-02  12.4674   0.0000\n",
      "  192   5.0   4.9792  -0.0208  -4.157E-03   4.9792   0.0000\n",
      "  193   7.0   6.9518  -0.0482  -6.891E-03   6.9518   0.0000\n",
      "  194   9.0   9.1703   0.1703   1.892E-02   9.1703   0.0000\n",
      "  195  12.0  11.0999  -0.9001  -7.501E-02  11.0999   0.0000\n",
      "  196  12.0  11.5043  -0.4957  -4.131E-02  11.5043   0.0000\n",
      "  197  12.0  11.6364  -0.3636  -3.030E-02  11.6364   0.0000\n",
      "  198   8.0   7.8966  -0.1034  -1.292E-02   7.8966   0.0000\n",
      "  199  12.0  11.7180  -0.2820  -2.350E-02  11.7180   0.0000\n",
      "  200  12.0  11.7456  -0.2544  -2.120E-02  11.7456   0.0000\n",
      "  201   6.0   6.8594   0.8594   1.432E-01   6.8594   0.0000\n",
      "  202   8.0   7.9491  -0.0509  -6.364E-03   7.9491   0.0000\n",
      "  203  12.0  11.5622  -0.4378  -3.648E-02  11.5622   0.0000\n",
      "  204  12.0  11.6036  -0.3964  -3.304E-02  11.6036   0.0000\n",
      "  205   8.0   7.7296  -0.2704  -3.381E-02   7.7296   0.0000\n",
      "  206   6.0   5.6949  -0.3051  -5.085E-02   5.6949   0.0000\n",
      "  207  11.0  11.2902   0.2902   2.638E-02  11.2902   0.0000\n",
      "  208   6.0   5.9073  -0.0927  -1.545E-02   5.9073   0.0000\n",
      "  209   6.0   6.5478   0.5478   9.130E-02   6.5478   0.0000\n",
      "  210   7.0   6.8143  -0.1857  -2.652E-02   6.8143   0.0000\n",
      "  211  12.0  12.1509   0.1509   1.257E-02  12.1509   0.0000\n",
      "  212   8.0   8.0566   0.0566   7.075E-03   8.0566   0.0000\n",
      "  213   9.0   8.4275  -0.5725  -6.362E-02   8.4275   0.0000\n",
      "  214   8.0   7.7033  -0.2967  -3.708E-02   7.7033   0.0000\n",
      "  215   8.0   7.4763  -0.5237  -6.546E-02   7.4763   0.0000\n",
      "  216   5.0   4.7845  -0.2155  -4.310E-02   4.7845   0.0000\n",
      "  217   6.0   5.6804  -0.3196  -5.326E-02   5.6804   0.0000\n",
      "  218   7.0   7.1596   0.1596   2.280E-02   7.1596   0.0000\n",
      "  219  12.0  11.9092  -0.0908  -7.565E-03  11.9092   0.0000\n",
      "  220  12.0  11.8375  -0.1625  -1.354E-02  11.8375   0.0000\n",
      "  221  11.0  11.5151   0.5151   4.683E-02  11.5151   0.0000\n",
      "  222   6.0   6.0595   0.0595   9.918E-03   6.0595   0.0000\n",
      "  223   9.0   9.0623   0.0623   6.919E-03   9.0623   0.0000\n",
      "  224  13.0  12.8149  -0.1851  -1.424E-02  12.8149   0.0000\n",
      "  225   8.0   8.4985   0.4985   6.231E-02   8.4985   0.0000\n",
      "  226   6.0   6.0302   0.0302   5.030E-03   6.0302   0.0000\n",
      "  227   8.0   8.4366   0.4366   5.458E-02   8.4366   0.0000\n",
      "  228  12.0  11.7940  -0.2060  -1.717E-02  11.7940   0.0000\n",
      "  229   8.0   8.2804   0.2804   3.505E-02   8.2804   0.0000\n",
      "  230   6.0   6.0417   0.0417   6.951E-03   6.0417   0.0000\n",
      "  231  12.0  11.5998  -0.4002  -3.335E-02  11.5998   0.0000\n",
      "  232   6.0   5.6951  -0.3049  -5.082E-02   5.6951   0.0000\n",
      "  233   6.0   6.0624   0.0624   1.040E-02   6.0624   0.0000\n",
      "  234   7.0   6.4362  -0.5638  -8.054E-02   6.4362   0.0000\n",
      "  235  12.0  11.8487  -0.1513  -1.261E-02  11.8487   0.0000\n",
      "  236   9.0   8.8052  -0.1948  -2.164E-02   8.8052   0.0000\n",
      "  237  12.0  11.9078  -0.0922  -7.683E-03  11.9078   0.0000\n",
      "  238   9.0   8.9236  -0.0764  -8.484E-03   8.9236   0.0000\n",
      "  239   7.0   6.8350  -0.1650  -2.357E-02   6.8350   0.0000\n",
      "  240   8.0   7.8091  -0.1909  -2.386E-02   7.8091   0.0000\n",
      "  241   6.0   6.0933   0.0933   1.555E-02   6.0933   0.0000\n",
      "  242  12.0  12.0886   0.0886   7.387E-03  12.0886   0.0000\n",
      "  243   9.0   8.8011  -0.1989  -2.210E-02   8.8011   0.0000\n",
      "  244   7.0   7.4124   0.4124   5.892E-02   7.4124   0.0000\n",
      "  245   9.0   8.7566  -0.2434  -2.704E-02   8.7566   0.0000\n",
      "  246   4.0   4.4024   0.4024   1.006E-01   4.4024   0.0000\n",
      "  247   8.0   7.7976  -0.2024  -2.530E-02   7.7976   0.0000\n",
      "  248  11.0  11.0826   0.0826   7.512E-03  11.0826   0.0000\n",
      "  249   8.0   7.5739  -0.4261  -5.326E-02   7.5739   0.0000\n",
      "  250   8.0   7.6808  -0.3192  -3.990E-02   7.6808   0.0000\n",
      "  251  12.0  11.7329  -0.2671  -2.226E-02  11.7329   0.0000\n",
      "  252   6.0   6.2756   0.2756   4.593E-02   6.2756   0.0000\n",
      "  253   7.0   6.8156  -0.1844  -2.634E-02   6.8156   0.0000\n",
      "  254  11.0  10.2250  -0.7750  -7.046E-02  10.2250   0.0000\n",
      "  255  12.0  11.9956  -0.0044  -3.705E-04  11.9956   0.0000\n",
      "  256  13.0  12.5801  -0.4199  -3.230E-02  12.5801   0.0000\n",
      "  257  12.0  11.8595  -0.1405  -1.171E-02  11.8595   0.0000\n",
      "  258   8.0   8.2360   0.2360   2.951E-02   8.2360   0.0000\n",
      "  259   7.0   7.1013   0.1013   1.448E-02   7.1013   0.0000\n",
      "  260  12.0  11.8842  -0.1158  -9.648E-03  11.8842   0.0000\n",
      "  261   8.0   7.7654  -0.2346  -2.933E-02   7.7654   0.0000\n",
      "  262   7.0   6.4081  -0.5919  -8.456E-02   6.4081   0.0000\n",
      "  263   6.0   5.3065  -0.6935  -1.156E-01   5.3065   0.0000\n",
      "  264   7.0   6.9577  -0.0423  -6.037E-03   6.9577   0.0000\n",
      "  265   7.0   7.3345   0.3345   4.778E-02   7.3345   0.0000\n",
      "  266   8.0   7.8372  -0.1628  -2.035E-02   7.8372   0.0000\n",
      "  267   9.0   9.0228   0.0228   2.538E-03   9.0228   0.0000\n",
      "  268  12.0  11.9318  -0.0682  -5.684E-03  11.9318   0.0000\n",
      "  269   9.0   9.2215   0.2215   2.462E-02   9.2215   0.0000\n",
      "  270   8.0   7.9583  -0.0417  -5.217E-03   7.9583   0.0000\n",
      "  271   6.0   5.8855  -0.1145  -1.908E-02   5.8855   0.0000\n",
      "  272   8.0   7.8323  -0.1677  -2.096E-02   7.8323   0.0000\n",
      "  273   2.0   6.8152   4.8152   2.408E+00   6.8152   0.0000\n",
      "  274  11.0  11.5214   0.5214   4.740E-02  11.5214   0.0000\n",
      "  275  12.0  11.7243  -0.2757  -2.298E-02  11.7243   0.0000\n",
      "  276  12.0  11.8362  -0.1638  -1.365E-02  11.8362   0.0000\n",
      "  277  12.0  11.7909  -0.2091  -1.743E-02  11.7909   0.0000\n",
      "  278   9.0   8.5858  -0.4142  -4.602E-02   8.5858   0.0000\n",
      "  279  12.0  12.1584   0.1584   1.320E-02  12.1584   0.0000\n",
      "  280   9.0   7.7844  -1.2156  -1.351E-01   7.7844   0.0000\n",
      "  281   7.0   6.6556  -0.3444  -4.921E-02   6.6556   0.0000\n",
      "  282  12.0  11.7909  -0.2091  -1.743E-02  11.7909   0.0000\n",
      "  283   7.0   8.0162   1.0162   1.452E-01   8.0162   0.0000\n",
      "  284   6.0   6.0608   0.0608   1.014E-02   6.0608   0.0000\n",
      "  285   7.0   7.2988   0.2988   4.268E-02   7.2988   0.0000\n",
      "  286   8.0   7.8919  -0.1081  -1.351E-02   7.8919   0.0000\n",
      "  287   8.0   8.0024   0.0024   2.955E-04   8.0024   0.0000\n",
      "  288   9.0   9.4537   0.4537   5.042E-02   9.4537   0.0000\n",
      "  289  12.0  11.7106  -0.2894  -2.412E-02  11.7106   0.0000\n",
      "  290   6.0   6.0182   0.0182   3.028E-03   6.0182   0.0000\n",
      "  291   7.0   7.0807   0.0807   1.152E-02   7.0807   0.0000\n",
      "  292  14.0  12.5887  -1.4113  -1.008E-01  12.5887   0.0000\n",
      "  293  12.0  11.7437  -0.2563  -2.136E-02  11.7437   0.0000\n",
      "  294   9.0   9.0424   0.0424   4.709E-03   9.0424   0.0000\n",
      "  295   9.0   8.8431  -0.1569  -1.744E-02   8.8431   0.0000\n",
      "  296  12.0  12.0734   0.0734   6.116E-03  12.0734   0.0000\n",
      "  297  12.0  11.6592  -0.3408  -2.840E-02  11.6592   0.0000\n",
      "  298   8.0   8.1454   0.1454   1.817E-02   8.1454   0.0000\n",
      "  299   6.0   6.4857   0.4857   8.095E-02   6.4857   0.0000\n",
      "  300   8.0   7.6660  -0.3340  -4.175E-02   7.6660   0.0000\n",
      "  301   7.0   7.0411   0.0411   5.877E-03   7.0411   0.0000\n",
      "  302   8.0   8.2557   0.2557   3.196E-02   8.2557   0.0000\n",
      "  303   6.0   5.8187  -0.1813  -3.022E-02   5.8187   0.0000\n",
      "  304   9.0   8.5049  -0.4951  -5.501E-02   8.5049   0.0000\n",
      "  305  12.0  11.8205  -0.1795  -1.495E-02  11.8205   0.0000\n",
      "  306  12.0  11.1175  -0.8825  -7.355E-02  11.1175   0.0000\n",
      "  307   8.0   8.0188   0.0188   2.345E-03   8.0188   0.0000\n",
      "  308   7.0   6.6068  -0.3932  -5.616E-02   6.6068   0.0000\n",
      "  309  11.0  11.7789   0.7789   7.081E-02  11.7789   0.0000\n",
      "  310  12.0  11.9195  -0.0805  -6.704E-03  11.9195   0.0000\n",
      "  311   6.0   6.5770   0.5770   9.616E-02   6.5770   0.0000\n",
      "  312  12.0  12.4052   0.4052   3.376E-02  12.4052   0.0000\n",
      "  313  12.0  11.9844  -0.0156  -1.298E-03  11.9844   0.0000\n",
      "  314   9.0   9.7216   0.7216   8.018E-02   9.7216   0.0000\n",
      "  315   4.0   3.9797  -0.0203  -5.085E-03   3.9797   0.0000\n",
      "  316  12.0  11.5076  -0.4924  -4.103E-02  11.5076   0.0000\n",
      "  317  12.0  11.7317  -0.2683  -2.236E-02  11.7317   0.0000\n",
      "  318   7.0   7.1230   0.1230   1.758E-02   7.1230   0.0000\n",
      "  319   8.0   8.0986   0.0986   1.232E-02   8.0986   0.0000\n",
      "  320   8.0   8.2655   0.2655   3.319E-02   8.2655   0.0000\n",
      "  321   8.0   7.8554  -0.1446  -1.808E-02   7.8554   0.0000\n",
      "  322   5.0   5.2215   0.2215   4.429E-02   5.2215   0.0000\n",
      "  323  12.0  11.7173  -0.2827  -2.355E-02  11.7173   0.0000\n",
      "  324   7.0   5.8194  -1.1806  -1.687E-01   5.8194   0.0000\n",
      "  325  13.0  13.5585   0.5585   4.296E-02  13.5585   0.0000\n",
      "  326   7.0   6.8622  -0.1378  -1.969E-02   6.8622   0.0000\n",
      "  327   8.0   7.9424  -0.0576  -7.199E-03   7.9424   0.0000\n",
      "  328  12.0  12.0139   0.0139   1.162E-03  12.0139   0.0000\n",
      "  329  13.0  12.6475  -0.3525  -2.712E-02  12.6475   0.0000\n",
      "  330  12.0  11.5844  -0.4156  -3.463E-02  11.5844   0.0000\n",
      "  331   8.0   8.2252   0.2252   2.815E-02   8.2252   0.0000\n",
      "  332   4.0   5.1031   1.1031   2.758E-01   5.1031   0.0000\n",
      "  333  12.0  12.7887   0.7887   6.573E-02  12.7887   0.0000\n",
      "  334   9.0   9.2921   0.2921   3.246E-02   9.2921   0.0000\n",
      "  335   7.0   7.1133   0.1133   1.619E-02   7.1133   0.0000\n",
      "  336   8.0   8.2863   0.2863   3.579E-02   8.2863   0.0000\n",
      "  337  12.0  12.0490   0.0490   4.080E-03  12.0490   0.0000\n",
      "  338  13.0  12.6355  -0.3645  -2.804E-02  12.6355   0.0000\n",
      "  339   6.0   6.4549   0.4549   7.581E-02   6.4549   0.0000\n",
      "  340   7.0   6.8820  -0.1180  -1.685E-02   6.8820   0.0000\n",
      "  341   9.0   8.8950  -0.1050  -1.166E-02   8.8950   0.0000\n",
      "  342  12.0  11.7026  -0.2974  -2.478E-02  11.7026   0.0000\n",
      "  343  12.0  11.9177  -0.0823  -6.857E-03  11.9177   0.0000\n",
      "  344  12.0  12.1174   0.1174   9.781E-03  12.1174   0.0000\n",
      "  345   8.0   8.1488   0.1488   1.860E-02   8.1488   0.0000\n",
      "  346  12.0  11.5394  -0.4606  -3.838E-02  11.5394   0.0000\n",
      "  347  12.0  11.8087  -0.1913  -1.594E-02  11.8087   0.0000\n",
      "  348   8.0   7.7046  -0.2954  -3.693E-02   7.7046   0.0000\n",
      "  349   8.0   7.8545  -0.1455  -1.818E-02   7.8545   0.0000\n",
      "  350  12.0  11.6086  -0.3914  -3.261E-02  11.6086   0.0000\n",
      "  351  12.0  11.7843  -0.2157  -1.798E-02  11.7843   0.0000\n",
      "  352   8.0   7.5621  -0.4379  -5.474E-02   7.5621   0.0000\n",
      "  353   6.0   6.1430   0.1430   2.384E-02   6.1430   0.0000\n",
      "  354  12.0  11.6919  -0.3081  -2.567E-02  11.6919   0.0000\n",
      "  355   6.0   5.9728  -0.0272  -4.527E-03   5.9728   0.0000\n",
      "  356   5.0   5.6292   0.6292   1.258E-01   5.6292   0.0000\n",
      "  357   7.0   7.0199   0.0199   2.838E-03   7.0199   0.0000\n",
      "  358  12.0  11.9489  -0.0511  -4.258E-03  11.9489   0.0000\n",
      "  359   8.0   8.1039   0.1039   1.299E-02   8.1039   0.0000\n",
      "  360   7.0   7.1889   0.1889   2.698E-02   7.1889   0.0000\n",
      "  361   7.0   7.1349   0.1349   1.927E-02   7.1349   0.0000\n",
      "  362   8.0   7.6301  -0.3699  -4.624E-02   7.6301   0.0000\n",
      "  363   5.0   3.9408  -1.0592  -2.118E-01   3.9408   0.0000\n",
      "  364   7.0   6.8701  -0.1299  -1.856E-02   6.8701   0.0000\n",
      "  365   8.0   7.6234  -0.3766  -4.707E-02   7.6234   0.0000\n",
      "  366  12.0  11.9042  -0.0958  -7.980E-03  11.9042   0.0000\n",
      "  367  12.0  11.7014  -0.2986  -2.488E-02  11.7014   0.0000\n",
      "  368  12.0  11.7594  -0.2406  -2.005E-02  11.7594   0.0000\n",
      "  369   6.0   6.0154   0.0154   2.562E-03   6.0154   0.0000\n",
      "  370   9.0   9.4435   0.4435   4.927E-02   9.4435   0.0000\n",
      "  371  12.0  11.5815  -0.4185  -3.488E-02  11.5815   0.0000\n",
      "  372   8.0   8.1701   0.1701   2.126E-02   8.1701   0.0000\n",
      "  373   7.0   8.0090   1.0090   1.441E-01   8.0090   0.0000\n",
      "  374   9.0   9.2279   0.2279   2.532E-02   9.2279   0.0000\n",
      "  375  12.0  11.7879  -0.2121  -1.767E-02  11.7879   0.0000\n",
      "  376   8.0   7.6822  -0.3178  -3.973E-02   7.6822   0.0000\n",
      "  377   6.0   5.9745  -0.0255  -4.255E-03   5.9745   0.0000\n",
      "  378  11.0  11.3978   0.3978   3.616E-02  11.3978   0.0000\n",
      "  379   6.0   6.3311   0.3311   5.519E-02   6.3311   0.0000\n",
      "  380   3.0   5.0705   2.0705   6.902E-01   5.0705   0.0000\n",
      "  381   7.0   7.3822   0.3822   5.460E-02   7.3822   0.0000\n",
      "  382  12.0  12.0808   0.0808   6.735E-03  12.0808   0.0000\n",
      "  383   9.0   8.8671  -0.1329  -1.476E-02   8.8671   0.0000\n",
      "  384  12.0  12.0030   0.0030   2.531E-04  12.0030   0.0000\n",
      "  385   9.0   9.3214   0.3214   3.571E-02   9.3214   0.0000\n",
      "  386   7.0   7.0286   0.0286   4.092E-03   7.0286   0.0000\n",
      "  387   8.0   8.2667   0.2667   3.334E-02   8.2667   0.0000\n",
      "  388   6.0   6.3602   0.3602   6.004E-02   6.3602   0.0000\n",
      "  389  12.0  12.1817   0.1817   1.514E-02  12.1817   0.0000\n",
      "  390   8.0   8.1291   0.1291   1.613E-02   8.1291   0.0000\n",
      "  391   8.0   8.0542   0.0542   6.769E-03   8.0542   0.0000\n",
      "  392   9.0   8.9458  -0.0542  -6.026E-03   8.9458   0.0000\n",
      "  393   6.0   5.8616  -0.1384  -2.307E-02   5.8616   0.0000\n",
      "  394   8.0   7.9596  -0.0404  -5.046E-03   7.9596   0.0000\n",
      "  395  11.0  11.2313   0.2313   2.103E-02  11.2313   0.0000\n",
      "  396   8.0   8.3275   0.3275   4.094E-02   8.3275   0.0000\n",
      "  397   8.0   8.2210   0.2210   2.763E-02   8.2210   0.0000\n",
      "  398  12.0  11.6358  -0.3642  -3.035E-02  11.6358   0.0000\n",
      "  399   7.0   7.0153   0.0153   2.191E-03   7.0153   0.0000\n",
      "  400   7.0   6.8480  -0.1520  -2.172E-02   6.8480   0.0000\n",
      "  401   9.0   8.5271  -0.4729  -5.254E-02   8.5271   0.0000\n",
      "  402  13.0  12.5294  -0.4706  -3.620E-02  12.5294   0.0000\n",
      "  403  15.0  13.5013  -1.4987  -9.992E-02  13.5013   0.0000\n",
      "  404  13.0  12.4591  -0.5409  -4.161E-02  12.4591   0.0000\n",
      "  405  12.0  11.8938  -0.1062  -8.852E-03  11.8938   0.0000\n",
      "  406   8.0   7.8972  -0.1028  -1.285E-02   7.8972   0.0000\n",
      "  407   6.0   6.8558   0.8558   1.426E-01   6.8558   0.0000\n",
      "  408  12.0  11.5019  -0.4981  -4.151E-02  11.5019   0.0000\n",
      "  409   7.0   7.7124   0.7124   1.018E-01   7.7124   0.0000\n",
      "  410  10.0   7.9835  -2.0165  -2.017E-01   7.9835   0.0000\n",
      "  411   8.0   7.5797  -0.4203  -5.253E-02   7.5797   0.0000\n",
      "  412   7.0   6.1047  -0.8953  -1.279E-01   6.1047   0.0000\n",
      "  413   8.0   8.0833   0.0833   1.041E-02   8.0833   0.0000\n",
      "  414   8.0   7.9733  -0.0267  -3.340E-03   7.9733   0.0000\n",
      "  415  11.0  11.2904   0.2904   2.640E-02  11.2904   0.0000\n",
      "  416  12.0  12.0973   0.0973   8.108E-03  12.0973   0.0000\n",
      "  417  11.0  11.1215   0.1215   1.105E-02  11.1215   0.0000\n",
      "  418   9.0   9.5536   0.5536   6.151E-02   9.5536   0.0000\n",
      "  419   8.0   8.0239   0.0239   2.991E-03   8.0239   0.0000\n",
      "  420   6.0   6.0319   0.0319   5.312E-03   6.0319   0.0000\n",
      "  421   8.0   8.0073   0.0073   9.123E-04   8.0073   0.0000\n",
      "  422   7.0   6.9393  -0.0607  -8.676E-03   6.9393   0.0000\n",
      "  423  10.0  11.3906   1.3906   1.391E-01  11.3906   0.0000\n",
      "  424  12.0  12.0673   0.0673   5.604E-03  12.0673   0.0000\n",
      "  425  14.0  12.6726  -1.3274  -9.482E-02  12.6726   0.0000\n",
      "  426  12.0  11.5373  -0.4627  -3.856E-02  11.5373   0.0000\n",
      "  427   9.0   9.3110   0.3110   3.456E-02   9.3110   0.0000\n",
      "  428  13.0  12.6261  -0.3739  -2.876E-02  12.6261   0.0000\n",
      "  429   7.0   6.5955  -0.4045  -5.778E-02   6.5955   0.0000\n",
      "  430   7.0   6.3297  -0.6703  -9.576E-02   6.3297   0.0000\n",
      "  431  12.0  11.4878  -0.5122  -4.268E-02  11.4878   0.0000\n",
      "  432  10.0   8.0794  -1.9206  -1.921E-01   8.0794   0.0000\n",
      "  433   6.0   5.5926  -0.4074  -6.790E-02   5.5926   0.0000\n",
      "  434   6.0   6.6972   0.6972   1.162E-01   6.6972   0.0000\n",
      "  435   8.0   7.7696  -0.2304  -2.880E-02   7.7696   0.0000\n",
      "  436   8.0   7.8899  -0.1101  -1.376E-02   7.8899   0.0000\n",
      "  437   9.0   9.2170   0.2170   2.411E-02   9.2170   0.0000\n",
      "  438  12.0  12.3131   0.3131   2.609E-02  12.3131   0.0000\n",
      "  439   6.0   6.3043   0.3043   5.072E-02   6.3043   0.0000\n",
      "  440   7.0   7.0101   0.0101   1.437E-03   7.0101   0.0000\n",
      "  441  13.0  12.2500  -0.7500  -5.769E-02  12.2500   0.0000\n",
      "  442  12.0  11.9459  -0.0541  -4.507E-03  11.9459   0.0000\n",
      "  443   9.0   8.3495  -0.6505  -7.227E-02   8.3495   0.0000\n",
      "  444   9.0   8.5510  -0.4490  -4.989E-02   8.5510   0.0000\n",
      "  445  12.0  12.1457   0.1457   1.214E-02  12.1457   0.0000\n",
      "  446  12.0  11.7837  -0.2163  -1.803E-02  11.7837   0.0000\n",
      "  447   8.0   7.6000  -0.4000  -5.000E-02   7.6000   0.0000\n",
      "  448   7.0   6.9977  -0.0023  -3.304E-04   6.9977   0.0000\n",
      "  449   8.0   7.8118  -0.1882  -2.353E-02   7.8118   0.0000\n",
      "  450   7.0   7.6059   0.6059   8.656E-02   7.6059   0.0000\n",
      "  451   8.0   7.8373  -0.1627  -2.033E-02   7.8373   0.0000\n",
      "  452   4.0   5.0990   1.0990   2.748E-01   5.0990   0.0000\n",
      "  453  13.0  11.6530  -1.3470  -1.036E-01  11.6530   0.0000\n",
      "  454   9.0   8.7084  -0.2916  -3.240E-02   8.7084   0.0000\n",
      "  455  12.0  12.2008   0.2008   1.673E-02  12.2008   0.0000\n",
      "  456  12.0  12.3430   0.3430   2.858E-02  12.3430   0.0000\n",
      "  457   8.0   7.6343  -0.3657  -4.571E-02   7.6343   0.0000\n",
      "  458   8.0   8.2298   0.2298   2.872E-02   8.2298   0.0000\n",
      "  459  13.0  12.9507  -0.0493  -3.792E-03  12.9507   0.0000\n",
      "  460  12.0  11.7476  -0.2524  -2.103E-02  11.7476   0.0000\n",
      "  461   6.0   5.6812  -0.3188  -5.314E-02   5.6812   0.0000\n",
      "  462  13.0  12.9000  -0.1000  -7.691E-03  12.9000   0.0000\n",
      "  463  12.0  11.4245  -0.5755  -4.796E-02  11.4245   0.0000\n",
      "  464   9.0   9.6704   0.6704   7.448E-02   9.6704   0.0000\n",
      "  465   4.0   4.1058   0.1058   2.645E-02   4.1058   0.0000\n",
      "  466  12.0  12.0053   0.0053   4.408E-04  12.0053   0.0000\n",
      "  467  12.0  11.7701  -0.2299  -1.916E-02  11.7701   0.0000\n",
      "  468   8.0   7.9087  -0.0913  -1.141E-02   7.9087   0.0000\n",
      "  469   7.0   7.1463   0.1463   2.090E-02   7.1463   0.0000\n",
      "  470   8.0   8.2665   0.2665   3.331E-02   8.2665   0.0000\n",
      "  471   8.0   8.6331   0.6331   7.914E-02   8.6331   0.0000\n",
      "  472   5.0   5.9489   0.9489   1.898E-01   5.9489   0.0000\n",
      "  473  12.0  11.6937  -0.3063  -2.553E-02  11.6937   0.0000\n",
      "  474   6.0   5.9886  -0.0114  -1.898E-03   5.9886   0.0000\n",
      "  475  12.0  12.4735   0.4735   3.945E-02  12.4735   0.0000\n",
      "  476   8.0   8.3421   0.3421   4.276E-02   8.3421   0.0000\n",
      "  477   7.0   7.1483   0.1483   2.119E-02   7.1483   0.0000\n",
      "  478  12.0  11.8905  -0.1095  -9.125E-03  11.8905   0.0000\n",
      "  479  13.0  11.9633  -1.0367  -7.975E-02  11.9633   0.0000\n",
      "  480  12.0  11.6614  -0.3386  -2.821E-02  11.6614   0.0000\n",
      "  481   9.0   9.4507   0.4507   5.008E-02   9.4507   0.0000\n",
      "  482   7.0   6.9869  -0.0131  -1.879E-03   6.9869   0.0000\n",
      "  483  14.0  12.8142  -1.1858  -8.470E-02  12.8142   0.0000\n",
      "  484   9.0   9.5047   0.5047   5.608E-02   9.5047   0.0000\n",
      "  485   6.0   6.0491   0.0491   8.181E-03   6.0491   0.0000\n",
      "  486   8.0   7.8611  -0.1389  -1.736E-02   7.8611   0.0000\n",
      "  487  12.0  11.9233  -0.0767  -6.396E-03  11.9233   0.0000\n",
      "  488  13.0  12.7264  -0.2736  -2.105E-02  12.7264   0.0000\n",
      "  489   7.0   6.7594  -0.2406  -3.437E-02   6.7594   0.0000\n",
      "  490   6.0   6.2091   0.2091   3.486E-02   6.2091   0.0000\n",
      "  491   7.0   8.0082   1.0082   1.440E-01   8.0082   0.0000\n",
      "  492  12.0  11.4204  -0.5796  -4.830E-02  11.4204   0.0000\n",
      "  493  12.0  11.8550  -0.1450  -1.208E-02  11.8550   0.0000\n",
      "  494  12.0  11.7514  -0.2486  -2.071E-02  11.7514   0.0000\n",
      "  495   8.0   8.1444   0.1444   1.805E-02   8.1444   0.0000\n",
      "  496  12.0  11.5280  -0.4720  -3.933E-02  11.5280   0.0000\n",
      "  497  12.0  11.6641  -0.3359  -2.799E-02  11.6641   0.0000\n",
      "  498   7.0   7.3279   0.3279   4.684E-02   7.3279   0.0000\n",
      "  499   8.0   7.9381  -0.0619  -7.735E-03   7.9381   0.0000\n",
      "  500  12.0  12.1391   0.1391   1.159E-02  12.1391   0.0000\n",
      "  501  12.0  11.9336  -0.0664  -5.537E-03  11.9336   0.0000\n",
      "  502   8.0   8.4974   0.4974   6.217E-02   8.4974   0.0000\n",
      "  503   6.0   5.7538  -0.2462  -4.104E-02   5.7538   0.0000\n",
      "  504  10.0  11.3529   1.3529   1.353E-01  11.3529   0.0000\n",
      "  505   6.0   5.4972  -0.5028  -8.380E-02   5.4972   0.0000\n",
      "  506   5.0   4.9849  -0.0151  -3.012E-03   4.9849   0.0000\n",
      "  507   6.0   5.8358  -0.1642  -2.736E-02   5.8358   0.0000\n",
      "  508  12.0  11.8191  -0.1809  -1.508E-02  11.8191   0.0000\n",
      "  509   8.0   7.6460  -0.3540  -4.425E-02   7.6460   0.0000\n",
      "  510   6.0   5.9127  -0.0873  -1.455E-02   5.9127   0.0000\n",
      "  511   7.0   6.9184  -0.0816  -1.165E-02   6.9184   0.0000\n",
      "  512   8.0   8.1554   0.1554   1.943E-02   8.1554   0.0000\n",
      "  513   5.0   4.6641  -0.3359  -6.719E-02   4.6641   0.0000\n",
      "  514   6.0   5.2088  -0.7912  -1.319E-01   5.2088   0.0000\n",
      "  515   8.0   7.7001  -0.2999  -3.749E-02   7.7001   0.0000\n",
      "  516  12.0  11.7667  -0.2333  -1.945E-02  11.7667   0.0000\n",
      "  517  12.0  11.8279  -0.1721  -1.435E-02  11.8279   0.0000\n",
      "  518  12.0  11.7994  -0.2006  -1.672E-02  11.7994   0.0000\n",
      "  519   6.0   6.1840   0.1840   3.067E-02   6.1840   0.0000\n",
      "  520   9.0   8.5779  -0.4221  -4.690E-02   8.5779   0.0000\n",
      "  521  10.0  11.1447   1.1447   1.145E-01  11.1447   0.0000\n",
      "  522   8.0   8.2177   0.2177   2.721E-02   8.2177   0.0000\n",
      "  523   9.0   7.3251  -1.6749  -1.861E-01   7.3251   0.0000\n",
      "  524   9.0   9.6251   0.6251   6.946E-02   9.6251   0.0000\n",
      "  525  12.0  11.9619  -0.0381  -3.179E-03  11.9619   0.0000\n",
      "  526   8.0   7.8599  -0.1401  -1.751E-02   7.8599   0.0000\n",
      "  527   5.0   5.3579   0.3579   7.159E-02   5.3579   0.0000\n",
      "  528  12.0  12.2596   0.2596   2.164E-02  12.2596   0.0000\n",
      "  529   1.0   6.4551   5.4551   5.455E+00   6.4551   0.0000\n",
      "  530   6.0   5.9797  -0.0203  -3.389E-03   5.9797   0.0000\n",
      "  531   7.0   7.0240   0.0240   3.433E-03   7.0240   0.0000\n",
      "  532  12.0  11.6960  -0.3040  -2.533E-02  11.6960   0.0000\n",
      "  533   8.0   7.6559  -0.3441  -4.301E-02   7.6559   0.0000\n",
      "  534  12.0  11.5508  -0.4492  -3.743E-02  11.5508   0.0000\n",
      "  535   9.0   9.1909   0.1909   2.121E-02   9.1909   0.0000\n",
      "  536   6.0   6.8176   0.8176   1.363E-01   6.8176   0.0000\n",
      "  537   8.0   7.7646  -0.2354  -2.943E-02   7.7646   0.0000\n",
      "  538   7.0   7.1241   0.1241   1.773E-02   7.1241   0.0000\n",
      "  539  12.0  11.5009  -0.4991  -4.159E-02  11.5009   0.0000\n",
      "  540   9.0   8.2186  -0.7814  -8.683E-02   8.2186   0.0000\n",
      "  541   8.0   7.7937  -0.2063  -2.579E-02   7.7937   0.0000\n",
      "  542   9.0   8.8245  -0.1755  -1.950E-02   8.8245   0.0000\n",
      "  543   8.0   6.7587  -1.2413  -1.552E-01   6.7587   0.0000\n",
      "  544   7.0   7.2475   0.2475   3.535E-02   7.2475   0.0000\n",
      "  545  11.0  11.1480   0.1480   1.346E-02  11.1480   0.0000\n",
      "  546   7.0   7.7154   0.7154   1.022E-01   7.7154   0.0000\n",
      "  547   8.0   8.0797   0.0797   9.957E-03   8.0797   0.0000\n",
      "  548  13.0  12.1743  -0.8257  -6.352E-02  12.1743   0.0000\n",
      "  549   7.0   6.7277  -0.2723  -3.889E-02   6.7277   0.0000\n",
      "  550   8.0   7.1524  -0.8476  -1.060E-01   7.1524   0.0000\n",
      "  551  11.0  10.4540  -0.5460  -4.964E-02  10.4540   0.0000\n",
      "  552  13.0  13.0615   0.0615   4.733E-03  13.0615   0.0000\n",
      "  553  13.0  12.9581  -0.0419  -3.225E-03  12.9581   0.0000\n",
      "  554  12.0  12.1172   0.1172   9.766E-03  12.1172   0.0000\n",
      "  555   8.0   7.1925  -0.8075  -1.009E-01   7.1925   0.0000\n",
      "  556   7.0   7.0761   0.0761   1.087E-02   7.0761   0.0000\n",
      "  557  12.0  11.6684  -0.3316  -2.764E-02  11.6684   0.0000\n",
      "  558   8.0   7.6942  -0.3058  -3.822E-02   7.6942   0.0000\n",
      "  559   7.0   6.1849  -0.8151  -1.164E-01   6.1849   0.0000\n",
      "  560   8.0   8.3566   0.3566   4.458E-02   8.3566   0.0000\n",
      "  561   7.0   6.7536  -0.2464  -3.520E-02   6.7536   0.0000\n",
      "  562   8.0   7.6695  -0.3305  -4.132E-02   7.6695   0.0000\n",
      "  563   8.0   8.0514   0.0514   6.430E-03   8.0514   0.0000\n",
      "  564  12.0  11.6785  -0.3215  -2.680E-02  11.6785   0.0000\n",
      "  565  12.0  11.9217  -0.0783  -6.523E-03  11.9217   0.0000\n",
      "  566  12.0  12.2015   0.2015   1.679E-02  12.2015   0.0000\n",
      "  567   9.0   9.2782   0.2782   3.091E-02   9.2782   0.0000\n",
      "  568   8.0   7.9209  -0.0791  -9.892E-03   7.9209   0.0000\n",
      "  569   6.0   5.7755  -0.2245  -3.741E-02   5.7755   0.0000\n",
      "  570   8.0   7.9640  -0.0360  -4.495E-03   7.9640   0.0000\n",
      "  571   7.0   7.1730   0.1730   2.471E-02   7.1730   0.0000\n",
      "  572  11.0  10.4663  -0.5337  -4.852E-02  10.4663   0.0000\n",
      "  573  12.0  11.4509  -0.5491  -4.576E-02  11.4509   0.0000\n",
      "  574  13.0  13.1010   0.1010   7.770E-03  13.1010   0.0000\n",
      "  575  13.0  12.5393  -0.4607  -3.544E-02  12.5393   0.0000\n",
      "  576   9.0   8.8885  -0.1115  -1.239E-02   8.8885   0.0000\n",
      "  577  13.0  12.3864  -0.6136  -4.720E-02  12.3864   0.0000\n",
      "  578   9.0   8.6862  -0.3138  -3.487E-02   8.6862   0.0000\n",
      "  579   6.0   6.0008   0.0008   1.330E-04   6.0008   0.0000\n",
      "  580  12.0  11.9198  -0.0802  -6.684E-03  11.9198   0.0000\n",
      "  581   6.0   8.8335   2.8335   4.723E-01   8.8335   0.0000\n",
      "  582   3.0   5.5592   2.5592   8.531E-01   5.5592   0.0000\n",
      "  583   5.0   4.8838  -0.1162  -2.324E-02   4.8838   0.0000\n",
      "  584   8.0   7.7701  -0.2299  -2.874E-02   7.7701   0.0000\n",
      "  585   8.0   7.9065  -0.0935  -1.169E-02   7.9065   0.0000\n",
      "  586   9.0   8.7508  -0.2492  -2.769E-02   8.7508   0.0000\n",
      "  587  13.0  12.4970  -0.5030  -3.870E-02  12.4970   0.0000\n",
      "  588   5.0   5.1041   0.1041   2.082E-02   5.1041   0.0000\n",
      "  589   5.0   5.9008   0.9008   1.802E-01   5.9008   0.0000\n",
      "  590  12.0  12.1464   0.1464   1.220E-02  12.1464   0.0000\n",
      "  591  12.0  11.6799  -0.3201  -2.667E-02  11.6799   0.0000\n",
      "  592   9.0   9.5325   0.5325   5.917E-02   9.5325   0.0000\n",
      "  593   9.0   8.5624  -0.4376  -4.862E-02   8.5624   0.0000\n",
      "  594  12.0  11.6915  -0.3085  -2.571E-02  11.6915   0.0000\n",
      "  595  12.0  11.8510  -0.1490  -1.241E-02  11.8510   0.0000\n",
      "  596   8.0   8.1867   0.1867   2.333E-02   8.1867   0.0000\n",
      "  597   7.0   6.9929  -0.0071  -1.018E-03   6.9929   0.0000\n"
     ]
    }
   ],
   "source": [
    "for i in range(pre.size):\n",
    "    print(f\"{i+1:>5d} {label_test[i][0]:>5.1f} {pre0[i][0]:>8.4f} {diff[i][0]:>8.4f} {err[i][0]:>11.3E} {pre[i][0]:>8.4f} {diff_pre[i][0]:>8.4f}\")\n",
    "    print(f\"{i+1:>5d} {label_test[i][0]:>5.1f} {pre0[i][0]:>8.4f} {diff[i][0]:>8.4f} {err[i][0]:>11.3E} {pre[i][0]:>8.4f} {diff_pre[i][0]:>8.4f}\", file=fout)\n",
    "#    fout.write(f\"{i:>5d} {label_test[i]:>11.7f} {pre[i]:>11.7f} {diff[i]:>11.7f} {err[i]:>11.3E}\\n\")\n",
    "fout.close()"
   ]
  },
  {
   "cell_type": "markdown",
   "metadata": {},
   "source": [
    "#### 预测test的图形比较"
   ]
  },
  {
   "cell_type": "code",
   "execution_count": 55,
   "metadata": {
    "ExecuteTime": {
     "end_time": "2022-05-18T10:42:02.623009Z",
     "start_time": "2022-05-18T10:42:02.278000Z"
    },
    "scrolled": true
   },
   "outputs": [
    {
     "name": "stdout",
     "output_type": "stream",
     "text": [
      "Saving figure au150_DW_cn_3level_neuron_prediction_error_0\n"
     ]
    },
    {
     "data": {
      "image/png": "[encoded data removed]",
      "text/plain": [
       "<Figure size 432x288 with 1 Axes>"
      ]
     },
     "metadata": {
      "needs_background": "light"
     },
     "output_type": "display_data"
    }
   ],
   "source": [
    "plot_PredictionError([-0.5,6],ind=0)"
   ]
  },
  {
   "cell_type": "code",
   "execution_count": 56,
   "metadata": {
    "ExecuteTime": {
     "end_time": "2022-05-18T10:42:10.742113Z",
     "start_time": "2022-05-18T10:42:10.412992Z"
    },
    "scrolled": true
   },
   "outputs": [
    {
     "name": "stdout",
     "output_type": "stream",
     "text": [
      "Saving figure au150_DW_cn_3level_neuron_prediction_error_2\n"
     ]
    },
    {
     "data": {
      "image/png": "[encoded data removed]",
      "text/plain": [
       "<Figure size 432x288 with 1 Axes>"
      ]
     },
     "metadata": {
      "needs_background": "light"
     },
     "output_type": "display_data"
    }
   ],
   "source": [
    "plot_PredictionError([-0.2,0.3],ind=2)"
   ]
  },
  {
   "cell_type": "code",
   "execution_count": null,
   "metadata": {},
   "outputs": [],
   "source": []
  }
 ],
 "metadata": {
  "colab": {
   "collapsed_sections": [],
   "name": "多元回归问题 0818",
   "provenance": [],
   "toc_visible": true
  },
  "kernelspec": {
   "display_name": "Python 3 (ipykernel)",
   "language": "python",
   "name": "python3"
  },
  "language_info": {
   "codemirror_mode": {
    "name": "ipython",
    "version": 3
   },
   "file_extension": ".py",
   "mimetype": "text/x-python",
   "name": "python",
   "nbconvert_exporter": "python",
   "pygments_lexer": "ipython3",
   "version": "3.9.12"
  },
  "toc": {
   "base_numbering": 1,
   "nav_menu": {},
   "number_sections": true,
   "sideBar": true,
   "skip_h1_title": false,
   "title_cell": "Table of Contents",
   "title_sidebar": "Contents",
   "toc_cell": false,
   "toc_position": {
    "height": "calc(100% - 180px)",
    "left": "10px",
    "top": "150px",
    "width": "230.4px"
   },
   "toc_section_display": true,
   "toc_window_display": true
  },
  "varInspector": {
   "cols": {
    "lenName": 16,
    "lenType": 16,
    "lenVar": 40
   },
   "kernels_config": {
    "python": {
     "delete_cmd_postfix": "",
     "delete_cmd_prefix": "del ",
     "library": "var_list.py",
     "varRefreshCmd": "print(var_dic_list())"
    },
    "r": {
     "delete_cmd_postfix": ") ",
     "delete_cmd_prefix": "rm(",
     "library": "var_list.r",
     "varRefreshCmd": "cat(var_dic_list()) "
    }
   },
   "position": {
    "height": "144.5px",
    "left": "909px",
    "right": "20px",
    "top": "120px",
    "width": "350px"
   },
   "types_to_exclude": [
    "module",
    "function",
    "builtin_function_or_method",
    "instance",
    "_Feature"
   ],
   "window_display": false
  }
 },
 "nbformat": 4,
 "nbformat_minor": 1
}
