{
 "cells": [
  {
   "cell_type": "markdown",
   "metadata": {},
   "source": [
    "## 本程序读取数据集文件，对数据进行分析，如给出最大值、均值、方差，以及数据集本身的维度、大小等。并绘图。结果输出为txt和图片。"
   ]
  },
  {
   "cell_type": "markdown",
   "metadata": {},
   "source": [
    "## 默认数据集文件在“datasets”文件夹下，输出结果在“datasets_analysis”文件夹下。"
   ]
  },
  {
   "cell_type": "markdown",
   "metadata": {},
   "source": [
    "last update: 2022.5.18"
   ]
  },
  {
   "cell_type": "markdown",
   "metadata": {},
   "source": [
    "相对于23版本，将文件/文件夹参数提前到前面进行设置，并调整了输入和输出文件夹相对于本代码的相对路径，绘图函数也与datasets中的一致"
   ]
  },
  {
   "cell_type": "markdown",
   "metadata": {},
   "source": [
    "contacts：zhaohf@ihep.ac.cn"
   ]
  },
  {
   "cell_type": "markdown",
   "metadata": {},
   "source": [
    "contributor: ZHAO Haifeng, Yu Qianjiang"
   ]
  },
  {
   "cell_type": "markdown",
   "metadata": {},
   "source": [
    "# 配置环境"
   ]
  },
  {
   "cell_type": "markdown",
   "metadata": {},
   "source": [
    "## 所需的模块"
   ]
  },
  {
   "cell_type": "code",
   "execution_count": 1,
   "metadata": {
    "ExecuteTime": {
     "end_time": "2022-05-18T08:21:12.911013Z",
     "start_time": "2022-05-18T08:21:11.149386Z"
    }
   },
   "outputs": [],
   "source": [
    "import os\n",
    "import sys\n",
    "#\n",
    "import pandas as pd\n",
    "import numpy as np\n",
    "import matplotlib as mpl\n",
    "import matplotlib.pyplot as plt\n",
    "from itertools import groupby"
   ]
  },
  {
   "cell_type": "markdown",
   "metadata": {},
   "source": [
    "查看导入模块的版本"
   ]
  },
  {
   "cell_type": "code",
   "execution_count": 2,
   "metadata": {
    "ExecuteTime": {
     "end_time": "2022-05-18T08:21:16.560774Z",
     "start_time": "2022-05-18T08:21:16.551797Z"
    }
   },
   "outputs": [
    {
     "name": "stdout",
     "output_type": "stream",
     "text": [
      "python version: 3.9.12 (main, Apr  4 2022, 05:22:27) [MSC v.1916 64 bit (AMD64)]\n",
      "numpy version: 1.21.5\n",
      "panda version: 1.4.2\n",
      "matplotlib version: 3.5.1\n"
     ]
    }
   ],
   "source": [
    "print('python version:',sys.version)\n",
    "print('numpy version:',np.__version__)\n",
    "print('panda version:',pd.__version__)\n",
    "print('matplotlib version:',mpl.__version__)\n",
    "#print('itertools version:', itertools.__version__)"
   ]
  },
  {
   "cell_type": "markdown",
   "metadata": {},
   "source": [
    "# 设置参数"
   ]
  },
  {
   "cell_type": "markdown",
   "metadata": {},
   "source": [
    "## 设置输入的、需要统计的文件夹（相对路径）和文件"
   ]
  },
  {
   "cell_type": "code",
   "execution_count": 3,
   "metadata": {
    "ExecuteTime": {
     "end_time": "2022-05-18T08:21:33.707290Z",
     "start_time": "2022-05-18T08:21:33.687348Z"
    }
   },
   "outputs": [],
   "source": [
    "dir_data = './../datasets'\n",
    "file_data = ['Au_chi.txt',\n",
    "             'Au_chi_train.txt',\n",
    "             'Au_chi_valid.txt',\n",
    "             'Au_chi_test.txt',\n",
    "             'Au_xmu.txt',\n",
    "             'Au_xmu_train.txt',\n",
    "             'Au_xmu_valid.txt',\n",
    "             'Au_xmu_test.txt',\n",
    "             'Au_cn.txt',\n",
    "             'Au_cn_train.txt',\n",
    "             'Au_cn_valid.txt',\n",
    "             'Au_cn_test.txt',\n",
    "             'Au_cr.txt',\n",
    "             'Au_cr_train.txt',\n",
    "             'Au_cr_valid.txt',\n",
    "             'Au_cr_test.txt'\n",
    "            ]"
   ]
  },
  {
   "cell_type": "markdown",
   "metadata": {},
   "source": [
    "## 设置输出的用于保存分析结果的文件夹和文件"
   ]
  },
  {
   "cell_type": "code",
   "execution_count": 4,
   "metadata": {
    "ExecuteTime": {
     "end_time": "2022-05-18T08:21:36.191568Z",
     "start_time": "2022-05-18T08:21:36.179727Z"
    }
   },
   "outputs": [],
   "source": [
    "dir_attr = './../datasets_analysis'"
   ]
  },
  {
   "cell_type": "markdown",
   "metadata": {},
   "source": [
    "## 设置数据是离散的（dispersed）、需要分析、绘图的文件"
   ]
  },
  {
   "cell_type": "code",
   "execution_count": 5,
   "metadata": {
    "ExecuteTime": {
     "end_time": "2022-05-18T08:21:39.084757Z",
     "start_time": "2022-05-18T08:21:39.065814Z"
    }
   },
   "outputs": [],
   "source": [
    "file_data_dis = ['Au_cn.txt',\n",
    "                 'Au_cn_train.txt',\n",
    "                 'Au_cn_valid.txt',\n",
    "                 'Au_cn_test.txt'\n",
    "            ]\n",
    "label_index_dis = 'CN'"
   ]
  },
  {
   "cell_type": "markdown",
   "metadata": {},
   "source": [
    "## 设置数据是连续的（continuous）、需要分析、绘图的文件"
   ]
  },
  {
   "cell_type": "code",
   "execution_count": 6,
   "metadata": {
    "ExecuteTime": {
     "end_time": "2022-05-18T08:21:42.022319Z",
     "start_time": "2022-05-18T08:21:42.015338Z"
    }
   },
   "outputs": [],
   "source": [
    "file_data_con = ['Au_cr.txt',\n",
    "                 'Au_cr_train.txt',\n",
    "                 'Au_cr_valid.txt',\n",
    "                 'Au_cr_test.txt'\n",
    "            ]\n",
    "label_index_con = 'CR'"
   ]
  },
  {
   "cell_type": "markdown",
   "metadata": {},
   "source": [
    "# 部分函数模块"
   ]
  },
  {
   "cell_type": "markdown",
   "metadata": {},
   "source": [
    "## 设置绘图格式和保存图片的模块"
   ]
  },
  {
   "cell_type": "markdown",
   "metadata": {},
   "source": [
    "注意这里的save_fig与神经网络中的有所不同，特别是路径和文件名位置换了。"
   ]
  },
  {
   "cell_type": "code",
   "execution_count": 8,
   "metadata": {
    "ExecuteTime": {
     "end_time": "2022-05-18T08:27:17.702422Z",
     "start_time": "2022-05-18T08:27:17.685371Z"
    }
   },
   "outputs": [],
   "source": [
    "# To plot pretty figures\n",
    "# %matplotlib具体作用是调用matplotlib.pyplot的绘图函数plot()进行绘图时，\n",
    "# 或生成一个figure画布时，可以直接在你的python console里面生成图像。\n",
    "%matplotlib inline\n",
    "import matplotlib as mpl\n",
    "import matplotlib.pyplot as plt\n",
    "mpl.rc('axes', labelsize=14)   # matplotlib.rc 什么意思没找到\n",
    "mpl.rc('xtick', labelsize=12)\n",
    "mpl.rc('ytick', labelsize=12)\n",
    "\n",
    "def save_fig(IMAGES_PATH, fig_id, tight_layout=True, fig_extension=\"png\", resolution=300):\n",
    "    os.makedirs(IMAGES_PATH, exist_ok=True)\n",
    "    path = os.path.join(IMAGES_PATH, fig_id + \".\" + fig_extension)\n",
    "    print(\"Saving figure\", fig_id)\n",
    "    if tight_layout:\n",
    "        plt.tight_layout()\n",
    "    plt.savefig(path, format=fig_extension, dpi=resolution)\n",
    "#    plt.show()\n",
    "\n",
    "# Ignore useless warnings (see SciPy issue #5998)\n",
    "import warnings\n",
    "warnings.filterwarnings(action=\"ignore\", message=\"^internal gelsd\")"
   ]
  },
  {
   "cell_type": "markdown",
   "metadata": {},
   "source": [
    "# 正文"
   ]
  },
  {
   "cell_type": "markdown",
   "metadata": {},
   "source": [
    "## 确定当前目录和工作目录"
   ]
  },
  {
   "cell_type": "code",
   "execution_count": 9,
   "metadata": {
    "ExecuteTime": {
     "end_time": "2022-05-18T08:27:32.239426Z",
     "start_time": "2022-05-18T08:27:32.220446Z"
    }
   },
   "outputs": [
    {
     "data": {
      "text/plain": [
       "'D:\\\\haifeng\\\\work_20211031\\\\XAS-ML\\\\code\\\\neural network module\\\\jupyternotebook_code'"
      ]
     },
     "execution_count": 9,
     "metadata": {},
     "output_type": "execute_result"
    }
   ],
   "source": [
    "import os\n",
    "path = os.path.abspath(os.curdir)\n",
    "path"
   ]
  },
  {
   "cell_type": "markdown",
   "metadata": {},
   "source": [
    "## 设置输出文件夹"
   ]
  },
  {
   "cell_type": "markdown",
   "metadata": {},
   "source": [
    "设置文件夹，用于放置分析结果"
   ]
  },
  {
   "cell_type": "code",
   "execution_count": 10,
   "metadata": {
    "ExecuteTime": {
     "end_time": "2022-05-18T08:27:36.420983Z",
     "start_time": "2022-05-18T08:27:36.408877Z"
    }
   },
   "outputs": [],
   "source": [
    "path_dir_attr = os.path.join(os.curdir, dir_attr)\n",
    "os.makedirs(path_dir_attr, exist_ok=True)"
   ]
  },
  {
   "cell_type": "markdown",
   "metadata": {},
   "source": [
    "设置文件夹，用于放置图片，原来是“images”，现在改为都保存到一个文件夹下，即dir_attr"
   ]
  },
  {
   "cell_type": "code",
   "execution_count": 12,
   "metadata": {
    "ExecuteTime": {
     "end_time": "2022-05-18T08:38:19.307676Z",
     "start_time": "2022-05-18T08:38:19.296705Z"
    }
   },
   "outputs": [],
   "source": [
    "#dir_images = 'images'\n",
    "dir_images = dir_attr\n",
    "path_images = os.path.join(os.curdir, dir_images)\n",
    "# os.makedirs(path_images, exist_ok=True)"
   ]
  },
  {
   "cell_type": "markdown",
   "metadata": {},
   "source": [
    "## 对数据集进行统计分析并保存"
   ]
  },
  {
   "cell_type": "markdown",
   "metadata": {},
   "source": [
    "### 导入文件，统计分析并保存分析结果"
   ]
  },
  {
   "cell_type": "code",
   "execution_count": 13,
   "metadata": {
    "ExecuteTime": {
     "end_time": "2022-05-18T08:38:38.738053Z",
     "start_time": "2022-05-18T08:38:27.953455Z"
    }
   },
   "outputs": [],
   "source": [
    "import pandas as pd\n",
    "import numpy as np\n",
    "import sys\n",
    "for i in range(len(file_data)):\n",
    "    path_dir_data = os.path.join(path,dir_data)\n",
    "    path_file_data = os.path.join(path_dir_data,file_data[i])\n",
    "#\n",
    "#   check whether the data file exists, stop if not exists.\n",
    "#======================================\n",
    "    exist = os.path.exists(path_file_data)\n",
    "    if not exist:\n",
    "        print()\n",
    "        print(f\"** Error!! cannot find file {file_data[i]} in directory {dir_data}! **\")\n",
    "        print()\n",
    "        sys.exit()\n",
    "#\n",
    "#    read the file data\n",
    "#==================================\n",
    "    data_df = pd.read_csv(path_file_data,header=None,delim_whitespace=True)\n",
    "#   df.values, df.as_matrix() and np.array(df) all works.\n",
    "    data_np_array = data_df.values\n",
    "#\n",
    "#    define the name of file attribute\n",
    "#==================================\n",
    "    file_name = os.path.splitext(file_data[i])\n",
    "    file_attr_txt  = file_name[0] + '_attributes.txt'\n",
    "    path_attr_txt = os.path.join(path_dir_attr,file_attr_txt)\n",
    "#\n",
    "#   data attributes\n",
    "#==============================\n",
    "    attr_dict1 = {\n",
    "                  'file'                         : file_data[i],\n",
    "                  'data shape'                   : data_np_array.shape,\n",
    "                  'number of dimension'          : data_np_array.ndim,\n",
    "                  'data number'                  : data_np_array.size,\n",
    "                  'data memory (bytes)'          : data_np_array.nbytes,\n",
    "                  'data element memory (bytes)'  : data_np_array.itemsize,\n",
    "                  'data type'                    : data_np_array.dtype\n",
    "                 }\n",
    "    fout = open(path_attr_txt,'wt')\n",
    "#    print()\n",
    "    for key in attr_dict1.keys():\n",
    "#        print(f\"  {key:<33}: {attr_dict1[key]}\")\n",
    "        print(f\"  {key:<33}: {attr_dict1[key]}\",file=fout)\n",
    "#\n",
    "#   data properties (max, min, mean, variance, std)\n",
    "#==============================\n",
    "#\n",
    "# axis =0表示按行方向计算，即每列求值；1表示按列方向计算，即每行求值\n",
    "# 方差函数var()相当于函数mean(abs(x - x.mean())**2),其中x为矩阵；\n",
    "# 标准方差std()相当于sqrt(mean(abs(x - x.mean())**2))，或相当于sqrt(x.var())。\n",
    "# 中值指的是将序列按大小顺序排列后，排在中间的那个值，如果有偶数个数，则是排在中间两个数的平均值。\n",
    "    data_mean = np.mean(data_np_array, axis=0)\n",
    "    delta = data_np_array - data_mean\n",
    "    delta_abs = np.abs(delta)\n",
    "    error = delta / data_np_array\n",
    "    error_abs = np.abs(error)\n",
    "#\n",
    "    attr_dict2 = {\n",
    "                  'Mean'              : np.mean(data_np_array, axis=0),\n",
    "                  'Max'               : np.max(data_np_array, axis=0),\n",
    "                  'Min'               : np.min(data_np_array, axis=0),\n",
    "                  'Delta_max'         : np.max(delta, axis=0),\n",
    "                  'Delta_min'         : np.min(delta, axis=0),\n",
    "                  '|Delta|_mean'      : np.mean(delta_abs, axis=0),\n",
    "                  '|Delta|_max'       : np.max(delta_abs, axis=0),\n",
    "                  '|Delta|_min'       : np.min(delta_abs, axis=0),\n",
    "                  'Var'               : np.var(data_np_array, axis=0),\n",
    "                  'Std'               : np.std(data_np_array, axis=0),\n",
    "                  'Error_mean'        : np.mean(error, axis=0),\n",
    "                  'Error_max'         : np.max(error, axis=0),\n",
    "                  'Error_min'         : np.min(error, axis=0),\n",
    "                  '|Error|_mean'      : np.mean(error_abs, axis=0),\n",
    "                  '|Error|_max'       : np.max(error_abs, axis=0),\n",
    "                  '|Error|_min'       : np.min(error_abs, axis=0),\n",
    "                  'Midd'              : np.median(data_np_array, axis=0)\n",
    "                 }\n",
    "#\n",
    "#  print out attributes\n",
    "#====================================\n",
    "#    print()\n",
    "    print(file=fout)\n",
    "    for key in attr_dict2.keys():\n",
    "        fout.write(f\"  {key:<15}:\")\n",
    "        for j in range(data_np_array.shape[1]):\n",
    "            fout.write(f\"{attr_dict2[key][j]:14.6e}\")\n",
    "        fout.write('\\n')\n",
    "#        print(f\"  {key:<15}: {attr_dict2[key]}\")\n",
    "    fout.close()"
   ]
  },
  {
   "cell_type": "markdown",
   "metadata": {},
   "source": [
    "## label详细统计和绘图"
   ]
  },
  {
   "cell_type": "markdown",
   "metadata": {},
   "source": [
    "即给出label值的分布，如配位数的分布（柱状图）、平均键长的分布（柱状图）"
   ]
  },
  {
   "cell_type": "markdown",
   "metadata": {},
   "source": [
    "### 离散数据统计和绘图"
   ]
  },
  {
   "cell_type": "code",
   "execution_count": 14,
   "metadata": {
    "ExecuteTime": {
     "end_time": "2022-05-18T08:38:48.981409Z",
     "start_time": "2022-05-18T08:38:48.973435Z"
    }
   },
   "outputs": [],
   "source": [
    "file_data = file_data_dis\n",
    "label_index = label_index_dis"
   ]
  },
  {
   "cell_type": "markdown",
   "metadata": {},
   "source": [
    "如果有不同种类的离散数据集的情况，请多运行以下两个cell，未来将进行整合。"
   ]
  },
  {
   "cell_type": "code",
   "execution_count": 15,
   "metadata": {
    "ExecuteTime": {
     "end_time": "2022-05-18T08:38:54.034029Z",
     "start_time": "2022-05-18T08:38:52.332686Z"
    }
   },
   "outputs": [
    {
     "name": "stdout",
     "output_type": "stream",
     "text": [
      "Saving figure Au_cn_bar\n",
      "Saving figure Au_cn_train_bar\n",
      "Saving figure Au_cn_valid_bar\n",
      "Saving figure Au_cn_test_bar\n"
     ]
    }
   ],
   "source": [
    "from itertools import groupby\n",
    "for i in range(len(file_data)):\n",
    "    path_dir_data = os.path.join(path,dir_data)\n",
    "    path_file_data = os.path.join(path_dir_data,file_data[i])\n",
    "#\n",
    "#    read the file data\n",
    "#==============================\n",
    "    data_df = pd.read_csv(path_file_data,header=None,delim_whitespace=True)\n",
    "    data_np_array = data_df.values\n",
    "#\n",
    "#  count label\n",
    "#==============================\n",
    "#将列表转换为pandas的Series的格式（因为里面有自带的函数可以统计元素出现的个数）\n",
    "    data_pd_cn = pd.Series(data_np_array.flatten())\n",
    "    cn_list =list(data_pd_cn.value_counts().index)\n",
    "    cn_number = list(data_pd_cn.value_counts().values)\n",
    "    cn_max = max(cn_number)\n",
    "    cn_list_min = min(cn_list)\n",
    "    cn_list_max = max(cn_list)\n",
    "#\n",
    "#  find out the attribute file\n",
    "#==============================\n",
    "#    define the name of file attribute\n",
    "    file_name = os.path.splitext(file_data[i])\n",
    "    file_attr_txt  = file_name[0] + '_attributes.txt'\n",
    "    path_attr_txt = os.path.join(path_dir_attr,file_attr_txt)\n",
    "    fout = open(path_attr_txt,'a')\n",
    "#\n",
    "#  save count data into attribute file\n",
    "#==============================\n",
    "#    print(f\"{label_index} group in sets:\")\n",
    "    print(f\"\\n{label_index} group in sets:\", file=fout)\n",
    "    for k, g in groupby(sorted(data_np_array.flatten()), key=lambda x: x//1):\n",
    "        l = len(list(g))\n",
    "#        print(f\"{k:10.0f} : {l}\")\n",
    "        print(f\"{k:10.0f} : {l}\", file=fout) \n",
    "    fout.close()\n",
    "#\n",
    "#  print the bar figure\n",
    "#==========================================\n",
    "    file_bar = file_name[0] + '_bar'\n",
    "\n",
    "#    plt.style.use('seaborn')\n",
    "    fig = plt.figure()\n",
    "    ax1 = fig.add_subplot(1,1,1)\n",
    "    rects1 = ax1.bar(cn_list,cn_number,width=0.8,alpha=0.4,color='blue',edgecolor='red',label=label_index,lw=1)\n",
    "#\n",
    "    plt.xlabel(label_index)\n",
    "    plt.ylabel(\"Number\")\n",
    "    plt.title(f\"{file_name[0]}\")\n",
    "    plt.legend(loc='upper left')\n",
    "    plt.xticks(np.arange(min(cn_list),max(cn_list)+1,1), rotation=0)#rotation控制倾斜角度\n",
    "#    plt.yticks(np.arange(0, max(cn_number)*1.2))\n",
    "    plt.ylim(0,cn_max*1.2)\n",
    "#\n",
    "    for a,b in zip(cn_list,cn_number):\n",
    "        plt.text(a, b+cn_max/100, f\"{b:.0f}\", ha='center', va= 'bottom',fontsize=10)\n",
    "\n",
    "    save_fig(path_images, file_bar)\n",
    "    plt.close()"
   ]
  },
  {
   "cell_type": "markdown",
   "metadata": {},
   "source": [
    "### 连续数据统计和绘图"
   ]
  },
  {
   "cell_type": "code",
   "execution_count": 16,
   "metadata": {
    "ExecuteTime": {
     "end_time": "2022-05-18T08:39:00.034845Z",
     "start_time": "2022-05-18T08:39:00.014899Z"
    }
   },
   "outputs": [],
   "source": [
    "file_data = file_data_con\n",
    "label_index = label_index_con"
   ]
  },
  {
   "cell_type": "markdown",
   "metadata": {},
   "source": [
    "如果有不同种类的连续数据集的情况，请多运行以下两个cell，未来将进行整合。"
   ]
  },
  {
   "cell_type": "code",
   "execution_count": 17,
   "metadata": {
    "ExecuteTime": {
     "end_time": "2022-05-18T08:39:04.482218Z",
     "start_time": "2022-05-18T08:39:03.331820Z"
    },
    "scrolled": true
   },
   "outputs": [
    {
     "name": "stdout",
     "output_type": "stream",
     "text": [
      "Saving figure Au_cr_bar\n",
      "Saving figure Au_cr_train_bar\n",
      "Saving figure Au_cr_valid_bar\n",
      "Saving figure Au_cr_test_bar\n"
     ]
    }
   ],
   "source": [
    "from itertools import groupby\n",
    "for i in range(len(file_data)):\n",
    "    path_dir_data = os.path.join(path,dir_data)\n",
    "    path_file_data = os.path.join(path_dir_data,file_data[i])\n",
    "#\n",
    "#    read the file data\n",
    "#==============================\n",
    "    data_df = pd.read_csv(path_file_data,header=None,delim_whitespace=True)\n",
    "    data_np_array = data_df.values\n",
    "#\n",
    "#  count label\n",
    "#==============================\n",
    "#将列表转换为pandas的Series的格式（因为里面有自带的函数可以统计元素出现的个数）\n",
    "    data_pd_cr = pd.Series(np.trunc(data_np_array.flatten()*10)/10)\n",
    "    cr_list =list(data_pd_cr.value_counts().index+0.05)\n",
    "    cr_number = list(data_pd_cr.value_counts().values)\n",
    "    cr_max = max(cr_number)\n",
    "#\n",
    "#  find out the attribute file\n",
    "#==============================\n",
    "#    define the name of file attribute\n",
    "    file_name = os.path.splitext(file_data[i])\n",
    "    file_attr_txt  = file_name[0] + '_attributes.txt'\n",
    "    path_attr_txt = os.path.join(path_dir_attr,file_attr_txt)\n",
    "    fout = open(path_attr_txt,'a')\n",
    "#\n",
    "#  save count data into attribute file\n",
    "#==============================\n",
    "#    print(f\"{label_index} group in sets:\")\n",
    "    print(f\"\\n{label_index} group in sets:\", file=fout)\n",
    "    for k, g in groupby(sorted(data_np_array.flatten()*10), key=lambda x: x//1):\n",
    "        l = len(list(g))\n",
    "#        print(f\"{(k/10):10.1f} - {((k+1)/10-0.001):.3f} : {l}\")\n",
    "        print(f\"{(k/10):10.1f} - {((k+1)/10-0.001):.3f} : {l}\", file=fout) \n",
    "    fout.close()\n",
    "#\n",
    "#  print the bar figure\n",
    "#==========================================\n",
    "    file_bar = file_name[0] + '_bar'\n",
    "\n",
    "#    plt.style.use('seaborn')\n",
    "    fig = plt.figure()\n",
    "    ax1 = fig.add_subplot(1,1,1)\n",
    "    rects1 = ax1.bar(cr_list,cr_number,width=0.1,alpha=0.4,color='yellow',edgecolor='red',label=label_index,lw=1)\n",
    "#\n",
    "    plt.xlabel(label_index)\n",
    "    plt.ylabel(\"Number\")\n",
    "#    plt.title(f\"{file_name[0]} Count\")\n",
    "    plt.title(f\"{file_name[0]}\")\n",
    "    plt.legend(loc='upper left')\n",
    "    plt.xticks(np.arange(min(cr_list)-0.05,max(cr_list)+0.06,0.1), rotation=0)#rotation控制倾斜角度\n",
    "#    plt.yticks(np.arange(0, max(cr_number)*1.2))\n",
    "    plt.ylim(0,cr_max*1.2)\n",
    "#\n",
    "    for a,b in zip(cr_list,cr_number):\n",
    "        plt.text(a, b+cr_max/100, f\"{b:.0f}\", ha='center', va= 'bottom',fontsize=10)\n",
    "\n",
    "    save_fig(path_images, file_bar)\n",
    "    plt.close()\n",
    "#"
   ]
  },
  {
   "cell_type": "code",
   "execution_count": null,
   "metadata": {},
   "outputs": [],
   "source": []
  },
  {
   "cell_type": "markdown",
   "metadata": {},
   "source": [
    "以下是离散和连续的比较——未来要统一"
   ]
  },
  {
   "cell_type": "markdown",
   "metadata": {
    "ExecuteTime": {
     "end_time": "2021-09-06T14:09:50.792506Z",
     "start_time": "2021-09-06T14:09:48.945496Z"
    }
   },
   "source": [
    "from itertools import groupby\n",
    "for i in range(len(file_data)):\n",
    "    path_dir_data = os.path.join(path,dir_data)\n",
    "    path_file_data = os.path.join(path_dir_data,file_data[i])\n",
    "#\n",
    "#    read the file data\n",
    "#==============================\n",
    "    data_df = pd.read_csv(path_file_data,header=None,delim_whitespace=True)\n",
    "    data_np_array = data_df.values\n",
    "#\n",
    "#  count label\n",
    "#==============================\n",
    "#将列表转换为pandas的Series的格式（因为里面有自带的函数可以统计元素出现的个数）\n",
    "    data_pd_cn = pd.Series(data_np_array.flatten())\n",
    "    cn_list =list(data_pd_cn.value_counts().index)\n",
    "    cn_number = list(data_pd_cn.value_counts().values)\n",
    "    cn_max = max(cn_number)\n",
    "    cn_list_min = min(cn_list)\n",
    "    cn_list_max = max(cn_list)\n",
    "#\n",
    "#  find out the attribute file\n",
    "#==============================\n",
    "#    define the name of file attribute\n",
    "    file_name = os.path.splitext(file_data[i])\n",
    "    file_attr_txt  = file_name[0] + '_attributes.txt'\n",
    "    path_attr_txt = os.path.join(path_dir_attr,file_attr_txt)\n",
    "    fout = open(path_attr_txt,'a')\n",
    "#\n",
    "#  save count data into attribute file\n",
    "#==============================\n",
    "#    print(f\"{label_index} group in sets:\")\n",
    "    print(f\"\\n{label_index} group in sets:\", file=fout)\n",
    "    for k, g in groupby(sorted(data_np_array.flatten()), key=lambda x: x//1):\n",
    "        l = len(list(g))\n",
    "#        print(f\"{k:10.0f} : {l}\")\n",
    "        print(f\"{k:10.0f} : {l}\", file=fout) \n",
    "    fout.close()\n",
    "#\n",
    "#  print the bar figure\n",
    "#==========================================\n",
    "    file_bar = file_name[0] + '_bar'\n",
    "\n",
    "#    plt.style.use('seaborn')\n",
    "    fig = plt.figure()\n",
    "    ax1 = fig.add_subplot(1,1,1)\n",
    "    rects1 = ax1.bar(cn_list,cn_number,width=0.8,alpha=0.4,color='blue',edgecolor='red',label=label_index,lw=1)\n",
    "#\n",
    "    plt.xlabel(label_index)\n",
    "    plt.ylabel(\"Number\")\n",
    "    plt.title(f\"{file_name[0]}\")\n",
    "    plt.legend(loc='upper left')\n",
    "    plt.xticks(np.arange(min(cn_list),max(cn_list)+1,1), rotation=0)#rotation控制倾斜角度\n",
    "#    plt.yticks(np.arange(0, max(cn_number)*1.2))\n",
    "    plt.ylim(0,cn_max*1.2)\n",
    "#\n",
    "    for a,b in zip(cn_list,cn_number):\n",
    "        plt.text(a, b+cn_max/100, f\"{b:.0f}\", ha='center', va= 'bottom',fontsize=10)\n",
    "\n",
    "    save_fig(path_images,file_bar)\n",
    "    plt.close()\n",
    "    \n",
    "    \n",
    "    \n",
    "\n",
    "\n",
    "\n",
    "#\n",
    "#  count label\n",
    "#==============================\n",
    "#将列表转换为pandas的Series的格式（因为里面有自带的函数可以统计元素出现的个数）\n",
    "    data_pd_cr = pd.Series(np.trunc(data_np_array.flatten()*10)/10)\n",
    "    cr_list =list(data_pd_cr.value_counts().index+0.05)\n",
    "    cr_number = list(data_pd_cr.value_counts().values)\n",
    "    cr_max = max(cr_number)\n",
    "#\n",
    "#  find out the attribute file\n",
    "#==============================\n",
    "\n",
    "\n",
    "\n",
    "\n",
    "    for k, g in groupby(sorted(data_np_array.flatten()*10), key=lambda x: x//1):\n",
    "\n",
    "\n",
    "        print(f\"{(k/10):10.1f} - {((k+1)/10-0.001):.3f} : {l}\", file=fout) \n",
    "\n",
    "\n",
    "\n",
    "\n",
    "\n",
    "    rects1 = ax1.bar(cr_list,cr_number,width=0.1,alpha=0.4,color='yellow',edgecolor='red',label=label_index,lw=1)\n",
    "#\n",
    "\n",
    "\n",
    "\n",
    "    plt.xticks(np.arange(min(cr_list)-0.05,max(cr_list)+0.06,0.1), rotation=0)#rotation控制倾斜角度\n",
    "\n",
    "    plt.ylim(0,cr_max*1.2)\n",
    "#\n",
    "    for a,b in zip(cr_list,cr_number):\n",
    "        plt.text(a, b+cr_max/100, f\"{b:.0f}\", ha='center', va= 'bottom',fontsize=10)\n",
    "\n",
    "    save_fig(path_images, file_bar)\n",
    "    plt.close()"
   ]
  },
  {
   "cell_type": "code",
   "execution_count": null,
   "metadata": {},
   "outputs": [],
   "source": []
  }
 ],
 "metadata": {
  "colab": {
   "collapsed_sections": [],
   "name": "多元回归问题 0818",
   "provenance": [],
   "toc_visible": true
  },
  "kernelspec": {
   "display_name": "Python 3 (ipykernel)",
   "language": "python",
   "name": "python3"
  },
  "language_info": {
   "codemirror_mode": {
    "name": "ipython",
    "version": 3
   },
   "file_extension": ".py",
   "mimetype": "text/x-python",
   "name": "python",
   "nbconvert_exporter": "python",
   "pygments_lexer": "ipython3",
   "version": "3.9.12"
  },
  "toc": {
   "base_numbering": 1,
   "nav_menu": {},
   "number_sections": true,
   "sideBar": true,
   "skip_h1_title": false,
   "title_cell": "Table of Contents",
   "title_sidebar": "Contents",
   "toc_cell": false,
   "toc_position": {
    "height": "calc(100% - 180px)",
    "left": "10px",
    "top": "150px",
    "width": "289px"
   },
   "toc_section_display": true,
   "toc_window_display": true
  },
  "varInspector": {
   "cols": {
    "lenName": 16,
    "lenType": 16,
    "lenVar": 40
   },
   "kernels_config": {
    "python": {
     "delete_cmd_postfix": "",
     "delete_cmd_prefix": "del ",
     "library": "var_list.py",
     "varRefreshCmd": "print(var_dic_list())"
    },
    "r": {
     "delete_cmd_postfix": ") ",
     "delete_cmd_prefix": "rm(",
     "library": "var_list.r",
     "varRefreshCmd": "cat(var_dic_list()) "
    }
   },
   "types_to_exclude": [
    "module",
    "function",
    "builtin_function_or_method",
    "instance",
    "_Feature"
   ],
   "window_display": false
  }
 },
 "nbformat": 4,
 "nbformat_minor": 1
}
