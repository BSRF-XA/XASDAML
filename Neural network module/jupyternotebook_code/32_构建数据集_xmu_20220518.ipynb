{
 "cells": [
  {
   "cell_type": "markdown",
   "metadata": {},
   "source": [
    "## 本程序读取含有feature、label文件路径的csv文件（位于“datasets_csv”文件夹下），从feature和label中读取feature和label值，生成数据集文件，包括train、validation、test数据集。数据保存到“datasets”文件夹下"
   ]
  },
  {
   "cell_type": "markdown",
   "metadata": {},
   "source": [
    "### 这里读取的是xmu，和chi不一样，所以需要重写。"
   ]
  },
  {
   "cell_type": "markdown",
   "metadata": {},
   "source": [
    "last update: 2022.05.18"
   ]
  },
  {
   "cell_type": "markdown",
   "metadata": {},
   "source": [
    "相对于21版本，将文件/文件夹参数提前到前面进行设置，并调整了输入和输出文件夹相对于本代码的相对路径"
   ]
  },
  {
   "cell_type": "markdown",
   "metadata": {},
   "source": [
    "contacts：zhaohf@ihep.ac.cn"
   ]
  },
  {
   "cell_type": "markdown",
   "metadata": {},
   "source": [
    "# 配置环境"
   ]
  },
  {
   "cell_type": "markdown",
   "metadata": {},
   "source": [
    "## 所需模块"
   ]
  },
  {
   "cell_type": "code",
   "execution_count": 1,
   "metadata": {
    "ExecuteTime": {
     "end_time": "2022-05-18T07:33:01.741665Z",
     "start_time": "2022-05-18T07:33:01.077586Z"
    }
   },
   "outputs": [],
   "source": [
    "import sys\n",
    "import os\n",
    "import pandas as pd\n",
    "import numpy as np"
   ]
  },
  {
   "cell_type": "markdown",
   "metadata": {},
   "source": [
    "输出导入模板的版本。"
   ]
  },
  {
   "cell_type": "code",
   "execution_count": 2,
   "metadata": {
    "ExecuteTime": {
     "end_time": "2022-05-18T07:33:01.757626Z",
     "start_time": "2022-05-18T07:33:01.744660Z"
    }
   },
   "outputs": [
    {
     "name": "stdout",
     "output_type": "stream",
     "text": [
      "python version: 3.9.12 (main, Apr  4 2022, 05:22:27) [MSC v.1916 64 bit (AMD64)]\n",
      "numpy version: 1.21.5\n",
      "panda version: 1.4.2\n"
     ]
    }
   ],
   "source": [
    "print('python version:',sys.version)\n",
    "print('numpy version:',np.__version__)\n",
    "print('panda version:',pd.__version__)"
   ]
  },
  {
   "cell_type": "markdown",
   "metadata": {},
   "source": [
    "# 设置参数"
   ]
  },
  {
   "cell_type": "markdown",
   "metadata": {},
   "source": [
    "## 设置输入的csv文件和文件相对路径"
   ]
  },
  {
   "cell_type": "code",
   "execution_count": 3,
   "metadata": {
    "ExecuteTime": {
     "end_time": "2022-05-18T07:33:01.772588Z",
     "start_time": "2022-05-18T07:33:01.761623Z"
    }
   },
   "outputs": [],
   "source": [
    "dir_csv = './../datasets_csv'\n",
    "file_csv  = 'au150_DW_xmu.csv'"
   ]
  },
  {
   "cell_type": "markdown",
   "metadata": {},
   "source": [
    "## 设置输出的用于保存数据的文件夹和文件"
   ]
  },
  {
   "cell_type": "code",
   "execution_count": 4,
   "metadata": {
    "ExecuteTime": {
     "end_time": "2022-05-18T07:33:01.787547Z",
     "start_time": "2022-05-18T07:33:01.775581Z"
    }
   },
   "outputs": [],
   "source": [
    "dir_data = './../datasets'\n",
    "# feature文件将由 index + '_' + feature + suffix 组成\n",
    "# label文件将由 file_label = index + '_' + label[] + suffix 组成\n",
    "index = 'Au'\n",
    "feature = 'xmu'\n",
    "label = ['cn', 'cr']\n",
    "suffix = '.txt'"
   ]
  },
  {
   "cell_type": "markdown",
   "metadata": {},
   "source": [
    "## 设置 train、validation、test数据的比例"
   ]
  },
  {
   "cell_type": "code",
   "execution_count": 5,
   "metadata": {
    "ExecuteTime": {
     "end_time": "2022-05-18T07:33:01.803504Z",
     "start_time": "2022-05-18T07:33:01.789544Z"
    }
   },
   "outputs": [],
   "source": [
    "# 让训练、验证、测试数据集的比例为7:2:1\n",
    "ratio_train = 0.7\n",
    "ratio_valid = 0.2\n",
    "ratio_test = 1 - ratio_train - ratio_valid"
   ]
  },
  {
   "cell_type": "markdown",
   "metadata": {},
   "source": [
    "# 类、函数模块"
   ]
  },
  {
   "cell_type": "markdown",
   "metadata": {
    "ExecuteTime": {
     "end_time": "2022-05-18T07:11:24.219741Z",
     "start_time": "2022-05-18T07:11:24.201789Z"
    }
   },
   "source": [
    "## csv--> data"
   ]
  },
  {
   "cell_type": "markdown",
   "metadata": {},
   "source": [
    "### 对于给定的文件和字符串，找到该字符串第一次在文中出现的行号（即处于第几行）"
   ]
  },
  {
   "cell_type": "code",
   "execution_count": 6,
   "metadata": {
    "ExecuteTime": {
     "end_time": "2022-05-18T07:33:01.819461Z",
     "start_time": "2022-05-18T07:33:01.805500Z"
    }
   },
   "outputs": [],
   "source": [
    "def find_string_line(path_file, string):\n",
    "    \"\"\"\n",
    "    找到path_file文件中string所在的行号，即处于第几行\n",
    "    \n",
    "    \"\"\"\n",
    "    exist = os.path.exists(path_file)\n",
    "    if exist:\n",
    "        l = len(string)\n",
    "        fin = open(path_file,'rt')\n",
    "        i = 0\n",
    "        find = False\n",
    "        for line in fin.readlines():\n",
    "            line = line.strip() \n",
    "            i = i+1\n",
    "            if line[:l] == string:\n",
    "                find = True\n",
    "                break\n",
    "        fin.close()\n",
    "        return find, i\n",
    "    else:\n",
    "        return False, 0"
   ]
  },
  {
   "cell_type": "markdown",
   "metadata": {},
   "source": [
    "### 专用于xmu文件的读取。"
   ]
  },
  {
   "cell_type": "code",
   "execution_count": 7,
   "metadata": {
    "ExecuteTime": {
     "end_time": "2022-05-18T07:33:01.835419Z",
     "start_time": "2022-05-18T07:33:01.822453Z"
    }
   },
   "outputs": [],
   "source": [
    "# 谱数据开头的标记字符串，在该字符串后的数据将被读取。\n",
    "# 读取xmu.dat文件中的“#  omega    e    k    mu    mu0     chi     @#”下的数组\n",
    "string = '#  omega'\n",
    "#\n",
    "def create_dataset(data_file):\n",
    "    pd_dataset = pd.read_csv(data_file)\n",
    "    feature_list = []\n",
    "    label_list = []\n",
    "    for i in range(len(pd_dataset)):\n",
    "#\n",
    "# 数据预处理 特征\n",
    "        data_file_path = pd_dataset['file_path'][i]\n",
    "#        data_df = pd.read_csv(data_file_path,header=None,delim_whitespace=True)\n",
    "#\n",
    "        find, m = find_string_line(data_file_path, string)\n",
    "        if not find:\n",
    "            print()\n",
    "            print('path_xmu file',path_xmu, 'has no mu')\n",
    "            print()\n",
    "        data_df = pd.read_csv(data_file_path,delim_whitespace=True,header=None, skiprows=list(range(m)))\n",
    "#\n",
    "        a = data_df.iloc[0,2]\n",
    "        if a == 0 :\n",
    "#            data_df = pd.read_csv(data_file_path,header=0,delim_whitespace=True)\n",
    "            data_df = pd.read_csv(data_file_path,delim_whitespace=True,header=None, skiprows=list(range(m+1)))\n",
    "# xmu.dat 共6列，分别为omega、e、k、mu、mu0.chi，我们选取第4列。\n",
    "        data_np = data_df.iloc[:,3].values\n",
    "        feature_list.append(data_np)\n",
    "#\n",
    "# 数据预处理 label\n",
    "        label_file_path = pd_dataset['label_path'][i]\n",
    "        label_df = pd.read_csv(label_file_path,delim_whitespace=True,header=0, skiprows=[0])\n",
    "#\n",
    "#  这里可能需要确保lable有值，zhaohf\n",
    "#\n",
    "        label = label_df.iloc[0,1:3].values\n",
    "        label_list.append(label)\n",
    "#\n",
    "#        del label_df\n",
    "#        del data_np\n",
    "#\n",
    "  # 特征和label数据由list改为numpy array的形式\n",
    "#\n",
    "    data_np_array = np.array(feature_list)\n",
    "    label_np_array = np.array(label_list)\n",
    "#\n",
    "#    del feature_list\n",
    "#    del label_list\n",
    "#\n",
    "    return data_np_array, label_np_array"
   ]
  },
  {
   "cell_type": "markdown",
   "metadata": {},
   "source": [
    "# 正文"
   ]
  },
  {
   "cell_type": "markdown",
   "metadata": {},
   "source": [
    "## 确定当前目录和工作目录"
   ]
  },
  {
   "cell_type": "code",
   "execution_count": 8,
   "metadata": {
    "ExecuteTime": {
     "end_time": "2022-05-18T07:33:01.866337Z",
     "start_time": "2022-05-18T07:33:01.838412Z"
    }
   },
   "outputs": [
    {
     "data": {
      "text/plain": [
       "'D:\\\\haifeng\\\\work_20211031\\\\XAS-ML\\\\code\\\\neural network module\\\\jupyternotebook_code'"
      ]
     },
     "execution_count": 8,
     "metadata": {},
     "output_type": "execute_result"
    }
   ],
   "source": [
    "import os\n",
    "path = os.path.abspath(os.curdir)\n",
    "path"
   ]
  },
  {
   "cell_type": "markdown",
   "metadata": {},
   "source": [
    "## 检查csv文件和文件相对路径"
   ]
  },
  {
   "cell_type": "code",
   "execution_count": 9,
   "metadata": {
    "ExecuteTime": {
     "end_time": "2022-05-18T07:33:01.881299Z",
     "start_time": "2022-05-18T07:33:01.868331Z"
    }
   },
   "outputs": [],
   "source": [
    "# csv文件所在位置\n",
    "path_dir_csv = os.path.join(path,dir_csv)\n",
    "path_csv = os.path.join(path_dir_csv,file_csv)\n",
    "#\n",
    "# 检查csv是否存在，若不存在，报错\n",
    "exist = os.path.exists(path_csv)\n",
    "if not exist:\n",
    "    print()\n",
    "    print('** Error!! cannot find csv file in', dir_csv)\n",
    "    print()\n",
    "    sys.exit()"
   ]
  },
  {
   "cell_type": "markdown",
   "metadata": {},
   "source": [
    "## 对于给定的csv文件“data_file”，读取其中的feature和label，制成数据集。"
   ]
  },
  {
   "cell_type": "markdown",
   "metadata": {},
   "source": [
    "这可能需要几十秒种（5996条谱和配位数、平均键长，xmu大概需要45秒）"
   ]
  },
  {
   "cell_type": "code",
   "execution_count": 10,
   "metadata": {
    "ExecuteTime": {
     "end_time": "2022-05-18T07:33:44.176578Z",
     "start_time": "2022-05-18T07:33:01.888278Z"
    }
   },
   "outputs": [],
   "source": [
    "data_np_array, label_np_array = create_dataset(path_csv)"
   ]
  },
  {
   "cell_type": "markdown",
   "metadata": {},
   "source": [
    "看一下feature值"
   ]
  },
  {
   "cell_type": "code",
   "execution_count": 11,
   "metadata": {
    "ExecuteTime": {
     "end_time": "2022-05-18T07:33:44.192340Z",
     "start_time": "2022-05-18T07:33:44.178636Z"
    }
   },
   "outputs": [
    {
     "data": {
      "text/plain": [
       "array([[0.500734, 0.501069, 0.501704, ..., 0.674794, 0.673748, 0.672702],\n",
       "       [0.451575, 0.452223, 0.453745, ..., 0.670362, 0.669323, 0.668283],\n",
       "       [0.472961, 0.473613, 0.475186, ..., 0.673098, 0.672054, 0.671011],\n",
       "       ...,\n",
       "       [0.491162, 0.491696, 0.493186, ..., 0.674351, 0.673308, 0.672265],\n",
       "       [0.465608, 0.466137, 0.467324, ..., 0.671872, 0.670832, 0.669792],\n",
       "       [0.462475, 0.46302 , 0.464253, ..., 0.671356, 0.670317, 0.669278]])"
      ]
     },
     "execution_count": 11,
     "metadata": {},
     "output_type": "execute_result"
    }
   ],
   "source": [
    "data_np_array"
   ]
  },
  {
   "cell_type": "code",
   "execution_count": 12,
   "metadata": {
    "ExecuteTime": {
     "end_time": "2022-05-18T07:33:44.208149Z",
     "start_time": "2022-05-18T07:33:44.195336Z"
    }
   },
   "outputs": [
    {
     "data": {
      "text/plain": [
       "(5966, 400)"
      ]
     },
     "execution_count": 12,
     "metadata": {},
     "output_type": "execute_result"
    }
   ],
   "source": [
    "data_np_array.shape"
   ]
  },
  {
   "cell_type": "markdown",
   "metadata": {},
   "source": [
    "看一下label值"
   ]
  },
  {
   "cell_type": "code",
   "execution_count": 13,
   "metadata": {
    "ExecuteTime": {
     "end_time": "2022-05-18T07:33:44.224147Z",
     "start_time": "2022-05-18T07:33:44.210147Z"
    }
   },
   "outputs": [
    {
     "data": {
      "text/plain": [
       "array([[ 8.   ,  2.819],\n",
       "       [ 8.   ,  2.92 ],\n",
       "       [ 8.   ,  2.835],\n",
       "       ...,\n",
       "       [12.   ,  2.864],\n",
       "       [ 8.   ,  2.902],\n",
       "       [ 7.   ,  2.865]])"
      ]
     },
     "execution_count": 13,
     "metadata": {},
     "output_type": "execute_result"
    }
   ],
   "source": [
    "label_np_array"
   ]
  },
  {
   "cell_type": "code",
   "execution_count": 14,
   "metadata": {
    "ExecuteTime": {
     "end_time": "2022-05-18T07:33:44.239910Z",
     "start_time": "2022-05-18T07:33:44.226171Z"
    }
   },
   "outputs": [
    {
     "data": {
      "text/plain": [
       "(5966, 2)"
      ]
     },
     "execution_count": 14,
     "metadata": {},
     "output_type": "execute_result"
    }
   ],
   "source": [
    "label_np_array.shape"
   ]
  },
  {
   "cell_type": "markdown",
   "metadata": {},
   "source": [
    "## 将 feature值和label值输出到文件中"
   ]
  },
  {
   "cell_type": "markdown",
   "metadata": {},
   "source": [
    "### 创建输出文件夹"
   ]
  },
  {
   "cell_type": "code",
   "execution_count": 15,
   "metadata": {
    "ExecuteTime": {
     "end_time": "2022-05-18T07:33:44.255919Z",
     "start_time": "2022-05-18T07:33:44.241908Z"
    }
   },
   "outputs": [],
   "source": [
    "path_data = os.path.join(os.curdir, dir_data)\n",
    "os.makedirs(path_data, exist_ok=True)"
   ]
  },
  {
   "cell_type": "markdown",
   "metadata": {},
   "source": [
    "### 整体feature和label文件"
   ]
  },
  {
   "cell_type": "markdown",
   "metadata": {},
   "source": [
    "创建feature文件"
   ]
  },
  {
   "cell_type": "code",
   "execution_count": 16,
   "metadata": {
    "ExecuteTime": {
     "end_time": "2022-05-18T07:33:48.395111Z",
     "start_time": "2022-05-18T07:33:44.257449Z"
    }
   },
   "outputs": [],
   "source": [
    "file_feature = index + '_' + feature + suffix\n",
    "path_file_feature = os.path.join(path_data, file_feature)\n",
    "fout = open(path_file_feature,'w')\n",
    "for i in range(data_np_array.shape[0]):\n",
    "    for j in range(data_np_array.shape[1]):\n",
    "        fout.write(f\"{data_np_array[i][j]:14.6e}\")\n",
    "    fout.write('\\n')\n",
    "fout.close()"
   ]
  },
  {
   "cell_type": "markdown",
   "metadata": {},
   "source": [
    "创建label文件"
   ]
  },
  {
   "cell_type": "code",
   "execution_count": 17,
   "metadata": {
    "ExecuteTime": {
     "end_time": "2022-05-18T07:33:48.426482Z",
     "start_time": "2022-05-18T07:33:48.398109Z"
    }
   },
   "outputs": [],
   "source": [
    "for j in range(len(label)):\n",
    "    file_label = index + '_' + label[j] + suffix\n",
    "    path_file_label = os.path.join(path_data, file_label)\n",
    "    fout = open(path_file_label,'w')\n",
    "    for i in range(label_np_array.shape[0]):\n",
    "        if j == 0 : fout.write(f\"{label_np_array[i][j]:3.0f}\\n\")\n",
    "        if j == 1 : fout.write(f\"{label_np_array[i][j]:6.3f}\\n\")\n",
    "#        if j == 1 : print(f\"{label_np_array[i][j]:6.3f}\",file=fout)   # same as previous\n",
    "    fout.close()"
   ]
  },
  {
   "cell_type": "markdown",
   "metadata": {},
   "source": [
    "### train、validation、test文件"
   ]
  },
  {
   "cell_type": "code",
   "execution_count": 18,
   "metadata": {
    "ExecuteTime": {
     "end_time": "2022-05-18T07:33:48.442101Z",
     "start_time": "2022-05-18T07:33:48.428139Z"
    }
   },
   "outputs": [
    {
     "name": "stdout",
     "output_type": "stream",
     "text": [
      "N. of train : 4176\n",
      "N. of validation : 1193\n",
      "N. of test : 597\n",
      "------------------------------\n",
      "N. of all : 5966\n"
     ]
    }
   ],
   "source": [
    "N_train_full = data_np_array.shape[0]\n",
    "N_train = int(N_train_full * ratio_train)\n",
    "N_valid = int(N_train_full * ratio_valid)\n",
    "N_test = N_train_full - N_train - N_valid\n",
    "print ('N. of train :', N_train)\n",
    "print ('N. of validation :', N_valid)\n",
    "print ('N. of test :', N_test)\n",
    "print (('-')*30)\n",
    "print ('N. of all :', N_train_full)"
   ]
  },
  {
   "cell_type": "code",
   "execution_count": 19,
   "metadata": {
    "ExecuteTime": {
     "end_time": "2022-05-18T07:33:48.458059Z",
     "start_time": "2022-05-18T07:33:48.446090Z"
    }
   },
   "outputs": [],
   "source": [
    "t_v_t = ['train', 'valid', 'test']"
   ]
  },
  {
   "cell_type": "markdown",
   "metadata": {},
   "source": [
    "创建train、validation、test的feature文件"
   ]
  },
  {
   "cell_type": "code",
   "execution_count": 20,
   "metadata": {
    "ExecuteTime": {
     "end_time": "2022-05-18T07:33:48.474044Z",
     "start_time": "2022-05-18T07:33:48.461050Z"
    }
   },
   "outputs": [],
   "source": [
    "train_feature = data_np_array[:N_train]\n",
    "valid_feature = data_np_array[N_train:-N_test]\n",
    "test_feature = data_np_array[-N_test:]"
   ]
  },
  {
   "cell_type": "code",
   "execution_count": 21,
   "metadata": {
    "ExecuteTime": {
     "end_time": "2022-05-18T07:33:48.489538Z",
     "start_time": "2022-05-18T07:33:48.476012Z"
    }
   },
   "outputs": [],
   "source": [
    "array_feature_tvt = [train_feature, valid_feature, test_feature]"
   ]
  },
  {
   "cell_type": "code",
   "execution_count": 22,
   "metadata": {
    "ExecuteTime": {
     "end_time": "2022-05-18T07:33:52.839121Z",
     "start_time": "2022-05-18T07:33:48.491147Z"
    }
   },
   "outputs": [],
   "source": [
    "for k in range(len(t_v_t)):\n",
    "    file_feature = index + '_' + feature + '_' + t_v_t[k] + suffix\n",
    "    path_file_feature = os.path.join(path_data, file_feature)\n",
    "    fout = open(path_file_feature,'w')\n",
    "    for i in range(array_feature_tvt[k].shape[0]):\n",
    "        for j in range(array_feature_tvt[k].shape[1]):\n",
    "            fout.write(f\"{array_feature_tvt[k][i][j]:14.6e}\")\n",
    "        fout.write('\\n')\n",
    "    fout.close()"
   ]
  },
  {
   "cell_type": "markdown",
   "metadata": {},
   "source": [
    "创建train、validation、test的label文件"
   ]
  },
  {
   "cell_type": "code",
   "execution_count": 23,
   "metadata": {
    "ExecuteTime": {
     "end_time": "2022-05-18T07:33:52.871171Z",
     "start_time": "2022-05-18T07:33:52.846010Z"
    }
   },
   "outputs": [],
   "source": [
    "train_label = label_np_array[:N_train]\n",
    "valid_label = label_np_array[N_train:-N_test]\n",
    "test_label = label_np_array[-N_test:]"
   ]
  },
  {
   "cell_type": "code",
   "execution_count": 24,
   "metadata": {
    "ExecuteTime": {
     "end_time": "2022-05-18T07:33:52.886914Z",
     "start_time": "2022-05-18T07:33:52.873171Z"
    }
   },
   "outputs": [],
   "source": [
    "array_label_tvt = [train_label, valid_label, test_label]"
   ]
  },
  {
   "cell_type": "code",
   "execution_count": 25,
   "metadata": {
    "ExecuteTime": {
     "end_time": "2022-05-18T07:33:52.933847Z",
     "start_time": "2022-05-18T07:33:52.887914Z"
    }
   },
   "outputs": [],
   "source": [
    "for j in range(len(label)):\n",
    "    for k in range(len(t_v_t)):\n",
    "        file_label = index + '_' + label[j] + '_' + t_v_t[k] + suffix\n",
    "        path_file_label = os.path.join(path_data, file_label)\n",
    "        fout = open(path_file_label,'w')\n",
    "        for i in range(array_label_tvt[k].shape[0]):\n",
    "            if j == 0 : fout.write(f\"{array_label_tvt[k][i][j]:3.0f}\\n\")\n",
    "            if j == 1 : fout.write(f\"{array_label_tvt[k][i][j]:6.3f}\\n\")\n",
    "        fout.close()"
   ]
  },
  {
   "cell_type": "code",
   "execution_count": null,
   "metadata": {},
   "outputs": [],
   "source": []
  }
 ],
 "metadata": {
  "colab": {
   "collapsed_sections": [],
   "name": "多元回归问题 0818",
   "provenance": [],
   "toc_visible": true
  },
  "kernelspec": {
   "display_name": "Python 3 (ipykernel)",
   "language": "python",
   "name": "python3"
  },
  "language_info": {
   "codemirror_mode": {
    "name": "ipython",
    "version": 3
   },
   "file_extension": ".py",
   "mimetype": "text/x-python",
   "name": "python",
   "nbconvert_exporter": "python",
   "pygments_lexer": "ipython3",
   "version": "3.9.12"
  },
  "toc": {
   "base_numbering": 1,
   "nav_menu": {},
   "number_sections": true,
   "sideBar": true,
   "skip_h1_title": false,
   "title_cell": "Table of Contents",
   "title_sidebar": "Contents",
   "toc_cell": false,
   "toc_position": {
    "height": "calc(100% - 180px)",
    "left": "10px",
    "top": "150px",
    "width": "230.4px"
   },
   "toc_section_display": true,
   "toc_window_display": true
  },
  "varInspector": {
   "cols": {
    "lenName": 16,
    "lenType": 16,
    "lenVar": 40
   },
   "kernels_config": {
    "python": {
     "delete_cmd_postfix": "",
     "delete_cmd_prefix": "del ",
     "library": "var_list.py",
     "varRefreshCmd": "print(var_dic_list())"
    },
    "r": {
     "delete_cmd_postfix": ") ",
     "delete_cmd_prefix": "rm(",
     "library": "var_list.r",
     "varRefreshCmd": "cat(var_dic_list()) "
    }
   },
   "types_to_exclude": [
    "module",
    "function",
    "builtin_function_or_method",
    "instance",
    "_Feature"
   ],
   "window_display": false
  }
 },
 "nbformat": 4,
 "nbformat_minor": 1
}
