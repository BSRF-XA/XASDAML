{
 "cells": [
  {
   "cell_type": "markdown",
   "metadata": {},
   "source": [
    "## 本程序读取train、validation、test的feature、label文件（在“datasets”文件夹下），然后构建网络进行超参数训练。输出在文件夹“hyper-param_tuning”中。"
   ]
  },
  {
   "cell_type": "markdown",
   "metadata": {},
   "source": [
    "last update: 2022.5.18"
   ]
  },
  {
   "cell_type": "markdown",
   "metadata": {},
   "source": [
    "在cn的版本上修改，主要改变了绘图的设置"
   ]
  },
  {
   "cell_type": "markdown",
   "metadata": {},
   "source": [
    "contacts：zhaohf@ihep.ac.cn"
   ]
  },
  {
   "cell_type": "markdown",
   "metadata": {},
   "source": [
    "# 配置环境"
   ]
  },
  {
   "cell_type": "markdown",
   "metadata": {},
   "source": [
    "## 导入所需模块"
   ]
  },
  {
   "cell_type": "code",
   "execution_count": 1,
   "metadata": {
    "ExecuteTime": {
     "end_time": "2022-05-18T12:33:07.013610Z",
     "start_time": "2022-05-18T12:33:00.692421Z"
    }
   },
   "outputs": [],
   "source": [
    "import os\n",
    "import sys\n",
    "assert sys.version_info >= (3, 5)\n",
    "#\n",
    "import pandas as pd\n",
    "import numpy as np\n",
    "#\n",
    "# TensorFlow ≥2.0 is required\n",
    "import tensorflow as tf\n",
    "assert tf.__version__ >= \"2.0\"\n",
    "import sklearn\n",
    "\n",
    "from tensorflow import keras\n",
    "from tensorflow.keras import optimizers\n",
    "#\n",
    "# pydot_ng and graphviz are for tf.keras.utils.plot_model\n",
    "# note that installing pydot_ng is 'pydot-ng'\n",
    "# note that 在windows下不可以使用pip install graphviz 下载graphviz安装包，\n",
    "# 要去https://graphviz.gitlab.io/下载windows版本的安装包，安装好之后在环境变量中添加对应的路径即可！！！\n",
    "import graphviz\n",
    "import pydot\n",
    "import pydot_ng\n",
    "#\n",
    "import time"
   ]
  },
  {
   "cell_type": "markdown",
   "metadata": {},
   "source": [
    "输出导入模板的版本。"
   ]
  },
  {
   "cell_type": "code",
   "execution_count": 2,
   "metadata": {
    "ExecuteTime": {
     "end_time": "2022-05-18T12:33:16.474105Z",
     "start_time": "2022-05-18T12:33:16.455752Z"
    }
   },
   "outputs": [
    {
     "name": "stdout",
     "output_type": "stream",
     "text": [
      "python version: 3.9.12 (main, Apr  4 2022, 05:22:27) [MSC v.1916 64 bit (AMD64)]\n",
      "TensorFlow version: 2.7.0\n",
      "sciket learn version: 1.0.2\n",
      "numpy version: 1.21.5\n",
      "panda version: 1.4.2\n",
      "graphviz version: 0.19.1\n",
      "pydot version: 1.4.2\n",
      "pydot_ng version: 2.0.0\n"
     ]
    }
   ],
   "source": [
    "print('python version:',sys.version)\n",
    "print('TensorFlow version:',tf.__version__)\n",
    "print('sciket learn version:',sklearn.__version__)\n",
    "print('numpy version:',np.__version__)\n",
    "print('panda version:',pd.__version__)\n",
    "print('graphviz version:',graphviz.__version__)\n",
    "print('pydot version:',pydot.__version__)\n",
    "print('pydot_ng version:',pydot_ng.__version__)\n",
    "#\n",
    "#print('matplotlib version:',matplotlib.__version__)\n",
    "#print('time version:',time.__version__)"
   ]
  },
  {
   "cell_type": "markdown",
   "metadata": {},
   "source": [
    "# 设置参数"
   ]
  },
  {
   "cell_type": "markdown",
   "metadata": {},
   "source": [
    "## 配置输入文件夹"
   ]
  },
  {
   "cell_type": "markdown",
   "metadata": {},
   "source": [
    "设置train、validation、test的文件夹路径和文件名"
   ]
  },
  {
   "cell_type": "code",
   "execution_count": 3,
   "metadata": {
    "ExecuteTime": {
     "end_time": "2022-05-18T12:33:22.637107Z",
     "start_time": "2022-05-18T12:33:22.621151Z"
    }
   },
   "outputs": [],
   "source": [
    "dir_data = './../datasets'\n",
    "file_train = ['Au_chi_train.txt', 'Au_cr_train.txt']\n",
    "file_valid = ['Au_chi_valid.txt', 'Au_cr_valid.txt']\n",
    "file_test = ['Au_chi_test.txt', 'Au_cr_test.txt']"
   ]
  },
  {
   "cell_type": "markdown",
   "metadata": {},
   "source": [
    "## 配置输出文件夹"
   ]
  },
  {
   "cell_type": "markdown",
   "metadata": {},
   "source": [
    "所有输出文件都保存在一个文件夹内"
   ]
  },
  {
   "cell_type": "code",
   "execution_count": 4,
   "metadata": {
    "ExecuteTime": {
     "end_time": "2022-05-18T12:33:26.649259Z",
     "start_time": "2022-05-18T12:33:26.635183Z"
    }
   },
   "outputs": [],
   "source": [
    "dir_output = './../hyper-param_tuning'"
   ]
  },
  {
   "cell_type": "markdown",
   "metadata": {},
   "source": [
    "设置日志文件的文件夹，为TensorBoard使用。"
   ]
  },
  {
   "cell_type": "code",
   "execution_count": 5,
   "metadata": {
    "ExecuteTime": {
     "end_time": "2022-05-18T12:33:30.128019Z",
     "start_time": "2022-05-18T12:33:30.109070Z"
    }
   },
   "outputs": [],
   "source": [
    "dir_log = dir_output + './my_logs'"
   ]
  },
  {
   "cell_type": "markdown",
   "metadata": {},
   "source": [
    "## 设置label标签，用于后面模型训练、绘图"
   ]
  },
  {
   "cell_type": "code",
   "execution_count": 6,
   "metadata": {
    "ExecuteTime": {
     "end_time": "2022-05-18T12:33:32.439371Z",
     "start_time": "2022-05-18T12:33:32.428319Z"
    }
   },
   "outputs": [],
   "source": [
    "label_index = 'CR'"
   ]
  },
  {
   "cell_type": "markdown",
   "metadata": {},
   "source": [
    "## 设置输入超参数训练模型的关键词，用于命名给出训练过程信息的文件名"
   ]
  },
  {
   "cell_type": "code",
   "execution_count": 7,
   "metadata": {
    "ExecuteTime": {
     "end_time": "2022-05-18T12:33:34.899802Z",
     "start_time": "2022-05-18T12:33:34.886836Z"
    }
   },
   "outputs": [],
   "source": [
    "model_pre = 'au150_DW_cr_3level_neuron'"
   ]
  },
  {
   "cell_type": "markdown",
   "metadata": {},
   "source": [
    "## 有关网络的参数设置，在正文网络超参数训练中进行设置——未来进行调整"
   ]
  },
  {
   "cell_type": "markdown",
   "metadata": {},
   "source": [
    "# 部分函数模块"
   ]
  },
  {
   "cell_type": "markdown",
   "metadata": {},
   "source": [
    "## 设置绘图格式和保存图片的模块"
   ]
  },
  {
   "cell_type": "markdown",
   "metadata": {},
   "source": [
    "注意这里的save_fig与原来神经网络中的有所不同，特别是路径和文件名位置换了。"
   ]
  },
  {
   "cell_type": "code",
   "execution_count": 8,
   "metadata": {
    "ExecuteTime": {
     "end_time": "2022-05-18T12:33:44.582747Z",
     "start_time": "2022-05-18T12:33:43.919859Z"
    }
   },
   "outputs": [],
   "source": [
    "# To plot pretty figures\n",
    "# %matplotlib具体作用是调用matplotlib.pyplot的绘图函数plot()进行绘图时，\n",
    "# 或生成一个figure画布时，可以直接在你的python console里面生成图像。\n",
    "%matplotlib inline\n",
    "import matplotlib as mpl\n",
    "import matplotlib.pyplot as plt\n",
    "mpl.rc('axes', labelsize=14)   # matplotlib.rc 什么意思没找到\n",
    "mpl.rc('xtick', labelsize=12)\n",
    "mpl.rc('ytick', labelsize=12)\n",
    "\n",
    "def save_fig(IMAGES_PATH, fig_id, tight_layout=True, fig_extension=\"png\", resolution=300):\n",
    "    os.makedirs(IMAGES_PATH, exist_ok=True)\n",
    "    path = os.path.join(IMAGES_PATH, fig_id + \".\" + fig_extension)\n",
    "    print(\"Saving figure\", fig_id)\n",
    "    if tight_layout:\n",
    "        plt.tight_layout()\n",
    "    plt.savefig(path, format=fig_extension, dpi=resolution)\n",
    "#    plt.show()\n",
    "\n",
    "# Ignore useless warnings (see SciPy issue #5998)\n",
    "import warnings\n",
    "warnings.filterwarnings(action=\"ignore\", message=\"^internal gelsd\")"
   ]
  },
  {
   "cell_type": "markdown",
   "metadata": {},
   "source": [
    "## 一些模型构建的函数、图形绘制函数，为了阅读方便，放置于正文中。"
   ]
  },
  {
   "cell_type": "markdown",
   "metadata": {},
   "source": [
    "## 预测分析函数"
   ]
  },
  {
   "cell_type": "code",
   "execution_count": 9,
   "metadata": {
    "ExecuteTime": {
     "end_time": "2022-05-18T12:33:49.898816Z",
     "start_time": "2022-05-18T12:33:49.890739Z"
    }
   },
   "outputs": [],
   "source": [
    "def pre_ana(pre, label_test):\n",
    "    \"\"\"\n",
    "    \"\"\"\n",
    "    diff = pre - label_test\n",
    "    diff_abs = np.abs(diff)\n",
    "    diff2 = np.square(diff)  # = diff**2\n",
    "    #pre_var_mean = np.mean(diff2, axis=0)\n",
    "    pre_var_mean = np.mean(diff2)\n",
    "    pre_var_std = np.sqrt(pre_var_mean)  # = pre_var_mean**0.5\n",
    "    err = diff / label_test\n",
    "    err_abs = np.abs(err)\n",
    "    attr_dict3 = {\n",
    "        'diff_Max': np.max(diff),\n",
    "        'diff_Min': np.min(diff),\n",
    "        '|diff|_Mean(MAE)': np.mean(diff_abs),\n",
    "        '|diff|_Max': np.max(diff_abs),\n",
    "        '|diff|_Min': np.min(diff_abs),\n",
    "        'pre_Var(MSE)': pre_var_mean,\n",
    "        'pre_Std(RMSE)': pre_var_std,\n",
    "        'Error_mean': np.mean(err),\n",
    "        'Error_max': np.max(err),\n",
    "        'Error_min': np.min(err),\n",
    "        '|Error|_mean(MAPE)': np.mean(err_abs),\n",
    "        '|Error|_max': np.max(err_abs),\n",
    "        '|Error|_min': np.min(err_abs)\n",
    "    }\n",
    "    return attr_dict3, err"
   ]
  },
  {
   "cell_type": "markdown",
   "metadata": {},
   "source": [
    "## 预测分析绘图函数"
   ]
  },
  {
   "cell_type": "code",
   "execution_count": 10,
   "metadata": {
    "ExecuteTime": {
     "end_time": "2022-05-18T12:33:52.748120Z",
     "start_time": "2022-05-18T12:33:52.734056Z"
    }
   },
   "outputs": [],
   "source": [
    "def plot_PredictionError(ylim,ind=0):\n",
    "    \"\"\"\n",
    "    \"\"\"\n",
    "#\n",
    "    prediction_error = model_pre + \"_prediction_error\" + f\"_{ind}\"\n",
    "    plt.plot(err, label = f'{label_index}')\n",
    "    plt.xlabel('Test series')\n",
    "    plt.ylabel('Error')\n",
    "    plt.ylim(ylim)\n",
    "    plt.legend(loc='upper left',fontsize=12)\n",
    "    plt.title(f\"{model_pre}\\nPrediction Error\", fontsize=16)\n",
    "    save_fig(path_plot, prediction_error)"
   ]
  },
  {
   "cell_type": "markdown",
   "metadata": {},
   "source": [
    "# 正文"
   ]
  },
  {
   "cell_type": "markdown",
   "metadata": {},
   "source": [
    "## 确定当前目录和工作目录"
   ]
  },
  {
   "cell_type": "code",
   "execution_count": 11,
   "metadata": {
    "ExecuteTime": {
     "end_time": "2022-05-18T12:33:56.183823Z",
     "start_time": "2022-05-18T12:33:56.170605Z"
    }
   },
   "outputs": [
    {
     "data": {
      "text/plain": [
       "'D:\\\\haifeng\\\\work_20211031\\\\XAS-ML\\\\code\\\\neural network module\\\\jupyternotebook_code'"
      ]
     },
     "execution_count": 11,
     "metadata": {},
     "output_type": "execute_result"
    }
   ],
   "source": [
    "import os\n",
    "path = os.path.abspath(os.curdir)\n",
    "path"
   ]
  },
  {
   "cell_type": "markdown",
   "metadata": {},
   "source": [
    "## 检查输入文件是否存在"
   ]
  },
  {
   "cell_type": "code",
   "execution_count": 12,
   "metadata": {
    "ExecuteTime": {
     "end_time": "2022-05-18T12:33:58.197659Z",
     "start_time": "2022-05-18T12:33:58.178615Z"
    }
   },
   "outputs": [],
   "source": [
    "path_dir_data = os.path.join(path,dir_data)\n",
    "file_data = file_train + file_valid + file_test\n",
    "#\n",
    "for i in range(len(file_data)):\n",
    "    path_file = os.path.join(path_dir_data,file_data[i])\n",
    "#\n",
    "# 检查csv是否存在，若不存在，报错\n",
    "    exist = os.path.exists(path_file)\n",
    "    if not exist:\n",
    "        print()\n",
    "        print(f\"** Error!! cannot find file {file_data[i]} in directory {dir_data}! **\")\n",
    "        print()\n",
    "        sys.exit()"
   ]
  },
  {
   "cell_type": "markdown",
   "metadata": {},
   "source": [
    "## 读取train、valid等文件，制成数据集。"
   ]
  },
  {
   "cell_type": "code",
   "execution_count": 13,
   "metadata": {
    "ExecuteTime": {
     "end_time": "2022-05-18T12:34:01.276800Z",
     "start_time": "2022-05-18T12:33:59.656439Z"
    }
   },
   "outputs": [],
   "source": [
    "import pandas as pd\n",
    "for i in range(len(file_data)):\n",
    "    path_file = os.path.join(path_dir_data,file_data[i])\n",
    "#   df.values, df.as_matrix() and np.array(df) all works.\n",
    "    data_df = pd.read_csv(path_file,header=None,delim_whitespace=True)\n",
    "#\n",
    "    if i == 0 : feature_train = data_df.values\n",
    "    if i == 1 : label_train = data_df.values\n",
    "    if i == 2 : feature_valid = data_df.values\n",
    "    if i == 3 : label_valid = data_df.values\n",
    "    if i == 4 : feature_test = data_df.values\n",
    "    if i == 5 : label_test = data_df.values"
   ]
  },
  {
   "cell_type": "code",
   "execution_count": 14,
   "metadata": {
    "ExecuteTime": {
     "end_time": "2022-05-18T12:34:01.340383Z",
     "start_time": "2022-05-18T12:34:01.327370Z"
    }
   },
   "outputs": [
    {
     "name": "stdout",
     "output_type": "stream",
     "text": [
      "(4176, 400) (4176, 1)\n",
      "(1193, 400) (1193, 1)\n",
      "(597, 400) (597, 1)\n"
     ]
    }
   ],
   "source": [
    "print(feature_train.shape, label_train.shape)\n",
    "print(feature_valid.shape, label_valid.shape)\n",
    "print(feature_test.shape, label_test.shape)"
   ]
  },
  {
   "cell_type": "code",
   "execution_count": 15,
   "metadata": {
    "ExecuteTime": {
     "end_time": "2022-05-18T12:34:05.944887Z",
     "start_time": "2022-05-18T12:34:05.933011Z"
    }
   },
   "outputs": [
    {
     "data": {
      "text/plain": [
       "array([[ 3.204381e-01,  3.179742e-01,  3.107868e-01, ...,  1.588940e-06,\n",
       "         1.217988e-06,  8.223206e-07],\n",
       "       [ 2.272433e-01,  2.254551e-01,  2.202515e-01, ..., -1.081169e-06,\n",
       "        -1.537145e-06, -1.827965e-06],\n",
       "       [ 2.434066e-01,  2.416660e-01,  2.365912e-01, ...,  1.017455e-06,\n",
       "         9.860825e-07,  8.813536e-07],\n",
       "       ...,\n",
       "       [ 2.441422e-01,  2.422082e-01,  2.365669e-01, ..., -1.025576e-06,\n",
       "        -8.874537e-07, -7.067118e-07],\n",
       "       [ 7.773254e-02,  7.687764e-02,  7.436020e-02, ...,  3.263314e-07,\n",
       "         2.805082e-07,  2.240872e-07],\n",
       "       [ 3.252115e-01,  3.225673e-01,  3.148726e-01, ...,  7.640049e-07,\n",
       "         1.259443e-06,  1.596963e-06]])"
      ]
     },
     "execution_count": 15,
     "metadata": {},
     "output_type": "execute_result"
    }
   ],
   "source": [
    "feature_train"
   ]
  },
  {
   "cell_type": "code",
   "execution_count": 16,
   "metadata": {
    "ExecuteTime": {
     "end_time": "2022-05-18T12:34:07.829029Z",
     "start_time": "2022-05-18T12:34:07.819269Z"
    }
   },
   "outputs": [
    {
     "data": {
      "text/plain": [
       "array([[2.893],\n",
       "       [2.957],\n",
       "       [2.871],\n",
       "       ...,\n",
       "       [2.863],\n",
       "       [2.892],\n",
       "       [2.798]])"
      ]
     },
     "execution_count": 16,
     "metadata": {},
     "output_type": "execute_result"
    }
   ],
   "source": [
    "label_valid"
   ]
  },
  {
   "cell_type": "markdown",
   "metadata": {},
   "source": [
    "设置网络训练参数值，输入数组维数"
   ]
  },
  {
   "cell_type": "code",
   "execution_count": 17,
   "metadata": {
    "ExecuteTime": {
     "end_time": "2022-05-18T12:34:12.644615Z",
     "start_time": "2022-05-18T12:34:12.633643Z"
    }
   },
   "outputs": [
    {
     "data": {
      "text/plain": [
       "(400,)"
      ]
     },
     "execution_count": 17,
     "metadata": {},
     "output_type": "execute_result"
    }
   ],
   "source": [
    "input_shape = feature_train.shape[1:]\n",
    "input_shape"
   ]
  },
  {
   "cell_type": "markdown",
   "metadata": {},
   "source": [
    "## 设置一系列文件输出目录"
   ]
  },
  {
   "cell_type": "markdown",
   "metadata": {},
   "source": [
    "为与以前代码一致，故保留原有代码"
   ]
  },
  {
   "cell_type": "code",
   "execution_count": 18,
   "metadata": {
    "ExecuteTime": {
     "end_time": "2022-05-18T12:34:16.572435Z",
     "start_time": "2022-05-18T12:34:16.565451Z"
    }
   },
   "outputs": [],
   "source": [
    "#dir_model = 'model'\n",
    "dir_model = dir_output\n",
    "path_model = os.path.join(os.curdir, dir_model)\n",
    "os.makedirs(path_model, exist_ok=True)"
   ]
  },
  {
   "cell_type": "markdown",
   "metadata": {},
   "source": [
    "设置文件夹放置图片"
   ]
  },
  {
   "cell_type": "code",
   "execution_count": 19,
   "metadata": {
    "ExecuteTime": {
     "end_time": "2022-05-18T12:34:17.422051Z",
     "start_time": "2022-05-18T12:34:17.413095Z"
    }
   },
   "outputs": [],
   "source": [
    "#dir_images = 'images'\n",
    "dir_images = dir_output\n",
    "path_images = os.path.join(os.curdir, dir_images)\n",
    "os.makedirs(path_images, exist_ok=True)"
   ]
  },
  {
   "cell_type": "markdown",
   "metadata": {},
   "source": [
    "设置文件夹放置分析结果"
   ]
  },
  {
   "cell_type": "code",
   "execution_count": 20,
   "metadata": {
    "ExecuteTime": {
     "end_time": "2022-05-18T12:34:17.999193Z",
     "start_time": "2022-05-18T12:34:17.989209Z"
    }
   },
   "outputs": [],
   "source": [
    "#dir_ana = 'analysis'\n",
    "dir_ana = dir_output\n",
    "path_ana = os.path.join(os.curdir, dir_ana)\n",
    "os.makedirs(path_ana, exist_ok=True)"
   ]
  },
  {
   "cell_type": "markdown",
   "metadata": {},
   "source": [
    "设置文件夹放置预测结果"
   ]
  },
  {
   "cell_type": "code",
   "execution_count": 21,
   "metadata": {
    "ExecuteTime": {
     "end_time": "2022-05-18T12:34:18.899137Z",
     "start_time": "2022-05-18T12:34:18.885147Z"
    }
   },
   "outputs": [],
   "source": [
    "#dir_pre = 'data'\n",
    "dir_pre = dir_output\n",
    "path_pre = os.path.join(os.curdir, dir_pre)\n",
    "os.makedirs(path_pre, exist_ok=True)"
   ]
  },
  {
   "cell_type": "markdown",
   "metadata": {},
   "source": [
    "设置日志文件的文件夹，为TensorBoard使用。"
   ]
  },
  {
   "cell_type": "code",
   "execution_count": 22,
   "metadata": {
    "ExecuteTime": {
     "end_time": "2022-05-18T12:34:21.029205Z",
     "start_time": "2022-05-18T12:34:21.021227Z"
    }
   },
   "outputs": [],
   "source": [
    "# 设置日志文件的文件夹\n",
    "root_logdir = os.path.join(os.curdir, dir_log)\n",
    "#print(root_logdir)\n",
    "#\n",
    "def get_run_logdir():\n",
    "#    import time\n",
    "    run_id = time.strftime(\"run_%Y_%m_%d-%H_%M_%S\")\n",
    "    return os.path.join(root_logdir, run_id)"
   ]
  },
  {
   "cell_type": "markdown",
   "metadata": {},
   "source": [
    "## 构建模型（神经网络），进行超参数调节"
   ]
  },
  {
   "cell_type": "markdown",
   "metadata": {},
   "source": [
    "### 模型1"
   ]
  },
  {
   "cell_type": "markdown",
   "metadata": {},
   "source": [
    "#### 参量设置"
   ]
  },
  {
   "cell_type": "code",
   "execution_count": 23,
   "metadata": {
    "ExecuteTime": {
     "end_time": "2022-05-18T12:34:27.314199Z",
     "start_time": "2022-05-18T12:34:27.297231Z"
    }
   },
   "outputs": [],
   "source": [
    "import time\n",
    "model_time = time.strftime(\"run_%Y_%m_%d-%H_%M_%S\")\n",
    "model_pre_time = model_pre + '_' + model_time\n",
    "path_plot = os.path.join(path_images, model_pre_time)\n",
    "os.makedirs(path_plot, exist_ok=True)"
   ]
  },
  {
   "cell_type": "code",
   "execution_count": 24,
   "metadata": {
    "ExecuteTime": {
     "end_time": "2022-05-18T12:34:31.037595Z",
     "start_time": "2022-05-18T12:34:31.021232Z"
    }
   },
   "outputs": [],
   "source": [
    "file_fitinfo =  model_pre_time + '_fitinfo.txt'\n",
    "path_fitinfo = os.path.join(path_ana,file_fitinfo)"
   ]
  },
  {
   "cell_type": "code",
   "execution_count": 25,
   "metadata": {
    "ExecuteTime": {
     "end_time": "2022-05-18T12:34:32.010092Z",
     "start_time": "2022-05-18T12:34:31.989617Z"
    }
   },
   "outputs": [
    {
     "name": "stdout",
     "output_type": "stream",
     "text": [
      "Model : au150_DW_cr_3level_neuron\n"
     ]
    }
   ],
   "source": [
    "fout = open(path_fitinfo,'w')\n",
    "print(f\"Model : {model_pre}\")\n",
    "print(f\"Model : {model_pre}\", file=fout)"
   ]
  },
  {
   "cell_type": "code",
   "execution_count": 26,
   "metadata": {
    "ExecuteTime": {
     "end_time": "2022-05-18T12:34:34.281248Z",
     "start_time": "2022-05-18T12:34:34.276190Z"
    }
   },
   "outputs": [],
   "source": [
    "# Set random seed to be used as argument for other functions.\n",
    "rseed = 42"
   ]
  },
  {
   "cell_type": "code",
   "execution_count": 27,
   "metadata": {
    "ExecuteTime": {
     "end_time": "2022-05-18T12:34:34.909383Z",
     "start_time": "2022-05-18T12:34:34.897331Z"
    }
   },
   "outputs": [
    {
     "name": "stdout",
     "output_type": "stream",
     "text": [
      "===================================\n",
      "rseed : 42\n",
      "Time : run_2022_05_18-20_34_27\n"
     ]
    }
   ],
   "source": [
    "print(f\"===================================\")\n",
    "print(f\"\\n===================================\", file=fout)\n",
    "print(f\"rseed : {rseed}\")\n",
    "print(f\"rseed : {rseed}\",file=fout)\n",
    "print(f\"Time : {model_time}\")\n",
    "print(f\"Time : {model_time}\",file=fout)"
   ]
  },
  {
   "cell_type": "code",
   "execution_count": 28,
   "metadata": {
    "ExecuteTime": {
     "end_time": "2022-05-18T12:34:36.415294Z",
     "start_time": "2022-05-18T12:34:36.390326Z"
    }
   },
   "outputs": [],
   "source": [
    "import tensorflow as tf\n",
    "assert tf.__version__ >= \"2.0\"\n",
    "from tensorflow import keras\n",
    "from tensorflow.keras import optimizers\n",
    "keras.backend.clear_session()\n",
    "np.random.seed(rseed)\n",
    "tf.random.set_seed(rseed)"
   ]
  },
  {
   "cell_type": "code",
   "execution_count": 29,
   "metadata": {
    "ExecuteTime": {
     "end_time": "2022-05-18T12:34:38.211595Z",
     "start_time": "2022-05-18T12:34:38.189610Z"
    }
   },
   "outputs": [
    {
     "data": {
      "text/plain": [
       "'.\\\\./../hyper-param_tuning./my_logs\\\\run_2022_05_18-20_34_38'"
      ]
     },
     "execution_count": 29,
     "metadata": {},
     "output_type": "execute_result"
    }
   ],
   "source": [
    "run_logdir = get_run_logdir()\n",
    "run_logdir"
   ]
  },
  {
   "cell_type": "markdown",
   "metadata": {},
   "source": [
    "#### 构建模型"
   ]
  },
  {
   "cell_type": "code",
   "execution_count": 30,
   "metadata": {
    "ExecuteTime": {
     "end_time": "2022-05-18T12:34:41.274357Z",
     "start_time": "2022-05-18T12:34:41.263325Z"
    }
   },
   "outputs": [],
   "source": [
    "def build_model(N1 = 400,\n",
    "                N2 = 200,\n",
    "                N3 = 20,\n",
    "                activation = 'relu',\n",
    "#                learning_rate = 3e-3,\n",
    "                input_shape=input_shape):\n",
    "#\n",
    "    model = keras.models.Sequential()\n",
    "#\n",
    "    model.add(keras.layers.Flatten(input_shape=input_shape))\n",
    "    model.add(keras.layers.Dense(N1, activation=activation))\n",
    "    model.add(keras.layers.Dense(N2, activation=activation))\n",
    "    model.add(keras.layers.Dense(N3, activation=activation))\n",
    "    model.add(keras.layers.Dense(1, activation=activation))\n",
    "#\n",
    "#    optimizer = keras.optimizers.SGD(lr=learning_rate)\n",
    "#    optimizer = tf.keras.optimizers.RMSprop(learning_rate=0.001, rho=0.9, momentum=0.0, epsilon=1e-07, centered=False,name='RMSprop')\n",
    "#    model.compile(loss=\"mse\", optimizer=optimizer)\n",
    "    model.compile(loss=\"mse\", optimizer='rmsprop')\n",
    "    return model"
   ]
  },
  {
   "cell_type": "markdown",
   "metadata": {},
   "source": [
    "用函数 build_model() 创建一个 KerasRegressor，它通过 build_model() 将Keras模型包装起来的。"
   ]
  },
  {
   "cell_type": "code",
   "execution_count": 31,
   "metadata": {
    "ExecuteTime": {
     "end_time": "2022-05-18T12:34:45.572476Z",
     "start_time": "2022-05-18T12:34:45.562056Z"
    }
   },
   "outputs": [
    {
     "name": "stderr",
     "output_type": "stream",
     "text": [
      "C:\\Users\\haifeng\\AppData\\Local\\Temp\\ipykernel_50540\\1709004121.py:1: DeprecationWarning: KerasRegressor is deprecated, use Sci-Keras (https://github.com/adriangb/scikeras) instead.\n",
      "  keras_reg = keras.wrappers.scikit_learn.KerasRegressor(build_model)\n"
     ]
    }
   ],
   "source": [
    "keras_reg = keras.wrappers.scikit_learn.KerasRegressor(build_model)"
   ]
  },
  {
   "cell_type": "markdown",
   "metadata": {},
   "source": [
    "注意！不要将类似“\"N1\": range(1, 600)”写成“\"N1\": np.arange(1, 600)”或“\"N1\": list(np.range(1, 600))”的情况，不然在fit的结尾，会出现如下问题："
   ]
  },
  {
   "cell_type": "markdown",
   "metadata": {},
   "source": [
    "而且“model = rnd_search_cv.best_estimator_.model”等无法加载。\n",
    "但需要指出，最后的“rnd_search_cv.best_params_”等是一样的"
   ]
  },
  {
   "cell_type": "code",
   "execution_count": 32,
   "metadata": {
    "ExecuteTime": {
     "end_time": "2022-05-18T12:34:51.813992Z",
     "start_time": "2022-05-18T12:34:51.686039Z"
    }
   },
   "outputs": [],
   "source": [
    "from scipy.stats import reciprocal\n",
    "from sklearn.model_selection import RandomizedSearchCV\n",
    "from sklearn.metrics import classification_report\n",
    "\n",
    "param_distribs = {\n",
    "#    \"kernel_size\": [3, 4, 5, 6],\n",
    "#    \"padding\" = ['valid', 'SAME'],\n",
    "#    \"n_hidden\": [0, 1, 2, 3],\n",
    "#    \"activation\": ['relu','softmax'],\n",
    "    \"N1\": range(10, 600, 10),\n",
    "    \"N2\": range(10, 600, 10),\n",
    "    \"N3\": range(10, 600, 10)\n",
    "#    \"learning_rate\": reciprocal(3e-4, 3e-2),\n",
    "}\n",
    "\n",
    "# n_iter=300，训练300次，数值越大，获得的参数精度越大，但是搜索时间越长\n",
    "# cv 训练集与验证集的比值\n",
    "# verbose=0，不打印任何训练过程信息；verbose=1，打印进度条；verbose=2，每一个epoch打印一次。\n",
    "# n_jobs = -1，使用所有的CPU进行训练，默认为1，使用1个CPU\n",
    "#rnd_search_cv = RandomizedSearchCV(keras_reg, param_distribs, n_iter=20, cv=3, verbose=2, n_jobs=-1)\n",
    "rnd_search_cv = RandomizedSearchCV(keras_reg, param_distribs, n_iter=20, verbose=1, n_jobs=-1)\n",
    "#rnd_search_cv = RandomizedSearchCV(keras_reg, param_distribs, n_iter=20, verbose=1)"
   ]
  },
  {
   "cell_type": "markdown",
   "metadata": {},
   "source": [
    "#### 开始拟合"
   ]
  },
  {
   "cell_type": "code",
   "execution_count": 33,
   "metadata": {
    "ExecuteTime": {
     "end_time": "2022-05-18T12:57:38.036393Z",
     "start_time": "2022-05-18T12:34:58.397359Z"
    }
   },
   "outputs": [
    {
     "name": "stdout",
     "output_type": "stream",
     "text": [
      "Fitting 5 folds for each of 20 candidates, totalling 100 fits\n"
     ]
    },
    {
     "name": "stderr",
     "output_type": "stream",
     "text": [
      "C:\\Users\\haifeng\\anaconda3\\lib\\site-packages\\sklearn\\model_selection\\_validation.py:372: FitFailedWarning: \n",
      "4 fits failed out of a total of 100.\n",
      "The score on these train-test partitions for these parameters will be set to nan.\n",
      "If these failures are not expected, you can try to debug them by setting error_score='raise'.\n",
      "\n",
      "Below are more details about the failures:\n",
      "--------------------------------------------------------------------------------\n",
      "3 fits failed with the following error:\n",
      "Traceback (most recent call last):\n",
      "  File \"C:\\Users\\haifeng\\anaconda3\\lib\\site-packages\\sklearn\\model_selection\\_validation.py\", line 680, in _fit_and_score\n",
      "    estimator.fit(X_train, y_train, **fit_params)\n",
      "  File \"C:\\Users\\haifeng\\anaconda3\\lib\\site-packages\\keras\\wrappers\\scikit_learn.py\", line 164, in fit\n",
      "    history = self.model.fit(x, y, **fit_args)\n",
      "  File \"C:\\Users\\haifeng\\anaconda3\\lib\\site-packages\\keras\\utils\\traceback_utils.py\", line 67, in error_handler\n",
      "    raise e.with_traceback(filtered_tb) from None\n",
      "  File \"C:\\Users\\haifeng\\anaconda3\\lib\\site-packages\\h5py\\_hl\\files.py\", line 507, in __init__\n",
      "    fid = make_fid(name, mode, userblock_size, fapl, fcpl, swmr=swmr)\n",
      "  File \"C:\\Users\\haifeng\\anaconda3\\lib\\site-packages\\h5py\\_hl\\files.py\", line 226, in make_fid\n",
      "    fid = h5f.create(name, h5f.ACC_TRUNC, fapl=fapl, fcpl=fcpl)\n",
      "  File \"h5py\\_objects.pyx\", line 54, in h5py._objects.with_phil.wrapper\n",
      "  File \"h5py\\_objects.pyx\", line 55, in h5py._objects.with_phil.wrapper\n",
      "  File \"h5py\\h5f.pyx\", line 126, in h5py.h5f.create\n",
      "OSError: Unable to create file (file signature not found)\n",
      "\n",
      "--------------------------------------------------------------------------------\n",
      "1 fits failed with the following error:\n",
      "Traceback (most recent call last):\n",
      "  File \"C:\\Users\\haifeng\\anaconda3\\lib\\site-packages\\sklearn\\model_selection\\_validation.py\", line 680, in _fit_and_score\n",
      "    estimator.fit(X_train, y_train, **fit_params)\n",
      "  File \"C:\\Users\\haifeng\\anaconda3\\lib\\site-packages\\keras\\wrappers\\scikit_learn.py\", line 164, in fit\n",
      "    history = self.model.fit(x, y, **fit_args)\n",
      "  File \"C:\\Users\\haifeng\\anaconda3\\lib\\site-packages\\keras\\utils\\traceback_utils.py\", line 67, in error_handler\n",
      "    raise e.with_traceback(filtered_tb) from None\n",
      "  File \"C:\\Users\\haifeng\\anaconda3\\lib\\site-packages\\h5py\\_hl\\files.py\", line 507, in __init__\n",
      "    fid = make_fid(name, mode, userblock_size, fapl, fcpl, swmr=swmr)\n",
      "  File \"C:\\Users\\haifeng\\anaconda3\\lib\\site-packages\\h5py\\_hl\\files.py\", line 226, in make_fid\n",
      "    fid = h5f.create(name, h5f.ACC_TRUNC, fapl=fapl, fcpl=fcpl)\n",
      "  File \"h5py\\_objects.pyx\", line 54, in h5py._objects.with_phil.wrapper\n",
      "  File \"h5py\\_objects.pyx\", line 55, in h5py._objects.with_phil.wrapper\n",
      "  File \"h5py\\h5f.pyx\", line 126, in h5py.h5f.create\n",
      "OSError: Unable to create file (truncated file: eof = 96, sblock->base_addr = 0, stored_eof = 2048)\n",
      "\n",
      "  warnings.warn(some_fits_failed_message, FitFailedWarning)\n",
      "C:\\Users\\haifeng\\anaconda3\\lib\\site-packages\\sklearn\\model_selection\\_search.py:969: UserWarning: One or more of the test scores are non-finite: [-1.65010889e+00             nan -1.14602360e-03 -1.64931156e+00\n",
      " -1.64997841e+00 -3.29831276e+00 -1.65018568e+00 -1.64918464e+00\n",
      "             nan -1.65022405e+00 -1.64993207e+00 -3.29986380e+00\n",
      "             nan -3.29967108e+00 -1.39850329e-03             nan\n",
      " -1.64898938e+00 -1.47059623e-03 -1.06105629e-03 -1.13444690e-03]\n",
      "  warnings.warn(\n"
     ]
    },
    {
     "data": {
      "text/plain": [
       "RandomizedSearchCV(estimator=<keras.wrappers.scikit_learn.KerasRegressor object at 0x000001F1B9795580>,\n",
       "                   n_iter=20, n_jobs=-1,\n",
       "                   param_distributions={'N1': range(10, 600, 10),\n",
       "                                        'N2': range(10, 600, 10),\n",
       "                                        'N3': range(10, 600, 10)},\n",
       "                   verbose=1)"
      ]
     },
     "execution_count": 33,
     "metadata": {},
     "output_type": "execute_result"
    }
   ],
   "source": [
    "#将训练最好的模型保存下来\n",
    "model_saved_best = os.path.join(path_model, model_pre_time + \".h5\")\n",
    "#\n",
    "rnd_search_cv.fit(feature_train,label_train,epochs=200,\n",
    "                  validation_data=(feature_valid,label_valid),\n",
    "                  callbacks=[keras.callbacks.ModelCheckpoint(model_saved_best, save_best_only=True),\n",
    "                             keras.callbacks.EarlyStopping(patience=20, restore_best_weights=True),\n",
    "                             keras.callbacks.TensorBoard(run_logdir)\n",
    "                            ],\n",
    "                  verbose=0)"
   ]
  },
  {
   "cell_type": "markdown",
   "metadata": {},
   "source": [
    "executed in 38m 36s, finished 14:49:36 2021-03-01\n",
    "Fitting 5 folds for each of 20 candidates, totalling 100 fits\n",
    "[Parallel(n_jobs=-1)]: Using backend LokyBackend with 8 concurrent workers.\n",
    "[Parallel(n_jobs=-1)]: Done  25 tasks      | elapsed: 10.3min\n",
    "[Parallel(n_jobs=-1)]: Done 100 out of 100 | elapsed: 37.9min finished\n",
    "RandomizedSearchCV(estimator=<tensorflow.python.keras.wrappers.scikit_learn.KerasRegressor object at 0x0000029136552640>,\n",
    "                   n_iter=20, n_jobs=-1,\n",
    "                   param_distributions={'N1': range(1, 600),\n",
    "                                        'N2': range(1, 600),\n",
    "                                        'N3': range(1, 600)},\n",
    "                   verbose=2)"
   ]
  },
  {
   "cell_type": "markdown",
   "metadata": {},
   "source": [
    "#### 给出拟合结果"
   ]
  },
  {
   "cell_type": "code",
   "execution_count": 34,
   "metadata": {
    "ExecuteTime": {
     "end_time": "2022-05-18T13:06:01.191042Z",
     "start_time": "2022-05-18T13:06:01.182933Z"
    }
   },
   "outputs": [
    {
     "name": "stdout",
     "output_type": "stream",
     "text": [
      "Best parameters : {'N3': 30, 'N2': 140, 'N1': 10}\n"
     ]
    }
   ],
   "source": [
    "# Parameter setting that gave the best results on the hold out data.\n",
    "#rnd_search_cv.best_params_\n",
    "print(f\"Best parameters : {rnd_search_cv.best_params_}\")\n",
    "print(f\"\\nBest parameters : {rnd_search_cv.best_params_}\",file=fout)"
   ]
  },
  {
   "cell_type": "code",
   "execution_count": 35,
   "metadata": {
    "ExecuteTime": {
     "end_time": "2022-05-18T13:06:02.200374Z",
     "start_time": "2022-05-18T13:06:02.191476Z"
    }
   },
   "outputs": [
    {
     "data": {
      "text/plain": [
       "<keras.wrappers.scikit_learn.KerasRegressor at 0x1f1b8b18580>"
      ]
     },
     "execution_count": 35,
     "metadata": {},
     "output_type": "execute_result"
    }
   ],
   "source": [
    "# 返回最优的训练器\n",
    "# Estimator that was chosen by the search, i.e. estimator which gave highest score (or smallest loss if specified) on the left out data.\n",
    "rnd_search_cv.best_estimator_"
   ]
  },
  {
   "cell_type": "code",
   "execution_count": 36,
   "metadata": {
    "ExecuteTime": {
     "end_time": "2022-05-18T13:06:03.050529Z",
     "start_time": "2022-05-18T13:06:03.033570Z"
    }
   },
   "outputs": [
    {
     "name": "stdout",
     "output_type": "stream",
     "text": [
      "Best score : -0.0010610562865622341\n"
     ]
    }
   ],
   "source": [
    "# Mean cross-validated score of the best_estimator.\n",
    "#rnd_search_cv.best_score_\n",
    "print(f\"Best score : {rnd_search_cv.best_score_}\")\n",
    "print(f\"\\nBest score : {rnd_search_cv.best_score_}\",file=fout)"
   ]
  },
  {
   "cell_type": "markdown",
   "metadata": {},
   "source": [
    "原来是-0.0010918860401337345"
   ]
  },
  {
   "cell_type": "markdown",
   "metadata": {},
   "source": [
    "#### 输出拟合日志文件"
   ]
  },
  {
   "cell_type": "code",
   "execution_count": 37,
   "metadata": {
    "ExecuteTime": {
     "end_time": "2022-05-18T13:06:22.972993Z",
     "start_time": "2022-05-18T13:06:22.941919Z"
    }
   },
   "outputs": [
    {
     "data": {
      "text/plain": [
       "3"
      ]
     },
     "execution_count": 37,
     "metadata": {},
     "output_type": "execute_result"
    }
   ],
   "source": [
    "# rnd_search_cv.cv_results_ 是选择参数的日志信息\n",
    "cv_result = pd.DataFrame.from_dict( rnd_search_cv.cv_results_)\n",
    "file_fit_csv = model_pre_time + '_fit.csv'\n",
    "path_fit_csv = os.path.join(path_ana, file_fit_csv)\n",
    "with open(path_fit_csv,'w') as f: cv_result.to_csv(f)"
   ]
  },
  {
   "cell_type": "code",
   "execution_count": 38,
   "metadata": {
    "ExecuteTime": {
     "end_time": "2022-05-18T13:06:24.472241Z",
     "start_time": "2022-05-18T13:06:24.466247Z"
    }
   },
   "outputs": [
    {
     "name": "stdout",
     "output_type": "stream",
     "text": [
      "Refit time (s) : 18.456825971603394\n"
     ]
    }
   ],
   "source": [
    "# Seconds used for refitting the best model on the whole dataset.\n",
    "#rnd_search_cv.refit_time_\n",
    "print(f\"Refit time (s) : {rnd_search_cv.refit_time_}\")\n",
    "print(f\"\\nRefit time (s) : {rnd_search_cv.refit_time_}\",file=fout)"
   ]
  },
  {
   "cell_type": "code",
   "execution_count": 39,
   "metadata": {
    "ExecuteTime": {
     "end_time": "2022-05-18T13:06:25.888948Z",
     "start_time": "2022-05-18T13:06:25.881614Z"
    }
   },
   "outputs": [],
   "source": [
    "#y_pred_array = rnd_search_cv.predict(feature_test) # 预测结果\n",
    "#print(classification_report( y_true=label_test, y_pred=y_pred_array ))"
   ]
  },
  {
   "cell_type": "markdown",
   "metadata": {},
   "source": [
    "#### 用给出的最佳（参数）模型对test数据集进行预测"
   ]
  },
  {
   "cell_type": "code",
   "execution_count": 40,
   "metadata": {
    "ExecuteTime": {
     "end_time": "2022-05-18T13:06:29.195483Z",
     "start_time": "2022-05-18T13:06:29.177435Z"
    }
   },
   "outputs": [
    {
     "data": {
      "text/plain": [
       "<keras.engine.sequential.Sequential at 0x1f1b9914e50>"
      ]
     },
     "execution_count": 40,
     "metadata": {},
     "output_type": "execute_result"
    }
   ],
   "source": [
    "model0 = rnd_search_cv.best_estimator_.model\n",
    "model0"
   ]
  },
  {
   "cell_type": "markdown",
   "metadata": {},
   "source": [
    "查看预测结果"
   ]
  },
  {
   "cell_type": "code",
   "execution_count": 41,
   "metadata": {
    "ExecuteTime": {
     "end_time": "2022-05-18T13:06:34.342563Z",
     "start_time": "2022-05-18T13:06:34.257582Z"
    },
    "scrolled": true
   },
   "outputs": [
    {
     "name": "stdout",
     "output_type": "stream",
     "text": [
      "19/19 [==============================] - 0s 1ms/step - loss: 0.0015\n"
     ]
    },
    {
     "data": {
      "text/plain": [
       "0.0014901278773322701"
      ]
     },
     "execution_count": 41,
     "metadata": {},
     "output_type": "execute_result"
    }
   ],
   "source": [
    "model0.evaluate(feature_test, label_test)"
   ]
  },
  {
   "cell_type": "markdown",
   "metadata": {},
   "source": [
    "rnd_search_cv.predict(feature_test) works as rnd_search_cv.best_estimator_.model.predict(feature_test)"
   ]
  },
  {
   "cell_type": "code",
   "execution_count": 42,
   "metadata": {
    "ExecuteTime": {
     "end_time": "2022-05-18T13:06:56.715706Z",
     "start_time": "2022-05-18T13:06:56.566201Z"
    },
    "scrolled": true
   },
   "outputs": [
    {
     "data": {
      "text/plain": [
       "array([[2.8600833],\n",
       "       [2.8732777],\n",
       "       [2.8181024],\n",
       "       [2.8642044],\n",
       "       [2.7745802],\n",
       "       [2.9409778],\n",
       "       [2.9289436],\n",
       "       [2.957883 ],\n",
       "       [2.9711907],\n",
       "       [2.8543878],\n",
       "       [2.8615496],\n",
       "       [3.0791144],\n",
       "       [2.8976214],\n",
       "       [2.7862422],\n",
       "       [2.9465394],\n",
       "       [2.8952363],\n",
       "       [2.8944275],\n",
       "       [2.919839 ],\n",
       "       [2.8202324],\n",
       "       [2.9203446],\n",
       "       [2.857653 ],\n",
       "       [2.8374686],\n",
       "       [2.8351152],\n",
       "       [2.8713188],\n",
       "       [2.939492 ],\n",
       "       [2.9168332],\n",
       "       [2.877352 ],\n",
       "       [2.961272 ],\n",
       "       [2.9016356],\n",
       "       [2.8806024],\n",
       "       [2.9465067],\n",
       "       [2.8368206],\n",
       "       [2.9013119],\n",
       "       [2.9066088],\n",
       "       [2.8702886],\n",
       "       [3.0296633],\n",
       "       [2.8924632],\n",
       "       [2.847681 ],\n",
       "       [2.8046162],\n",
       "       [2.8933573],\n",
       "       [2.975266 ],\n",
       "       [2.8934221],\n",
       "       [2.8354578],\n",
       "       [2.8889737],\n",
       "       [2.8193982],\n",
       "       [2.91669  ],\n",
       "       [2.9241385],\n",
       "       [2.8758452],\n",
       "       [2.8884401],\n",
       "       [2.8793414],\n",
       "       [2.7678556],\n",
       "       [2.8403776],\n",
       "       [2.863525 ],\n",
       "       [2.8807123],\n",
       "       [2.9059234],\n",
       "       [2.905449 ],\n",
       "       [2.8267095],\n",
       "       [2.7734857],\n",
       "       [2.8645267],\n",
       "       [2.8731382],\n",
       "       [2.9360652],\n",
       "       [2.9552102],\n",
       "       [2.8017642],\n",
       "       [2.831748 ],\n",
       "       [2.8373852],\n",
       "       [2.8486166],\n",
       "       [2.807797 ],\n",
       "       [2.8539314],\n",
       "       [2.918842 ],\n",
       "       [2.8744237],\n",
       "       [2.8846235],\n",
       "       [2.806896 ],\n",
       "       [2.935798 ],\n",
       "       [2.9260545],\n",
       "       [2.9031441],\n",
       "       [2.9999597],\n",
       "       [2.873179 ],\n",
       "       [2.9169908],\n",
       "       [2.9117534],\n",
       "       [2.817193 ],\n",
       "       [2.843847 ],\n",
       "       [2.828739 ],\n",
       "       [2.783922 ],\n",
       "       [2.8020346],\n",
       "       [2.8646924],\n",
       "       [2.990244 ],\n",
       "       [2.802621 ],\n",
       "       [2.9933176],\n",
       "       [2.8389287],\n",
       "       [2.950952 ],\n",
       "       [2.7854977],\n",
       "       [2.9601457],\n",
       "       [2.8813872],\n",
       "       [2.867725 ],\n",
       "       [2.8214288],\n",
       "       [2.7182436],\n",
       "       [2.8190923],\n",
       "       [2.8955343],\n",
       "       [2.85434  ],\n",
       "       [2.8712935],\n",
       "       [3.0496535],\n",
       "       [2.8434021],\n",
       "       [2.8450966],\n",
       "       [2.982913 ],\n",
       "       [2.9182594],\n",
       "       [2.9550252],\n",
       "       [2.9173803],\n",
       "       [2.8881881],\n",
       "       [2.8361046],\n",
       "       [2.869904 ],\n",
       "       [2.80211  ],\n",
       "       [2.8627565],\n",
       "       [2.8043509],\n",
       "       [2.8190897],\n",
       "       [2.8831713],\n",
       "       [2.7933536],\n",
       "       [2.8271618],\n",
       "       [2.97164  ],\n",
       "       [2.9085515],\n",
       "       [2.8404026],\n",
       "       [2.9201322],\n",
       "       [2.8851216],\n",
       "       [2.8244023],\n",
       "       [2.8567102],\n",
       "       [2.8027403],\n",
       "       [2.9273815],\n",
       "       [2.8620925],\n",
       "       [2.9582362],\n",
       "       [2.9037814],\n",
       "       [2.7797825],\n",
       "       [2.9342492],\n",
       "       [2.8935025],\n",
       "       [2.7815447],\n",
       "       [2.8912616],\n",
       "       [2.849207 ],\n",
       "       [2.851511 ],\n",
       "       [2.7379131],\n",
       "       [2.7983987],\n",
       "       [2.7702427],\n",
       "       [2.9472232],\n",
       "       [2.8816626],\n",
       "       [2.8028393],\n",
       "       [2.8590796],\n",
       "       [2.9542818],\n",
       "       [2.8792007],\n",
       "       [2.8980057],\n",
       "       [2.9251752],\n",
       "       [2.9197407],\n",
       "       [2.9296317],\n",
       "       [2.8726325],\n",
       "       [2.8489826],\n",
       "       [2.8626688],\n",
       "       [2.841832 ],\n",
       "       [2.9365742],\n",
       "       [2.7694025],\n",
       "       [2.9834852],\n",
       "       [2.8592315],\n",
       "       [2.8683846],\n",
       "       [2.9146433],\n",
       "       [2.8613722],\n",
       "       [2.7883754],\n",
       "       [2.9475148],\n",
       "       [2.8535852],\n",
       "       [2.8068044],\n",
       "       [2.9996777],\n",
       "       [2.9006143],\n",
       "       [2.9219005],\n",
       "       [2.8578002],\n",
       "       [2.8454816],\n",
       "       [2.8986907],\n",
       "       [2.9893231],\n",
       "       [2.8626654],\n",
       "       [2.875009 ],\n",
       "       [2.8771944],\n",
       "       [2.8155487],\n",
       "       [2.8766527],\n",
       "       [2.887215 ],\n",
       "       [2.9457304],\n",
       "       [2.8846538],\n",
       "       [2.9303486],\n",
       "       [2.9172478],\n",
       "       [2.925086 ],\n",
       "       [2.903955 ],\n",
       "       [2.898384 ],\n",
       "       [2.807321 ],\n",
       "       [2.8205557],\n",
       "       [2.9170938],\n",
       "       [2.817128 ],\n",
       "       [2.8612182],\n",
       "       [3.0029085],\n",
       "       [2.9911628],\n",
       "       [2.8219488],\n",
       "       [2.8167048],\n",
       "       [2.9149747],\n",
       "       [2.7959135],\n",
       "       [2.906268 ],\n",
       "       [2.8990388],\n",
       "       [2.8483396],\n",
       "       [2.91269  ],\n",
       "       [2.8827715],\n",
       "       [2.9203575],\n",
       "       [2.8474183],\n",
       "       [2.942066 ],\n",
       "       [2.858642 ],\n",
       "       [2.8411527],\n",
       "       [2.8138125],\n",
       "       [2.7953508],\n",
       "       [2.759309 ],\n",
       "       [2.8814163],\n",
       "       [2.79076  ],\n",
       "       [2.9488683],\n",
       "       [2.8342793],\n",
       "       [2.9150085],\n",
       "       [2.8028412],\n",
       "       [2.8903084],\n",
       "       [2.729095 ],\n",
       "       [2.7675762],\n",
       "       [2.856862 ],\n",
       "       [2.8943987],\n",
       "       [2.9098382],\n",
       "       [2.8510804],\n",
       "       [2.746919 ],\n",
       "       [2.8610914],\n",
       "       [2.9661667],\n",
       "       [2.979665 ],\n",
       "       [2.8334045],\n",
       "       [2.8963368],\n",
       "       [2.8711586],\n",
       "       [2.8865268],\n",
       "       [2.7491574],\n",
       "       [2.8398638],\n",
       "       [2.888024 ],\n",
       "       [2.8629267],\n",
       "       [2.8657982],\n",
       "       [2.8629746],\n",
       "       [2.8754637],\n",
       "       [2.7948194],\n",
       "       [2.94783  ],\n",
       "       [2.8717573],\n",
       "       [2.8718426],\n",
       "       [2.8357558],\n",
       "       [2.944147 ],\n",
       "       [2.870987 ],\n",
       "       [2.8275836],\n",
       "       [2.968382 ],\n",
       "       [2.7389503],\n",
       "       [2.8358889],\n",
       "       [2.860678 ],\n",
       "       [2.8692508],\n",
       "       [2.8568206],\n",
       "       [2.9034722],\n",
       "       [2.890875 ],\n",
       "       [2.8420012],\n",
       "       [2.9656353],\n",
       "       [2.931392 ],\n",
       "       [2.9697394],\n",
       "       [2.8806863],\n",
       "       [2.8574696],\n",
       "       [2.7799938],\n",
       "       [2.8475807],\n",
       "       [2.8476846],\n",
       "       [2.8222682],\n",
       "       [2.7149239],\n",
       "       [2.825378 ],\n",
       "       [2.8781528],\n",
       "       [2.840958 ],\n",
       "       [2.8583224],\n",
       "       [2.890046 ],\n",
       "       [2.9945421],\n",
       "       [2.9055457],\n",
       "       [2.7639184],\n",
       "       [2.868708 ],\n",
       "       [2.867719 ],\n",
       "       [2.9064217],\n",
       "       [2.8796666],\n",
       "       [2.887664 ],\n",
       "       [2.9007916],\n",
       "       [2.8965747],\n",
       "       [2.8910651],\n",
       "       [2.9028275],\n",
       "       [2.835266 ],\n",
       "       [2.8920436],\n",
       "       [2.833955 ],\n",
       "       [2.862327 ],\n",
       "       [2.8166769],\n",
       "       [2.8226528],\n",
       "       [2.8409088],\n",
       "       [2.8641117],\n",
       "       [2.8880494],\n",
       "       [2.820311 ],\n",
       "       [2.889417 ],\n",
       "       [2.9361522],\n",
       "       [2.9112513],\n",
       "       [2.915248 ],\n",
       "       [2.8597512],\n",
       "       [2.915604 ],\n",
       "       [2.9105077],\n",
       "       [2.877519 ],\n",
       "       [2.7995634],\n",
       "       [2.8575807],\n",
       "       [2.7546191],\n",
       "       [2.8767953],\n",
       "       [2.7926962],\n",
       "       [2.8379023],\n",
       "       [2.937563 ],\n",
       "       [2.9178915],\n",
       "       [2.9178488],\n",
       "       [2.7781897],\n",
       "       [2.898719 ],\n",
       "       [2.896021 ],\n",
       "       [2.849913 ],\n",
       "       [2.9887347],\n",
       "       [2.9132388],\n",
       "       [2.9629207],\n",
       "       [2.8368154],\n",
       "       [2.8392088],\n",
       "       [2.880272 ],\n",
       "       [2.8517122],\n",
       "       [2.8457289],\n",
       "       [2.8560436],\n",
       "       [2.9102468],\n",
       "       [2.811655 ],\n",
       "       [2.874921 ],\n",
       "       [2.8921354],\n",
       "       [2.9753327],\n",
       "       [2.8426826],\n",
       "       [2.880692 ],\n",
       "       [2.925982 ],\n",
       "       [2.9118066],\n",
       "       [2.9072912],\n",
       "       [2.8344955],\n",
       "       [2.7907677],\n",
       "       [2.9631572],\n",
       "       [2.9230156],\n",
       "       [2.8585625],\n",
       "       [2.8924568],\n",
       "       [2.938166 ],\n",
       "       [2.950213 ],\n",
       "       [2.8422022],\n",
       "       [2.8505585],\n",
       "       [2.9005456],\n",
       "       [2.821807 ],\n",
       "       [2.9162836],\n",
       "       [2.9122052],\n",
       "       [2.8603063],\n",
       "       [2.8785236],\n",
       "       [2.8648052],\n",
       "       [2.8815205],\n",
       "       [2.884386 ],\n",
       "       [2.9154553],\n",
       "       [2.8885717],\n",
       "       [2.8961465],\n",
       "       [2.8081326],\n",
       "       [2.8604424],\n",
       "       [2.7672188],\n",
       "       [2.849814 ],\n",
       "       [2.818029 ],\n",
       "       [2.9550228],\n",
       "       [2.8557637],\n",
       "       [2.8663824],\n",
       "       [2.9014885],\n",
       "       [2.8721724],\n",
       "       [2.7234929],\n",
       "       [2.8310044],\n",
       "       [2.8320591],\n",
       "       [2.9403734],\n",
       "       [2.9193606],\n",
       "       [2.873046 ],\n",
       "       [2.8050406],\n",
       "       [2.9545763],\n",
       "       [2.9134693],\n",
       "       [2.9557557],\n",
       "       [2.9180107],\n",
       "       [2.8678865],\n",
       "       [2.8999813],\n",
       "       [2.7992625],\n",
       "       [2.814622 ],\n",
       "       [2.806483 ],\n",
       "       [2.9529526],\n",
       "       [2.803879 ],\n",
       "       [2.7930958],\n",
       "       [2.883184 ],\n",
       "       [2.8693433],\n",
       "       [2.8294184],\n",
       "       [2.8831222],\n",
       "       [2.8791776],\n",
       "       [2.8428392],\n",
       "       [2.8225834],\n",
       "       [2.893514 ],\n",
       "       [2.8818579],\n",
       "       [2.8067787],\n",
       "       [2.859451 ],\n",
       "       [2.8044744],\n",
       "       [2.790518 ],\n",
       "       [2.860955 ],\n",
       "       [2.8843005],\n",
       "       [2.8604546],\n",
       "       [2.8979201],\n",
       "       [2.823564 ],\n",
       "       [2.8587205],\n",
       "       [2.8407507],\n",
       "       [2.9596236],\n",
       "       [3.0236366],\n",
       "       [2.907975 ],\n",
       "       [2.881719 ],\n",
       "       [2.8873518],\n",
       "       [2.8180108],\n",
       "       [2.856794 ],\n",
       "       [2.7900531],\n",
       "       [2.7779536],\n",
       "       [2.7970881],\n",
       "       [2.8442612],\n",
       "       [2.9243326],\n",
       "       [2.8837183],\n",
       "       [2.9443562],\n",
       "       [2.942537 ],\n",
       "       [2.881231 ],\n",
       "       [2.8482976],\n",
       "       [2.8374095],\n",
       "       [2.823925 ],\n",
       "       [2.922053 ],\n",
       "       [2.883658 ],\n",
       "       [2.9616394],\n",
       "       [2.894217 ],\n",
       "       [2.9454803],\n",
       "       [2.867876 ],\n",
       "       [2.9749765],\n",
       "       [2.9212193],\n",
       "       [2.792056 ],\n",
       "       [2.812541 ],\n",
       "       [2.857381 ],\n",
       "       [2.8426952],\n",
       "       [2.7980108],\n",
       "       [2.797735 ],\n",
       "       [2.8036394],\n",
       "       [2.8997524],\n",
       "       [2.9080544],\n",
       "       [2.9338717],\n",
       "       [2.798686 ],\n",
       "       [2.8690648],\n",
       "       [2.9587584],\n",
       "       [2.9128695],\n",
       "       [2.8874898],\n",
       "       [2.8519337],\n",
       "       [2.943282 ],\n",
       "       [2.8964283],\n",
       "       [2.8940284],\n",
       "       [2.7687523],\n",
       "       [2.8637335],\n",
       "       [2.977338 ],\n",
       "       [2.841643 ],\n",
       "       [2.8626246],\n",
       "       [2.8595548],\n",
       "       [2.893811 ],\n",
       "       [2.9202857],\n",
       "       [2.948972 ],\n",
       "       [2.9018993],\n",
       "       [2.909525 ],\n",
       "       [2.999019 ],\n",
       "       [2.932297 ],\n",
       "       [2.7879617],\n",
       "       [2.9627516],\n",
       "       [2.8638935],\n",
       "       [2.9441423],\n",
       "       [2.8477945],\n",
       "       [2.8806386],\n",
       "       [2.8964376],\n",
       "       [2.8918552],\n",
       "       [2.8120124],\n",
       "       [2.9197881],\n",
       "       [2.9497135],\n",
       "       [2.8481736],\n",
       "       [2.8783789],\n",
       "       [2.80673  ],\n",
       "       [2.93717  ],\n",
       "       [2.870766 ],\n",
       "       [2.8620622],\n",
       "       [2.9310746],\n",
       "       [2.9337475],\n",
       "       [2.9245389],\n",
       "       [2.9697576],\n",
       "       [2.870364 ],\n",
       "       [3.0333993],\n",
       "       [2.8227093],\n",
       "       [2.7874048],\n",
       "       [2.8816886],\n",
       "       [2.8947644],\n",
       "       [2.9793763],\n",
       "       [2.8053563],\n",
       "       [2.8562086],\n",
       "       [2.8848228],\n",
       "       [2.8078177],\n",
       "       [2.9057863],\n",
       "       [2.8821828],\n",
       "       [2.809898 ],\n",
       "       [2.8701658],\n",
       "       [2.918836 ],\n",
       "       [2.920603 ],\n",
       "       [2.8990583],\n",
       "       [2.8883731],\n",
       "       [2.8940709],\n",
       "       [2.9750283],\n",
       "       [2.818074 ],\n",
       "       [2.8279674],\n",
       "       [2.7679315],\n",
       "       [2.7292132],\n",
       "       [2.8249855],\n",
       "       [2.9329028],\n",
       "       [2.8482807],\n",
       "       [2.8092399],\n",
       "       [2.8854585],\n",
       "       [2.8973231],\n",
       "       [2.7313852],\n",
       "       [2.729095 ],\n",
       "       [2.84707  ],\n",
       "       [2.8896172],\n",
       "       [2.9010093],\n",
       "       [2.9010193],\n",
       "       [2.7951105],\n",
       "       [2.8991141],\n",
       "       [2.8424337],\n",
       "       [2.901006 ],\n",
       "       [2.8010697],\n",
       "       [2.9143007],\n",
       "       [2.867253 ],\n",
       "       [2.8178   ],\n",
       "       [2.8415785],\n",
       "       [2.9263594],\n",
       "       [3.0281768],\n",
       "       [2.8283312],\n",
       "       [2.789256 ],\n",
       "       [2.8995209],\n",
       "       [2.8539767],\n",
       "       [2.809779 ],\n",
       "       [2.9581368],\n",
       "       [2.8112962],\n",
       "       [2.8558652],\n",
       "       [2.8527684],\n",
       "       [2.890855 ],\n",
       "       [3.0373626],\n",
       "       [2.8583772],\n",
       "       [2.952134 ],\n",
       "       [2.8850105],\n",
       "       [2.8125997],\n",
       "       [2.8237722],\n",
       "       [2.8636222],\n",
       "       [2.9125626],\n",
       "       [2.957121 ],\n",
       "       [2.874026 ],\n",
       "       [2.8880754],\n",
       "       [2.9435062],\n",
       "       [2.963135 ],\n",
       "       [2.9854422],\n",
       "       [2.903976 ],\n",
       "       [2.8323574],\n",
       "       [2.87066  ],\n",
       "       [2.8322263],\n",
       "       [2.8755915],\n",
       "       [2.7836232],\n",
       "       [2.887583 ],\n",
       "       [2.823228 ],\n",
       "       [2.8569183],\n",
       "       [2.8186967],\n",
       "       [2.963035 ],\n",
       "       [2.9243486],\n",
       "       [2.8937585],\n",
       "       [2.8887408],\n",
       "       [2.8393059],\n",
       "       [2.795162 ],\n",
       "       [2.8722112],\n",
       "       [2.8643906],\n",
       "       [2.8993168],\n",
       "       [2.8496606],\n",
       "       [3.0599265],\n",
       "       [2.969919 ],\n",
       "       [2.9185085],\n",
       "       [2.9561806],\n",
       "       [2.9782677],\n",
       "       [2.8119946],\n",
       "       [2.8995702],\n",
       "       [2.9369442],\n",
       "       [2.9895527],\n",
       "       [2.708048 ],\n",
       "       [2.8134568],\n",
       "       [2.9607391],\n",
       "       [2.8603857],\n",
       "       [2.9465222],\n",
       "       [2.7342782],\n",
       "       [2.8165019],\n",
       "       [2.936682 ],\n",
       "       [2.9348063],\n",
       "       [2.918447 ],\n",
       "       [2.8359306],\n",
       "       [2.9119878],\n",
       "       [2.8649058],\n",
       "       [2.899596 ],\n",
       "       [2.8853612]], dtype=float32)"
      ]
     },
     "execution_count": 42,
     "metadata": {},
     "output_type": "execute_result"
    }
   ],
   "source": [
    "pre0 = model0.predict(feature_test)\n",
    "pre0"
   ]
  },
  {
   "cell_type": "code",
   "execution_count": 43,
   "metadata": {
    "ExecuteTime": {
     "end_time": "2022-05-18T13:07:00.159966Z",
     "start_time": "2022-05-18T13:07:00.141974Z"
    }
   },
   "outputs": [],
   "source": [
    "diff = pre0 - label_test"
   ]
  },
  {
   "cell_type": "code",
   "execution_count": 44,
   "metadata": {
    "ExecuteTime": {
     "end_time": "2022-05-18T13:07:01.917619Z",
     "start_time": "2022-05-18T13:07:01.908608Z"
    },
    "scrolled": false
   },
   "outputs": [
    {
     "name": "stdout",
     "output_type": "stream",
     "text": [
      "Prediction:\n",
      "  diff_Max            :   0.5351768\n",
      "  diff_Min            :  -0.1990464\n",
      "  |diff|_Mean(MAE)    :   0.0197179\n",
      "  |diff|_Max          :   0.5351768\n",
      "  |diff|_Min          :   0.0000289\n",
      "  pre_Var(MSE)        :   0.0014901\n",
      "  pre_Std(RMSE)       :   0.0386022\n",
      "  Error_mean          :   0.0023474\n",
      "  Error_max           :   0.2146718\n",
      "  Error_min           :  -0.0668614\n",
      "  |Error|_mean(MAPE)  :   0.0069388\n",
      "  |Error|_max         :   0.2146718\n",
      "  |Error|_min         :   0.0000103\n"
     ]
    }
   ],
   "source": [
    "a, err = pre_ana(pre0, label_test)\n",
    "print(\"Prediction:\")\n",
    "print(\"\\nPrediction:\",file=fout)\n",
    "for key in a.keys():\n",
    "    print(f\"  {key:<20}: {a[key]:>11.7f}\")\n",
    "    print(f\"  {key:<20}: {a[key]:>11.7f}\",file=fout)"
   ]
  },
  {
   "cell_type": "markdown",
   "metadata": {},
   "source": [
    "#### 查看拟合中保存的最佳模型"
   ]
  },
  {
   "cell_type": "markdown",
   "metadata": {},
   "source": [
    "是否与上述模型一样？"
   ]
  },
  {
   "cell_type": "code",
   "execution_count": 45,
   "metadata": {
    "ExecuteTime": {
     "end_time": "2022-05-18T13:07:05.234447Z",
     "start_time": "2022-05-18T13:07:05.226470Z"
    }
   },
   "outputs": [
    {
     "name": "stdout",
     "output_type": "stream",
     "text": [
      "Saved best model : .\\./../hyper-param_tuning\\au150_DW_cr_3level_neuron_run_2022_05_18-20_34_27.h5\n"
     ]
    }
   ],
   "source": [
    "print(f\"Saved best model : {model_saved_best}\")\n",
    "print(f\"\\nSaved best model : {model_saved_best}\",file=fout)\n",
    "fout.close()"
   ]
  },
  {
   "cell_type": "code",
   "execution_count": 46,
   "metadata": {
    "ExecuteTime": {
     "end_time": "2022-05-18T13:07:06.165250Z",
     "start_time": "2022-05-18T13:07:06.093399Z"
    }
   },
   "outputs": [
    {
     "data": {
      "text/plain": [
       "<keras.engine.sequential.Sequential at 0x1f1bbc122b0>"
      ]
     },
     "execution_count": 46,
     "metadata": {},
     "output_type": "execute_result"
    }
   ],
   "source": [
    "model = keras.models.load_model(model_saved_best)\n",
    "model"
   ]
  },
  {
   "cell_type": "code",
   "execution_count": 47,
   "metadata": {
    "ExecuteTime": {
     "end_time": "2022-05-18T13:07:07.913361Z",
     "start_time": "2022-05-18T13:07:07.798589Z"
    }
   },
   "outputs": [
    {
     "data": {
      "text/plain": [
       "array([[2.8600833],\n",
       "       [2.8732777],\n",
       "       [2.8181024],\n",
       "       [2.8642044],\n",
       "       [2.7745802],\n",
       "       [2.9409778],\n",
       "       [2.9289436],\n",
       "       [2.957883 ],\n",
       "       [2.9711907],\n",
       "       [2.8543878],\n",
       "       [2.8615496],\n",
       "       [3.0791144],\n",
       "       [2.8976214],\n",
       "       [2.7862422],\n",
       "       [2.9465394],\n",
       "       [2.8952363],\n",
       "       [2.8944275],\n",
       "       [2.919839 ],\n",
       "       [2.8202324],\n",
       "       [2.9203446],\n",
       "       [2.857653 ],\n",
       "       [2.8374686],\n",
       "       [2.8351152],\n",
       "       [2.8713188],\n",
       "       [2.939492 ],\n",
       "       [2.9168332],\n",
       "       [2.877352 ],\n",
       "       [2.961272 ],\n",
       "       [2.9016356],\n",
       "       [2.8806024],\n",
       "       [2.9465067],\n",
       "       [2.8368206],\n",
       "       [2.9013119],\n",
       "       [2.9066088],\n",
       "       [2.8702886],\n",
       "       [3.0296633],\n",
       "       [2.8924632],\n",
       "       [2.847681 ],\n",
       "       [2.8046162],\n",
       "       [2.8933573],\n",
       "       [2.975266 ],\n",
       "       [2.8934221],\n",
       "       [2.8354578],\n",
       "       [2.8889737],\n",
       "       [2.8193982],\n",
       "       [2.91669  ],\n",
       "       [2.9241385],\n",
       "       [2.8758452],\n",
       "       [2.8884401],\n",
       "       [2.8793414],\n",
       "       [2.7678556],\n",
       "       [2.8403776],\n",
       "       [2.863525 ],\n",
       "       [2.8807123],\n",
       "       [2.9059234],\n",
       "       [2.905449 ],\n",
       "       [2.8267095],\n",
       "       [2.7734857],\n",
       "       [2.8645267],\n",
       "       [2.8731382],\n",
       "       [2.9360652],\n",
       "       [2.9552102],\n",
       "       [2.8017642],\n",
       "       [2.831748 ],\n",
       "       [2.8373852],\n",
       "       [2.8486166],\n",
       "       [2.807797 ],\n",
       "       [2.8539314],\n",
       "       [2.918842 ],\n",
       "       [2.8744237],\n",
       "       [2.8846235],\n",
       "       [2.806896 ],\n",
       "       [2.935798 ],\n",
       "       [2.9260545],\n",
       "       [2.9031441],\n",
       "       [2.9999597],\n",
       "       [2.873179 ],\n",
       "       [2.9169908],\n",
       "       [2.9117534],\n",
       "       [2.817193 ],\n",
       "       [2.843847 ],\n",
       "       [2.828739 ],\n",
       "       [2.783922 ],\n",
       "       [2.8020346],\n",
       "       [2.8646924],\n",
       "       [2.990244 ],\n",
       "       [2.802621 ],\n",
       "       [2.9933176],\n",
       "       [2.8389287],\n",
       "       [2.950952 ],\n",
       "       [2.7854977],\n",
       "       [2.9601457],\n",
       "       [2.8813872],\n",
       "       [2.867725 ],\n",
       "       [2.8214288],\n",
       "       [2.7182436],\n",
       "       [2.8190923],\n",
       "       [2.8955343],\n",
       "       [2.85434  ],\n",
       "       [2.8712935],\n",
       "       [3.0496535],\n",
       "       [2.8434021],\n",
       "       [2.8450966],\n",
       "       [2.982913 ],\n",
       "       [2.9182594],\n",
       "       [2.9550252],\n",
       "       [2.9173803],\n",
       "       [2.8881881],\n",
       "       [2.8361046],\n",
       "       [2.869904 ],\n",
       "       [2.80211  ],\n",
       "       [2.8627565],\n",
       "       [2.8043509],\n",
       "       [2.8190897],\n",
       "       [2.8831713],\n",
       "       [2.7933536],\n",
       "       [2.8271618],\n",
       "       [2.97164  ],\n",
       "       [2.9085515],\n",
       "       [2.8404026],\n",
       "       [2.9201322],\n",
       "       [2.8851216],\n",
       "       [2.8244023],\n",
       "       [2.8567102],\n",
       "       [2.8027403],\n",
       "       [2.9273815],\n",
       "       [2.8620925],\n",
       "       [2.9582362],\n",
       "       [2.9037814],\n",
       "       [2.7797825],\n",
       "       [2.9342492],\n",
       "       [2.8935025],\n",
       "       [2.7815447],\n",
       "       [2.8912616],\n",
       "       [2.849207 ],\n",
       "       [2.851511 ],\n",
       "       [2.7379131],\n",
       "       [2.7983987],\n",
       "       [2.7702427],\n",
       "       [2.9472232],\n",
       "       [2.8816626],\n",
       "       [2.8028393],\n",
       "       [2.8590796],\n",
       "       [2.9542818],\n",
       "       [2.8792007],\n",
       "       [2.8980057],\n",
       "       [2.9251752],\n",
       "       [2.9197407],\n",
       "       [2.9296317],\n",
       "       [2.8726325],\n",
       "       [2.8489826],\n",
       "       [2.8626688],\n",
       "       [2.841832 ],\n",
       "       [2.9365742],\n",
       "       [2.7694025],\n",
       "       [2.9834852],\n",
       "       [2.8592315],\n",
       "       [2.8683846],\n",
       "       [2.9146433],\n",
       "       [2.8613722],\n",
       "       [2.7883754],\n",
       "       [2.9475148],\n",
       "       [2.8535852],\n",
       "       [2.8068044],\n",
       "       [2.9996777],\n",
       "       [2.9006143],\n",
       "       [2.9219005],\n",
       "       [2.8578002],\n",
       "       [2.8454816],\n",
       "       [2.8986907],\n",
       "       [2.9893231],\n",
       "       [2.8626654],\n",
       "       [2.875009 ],\n",
       "       [2.8771944],\n",
       "       [2.8155487],\n",
       "       [2.8766527],\n",
       "       [2.887215 ],\n",
       "       [2.9457304],\n",
       "       [2.8846538],\n",
       "       [2.9303486],\n",
       "       [2.9172478],\n",
       "       [2.925086 ],\n",
       "       [2.903955 ],\n",
       "       [2.898384 ],\n",
       "       [2.807321 ],\n",
       "       [2.8205557],\n",
       "       [2.9170938],\n",
       "       [2.817128 ],\n",
       "       [2.8612182],\n",
       "       [3.0029085],\n",
       "       [2.9911628],\n",
       "       [2.8219488],\n",
       "       [2.8167048],\n",
       "       [2.9149747],\n",
       "       [2.7959135],\n",
       "       [2.906268 ],\n",
       "       [2.8990388],\n",
       "       [2.8483396],\n",
       "       [2.91269  ],\n",
       "       [2.8827715],\n",
       "       [2.9203575],\n",
       "       [2.8474183],\n",
       "       [2.942066 ],\n",
       "       [2.858642 ],\n",
       "       [2.8411527],\n",
       "       [2.8138125],\n",
       "       [2.7953508],\n",
       "       [2.759309 ],\n",
       "       [2.8814163],\n",
       "       [2.79076  ],\n",
       "       [2.9488683],\n",
       "       [2.8342793],\n",
       "       [2.9150085],\n",
       "       [2.8028412],\n",
       "       [2.8903084],\n",
       "       [2.729095 ],\n",
       "       [2.7675762],\n",
       "       [2.856862 ],\n",
       "       [2.8943987],\n",
       "       [2.9098382],\n",
       "       [2.8510804],\n",
       "       [2.746919 ],\n",
       "       [2.8610914],\n",
       "       [2.9661667],\n",
       "       [2.979665 ],\n",
       "       [2.8334045],\n",
       "       [2.8963368],\n",
       "       [2.8711586],\n",
       "       [2.8865268],\n",
       "       [2.7491574],\n",
       "       [2.8398638],\n",
       "       [2.888024 ],\n",
       "       [2.8629267],\n",
       "       [2.8657982],\n",
       "       [2.8629746],\n",
       "       [2.8754637],\n",
       "       [2.7948194],\n",
       "       [2.94783  ],\n",
       "       [2.8717573],\n",
       "       [2.8718426],\n",
       "       [2.8357558],\n",
       "       [2.944147 ],\n",
       "       [2.870987 ],\n",
       "       [2.8275836],\n",
       "       [2.968382 ],\n",
       "       [2.7389503],\n",
       "       [2.8358889],\n",
       "       [2.860678 ],\n",
       "       [2.8692508],\n",
       "       [2.8568206],\n",
       "       [2.9034722],\n",
       "       [2.890875 ],\n",
       "       [2.8420012],\n",
       "       [2.9656353],\n",
       "       [2.931392 ],\n",
       "       [2.9697394],\n",
       "       [2.8806863],\n",
       "       [2.8574696],\n",
       "       [2.7799938],\n",
       "       [2.8475807],\n",
       "       [2.8476846],\n",
       "       [2.8222682],\n",
       "       [2.7149239],\n",
       "       [2.825378 ],\n",
       "       [2.8781528],\n",
       "       [2.840958 ],\n",
       "       [2.8583224],\n",
       "       [2.890046 ],\n",
       "       [2.9945421],\n",
       "       [2.9055457],\n",
       "       [2.7639184],\n",
       "       [2.868708 ],\n",
       "       [2.867719 ],\n",
       "       [2.9064217],\n",
       "       [2.8796666],\n",
       "       [2.887664 ],\n",
       "       [2.9007916],\n",
       "       [2.8965747],\n",
       "       [2.8910651],\n",
       "       [2.9028275],\n",
       "       [2.835266 ],\n",
       "       [2.8920436],\n",
       "       [2.833955 ],\n",
       "       [2.862327 ],\n",
       "       [2.8166769],\n",
       "       [2.8226528],\n",
       "       [2.8409088],\n",
       "       [2.8641117],\n",
       "       [2.8880494],\n",
       "       [2.820311 ],\n",
       "       [2.889417 ],\n",
       "       [2.9361522],\n",
       "       [2.9112513],\n",
       "       [2.915248 ],\n",
       "       [2.8597512],\n",
       "       [2.915604 ],\n",
       "       [2.9105077],\n",
       "       [2.877519 ],\n",
       "       [2.7995634],\n",
       "       [2.8575807],\n",
       "       [2.7546191],\n",
       "       [2.8767953],\n",
       "       [2.7926962],\n",
       "       [2.8379023],\n",
       "       [2.937563 ],\n",
       "       [2.9178915],\n",
       "       [2.9178488],\n",
       "       [2.7781897],\n",
       "       [2.898719 ],\n",
       "       [2.896021 ],\n",
       "       [2.849913 ],\n",
       "       [2.9887347],\n",
       "       [2.9132388],\n",
       "       [2.9629207],\n",
       "       [2.8368154],\n",
       "       [2.8392088],\n",
       "       [2.880272 ],\n",
       "       [2.8517122],\n",
       "       [2.8457289],\n",
       "       [2.8560436],\n",
       "       [2.9102468],\n",
       "       [2.811655 ],\n",
       "       [2.874921 ],\n",
       "       [2.8921354],\n",
       "       [2.9753327],\n",
       "       [2.8426826],\n",
       "       [2.880692 ],\n",
       "       [2.925982 ],\n",
       "       [2.9118066],\n",
       "       [2.9072912],\n",
       "       [2.8344955],\n",
       "       [2.7907677],\n",
       "       [2.9631572],\n",
       "       [2.9230156],\n",
       "       [2.8585625],\n",
       "       [2.8924568],\n",
       "       [2.938166 ],\n",
       "       [2.950213 ],\n",
       "       [2.8422022],\n",
       "       [2.8505585],\n",
       "       [2.9005456],\n",
       "       [2.821807 ],\n",
       "       [2.9162836],\n",
       "       [2.9122052],\n",
       "       [2.8603063],\n",
       "       [2.8785236],\n",
       "       [2.8648052],\n",
       "       [2.8815205],\n",
       "       [2.884386 ],\n",
       "       [2.9154553],\n",
       "       [2.8885717],\n",
       "       [2.8961465],\n",
       "       [2.8081326],\n",
       "       [2.8604424],\n",
       "       [2.7672188],\n",
       "       [2.849814 ],\n",
       "       [2.818029 ],\n",
       "       [2.9550228],\n",
       "       [2.8557637],\n",
       "       [2.8663824],\n",
       "       [2.9014885],\n",
       "       [2.8721724],\n",
       "       [2.7234929],\n",
       "       [2.8310044],\n",
       "       [2.8320591],\n",
       "       [2.9403734],\n",
       "       [2.9193606],\n",
       "       [2.873046 ],\n",
       "       [2.8050406],\n",
       "       [2.9545763],\n",
       "       [2.9134693],\n",
       "       [2.9557557],\n",
       "       [2.9180107],\n",
       "       [2.8678865],\n",
       "       [2.8999813],\n",
       "       [2.7992625],\n",
       "       [2.814622 ],\n",
       "       [2.806483 ],\n",
       "       [2.9529526],\n",
       "       [2.803879 ],\n",
       "       [2.7930958],\n",
       "       [2.883184 ],\n",
       "       [2.8693433],\n",
       "       [2.8294184],\n",
       "       [2.8831222],\n",
       "       [2.8791776],\n",
       "       [2.8428392],\n",
       "       [2.8225834],\n",
       "       [2.893514 ],\n",
       "       [2.8818579],\n",
       "       [2.8067787],\n",
       "       [2.859451 ],\n",
       "       [2.8044744],\n",
       "       [2.790518 ],\n",
       "       [2.860955 ],\n",
       "       [2.8843005],\n",
       "       [2.8604546],\n",
       "       [2.8979201],\n",
       "       [2.823564 ],\n",
       "       [2.8587205],\n",
       "       [2.8407507],\n",
       "       [2.9596236],\n",
       "       [3.0236366],\n",
       "       [2.907975 ],\n",
       "       [2.881719 ],\n",
       "       [2.8873518],\n",
       "       [2.8180108],\n",
       "       [2.856794 ],\n",
       "       [2.7900531],\n",
       "       [2.7779536],\n",
       "       [2.7970881],\n",
       "       [2.8442612],\n",
       "       [2.9243326],\n",
       "       [2.8837183],\n",
       "       [2.9443562],\n",
       "       [2.942537 ],\n",
       "       [2.881231 ],\n",
       "       [2.8482976],\n",
       "       [2.8374095],\n",
       "       [2.823925 ],\n",
       "       [2.922053 ],\n",
       "       [2.883658 ],\n",
       "       [2.9616394],\n",
       "       [2.894217 ],\n",
       "       [2.9454803],\n",
       "       [2.867876 ],\n",
       "       [2.9749765],\n",
       "       [2.9212193],\n",
       "       [2.792056 ],\n",
       "       [2.812541 ],\n",
       "       [2.857381 ],\n",
       "       [2.8426952],\n",
       "       [2.7980108],\n",
       "       [2.797735 ],\n",
       "       [2.8036394],\n",
       "       [2.8997524],\n",
       "       [2.9080544],\n",
       "       [2.9338717],\n",
       "       [2.798686 ],\n",
       "       [2.8690648],\n",
       "       [2.9587584],\n",
       "       [2.9128695],\n",
       "       [2.8874898],\n",
       "       [2.8519337],\n",
       "       [2.943282 ],\n",
       "       [2.8964283],\n",
       "       [2.8940284],\n",
       "       [2.7687523],\n",
       "       [2.8637335],\n",
       "       [2.977338 ],\n",
       "       [2.841643 ],\n",
       "       [2.8626246],\n",
       "       [2.8595548],\n",
       "       [2.893811 ],\n",
       "       [2.9202857],\n",
       "       [2.948972 ],\n",
       "       [2.9018993],\n",
       "       [2.909525 ],\n",
       "       [2.999019 ],\n",
       "       [2.932297 ],\n",
       "       [2.7879617],\n",
       "       [2.9627516],\n",
       "       [2.8638935],\n",
       "       [2.9441423],\n",
       "       [2.8477945],\n",
       "       [2.8806386],\n",
       "       [2.8964376],\n",
       "       [2.8918552],\n",
       "       [2.8120124],\n",
       "       [2.9197881],\n",
       "       [2.9497135],\n",
       "       [2.8481736],\n",
       "       [2.8783789],\n",
       "       [2.80673  ],\n",
       "       [2.93717  ],\n",
       "       [2.870766 ],\n",
       "       [2.8620622],\n",
       "       [2.9310746],\n",
       "       [2.9337475],\n",
       "       [2.9245389],\n",
       "       [2.9697576],\n",
       "       [2.870364 ],\n",
       "       [3.0333993],\n",
       "       [2.8227093],\n",
       "       [2.7874048],\n",
       "       [2.8816886],\n",
       "       [2.8947644],\n",
       "       [2.9793763],\n",
       "       [2.8053563],\n",
       "       [2.8562086],\n",
       "       [2.8848228],\n",
       "       [2.8078177],\n",
       "       [2.9057863],\n",
       "       [2.8821828],\n",
       "       [2.809898 ],\n",
       "       [2.8701658],\n",
       "       [2.918836 ],\n",
       "       [2.920603 ],\n",
       "       [2.8990583],\n",
       "       [2.8883731],\n",
       "       [2.8940709],\n",
       "       [2.9750283],\n",
       "       [2.818074 ],\n",
       "       [2.8279674],\n",
       "       [2.7679315],\n",
       "       [2.7292132],\n",
       "       [2.8249855],\n",
       "       [2.9329028],\n",
       "       [2.8482807],\n",
       "       [2.8092399],\n",
       "       [2.8854585],\n",
       "       [2.8973231],\n",
       "       [2.7313852],\n",
       "       [2.729095 ],\n",
       "       [2.84707  ],\n",
       "       [2.8896172],\n",
       "       [2.9010093],\n",
       "       [2.9010193],\n",
       "       [2.7951105],\n",
       "       [2.8991141],\n",
       "       [2.8424337],\n",
       "       [2.901006 ],\n",
       "       [2.8010697],\n",
       "       [2.9143007],\n",
       "       [2.867253 ],\n",
       "       [2.8178   ],\n",
       "       [2.8415785],\n",
       "       [2.9263594],\n",
       "       [3.0281768],\n",
       "       [2.8283312],\n",
       "       [2.789256 ],\n",
       "       [2.8995209],\n",
       "       [2.8539767],\n",
       "       [2.809779 ],\n",
       "       [2.9581368],\n",
       "       [2.8112962],\n",
       "       [2.8558652],\n",
       "       [2.8527684],\n",
       "       [2.890855 ],\n",
       "       [3.0373626],\n",
       "       [2.8583772],\n",
       "       [2.952134 ],\n",
       "       [2.8850105],\n",
       "       [2.8125997],\n",
       "       [2.8237722],\n",
       "       [2.8636222],\n",
       "       [2.9125626],\n",
       "       [2.957121 ],\n",
       "       [2.874026 ],\n",
       "       [2.8880754],\n",
       "       [2.9435062],\n",
       "       [2.963135 ],\n",
       "       [2.9854422],\n",
       "       [2.903976 ],\n",
       "       [2.8323574],\n",
       "       [2.87066  ],\n",
       "       [2.8322263],\n",
       "       [2.8755915],\n",
       "       [2.7836232],\n",
       "       [2.887583 ],\n",
       "       [2.823228 ],\n",
       "       [2.8569183],\n",
       "       [2.8186967],\n",
       "       [2.963035 ],\n",
       "       [2.9243486],\n",
       "       [2.8937585],\n",
       "       [2.8887408],\n",
       "       [2.8393059],\n",
       "       [2.795162 ],\n",
       "       [2.8722112],\n",
       "       [2.8643906],\n",
       "       [2.8993168],\n",
       "       [2.8496606],\n",
       "       [3.0599265],\n",
       "       [2.969919 ],\n",
       "       [2.9185085],\n",
       "       [2.9561806],\n",
       "       [2.9782677],\n",
       "       [2.8119946],\n",
       "       [2.8995702],\n",
       "       [2.9369442],\n",
       "       [2.9895527],\n",
       "       [2.708048 ],\n",
       "       [2.8134568],\n",
       "       [2.9607391],\n",
       "       [2.8603857],\n",
       "       [2.9465222],\n",
       "       [2.7342782],\n",
       "       [2.8165019],\n",
       "       [2.936682 ],\n",
       "       [2.9348063],\n",
       "       [2.918447 ],\n",
       "       [2.8359306],\n",
       "       [2.9119878],\n",
       "       [2.8649058],\n",
       "       [2.899596 ],\n",
       "       [2.8853612]], dtype=float32)"
      ]
     },
     "execution_count": 47,
     "metadata": {},
     "output_type": "execute_result"
    }
   ],
   "source": [
    "pre = model.predict(feature_test)\n",
    "pre"
   ]
  },
  {
   "cell_type": "code",
   "execution_count": 48,
   "metadata": {
    "ExecuteTime": {
     "end_time": "2022-05-18T13:07:08.931548Z",
     "start_time": "2022-05-18T13:07:08.910610Z"
    }
   },
   "outputs": [
    {
     "data": {
      "text/plain": [
       "array([[0.],\n",
       "       [0.],\n",
       "       [0.],\n",
       "       [0.],\n",
       "       [0.],\n",
       "       [0.],\n",
       "       [0.],\n",
       "       [0.],\n",
       "       [0.],\n",
       "       [0.],\n",
       "       [0.],\n",
       "       [0.],\n",
       "       [0.],\n",
       "       [0.],\n",
       "       [0.],\n",
       "       [0.],\n",
       "       [0.],\n",
       "       [0.],\n",
       "       [0.],\n",
       "       [0.],\n",
       "       [0.],\n",
       "       [0.],\n",
       "       [0.],\n",
       "       [0.],\n",
       "       [0.],\n",
       "       [0.],\n",
       "       [0.],\n",
       "       [0.],\n",
       "       [0.],\n",
       "       [0.],\n",
       "       [0.],\n",
       "       [0.],\n",
       "       [0.],\n",
       "       [0.],\n",
       "       [0.],\n",
       "       [0.],\n",
       "       [0.],\n",
       "       [0.],\n",
       "       [0.],\n",
       "       [0.],\n",
       "       [0.],\n",
       "       [0.],\n",
       "       [0.],\n",
       "       [0.],\n",
       "       [0.],\n",
       "       [0.],\n",
       "       [0.],\n",
       "       [0.],\n",
       "       [0.],\n",
       "       [0.],\n",
       "       [0.],\n",
       "       [0.],\n",
       "       [0.],\n",
       "       [0.],\n",
       "       [0.],\n",
       "       [0.],\n",
       "       [0.],\n",
       "       [0.],\n",
       "       [0.],\n",
       "       [0.],\n",
       "       [0.],\n",
       "       [0.],\n",
       "       [0.],\n",
       "       [0.],\n",
       "       [0.],\n",
       "       [0.],\n",
       "       [0.],\n",
       "       [0.],\n",
       "       [0.],\n",
       "       [0.],\n",
       "       [0.],\n",
       "       [0.],\n",
       "       [0.],\n",
       "       [0.],\n",
       "       [0.],\n",
       "       [0.],\n",
       "       [0.],\n",
       "       [0.],\n",
       "       [0.],\n",
       "       [0.],\n",
       "       [0.],\n",
       "       [0.],\n",
       "       [0.],\n",
       "       [0.],\n",
       "       [0.],\n",
       "       [0.],\n",
       "       [0.],\n",
       "       [0.],\n",
       "       [0.],\n",
       "       [0.],\n",
       "       [0.],\n",
       "       [0.],\n",
       "       [0.],\n",
       "       [0.],\n",
       "       [0.],\n",
       "       [0.],\n",
       "       [0.],\n",
       "       [0.],\n",
       "       [0.],\n",
       "       [0.],\n",
       "       [0.],\n",
       "       [0.],\n",
       "       [0.],\n",
       "       [0.],\n",
       "       [0.],\n",
       "       [0.],\n",
       "       [0.],\n",
       "       [0.],\n",
       "       [0.],\n",
       "       [0.],\n",
       "       [0.],\n",
       "       [0.],\n",
       "       [0.],\n",
       "       [0.],\n",
       "       [0.],\n",
       "       [0.],\n",
       "       [0.],\n",
       "       [0.],\n",
       "       [0.],\n",
       "       [0.],\n",
       "       [0.],\n",
       "       [0.],\n",
       "       [0.],\n",
       "       [0.],\n",
       "       [0.],\n",
       "       [0.],\n",
       "       [0.],\n",
       "       [0.],\n",
       "       [0.],\n",
       "       [0.],\n",
       "       [0.],\n",
       "       [0.],\n",
       "       [0.],\n",
       "       [0.],\n",
       "       [0.],\n",
       "       [0.],\n",
       "       [0.],\n",
       "       [0.],\n",
       "       [0.],\n",
       "       [0.],\n",
       "       [0.],\n",
       "       [0.],\n",
       "       [0.],\n",
       "       [0.],\n",
       "       [0.],\n",
       "       [0.],\n",
       "       [0.],\n",
       "       [0.],\n",
       "       [0.],\n",
       "       [0.],\n",
       "       [0.],\n",
       "       [0.],\n",
       "       [0.],\n",
       "       [0.],\n",
       "       [0.],\n",
       "       [0.],\n",
       "       [0.],\n",
       "       [0.],\n",
       "       [0.],\n",
       "       [0.],\n",
       "       [0.],\n",
       "       [0.],\n",
       "       [0.],\n",
       "       [0.],\n",
       "       [0.],\n",
       "       [0.],\n",
       "       [0.],\n",
       "       [0.],\n",
       "       [0.],\n",
       "       [0.],\n",
       "       [0.],\n",
       "       [0.],\n",
       "       [0.],\n",
       "       [0.],\n",
       "       [0.],\n",
       "       [0.],\n",
       "       [0.],\n",
       "       [0.],\n",
       "       [0.],\n",
       "       [0.],\n",
       "       [0.],\n",
       "       [0.],\n",
       "       [0.],\n",
       "       [0.],\n",
       "       [0.],\n",
       "       [0.],\n",
       "       [0.],\n",
       "       [0.],\n",
       "       [0.],\n",
       "       [0.],\n",
       "       [0.],\n",
       "       [0.],\n",
       "       [0.],\n",
       "       [0.],\n",
       "       [0.],\n",
       "       [0.],\n",
       "       [0.],\n",
       "       [0.],\n",
       "       [0.],\n",
       "       [0.],\n",
       "       [0.],\n",
       "       [0.],\n",
       "       [0.],\n",
       "       [0.],\n",
       "       [0.],\n",
       "       [0.],\n",
       "       [0.],\n",
       "       [0.],\n",
       "       [0.],\n",
       "       [0.],\n",
       "       [0.],\n",
       "       [0.],\n",
       "       [0.],\n",
       "       [0.],\n",
       "       [0.],\n",
       "       [0.],\n",
       "       [0.],\n",
       "       [0.],\n",
       "       [0.],\n",
       "       [0.],\n",
       "       [0.],\n",
       "       [0.],\n",
       "       [0.],\n",
       "       [0.],\n",
       "       [0.],\n",
       "       [0.],\n",
       "       [0.],\n",
       "       [0.],\n",
       "       [0.],\n",
       "       [0.],\n",
       "       [0.],\n",
       "       [0.],\n",
       "       [0.],\n",
       "       [0.],\n",
       "       [0.],\n",
       "       [0.],\n",
       "       [0.],\n",
       "       [0.],\n",
       "       [0.],\n",
       "       [0.],\n",
       "       [0.],\n",
       "       [0.],\n",
       "       [0.],\n",
       "       [0.],\n",
       "       [0.],\n",
       "       [0.],\n",
       "       [0.],\n",
       "       [0.],\n",
       "       [0.],\n",
       "       [0.],\n",
       "       [0.],\n",
       "       [0.],\n",
       "       [0.],\n",
       "       [0.],\n",
       "       [0.],\n",
       "       [0.],\n",
       "       [0.],\n",
       "       [0.],\n",
       "       [0.],\n",
       "       [0.],\n",
       "       [0.],\n",
       "       [0.],\n",
       "       [0.],\n",
       "       [0.],\n",
       "       [0.],\n",
       "       [0.],\n",
       "       [0.],\n",
       "       [0.],\n",
       "       [0.],\n",
       "       [0.],\n",
       "       [0.],\n",
       "       [0.],\n",
       "       [0.],\n",
       "       [0.],\n",
       "       [0.],\n",
       "       [0.],\n",
       "       [0.],\n",
       "       [0.],\n",
       "       [0.],\n",
       "       [0.],\n",
       "       [0.],\n",
       "       [0.],\n",
       "       [0.],\n",
       "       [0.],\n",
       "       [0.],\n",
       "       [0.],\n",
       "       [0.],\n",
       "       [0.],\n",
       "       [0.],\n",
       "       [0.],\n",
       "       [0.],\n",
       "       [0.],\n",
       "       [0.],\n",
       "       [0.],\n",
       "       [0.],\n",
       "       [0.],\n",
       "       [0.],\n",
       "       [0.],\n",
       "       [0.],\n",
       "       [0.],\n",
       "       [0.],\n",
       "       [0.],\n",
       "       [0.],\n",
       "       [0.],\n",
       "       [0.],\n",
       "       [0.],\n",
       "       [0.],\n",
       "       [0.],\n",
       "       [0.],\n",
       "       [0.],\n",
       "       [0.],\n",
       "       [0.],\n",
       "       [0.],\n",
       "       [0.],\n",
       "       [0.],\n",
       "       [0.],\n",
       "       [0.],\n",
       "       [0.],\n",
       "       [0.],\n",
       "       [0.],\n",
       "       [0.],\n",
       "       [0.],\n",
       "       [0.],\n",
       "       [0.],\n",
       "       [0.],\n",
       "       [0.],\n",
       "       [0.],\n",
       "       [0.],\n",
       "       [0.],\n",
       "       [0.],\n",
       "       [0.],\n",
       "       [0.],\n",
       "       [0.],\n",
       "       [0.],\n",
       "       [0.],\n",
       "       [0.],\n",
       "       [0.],\n",
       "       [0.],\n",
       "       [0.],\n",
       "       [0.],\n",
       "       [0.],\n",
       "       [0.],\n",
       "       [0.],\n",
       "       [0.],\n",
       "       [0.],\n",
       "       [0.],\n",
       "       [0.],\n",
       "       [0.],\n",
       "       [0.],\n",
       "       [0.],\n",
       "       [0.],\n",
       "       [0.],\n",
       "       [0.],\n",
       "       [0.],\n",
       "       [0.],\n",
       "       [0.],\n",
       "       [0.],\n",
       "       [0.],\n",
       "       [0.],\n",
       "       [0.],\n",
       "       [0.],\n",
       "       [0.],\n",
       "       [0.],\n",
       "       [0.],\n",
       "       [0.],\n",
       "       [0.],\n",
       "       [0.],\n",
       "       [0.],\n",
       "       [0.],\n",
       "       [0.],\n",
       "       [0.],\n",
       "       [0.],\n",
       "       [0.],\n",
       "       [0.],\n",
       "       [0.],\n",
       "       [0.],\n",
       "       [0.],\n",
       "       [0.],\n",
       "       [0.],\n",
       "       [0.],\n",
       "       [0.],\n",
       "       [0.],\n",
       "       [0.],\n",
       "       [0.],\n",
       "       [0.],\n",
       "       [0.],\n",
       "       [0.],\n",
       "       [0.],\n",
       "       [0.],\n",
       "       [0.],\n",
       "       [0.],\n",
       "       [0.],\n",
       "       [0.],\n",
       "       [0.],\n",
       "       [0.],\n",
       "       [0.],\n",
       "       [0.],\n",
       "       [0.],\n",
       "       [0.],\n",
       "       [0.],\n",
       "       [0.],\n",
       "       [0.],\n",
       "       [0.],\n",
       "       [0.],\n",
       "       [0.],\n",
       "       [0.],\n",
       "       [0.],\n",
       "       [0.],\n",
       "       [0.],\n",
       "       [0.],\n",
       "       [0.],\n",
       "       [0.],\n",
       "       [0.],\n",
       "       [0.],\n",
       "       [0.],\n",
       "       [0.],\n",
       "       [0.],\n",
       "       [0.],\n",
       "       [0.],\n",
       "       [0.],\n",
       "       [0.],\n",
       "       [0.],\n",
       "       [0.],\n",
       "       [0.],\n",
       "       [0.],\n",
       "       [0.],\n",
       "       [0.],\n",
       "       [0.],\n",
       "       [0.],\n",
       "       [0.],\n",
       "       [0.],\n",
       "       [0.],\n",
       "       [0.],\n",
       "       [0.],\n",
       "       [0.],\n",
       "       [0.],\n",
       "       [0.],\n",
       "       [0.],\n",
       "       [0.],\n",
       "       [0.],\n",
       "       [0.],\n",
       "       [0.],\n",
       "       [0.],\n",
       "       [0.],\n",
       "       [0.],\n",
       "       [0.],\n",
       "       [0.],\n",
       "       [0.],\n",
       "       [0.],\n",
       "       [0.],\n",
       "       [0.],\n",
       "       [0.],\n",
       "       [0.],\n",
       "       [0.],\n",
       "       [0.],\n",
       "       [0.],\n",
       "       [0.],\n",
       "       [0.],\n",
       "       [0.],\n",
       "       [0.],\n",
       "       [0.],\n",
       "       [0.],\n",
       "       [0.],\n",
       "       [0.],\n",
       "       [0.],\n",
       "       [0.],\n",
       "       [0.],\n",
       "       [0.],\n",
       "       [0.],\n",
       "       [0.],\n",
       "       [0.],\n",
       "       [0.],\n",
       "       [0.],\n",
       "       [0.],\n",
       "       [0.],\n",
       "       [0.],\n",
       "       [0.],\n",
       "       [0.],\n",
       "       [0.],\n",
       "       [0.],\n",
       "       [0.],\n",
       "       [0.],\n",
       "       [0.],\n",
       "       [0.],\n",
       "       [0.],\n",
       "       [0.],\n",
       "       [0.],\n",
       "       [0.],\n",
       "       [0.],\n",
       "       [0.],\n",
       "       [0.],\n",
       "       [0.],\n",
       "       [0.],\n",
       "       [0.],\n",
       "       [0.],\n",
       "       [0.],\n",
       "       [0.],\n",
       "       [0.],\n",
       "       [0.],\n",
       "       [0.],\n",
       "       [0.],\n",
       "       [0.],\n",
       "       [0.],\n",
       "       [0.],\n",
       "       [0.],\n",
       "       [0.],\n",
       "       [0.],\n",
       "       [0.],\n",
       "       [0.],\n",
       "       [0.],\n",
       "       [0.],\n",
       "       [0.],\n",
       "       [0.],\n",
       "       [0.],\n",
       "       [0.],\n",
       "       [0.],\n",
       "       [0.],\n",
       "       [0.],\n",
       "       [0.],\n",
       "       [0.],\n",
       "       [0.],\n",
       "       [0.],\n",
       "       [0.],\n",
       "       [0.],\n",
       "       [0.],\n",
       "       [0.],\n",
       "       [0.],\n",
       "       [0.],\n",
       "       [0.],\n",
       "       [0.],\n",
       "       [0.],\n",
       "       [0.],\n",
       "       [0.],\n",
       "       [0.],\n",
       "       [0.],\n",
       "       [0.],\n",
       "       [0.],\n",
       "       [0.],\n",
       "       [0.],\n",
       "       [0.],\n",
       "       [0.],\n",
       "       [0.],\n",
       "       [0.],\n",
       "       [0.],\n",
       "       [0.],\n",
       "       [0.],\n",
       "       [0.],\n",
       "       [0.],\n",
       "       [0.],\n",
       "       [0.],\n",
       "       [0.],\n",
       "       [0.],\n",
       "       [0.],\n",
       "       [0.],\n",
       "       [0.],\n",
       "       [0.],\n",
       "       [0.],\n",
       "       [0.],\n",
       "       [0.],\n",
       "       [0.],\n",
       "       [0.],\n",
       "       [0.],\n",
       "       [0.],\n",
       "       [0.],\n",
       "       [0.],\n",
       "       [0.],\n",
       "       [0.],\n",
       "       [0.],\n",
       "       [0.],\n",
       "       [0.],\n",
       "       [0.],\n",
       "       [0.],\n",
       "       [0.],\n",
       "       [0.],\n",
       "       [0.],\n",
       "       [0.],\n",
       "       [0.],\n",
       "       [0.],\n",
       "       [0.],\n",
       "       [0.],\n",
       "       [0.],\n",
       "       [0.],\n",
       "       [0.],\n",
       "       [0.],\n",
       "       [0.],\n",
       "       [0.],\n",
       "       [0.],\n",
       "       [0.],\n",
       "       [0.],\n",
       "       [0.],\n",
       "       [0.],\n",
       "       [0.],\n",
       "       [0.],\n",
       "       [0.],\n",
       "       [0.],\n",
       "       [0.],\n",
       "       [0.]], dtype=float32)"
      ]
     },
     "execution_count": 48,
     "metadata": {},
     "output_type": "execute_result"
    }
   ],
   "source": [
    "diff_pre = pre0-pre\n",
    "diff_pre"
   ]
  },
  {
   "cell_type": "code",
   "execution_count": 49,
   "metadata": {
    "ExecuteTime": {
     "end_time": "2022-05-18T13:07:12.071953Z",
     "start_time": "2022-05-18T13:07:12.065970Z"
    }
   },
   "outputs": [],
   "source": [
    "small = 0.0001\n",
    "if np.max(np.abs(pre0 - pre)) > small:\n",
    "    different = True\n",
    "else:\n",
    "    different = False"
   ]
  },
  {
   "cell_type": "code",
   "execution_count": 50,
   "metadata": {
    "ExecuteTime": {
     "end_time": "2022-05-18T13:07:14.905372Z",
     "start_time": "2022-05-18T13:07:14.897357Z"
    },
    "scrolled": false
   },
   "outputs": [],
   "source": [
    "if different:\n",
    "    b, err = pre_ana(pre, label_test)\n",
    "    fout = open(path_fitinfo, 'a')\n",
    "    print(\"Prediction(Saved model):\")\n",
    "    print(\"\\nPrediction(Saved model):\", file=fout)\n",
    "    for key in b.keys():\n",
    "        print(f\"  {key:<20}: {b[key]:>11.7f}  VS  {a[key]:>11.7f}  diff= {(b[key]-a[key]):>11.7f}\")\n",
    "        print(f\"  {key:<20}: {b[key]:>11.7f}  VS  {a[key]:>11.7f}  diff= {(b[key]-a[key]):>11.7f}\", file=fout)\n",
    "    fout.close()"
   ]
  },
  {
   "cell_type": "markdown",
   "metadata": {},
   "source": [
    "## 将本来值、预测值输出到文件中"
   ]
  },
  {
   "cell_type": "code",
   "execution_count": 51,
   "metadata": {
    "ExecuteTime": {
     "end_time": "2022-05-18T13:07:18.278619Z",
     "start_time": "2022-05-18T13:07:18.268676Z"
    }
   },
   "outputs": [],
   "source": [
    "file_pre_txt =  model_pre_time + '_pre.txt'\n",
    "path_pre_txt = os.path.join(path_pre,file_pre_txt)"
   ]
  },
  {
   "cell_type": "code",
   "execution_count": 52,
   "metadata": {
    "ExecuteTime": {
     "end_time": "2022-05-18T13:07:20.366933Z",
     "start_time": "2022-05-18T13:07:20.347949Z"
    }
   },
   "outputs": [
    {
     "name": "stdout",
     "output_type": "stream",
     "text": [
      "  No. Label Pre_best     Diff      Error Pre_saved Pre_diff\n"
     ]
    }
   ],
   "source": [
    "fout = open(path_pre_txt,'w')\n",
    "str_no = 'No.'\n",
    "str_lab = 'Label'\n",
    "str_pre = 'Pre_best'\n",
    "str_diff = 'Diff'\n",
    "str_err = 'Error'\n",
    "str_pre2 = 'Pre_saved'\n",
    "str_pre_diff = 'Pre_diff'\n",
    "print(f\"{str_no:>5} {str_lab:>5} {str_pre:>8} {str_diff:>8} {str_err:>10} {str_pre2:>8} {str_pre_diff:>8}\")\n",
    "print(f\"{str_no:>5} {str_lab:>5} {str_pre:>8} {str_diff:>8} {str_err:>10} {str_pre2:>8} {str_pre_diff:>8}\", file=fout)"
   ]
  },
  {
   "cell_type": "code",
   "execution_count": 53,
   "metadata": {
    "ExecuteTime": {
     "end_time": "2022-05-18T13:07:22.900886Z",
     "start_time": "2022-05-18T13:07:22.838016Z"
    }
   },
   "outputs": [
    {
     "name": "stdout",
     "output_type": "stream",
     "text": [
      "    1   2.9   2.8601   0.0081   2.834E-03   2.8601   0.0000\n",
      "    2   2.9   2.8733   0.0123   4.291E-03   2.8733   0.0000\n",
      "    3   2.8   2.8181   0.0081   2.883E-03   2.8181   0.0000\n",
      "    4   2.8   2.8642   0.0172   6.043E-03   2.8642   0.0000\n",
      "    5   2.8   2.7746   0.0066   2.377E-03   2.7746   0.0000\n",
      "    6   2.9   2.9410   0.0070   2.378E-03   2.9410   0.0000\n",
      "    7   2.9   2.9289   0.0029   1.006E-03   2.9289   0.0000\n",
      "    8   3.0   2.9579  -0.0031  -1.053E-03   2.9579   0.0000\n",
      "    9   3.0   2.9712  -0.0228  -7.618E-03   2.9712   0.0000\n",
      "   10   2.9   2.8544   0.0034   1.188E-03   2.8544   0.0000\n",
      "   11   2.9   2.8615   0.0115   4.052E-03   2.8615   0.0000\n",
      "   12   3.1   3.0791   0.0181   5.918E-03   3.0791   0.0000\n",
      "   13   2.9   2.8976   0.0036   1.251E-03   2.8976   0.0000\n",
      "   14   2.8   2.7862   0.0092   3.328E-03   2.7862   0.0000\n",
      "   15   3.0   2.9465  -0.0305  -1.023E-02   2.9465   0.0000\n",
      "   16   2.9   2.8952   0.0072   2.506E-03   2.8952   0.0000\n",
      "   17   2.9   2.8944   0.0124   4.312E-03   2.8944   0.0000\n",
      "   18   3.0   2.9198  -0.0672  -2.248E-02   2.9198   0.0000\n",
      "   19   2.8   2.8202  -0.0108  -3.803E-03   2.8202   0.0000\n",
      "   20   2.9   2.9203   0.0163   5.628E-03   2.9203   0.0000\n",
      "   21   2.9   2.8577  -0.0463  -1.596E-02   2.8577   0.0000\n",
      "   22   2.8   2.8375  -0.0055  -1.946E-03   2.8375   0.0000\n",
      "   23   2.8   2.8351   0.0051   1.807E-03   2.8351   0.0000\n",
      "   24   2.9   2.8713  -0.0277  -9.549E-03   2.8713   0.0000\n",
      "   25   2.9   2.9395   0.0035   1.189E-03   2.9395   0.0000\n",
      "   26   2.9   2.9168   0.0108   3.728E-03   2.9168   0.0000\n",
      "   27   2.9   2.8774  -0.0006  -2.252E-04   2.8774   0.0000\n",
      "   28   3.0   2.9613  -0.0057  -1.931E-03   2.9613   0.0000\n",
      "   29   2.9   2.9016   0.0036   1.255E-03   2.9016   0.0000\n",
      "   30   2.9   2.8806  -0.0074  -2.562E-03   2.8806   0.0000\n",
      "   31   3.0   2.9465  -0.0285  -9.578E-03   2.9465   0.0000\n",
      "   32   2.8   2.8368  -0.0042  -1.471E-03   2.8368   0.0000\n",
      "   33   2.9   2.9013   0.0123   4.262E-03   2.9013   0.0000\n",
      "   34   2.9   2.9066  -0.0104  -3.562E-03   2.9066   0.0000\n",
      "   35   2.9   2.8703  -0.0007  -2.478E-04   2.8703   0.0000\n",
      "   36   3.0   3.0297   0.0177   5.864E-03   3.0297   0.0000\n",
      "   37   2.9   2.8925   0.0125   4.328E-03   2.8925   0.0000\n",
      "   38   2.8   2.8477   0.0047   1.647E-03   2.8477   0.0000\n",
      "   39   2.8   2.8046  -0.0074  -2.626E-03   2.8046   0.0000\n",
      "   40   2.9   2.8934   0.0164   5.686E-03   2.8934   0.0000\n",
      "   41   3.0   2.9753   0.0253   8.565E-03   2.9753   0.0000\n",
      "   42   2.9   2.8934  -0.0036  -1.235E-03   2.8934   0.0000\n",
      "   43   2.9   2.8355  -0.0335  -1.169E-02   2.8355   0.0000\n",
      "   44   2.9   2.8890   0.0100   3.464E-03   2.8890   0.0000\n",
      "   45   2.8   2.8194  -0.0096  -3.394E-03   2.8194   0.0000\n",
      "   46   2.9   2.9167   0.0167   5.755E-03   2.9167   0.0000\n",
      "   47   2.9   2.9241   0.0611   2.135E-02   2.9241   0.0000\n",
      "   48   2.9   2.8758   0.0068   2.386E-03   2.8758   0.0000\n",
      "   49   2.9   2.8884   0.0084   2.931E-03   2.8884   0.0000\n",
      "   50   2.9   2.8793  -0.0037  -1.269E-03   2.8793   0.0000\n",
      "   51   2.7   2.7679   0.0409   1.498E-02   2.7679   0.0000\n",
      "   52   2.8   2.8404   0.0684   2.467E-02   2.8404   0.0000\n",
      "   53   2.8   2.8635   0.0285   1.006E-02   2.8635   0.0000\n",
      "   54   2.9   2.8807   0.0137   4.783E-03   2.8807   0.0000\n",
      "   55   2.9   2.9059  -0.0111  -3.797E-03   2.9059   0.0000\n",
      "   56   2.9   2.9054  -0.0056  -1.907E-03   2.9054   0.0000\n",
      "   57   2.8   2.8267   0.0007   2.511E-04   2.8267   0.0000\n",
      "   58   2.8   2.7735  -0.0375  -1.335E-02   2.7735   0.0000\n",
      "   59   2.8   2.8645   0.0435   1.543E-02   2.8645   0.0000\n",
      "   60   2.9   2.8731   0.0021   7.448E-04   2.8731   0.0000\n",
      "   61   2.9   2.9361   0.0051   1.728E-03   2.9361   0.0000\n",
      "   62   3.0   2.9552  -0.0268  -8.984E-03   2.9552   0.0000\n",
      "   63   2.8   2.8018  -0.0212  -7.522E-03   2.8018   0.0000\n",
      "   64   2.7   2.8317   0.1137   4.185E-02   2.8317   0.0000\n",
      "   65   2.8   2.8374   0.0034   1.194E-03   2.8374   0.0000\n",
      "   66   2.8   2.8486   0.0036   1.271E-03   2.8486   0.0000\n",
      "   67   2.8   2.8078   0.0118   4.219E-03   2.8078   0.0000\n",
      "   68   2.9   2.8539  -0.0031  -1.074E-03   2.8539   0.0000\n",
      "   69   2.9   2.9188   0.0298   1.033E-02   2.9188   0.0000\n",
      "   70   2.9   2.8744   0.0114   3.990E-03   2.8744   0.0000\n",
      "   71   2.9   2.8846   0.0146   5.095E-03   2.8846   0.0000\n",
      "   72   2.8   2.8069  -0.0071  -2.525E-03   2.8069   0.0000\n",
      "   73   2.9   2.9358   0.0108   3.692E-03   2.9358   0.0000\n",
      "   74   2.9   2.9261   0.0041   1.388E-03   2.9261   0.0000\n",
      "   75   2.9   2.9031  -0.0049  -1.670E-03   2.9031   0.0000\n",
      "   76   3.0   3.0000  -0.0230  -7.622E-03   3.0000   0.0000\n",
      "   77   2.9   2.8732  -0.0458  -1.570E-02   2.8732   0.0000\n",
      "   78   2.9   2.9170   0.0200   6.901E-03   2.9170   0.0000\n",
      "   79   2.9   2.9118   0.0218   7.527E-03   2.9118   0.0000\n",
      "   80   2.8   2.8172   0.0092   3.274E-03   2.8172   0.0000\n",
      "   81   2.8   2.8438   0.0068   2.413E-03   2.8438   0.0000\n",
      "   82   2.9   2.8287  -0.0383  -1.335E-02   2.8287   0.0000\n",
      "   83   2.6   2.7839   0.1769   6.786E-02   2.7839   0.0000\n",
      "   84   2.8   2.8020   0.0040   1.442E-03   2.8020   0.0000\n",
      "   85   2.9   2.8647   0.0037   1.291E-03   2.8647   0.0000\n",
      "   86   3.0   2.9902   0.0202   6.816E-03   2.9902   0.0000\n",
      "   87   2.8   2.8026   0.0096   3.445E-03   2.8026   0.0000\n",
      "   88   3.0   2.9933  -0.0217  -7.192E-03   2.9933   0.0000\n",
      "   89   2.9   2.8389  -0.0361  -1.255E-02   2.8389   0.0000\n",
      "   90   3.0   2.9510  -0.0100  -3.393E-03   2.9510   0.0000\n",
      "   91   2.8   2.7855   0.0235   8.507E-03   2.7855   0.0000\n",
      "   92   2.9   2.9601   0.0211   7.195E-03   2.9601   0.0000\n",
      "   93   2.9   2.8814   0.0054   1.873E-03   2.8814   0.0000\n",
      "   94   2.9   2.8677   0.0007   2.528E-04   2.8677   0.0000\n",
      "   95   2.8   2.8214   0.0054   1.928E-03   2.8214   0.0000\n",
      "   96   2.7   2.7182   0.0242   8.999E-03   2.7182   0.0000\n",
      "   97   2.8   2.8191   0.0091   3.236E-03   2.8191   0.0000\n",
      "   98   2.9   2.8955   0.0075   2.609E-03   2.8955   0.0000\n",
      "   99   2.9   2.8543   0.0013   4.697E-04   2.8543   0.0000\n",
      "  100   2.9   2.8713   0.0163   5.707E-03   2.8713   0.0000\n",
      "  101   3.1   3.0497  -0.0063  -2.077E-03   3.0497   0.0000\n",
      "  102   2.8   2.8434   0.0064   2.257E-03   2.8434   0.0000\n",
      "  103   2.8   2.8451   0.0071   2.501E-03   2.8451   0.0000\n",
      "  104   2.9   2.9829   0.0489   1.667E-02   2.9829   0.0000\n",
      "  105   2.9   2.9183   0.0063   2.150E-03   2.9183   0.0000\n",
      "  106   3.0   2.9550  -0.0600  -1.989E-02   2.9550   0.0000\n",
      "  107   2.9   2.9174   0.0014   4.734E-04   2.9174   0.0000\n",
      "  108   2.9   2.8882   0.0312   1.092E-02   2.8882   0.0000\n",
      "  109   2.9   2.8361  -0.0469  -1.627E-02   2.8361   0.0000\n",
      "  110   2.8   2.8699   0.0229   8.045E-03   2.8699   0.0000\n",
      "  111   2.8   2.8021  -0.0209  -7.400E-03   2.8021   0.0000\n",
      "  112   2.9   2.8628  -0.0102  -3.565E-03   2.8628   0.0000\n",
      "  113   2.8   2.8044   0.0014   4.819E-04   2.8044   0.0000\n",
      "  114   2.8   2.8191   0.0291   1.043E-02   2.8191   0.0000\n",
      "  115   2.9   2.8832   0.0042   1.449E-03   2.8832   0.0000\n",
      "  116   2.8   2.7934   0.0144   5.165E-03   2.7934   0.0000\n",
      "  117   2.8   2.8272   0.0022   7.652E-04   2.8272   0.0000\n",
      "  118   2.9   2.9716   0.0356   1.214E-02   2.9716   0.0000\n",
      "  119   2.9   2.9086   0.0146   5.028E-03   2.9086   0.0000\n",
      "  120   2.9   2.8404  -0.0586  -2.021E-02   2.8404   0.0000\n",
      "  121   2.9   2.9201   0.0121   4.172E-03   2.9201   0.0000\n",
      "  122   2.9   2.8851   0.0071   2.474E-03   2.8851   0.0000\n",
      "  123   2.8   2.8244   0.0044   1.561E-03   2.8244   0.0000\n",
      "  124   2.9   2.8567   0.0047   1.652E-03   2.8567   0.0000\n",
      "  125   2.8   2.8027   0.0077   2.769E-03   2.8027   0.0000\n",
      "  126   2.9   2.9274   0.0064   2.185E-03   2.9274   0.0000\n",
      "  127   2.9   2.8621  -0.0289  -9.999E-03   2.8621   0.0000\n",
      "  128   2.9   2.9582   0.0292   9.982E-03   2.9582   0.0000\n",
      "  129   2.9   2.9038   0.0168   5.813E-03   2.9038   0.0000\n",
      "  130   2.8   2.7798  -0.0122  -4.376E-03   2.7798   0.0000\n",
      "  131   2.9   2.9342   0.0062   2.134E-03   2.9342   0.0000\n",
      "  132   2.9   2.8935   0.0185   6.436E-03   2.8935   0.0000\n",
      "  133   2.8   2.7815  -0.0125  -4.458E-03   2.7815   0.0000\n",
      "  134   2.9   2.8913   0.0083   2.866E-03   2.8913   0.0000\n",
      "  135   2.9   2.8492  -0.0058  -2.029E-03   2.8492   0.0000\n",
      "  136   2.8   2.8515   0.0235   8.314E-03   2.8515   0.0000\n",
      "  137   2.7   2.7379   0.0229   8.439E-03   2.7379   0.0000\n",
      "  138   2.8   2.7984  -0.0156  -5.544E-03   2.7984   0.0000\n",
      "  139   2.8   2.7702  -0.0178  -6.369E-03   2.7702   0.0000\n",
      "  140   2.9   2.9472   0.0042   1.435E-03   2.9472   0.0000\n",
      "  141   2.9   2.8817  -0.0483  -1.650E-02   2.8817   0.0000\n",
      "  142   2.8   2.8028   0.0018   6.567E-04   2.8028   0.0000\n",
      "  143   2.8   2.8591   0.0101   3.538E-03   2.8591   0.0000\n",
      "  144   2.9   2.9543   0.0413   1.417E-02   2.9543   0.0000\n",
      "  145   2.9   2.8792   0.0112   3.905E-03   2.8792   0.0000\n",
      "  146   2.9   2.8980   0.0060   2.077E-03   2.8980   0.0000\n",
      "  147   2.9   2.9252  -0.0068  -2.328E-03   2.9252   0.0000\n",
      "  148   2.9   2.9197   0.0237   8.198E-03   2.9197   0.0000\n",
      "  149   2.9   2.9296   0.0116   3.986E-03   2.9296   0.0000\n",
      "  150   2.9   2.8726   0.0126   4.417E-03   2.8726   0.0000\n",
      "  151   2.9   2.8490  -0.0010  -3.570E-04   2.8490   0.0000\n",
      "  152   2.9   2.8627   0.0047   1.634E-03   2.8627   0.0000\n",
      "  153   2.8   2.8418   0.0028   9.975E-04   2.8418   0.0000\n",
      "  154   2.9   2.9366   0.0366   1.261E-02   2.9366   0.0000\n",
      "  155   2.7   2.7694   0.0364   1.332E-02   2.7694   0.0000\n",
      "  156   3.0   2.9835  -0.0395  -1.307E-02   2.9835   0.0000\n",
      "  157   2.9   2.8592  -0.0638  -2.182E-02   2.8592   0.0000\n",
      "  158   2.9   2.8684  -0.0686  -2.336E-02   2.8684   0.0000\n",
      "  159   3.0   2.9146  -0.0774  -2.585E-02   2.9146   0.0000\n",
      "  160   2.9   2.8614   0.0014   4.798E-04   2.8614   0.0000\n",
      "  161   2.8   2.7884  -0.0036  -1.298E-03   2.7884   0.0000\n",
      "  162   2.9   2.9475   0.0275   9.423E-03   2.9475   0.0000\n",
      "  163   2.9   2.8536  -0.0364  -1.260E-02   2.8536   0.0000\n",
      "  164   2.8   2.8068  -0.0092  -3.265E-03   2.8068   0.0000\n",
      "  165   3.0   2.9997   0.0087   2.901E-03   2.9997   0.0000\n",
      "  166   2.9   2.9006   0.0066   2.286E-03   2.9006   0.0000\n",
      "  167   2.9   2.9219   0.0079   2.711E-03   2.9219   0.0000\n",
      "  168   2.8   2.8578   0.0118   4.146E-03   2.8578   0.0000\n",
      "  169   2.8   2.8455   0.0135   4.760E-03   2.8455   0.0000\n",
      "  170   2.9   2.8987   0.0337   1.176E-02   2.8987   0.0000\n",
      "  171   3.0   2.9893  -0.0477  -1.570E-02   2.9893   0.0000\n",
      "  172   2.9   2.8627   0.0057   1.983E-03   2.8627   0.0000\n",
      "  173   2.9   2.8750   0.0190   6.656E-03   2.8750   0.0000\n",
      "  174   2.9   2.8772   0.0122   4.256E-03   2.8772   0.0000\n",
      "  175   2.8   2.8155  -0.0015  -5.152E-04   2.8155   0.0000\n",
      "  176   2.9   2.8767   0.0177   6.174E-03   2.8767   0.0000\n",
      "  177   2.9   2.8872  -0.0148  -5.095E-03   2.8872   0.0000\n",
      "  178   2.9   2.9457   0.0047   1.608E-03   2.9457   0.0000\n",
      "  179   2.8   2.8847   0.0597   2.112E-02   2.8847   0.0000\n",
      "  180   2.9   2.9303   0.0123   4.232E-03   2.9303   0.0000\n",
      "  181   2.9   2.9172   0.0122   4.216E-03   2.9172   0.0000\n",
      "  182   2.9   2.9251   0.0141   4.839E-03   2.9251   0.0000\n",
      "  183   2.9   2.9040   0.0130   4.481E-03   2.9040   0.0000\n",
      "  184   2.8   2.8984   0.0564   1.984E-02   2.8984   0.0000\n",
      "  185   2.8   2.8073   0.0063   2.257E-03   2.8073   0.0000\n",
      "  186   2.8   2.8206   0.0136   4.829E-03   2.8206   0.0000\n",
      "  187   2.9   2.9171   0.0011   3.751E-04   2.9171   0.0000\n",
      "  188   2.8   2.8171   0.0001   4.542E-05   2.8171   0.0000\n",
      "  189   2.9   2.8612  -0.0078  -2.712E-03   2.8612   0.0000\n",
      "  190   3.0   3.0029  -0.0331  -1.090E-02   3.0029   0.0000\n",
      "  191   3.0   2.9912   0.0002   5.442E-05   2.9912   0.0000\n",
      "  192   2.8   2.8219   0.0009   3.363E-04   2.8219   0.0000\n",
      "  193   2.8   2.8167   0.0127   4.531E-03   2.8167   0.0000\n",
      "  194   2.9   2.9150   0.0120   4.125E-03   2.9150   0.0000\n",
      "  195   2.8   2.7959  -0.0181  -6.427E-03   2.7959   0.0000\n",
      "  196   2.9   2.9063   0.0033   1.126E-03   2.9063   0.0000\n",
      "  197   2.9   2.8990   0.0030   1.049E-03   2.8990   0.0000\n",
      "  198   2.8   2.8483   0.0073   2.583E-03   2.8483   0.0000\n",
      "  199   2.9   2.9127   0.0187   6.458E-03   2.9127   0.0000\n",
      "  200   2.9   2.8828   0.0178   6.203E-03   2.8828   0.0000\n",
      "  201   2.8   2.9204   0.1424   5.124E-02   2.9204   0.0000\n",
      "  202   2.8   2.8474   0.0214   7.579E-03   2.8474   0.0000\n",
      "  203   3.0   2.9421  -0.0149  -5.050E-03   2.9421   0.0000\n",
      "  204   2.8   2.8586   0.0136   4.795E-03   2.8586   0.0000\n",
      "  205   2.8   2.8412   0.0092   3.232E-03   2.8412   0.0000\n",
      "  206   2.8   2.8138  -0.0032  -1.132E-03   2.8138   0.0000\n",
      "  207   2.8   2.7954   0.0014   4.835E-04   2.7954   0.0000\n",
      "  208   2.8   2.7593   0.0033   1.201E-03   2.7593   0.0000\n",
      "  209   2.8   2.8814   0.0554   1.961E-02   2.8814   0.0000\n",
      "  210   2.8   2.7908  -0.0022  -8.020E-04   2.7908   0.0000\n",
      "  211   2.9   2.9489   0.0089   3.016E-03   2.9489   0.0000\n",
      "  212   2.8   2.8343   0.0173   6.134E-03   2.8343   0.0000\n",
      "  213   2.9   2.9150  -0.0150  -5.117E-03   2.9150   0.0000\n",
      "  214   2.8   2.8028  -0.0002  -5.666E-05   2.8028   0.0000\n",
      "  215   2.9   2.8903  -0.0367  -1.254E-02   2.8903   0.0000\n",
      "  216   2.7   2.7291   0.0131   4.821E-03   2.7291   0.0000\n",
      "  217   2.7   2.7676   0.0266   9.696E-03   2.7676   0.0000\n",
      "  218   2.8   2.8569   0.0189   6.646E-03   2.8569   0.0000\n",
      "  219   2.9   2.8944   0.0094   3.258E-03   2.8944   0.0000\n",
      "  220   2.9   2.9098   0.0088   3.047E-03   2.9098   0.0000\n",
      "  221   2.8   2.8511   0.0251   8.875E-03   2.8511   0.0000\n",
      "  222   2.7   2.7469  -0.0001  -2.952E-05   2.7469   0.0000\n",
      "  223   2.9   2.8611   0.0031   1.082E-03   2.8611   0.0000\n",
      "  224   2.9   2.9662   0.0172   5.821E-03   2.9662   0.0000\n",
      "  225   3.0   2.9797   0.0207   6.984E-03   2.9797   0.0000\n",
      "  226   2.8   2.8334  -0.0036  -1.267E-03   2.8334   0.0000\n",
      "  227   2.9   2.8963   0.0143   4.975E-03   2.8963   0.0000\n",
      "  228   2.9   2.8712   0.0112   3.902E-03   2.8712   0.0000\n",
      "  229   2.9   2.8865   0.0155   5.408E-03   2.8865   0.0000\n",
      "  230   2.8   2.7492  -0.0008  -3.064E-04   2.7492   0.0000\n",
      "  231   2.8   2.8399  -0.0071  -2.507E-03   2.8399   0.0000\n",
      "  232   2.9   2.8880  -0.0160  -5.501E-03   2.8880   0.0000\n",
      "  233   2.9   2.8629   0.0039   1.373E-03   2.8629   0.0000\n",
      "  234   2.9   2.8658  -0.0372  -1.281E-02   2.8658   0.0000\n",
      "  235   2.8   2.8630   0.0150   5.258E-03   2.8630   0.0000\n",
      "  236   2.9   2.8755  -0.0135  -4.685E-03   2.8755   0.0000\n",
      "  237   2.8   2.7948   0.0188   6.779E-03   2.7948   0.0000\n",
      "  238   3.0   2.9478  -0.0042  -1.413E-03   2.9478   0.0000\n",
      "  239   2.9   2.8718  -0.0032  -1.128E-03   2.8718   0.0000\n",
      "  240   2.9   2.8718  -0.0072  -2.486E-03   2.8718   0.0000\n",
      "  241   2.8   2.8358  -0.0042  -1.494E-03   2.8358   0.0000\n",
      "  242   2.9   2.9441   0.0281   9.653E-03   2.9441   0.0000\n",
      "  243   2.9   2.8710   0.0030   1.041E-03   2.8710   0.0000\n",
      "  244   2.8   2.8276   0.0236   8.411E-03   2.8276   0.0000\n",
      "  245   3.0   2.9684  -0.0076  -2.560E-03   2.9684   0.0000\n",
      "  246   2.7   2.7390   0.0490   1.820E-02   2.7390   0.0000\n",
      "  247   2.8   2.8359   0.0079   2.790E-03   2.8359   0.0000\n",
      "  248   2.9   2.8607  -0.0163  -5.673E-03   2.8607   0.0000\n",
      "  249   2.9   2.8693  -0.0217  -7.523E-03   2.8693   0.0000\n",
      "  250   2.9   2.8568  -0.0142  -4.939E-03   2.8568   0.0000\n",
      "  251   2.9   2.9035   0.0085   2.926E-03   2.9035   0.0000\n",
      "  252   2.9   2.8909   0.0169   5.872E-03   2.8909   0.0000\n",
      "  253   2.8   2.8420   0.0040   1.410E-03   2.8420   0.0000\n",
      "  254   3.0   2.9656  -0.0244  -8.149E-03   2.9656   0.0000\n",
      "  255   2.9   2.9314   0.0104   3.558E-03   2.9314   0.0000\n",
      "  256   3.0   2.9697  -0.0073  -2.439E-03   2.9697   0.0000\n",
      "  257   2.9   2.8807   0.0207   7.233E-03   2.8807   0.0000\n",
      "  258   2.8   2.8575   0.0165   5.797E-03   2.8575   0.0000\n",
      "  259   2.8   2.7800   0.0120   4.333E-03   2.7800   0.0000\n",
      "  260   2.8   2.8476   0.0046   1.611E-03   2.8476   0.0000\n",
      "  261   2.8   2.8477   0.0097   3.412E-03   2.8477   0.0000\n",
      "  262   2.8   2.8223  -0.0067  -2.380E-03   2.8223   0.0000\n",
      "  263   2.7   2.7149  -0.0091  -3.332E-03   2.7149   0.0000\n",
      "  264   2.8   2.8254  -0.0006  -2.201E-04   2.8254   0.0000\n",
      "  265   2.9   2.8782   0.0262   9.170E-03   2.8782   0.0000\n",
      "  266   2.8   2.8410  -0.0070  -2.473E-03   2.8410   0.0000\n",
      "  267   2.9   2.8583   0.0023   8.132E-04   2.8583   0.0000\n",
      "  268   2.9   2.8900   0.0210   7.336E-03   2.8900   0.0000\n",
      "  269   3.0   2.9945  -0.0025  -8.201E-04   2.9945   0.0000\n",
      "  270   2.9   2.9055  -0.0115  -3.927E-03   2.9055   0.0000\n",
      "  271   2.8   2.7639   0.0069   2.509E-03   2.7639   0.0000\n",
      "  272   2.9   2.8687  -0.0023  -7.984E-04   2.8687   0.0000\n",
      "  273   2.6   2.8677   0.2687   1.034E-01   2.8677   0.0000\n",
      "  274   2.9   2.9064   0.0104   3.599E-03   2.9064   0.0000\n",
      "  275   2.9   2.8797  -0.0033  -1.156E-03   2.8797   0.0000\n",
      "  276   2.9   2.8877   0.0207   7.208E-03   2.8877   0.0000\n",
      "  277   2.9   2.9008   0.0168   5.822E-03   2.9008   0.0000\n",
      "  278   2.9   2.8966  -0.0314  -1.073E-02   2.8966   0.0000\n",
      "  279   2.9   2.8911   0.0351   1.228E-02   2.8911   0.0000\n",
      "  280   3.0   2.9028  -0.1122  -3.720E-02   2.9028   0.0000\n",
      "  281   2.8   2.8353   0.0003   9.387E-05   2.8353   0.0000\n",
      "  282   2.9   2.8920   0.0090   3.137E-03   2.8920   0.0000\n",
      "  283   2.8   2.8340   0.0320   1.140E-02   2.8340   0.0000\n",
      "  284   2.9   2.8623   0.0053   1.865E-03   2.8623   0.0000\n",
      "  285   2.8   2.8167   0.0067   2.376E-03   2.8167   0.0000\n",
      "  286   2.8   2.8227  -0.0063  -2.244E-03   2.8227   0.0000\n",
      "  287   2.8   2.8409   0.0069   2.438E-03   2.8409   0.0000\n",
      "  288   2.8   2.8641   0.0191   6.718E-03   2.8641   0.0000\n",
      "  289   2.9   2.8880  -0.0090  -3.090E-03   2.8880   0.0000\n",
      "  290   2.8   2.8203   0.0073   2.599E-03   2.8203   0.0000\n",
      "  291   2.9   2.8894   0.0054   1.878E-03   2.8894   0.0000\n",
      "  292   3.0   2.9362  -0.0838  -2.776E-02   2.9362   0.0000\n",
      "  293   2.9   2.9113   0.0023   7.739E-04   2.9113   0.0000\n",
      "  294   2.9   2.9152  -0.0048  -1.627E-03   2.9152   0.0000\n",
      "  295   2.9   2.8598  -0.0002  -8.698E-05   2.8598   0.0000\n",
      "  296   2.9   2.9156   0.0216   7.465E-03   2.9156   0.0000\n",
      "  297   2.9   2.9105   0.0145   5.010E-03   2.9105   0.0000\n",
      "  298   2.9   2.8775   0.0075   2.620E-03   2.8775   0.0000\n",
      "  299   2.8   2.7996   0.0296   1.067E-02   2.7996   0.0000\n",
      "  300   2.9   2.8576   0.0036   1.255E-03   2.8576   0.0000\n",
      "  301   2.7   2.7546   0.0406   1.497E-02   2.7546   0.0000\n",
      "  302   2.9   2.8768   0.0158   5.521E-03   2.8768   0.0000\n",
      "  303   2.8   2.7927  -0.0003  -1.088E-04   2.7927   0.0000\n",
      "  304   2.9   2.8379  -0.0231  -8.073E-03   2.8379   0.0000\n",
      "  305   2.9   2.9376   0.0136   4.638E-03   2.9376   0.0000\n",
      "  306   3.0   2.9179  -0.0521  -1.754E-02   2.9179   0.0000\n",
      "  307   2.9   2.9178   0.0028   9.773E-04   2.9178   0.0000\n",
      "  308   2.8   2.7782  -0.0278  -9.911E-03   2.7782   0.0000\n",
      "  309   2.9   2.8987   0.0257   8.952E-03   2.8987   0.0000\n",
      "  310   2.9   2.8960   0.0130   4.516E-03   2.8960   0.0000\n",
      "  311   2.8   2.8499   0.0499   1.783E-02   2.8499   0.0000\n",
      "  312   3.0   2.9887   0.0217   7.325E-03   2.9887   0.0000\n",
      "  313   2.9   2.9132   0.0152   5.258E-03   2.9132   0.0000\n",
      "  314   2.9   2.9629   0.0219   7.453E-03   2.9629   0.0000\n",
      "  315   2.9   2.8368  -0.0192  -6.717E-03   2.8368   0.0000\n",
      "  316   2.8   2.8392   0.0022   7.786E-04   2.8392   0.0000\n",
      "  317   2.9   2.8803   0.0063   2.182E-03   2.8803   0.0000\n",
      "  318   2.8   2.8517   0.0117   4.124E-03   2.8517   0.0000\n",
      "  319   2.8   2.8457   0.0077   2.723E-03   2.8457   0.0000\n",
      "  320   2.8   2.8560   0.0130   4.588E-03   2.8560   0.0000\n",
      "  321   2.9   2.9102   0.0082   2.842E-03   2.9102   0.0000\n",
      "  322   2.8   2.8117  -0.0073  -2.606E-03   2.8117   0.0000\n",
      "  323   2.9   2.8749   0.0029   1.017E-03   2.8749   0.0000\n",
      "  324   3.0   2.8921  -0.0929  -3.111E-02   2.8921   0.0000\n",
      "  325   2.9   2.9753   0.0443   1.513E-02   2.9753   0.0000\n",
      "  326   2.8   2.8427   0.0007   2.402E-04   2.8427   0.0000\n",
      "  327   2.9   2.8807  -0.0003  -1.069E-04   2.8807   0.0000\n",
      "  328   2.9   2.9260   0.0100   3.423E-03   2.9260   0.0000\n",
      "  329   2.9   2.9118   0.0078   2.688E-03   2.9118   0.0000\n",
      "  330   2.9   2.9073   0.0053   1.823E-03   2.9073   0.0000\n",
      "  331   2.8   2.8345   0.0035   1.235E-03   2.8345   0.0000\n",
      "  332   2.7   2.7908   0.0618   2.263E-02   2.7908   0.0000\n",
      "  333   2.9   2.9632   0.0312   1.063E-02   2.9632   0.0000\n",
      "  334   2.9   2.9230   0.0090   3.094E-03   2.9230   0.0000\n",
      "  335   2.8   2.8586   0.0096   3.356E-03   2.8586   0.0000\n",
      "  336   2.9   2.8925   0.0075   2.585E-03   2.8925   0.0000\n",
      "  337   2.9   2.9382   0.0172   5.877E-03   2.9382   0.0000\n",
      "  338   3.0   2.9502  -0.0078  -2.633E-03   2.9502   0.0000\n",
      "  339   2.8   2.8422   0.0062   2.187E-03   2.8422   0.0000\n",
      "  340   2.9   2.8506  -0.0004  -1.549E-04   2.8506   0.0000\n",
      "  341   2.9   2.9005  -0.0025  -8.455E-04   2.9005   0.0000\n",
      "  342   2.8   2.8218   0.0028   9.957E-04   2.8218   0.0000\n",
      "  343   2.9   2.9163   0.0223   7.700E-03   2.9163   0.0000\n",
      "  344   2.9   2.9122   0.0252   8.731E-03   2.9122   0.0000\n",
      "  345   2.9   2.8603   0.0043   1.508E-03   2.8603   0.0000\n",
      "  346   2.9   2.8785  -0.0065  -2.245E-03   2.8785   0.0000\n",
      "  347   2.9   2.8648   0.0018   6.305E-04   2.8648   0.0000\n",
      "  348   2.9   2.8815   0.0035   1.223E-03   2.8815   0.0000\n",
      "  349   2.9   2.8844   0.0114   3.963E-03   2.8844   0.0000\n",
      "  350   2.9   2.9155  -0.0125  -4.284E-03   2.9155   0.0000\n",
      "  351   2.9   2.8886   0.0076   2.628E-03   2.8886   0.0000\n",
      "  352   2.9   2.8961   0.0261   9.110E-03   2.8961   0.0000\n",
      "  353   2.8   2.8081   0.0011   4.035E-04   2.8081   0.0000\n",
      "  354   2.9   2.8604   0.0024   8.546E-04   2.8604   0.0000\n",
      "  355   2.8   2.7672  -0.0068  -2.445E-03   2.7672   0.0000\n",
      "  356   2.8   2.8498   0.0258   9.141E-03   2.8498   0.0000\n",
      "  357   2.8   2.8180   0.0000   1.027E-05   2.8180   0.0000\n",
      "  358   2.9   2.9550   0.0090   3.063E-03   2.9550   0.0000\n",
      "  359   2.8   2.8558   0.0168   5.905E-03   2.8558   0.0000\n",
      "  360   2.9   2.8664   0.0154   5.395E-03   2.8664   0.0000\n",
      "  361   2.9   2.9015  -0.0115  -3.952E-03   2.9015   0.0000\n",
      "  362   2.9   2.8722  -0.0238  -8.228E-03   2.8722   0.0000\n",
      "  363   2.7   2.7235   0.0315   1.170E-02   2.7235   0.0000\n",
      "  364   2.8   2.8310   0.0090   3.191E-03   2.8310   0.0000\n",
      "  365   2.8   2.8321  -0.0019  -6.848E-04   2.8321   0.0000\n",
      "  366   2.9   2.9404   0.0174   5.944E-03   2.9404   0.0000\n",
      "  367   2.9   2.9194   0.0014   4.663E-04   2.9194   0.0000\n",
      "  368   2.9   2.8730   0.0050   1.759E-03   2.8730   0.0000\n",
      "  369   2.8   2.8050  -0.0120  -4.245E-03   2.8050   0.0000\n",
      "  370   2.9   2.9546   0.0126   4.275E-03   2.9546   0.0000\n",
      "  371   2.9   2.9135  -0.0275  -9.361E-03   2.9135   0.0000\n",
      "  372   3.0   2.9558   0.0058   1.951E-03   2.9558   0.0000\n",
      "  373   2.9   2.9180   0.0640   2.243E-02   2.9180   0.0000\n",
      "  374   2.9   2.8679   0.0109   3.810E-03   2.8679   0.0000\n",
      "  375   2.9   2.9000   0.0200   6.938E-03   2.9000   0.0000\n",
      "  376   2.8   2.7993  -0.0187  -6.649E-03   2.7993   0.0000\n",
      "  377   2.8   2.8146   0.0046   1.645E-03   2.8146   0.0000\n",
      "  378   2.8   2.8065   0.0105   3.749E-03   2.8065   0.0000\n",
      "  379   2.9   2.9530   0.0560   1.931E-02   2.9530   0.0000\n",
      "  380   2.6   2.8039   0.1809   6.896E-02   2.8039   0.0000\n",
      "  381   2.8   2.7931   0.0071   2.547E-03   2.7931   0.0000\n",
      "  382   2.9   2.8832   0.0192   6.698E-03   2.8832   0.0000\n",
      "  383   2.9   2.8693   0.0013   4.684E-04   2.8693   0.0000\n",
      "  384   2.8   2.8294   0.0224   7.987E-03   2.8294   0.0000\n",
      "  385   2.9   2.8831   0.0151   5.273E-03   2.8831   0.0000\n",
      "  386   2.9   2.8792   0.0202   7.058E-03   2.8792   0.0000\n",
      "  387   2.8   2.8428   0.0118   4.182E-03   2.8428   0.0000\n",
      "  388   2.8   2.8226   0.0056   1.982E-03   2.8226   0.0000\n",
      "  389   2.9   2.8935   0.0105   3.647E-03   2.8935   0.0000\n",
      "  390   2.9   2.8819   0.0139   4.832E-03   2.8819   0.0000\n",
      "  391   2.8   2.8068   0.0148   5.293E-03   2.8068   0.0000\n",
      "  392   2.9   2.8595   0.0035   1.208E-03   2.8595   0.0000\n",
      "  393   2.8   2.8045  -0.0085  -3.031E-03   2.8045   0.0000\n",
      "  394   2.8   2.7905  -0.0035  -1.246E-03   2.7905   0.0000\n",
      "  395   2.9   2.8610   0.0070   2.437E-03   2.8610   0.0000\n",
      "  396   2.9   2.8843   0.0113   3.933E-03   2.8843   0.0000\n",
      "  397   2.8   2.8605   0.0125   4.373E-03   2.8605   0.0000\n",
      "  398   2.9   2.8979  -0.0221  -7.562E-03   2.8979   0.0000\n",
      "  399   2.8   2.8236  -0.0024  -8.620E-04   2.8236   0.0000\n",
      "  400   2.8   2.8587   0.0097   3.412E-03   2.8587   0.0000\n",
      "  401   2.8   2.8408  -0.0082  -2.896E-03   2.8408   0.0000\n",
      "  402   3.0   2.9596  -0.0144  -4.834E-03   2.9596   0.0000\n",
      "  403   3.1   3.0236  -0.0544  -1.766E-02   3.0236   0.0000\n",
      "  404   2.9   2.9080  -0.0030  -1.039E-03   2.9080   0.0000\n",
      "  405   2.9   2.8817   0.0127   4.433E-03   2.8817   0.0000\n",
      "  406   2.9   2.8874  -0.0026  -9.163E-04   2.8874   0.0000\n",
      "  407   2.8   2.8180   0.0360   1.294E-02   2.8180   0.0000\n",
      "  408   2.8   2.8568   0.0178   6.268E-03   2.8568   0.0000\n",
      "  409   2.8   2.7901   0.0211   7.603E-03   2.7901   0.0000\n",
      "  410   3.0   2.7780  -0.1990  -6.686E-02   2.7780   0.0000\n",
      "  411   2.9   2.7971  -0.0779  -2.710E-02   2.7971   0.0000\n",
      "  412   2.9   2.8443  -0.0797  -2.727E-02   2.8443   0.0000\n",
      "  413   2.9   2.9243   0.0043   1.484E-03   2.9243   0.0000\n",
      "  414   2.9   2.8837   0.0037   1.291E-03   2.8837   0.0000\n",
      "  415   2.9   2.9444   0.0104   3.530E-03   2.9444   0.0000\n",
      "  416   2.9   2.9425   0.0275   9.447E-03   2.9425   0.0000\n",
      "  417   2.9   2.8812   0.0112   3.913E-03   2.8812   0.0000\n",
      "  418   2.8   2.8483   0.0023   8.073E-04   2.8483   0.0000\n",
      "  419   2.8   2.8374   0.0004   1.443E-04   2.8374   0.0000\n",
      "  420   2.8   2.8239   0.0099   3.527E-03   2.8239   0.0000\n",
      "  421   2.9   2.9221   0.0091   3.108E-03   2.9221   0.0000\n",
      "  422   2.9   2.8837  -0.0103  -3.574E-03   2.8837   0.0000\n",
      "  423   2.9   2.9616   0.0526   1.810E-02   2.9616   0.0000\n",
      "  424   2.9   2.8942   0.0142   4.936E-03   2.8942   0.0000\n",
      "  425   3.0   2.9455  -0.0595  -1.981E-02   2.9455   0.0000\n",
      "  426   2.9   2.8679   0.0029   1.004E-03   2.8679   0.0000\n",
      "  427   3.0   2.9750   0.0210   7.101E-03   2.9750   0.0000\n",
      "  428   2.9   2.9212   0.0312   1.080E-02   2.9212   0.0000\n",
      "  429   2.8   2.7921   0.0051   1.814E-03   2.7921   0.0000\n",
      "  430   2.8   2.8125   0.0205   7.357E-03   2.8125   0.0000\n",
      "  431   2.9   2.8574  -0.0006  -2.165E-04   2.8574   0.0000\n",
      "  432   2.9   2.8427  -0.1033  -3.507E-02   2.8427   0.0000\n",
      "  433   2.8   2.7980  -0.0130  -4.621E-03   2.7980   0.0000\n",
      "  434   2.7   2.7977   0.0527   1.921E-02   2.7977   0.0000\n",
      "  435   2.8   2.8036  -0.0114  -4.036E-03   2.8036   0.0000\n",
      "  436   2.9   2.8998   0.0028   9.501E-04   2.8998   0.0000\n",
      "  437   2.9   2.9081   0.0081   2.777E-03   2.9081   0.0000\n",
      "  438   2.9   2.9339   0.0189   6.474E-03   2.9339   0.0000\n",
      "  439   2.8   2.7987  -0.0003  -1.122E-04   2.7987   0.0000\n",
      "  440   2.9   2.8691   0.0041   1.419E-03   2.8691   0.0000\n",
      "  441   3.0   2.9588  -0.0192  -6.461E-03   2.9588   0.0000\n",
      "  442   2.9   2.9129   0.0079   2.709E-03   2.9129   0.0000\n",
      "  443   2.9   2.8875  -0.0315  -1.079E-02   2.8875   0.0000\n",
      "  444   2.8   2.8519   0.0059   2.085E-03   2.8519   0.0000\n",
      "  445   2.9   2.9433   0.0173   5.906E-03   2.9433   0.0000\n",
      "  446   2.9   2.8964   0.0064   2.224E-03   2.8964   0.0000\n",
      "  447   2.9   2.8940  -0.0300  -1.025E-02   2.8940   0.0000\n",
      "  448   2.7   2.7688   0.0318   1.160E-02   2.7688   0.0000\n",
      "  449   2.9   2.8637  -0.0063  -2.183E-03   2.8637   0.0000\n",
      "  450   2.9   2.9773   0.0483   1.650E-02   2.9773   0.0000\n",
      "  451   2.8   2.8416   0.0016   5.786E-04   2.8416   0.0000\n",
      "  452   2.8   2.8626   0.1076   3.907E-02   2.8626   0.0000\n",
      "  453   3.0   2.8596  -0.1074  -3.621E-02   2.8596   0.0000\n",
      "  454   2.9   2.8938   0.0048   1.665E-03   2.8938   0.0000\n",
      "  455   2.9   2.9203   0.0293   1.013E-02   2.9203   0.0000\n",
      "  456   3.0   2.9490  -0.0010  -3.485E-04   2.9490   0.0000\n",
      "  457   2.9   2.9019  -0.0311  -1.060E-02   2.9019   0.0000\n",
      "  458   2.9   2.9095   0.0225   7.802E-03   2.9095   0.0000\n",
      "  459   3.0   2.9990   0.0150   5.033E-03   2.9990   0.0000\n",
      "  460   2.9   2.9323   0.0013   4.425E-04   2.9323   0.0000\n",
      "  461   2.8   2.7880   0.0060   2.143E-03   2.7880   0.0000\n",
      "  462   3.0   2.9628   0.0128   4.323E-03   2.9628   0.0000\n",
      "  463   2.9   2.8639  -0.0141  -4.901E-03   2.8639   0.0000\n",
      "  464   2.9   2.9441   0.0091   3.115E-03   2.9441   0.0000\n",
      "  465   2.9   2.8478  -0.0222  -7.737E-03   2.8478   0.0000\n",
      "  466   2.9   2.8806  -0.0014  -4.724E-04   2.8806   0.0000\n",
      "  467   2.9   2.8964   0.0104   3.617E-03   2.8964   0.0000\n",
      "  468   2.9   2.8919   0.0069   2.376E-03   2.8919   0.0000\n",
      "  469   2.8   2.8120   0.0050   1.786E-03   2.8120   0.0000\n",
      "  470   2.9   2.9198   0.0108   3.709E-03   2.9198   0.0000\n",
      "  471   2.9   2.9497   0.0197   6.728E-03   2.9497   0.0000\n",
      "  472   2.8   2.8482   0.0562   2.012E-02   2.8482   0.0000\n",
      "  473   2.9   2.8784   0.0004   1.316E-04   2.8784   0.0000\n",
      "  474   2.8   2.8067  -0.0033  -1.164E-03   2.8067   0.0000\n",
      "  475   2.9   2.9372   0.0312   1.073E-02   2.9372   0.0000\n",
      "  476   2.9   2.8708   0.0148   5.170E-03   2.8708   0.0000\n",
      "  477   2.9   2.8621   0.0041   1.421E-03   2.8621   0.0000\n",
      "  478   2.9   2.9311   0.0241   8.282E-03   2.9311   0.0000\n",
      "  479   3.0   2.9337  -0.0253  -8.534E-03   2.9337   0.0000\n",
      "  480   2.9   2.9245  -0.0175  -5.935E-03   2.9245   0.0000\n",
      "  481   2.9   2.9698   0.0288   9.778E-03   2.9698   0.0000\n",
      "  482   2.9   2.8704   0.0074   2.572E-03   2.8704   0.0000\n",
      "  483   3.1   3.0334  -0.0246  -8.045E-03   3.0334   0.0000\n",
      "  484   2.8   2.8227   0.0117   4.166E-03   2.8227   0.0000\n",
      "  485   2.8   2.7874   0.0144   5.195E-03   2.7874   0.0000\n",
      "  486   2.9   2.8817  -0.0093  -3.221E-03   2.8817   0.0000\n",
      "  487   2.9   2.8948   0.0148   5.127E-03   2.8948   0.0000\n",
      "  488   3.0   2.9794   0.0064   2.145E-03   2.9794   0.0000\n",
      "  489   2.8   2.8054   0.0054   1.913E-03   2.8054   0.0000\n",
      "  490   2.8   2.8562   0.0352   1.248E-02   2.8562   0.0000\n",
      "  491   2.8   2.8848   0.0388   1.364E-02   2.8848   0.0000\n",
      "  492   2.8   2.8078  -0.0232  -8.189E-03   2.8078   0.0000\n",
      "  493   2.9   2.9058   0.0088   3.033E-03   2.9058   0.0000\n",
      "  494   2.9   2.8822   0.0082   2.847E-03   2.8822   0.0000\n",
      "  495   2.8   2.8099   0.0059   2.103E-03   2.8099   0.0000\n",
      "  496   2.9   2.8702  -0.0208  -7.207E-03   2.8702   0.0000\n",
      "  497   2.9   2.9188   0.0178   6.148E-03   2.9188   0.0000\n",
      "  498   2.9   2.9206   0.0296   1.024E-02   2.9206   0.0000\n",
      "  499   2.9   2.8991  -0.0049  -1.702E-03   2.8991   0.0000\n",
      "  500   2.9   2.8884   0.0124   4.302E-03   2.8884   0.0000\n",
      "  501   2.9   2.8941   0.0181   6.283E-03   2.8941   0.0000\n",
      "  502   3.0   2.9750   0.0240   8.142E-03   2.9750   0.0000\n",
      "  503   2.8   2.8181   0.0041   1.448E-03   2.8181   0.0000\n",
      "  504   2.8   2.8280   0.0330   1.180E-02   2.8280   0.0000\n",
      "  505   2.8   2.7679   0.0069   2.510E-03   2.7679   0.0000\n",
      "  506   2.7   2.7292   0.0132   4.865E-03   2.7292   0.0000\n",
      "  507   2.8   2.8250   0.0010   3.490E-04   2.8250   0.0000\n",
      "  508   2.9   2.9329   0.0109   3.731E-03   2.9329   0.0000\n",
      "  509   2.9   2.8483  -0.0267  -9.294E-03   2.8483   0.0000\n",
      "  510   2.8   2.8092  -0.0028  -9.816E-04   2.8092   0.0000\n",
      "  511   2.9   2.8855   0.0035   1.200E-03   2.8855   0.0000\n",
      "  512   2.9   2.8973   0.0063   2.187E-03   2.8973   0.0000\n",
      "  513   2.7   2.7314   0.0044   1.608E-03   2.7314   0.0000\n",
      "  514   2.7   2.7291   0.0111   4.082E-03   2.7291   0.0000\n",
      "  515   2.8   2.8471   0.0171   6.032E-03   2.8471   0.0000\n",
      "  516   2.9   2.8896   0.0206   7.186E-03   2.8896   0.0000\n",
      "  517   2.9   2.9010  -0.0020  -6.857E-04   2.9010   0.0000\n",
      "  518   2.9   2.9010   0.0220   7.648E-03   2.9010   0.0000\n",
      "  519   2.8   2.7951   0.0271   9.794E-03   2.7951   0.0000\n",
      "  520   2.9   2.8991   0.0031   1.075E-03   2.8991   0.0000\n",
      "  521   2.8   2.8424   0.0304   1.082E-02   2.8424   0.0000\n",
      "  522   2.9   2.9010   0.0050   1.729E-03   2.9010   0.0000\n",
      "  523   2.9   2.8011  -0.1119  -3.842E-02   2.8011   0.0000\n",
      "  524   2.9   2.9143   0.0153   5.278E-03   2.9143   0.0000\n",
      "  525   2.8   2.8673   0.0193   6.760E-03   2.8673   0.0000\n",
      "  526   2.8   2.8178  -0.0152  -5.365E-03   2.8178   0.0000\n",
      "  527   2.8   2.8416   0.0046   1.614E-03   2.8416   0.0000\n",
      "  528   2.9   2.9264   0.0494   1.716E-02   2.9264   0.0000\n",
      "  529   2.5   3.0282   0.5352   2.147E-01   3.0282   0.0000\n",
      "  530   2.8   2.8283   0.0043   1.534E-03   2.8283   0.0000\n",
      "  531   2.8   2.7893  -0.0047  -1.698E-03   2.7893   0.0000\n",
      "  532   2.9   2.8995   0.0195   6.778E-03   2.8995   0.0000\n",
      "  533   2.9   2.8540  -0.0290  -1.007E-02   2.8540   0.0000\n",
      "  534   2.8   2.8098   0.0108   3.851E-03   2.8098   0.0000\n",
      "  535   3.0   2.9581  -0.0019  -6.295E-04   2.9581   0.0000\n",
      "  536   2.8   2.8113   0.0443   1.601E-02   2.8113   0.0000\n",
      "  537   2.9   2.8559  -0.0051  -1.795E-03   2.8559   0.0000\n",
      "  538   2.8   2.8528   0.0148   5.204E-03   2.8528   0.0000\n",
      "  539   2.9   2.8909  -0.0031  -1.087E-03   2.8909   0.0000\n",
      "  540   3.0   3.0374   0.0274   9.091E-03   3.0374   0.0000\n",
      "  541   2.9   2.8584   0.0044   1.534E-03   2.8584   0.0000\n",
      "  542   3.0   2.9521  -0.0059  -1.983E-03   2.9521   0.0000\n",
      "  543   3.0   2.8850  -0.0900  -3.025E-02   2.8850   0.0000\n",
      "  544   2.8   2.8126   0.0156   5.577E-03   2.8126   0.0000\n",
      "  545   2.8   2.8238  -0.0132  -4.663E-03   2.8238   0.0000\n",
      "  546   2.8   2.8636   0.0346   1.224E-02   2.8636   0.0000\n",
      "  547   2.9   2.9126   0.0186   6.414E-03   2.9126   0.0000\n",
      "  548   3.0   2.9571  -0.0499  -1.659E-02   2.9571   0.0000\n",
      "  549   2.9   2.8740  -0.0120  -4.149E-03   2.8740   0.0000\n",
      "  550   2.9   2.8881  -0.0419  -1.431E-02   2.8881   0.0000\n",
      "  551   3.0   2.9435  -0.0355  -1.191E-02   2.9435   0.0000\n",
      "  552   2.9   2.9631   0.0221   7.526E-03   2.9631   0.0000\n",
      "  553   3.0   2.9854   0.0174   5.877E-03   2.9854   0.0000\n",
      "  554   2.9   2.9040   0.0210   7.276E-03   2.9040   0.0000\n",
      "  555   2.9   2.8324  -0.0386  -1.346E-02   2.8324   0.0000\n",
      "  556   2.9   2.8707   0.0017   5.786E-04   2.8707   0.0000\n",
      "  557   2.8   2.8322  -0.0028  -9.784E-04   2.8322   0.0000\n",
      "  558   2.9   2.8756  -0.0064  -2.224E-03   2.8756   0.0000\n",
      "  559   2.8   2.7836  -0.0334  -1.185E-02   2.7836   0.0000\n",
      "  560   2.9   2.8876   0.0236   8.234E-03   2.8876   0.0000\n",
      "  561   2.8   2.8232   0.0132   4.707E-03   2.8232   0.0000\n",
      "  562   2.9   2.8569   0.0019   6.719E-04   2.8569   0.0000\n",
      "  563   2.8   2.8187   0.0117   4.167E-03   2.8187   0.0000\n",
      "  564   3.0   2.9630  -0.0220  -7.358E-03   2.9630   0.0000\n",
      "  565   2.9   2.9243   0.0023   8.038E-04   2.9243   0.0000\n",
      "  566   2.9   2.8938   0.0208   7.225E-03   2.8938   0.0000\n",
      "  567   2.9   2.8887   0.0057   1.991E-03   2.8887   0.0000\n",
      "  568   2.8   2.8393   0.0023   8.128E-04   2.8393   0.0000\n",
      "  569   2.8   2.7952  -0.0248  -8.808E-03   2.7952   0.0000\n",
      "  570   2.9   2.8722   0.0032   1.119E-03   2.8722   0.0000\n",
      "  571   2.9   2.8644   0.0134   4.697E-03   2.8644   0.0000\n",
      "  572   2.9   2.8993  -0.0347  -1.182E-02   2.8993   0.0000\n",
      "  573   2.9   2.8497  -0.0133  -4.659E-03   2.8497   0.0000\n",
      "  574   3.0   3.0599   0.0429   1.423E-02   3.0599   0.0000\n",
      "  575   3.0   2.9699  -0.0001  -2.728E-05   2.9699   0.0000\n",
      "  576   2.9   2.9185  -0.0005  -1.684E-04   2.9185   0.0000\n",
      "  577   2.9   2.9562   0.0622   2.149E-02   2.9562   0.0000\n",
      "  578   3.0   2.9783   0.0043   1.435E-03   2.9783   0.0000\n",
      "  579   2.8   2.8120   0.0130   4.643E-03   2.8120   0.0000\n",
      "  580   2.9   2.8996   0.0036   1.233E-03   2.8996   0.0000\n",
      "  581   2.8   2.9369   0.1629   5.874E-02   2.9369   0.0000\n",
      "  582   2.9   2.9896   0.1366   4.786E-02   2.9896   0.0000\n",
      "  583   2.7   2.7080   0.0010   3.872E-04   2.7080   0.0000\n",
      "  584   2.8   2.8135  -0.0075  -2.674E-03   2.8135   0.0000\n",
      "  585   2.9   2.9607   0.0137   4.662E-03   2.9607   0.0000\n",
      "  586   2.9   2.8604  -0.0036  -1.262E-03   2.8604   0.0000\n",
      "  587   2.9   2.9465   0.0105   3.584E-03   2.9465   0.0000\n",
      "  588   2.7   2.7343   0.0173   6.359E-03   2.7343   0.0000\n",
      "  589   2.7   2.8165   0.0715   2.605E-02   2.8165   0.0000\n",
      "  590   2.9   2.9367   0.0147   5.025E-03   2.9367   0.0000\n",
      "  591   2.9   2.9348   0.0068   2.325E-03   2.9348   0.0000\n",
      "  592   2.9   2.9184   0.0054   1.870E-03   2.9184   0.0000\n",
      "  593   2.8   2.8359  -0.0041  -1.433E-03   2.8359   0.0000\n",
      "  594   2.9   2.9120   0.0240   8.306E-03   2.9120   0.0000\n",
      "  595   2.9   2.8649   0.0009   3.163E-04   2.8649   0.0000\n",
      "  596   2.9   2.8996  -0.0024  -8.284E-04   2.8996   0.0000\n",
      "  597   2.9   2.8854   0.0204   7.107E-03   2.8854   0.0000\n"
     ]
    }
   ],
   "source": [
    "for i in range(pre.size):\n",
    "    print(f\"{i+1:>5d} {label_test[i][0]:>5.1f} {pre0[i][0]:>8.4f} {diff[i][0]:>8.4f} {err[i][0]:>11.3E} {pre[i][0]:>8.4f} {diff_pre[i][0]:>8.4f}\")\n",
    "    print(f\"{i+1:>5d} {label_test[i][0]:>5.1f} {pre0[i][0]:>8.4f} {diff[i][0]:>8.4f} {err[i][0]:>11.3E} {pre[i][0]:>8.4f} {diff_pre[i][0]:>8.4f}\", file=fout)\n",
    "#    fout.write(f\"{i:>5d} {label_test[i]:>11.7f} {pre[i]:>11.7f} {diff[i]:>11.7f} {err[i]:>11.3E}\\n\")\n",
    "fout.close()"
   ]
  },
  {
   "cell_type": "markdown",
   "metadata": {},
   "source": [
    "#### 预测test的图形比较"
   ]
  },
  {
   "cell_type": "code",
   "execution_count": 57,
   "metadata": {
    "ExecuteTime": {
     "end_time": "2022-05-18T13:07:54.541376Z",
     "start_time": "2022-05-18T13:07:54.250160Z"
    },
    "scrolled": true
   },
   "outputs": [
    {
     "name": "stdout",
     "output_type": "stream",
     "text": [
      "Saving figure au150_DW_cr_3level_neuron_prediction_error_0\n"
     ]
    },
    {
     "data": {
      "image/png": "[encoded data removed]",
      "text/plain": [
       "<Figure size 432x288 with 1 Axes>"
      ]
     },
     "metadata": {
      "needs_background": "light"
     },
     "output_type": "display_data"
    }
   ],
   "source": [
    "plot_PredictionError([-0.08,0.25],ind=0)"
   ]
  },
  {
   "cell_type": "code",
   "execution_count": 59,
   "metadata": {
    "ExecuteTime": {
     "end_time": "2022-05-18T13:08:31.843578Z",
     "start_time": "2022-05-18T13:08:31.551282Z"
    },
    "scrolled": true
   },
   "outputs": [
    {
     "name": "stdout",
     "output_type": "stream",
     "text": [
      "Saving figure au150_DW_cr_3level_neuron_prediction_error_2\n"
     ]
    },
    {
     "data": {
      "image/png": "[encoded data removed]",
      "text/plain": [
       "<Figure size 432x288 with 1 Axes>"
      ]
     },
     "metadata": {
      "needs_background": "light"
     },
     "output_type": "display_data"
    }
   ],
   "source": [
    "plot_PredictionError([-0.05,0.1],ind=2)"
   ]
  },
  {
   "cell_type": "markdown",
   "metadata": {},
   "source": [
    "直接比较"
   ]
  },
  {
   "cell_type": "markdown",
   "metadata": {},
   "source": [
    "原来代码"
   ]
  },
  {
   "cell_type": "markdown",
   "metadata": {},
   "source": [
    "#x_low and x_high are the border of x-axis for plotting\n",
    "x_low = 0\n",
    "x_high = 50\n",
    "#x_ticks is the step show for x-axis plottong\n",
    "x_ticks = 10\n",
    "prediction_compare = model_pre + f\"_prediction_compare_{label_index}_{x_low}_{x_high}\"\n",
    "x = range(pre.shape[0])\n",
    "plt.figure(figsize=(8, 8))\n",
    "plt.scatter(x,label_test, marker='o', label = f'{label_index}')\n",
    "plt.scatter(x,pre, marker='^', label = f'{label_index}_pre')\n",
    "plt.xlabel('Test series')\n",
    "plt.ylabel(f'{label_index}')\n",
    "plt.xlim(x_low,x_high)\n",
    "plt.ylim(min(np.min(label_test),np.min(pre)), max(np.max(label_test),np.max(pre)))\n",
    "plt.xticks(np.arange(x_low,x_high+1,x_ticks), rotation=0)#rotation控制倾斜角度\n",
    "#plt.yticks(np.arange(np.max(label_test)-1, np.max(label_test)+1, 2))\n",
    "#plt.yticks(np.arange(np.around(np.min(label_test),1)-0.1, np.around(np.max(label_test),1)+0.1, 0.2))\n",
    "#plt.legend(loc='lower right')\n",
    "plt.legend(loc='upper right', fontsize=12)\n",
    "plt.title(f\"{model_pre}\\nRegression Performance\", fontsize=16)\n",
    "save_fig(prediction_compare, path_plot)"
   ]
  },
  {
   "cell_type": "code",
   "execution_count": 51,
   "metadata": {
    "ExecuteTime": {
     "end_time": "2021-09-07T03:33:28.378175Z",
     "start_time": "2021-09-07T03:33:28.373163Z"
    }
   },
   "outputs": [],
   "source": [
    "def plot_PredictionCompare(x_low, x_high, x_ticks=10):\n",
    "    \"\"\"\n",
    "    \"\"\"\n",
    "#\n",
    "    prediction_compare = model_pre + f\"_prediction_compare_{label_index}_{x_low}_{x_high}\"\n",
    "    x = range(pre.shape[0])\n",
    "    plt.figure(figsize=(8, 8))\n",
    "    plt.scatter(x,label_test, marker='o', label = f'{label_index}')\n",
    "    plt.scatter(x,pre, marker='^', label = f'{label_index}_pre')\n",
    "    plt.xlabel('Test series')\n",
    "    plt.ylabel(f'{label_index}')\n",
    "    plt.xlim(x_low,x_high)\n",
    "    plt.ylim(min(np.min(label_test),np.min(pre)), max(np.max(label_test),np.max(pre)))\n",
    "    plt.xticks(np.arange(x_low,x_high+1,x_ticks), rotation=0)#rotation控制倾斜角度\n",
    "#plt.yticks(np.arange(np.max(label_test)-1, np.max(label_test)+1, 2))\n",
    "#plt.yticks(np.arange(np.around(np.min(label_test),1)-0.1, np.around(np.max(label_test),1)+0.1, 0.2))\n",
    "    plt.legend(loc='upper right', fontsize=12)\n",
    "    plt.title(f\"{model_pre}\\nRegression Performance\", fontsize=16)\n",
    "    save_fig(prediction_compare, path_plot)"
   ]
  },
  {
   "cell_type": "code",
   "execution_count": null,
   "metadata": {},
   "outputs": [],
   "source": [
    "step = 50\n",
    "for i in range(0,pre.size, step):\n",
    "    plot_PredictionCompare(i, min(i+step, pre.size))"
   ]
  },
  {
   "cell_type": "code",
   "execution_count": null,
   "metadata": {},
   "outputs": [],
   "source": []
  }
 ],
 "metadata": {
  "colab": {
   "collapsed_sections": [],
   "name": "多元回归问题 0818",
   "provenance": [],
   "toc_visible": true
  },
  "kernelspec": {
   "display_name": "Python 3 (ipykernel)",
   "language": "python",
   "name": "python3"
  },
  "language_info": {
   "codemirror_mode": {
    "name": "ipython",
    "version": 3
   },
   "file_extension": ".py",
   "mimetype": "text/x-python",
   "name": "python",
   "nbconvert_exporter": "python",
   "pygments_lexer": "ipython3",
   "version": "3.9.12"
  },
  "toc": {
   "base_numbering": 1,
   "nav_menu": {},
   "number_sections": true,
   "sideBar": true,
   "skip_h1_title": false,
   "title_cell": "Table of Contents",
   "title_sidebar": "Contents",
   "toc_cell": false,
   "toc_position": {
    "height": "calc(100% - 180px)",
    "left": "10px",
    "top": "150px",
    "width": "230.4px"
   },
   "toc_section_display": true,
   "toc_window_display": true
  },
  "varInspector": {
   "cols": {
    "lenName": 16,
    "lenType": 16,
    "lenVar": 40
   },
   "kernels_config": {
    "python": {
     "delete_cmd_postfix": "",
     "delete_cmd_prefix": "del ",
     "library": "var_list.py",
     "varRefreshCmd": "print(var_dic_list())"
    },
    "r": {
     "delete_cmd_postfix": ") ",
     "delete_cmd_prefix": "rm(",
     "library": "var_list.r",
     "varRefreshCmd": "cat(var_dic_list()) "
    }
   },
   "position": {
    "height": "144.5px",
    "left": "909px",
    "right": "20px",
    "top": "120px",
    "width": "350px"
   },
   "types_to_exclude": [
    "module",
    "function",
    "builtin_function_or_method",
    "instance",
    "_Feature"
   ],
   "window_display": false
  }
 },
 "nbformat": 4,
 "nbformat_minor": 1
}
